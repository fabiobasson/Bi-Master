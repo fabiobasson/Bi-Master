{
  "nbformat": 4,
  "nbformat_minor": 0,
  "metadata": {
    "colab": {
      "name": "geological-image-similarity.ipynb",
      "provenance": [],
      "authorship_tag": "ABX9TyOg1tB78NjYrXczQzHSEQsb",
      "include_colab_link": true
    },
    "kernelspec": {
      "name": "python3",
      "display_name": "Python 3"
    },
    "language_info": {
      "name": "python"
    },
    "accelerator": "GPU"
  },
  "cells": [
    {
      "cell_type": "markdown",
      "metadata": {
        "id": "view-in-github",
        "colab_type": "text"
      },
      "source": [
        "<a href=\"https://colab.research.google.com/github/fabiobasson/Bi-Master/blob/main/geological_comparative29092021.ipynb\" target=\"_parent\"><img src=\"https://colab.research.google.com/assets/colab-badge.svg\" alt=\"Open In Colab\"/></a>"
      ]
    },
    {
      "cell_type": "markdown",
      "metadata": {
        "id": "ek-dpdgUwrpq"
      },
      "source": [
        "# Importações "
      ]
    },
    {
      "cell_type": "code",
      "metadata": {
        "id": "BhMpCgi7O64x"
      },
      "source": [
        "\n",
        "import warnings\n",
        "warnings.filterwarnings('always')\n",
        "warnings.filterwarnings('ignore')\n",
        "\n",
        "import os\n",
        "import tensorflow as tf\n",
        "from tensorflow.keras import layers\n",
        "from tensorflow.keras import Model\n",
        "from tensorflow.keras.layers import Dense, Dropout\n",
        "\n",
        "from os import getcwd\n",
        "import zipfile\n",
        "import shutil\n",
        "import numpy as np\n",
        "import glob\n",
        "import random\n",
        "import pandas as pd\n",
        "import matplotlib.pyplot as plt\n",
        "from PIL import Image\n",
        "import plotly.express as px\n",
        "import cv2 as cv\n",
        "\n",
        "from tensorflow.keras.optimizers import RMSprop, Adam\n",
        "from tensorflow.keras.applications.vgg16 import VGG16\n",
        "from tensorflow.keras.applications.inception_v3 import InceptionV3\n",
        "from tensorflow.keras.preprocessing.image import ImageDataGenerator\n",
        "\n",
        "from sklearn.metrics import confusion_matrix,accuracy_score\n",
        "from sklearn.model_selection import train_test_split"
      ],
      "execution_count": 86,
      "outputs": []
    },
    {
      "cell_type": "code",
      "metadata": {
        "colab": {
          "base_uri": "https://localhost:8080/"
        },
        "id": "ye09bw6nVWgH",
        "outputId": "d41ab785-4073-469c-c04f-65ee25162299"
      },
      "source": [
        "print(tf.__version__)"
      ],
      "execution_count": 2,
      "outputs": [
        {
          "output_type": "stream",
          "name": "stdout",
          "text": [
            "2.6.0\n"
          ]
        }
      ]
    },
    {
      "cell_type": "code",
      "metadata": {
        "id": "Z6Micr83L4uy"
      },
      "source": [
        "# Instalar Tensorflow\n",
        "#!pip install tensorflow==2.6.0"
      ],
      "execution_count": 3,
      "outputs": []
    },
    {
      "cell_type": "code",
      "metadata": {
        "id": "X45KGrRTOp4S",
        "colab": {
          "base_uri": "https://localhost:8080/"
        },
        "outputId": "8746a834-ac19-4687-d6f4-5dddd6b113c4"
      },
      "source": [
        "# Instalar Keras\n",
        "!pip install keras --upgrade"
      ],
      "execution_count": 4,
      "outputs": [
        {
          "output_type": "stream",
          "name": "stdout",
          "text": [
            "Requirement already satisfied: keras in /usr/local/lib/python3.7/dist-packages (2.6.0)\n"
          ]
        }
      ]
    },
    {
      "cell_type": "code",
      "metadata": {
        "id": "qB35LCwK1F9Y"
      },
      "source": [
        "# Caso precise, remover os diretorios\n",
        "\n",
        "#!rm -rf geological_similarity andesite gneiss/ marble/ quartzite/ rhyolite/ schist/"
      ],
      "execution_count": 5,
      "outputs": []
    },
    {
      "cell_type": "markdown",
      "metadata": {
        "id": "WsBJvou07fbF"
      },
      "source": [
        "# **Coleta de dados do Kaglle**"
      ]
    },
    {
      "cell_type": "code",
      "metadata": {
        "colab": {
          "resources": {
            "http://localhost:8080/nbextensions/google.colab/files.js": {
              "data": "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",
              "ok": true,
              "headers": [
                [
                  "content-type",
                  "application/javascript"
                ]
              ],
              "status": 200,
              "status_text": ""
            }
          },
          "base_uri": "https://localhost:8080/",
          "height": 89
        },
        "id": "qPW1Uceu4EkK",
        "outputId": "557cd2da-c3ef-4fd6-be36-b988159b374e"
      },
      "source": [
        "from google.colab import files\n",
        "files.upload()"
      ],
      "execution_count": 3,
      "outputs": [
        {
          "output_type": "display_data",
          "data": {
            "text/html": [
              "\n",
              "     <input type=\"file\" id=\"files-1cc3508d-1908-4044-9310-e7c782d9a793\" name=\"files[]\" multiple disabled\n",
              "        style=\"border:none\" />\n",
              "     <output id=\"result-1cc3508d-1908-4044-9310-e7c782d9a793\">\n",
              "      Upload widget is only available when the cell has been executed in the\n",
              "      current browser session. Please rerun this cell to enable.\n",
              "      </output>\n",
              "      <script src=\"/nbextensions/google.colab/files.js\"></script> "
            ],
            "text/plain": [
              "<IPython.core.display.HTML object>"
            ]
          },
          "metadata": {}
        },
        {
          "output_type": "stream",
          "name": "stdout",
          "text": [
            "Saving kaggle.json to kaggle.json\n"
          ]
        },
        {
          "output_type": "execute_result",
          "data": {
            "text/plain": [
              "{'kaggle.json': b'{\"username\":\"fabiobasson\",\"key\":\"d71cbfdfd23379909173204eac74cf96\"}'}"
            ]
          },
          "metadata": {},
          "execution_count": 3
        }
      ]
    },
    {
      "cell_type": "code",
      "metadata": {
        "id": "SQCTWdML4LFR"
      },
      "source": [
        "!mkdir ~/.kaggle\n",
        "!cp kaggle.json ~/.kaggle/\n",
        "!chmod 600 ~/.kaggle/kaggle.json"
      ],
      "execution_count": 4,
      "outputs": []
    },
    {
      "cell_type": "markdown",
      "metadata": {
        "id": "rte0cNVp7kgE"
      },
      "source": [
        "# **###  Download dos dados / descompactando os dados**"
      ]
    },
    {
      "cell_type": "code",
      "metadata": {
        "colab": {
          "base_uri": "https://localhost:8080/"
        },
        "id": "GvN30SNO4L1f",
        "outputId": "4fa1e516-a49b-4c97-9e70-4f1199288bf3"
      },
      "source": [
        "!kaggle datasets download fabiobasson/geologicalsimilarity\n",
        "! unzip -qq  geologicalsimilarity"
      ],
      "execution_count": 5,
      "outputs": [
        {
          "output_type": "stream",
          "name": "stdout",
          "text": [
            "Downloading geologicalsimilarity.zip to /content\n",
            "\r  0% 0.00/1.31M [00:00<?, ?B/s]\n",
            "\r100% 1.31M/1.31M [00:00<00:00, 42.7MB/s]\n"
          ]
        }
      ]
    },
    {
      "cell_type": "markdown",
      "metadata": {
        "id": "owY2uo8A7q5j"
      },
      "source": [
        "# ** Criação da estrutura e leitura de diretórios **"
      ]
    },
    {
      "cell_type": "code",
      "metadata": {
        "id": "QXSrUDeU4L7J",
        "colab": {
          "base_uri": "https://localhost:8080/"
        },
        "outputId": "060ab52a-b20c-43a3-c9a1-b62aa40a2365"
      },
      "source": [
        "andesite_dir = glob.glob('andesite/*.jpg');gneiss_dir = glob.glob('gneiss/*.jpg')\n",
        "marble_dir= glob.glob('marble/*.jpg');quartzite_dir = glob.glob('quartzite/*.jpg')\n",
        "rhyolite_dir = glob.glob('rhyolite/*.jpg');\n",
        "schist_dir = glob.glob('schist/*.jpg')\n",
        "print(len(andesite_dir));print(len(gneiss_dir)); print(len(marble_dir)); print(len(quartzite_dir));  print(len(quartzite_dir)); print(len(schist_dir))\n"
      ],
      "execution_count": 6,
      "outputs": [
        {
          "output_type": "stream",
          "name": "stdout",
          "text": [
            "230\n",
            "190\n",
            "204\n",
            "198\n",
            "198\n",
            "204\n"
          ]
        }
      ]
    },
    {
      "cell_type": "markdown",
      "metadata": {
        "id": "xL-7GOm_w3m3"
      },
      "source": [
        "# **Nomes das Classes**\n",
        "# andesite = 0  # gneiss =1 # marbler = 2 # quartzite = 3 # rhyolite = 4  # schist = 5 \n"
      ]
    },
    {
      "cell_type": "code",
      "metadata": {
        "id": "O9d3W_LswkS2"
      },
      "source": [
        "label = ['andesite','gneiss','marbler','quartzite','rhyolite','schist']\n",
        "\n",
        "#label =[0,1,2,3,4,5]"
      ],
      "execution_count": 87,
      "outputs": []
    },
    {
      "cell_type": "code",
      "metadata": {
        "colab": {
          "base_uri": "https://localhost:8080/"
        },
        "id": "wBhB6b6xi1xl",
        "outputId": "0f56dcfb-8027-4760-9b49-8f5ad843b5c9"
      },
      "source": [
        "andesite_df=[];gneiss_df=[];marble_df=[];quartzite_df=[];rhyolite_df=[];schist_df=[]\n",
        "\n",
        "for i in andesite_dir:\n",
        "    andesite_df.append([i,label[0]])\n",
        "for j in gneiss_dir:\n",
        "   gneiss_df.append([j,label[1]])\n",
        "for l in marble_dir:\n",
        "    marble_df.append([l,label[2]])\n",
        "for m in quartzite_dir:\n",
        "    quartzite_df.append([m,label[3]])\n",
        "for n in rhyolite_dir:\n",
        "    rhyolite_df.append([n,label[4]])\n",
        "for o in schist_dir:\n",
        "    schist_df.append([o,label[5]])\n",
        "   \n",
        "df = andesite_df + gneiss_df + marble_df  + quartzite_df + rhyolite_df + schist_df\n",
        "random.shuffle(df)\n",
        "len(df)"
      ],
      "execution_count": 88,
      "outputs": [
        {
          "output_type": "execute_result",
          "data": {
            "text/plain": [
              "1218"
            ]
          },
          "metadata": {},
          "execution_count": 88
        }
      ]
    },
    {
      "cell_type": "markdown",
      "metadata": {
        "id": "iJTNl-uSVUFA"
      },
      "source": [
        "# **Criação do Dataframe**"
      ]
    },
    {
      "cell_type": "code",
      "metadata": {
        "colab": {
          "base_uri": "https://localhost:8080/",
          "height": 415
        },
        "id": "87UeiF--wzh8",
        "outputId": "aad3ccb1-aa1e-4f0d-b9d9-7fc31afe58c8"
      },
      "source": [
        "data_df = pd.DataFrame(df,columns=['path','label'])\n",
        "data_df"
      ],
      "execution_count": 241,
      "outputs": [
        {
          "output_type": "execute_result",
          "data": {
            "text/html": [
              "<div>\n",
              "<style scoped>\n",
              "    .dataframe tbody tr th:only-of-type {\n",
              "        vertical-align: middle;\n",
              "    }\n",
              "\n",
              "    .dataframe tbody tr th {\n",
              "        vertical-align: top;\n",
              "    }\n",
              "\n",
              "    .dataframe thead th {\n",
              "        text-align: right;\n",
              "    }\n",
              "</style>\n",
              "<table border=\"1\" class=\"dataframe\">\n",
              "  <thead>\n",
              "    <tr style=\"text-align: right;\">\n",
              "      <th></th>\n",
              "      <th>path</th>\n",
              "      <th>label</th>\n",
              "    </tr>\n",
              "  </thead>\n",
              "  <tbody>\n",
              "    <tr>\n",
              "      <th>0</th>\n",
              "      <td>andesite/1ONZI.jpg</td>\n",
              "      <td>andesite</td>\n",
              "    </tr>\n",
              "    <tr>\n",
              "      <th>1</th>\n",
              "      <td>rhyolite/1SO67.jpg</td>\n",
              "      <td>rhyolite</td>\n",
              "    </tr>\n",
              "    <tr>\n",
              "      <th>2</th>\n",
              "      <td>schist/1IHVE.jpg</td>\n",
              "      <td>schist</td>\n",
              "    </tr>\n",
              "    <tr>\n",
              "      <th>3</th>\n",
              "      <td>andesite/0FW81.jpg</td>\n",
              "      <td>andesite</td>\n",
              "    </tr>\n",
              "    <tr>\n",
              "      <th>4</th>\n",
              "      <td>schist/1UBZ2.jpg</td>\n",
              "      <td>schist</td>\n",
              "    </tr>\n",
              "    <tr>\n",
              "      <th>...</th>\n",
              "      <td>...</td>\n",
              "      <td>...</td>\n",
              "    </tr>\n",
              "    <tr>\n",
              "      <th>1213</th>\n",
              "      <td>marble/1RELH.jpg</td>\n",
              "      <td>marbler</td>\n",
              "    </tr>\n",
              "    <tr>\n",
              "      <th>1214</th>\n",
              "      <td>marble/1C6Q3.jpg</td>\n",
              "      <td>marbler</td>\n",
              "    </tr>\n",
              "    <tr>\n",
              "      <th>1215</th>\n",
              "      <td>quartzite/1RT9R.jpg</td>\n",
              "      <td>quartzite</td>\n",
              "    </tr>\n",
              "    <tr>\n",
              "      <th>1216</th>\n",
              "      <td>rhyolite/1UVX5.jpg</td>\n",
              "      <td>rhyolite</td>\n",
              "    </tr>\n",
              "    <tr>\n",
              "      <th>1217</th>\n",
              "      <td>andesite/1N3PA.jpg</td>\n",
              "      <td>andesite</td>\n",
              "    </tr>\n",
              "  </tbody>\n",
              "</table>\n",
              "<p>1218 rows × 2 columns</p>\n",
              "</div>"
            ],
            "text/plain": [
              "                     path      label\n",
              "0      andesite/1ONZI.jpg   andesite\n",
              "1      rhyolite/1SO67.jpg   rhyolite\n",
              "2        schist/1IHVE.jpg     schist\n",
              "3      andesite/0FW81.jpg   andesite\n",
              "4        schist/1UBZ2.jpg     schist\n",
              "...                   ...        ...\n",
              "1213     marble/1RELH.jpg    marbler\n",
              "1214     marble/1C6Q3.jpg    marbler\n",
              "1215  quartzite/1RT9R.jpg  quartzite\n",
              "1216   rhyolite/1UVX5.jpg   rhyolite\n",
              "1217   andesite/1N3PA.jpg   andesite\n",
              "\n",
              "[1218 rows x 2 columns]"
            ]
          },
          "metadata": {},
          "execution_count": 241
        }
      ]
    },
    {
      "cell_type": "markdown",
      "metadata": {
        "id": "B-ruxpGkzqHx"
      },
      "source": [
        "#  Conhecendo os dados de imagem"
      ]
    },
    {
      "cell_type": "code",
      "metadata": {
        "id": "j_QFJEd2yZMe",
        "colab": {
          "base_uri": "https://localhost:8080/",
          "height": 348
        },
        "outputId": "2422bd47-0372-49ca-a65b-d7f1c830d5bf"
      },
      "source": [
        "from matplotlib import image\n",
        "from matplotlib import pyplot\n",
        "# Carregando imagem como um array NumPy:\n",
        "data = image.imread(\"gneiss/0QTQE.jpg\")\n",
        "# Imprimindo as propriedades do array de pixels:\n",
        "print(data.dtype)\n",
        "print(data.shape)\n",
        "print(data.max())\n",
        "print(data.min())\n",
        "\n",
        "# Exibindo o array de pixels como uma imagem:\n",
        "pyplot.imshow(data)"
      ],
      "execution_count": 10,
      "outputs": [
        {
          "output_type": "stream",
          "name": "stdout",
          "text": [
            "uint8\n",
            "(28, 28, 3)\n",
            "251\n",
            "32\n"
          ]
        },
        {
          "output_type": "execute_result",
          "data": {
            "text/plain": [
              "<matplotlib.image.AxesImage at 0x7f9b10560150>"
            ]
          },
          "metadata": {},
          "execution_count": 10
        },
        {
          "output_type": "display_data",
          "data": {
            "image/png": "[encoded data removed]",
            "text/plain": [
              "<Figure size 432x288 with 1 Axes>"
            ]
          },
          "metadata": {
            "needs_background": "light"
          }
        }
      ]
    },
    {
      "cell_type": "code",
      "metadata": {
        "id": "q0f0-HaP3cYM",
        "colab": {
          "base_uri": "https://localhost:8080/"
        },
        "outputId": "85cf30a1-0fdd-493c-f588-a018b2f08207"
      },
      "source": [
        "from numpy import asarray\n",
        "image = Image.open(\"gneiss/0QTQE.jpg\")\n",
        "# Método asarray para realizar a conversão:\n",
        "pixels= asarray(image)\n",
        "# Verificando a faixa de valores entre 0 e 255:\n",
        "print('Data Type: %s' % pixels.dtype)\n",
        "print('Min: %.3f, Max: %.3f' % (pixels.min(), pixels.max()))\n",
        "\n",
        "#Converte os valores inteiros em float para realizar a operação:\n",
        "pixels = pixels.astype('float32')\n",
        "# Normaliza a faixa de valores:\n",
        "pixels /= pixels.max()\n",
        "# Verificando a faixa de valores normalizada:\n",
        "print('Data Type: %s' % pixels.dtype)\n",
        "print('Min: %.3f, Max: %.3f' % (pixels.min(), pixels.max()))"
      ],
      "execution_count": 11,
      "outputs": [
        {
          "output_type": "stream",
          "name": "stdout",
          "text": [
            "Data Type: uint8\n",
            "Min: 32.000, Max: 251.000\n",
            "Data Type: float32\n",
            "Min: 0.127, Max: 1.000\n"
          ]
        }
      ]
    },
    {
      "cell_type": "markdown",
      "metadata": {
        "id": "XlUbajOTxHKl"
      },
      "source": [
        "# **Limpeza de dados**\n",
        "1 - Analisando os dados ausentes\n",
        "2 - Descartando os dados ausentes\n",
        "3 - Imputando dados\n",
        "4 - Acrescentando colunas informativas"
      ]
    },
    {
      "cell_type": "code",
      "metadata": {
        "id": "ybydrHWUvlbY",
        "colab": {
          "base_uri": "https://localhost:8080/",
          "height": 461
        },
        "outputId": "8f1596a3-4ded-40d3-b69c-adaa0a3dbaad"
      },
      "source": [
        "### 1 - Analisando os dados ausentes ###\n",
        "\n",
        "import missingno as msno\n",
        "ax = msno.matrix(data_df.sample(400))"
      ],
      "execution_count": 12,
      "outputs": [
        {
          "output_type": "display_data",
          "data": {
            "image/png": "[encoded data removed]",
            "text/plain": [
              "<Figure size 1800x720 with 2 Axes>"
            ]
          },
          "metadata": {
            "needs_background": "light"
          }
        }
      ]
    },
    {
      "cell_type": "code",
      "metadata": {
        "id": "9cVvBcwVxq9s"
      },
      "source": [
        "#! pip install pandas-profiling==2.8.0\n",
        "#from pandas_profiling import ProfileReport\n",
        "#ProfileReport (data_df)"
      ],
      "execution_count": null,
      "outputs": []
    },
    {
      "cell_type": "markdown",
      "metadata": {
        "id": "NONt2HCxWd5X"
      },
      "source": [
        "# **Separação das amostras**"
      ]
    },
    {
      "cell_type": "code",
      "metadata": {
        "id": "KBjbH7d9NUnq"
      },
      "source": [
        "X = data_df.drop(columns='label')\n",
        "y = data_df.label\n"
      ],
      "execution_count": 253,
      "outputs": []
    },
    {
      "cell_type": "code",
      "metadata": {
        "colab": {
          "base_uri": "https://localhost:8080/",
          "height": 415
        },
        "id": "utUc0uwxfHXr",
        "outputId": "32403eb5-de90-43f4-e121-21e5cc833568"
      },
      "source": [
        "X_train, X_val, y_train, y_val = train_test_split(X, y, test_size = 0.2, random_state=42)\n",
        "X_train"
      ],
      "execution_count": 254,
      "outputs": [
        {
          "output_type": "execute_result",
          "data": {
            "text/html": [
              "<div>\n",
              "<style scoped>\n",
              "    .dataframe tbody tr th:only-of-type {\n",
              "        vertical-align: middle;\n",
              "    }\n",
              "\n",
              "    .dataframe tbody tr th {\n",
              "        vertical-align: top;\n",
              "    }\n",
              "\n",
              "    .dataframe thead th {\n",
              "        text-align: right;\n",
              "    }\n",
              "</style>\n",
              "<table border=\"1\" class=\"dataframe\">\n",
              "  <thead>\n",
              "    <tr style=\"text-align: right;\">\n",
              "      <th></th>\n",
              "      <th>path</th>\n",
              "    </tr>\n",
              "  </thead>\n",
              "  <tbody>\n",
              "    <tr>\n",
              "      <th>432</th>\n",
              "      <td>marble/0QIZA.jpg</td>\n",
              "    </tr>\n",
              "    <tr>\n",
              "      <th>277</th>\n",
              "      <td>marble/1E7D7.jpg</td>\n",
              "    </tr>\n",
              "    <tr>\n",
              "      <th>721</th>\n",
              "      <td>marble/1GAH5.jpg</td>\n",
              "    </tr>\n",
              "    <tr>\n",
              "      <th>1062</th>\n",
              "      <td>marble/1AP4X.jpg</td>\n",
              "    </tr>\n",
              "    <tr>\n",
              "      <th>678</th>\n",
              "      <td>gneiss/0UR72.jpg</td>\n",
              "    </tr>\n",
              "    <tr>\n",
              "      <th>...</th>\n",
              "      <td>...</td>\n",
              "    </tr>\n",
              "    <tr>\n",
              "      <th>1044</th>\n",
              "      <td>rhyolite/0JX4W.jpg</td>\n",
              "    </tr>\n",
              "    <tr>\n",
              "      <th>1095</th>\n",
              "      <td>gneiss/1N32C.jpg</td>\n",
              "    </tr>\n",
              "    <tr>\n",
              "      <th>1130</th>\n",
              "      <td>quartzite/1JNPT.jpg</td>\n",
              "    </tr>\n",
              "    <tr>\n",
              "      <th>860</th>\n",
              "      <td>andesite/02UT8.jpg</td>\n",
              "    </tr>\n",
              "    <tr>\n",
              "      <th>1126</th>\n",
              "      <td>quartzite/0KGSH.jpg</td>\n",
              "    </tr>\n",
              "  </tbody>\n",
              "</table>\n",
              "<p>974 rows × 1 columns</p>\n",
              "</div>"
            ],
            "text/plain": [
              "                     path\n",
              "432      marble/0QIZA.jpg\n",
              "277      marble/1E7D7.jpg\n",
              "721      marble/1GAH5.jpg\n",
              "1062     marble/1AP4X.jpg\n",
              "678      gneiss/0UR72.jpg\n",
              "...                   ...\n",
              "1044   rhyolite/0JX4W.jpg\n",
              "1095     gneiss/1N32C.jpg\n",
              "1130  quartzite/1JNPT.jpg\n",
              "860    andesite/02UT8.jpg\n",
              "1126  quartzite/0KGSH.jpg\n",
              "\n",
              "[974 rows x 1 columns]"
            ]
          },
          "metadata": {},
          "execution_count": 254
        }
      ]
    },
    {
      "cell_type": "markdown",
      "metadata": {
        "id": "rgLimflCWSq3"
      },
      "source": [
        "# **Explorando os dados**"
      ]
    },
    {
      "cell_type": "markdown",
      "metadata": {
        "id": "-AAuWUVf6ocm"
      },
      "source": [
        "\n",
        "# **Type: Data Augumentation**"
      ]
    },
    {
      "cell_type": "markdown",
      "metadata": {
        "id": "G1xbq78zfV9i"
      },
      "source": [
        "## ** Esta função irá plotar as imagens num grid de 1 a 5 colunas **"
      ]
    },
    {
      "cell_type": "code",
      "metadata": {
        "id": "hjV3pOngCtA7"
      },
      "source": [
        "IMG_SHAPE = 28\n",
        "BATCH_SIZE = 64\n",
        "\n",
        "def plotImages(images_arr):\n",
        "    fig, axes = plt.subplots(1, 5, figsize=(20,20))\n",
        "    axes = axes.flatten()\n",
        "    for img, ax in zip(images_arr, axes):\n",
        "        ax.imshow(img)\n",
        "    plt.tight_layout()\n",
        "    plt.show()"
      ],
      "execution_count": 234,
      "outputs": []
    },
    {
      "cell_type": "code",
      "metadata": {
        "id": "Cw0IbS6mfdxM",
        "colab": {
          "base_uri": "https://localhost:8080/"
        },
        "outputId": "1d1867bb-ecbd-48e2-a199-6cf0cb23024c"
      },
      "source": [
        "datagen_train = ImageDataGenerator(rescale=1./255,\n",
        "                            #featurewise_center =False ,\n",
        "                            # samplewise_center =False ,\n",
        "                            # featurewise_std_normalization =False ,\n",
        "                            # samplewise_std_normalization =False ,\n",
        "                            # zca_whitening =False ,\n",
        "                            # zca_epsilon =1e -6 ,\n",
        "                            # channel_shift_range =0. ,\n",
        "                            # fill_mode = ’ nearest ’ ,\n",
        "                            # cval =0. ,\n",
        "                            rotation_range = 40,\n",
        "                            width_shift_range = 0.2,\n",
        "                            height_shift_range = 0.2,\n",
        "                            #shear_range = 0.2,\n",
        "                            #zoom_range = 0.2,\n",
        "                            horizontal_flip = True,\n",
        "                            vertical_flip = True,\n",
        "                            validation_split=0.2)\n",
        "\n",
        "train_generator = datagen_train.flow_from_dataframe(data_df,\n",
        "                                               batch_size=BATCH_SIZE,\n",
        "                                               x_col='path',\n",
        "                                               y_col= 'label',\n",
        "                                               shuffle=True,\n",
        "                                               target_size=(IMG_SHAPE,IMG_SHAPE),\n",
        "                                               class_mode='categorical',\n",
        "                                               subset='training')\n",
        "\n",
        "\n",
        "datagen_val = ImageDataGenerator (rescale=1./255, \n",
        "                                 validation_split=0.2)\n",
        "\n",
        "\n",
        "validation_generator = datagen_val.flow_from_dataframe(data_df,\n",
        "                                                   batch_size=BATCH_SIZE,\n",
        "                                                   x_col='path',\n",
        "                                                   y_col='label',\n",
        "                                                   shuffle=True,\n",
        "                                                   target_size=(IMG_SHAPE,IMG_SHAPE),\n",
        "                                                   class_mode='categorical',\n",
        "                                                   subset='validation')    \n",
        "\n"
      ],
      "execution_count": 256,
      "outputs": [
        {
          "output_type": "stream",
          "name": "stdout",
          "text": [
            "Found 975 validated image filenames belonging to 6 classes.\n",
            "Found 243 validated image filenames belonging to 6 classes.\n"
          ]
        }
      ]
    },
    {
      "cell_type": "code",
      "metadata": {
        "colab": {
          "base_uri": "https://localhost:8080/"
        },
        "id": "i5sbJJeWlcv4",
        "outputId": "49708a1f-b37d-449d-ddfb-0f90146a7181"
      },
      "source": [
        "datagen_test = ImageDataGenerator (rescale=1./255, \n",
        "                                 validation_split=0.2)\n",
        "\n",
        "\n",
        "test_generator = datagen_test.flow_from_dataframe(data_df,\n",
        "                                                   batch_size=BATCH_SIZE,\n",
        "                                                   x_col='path',\n",
        "                                                   y_col='label',\n",
        "                                                   shuffle=False,\n",
        "                                                   target_size=(IMG_SHAPE,IMG_SHAPE),\n",
        "                                                   class_mode='categorical')\n",
        "                                                   #subset='validation') "
      ],
      "execution_count": 257,
      "outputs": [
        {
          "output_type": "stream",
          "name": "stdout",
          "text": [
            "Found 1218 validated image filenames belonging to 6 classes.\n"
          ]
        }
      ]
    },
    {
      "cell_type": "code",
      "metadata": {
        "colab": {
          "base_uri": "https://localhost:8080/",
          "height": 228
        },
        "id": "ShN0CzElfd9R",
        "outputId": "18e13292-bf3e-4028-8bd4-5b625a16bb68"
      },
      "source": [
        "augmented_images = [train_generator[0][0][0] for i in range(5)]\n",
        "plotImages(augmented_images)"
      ],
      "execution_count": 167,
      "outputs": [
        {
          "output_type": "display_data",
          "data": {
            "image/png": "[encoded data removed]",
            "text/plain": [
              "<Figure size 1440x1440 with 5 Axes>"
            ]
          },
          "metadata": {
            "needs_background": "light"
          }
        }
      ]
    },
    {
      "cell_type": "markdown",
      "metadata": {
        "id": "UIPXX6y48mV-"
      },
      "source": [
        "# **Criando o Dataframe em dados de treino, validação e teste**"
      ]
    },
    {
      "cell_type": "code",
      "metadata": {
        "id": "ByYa1WtsGAOO"
      },
      "source": [
        "class_dict=train_generator.class_indices\n",
        "labels= train_generator.labels\n",
        "file_names= train_generator.filenames "
      ],
      "execution_count": 168,
      "outputs": []
    },
    {
      "cell_type": "code",
      "metadata": {
        "id": "lQTFcVZA3Uwl",
        "outputId": "9c825dee-4a8e-43c4-e0b5-23e91cdb3823",
        "colab": {
          "base_uri": "https://localhost:8080/"
        }
      },
      "source": [
        "class_dict"
      ],
      "execution_count": 169,
      "outputs": [
        {
          "output_type": "execute_result",
          "data": {
            "text/plain": [
              "{'andesite': 0,\n",
              " 'gneiss': 1,\n",
              " 'marbler': 2,\n",
              " 'quartzite': 3,\n",
              " 'rhyolite': 4,\n",
              " 'schist': 5}"
            ]
          },
          "metadata": {},
          "execution_count": 169
        }
      ]
    },
    {
      "cell_type": "code",
      "metadata": {
        "id": "397pKysWejrc",
        "colab": {
          "base_uri": "https://localhost:8080/"
        },
        "outputId": "ffb5c558-c5a6-4c72-99cd-4a97d2be6e24"
      },
      "source": [
        "X_train, y_train = next(train_generator)\n",
        "X_val, y_val = next(validation_generator)\n",
        "X_test, y_test = next(test_generator)\n",
        "\n",
        "X_val.shape"
      ],
      "execution_count": 172,
      "outputs": [
        {
          "output_type": "execute_result",
          "data": {
            "text/plain": [
              "(64, 28, 28, 3)"
            ]
          },
          "metadata": {},
          "execution_count": 172
        }
      ]
    },
    {
      "cell_type": "markdown",
      "metadata": {
        "id": "dXm8LYqv0_vK"
      },
      "source": [
        "# **Criar o modelo**"
      ]
    },
    {
      "cell_type": "code",
      "metadata": {
        "id": "ncctBTCAgG7d"
      },
      "source": [
        "num_classes = 6\n",
        "\n",
        "model = tf.keras.models.Sequential([\n",
        "    tf.keras.layers.Conv2D(64, (3,3), activation='relu', input_shape=(28,28,3)),\n",
        "    tf.keras.layers.BatchNormalization(),\n",
        "    tf.keras.layers.MaxPooling2D(2, 2),\n",
        "\n",
        "    tf.keras.layers.Conv2D(128, (3,3), activation='relu'),\n",
        "    tf.keras.layers.MaxPooling2D(2,2),\n",
        "\n",
        "    tf.keras.layers.Conv2D(256, (3,3), activation='relu'),\n",
        "    tf.keras.layers.MaxPooling2D(2,2),\n",
        "   \n",
        "\n",
        "    tf.keras.layers.Flatten(),\n",
        "    tf.keras.layers.Dense(512, activation='relu'),\n",
        "    tf.keras.layers.Dropout(0.5),\n",
        "    tf.keras.layers.Dense(num_classes, activation='softmax')\n",
        "   \n",
        "])"
      ],
      "execution_count": 20,
      "outputs": []
    },
    {
      "cell_type": "markdown",
      "metadata": {
        "id": "cQvF_-VrbIhO"
      },
      "source": [
        "# **Compilando o Modelo**"
      ]
    },
    {
      "cell_type": "code",
      "metadata": {
        "id": "tseOThp5bLVl",
        "colab": {
          "base_uri": "https://localhost:8080/"
        },
        "outputId": "83df88ae-0c72-4f17-bda0-21ad761aa84c"
      },
      "source": [
        "model.compile(optimizer = Adam(learning_rate=0.0001), \n",
        "               loss = 'categorical_crossentropy', \n",
        "               metrics =['accuracy'])\n",
        "model.summary()  "
      ],
      "execution_count": 21,
      "outputs": [
        {
          "output_type": "stream",
          "name": "stdout",
          "text": [
            "Model: \"sequential\"\n",
            "_________________________________________________________________\n",
            "Layer (type)                 Output Shape              Param #   \n",
            "=================================================================\n",
            "conv2d (Conv2D)              (None, 26, 26, 64)        1792      \n",
            "_________________________________________________________________\n",
            "batch_normalization (BatchNo (None, 26, 26, 64)        256       \n",
            "_________________________________________________________________\n",
            "max_pooling2d (MaxPooling2D) (None, 13, 13, 64)        0         \n",
            "_________________________________________________________________\n",
            "conv2d_1 (Conv2D)            (None, 11, 11, 128)       73856     \n",
            "_________________________________________________________________\n",
            "max_pooling2d_1 (MaxPooling2 (None, 5, 5, 128)         0         \n",
            "_________________________________________________________________\n",
            "conv2d_2 (Conv2D)            (None, 3, 3, 256)         295168    \n",
            "_________________________________________________________________\n",
            "max_pooling2d_2 (MaxPooling2 (None, 1, 1, 256)         0         \n",
            "_________________________________________________________________\n",
            "flatten (Flatten)            (None, 256)               0         \n",
            "_________________________________________________________________\n",
            "dense (Dense)                (None, 512)               131584    \n",
            "_________________________________________________________________\n",
            "dropout (Dropout)            (None, 512)               0         \n",
            "_________________________________________________________________\n",
            "dense_1 (Dense)              (None, 6)                 3078      \n",
            "=================================================================\n",
            "Total params: 505,734\n",
            "Trainable params: 505,606\n",
            "Non-trainable params: 128\n",
            "_________________________________________________________________\n"
          ]
        }
      ]
    },
    {
      "cell_type": "code",
      "metadata": {
        "id": "9Sr0YDZ8dCmz"
      },
      "source": [
        "callbacks_list = [\n",
        "    tf.keras.callbacks.ReduceLROnPlateau(factor=0.5,\n",
        "                                         patience=4,\n",
        "                                         verbose=0),\n",
        "    tf.keras.callbacks.EarlyStopping(\n",
        "        monitor=\"accuracy\",\n",
        "        patience=12,\n",
        "        restore_best_weights=True,\n",
        "    ),\n",
        "    tf.keras.callbacks.ModelCheckpoint(\n",
        "        filepath='best_model.h5',\n",
        "        monitor=\"val_accuracy\",\n",
        "        save_best_only=True,\n",
        "    ),\n",
        "\n",
        "]"
      ],
      "execution_count": 22,
      "outputs": []
    },
    {
      "cell_type": "markdown",
      "metadata": {
        "id": "IhQyiWIh1HQs"
      },
      "source": [
        "# **Avaliar o modelo**"
      ]
    },
    {
      "cell_type": "code",
      "metadata": {
        "id": "cwpnwl86dm74",
        "colab": {
          "base_uri": "https://localhost:8080/"
        },
        "outputId": "1717f6dc-cda8-4e8f-dbfe-7a07bfc52bb5"
      },
      "source": [
        "epochs=100\n",
        "history = model.fit(X_train,y_train,\n",
        "                               epochs=epochs,\n",
        "                               #verbose=0,\n",
        "                               callbacks=callbacks_list, \n",
        "                               #validation_split=0.2,\n",
        "                               #class_weight=class_weight_,\n",
        "                               workers=4,\n",
        "                               use_multiprocessing=True,\n",
        "                               validation_data=(X_val,y_val))"
      ],
      "execution_count": 23,
      "outputs": [
        {
          "output_type": "stream",
          "name": "stdout",
          "text": [
            "Epoch 1/100\n",
            "2/2 [==============================] - 1s 365ms/step - loss: 1.8380 - accuracy: 0.1250 - val_loss: 1.7845 - val_accuracy: 0.2031\n",
            "Epoch 2/100\n",
            "2/2 [==============================] - 0s 184ms/step - loss: 1.6916 - accuracy: 0.2656 - val_loss: 1.7810 - val_accuracy: 0.1875\n",
            "Epoch 3/100\n",
            "2/2 [==============================] - 0s 178ms/step - loss: 1.5876 - accuracy: 0.3906 - val_loss: 1.7775 - val_accuracy: 0.1875\n",
            "Epoch 4/100\n",
            "2/2 [==============================] - 0s 178ms/step - loss: 1.4517 - accuracy: 0.5000 - val_loss: 1.7742 - val_accuracy: 0.1875\n",
            "Epoch 5/100\n",
            "2/2 [==============================] - 0s 190ms/step - loss: 1.3590 - accuracy: 0.5000 - val_loss: 1.7707 - val_accuracy: 0.1875\n",
            "Epoch 6/100\n",
            "2/2 [==============================] - 0s 172ms/step - loss: 1.3520 - accuracy: 0.5156 - val_loss: 1.7670 - val_accuracy: 0.1875\n",
            "Epoch 7/100\n",
            "2/2 [==============================] - 0s 176ms/step - loss: 1.2595 - accuracy: 0.5938 - val_loss: 1.7629 - val_accuracy: 0.1875\n",
            "Epoch 8/100\n",
            "2/2 [==============================] - 0s 182ms/step - loss: 1.1962 - accuracy: 0.5781 - val_loss: 1.7586 - val_accuracy: 0.1875\n",
            "Epoch 9/100\n",
            "2/2 [==============================] - 0s 176ms/step - loss: 1.1339 - accuracy: 0.5938 - val_loss: 1.7547 - val_accuracy: 0.1875\n",
            "Epoch 10/100\n",
            "2/2 [==============================] - 0s 177ms/step - loss: 1.0798 - accuracy: 0.6562 - val_loss: 1.7511 - val_accuracy: 0.1875\n",
            "Epoch 11/100\n",
            "2/2 [==============================] - 0s 170ms/step - loss: 0.9641 - accuracy: 0.7031 - val_loss: 1.7480 - val_accuracy: 0.1875\n",
            "Epoch 12/100\n",
            "2/2 [==============================] - 0s 181ms/step - loss: 0.9922 - accuracy: 0.6562 - val_loss: 1.7440 - val_accuracy: 0.1875\n",
            "Epoch 13/100\n",
            "2/2 [==============================] - 0s 174ms/step - loss: 0.9534 - accuracy: 0.7031 - val_loss: 1.7406 - val_accuracy: 0.2188\n",
            "Epoch 14/100\n",
            "2/2 [==============================] - 0s 178ms/step - loss: 0.8687 - accuracy: 0.7656 - val_loss: 1.7369 - val_accuracy: 0.2188\n",
            "Epoch 15/100\n",
            "2/2 [==============================] - 0s 179ms/step - loss: 0.8119 - accuracy: 0.8125 - val_loss: 1.7331 - val_accuracy: 0.2812\n",
            "Epoch 16/100\n",
            "2/2 [==============================] - 0s 177ms/step - loss: 0.7892 - accuracy: 0.7969 - val_loss: 1.7285 - val_accuracy: 0.2969\n",
            "Epoch 17/100\n",
            "2/2 [==============================] - 0s 171ms/step - loss: 0.7900 - accuracy: 0.7656 - val_loss: 1.7236 - val_accuracy: 0.3281\n",
            "Epoch 18/100\n",
            "2/2 [==============================] - 0s 191ms/step - loss: 0.7421 - accuracy: 0.7812 - val_loss: 1.7173 - val_accuracy: 0.3281\n",
            "Epoch 19/100\n",
            "2/2 [==============================] - 0s 177ms/step - loss: 0.6536 - accuracy: 0.8438 - val_loss: 1.7109 - val_accuracy: 0.2656\n",
            "Epoch 20/100\n",
            "2/2 [==============================] - 0s 184ms/step - loss: 0.6713 - accuracy: 0.8281 - val_loss: 1.7042 - val_accuracy: 0.2344\n",
            "Epoch 21/100\n",
            "2/2 [==============================] - 0s 183ms/step - loss: 0.6577 - accuracy: 0.7500 - val_loss: 1.6983 - val_accuracy: 0.2188\n",
            "Epoch 22/100\n",
            "2/2 [==============================] - 0s 178ms/step - loss: 0.5852 - accuracy: 0.8438 - val_loss: 1.6928 - val_accuracy: 0.2188\n",
            "Epoch 23/100\n",
            "2/2 [==============================] - 0s 177ms/step - loss: 0.5700 - accuracy: 0.8594 - val_loss: 1.6881 - val_accuracy: 0.2656\n",
            "Epoch 24/100\n",
            "2/2 [==============================] - 0s 180ms/step - loss: 0.5045 - accuracy: 0.8438 - val_loss: 1.6834 - val_accuracy: 0.3125\n",
            "Epoch 25/100\n",
            "2/2 [==============================] - 0s 190ms/step - loss: 0.5140 - accuracy: 0.8750 - val_loss: 1.6793 - val_accuracy: 0.3906\n",
            "Epoch 26/100\n",
            "2/2 [==============================] - 0s 176ms/step - loss: 0.4525 - accuracy: 0.8438 - val_loss: 1.6747 - val_accuracy: 0.4375\n",
            "Epoch 27/100\n",
            "2/2 [==============================] - 0s 177ms/step - loss: 0.5227 - accuracy: 0.8750 - val_loss: 1.6686 - val_accuracy: 0.4531\n",
            "Epoch 28/100\n",
            "2/2 [==============================] - 0s 204ms/step - loss: 0.4043 - accuracy: 0.8281 - val_loss: 1.6616 - val_accuracy: 0.4375\n",
            "Epoch 29/100\n",
            "2/2 [==============================] - 0s 175ms/step - loss: 0.4288 - accuracy: 0.8906 - val_loss: 1.6545 - val_accuracy: 0.3594\n",
            "Epoch 30/100\n",
            "2/2 [==============================] - 0s 176ms/step - loss: 0.3973 - accuracy: 0.8594 - val_loss: 1.6479 - val_accuracy: 0.3594\n",
            "Epoch 31/100\n",
            "2/2 [==============================] - 0s 170ms/step - loss: 0.4042 - accuracy: 0.8750 - val_loss: 1.6421 - val_accuracy: 0.3750\n",
            "Epoch 32/100\n",
            "2/2 [==============================] - 0s 180ms/step - loss: 0.3802 - accuracy: 0.8750 - val_loss: 1.6361 - val_accuracy: 0.4219\n",
            "Epoch 33/100\n",
            "2/2 [==============================] - 0s 187ms/step - loss: 0.3736 - accuracy: 0.8906 - val_loss: 1.6297 - val_accuracy: 0.4531\n",
            "Epoch 34/100\n",
            "2/2 [==============================] - 0s 179ms/step - loss: 0.3652 - accuracy: 0.8594 - val_loss: 1.6231 - val_accuracy: 0.4688\n",
            "Epoch 35/100\n",
            "2/2 [==============================] - 0s 171ms/step - loss: 0.2593 - accuracy: 0.9531 - val_loss: 1.6163 - val_accuracy: 0.4844\n",
            "Epoch 36/100\n",
            "2/2 [==============================] - 0s 189ms/step - loss: 0.2972 - accuracy: 0.9219 - val_loss: 1.6094 - val_accuracy: 0.4844\n",
            "Epoch 37/100\n",
            "2/2 [==============================] - 0s 177ms/step - loss: 0.2616 - accuracy: 0.9219 - val_loss: 1.6025 - val_accuracy: 0.4844\n",
            "Epoch 38/100\n",
            "2/2 [==============================] - 0s 181ms/step - loss: 0.2816 - accuracy: 0.9375 - val_loss: 1.5961 - val_accuracy: 0.4531\n",
            "Epoch 39/100\n",
            "2/2 [==============================] - 0s 175ms/step - loss: 0.2364 - accuracy: 0.9688 - val_loss: 1.5897 - val_accuracy: 0.4062\n",
            "Epoch 40/100\n",
            "2/2 [==============================] - 0s 192ms/step - loss: 0.2726 - accuracy: 0.9375 - val_loss: 1.5838 - val_accuracy: 0.4062\n",
            "Epoch 41/100\n",
            "2/2 [==============================] - 0s 188ms/step - loss: 0.2762 - accuracy: 0.9062 - val_loss: 1.5787 - val_accuracy: 0.3750\n",
            "Epoch 42/100\n",
            "2/2 [==============================] - 0s 180ms/step - loss: 0.2773 - accuracy: 0.9219 - val_loss: 1.5728 - val_accuracy: 0.3906\n",
            "Epoch 43/100\n",
            "2/2 [==============================] - 0s 179ms/step - loss: 0.2357 - accuracy: 0.9375 - val_loss: 1.5673 - val_accuracy: 0.4375\n",
            "Epoch 44/100\n",
            "2/2 [==============================] - 0s 181ms/step - loss: 0.2119 - accuracy: 0.9062 - val_loss: 1.5622 - val_accuracy: 0.5156\n",
            "Epoch 45/100\n",
            "2/2 [==============================] - 0s 170ms/step - loss: 0.2042 - accuracy: 0.9531 - val_loss: 1.5572 - val_accuracy: 0.5156\n",
            "Epoch 46/100\n",
            "2/2 [==============================] - 0s 182ms/step - loss: 0.2080 - accuracy: 0.9531 - val_loss: 1.5525 - val_accuracy: 0.5000\n",
            "Epoch 47/100\n",
            "2/2 [==============================] - 0s 176ms/step - loss: 0.1932 - accuracy: 0.9531 - val_loss: 1.5468 - val_accuracy: 0.5312\n",
            "Epoch 48/100\n",
            "2/2 [==============================] - 0s 173ms/step - loss: 0.2848 - accuracy: 0.9219 - val_loss: 1.5415 - val_accuracy: 0.4531\n",
            "Epoch 49/100\n",
            "2/2 [==============================] - 0s 176ms/step - loss: 0.2248 - accuracy: 0.9219 - val_loss: 1.5354 - val_accuracy: 0.4375\n",
            "Epoch 50/100\n",
            "2/2 [==============================] - 0s 193ms/step - loss: 0.2343 - accuracy: 0.8750 - val_loss: 1.5279 - val_accuracy: 0.4375\n",
            "Epoch 51/100\n",
            "2/2 [==============================] - 0s 181ms/step - loss: 0.1959 - accuracy: 0.9531 - val_loss: 1.5193 - val_accuracy: 0.4375\n"
          ]
        }
      ]
    },
    {
      "cell_type": "markdown",
      "metadata": {
        "id": "fXZP7HCxqpbS"
      },
      "source": [
        "**Deixe-nos representar graficamente a Precisão do treinamento versus perda para obter uma melhor compreensão do treinamento do modelo.**"
      ]
    },
    {
      "cell_type": "code",
      "metadata": {
        "colab": {
          "base_uri": "https://localhost:8080/",
          "height": 328
        },
        "id": "r2RLRG0mqfsv",
        "outputId": "7171f43d-cb02-40d6-883d-ff0d141aa3a3"
      },
      "source": [
        "plt.figure(figsize=(10, 10))\n",
        "\n",
        "plt.subplot(2, 2, 1)\n",
        "plt.plot(history.history['loss'], label='Loss')\n",
        "plt.plot(history.history['val_loss'], label='Validation Loss')\n",
        "plt.legend()\n",
        "plt.title('Training - Loss Function')\n",
        "\n",
        "plt.subplot(2, 2, 2)\n",
        "plt.plot(history.history['accuracy'], label='Accuracy')\n",
        "plt.plot(history.history['val_accuracy'], label='Validation Accuracy')\n",
        "plt.legend()\n",
        "plt.title('Train - Accuracy')"
      ],
      "execution_count": 24,
      "outputs": [
        {
          "output_type": "execute_result",
          "data": {
            "text/plain": [
              "Text(0.5, 1.0, 'Train - Accuracy')"
            ]
          },
          "metadata": {},
          "execution_count": 24
        },
        {
          "output_type": "display_data",
          "data": {
            "image/png": "[encoded data removed]",
            "text/plain": [
              "<Figure size 720x720 with 2 Axes>"
            ]
          },
          "metadata": {
            "needs_background": "light"
          }
        }
      ]
    },
    {
      "cell_type": "markdown",
      "metadata": {
        "id": "D6gvFi_nY4NB"
      },
      "source": [
        "\n",
        "# **Vamos traçar a precisão do treinamento e da validação, bem como a perda.** "
      ]
    },
    {
      "cell_type": "code",
      "metadata": {
        "id": "HvI5gCDM5Djb",
        "colab": {
          "base_uri": "https://localhost:8080/",
          "height": 545
        },
        "outputId": "86993357-4d9e-4b31-f094-aa0801cebfc0"
      },
      "source": [
        "%matplotlib inline\n",
        "import matplotlib.pyplot as plt\n",
        "acc = history.history['accuracy']\n",
        "val_acc = history.history['val_accuracy']\n",
        "loss = history.history['loss']\n",
        "val_loss = history.history['val_loss']\n",
        "\n",
        "epochs = range(len(acc))\n",
        "\n",
        "plt.plot(epochs, acc, 'r', label='Training accuracy')\n",
        "plt.plot(epochs, val_acc, 'b', label='Validation accuracy')\n",
        "plt.title('Training and validation accuracy')\n",
        "plt.legend(loc=0)\n",
        "plt.figure()\n",
        "\n",
        "plt.plot(epochs, loss, 'r', label='Training Loss')\n",
        "plt.plot(epochs, val_loss, 'b', label='Validation Loss')\n",
        "plt.title('Training and validation loss')\n",
        "plt.legend()\n",
        "\n",
        "plt.show()"
      ],
      "execution_count": 25,
      "outputs": [
        {
          "output_type": "display_data",
          "data": {
            "image/png": "[encoded data removed]",
            "text/plain": [
              "<Figure size 432x288 with 1 Axes>"
            ]
          },
          "metadata": {
            "needs_background": "light"
          }
        },
        {
          "output_type": "display_data",
          "data": {
            "image/png": "[encoded data removed]",
            "text/plain": [
              "<Figure size 432x288 with 1 Axes>"
            ]
          },
          "metadata": {
            "needs_background": "light"
          }
        }
      ]
    },
    {
      "cell_type": "code",
      "metadata": {
        "id": "IMJbJ4iT8f4x"
      },
      "source": [
        "history2= model.history.history\n",
        "px.line(history2,title = \"Metrics Plot\")"
      ],
      "execution_count": null,
      "outputs": []
    },
    {
      "cell_type": "markdown",
      "metadata": {
        "id": "0G-slWFQ1KwJ"
      },
      "source": [
        "# **Otimizar o modelo**"
      ]
    },
    {
      "cell_type": "markdown",
      "metadata": {
        "id": "SukGrdFNTMWX"
      },
      "source": [
        "# **Avaliar acurácia  do Modelo**"
      ]
    },
    {
      "cell_type": "code",
      "metadata": {
        "id": "jHX9PR5gTQZA",
        "colab": {
          "base_uri": "https://localhost:8080/"
        },
        "outputId": "fe4b5b67-6d55-40e3-fbd5-a059bf543ee4"
      },
      "source": [
        "model = tf.keras.models.load_model(\"best_model.h5\")\n",
        "\n",
        "test_loss, test_acc= model.evaluate(X_test,y_test)\n",
        "print(\"validation_accuracy: \" + str(test_acc))"
      ],
      "execution_count": 26,
      "outputs": [
        {
          "output_type": "stream",
          "name": "stdout",
          "text": [
            "2/2 [==============================] - 0s 26ms/step - loss: 1.4892 - accuracy: 0.5312\n",
            "validation_accuracy: 0.53125\n"
          ]
        }
      ]
    },
    {
      "cell_type": "markdown",
      "metadata": {
        "id": "WPvlnHQyjENH"
      },
      "source": [
        "# **Listando as redes realmente disponíveis em seu Keras**"
      ]
    },
    {
      "cell_type": "code",
      "metadata": {
        "colab": {
          "base_uri": "https://localhost:8080/"
        },
        "id": "r7rGxnabi9t2",
        "outputId": "3279eb43-dbcb-472b-bfe6-a33c4ae9907b"
      },
      "source": [
        "import tensorflow.keras.applications as app\n",
        "print(dir(app))"
      ],
      "execution_count": 27,
      "outputs": [
        {
          "output_type": "stream",
          "name": "stdout",
          "text": [
            "['DenseNet121', 'DenseNet169', 'DenseNet201', 'EfficientNetB0', 'EfficientNetB1', 'EfficientNetB2', 'EfficientNetB3', 'EfficientNetB4', 'EfficientNetB5', 'EfficientNetB6', 'EfficientNetB7', 'InceptionResNetV2', 'InceptionV3', 'MobileNet', 'MobileNetV2', 'MobileNetV3Large', 'MobileNetV3Small', 'NASNetLarge', 'NASNetMobile', 'ResNet101', 'ResNet101V2', 'ResNet152', 'ResNet152V2', 'ResNet50', 'ResNet50V2', 'VGG16', 'VGG19', 'Xception', '__builtins__', '__cached__', '__doc__', '__file__', '__loader__', '__name__', '__package__', '__path__', '__spec__', '_sys', 'densenet', 'efficientnet', 'imagenet_utils', 'inception_resnet_v2', 'inception_v3', 'mobilenet', 'mobilenet_v2', 'mobilenet_v3', 'nasnet', 'resnet', 'resnet50', 'resnet_v2', 'vgg16', 'vgg19', 'xception']\n"
          ]
        }
      ]
    },
    {
      "cell_type": "markdown",
      "metadata": {
        "id": "TtHvNQkI2vle"
      },
      "source": [
        "# **O Modelo pre treinado VGG16**"
      ]
    },
    {
      "cell_type": "code",
      "metadata": {
        "id": "J5ri8TgbjjcD"
      },
      "source": [
        "# Inicializar a CNN\n",
        "\n",
        "classifier = VGG16(include_top=False,weights='imagenet',input_shape=(32,32,3))"
      ],
      "execution_count": 268,
      "outputs": []
    },
    {
      "cell_type": "code",
      "metadata": {
        "id": "6_sWdJk654Wn"
      },
      "source": [
        "inp = tf.keras.Input((28,28,3))"
      ],
      "execution_count": 270,
      "outputs": []
    },
    {
      "cell_type": "code",
      "metadata": {
        "id": "c9rJf2FU7BwQ",
        "outputId": "6db18da7-d76b-4215-aba4-ff72a9a616a7",
        "colab": {
          "base_uri": "https://localhost:8080/"
        }
      },
      "source": [
        "classifier.layers[0].output"
      ],
      "execution_count": 271,
      "outputs": [
        {
          "output_type": "execute_result",
          "data": {
            "text/plain": [
              "<KerasTensor: shape=(None, 32, 32, 3) dtype=float32 (created by layer 'input_15')>"
            ]
          },
          "metadata": {},
          "execution_count": 271
        }
      ]
    },
    {
      "cell_type": "code",
      "metadata": {
        "colab": {
          "base_uri": "https://localhost:8080/"
        },
        "id": "v-3FFMBQpKXo",
        "outputId": "c6216890-a8ac-4abb-9547-d1be96a2cfe6"
      },
      "source": [
        "# marcar camadas como não treináveis\n",
        "for layer in classifier.layers:\n",
        "    layer.trainable = False\n",
        "\n",
        "# adicionar novas camadas para classificação\n",
        "\n",
        "flat1 = tf.keras.layers.Flatten()(classifier.layers[-1].output)\n",
        "class1 = Dense(512, activation='relu', kernel_initializer='he_uniform')(flat1)\n",
        "output = Dense(6, activation='softmax')(class1)\n",
        "\n",
        "# definir o modelo\n",
        "modelvgg16 = Model(inputs=classifier.inputs, outputs=output)\n",
        "\n",
        "modelvgg16.summary()"
      ],
      "execution_count": 273,
      "outputs": [
        {
          "output_type": "stream",
          "name": "stdout",
          "text": [
            "Model: \"model_6\"\n",
            "_________________________________________________________________\n",
            "Layer (type)                 Output Shape              Param #   \n",
            "=================================================================\n",
            "input_15 (InputLayer)        [(None, 32, 32, 3)]       0         \n",
            "_________________________________________________________________\n",
            "block1_conv1 (Conv2D)        (None, 32, 32, 64)        1792      \n",
            "_________________________________________________________________\n",
            "block1_conv2 (Conv2D)        (None, 32, 32, 64)        36928     \n",
            "_________________________________________________________________\n",
            "block1_pool (MaxPooling2D)   (None, 16, 16, 64)        0         \n",
            "_________________________________________________________________\n",
            "block2_conv1 (Conv2D)        (None, 16, 16, 128)       73856     \n",
            "_________________________________________________________________\n",
            "block2_conv2 (Conv2D)        (None, 16, 16, 128)       147584    \n",
            "_________________________________________________________________\n",
            "block2_pool (MaxPooling2D)   (None, 8, 8, 128)         0         \n",
            "_________________________________________________________________\n",
            "block3_conv1 (Conv2D)        (None, 8, 8, 256)         295168    \n",
            "_________________________________________________________________\n",
            "block3_conv2 (Conv2D)        (None, 8, 8, 256)         590080    \n",
            "_________________________________________________________________\n",
            "block3_conv3 (Conv2D)        (None, 8, 8, 256)         590080    \n",
            "_________________________________________________________________\n",
            "block3_pool (MaxPooling2D)   (None, 4, 4, 256)         0         \n",
            "_________________________________________________________________\n",
            "block4_conv1 (Conv2D)        (None, 4, 4, 512)         1180160   \n",
            "_________________________________________________________________\n",
            "block4_conv2 (Conv2D)        (None, 4, 4, 512)         2359808   \n",
            "_________________________________________________________________\n",
            "block4_conv3 (Conv2D)        (None, 4, 4, 512)         2359808   \n",
            "_________________________________________________________________\n",
            "block4_pool (MaxPooling2D)   (None, 2, 2, 512)         0         \n",
            "_________________________________________________________________\n",
            "block5_conv1 (Conv2D)        (None, 2, 2, 512)         2359808   \n",
            "_________________________________________________________________\n",
            "block5_conv2 (Conv2D)        (None, 2, 2, 512)         2359808   \n",
            "_________________________________________________________________\n",
            "block5_conv3 (Conv2D)        (None, 2, 2, 512)         2359808   \n",
            "_________________________________________________________________\n",
            "block5_pool (MaxPooling2D)   (None, 1, 1, 512)         0         \n",
            "_________________________________________________________________\n",
            "flatten_8 (Flatten)          (None, 512)               0         \n",
            "_________________________________________________________________\n",
            "dense_15 (Dense)             (None, 512)               262656    \n",
            "_________________________________________________________________\n",
            "dense_16 (Dense)             (None, 6)                 3078      \n",
            "=================================================================\n",
            "Total params: 14,980,422\n",
            "Trainable params: 265,734\n",
            "Non-trainable params: 14,714,688\n",
            "_________________________________________________________________\n"
          ]
        }
      ]
    },
    {
      "cell_type": "code",
      "metadata": {
        "id": "wvbEuAEuQxLI"
      },
      "source": [
        "modelvgg16.compile(optimizer = Adam(learning_rate=0.0001), \n",
        "               loss = 'categorical_crossentropy', \n",
        "               metrics =['accuracy'])  \n",
        "\n",
        "callbacksvgg16 = [\n",
        "    tf.keras.callbacks.ReduceLROnPlateau(factor=0.5,\n",
        "                                         patience=4,\n",
        "                                         verbose=0),\n",
        "    tf.keras.callbacks.EarlyStopping(\n",
        "        monitor=\"accuracy\",\n",
        "        patience=12,\n",
        "        restore_best_weights=True,\n",
        "    ),\n",
        "    tf.keras.callbacks.ModelCheckpoint(\n",
        "        filepath='feature_extraction.vgg16',\n",
        "        save_best_only=True,\n",
        "        monitor=\"val_accuracy\",\n",
        "    ),\n",
        "\n",
        "]"
      ],
      "execution_count": 274,
      "outputs": []
    },
    {
      "cell_type": "code",
      "metadata": {
        "id": "Q49JsEYskH6B",
        "colab": {
          "base_uri": "https://localhost:8080/"
        },
        "outputId": "75302b0b-c220-4c31-9922-2e493cc3c8aa"
      },
      "source": [
        "epochs=100\n",
        "historyvgg16 = model.fit(train_generator,\n",
        "                    epochs=epochs,\n",
        "                     #verbose=0,\n",
        "                    steps_per_epoch = 975/64,\n",
        "                     callbacks=callbacksvgg16,\n",
        "                    #validation_steps = 2000/32,\n",
        "                    validation_data=validation_generator)"
      ],
      "execution_count": 277,
      "outputs": [
        {
          "output_type": "stream",
          "name": "stdout",
          "text": [
            "Epoch 1/100\n",
            "15/15 [==============================] - 5s 294ms/step - loss: 0.8886 - accuracy: 0.7600 - val_loss: 0.8145 - val_accuracy: 0.7695\n",
            "INFO:tensorflow:Assets written to: feature_extraction.vgg16/assets\n",
            "Epoch 2/100\n",
            "15/15 [==============================] - 4s 292ms/step - loss: 0.9015 - accuracy: 0.7579 - val_loss: 0.8064 - val_accuracy: 0.7695\n",
            "Epoch 3/100\n",
            "15/15 [==============================] - 4s 280ms/step - loss: 0.8570 - accuracy: 0.7723 - val_loss: 0.7995 - val_accuracy: 0.7695\n",
            "Epoch 4/100\n",
            "15/15 [==============================] - 4s 282ms/step - loss: 0.8689 - accuracy: 0.7610 - val_loss: 0.7932 - val_accuracy: 0.7695\n",
            "Epoch 5/100\n",
            "15/15 [==============================] - 4s 279ms/step - loss: 0.8373 - accuracy: 0.7703 - val_loss: 0.7873 - val_accuracy: 0.7695\n",
            "Epoch 6/100\n",
            "15/15 [==============================] - 4s 279ms/step - loss: 0.8601 - accuracy: 0.7682 - val_loss: 0.7812 - val_accuracy: 0.7695\n",
            "Epoch 7/100\n",
            "15/15 [==============================] - 4s 282ms/step - loss: 0.8290 - accuracy: 0.7651 - val_loss: 0.7756 - val_accuracy: 0.7737\n",
            "INFO:tensorflow:Assets written to: feature_extraction.vgg16/assets\n",
            "Epoch 8/100\n",
            "15/15 [==============================] - 4s 276ms/step - loss: 0.7964 - accuracy: 0.7785 - val_loss: 0.7696 - val_accuracy: 0.7737\n",
            "Epoch 9/100\n",
            "15/15 [==============================] - 4s 275ms/step - loss: 0.9119 - accuracy: 0.7487 - val_loss: 0.7647 - val_accuracy: 0.7737\n",
            "Epoch 10/100\n",
            "15/15 [==============================] - 4s 277ms/step - loss: 0.7937 - accuracy: 0.7672 - val_loss: 0.7601 - val_accuracy: 0.7737\n",
            "Epoch 11/100\n",
            "15/15 [==============================] - 4s 275ms/step - loss: 0.7751 - accuracy: 0.7682 - val_loss: 0.7555 - val_accuracy: 0.7778\n",
            "INFO:tensorflow:Assets written to: feature_extraction.vgg16/assets\n",
            "Epoch 12/100\n",
            "15/15 [==============================] - 4s 294ms/step - loss: 0.8145 - accuracy: 0.7672 - val_loss: 0.7514 - val_accuracy: 0.7778\n",
            "Epoch 13/100\n",
            "15/15 [==============================] - 4s 290ms/step - loss: 0.7932 - accuracy: 0.7774 - val_loss: 0.7470 - val_accuracy: 0.7778\n",
            "Epoch 14/100\n",
            "15/15 [==============================] - 4s 278ms/step - loss: 0.7710 - accuracy: 0.7805 - val_loss: 0.7426 - val_accuracy: 0.7778\n",
            "Epoch 15/100\n",
            "15/15 [==============================] - 4s 278ms/step - loss: 0.8079 - accuracy: 0.7651 - val_loss: 0.7383 - val_accuracy: 0.7778\n",
            "Epoch 16/100\n",
            "15/15 [==============================] - 4s 275ms/step - loss: 0.8124 - accuracy: 0.7795 - val_loss: 0.7343 - val_accuracy: 0.7778\n",
            "Epoch 17/100\n",
            "15/15 [==============================] - 4s 274ms/step - loss: 0.8030 - accuracy: 0.7600 - val_loss: 0.7309 - val_accuracy: 0.7778\n",
            "Epoch 18/100\n",
            "15/15 [==============================] - 4s 286ms/step - loss: 0.8205 - accuracy: 0.7723 - val_loss: 0.7274 - val_accuracy: 0.7778\n",
            "Epoch 19/100\n",
            "15/15 [==============================] - 4s 280ms/step - loss: 0.7758 - accuracy: 0.7836 - val_loss: 0.7236 - val_accuracy: 0.7819\n",
            "INFO:tensorflow:Assets written to: feature_extraction.vgg16/assets\n",
            "Epoch 20/100\n",
            "15/15 [==============================] - 4s 281ms/step - loss: 0.8369 - accuracy: 0.7651 - val_loss: 0.7208 - val_accuracy: 0.7819\n",
            "Epoch 21/100\n",
            "15/15 [==============================] - 4s 274ms/step - loss: 0.8306 - accuracy: 0.7651 - val_loss: 0.7177 - val_accuracy: 0.7819\n",
            "Epoch 22/100\n",
            "15/15 [==============================] - 4s 277ms/step - loss: 0.7560 - accuracy: 0.7754 - val_loss: 0.7143 - val_accuracy: 0.7860\n",
            "INFO:tensorflow:Assets written to: feature_extraction.vgg16/assets\n",
            "Epoch 23/100\n",
            "15/15 [==============================] - 4s 277ms/step - loss: 0.7587 - accuracy: 0.7897 - val_loss: 0.7110 - val_accuracy: 0.7860\n",
            "Epoch 24/100\n",
            "15/15 [==============================] - 4s 278ms/step - loss: 0.7711 - accuracy: 0.7928 - val_loss: 0.7075 - val_accuracy: 0.7860\n",
            "Epoch 25/100\n",
            "15/15 [==============================] - 4s 278ms/step - loss: 0.7682 - accuracy: 0.7836 - val_loss: 0.7039 - val_accuracy: 0.7860\n",
            "Epoch 26/100\n",
            "15/15 [==============================] - 4s 278ms/step - loss: 0.7493 - accuracy: 0.7918 - val_loss: 0.7016 - val_accuracy: 0.7860\n",
            "Epoch 27/100\n",
            "15/15 [==============================] - 4s 278ms/step - loss: 0.7256 - accuracy: 0.7856 - val_loss: 0.6993 - val_accuracy: 0.7860\n",
            "Epoch 28/100\n",
            "15/15 [==============================] - 4s 276ms/step - loss: 0.7672 - accuracy: 0.7744 - val_loss: 0.6959 - val_accuracy: 0.7860\n",
            "Epoch 29/100\n",
            "15/15 [==============================] - 4s 277ms/step - loss: 0.7392 - accuracy: 0.7774 - val_loss: 0.6933 - val_accuracy: 0.7860\n",
            "Epoch 30/100\n",
            "15/15 [==============================] - 4s 298ms/step - loss: 0.6982 - accuracy: 0.8031 - val_loss: 0.6907 - val_accuracy: 0.7901\n",
            "INFO:tensorflow:Assets written to: feature_extraction.vgg16/assets\n",
            "Epoch 31/100\n",
            "15/15 [==============================] - 4s 283ms/step - loss: 0.7955 - accuracy: 0.7713 - val_loss: 0.6873 - val_accuracy: 0.7901\n",
            "Epoch 32/100\n",
            "15/15 [==============================] - 4s 280ms/step - loss: 0.6877 - accuracy: 0.7918 - val_loss: 0.6837 - val_accuracy: 0.7901\n",
            "Epoch 33/100\n",
            "15/15 [==============================] - 4s 277ms/step - loss: 0.6771 - accuracy: 0.7949 - val_loss: 0.6818 - val_accuracy: 0.7901\n",
            "Epoch 34/100\n",
            "15/15 [==============================] - 4s 275ms/step - loss: 0.7628 - accuracy: 0.7795 - val_loss: 0.6788 - val_accuracy: 0.7901\n",
            "Epoch 35/100\n",
            "15/15 [==============================] - 4s 279ms/step - loss: 0.7219 - accuracy: 0.7969 - val_loss: 0.6760 - val_accuracy: 0.7942\n",
            "INFO:tensorflow:Assets written to: feature_extraction.vgg16/assets\n",
            "Epoch 36/100\n",
            "15/15 [==============================] - 4s 277ms/step - loss: 0.7252 - accuracy: 0.7918 - val_loss: 0.6732 - val_accuracy: 0.7942\n",
            "Epoch 37/100\n",
            "15/15 [==============================] - 4s 279ms/step - loss: 0.7360 - accuracy: 0.7897 - val_loss: 0.6695 - val_accuracy: 0.7942\n",
            "Epoch 38/100\n",
            "15/15 [==============================] - 4s 283ms/step - loss: 0.7309 - accuracy: 0.7938 - val_loss: 0.6662 - val_accuracy: 0.7942\n",
            "Epoch 39/100\n",
            "15/15 [==============================] - 4s 278ms/step - loss: 0.6811 - accuracy: 0.7990 - val_loss: 0.6632 - val_accuracy: 0.7942\n",
            "Epoch 40/100\n",
            "15/15 [==============================] - 4s 277ms/step - loss: 0.6968 - accuracy: 0.7908 - val_loss: 0.6610 - val_accuracy: 0.7942\n",
            "Epoch 41/100\n",
            "15/15 [==============================] - 4s 277ms/step - loss: 0.7648 - accuracy: 0.7836 - val_loss: 0.6582 - val_accuracy: 0.7942\n",
            "Epoch 42/100\n",
            "15/15 [==============================] - 4s 281ms/step - loss: 0.6857 - accuracy: 0.8113 - val_loss: 0.6565 - val_accuracy: 0.7942\n",
            "Epoch 43/100\n",
            "15/15 [==============================] - 4s 278ms/step - loss: 0.7069 - accuracy: 0.7805 - val_loss: 0.6537 - val_accuracy: 0.7942\n",
            "Epoch 44/100\n",
            "15/15 [==============================] - 4s 280ms/step - loss: 0.6979 - accuracy: 0.7877 - val_loss: 0.6512 - val_accuracy: 0.7901\n",
            "Epoch 45/100\n",
            "15/15 [==============================] - 4s 283ms/step - loss: 0.6793 - accuracy: 0.7887 - val_loss: 0.6484 - val_accuracy: 0.7901\n",
            "Epoch 46/100\n",
            "15/15 [==============================] - 4s 276ms/step - loss: 0.7137 - accuracy: 0.7846 - val_loss: 0.6463 - val_accuracy: 0.7901\n",
            "Epoch 47/100\n",
            "15/15 [==============================] - 4s 280ms/step - loss: 0.6500 - accuracy: 0.7928 - val_loss: 0.6447 - val_accuracy: 0.7901\n",
            "Epoch 48/100\n",
            "15/15 [==============================] - 4s 280ms/step - loss: 0.6911 - accuracy: 0.7969 - val_loss: 0.6421 - val_accuracy: 0.7901\n",
            "Epoch 49/100\n",
            "15/15 [==============================] - 4s 281ms/step - loss: 0.6663 - accuracy: 0.7867 - val_loss: 0.6399 - val_accuracy: 0.7901\n",
            "Epoch 50/100\n",
            "15/15 [==============================] - 4s 284ms/step - loss: 0.6711 - accuracy: 0.7949 - val_loss: 0.6378 - val_accuracy: 0.7860\n",
            "Epoch 51/100\n",
            "15/15 [==============================] - 4s 285ms/step - loss: 0.6528 - accuracy: 0.7949 - val_loss: 0.6352 - val_accuracy: 0.7860\n",
            "Epoch 52/100\n",
            "15/15 [==============================] - 4s 279ms/step - loss: 0.6807 - accuracy: 0.7897 - val_loss: 0.6329 - val_accuracy: 0.7901\n",
            "Epoch 53/100\n",
            "15/15 [==============================] - 4s 277ms/step - loss: 0.6552 - accuracy: 0.8062 - val_loss: 0.6300 - val_accuracy: 0.7901\n",
            "Epoch 54/100\n",
            "15/15 [==============================] - 4s 279ms/step - loss: 0.6345 - accuracy: 0.8072 - val_loss: 0.6285 - val_accuracy: 0.7901\n"
          ]
        }
      ]
    },
    {
      "cell_type": "code",
      "metadata": {
        "id": "OzhMZWXqtWGz",
        "colab": {
          "base_uri": "https://localhost:8080/",
          "height": 545
        },
        "outputId": "1975e94b-98bf-4cea-facc-30436a597d52"
      },
      "source": [
        "%matplotlib inline\n",
        "import matplotlib.pyplot as plt\n",
        "acc = historyvgg16.history['accuracy']\n",
        "val_acc = historyvgg16.history['val_accuracy']\n",
        "loss = historyvgg16.history['loss']\n",
        "val_loss = historyvgg16.history['val_loss']\n",
        "\n",
        "epochs = range(len(acc))\n",
        "\n",
        "plt.plot(epochs, acc, 'r', label='Training accuracy')\n",
        "plt.plot(epochs, val_acc, 'b', label='Validation accuracy')\n",
        "plt.title('Training and validation accuracy')\n",
        "plt.legend(loc=0)\n",
        "plt.figure()\n",
        "\n",
        "plt.plot(epochs, loss, 'r', label='Training Loss')\n",
        "plt.plot(epochs, val_loss, 'b', label='Validation Loss')\n",
        "plt.title('Training and validation loss')\n",
        "plt.legend()\n",
        "\n",
        "plt.show()"
      ],
      "execution_count": 278,
      "outputs": [
        {
          "output_type": "display_data",
          "data": {
            "image/png": "[encoded data removed]",
            "text/plain": [
              "<Figure size 432x288 with 1 Axes>"
            ]
          },
          "metadata": {
            "needs_background": "light"
          }
        },
        {
          "output_type": "display_data",
          "data": {
            "image/png": "[encoded data removed]",
            "text/plain": [
              "<Figure size 432x288 with 1 Axes>"
            ]
          },
          "metadata": {
            "needs_background": "light"
          }
        }
      ]
    },
    {
      "cell_type": "code",
      "metadata": {
        "id": "Usw3n8GmtmXH",
        "colab": {
          "base_uri": "https://localhost:8080/"
        },
        "outputId": "bac38a96-0653-408e-fff7-204fc2436451"
      },
      "source": [
        "modelvgg16 = tf.keras.models.load_model(\"feature_extraction.vgg16\")\n",
        "\n",
        "test_lossvgg16, test_accvgg16= modelvgg16.evaluate(X_test,y_test)\n",
        "print(\"validation_accuracy: \" + str(test_accvgg16))"
      ],
      "execution_count": 279,
      "outputs": [
        {
          "output_type": "stream",
          "name": "stdout",
          "text": [
            "2/2 [==============================] - 0s 27ms/step - loss: 0.6355 - accuracy: 0.8125\n",
            "validation_accuracy: 0.8125\n"
          ]
        }
      ]
    },
    {
      "cell_type": "markdown",
      "metadata": {
        "id": "sy2zkcHz6FPn"
      },
      "source": [
        "# **O modeo InceptionV3**"
      ]
    },
    {
      "cell_type": "code",
      "metadata": {
        "id": "20chtUcZ6F-F"
      },
      "source": [
        "#inception_v3 = InceptionV3(input_shape=(150, 150, 3),\n",
        "                           #weights='imagenet',\n",
        "                           #include_top=False)\n",
        "#inception_v3.trainable = False"
      ],
      "execution_count": 26,
      "outputs": []
    },
    {
      "cell_type": "code",
      "metadata": {
        "id": "hFC6sp1q6Lct",
        "colab": {
          "base_uri": "https://localhost:8080/"
        },
        "outputId": "74ef4615-fc80-42c1-afe9-4bd061a9c328"
      },
      "source": [
        "classifier_v3 = InceptionV3(include_top=False, input_shape=(75, 75, 3)) \n",
        "\n",
        "# marcar camadas como não treináveis\n",
        "for layer in classifier.layers:\n",
        "    layer.trainable = False\n",
        "\n",
        "x = tf.keras.layers.Flatten()(classifier_v3.layers[-1].output)\n",
        "x = Dense(512, activation='relu', kernel_initializer='he_uniform')(x)\n",
        "output = Dense(6, activation='softmax')(x)\n",
        "\n",
        "#x = layers.Flatten()(inception_v3.output)\n",
        "#x = layers.BatchNormalization()(x)\n",
        "#x = layers.Dense(512,activation='relu')(x)\n",
        "#x = layers.Dropout(0.2)(x)                  \n",
        "#x = layers.Dense(6,activation='softmax')(x)           \n",
        "\n",
        "# definir o modelo\n",
        "modelinception_v3 = Model(inputs=classifier_v3.input, outputs=output) \n",
        "\n",
        "modelinception_v3.summary()"
      ],
      "execution_count": 33,
      "outputs": [
        {
          "output_type": "stream",
          "name": "stdout",
          "text": [
            "Model: \"model_4\"\n",
            "__________________________________________________________________________________________________\n",
            "Layer (type)                    Output Shape         Param #     Connected to                     \n",
            "==================================================================================================\n",
            "input_5 (InputLayer)            [(None, 75, 75, 3)]  0                                            \n",
            "__________________________________________________________________________________________________\n",
            "conv2d_282 (Conv2D)             (None, 37, 37, 32)   864         input_5[0][0]                    \n",
            "__________________________________________________________________________________________________\n",
            "batch_normalization_282 (BatchN (None, 37, 37, 32)   96          conv2d_282[0][0]                 \n",
            "__________________________________________________________________________________________________\n",
            "activation_282 (Activation)     (None, 37, 37, 32)   0           batch_normalization_282[0][0]    \n",
            "__________________________________________________________________________________________________\n",
            "conv2d_283 (Conv2D)             (None, 35, 35, 32)   9216        activation_282[0][0]             \n",
            "__________________________________________________________________________________________________\n",
            "batch_normalization_283 (BatchN (None, 35, 35, 32)   96          conv2d_283[0][0]                 \n",
            "__________________________________________________________________________________________________\n",
            "activation_283 (Activation)     (None, 35, 35, 32)   0           batch_normalization_283[0][0]    \n",
            "__________________________________________________________________________________________________\n",
            "conv2d_284 (Conv2D)             (None, 35, 35, 64)   18432       activation_283[0][0]             \n",
            "__________________________________________________________________________________________________\n",
            "batch_normalization_284 (BatchN (None, 35, 35, 64)   192         conv2d_284[0][0]                 \n",
            "__________________________________________________________________________________________________\n",
            "activation_284 (Activation)     (None, 35, 35, 64)   0           batch_normalization_284[0][0]    \n",
            "__________________________________________________________________________________________________\n",
            "max_pooling2d_12 (MaxPooling2D) (None, 17, 17, 64)   0           activation_284[0][0]             \n",
            "__________________________________________________________________________________________________\n",
            "conv2d_285 (Conv2D)             (None, 17, 17, 80)   5120        max_pooling2d_12[0][0]           \n",
            "__________________________________________________________________________________________________\n",
            "batch_normalization_285 (BatchN (None, 17, 17, 80)   240         conv2d_285[0][0]                 \n",
            "__________________________________________________________________________________________________\n",
            "activation_285 (Activation)     (None, 17, 17, 80)   0           batch_normalization_285[0][0]    \n",
            "__________________________________________________________________________________________________\n",
            "conv2d_286 (Conv2D)             (None, 15, 15, 192)  138240      activation_285[0][0]             \n",
            "__________________________________________________________________________________________________\n",
            "batch_normalization_286 (BatchN (None, 15, 15, 192)  576         conv2d_286[0][0]                 \n",
            "__________________________________________________________________________________________________\n",
            "activation_286 (Activation)     (None, 15, 15, 192)  0           batch_normalization_286[0][0]    \n",
            "__________________________________________________________________________________________________\n",
            "max_pooling2d_13 (MaxPooling2D) (None, 7, 7, 192)    0           activation_286[0][0]             \n",
            "__________________________________________________________________________________________________\n",
            "conv2d_290 (Conv2D)             (None, 7, 7, 64)     12288       max_pooling2d_13[0][0]           \n",
            "__________________________________________________________________________________________________\n",
            "batch_normalization_290 (BatchN (None, 7, 7, 64)     192         conv2d_290[0][0]                 \n",
            "__________________________________________________________________________________________________\n",
            "activation_290 (Activation)     (None, 7, 7, 64)     0           batch_normalization_290[0][0]    \n",
            "__________________________________________________________________________________________________\n",
            "conv2d_288 (Conv2D)             (None, 7, 7, 48)     9216        max_pooling2d_13[0][0]           \n",
            "__________________________________________________________________________________________________\n",
            "conv2d_291 (Conv2D)             (None, 7, 7, 96)     55296       activation_290[0][0]             \n",
            "__________________________________________________________________________________________________\n",
            "batch_normalization_288 (BatchN (None, 7, 7, 48)     144         conv2d_288[0][0]                 \n",
            "__________________________________________________________________________________________________\n",
            "batch_normalization_291 (BatchN (None, 7, 7, 96)     288         conv2d_291[0][0]                 \n",
            "__________________________________________________________________________________________________\n",
            "activation_288 (Activation)     (None, 7, 7, 48)     0           batch_normalization_288[0][0]    \n",
            "__________________________________________________________________________________________________\n",
            "activation_291 (Activation)     (None, 7, 7, 96)     0           batch_normalization_291[0][0]    \n",
            "__________________________________________________________________________________________________\n",
            "average_pooling2d_27 (AveragePo (None, 7, 7, 192)    0           max_pooling2d_13[0][0]           \n",
            "__________________________________________________________________________________________________\n",
            "conv2d_287 (Conv2D)             (None, 7, 7, 64)     12288       max_pooling2d_13[0][0]           \n",
            "__________________________________________________________________________________________________\n",
            "conv2d_289 (Conv2D)             (None, 7, 7, 64)     76800       activation_288[0][0]             \n",
            "__________________________________________________________________________________________________\n",
            "conv2d_292 (Conv2D)             (None, 7, 7, 96)     82944       activation_291[0][0]             \n",
            "__________________________________________________________________________________________________\n",
            "conv2d_293 (Conv2D)             (None, 7, 7, 32)     6144        average_pooling2d_27[0][0]       \n",
            "__________________________________________________________________________________________________\n",
            "batch_normalization_287 (BatchN (None, 7, 7, 64)     192         conv2d_287[0][0]                 \n",
            "__________________________________________________________________________________________________\n",
            "batch_normalization_289 (BatchN (None, 7, 7, 64)     192         conv2d_289[0][0]                 \n",
            "__________________________________________________________________________________________________\n",
            "batch_normalization_292 (BatchN (None, 7, 7, 96)     288         conv2d_292[0][0]                 \n",
            "__________________________________________________________________________________________________\n",
            "batch_normalization_293 (BatchN (None, 7, 7, 32)     96          conv2d_293[0][0]                 \n",
            "__________________________________________________________________________________________________\n",
            "activation_287 (Activation)     (None, 7, 7, 64)     0           batch_normalization_287[0][0]    \n",
            "__________________________________________________________________________________________________\n",
            "activation_289 (Activation)     (None, 7, 7, 64)     0           batch_normalization_289[0][0]    \n",
            "__________________________________________________________________________________________________\n",
            "activation_292 (Activation)     (None, 7, 7, 96)     0           batch_normalization_292[0][0]    \n",
            "__________________________________________________________________________________________________\n",
            "activation_293 (Activation)     (None, 7, 7, 32)     0           batch_normalization_293[0][0]    \n",
            "__________________________________________________________________________________________________\n",
            "mixed0 (Concatenate)            (None, 7, 7, 256)    0           activation_287[0][0]             \n",
            "                                                                 activation_289[0][0]             \n",
            "                                                                 activation_292[0][0]             \n",
            "                                                                 activation_293[0][0]             \n",
            "__________________________________________________________________________________________________\n",
            "conv2d_297 (Conv2D)             (None, 7, 7, 64)     16384       mixed0[0][0]                     \n",
            "__________________________________________________________________________________________________\n",
            "batch_normalization_297 (BatchN (None, 7, 7, 64)     192         conv2d_297[0][0]                 \n",
            "__________________________________________________________________________________________________\n",
            "activation_297 (Activation)     (None, 7, 7, 64)     0           batch_normalization_297[0][0]    \n",
            "__________________________________________________________________________________________________\n",
            "conv2d_295 (Conv2D)             (None, 7, 7, 48)     12288       mixed0[0][0]                     \n",
            "__________________________________________________________________________________________________\n",
            "conv2d_298 (Conv2D)             (None, 7, 7, 96)     55296       activation_297[0][0]             \n",
            "__________________________________________________________________________________________________\n",
            "batch_normalization_295 (BatchN (None, 7, 7, 48)     144         conv2d_295[0][0]                 \n",
            "__________________________________________________________________________________________________\n",
            "batch_normalization_298 (BatchN (None, 7, 7, 96)     288         conv2d_298[0][0]                 \n",
            "__________________________________________________________________________________________________\n",
            "activation_295 (Activation)     (None, 7, 7, 48)     0           batch_normalization_295[0][0]    \n",
            "__________________________________________________________________________________________________\n",
            "activation_298 (Activation)     (None, 7, 7, 96)     0           batch_normalization_298[0][0]    \n",
            "__________________________________________________________________________________________________\n",
            "average_pooling2d_28 (AveragePo (None, 7, 7, 256)    0           mixed0[0][0]                     \n",
            "__________________________________________________________________________________________________\n",
            "conv2d_294 (Conv2D)             (None, 7, 7, 64)     16384       mixed0[0][0]                     \n",
            "__________________________________________________________________________________________________\n",
            "conv2d_296 (Conv2D)             (None, 7, 7, 64)     76800       activation_295[0][0]             \n",
            "__________________________________________________________________________________________________\n",
            "conv2d_299 (Conv2D)             (None, 7, 7, 96)     82944       activation_298[0][0]             \n",
            "__________________________________________________________________________________________________\n",
            "conv2d_300 (Conv2D)             (None, 7, 7, 64)     16384       average_pooling2d_28[0][0]       \n",
            "__________________________________________________________________________________________________\n",
            "batch_normalization_294 (BatchN (None, 7, 7, 64)     192         conv2d_294[0][0]                 \n",
            "__________________________________________________________________________________________________\n",
            "batch_normalization_296 (BatchN (None, 7, 7, 64)     192         conv2d_296[0][0]                 \n",
            "__________________________________________________________________________________________________\n",
            "batch_normalization_299 (BatchN (None, 7, 7, 96)     288         conv2d_299[0][0]                 \n",
            "__________________________________________________________________________________________________\n",
            "batch_normalization_300 (BatchN (None, 7, 7, 64)     192         conv2d_300[0][0]                 \n",
            "__________________________________________________________________________________________________\n",
            "activation_294 (Activation)     (None, 7, 7, 64)     0           batch_normalization_294[0][0]    \n",
            "__________________________________________________________________________________________________\n",
            "activation_296 (Activation)     (None, 7, 7, 64)     0           batch_normalization_296[0][0]    \n",
            "__________________________________________________________________________________________________\n",
            "activation_299 (Activation)     (None, 7, 7, 96)     0           batch_normalization_299[0][0]    \n",
            "__________________________________________________________________________________________________\n",
            "activation_300 (Activation)     (None, 7, 7, 64)     0           batch_normalization_300[0][0]    \n",
            "__________________________________________________________________________________________________\n",
            "mixed1 (Concatenate)            (None, 7, 7, 288)    0           activation_294[0][0]             \n",
            "                                                                 activation_296[0][0]             \n",
            "                                                                 activation_299[0][0]             \n",
            "                                                                 activation_300[0][0]             \n",
            "__________________________________________________________________________________________________\n",
            "conv2d_304 (Conv2D)             (None, 7, 7, 64)     18432       mixed1[0][0]                     \n",
            "__________________________________________________________________________________________________\n",
            "batch_normalization_304 (BatchN (None, 7, 7, 64)     192         conv2d_304[0][0]                 \n",
            "__________________________________________________________________________________________________\n",
            "activation_304 (Activation)     (None, 7, 7, 64)     0           batch_normalization_304[0][0]    \n",
            "__________________________________________________________________________________________________\n",
            "conv2d_302 (Conv2D)             (None, 7, 7, 48)     13824       mixed1[0][0]                     \n",
            "__________________________________________________________________________________________________\n",
            "conv2d_305 (Conv2D)             (None, 7, 7, 96)     55296       activation_304[0][0]             \n",
            "__________________________________________________________________________________________________\n",
            "batch_normalization_302 (BatchN (None, 7, 7, 48)     144         conv2d_302[0][0]                 \n",
            "__________________________________________________________________________________________________\n",
            "batch_normalization_305 (BatchN (None, 7, 7, 96)     288         conv2d_305[0][0]                 \n",
            "__________________________________________________________________________________________________\n",
            "activation_302 (Activation)     (None, 7, 7, 48)     0           batch_normalization_302[0][0]    \n",
            "__________________________________________________________________________________________________\n",
            "activation_305 (Activation)     (None, 7, 7, 96)     0           batch_normalization_305[0][0]    \n",
            "__________________________________________________________________________________________________\n",
            "average_pooling2d_29 (AveragePo (None, 7, 7, 288)    0           mixed1[0][0]                     \n",
            "__________________________________________________________________________________________________\n",
            "conv2d_301 (Conv2D)             (None, 7, 7, 64)     18432       mixed1[0][0]                     \n",
            "__________________________________________________________________________________________________\n",
            "conv2d_303 (Conv2D)             (None, 7, 7, 64)     76800       activation_302[0][0]             \n",
            "__________________________________________________________________________________________________\n",
            "conv2d_306 (Conv2D)             (None, 7, 7, 96)     82944       activation_305[0][0]             \n",
            "__________________________________________________________________________________________________\n",
            "conv2d_307 (Conv2D)             (None, 7, 7, 64)     18432       average_pooling2d_29[0][0]       \n",
            "__________________________________________________________________________________________________\n",
            "batch_normalization_301 (BatchN (None, 7, 7, 64)     192         conv2d_301[0][0]                 \n",
            "__________________________________________________________________________________________________\n",
            "batch_normalization_303 (BatchN (None, 7, 7, 64)     192         conv2d_303[0][0]                 \n",
            "__________________________________________________________________________________________________\n",
            "batch_normalization_306 (BatchN (None, 7, 7, 96)     288         conv2d_306[0][0]                 \n",
            "__________________________________________________________________________________________________\n",
            "batch_normalization_307 (BatchN (None, 7, 7, 64)     192         conv2d_307[0][0]                 \n",
            "__________________________________________________________________________________________________\n",
            "activation_301 (Activation)     (None, 7, 7, 64)     0           batch_normalization_301[0][0]    \n",
            "__________________________________________________________________________________________________\n",
            "activation_303 (Activation)     (None, 7, 7, 64)     0           batch_normalization_303[0][0]    \n",
            "__________________________________________________________________________________________________\n",
            "activation_306 (Activation)     (None, 7, 7, 96)     0           batch_normalization_306[0][0]    \n",
            "__________________________________________________________________________________________________\n",
            "activation_307 (Activation)     (None, 7, 7, 64)     0           batch_normalization_307[0][0]    \n",
            "__________________________________________________________________________________________________\n",
            "mixed2 (Concatenate)            (None, 7, 7, 288)    0           activation_301[0][0]             \n",
            "                                                                 activation_303[0][0]             \n",
            "                                                                 activation_306[0][0]             \n",
            "                                                                 activation_307[0][0]             \n",
            "__________________________________________________________________________________________________\n",
            "conv2d_309 (Conv2D)             (None, 7, 7, 64)     18432       mixed2[0][0]                     \n",
            "__________________________________________________________________________________________________\n",
            "batch_normalization_309 (BatchN (None, 7, 7, 64)     192         conv2d_309[0][0]                 \n",
            "__________________________________________________________________________________________________\n",
            "activation_309 (Activation)     (None, 7, 7, 64)     0           batch_normalization_309[0][0]    \n",
            "__________________________________________________________________________________________________\n",
            "conv2d_310 (Conv2D)             (None, 7, 7, 96)     55296       activation_309[0][0]             \n",
            "__________________________________________________________________________________________________\n",
            "batch_normalization_310 (BatchN (None, 7, 7, 96)     288         conv2d_310[0][0]                 \n",
            "__________________________________________________________________________________________________\n",
            "activation_310 (Activation)     (None, 7, 7, 96)     0           batch_normalization_310[0][0]    \n",
            "__________________________________________________________________________________________________\n",
            "conv2d_308 (Conv2D)             (None, 3, 3, 384)    995328      mixed2[0][0]                     \n",
            "__________________________________________________________________________________________________\n",
            "conv2d_311 (Conv2D)             (None, 3, 3, 96)     82944       activation_310[0][0]             \n",
            "__________________________________________________________________________________________________\n",
            "batch_normalization_308 (BatchN (None, 3, 3, 384)    1152        conv2d_308[0][0]                 \n",
            "__________________________________________________________________________________________________\n",
            "batch_normalization_311 (BatchN (None, 3, 3, 96)     288         conv2d_311[0][0]                 \n",
            "__________________________________________________________________________________________________\n",
            "activation_308 (Activation)     (None, 3, 3, 384)    0           batch_normalization_308[0][0]    \n",
            "__________________________________________________________________________________________________\n",
            "activation_311 (Activation)     (None, 3, 3, 96)     0           batch_normalization_311[0][0]    \n",
            "__________________________________________________________________________________________________\n",
            "max_pooling2d_14 (MaxPooling2D) (None, 3, 3, 288)    0           mixed2[0][0]                     \n",
            "__________________________________________________________________________________________________\n",
            "mixed3 (Concatenate)            (None, 3, 3, 768)    0           activation_308[0][0]             \n",
            "                                                                 activation_311[0][0]             \n",
            "                                                                 max_pooling2d_14[0][0]           \n",
            "__________________________________________________________________________________________________\n",
            "conv2d_316 (Conv2D)             (None, 3, 3, 128)    98304       mixed3[0][0]                     \n",
            "__________________________________________________________________________________________________\n",
            "batch_normalization_316 (BatchN (None, 3, 3, 128)    384         conv2d_316[0][0]                 \n",
            "__________________________________________________________________________________________________\n",
            "activation_316 (Activation)     (None, 3, 3, 128)    0           batch_normalization_316[0][0]    \n",
            "__________________________________________________________________________________________________\n",
            "conv2d_317 (Conv2D)             (None, 3, 3, 128)    114688      activation_316[0][0]             \n",
            "__________________________________________________________________________________________________\n",
            "batch_normalization_317 (BatchN (None, 3, 3, 128)    384         conv2d_317[0][0]                 \n",
            "__________________________________________________________________________________________________\n",
            "activation_317 (Activation)     (None, 3, 3, 128)    0           batch_normalization_317[0][0]    \n",
            "__________________________________________________________________________________________________\n",
            "conv2d_313 (Conv2D)             (None, 3, 3, 128)    98304       mixed3[0][0]                     \n",
            "__________________________________________________________________________________________________\n",
            "conv2d_318 (Conv2D)             (None, 3, 3, 128)    114688      activation_317[0][0]             \n",
            "__________________________________________________________________________________________________\n",
            "batch_normalization_313 (BatchN (None, 3, 3, 128)    384         conv2d_313[0][0]                 \n",
            "__________________________________________________________________________________________________\n",
            "batch_normalization_318 (BatchN (None, 3, 3, 128)    384         conv2d_318[0][0]                 \n",
            "__________________________________________________________________________________________________\n",
            "activation_313 (Activation)     (None, 3, 3, 128)    0           batch_normalization_313[0][0]    \n",
            "__________________________________________________________________________________________________\n",
            "activation_318 (Activation)     (None, 3, 3, 128)    0           batch_normalization_318[0][0]    \n",
            "__________________________________________________________________________________________________\n",
            "conv2d_314 (Conv2D)             (None, 3, 3, 128)    114688      activation_313[0][0]             \n",
            "__________________________________________________________________________________________________\n",
            "conv2d_319 (Conv2D)             (None, 3, 3, 128)    114688      activation_318[0][0]             \n",
            "__________________________________________________________________________________________________\n",
            "batch_normalization_314 (BatchN (None, 3, 3, 128)    384         conv2d_314[0][0]                 \n",
            "__________________________________________________________________________________________________\n",
            "batch_normalization_319 (BatchN (None, 3, 3, 128)    384         conv2d_319[0][0]                 \n",
            "__________________________________________________________________________________________________\n",
            "activation_314 (Activation)     (None, 3, 3, 128)    0           batch_normalization_314[0][0]    \n",
            "__________________________________________________________________________________________________\n",
            "activation_319 (Activation)     (None, 3, 3, 128)    0           batch_normalization_319[0][0]    \n",
            "__________________________________________________________________________________________________\n",
            "average_pooling2d_30 (AveragePo (None, 3, 3, 768)    0           mixed3[0][0]                     \n",
            "__________________________________________________________________________________________________\n",
            "conv2d_312 (Conv2D)             (None, 3, 3, 192)    147456      mixed3[0][0]                     \n",
            "__________________________________________________________________________________________________\n",
            "conv2d_315 (Conv2D)             (None, 3, 3, 192)    172032      activation_314[0][0]             \n",
            "__________________________________________________________________________________________________\n",
            "conv2d_320 (Conv2D)             (None, 3, 3, 192)    172032      activation_319[0][0]             \n",
            "__________________________________________________________________________________________________\n",
            "conv2d_321 (Conv2D)             (None, 3, 3, 192)    147456      average_pooling2d_30[0][0]       \n",
            "__________________________________________________________________________________________________\n",
            "batch_normalization_312 (BatchN (None, 3, 3, 192)    576         conv2d_312[0][0]                 \n",
            "__________________________________________________________________________________________________\n",
            "batch_normalization_315 (BatchN (None, 3, 3, 192)    576         conv2d_315[0][0]                 \n",
            "__________________________________________________________________________________________________\n",
            "batch_normalization_320 (BatchN (None, 3, 3, 192)    576         conv2d_320[0][0]                 \n",
            "__________________________________________________________________________________________________\n",
            "batch_normalization_321 (BatchN (None, 3, 3, 192)    576         conv2d_321[0][0]                 \n",
            "__________________________________________________________________________________________________\n",
            "activation_312 (Activation)     (None, 3, 3, 192)    0           batch_normalization_312[0][0]    \n",
            "__________________________________________________________________________________________________\n",
            "activation_315 (Activation)     (None, 3, 3, 192)    0           batch_normalization_315[0][0]    \n",
            "__________________________________________________________________________________________________\n",
            "activation_320 (Activation)     (None, 3, 3, 192)    0           batch_normalization_320[0][0]    \n",
            "__________________________________________________________________________________________________\n",
            "activation_321 (Activation)     (None, 3, 3, 192)    0           batch_normalization_321[0][0]    \n",
            "__________________________________________________________________________________________________\n",
            "mixed4 (Concatenate)            (None, 3, 3, 768)    0           activation_312[0][0]             \n",
            "                                                                 activation_315[0][0]             \n",
            "                                                                 activation_320[0][0]             \n",
            "                                                                 activation_321[0][0]             \n",
            "__________________________________________________________________________________________________\n",
            "conv2d_326 (Conv2D)             (None, 3, 3, 160)    122880      mixed4[0][0]                     \n",
            "__________________________________________________________________________________________________\n",
            "batch_normalization_326 (BatchN (None, 3, 3, 160)    480         conv2d_326[0][0]                 \n",
            "__________________________________________________________________________________________________\n",
            "activation_326 (Activation)     (None, 3, 3, 160)    0           batch_normalization_326[0][0]    \n",
            "__________________________________________________________________________________________________\n",
            "conv2d_327 (Conv2D)             (None, 3, 3, 160)    179200      activation_326[0][0]             \n",
            "__________________________________________________________________________________________________\n",
            "batch_normalization_327 (BatchN (None, 3, 3, 160)    480         conv2d_327[0][0]                 \n",
            "__________________________________________________________________________________________________\n",
            "activation_327 (Activation)     (None, 3, 3, 160)    0           batch_normalization_327[0][0]    \n",
            "__________________________________________________________________________________________________\n",
            "conv2d_323 (Conv2D)             (None, 3, 3, 160)    122880      mixed4[0][0]                     \n",
            "__________________________________________________________________________________________________\n",
            "conv2d_328 (Conv2D)             (None, 3, 3, 160)    179200      activation_327[0][0]             \n",
            "__________________________________________________________________________________________________\n",
            "batch_normalization_323 (BatchN (None, 3, 3, 160)    480         conv2d_323[0][0]                 \n",
            "__________________________________________________________________________________________________\n",
            "batch_normalization_328 (BatchN (None, 3, 3, 160)    480         conv2d_328[0][0]                 \n",
            "__________________________________________________________________________________________________\n",
            "activation_323 (Activation)     (None, 3, 3, 160)    0           batch_normalization_323[0][0]    \n",
            "__________________________________________________________________________________________________\n",
            "activation_328 (Activation)     (None, 3, 3, 160)    0           batch_normalization_328[0][0]    \n",
            "__________________________________________________________________________________________________\n",
            "conv2d_324 (Conv2D)             (None, 3, 3, 160)    179200      activation_323[0][0]             \n",
            "__________________________________________________________________________________________________\n",
            "conv2d_329 (Conv2D)             (None, 3, 3, 160)    179200      activation_328[0][0]             \n",
            "__________________________________________________________________________________________________\n",
            "batch_normalization_324 (BatchN (None, 3, 3, 160)    480         conv2d_324[0][0]                 \n",
            "__________________________________________________________________________________________________\n",
            "batch_normalization_329 (BatchN (None, 3, 3, 160)    480         conv2d_329[0][0]                 \n",
            "__________________________________________________________________________________________________\n",
            "activation_324 (Activation)     (None, 3, 3, 160)    0           batch_normalization_324[0][0]    \n",
            "__________________________________________________________________________________________________\n",
            "activation_329 (Activation)     (None, 3, 3, 160)    0           batch_normalization_329[0][0]    \n",
            "__________________________________________________________________________________________________\n",
            "average_pooling2d_31 (AveragePo (None, 3, 3, 768)    0           mixed4[0][0]                     \n",
            "__________________________________________________________________________________________________\n",
            "conv2d_322 (Conv2D)             (None, 3, 3, 192)    147456      mixed4[0][0]                     \n",
            "__________________________________________________________________________________________________\n",
            "conv2d_325 (Conv2D)             (None, 3, 3, 192)    215040      activation_324[0][0]             \n",
            "__________________________________________________________________________________________________\n",
            "conv2d_330 (Conv2D)             (None, 3, 3, 192)    215040      activation_329[0][0]             \n",
            "__________________________________________________________________________________________________\n",
            "conv2d_331 (Conv2D)             (None, 3, 3, 192)    147456      average_pooling2d_31[0][0]       \n",
            "__________________________________________________________________________________________________\n",
            "batch_normalization_322 (BatchN (None, 3, 3, 192)    576         conv2d_322[0][0]                 \n",
            "__________________________________________________________________________________________________\n",
            "batch_normalization_325 (BatchN (None, 3, 3, 192)    576         conv2d_325[0][0]                 \n",
            "__________________________________________________________________________________________________\n",
            "batch_normalization_330 (BatchN (None, 3, 3, 192)    576         conv2d_330[0][0]                 \n",
            "__________________________________________________________________________________________________\n",
            "batch_normalization_331 (BatchN (None, 3, 3, 192)    576         conv2d_331[0][0]                 \n",
            "__________________________________________________________________________________________________\n",
            "activation_322 (Activation)     (None, 3, 3, 192)    0           batch_normalization_322[0][0]    \n",
            "__________________________________________________________________________________________________\n",
            "activation_325 (Activation)     (None, 3, 3, 192)    0           batch_normalization_325[0][0]    \n",
            "__________________________________________________________________________________________________\n",
            "activation_330 (Activation)     (None, 3, 3, 192)    0           batch_normalization_330[0][0]    \n",
            "__________________________________________________________________________________________________\n",
            "activation_331 (Activation)     (None, 3, 3, 192)    0           batch_normalization_331[0][0]    \n",
            "__________________________________________________________________________________________________\n",
            "mixed5 (Concatenate)            (None, 3, 3, 768)    0           activation_322[0][0]             \n",
            "                                                                 activation_325[0][0]             \n",
            "                                                                 activation_330[0][0]             \n",
            "                                                                 activation_331[0][0]             \n",
            "__________________________________________________________________________________________________\n",
            "conv2d_336 (Conv2D)             (None, 3, 3, 160)    122880      mixed5[0][0]                     \n",
            "__________________________________________________________________________________________________\n",
            "batch_normalization_336 (BatchN (None, 3, 3, 160)    480         conv2d_336[0][0]                 \n",
            "__________________________________________________________________________________________________\n",
            "activation_336 (Activation)     (None, 3, 3, 160)    0           batch_normalization_336[0][0]    \n",
            "__________________________________________________________________________________________________\n",
            "conv2d_337 (Conv2D)             (None, 3, 3, 160)    179200      activation_336[0][0]             \n",
            "__________________________________________________________________________________________________\n",
            "batch_normalization_337 (BatchN (None, 3, 3, 160)    480         conv2d_337[0][0]                 \n",
            "__________________________________________________________________________________________________\n",
            "activation_337 (Activation)     (None, 3, 3, 160)    0           batch_normalization_337[0][0]    \n",
            "__________________________________________________________________________________________________\n",
            "conv2d_333 (Conv2D)             (None, 3, 3, 160)    122880      mixed5[0][0]                     \n",
            "__________________________________________________________________________________________________\n",
            "conv2d_338 (Conv2D)             (None, 3, 3, 160)    179200      activation_337[0][0]             \n",
            "__________________________________________________________________________________________________\n",
            "batch_normalization_333 (BatchN (None, 3, 3, 160)    480         conv2d_333[0][0]                 \n",
            "__________________________________________________________________________________________________\n",
            "batch_normalization_338 (BatchN (None, 3, 3, 160)    480         conv2d_338[0][0]                 \n",
            "__________________________________________________________________________________________________\n",
            "activation_333 (Activation)     (None, 3, 3, 160)    0           batch_normalization_333[0][0]    \n",
            "__________________________________________________________________________________________________\n",
            "activation_338 (Activation)     (None, 3, 3, 160)    0           batch_normalization_338[0][0]    \n",
            "__________________________________________________________________________________________________\n",
            "conv2d_334 (Conv2D)             (None, 3, 3, 160)    179200      activation_333[0][0]             \n",
            "__________________________________________________________________________________________________\n",
            "conv2d_339 (Conv2D)             (None, 3, 3, 160)    179200      activation_338[0][0]             \n",
            "__________________________________________________________________________________________________\n",
            "batch_normalization_334 (BatchN (None, 3, 3, 160)    480         conv2d_334[0][0]                 \n",
            "__________________________________________________________________________________________________\n",
            "batch_normalization_339 (BatchN (None, 3, 3, 160)    480         conv2d_339[0][0]                 \n",
            "__________________________________________________________________________________________________\n",
            "activation_334 (Activation)     (None, 3, 3, 160)    0           batch_normalization_334[0][0]    \n",
            "__________________________________________________________________________________________________\n",
            "activation_339 (Activation)     (None, 3, 3, 160)    0           batch_normalization_339[0][0]    \n",
            "__________________________________________________________________________________________________\n",
            "average_pooling2d_32 (AveragePo (None, 3, 3, 768)    0           mixed5[0][0]                     \n",
            "__________________________________________________________________________________________________\n",
            "conv2d_332 (Conv2D)             (None, 3, 3, 192)    147456      mixed5[0][0]                     \n",
            "__________________________________________________________________________________________________\n",
            "conv2d_335 (Conv2D)             (None, 3, 3, 192)    215040      activation_334[0][0]             \n",
            "__________________________________________________________________________________________________\n",
            "conv2d_340 (Conv2D)             (None, 3, 3, 192)    215040      activation_339[0][0]             \n",
            "__________________________________________________________________________________________________\n",
            "conv2d_341 (Conv2D)             (None, 3, 3, 192)    147456      average_pooling2d_32[0][0]       \n",
            "__________________________________________________________________________________________________\n",
            "batch_normalization_332 (BatchN (None, 3, 3, 192)    576         conv2d_332[0][0]                 \n",
            "__________________________________________________________________________________________________\n",
            "batch_normalization_335 (BatchN (None, 3, 3, 192)    576         conv2d_335[0][0]                 \n",
            "__________________________________________________________________________________________________\n",
            "batch_normalization_340 (BatchN (None, 3, 3, 192)    576         conv2d_340[0][0]                 \n",
            "__________________________________________________________________________________________________\n",
            "batch_normalization_341 (BatchN (None, 3, 3, 192)    576         conv2d_341[0][0]                 \n",
            "__________________________________________________________________________________________________\n",
            "activation_332 (Activation)     (None, 3, 3, 192)    0           batch_normalization_332[0][0]    \n",
            "__________________________________________________________________________________________________\n",
            "activation_335 (Activation)     (None, 3, 3, 192)    0           batch_normalization_335[0][0]    \n",
            "__________________________________________________________________________________________________\n",
            "activation_340 (Activation)     (None, 3, 3, 192)    0           batch_normalization_340[0][0]    \n",
            "__________________________________________________________________________________________________\n",
            "activation_341 (Activation)     (None, 3, 3, 192)    0           batch_normalization_341[0][0]    \n",
            "__________________________________________________________________________________________________\n",
            "mixed6 (Concatenate)            (None, 3, 3, 768)    0           activation_332[0][0]             \n",
            "                                                                 activation_335[0][0]             \n",
            "                                                                 activation_340[0][0]             \n",
            "                                                                 activation_341[0][0]             \n",
            "__________________________________________________________________________________________________\n",
            "conv2d_346 (Conv2D)             (None, 3, 3, 192)    147456      mixed6[0][0]                     \n",
            "__________________________________________________________________________________________________\n",
            "batch_normalization_346 (BatchN (None, 3, 3, 192)    576         conv2d_346[0][0]                 \n",
            "__________________________________________________________________________________________________\n",
            "activation_346 (Activation)     (None, 3, 3, 192)    0           batch_normalization_346[0][0]    \n",
            "__________________________________________________________________________________________________\n",
            "conv2d_347 (Conv2D)             (None, 3, 3, 192)    258048      activation_346[0][0]             \n",
            "__________________________________________________________________________________________________\n",
            "batch_normalization_347 (BatchN (None, 3, 3, 192)    576         conv2d_347[0][0]                 \n",
            "__________________________________________________________________________________________________\n",
            "activation_347 (Activation)     (None, 3, 3, 192)    0           batch_normalization_347[0][0]    \n",
            "__________________________________________________________________________________________________\n",
            "conv2d_343 (Conv2D)             (None, 3, 3, 192)    147456      mixed6[0][0]                     \n",
            "__________________________________________________________________________________________________\n",
            "conv2d_348 (Conv2D)             (None, 3, 3, 192)    258048      activation_347[0][0]             \n",
            "__________________________________________________________________________________________________\n",
            "batch_normalization_343 (BatchN (None, 3, 3, 192)    576         conv2d_343[0][0]                 \n",
            "__________________________________________________________________________________________________\n",
            "batch_normalization_348 (BatchN (None, 3, 3, 192)    576         conv2d_348[0][0]                 \n",
            "__________________________________________________________________________________________________\n",
            "activation_343 (Activation)     (None, 3, 3, 192)    0           batch_normalization_343[0][0]    \n",
            "__________________________________________________________________________________________________\n",
            "activation_348 (Activation)     (None, 3, 3, 192)    0           batch_normalization_348[0][0]    \n",
            "__________________________________________________________________________________________________\n",
            "conv2d_344 (Conv2D)             (None, 3, 3, 192)    258048      activation_343[0][0]             \n",
            "__________________________________________________________________________________________________\n",
            "conv2d_349 (Conv2D)             (None, 3, 3, 192)    258048      activation_348[0][0]             \n",
            "__________________________________________________________________________________________________\n",
            "batch_normalization_344 (BatchN (None, 3, 3, 192)    576         conv2d_344[0][0]                 \n",
            "__________________________________________________________________________________________________\n",
            "batch_normalization_349 (BatchN (None, 3, 3, 192)    576         conv2d_349[0][0]                 \n",
            "__________________________________________________________________________________________________\n",
            "activation_344 (Activation)     (None, 3, 3, 192)    0           batch_normalization_344[0][0]    \n",
            "__________________________________________________________________________________________________\n",
            "activation_349 (Activation)     (None, 3, 3, 192)    0           batch_normalization_349[0][0]    \n",
            "__________________________________________________________________________________________________\n",
            "average_pooling2d_33 (AveragePo (None, 3, 3, 768)    0           mixed6[0][0]                     \n",
            "__________________________________________________________________________________________________\n",
            "conv2d_342 (Conv2D)             (None, 3, 3, 192)    147456      mixed6[0][0]                     \n",
            "__________________________________________________________________________________________________\n",
            "conv2d_345 (Conv2D)             (None, 3, 3, 192)    258048      activation_344[0][0]             \n",
            "__________________________________________________________________________________________________\n",
            "conv2d_350 (Conv2D)             (None, 3, 3, 192)    258048      activation_349[0][0]             \n",
            "__________________________________________________________________________________________________\n",
            "conv2d_351 (Conv2D)             (None, 3, 3, 192)    147456      average_pooling2d_33[0][0]       \n",
            "__________________________________________________________________________________________________\n",
            "batch_normalization_342 (BatchN (None, 3, 3, 192)    576         conv2d_342[0][0]                 \n",
            "__________________________________________________________________________________________________\n",
            "batch_normalization_345 (BatchN (None, 3, 3, 192)    576         conv2d_345[0][0]                 \n",
            "__________________________________________________________________________________________________\n",
            "batch_normalization_350 (BatchN (None, 3, 3, 192)    576         conv2d_350[0][0]                 \n",
            "__________________________________________________________________________________________________\n",
            "batch_normalization_351 (BatchN (None, 3, 3, 192)    576         conv2d_351[0][0]                 \n",
            "__________________________________________________________________________________________________\n",
            "activation_342 (Activation)     (None, 3, 3, 192)    0           batch_normalization_342[0][0]    \n",
            "__________________________________________________________________________________________________\n",
            "activation_345 (Activation)     (None, 3, 3, 192)    0           batch_normalization_345[0][0]    \n",
            "__________________________________________________________________________________________________\n",
            "activation_350 (Activation)     (None, 3, 3, 192)    0           batch_normalization_350[0][0]    \n",
            "__________________________________________________________________________________________________\n",
            "activation_351 (Activation)     (None, 3, 3, 192)    0           batch_normalization_351[0][0]    \n",
            "__________________________________________________________________________________________________\n",
            "mixed7 (Concatenate)            (None, 3, 3, 768)    0           activation_342[0][0]             \n",
            "                                                                 activation_345[0][0]             \n",
            "                                                                 activation_350[0][0]             \n",
            "                                                                 activation_351[0][0]             \n",
            "__________________________________________________________________________________________________\n",
            "conv2d_354 (Conv2D)             (None, 3, 3, 192)    147456      mixed7[0][0]                     \n",
            "__________________________________________________________________________________________________\n",
            "batch_normalization_354 (BatchN (None, 3, 3, 192)    576         conv2d_354[0][0]                 \n",
            "__________________________________________________________________________________________________\n",
            "activation_354 (Activation)     (None, 3, 3, 192)    0           batch_normalization_354[0][0]    \n",
            "__________________________________________________________________________________________________\n",
            "conv2d_355 (Conv2D)             (None, 3, 3, 192)    258048      activation_354[0][0]             \n",
            "__________________________________________________________________________________________________\n",
            "batch_normalization_355 (BatchN (None, 3, 3, 192)    576         conv2d_355[0][0]                 \n",
            "__________________________________________________________________________________________________\n",
            "activation_355 (Activation)     (None, 3, 3, 192)    0           batch_normalization_355[0][0]    \n",
            "__________________________________________________________________________________________________\n",
            "conv2d_352 (Conv2D)             (None, 3, 3, 192)    147456      mixed7[0][0]                     \n",
            "__________________________________________________________________________________________________\n",
            "conv2d_356 (Conv2D)             (None, 3, 3, 192)    258048      activation_355[0][0]             \n",
            "__________________________________________________________________________________________________\n",
            "batch_normalization_352 (BatchN (None, 3, 3, 192)    576         conv2d_352[0][0]                 \n",
            "__________________________________________________________________________________________________\n",
            "batch_normalization_356 (BatchN (None, 3, 3, 192)    576         conv2d_356[0][0]                 \n",
            "__________________________________________________________________________________________________\n",
            "activation_352 (Activation)     (None, 3, 3, 192)    0           batch_normalization_352[0][0]    \n",
            "__________________________________________________________________________________________________\n",
            "activation_356 (Activation)     (None, 3, 3, 192)    0           batch_normalization_356[0][0]    \n",
            "__________________________________________________________________________________________________\n",
            "conv2d_353 (Conv2D)             (None, 1, 1, 320)    552960      activation_352[0][0]             \n",
            "__________________________________________________________________________________________________\n",
            "conv2d_357 (Conv2D)             (None, 1, 1, 192)    331776      activation_356[0][0]             \n",
            "__________________________________________________________________________________________________\n",
            "batch_normalization_353 (BatchN (None, 1, 1, 320)    960         conv2d_353[0][0]                 \n",
            "__________________________________________________________________________________________________\n",
            "batch_normalization_357 (BatchN (None, 1, 1, 192)    576         conv2d_357[0][0]                 \n",
            "__________________________________________________________________________________________________\n",
            "activation_353 (Activation)     (None, 1, 1, 320)    0           batch_normalization_353[0][0]    \n",
            "__________________________________________________________________________________________________\n",
            "activation_357 (Activation)     (None, 1, 1, 192)    0           batch_normalization_357[0][0]    \n",
            "__________________________________________________________________________________________________\n",
            "max_pooling2d_15 (MaxPooling2D) (None, 1, 1, 768)    0           mixed7[0][0]                     \n",
            "__________________________________________________________________________________________________\n",
            "mixed8 (Concatenate)            (None, 1, 1, 1280)   0           activation_353[0][0]             \n",
            "                                                                 activation_357[0][0]             \n",
            "                                                                 max_pooling2d_15[0][0]           \n",
            "__________________________________________________________________________________________________\n",
            "conv2d_362 (Conv2D)             (None, 1, 1, 448)    573440      mixed8[0][0]                     \n",
            "__________________________________________________________________________________________________\n",
            "batch_normalization_362 (BatchN (None, 1, 1, 448)    1344        conv2d_362[0][0]                 \n",
            "__________________________________________________________________________________________________\n",
            "activation_362 (Activation)     (None, 1, 1, 448)    0           batch_normalization_362[0][0]    \n",
            "__________________________________________________________________________________________________\n",
            "conv2d_359 (Conv2D)             (None, 1, 1, 384)    491520      mixed8[0][0]                     \n",
            "__________________________________________________________________________________________________\n",
            "conv2d_363 (Conv2D)             (None, 1, 1, 384)    1548288     activation_362[0][0]             \n",
            "__________________________________________________________________________________________________\n",
            "batch_normalization_359 (BatchN (None, 1, 1, 384)    1152        conv2d_359[0][0]                 \n",
            "__________________________________________________________________________________________________\n",
            "batch_normalization_363 (BatchN (None, 1, 1, 384)    1152        conv2d_363[0][0]                 \n",
            "__________________________________________________________________________________________________\n",
            "activation_359 (Activation)     (None, 1, 1, 384)    0           batch_normalization_359[0][0]    \n",
            "__________________________________________________________________________________________________\n",
            "activation_363 (Activation)     (None, 1, 1, 384)    0           batch_normalization_363[0][0]    \n",
            "__________________________________________________________________________________________________\n",
            "conv2d_360 (Conv2D)             (None, 1, 1, 384)    442368      activation_359[0][0]             \n",
            "__________________________________________________________________________________________________\n",
            "conv2d_361 (Conv2D)             (None, 1, 1, 384)    442368      activation_359[0][0]             \n",
            "__________________________________________________________________________________________________\n",
            "conv2d_364 (Conv2D)             (None, 1, 1, 384)    442368      activation_363[0][0]             \n",
            "__________________________________________________________________________________________________\n",
            "conv2d_365 (Conv2D)             (None, 1, 1, 384)    442368      activation_363[0][0]             \n",
            "__________________________________________________________________________________________________\n",
            "average_pooling2d_34 (AveragePo (None, 1, 1, 1280)   0           mixed8[0][0]                     \n",
            "__________________________________________________________________________________________________\n",
            "conv2d_358 (Conv2D)             (None, 1, 1, 320)    409600      mixed8[0][0]                     \n",
            "__________________________________________________________________________________________________\n",
            "batch_normalization_360 (BatchN (None, 1, 1, 384)    1152        conv2d_360[0][0]                 \n",
            "__________________________________________________________________________________________________\n",
            "batch_normalization_361 (BatchN (None, 1, 1, 384)    1152        conv2d_361[0][0]                 \n",
            "__________________________________________________________________________________________________\n",
            "batch_normalization_364 (BatchN (None, 1, 1, 384)    1152        conv2d_364[0][0]                 \n",
            "__________________________________________________________________________________________________\n",
            "batch_normalization_365 (BatchN (None, 1, 1, 384)    1152        conv2d_365[0][0]                 \n",
            "__________________________________________________________________________________________________\n",
            "conv2d_366 (Conv2D)             (None, 1, 1, 192)    245760      average_pooling2d_34[0][0]       \n",
            "__________________________________________________________________________________________________\n",
            "batch_normalization_358 (BatchN (None, 1, 1, 320)    960         conv2d_358[0][0]                 \n",
            "__________________________________________________________________________________________________\n",
            "activation_360 (Activation)     (None, 1, 1, 384)    0           batch_normalization_360[0][0]    \n",
            "__________________________________________________________________________________________________\n",
            "activation_361 (Activation)     (None, 1, 1, 384)    0           batch_normalization_361[0][0]    \n",
            "__________________________________________________________________________________________________\n",
            "activation_364 (Activation)     (None, 1, 1, 384)    0           batch_normalization_364[0][0]    \n",
            "__________________________________________________________________________________________________\n",
            "activation_365 (Activation)     (None, 1, 1, 384)    0           batch_normalization_365[0][0]    \n",
            "__________________________________________________________________________________________________\n",
            "batch_normalization_366 (BatchN (None, 1, 1, 192)    576         conv2d_366[0][0]                 \n",
            "__________________________________________________________________________________________________\n",
            "activation_358 (Activation)     (None, 1, 1, 320)    0           batch_normalization_358[0][0]    \n",
            "__________________________________________________________________________________________________\n",
            "mixed9_0 (Concatenate)          (None, 1, 1, 768)    0           activation_360[0][0]             \n",
            "                                                                 activation_361[0][0]             \n",
            "__________________________________________________________________________________________________\n",
            "concatenate_6 (Concatenate)     (None, 1, 1, 768)    0           activation_364[0][0]             \n",
            "                                                                 activation_365[0][0]             \n",
            "__________________________________________________________________________________________________\n",
            "activation_366 (Activation)     (None, 1, 1, 192)    0           batch_normalization_366[0][0]    \n",
            "__________________________________________________________________________________________________\n",
            "mixed9 (Concatenate)            (None, 1, 1, 2048)   0           activation_358[0][0]             \n",
            "                                                                 mixed9_0[0][0]                   \n",
            "                                                                 concatenate_6[0][0]              \n",
            "                                                                 activation_366[0][0]             \n",
            "__________________________________________________________________________________________________\n",
            "conv2d_371 (Conv2D)             (None, 1, 1, 448)    917504      mixed9[0][0]                     \n",
            "__________________________________________________________________________________________________\n",
            "batch_normalization_371 (BatchN (None, 1, 1, 448)    1344        conv2d_371[0][0]                 \n",
            "__________________________________________________________________________________________________\n",
            "activation_371 (Activation)     (None, 1, 1, 448)    0           batch_normalization_371[0][0]    \n",
            "__________________________________________________________________________________________________\n",
            "conv2d_368 (Conv2D)             (None, 1, 1, 384)    786432      mixed9[0][0]                     \n",
            "__________________________________________________________________________________________________\n",
            "conv2d_372 (Conv2D)             (None, 1, 1, 384)    1548288     activation_371[0][0]             \n",
            "__________________________________________________________________________________________________\n",
            "batch_normalization_368 (BatchN (None, 1, 1, 384)    1152        conv2d_368[0][0]                 \n",
            "__________________________________________________________________________________________________\n",
            "batch_normalization_372 (BatchN (None, 1, 1, 384)    1152        conv2d_372[0][0]                 \n",
            "__________________________________________________________________________________________________\n",
            "activation_368 (Activation)     (None, 1, 1, 384)    0           batch_normalization_368[0][0]    \n",
            "__________________________________________________________________________________________________\n",
            "activation_372 (Activation)     (None, 1, 1, 384)    0           batch_normalization_372[0][0]    \n",
            "__________________________________________________________________________________________________\n",
            "conv2d_369 (Conv2D)             (None, 1, 1, 384)    442368      activation_368[0][0]             \n",
            "__________________________________________________________________________________________________\n",
            "conv2d_370 (Conv2D)             (None, 1, 1, 384)    442368      activation_368[0][0]             \n",
            "__________________________________________________________________________________________________\n",
            "conv2d_373 (Conv2D)             (None, 1, 1, 384)    442368      activation_372[0][0]             \n",
            "__________________________________________________________________________________________________\n",
            "conv2d_374 (Conv2D)             (None, 1, 1, 384)    442368      activation_372[0][0]             \n",
            "__________________________________________________________________________________________________\n",
            "average_pooling2d_35 (AveragePo (None, 1, 1, 2048)   0           mixed9[0][0]                     \n",
            "__________________________________________________________________________________________________\n",
            "conv2d_367 (Conv2D)             (None, 1, 1, 320)    655360      mixed9[0][0]                     \n",
            "__________________________________________________________________________________________________\n",
            "batch_normalization_369 (BatchN (None, 1, 1, 384)    1152        conv2d_369[0][0]                 \n",
            "__________________________________________________________________________________________________\n",
            "batch_normalization_370 (BatchN (None, 1, 1, 384)    1152        conv2d_370[0][0]                 \n",
            "__________________________________________________________________________________________________\n",
            "batch_normalization_373 (BatchN (None, 1, 1, 384)    1152        conv2d_373[0][0]                 \n",
            "__________________________________________________________________________________________________\n",
            "batch_normalization_374 (BatchN (None, 1, 1, 384)    1152        conv2d_374[0][0]                 \n",
            "__________________________________________________________________________________________________\n",
            "conv2d_375 (Conv2D)             (None, 1, 1, 192)    393216      average_pooling2d_35[0][0]       \n",
            "__________________________________________________________________________________________________\n",
            "batch_normalization_367 (BatchN (None, 1, 1, 320)    960         conv2d_367[0][0]                 \n",
            "__________________________________________________________________________________________________\n",
            "activation_369 (Activation)     (None, 1, 1, 384)    0           batch_normalization_369[0][0]    \n",
            "__________________________________________________________________________________________________\n",
            "activation_370 (Activation)     (None, 1, 1, 384)    0           batch_normalization_370[0][0]    \n",
            "__________________________________________________________________________________________________\n",
            "activation_373 (Activation)     (None, 1, 1, 384)    0           batch_normalization_373[0][0]    \n",
            "__________________________________________________________________________________________________\n",
            "activation_374 (Activation)     (None, 1, 1, 384)    0           batch_normalization_374[0][0]    \n",
            "__________________________________________________________________________________________________\n",
            "batch_normalization_375 (BatchN (None, 1, 1, 192)    576         conv2d_375[0][0]                 \n",
            "__________________________________________________________________________________________________\n",
            "activation_367 (Activation)     (None, 1, 1, 320)    0           batch_normalization_367[0][0]    \n",
            "__________________________________________________________________________________________________\n",
            "mixed9_1 (Concatenate)          (None, 1, 1, 768)    0           activation_369[0][0]             \n",
            "                                                                 activation_370[0][0]             \n",
            "__________________________________________________________________________________________________\n",
            "concatenate_7 (Concatenate)     (None, 1, 1, 768)    0           activation_373[0][0]             \n",
            "                                                                 activation_374[0][0]             \n",
            "__________________________________________________________________________________________________\n",
            "activation_375 (Activation)     (None, 1, 1, 192)    0           batch_normalization_375[0][0]    \n",
            "__________________________________________________________________________________________________\n",
            "mixed10 (Concatenate)           (None, 1, 1, 2048)   0           activation_367[0][0]             \n",
            "                                                                 mixed9_1[0][0]                   \n",
            "                                                                 concatenate_7[0][0]              \n",
            "                                                                 activation_375[0][0]             \n",
            "__________________________________________________________________________________________________\n",
            "flatten_4 (Flatten)             (None, 2048)         0           mixed10[0][0]                    \n",
            "__________________________________________________________________________________________________\n",
            "dense_8 (Dense)                 (None, 512)          1049088     flatten_4[0][0]                  \n",
            "__________________________________________________________________________________________________\n",
            "dense_9 (Dense)                 (None, 6)            3078        dense_8[0][0]                    \n",
            "==================================================================================================\n",
            "Total params: 22,854,950\n",
            "Trainable params: 22,820,518\n",
            "Non-trainable params: 34,432\n",
            "__________________________________________________________________________________________________\n"
          ]
        }
      ]
    },
    {
      "cell_type": "code",
      "metadata": {
        "id": "rzjfdchS3L-E"
      },
      "source": [
        "modelinception_v3.compile(optimizer = Adam(learning_rate=0.0001), \n",
        "               loss = 'categorical_crossentropy', \n",
        "               metrics =['accuracy'])\n",
        "\n",
        "callbacksinception_v3 = [\n",
        "    tf.keras.callbacks.ReduceLROnPlateau(factor=0.5,\n",
        "                                         patience=4,\n",
        "                                         verbose=0),\n",
        "    tf.keras.callbacks.EarlyStopping(\n",
        "        monitor=\"accuracy\",\n",
        "        patience=12,\n",
        "        restore_best_weights=True,\n",
        "    ),\n",
        "    tf.keras.callbacks.ModelCheckpoint(\n",
        "        filepath='inception_v3_weights_tf_dim_ordering_tf_kernels_notop.h5',\n",
        "        save_best_only=True,\n",
        "        monitor=\"val_accuracy\",\n",
        "    ),\n",
        "\n",
        "]"
      ],
      "execution_count": 34,
      "outputs": []
    },
    {
      "cell_type": "code",
      "metadata": {
        "id": "24TkzR_g6LpN",
        "colab": {
          "base_uri": "https://localhost:8080/",
          "height": 336
        },
        "outputId": "5694d572-09d8-41d1-914d-83381ef09738"
      },
      "source": [
        "epochs=100\n",
        "\n",
        "historyv3 = modelinception_v3(train_generator_inceptionv3,\n",
        "                               #steps_per_epoch = 975/32,\n",
        "                               epochs=epochs,\n",
        "                               callbacks=callbacksinception_v3,\n",
        "                               validation_data=validation_generator_inceptionv3)"
      ],
      "execution_count": 36,
      "outputs": [
        {
          "output_type": "error",
          "ename": "TypeError",
          "evalue": "ignored",
          "traceback": [
            "\u001b[0;31m---------------------------------------------------------------------------\u001b[0m",
            "\u001b[0;31mTypeError\u001b[0m                                 Traceback (most recent call last)",
            "\u001b[0;32m<ipython-input-36-835856a1e0e6>\u001b[0m in \u001b[0;36m<module>\u001b[0;34m()\u001b[0m\n\u001b[1;32m      5\u001b[0m                                \u001b[0mepochs\u001b[0m\u001b[0;34m=\u001b[0m\u001b[0mepochs\u001b[0m\u001b[0;34m,\u001b[0m\u001b[0;34m\u001b[0m\u001b[0;34m\u001b[0m\u001b[0m\n\u001b[1;32m      6\u001b[0m                                \u001b[0mcallbacks\u001b[0m\u001b[0;34m=\u001b[0m\u001b[0mcallbacksinception_v3\u001b[0m\u001b[0;34m,\u001b[0m\u001b[0;34m\u001b[0m\u001b[0;34m\u001b[0m\u001b[0m\n\u001b[0;32m----> 7\u001b[0;31m                                validation_data=validation_generator_inceptionv3)\n\u001b[0m",
            "\u001b[0;32m/usr/local/lib/python3.7/dist-packages/keras/engine/base_layer.py\u001b[0m in \u001b[0;36m__call__\u001b[0;34m(self, *args, **kwargs)\u001b[0m\n\u001b[1;32m   1018\u001b[0m         training=training_mode):\n\u001b[1;32m   1019\u001b[0m \u001b[0;34m\u001b[0m\u001b[0m\n\u001b[0;32m-> 1020\u001b[0;31m       \u001b[0minput_spec\u001b[0m\u001b[0;34m.\u001b[0m\u001b[0massert_input_compatibility\u001b[0m\u001b[0;34m(\u001b[0m\u001b[0mself\u001b[0m\u001b[0;34m.\u001b[0m\u001b[0minput_spec\u001b[0m\u001b[0;34m,\u001b[0m \u001b[0minputs\u001b[0m\u001b[0;34m,\u001b[0m \u001b[0mself\u001b[0m\u001b[0;34m.\u001b[0m\u001b[0mname\u001b[0m\u001b[0;34m)\u001b[0m\u001b[0;34m\u001b[0m\u001b[0;34m\u001b[0m\u001b[0m\n\u001b[0m\u001b[1;32m   1021\u001b[0m       \u001b[0;32mif\u001b[0m \u001b[0meager\u001b[0m\u001b[0;34m:\u001b[0m\u001b[0;34m\u001b[0m\u001b[0;34m\u001b[0m\u001b[0m\n\u001b[1;32m   1022\u001b[0m         \u001b[0mcall_fn\u001b[0m \u001b[0;34m=\u001b[0m \u001b[0mself\u001b[0m\u001b[0;34m.\u001b[0m\u001b[0mcall\u001b[0m\u001b[0;34m\u001b[0m\u001b[0;34m\u001b[0m\u001b[0m\n",
            "\u001b[0;32m/usr/local/lib/python3.7/dist-packages/keras/engine/input_spec.py\u001b[0m in \u001b[0;36massert_input_compatibility\u001b[0;34m(input_spec, inputs, layer_name)\u001b[0m\n\u001b[1;32m    194\u001b[0m     \u001b[0;31m# have a `shape` attribute.\u001b[0m\u001b[0;34m\u001b[0m\u001b[0;34m\u001b[0m\u001b[0;34m\u001b[0m\u001b[0m\n\u001b[1;32m    195\u001b[0m     \u001b[0;32mif\u001b[0m \u001b[0;32mnot\u001b[0m \u001b[0mhasattr\u001b[0m\u001b[0;34m(\u001b[0m\u001b[0mx\u001b[0m\u001b[0;34m,\u001b[0m \u001b[0;34m'shape'\u001b[0m\u001b[0;34m)\u001b[0m\u001b[0;34m:\u001b[0m\u001b[0;34m\u001b[0m\u001b[0;34m\u001b[0m\u001b[0m\n\u001b[0;32m--> 196\u001b[0;31m       \u001b[0;32mraise\u001b[0m \u001b[0mTypeError\u001b[0m\u001b[0;34m(\u001b[0m\u001b[0;34m'Inputs to a layer should be tensors. Got: %s'\u001b[0m \u001b[0;34m%\u001b[0m \u001b[0;34m(\u001b[0m\u001b[0mx\u001b[0m\u001b[0;34m,\u001b[0m\u001b[0;34m)\u001b[0m\u001b[0;34m)\u001b[0m\u001b[0;34m\u001b[0m\u001b[0;34m\u001b[0m\u001b[0m\n\u001b[0m\u001b[1;32m    197\u001b[0m \u001b[0;34m\u001b[0m\u001b[0m\n\u001b[1;32m    198\u001b[0m   \u001b[0;32mif\u001b[0m \u001b[0mlen\u001b[0m\u001b[0;34m(\u001b[0m\u001b[0minputs\u001b[0m\u001b[0;34m)\u001b[0m \u001b[0;34m!=\u001b[0m \u001b[0mlen\u001b[0m\u001b[0;34m(\u001b[0m\u001b[0minput_spec\u001b[0m\u001b[0;34m)\u001b[0m\u001b[0;34m:\u001b[0m\u001b[0;34m\u001b[0m\u001b[0;34m\u001b[0m\u001b[0m\n",
            "\u001b[0;31mTypeError\u001b[0m: Inputs to a layer should be tensors. Got: <keras.preprocessing.image.DataFrameIterator object at 0x7fe588ad32d0>"
          ]
        }
      ]
    },
    {
      "cell_type": "code",
      "metadata": {
        "id": "rN-3XuFt6Ltt"
      },
      "source": [
        "%matplotlib inline\n",
        "import matplotlib.pyplot as plt\n",
        "acc = history.history['accuracy']\n",
        "val_acc = history.history['val_accuracy']\n",
        "loss = history.history['loss']\n",
        "val_loss = history.history['val_loss']\n",
        "\n",
        "epochs = range(len(acc))\n",
        "\n",
        "plt.plot(epochs, acc, 'r', label='Training accuracy')\n",
        "plt.plot(epochs, val_acc, 'b', label='Validation accuracy')\n",
        "plt.title('Training and validation accuracy')\n",
        "plt.legend(loc=0)\n",
        "plt.figure()\n",
        "\n",
        "plt.plot(epochs, loss, 'r', label='Training Loss')\n",
        "plt.plot(epochs, val_loss, 'b', label='Validation Loss')\n",
        "plt.title('Training and validation loss')\n",
        "plt.legend()\n",
        "\n",
        "plt.show()"
      ],
      "execution_count": null,
      "outputs": []
    },
    {
      "cell_type": "code",
      "metadata": {
        "id": "CzqXML0v6LyY"
      },
      "source": [
        "modelinception_v3 = tf.keras.models.load_model(\"inception_v3_weights_tf_dim_ordering_tf_kernels_notop.h5\")\n",
        "\n",
        "test_lossinception_v3, test_accinception_v3= modelinception_v3.evaluate(X_test,y_test)\n",
        "print(\"validation_accuracy: \" + str(test_accvinception_v3))"
      ],
      "execution_count": null,
      "outputs": []
    },
    {
      "cell_type": "markdown",
      "metadata": {
        "id": "DQVvEZ8C8ysP"
      },
      "source": [
        "# **Fim do modelo Inception V3**"
      ]
    },
    {
      "cell_type": "code",
      "metadata": {
        "id": "g6AYQKDTtmlY",
        "colab": {
          "base_uri": "https://localhost:8080/",
          "height": 552
        },
        "outputId": "ca85d70c-7ef5-476d-f623-8f38302e9f00"
      },
      "source": [
        "fig = plt.figure()\n",
        "ax = fig.add_axes([0,0,1,1])\n",
        "acc = [val_acc,val_acvgg16c,val_accInceptionV3,valaccEfficientNetB,valaccEfficientNetB7]\n",
        "model = ['Modelo Criado','VGG16','InceptionV3','EfficientNetB0','EfficientNetB7']\n",
        "ax.bar(model,acc)\n",
        "plt.show()"
      ],
      "execution_count": 280,
      "outputs": [
        {
          "output_type": "error",
          "ename": "NameError",
          "evalue": "ignored",
          "traceback": [
            "\u001b[0;31m---------------------------------------------------------------------------\u001b[0m",
            "\u001b[0;31mNameError\u001b[0m                                 Traceback (most recent call last)",
            "\u001b[0;32m<ipython-input-280-82f0e962605a>\u001b[0m in \u001b[0;36m<module>\u001b[0;34m()\u001b[0m\n\u001b[1;32m      1\u001b[0m \u001b[0mfig\u001b[0m \u001b[0;34m=\u001b[0m \u001b[0mplt\u001b[0m\u001b[0;34m.\u001b[0m\u001b[0mfigure\u001b[0m\u001b[0;34m(\u001b[0m\u001b[0;34m)\u001b[0m\u001b[0;34m\u001b[0m\u001b[0;34m\u001b[0m\u001b[0m\n\u001b[1;32m      2\u001b[0m \u001b[0max\u001b[0m \u001b[0;34m=\u001b[0m \u001b[0mfig\u001b[0m\u001b[0;34m.\u001b[0m\u001b[0madd_axes\u001b[0m\u001b[0;34m(\u001b[0m\u001b[0;34m[\u001b[0m\u001b[0;36m0\u001b[0m\u001b[0;34m,\u001b[0m\u001b[0;36m0\u001b[0m\u001b[0;34m,\u001b[0m\u001b[0;36m1\u001b[0m\u001b[0;34m,\u001b[0m\u001b[0;36m1\u001b[0m\u001b[0;34m]\u001b[0m\u001b[0;34m)\u001b[0m\u001b[0;34m\u001b[0m\u001b[0;34m\u001b[0m\u001b[0m\n\u001b[0;32m----> 3\u001b[0;31m \u001b[0macc\u001b[0m \u001b[0;34m=\u001b[0m \u001b[0;34m[\u001b[0m\u001b[0mval_acc\u001b[0m\u001b[0;34m,\u001b[0m\u001b[0mval_acvgg16c\u001b[0m\u001b[0;34m,\u001b[0m\u001b[0mval_accInceptionV3\u001b[0m\u001b[0;34m,\u001b[0m\u001b[0mvalaccEfficientNetB\u001b[0m\u001b[0;34m,\u001b[0m\u001b[0mvalaccEfficientNetB7\u001b[0m\u001b[0;34m]\u001b[0m\u001b[0;34m\u001b[0m\u001b[0;34m\u001b[0m\u001b[0m\n\u001b[0m\u001b[1;32m      4\u001b[0m \u001b[0mmodel\u001b[0m \u001b[0;34m=\u001b[0m \u001b[0;34m[\u001b[0m\u001b[0;34m'Modelo Criado'\u001b[0m\u001b[0;34m,\u001b[0m\u001b[0;34m'VGG16'\u001b[0m\u001b[0;34m,\u001b[0m\u001b[0;34m'InceptionV3'\u001b[0m\u001b[0;34m,\u001b[0m\u001b[0;34m'EfficientNetB0'\u001b[0m\u001b[0;34m,\u001b[0m\u001b[0;34m'EfficientNetB7'\u001b[0m\u001b[0;34m]\u001b[0m\u001b[0;34m\u001b[0m\u001b[0;34m\u001b[0m\u001b[0m\n\u001b[1;32m      5\u001b[0m \u001b[0max\u001b[0m\u001b[0;34m.\u001b[0m\u001b[0mbar\u001b[0m\u001b[0;34m(\u001b[0m\u001b[0mmodel\u001b[0m\u001b[0;34m,\u001b[0m\u001b[0macc\u001b[0m\u001b[0;34m)\u001b[0m\u001b[0;34m\u001b[0m\u001b[0;34m\u001b[0m\u001b[0m\n",
            "\u001b[0;31mNameError\u001b[0m: name 'val_acvgg16c' is not defined"
          ]
        },
        {
          "output_type": "display_data",
          "data": {
            "image/png": "[encoded data removed]",
            "text/plain": [
              "<Figure size 432x288 with 1 Axes>"
            ]
          },
          "metadata": {
            "needs_background": "light"
          }
        }
      ]
    },
    {
      "cell_type": "markdown",
      "metadata": {
        "id": "7toSzftQcPLH"
      },
      "source": [
        "# **Realizar a Predição para as 6 classes**"
      ]
    },
    {
      "cell_type": "code",
      "metadata": {
        "id": "6fd1COOBcEq-"
      },
      "source": [
        "predictions = model.predict(X_test)\n",
        "print(\"Prediction_accuracy: \" + str(predictions))"
      ],
      "execution_count": null,
      "outputs": []
    },
    {
      "cell_type": "code",
      "metadata": {
        "id": "cQp4hLBD1b2Q"
      },
      "source": [
        "plt.figure()\n",
        "plt.imshow(X_train[0])\n",
        "plt.colorbar()\n",
        "plt.grid(False)\n",
        "plt.show()"
      ],
      "execution_count": null,
      "outputs": []
    },
    {
      "cell_type": "markdown",
      "metadata": {
        "id": "N14GaXQK1x4C"
      },
      "source": [
        "Escalaremos esses valores no intervalo de 0 e 1 antes antes de alimentar o modelo da rede neural. Para fazer isso, dividimos os valores por 255. É importante que o conjunto de treinamento e o conjunto de teste podem ser pré-processados do mesmo modo:"
      ]
    },
    {
      "cell_type": "code",
      "metadata": {
        "id": "jerlMdae10kl"
      },
      "source": [
        "X_train = X_train /255\n",
        "X_test = X_test /255"
      ],
      "execution_count": null,
      "outputs": []
    },
    {
      "cell_type": "code",
      "metadata": {
        "id": "ut4cvpNs2eGz"
      },
      "source": [
        "plt.figure(figsize=(10,10))\n",
        "for i in range(20):\n",
        "    plt.subplot(5,5,i+1)\n",
        "    plt.xticks([])\n",
        "    plt.yticks([])\n",
        "    plt.grid(False)\n",
        "    plt.imshow(X_train[i])\n",
        "    plt.xlabel(label[y_train[i]])\n",
        "plt.show()"
      ],
      "execution_count": null,
      "outputs": []
    },
    {
      "cell_type": "code",
      "metadata": {
        "id": "UW-VloEXue0w"
      },
      "source": [
        "# Codigo do Dr.(o)professor Leonardo Forero\n",
        "\n",
        "def plot_image(i, predictions_array, true_label, img):\n",
        "  predictions_array, true_label, img = predictions_array[i], true_label[i], img[i]\n",
        "  plt.grid(False)\n",
        "  plt.xticks([])\n",
        "  plt.yticks([])\n",
        "\n",
        "  plt.imshow(img, cmap=plt.cm.binary)\n",
        "\n",
        "  predicted_label = np.argmax(predictions_array)\n",
        "  if predicted_label == true_label:\n",
        "    color = 'blue'\n",
        "  else:\n",
        "    color = 'red'\n",
        "\n",
        "  plt.xlabel(\"{} {:2.0f}% ({})\".format(label[predicted_label],\n",
        "                                100*np.max(predictions_array),\n",
        "                                label[true_label]),\n",
        "                                color=color)\n",
        "\n",
        "def plot_value_array(i, predictions_array, true_label):\n",
        "  predictions_array, true_label = predictions_array[i], true_label[i]\n",
        "  plt.grid(False)\n",
        "  plt.xticks([])\n",
        "  plt.yticks([])\n",
        "  thisplot = plt.bar(range(10), predictions_array, color=\"#777777\")\n",
        "  plt.ylim([0, 1])\n",
        "  predicted_label = np.argmax(predictions_array)\n",
        "\n",
        "  thisplot[predicted_label].set_color('red')\n",
        "  thisplot[true_label].set_color('blue')"
      ],
      "execution_count": null,
      "outputs": []
    },
    {
      "cell_type": "code",
      "metadata": {
        "id": "Q1ZVaJCavb1u"
      },
      "source": [
        "i = 0\n",
        "plt.figure(figsize=(6,3))\n",
        "plt.subplot(1,2,1)\n",
        "plot_image(i, predictions, y_test, X_test)\n",
        "plt.subplot(1,2,2)\n",
        "plot_value_array(i, predictions,  y_test)\n",
        "plt.show()"
      ],
      "execution_count": null,
      "outputs": []
    },
    {
      "cell_type": "code",
      "metadata": {
        "id": "pYKNqTvYIy56"
      },
      "source": [
        "predictions[0] # primeira predição"
      ],
      "execution_count": null,
      "outputs": []
    },
    {
      "cell_type": "code",
      "metadata": {
        "id": "aCmbcjolJstx"
      },
      "source": [
        "np.argmax(predictions[0])"
      ],
      "execution_count": null,
      "outputs": []
    },
    {
      "cell_type": "code",
      "metadata": {
        "id": "c81gyqxSpT8o"
      },
      "source": [
        "predictions = np.argmax(predictions)\n",
        "predictions"
      ],
      "execution_count": null,
      "outputs": []
    },
    {
      "cell_type": "code",
      "metadata": {
        "id": "Kaby35OAi4rH"
      },
      "source": [
        "y_test[0]"
      ],
      "execution_count": null,
      "outputs": []
    },
    {
      "cell_type": "code",
      "metadata": {
        "id": "-IwKBohOiOA_"
      },
      "source": [
        "from sklearn.metrics import confusion_matrix\n",
        "confusion_matrix(X_test,str(predictions))"
      ],
      "execution_count": null,
      "outputs": []
    },
    {
      "cell_type": "code",
      "metadata": {
        "id": "qVeK5dZxcTxc"
      },
      "source": [
        "img_pred = cv.imread(\"gneiss/0QTQE.jpg\",0)\n",
        "plt.imshow(img_pred)"
      ],
      "execution_count": null,
      "outputs": []
    },
    {
      "cell_type": "code",
      "metadata": {
        "id": "qsxcgyI9Byar"
      },
      "source": [
        "if img_pred.shape != [28,28]:\n",
        "    img2 = cv.resize(img_pred, (28, 28))\n",
        "    img_pred = img2.reshape(28, 28, -1)\n",
        "else:\n",
        "    img_pred = img_pred.reshape(28, 28, -1)\n",
        "\n",
        "img_pred = ~img_pred\n",
        "img_pred = img_pred.reshape(1, 1, 28, 28).astype('float32')\n",
        "\n",
        "img_pred = img_pred/255.0\n"
      ],
      "execution_count": null,
      "outputs": []
    },
    {
      "cell_type": "code",
      "metadata": {
        "id": "-vpZf-esIRHD"
      },
      "source": [
        "pred = model.predict(img_pred)\n",
        "pred_proba = model.predict_proba(img_pred)\n"
      ],
      "execution_count": null,
      "outputs": []
    },
    {
      "cell_type": "code",
      "metadata": {
        "id": "YHfXQT7RBHGS"
      },
      "source": [
        "pred_proba = \"%.2f%%\" % (pred_proba[0][pred]*100)\n",
        "print(pred[0], \" com confiança de \", pred_proba)"
      ],
      "execution_count": null,
      "outputs": []
    },
    {
      "cell_type": "code",
      "metadata": {
        "id": "ZzAJDvFfA8S0"
      },
      "source": [
        ""
      ],
      "execution_count": null,
      "outputs": []
    }
  ]
}