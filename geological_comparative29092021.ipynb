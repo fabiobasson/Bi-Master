{
  "nbformat": 4,
  "nbformat_minor": 0,
  "metadata": {
    "colab": {
      "name": "geological-image-similarity.ipynb",
      "provenance": [],
      "authorship_tag": "ABX9TyPGJFtldF+BkRM2sCKg2tHR",
      "include_colab_link": true
    },
    "kernelspec": {
      "name": "python3",
      "display_name": "Python 3"
    },
    "language_info": {
      "name": "python"
    },
    "accelerator": "GPU"
  },
  "cells": [
    {
      "cell_type": "markdown",
      "metadata": {
        "id": "view-in-github",
        "colab_type": "text"
      },
      "source": [
        "<a href=\"https://colab.research.google.com/github/fabiobasson/Bi-Master/blob/main/geological_comparative29092021.ipynb\" target=\"_parent\"><img src=\"https://colab.research.google.com/assets/colab-badge.svg\" alt=\"Open In Colab\"/></a>"
      ]
    },
    {
      "cell_type": "markdown",
      "metadata": {
        "id": "ek-dpdgUwrpq"
      },
      "source": [
        "# Importações "
      ]
    },
    {
      "cell_type": "code",
      "metadata": {
        "id": "BhMpCgi7O64x"
      },
      "source": [
        "\n",
        "import warnings\n",
        "warnings.filterwarnings('always')\n",
        "warnings.filterwarnings('ignore')\n",
        "\n",
        "import os\n",
        "import tensorflow as tf\n",
        "from tensorflow.keras import layers\n",
        "from tensorflow.keras import Model\n",
        "from tensorflow.keras.layers import Dense, Dropout\n",
        "\n",
        "from os import getcwd\n",
        "import zipfile\n",
        "import shutil\n",
        "import numpy as np\n",
        "import glob\n",
        "import random\n",
        "import pandas as pd\n",
        "import matplotlib.pyplot as plt\n",
        "from PIL import Image\n",
        "import plotly.express as px\n",
        "import cv2 as cv\n",
        "\n",
        "from tensorflow.keras.optimizers import RMSprop, Adam\n",
        "from tensorflow.keras.applications.vgg16 import VGG16\n",
        "from tensorflow.keras.applications.inception_v3 import InceptionV3\n",
        "from tensorflow.keras.preprocessing.image import ImageDataGenerator\n",
        "\n",
        "from sklearn.metrics import confusion_matrix,accuracy_score\n",
        "from sklearn.model_selection import train_test_split"
      ],
      "execution_count": 1,
      "outputs": []
    },
    {
      "cell_type": "code",
      "metadata": {
        "colab": {
          "base_uri": "https://localhost:8080/"
        },
        "id": "ye09bw6nVWgH",
        "outputId": "ec660213-b1a7-4574-892c-3e808bb3da1c"
      },
      "source": [
        "print(tf.__version__)"
      ],
      "execution_count": 2,
      "outputs": [
        {
          "output_type": "stream",
          "name": "stdout",
          "text": [
            "2.6.0\n"
          ]
        }
      ]
    },
    {
      "cell_type": "code",
      "metadata": {
        "id": "Z6Micr83L4uy"
      },
      "source": [
        "# Instalar Tensorflow\n",
        "#!pip install tensorflow==2.6.0"
      ],
      "execution_count": null,
      "outputs": []
    },
    {
      "cell_type": "code",
      "metadata": {
        "id": "X45KGrRTOp4S",
        "colab": {
          "base_uri": "https://localhost:8080/"
        },
        "outputId": "8746a834-ac19-4687-d6f4-5dddd6b113c4"
      },
      "source": [
        "# Instalar Keras\n",
        "!pip install keras --upgrade"
      ],
      "execution_count": null,
      "outputs": [
        {
          "output_type": "stream",
          "name": "stdout",
          "text": [
            "Requirement already satisfied: keras in /usr/local/lib/python3.7/dist-packages (2.6.0)\n"
          ]
        }
      ]
    },
    {
      "cell_type": "code",
      "metadata": {
        "id": "qB35LCwK1F9Y"
      },
      "source": [
        "# Caso precise, remover os diretorios\n",
        "\n",
        "#!rm -rf geological_similarity andesite gneiss/ marble/ quartzite/ rhyolite/ schist/"
      ],
      "execution_count": null,
      "outputs": []
    },
    {
      "cell_type": "markdown",
      "metadata": {
        "id": "WsBJvou07fbF"
      },
      "source": [
        "# **Coleta de dados do Kaglle**"
      ]
    },
    {
      "cell_type": "code",
      "metadata": {
        "colab": {
          "resources": {
            "http://localhost:8080/nbextensions/google.colab/files.js": {
              "data": "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",
              "ok": true,
              "headers": [
                [
                  "content-type",
                  "application/javascript"
                ]
              ],
              "status": 200,
              "status_text": ""
            }
          },
          "base_uri": "https://localhost:8080/",
          "height": 89
        },
        "id": "qPW1Uceu4EkK",
        "outputId": "3aaf42c3-a163-4536-d906-f80b07ccadf1"
      },
      "source": [
        "from google.colab import files\n",
        "files.upload()"
      ],
      "execution_count": 3,
      "outputs": [
        {
          "output_type": "display_data",
          "data": {
            "text/html": [
              "\n",
              "     <input type=\"file\" id=\"files-c3ad0f9a-1060-46a2-a44c-3e80c43da5f1\" name=\"files[]\" multiple disabled\n",
              "        style=\"border:none\" />\n",
              "     <output id=\"result-c3ad0f9a-1060-46a2-a44c-3e80c43da5f1\">\n",
              "      Upload widget is only available when the cell has been executed in the\n",
              "      current browser session. Please rerun this cell to enable.\n",
              "      </output>\n",
              "      <script src=\"/nbextensions/google.colab/files.js\"></script> "
            ],
            "text/plain": [
              "<IPython.core.display.HTML object>"
            ]
          },
          "metadata": {}
        },
        {
          "output_type": "stream",
          "name": "stdout",
          "text": [
            "Saving kaggle.json to kaggle.json\n"
          ]
        },
        {
          "output_type": "execute_result",
          "data": {
            "text/plain": [
              "{'kaggle.json': b'{\"username\":\"fabiobasson\",\"key\":\"d71cbfdfd23379909173204eac74cf96\"}'}"
            ]
          },
          "metadata": {},
          "execution_count": 3
        }
      ]
    },
    {
      "cell_type": "code",
      "metadata": {
        "id": "SQCTWdML4LFR"
      },
      "source": [
        "!mkdir ~/.kaggle\n",
        "!cp kaggle.json ~/.kaggle/\n",
        "!chmod 600 ~/.kaggle/kaggle.json"
      ],
      "execution_count": 4,
      "outputs": []
    },
    {
      "cell_type": "markdown",
      "metadata": {
        "id": "rte0cNVp7kgE"
      },
      "source": [
        "# **###  Download dos dados / descompactando os dados**"
      ]
    },
    {
      "cell_type": "code",
      "metadata": {
        "colab": {
          "base_uri": "https://localhost:8080/"
        },
        "id": "GvN30SNO4L1f",
        "outputId": "6aece1b9-987e-4c57-d266-bcd8307f1f87"
      },
      "source": [
        "#!kaggle datasets download fabiobasson/geologicalsimilarity\n",
        "#! unzip -qq  geologicalsimilarity\n",
        "!kaggle datasets download tanyadayanand/geological-image-similarity\n",
        "! unzip -qq geological-image-similarity    "
      ],
      "execution_count": 5,
      "outputs": [
        {
          "output_type": "stream",
          "name": "stdout",
          "text": [
            "Downloading geological-image-similarity.zip to /content\n",
            " 74% 25.0M/33.6M [00:01<00:00, 20.7MB/s]\n",
            "100% 33.6M/33.6M [00:01<00:00, 28.9MB/s]\n"
          ]
        }
      ]
    },
    {
      "cell_type": "markdown",
      "metadata": {
        "id": "owY2uo8A7q5j"
      },
      "source": [
        "# ** Criação da estrutura e leitura de diretórios **"
      ]
    },
    {
      "cell_type": "code",
      "metadata": {
        "id": "QXSrUDeU4L7J",
        "colab": {
          "base_uri": "https://localhost:8080/"
        },
        "outputId": "efdf2b02-5f2b-4fb9-b275-ce308b976760"
      },
      "source": [
        "andesite_dir = glob.glob('geological_similarity/andesite/*.jpg');gneiss_dir = glob.glob('geological_similarity/gneiss/*.jpg')\n",
        "marble_dir= glob.glob('geological_similarity/marble/*.jpg');quartzite_dir = glob.glob('geological_similarity/quartzite/*.jpg')\n",
        "rhyolite_dir = glob.glob('geological_similarity/rhyolite/*.jpg');\n",
        "schist_dir = glob.glob('geological_similarity/schist/*.jpg')\n",
        "print(len(andesite_dir));print(len(gneiss_dir)); print(len(marble_dir)); print(len(quartzite_dir));  print(len(quartzite_dir)); print(len(schist_dir))\n"
      ],
      "execution_count": 6,
      "outputs": [
        {
          "output_type": "stream",
          "name": "stdout",
          "text": [
            "5000\n",
            "5000\n",
            "4998\n",
            "5000\n",
            "5000\n",
            "5000\n"
          ]
        }
      ]
    },
    {
      "cell_type": "markdown",
      "metadata": {
        "id": "xL-7GOm_w3m3"
      },
      "source": [
        "# **Nomes das Classes**\n",
        "# andesite = 0  # gneiss =1 # marbler = 2 # quartzite = 3 # rhyolite = 4  # schist = 5 \n"
      ]
    },
    {
      "cell_type": "code",
      "metadata": {
        "id": "O9d3W_LswkS2"
      },
      "source": [
        "label = ['andesite','gneiss','marbler','quartzite','rhyolite','schist']\n",
        "\n",
        "#label =[0,1,2,3,4,5]"
      ],
      "execution_count": 7,
      "outputs": []
    },
    {
      "cell_type": "code",
      "metadata": {
        "colab": {
          "base_uri": "https://localhost:8080/"
        },
        "id": "wBhB6b6xi1xl",
        "outputId": "156572de-cafe-4fcb-cf33-1dc222967196"
      },
      "source": [
        "andesite_df=[];gneiss_df=[];marble_df=[];quartzite_df=[];rhyolite_df=[];schist_df=[]\n",
        "\n",
        "for i in andesite_dir:\n",
        "    andesite_df.append([i,label[0]])\n",
        "for j in gneiss_dir:\n",
        "   gneiss_df.append([j,label[1]])\n",
        "for l in marble_dir:\n",
        "    marble_df.append([l,label[2]])\n",
        "for m in quartzite_dir:\n",
        "    quartzite_df.append([m,label[3]])\n",
        "for n in rhyolite_dir:\n",
        "    rhyolite_df.append([n,label[4]])\n",
        "for o in schist_dir:\n",
        "    schist_df.append([o,label[5]])\n",
        "   \n",
        "df = andesite_df + gneiss_df + marble_df  + quartzite_df + rhyolite_df + schist_df\n",
        "random.shuffle(df)\n",
        "len(df)"
      ],
      "execution_count": 8,
      "outputs": [
        {
          "output_type": "execute_result",
          "data": {
            "text/plain": [
              "29998"
            ]
          },
          "metadata": {},
          "execution_count": 8
        }
      ]
    },
    {
      "cell_type": "markdown",
      "metadata": {
        "id": "iJTNl-uSVUFA"
      },
      "source": [
        "# **Criação do Dataframe**"
      ]
    },
    {
      "cell_type": "code",
      "metadata": {
        "colab": {
          "base_uri": "https://localhost:8080/",
          "height": 415
        },
        "id": "87UeiF--wzh8",
        "outputId": "2603d2df-7548-43ce-96da-2ae709f121ad"
      },
      "source": [
        "data_df = pd.DataFrame(df,columns=['path','label'])\n",
        "data_df"
      ],
      "execution_count": 9,
      "outputs": [
        {
          "output_type": "execute_result",
          "data": {
            "text/html": [
              "<div>\n",
              "<style scoped>\n",
              "    .dataframe tbody tr th:only-of-type {\n",
              "        vertical-align: middle;\n",
              "    }\n",
              "\n",
              "    .dataframe tbody tr th {\n",
              "        vertical-align: top;\n",
              "    }\n",
              "\n",
              "    .dataframe thead th {\n",
              "        text-align: right;\n",
              "    }\n",
              "</style>\n",
              "<table border=\"1\" class=\"dataframe\">\n",
              "  <thead>\n",
              "    <tr style=\"text-align: right;\">\n",
              "      <th></th>\n",
              "      <th>path</th>\n",
              "      <th>label</th>\n",
              "    </tr>\n",
              "  </thead>\n",
              "  <tbody>\n",
              "    <tr>\n",
              "      <th>0</th>\n",
              "      <td>geological_similarity/rhyolite/XD6D2.jpg</td>\n",
              "      <td>rhyolite</td>\n",
              "    </tr>\n",
              "    <tr>\n",
              "      <th>1</th>\n",
              "      <td>geological_similarity/andesite/HO9WD.jpg</td>\n",
              "      <td>andesite</td>\n",
              "    </tr>\n",
              "    <tr>\n",
              "      <th>2</th>\n",
              "      <td>geological_similarity/rhyolite/BAAL7.jpg</td>\n",
              "      <td>rhyolite</td>\n",
              "    </tr>\n",
              "    <tr>\n",
              "      <th>3</th>\n",
              "      <td>geological_similarity/rhyolite/9D7I0.jpg</td>\n",
              "      <td>rhyolite</td>\n",
              "    </tr>\n",
              "    <tr>\n",
              "      <th>4</th>\n",
              "      <td>geological_similarity/schist/DMBHC.jpg</td>\n",
              "      <td>schist</td>\n",
              "    </tr>\n",
              "    <tr>\n",
              "      <th>...</th>\n",
              "      <td>...</td>\n",
              "      <td>...</td>\n",
              "    </tr>\n",
              "    <tr>\n",
              "      <th>29993</th>\n",
              "      <td>geological_similarity/quartzite/X47NF.jpg</td>\n",
              "      <td>quartzite</td>\n",
              "    </tr>\n",
              "    <tr>\n",
              "      <th>29994</th>\n",
              "      <td>geological_similarity/marble/PRS70.jpg</td>\n",
              "      <td>marbler</td>\n",
              "    </tr>\n",
              "    <tr>\n",
              "      <th>29995</th>\n",
              "      <td>geological_similarity/gneiss/1YR4Y.jpg</td>\n",
              "      <td>gneiss</td>\n",
              "    </tr>\n",
              "    <tr>\n",
              "      <th>29996</th>\n",
              "      <td>geological_similarity/andesite/2ZZGJ.jpg</td>\n",
              "      <td>andesite</td>\n",
              "    </tr>\n",
              "    <tr>\n",
              "      <th>29997</th>\n",
              "      <td>geological_similarity/gneiss/7L5YN.jpg</td>\n",
              "      <td>gneiss</td>\n",
              "    </tr>\n",
              "  </tbody>\n",
              "</table>\n",
              "<p>29998 rows × 2 columns</p>\n",
              "</div>"
            ],
            "text/plain": [
              "                                            path      label\n",
              "0       geological_similarity/rhyolite/XD6D2.jpg   rhyolite\n",
              "1       geological_similarity/andesite/HO9WD.jpg   andesite\n",
              "2       geological_similarity/rhyolite/BAAL7.jpg   rhyolite\n",
              "3       geological_similarity/rhyolite/9D7I0.jpg   rhyolite\n",
              "4         geological_similarity/schist/DMBHC.jpg     schist\n",
              "...                                          ...        ...\n",
              "29993  geological_similarity/quartzite/X47NF.jpg  quartzite\n",
              "29994     geological_similarity/marble/PRS70.jpg    marbler\n",
              "29995     geological_similarity/gneiss/1YR4Y.jpg     gneiss\n",
              "29996   geological_similarity/andesite/2ZZGJ.jpg   andesite\n",
              "29997     geological_similarity/gneiss/7L5YN.jpg     gneiss\n",
              "\n",
              "[29998 rows x 2 columns]"
            ]
          },
          "metadata": {},
          "execution_count": 9
        }
      ]
    },
    {
      "cell_type": "markdown",
      "metadata": {
        "id": "B-ruxpGkzqHx"
      },
      "source": [
        "#  Conhecendo os dados de imagem"
      ]
    },
    {
      "cell_type": "code",
      "metadata": {
        "id": "j_QFJEd2yZMe",
        "colab": {
          "base_uri": "https://localhost:8080/",
          "height": 348
        },
        "outputId": "6bfafaf6-8771-47c0-9d8d-b6d74d9ff6b1"
      },
      "source": [
        "from matplotlib import image\n",
        "from matplotlib import pyplot\n",
        "# Carregando imagem como um array NumPy:\n",
        "data = image.imread(\"geological_similarity/gneiss/0QTQE.jpg\")\n",
        "# Imprimindo as propriedades do array de pixels:\n",
        "print(data.dtype)\n",
        "print(data.shape)\n",
        "print(data.max())\n",
        "print(data.min())\n",
        "\n",
        "# Exibindo o array de pixels como uma imagem:\n",
        "pyplot.imshow(data)"
      ],
      "execution_count": 10,
      "outputs": [
        {
          "output_type": "stream",
          "name": "stdout",
          "text": [
            "uint8\n",
            "(28, 28, 3)\n",
            "251\n",
            "32\n"
          ]
        },
        {
          "output_type": "execute_result",
          "data": {
            "text/plain": [
              "<matplotlib.image.AxesImage at 0x7f9bd69bd650>"
            ]
          },
          "metadata": {},
          "execution_count": 10
        },
        {
          "output_type": "display_data",
          "data": {
            "image/png": "[encoded data removed]",
            "text/plain": [
              "<Figure size 432x288 with 1 Axes>"
            ]
          },
          "metadata": {
            "needs_background": "light"
          }
        }
      ]
    },
    {
      "cell_type": "code",
      "metadata": {
        "id": "q0f0-HaP3cYM",
        "colab": {
          "base_uri": "https://localhost:8080/"
        },
        "outputId": "60c77a07-0a13-4471-c6e7-a8b50904f1c1"
      },
      "source": [
        "from numpy import asarray\n",
        "image = Image.open(\"geological_similarity/gneiss/0QTQE.jpg\")\n",
        "# Método asarray para realizar a conversão:\n",
        "pixels= asarray(image)\n",
        "# Verificando a faixa de valores entre 0 e 255:\n",
        "print('Data Type: %s' % pixels.dtype)\n",
        "print('Min: %.3f, Max: %.3f' % (pixels.min(), pixels.max()))\n",
        "\n",
        "#Converte os valores inteiros em float para realizar a operação:\n",
        "pixels = pixels.astype('float32')\n",
        "# Normaliza a faixa de valores:\n",
        "pixels /= pixels.max()\n",
        "# Verificando a faixa de valores normalizada:\n",
        "print('Data Type: %s' % pixels.dtype)\n",
        "print('Min: %.3f, Max: %.3f' % (pixels.min(), pixels.max()))"
      ],
      "execution_count": 11,
      "outputs": [
        {
          "output_type": "stream",
          "name": "stdout",
          "text": [
            "Data Type: uint8\n",
            "Min: 32.000, Max: 251.000\n",
            "Data Type: float32\n",
            "Min: 0.127, Max: 1.000\n"
          ]
        }
      ]
    },
    {
      "cell_type": "markdown",
      "metadata": {
        "id": "XlUbajOTxHKl"
      },
      "source": [
        "# **Limpeza de dados**\n",
        "1 - Analisando os dados ausentes\n",
        "2 - Descartando os dados ausentes\n",
        "3 - Imputando dados\n",
        "4 - Acrescentando colunas informativas"
      ]
    },
    {
      "cell_type": "code",
      "metadata": {
        "id": "ybydrHWUvlbY",
        "colab": {
          "base_uri": "https://localhost:8080/",
          "height": 457
        },
        "outputId": "725c4212-5644-4f2b-fb39-7c13d77bb06a"
      },
      "source": [
        "### 1 - Analisando os dados ausentes ###\n",
        "\n",
        "import missingno as msno\n",
        "ax = msno.matrix(data_df.sample(400))"
      ],
      "execution_count": 12,
      "outputs": [
        {
          "output_type": "display_data",
          "data": {
            "image/png": "[encoded data removed]",
            "text/plain": [
              "<Figure size 1800x720 with 2 Axes>"
            ]
          },
          "metadata": {
            "needs_background": "light"
          }
        }
      ]
    },
    {
      "cell_type": "code",
      "metadata": {
        "id": "9cVvBcwVxq9s"
      },
      "source": [
        "#! pip install pandas-profiling==2.8.0\n",
        "#from pandas_profiling import ProfileReport\n",
        "#ProfileReport (data_df)"
      ],
      "execution_count": null,
      "outputs": []
    },
    {
      "cell_type": "markdown",
      "metadata": {
        "id": "NONt2HCxWd5X"
      },
      "source": [
        "# **Separação das amostras**"
      ]
    },
    {
      "cell_type": "code",
      "metadata": {
        "id": "KBjbH7d9NUnq"
      },
      "source": [
        "X = data_df.drop(columns='label')\n",
        "y = data_df.label\n"
      ],
      "execution_count": 13,
      "outputs": []
    },
    {
      "cell_type": "code",
      "metadata": {
        "id": "utUc0uwxfHXr"
      },
      "source": [
        "#X_train, X_val, y_train, y_val = train_test_split(X, y, test_size = 0.2, random_state=42)"
      ],
      "execution_count": null,
      "outputs": []
    },
    {
      "cell_type": "markdown",
      "metadata": {
        "id": "rgLimflCWSq3"
      },
      "source": [
        "# **Explorando os dados**"
      ]
    },
    {
      "cell_type": "markdown",
      "metadata": {
        "id": "-AAuWUVf6ocm"
      },
      "source": [
        "\n",
        "# **Type: Data Augumentation**"
      ]
    },
    {
      "cell_type": "markdown",
      "metadata": {
        "id": "G1xbq78zfV9i"
      },
      "source": [
        "## ** Esta função irá plotar as imagens num grid de 1 a 5 colunas **"
      ]
    },
    {
      "cell_type": "code",
      "metadata": {
        "id": "hjV3pOngCtA7"
      },
      "source": [
        "IMG_SHAPE = 28\n",
        "BATCH_SIZE = 512\n",
        "\n",
        "def plotImages(images_arr):\n",
        "    fig, axes = plt.subplots(1, 5, figsize=(20,20))\n",
        "    axes = axes.flatten()\n",
        "    for img, ax in zip(images_arr, axes):\n",
        "        ax.imshow(img)\n",
        "    plt.tight_layout()\n",
        "    plt.show()"
      ],
      "execution_count": 14,
      "outputs": []
    },
    {
      "cell_type": "code",
      "metadata": {
        "id": "Cw0IbS6mfdxM",
        "colab": {
          "base_uri": "https://localhost:8080/"
        },
        "outputId": "532a7886-4bb9-4a55-af5a-0abf3d439903"
      },
      "source": [
        "datagen_train = ImageDataGenerator(rescale=1./255,\n",
        "                            #featurewise_center =False ,\n",
        "                            # samplewise_center =False ,\n",
        "                            # featurewise_std_normalization =False ,\n",
        "                            # samplewise_std_normalization =False ,\n",
        "                            # zca_whitening =False ,\n",
        "                            # zca_epsilon =1e -6 ,\n",
        "                            # channel_shift_range =0. ,\n",
        "                            # fill_mode = ’ nearest ’ ,\n",
        "                            # cval =0. ,\n",
        "                            rotation_range = 40,\n",
        "                            width_shift_range = 0.2,\n",
        "                            height_shift_range = 0.2,\n",
        "                            #shear_range = 0.2,\n",
        "                            #zoom_range = 0.2,\n",
        "                            horizontal_flip = True,\n",
        "                            vertical_flip = True,\n",
        "                            validation_split=0.2)\n",
        "\n",
        "train_generator = datagen_train.flow_from_dataframe(data_df,\n",
        "                                               batch_size=BATCH_SIZE,\n",
        "                                               x_col='path',\n",
        "                                               y_col= 'label',\n",
        "                                               shuffle=True,\n",
        "                                               target_size=(IMG_SHAPE,IMG_SHAPE),\n",
        "                                               class_mode='categorical',\n",
        "                                               subset='training')\n",
        "\n",
        "\n",
        "datagen_val = ImageDataGenerator (rescale=1./255, \n",
        "                                 validation_split=0.2)\n",
        "\n",
        "\n",
        "validation_generator = datagen_val.flow_from_dataframe(data_df,\n",
        "                                                   batch_size=BATCH_SIZE,\n",
        "                                                   x_col='path',\n",
        "                                                   y_col='label',\n",
        "                                                   shuffle=True,\n",
        "                                                   target_size=(IMG_SHAPE,IMG_SHAPE),\n",
        "                                                   class_mode='categorical',\n",
        "                                                   subset='validation')    \n",
        "\n"
      ],
      "execution_count": 15,
      "outputs": [
        {
          "output_type": "stream",
          "name": "stdout",
          "text": [
            "Found 23999 validated image filenames belonging to 6 classes.\n",
            "Found 5999 validated image filenames belonging to 6 classes.\n"
          ]
        }
      ]
    },
    {
      "cell_type": "code",
      "metadata": {
        "colab": {
          "base_uri": "https://localhost:8080/"
        },
        "id": "i5sbJJeWlcv4",
        "outputId": "04b38684-5a3d-4ac4-80d0-3103dba9f5e7"
      },
      "source": [
        "datagen_test = ImageDataGenerator (rescale=1./255, \n",
        "                                 validation_split=0.2)\n",
        "\n",
        "\n",
        "test_generator = datagen_test.flow_from_dataframe(data_df,\n",
        "                                                   batch_size=BATCH_SIZE,\n",
        "                                                   x_col='path',\n",
        "                                                   y_col='label',\n",
        "                                                   shuffle=False,\n",
        "                                                   target_size=(IMG_SHAPE,IMG_SHAPE),\n",
        "                                                   class_mode='categorical')\n",
        "                                                   #subset='validation') "
      ],
      "execution_count": 16,
      "outputs": [
        {
          "output_type": "stream",
          "name": "stdout",
          "text": [
            "Found 29998 validated image filenames belonging to 6 classes.\n"
          ]
        }
      ]
    },
    {
      "cell_type": "code",
      "metadata": {
        "colab": {
          "base_uri": "https://localhost:8080/",
          "height": 226
        },
        "id": "ShN0CzElfd9R",
        "outputId": "6735a144-0436-4a78-a851-e9646c6edac2"
      },
      "source": [
        "augmented_images = [train_generator[0][0][0] for i in range(5)]\n",
        "plotImages(augmented_images)"
      ],
      "execution_count": 17,
      "outputs": [
        {
          "output_type": "display_data",
          "data": {
            "image/png": "[encoded data removed]",
            "text/plain": [
              "<Figure size 1440x1440 with 5 Axes>"
            ]
          },
          "metadata": {
            "needs_background": "light"
          }
        }
      ]
    },
    {
      "cell_type": "markdown",
      "metadata": {
        "id": "UIPXX6y48mV-"
      },
      "source": [
        "# **Criando o Dataframe em dados de treino, validação e teste**"
      ]
    },
    {
      "cell_type": "code",
      "metadata": {
        "id": "ByYa1WtsGAOO"
      },
      "source": [
        "class_dict=train_generator.class_indices\n",
        "labels= train_generator.labels\n",
        "file_names= train_generator.filenames "
      ],
      "execution_count": 18,
      "outputs": []
    },
    {
      "cell_type": "code",
      "metadata": {
        "id": "lQTFcVZA3Uwl",
        "colab": {
          "base_uri": "https://localhost:8080/"
        },
        "outputId": "79a0d156-9b92-4a1d-c6a1-5e45aac0de04"
      },
      "source": [
        "class_dict"
      ],
      "execution_count": 19,
      "outputs": [
        {
          "output_type": "execute_result",
          "data": {
            "text/plain": [
              "{'andesite': 0,\n",
              " 'gneiss': 1,\n",
              " 'marbler': 2,\n",
              " 'quartzite': 3,\n",
              " 'rhyolite': 4,\n",
              " 'schist': 5}"
            ]
          },
          "metadata": {},
          "execution_count": 19
        }
      ]
    },
    {
      "cell_type": "code",
      "metadata": {
        "id": "397pKysWejrc",
        "colab": {
          "base_uri": "https://localhost:8080/"
        },
        "outputId": "adca5238-e6b1-45e3-af19-86e2284c82de"
      },
      "source": [
        "X_train, y_train = next(train_generator)\n",
        "X_val, y_val = next(validation_generator)\n",
        "X_test, y_test = next(test_generator)\n",
        "\n",
        "X_val.shape"
      ],
      "execution_count": 20,
      "outputs": [
        {
          "output_type": "execute_result",
          "data": {
            "text/plain": [
              "(512, 28, 28, 3)"
            ]
          },
          "metadata": {},
          "execution_count": 20
        }
      ]
    },
    {
      "cell_type": "markdown",
      "metadata": {
        "id": "dXm8LYqv0_vK"
      },
      "source": [
        "# **Criar o modelo**"
      ]
    },
    {
      "cell_type": "code",
      "metadata": {
        "id": "ncctBTCAgG7d"
      },
      "source": [
        "num_classes = 6\n",
        "\n",
        "model = tf.keras.models.Sequential([\n",
        "    tf.keras.layers.Conv2D(64, (3,3), activation='relu', input_shape=(28,28,3)),\n",
        "    tf.keras.layers.BatchNormalization(),\n",
        "    tf.keras.layers.MaxPooling2D(2, 2),\n",
        "\n",
        "    tf.keras.layers.Conv2D(32, (3,3), activation='relu'),\n",
        "    tf.keras.layers.MaxPooling2D(2,2),\n",
        "\n",
        "    tf.keras.layers.Conv2D(16, (3,3), activation='relu'),\n",
        "    tf.keras.layers.MaxPooling2D(2,2),\n",
        "   \n",
        "\n",
        "    tf.keras.layers.Flatten(),\n",
        "    tf.keras.layers.Dense(512, activation='relu'),\n",
        "    tf.keras.layers.Dropout(0.5),\n",
        "    tf.keras.layers.Dense(num_classes, activation='softmax')\n",
        "   \n",
        "])"
      ],
      "execution_count": 21,
      "outputs": []
    },
    {
      "cell_type": "markdown",
      "metadata": {
        "id": "cQvF_-VrbIhO"
      },
      "source": [
        "# **Compilando o Modelo**"
      ]
    },
    {
      "cell_type": "code",
      "metadata": {
        "id": "tseOThp5bLVl",
        "colab": {
          "base_uri": "https://localhost:8080/"
        },
        "outputId": "d2dba4d1-266d-49ce-828e-35e9e1608857"
      },
      "source": [
        "model.compile(optimizer = Adam(learning_rate=0.0001), \n",
        "               loss = 'categorical_crossentropy', \n",
        "               metrics =['accuracy'])\n",
        "model.summary()  "
      ],
      "execution_count": 22,
      "outputs": [
        {
          "output_type": "stream",
          "name": "stdout",
          "text": [
            "Model: \"sequential\"\n",
            "_________________________________________________________________\n",
            "Layer (type)                 Output Shape              Param #   \n",
            "=================================================================\n",
            "conv2d (Conv2D)              (None, 26, 26, 64)        1792      \n",
            "_________________________________________________________________\n",
            "batch_normalization (BatchNo (None, 26, 26, 64)        256       \n",
            "_________________________________________________________________\n",
            "max_pooling2d (MaxPooling2D) (None, 13, 13, 64)        0         \n",
            "_________________________________________________________________\n",
            "conv2d_1 (Conv2D)            (None, 11, 11, 32)        18464     \n",
            "_________________________________________________________________\n",
            "max_pooling2d_1 (MaxPooling2 (None, 5, 5, 32)          0         \n",
            "_________________________________________________________________\n",
            "conv2d_2 (Conv2D)            (None, 3, 3, 16)          4624      \n",
            "_________________________________________________________________\n",
            "max_pooling2d_2 (MaxPooling2 (None, 1, 1, 16)          0         \n",
            "_________________________________________________________________\n",
            "flatten (Flatten)            (None, 16)                0         \n",
            "_________________________________________________________________\n",
            "dense (Dense)                (None, 512)               8704      \n",
            "_________________________________________________________________\n",
            "dropout (Dropout)            (None, 512)               0         \n",
            "_________________________________________________________________\n",
            "dense_1 (Dense)              (None, 6)                 3078      \n",
            "=================================================================\n",
            "Total params: 36,918\n",
            "Trainable params: 36,790\n",
            "Non-trainable params: 128\n",
            "_________________________________________________________________\n"
          ]
        }
      ]
    },
    {
      "cell_type": "code",
      "metadata": {
        "id": "9Sr0YDZ8dCmz"
      },
      "source": [
        "callbacks_list = [\n",
        "    tf.keras.callbacks.ReduceLROnPlateau(factor=0.5,\n",
        "                                         patience=4,\n",
        "                                         verbose=0),\n",
        "    tf.keras.callbacks.EarlyStopping(\n",
        "        monitor=\"accuracy\",\n",
        "        patience=12,\n",
        "        restore_best_weights=True,\n",
        "    ),\n",
        "    tf.keras.callbacks.ModelCheckpoint(\n",
        "        filepath='best_model.h5',\n",
        "        monitor=\"val_accuracy\",\n",
        "        verbose=1,\n",
        "        save_best_only=True,\n",
        "        #save_weights_only=False,\n",
        "        #mode='auto',\n",
        "        #period=1,\n",
        "    ),\n",
        "\n",
        "]"
      ],
      "execution_count": 24,
      "outputs": []
    },
    {
      "cell_type": "markdown",
      "metadata": {
        "id": "IhQyiWIh1HQs"
      },
      "source": [
        "# **Avaliar o modelo**"
      ]
    },
    {
      "cell_type": "code",
      "metadata": {
        "id": "cwpnwl86dm74",
        "colab": {
          "base_uri": "https://localhost:8080/"
        },
        "outputId": "180c22f6-5d31-4710-e654-6fa5b13eefb4"
      },
      "source": [
        "epochs=100\n",
        "history = model.fit(train_generator,\n",
        "                               epochs=epochs,\n",
        "                               verbose=1,\n",
        "                               callbacks=callbacks_list, \n",
        "                               #validation_split=0.2,\n",
        "                               #class_weight=class_weight_,\n",
        "                               steps_per_epoch = 23999/512,\n",
        "                               workers=4,\n",
        "                               use_multiprocessing=True,\n",
        "                                #validation_steps = 5999/512,\n",
        "                               validation_data=validation_generator)"
      ],
      "execution_count": 25,
      "outputs": [
        {
          "output_type": "stream",
          "name": "stdout",
          "text": [
            "Epoch 1/100\n",
            "46/46 [==============================] - 53s 421ms/step - loss: 1.6206 - accuracy: 0.3413 - val_loss: 1.7595 - val_accuracy: 0.1799\n",
            "\n",
            "Epoch 00001: val_accuracy improved from -inf to 0.17986, saving model to best_model.h5\n",
            "Epoch 2/100\n",
            "46/46 [==============================] - 19s 389ms/step - loss: 1.1134 - accuracy: 0.5676 - val_loss: 1.6495 - val_accuracy: 0.3192\n",
            "\n",
            "Epoch 00002: val_accuracy improved from 0.17986 to 0.31922, saving model to best_model.h5\n",
            "Epoch 3/100\n",
            "46/46 [==============================] - 22s 427ms/step - loss: 0.6901 - accuracy: 0.7321 - val_loss: 1.4564 - val_accuracy: 0.6186\n",
            "\n",
            "Epoch 00003: val_accuracy improved from 0.31922 to 0.61860, saving model to best_model.h5\n",
            "Epoch 4/100\n",
            "46/46 [==============================] - 19s 382ms/step - loss: 0.4949 - accuracy: 0.8025 - val_loss: 1.2651 - val_accuracy: 0.6661\n",
            "\n",
            "Epoch 00004: val_accuracy improved from 0.61860 to 0.66611, saving model to best_model.h5\n",
            "Epoch 5/100\n",
            "46/46 [==============================] - 21s 403ms/step - loss: 0.4041 - accuracy: 0.8460 - val_loss: 1.1164 - val_accuracy: 0.6706\n",
            "\n",
            "Epoch 00005: val_accuracy improved from 0.66611 to 0.67061, saving model to best_model.h5\n",
            "Epoch 6/100\n",
            "46/46 [==============================] - 22s 417ms/step - loss: 0.3503 - accuracy: 0.8721 - val_loss: 0.9756 - val_accuracy: 0.7051\n",
            "\n",
            "Epoch 00006: val_accuracy improved from 0.67061 to 0.70512, saving model to best_model.h5\n",
            "Epoch 7/100\n",
            "46/46 [==============================] - 22s 415ms/step - loss: 0.3107 - accuracy: 0.8885 - val_loss: 0.8685 - val_accuracy: 0.7093\n",
            "\n",
            "Epoch 00007: val_accuracy improved from 0.70512 to 0.70928, saving model to best_model.h5\n",
            "Epoch 8/100\n",
            "46/46 [==============================] - 22s 409ms/step - loss: 0.2817 - accuracy: 0.8983 - val_loss: 0.7732 - val_accuracy: 0.7255\n",
            "\n",
            "Epoch 00008: val_accuracy improved from 0.70928 to 0.72545, saving model to best_model.h5\n",
            "Epoch 9/100\n",
            "46/46 [==============================] - 22s 411ms/step - loss: 0.2553 - accuracy: 0.9117 - val_loss: 0.6606 - val_accuracy: 0.7605\n",
            "\n",
            "Epoch 00009: val_accuracy improved from 0.72545 to 0.76046, saving model to best_model.h5\n",
            "Epoch 10/100\n",
            "46/46 [==============================] - 22s 409ms/step - loss: 0.2365 - accuracy: 0.9162 - val_loss: 0.5004 - val_accuracy: 0.8223\n",
            "\n",
            "Epoch 00010: val_accuracy improved from 0.76046 to 0.82230, saving model to best_model.h5\n",
            "Epoch 11/100\n",
            "46/46 [==============================] - 19s 395ms/step - loss: 0.2244 - accuracy: 0.9220 - val_loss: 0.4356 - val_accuracy: 0.8398\n",
            "\n",
            "Epoch 00011: val_accuracy improved from 0.82230 to 0.83981, saving model to best_model.h5\n",
            "Epoch 12/100\n",
            "46/46 [==============================] - 20s 392ms/step - loss: 0.2263 - accuracy: 0.9201 - val_loss: 0.3769 - val_accuracy: 0.8640\n",
            "\n",
            "Epoch 00012: val_accuracy improved from 0.83981 to 0.86398, saving model to best_model.h5\n",
            "Epoch 13/100\n",
            "46/46 [==============================] - 19s 387ms/step - loss: 0.2087 - accuracy: 0.9272 - val_loss: 0.2925 - val_accuracy: 0.8963\n",
            "\n",
            "Epoch 00013: val_accuracy improved from 0.86398 to 0.89632, saving model to best_model.h5\n",
            "Epoch 14/100\n",
            "46/46 [==============================] - 21s 394ms/step - loss: 0.2043 - accuracy: 0.9285 - val_loss: 0.3185 - val_accuracy: 0.8836\n",
            "\n",
            "Epoch 00014: val_accuracy did not improve from 0.89632\n",
            "Epoch 15/100\n",
            "46/46 [==============================] - 20s 392ms/step - loss: 0.1999 - accuracy: 0.9295 - val_loss: 0.2542 - val_accuracy: 0.9115\n",
            "\n",
            "Epoch 00015: val_accuracy improved from 0.89632 to 0.91149, saving model to best_model.h5\n",
            "Epoch 16/100\n",
            "46/46 [==============================] - 21s 388ms/step - loss: 0.1930 - accuracy: 0.9343 - val_loss: 0.2288 - val_accuracy: 0.9205\n",
            "\n",
            "Epoch 00016: val_accuracy improved from 0.91149 to 0.92049, saving model to best_model.h5\n",
            "Epoch 17/100\n",
            "46/46 [==============================] - 21s 395ms/step - loss: 0.1838 - accuracy: 0.9345 - val_loss: 0.2150 - val_accuracy: 0.9255\n",
            "\n",
            "Epoch 00017: val_accuracy improved from 0.92049 to 0.92549, saving model to best_model.h5\n",
            "Epoch 18/100\n",
            "46/46 [==============================] - 19s 389ms/step - loss: 0.1833 - accuracy: 0.9365 - val_loss: 0.2197 - val_accuracy: 0.9252\n",
            "\n",
            "Epoch 00018: val_accuracy did not improve from 0.92549\n",
            "Epoch 19/100\n",
            "46/46 [==============================] - 21s 399ms/step - loss: 0.1766 - accuracy: 0.9380 - val_loss: 0.2084 - val_accuracy: 0.9270\n",
            "\n",
            "Epoch 00019: val_accuracy improved from 0.92549 to 0.92699, saving model to best_model.h5\n",
            "Epoch 20/100\n",
            "46/46 [==============================] - 21s 401ms/step - loss: 0.1721 - accuracy: 0.9401 - val_loss: 0.2206 - val_accuracy: 0.9248\n",
            "\n",
            "Epoch 00020: val_accuracy did not improve from 0.92699\n",
            "Epoch 21/100\n",
            "46/46 [==============================] - 21s 399ms/step - loss: 0.1704 - accuracy: 0.9406 - val_loss: 0.2015 - val_accuracy: 0.9275\n",
            "\n",
            "Epoch 00021: val_accuracy improved from 0.92699 to 0.92749, saving model to best_model.h5\n",
            "Epoch 22/100\n",
            "46/46 [==============================] - 22s 418ms/step - loss: 0.1616 - accuracy: 0.9429 - val_loss: 0.1999 - val_accuracy: 0.9288\n",
            "\n",
            "Epoch 00022: val_accuracy improved from 0.92749 to 0.92882, saving model to best_model.h5\n",
            "Epoch 23/100\n",
            "46/46 [==============================] - 20s 393ms/step - loss: 0.1640 - accuracy: 0.9433 - val_loss: 0.2357 - val_accuracy: 0.9168\n",
            "\n",
            "Epoch 00023: val_accuracy did not improve from 0.92882\n",
            "Epoch 24/100\n",
            "46/46 [==============================] - 21s 397ms/step - loss: 0.1648 - accuracy: 0.9422 - val_loss: 0.1814 - val_accuracy: 0.9350\n",
            "\n",
            "Epoch 00024: val_accuracy improved from 0.92882 to 0.93499, saving model to best_model.h5\n",
            "Epoch 25/100\n",
            "46/46 [==============================] - 22s 418ms/step - loss: 0.1573 - accuracy: 0.9464 - val_loss: 0.1939 - val_accuracy: 0.9300\n",
            "\n",
            "Epoch 00025: val_accuracy did not improve from 0.93499\n",
            "Epoch 26/100\n",
            "46/46 [==============================] - 21s 404ms/step - loss: 0.1520 - accuracy: 0.9470 - val_loss: 0.1779 - val_accuracy: 0.9360\n",
            "\n",
            "Epoch 00026: val_accuracy improved from 0.93499 to 0.93599, saving model to best_model.h5\n",
            "Epoch 27/100\n",
            "46/46 [==============================] - 20s 404ms/step - loss: 0.1475 - accuracy: 0.9490 - val_loss: 0.2361 - val_accuracy: 0.9190\n",
            "\n",
            "Epoch 00027: val_accuracy did not improve from 0.93599\n",
            "Epoch 28/100\n",
            "46/46 [==============================] - 21s 395ms/step - loss: 0.1496 - accuracy: 0.9492 - val_loss: 0.2600 - val_accuracy: 0.9142\n",
            "\n",
            "Epoch 00028: val_accuracy did not improve from 0.93599\n",
            "Epoch 29/100\n",
            "46/46 [==============================] - 22s 415ms/step - loss: 0.1455 - accuracy: 0.9486 - val_loss: 0.1989 - val_accuracy: 0.9302\n",
            "\n",
            "Epoch 00029: val_accuracy did not improve from 0.93599\n",
            "Epoch 30/100\n",
            "46/46 [==============================] - 20s 400ms/step - loss: 0.1448 - accuracy: 0.9494 - val_loss: 0.1862 - val_accuracy: 0.9347\n",
            "\n",
            "Epoch 00030: val_accuracy did not improve from 0.93599\n",
            "Epoch 31/100\n",
            "46/46 [==============================] - 21s 407ms/step - loss: 0.1393 - accuracy: 0.9516 - val_loss: 0.1875 - val_accuracy: 0.9330\n",
            "\n",
            "Epoch 00031: val_accuracy did not improve from 0.93599\n",
            "Epoch 32/100\n",
            "46/46 [==============================] - 19s 393ms/step - loss: 0.1328 - accuracy: 0.9535 - val_loss: 0.1814 - val_accuracy: 0.9372\n",
            "\n",
            "Epoch 00032: val_accuracy improved from 0.93599 to 0.93716, saving model to best_model.h5\n",
            "Epoch 33/100\n",
            "46/46 [==============================] - 20s 390ms/step - loss: 0.1385 - accuracy: 0.9515 - val_loss: 0.1696 - val_accuracy: 0.9400\n",
            "\n",
            "Epoch 00033: val_accuracy improved from 0.93716 to 0.93999, saving model to best_model.h5\n",
            "Epoch 34/100\n",
            "46/46 [==============================] - 21s 404ms/step - loss: 0.1368 - accuracy: 0.9527 - val_loss: 0.1633 - val_accuracy: 0.9425\n",
            "\n",
            "Epoch 00034: val_accuracy improved from 0.93999 to 0.94249, saving model to best_model.h5\n",
            "Epoch 35/100\n",
            "46/46 [==============================] - 19s 388ms/step - loss: 0.1356 - accuracy: 0.9521 - val_loss: 0.1939 - val_accuracy: 0.9312\n",
            "\n",
            "Epoch 00035: val_accuracy did not improve from 0.94249\n",
            "Epoch 36/100\n",
            "46/46 [==============================] - 21s 399ms/step - loss: 0.1347 - accuracy: 0.9541 - val_loss: 0.2094 - val_accuracy: 0.9250\n",
            "\n",
            "Epoch 00036: val_accuracy did not improve from 0.94249\n",
            "Epoch 37/100\n",
            "46/46 [==============================] - 20s 407ms/step - loss: 0.1316 - accuracy: 0.9542 - val_loss: 0.1893 - val_accuracy: 0.9337\n",
            "\n",
            "Epoch 00037: val_accuracy did not improve from 0.94249\n",
            "Epoch 38/100\n",
            "46/46 [==============================] - 23s 433ms/step - loss: 0.1309 - accuracy: 0.9555 - val_loss: 0.1550 - val_accuracy: 0.9465\n",
            "\n",
            "Epoch 00038: val_accuracy improved from 0.94249 to 0.94649, saving model to best_model.h5\n",
            "Epoch 39/100\n",
            "46/46 [==============================] - 20s 393ms/step - loss: 0.1298 - accuracy: 0.9556 - val_loss: 0.1762 - val_accuracy: 0.9387\n",
            "\n",
            "Epoch 00039: val_accuracy did not improve from 0.94649\n",
            "Epoch 40/100\n",
            "46/46 [==============================] - 23s 445ms/step - loss: 0.1275 - accuracy: 0.9551 - val_loss: 0.1697 - val_accuracy: 0.9393\n",
            "\n",
            "Epoch 00040: val_accuracy did not improve from 0.94649\n",
            "Epoch 41/100\n",
            "46/46 [==============================] - 19s 389ms/step - loss: 0.1288 - accuracy: 0.9550 - val_loss: 0.1971 - val_accuracy: 0.9297\n",
            "\n",
            "Epoch 00041: val_accuracy did not improve from 0.94649\n",
            "Epoch 42/100\n",
            "46/46 [==============================] - 20s 384ms/step - loss: 0.1257 - accuracy: 0.9573 - val_loss: 0.1526 - val_accuracy: 0.9450\n",
            "\n",
            "Epoch 00042: val_accuracy did not improve from 0.94649\n",
            "Epoch 43/100\n",
            "46/46 [==============================] - 21s 395ms/step - loss: 0.1248 - accuracy: 0.9560 - val_loss: 0.1781 - val_accuracy: 0.9395\n",
            "\n",
            "Epoch 00043: val_accuracy did not improve from 0.94649\n",
            "Epoch 44/100\n",
            "46/46 [==============================] - 21s 399ms/step - loss: 0.1281 - accuracy: 0.9555 - val_loss: 0.1464 - val_accuracy: 0.9498\n",
            "\n",
            "Epoch 00044: val_accuracy improved from 0.94649 to 0.94982, saving model to best_model.h5\n",
            "Epoch 45/100\n",
            "46/46 [==============================] - 23s 439ms/step - loss: 0.1278 - accuracy: 0.9550 - val_loss: 0.1672 - val_accuracy: 0.9427\n",
            "\n",
            "Epoch 00045: val_accuracy did not improve from 0.94982\n",
            "Epoch 46/100\n",
            "46/46 [==============================] - 21s 433ms/step - loss: 0.1263 - accuracy: 0.9563 - val_loss: 0.1655 - val_accuracy: 0.9443\n",
            "\n",
            "Epoch 00046: val_accuracy did not improve from 0.94982\n",
            "Epoch 47/100\n",
            "46/46 [==============================] - 20s 394ms/step - loss: 0.1233 - accuracy: 0.9559 - val_loss: 0.1818 - val_accuracy: 0.9367\n",
            "\n",
            "Epoch 00047: val_accuracy did not improve from 0.94982\n",
            "Epoch 48/100\n",
            "46/46 [==============================] - 21s 405ms/step - loss: 0.1233 - accuracy: 0.9574 - val_loss: 0.1572 - val_accuracy: 0.9450\n",
            "\n",
            "Epoch 00048: val_accuracy did not improve from 0.94982\n",
            "Epoch 49/100\n",
            "46/46 [==============================] - 22s 408ms/step - loss: 0.1214 - accuracy: 0.9586 - val_loss: 0.1708 - val_accuracy: 0.9403\n",
            "\n",
            "Epoch 00049: val_accuracy did not improve from 0.94982\n",
            "Epoch 50/100\n",
            "46/46 [==============================] - 21s 433ms/step - loss: 0.1198 - accuracy: 0.9586 - val_loss: 0.1648 - val_accuracy: 0.9428\n",
            "\n",
            "Epoch 00050: val_accuracy did not improve from 0.94982\n",
            "Epoch 51/100\n",
            "46/46 [==============================] - 19s 391ms/step - loss: 0.1208 - accuracy: 0.9589 - val_loss: 0.1402 - val_accuracy: 0.9517\n",
            "\n",
            "Epoch 00051: val_accuracy improved from 0.94982 to 0.95166, saving model to best_model.h5\n",
            "Epoch 52/100\n",
            "46/46 [==============================] - 21s 394ms/step - loss: 0.1199 - accuracy: 0.9577 - val_loss: 0.1669 - val_accuracy: 0.9443\n",
            "\n",
            "Epoch 00052: val_accuracy did not improve from 0.95166\n",
            "Epoch 53/100\n",
            "46/46 [==============================] - 20s 393ms/step - loss: 0.1196 - accuracy: 0.9586 - val_loss: 0.1841 - val_accuracy: 0.9353\n",
            "\n",
            "Epoch 00053: val_accuracy did not improve from 0.95166\n",
            "Epoch 54/100\n",
            "46/46 [==============================] - 21s 388ms/step - loss: 0.1221 - accuracy: 0.9575 - val_loss: 0.1479 - val_accuracy: 0.9480\n",
            "\n",
            "Epoch 00054: val_accuracy did not improve from 0.95166\n",
            "Epoch 55/100\n",
            "46/46 [==============================] - 21s 392ms/step - loss: 0.1205 - accuracy: 0.9575 - val_loss: 0.1453 - val_accuracy: 0.9493\n",
            "\n",
            "Epoch 00055: val_accuracy did not improve from 0.95166\n",
            "Epoch 56/100\n",
            "46/46 [==============================] - 22s 415ms/step - loss: 0.1181 - accuracy: 0.9582 - val_loss: 0.1494 - val_accuracy: 0.9495\n",
            "\n",
            "Epoch 00056: val_accuracy did not improve from 0.95166\n",
            "Epoch 57/100\n",
            "46/46 [==============================] - 21s 392ms/step - loss: 0.1155 - accuracy: 0.9602 - val_loss: 0.1552 - val_accuracy: 0.9478\n",
            "\n",
            "Epoch 00057: val_accuracy did not improve from 0.95166\n",
            "Epoch 58/100\n",
            "46/46 [==============================] - 20s 393ms/step - loss: 0.1169 - accuracy: 0.9607 - val_loss: 0.1427 - val_accuracy: 0.9500\n",
            "\n",
            "Epoch 00058: val_accuracy did not improve from 0.95166\n",
            "Epoch 59/100\n",
            "46/46 [==============================] - 21s 390ms/step - loss: 0.1184 - accuracy: 0.9585 - val_loss: 0.1547 - val_accuracy: 0.9478\n",
            "\n",
            "Epoch 00059: val_accuracy did not improve from 0.95166\n",
            "Epoch 60/100\n",
            "46/46 [==============================] - 21s 392ms/step - loss: 0.1170 - accuracy: 0.9596 - val_loss: 0.1435 - val_accuracy: 0.9512\n",
            "\n",
            "Epoch 00060: val_accuracy did not improve from 0.95166\n",
            "Epoch 61/100\n",
            "46/46 [==============================] - 20s 393ms/step - loss: 0.1180 - accuracy: 0.9589 - val_loss: 0.1473 - val_accuracy: 0.9490\n",
            "\n",
            "Epoch 00061: val_accuracy did not improve from 0.95166\n",
            "Epoch 62/100\n",
            "46/46 [==============================] - 20s 385ms/step - loss: 0.1179 - accuracy: 0.9578 - val_loss: 0.1477 - val_accuracy: 0.9487\n",
            "\n",
            "Epoch 00062: val_accuracy did not improve from 0.95166\n",
            "Epoch 63/100\n",
            "46/46 [==============================] - 21s 403ms/step - loss: 0.1169 - accuracy: 0.9585 - val_loss: 0.1503 - val_accuracy: 0.9493\n",
            "\n",
            "Epoch 00063: val_accuracy did not improve from 0.95166\n",
            "Epoch 64/100\n",
            "46/46 [==============================] - 20s 394ms/step - loss: 0.1114 - accuracy: 0.9618 - val_loss: 0.1482 - val_accuracy: 0.9490\n",
            "\n",
            "Epoch 00064: val_accuracy did not improve from 0.95166\n",
            "Epoch 65/100\n",
            "46/46 [==============================] - 21s 390ms/step - loss: 0.1163 - accuracy: 0.9603 - val_loss: 0.1484 - val_accuracy: 0.9495\n",
            "\n",
            "Epoch 00065: val_accuracy did not improve from 0.95166\n",
            "Epoch 66/100\n",
            "46/46 [==============================] - 21s 394ms/step - loss: 0.1172 - accuracy: 0.9587 - val_loss: 0.1431 - val_accuracy: 0.9512\n",
            "\n",
            "Epoch 00066: val_accuracy did not improve from 0.95166\n",
            "Epoch 67/100\n",
            "46/46 [==============================] - 20s 395ms/step - loss: 0.1186 - accuracy: 0.9587 - val_loss: 0.1476 - val_accuracy: 0.9502\n",
            "\n",
            "Epoch 00067: val_accuracy did not improve from 0.95166\n",
            "Epoch 68/100\n",
            "46/46 [==============================] - 21s 400ms/step - loss: 0.1170 - accuracy: 0.9585 - val_loss: 0.1460 - val_accuracy: 0.9505\n",
            "\n",
            "Epoch 00068: val_accuracy did not improve from 0.95166\n",
            "Epoch 69/100\n",
            "46/46 [==============================] - 19s 392ms/step - loss: 0.1160 - accuracy: 0.9595 - val_loss: 0.1470 - val_accuracy: 0.9503\n",
            "\n",
            "Epoch 00069: val_accuracy did not improve from 0.95166\n",
            "Epoch 70/100\n",
            "46/46 [==============================] - 22s 416ms/step - loss: 0.1154 - accuracy: 0.9599 - val_loss: 0.1485 - val_accuracy: 0.9500\n",
            "\n",
            "Epoch 00070: val_accuracy did not improve from 0.95166\n",
            "Epoch 71/100\n",
            "46/46 [==============================] - 21s 393ms/step - loss: 0.1191 - accuracy: 0.9581 - val_loss: 0.1478 - val_accuracy: 0.9498\n",
            "\n",
            "Epoch 00071: val_accuracy did not improve from 0.95166\n",
            "Epoch 72/100\n",
            "46/46 [==============================] - 19s 390ms/step - loss: 0.1177 - accuracy: 0.9598 - val_loss: 0.1478 - val_accuracy: 0.9502\n",
            "\n",
            "Epoch 00072: val_accuracy did not improve from 0.95166\n",
            "Epoch 73/100\n",
            "46/46 [==============================] - 20s 384ms/step - loss: 0.1154 - accuracy: 0.9606 - val_loss: 0.1479 - val_accuracy: 0.9500\n",
            "\n",
            "Epoch 00073: val_accuracy did not improve from 0.95166\n",
            "Epoch 74/100\n",
            "46/46 [==============================] - 21s 399ms/step - loss: 0.1161 - accuracy: 0.9605 - val_loss: 0.1476 - val_accuracy: 0.9498\n",
            "\n",
            "Epoch 00074: val_accuracy did not improve from 0.95166\n",
            "Epoch 75/100\n",
            "46/46 [==============================] - 19s 390ms/step - loss: 0.1191 - accuracy: 0.9598 - val_loss: 0.1465 - val_accuracy: 0.9503\n",
            "\n",
            "Epoch 00075: val_accuracy did not improve from 0.95166\n",
            "Epoch 76/100\n",
            "46/46 [==============================] - 20s 389ms/step - loss: 0.1177 - accuracy: 0.9581 - val_loss: 0.1466 - val_accuracy: 0.9503\n",
            "\n",
            "Epoch 00076: val_accuracy did not improve from 0.95166\n"
          ]
        }
      ]
    },
    {
      "cell_type": "markdown",
      "metadata": {
        "id": "fXZP7HCxqpbS"
      },
      "source": [
        "**Deixe-nos representar graficamente a Precisão do treinamento versus perda para obter uma melhor compreensão do treinamento do modelo.**"
      ]
    },
    {
      "cell_type": "code",
      "metadata": {
        "colab": {
          "base_uri": "https://localhost:8080/",
          "height": 328
        },
        "id": "r2RLRG0mqfsv",
        "outputId": "feade053-1b68-4229-a873-1584fb10de31"
      },
      "source": [
        "plt.figure(figsize=(10, 10))\n",
        "\n",
        "plt.subplot(2, 2, 1)\n",
        "plt.plot(history.history['loss'], label='Loss')\n",
        "plt.plot(history.history['val_loss'], label='Validation Loss')\n",
        "plt.legend()\n",
        "plt.title('Training - Loss Function')\n",
        "\n",
        "plt.subplot(2, 2, 2)\n",
        "plt.plot(history.history['accuracy'], label='Accuracy')\n",
        "plt.plot(history.history['val_accuracy'], label='Validation Accuracy')\n",
        "plt.legend()\n",
        "plt.title('Train - Accuracy')"
      ],
      "execution_count": 26,
      "outputs": [
        {
          "output_type": "execute_result",
          "data": {
            "text/plain": [
              "Text(0.5, 1.0, 'Train - Accuracy')"
            ]
          },
          "metadata": {},
          "execution_count": 26
        },
        {
          "output_type": "display_data",
          "data": {
            "image/png": "[encoded data removed]",
            "text/plain": [
              "<Figure size 720x720 with 2 Axes>"
            ]
          },
          "metadata": {
            "needs_background": "light"
          }
        }
      ]
    },
    {
      "cell_type": "markdown",
      "metadata": {
        "id": "D6gvFi_nY4NB"
      },
      "source": [
        "\n",
        "# **Vamos traçar a precisão do treinamento e da validação, bem como a perda.** "
      ]
    },
    {
      "cell_type": "code",
      "metadata": {
        "id": "HvI5gCDM5Djb",
        "colab": {
          "base_uri": "https://localhost:8080/",
          "height": 545
        },
        "outputId": "e3f5cbe7-a091-4511-cd66-29026d411de6"
      },
      "source": [
        "%matplotlib inline\n",
        "import matplotlib.pyplot as plt\n",
        "acc = history.history['accuracy']\n",
        "val_acc = history.history['val_accuracy']\n",
        "loss = history.history['loss']\n",
        "val_loss = history.history['val_loss']\n",
        "\n",
        "epochs = range(len(acc))\n",
        "\n",
        "plt.plot(epochs, acc, 'r', label='Training accuracy')\n",
        "plt.plot(epochs, val_acc, 'b', label='Validation accuracy')\n",
        "plt.title('Training and validation accuracy')\n",
        "plt.legend(loc=0)\n",
        "plt.figure()\n",
        "\n",
        "plt.plot(epochs, loss, 'r', label='Training Loss')\n",
        "plt.plot(epochs, val_loss, 'b', label='Validation Loss')\n",
        "plt.title('Training and validation loss')\n",
        "plt.legend()\n",
        "\n",
        "plt.show()"
      ],
      "execution_count": 27,
      "outputs": [
        {
          "output_type": "display_data",
          "data": {
            "image/png": "[encoded data removed]",
            "text/plain": [
              "<Figure size 432x288 with 1 Axes>"
            ]
          },
          "metadata": {
            "needs_background": "light"
          }
        },
        {
          "output_type": "display_data",
          "data": {
            "image/png": "[encoded data removed]",
            "text/plain": [
              "<Figure size 432x288 with 1 Axes>"
            ]
          },
          "metadata": {
            "needs_background": "light"
          }
        }
      ]
    },
    {
      "cell_type": "code",
      "metadata": {
        "id": "IMJbJ4iT8f4x"
      },
      "source": [
        "history2= model.history.history\n",
        "px.line(history2,title = \"Metrics Plot\")"
      ],
      "execution_count": null,
      "outputs": []
    },
    {
      "cell_type": "markdown",
      "metadata": {
        "id": "0G-slWFQ1KwJ"
      },
      "source": [
        "# **Otimizar o modelo**"
      ]
    },
    {
      "cell_type": "markdown",
      "metadata": {
        "id": "SukGrdFNTMWX"
      },
      "source": [
        "# **Avaliar acurácia  do Modelo**"
      ]
    },
    {
      "cell_type": "code",
      "metadata": {
        "id": "jHX9PR5gTQZA",
        "colab": {
          "base_uri": "https://localhost:8080/"
        },
        "outputId": "025df8bd-040f-4375-fbf5-c149b8713e9e"
      },
      "source": [
        "model = tf.keras.models.load_model(\"best_model.h5\")\n",
        "\n",
        "test_loss, test_acc= model.evaluate(X_test,y_test)\n",
        "print(\"validation_accuracy: \" + str(test_acc))"
      ],
      "execution_count": 28,
      "outputs": [
        {
          "output_type": "stream",
          "name": "stdout",
          "text": [
            "16/16 [==============================] - 0s 4ms/step - loss: 0.1252 - accuracy: 0.9570\n",
            "validation_accuracy: 0.95703125\n"
          ]
        }
      ]
    },
    {
      "cell_type": "markdown",
      "metadata": {
        "id": "WPvlnHQyjENH"
      },
      "source": [
        "# **Listando as redes realmente disponíveis em seu Keras**"
      ]
    },
    {
      "cell_type": "code",
      "metadata": {
        "colab": {
          "base_uri": "https://localhost:8080/"
        },
        "id": "r7rGxnabi9t2",
        "outputId": "928aaf85-8d97-4803-bffd-c20ef408a4b3"
      },
      "source": [
        "import tensorflow.keras.applications as app\n",
        "print(dir(app))"
      ],
      "execution_count": 29,
      "outputs": [
        {
          "output_type": "stream",
          "name": "stdout",
          "text": [
            "['DenseNet121', 'DenseNet169', 'DenseNet201', 'EfficientNetB0', 'EfficientNetB1', 'EfficientNetB2', 'EfficientNetB3', 'EfficientNetB4', 'EfficientNetB5', 'EfficientNetB6', 'EfficientNetB7', 'InceptionResNetV2', 'InceptionV3', 'MobileNet', 'MobileNetV2', 'MobileNetV3Large', 'MobileNetV3Small', 'NASNetLarge', 'NASNetMobile', 'ResNet101', 'ResNet101V2', 'ResNet152', 'ResNet152V2', 'ResNet50', 'ResNet50V2', 'VGG16', 'VGG19', 'Xception', '__builtins__', '__cached__', '__doc__', '__file__', '__loader__', '__name__', '__package__', '__path__', '__spec__', '_sys', 'densenet', 'efficientnet', 'imagenet_utils', 'inception_resnet_v2', 'inception_v3', 'mobilenet', 'mobilenet_v2', 'mobilenet_v3', 'nasnet', 'resnet', 'resnet50', 'resnet_v2', 'vgg16', 'vgg19', 'xception']\n"
          ]
        }
      ]
    },
    {
      "cell_type": "markdown",
      "metadata": {
        "id": "TtHvNQkI2vle"
      },
      "source": [
        "# **O Modelo pre treinado VGG16**"
      ]
    },
    {
      "cell_type": "code",
      "metadata": {
        "id": "J5ri8TgbjjcD",
        "colab": {
          "base_uri": "https://localhost:8080/"
        },
        "outputId": "d2895a14-9c8f-41f3-d690-b53d6ab5b341"
      },
      "source": [
        "# Inicializar a CNN\n",
        "\n",
        "classifier = VGG16(include_top=False,weights='imagenet',input_shape=(32,32,3))"
      ],
      "execution_count": 30,
      "outputs": [
        {
          "output_type": "stream",
          "name": "stdout",
          "text": [
            "Downloading data from https://storage.googleapis.com/tensorflow/keras-applications/vgg16/vgg16_weights_tf_dim_ordering_tf_kernels_notop.h5\n",
            "58892288/58889256 [==============================] - 1s 0us/step\n",
            "58900480/58889256 [==============================] - 1s 0us/step\n"
          ]
        }
      ]
    },
    {
      "cell_type": "code",
      "metadata": {
        "id": "6_sWdJk654Wn"
      },
      "source": [
        "inp = tf.keras.Input((28,28,3))"
      ],
      "execution_count": null,
      "outputs": []
    },
    {
      "cell_type": "code",
      "metadata": {
        "id": "c9rJf2FU7BwQ",
        "colab": {
          "base_uri": "https://localhost:8080/"
        },
        "outputId": "8195e876-2f79-42cc-e9dd-4144cddc57fa"
      },
      "source": [
        "classifier.layers[0].output"
      ],
      "execution_count": 31,
      "outputs": [
        {
          "output_type": "execute_result",
          "data": {
            "text/plain": [
              "<KerasTensor: shape=(None, 32, 32, 3) dtype=float32 (created by layer 'input_1')>"
            ]
          },
          "metadata": {},
          "execution_count": 31
        }
      ]
    },
    {
      "cell_type": "code",
      "metadata": {
        "colab": {
          "base_uri": "https://localhost:8080/"
        },
        "id": "v-3FFMBQpKXo",
        "outputId": "4bc2ccba-0bc1-4902-d994-3cddb46f3f0e"
      },
      "source": [
        "# marcar camadas como não treináveis\n",
        "for layer in classifier.layers:\n",
        "    layer.trainable = False\n",
        "\n",
        "# adicionar novas camadas para classificação\n",
        "\n",
        "flat1 = tf.keras.layers.Flatten()(classifier.layers[-1].output)\n",
        "class1 = Dense(512, activation='relu', kernel_initializer='he_uniform')(flat1)\n",
        "output = Dense(6, activation='softmax')(class1)\n",
        "\n",
        "# definir o modelo\n",
        "modelvgg16 = Model(inputs=classifier.inputs, outputs=output)\n",
        "\n",
        "modelvgg16.summary()"
      ],
      "execution_count": 32,
      "outputs": [
        {
          "output_type": "stream",
          "name": "stdout",
          "text": [
            "Model: \"model\"\n",
            "_________________________________________________________________\n",
            "Layer (type)                 Output Shape              Param #   \n",
            "=================================================================\n",
            "input_1 (InputLayer)         [(None, 32, 32, 3)]       0         \n",
            "_________________________________________________________________\n",
            "block1_conv1 (Conv2D)        (None, 32, 32, 64)        1792      \n",
            "_________________________________________________________________\n",
            "block1_conv2 (Conv2D)        (None, 32, 32, 64)        36928     \n",
            "_________________________________________________________________\n",
            "block1_pool (MaxPooling2D)   (None, 16, 16, 64)        0         \n",
            "_________________________________________________________________\n",
            "block2_conv1 (Conv2D)        (None, 16, 16, 128)       73856     \n",
            "_________________________________________________________________\n",
            "block2_conv2 (Conv2D)        (None, 16, 16, 128)       147584    \n",
            "_________________________________________________________________\n",
            "block2_pool (MaxPooling2D)   (None, 8, 8, 128)         0         \n",
            "_________________________________________________________________\n",
            "block3_conv1 (Conv2D)        (None, 8, 8, 256)         295168    \n",
            "_________________________________________________________________\n",
            "block3_conv2 (Conv2D)        (None, 8, 8, 256)         590080    \n",
            "_________________________________________________________________\n",
            "block3_conv3 (Conv2D)        (None, 8, 8, 256)         590080    \n",
            "_________________________________________________________________\n",
            "block3_pool (MaxPooling2D)   (None, 4, 4, 256)         0         \n",
            "_________________________________________________________________\n",
            "block4_conv1 (Conv2D)        (None, 4, 4, 512)         1180160   \n",
            "_________________________________________________________________\n",
            "block4_conv2 (Conv2D)        (None, 4, 4, 512)         2359808   \n",
            "_________________________________________________________________\n",
            "block4_conv3 (Conv2D)        (None, 4, 4, 512)         2359808   \n",
            "_________________________________________________________________\n",
            "block4_pool (MaxPooling2D)   (None, 2, 2, 512)         0         \n",
            "_________________________________________________________________\n",
            "block5_conv1 (Conv2D)        (None, 2, 2, 512)         2359808   \n",
            "_________________________________________________________________\n",
            "block5_conv2 (Conv2D)        (None, 2, 2, 512)         2359808   \n",
            "_________________________________________________________________\n",
            "block5_conv3 (Conv2D)        (None, 2, 2, 512)         2359808   \n",
            "_________________________________________________________________\n",
            "block5_pool (MaxPooling2D)   (None, 1, 1, 512)         0         \n",
            "_________________________________________________________________\n",
            "flatten_1 (Flatten)          (None, 512)               0         \n",
            "_________________________________________________________________\n",
            "dense_2 (Dense)              (None, 512)               262656    \n",
            "_________________________________________________________________\n",
            "dense_3 (Dense)              (None, 6)                 3078      \n",
            "=================================================================\n",
            "Total params: 14,980,422\n",
            "Trainable params: 265,734\n",
            "Non-trainable params: 14,714,688\n",
            "_________________________________________________________________\n"
          ]
        }
      ]
    },
    {
      "cell_type": "code",
      "metadata": {
        "id": "wvbEuAEuQxLI"
      },
      "source": [
        "modelvgg16.compile(optimizer = Adam(learning_rate=0.0001), \n",
        "               loss = 'categorical_crossentropy', \n",
        "               metrics =['accuracy'])  \n",
        "\n",
        "callbacksvgg16 = [\n",
        "    tf.keras.callbacks.ReduceLROnPlateau(factor=0.5,\n",
        "                                         patience=4,\n",
        "                                         verbose=0),\n",
        "    tf.keras.callbacks.EarlyStopping(\n",
        "        monitor=\"accuracy\",\n",
        "        patience=12,\n",
        "        restore_best_weights=True,\n",
        "    ),\n",
        "    tf.keras.callbacks.ModelCheckpoint(\n",
        "        filepath='feature_extraction.vgg16',\n",
        "        save_best_only=True,\n",
        "        monitor=\"val_accuracy\",\n",
        "    ),\n",
        "\n",
        "]"
      ],
      "execution_count": 33,
      "outputs": []
    },
    {
      "cell_type": "code",
      "metadata": {
        "id": "Q49JsEYskH6B",
        "colab": {
          "base_uri": "https://localhost:8080/"
        },
        "outputId": "b4f68961-6b67-49ff-aae4-9a9951ee8c45"
      },
      "source": [
        "epochs=100\n",
        "historyvgg16 = model.fit(X_train,y_train,\n",
        "                    epochs=epochs,\n",
        "                     #verbose=0,\n",
        "                    #steps_per_epoch = 23999/64,\n",
        "                     callbacks=callbacksvgg16,\n",
        "                    validation_data=(X_val,y_val))\n",
        "                    #validation_steps = 5999/64)"
      ],
      "execution_count": 34,
      "outputs": [
        {
          "output_type": "stream",
          "name": "stdout",
          "text": [
            "Epoch 1/100\n",
            "16/16 [==============================] - 1s 14ms/step - loss: 0.1898 - accuracy: 0.9355 - val_loss: 0.1567 - val_accuracy: 0.9453\n",
            "INFO:tensorflow:Assets written to: feature_extraction.vgg16/assets\n",
            "Epoch 2/100\n",
            "16/16 [==============================] - 0s 10ms/step - loss: 0.2199 - accuracy: 0.9062 - val_loss: 0.1802 - val_accuracy: 0.9316\n",
            "Epoch 3/100\n",
            "16/16 [==============================] - 0s 12ms/step - loss: 0.1957 - accuracy: 0.9316 - val_loss: 0.2396 - val_accuracy: 0.9121\n",
            "Epoch 4/100\n",
            "16/16 [==============================] - 0s 11ms/step - loss: 0.1573 - accuracy: 0.9414 - val_loss: 0.2075 - val_accuracy: 0.9355\n",
            "Epoch 5/100\n",
            "16/16 [==============================] - 0s 12ms/step - loss: 0.1471 - accuracy: 0.9434 - val_loss: 0.2308 - val_accuracy: 0.9180\n",
            "Epoch 6/100\n",
            "16/16 [==============================] - 0s 12ms/step - loss: 0.1347 - accuracy: 0.9512 - val_loss: 0.1904 - val_accuracy: 0.9395\n",
            "Epoch 7/100\n",
            "16/16 [==============================] - 0s 12ms/step - loss: 0.1444 - accuracy: 0.9473 - val_loss: 0.1629 - val_accuracy: 0.9492\n",
            "INFO:tensorflow:Assets written to: feature_extraction.vgg16/assets\n",
            "Epoch 8/100\n",
            "16/16 [==============================] - 0s 12ms/step - loss: 0.1439 - accuracy: 0.9531 - val_loss: 0.2049 - val_accuracy: 0.9258\n",
            "Epoch 9/100\n",
            "16/16 [==============================] - 0s 10ms/step - loss: 0.1417 - accuracy: 0.9512 - val_loss: 0.2117 - val_accuracy: 0.9297\n",
            "Epoch 10/100\n",
            "16/16 [==============================] - 0s 10ms/step - loss: 0.1346 - accuracy: 0.9473 - val_loss: 0.1953 - val_accuracy: 0.9355\n",
            "Epoch 11/100\n",
            "16/16 [==============================] - 0s 12ms/step - loss: 0.1350 - accuracy: 0.9570 - val_loss: 0.1942 - val_accuracy: 0.9375\n",
            "Epoch 12/100\n",
            "16/16 [==============================] - 0s 10ms/step - loss: 0.1493 - accuracy: 0.9473 - val_loss: 0.2064 - val_accuracy: 0.9316\n",
            "Epoch 13/100\n",
            "16/16 [==============================] - 0s 11ms/step - loss: 0.1514 - accuracy: 0.9512 - val_loss: 0.2042 - val_accuracy: 0.9336\n",
            "Epoch 14/100\n",
            "16/16 [==============================] - 0s 13ms/step - loss: 0.1223 - accuracy: 0.9531 - val_loss: 0.1953 - val_accuracy: 0.9414\n",
            "Epoch 15/100\n",
            "16/16 [==============================] - 0s 11ms/step - loss: 0.1788 - accuracy: 0.9258 - val_loss: 0.1780 - val_accuracy: 0.9434\n",
            "Epoch 16/100\n",
            "16/16 [==============================] - 0s 12ms/step - loss: 0.1301 - accuracy: 0.9492 - val_loss: 0.1784 - val_accuracy: 0.9453\n",
            "Epoch 17/100\n",
            "16/16 [==============================] - 0s 10ms/step - loss: 0.1443 - accuracy: 0.9492 - val_loss: 0.1742 - val_accuracy: 0.9453\n",
            "Epoch 18/100\n",
            "16/16 [==============================] - 0s 12ms/step - loss: 0.1338 - accuracy: 0.9512 - val_loss: 0.1697 - val_accuracy: 0.9453\n",
            "Epoch 19/100\n",
            "16/16 [==============================] - 0s 12ms/step - loss: 0.1279 - accuracy: 0.9492 - val_loss: 0.1676 - val_accuracy: 0.9453\n",
            "Epoch 20/100\n",
            "16/16 [==============================] - 0s 11ms/step - loss: 0.1272 - accuracy: 0.9609 - val_loss: 0.1668 - val_accuracy: 0.9453\n",
            "Epoch 21/100\n",
            "16/16 [==============================] - 0s 12ms/step - loss: 0.1289 - accuracy: 0.9551 - val_loss: 0.1664 - val_accuracy: 0.9453\n",
            "Epoch 22/100\n",
            "16/16 [==============================] - 0s 10ms/step - loss: 0.1306 - accuracy: 0.9453 - val_loss: 0.1653 - val_accuracy: 0.9453\n",
            "Epoch 23/100\n",
            "16/16 [==============================] - 0s 12ms/step - loss: 0.1140 - accuracy: 0.9609 - val_loss: 0.1659 - val_accuracy: 0.9453\n",
            "Epoch 24/100\n",
            "16/16 [==============================] - 0s 10ms/step - loss: 0.1660 - accuracy: 0.9336 - val_loss: 0.1648 - val_accuracy: 0.9453\n",
            "Epoch 25/100\n",
            "16/16 [==============================] - 0s 11ms/step - loss: 0.1399 - accuracy: 0.9492 - val_loss: 0.1630 - val_accuracy: 0.9453\n",
            "Epoch 26/100\n",
            "16/16 [==============================] - 0s 10ms/step - loss: 0.1277 - accuracy: 0.9551 - val_loss: 0.1628 - val_accuracy: 0.9453\n",
            "Epoch 27/100\n",
            "16/16 [==============================] - 0s 12ms/step - loss: 0.1675 - accuracy: 0.9316 - val_loss: 0.1623 - val_accuracy: 0.9453\n",
            "Epoch 28/100\n",
            "16/16 [==============================] - 0s 11ms/step - loss: 0.1650 - accuracy: 0.9453 - val_loss: 0.1622 - val_accuracy: 0.9453\n",
            "Epoch 29/100\n",
            "16/16 [==============================] - 0s 13ms/step - loss: 0.1205 - accuracy: 0.9570 - val_loss: 0.1614 - val_accuracy: 0.9453\n",
            "Epoch 30/100\n",
            "16/16 [==============================] - 0s 12ms/step - loss: 0.1267 - accuracy: 0.9492 - val_loss: 0.1610 - val_accuracy: 0.9453\n",
            "Epoch 31/100\n",
            "16/16 [==============================] - 0s 12ms/step - loss: 0.1523 - accuracy: 0.9414 - val_loss: 0.1609 - val_accuracy: 0.9453\n",
            "Epoch 32/100\n",
            "16/16 [==============================] - 0s 12ms/step - loss: 0.1382 - accuracy: 0.9512 - val_loss: 0.1606 - val_accuracy: 0.9453\n"
          ]
        }
      ]
    },
    {
      "cell_type": "code",
      "metadata": {
        "id": "OzhMZWXqtWGz",
        "colab": {
          "base_uri": "https://localhost:8080/",
          "height": 545
        },
        "outputId": "6775df7f-dd3c-411e-b682-c5d50b7887e9"
      },
      "source": [
        "%matplotlib inline\n",
        "import matplotlib.pyplot as plt\n",
        "acc = historyvgg16.history['accuracy']\n",
        "val_acc = historyvgg16.history['val_accuracy']\n",
        "loss = historyvgg16.history['loss']\n",
        "val_loss = historyvgg16.history['val_loss']\n",
        "\n",
        "epochs = range(len(acc))\n",
        "\n",
        "plt.plot(epochs, acc, 'r', label='Training accuracy')\n",
        "plt.plot(epochs, val_acc, 'b', label='Validation accuracy')\n",
        "plt.title('Training and validation accuracy')\n",
        "plt.legend(loc=0)\n",
        "plt.figure()\n",
        "\n",
        "plt.plot(epochs, loss, 'r', label='Training Loss')\n",
        "plt.plot(epochs, val_loss, 'b', label='Validation Loss')\n",
        "plt.title('Training and validation loss')\n",
        "plt.legend()\n",
        "\n",
        "plt.show()"
      ],
      "execution_count": 35,
      "outputs": [
        {
          "output_type": "display_data",
          "data": {
            "image/png": "[encoded data removed]",
            "text/plain": [
              "<Figure size 432x288 with 1 Axes>"
            ]
          },
          "metadata": {
            "needs_background": "light"
          }
        },
        {
          "output_type": "display_data",
          "data": {
            "image/png": "[encoded data removed]",
            "text/plain": [
              "<Figure size 432x288 with 1 Axes>"
            ]
          },
          "metadata": {
            "needs_background": "light"
          }
        }
      ]
    },
    {
      "cell_type": "code",
      "metadata": {
        "id": "Usw3n8GmtmXH",
        "colab": {
          "base_uri": "https://localhost:8080/"
        },
        "outputId": "7c96868b-b3f8-4a20-ad17-8cbe443ea313"
      },
      "source": [
        "modelvgg16 = tf.keras.models.load_model(\"feature_extraction.vgg16\")\n",
        "\n",
        "test_lossvgg16, test_accvgg16= modelvgg16.evaluate(X_test,y_test)\n",
        "print(\"validation_accuracy: \" + str(test_accvgg16))"
      ],
      "execution_count": 36,
      "outputs": [
        {
          "output_type": "stream",
          "name": "stdout",
          "text": [
            "16/16 [==============================] - 0s 4ms/step - loss: 0.1433 - accuracy: 0.9453\n",
            "validation_accuracy: 0.9453125\n"
          ]
        }
      ]
    },
    {
      "cell_type": "markdown",
      "metadata": {
        "id": "sy2zkcHz6FPn"
      },
      "source": [
        "# **O modeo InceptionV3**"
      ]
    },
    {
      "cell_type": "code",
      "metadata": {
        "id": "20chtUcZ6F-F"
      },
      "source": [
        "#inception_v3 = InceptionV3(input_shape=(150, 150, 3),\n",
        "                           #weights='imagenet',\n",
        "                           #include_top=False)\n",
        "#inception_v3.trainable = False"
      ],
      "execution_count": null,
      "outputs": []
    },
    {
      "cell_type": "code",
      "metadata": {
        "id": "hFC6sp1q6Lct",
        "colab": {
          "base_uri": "https://localhost:8080/"
        },
        "outputId": "8550ba40-8696-4101-ce1d-dc9aefefaa7c"
      },
      "source": [
        "classifier_v3 = InceptionV3(include_top=False, input_shape=(75, 75, 3)) \n",
        "\n",
        "# marcar camadas como não treináveis\n",
        "for layer in classifier.layers:\n",
        "    layer.trainable = False\n",
        "\n",
        "x = tf.keras.layers.Flatten()(classifier_v3.layers[-1].output)\n",
        "x = Dense(512, activation='relu', kernel_initializer='he_uniform')(x)\n",
        "output = Dense(6, activation='softmax')(x)\n",
        "\n",
        "#x = layers.Flatten()(inception_v3.output)\n",
        "#x = layers.BatchNormalization()(x)\n",
        "#x = layers.Dense(512,activation='relu')(x)\n",
        "#x = layers.Dropout(0.2)(x)                  \n",
        "#x = layers.Dense(6,activation='softmax')(x)           \n",
        "\n",
        "# definir o modelo\n",
        "modelinception_v3 = Model(inputs=classifier_v3.input, outputs=output) \n",
        "\n",
        "modelinception_v3.summary()"
      ],
      "execution_count": null,
      "outputs": [
        {
          "output_type": "stream",
          "name": "stdout",
          "text": [
            "Downloading data from https://storage.googleapis.com/tensorflow/keras-applications/inception_v3/inception_v3_weights_tf_dim_ordering_tf_kernels_notop.h5\n",
            "87916544/87910968 [==============================] - 1s 0us/step\n",
            "87924736/87910968 [==============================] - 1s 0us/step\n",
            "Model: \"model_1\"\n",
            "__________________________________________________________________________________________________\n",
            "Layer (type)                    Output Shape         Param #     Connected to                     \n",
            "==================================================================================================\n",
            "input_2 (InputLayer)            [(None, 75, 75, 3)]  0                                            \n",
            "__________________________________________________________________________________________________\n",
            "conv2d_3 (Conv2D)               (None, 37, 37, 32)   864         input_2[0][0]                    \n",
            "__________________________________________________________________________________________________\n",
            "batch_normalization_1 (BatchNor (None, 37, 37, 32)   96          conv2d_3[0][0]                   \n",
            "__________________________________________________________________________________________________\n",
            "activation (Activation)         (None, 37, 37, 32)   0           batch_normalization_1[0][0]      \n",
            "__________________________________________________________________________________________________\n",
            "conv2d_4 (Conv2D)               (None, 35, 35, 32)   9216        activation[0][0]                 \n",
            "__________________________________________________________________________________________________\n",
            "batch_normalization_2 (BatchNor (None, 35, 35, 32)   96          conv2d_4[0][0]                   \n",
            "__________________________________________________________________________________________________\n",
            "activation_1 (Activation)       (None, 35, 35, 32)   0           batch_normalization_2[0][0]      \n",
            "__________________________________________________________________________________________________\n",
            "conv2d_5 (Conv2D)               (None, 35, 35, 64)   18432       activation_1[0][0]               \n",
            "__________________________________________________________________________________________________\n",
            "batch_normalization_3 (BatchNor (None, 35, 35, 64)   192         conv2d_5[0][0]                   \n",
            "__________________________________________________________________________________________________\n",
            "activation_2 (Activation)       (None, 35, 35, 64)   0           batch_normalization_3[0][0]      \n",
            "__________________________________________________________________________________________________\n",
            "max_pooling2d_3 (MaxPooling2D)  (None, 17, 17, 64)   0           activation_2[0][0]               \n",
            "__________________________________________________________________________________________________\n",
            "conv2d_6 (Conv2D)               (None, 17, 17, 80)   5120        max_pooling2d_3[0][0]            \n",
            "__________________________________________________________________________________________________\n",
            "batch_normalization_4 (BatchNor (None, 17, 17, 80)   240         conv2d_6[0][0]                   \n",
            "__________________________________________________________________________________________________\n",
            "activation_3 (Activation)       (None, 17, 17, 80)   0           batch_normalization_4[0][0]      \n",
            "__________________________________________________________________________________________________\n",
            "conv2d_7 (Conv2D)               (None, 15, 15, 192)  138240      activation_3[0][0]               \n",
            "__________________________________________________________________________________________________\n",
            "batch_normalization_5 (BatchNor (None, 15, 15, 192)  576         conv2d_7[0][0]                   \n",
            "__________________________________________________________________________________________________\n",
            "activation_4 (Activation)       (None, 15, 15, 192)  0           batch_normalization_5[0][0]      \n",
            "__________________________________________________________________________________________________\n",
            "max_pooling2d_4 (MaxPooling2D)  (None, 7, 7, 192)    0           activation_4[0][0]               \n",
            "__________________________________________________________________________________________________\n",
            "conv2d_11 (Conv2D)              (None, 7, 7, 64)     12288       max_pooling2d_4[0][0]            \n",
            "__________________________________________________________________________________________________\n",
            "batch_normalization_9 (BatchNor (None, 7, 7, 64)     192         conv2d_11[0][0]                  \n",
            "__________________________________________________________________________________________________\n",
            "activation_8 (Activation)       (None, 7, 7, 64)     0           batch_normalization_9[0][0]      \n",
            "__________________________________________________________________________________________________\n",
            "conv2d_9 (Conv2D)               (None, 7, 7, 48)     9216        max_pooling2d_4[0][0]            \n",
            "__________________________________________________________________________________________________\n",
            "conv2d_12 (Conv2D)              (None, 7, 7, 96)     55296       activation_8[0][0]               \n",
            "__________________________________________________________________________________________________\n",
            "batch_normalization_7 (BatchNor (None, 7, 7, 48)     144         conv2d_9[0][0]                   \n",
            "__________________________________________________________________________________________________\n",
            "batch_normalization_10 (BatchNo (None, 7, 7, 96)     288         conv2d_12[0][0]                  \n",
            "__________________________________________________________________________________________________\n",
            "activation_6 (Activation)       (None, 7, 7, 48)     0           batch_normalization_7[0][0]      \n",
            "__________________________________________________________________________________________________\n",
            "activation_9 (Activation)       (None, 7, 7, 96)     0           batch_normalization_10[0][0]     \n",
            "__________________________________________________________________________________________________\n",
            "average_pooling2d (AveragePooli (None, 7, 7, 192)    0           max_pooling2d_4[0][0]            \n",
            "__________________________________________________________________________________________________\n",
            "conv2d_8 (Conv2D)               (None, 7, 7, 64)     12288       max_pooling2d_4[0][0]            \n",
            "__________________________________________________________________________________________________\n",
            "conv2d_10 (Conv2D)              (None, 7, 7, 64)     76800       activation_6[0][0]               \n",
            "__________________________________________________________________________________________________\n",
            "conv2d_13 (Conv2D)              (None, 7, 7, 96)     82944       activation_9[0][0]               \n",
            "__________________________________________________________________________________________________\n",
            "conv2d_14 (Conv2D)              (None, 7, 7, 32)     6144        average_pooling2d[0][0]          \n",
            "__________________________________________________________________________________________________\n",
            "batch_normalization_6 (BatchNor (None, 7, 7, 64)     192         conv2d_8[0][0]                   \n",
            "__________________________________________________________________________________________________\n",
            "batch_normalization_8 (BatchNor (None, 7, 7, 64)     192         conv2d_10[0][0]                  \n",
            "__________________________________________________________________________________________________\n",
            "batch_normalization_11 (BatchNo (None, 7, 7, 96)     288         conv2d_13[0][0]                  \n",
            "__________________________________________________________________________________________________\n",
            "batch_normalization_12 (BatchNo (None, 7, 7, 32)     96          conv2d_14[0][0]                  \n",
            "__________________________________________________________________________________________________\n",
            "activation_5 (Activation)       (None, 7, 7, 64)     0           batch_normalization_6[0][0]      \n",
            "__________________________________________________________________________________________________\n",
            "activation_7 (Activation)       (None, 7, 7, 64)     0           batch_normalization_8[0][0]      \n",
            "__________________________________________________________________________________________________\n",
            "activation_10 (Activation)      (None, 7, 7, 96)     0           batch_normalization_11[0][0]     \n",
            "__________________________________________________________________________________________________\n",
            "activation_11 (Activation)      (None, 7, 7, 32)     0           batch_normalization_12[0][0]     \n",
            "__________________________________________________________________________________________________\n",
            "mixed0 (Concatenate)            (None, 7, 7, 256)    0           activation_5[0][0]               \n",
            "                                                                 activation_7[0][0]               \n",
            "                                                                 activation_10[0][0]              \n",
            "                                                                 activation_11[0][0]              \n",
            "__________________________________________________________________________________________________\n",
            "conv2d_18 (Conv2D)              (None, 7, 7, 64)     16384       mixed0[0][0]                     \n",
            "__________________________________________________________________________________________________\n",
            "batch_normalization_16 (BatchNo (None, 7, 7, 64)     192         conv2d_18[0][0]                  \n",
            "__________________________________________________________________________________________________\n",
            "activation_15 (Activation)      (None, 7, 7, 64)     0           batch_normalization_16[0][0]     \n",
            "__________________________________________________________________________________________________\n",
            "conv2d_16 (Conv2D)              (None, 7, 7, 48)     12288       mixed0[0][0]                     \n",
            "__________________________________________________________________________________________________\n",
            "conv2d_19 (Conv2D)              (None, 7, 7, 96)     55296       activation_15[0][0]              \n",
            "__________________________________________________________________________________________________\n",
            "batch_normalization_14 (BatchNo (None, 7, 7, 48)     144         conv2d_16[0][0]                  \n",
            "__________________________________________________________________________________________________\n",
            "batch_normalization_17 (BatchNo (None, 7, 7, 96)     288         conv2d_19[0][0]                  \n",
            "__________________________________________________________________________________________________\n",
            "activation_13 (Activation)      (None, 7, 7, 48)     0           batch_normalization_14[0][0]     \n",
            "__________________________________________________________________________________________________\n",
            "activation_16 (Activation)      (None, 7, 7, 96)     0           batch_normalization_17[0][0]     \n",
            "__________________________________________________________________________________________________\n",
            "average_pooling2d_1 (AveragePoo (None, 7, 7, 256)    0           mixed0[0][0]                     \n",
            "__________________________________________________________________________________________________\n",
            "conv2d_15 (Conv2D)              (None, 7, 7, 64)     16384       mixed0[0][0]                     \n",
            "__________________________________________________________________________________________________\n",
            "conv2d_17 (Conv2D)              (None, 7, 7, 64)     76800       activation_13[0][0]              \n",
            "__________________________________________________________________________________________________\n",
            "conv2d_20 (Conv2D)              (None, 7, 7, 96)     82944       activation_16[0][0]              \n",
            "__________________________________________________________________________________________________\n",
            "conv2d_21 (Conv2D)              (None, 7, 7, 64)     16384       average_pooling2d_1[0][0]        \n",
            "__________________________________________________________________________________________________\n",
            "batch_normalization_13 (BatchNo (None, 7, 7, 64)     192         conv2d_15[0][0]                  \n",
            "__________________________________________________________________________________________________\n",
            "batch_normalization_15 (BatchNo (None, 7, 7, 64)     192         conv2d_17[0][0]                  \n",
            "__________________________________________________________________________________________________\n",
            "batch_normalization_18 (BatchNo (None, 7, 7, 96)     288         conv2d_20[0][0]                  \n",
            "__________________________________________________________________________________________________\n",
            "batch_normalization_19 (BatchNo (None, 7, 7, 64)     192         conv2d_21[0][0]                  \n",
            "__________________________________________________________________________________________________\n",
            "activation_12 (Activation)      (None, 7, 7, 64)     0           batch_normalization_13[0][0]     \n",
            "__________________________________________________________________________________________________\n",
            "activation_14 (Activation)      (None, 7, 7, 64)     0           batch_normalization_15[0][0]     \n",
            "__________________________________________________________________________________________________\n",
            "activation_17 (Activation)      (None, 7, 7, 96)     0           batch_normalization_18[0][0]     \n",
            "__________________________________________________________________________________________________\n",
            "activation_18 (Activation)      (None, 7, 7, 64)     0           batch_normalization_19[0][0]     \n",
            "__________________________________________________________________________________________________\n",
            "mixed1 (Concatenate)            (None, 7, 7, 288)    0           activation_12[0][0]              \n",
            "                                                                 activation_14[0][0]              \n",
            "                                                                 activation_17[0][0]              \n",
            "                                                                 activation_18[0][0]              \n",
            "__________________________________________________________________________________________________\n",
            "conv2d_25 (Conv2D)              (None, 7, 7, 64)     18432       mixed1[0][0]                     \n",
            "__________________________________________________________________________________________________\n",
            "batch_normalization_23 (BatchNo (None, 7, 7, 64)     192         conv2d_25[0][0]                  \n",
            "__________________________________________________________________________________________________\n",
            "activation_22 (Activation)      (None, 7, 7, 64)     0           batch_normalization_23[0][0]     \n",
            "__________________________________________________________________________________________________\n",
            "conv2d_23 (Conv2D)              (None, 7, 7, 48)     13824       mixed1[0][0]                     \n",
            "__________________________________________________________________________________________________\n",
            "conv2d_26 (Conv2D)              (None, 7, 7, 96)     55296       activation_22[0][0]              \n",
            "__________________________________________________________________________________________________\n",
            "batch_normalization_21 (BatchNo (None, 7, 7, 48)     144         conv2d_23[0][0]                  \n",
            "__________________________________________________________________________________________________\n",
            "batch_normalization_24 (BatchNo (None, 7, 7, 96)     288         conv2d_26[0][0]                  \n",
            "__________________________________________________________________________________________________\n",
            "activation_20 (Activation)      (None, 7, 7, 48)     0           batch_normalization_21[0][0]     \n",
            "__________________________________________________________________________________________________\n",
            "activation_23 (Activation)      (None, 7, 7, 96)     0           batch_normalization_24[0][0]     \n",
            "__________________________________________________________________________________________________\n",
            "average_pooling2d_2 (AveragePoo (None, 7, 7, 288)    0           mixed1[0][0]                     \n",
            "__________________________________________________________________________________________________\n",
            "conv2d_22 (Conv2D)              (None, 7, 7, 64)     18432       mixed1[0][0]                     \n",
            "__________________________________________________________________________________________________\n",
            "conv2d_24 (Conv2D)              (None, 7, 7, 64)     76800       activation_20[0][0]              \n",
            "__________________________________________________________________________________________________\n",
            "conv2d_27 (Conv2D)              (None, 7, 7, 96)     82944       activation_23[0][0]              \n",
            "__________________________________________________________________________________________________\n",
            "conv2d_28 (Conv2D)              (None, 7, 7, 64)     18432       average_pooling2d_2[0][0]        \n",
            "__________________________________________________________________________________________________\n",
            "batch_normalization_20 (BatchNo (None, 7, 7, 64)     192         conv2d_22[0][0]                  \n",
            "__________________________________________________________________________________________________\n",
            "batch_normalization_22 (BatchNo (None, 7, 7, 64)     192         conv2d_24[0][0]                  \n",
            "__________________________________________________________________________________________________\n",
            "batch_normalization_25 (BatchNo (None, 7, 7, 96)     288         conv2d_27[0][0]                  \n",
            "__________________________________________________________________________________________________\n",
            "batch_normalization_26 (BatchNo (None, 7, 7, 64)     192         conv2d_28[0][0]                  \n",
            "__________________________________________________________________________________________________\n",
            "activation_19 (Activation)      (None, 7, 7, 64)     0           batch_normalization_20[0][0]     \n",
            "__________________________________________________________________________________________________\n",
            "activation_21 (Activation)      (None, 7, 7, 64)     0           batch_normalization_22[0][0]     \n",
            "__________________________________________________________________________________________________\n",
            "activation_24 (Activation)      (None, 7, 7, 96)     0           batch_normalization_25[0][0]     \n",
            "__________________________________________________________________________________________________\n",
            "activation_25 (Activation)      (None, 7, 7, 64)     0           batch_normalization_26[0][0]     \n",
            "__________________________________________________________________________________________________\n",
            "mixed2 (Concatenate)            (None, 7, 7, 288)    0           activation_19[0][0]              \n",
            "                                                                 activation_21[0][0]              \n",
            "                                                                 activation_24[0][0]              \n",
            "                                                                 activation_25[0][0]              \n",
            "__________________________________________________________________________________________________\n",
            "conv2d_30 (Conv2D)              (None, 7, 7, 64)     18432       mixed2[0][0]                     \n",
            "__________________________________________________________________________________________________\n",
            "batch_normalization_28 (BatchNo (None, 7, 7, 64)     192         conv2d_30[0][0]                  \n",
            "__________________________________________________________________________________________________\n",
            "activation_27 (Activation)      (None, 7, 7, 64)     0           batch_normalization_28[0][0]     \n",
            "__________________________________________________________________________________________________\n",
            "conv2d_31 (Conv2D)              (None, 7, 7, 96)     55296       activation_27[0][0]              \n",
            "__________________________________________________________________________________________________\n",
            "batch_normalization_29 (BatchNo (None, 7, 7, 96)     288         conv2d_31[0][0]                  \n",
            "__________________________________________________________________________________________________\n",
            "activation_28 (Activation)      (None, 7, 7, 96)     0           batch_normalization_29[0][0]     \n",
            "__________________________________________________________________________________________________\n",
            "conv2d_29 (Conv2D)              (None, 3, 3, 384)    995328      mixed2[0][0]                     \n",
            "__________________________________________________________________________________________________\n",
            "conv2d_32 (Conv2D)              (None, 3, 3, 96)     82944       activation_28[0][0]              \n",
            "__________________________________________________________________________________________________\n",
            "batch_normalization_27 (BatchNo (None, 3, 3, 384)    1152        conv2d_29[0][0]                  \n",
            "__________________________________________________________________________________________________\n",
            "batch_normalization_30 (BatchNo (None, 3, 3, 96)     288         conv2d_32[0][0]                  \n",
            "__________________________________________________________________________________________________\n",
            "activation_26 (Activation)      (None, 3, 3, 384)    0           batch_normalization_27[0][0]     \n",
            "__________________________________________________________________________________________________\n",
            "activation_29 (Activation)      (None, 3, 3, 96)     0           batch_normalization_30[0][0]     \n",
            "__________________________________________________________________________________________________\n",
            "max_pooling2d_5 (MaxPooling2D)  (None, 3, 3, 288)    0           mixed2[0][0]                     \n",
            "__________________________________________________________________________________________________\n",
            "mixed3 (Concatenate)            (None, 3, 3, 768)    0           activation_26[0][0]              \n",
            "                                                                 activation_29[0][0]              \n",
            "                                                                 max_pooling2d_5[0][0]            \n",
            "__________________________________________________________________________________________________\n",
            "conv2d_37 (Conv2D)              (None, 3, 3, 128)    98304       mixed3[0][0]                     \n",
            "__________________________________________________________________________________________________\n",
            "batch_normalization_35 (BatchNo (None, 3, 3, 128)    384         conv2d_37[0][0]                  \n",
            "__________________________________________________________________________________________________\n",
            "activation_34 (Activation)      (None, 3, 3, 128)    0           batch_normalization_35[0][0]     \n",
            "__________________________________________________________________________________________________\n",
            "conv2d_38 (Conv2D)              (None, 3, 3, 128)    114688      activation_34[0][0]              \n",
            "__________________________________________________________________________________________________\n",
            "batch_normalization_36 (BatchNo (None, 3, 3, 128)    384         conv2d_38[0][0]                  \n",
            "__________________________________________________________________________________________________\n",
            "activation_35 (Activation)      (None, 3, 3, 128)    0           batch_normalization_36[0][0]     \n",
            "__________________________________________________________________________________________________\n",
            "conv2d_34 (Conv2D)              (None, 3, 3, 128)    98304       mixed3[0][0]                     \n",
            "__________________________________________________________________________________________________\n",
            "conv2d_39 (Conv2D)              (None, 3, 3, 128)    114688      activation_35[0][0]              \n",
            "__________________________________________________________________________________________________\n",
            "batch_normalization_32 (BatchNo (None, 3, 3, 128)    384         conv2d_34[0][0]                  \n",
            "__________________________________________________________________________________________________\n",
            "batch_normalization_37 (BatchNo (None, 3, 3, 128)    384         conv2d_39[0][0]                  \n",
            "__________________________________________________________________________________________________\n",
            "activation_31 (Activation)      (None, 3, 3, 128)    0           batch_normalization_32[0][0]     \n",
            "__________________________________________________________________________________________________\n",
            "activation_36 (Activation)      (None, 3, 3, 128)    0           batch_normalization_37[0][0]     \n",
            "__________________________________________________________________________________________________\n",
            "conv2d_35 (Conv2D)              (None, 3, 3, 128)    114688      activation_31[0][0]              \n",
            "__________________________________________________________________________________________________\n",
            "conv2d_40 (Conv2D)              (None, 3, 3, 128)    114688      activation_36[0][0]              \n",
            "__________________________________________________________________________________________________\n",
            "batch_normalization_33 (BatchNo (None, 3, 3, 128)    384         conv2d_35[0][0]                  \n",
            "__________________________________________________________________________________________________\n",
            "batch_normalization_38 (BatchNo (None, 3, 3, 128)    384         conv2d_40[0][0]                  \n",
            "__________________________________________________________________________________________________\n",
            "activation_32 (Activation)      (None, 3, 3, 128)    0           batch_normalization_33[0][0]     \n",
            "__________________________________________________________________________________________________\n",
            "activation_37 (Activation)      (None, 3, 3, 128)    0           batch_normalization_38[0][0]     \n",
            "__________________________________________________________________________________________________\n",
            "average_pooling2d_3 (AveragePoo (None, 3, 3, 768)    0           mixed3[0][0]                     \n",
            "__________________________________________________________________________________________________\n",
            "conv2d_33 (Conv2D)              (None, 3, 3, 192)    147456      mixed3[0][0]                     \n",
            "__________________________________________________________________________________________________\n",
            "conv2d_36 (Conv2D)              (None, 3, 3, 192)    172032      activation_32[0][0]              \n",
            "__________________________________________________________________________________________________\n",
            "conv2d_41 (Conv2D)              (None, 3, 3, 192)    172032      activation_37[0][0]              \n",
            "__________________________________________________________________________________________________\n",
            "conv2d_42 (Conv2D)              (None, 3, 3, 192)    147456      average_pooling2d_3[0][0]        \n",
            "__________________________________________________________________________________________________\n",
            "batch_normalization_31 (BatchNo (None, 3, 3, 192)    576         conv2d_33[0][0]                  \n",
            "__________________________________________________________________________________________________\n",
            "batch_normalization_34 (BatchNo (None, 3, 3, 192)    576         conv2d_36[0][0]                  \n",
            "__________________________________________________________________________________________________\n",
            "batch_normalization_39 (BatchNo (None, 3, 3, 192)    576         conv2d_41[0][0]                  \n",
            "__________________________________________________________________________________________________\n",
            "batch_normalization_40 (BatchNo (None, 3, 3, 192)    576         conv2d_42[0][0]                  \n",
            "__________________________________________________________________________________________________\n",
            "activation_30 (Activation)      (None, 3, 3, 192)    0           batch_normalization_31[0][0]     \n",
            "__________________________________________________________________________________________________\n",
            "activation_33 (Activation)      (None, 3, 3, 192)    0           batch_normalization_34[0][0]     \n",
            "__________________________________________________________________________________________________\n",
            "activation_38 (Activation)      (None, 3, 3, 192)    0           batch_normalization_39[0][0]     \n",
            "__________________________________________________________________________________________________\n",
            "activation_39 (Activation)      (None, 3, 3, 192)    0           batch_normalization_40[0][0]     \n",
            "__________________________________________________________________________________________________\n",
            "mixed4 (Concatenate)            (None, 3, 3, 768)    0           activation_30[0][0]              \n",
            "                                                                 activation_33[0][0]              \n",
            "                                                                 activation_38[0][0]              \n",
            "                                                                 activation_39[0][0]              \n",
            "__________________________________________________________________________________________________\n",
            "conv2d_47 (Conv2D)              (None, 3, 3, 160)    122880      mixed4[0][0]                     \n",
            "__________________________________________________________________________________________________\n",
            "batch_normalization_45 (BatchNo (None, 3, 3, 160)    480         conv2d_47[0][0]                  \n",
            "__________________________________________________________________________________________________\n",
            "activation_44 (Activation)      (None, 3, 3, 160)    0           batch_normalization_45[0][0]     \n",
            "__________________________________________________________________________________________________\n",
            "conv2d_48 (Conv2D)              (None, 3, 3, 160)    179200      activation_44[0][0]              \n",
            "__________________________________________________________________________________________________\n",
            "batch_normalization_46 (BatchNo (None, 3, 3, 160)    480         conv2d_48[0][0]                  \n",
            "__________________________________________________________________________________________________\n",
            "activation_45 (Activation)      (None, 3, 3, 160)    0           batch_normalization_46[0][0]     \n",
            "__________________________________________________________________________________________________\n",
            "conv2d_44 (Conv2D)              (None, 3, 3, 160)    122880      mixed4[0][0]                     \n",
            "__________________________________________________________________________________________________\n",
            "conv2d_49 (Conv2D)              (None, 3, 3, 160)    179200      activation_45[0][0]              \n",
            "__________________________________________________________________________________________________\n",
            "batch_normalization_42 (BatchNo (None, 3, 3, 160)    480         conv2d_44[0][0]                  \n",
            "__________________________________________________________________________________________________\n",
            "batch_normalization_47 (BatchNo (None, 3, 3, 160)    480         conv2d_49[0][0]                  \n",
            "__________________________________________________________________________________________________\n",
            "activation_41 (Activation)      (None, 3, 3, 160)    0           batch_normalization_42[0][0]     \n",
            "__________________________________________________________________________________________________\n",
            "activation_46 (Activation)      (None, 3, 3, 160)    0           batch_normalization_47[0][0]     \n",
            "__________________________________________________________________________________________________\n",
            "conv2d_45 (Conv2D)              (None, 3, 3, 160)    179200      activation_41[0][0]              \n",
            "__________________________________________________________________________________________________\n",
            "conv2d_50 (Conv2D)              (None, 3, 3, 160)    179200      activation_46[0][0]              \n",
            "__________________________________________________________________________________________________\n",
            "batch_normalization_43 (BatchNo (None, 3, 3, 160)    480         conv2d_45[0][0]                  \n",
            "__________________________________________________________________________________________________\n",
            "batch_normalization_48 (BatchNo (None, 3, 3, 160)    480         conv2d_50[0][0]                  \n",
            "__________________________________________________________________________________________________\n",
            "activation_42 (Activation)      (None, 3, 3, 160)    0           batch_normalization_43[0][0]     \n",
            "__________________________________________________________________________________________________\n",
            "activation_47 (Activation)      (None, 3, 3, 160)    0           batch_normalization_48[0][0]     \n",
            "__________________________________________________________________________________________________\n",
            "average_pooling2d_4 (AveragePoo (None, 3, 3, 768)    0           mixed4[0][0]                     \n",
            "__________________________________________________________________________________________________\n",
            "conv2d_43 (Conv2D)              (None, 3, 3, 192)    147456      mixed4[0][0]                     \n",
            "__________________________________________________________________________________________________\n",
            "conv2d_46 (Conv2D)              (None, 3, 3, 192)    215040      activation_42[0][0]              \n",
            "__________________________________________________________________________________________________\n",
            "conv2d_51 (Conv2D)              (None, 3, 3, 192)    215040      activation_47[0][0]              \n",
            "__________________________________________________________________________________________________\n",
            "conv2d_52 (Conv2D)              (None, 3, 3, 192)    147456      average_pooling2d_4[0][0]        \n",
            "__________________________________________________________________________________________________\n",
            "batch_normalization_41 (BatchNo (None, 3, 3, 192)    576         conv2d_43[0][0]                  \n",
            "__________________________________________________________________________________________________\n",
            "batch_normalization_44 (BatchNo (None, 3, 3, 192)    576         conv2d_46[0][0]                  \n",
            "__________________________________________________________________________________________________\n",
            "batch_normalization_49 (BatchNo (None, 3, 3, 192)    576         conv2d_51[0][0]                  \n",
            "__________________________________________________________________________________________________\n",
            "batch_normalization_50 (BatchNo (None, 3, 3, 192)    576         conv2d_52[0][0]                  \n",
            "__________________________________________________________________________________________________\n",
            "activation_40 (Activation)      (None, 3, 3, 192)    0           batch_normalization_41[0][0]     \n",
            "__________________________________________________________________________________________________\n",
            "activation_43 (Activation)      (None, 3, 3, 192)    0           batch_normalization_44[0][0]     \n",
            "__________________________________________________________________________________________________\n",
            "activation_48 (Activation)      (None, 3, 3, 192)    0           batch_normalization_49[0][0]     \n",
            "__________________________________________________________________________________________________\n",
            "activation_49 (Activation)      (None, 3, 3, 192)    0           batch_normalization_50[0][0]     \n",
            "__________________________________________________________________________________________________\n",
            "mixed5 (Concatenate)            (None, 3, 3, 768)    0           activation_40[0][0]              \n",
            "                                                                 activation_43[0][0]              \n",
            "                                                                 activation_48[0][0]              \n",
            "                                                                 activation_49[0][0]              \n",
            "__________________________________________________________________________________________________\n",
            "conv2d_57 (Conv2D)              (None, 3, 3, 160)    122880      mixed5[0][0]                     \n",
            "__________________________________________________________________________________________________\n",
            "batch_normalization_55 (BatchNo (None, 3, 3, 160)    480         conv2d_57[0][0]                  \n",
            "__________________________________________________________________________________________________\n",
            "activation_54 (Activation)      (None, 3, 3, 160)    0           batch_normalization_55[0][0]     \n",
            "__________________________________________________________________________________________________\n",
            "conv2d_58 (Conv2D)              (None, 3, 3, 160)    179200      activation_54[0][0]              \n",
            "__________________________________________________________________________________________________\n",
            "batch_normalization_56 (BatchNo (None, 3, 3, 160)    480         conv2d_58[0][0]                  \n",
            "__________________________________________________________________________________________________\n",
            "activation_55 (Activation)      (None, 3, 3, 160)    0           batch_normalization_56[0][0]     \n",
            "__________________________________________________________________________________________________\n",
            "conv2d_54 (Conv2D)              (None, 3, 3, 160)    122880      mixed5[0][0]                     \n",
            "__________________________________________________________________________________________________\n",
            "conv2d_59 (Conv2D)              (None, 3, 3, 160)    179200      activation_55[0][0]              \n",
            "__________________________________________________________________________________________________\n",
            "batch_normalization_52 (BatchNo (None, 3, 3, 160)    480         conv2d_54[0][0]                  \n",
            "__________________________________________________________________________________________________\n",
            "batch_normalization_57 (BatchNo (None, 3, 3, 160)    480         conv2d_59[0][0]                  \n",
            "__________________________________________________________________________________________________\n",
            "activation_51 (Activation)      (None, 3, 3, 160)    0           batch_normalization_52[0][0]     \n",
            "__________________________________________________________________________________________________\n",
            "activation_56 (Activation)      (None, 3, 3, 160)    0           batch_normalization_57[0][0]     \n",
            "__________________________________________________________________________________________________\n",
            "conv2d_55 (Conv2D)              (None, 3, 3, 160)    179200      activation_51[0][0]              \n",
            "__________________________________________________________________________________________________\n",
            "conv2d_60 (Conv2D)              (None, 3, 3, 160)    179200      activation_56[0][0]              \n",
            "__________________________________________________________________________________________________\n",
            "batch_normalization_53 (BatchNo (None, 3, 3, 160)    480         conv2d_55[0][0]                  \n",
            "__________________________________________________________________________________________________\n",
            "batch_normalization_58 (BatchNo (None, 3, 3, 160)    480         conv2d_60[0][0]                  \n",
            "__________________________________________________________________________________________________\n",
            "activation_52 (Activation)      (None, 3, 3, 160)    0           batch_normalization_53[0][0]     \n",
            "__________________________________________________________________________________________________\n",
            "activation_57 (Activation)      (None, 3, 3, 160)    0           batch_normalization_58[0][0]     \n",
            "__________________________________________________________________________________________________\n",
            "average_pooling2d_5 (AveragePoo (None, 3, 3, 768)    0           mixed5[0][0]                     \n",
            "__________________________________________________________________________________________________\n",
            "conv2d_53 (Conv2D)              (None, 3, 3, 192)    147456      mixed5[0][0]                     \n",
            "__________________________________________________________________________________________________\n",
            "conv2d_56 (Conv2D)              (None, 3, 3, 192)    215040      activation_52[0][0]              \n",
            "__________________________________________________________________________________________________\n",
            "conv2d_61 (Conv2D)              (None, 3, 3, 192)    215040      activation_57[0][0]              \n",
            "__________________________________________________________________________________________________\n",
            "conv2d_62 (Conv2D)              (None, 3, 3, 192)    147456      average_pooling2d_5[0][0]        \n",
            "__________________________________________________________________________________________________\n",
            "batch_normalization_51 (BatchNo (None, 3, 3, 192)    576         conv2d_53[0][0]                  \n",
            "__________________________________________________________________________________________________\n",
            "batch_normalization_54 (BatchNo (None, 3, 3, 192)    576         conv2d_56[0][0]                  \n",
            "__________________________________________________________________________________________________\n",
            "batch_normalization_59 (BatchNo (None, 3, 3, 192)    576         conv2d_61[0][0]                  \n",
            "__________________________________________________________________________________________________\n",
            "batch_normalization_60 (BatchNo (None, 3, 3, 192)    576         conv2d_62[0][0]                  \n",
            "__________________________________________________________________________________________________\n",
            "activation_50 (Activation)      (None, 3, 3, 192)    0           batch_normalization_51[0][0]     \n",
            "__________________________________________________________________________________________________\n",
            "activation_53 (Activation)      (None, 3, 3, 192)    0           batch_normalization_54[0][0]     \n",
            "__________________________________________________________________________________________________\n",
            "activation_58 (Activation)      (None, 3, 3, 192)    0           batch_normalization_59[0][0]     \n",
            "__________________________________________________________________________________________________\n",
            "activation_59 (Activation)      (None, 3, 3, 192)    0           batch_normalization_60[0][0]     \n",
            "__________________________________________________________________________________________________\n",
            "mixed6 (Concatenate)            (None, 3, 3, 768)    0           activation_50[0][0]              \n",
            "                                                                 activation_53[0][0]              \n",
            "                                                                 activation_58[0][0]              \n",
            "                                                                 activation_59[0][0]              \n",
            "__________________________________________________________________________________________________\n",
            "conv2d_67 (Conv2D)              (None, 3, 3, 192)    147456      mixed6[0][0]                     \n",
            "__________________________________________________________________________________________________\n",
            "batch_normalization_65 (BatchNo (None, 3, 3, 192)    576         conv2d_67[0][0]                  \n",
            "__________________________________________________________________________________________________\n",
            "activation_64 (Activation)      (None, 3, 3, 192)    0           batch_normalization_65[0][0]     \n",
            "__________________________________________________________________________________________________\n",
            "conv2d_68 (Conv2D)              (None, 3, 3, 192)    258048      activation_64[0][0]              \n",
            "__________________________________________________________________________________________________\n",
            "batch_normalization_66 (BatchNo (None, 3, 3, 192)    576         conv2d_68[0][0]                  \n",
            "__________________________________________________________________________________________________\n",
            "activation_65 (Activation)      (None, 3, 3, 192)    0           batch_normalization_66[0][0]     \n",
            "__________________________________________________________________________________________________\n",
            "conv2d_64 (Conv2D)              (None, 3, 3, 192)    147456      mixed6[0][0]                     \n",
            "__________________________________________________________________________________________________\n",
            "conv2d_69 (Conv2D)              (None, 3, 3, 192)    258048      activation_65[0][0]              \n",
            "__________________________________________________________________________________________________\n",
            "batch_normalization_62 (BatchNo (None, 3, 3, 192)    576         conv2d_64[0][0]                  \n",
            "__________________________________________________________________________________________________\n",
            "batch_normalization_67 (BatchNo (None, 3, 3, 192)    576         conv2d_69[0][0]                  \n",
            "__________________________________________________________________________________________________\n",
            "activation_61 (Activation)      (None, 3, 3, 192)    0           batch_normalization_62[0][0]     \n",
            "__________________________________________________________________________________________________\n",
            "activation_66 (Activation)      (None, 3, 3, 192)    0           batch_normalization_67[0][0]     \n",
            "__________________________________________________________________________________________________\n",
            "conv2d_65 (Conv2D)              (None, 3, 3, 192)    258048      activation_61[0][0]              \n",
            "__________________________________________________________________________________________________\n",
            "conv2d_70 (Conv2D)              (None, 3, 3, 192)    258048      activation_66[0][0]              \n",
            "__________________________________________________________________________________________________\n",
            "batch_normalization_63 (BatchNo (None, 3, 3, 192)    576         conv2d_65[0][0]                  \n",
            "__________________________________________________________________________________________________\n",
            "batch_normalization_68 (BatchNo (None, 3, 3, 192)    576         conv2d_70[0][0]                  \n",
            "__________________________________________________________________________________________________\n",
            "activation_62 (Activation)      (None, 3, 3, 192)    0           batch_normalization_63[0][0]     \n",
            "__________________________________________________________________________________________________\n",
            "activation_67 (Activation)      (None, 3, 3, 192)    0           batch_normalization_68[0][0]     \n",
            "__________________________________________________________________________________________________\n",
            "average_pooling2d_6 (AveragePoo (None, 3, 3, 768)    0           mixed6[0][0]                     \n",
            "__________________________________________________________________________________________________\n",
            "conv2d_63 (Conv2D)              (None, 3, 3, 192)    147456      mixed6[0][0]                     \n",
            "__________________________________________________________________________________________________\n",
            "conv2d_66 (Conv2D)              (None, 3, 3, 192)    258048      activation_62[0][0]              \n",
            "__________________________________________________________________________________________________\n",
            "conv2d_71 (Conv2D)              (None, 3, 3, 192)    258048      activation_67[0][0]              \n",
            "__________________________________________________________________________________________________\n",
            "conv2d_72 (Conv2D)              (None, 3, 3, 192)    147456      average_pooling2d_6[0][0]        \n",
            "__________________________________________________________________________________________________\n",
            "batch_normalization_61 (BatchNo (None, 3, 3, 192)    576         conv2d_63[0][0]                  \n",
            "__________________________________________________________________________________________________\n",
            "batch_normalization_64 (BatchNo (None, 3, 3, 192)    576         conv2d_66[0][0]                  \n",
            "__________________________________________________________________________________________________\n",
            "batch_normalization_69 (BatchNo (None, 3, 3, 192)    576         conv2d_71[0][0]                  \n",
            "__________________________________________________________________________________________________\n",
            "batch_normalization_70 (BatchNo (None, 3, 3, 192)    576         conv2d_72[0][0]                  \n",
            "__________________________________________________________________________________________________\n",
            "activation_60 (Activation)      (None, 3, 3, 192)    0           batch_normalization_61[0][0]     \n",
            "__________________________________________________________________________________________________\n",
            "activation_63 (Activation)      (None, 3, 3, 192)    0           batch_normalization_64[0][0]     \n",
            "__________________________________________________________________________________________________\n",
            "activation_68 (Activation)      (None, 3, 3, 192)    0           batch_normalization_69[0][0]     \n",
            "__________________________________________________________________________________________________\n",
            "activation_69 (Activation)      (None, 3, 3, 192)    0           batch_normalization_70[0][0]     \n",
            "__________________________________________________________________________________________________\n",
            "mixed7 (Concatenate)            (None, 3, 3, 768)    0           activation_60[0][0]              \n",
            "                                                                 activation_63[0][0]              \n",
            "                                                                 activation_68[0][0]              \n",
            "                                                                 activation_69[0][0]              \n",
            "__________________________________________________________________________________________________\n",
            "conv2d_75 (Conv2D)              (None, 3, 3, 192)    147456      mixed7[0][0]                     \n",
            "__________________________________________________________________________________________________\n",
            "batch_normalization_73 (BatchNo (None, 3, 3, 192)    576         conv2d_75[0][0]                  \n",
            "__________________________________________________________________________________________________\n",
            "activation_72 (Activation)      (None, 3, 3, 192)    0           batch_normalization_73[0][0]     \n",
            "__________________________________________________________________________________________________\n",
            "conv2d_76 (Conv2D)              (None, 3, 3, 192)    258048      activation_72[0][0]              \n",
            "__________________________________________________________________________________________________\n",
            "batch_normalization_74 (BatchNo (None, 3, 3, 192)    576         conv2d_76[0][0]                  \n",
            "__________________________________________________________________________________________________\n",
            "activation_73 (Activation)      (None, 3, 3, 192)    0           batch_normalization_74[0][0]     \n",
            "__________________________________________________________________________________________________\n",
            "conv2d_73 (Conv2D)              (None, 3, 3, 192)    147456      mixed7[0][0]                     \n",
            "__________________________________________________________________________________________________\n",
            "conv2d_77 (Conv2D)              (None, 3, 3, 192)    258048      activation_73[0][0]              \n",
            "__________________________________________________________________________________________________\n",
            "batch_normalization_71 (BatchNo (None, 3, 3, 192)    576         conv2d_73[0][0]                  \n",
            "__________________________________________________________________________________________________\n",
            "batch_normalization_75 (BatchNo (None, 3, 3, 192)    576         conv2d_77[0][0]                  \n",
            "__________________________________________________________________________________________________\n",
            "activation_70 (Activation)      (None, 3, 3, 192)    0           batch_normalization_71[0][0]     \n",
            "__________________________________________________________________________________________________\n",
            "activation_74 (Activation)      (None, 3, 3, 192)    0           batch_normalization_75[0][0]     \n",
            "__________________________________________________________________________________________________\n",
            "conv2d_74 (Conv2D)              (None, 1, 1, 320)    552960      activation_70[0][0]              \n",
            "__________________________________________________________________________________________________\n",
            "conv2d_78 (Conv2D)              (None, 1, 1, 192)    331776      activation_74[0][0]              \n",
            "__________________________________________________________________________________________________\n",
            "batch_normalization_72 (BatchNo (None, 1, 1, 320)    960         conv2d_74[0][0]                  \n",
            "__________________________________________________________________________________________________\n",
            "batch_normalization_76 (BatchNo (None, 1, 1, 192)    576         conv2d_78[0][0]                  \n",
            "__________________________________________________________________________________________________\n",
            "activation_71 (Activation)      (None, 1, 1, 320)    0           batch_normalization_72[0][0]     \n",
            "__________________________________________________________________________________________________\n",
            "activation_75 (Activation)      (None, 1, 1, 192)    0           batch_normalization_76[0][0]     \n",
            "__________________________________________________________________________________________________\n",
            "max_pooling2d_6 (MaxPooling2D)  (None, 1, 1, 768)    0           mixed7[0][0]                     \n",
            "__________________________________________________________________________________________________\n",
            "mixed8 (Concatenate)            (None, 1, 1, 1280)   0           activation_71[0][0]              \n",
            "                                                                 activation_75[0][0]              \n",
            "                                                                 max_pooling2d_6[0][0]            \n",
            "__________________________________________________________________________________________________\n",
            "conv2d_83 (Conv2D)              (None, 1, 1, 448)    573440      mixed8[0][0]                     \n",
            "__________________________________________________________________________________________________\n",
            "batch_normalization_81 (BatchNo (None, 1, 1, 448)    1344        conv2d_83[0][0]                  \n",
            "__________________________________________________________________________________________________\n",
            "activation_80 (Activation)      (None, 1, 1, 448)    0           batch_normalization_81[0][0]     \n",
            "__________________________________________________________________________________________________\n",
            "conv2d_80 (Conv2D)              (None, 1, 1, 384)    491520      mixed8[0][0]                     \n",
            "__________________________________________________________________________________________________\n",
            "conv2d_84 (Conv2D)              (None, 1, 1, 384)    1548288     activation_80[0][0]              \n",
            "__________________________________________________________________________________________________\n",
            "batch_normalization_78 (BatchNo (None, 1, 1, 384)    1152        conv2d_80[0][0]                  \n",
            "__________________________________________________________________________________________________\n",
            "batch_normalization_82 (BatchNo (None, 1, 1, 384)    1152        conv2d_84[0][0]                  \n",
            "__________________________________________________________________________________________________\n",
            "activation_77 (Activation)      (None, 1, 1, 384)    0           batch_normalization_78[0][0]     \n",
            "__________________________________________________________________________________________________\n",
            "activation_81 (Activation)      (None, 1, 1, 384)    0           batch_normalization_82[0][0]     \n",
            "__________________________________________________________________________________________________\n",
            "conv2d_81 (Conv2D)              (None, 1, 1, 384)    442368      activation_77[0][0]              \n",
            "__________________________________________________________________________________________________\n",
            "conv2d_82 (Conv2D)              (None, 1, 1, 384)    442368      activation_77[0][0]              \n",
            "__________________________________________________________________________________________________\n",
            "conv2d_85 (Conv2D)              (None, 1, 1, 384)    442368      activation_81[0][0]              \n",
            "__________________________________________________________________________________________________\n",
            "conv2d_86 (Conv2D)              (None, 1, 1, 384)    442368      activation_81[0][0]              \n",
            "__________________________________________________________________________________________________\n",
            "average_pooling2d_7 (AveragePoo (None, 1, 1, 1280)   0           mixed8[0][0]                     \n",
            "__________________________________________________________________________________________________\n",
            "conv2d_79 (Conv2D)              (None, 1, 1, 320)    409600      mixed8[0][0]                     \n",
            "__________________________________________________________________________________________________\n",
            "batch_normalization_79 (BatchNo (None, 1, 1, 384)    1152        conv2d_81[0][0]                  \n",
            "__________________________________________________________________________________________________\n",
            "batch_normalization_80 (BatchNo (None, 1, 1, 384)    1152        conv2d_82[0][0]                  \n",
            "__________________________________________________________________________________________________\n",
            "batch_normalization_83 (BatchNo (None, 1, 1, 384)    1152        conv2d_85[0][0]                  \n",
            "__________________________________________________________________________________________________\n",
            "batch_normalization_84 (BatchNo (None, 1, 1, 384)    1152        conv2d_86[0][0]                  \n",
            "__________________________________________________________________________________________________\n",
            "conv2d_87 (Conv2D)              (None, 1, 1, 192)    245760      average_pooling2d_7[0][0]        \n",
            "__________________________________________________________________________________________________\n",
            "batch_normalization_77 (BatchNo (None, 1, 1, 320)    960         conv2d_79[0][0]                  \n",
            "__________________________________________________________________________________________________\n",
            "activation_78 (Activation)      (None, 1, 1, 384)    0           batch_normalization_79[0][0]     \n",
            "__________________________________________________________________________________________________\n",
            "activation_79 (Activation)      (None, 1, 1, 384)    0           batch_normalization_80[0][0]     \n",
            "__________________________________________________________________________________________________\n",
            "activation_82 (Activation)      (None, 1, 1, 384)    0           batch_normalization_83[0][0]     \n",
            "__________________________________________________________________________________________________\n",
            "activation_83 (Activation)      (None, 1, 1, 384)    0           batch_normalization_84[0][0]     \n",
            "__________________________________________________________________________________________________\n",
            "batch_normalization_85 (BatchNo (None, 1, 1, 192)    576         conv2d_87[0][0]                  \n",
            "__________________________________________________________________________________________________\n",
            "activation_76 (Activation)      (None, 1, 1, 320)    0           batch_normalization_77[0][0]     \n",
            "__________________________________________________________________________________________________\n",
            "mixed9_0 (Concatenate)          (None, 1, 1, 768)    0           activation_78[0][0]              \n",
            "                                                                 activation_79[0][0]              \n",
            "__________________________________________________________________________________________________\n",
            "concatenate (Concatenate)       (None, 1, 1, 768)    0           activation_82[0][0]              \n",
            "                                                                 activation_83[0][0]              \n",
            "__________________________________________________________________________________________________\n",
            "activation_84 (Activation)      (None, 1, 1, 192)    0           batch_normalization_85[0][0]     \n",
            "__________________________________________________________________________________________________\n",
            "mixed9 (Concatenate)            (None, 1, 1, 2048)   0           activation_76[0][0]              \n",
            "                                                                 mixed9_0[0][0]                   \n",
            "                                                                 concatenate[0][0]                \n",
            "                                                                 activation_84[0][0]              \n",
            "__________________________________________________________________________________________________\n",
            "conv2d_92 (Conv2D)              (None, 1, 1, 448)    917504      mixed9[0][0]                     \n",
            "__________________________________________________________________________________________________\n",
            "batch_normalization_90 (BatchNo (None, 1, 1, 448)    1344        conv2d_92[0][0]                  \n",
            "__________________________________________________________________________________________________\n",
            "activation_89 (Activation)      (None, 1, 1, 448)    0           batch_normalization_90[0][0]     \n",
            "__________________________________________________________________________________________________\n",
            "conv2d_89 (Conv2D)              (None, 1, 1, 384)    786432      mixed9[0][0]                     \n",
            "__________________________________________________________________________________________________\n",
            "conv2d_93 (Conv2D)              (None, 1, 1, 384)    1548288     activation_89[0][0]              \n",
            "__________________________________________________________________________________________________\n",
            "batch_normalization_87 (BatchNo (None, 1, 1, 384)    1152        conv2d_89[0][0]                  \n",
            "__________________________________________________________________________________________________\n",
            "batch_normalization_91 (BatchNo (None, 1, 1, 384)    1152        conv2d_93[0][0]                  \n",
            "__________________________________________________________________________________________________\n",
            "activation_86 (Activation)      (None, 1, 1, 384)    0           batch_normalization_87[0][0]     \n",
            "__________________________________________________________________________________________________\n",
            "activation_90 (Activation)      (None, 1, 1, 384)    0           batch_normalization_91[0][0]     \n",
            "__________________________________________________________________________________________________\n",
            "conv2d_90 (Conv2D)              (None, 1, 1, 384)    442368      activation_86[0][0]              \n",
            "__________________________________________________________________________________________________\n",
            "conv2d_91 (Conv2D)              (None, 1, 1, 384)    442368      activation_86[0][0]              \n",
            "__________________________________________________________________________________________________\n",
            "conv2d_94 (Conv2D)              (None, 1, 1, 384)    442368      activation_90[0][0]              \n",
            "__________________________________________________________________________________________________\n",
            "conv2d_95 (Conv2D)              (None, 1, 1, 384)    442368      activation_90[0][0]              \n",
            "__________________________________________________________________________________________________\n",
            "average_pooling2d_8 (AveragePoo (None, 1, 1, 2048)   0           mixed9[0][0]                     \n",
            "__________________________________________________________________________________________________\n",
            "conv2d_88 (Conv2D)              (None, 1, 1, 320)    655360      mixed9[0][0]                     \n",
            "__________________________________________________________________________________________________\n",
            "batch_normalization_88 (BatchNo (None, 1, 1, 384)    1152        conv2d_90[0][0]                  \n",
            "__________________________________________________________________________________________________\n",
            "batch_normalization_89 (BatchNo (None, 1, 1, 384)    1152        conv2d_91[0][0]                  \n",
            "__________________________________________________________________________________________________\n",
            "batch_normalization_92 (BatchNo (None, 1, 1, 384)    1152        conv2d_94[0][0]                  \n",
            "__________________________________________________________________________________________________\n",
            "batch_normalization_93 (BatchNo (None, 1, 1, 384)    1152        conv2d_95[0][0]                  \n",
            "__________________________________________________________________________________________________\n",
            "conv2d_96 (Conv2D)              (None, 1, 1, 192)    393216      average_pooling2d_8[0][0]        \n",
            "__________________________________________________________________________________________________\n",
            "batch_normalization_86 (BatchNo (None, 1, 1, 320)    960         conv2d_88[0][0]                  \n",
            "__________________________________________________________________________________________________\n",
            "activation_87 (Activation)      (None, 1, 1, 384)    0           batch_normalization_88[0][0]     \n",
            "__________________________________________________________________________________________________\n",
            "activation_88 (Activation)      (None, 1, 1, 384)    0           batch_normalization_89[0][0]     \n",
            "__________________________________________________________________________________________________\n",
            "activation_91 (Activation)      (None, 1, 1, 384)    0           batch_normalization_92[0][0]     \n",
            "__________________________________________________________________________________________________\n",
            "activation_92 (Activation)      (None, 1, 1, 384)    0           batch_normalization_93[0][0]     \n",
            "__________________________________________________________________________________________________\n",
            "batch_normalization_94 (BatchNo (None, 1, 1, 192)    576         conv2d_96[0][0]                  \n",
            "__________________________________________________________________________________________________\n",
            "activation_85 (Activation)      (None, 1, 1, 320)    0           batch_normalization_86[0][0]     \n",
            "__________________________________________________________________________________________________\n",
            "mixed9_1 (Concatenate)          (None, 1, 1, 768)    0           activation_87[0][0]              \n",
            "                                                                 activation_88[0][0]              \n",
            "__________________________________________________________________________________________________\n",
            "concatenate_1 (Concatenate)     (None, 1, 1, 768)    0           activation_91[0][0]              \n",
            "                                                                 activation_92[0][0]              \n",
            "__________________________________________________________________________________________________\n",
            "activation_93 (Activation)      (None, 1, 1, 192)    0           batch_normalization_94[0][0]     \n",
            "__________________________________________________________________________________________________\n",
            "mixed10 (Concatenate)           (None, 1, 1, 2048)   0           activation_85[0][0]              \n",
            "                                                                 mixed9_1[0][0]                   \n",
            "                                                                 concatenate_1[0][0]              \n",
            "                                                                 activation_93[0][0]              \n",
            "__________________________________________________________________________________________________\n",
            "flatten_2 (Flatten)             (None, 2048)         0           mixed10[0][0]                    \n",
            "__________________________________________________________________________________________________\n",
            "dense_4 (Dense)                 (None, 512)          1049088     flatten_2[0][0]                  \n",
            "__________________________________________________________________________________________________\n",
            "dense_5 (Dense)                 (None, 6)            3078        dense_4[0][0]                    \n",
            "==================================================================================================\n",
            "Total params: 22,854,950\n",
            "Trainable params: 22,820,518\n",
            "Non-trainable params: 34,432\n",
            "__________________________________________________________________________________________________\n"
          ]
        }
      ]
    },
    {
      "cell_type": "code",
      "metadata": {
        "id": "rzjfdchS3L-E"
      },
      "source": [
        "modelinception_v3.compile(optimizer = Adam(learning_rate=0.0001), \n",
        "               loss = 'categorical_crossentropy', \n",
        "               metrics =['accuracy'])\n",
        "\n",
        "callbacksinception_v3 = [\n",
        "    tf.keras.callbacks.ReduceLROnPlateau(factor=0.5,\n",
        "                                         patience=4,\n",
        "                                         verbose=0),\n",
        "    tf.keras.callbacks.EarlyStopping(\n",
        "        monitor=\"accuracy\",\n",
        "        patience=12,\n",
        "        restore_best_weights=True,\n",
        "    ),\n",
        "    tf.keras.callbacks.ModelCheckpoint(\n",
        "        filepath='inception_v3_weights_tf_dim_ordering_tf_kernels_notop.h5',\n",
        "        save_best_only=True,\n",
        "        monitor=\"val_accuracy\",\n",
        "    ),\n",
        "\n",
        "]"
      ],
      "execution_count": null,
      "outputs": []
    },
    {
      "cell_type": "code",
      "metadata": {
        "id": "24TkzR_g6LpN",
        "colab": {
          "base_uri": "https://localhost:8080/",
          "height": 336
        },
        "outputId": "506d81b2-63ae-4be4-855d-851bcb4c2a1a"
      },
      "source": [
        "epochs=100\n",
        "\n",
        "historyv3 = modelinception_v3(train_generator,\n",
        "                               #steps_per_epoch = 975/32,\n",
        "                               epochs=epochs,\n",
        "                               callbacks=callbacksinception_v3,\n",
        "                               validation_data=validation_generator)"
      ],
      "execution_count": null,
      "outputs": [
        {
          "output_type": "error",
          "ename": "TypeError",
          "evalue": "ignored",
          "traceback": [
            "\u001b[0;31m---------------------------------------------------------------------------\u001b[0m",
            "\u001b[0;31mTypeError\u001b[0m                                 Traceback (most recent call last)",
            "\u001b[0;32m<ipython-input-46-fc7b227d8aae>\u001b[0m in \u001b[0;36m<module>\u001b[0;34m()\u001b[0m\n\u001b[1;32m      5\u001b[0m                                \u001b[0mepochs\u001b[0m\u001b[0;34m=\u001b[0m\u001b[0mepochs\u001b[0m\u001b[0;34m,\u001b[0m\u001b[0;34m\u001b[0m\u001b[0;34m\u001b[0m\u001b[0m\n\u001b[1;32m      6\u001b[0m                                \u001b[0mcallbacks\u001b[0m\u001b[0;34m=\u001b[0m\u001b[0mcallbacksinception_v3\u001b[0m\u001b[0;34m,\u001b[0m\u001b[0;34m\u001b[0m\u001b[0;34m\u001b[0m\u001b[0m\n\u001b[0;32m----> 7\u001b[0;31m                                validation_data=validation_generator)\n\u001b[0m",
            "\u001b[0;32m/usr/local/lib/python3.7/dist-packages/keras/engine/base_layer.py\u001b[0m in \u001b[0;36m__call__\u001b[0;34m(self, *args, **kwargs)\u001b[0m\n\u001b[1;32m   1018\u001b[0m         training=training_mode):\n\u001b[1;32m   1019\u001b[0m \u001b[0;34m\u001b[0m\u001b[0m\n\u001b[0;32m-> 1020\u001b[0;31m       \u001b[0minput_spec\u001b[0m\u001b[0;34m.\u001b[0m\u001b[0massert_input_compatibility\u001b[0m\u001b[0;34m(\u001b[0m\u001b[0mself\u001b[0m\u001b[0;34m.\u001b[0m\u001b[0minput_spec\u001b[0m\u001b[0;34m,\u001b[0m \u001b[0minputs\u001b[0m\u001b[0;34m,\u001b[0m \u001b[0mself\u001b[0m\u001b[0;34m.\u001b[0m\u001b[0mname\u001b[0m\u001b[0;34m)\u001b[0m\u001b[0;34m\u001b[0m\u001b[0;34m\u001b[0m\u001b[0m\n\u001b[0m\u001b[1;32m   1021\u001b[0m       \u001b[0;32mif\u001b[0m \u001b[0meager\u001b[0m\u001b[0;34m:\u001b[0m\u001b[0;34m\u001b[0m\u001b[0;34m\u001b[0m\u001b[0m\n\u001b[1;32m   1022\u001b[0m         \u001b[0mcall_fn\u001b[0m \u001b[0;34m=\u001b[0m \u001b[0mself\u001b[0m\u001b[0;34m.\u001b[0m\u001b[0mcall\u001b[0m\u001b[0;34m\u001b[0m\u001b[0;34m\u001b[0m\u001b[0m\n",
            "\u001b[0;32m/usr/local/lib/python3.7/dist-packages/keras/engine/input_spec.py\u001b[0m in \u001b[0;36massert_input_compatibility\u001b[0;34m(input_spec, inputs, layer_name)\u001b[0m\n\u001b[1;32m    194\u001b[0m     \u001b[0;31m# have a `shape` attribute.\u001b[0m\u001b[0;34m\u001b[0m\u001b[0;34m\u001b[0m\u001b[0;34m\u001b[0m\u001b[0m\n\u001b[1;32m    195\u001b[0m     \u001b[0;32mif\u001b[0m \u001b[0;32mnot\u001b[0m \u001b[0mhasattr\u001b[0m\u001b[0;34m(\u001b[0m\u001b[0mx\u001b[0m\u001b[0;34m,\u001b[0m \u001b[0;34m'shape'\u001b[0m\u001b[0;34m)\u001b[0m\u001b[0;34m:\u001b[0m\u001b[0;34m\u001b[0m\u001b[0;34m\u001b[0m\u001b[0m\n\u001b[0;32m--> 196\u001b[0;31m       \u001b[0;32mraise\u001b[0m \u001b[0mTypeError\u001b[0m\u001b[0;34m(\u001b[0m\u001b[0;34m'Inputs to a layer should be tensors. Got: %s'\u001b[0m \u001b[0;34m%\u001b[0m \u001b[0;34m(\u001b[0m\u001b[0mx\u001b[0m\u001b[0;34m,\u001b[0m\u001b[0;34m)\u001b[0m\u001b[0;34m)\u001b[0m\u001b[0;34m\u001b[0m\u001b[0;34m\u001b[0m\u001b[0m\n\u001b[0m\u001b[1;32m    197\u001b[0m \u001b[0;34m\u001b[0m\u001b[0m\n\u001b[1;32m    198\u001b[0m   \u001b[0;32mif\u001b[0m \u001b[0mlen\u001b[0m\u001b[0;34m(\u001b[0m\u001b[0minputs\u001b[0m\u001b[0;34m)\u001b[0m \u001b[0;34m!=\u001b[0m \u001b[0mlen\u001b[0m\u001b[0;34m(\u001b[0m\u001b[0minput_spec\u001b[0m\u001b[0;34m)\u001b[0m\u001b[0;34m:\u001b[0m\u001b[0;34m\u001b[0m\u001b[0;34m\u001b[0m\u001b[0m\n",
            "\u001b[0;31mTypeError\u001b[0m: Inputs to a layer should be tensors. Got: <keras.preprocessing.image.DataFrameIterator object at 0x7f62c062ee10>"
          ]
        }
      ]
    },
    {
      "cell_type": "code",
      "metadata": {
        "id": "rN-3XuFt6Ltt"
      },
      "source": [
        "%matplotlib inline\n",
        "import matplotlib.pyplot as plt\n",
        "acc = history.history['accuracy']\n",
        "val_acc = history.history['val_accuracy']\n",
        "loss = history.history['loss']\n",
        "val_loss = history.history['val_loss']\n",
        "\n",
        "epochs = range(len(acc))\n",
        "\n",
        "plt.plot(epochs, acc, 'r', label='Training accuracy')\n",
        "plt.plot(epochs, val_acc, 'b', label='Validation accuracy')\n",
        "plt.title('Training and validation accuracy')\n",
        "plt.legend(loc=0)\n",
        "plt.figure()\n",
        "\n",
        "plt.plot(epochs, loss, 'r', label='Training Loss')\n",
        "plt.plot(epochs, val_loss, 'b', label='Validation Loss')\n",
        "plt.title('Training and validation loss')\n",
        "plt.legend()\n",
        "\n",
        "plt.show()"
      ],
      "execution_count": null,
      "outputs": []
    },
    {
      "cell_type": "code",
      "metadata": {
        "id": "CzqXML0v6LyY"
      },
      "source": [
        "modelinception_v3 = tf.keras.models.load_model(\"inception_v3_weights_tf_dim_ordering_tf_kernels_notop.h5\")\n",
        "\n",
        "test_lossinception_v3, test_accinception_v3= modelinception_v3.evaluate(X_test,y_test)\n",
        "print(\"validation_accuracy: \" + str(test_accvinception_v3))"
      ],
      "execution_count": null,
      "outputs": []
    },
    {
      "cell_type": "markdown",
      "metadata": {
        "id": "DQVvEZ8C8ysP"
      },
      "source": [
        "# **Fim do modelo Inception V3**"
      ]
    },
    {
      "cell_type": "code",
      "metadata": {
        "id": "g6AYQKDTtmlY",
        "colab": {
          "base_uri": "https://localhost:8080/",
          "height": 339
        },
        "outputId": "a3887507-ef9c-407b-db0c-c92640f19086"
      },
      "source": [
        "fig = plt.figure()\n",
        "ax = fig.add_axes([0,0,1,1])\n",
        "acc = [test_acc,test_accvgg16]\n",
        "model = ['Modelo Criado','VGG16']\n",
        "#model = ['Modelo Criado','VGG16','InceptionV3','EfficientNetB0','EfficientNetB7']\n",
        "ax.bar(model,acc)\n",
        "plt.show()"
      ],
      "execution_count": 37,
      "outputs": [
        {
          "output_type": "display_data",
          "data": {
            "image/png": "[encoded data removed]",
            "text/plain": [
              "<Figure size 432x288 with 1 Axes>"
            ]
          },
          "metadata": {
            "needs_background": "light"
          }
        }
      ]
    },
    {
      "cell_type": "markdown",
      "metadata": {
        "id": "7toSzftQcPLH"
      },
      "source": [
        "# **Realizar a Predição para as 6 classes**"
      ]
    },
    {
      "cell_type": "code",
      "metadata": {
        "id": "cQp4hLBD1b2Q",
        "colab": {
          "base_uri": "https://localhost:8080/",
          "height": 265
        },
        "outputId": "a4613fda-6595-4ee2-9b17-6ecd0cdddb70"
      },
      "source": [
        "plt.figure()\n",
        "plt.imshow(X_train[0])\n",
        "plt.colorbar()\n",
        "plt.grid(False)\n",
        "plt.show()"
      ],
      "execution_count": null,
      "outputs": [
        {
          "output_type": "display_data",
          "data": {
            "image/png": "[encoded data removed]",
            "text/plain": [
              "<Figure size 432x288 with 2 Axes>"
            ]
          },
          "metadata": {
            "needs_background": "light"
          }
        }
      ]
    },
    {
      "cell_type": "markdown",
      "metadata": {
        "id": "N14GaXQK1x4C"
      },
      "source": [
        "Escalaremos esses valores no intervalo de 0 e 1 antes antes de alimentar o modelo da rede neural. Para fazer isso, dividimos os valores por 255. É importante que o conjunto de treinamento e o conjunto de teste podem ser pré-processados do mesmo modo:"
      ]
    },
    {
      "cell_type": "code",
      "metadata": {
        "id": "jerlMdae10kl"
      },
      "source": [
        "X_train = X_train /255\n",
        "X_test = X_test /255"
      ],
      "execution_count": null,
      "outputs": []
    },
    {
      "cell_type": "code",
      "metadata": {
        "id": "8JZlZZxy9ANU",
        "colab": {
          "base_uri": "https://localhost:8080/"
        },
        "outputId": "e5990efa-cb86-48f0-ee4c-8d8132956126"
      },
      "source": [
        "y_train.shape"
      ],
      "execution_count": null,
      "outputs": [
        {
          "output_type": "execute_result",
          "data": {
            "text/plain": [
              "(64, 6)"
            ]
          },
          "metadata": {},
          "execution_count": 77
        }
      ]
    },
    {
      "cell_type": "code",
      "metadata": {
        "id": "ut4cvpNs2eGz",
        "colab": {
          "base_uri": "https://localhost:8080/",
          "height": 323
        },
        "outputId": "c2f9760f-6511-47ee-a742-7f640b040660"
      },
      "source": [
        "plt.figure(figsize=(10,10))\n",
        "for i in range(20):\n",
        "    plt.subplot(5,5,i+1)\n",
        "    plt.xticks([])\n",
        "    plt.yticks([])\n",
        "    plt.grid(False)\n",
        "    plt.imshow(X_train[i])\n",
        "    plt.xlabel(label[y_train[i]])\n",
        "plt.show()"
      ],
      "execution_count": null,
      "outputs": [
        {
          "output_type": "error",
          "ename": "TypeError",
          "evalue": "ignored",
          "traceback": [
            "\u001b[0;31m---------------------------------------------------------------------------\u001b[0m",
            "\u001b[0;31mTypeError\u001b[0m                                 Traceback (most recent call last)",
            "\u001b[0;32m<ipython-input-63-e74a18f6c749>\u001b[0m in \u001b[0;36m<module>\u001b[0;34m()\u001b[0m\n\u001b[1;32m      6\u001b[0m     \u001b[0mplt\u001b[0m\u001b[0;34m.\u001b[0m\u001b[0mgrid\u001b[0m\u001b[0;34m(\u001b[0m\u001b[0;32mFalse\u001b[0m\u001b[0;34m)\u001b[0m\u001b[0;34m\u001b[0m\u001b[0;34m\u001b[0m\u001b[0m\n\u001b[1;32m      7\u001b[0m     \u001b[0mplt\u001b[0m\u001b[0;34m.\u001b[0m\u001b[0mimshow\u001b[0m\u001b[0;34m(\u001b[0m\u001b[0mX_train\u001b[0m\u001b[0;34m[\u001b[0m\u001b[0mi\u001b[0m\u001b[0;34m]\u001b[0m\u001b[0;34m)\u001b[0m\u001b[0;34m\u001b[0m\u001b[0;34m\u001b[0m\u001b[0m\n\u001b[0;32m----> 8\u001b[0;31m     \u001b[0mplt\u001b[0m\u001b[0;34m.\u001b[0m\u001b[0mxlabel\u001b[0m\u001b[0;34m(\u001b[0m\u001b[0mlabel\u001b[0m\u001b[0;34m[\u001b[0m\u001b[0my_train\u001b[0m\u001b[0;34m[\u001b[0m\u001b[0mi\u001b[0m\u001b[0;34m]\u001b[0m\u001b[0;34m]\u001b[0m\u001b[0;34m)\u001b[0m\u001b[0;34m\u001b[0m\u001b[0;34m\u001b[0m\u001b[0m\n\u001b[0m\u001b[1;32m      9\u001b[0m \u001b[0mplt\u001b[0m\u001b[0;34m.\u001b[0m\u001b[0mshow\u001b[0m\u001b[0;34m(\u001b[0m\u001b[0;34m)\u001b[0m\u001b[0;34m\u001b[0m\u001b[0;34m\u001b[0m\u001b[0m\n",
            "\u001b[0;31mTypeError\u001b[0m: only integer scalar arrays can be converted to a scalar index"
          ]
        },
        {
          "output_type": "display_data",
          "data": {
            "image/png": "[encoded data removed]",
            "text/plain": [
              "<Figure size 720x720 with 1 Axes>"
            ]
          },
          "metadata": {}
        }
      ]
    },
    {
      "cell_type": "code",
      "metadata": {
        "id": "UW-VloEXue0w"
      },
      "source": [
        "# Codigo do Dr.(o)professor Leonardo Forero\n",
        "\n",
        "def plot_image(i, predictions_array, true_label, img):\n",
        "  predictions_array, true_label, img = predictions_array[i], true_label[i], img[i]\n",
        "  plt.grid(False)\n",
        "  plt.xticks([])\n",
        "  plt.yticks([])\n",
        "\n",
        "  plt.imshow(img, cmap=plt.cm.binary)\n",
        "\n",
        "  predicted_label = np.argmax(predictions_array)\n",
        "  if predicted_label == true_label:\n",
        "    color = 'blue'\n",
        "  else:\n",
        "    color = 'red'\n",
        "\n",
        "  plt.xlabel(\"{} {:2.0f}% ({})\".format(label[predicted_label],\n",
        "                                100*np.max(predictions_array),\n",
        "                                label[true_label]),\n",
        "                                color=color)\n",
        "\n",
        "def plot_value_array(i, predictions_array, true_label):\n",
        "  predictions_array, true_label = predictions_array[i], true_label[i]\n",
        "  plt.grid(False)\n",
        "  plt.xticks([])\n",
        "  plt.yticks([])\n",
        "  thisplot = plt.bar(range(10), predictions_array, color=\"#777777\")\n",
        "  plt.ylim([0, 1])\n",
        "  predicted_label = np.argmax(predictions_array)\n",
        "\n",
        "  thisplot[predicted_label].set_color('red')\n",
        "  thisplot[true_label].set_color('blue')"
      ],
      "execution_count": null,
      "outputs": []
    },
    {
      "cell_type": "code",
      "metadata": {
        "id": "Q1ZVaJCavb1u",
        "colab": {
          "base_uri": "https://localhost:8080/",
          "height": 427
        },
        "outputId": "5eeaffd4-c8b3-479e-c923-380b0b04a058"
      },
      "source": [
        "i = 0\n",
        "plt.figure(figsize=(6,3))\n",
        "plt.subplot(1,2,1)\n",
        "plot_image(i, predictions, y_test, X_test)\n",
        "plt.subplot(1,2,2)\n",
        "plot_value_array(i, predictions,  y_test)\n",
        "plt.show()"
      ],
      "execution_count": null,
      "outputs": [
        {
          "output_type": "error",
          "ename": "NameError",
          "evalue": "ignored",
          "traceback": [
            "\u001b[0;31m---------------------------------------------------------------------------\u001b[0m",
            "\u001b[0;31mNameError\u001b[0m                                 Traceback (most recent call last)",
            "\u001b[0;32m<ipython-input-65-c66d863e5a59>\u001b[0m in \u001b[0;36m<module>\u001b[0;34m()\u001b[0m\n\u001b[1;32m      2\u001b[0m \u001b[0mplt\u001b[0m\u001b[0;34m.\u001b[0m\u001b[0mfigure\u001b[0m\u001b[0;34m(\u001b[0m\u001b[0mfigsize\u001b[0m\u001b[0;34m=\u001b[0m\u001b[0;34m(\u001b[0m\u001b[0;36m6\u001b[0m\u001b[0;34m,\u001b[0m\u001b[0;36m3\u001b[0m\u001b[0;34m)\u001b[0m\u001b[0;34m)\u001b[0m\u001b[0;34m\u001b[0m\u001b[0;34m\u001b[0m\u001b[0m\n\u001b[1;32m      3\u001b[0m \u001b[0mplt\u001b[0m\u001b[0;34m.\u001b[0m\u001b[0msubplot\u001b[0m\u001b[0;34m(\u001b[0m\u001b[0;36m1\u001b[0m\u001b[0;34m,\u001b[0m\u001b[0;36m2\u001b[0m\u001b[0;34m,\u001b[0m\u001b[0;36m1\u001b[0m\u001b[0;34m)\u001b[0m\u001b[0;34m\u001b[0m\u001b[0;34m\u001b[0m\u001b[0m\n\u001b[0;32m----> 4\u001b[0;31m \u001b[0mplot_image\u001b[0m\u001b[0;34m(\u001b[0m\u001b[0mi\u001b[0m\u001b[0;34m,\u001b[0m \u001b[0mpredictions\u001b[0m\u001b[0;34m,\u001b[0m \u001b[0my_test\u001b[0m\u001b[0;34m,\u001b[0m \u001b[0mX_test\u001b[0m\u001b[0;34m)\u001b[0m\u001b[0;34m\u001b[0m\u001b[0;34m\u001b[0m\u001b[0m\n\u001b[0m\u001b[1;32m      5\u001b[0m \u001b[0mplt\u001b[0m\u001b[0;34m.\u001b[0m\u001b[0msubplot\u001b[0m\u001b[0;34m(\u001b[0m\u001b[0;36m1\u001b[0m\u001b[0;34m,\u001b[0m\u001b[0;36m2\u001b[0m\u001b[0;34m,\u001b[0m\u001b[0;36m2\u001b[0m\u001b[0;34m)\u001b[0m\u001b[0;34m\u001b[0m\u001b[0;34m\u001b[0m\u001b[0m\n\u001b[1;32m      6\u001b[0m \u001b[0mplot_value_array\u001b[0m\u001b[0;34m(\u001b[0m\u001b[0mi\u001b[0m\u001b[0;34m,\u001b[0m \u001b[0mpredictions\u001b[0m\u001b[0;34m,\u001b[0m  \u001b[0my_test\u001b[0m\u001b[0;34m)\u001b[0m\u001b[0;34m\u001b[0m\u001b[0;34m\u001b[0m\u001b[0m\n",
            "\u001b[0;31mNameError\u001b[0m: name 'predictions' is not defined"
          ]
        },
        {
          "output_type": "display_data",
          "data": {
            "image/png": "[encoded data removed]",
            "text/plain": [
              "<Figure size 432x216 with 1 Axes>"
            ]
          },
          "metadata": {
            "needs_background": "light"
          }
        }
      ]
    },
    {
      "cell_type": "code",
      "metadata": {
        "id": "6fd1COOBcEq-",
        "colab": {
          "base_uri": "https://localhost:8080/",
          "height": 178
        },
        "outputId": "bd8767a8-c9e7-4476-8153-bc73f3c17dc2"
      },
      "source": [
        "predictions = model.predict(X_test)\n",
        "print(\"Prediction_accuracy: \" + str(predictions))"
      ],
      "execution_count": null,
      "outputs": [
        {
          "output_type": "error",
          "ename": "AttributeError",
          "evalue": "ignored",
          "traceback": [
            "\u001b[0;31m---------------------------------------------------------------------------\u001b[0m",
            "\u001b[0;31mAttributeError\u001b[0m                            Traceback (most recent call last)",
            "\u001b[0;32m<ipython-input-71-ed61d70cdd33>\u001b[0m in \u001b[0;36m<module>\u001b[0;34m()\u001b[0m\n\u001b[0;32m----> 1\u001b[0;31m \u001b[0mpredictions\u001b[0m \u001b[0;34m=\u001b[0m \u001b[0mmodel\u001b[0m\u001b[0;34m.\u001b[0m\u001b[0mpredict\u001b[0m\u001b[0;34m(\u001b[0m\u001b[0mX_test\u001b[0m\u001b[0;34m)\u001b[0m\u001b[0;34m\u001b[0m\u001b[0;34m\u001b[0m\u001b[0m\n\u001b[0m\u001b[1;32m      2\u001b[0m \u001b[0mprint\u001b[0m\u001b[0;34m(\u001b[0m\u001b[0;34m\"Prediction_accuracy: \"\u001b[0m \u001b[0;34m+\u001b[0m \u001b[0mstr\u001b[0m\u001b[0;34m(\u001b[0m\u001b[0mpredictions\u001b[0m\u001b[0;34m)\u001b[0m\u001b[0;34m)\u001b[0m\u001b[0;34m\u001b[0m\u001b[0;34m\u001b[0m\u001b[0m\n",
            "\u001b[0;31mAttributeError\u001b[0m: 'list' object has no attribute 'predict'"
          ]
        }
      ]
    },
    {
      "cell_type": "code",
      "metadata": {
        "id": "pYKNqTvYIy56",
        "colab": {
          "base_uri": "https://localhost:8080/",
          "height": 161
        },
        "outputId": "85c2ef06-a136-4d06-c17d-6266a9c8e83c"
      },
      "source": [
        "predictions[0] # primeira predição"
      ],
      "execution_count": null,
      "outputs": [
        {
          "output_type": "error",
          "ename": "NameError",
          "evalue": "ignored",
          "traceback": [
            "\u001b[0;31m---------------------------------------------------------------------------\u001b[0m",
            "\u001b[0;31mNameError\u001b[0m                                 Traceback (most recent call last)",
            "\u001b[0;32m<ipython-input-66-334c0224ab5d>\u001b[0m in \u001b[0;36m<module>\u001b[0;34m()\u001b[0m\n\u001b[0;32m----> 1\u001b[0;31m \u001b[0mpredictions\u001b[0m\u001b[0;34m[\u001b[0m\u001b[0;36m0\u001b[0m\u001b[0;34m]\u001b[0m \u001b[0;31m# primeira predição\u001b[0m\u001b[0;34m\u001b[0m\u001b[0;34m\u001b[0m\u001b[0m\n\u001b[0m",
            "\u001b[0;31mNameError\u001b[0m: name 'predictions' is not defined"
          ]
        }
      ]
    },
    {
      "cell_type": "code",
      "metadata": {
        "id": "aCmbcjolJstx"
      },
      "source": [
        "np.argmax(predictions[0])"
      ],
      "execution_count": null,
      "outputs": []
    },
    {
      "cell_type": "code",
      "metadata": {
        "id": "c81gyqxSpT8o"
      },
      "source": [
        "predictions = np.argmax(predictions)\n",
        "predictions"
      ],
      "execution_count": null,
      "outputs": []
    },
    {
      "cell_type": "code",
      "metadata": {
        "id": "Kaby35OAi4rH"
      },
      "source": [
        "y_test[0]"
      ],
      "execution_count": null,
      "outputs": []
    },
    {
      "cell_type": "code",
      "metadata": {
        "id": "-IwKBohOiOA_"
      },
      "source": [
        "from sklearn.metrics import confusion_matrix\n",
        "confusion_matrix(X_test,str(predictions))"
      ],
      "execution_count": null,
      "outputs": []
    },
    {
      "cell_type": "code",
      "metadata": {
        "id": "qVeK5dZxcTxc"
      },
      "source": [
        "img_pred = cv.imread(\"gneiss/0QTQE.jpg\",0)\n",
        "plt.imshow(img_pred)"
      ],
      "execution_count": null,
      "outputs": []
    },
    {
      "cell_type": "code",
      "metadata": {
        "id": "qsxcgyI9Byar"
      },
      "source": [
        "if img_pred.shape != [28,28]:\n",
        "    img2 = cv.resize(img_pred, (28, 28))\n",
        "    img_pred = img2.reshape(28, 28, -1)\n",
        "else:\n",
        "    img_pred = img_pred.reshape(28, 28, -1)\n",
        "\n",
        "img_pred = ~img_pred\n",
        "img_pred = img_pred.reshape(1, 1, 28, 28).astype('float32')\n",
        "\n",
        "img_pred = img_pred/255.0\n"
      ],
      "execution_count": null,
      "outputs": []
    },
    {
      "cell_type": "code",
      "metadata": {
        "id": "-vpZf-esIRHD"
      },
      "source": [
        "pred = model.predict(img_pred)\n",
        "pred_proba = model.predict_proba(img_pred)\n"
      ],
      "execution_count": null,
      "outputs": []
    },
    {
      "cell_type": "code",
      "metadata": {
        "id": "YHfXQT7RBHGS"
      },
      "source": [
        "pred_proba = \"%.2f%%\" % (pred_proba[0][pred]*100)\n",
        "print(pred[0], \" com confiança de \", pred_proba)"
      ],
      "execution_count": null,
      "outputs": []
    },
    {
      "cell_type": "code",
      "metadata": {
        "id": "ZzAJDvFfA8S0"
      },
      "source": [
        ""
      ],
      "execution_count": null,
      "outputs": []
    }
  ]
}