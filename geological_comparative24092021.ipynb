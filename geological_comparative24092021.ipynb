{
  "nbformat": 4,
  "nbformat_minor": 0,
  "metadata": {
    "colab": {
      "name": "geological-image-similarity.ipynb",
      "provenance": [],
      "authorship_tag": "ABX9TyM2o9gZMvQppQCGhzLHXwUq",
      "include_colab_link": true
    },
    "kernelspec": {
      "name": "python3",
      "display_name": "Python 3"
    },
    "language_info": {
      "name": "python"
    },
    "accelerator": "GPU"
  },
  "cells": [
    {
      "cell_type": "markdown",
      "metadata": {
        "id": "view-in-github",
        "colab_type": "text"
      },
      "source": [
        "<a href=\"https://colab.research.google.com/github/fabiobasson/Bi-Master/blob/main/geological_comparative24092021.ipynb\" target=\"_parent\"><img src=\"https://colab.research.google.com/assets/colab-badge.svg\" alt=\"Open In Colab\"/></a>"
      ]
    },
    {
      "cell_type": "markdown",
      "metadata": {
        "id": "ek-dpdgUwrpq"
      },
      "source": [
        "# Importações "
      ]
    },
    {
      "cell_type": "code",
      "metadata": {
        "id": "BhMpCgi7O64x"
      },
      "source": [
        "import os\n",
        "import tensorflow as tf\n",
        "from tensorflow.keras import layers\n",
        "from tensorflow.keras import Model\n",
        "from tensorflow.keras.layers import Dense, Dropout\n",
        "\n",
        "from os import getcwd\n",
        "import zipfile\n",
        "import shutil\n",
        "import numpy as np\n",
        "import glob\n",
        "import random\n",
        "import pandas as pd\n",
        "import matplotlib.pyplot as plt\n",
        "from PIL import Image\n",
        "import plotly.express as px\n",
        "import cv2 as cv\n",
        "\n",
        "from tensorflow.keras.optimizers import RMSprop, Adam\n",
        "from tensorflow.keras.applications.vgg16 import VGG16\n",
        "from tensorflow.keras.applications.inception_v3 import InceptionV3\n",
        "from tensorflow.keras.preprocessing.image import ImageDataGenerator\n",
        "\n",
        "from sklearn.metrics import confusion_matrix,accuracy_score\n",
        "from sklearn.model_selection import train_test_split"
      ],
      "execution_count": 2,
      "outputs": []
    },
    {
      "cell_type": "code",
      "metadata": {
        "colab": {
          "base_uri": "https://localhost:8080/"
        },
        "id": "ye09bw6nVWgH",
        "outputId": "66d2291d-81f8-4d37-d6f5-4e6ebc39eb8c"
      },
      "source": [
        "print(tf.__version__)"
      ],
      "execution_count": 311,
      "outputs": [
        {
          "output_type": "stream",
          "name": "stdout",
          "text": [
            "2.6.0\n"
          ]
        }
      ]
    },
    {
      "cell_type": "code",
      "metadata": {
        "id": "Z6Micr83L4uy",
        "colab": {
          "base_uri": "https://localhost:8080/",
          "height": 1000
        },
        "outputId": "a85c6369-2bdf-4bad-afa1-3912a5704edd"
      },
      "source": [
        "# Instalar Tensorflow\n",
        "!pip install tensorflow==2.6.0"
      ],
      "execution_count": null,
      "outputs": [
        {
          "output_type": "stream",
          "name": "stdout",
          "text": [
            "Collecting tensorflow==2.6.0\n",
            "  Downloading tensorflow-2.6.0-cp37-cp37m-manylinux2010_x86_64.whl (458.3 MB)\n",
            "\u001b[K     |████████████████████████████████| 458.3 MB 7.6 kB/s \n",
            "\u001b[?25hRequirement already satisfied: astunparse~=1.6.3 in /usr/local/lib/python3.7/dist-packages (from tensorflow==2.6.0) (1.6.3)\n",
            "Requirement already satisfied: termcolor~=1.1.0 in /usr/local/lib/python3.7/dist-packages (from tensorflow==2.6.0) (1.1.0)\n",
            "Requirement already satisfied: keras-preprocessing~=1.1.2 in /usr/local/lib/python3.7/dist-packages (from tensorflow==2.6.0) (1.1.2)\n",
            "Requirement already satisfied: flatbuffers~=1.12.0 in /usr/local/lib/python3.7/dist-packages (from tensorflow==2.6.0) (1.12)\n",
            "Requirement already satisfied: clang~=5.0 in /usr/local/lib/python3.7/dist-packages (from tensorflow==2.6.0) (5.0)\n",
            "Requirement already satisfied: protobuf>=3.9.2 in /usr/local/lib/python3.7/dist-packages (from tensorflow==2.6.0) (3.17.3)\n",
            "Collecting tensorflow-estimator~=2.6\n",
            "  Downloading tensorflow_estimator-2.6.0-py2.py3-none-any.whl (462 kB)\n",
            "\u001b[K     |████████████████████████████████| 462 kB 64.6 MB/s \n",
            "\u001b[?25hRequirement already satisfied: six~=1.15.0 in /usr/local/lib/python3.7/dist-packages (from tensorflow==2.6.0) (1.15.0)\n",
            "Requirement already satisfied: wheel~=0.35 in /usr/local/lib/python3.7/dist-packages (from tensorflow==2.6.0) (0.37.0)\n",
            "Collecting gast==0.4.0\n",
            "  Downloading gast-0.4.0-py3-none-any.whl (9.8 kB)\n",
            "Requirement already satisfied: google-pasta~=0.2 in /usr/local/lib/python3.7/dist-packages (from tensorflow==2.6.0) (0.2.0)\n",
            "Requirement already satisfied: keras~=2.6 in /usr/local/lib/python3.7/dist-packages (from tensorflow==2.6.0) (2.6.0)\n",
            "Requirement already satisfied: absl-py~=0.10 in /usr/local/lib/python3.7/dist-packages (from tensorflow==2.6.0) (0.12.0)\n",
            "Requirement already satisfied: wrapt~=1.12.1 in /usr/local/lib/python3.7/dist-packages (from tensorflow==2.6.0) (1.12.1)\n",
            "Collecting tensorboard~=2.6\n",
            "  Downloading tensorboard-2.6.0-py3-none-any.whl (5.6 MB)\n",
            "\u001b[K     |████████████████████████████████| 5.6 MB 19.7 MB/s \n",
            "\u001b[?25hRequirement already satisfied: grpcio<2.0,>=1.37.0 in /usr/local/lib/python3.7/dist-packages (from tensorflow==2.6.0) (1.40.0)\n",
            "Requirement already satisfied: numpy~=1.19.2 in /usr/local/lib/python3.7/dist-packages (from tensorflow==2.6.0) (1.19.5)\n",
            "Requirement already satisfied: typing-extensions~=3.7.4 in /usr/local/lib/python3.7/dist-packages (from tensorflow==2.6.0) (3.7.4.3)\n",
            "Requirement already satisfied: opt-einsum~=3.3.0 in /usr/local/lib/python3.7/dist-packages (from tensorflow==2.6.0) (3.3.0)\n",
            "Collecting h5py~=3.1.0\n",
            "  Downloading h5py-3.1.0-cp37-cp37m-manylinux1_x86_64.whl (4.0 MB)\n",
            "\u001b[K     |████████████████████████████████| 4.0 MB 21.3 MB/s \n",
            "\u001b[?25hRequirement already satisfied: cached-property in /usr/local/lib/python3.7/dist-packages (from h5py~=3.1.0->tensorflow==2.6.0) (1.5.2)\n",
            "Requirement already satisfied: google-auth<2,>=1.6.3 in /usr/local/lib/python3.7/dist-packages (from tensorboard~=2.6->tensorflow==2.6.0) (1.35.0)\n",
            "Requirement already satisfied: google-auth-oauthlib<0.5,>=0.4.1 in /usr/local/lib/python3.7/dist-packages (from tensorboard~=2.6->tensorflow==2.6.0) (0.4.6)\n",
            "Requirement already satisfied: werkzeug>=0.11.15 in /usr/local/lib/python3.7/dist-packages (from tensorboard~=2.6->tensorflow==2.6.0) (1.0.1)\n",
            "Requirement already satisfied: requests<3,>=2.21.0 in /usr/local/lib/python3.7/dist-packages (from tensorboard~=2.6->tensorflow==2.6.0) (2.23.0)\n",
            "Requirement already satisfied: tensorboard-plugin-wit>=1.6.0 in /usr/local/lib/python3.7/dist-packages (from tensorboard~=2.6->tensorflow==2.6.0) (1.8.0)\n",
            "Requirement already satisfied: setuptools>=41.0.0 in /usr/local/lib/python3.7/dist-packages (from tensorboard~=2.6->tensorflow==2.6.0) (57.4.0)\n",
            "Requirement already satisfied: tensorboard-data-server<0.7.0,>=0.6.0 in /usr/local/lib/python3.7/dist-packages (from tensorboard~=2.6->tensorflow==2.6.0) (0.6.1)\n",
            "Requirement already satisfied: markdown>=2.6.8 in /usr/local/lib/python3.7/dist-packages (from tensorboard~=2.6->tensorflow==2.6.0) (3.3.4)\n",
            "Requirement already satisfied: rsa<5,>=3.1.4 in /usr/local/lib/python3.7/dist-packages (from google-auth<2,>=1.6.3->tensorboard~=2.6->tensorflow==2.6.0) (4.7.2)\n",
            "Requirement already satisfied: pyasn1-modules>=0.2.1 in /usr/local/lib/python3.7/dist-packages (from google-auth<2,>=1.6.3->tensorboard~=2.6->tensorflow==2.6.0) (0.2.8)\n",
            "Requirement already satisfied: cachetools<5.0,>=2.0.0 in /usr/local/lib/python3.7/dist-packages (from google-auth<2,>=1.6.3->tensorboard~=2.6->tensorflow==2.6.0) (4.2.2)\n",
            "Requirement already satisfied: requests-oauthlib>=0.7.0 in /usr/local/lib/python3.7/dist-packages (from google-auth-oauthlib<0.5,>=0.4.1->tensorboard~=2.6->tensorflow==2.6.0) (1.3.0)\n",
            "Requirement already satisfied: importlib-metadata in /usr/local/lib/python3.7/dist-packages (from markdown>=2.6.8->tensorboard~=2.6->tensorflow==2.6.0) (4.8.1)\n",
            "Requirement already satisfied: pyasn1<0.5.0,>=0.4.6 in /usr/local/lib/python3.7/dist-packages (from pyasn1-modules>=0.2.1->google-auth<2,>=1.6.3->tensorboard~=2.6->tensorflow==2.6.0) (0.4.8)\n",
            "Requirement already satisfied: urllib3!=1.25.0,!=1.25.1,<1.26,>=1.21.1 in /usr/local/lib/python3.7/dist-packages (from requests<3,>=2.21.0->tensorboard~=2.6->tensorflow==2.6.0) (1.24.3)\n",
            "Requirement already satisfied: chardet<4,>=3.0.2 in /usr/local/lib/python3.7/dist-packages (from requests<3,>=2.21.0->tensorboard~=2.6->tensorflow==2.6.0) (3.0.4)\n",
            "Requirement already satisfied: idna<3,>=2.5 in /usr/local/lib/python3.7/dist-packages (from requests<3,>=2.21.0->tensorboard~=2.6->tensorflow==2.6.0) (2.10)\n",
            "Requirement already satisfied: certifi>=2017.4.17 in /usr/local/lib/python3.7/dist-packages (from requests<3,>=2.21.0->tensorboard~=2.6->tensorflow==2.6.0) (2021.5.30)\n",
            "Requirement already satisfied: oauthlib>=3.0.0 in /usr/local/lib/python3.7/dist-packages (from requests-oauthlib>=0.7.0->google-auth-oauthlib<0.5,>=0.4.1->tensorboard~=2.6->tensorflow==2.6.0) (3.1.1)\n",
            "Requirement already satisfied: zipp>=0.5 in /usr/local/lib/python3.7/dist-packages (from importlib-metadata->markdown>=2.6.8->tensorboard~=2.6->tensorflow==2.6.0) (3.5.0)\n",
            "Installing collected packages: tensorflow-estimator, tensorboard, h5py, gast, tensorflow\n",
            "  Attempting uninstall: tensorflow-estimator\n",
            "    Found existing installation: tensorflow-estimator 2.2.0\n",
            "    Uninstalling tensorflow-estimator-2.2.0:\n",
            "      Successfully uninstalled tensorflow-estimator-2.2.0\n",
            "  Attempting uninstall: tensorboard\n",
            "    Found existing installation: tensorboard 2.2.2\n",
            "    Uninstalling tensorboard-2.2.2:\n",
            "      Successfully uninstalled tensorboard-2.2.2\n",
            "  Attempting uninstall: h5py\n",
            "    Found existing installation: h5py 2.10.0\n",
            "    Uninstalling h5py-2.10.0:\n",
            "      Successfully uninstalled h5py-2.10.0\n",
            "  Attempting uninstall: gast\n",
            "    Found existing installation: gast 0.3.3\n",
            "    Uninstalling gast-0.3.3:\n",
            "      Successfully uninstalled gast-0.3.3\n",
            "  Attempting uninstall: tensorflow\n",
            "    Found existing installation: tensorflow 2.2.0\n",
            "    Uninstalling tensorflow-2.2.0:\n",
            "      Successfully uninstalled tensorflow-2.2.0\n",
            "Successfully installed gast-0.4.0 h5py-3.1.0 tensorboard-2.6.0 tensorflow-2.6.0 tensorflow-estimator-2.6.0\n"
          ]
        },
        {
          "output_type": "display_data",
          "data": {
            "application/vnd.colab-display-data+json": {
              "pip_warning": {
                "packages": [
                  "gast",
                  "h5py",
                  "tensorboard",
                  "tensorflow"
                ]
              }
            }
          },
          "metadata": {}
        }
      ]
    },
    {
      "cell_type": "code",
      "metadata": {
        "id": "X45KGrRTOp4S",
        "colab": {
          "base_uri": "https://localhost:8080/"
        },
        "outputId": "ee410ce7-258f-4325-d914-1f9781c9f91b"
      },
      "source": [
        "# Instalar Keras\n",
        "!pip install keras --upgrade"
      ],
      "execution_count": null,
      "outputs": [
        {
          "output_type": "stream",
          "name": "stdout",
          "text": [
            "Requirement already satisfied: keras in /usr/local/lib/python3.7/dist-packages (2.6.0)\n"
          ]
        }
      ]
    },
    {
      "cell_type": "code",
      "metadata": {
        "id": "qB35LCwK1F9Y"
      },
      "source": [
        "# Caso precise, remover os diretorios\n",
        "\n",
        "!rm -rf geological_similarity andesite gneiss/ marble/ quartzite/ rhyolite/ schist/"
      ],
      "execution_count": 312,
      "outputs": []
    },
    {
      "cell_type": "markdown",
      "metadata": {
        "id": "WsBJvou07fbF"
      },
      "source": [
        "# **Coleta de dados do Kaglle**"
      ]
    },
    {
      "cell_type": "code",
      "metadata": {
        "colab": {
          "resources": {
            "http://localhost:8080/nbextensions/google.colab/files.js": {
              "data": "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",
              "ok": true,
              "headers": [
                [
                  "content-type",
                  "application/javascript"
                ]
              ],
              "status": 200,
              "status_text": ""
            }
          },
          "base_uri": "https://localhost:8080/",
          "height": 90
        },
        "id": "qPW1Uceu4EkK",
        "outputId": "6476adb0-7af3-446e-f518-f79adf377fac"
      },
      "source": [
        "from google.colab import files\n",
        "files.upload()"
      ],
      "execution_count": null,
      "outputs": [
        {
          "output_type": "display_data",
          "data": {
            "text/html": [
              "\n",
              "     <input type=\"file\" id=\"files-4a5bcfc0-cca5-46c4-85c1-9110b3a8af6b\" name=\"files[]\" multiple disabled\n",
              "        style=\"border:none\" />\n",
              "     <output id=\"result-4a5bcfc0-cca5-46c4-85c1-9110b3a8af6b\">\n",
              "      Upload widget is only available when the cell has been executed in the\n",
              "      current browser session. Please rerun this cell to enable.\n",
              "      </output>\n",
              "      <script src=\"/nbextensions/google.colab/files.js\"></script> "
            ],
            "text/plain": [
              "<IPython.core.display.HTML object>"
            ]
          },
          "metadata": {}
        },
        {
          "output_type": "stream",
          "name": "stdout",
          "text": [
            "Saving kaggle.json to kaggle.json\n"
          ]
        },
        {
          "output_type": "execute_result",
          "data": {
            "text/plain": [
              "{'kaggle.json': b'{\"username\":\"fabiobasson\",\"key\":\"d71cbfdfd23379909173204eac74cf96\"}'}"
            ]
          },
          "metadata": {},
          "execution_count": 3
        }
      ]
    },
    {
      "cell_type": "code",
      "metadata": {
        "id": "SQCTWdML4LFR"
      },
      "source": [
        "!mkdir ~/.kaggle\n",
        "!cp kaggle.json ~/.kaggle/\n",
        "!chmod 600 ~/.kaggle/kaggle.json"
      ],
      "execution_count": null,
      "outputs": []
    },
    {
      "cell_type": "markdown",
      "metadata": {
        "id": "rte0cNVp7kgE"
      },
      "source": [
        "# **###  Download dos dados / descompactando os dados**"
      ]
    },
    {
      "cell_type": "code",
      "metadata": {
        "colab": {
          "base_uri": "https://localhost:8080/"
        },
        "id": "GvN30SNO4L1f",
        "outputId": "a651bcec-5df6-4032-c640-4b4ebe630a75"
      },
      "source": [
        "!kaggle datasets download fabiobasson/geologicalsimilarity\n",
        "! unzip -qq  geologicalsimilarity"
      ],
      "execution_count": 313,
      "outputs": [
        {
          "output_type": "stream",
          "name": "stdout",
          "text": [
            "geologicalsimilarity.zip: Skipping, found more recently modified local copy (use --force to force download)\n"
          ]
        }
      ]
    },
    {
      "cell_type": "markdown",
      "metadata": {
        "id": "owY2uo8A7q5j"
      },
      "source": [
        "# ** Criação da estrutura e leitura de diretórios **"
      ]
    },
    {
      "cell_type": "code",
      "metadata": {
        "id": "QXSrUDeU4L7J",
        "colab": {
          "base_uri": "https://localhost:8080/"
        },
        "outputId": "ab58414d-f78c-449d-9027-62ff84d4943a"
      },
      "source": [
        "andesite_dir = glob.glob('andesite/*.jpg');gneiss_dir = glob.glob('gneiss/*.jpg')\n",
        "marble_dir= glob.glob('marble/*.jpg');quartzite_dir = glob.glob('quartzite/*.jpg')\n",
        "rhyolite_dir = glob.glob('rhyolite/*.jpg');\n",
        "schist_dir = glob.glob('schist/*.jpg')\n",
        "print(len(andesite_dir));print(len(gneiss_dir)); print(len(marble_dir)); print(len(quartzite_dir));  print(len(quartzite_dir)); print(len(schist_dir))\n"
      ],
      "execution_count": 3,
      "outputs": [
        {
          "output_type": "stream",
          "name": "stdout",
          "text": [
            "230\n",
            "190\n",
            "204\n",
            "198\n",
            "198\n",
            "204\n"
          ]
        }
      ]
    },
    {
      "cell_type": "markdown",
      "metadata": {
        "id": "xL-7GOm_w3m3"
      },
      "source": [
        "# **Nomes das Classes**\n",
        "# andesite = 0  # gneiss =1 # marbler = 2 # quartzite = 3 # rhyolite = 4  # schist = 5 \n"
      ]
    },
    {
      "cell_type": "code",
      "metadata": {
        "id": "O9d3W_LswkS2"
      },
      "source": [
        "label = ['andesite','gneiss','marbler','quartzite','rhyolite','schist']\n",
        "\n",
        "#label =[0,1,2,3,4,5]"
      ],
      "execution_count": 4,
      "outputs": []
    },
    {
      "cell_type": "code",
      "metadata": {
        "colab": {
          "base_uri": "https://localhost:8080/"
        },
        "id": "wBhB6b6xi1xl",
        "outputId": "0ac12bf5-e9f4-4ad0-814f-f8ddb79c2e27"
      },
      "source": [
        "andesite_df=[];gneiss_df=[];marble_df=[];quartzite_df=[];rhyolite_df=[];schist_df=[]\n",
        "\n",
        "for i in andesite_dir:\n",
        "    andesite_df.append([i,label[0]])\n",
        "for j in gneiss_dir:\n",
        "   gneiss_df.append([j,label[1]])\n",
        "for l in marble_dir:\n",
        "    marble_df.append([l,label[2]])\n",
        "for m in quartzite_dir:\n",
        "    quartzite_df.append([m,label[3]])\n",
        "for n in rhyolite_dir:\n",
        "    rhyolite_df.append([n,label[4]])\n",
        "for o in schist_dir:\n",
        "    schist_df.append([o,label[5]])\n",
        "   \n",
        "df = andesite_df + gneiss_df + marble_df  + quartzite_df + rhyolite_df + schist_df\n",
        "random.shuffle(df)\n",
        "len(df)"
      ],
      "execution_count": 5,
      "outputs": [
        {
          "output_type": "execute_result",
          "data": {
            "text/plain": [
              "1218"
            ]
          },
          "metadata": {},
          "execution_count": 5
        }
      ]
    },
    {
      "cell_type": "markdown",
      "metadata": {
        "id": "iJTNl-uSVUFA"
      },
      "source": [
        "# **Criação do Dataframe**"
      ]
    },
    {
      "cell_type": "code",
      "metadata": {
        "colab": {
          "base_uri": "https://localhost:8080/",
          "height": 417
        },
        "id": "87UeiF--wzh8",
        "outputId": "0e2a5771-f1c1-417d-ff95-7221acfdf6b2"
      },
      "source": [
        "data_df = pd.DataFrame(df,columns=['path','label'])\n",
        "data_df"
      ],
      "execution_count": 6,
      "outputs": [
        {
          "output_type": "execute_result",
          "data": {
            "text/html": [
              "<div>\n",
              "<style scoped>\n",
              "    .dataframe tbody tr th:only-of-type {\n",
              "        vertical-align: middle;\n",
              "    }\n",
              "\n",
              "    .dataframe tbody tr th {\n",
              "        vertical-align: top;\n",
              "    }\n",
              "\n",
              "    .dataframe thead th {\n",
              "        text-align: right;\n",
              "    }\n",
              "</style>\n",
              "<table border=\"1\" class=\"dataframe\">\n",
              "  <thead>\n",
              "    <tr style=\"text-align: right;\">\n",
              "      <th></th>\n",
              "      <th>path</th>\n",
              "      <th>label</th>\n",
              "    </tr>\n",
              "  </thead>\n",
              "  <tbody>\n",
              "    <tr>\n",
              "      <th>0</th>\n",
              "      <td>gneiss/0AELB.jpg</td>\n",
              "      <td>gneiss</td>\n",
              "    </tr>\n",
              "    <tr>\n",
              "      <th>1</th>\n",
              "      <td>quartzite/1W4X1.jpg</td>\n",
              "      <td>quartzite</td>\n",
              "    </tr>\n",
              "    <tr>\n",
              "      <th>2</th>\n",
              "      <td>andesite/0S5IG.jpg</td>\n",
              "      <td>andesite</td>\n",
              "    </tr>\n",
              "    <tr>\n",
              "      <th>3</th>\n",
              "      <td>marble/0A0VE.jpg</td>\n",
              "      <td>marbler</td>\n",
              "    </tr>\n",
              "    <tr>\n",
              "      <th>4</th>\n",
              "      <td>schist/01NFA.jpg</td>\n",
              "      <td>schist</td>\n",
              "    </tr>\n",
              "    <tr>\n",
              "      <th>...</th>\n",
              "      <td>...</td>\n",
              "      <td>...</td>\n",
              "    </tr>\n",
              "    <tr>\n",
              "      <th>1213</th>\n",
              "      <td>marble/0MLLO.jpg</td>\n",
              "      <td>marbler</td>\n",
              "    </tr>\n",
              "    <tr>\n",
              "      <th>1214</th>\n",
              "      <td>quartzite/0VU5W.jpg</td>\n",
              "      <td>quartzite</td>\n",
              "    </tr>\n",
              "    <tr>\n",
              "      <th>1215</th>\n",
              "      <td>marble/1VD8M.jpg</td>\n",
              "      <td>marbler</td>\n",
              "    </tr>\n",
              "    <tr>\n",
              "      <th>1216</th>\n",
              "      <td>rhyolite/1KI7Q.jpg</td>\n",
              "      <td>rhyolite</td>\n",
              "    </tr>\n",
              "    <tr>\n",
              "      <th>1217</th>\n",
              "      <td>quartzite/2B1FA.jpg</td>\n",
              "      <td>quartzite</td>\n",
              "    </tr>\n",
              "  </tbody>\n",
              "</table>\n",
              "<p>1218 rows × 2 columns</p>\n",
              "</div>"
            ],
            "text/plain": [
              "                     path      label\n",
              "0        gneiss/0AELB.jpg     gneiss\n",
              "1     quartzite/1W4X1.jpg  quartzite\n",
              "2      andesite/0S5IG.jpg   andesite\n",
              "3        marble/0A0VE.jpg    marbler\n",
              "4        schist/01NFA.jpg     schist\n",
              "...                   ...        ...\n",
              "1213     marble/0MLLO.jpg    marbler\n",
              "1214  quartzite/0VU5W.jpg  quartzite\n",
              "1215     marble/1VD8M.jpg    marbler\n",
              "1216   rhyolite/1KI7Q.jpg   rhyolite\n",
              "1217  quartzite/2B1FA.jpg  quartzite\n",
              "\n",
              "[1218 rows x 2 columns]"
            ]
          },
          "metadata": {},
          "execution_count": 6
        }
      ]
    },
    {
      "cell_type": "markdown",
      "metadata": {
        "id": "B-ruxpGkzqHx"
      },
      "source": [
        "#  Conhecendo os dados de imagem"
      ]
    },
    {
      "cell_type": "code",
      "metadata": {
        "id": "j_QFJEd2yZMe",
        "colab": {
          "base_uri": "https://localhost:8080/",
          "height": 349
        },
        "outputId": "a36fedd9-c9b4-48a3-8e87-744c92c554a6"
      },
      "source": [
        "from matplotlib import image\n",
        "from matplotlib import pyplot\n",
        "# Carregando imagem como um array NumPy:\n",
        "data = image.imread(\"gneiss/0QTQE.jpg\")\n",
        "# Imprimindo as propriedades do array de pixels:\n",
        "print(data.dtype)\n",
        "print(data.shape)\n",
        "print(data.max())\n",
        "print(data.min())\n",
        "\n",
        "# Exibindo o array de pixels como uma imagem:\n",
        "pyplot.imshow(data)"
      ],
      "execution_count": null,
      "outputs": [
        {
          "output_type": "stream",
          "name": "stdout",
          "text": [
            "uint8\n",
            "(28, 28, 3)\n",
            "251\n",
            "32\n"
          ]
        },
        {
          "output_type": "execute_result",
          "data": {
            "text/plain": [
              "<matplotlib.image.AxesImage at 0x7f549a15cd10>"
            ]
          },
          "metadata": {},
          "execution_count": 12
        },
        {
          "output_type": "display_data",
          "data": {
            "image/png": "[encoded data removed]",
            "text/plain": [
              "<Figure size 432x288 with 1 Axes>"
            ]
          },
          "metadata": {
            "needs_background": "light"
          }
        }
      ]
    },
    {
      "cell_type": "code",
      "metadata": {
        "id": "q0f0-HaP3cYM",
        "colab": {
          "base_uri": "https://localhost:8080/"
        },
        "outputId": "62c5f885-4235-4dbf-e5d0-ba2f719d0553"
      },
      "source": [
        "from numpy import asarray\n",
        "image = Image.open(\"gneiss/0QTQE.jpg\")\n",
        "# Método asarray para realizar a conversão:\n",
        "pixels= asarray(image)\n",
        "# Verificando a faixa de valores entre 0 e 255:\n",
        "print('Data Type: %s' % pixels.dtype)\n",
        "print('Min: %.3f, Max: %.3f' % (pixels.min(), pixels.max()))\n",
        "\n",
        "#Converte os valores inteiros em float para realizar a operação:\n",
        "pixels = pixels.astype('float32')\n",
        "# Normaliza a faixa de valores:\n",
        "pixels /= pixels.max()\n",
        "# Verificando a faixa de valores normalizada:\n",
        "print('Data Type: %s' % pixels.dtype)\n",
        "print('Min: %.3f, Max: %.3f' % (pixels.min(), pixels.max()))"
      ],
      "execution_count": null,
      "outputs": [
        {
          "output_type": "stream",
          "name": "stdout",
          "text": [
            "Data Type: uint8\n",
            "Min: 32.000, Max: 251.000\n",
            "Data Type: float32\n",
            "Min: 0.127, Max: 1.000\n"
          ]
        }
      ]
    },
    {
      "cell_type": "markdown",
      "metadata": {
        "id": "XlUbajOTxHKl"
      },
      "source": [
        "# **Limpeza de dados**\n",
        "1 - Analisando os dados ausentes\n",
        "2 - Descartando os dados ausentes\n",
        "3 - Imputando dados\n",
        "4 - Acrescentando colunas informativas"
      ]
    },
    {
      "cell_type": "code",
      "metadata": {
        "id": "ybydrHWUvlbY",
        "colab": {
          "base_uri": "https://localhost:8080/"
        },
        "outputId": "ffd322eb-f698-4825-8137-680e9978cd2d"
      },
      "source": [
        "### 1 - Analisando os dados ausentes ###\n",
        "\n",
        "import missingno as msno\n",
        "ax = msno.matrix(data_df.sample(400))"
      ],
      "execution_count": null,
      "outputs": [
        {
          "output_type": "display_data",
          "data": {
            "image/png": "[encoded data removed]",
            "text/plain": [
              "<Figure size 1800x720 with 2 Axes>"
            ]
          },
          "metadata": {
            "needs_background": "light"
          }
        }
      ]
    },
    {
      "cell_type": "code",
      "metadata": {
        "id": "9cVvBcwVxq9s"
      },
      "source": [
        "#! pip install pandas-profiling==2.8.0\n",
        "#from pandas_profiling import ProfileReport\n",
        "#ProfileReport (data_df)"
      ],
      "execution_count": null,
      "outputs": []
    },
    {
      "cell_type": "markdown",
      "metadata": {
        "id": "NONt2HCxWd5X"
      },
      "source": [
        "# **Separação das amostras**"
      ]
    },
    {
      "cell_type": "code",
      "metadata": {
        "id": "KBjbH7d9NUnq"
      },
      "source": [
        "X = data_df.drop(columns='label')\n",
        "y = data_df.label"
      ],
      "execution_count": 7,
      "outputs": []
    },
    {
      "cell_type": "code",
      "metadata": {
        "colab": {
          "base_uri": "https://localhost:8080/",
          "height": 417
        },
        "id": "319As8ThaNyo",
        "outputId": "02d55f2e-4b1a-49ae-d842-2042f6ed039a"
      },
      "source": [
        "X"
      ],
      "execution_count": 319,
      "outputs": [
        {
          "output_type": "execute_result",
          "data": {
            "text/html": [
              "<div>\n",
              "<style scoped>\n",
              "    .dataframe tbody tr th:only-of-type {\n",
              "        vertical-align: middle;\n",
              "    }\n",
              "\n",
              "    .dataframe tbody tr th {\n",
              "        vertical-align: top;\n",
              "    }\n",
              "\n",
              "    .dataframe thead th {\n",
              "        text-align: right;\n",
              "    }\n",
              "</style>\n",
              "<table border=\"1\" class=\"dataframe\">\n",
              "  <thead>\n",
              "    <tr style=\"text-align: right;\">\n",
              "      <th></th>\n",
              "      <th>path</th>\n",
              "    </tr>\n",
              "  </thead>\n",
              "  <tbody>\n",
              "    <tr>\n",
              "      <th>0</th>\n",
              "      <td>rhyolite/1OWTU.jpg</td>\n",
              "    </tr>\n",
              "    <tr>\n",
              "      <th>1</th>\n",
              "      <td>andesite/0DPF9.jpg</td>\n",
              "    </tr>\n",
              "    <tr>\n",
              "      <th>2</th>\n",
              "      <td>quartzite/0OTUL.jpg</td>\n",
              "    </tr>\n",
              "    <tr>\n",
              "      <th>3</th>\n",
              "      <td>quartzite/0RQA4.jpg</td>\n",
              "    </tr>\n",
              "    <tr>\n",
              "      <th>4</th>\n",
              "      <td>rhyolite/1YMXJ.jpg</td>\n",
              "    </tr>\n",
              "    <tr>\n",
              "      <th>...</th>\n",
              "      <td>...</td>\n",
              "    </tr>\n",
              "    <tr>\n",
              "      <th>1213</th>\n",
              "      <td>gneiss/0EE04.jpg</td>\n",
              "    </tr>\n",
              "    <tr>\n",
              "      <th>1214</th>\n",
              "      <td>schist/0YA5Q.jpg</td>\n",
              "    </tr>\n",
              "    <tr>\n",
              "      <th>1215</th>\n",
              "      <td>marble/1SNLX.jpg</td>\n",
              "    </tr>\n",
              "    <tr>\n",
              "      <th>1216</th>\n",
              "      <td>andesite/1MRP0.jpg</td>\n",
              "    </tr>\n",
              "    <tr>\n",
              "      <th>1217</th>\n",
              "      <td>marble/0JGIF.jpg</td>\n",
              "    </tr>\n",
              "  </tbody>\n",
              "</table>\n",
              "<p>1218 rows × 1 columns</p>\n",
              "</div>"
            ],
            "text/plain": [
              "                     path\n",
              "0      rhyolite/1OWTU.jpg\n",
              "1      andesite/0DPF9.jpg\n",
              "2     quartzite/0OTUL.jpg\n",
              "3     quartzite/0RQA4.jpg\n",
              "4      rhyolite/1YMXJ.jpg\n",
              "...                   ...\n",
              "1213     gneiss/0EE04.jpg\n",
              "1214     schist/0YA5Q.jpg\n",
              "1215     marble/1SNLX.jpg\n",
              "1216   andesite/1MRP0.jpg\n",
              "1217     marble/0JGIF.jpg\n",
              "\n",
              "[1218 rows x 1 columns]"
            ]
          },
          "metadata": {},
          "execution_count": 319
        }
      ]
    },
    {
      "cell_type": "code",
      "metadata": {
        "id": "Ecyjy4Vd60zx"
      },
      "source": [
        "# X_train,X_test,y_train,y_test = train_test_split(X,y,test_size = 0.2,random_state = 1) # codigo nao utilizado"
      ],
      "execution_count": null,
      "outputs": []
    },
    {
      "cell_type": "markdown",
      "metadata": {
        "id": "rgLimflCWSq3"
      },
      "source": [
        "# **Explorando os dados**"
      ]
    },
    {
      "cell_type": "markdown",
      "metadata": {
        "id": "-AAuWUVf6ocm"
      },
      "source": [
        "\n",
        "# **Type: Data Augumentation**"
      ]
    },
    {
      "cell_type": "markdown",
      "metadata": {
        "id": "G1xbq78zfV9i"
      },
      "source": [
        "## ** Esta função irá plotar as imagens num grid de 1 a 5 colunas **"
      ]
    },
    {
      "cell_type": "code",
      "metadata": {
        "id": "hjV3pOngCtA7"
      },
      "source": [
        "IMG_SHAPE = 32\n",
        "BATCH_SIZE = 32\n",
        "\n",
        "def plotImages(images_arr):\n",
        "    fig, axes = plt.subplots(1, 5, figsize=(20,20))\n",
        "    axes = axes.flatten()\n",
        "    for img, ax in zip(images_arr, axes):\n",
        "        ax.imshow(img)\n",
        "    plt.tight_layout()\n",
        "    plt.show()"
      ],
      "execution_count": 8,
      "outputs": []
    },
    {
      "cell_type": "code",
      "metadata": {
        "id": "Cw0IbS6mfdxM",
        "colab": {
          "base_uri": "https://localhost:8080/"
        },
        "outputId": "fb022cf4-aa89-4395-8340-d664b75c84d1"
      },
      "source": [
        "datagen_train = ImageDataGenerator(rescale=1./255,\n",
        "                            #featurewise_center =False ,\n",
        "                            # samplewise_center =False ,\n",
        "                            # featurewise_std_normalization =False ,\n",
        "                            # samplewise_std_normalization =False ,\n",
        "                            # zca_whitening =False ,\n",
        "                            # zca_epsilon =1e -6 ,\n",
        "                            # channel_shift_range =0. ,\n",
        "                            # fill_mode = ’ nearest ’ ,\n",
        "                            # cval =0. ,\n",
        "                            rotation_range = 40,\n",
        "                            width_shift_range = 0.2,\n",
        "                            height_shift_range = 0.2,\n",
        "                            #shear_range = 0.2,\n",
        "                            #zoom_range = 0.2,\n",
        "                            horizontal_flip = True,\n",
        "                            vertical_flip = True,\n",
        "                            validation_split=0.2)\n",
        "\n",
        "train_generator = datagen_train.flow_from_dataframe(data_df,\n",
        "                                              batch_size=BATCH_SIZE,\n",
        "                                              x_col='path',\n",
        "                                              y_col= 'label',\n",
        "                                              shuffle=True,\n",
        "                                              target_size=(IMG_SHAPE,IMG_SHAPE),\n",
        "                                              #class_mode='raw',\n",
        "                                              subset='training')\n",
        "\n",
        "datagen_val = ImageDataGenerator(rescale=1./255,\n",
        "                                 validation_split=0.2 )\n",
        "\n",
        "validation_generator = datagen_val.flow_from_dataframe(data_df,\n",
        "                                                   batch_size=BATCH_SIZE,\n",
        "                                                   x_col='path',\n",
        "                                                   y_col='label',\n",
        "                                                   shuffle=True,\n",
        "                                                   target_size=(IMG_SHAPE,IMG_SHAPE),\n",
        "                                                   #class_mode='raw',\n",
        "                                                   subset='validation')    "
      ],
      "execution_count": 9,
      "outputs": [
        {
          "output_type": "stream",
          "name": "stdout",
          "text": [
            "Found 975 validated image filenames belonging to 6 classes.\n",
            "Found 243 validated image filenames belonging to 6 classes.\n"
          ]
        }
      ]
    },
    {
      "cell_type": "code",
      "metadata": {
        "colab": {
          "base_uri": "https://localhost:8080/"
        },
        "id": "Pgigt3S3Z6-V",
        "outputId": "aabf9a57-9672-400f-cf90-27fdd0eff98c"
      },
      "source": [
        "datagen_test = ImageDataGenerator(rescale=1./255,\n",
        "                                  )\n",
        "\n",
        "test_generator = datagen_val.flow_from_dataframe(data_df,\n",
        "                                                 batch_size=BATCH_SIZE,\n",
        "                                                 x_col='path',\n",
        "                                                 y_col='label',\n",
        "                                                 shuffle=True,\n",
        "                                                 #class_mode='raw',\n",
        "                                                 target_size=(IMG_SHAPE,IMG_SHAPE))                                                   "
      ],
      "execution_count": 10,
      "outputs": [
        {
          "output_type": "stream",
          "name": "stdout",
          "text": [
            "Found 1218 validated image filenames belonging to 6 classes.\n"
          ]
        }
      ]
    },
    {
      "cell_type": "code",
      "metadata": {
        "colab": {
          "base_uri": "https://localhost:8080/",
          "height": 248
        },
        "id": "ShN0CzElfd9R",
        "outputId": "a812d4d8-bc39-4c3f-a295-bd299ed827dc"
      },
      "source": [
        "augmented_images = [train_generator[0][0][0] for i in range(5)]\n",
        "plotImages(augmented_images)"
      ],
      "execution_count": 11,
      "outputs": [
        {
          "output_type": "display_data",
          "data": {
            "image/png": "[encoded data removed]",
            "text/plain": [
              "<Figure size 1440x1440 with 5 Axes>"
            ]
          },
          "metadata": {
            "needs_background": "light"
          }
        }
      ]
    },
    {
      "cell_type": "markdown",
      "metadata": {
        "id": "UIPXX6y48mV-"
      },
      "source": [
        "# **Criando o Dataframe em dados de treino, validação e teste**"
      ]
    },
    {
      "cell_type": "code",
      "metadata": {
        "id": "397pKysWejrc"
      },
      "source": [
        "X_train, y_train = next(train_generator)\n",
        "X_val, y_val = next(validation_generator)\n",
        "X_test, y_test = next(test_generator)"
      ],
      "execution_count": 12,
      "outputs": []
    },
    {
      "cell_type": "code",
      "metadata": {
        "id": "s1Rh9KNLEXqO",
        "outputId": "dc30f1a3-2177-43c0-ca26-0d5c57421376",
        "colab": {
          "base_uri": "https://localhost:8080/"
        }
      },
      "source": [
        "X_test.shape"
      ],
      "execution_count": 13,
      "outputs": [
        {
          "output_type": "execute_result",
          "data": {
            "text/plain": [
              "(32, 32, 32, 3)"
            ]
          },
          "metadata": {},
          "execution_count": 13
        }
      ]
    },
    {
      "cell_type": "markdown",
      "metadata": {
        "id": "dXm8LYqv0_vK"
      },
      "source": [
        "# **Criar o modelo**"
      ]
    },
    {
      "cell_type": "code",
      "metadata": {
        "id": "ncctBTCAgG7d"
      },
      "source": [
        "classes = 6\n",
        "\n",
        "model = tf.keras.models.Sequential([\n",
        "    tf.keras.layers.Conv2D(32, (3,3), activation='relu', input_shape=(28, 28,3)),\n",
        "    #tf.keras.layers.BatchNormalization(),# ver esse aqui duvidaaaa\n",
        "    tf.keras.layers.MaxPooling2D(2, 2),\n",
        "\n",
        "    tf.keras.layers.Conv2D(64, (3,3), activation='relu'),\n",
        "    tf.keras.layers.MaxPooling2D(2,2),\n",
        "\n",
        "    tf.keras.layers.Conv2D(128, (3,3), activation='relu'),\n",
        "    tf.keras.layers.MaxPooling2D(2,2),\n",
        "   \n",
        "\n",
        "    tf.keras.layers.Dropout(0.5),\n",
        "    tf.keras.layers.Flatten(),\n",
        "    tf.keras.layers.Dense(512, activation='relu'),\n",
        "    tf.keras.layers.Dense(6, activation='softmax')\n",
        "   \n",
        "])"
      ],
      "execution_count": null,
      "outputs": []
    },
    {
      "cell_type": "markdown",
      "metadata": {
        "id": "WPvlnHQyjENH"
      },
      "source": [
        "# **Listando as redes realmente disponíveis em seu Keras**"
      ]
    },
    {
      "cell_type": "code",
      "metadata": {
        "colab": {
          "base_uri": "https://localhost:8080/"
        },
        "id": "r7rGxnabi9t2",
        "outputId": "56160229-94ca-49f7-bc62-dc4a58474573"
      },
      "source": [
        "import tensorflow.keras.applications as app\n",
        "print(dir(app))"
      ],
      "execution_count": 14,
      "outputs": [
        {
          "output_type": "stream",
          "name": "stdout",
          "text": [
            "['DenseNet121', 'DenseNet169', 'DenseNet201', 'EfficientNetB0', 'EfficientNetB1', 'EfficientNetB2', 'EfficientNetB3', 'EfficientNetB4', 'EfficientNetB5', 'EfficientNetB6', 'EfficientNetB7', 'InceptionResNetV2', 'InceptionV3', 'MobileNet', 'MobileNetV2', 'MobileNetV3Large', 'MobileNetV3Small', 'NASNetLarge', 'NASNetMobile', 'ResNet101', 'ResNet101V2', 'ResNet152', 'ResNet152V2', 'ResNet50', 'ResNet50V2', 'VGG16', 'VGG19', 'Xception', '__builtins__', '__cached__', '__doc__', '__file__', '__loader__', '__name__', '__package__', '__path__', '__spec__', '_sys', 'densenet', 'efficientnet', 'imagenet_utils', 'inception_resnet_v2', 'inception_v3', 'mobilenet', 'mobilenet_v2', 'mobilenet_v3', 'nasnet', 'resnet', 'resnet50', 'resnet_v2', 'vgg16', 'vgg19', 'xception']\n"
          ]
        }
      ]
    },
    {
      "cell_type": "markdown",
      "metadata": {
        "id": "whuxIzeCjLba"
      },
      "source": [
        "# **O Modelo pre treinado VGG16**"
      ]
    },
    {
      "cell_type": "code",
      "metadata": {
        "id": "plUzuRvljMKw"
      },
      "source": [
        "#VGG16 = tf.keras.applications.vgg16.VGG16(\n",
        "    #weights=\"imagenet\",\n",
        "    #include_top=False,\n",
        "    #input_shape=(32,32, 3))"
      ],
      "execution_count": null,
      "outputs": []
    },
    {
      "cell_type": "code",
      "metadata": {
        "id": "J5ri8TgbjjcD",
        "colab": {
          "base_uri": "https://localhost:8080/"
        },
        "outputId": "92dfe819-7a26-4a87-e48a-e19002adac57"
      },
      "source": [
        "# Inicializar a CNN\n",
        "classifier = VGG16(include_top=False, input_shape=(32, 32, 3)) # Minimo de shape que o VGG16 aceita\n",
        "\n",
        "# marcar camadas como não treináveis\n",
        "for layer in classifier.layers:\n",
        "    layer.trainable = False\n",
        "\n",
        "# adicionar novas camadas para classificação\n",
        "flat1 = tf.keras.layers.Flatten()(classifier.layers[-1].output)\n",
        "class1 = Dense(512, activation='relu', kernel_initializer='he_uniform')(flat1)\n",
        "output = Dense(6, activation='softmax')(class1)\n",
        "\n",
        "# definir o modelo\n",
        "modelvgg16 = Model(inputs=classifier.inputs, outputs=output)\n",
        "\n",
        "modelvgg16.summary()"
      ],
      "execution_count": 15,
      "outputs": [
        {
          "output_type": "stream",
          "name": "stdout",
          "text": [
            "Model: \"model\"\n",
            "_________________________________________________________________\n",
            "Layer (type)                 Output Shape              Param #   \n",
            "=================================================================\n",
            "input_1 (InputLayer)         [(None, 32, 32, 3)]       0         \n",
            "_________________________________________________________________\n",
            "block1_conv1 (Conv2D)        (None, 32, 32, 64)        1792      \n",
            "_________________________________________________________________\n",
            "block1_conv2 (Conv2D)        (None, 32, 32, 64)        36928     \n",
            "_________________________________________________________________\n",
            "block1_pool (MaxPooling2D)   (None, 16, 16, 64)        0         \n",
            "_________________________________________________________________\n",
            "block2_conv1 (Conv2D)        (None, 16, 16, 128)       73856     \n",
            "_________________________________________________________________\n",
            "block2_conv2 (Conv2D)        (None, 16, 16, 128)       147584    \n",
            "_________________________________________________________________\n",
            "block2_pool (MaxPooling2D)   (None, 8, 8, 128)         0         \n",
            "_________________________________________________________________\n",
            "block3_conv1 (Conv2D)        (None, 8, 8, 256)         295168    \n",
            "_________________________________________________________________\n",
            "block3_conv2 (Conv2D)        (None, 8, 8, 256)         590080    \n",
            "_________________________________________________________________\n",
            "block3_conv3 (Conv2D)        (None, 8, 8, 256)         590080    \n",
            "_________________________________________________________________\n",
            "block3_pool (MaxPooling2D)   (None, 4, 4, 256)         0         \n",
            "_________________________________________________________________\n",
            "block4_conv1 (Conv2D)        (None, 4, 4, 512)         1180160   \n",
            "_________________________________________________________________\n",
            "block4_conv2 (Conv2D)        (None, 4, 4, 512)         2359808   \n",
            "_________________________________________________________________\n",
            "block4_conv3 (Conv2D)        (None, 4, 4, 512)         2359808   \n",
            "_________________________________________________________________\n",
            "block4_pool (MaxPooling2D)   (None, 2, 2, 512)         0         \n",
            "_________________________________________________________________\n",
            "block5_conv1 (Conv2D)        (None, 2, 2, 512)         2359808   \n",
            "_________________________________________________________________\n",
            "block5_conv2 (Conv2D)        (None, 2, 2, 512)         2359808   \n",
            "_________________________________________________________________\n",
            "block5_conv3 (Conv2D)        (None, 2, 2, 512)         2359808   \n",
            "_________________________________________________________________\n",
            "block5_pool (MaxPooling2D)   (None, 1, 1, 512)         0         \n",
            "_________________________________________________________________\n",
            "flatten (Flatten)            (None, 512)               0         \n",
            "_________________________________________________________________\n",
            "dense (Dense)                (None, 512)               262656    \n",
            "_________________________________________________________________\n",
            "dense_1 (Dense)              (None, 6)                 3078      \n",
            "=================================================================\n",
            "Total params: 14,980,422\n",
            "Trainable params: 265,734\n",
            "Non-trainable params: 14,714,688\n",
            "_________________________________________________________________\n"
          ]
        }
      ]
    },
    {
      "cell_type": "code",
      "metadata": {
        "id": "wvbEuAEuQxLI"
      },
      "source": [
        "modelvgg16.compile(optimizer = 'Adam', \n",
        "               loss = 'categorical_crossentropy', \n",
        "               metrics =['accuracy'])  \n",
        "callbacksvgg16 = [\n",
        "    tf.keras.callbacks.ModelCheckpoint(\n",
        "      filepath='feature_extraction.vgg16',\n",
        "      save_best_only=True,\n",
        "      monitor=\"val_loss\")\n",
        "]"
      ],
      "execution_count": 16,
      "outputs": []
    },
    {
      "cell_type": "code",
      "metadata": {
        "id": "Q49JsEYskH6B",
        "colab": {
          "base_uri": "https://localhost:8080/"
        },
        "outputId": "c50cc725-44ed-4b05-e8ce-aec273a5268c"
      },
      "source": [
        "epochs=200\n",
        "history = modelvgg16.fit(train_generator,\n",
        "                         steps_per_epoch = 975/32,\n",
        "                          epochs=epochs,\n",
        "                          callbacks=callbacksvgg16,\n",
        "                          #validation_steps = 2000/32,\n",
        "                          validation_data=validation_generator)"
      ],
      "execution_count": 19,
      "outputs": [
        {
          "metadata": {
            "tags": null
          },
          "name": "stdout",
          "output_type": "stream",
          "text": [
            "Epoch 1/200\n",
            "30/30 [==============================] - 9s 295ms/step - loss: 0.4536 - accuracy: 0.8349 - val_loss: 0.4726 - val_accuracy: 0.8066\n",
            "INFO:tensorflow:Assets written to: feature_extraction.vgg16/assets\n",
            "Epoch 2/200\n",
            "30/30 [==============================] - 9s 296ms/step - loss: 0.4065 - accuracy: 0.8585 - val_loss: 0.4092 - val_accuracy: 0.8477\n",
            "INFO:tensorflow:Assets written to: feature_extraction.vgg16/assets\n",
            "Epoch 3/200\n",
            "30/30 [==============================] - 9s 293ms/step - loss: 0.3512 - accuracy: 0.8769 - val_loss: 0.4483 - val_accuracy: 0.7901\n",
            "Epoch 4/200\n",
            "30/30 [==============================] - 9s 295ms/step - loss: 0.3538 - accuracy: 0.8749 - val_loss: 0.3934 - val_accuracy: 0.8354\n",
            "INFO:tensorflow:Assets written to: feature_extraction.vgg16/assets\n",
            "Epoch 5/200\n",
            "30/30 [==============================] - 9s 300ms/step - loss: 0.3227 - accuracy: 0.8810 - val_loss: 0.4048 - val_accuracy: 0.8313\n",
            "Epoch 6/200\n",
            "30/30 [==============================] - 9s 297ms/step - loss: 0.3335 - accuracy: 0.8800 - val_loss: 0.3518 - val_accuracy: 0.8560\n",
            "INFO:tensorflow:Assets written to: feature_extraction.vgg16/assets\n",
            "Epoch 7/200\n",
            "30/30 [==============================] - 9s 300ms/step - loss: 0.2989 - accuracy: 0.8882 - val_loss: 0.4029 - val_accuracy: 0.8107\n",
            "Epoch 8/200\n",
            "30/30 [==============================] - 9s 301ms/step - loss: 0.2986 - accuracy: 0.8790 - val_loss: 0.4413 - val_accuracy: 0.8107\n",
            "Epoch 9/200\n",
            "30/30 [==============================] - 9s 299ms/step - loss: 0.3064 - accuracy: 0.8841 - val_loss: 0.3378 - val_accuracy: 0.8807\n",
            "INFO:tensorflow:Assets written to: feature_extraction.vgg16/assets\n",
            "Epoch 10/200\n",
            "30/30 [==============================] - 9s 297ms/step - loss: 0.2987 - accuracy: 0.8851 - val_loss: 0.3353 - val_accuracy: 0.8477\n",
            "INFO:tensorflow:Assets written to: feature_extraction.vgg16/assets\n",
            "Epoch 11/200\n",
            "30/30 [==============================] - 9s 298ms/step - loss: 0.2925 - accuracy: 0.8851 - val_loss: 0.3248 - val_accuracy: 0.8765\n",
            "INFO:tensorflow:Assets written to: feature_extraction.vgg16/assets\n",
            "Epoch 12/200\n",
            "30/30 [==============================] - 9s 302ms/step - loss: 0.2854 - accuracy: 0.8954 - val_loss: 0.3470 - val_accuracy: 0.8601\n",
            "Epoch 13/200\n",
            "30/30 [==============================] - 9s 305ms/step - loss: 0.2897 - accuracy: 0.8841 - val_loss: 0.4791 - val_accuracy: 0.8066\n",
            "Epoch 14/200\n",
            "30/30 [==============================] - 9s 299ms/step - loss: 0.2638 - accuracy: 0.8995 - val_loss: 0.3079 - val_accuracy: 0.8683\n",
            "INFO:tensorflow:Assets written to: feature_extraction.vgg16/assets\n",
            "Epoch 15/200\n",
            "30/30 [==============================] - 9s 300ms/step - loss: 0.2681 - accuracy: 0.8964 - val_loss: 0.3375 - val_accuracy: 0.8519\n",
            "Epoch 16/200\n",
            "30/30 [==============================] - 9s 305ms/step - loss: 0.2768 - accuracy: 0.8872 - val_loss: 0.3752 - val_accuracy: 0.8683\n",
            "Epoch 17/200\n",
            "30/30 [==============================] - 9s 303ms/step - loss: 0.2465 - accuracy: 0.9097 - val_loss: 0.3128 - val_accuracy: 0.8642\n",
            "Epoch 18/200\n",
            "30/30 [==============================] - 9s 300ms/step - loss: 0.2428 - accuracy: 0.9108 - val_loss: 0.3536 - val_accuracy: 0.8724\n",
            "Epoch 19/200\n",
            "30/30 [==============================] - 9s 305ms/step - loss: 0.2416 - accuracy: 0.9005 - val_loss: 0.3191 - val_accuracy: 0.8683\n",
            "Epoch 20/200\n",
            "30/30 [==============================] - 9s 304ms/step - loss: 0.2334 - accuracy: 0.9128 - val_loss: 0.3981 - val_accuracy: 0.8354\n",
            "Epoch 21/200\n",
            "30/30 [==============================] - 9s 309ms/step - loss: 0.2476 - accuracy: 0.9015 - val_loss: 0.3955 - val_accuracy: 0.8148\n",
            "Epoch 22/200\n",
            "30/30 [==============================] - 9s 304ms/step - loss: 0.2126 - accuracy: 0.9179 - val_loss: 0.3435 - val_accuracy: 0.8395\n",
            "Epoch 23/200\n",
            "30/30 [==============================] - 9s 300ms/step - loss: 0.2316 - accuracy: 0.9097 - val_loss: 0.3172 - val_accuracy: 0.8971\n",
            "Epoch 24/200\n",
            "30/30 [==============================] - 9s 304ms/step - loss: 0.2211 - accuracy: 0.9159 - val_loss: 0.3359 - val_accuracy: 0.8395\n",
            "Epoch 25/200\n",
            "30/30 [==============================] - 9s 307ms/step - loss: 0.2205 - accuracy: 0.9179 - val_loss: 0.3380 - val_accuracy: 0.8724\n",
            "Epoch 26/200\n",
            "30/30 [==============================] - 9s 307ms/step - loss: 0.2085 - accuracy: 0.9303 - val_loss: 0.3222 - val_accuracy: 0.8642\n",
            "Epoch 27/200\n",
            "30/30 [==============================] - 9s 304ms/step - loss: 0.2358 - accuracy: 0.9077 - val_loss: 0.3086 - val_accuracy: 0.9012\n",
            "Epoch 28/200\n",
            "30/30 [==============================] - 9s 309ms/step - loss: 0.2178 - accuracy: 0.9128 - val_loss: 0.3126 - val_accuracy: 0.8971\n",
            "Epoch 29/200\n",
            "30/30 [==============================] - 9s 305ms/step - loss: 0.1948 - accuracy: 0.9354 - val_loss: 0.2927 - val_accuracy: 0.8971\n",
            "INFO:tensorflow:Assets written to: feature_extraction.vgg16/assets\n",
            "Epoch 30/200\n",
            "30/30 [==============================] - 9s 307ms/step - loss: 0.2238 - accuracy: 0.9149 - val_loss: 0.3183 - val_accuracy: 0.8889\n",
            "Epoch 31/200\n",
            "30/30 [==============================] - 9s 304ms/step - loss: 0.1743 - accuracy: 0.9354 - val_loss: 0.3636 - val_accuracy: 0.8601\n",
            "Epoch 32/200\n",
            "30/30 [==============================] - 10s 314ms/step - loss: 0.2044 - accuracy: 0.9190 - val_loss: 0.3166 - val_accuracy: 0.8642\n",
            "Epoch 33/200\n",
            "30/30 [==============================] - 10s 316ms/step - loss: 0.2197 - accuracy: 0.9231 - val_loss: 0.3849 - val_accuracy: 0.8477\n",
            "Epoch 34/200\n",
            "30/30 [==============================] - 10s 313ms/step - loss: 0.1962 - accuracy: 0.9354 - val_loss: 0.3031 - val_accuracy: 0.8724\n",
            "Epoch 35/200\n",
            "30/30 [==============================] - 10s 315ms/step - loss: 0.2117 - accuracy: 0.9159 - val_loss: 0.3757 - val_accuracy: 0.8519\n",
            "Epoch 36/200\n",
            "30/30 [==============================] - 10s 317ms/step - loss: 0.1913 - accuracy: 0.9262 - val_loss: 0.3018 - val_accuracy: 0.9053\n",
            "Epoch 37/200\n",
            "30/30 [==============================] - 9s 307ms/step - loss: 0.2029 - accuracy: 0.9374 - val_loss: 0.3132 - val_accuracy: 0.8889\n",
            "Epoch 38/200\n",
            "30/30 [==============================] - 9s 307ms/step - loss: 0.1921 - accuracy: 0.9262 - val_loss: 0.2957 - val_accuracy: 0.8683\n",
            "Epoch 39/200\n",
            "30/30 [==============================] - 9s 298ms/step - loss: 0.1748 - accuracy: 0.9210 - val_loss: 0.2750 - val_accuracy: 0.8971\n",
            "INFO:tensorflow:Assets written to: feature_extraction.vgg16/assets\n",
            "Epoch 40/200\n",
            "30/30 [==============================] - 10s 313ms/step - loss: 0.1900 - accuracy: 0.9241 - val_loss: 0.3450 - val_accuracy: 0.8601\n",
            "Epoch 41/200\n",
            "30/30 [==============================] - 9s 314ms/step - loss: 0.1962 - accuracy: 0.9190 - val_loss: 0.3180 - val_accuracy: 0.8807\n",
            "Epoch 42/200\n",
            "30/30 [==============================] - 9s 304ms/step - loss: 0.1942 - accuracy: 0.9251 - val_loss: 0.3154 - val_accuracy: 0.8683\n",
            "Epoch 43/200\n",
            "30/30 [==============================] - 9s 302ms/step - loss: 0.1833 - accuracy: 0.9179 - val_loss: 0.3347 - val_accuracy: 0.8724\n",
            "Epoch 44/200\n",
            "30/30 [==============================] - 9s 303ms/step - loss: 0.1754 - accuracy: 0.9364 - val_loss: 0.3808 - val_accuracy: 0.8683\n",
            "Epoch 45/200\n",
            "30/30 [==============================] - 9s 303ms/step - loss: 0.2071 - accuracy: 0.9149 - val_loss: 0.3110 - val_accuracy: 0.8560\n",
            "Epoch 46/200\n",
            "30/30 [==============================] - 9s 301ms/step - loss: 0.1774 - accuracy: 0.9272 - val_loss: 0.3312 - val_accuracy: 0.8601\n",
            "Epoch 47/200\n",
            "30/30 [==============================] - 9s 305ms/step - loss: 0.1714 - accuracy: 0.9333 - val_loss: 0.3039 - val_accuracy: 0.8930\n",
            "Epoch 48/200\n",
            "30/30 [==============================] - 9s 303ms/step - loss: 0.1906 - accuracy: 0.9333 - val_loss: 0.3007 - val_accuracy: 0.8848\n",
            "Epoch 49/200\n",
            "30/30 [==============================] - 9s 296ms/step - loss: 0.1685 - accuracy: 0.9395 - val_loss: 0.3781 - val_accuracy: 0.8683\n",
            "Epoch 50/200\n",
            "30/30 [==============================] - 9s 299ms/step - loss: 0.1868 - accuracy: 0.9333 - val_loss: 0.3357 - val_accuracy: 0.8724\n",
            "Epoch 51/200\n",
            "30/30 [==============================] - 9s 300ms/step - loss: 0.1724 - accuracy: 0.9323 - val_loss: 0.4379 - val_accuracy: 0.8148\n",
            "Epoch 52/200\n",
            "30/30 [==============================] - 9s 296ms/step - loss: 0.1621 - accuracy: 0.9415 - val_loss: 0.3415 - val_accuracy: 0.8683\n",
            "Epoch 53/200\n",
            "30/30 [==============================] - 9s 296ms/step - loss: 0.1766 - accuracy: 0.9313 - val_loss: 0.2911 - val_accuracy: 0.8930\n",
            "Epoch 54/200\n",
            "30/30 [==============================] - 9s 299ms/step - loss: 0.1722 - accuracy: 0.9385 - val_loss: 0.3514 - val_accuracy: 0.8765\n",
            "Epoch 55/200\n",
            "30/30 [==============================] - 9s 311ms/step - loss: 0.1645 - accuracy: 0.9385 - val_loss: 0.3854 - val_accuracy: 0.8724\n",
            "Epoch 56/200\n",
            "30/30 [==============================] - 9s 308ms/step - loss: 0.1769 - accuracy: 0.9323 - val_loss: 0.3771 - val_accuracy: 0.8601\n",
            "Epoch 57/200\n",
            "30/30 [==============================] - 9s 299ms/step - loss: 0.1500 - accuracy: 0.9436 - val_loss: 0.4023 - val_accuracy: 0.8519\n",
            "Epoch 58/200\n",
            "30/30 [==============================] - 9s 300ms/step - loss: 0.1741 - accuracy: 0.9333 - val_loss: 0.4426 - val_accuracy: 0.8436\n",
            "Epoch 59/200\n",
            "30/30 [==============================] - 9s 302ms/step - loss: 0.2300 - accuracy: 0.9067 - val_loss: 0.3452 - val_accuracy: 0.8683\n",
            "Epoch 60/200\n",
            "30/30 [==============================] - 9s 304ms/step - loss: 0.1797 - accuracy: 0.9251 - val_loss: 0.4080 - val_accuracy: 0.8395\n",
            "Epoch 61/200\n",
            "30/30 [==============================] - 9s 304ms/step - loss: 0.2080 - accuracy: 0.9169 - val_loss: 0.3487 - val_accuracy: 0.8765\n",
            "Epoch 62/200\n",
            "30/30 [==============================] - 9s 308ms/step - loss: 0.1585 - accuracy: 0.9364 - val_loss: 0.3727 - val_accuracy: 0.8642\n",
            "Epoch 63/200\n",
            "30/30 [==============================] - 9s 306ms/step - loss: 0.1479 - accuracy: 0.9426 - val_loss: 0.3454 - val_accuracy: 0.8519\n",
            "Epoch 64/200\n",
            "30/30 [==============================] - 9s 308ms/step - loss: 0.1535 - accuracy: 0.9395 - val_loss: 0.5131 - val_accuracy: 0.8354\n",
            "Epoch 65/200\n",
            "30/30 [==============================] - 9s 305ms/step - loss: 0.1680 - accuracy: 0.9303 - val_loss: 0.3077 - val_accuracy: 0.8807\n",
            "Epoch 66/200\n",
            "30/30 [==============================] - 9s 305ms/step - loss: 0.1937 - accuracy: 0.9251 - val_loss: 0.3542 - val_accuracy: 0.8560\n",
            "Epoch 67/200\n",
            "30/30 [==============================] - 9s 301ms/step - loss: 0.1428 - accuracy: 0.9446 - val_loss: 0.3588 - val_accuracy: 0.8560\n",
            "Epoch 68/200\n",
            "30/30 [==============================] - 9s 301ms/step - loss: 0.1574 - accuracy: 0.9303 - val_loss: 0.3407 - val_accuracy: 0.8724\n",
            "Epoch 69/200\n",
            "30/30 [==============================] - 9s 300ms/step - loss: 0.1547 - accuracy: 0.9395 - val_loss: 0.3047 - val_accuracy: 0.8889\n",
            "Epoch 70/200\n",
            "30/30 [==============================] - 9s 301ms/step - loss: 0.1593 - accuracy: 0.9303 - val_loss: 0.3293 - val_accuracy: 0.8930\n",
            "Epoch 71/200\n",
            "30/30 [==============================] - 9s 301ms/step - loss: 0.1442 - accuracy: 0.9426 - val_loss: 0.3122 - val_accuracy: 0.8889\n",
            "Epoch 72/200\n",
            "30/30 [==============================] - 9s 303ms/step - loss: 0.1587 - accuracy: 0.9405 - val_loss: 0.3053 - val_accuracy: 0.8848\n",
            "Epoch 73/200\n",
            "30/30 [==============================] - 9s 301ms/step - loss: 0.1392 - accuracy: 0.9415 - val_loss: 0.3027 - val_accuracy: 0.8848\n",
            "Epoch 74/200\n",
            "30/30 [==============================] - 9s 302ms/step - loss: 0.1306 - accuracy: 0.9538 - val_loss: 0.3519 - val_accuracy: 0.8477\n",
            "Epoch 75/200\n",
            "30/30 [==============================] - 9s 302ms/step - loss: 0.1507 - accuracy: 0.9395 - val_loss: 0.3850 - val_accuracy: 0.8601\n",
            "Epoch 76/200\n",
            "30/30 [==============================] - 9s 302ms/step - loss: 0.1541 - accuracy: 0.9477 - val_loss: 0.3382 - val_accuracy: 0.8765\n",
            "Epoch 77/200\n",
            "30/30 [==============================] - 9s 303ms/step - loss: 0.1482 - accuracy: 0.9426 - val_loss: 0.3311 - val_accuracy: 0.8889\n",
            "Epoch 78/200\n",
            "30/30 [==============================] - 9s 299ms/step - loss: 0.1583 - accuracy: 0.9385 - val_loss: 0.3117 - val_accuracy: 0.8930\n",
            "Epoch 79/200\n",
            "30/30 [==============================] - 9s 304ms/step - loss: 0.1350 - accuracy: 0.9426 - val_loss: 0.3453 - val_accuracy: 0.8642\n",
            "Epoch 80/200\n",
            "30/30 [==============================] - 9s 302ms/step - loss: 0.1820 - accuracy: 0.9303 - val_loss: 0.3849 - val_accuracy: 0.8642\n",
            "Epoch 81/200\n",
            "30/30 [==============================] - 9s 303ms/step - loss: 0.1637 - accuracy: 0.9262 - val_loss: 0.2945 - val_accuracy: 0.8930\n",
            "Epoch 82/200\n",
            "30/30 [==============================] - 9s 304ms/step - loss: 0.1681 - accuracy: 0.9221 - val_loss: 0.3021 - val_accuracy: 0.8807\n",
            "Epoch 83/200\n",
            "30/30 [==============================] - 9s 303ms/step - loss: 0.1544 - accuracy: 0.9426 - val_loss: 0.2855 - val_accuracy: 0.8971\n",
            "Epoch 84/200\n",
            "30/30 [==============================] - 9s 304ms/step - loss: 0.1275 - accuracy: 0.9436 - val_loss: 0.2656 - val_accuracy: 0.8971\n",
            "INFO:tensorflow:Assets written to: feature_extraction.vgg16/assets\n",
            "Epoch 85/200\n",
            "30/30 [==============================] - 9s 304ms/step - loss: 0.1573 - accuracy: 0.9364 - val_loss: 0.3415 - val_accuracy: 0.8848\n",
            "Epoch 86/200\n",
            "30/30 [==============================] - 9s 303ms/step - loss: 0.1459 - accuracy: 0.9426 - val_loss: 0.3148 - val_accuracy: 0.8848\n",
            "Epoch 87/200\n",
            "30/30 [==============================] - 9s 307ms/step - loss: 0.1588 - accuracy: 0.9313 - val_loss: 0.3217 - val_accuracy: 0.8807\n",
            "Epoch 88/200\n",
            "30/30 [==============================] - 9s 305ms/step - loss: 0.1466 - accuracy: 0.9477 - val_loss: 0.3318 - val_accuracy: 0.8642\n",
            "Epoch 89/200\n",
            "30/30 [==============================] - 9s 308ms/step - loss: 0.1364 - accuracy: 0.9487 - val_loss: 0.2858 - val_accuracy: 0.8807\n",
            "Epoch 90/200\n",
            "30/30 [==============================] - 9s 306ms/step - loss: 0.1209 - accuracy: 0.9600 - val_loss: 0.3043 - val_accuracy: 0.8889\n",
            "Epoch 91/200\n",
            "30/30 [==============================] - 9s 307ms/step - loss: 0.1236 - accuracy: 0.9528 - val_loss: 0.2841 - val_accuracy: 0.8765\n",
            "Epoch 92/200\n",
            "30/30 [==============================] - 9s 305ms/step - loss: 0.1357 - accuracy: 0.9477 - val_loss: 0.2761 - val_accuracy: 0.9053\n",
            "Epoch 93/200\n",
            "30/30 [==============================] - 9s 305ms/step - loss: 0.1220 - accuracy: 0.9538 - val_loss: 0.3350 - val_accuracy: 0.8765\n",
            "Epoch 94/200\n",
            "30/30 [==============================] - 9s 307ms/step - loss: 0.1304 - accuracy: 0.9487 - val_loss: 0.3321 - val_accuracy: 0.8848\n",
            "Epoch 95/200\n",
            "30/30 [==============================] - 9s 308ms/step - loss: 0.1402 - accuracy: 0.9456 - val_loss: 0.3418 - val_accuracy: 0.8889\n",
            "Epoch 96/200\n",
            "30/30 [==============================] - 9s 306ms/step - loss: 0.1463 - accuracy: 0.9477 - val_loss: 0.3092 - val_accuracy: 0.8724\n",
            "Epoch 97/200\n",
            "30/30 [==============================] - 9s 305ms/step - loss: 0.1254 - accuracy: 0.9610 - val_loss: 0.2974 - val_accuracy: 0.8848\n",
            "Epoch 98/200\n",
            "30/30 [==============================] - 9s 306ms/step - loss: 0.1423 - accuracy: 0.9385 - val_loss: 0.3385 - val_accuracy: 0.8765\n",
            "Epoch 99/200\n",
            "30/30 [==============================] - 9s 305ms/step - loss: 0.1244 - accuracy: 0.9538 - val_loss: 0.2935 - val_accuracy: 0.8889\n",
            "Epoch 100/200\n",
            "30/30 [==============================] - 9s 306ms/step - loss: 0.1214 - accuracy: 0.9497 - val_loss: 0.2953 - val_accuracy: 0.8848\n",
            "Epoch 101/200\n",
            "30/30 [==============================] - 9s 304ms/step - loss: 0.1423 - accuracy: 0.9415 - val_loss: 0.3260 - val_accuracy: 0.8765\n",
            "Epoch 102/200\n",
            "30/30 [==============================] - 9s 305ms/step - loss: 0.1097 - accuracy: 0.9672 - val_loss: 0.3569 - val_accuracy: 0.8560\n",
            "Epoch 103/200\n",
            "30/30 [==============================] - 9s 305ms/step - loss: 0.1659 - accuracy: 0.9395 - val_loss: 0.3658 - val_accuracy: 0.8724\n",
            "Epoch 104/200\n",
            "30/30 [==============================] - 9s 305ms/step - loss: 0.1363 - accuracy: 0.9456 - val_loss: 0.3096 - val_accuracy: 0.8889\n",
            "Epoch 105/200\n",
            "30/30 [==============================] - 9s 304ms/step - loss: 0.1432 - accuracy: 0.9497 - val_loss: 0.3739 - val_accuracy: 0.8642\n",
            "Epoch 106/200\n",
            "30/30 [==============================] - 9s 304ms/step - loss: 0.1482 - accuracy: 0.9426 - val_loss: 0.3011 - val_accuracy: 0.8807\n",
            "Epoch 107/200\n",
            "30/30 [==============================] - 9s 306ms/step - loss: 0.1284 - accuracy: 0.9549 - val_loss: 0.2833 - val_accuracy: 0.8765\n",
            "Epoch 108/200\n",
            "30/30 [==============================] - 9s 306ms/step - loss: 0.1315 - accuracy: 0.9549 - val_loss: 0.3551 - val_accuracy: 0.8807\n",
            "Epoch 109/200\n",
            "30/30 [==============================] - 9s 305ms/step - loss: 0.1121 - accuracy: 0.9538 - val_loss: 0.3208 - val_accuracy: 0.8889\n",
            "Epoch 110/200\n",
            "30/30 [==============================] - 9s 305ms/step - loss: 0.1160 - accuracy: 0.9549 - val_loss: 0.3242 - val_accuracy: 0.8971\n",
            "Epoch 111/200\n",
            "30/30 [==============================] - 9s 303ms/step - loss: 0.1398 - accuracy: 0.9487 - val_loss: 0.3043 - val_accuracy: 0.8930\n",
            "Epoch 112/200\n",
            "30/30 [==============================] - 9s 305ms/step - loss: 0.1355 - accuracy: 0.9405 - val_loss: 0.2897 - val_accuracy: 0.9012\n",
            "Epoch 113/200\n",
            "30/30 [==============================] - 9s 305ms/step - loss: 0.1244 - accuracy: 0.9487 - val_loss: 0.3250 - val_accuracy: 0.8848\n",
            "Epoch 114/200\n",
            "30/30 [==============================] - 9s 305ms/step - loss: 0.1373 - accuracy: 0.9436 - val_loss: 0.3073 - val_accuracy: 0.8765\n",
            "Epoch 115/200\n",
            "30/30 [==============================] - 9s 306ms/step - loss: 0.1252 - accuracy: 0.9487 - val_loss: 0.3902 - val_accuracy: 0.8807\n",
            "Epoch 116/200\n",
            "30/30 [==============================] - 9s 306ms/step - loss: 0.1498 - accuracy: 0.9436 - val_loss: 0.3850 - val_accuracy: 0.8807\n",
            "Epoch 117/200\n",
            "30/30 [==============================] - 9s 305ms/step - loss: 0.1243 - accuracy: 0.9467 - val_loss: 0.3889 - val_accuracy: 0.8724\n",
            "Epoch 118/200\n",
            "30/30 [==============================] - 9s 304ms/step - loss: 0.1110 - accuracy: 0.9579 - val_loss: 0.2981 - val_accuracy: 0.8930\n",
            "Epoch 119/200\n",
            "30/30 [==============================] - 9s 306ms/step - loss: 0.1062 - accuracy: 0.9631 - val_loss: 0.3344 - val_accuracy: 0.8889\n",
            "Epoch 120/200\n",
            "30/30 [==============================] - 9s 311ms/step - loss: 0.1354 - accuracy: 0.9487 - val_loss: 0.3326 - val_accuracy: 0.8889\n",
            "Epoch 121/200\n",
            "30/30 [==============================] - 9s 305ms/step - loss: 0.1372 - accuracy: 0.9528 - val_loss: 0.3322 - val_accuracy: 0.8724\n",
            "Epoch 122/200\n",
            "30/30 [==============================] - 9s 305ms/step - loss: 0.1041 - accuracy: 0.9610 - val_loss: 0.3305 - val_accuracy: 0.8642\n",
            "Epoch 123/200\n",
            "30/30 [==============================] - 9s 306ms/step - loss: 0.1115 - accuracy: 0.9579 - val_loss: 0.3199 - val_accuracy: 0.8889\n",
            "Epoch 124/200\n",
            "30/30 [==============================] - 9s 305ms/step - loss: 0.1319 - accuracy: 0.9497 - val_loss: 0.3472 - val_accuracy: 0.8848\n",
            "Epoch 125/200\n",
            "30/30 [==============================] - 9s 306ms/step - loss: 0.1319 - accuracy: 0.9497 - val_loss: 0.3502 - val_accuracy: 0.8889\n",
            "Epoch 126/200\n",
            "30/30 [==============================] - 9s 306ms/step - loss: 0.1048 - accuracy: 0.9528 - val_loss: 0.3455 - val_accuracy: 0.8765\n",
            "Epoch 127/200\n",
            "30/30 [==============================] - 9s 309ms/step - loss: 0.1202 - accuracy: 0.9518 - val_loss: 0.3395 - val_accuracy: 0.8765\n",
            "Epoch 128/200\n",
            "30/30 [==============================] - 9s 305ms/step - loss: 0.1125 - accuracy: 0.9528 - val_loss: 0.3432 - val_accuracy: 0.8765\n",
            "Epoch 129/200\n",
            "30/30 [==============================] - 9s 306ms/step - loss: 0.1012 - accuracy: 0.9662 - val_loss: 0.3630 - val_accuracy: 0.8724\n",
            "Epoch 130/200\n",
            "30/30 [==============================] - 9s 304ms/step - loss: 0.0961 - accuracy: 0.9621 - val_loss: 0.3202 - val_accuracy: 0.8807\n",
            "Epoch 131/200\n",
            "30/30 [==============================] - 9s 307ms/step - loss: 0.1163 - accuracy: 0.9538 - val_loss: 0.3349 - val_accuracy: 0.8683\n",
            "Epoch 132/200\n",
            "30/30 [==============================] - 9s 308ms/step - loss: 0.1189 - accuracy: 0.9467 - val_loss: 0.3781 - val_accuracy: 0.8477\n",
            "Epoch 133/200\n",
            "30/30 [==============================] - 9s 308ms/step - loss: 0.1026 - accuracy: 0.9590 - val_loss: 0.3116 - val_accuracy: 0.8848\n",
            "Epoch 134/200\n",
            "30/30 [==============================] - 9s 307ms/step - loss: 0.1075 - accuracy: 0.9590 - val_loss: 0.3113 - val_accuracy: 0.8930\n",
            "Epoch 135/200\n",
            "30/30 [==============================] - 9s 306ms/step - loss: 0.1096 - accuracy: 0.9569 - val_loss: 0.3077 - val_accuracy: 0.8889\n",
            "Epoch 136/200\n",
            "30/30 [==============================] - 9s 307ms/step - loss: 0.1140 - accuracy: 0.9528 - val_loss: 0.3190 - val_accuracy: 0.8971\n",
            "Epoch 137/200\n",
            "30/30 [==============================] - 9s 308ms/step - loss: 0.1135 - accuracy: 0.9610 - val_loss: 0.3298 - val_accuracy: 0.8889\n",
            "Epoch 138/200\n",
            "30/30 [==============================] - 9s 305ms/step - loss: 0.1132 - accuracy: 0.9518 - val_loss: 0.3726 - val_accuracy: 0.8683\n",
            "Epoch 139/200\n",
            "30/30 [==============================] - 9s 306ms/step - loss: 0.1418 - accuracy: 0.9426 - val_loss: 0.3375 - val_accuracy: 0.8848\n",
            "Epoch 140/200\n",
            "30/30 [==============================] - 9s 306ms/step - loss: 0.1167 - accuracy: 0.9590 - val_loss: 0.3033 - val_accuracy: 0.9053\n",
            "Epoch 141/200\n",
            "30/30 [==============================] - 9s 302ms/step - loss: 0.1203 - accuracy: 0.9497 - val_loss: 0.3265 - val_accuracy: 0.8930\n",
            "Epoch 142/200\n",
            "30/30 [==============================] - 9s 302ms/step - loss: 0.1290 - accuracy: 0.9538 - val_loss: 0.2815 - val_accuracy: 0.9095\n",
            "Epoch 143/200\n",
            "30/30 [==============================] - 9s 303ms/step - loss: 0.1166 - accuracy: 0.9600 - val_loss: 0.3805 - val_accuracy: 0.8683\n",
            "Epoch 144/200\n",
            "30/30 [==============================] - 9s 306ms/step - loss: 0.1189 - accuracy: 0.9559 - val_loss: 0.3194 - val_accuracy: 0.8930\n",
            "Epoch 145/200\n",
            "30/30 [==============================] - 9s 305ms/step - loss: 0.1037 - accuracy: 0.9538 - val_loss: 0.3511 - val_accuracy: 0.8889\n",
            "Epoch 146/200\n",
            "30/30 [==============================] - 9s 306ms/step - loss: 0.1337 - accuracy: 0.9528 - val_loss: 0.3138 - val_accuracy: 0.9012\n",
            "Epoch 147/200\n",
            "30/30 [==============================] - 9s 306ms/step - loss: 0.1030 - accuracy: 0.9579 - val_loss: 0.3062 - val_accuracy: 0.8848\n",
            "Epoch 148/200\n",
            "30/30 [==============================] - 9s 306ms/step - loss: 0.1267 - accuracy: 0.9528 - val_loss: 0.3330 - val_accuracy: 0.8807\n",
            "Epoch 149/200\n",
            "30/30 [==============================] - 9s 304ms/step - loss: 0.1425 - accuracy: 0.9456 - val_loss: 0.3354 - val_accuracy: 0.8765\n",
            "Epoch 150/200\n",
            "30/30 [==============================] - 9s 306ms/step - loss: 0.1051 - accuracy: 0.9672 - val_loss: 0.3519 - val_accuracy: 0.8930\n",
            "Epoch 151/200\n",
            "30/30 [==============================] - 9s 306ms/step - loss: 0.1037 - accuracy: 0.9569 - val_loss: 0.3365 - val_accuracy: 0.8807\n",
            "Epoch 152/200\n",
            "30/30 [==============================] - 9s 306ms/step - loss: 0.1172 - accuracy: 0.9579 - val_loss: 0.3511 - val_accuracy: 0.8848\n",
            "Epoch 153/200\n",
            "30/30 [==============================] - 9s 306ms/step - loss: 0.0965 - accuracy: 0.9631 - val_loss: 0.2996 - val_accuracy: 0.8930\n",
            "Epoch 154/200\n",
            "30/30 [==============================] - 9s 307ms/step - loss: 0.1140 - accuracy: 0.9549 - val_loss: 0.3580 - val_accuracy: 0.8889\n",
            "Epoch 155/200\n",
            "30/30 [==============================] - 9s 305ms/step - loss: 0.1098 - accuracy: 0.9538 - val_loss: 0.3052 - val_accuracy: 0.9053\n",
            "Epoch 156/200\n",
            "30/30 [==============================] - 9s 306ms/step - loss: 0.1188 - accuracy: 0.9487 - val_loss: 0.3638 - val_accuracy: 0.8724\n",
            "Epoch 157/200\n",
            "30/30 [==============================] - 9s 308ms/step - loss: 0.1182 - accuracy: 0.9579 - val_loss: 0.2935 - val_accuracy: 0.8930\n",
            "Epoch 158/200\n",
            "30/30 [==============================] - 9s 307ms/step - loss: 0.1385 - accuracy: 0.9487 - val_loss: 0.3349 - val_accuracy: 0.8807\n",
            "Epoch 159/200\n",
            "30/30 [==============================] - 9s 307ms/step - loss: 0.1096 - accuracy: 0.9579 - val_loss: 0.2980 - val_accuracy: 0.8848\n",
            "Epoch 160/200\n",
            "30/30 [==============================] - 9s 307ms/step - loss: 0.0989 - accuracy: 0.9569 - val_loss: 0.3276 - val_accuracy: 0.8848\n",
            "Epoch 161/200\n",
            "30/30 [==============================] - 9s 309ms/step - loss: 0.0972 - accuracy: 0.9641 - val_loss: 0.3344 - val_accuracy: 0.9012\n",
            "Epoch 162/200\n",
            "30/30 [==============================] - 9s 306ms/step - loss: 0.0962 - accuracy: 0.9590 - val_loss: 0.3589 - val_accuracy: 0.8848\n",
            "Epoch 163/200\n",
            "30/30 [==============================] - 9s 306ms/step - loss: 0.1031 - accuracy: 0.9559 - val_loss: 0.3032 - val_accuracy: 0.8848\n",
            "Epoch 164/200\n",
            "30/30 [==============================] - 9s 308ms/step - loss: 0.0863 - accuracy: 0.9703 - val_loss: 0.3457 - val_accuracy: 0.8848\n",
            "Epoch 165/200\n",
            "30/30 [==============================] - 9s 305ms/step - loss: 0.0961 - accuracy: 0.9651 - val_loss: 0.2873 - val_accuracy: 0.8848\n",
            "Epoch 166/200\n",
            "30/30 [==============================] - 9s 310ms/step - loss: 0.0916 - accuracy: 0.9662 - val_loss: 0.3339 - val_accuracy: 0.8848\n",
            "Epoch 167/200\n",
            "30/30 [==============================] - 9s 308ms/step - loss: 0.1185 - accuracy: 0.9569 - val_loss: 0.4193 - val_accuracy: 0.8889\n",
            "Epoch 168/200\n",
            "30/30 [==============================] - 9s 309ms/step - loss: 0.1011 - accuracy: 0.9631 - val_loss: 0.3277 - val_accuracy: 0.8930\n",
            "Epoch 169/200\n",
            "30/30 [==============================] - 9s 308ms/step - loss: 0.1084 - accuracy: 0.9610 - val_loss: 0.2962 - val_accuracy: 0.8848\n",
            "Epoch 170/200\n",
            "30/30 [==============================] - 9s 308ms/step - loss: 0.1070 - accuracy: 0.9579 - val_loss: 0.3516 - val_accuracy: 0.8765\n",
            "Epoch 171/200\n",
            "30/30 [==============================] - 9s 307ms/step - loss: 0.0962 - accuracy: 0.9631 - val_loss: 0.3118 - val_accuracy: 0.8971\n",
            "Epoch 172/200\n",
            "30/30 [==============================] - 9s 306ms/step - loss: 0.0897 - accuracy: 0.9641 - val_loss: 0.2837 - val_accuracy: 0.9012\n",
            "Epoch 173/200\n",
            "30/30 [==============================] - 9s 306ms/step - loss: 0.0998 - accuracy: 0.9631 - val_loss: 0.3111 - val_accuracy: 0.8889\n",
            "Epoch 174/200\n",
            "30/30 [==============================] - 9s 308ms/step - loss: 0.1224 - accuracy: 0.9559 - val_loss: 0.2958 - val_accuracy: 0.8889\n",
            "Epoch 175/200\n",
            "30/30 [==============================] - 9s 306ms/step - loss: 0.0970 - accuracy: 0.9641 - val_loss: 0.3489 - val_accuracy: 0.8930\n",
            "Epoch 176/200\n",
            "30/30 [==============================] - 9s 305ms/step - loss: 0.0822 - accuracy: 0.9713 - val_loss: 0.2918 - val_accuracy: 0.9012\n",
            "Epoch 177/200\n",
            "30/30 [==============================] - 9s 306ms/step - loss: 0.0993 - accuracy: 0.9600 - val_loss: 0.3017 - val_accuracy: 0.8930\n",
            "Epoch 178/200\n",
            "30/30 [==============================] - 9s 306ms/step - loss: 0.1078 - accuracy: 0.9621 - val_loss: 0.3929 - val_accuracy: 0.8807\n",
            "Epoch 179/200\n",
            "30/30 [==============================] - 9s 306ms/step - loss: 0.0987 - accuracy: 0.9621 - val_loss: 0.3196 - val_accuracy: 0.8889\n",
            "Epoch 180/200\n",
            "30/30 [==============================] - 9s 306ms/step - loss: 0.0806 - accuracy: 0.9744 - val_loss: 0.3100 - val_accuracy: 0.8848\n",
            "Epoch 181/200\n",
            "30/30 [==============================] - 9s 312ms/step - loss: 0.0981 - accuracy: 0.9579 - val_loss: 0.3619 - val_accuracy: 0.8724\n",
            "Epoch 182/200\n",
            "30/30 [==============================] - 9s 309ms/step - loss: 0.1163 - accuracy: 0.9559 - val_loss: 0.3856 - val_accuracy: 0.8889\n",
            "Epoch 183/200\n",
            "30/30 [==============================] - 9s 306ms/step - loss: 0.1046 - accuracy: 0.9600 - val_loss: 0.3044 - val_accuracy: 0.8889\n",
            "Epoch 184/200\n",
            "30/30 [==============================] - 9s 308ms/step - loss: 0.1036 - accuracy: 0.9651 - val_loss: 0.3028 - val_accuracy: 0.8889\n",
            "Epoch 185/200\n",
            "30/30 [==============================] - 9s 308ms/step - loss: 0.1198 - accuracy: 0.9579 - val_loss: 0.3219 - val_accuracy: 0.8765\n",
            "Epoch 186/200\n",
            "30/30 [==============================] - 9s 307ms/step - loss: 0.0859 - accuracy: 0.9662 - val_loss: 0.2886 - val_accuracy: 0.8889\n",
            "Epoch 187/200\n",
            "30/30 [==============================] - 9s 307ms/step - loss: 0.1119 - accuracy: 0.9579 - val_loss: 0.2814 - val_accuracy: 0.8765\n",
            "Epoch 188/200\n",
            "30/30 [==============================] - 9s 307ms/step - loss: 0.0995 - accuracy: 0.9631 - val_loss: 0.3014 - val_accuracy: 0.8848\n",
            "Epoch 189/200\n",
            "30/30 [==============================] - 9s 305ms/step - loss: 0.0891 - accuracy: 0.9682 - val_loss: 0.3307 - val_accuracy: 0.8807\n",
            "Epoch 190/200\n",
            "30/30 [==============================] - 9s 307ms/step - loss: 0.1066 - accuracy: 0.9621 - val_loss: 0.2851 - val_accuracy: 0.8889\n",
            "Epoch 191/200\n",
            "30/30 [==============================] - 9s 301ms/step - loss: 0.1020 - accuracy: 0.9559 - val_loss: 0.3055 - val_accuracy: 0.8930\n",
            "Epoch 192/200\n",
            "30/30 [==============================] - 9s 300ms/step - loss: 0.0975 - accuracy: 0.9662 - val_loss: 0.4173 - val_accuracy: 0.8642\n",
            "Epoch 193/200\n",
            "30/30 [==============================] - 9s 304ms/step - loss: 0.1154 - accuracy: 0.9549 - val_loss: 0.3057 - val_accuracy: 0.8971\n",
            "Epoch 194/200\n",
            "30/30 [==============================] - 9s 304ms/step - loss: 0.0813 - accuracy: 0.9692 - val_loss: 0.3157 - val_accuracy: 0.8889\n",
            "Epoch 195/200\n",
            "30/30 [==============================] - 9s 301ms/step - loss: 0.1013 - accuracy: 0.9662 - val_loss: 0.3476 - val_accuracy: 0.8971\n",
            "Epoch 196/200\n",
            "30/30 [==============================] - 9s 301ms/step - loss: 0.1150 - accuracy: 0.9559 - val_loss: 0.3084 - val_accuracy: 0.8971\n",
            "Epoch 197/200\n",
            "30/30 [==============================] - 9s 300ms/step - loss: 0.1009 - accuracy: 0.9621 - val_loss: 0.3437 - val_accuracy: 0.9012\n",
            "Epoch 198/200\n",
            "30/30 [==============================] - 9s 299ms/step - loss: 0.0881 - accuracy: 0.9621 - val_loss: 0.2954 - val_accuracy: 0.8971\n",
            "Epoch 199/200\n",
            "30/30 [==============================] - 9s 301ms/step - loss: 0.0825 - accuracy: 0.9744 - val_loss: 0.2902 - val_accuracy: 0.8971\n",
            "Epoch 200/200\n",
            "30/30 [==============================] - 9s 305ms/step - loss: 0.0949 - accuracy: 0.9631 - val_loss: 0.4175 - val_accuracy: 0.8848\n"
          ]
        }
      ]
    },
    {
      "cell_type": "code",
      "metadata": {
        "colab": {
          "base_uri": "https://localhost:8080/",
          "height": 545
        },
        "id": "OzhMZWXqtWGz",
        "outputId": "973269e8-34b5-488a-89d1-401c8c3db5a3"
      },
      "source": [
        "%matplotlib inline\n",
        "import matplotlib.pyplot as plt\n",
        "acc = history.history['accuracy']\n",
        "val_acc = history.history['val_accuracy']\n",
        "loss = history.history['loss']\n",
        "val_loss = history.history['val_loss']\n",
        "\n",
        "epochs = range(len(acc))\n",
        "\n",
        "plt.plot(epochs, acc, 'r', label='Training accuracy')\n",
        "plt.plot(epochs, val_acc, 'b', label='Validation accuracy')\n",
        "plt.title('Training and validation accuracy')\n",
        "plt.legend(loc=0)\n",
        "plt.figure()\n",
        "\n",
        "plt.plot(epochs, loss, 'r', label='Training Loss')\n",
        "plt.plot(epochs, val_loss, 'b', label='Validation Loss')\n",
        "plt.title('Training and validation loss')\n",
        "plt.legend()\n",
        "\n",
        "plt.show()"
      ],
      "execution_count": 20,
      "outputs": [
        {
          "output_type": "display_data",
          "data": {
            "image/png": "[encoded data removed]",
            "text/plain": [
              "<Figure size 432x288 with 1 Axes>"
            ]
          },
          "metadata": {
            "needs_background": "light"
          }
        },
        {
          "output_type": "display_data",
          "data": {
            "image/png": "[encoded data removed]",
            "text/plain": [
              "<Figure size 432x288 with 1 Axes>"
            ]
          },
          "metadata": {
            "needs_background": "light"
          }
        }
      ]
    },
    {
      "cell_type": "code",
      "metadata": {
        "colab": {
          "base_uri": "https://localhost:8080/"
        },
        "id": "Usw3n8GmtmXH",
        "outputId": "11645a95-ab3c-4bc8-cc68-c9bf6af7965c"
      },
      "source": [
        "model = tf.keras.models.load_model(\"feature_extraction.vgg16\")\n",
        "\n",
        "test_loss, test_acc= model.evaluate(X_test,y_test)\n",
        "print(\"validation_accuracy: \" + str(test_acc))"
      ],
      "execution_count": 21,
      "outputs": [
        {
          "output_type": "stream",
          "name": "stdout",
          "text": [
            "1/1 [==============================] - 0s 421ms/step - loss: 0.1318 - accuracy: 0.9375\n",
            "validation_accuracy: 0.9375\n"
          ]
        }
      ]
    },
    {
      "cell_type": "code",
      "metadata": {
        "id": "g6AYQKDTtmlY"
      },
      "source": [
        ""
      ],
      "execution_count": null,
      "outputs": []
    },
    {
      "cell_type": "code",
      "metadata": {
        "id": "_rxy7Kr2tmw9"
      },
      "source": [
        ""
      ],
      "execution_count": null,
      "outputs": []
    },
    {
      "cell_type": "markdown",
      "metadata": {
        "id": "cQvF_-VrbIhO"
      },
      "source": [
        "# **Compilando o Modelo**"
      ]
    },
    {
      "cell_type": "code",
      "metadata": {
        "id": "tseOThp5bLVl",
        "colab": {
          "base_uri": "https://localhost:8080/"
        },
        "outputId": "bd9da827-7177-4c51-e006-075ea50056bf"
      },
      "source": [
        "model.compile(optimizer = Adam(learning_rate=0.0001), \n",
        "               loss = 'categorical_crossentropy', \n",
        "               metrics =['accuracy'])\n",
        "model.summary()  "
      ],
      "execution_count": null,
      "outputs": [
        {
          "output_type": "stream",
          "name": "stdout",
          "text": [
            "Model: \"sequential_4\"\n",
            "_________________________________________________________________\n",
            "Layer (type)                 Output Shape              Param #   \n",
            "=================================================================\n",
            "conv2d_12 (Conv2D)           (None, 26, 26, 32)        896       \n",
            "_________________________________________________________________\n",
            "max_pooling2d_12 (MaxPooling (None, 13, 13, 32)        0         \n",
            "_________________________________________________________________\n",
            "conv2d_13 (Conv2D)           (None, 11, 11, 64)        18496     \n",
            "_________________________________________________________________\n",
            "max_pooling2d_13 (MaxPooling (None, 5, 5, 64)          0         \n",
            "_________________________________________________________________\n",
            "conv2d_14 (Conv2D)           (None, 3, 3, 128)         73856     \n",
            "_________________________________________________________________\n",
            "max_pooling2d_14 (MaxPooling (None, 1, 1, 128)         0         \n",
            "_________________________________________________________________\n",
            "dropout_4 (Dropout)          (None, 1, 1, 128)         0         \n",
            "_________________________________________________________________\n",
            "flatten_4 (Flatten)          (None, 128)               0         \n",
            "_________________________________________________________________\n",
            "dense_8 (Dense)              (None, 512)               66048     \n",
            "_________________________________________________________________\n",
            "dense_9 (Dense)              (None, 6)                 3078      \n",
            "=================================================================\n",
            "Total params: 162,374\n",
            "Trainable params: 162,374\n",
            "Non-trainable params: 0\n",
            "_________________________________________________________________\n"
          ]
        }
      ]
    },
    {
      "cell_type": "code",
      "metadata": {
        "id": "9Sr0YDZ8dCmz"
      },
      "source": [
        "callbacks_list = [\n",
        "    tf.keras.callbacks.ReduceLROnPlateau(factor=0.5,\n",
        "                                         patience=4,\n",
        "                                         verbose=0),\n",
        "    tf.keras.callbacks.EarlyStopping(\n",
        "        monitor=\"accuracy\",\n",
        "        patience=12,\n",
        "        restore_best_weights=True,\n",
        "    ),\n",
        "    tf.keras.callbacks.ModelCheckpoint(\n",
        "        filepath='best_model.h5',\n",
        "        monitor=\"val_accuracy\",\n",
        "        save_best_only=True,\n",
        "    ),\n",
        "\n",
        "]"
      ],
      "execution_count": null,
      "outputs": []
    },
    {
      "cell_type": "markdown",
      "metadata": {
        "id": "IhQyiWIh1HQs"
      },
      "source": [
        "# **Avaliar o modelo**"
      ]
    },
    {
      "cell_type": "code",
      "metadata": {
        "id": "cwpnwl86dm74",
        "colab": {
          "base_uri": "https://localhost:8080/"
        },
        "outputId": "163f0547-492f-4575-bb92-fe7137699775"
      },
      "source": [
        "epochs=50\n",
        "history = model.fit(train_generator,\n",
        "                               epochs=epochs,\n",
        "                               #verbose=0,\n",
        "                               callbacks=callbacks_list, \n",
        "                               #validation_split=0.2,\n",
        "                               #class_weight=class_weight_,\n",
        "                               workers=4,\n",
        "                               use_multiprocessing=True,\n",
        "                               validation_data=validation_generator)"
      ],
      "execution_count": null,
      "outputs": [
        {
          "output_type": "stream",
          "name": "stdout",
          "text": [
            "Epoch 1/50\n",
            "49/49 [==============================] - 5s 41ms/step - loss: 1.7866 - accuracy: 0.1846 - val_loss: 1.7797 - val_accuracy: 0.1481\n",
            "Epoch 2/50\n",
            "49/49 [==============================] - 2s 34ms/step - loss: 1.7659 - accuracy: 0.1641 - val_loss: 1.7581 - val_accuracy: 0.1440\n",
            "Epoch 3/50\n",
            "49/49 [==============================] - 2s 34ms/step - loss: 1.7309 - accuracy: 0.1692 - val_loss: 1.6926 - val_accuracy: 0.2181\n",
            "Epoch 4/50\n",
            "49/49 [==============================] - 2s 34ms/step - loss: 1.6499 - accuracy: 0.2831 - val_loss: 1.5546 - val_accuracy: 0.4115\n",
            "Epoch 5/50\n",
            "49/49 [==============================] - 2s 34ms/step - loss: 1.4662 - accuracy: 0.4318 - val_loss: 1.2461 - val_accuracy: 0.5021\n",
            "Epoch 6/50\n",
            "49/49 [==============================] - 2s 35ms/step - loss: 1.2356 - accuracy: 0.4810 - val_loss: 1.0455 - val_accuracy: 0.6091\n",
            "Epoch 7/50\n",
            "49/49 [==============================] - 2s 35ms/step - loss: 1.0800 - accuracy: 0.5867 - val_loss: 0.8649 - val_accuracy: 0.6749\n",
            "Epoch 8/50\n",
            "49/49 [==============================] - 2s 35ms/step - loss: 0.9721 - accuracy: 0.6185 - val_loss: 0.7478 - val_accuracy: 0.7366\n",
            "Epoch 9/50\n",
            "49/49 [==============================] - 2s 34ms/step - loss: 0.8551 - accuracy: 0.6892 - val_loss: 0.6633 - val_accuracy: 0.7325\n",
            "Epoch 10/50\n",
            "49/49 [==============================] - 2s 36ms/step - loss: 0.7674 - accuracy: 0.7190 - val_loss: 0.6351 - val_accuracy: 0.8066\n",
            "Epoch 11/50\n",
            "49/49 [==============================] - 2s 33ms/step - loss: 0.7251 - accuracy: 0.7364 - val_loss: 0.5496 - val_accuracy: 0.8230\n",
            "Epoch 12/50\n",
            "49/49 [==============================] - 2s 35ms/step - loss: 0.6457 - accuracy: 0.7579 - val_loss: 0.5431 - val_accuracy: 0.8189\n",
            "Epoch 13/50\n",
            "49/49 [==============================] - 2s 36ms/step - loss: 0.6212 - accuracy: 0.7723 - val_loss: 0.5095 - val_accuracy: 0.8230\n",
            "Epoch 14/50\n",
            "49/49 [==============================] - 2s 35ms/step - loss: 0.6010 - accuracy: 0.7641 - val_loss: 0.5372 - val_accuracy: 0.8025\n",
            "Epoch 15/50\n",
            "49/49 [==============================] - 2s 34ms/step - loss: 0.5714 - accuracy: 0.7928 - val_loss: 0.5429 - val_accuracy: 0.8189\n",
            "Epoch 16/50\n",
            "49/49 [==============================] - 2s 35ms/step - loss: 0.5586 - accuracy: 0.7887 - val_loss: 0.4762 - val_accuracy: 0.8189\n",
            "Epoch 17/50\n",
            "49/49 [==============================] - 2s 39ms/step - loss: 0.5413 - accuracy: 0.7969 - val_loss: 0.4356 - val_accuracy: 0.8519\n",
            "Epoch 18/50\n",
            "49/49 [==============================] - 2s 36ms/step - loss: 0.5136 - accuracy: 0.8154 - val_loss: 0.5440 - val_accuracy: 0.8230\n",
            "Epoch 19/50\n",
            "49/49 [==============================] - 2s 34ms/step - loss: 0.5145 - accuracy: 0.8021 - val_loss: 0.5903 - val_accuracy: 0.7901\n",
            "Epoch 20/50\n",
            "49/49 [==============================] - 2s 35ms/step - loss: 0.4889 - accuracy: 0.8308 - val_loss: 0.5837 - val_accuracy: 0.8107\n",
            "Epoch 21/50\n",
            "49/49 [==============================] - 2s 35ms/step - loss: 0.5042 - accuracy: 0.8174 - val_loss: 0.5122 - val_accuracy: 0.8230\n",
            "Epoch 22/50\n",
            "49/49 [==============================] - 2s 35ms/step - loss: 0.4824 - accuracy: 0.8113 - val_loss: 0.4962 - val_accuracy: 0.8230\n",
            "Epoch 23/50\n",
            "49/49 [==============================] - 2s 31ms/step - loss: 0.4793 - accuracy: 0.8246 - val_loss: 0.4554 - val_accuracy: 0.8395\n",
            "Epoch 24/50\n",
            "49/49 [==============================] - 2s 36ms/step - loss: 0.5105 - accuracy: 0.8174 - val_loss: 0.5271 - val_accuracy: 0.8107\n",
            "Epoch 25/50\n",
            "49/49 [==============================] - 2s 35ms/step - loss: 0.4741 - accuracy: 0.8246 - val_loss: 0.4762 - val_accuracy: 0.8313\n",
            "Epoch 26/50\n",
            "49/49 [==============================] - 2s 35ms/step - loss: 0.4551 - accuracy: 0.8338 - val_loss: 0.4498 - val_accuracy: 0.8395\n",
            "Epoch 27/50\n",
            "49/49 [==============================] - 2s 35ms/step - loss: 0.4621 - accuracy: 0.8236 - val_loss: 0.4453 - val_accuracy: 0.8436\n",
            "Epoch 28/50\n",
            "49/49 [==============================] - 2s 36ms/step - loss: 0.4626 - accuracy: 0.8400 - val_loss: 0.4928 - val_accuracy: 0.8230\n",
            "Epoch 29/50\n",
            "49/49 [==============================] - 2s 34ms/step - loss: 0.4580 - accuracy: 0.8503 - val_loss: 0.4913 - val_accuracy: 0.8272\n",
            "Epoch 30/50\n",
            "49/49 [==============================] - 2s 35ms/step - loss: 0.4605 - accuracy: 0.8369 - val_loss: 0.4627 - val_accuracy: 0.8313\n",
            "Epoch 31/50\n",
            "49/49 [==============================] - 2s 34ms/step - loss: 0.4694 - accuracy: 0.8431 - val_loss: 0.4570 - val_accuracy: 0.8395\n",
            "Epoch 32/50\n",
            "49/49 [==============================] - 2s 37ms/step - loss: 0.4772 - accuracy: 0.8308 - val_loss: 0.4632 - val_accuracy: 0.8395\n",
            "Epoch 33/50\n",
            "49/49 [==============================] - 2s 33ms/step - loss: 0.4375 - accuracy: 0.8441 - val_loss: 0.4611 - val_accuracy: 0.8313\n",
            "Epoch 34/50\n",
            "49/49 [==============================] - 2s 36ms/step - loss: 0.4578 - accuracy: 0.8359 - val_loss: 0.4843 - val_accuracy: 0.8354\n",
            "Epoch 35/50\n",
            "49/49 [==============================] - 2s 36ms/step - loss: 0.4565 - accuracy: 0.8349 - val_loss: 0.4763 - val_accuracy: 0.8313\n",
            "Epoch 36/50\n",
            "49/49 [==============================] - 2s 35ms/step - loss: 0.4566 - accuracy: 0.8338 - val_loss: 0.4726 - val_accuracy: 0.8354\n",
            "Epoch 37/50\n",
            "49/49 [==============================] - 2s 37ms/step - loss: 0.4290 - accuracy: 0.8359 - val_loss: 0.4764 - val_accuracy: 0.8313\n",
            "Epoch 38/50\n",
            "49/49 [==============================] - 2s 33ms/step - loss: 0.4460 - accuracy: 0.8308 - val_loss: 0.4812 - val_accuracy: 0.8313\n",
            "Epoch 39/50\n",
            "49/49 [==============================] - 2s 36ms/step - loss: 0.4422 - accuracy: 0.8431 - val_loss: 0.4734 - val_accuracy: 0.8354\n",
            "Epoch 40/50\n",
            "49/49 [==============================] - 2s 37ms/step - loss: 0.4403 - accuracy: 0.8472 - val_loss: 0.4776 - val_accuracy: 0.8313\n",
            "Epoch 41/50\n",
            "49/49 [==============================] - 2s 35ms/step - loss: 0.4187 - accuracy: 0.8533 - val_loss: 0.4751 - val_accuracy: 0.8354\n",
            "Epoch 42/50\n",
            "49/49 [==============================] - 2s 36ms/step - loss: 0.4279 - accuracy: 0.8462 - val_loss: 0.4724 - val_accuracy: 0.8354\n",
            "Epoch 43/50\n",
            "49/49 [==============================] - 2s 36ms/step - loss: 0.4425 - accuracy: 0.8421 - val_loss: 0.4691 - val_accuracy: 0.8395\n",
            "Epoch 44/50\n",
            "49/49 [==============================] - 2s 34ms/step - loss: 0.4380 - accuracy: 0.8513 - val_loss: 0.4701 - val_accuracy: 0.8354\n",
            "Epoch 45/50\n",
            "49/49 [==============================] - 2s 35ms/step - loss: 0.4317 - accuracy: 0.8605 - val_loss: 0.4759 - val_accuracy: 0.8313\n",
            "Epoch 46/50\n",
            "49/49 [==============================] - 2s 34ms/step - loss: 0.4443 - accuracy: 0.8462 - val_loss: 0.4746 - val_accuracy: 0.8354\n",
            "Epoch 47/50\n",
            "49/49 [==============================] - 2s 35ms/step - loss: 0.4455 - accuracy: 0.8205 - val_loss: 0.4800 - val_accuracy: 0.8313\n",
            "Epoch 48/50\n",
            "49/49 [==============================] - 2s 33ms/step - loss: 0.4331 - accuracy: 0.8308 - val_loss: 0.4812 - val_accuracy: 0.8313\n",
            "Epoch 49/50\n",
            "49/49 [==============================] - 2s 35ms/step - loss: 0.4344 - accuracy: 0.8462 - val_loss: 0.4780 - val_accuracy: 0.8313\n",
            "Epoch 50/50\n",
            "49/49 [==============================] - 3s 49ms/step - loss: 0.4431 - accuracy: 0.8369 - val_loss: 0.4771 - val_accuracy: 0.8313\n"
          ]
        }
      ]
    },
    {
      "cell_type": "markdown",
      "metadata": {
        "id": "fXZP7HCxqpbS"
      },
      "source": [
        "**Deixe-nos representar graficamente a Precisão do treinamento versus perda para obter uma melhor compreensão do treinamento do modelo.**"
      ]
    },
    {
      "cell_type": "code",
      "metadata": {
        "colab": {
          "base_uri": "https://localhost:8080/",
          "height": 229
        },
        "id": "r2RLRG0mqfsv",
        "outputId": "43bca0e9-b087-4fa1-90fd-f4a2897271dc"
      },
      "source": [
        "plt.figure(figsize=(10, 10))\n",
        "\n",
        "plt.subplot(2, 2, 1)\n",
        "plt.plot(history.history['loss'], label='Loss')\n",
        "plt.plot(history.history['val_loss'], label='Validation Loss')\n",
        "plt.legend()\n",
        "plt.title('Training - Loss Function')\n",
        "\n",
        "plt.subplot(2, 2, 2)\n",
        "plt.plot(history.history['accuracy'], label='Accuracy')\n",
        "plt.plot(history.history['val_accuracy'], label='Validation Accuracy')\n",
        "plt.legend()\n",
        "plt.title('Train - Accuracy')"
      ],
      "execution_count": null,
      "outputs": [
        {
          "output_type": "error",
          "ename": "NameError",
          "evalue": "ignored",
          "traceback": [
            "\u001b[0;31m---------------------------------------------------------------------------\u001b[0m",
            "\u001b[0;31mNameError\u001b[0m                                 Traceback (most recent call last)",
            "\u001b[0;32m<ipython-input-1-bbce6a9fa20d>\u001b[0m in \u001b[0;36m<module>\u001b[0;34m()\u001b[0m\n\u001b[0;32m----> 1\u001b[0;31m \u001b[0mplt\u001b[0m\u001b[0;34m.\u001b[0m\u001b[0mfigure\u001b[0m\u001b[0;34m(\u001b[0m\u001b[0mfigsize\u001b[0m\u001b[0;34m=\u001b[0m\u001b[0;34m(\u001b[0m\u001b[0;36m10\u001b[0m\u001b[0;34m,\u001b[0m \u001b[0;36m10\u001b[0m\u001b[0;34m)\u001b[0m\u001b[0;34m)\u001b[0m\u001b[0;34m\u001b[0m\u001b[0;34m\u001b[0m\u001b[0m\n\u001b[0m\u001b[1;32m      2\u001b[0m \u001b[0;34m\u001b[0m\u001b[0m\n\u001b[1;32m      3\u001b[0m \u001b[0mplt\u001b[0m\u001b[0;34m.\u001b[0m\u001b[0msubplot\u001b[0m\u001b[0;34m(\u001b[0m\u001b[0;36m2\u001b[0m\u001b[0;34m,\u001b[0m \u001b[0;36m2\u001b[0m\u001b[0;34m,\u001b[0m \u001b[0;36m1\u001b[0m\u001b[0;34m)\u001b[0m\u001b[0;34m\u001b[0m\u001b[0;34m\u001b[0m\u001b[0m\n\u001b[1;32m      4\u001b[0m \u001b[0mplt\u001b[0m\u001b[0;34m.\u001b[0m\u001b[0mplot\u001b[0m\u001b[0;34m(\u001b[0m\u001b[0mhistory\u001b[0m\u001b[0;34m.\u001b[0m\u001b[0mhistory\u001b[0m\u001b[0;34m[\u001b[0m\u001b[0;34m'loss'\u001b[0m\u001b[0;34m]\u001b[0m\u001b[0;34m,\u001b[0m \u001b[0mlabel\u001b[0m\u001b[0;34m=\u001b[0m\u001b[0;34m'Loss'\u001b[0m\u001b[0;34m)\u001b[0m\u001b[0;34m\u001b[0m\u001b[0;34m\u001b[0m\u001b[0m\n\u001b[1;32m      5\u001b[0m \u001b[0mplt\u001b[0m\u001b[0;34m.\u001b[0m\u001b[0mplot\u001b[0m\u001b[0;34m(\u001b[0m\u001b[0mhistory\u001b[0m\u001b[0;34m.\u001b[0m\u001b[0mhistory\u001b[0m\u001b[0;34m[\u001b[0m\u001b[0;34m'val_loss'\u001b[0m\u001b[0;34m]\u001b[0m\u001b[0;34m,\u001b[0m \u001b[0mlabel\u001b[0m\u001b[0;34m=\u001b[0m\u001b[0;34m'Validation Loss'\u001b[0m\u001b[0;34m)\u001b[0m\u001b[0;34m\u001b[0m\u001b[0;34m\u001b[0m\u001b[0m\n",
            "\u001b[0;31mNameError\u001b[0m: name 'plt' is not defined"
          ]
        }
      ]
    },
    {
      "cell_type": "markdown",
      "metadata": {
        "id": "D6gvFi_nY4NB"
      },
      "source": [
        "\n",
        "# **Vamos traçar a precisão do treinamento e da validação, bem como a perda.** "
      ]
    },
    {
      "cell_type": "code",
      "metadata": {
        "id": "HvI5gCDM5Djb",
        "colab": {
          "base_uri": "https://localhost:8080/",
          "height": 545
        },
        "outputId": "d94eceb1-2b85-442e-f94a-96b896bd5434"
      },
      "source": [
        "%matplotlib inline\n",
        "import matplotlib.pyplot as plt\n",
        "acc = history.history['accuracy']\n",
        "val_acc = history.history['val_accuracy']\n",
        "loss = history.history['loss']\n",
        "val_loss = history.history['val_loss']\n",
        "\n",
        "epochs = range(len(acc))\n",
        "\n",
        "plt.plot(epochs, acc, 'r', label='Training accuracy')\n",
        "plt.plot(epochs, val_acc, 'b', label='Validation accuracy')\n",
        "plt.title('Training and validation accuracy')\n",
        "plt.legend(loc=0)\n",
        "plt.figure()\n",
        "\n",
        "plt.plot(epochs, loss, 'r', label='Training Loss')\n",
        "plt.plot(epochs, val_loss, 'b', label='Validation Loss')\n",
        "plt.title('Training and validation loss')\n",
        "plt.legend()\n",
        "\n",
        "plt.show()"
      ],
      "execution_count": null,
      "outputs": [
        {
          "output_type": "display_data",
          "data": {
            "image/png": "[encoded data removed]",
            "text/plain": [
              "<Figure size 432x288 with 1 Axes>"
            ]
          },
          "metadata": {
            "needs_background": "light"
          }
        },
        {
          "output_type": "display_data",
          "data": {
            "image/png": "[encoded data removed]",
            "text/plain": [
              "<Figure size 432x288 with 1 Axes>"
            ]
          },
          "metadata": {
            "needs_background": "light"
          }
        }
      ]
    },
    {
      "cell_type": "code",
      "metadata": {
        "colab": {
          "base_uri": "https://localhost:8080/",
          "height": 542
        },
        "id": "IMJbJ4iT8f4x",
        "outputId": "c0b96e70-abb6-41a1-914f-47213a400140"
      },
      "source": [
        "history2= model.history.history\n",
        "px.line(history2,title = \"Metrics Plot\")"
      ],
      "execution_count": null,
      "outputs": [
        {
          "output_type": "display_data",
          "data": {
            "text/html": [
              "<html>\n",
              "<head><meta charset=\"utf-8\" /></head>\n",
              "<body>\n",
              "    <div>\n",
              "            <script src=\"https://cdnjs.cloudflare.com/ajax/libs/mathjax/2.7.5/MathJax.js?config=TeX-AMS-MML_SVG\"></script><script type=\"text/javascript\">if (window.MathJax) {MathJax.Hub.Config({SVG: {font: \"STIX-Web\"}});}</script>\n",
              "                <script type=\"text/javascript\">window.PlotlyConfig = {MathJaxConfig: 'local'};</script>\n",
              "        <script src=\"https://cdn.plot.ly/plotly-latest.min.js\"></script>    \n",
              "            <div id=\"83b04753-3445-4673-8d9d-06b2a9596325\" class=\"plotly-graph-div\" style=\"height:525px; width:100%;\"></div>\n",
              "            <script type=\"text/javascript\">\n",
              "                \n",
              "                    window.PLOTLYENV=window.PLOTLYENV || {};\n",
              "                    \n",
              "                if (document.getElementById(\"83b04753-3445-4673-8d9d-06b2a9596325\")) {\n",
              "                    Plotly.newPlot(\n",
              "                        '83b04753-3445-4673-8d9d-06b2a9596325',\n",
              "                        [],\n",
              "                        {\"legend\": {\"tracegroupgap\": 0}, \"template\": {\"data\": {\"bar\": [{\"error_x\": {\"color\": \"#2a3f5f\"}, \"error_y\": {\"color\": \"#2a3f5f\"}, \"marker\": {\"line\": {\"color\": \"#E5ECF6\", \"width\": 0.5}}, \"type\": \"bar\"}], \"barpolar\": [{\"marker\": {\"line\": {\"color\": \"#E5ECF6\", \"width\": 0.5}}, \"type\": \"barpolar\"}], \"carpet\": [{\"aaxis\": {\"endlinecolor\": \"#2a3f5f\", \"gridcolor\": \"white\", \"linecolor\": \"white\", \"minorgridcolor\": \"white\", \"startlinecolor\": \"#2a3f5f\"}, \"baxis\": {\"endlinecolor\": \"#2a3f5f\", \"gridcolor\": \"white\", \"linecolor\": \"white\", \"minorgridcolor\": \"white\", \"startlinecolor\": \"#2a3f5f\"}, \"type\": \"carpet\"}], \"choropleth\": [{\"colorbar\": {\"outlinewidth\": 0, \"ticks\": \"\"}, \"type\": \"choropleth\"}], \"contour\": [{\"colorbar\": {\"outlinewidth\": 0, \"ticks\": \"\"}, \"colorscale\": [[0.0, \"#0d0887\"], [0.1111111111111111, \"#46039f\"], [0.2222222222222222, \"#7201a8\"], [0.3333333333333333, \"#9c179e\"], [0.4444444444444444, \"#bd3786\"], [0.5555555555555556, \"#d8576b\"], [0.6666666666666666, \"#ed7953\"], [0.7777777777777778, \"#fb9f3a\"], [0.8888888888888888, \"#fdca26\"], [1.0, \"#f0f921\"]], \"type\": \"contour\"}], \"contourcarpet\": [{\"colorbar\": {\"outlinewidth\": 0, \"ticks\": \"\"}, \"type\": \"contourcarpet\"}], \"heatmap\": [{\"colorbar\": {\"outlinewidth\": 0, \"ticks\": \"\"}, \"colorscale\": [[0.0, \"#0d0887\"], [0.1111111111111111, \"#46039f\"], [0.2222222222222222, \"#7201a8\"], [0.3333333333333333, \"#9c179e\"], [0.4444444444444444, \"#bd3786\"], [0.5555555555555556, \"#d8576b\"], [0.6666666666666666, \"#ed7953\"], [0.7777777777777778, \"#fb9f3a\"], [0.8888888888888888, \"#fdca26\"], [1.0, \"#f0f921\"]], \"type\": \"heatmap\"}], \"heatmapgl\": [{\"colorbar\": {\"outlinewidth\": 0, \"ticks\": \"\"}, \"colorscale\": [[0.0, \"#0d0887\"], [0.1111111111111111, \"#46039f\"], [0.2222222222222222, \"#7201a8\"], [0.3333333333333333, \"#9c179e\"], [0.4444444444444444, \"#bd3786\"], [0.5555555555555556, \"#d8576b\"], [0.6666666666666666, \"#ed7953\"], [0.7777777777777778, \"#fb9f3a\"], [0.8888888888888888, \"#fdca26\"], [1.0, \"#f0f921\"]], \"type\": \"heatmapgl\"}], \"histogram\": [{\"marker\": {\"colorbar\": {\"outlinewidth\": 0, \"ticks\": \"\"}}, \"type\": \"histogram\"}], \"histogram2d\": [{\"colorbar\": {\"outlinewidth\": 0, \"ticks\": \"\"}, \"colorscale\": [[0.0, \"#0d0887\"], [0.1111111111111111, \"#46039f\"], [0.2222222222222222, \"#7201a8\"], [0.3333333333333333, \"#9c179e\"], [0.4444444444444444, \"#bd3786\"], [0.5555555555555556, \"#d8576b\"], [0.6666666666666666, \"#ed7953\"], [0.7777777777777778, \"#fb9f3a\"], [0.8888888888888888, \"#fdca26\"], [1.0, \"#f0f921\"]], \"type\": \"histogram2d\"}], \"histogram2dcontour\": [{\"colorbar\": {\"outlinewidth\": 0, \"ticks\": \"\"}, \"colorscale\": [[0.0, \"#0d0887\"], [0.1111111111111111, \"#46039f\"], [0.2222222222222222, \"#7201a8\"], [0.3333333333333333, \"#9c179e\"], [0.4444444444444444, \"#bd3786\"], [0.5555555555555556, \"#d8576b\"], [0.6666666666666666, \"#ed7953\"], [0.7777777777777778, \"#fb9f3a\"], [0.8888888888888888, \"#fdca26\"], [1.0, \"#f0f921\"]], \"type\": \"histogram2dcontour\"}], \"mesh3d\": [{\"colorbar\": {\"outlinewidth\": 0, \"ticks\": \"\"}, \"type\": \"mesh3d\"}], \"parcoords\": [{\"line\": {\"colorbar\": {\"outlinewidth\": 0, \"ticks\": \"\"}}, \"type\": \"parcoords\"}], \"pie\": [{\"automargin\": true, \"type\": \"pie\"}], \"scatter\": [{\"marker\": {\"colorbar\": {\"outlinewidth\": 0, \"ticks\": \"\"}}, \"type\": \"scatter\"}], \"scatter3d\": [{\"line\": {\"colorbar\": {\"outlinewidth\": 0, \"ticks\": \"\"}}, \"marker\": {\"colorbar\": {\"outlinewidth\": 0, \"ticks\": \"\"}}, \"type\": \"scatter3d\"}], \"scattercarpet\": [{\"marker\": {\"colorbar\": {\"outlinewidth\": 0, \"ticks\": \"\"}}, \"type\": \"scattercarpet\"}], \"scattergeo\": [{\"marker\": {\"colorbar\": {\"outlinewidth\": 0, \"ticks\": \"\"}}, \"type\": \"scattergeo\"}], \"scattergl\": [{\"marker\": {\"colorbar\": {\"outlinewidth\": 0, \"ticks\": \"\"}}, \"type\": \"scattergl\"}], \"scattermapbox\": [{\"marker\": {\"colorbar\": {\"outlinewidth\": 0, \"ticks\": \"\"}}, \"type\": \"scattermapbox\"}], \"scatterpolar\": [{\"marker\": {\"colorbar\": {\"outlinewidth\": 0, \"ticks\": \"\"}}, \"type\": \"scatterpolar\"}], \"scatterpolargl\": [{\"marker\": {\"colorbar\": {\"outlinewidth\": 0, \"ticks\": \"\"}}, \"type\": \"scatterpolargl\"}], \"scatterternary\": [{\"marker\": {\"colorbar\": {\"outlinewidth\": 0, \"ticks\": \"\"}}, \"type\": \"scatterternary\"}], \"surface\": [{\"colorbar\": {\"outlinewidth\": 0, \"ticks\": \"\"}, \"colorscale\": [[0.0, \"#0d0887\"], [0.1111111111111111, \"#46039f\"], [0.2222222222222222, \"#7201a8\"], [0.3333333333333333, \"#9c179e\"], [0.4444444444444444, \"#bd3786\"], [0.5555555555555556, \"#d8576b\"], [0.6666666666666666, \"#ed7953\"], [0.7777777777777778, \"#fb9f3a\"], [0.8888888888888888, \"#fdca26\"], [1.0, \"#f0f921\"]], \"type\": \"surface\"}], \"table\": [{\"cells\": {\"fill\": {\"color\": \"#EBF0F8\"}, \"line\": {\"color\": \"white\"}}, \"header\": {\"fill\": {\"color\": \"#C8D4E3\"}, \"line\": {\"color\": \"white\"}}, \"type\": \"table\"}]}, \"layout\": {\"annotationdefaults\": {\"arrowcolor\": \"#2a3f5f\", \"arrowhead\": 0, \"arrowwidth\": 1}, \"coloraxis\": {\"colorbar\": {\"outlinewidth\": 0, \"ticks\": \"\"}}, \"colorscale\": {\"diverging\": [[0, \"#8e0152\"], [0.1, \"#c51b7d\"], [0.2, \"#de77ae\"], [0.3, \"#f1b6da\"], [0.4, \"#fde0ef\"], [0.5, \"#f7f7f7\"], [0.6, \"#e6f5d0\"], [0.7, \"#b8e186\"], [0.8, \"#7fbc41\"], [0.9, \"#4d9221\"], [1, \"#276419\"]], \"sequential\": [[0.0, \"#0d0887\"], [0.1111111111111111, \"#46039f\"], [0.2222222222222222, \"#7201a8\"], [0.3333333333333333, \"#9c179e\"], [0.4444444444444444, \"#bd3786\"], [0.5555555555555556, \"#d8576b\"], [0.6666666666666666, \"#ed7953\"], [0.7777777777777778, \"#fb9f3a\"], [0.8888888888888888, \"#fdca26\"], [1.0, \"#f0f921\"]], \"sequentialminus\": [[0.0, \"#0d0887\"], [0.1111111111111111, \"#46039f\"], [0.2222222222222222, \"#7201a8\"], [0.3333333333333333, \"#9c179e\"], [0.4444444444444444, \"#bd3786\"], [0.5555555555555556, \"#d8576b\"], [0.6666666666666666, \"#ed7953\"], [0.7777777777777778, \"#fb9f3a\"], [0.8888888888888888, \"#fdca26\"], [1.0, \"#f0f921\"]]}, \"colorway\": [\"#636efa\", \"#EF553B\", \"#00cc96\", \"#ab63fa\", \"#FFA15A\", \"#19d3f3\", \"#FF6692\", \"#B6E880\", \"#FF97FF\", \"#FECB52\"], \"font\": {\"color\": \"#2a3f5f\"}, \"geo\": {\"bgcolor\": \"white\", \"lakecolor\": \"white\", \"landcolor\": \"#E5ECF6\", \"showlakes\": true, \"showland\": true, \"subunitcolor\": \"white\"}, \"hoverlabel\": {\"align\": \"left\"}, \"hovermode\": \"closest\", \"mapbox\": {\"style\": \"light\"}, \"paper_bgcolor\": \"white\", \"plot_bgcolor\": \"#E5ECF6\", \"polar\": {\"angularaxis\": {\"gridcolor\": \"white\", \"linecolor\": \"white\", \"ticks\": \"\"}, \"bgcolor\": \"#E5ECF6\", \"radialaxis\": {\"gridcolor\": \"white\", \"linecolor\": \"white\", \"ticks\": \"\"}}, \"scene\": {\"xaxis\": {\"backgroundcolor\": \"#E5ECF6\", \"gridcolor\": \"white\", \"gridwidth\": 2, \"linecolor\": \"white\", \"showbackground\": true, \"ticks\": \"\", \"zerolinecolor\": \"white\"}, \"yaxis\": {\"backgroundcolor\": \"#E5ECF6\", \"gridcolor\": \"white\", \"gridwidth\": 2, \"linecolor\": \"white\", \"showbackground\": true, \"ticks\": \"\", \"zerolinecolor\": \"white\"}, \"zaxis\": {\"backgroundcolor\": \"#E5ECF6\", \"gridcolor\": \"white\", \"gridwidth\": 2, \"linecolor\": \"white\", \"showbackground\": true, \"ticks\": \"\", \"zerolinecolor\": \"white\"}}, \"shapedefaults\": {\"line\": {\"color\": \"#2a3f5f\"}}, \"ternary\": {\"aaxis\": {\"gridcolor\": \"white\", \"linecolor\": \"white\", \"ticks\": \"\"}, \"baxis\": {\"gridcolor\": \"white\", \"linecolor\": \"white\", \"ticks\": \"\"}, \"bgcolor\": \"#E5ECF6\", \"caxis\": {\"gridcolor\": \"white\", \"linecolor\": \"white\", \"ticks\": \"\"}}, \"title\": {\"x\": 0.05}, \"xaxis\": {\"automargin\": true, \"gridcolor\": \"white\", \"linecolor\": \"white\", \"ticks\": \"\", \"title\": {\"standoff\": 15}, \"zerolinecolor\": \"white\", \"zerolinewidth\": 2}, \"yaxis\": {\"automargin\": true, \"gridcolor\": \"white\", \"linecolor\": \"white\", \"ticks\": \"\", \"title\": {\"standoff\": 15}, \"zerolinecolor\": \"white\", \"zerolinewidth\": 2}}}, \"title\": {\"text\": \"Metrics Plot\"}, \"xaxis\": {\"anchor\": \"y\", \"domain\": [0.0, 1.0]}, \"yaxis\": {\"anchor\": \"x\", \"domain\": [0.0, 1.0]}},\n",
              "                        {\"responsive\": true}\n",
              "                    ).then(function(){\n",
              "                            \n",
              "var gd = document.getElementById('83b04753-3445-4673-8d9d-06b2a9596325');\n",
              "var x = new MutationObserver(function (mutations, observer) {{\n",
              "        var display = window.getComputedStyle(gd).display;\n",
              "        if (!display || display === 'none') {{\n",
              "            console.log([gd, 'removed!']);\n",
              "            Plotly.purge(gd);\n",
              "            observer.disconnect();\n",
              "        }}\n",
              "}});\n",
              "\n",
              "// Listen for the removal of the full notebook cells\n",
              "var notebookContainer = gd.closest('#notebook-container');\n",
              "if (notebookContainer) {{\n",
              "    x.observe(notebookContainer, {childList: true});\n",
              "}}\n",
              "\n",
              "// Listen for the clearing of the current output cell\n",
              "var outputEl = gd.closest('.output');\n",
              "if (outputEl) {{\n",
              "    x.observe(outputEl, {childList: true});\n",
              "}}\n",
              "\n",
              "                        })\n",
              "                };\n",
              "                \n",
              "            </script>\n",
              "        </div>\n",
              "</body>\n",
              "</html>"
            ]
          },
          "metadata": {}
        }
      ]
    },
    {
      "cell_type": "markdown",
      "metadata": {
        "id": "0G-slWFQ1KwJ"
      },
      "source": [
        "# **Otimizar o modelo**"
      ]
    },
    {
      "cell_type": "markdown",
      "metadata": {
        "id": "SukGrdFNTMWX"
      },
      "source": [
        "# **Avaliar acurácia  do Modelo**"
      ]
    },
    {
      "cell_type": "code",
      "metadata": {
        "id": "jHX9PR5gTQZA",
        "colab": {
          "base_uri": "https://localhost:8080/"
        },
        "outputId": "d36d9f89-83f6-4387-a50b-fc7e7e798f5f"
      },
      "source": [
        "model = tf.keras.models.load_model(\"best_model.h5\")\n",
        "\n",
        "test_loss, test_acc= model.evaluate(X_test,y_test)\n",
        "print(\"validation_accuracy: \" + str(test_acc))"
      ],
      "execution_count": null,
      "outputs": [
        {
          "output_type": "stream",
          "name": "stdout",
          "text": [
            "1/1 [==============================] - 0s 126ms/step - loss: 0.5555 - accuracy: 0.7500\n",
            "validation_accuracy: 0.75\n"
          ]
        }
      ]
    },
    {
      "cell_type": "markdown",
      "metadata": {
        "id": "7toSzftQcPLH"
      },
      "source": [
        "# **Realizar a Predição para as 6 classes**"
      ]
    },
    {
      "cell_type": "code",
      "metadata": {
        "id": "6fd1COOBcEq-",
        "colab": {
          "base_uri": "https://localhost:8080/"
        },
        "outputId": "89788227-b2db-4838-811f-85288111a365"
      },
      "source": [
        "predictions = model.predict(X_test)\n",
        "print(\"Prediction_accuracy: \" + str(predictions))"
      ],
      "execution_count": null,
      "outputs": [
        {
          "output_type": "stream",
          "name": "stdout",
          "text": [
            "Prediction_accuracy: [[0.17218024 0.16139771 0.16677544 0.16468659 0.1719023  0.16305776]\n",
            " [0.17536429 0.15775178 0.16749242 0.16164327 0.17514233 0.16260591]\n",
            " [0.17709239 0.15678856 0.16744374 0.1615359  0.17557517 0.16156419]\n",
            " [0.17548922 0.15714422 0.1672347  0.1639333  0.17430176 0.16189677]\n",
            " [0.17608273 0.15549958 0.16682564 0.16358136 0.17627893 0.16173181]\n",
            " [0.17271106 0.15973786 0.1669244  0.16274296 0.1741293  0.16375451]\n",
            " [0.17189719 0.16143374 0.16743785 0.16376469 0.17196001 0.16350655]\n",
            " [0.17254892 0.16055582 0.16688202 0.16361699 0.17323323 0.16316293]\n",
            " [0.17222944 0.16122444 0.16805337 0.16403417 0.17236869 0.16208984]\n",
            " [0.17018114 0.16289286 0.16713831 0.16534951 0.17031093 0.16412728]\n",
            " [0.1703538  0.16333427 0.16697602 0.16430828 0.17058967 0.16443795]\n",
            " [0.17126663 0.16060254 0.16777253 0.16434495 0.17195718 0.16405612]\n",
            " [0.17226851 0.16074017 0.1672467  0.16399117 0.1721768  0.16357672]\n",
            " [0.1720213  0.16156599 0.16713376 0.1625667  0.1726888  0.16402341]\n",
            " [0.17379285 0.15969902 0.16736011 0.16193804 0.17441845 0.16279148]\n",
            " [0.17534247 0.15760908 0.16723523 0.16299348 0.17438321 0.16243656]\n",
            " [0.17581147 0.15892033 0.16752468 0.16181381 0.17367172 0.16225801]\n",
            " [0.17450966 0.15925911 0.16698733 0.1628743  0.17303465 0.163335  ]\n",
            " [0.1767053  0.1554568  0.16898361 0.1613401  0.17383324 0.16368096]\n",
            " [0.1694813  0.15960954 0.16779695 0.16835278 0.16977195 0.16498753]]\n"
          ]
        }
      ]
    },
    {
      "cell_type": "code",
      "metadata": {
        "colab": {
          "base_uri": "https://localhost:8080/",
          "height": 265
        },
        "id": "cQp4hLBD1b2Q",
        "outputId": "97c2b0cc-e467-4e2b-e6f3-588083026ae9"
      },
      "source": [
        "plt.figure()\n",
        "plt.imshow(X_train[0])\n",
        "plt.colorbar()\n",
        "plt.grid(False)\n",
        "plt.show()"
      ],
      "execution_count": null,
      "outputs": [
        {
          "output_type": "display_data",
          "data": {
            "image/png": "[encoded data removed]",
            "text/plain": [
              "<Figure size 432x288 with 2 Axes>"
            ]
          },
          "metadata": {
            "needs_background": "light"
          }
        }
      ]
    },
    {
      "cell_type": "markdown",
      "metadata": {
        "id": "N14GaXQK1x4C"
      },
      "source": [
        "Escalaremos esses valores no intervalo de 0 e 1 antes antes de alimentar o modelo da rede neural. Para fazer isso, dividimos os valores por 255. É importante que o conjunto de treinamento e o conjunto de teste podem ser pré-processados do mesmo modo:"
      ]
    },
    {
      "cell_type": "code",
      "metadata": {
        "id": "jerlMdae10kl"
      },
      "source": [
        "X_train = X_train /255\n",
        "X_test = X_test /255"
      ],
      "execution_count": null,
      "outputs": []
    },
    {
      "cell_type": "code",
      "metadata": {
        "colab": {
          "base_uri": "https://localhost:8080/",
          "height": 476
        },
        "id": "ut4cvpNs2eGz",
        "outputId": "7c8794d8-af29-4bdd-e056-6f21b9d51520"
      },
      "source": [
        "plt.figure(figsize=(10,10))\n",
        "for i in range(20):\n",
        "    plt.subplot(5,5,i+1)\n",
        "    plt.xticks([])\n",
        "    plt.yticks([])\n",
        "    plt.grid(False)\n",
        "    plt.imshow(X_train[i])\n",
        "    plt.xlabel(label[y_train[i]])\n",
        "plt.show()"
      ],
      "execution_count": null,
      "outputs": [
        {
          "output_type": "display_data",
          "data": {
            "image/png": "[encoded data removed]",
            "text/plain": [
              "<Figure size 720x720 with 20 Axes>"
            ]
          },
          "metadata": {}
        }
      ]
    },
    {
      "cell_type": "code",
      "metadata": {
        "id": "UW-VloEXue0w"
      },
      "source": [
        "# Codigo do Dr.(o)professor Leonardo Forero\n",
        "\n",
        "def plot_image(i, predictions_array, true_label, img):\n",
        "  predictions_array, true_label, img = predictions_array[i], true_label[i], img[i]\n",
        "  plt.grid(False)\n",
        "  plt.xticks([])\n",
        "  plt.yticks([])\n",
        "\n",
        "  plt.imshow(img, cmap=plt.cm.binary)\n",
        "\n",
        "  predicted_label = np.argmax(predictions_array)\n",
        "  if predicted_label == true_label:\n",
        "    color = 'blue'\n",
        "  else:\n",
        "    color = 'red'\n",
        "\n",
        "  plt.xlabel(\"{} {:2.0f}% ({})\".format(label[predicted_label],\n",
        "                                100*np.max(predictions_array),\n",
        "                                label[true_label]),\n",
        "                                color=color)\n",
        "\n",
        "def plot_value_array(i, predictions_array, true_label):\n",
        "  predictions_array, true_label = predictions_array[i], true_label[i]\n",
        "  plt.grid(False)\n",
        "  plt.xticks([])\n",
        "  plt.yticks([])\n",
        "  thisplot = plt.bar(range(10), predictions_array, color=\"#777777\")\n",
        "  plt.ylim([0, 1])\n",
        "  predicted_label = np.argmax(predictions_array)\n",
        "\n",
        "  thisplot[predicted_label].set_color('red')\n",
        "  thisplot[true_label].set_color('blue')"
      ],
      "execution_count": null,
      "outputs": []
    },
    {
      "cell_type": "code",
      "metadata": {
        "colab": {
          "base_uri": "https://localhost:8080/",
          "height": 545
        },
        "id": "Q1ZVaJCavb1u",
        "outputId": "2f3a40f6-6c74-4b36-ea7d-65c2cb1920de"
      },
      "source": [
        "i = 0\n",
        "plt.figure(figsize=(6,3))\n",
        "plt.subplot(1,2,1)\n",
        "plot_image(i, predictions, y_test, X_test)\n",
        "plt.subplot(1,2,2)\n",
        "plot_value_array(i, predictions,  y_test)\n",
        "plt.show()"
      ],
      "execution_count": null,
      "outputs": [
        {
          "output_type": "error",
          "ename": "IndexError",
          "evalue": "ignored",
          "traceback": [
            "\u001b[0;31m---------------------------------------------------------------------------\u001b[0m",
            "\u001b[0;31mIndexError\u001b[0m                                Traceback (most recent call last)",
            "\u001b[0;32m<ipython-input-270-c66d863e5a59>\u001b[0m in \u001b[0;36m<module>\u001b[0;34m()\u001b[0m\n\u001b[1;32m      2\u001b[0m \u001b[0mplt\u001b[0m\u001b[0;34m.\u001b[0m\u001b[0mfigure\u001b[0m\u001b[0;34m(\u001b[0m\u001b[0mfigsize\u001b[0m\u001b[0;34m=\u001b[0m\u001b[0;34m(\u001b[0m\u001b[0;36m6\u001b[0m\u001b[0;34m,\u001b[0m\u001b[0;36m3\u001b[0m\u001b[0;34m)\u001b[0m\u001b[0;34m)\u001b[0m\u001b[0;34m\u001b[0m\u001b[0;34m\u001b[0m\u001b[0m\n\u001b[1;32m      3\u001b[0m \u001b[0mplt\u001b[0m\u001b[0;34m.\u001b[0m\u001b[0msubplot\u001b[0m\u001b[0;34m(\u001b[0m\u001b[0;36m1\u001b[0m\u001b[0;34m,\u001b[0m\u001b[0;36m2\u001b[0m\u001b[0;34m,\u001b[0m\u001b[0;36m1\u001b[0m\u001b[0;34m)\u001b[0m\u001b[0;34m\u001b[0m\u001b[0;34m\u001b[0m\u001b[0m\n\u001b[0;32m----> 4\u001b[0;31m \u001b[0mplot_image\u001b[0m\u001b[0;34m(\u001b[0m\u001b[0mi\u001b[0m\u001b[0;34m,\u001b[0m \u001b[0mpredictions\u001b[0m\u001b[0;34m,\u001b[0m \u001b[0my_test\u001b[0m\u001b[0;34m,\u001b[0m \u001b[0mX_test\u001b[0m\u001b[0;34m)\u001b[0m\u001b[0;34m\u001b[0m\u001b[0;34m\u001b[0m\u001b[0m\n\u001b[0m\u001b[1;32m      5\u001b[0m \u001b[0mplt\u001b[0m\u001b[0;34m.\u001b[0m\u001b[0msubplot\u001b[0m\u001b[0;34m(\u001b[0m\u001b[0;36m1\u001b[0m\u001b[0;34m,\u001b[0m\u001b[0;36m2\u001b[0m\u001b[0;34m,\u001b[0m\u001b[0;36m2\u001b[0m\u001b[0;34m)\u001b[0m\u001b[0;34m\u001b[0m\u001b[0;34m\u001b[0m\u001b[0m\n\u001b[1;32m      6\u001b[0m \u001b[0mplot_value_array\u001b[0m\u001b[0;34m(\u001b[0m\u001b[0mi\u001b[0m\u001b[0;34m,\u001b[0m \u001b[0mpredictions\u001b[0m\u001b[0;34m,\u001b[0m  \u001b[0my_test\u001b[0m\u001b[0;34m)\u001b[0m\u001b[0;34m\u001b[0m\u001b[0;34m\u001b[0m\u001b[0m\n",
            "\u001b[0;32m<ipython-input-269-cc698903231d>\u001b[0m in \u001b[0;36mplot_image\u001b[0;34m(i, predictions_array, true_label, img)\u001b[0m\n\u001b[1;32m      2\u001b[0m \u001b[0;34m\u001b[0m\u001b[0m\n\u001b[1;32m      3\u001b[0m \u001b[0;32mdef\u001b[0m \u001b[0mplot_image\u001b[0m\u001b[0;34m(\u001b[0m\u001b[0mi\u001b[0m\u001b[0;34m,\u001b[0m \u001b[0mpredictions_array\u001b[0m\u001b[0;34m,\u001b[0m \u001b[0mtrue_label\u001b[0m\u001b[0;34m,\u001b[0m \u001b[0mimg\u001b[0m\u001b[0;34m)\u001b[0m\u001b[0;34m:\u001b[0m\u001b[0;34m\u001b[0m\u001b[0;34m\u001b[0m\u001b[0m\n\u001b[0;32m----> 4\u001b[0;31m   \u001b[0mpredictions_array\u001b[0m\u001b[0;34m,\u001b[0m \u001b[0mtrue_label\u001b[0m\u001b[0;34m,\u001b[0m \u001b[0mimg\u001b[0m \u001b[0;34m=\u001b[0m \u001b[0mpredictions_array\u001b[0m\u001b[0;34m[\u001b[0m\u001b[0mi\u001b[0m\u001b[0;34m]\u001b[0m\u001b[0;34m,\u001b[0m \u001b[0mtrue_label\u001b[0m\u001b[0;34m[\u001b[0m\u001b[0mi\u001b[0m\u001b[0;34m]\u001b[0m\u001b[0;34m,\u001b[0m \u001b[0mimg\u001b[0m\u001b[0;34m[\u001b[0m\u001b[0mi\u001b[0m\u001b[0;34m]\u001b[0m\u001b[0;34m\u001b[0m\u001b[0;34m\u001b[0m\u001b[0m\n\u001b[0m\u001b[1;32m      5\u001b[0m   \u001b[0mplt\u001b[0m\u001b[0;34m.\u001b[0m\u001b[0mgrid\u001b[0m\u001b[0;34m(\u001b[0m\u001b[0;32mFalse\u001b[0m\u001b[0;34m)\u001b[0m\u001b[0;34m\u001b[0m\u001b[0;34m\u001b[0m\u001b[0m\n\u001b[1;32m      6\u001b[0m   \u001b[0mplt\u001b[0m\u001b[0;34m.\u001b[0m\u001b[0mxticks\u001b[0m\u001b[0;34m(\u001b[0m\u001b[0;34m[\u001b[0m\u001b[0;34m]\u001b[0m\u001b[0;34m)\u001b[0m\u001b[0;34m\u001b[0m\u001b[0;34m\u001b[0m\u001b[0m\n",
            "\u001b[0;31mIndexError\u001b[0m: invalid index to scalar variable."
          ]
        },
        {
          "output_type": "display_data",
          "data": {
            "image/png": "[encoded data removed]",
            "text/plain": [
              "<Figure size 432x216 with 1 Axes>"
            ]
          },
          "metadata": {
            "needs_background": "light"
          }
        }
      ]
    },
    {
      "cell_type": "code",
      "metadata": {
        "colab": {
          "base_uri": "https://localhost:8080/"
        },
        "id": "pYKNqTvYIy56",
        "outputId": "48029f4c-e2fc-41e1-cf8e-cec79ed0869a"
      },
      "source": [
        "predictions[0] # primeira predição"
      ],
      "execution_count": null,
      "outputs": [
        {
          "output_type": "execute_result",
          "data": {
            "text/plain": [
              "array([0.17218024, 0.16139771, 0.16677544, 0.16468659, 0.1719023 ,\n",
              "       0.16305776], dtype=float32)"
            ]
          },
          "metadata": {},
          "execution_count": 264
        }
      ]
    },
    {
      "cell_type": "code",
      "metadata": {
        "colab": {
          "base_uri": "https://localhost:8080/"
        },
        "id": "aCmbcjolJstx",
        "outputId": "5e6c2c06-4f9b-4ec6-acfa-135c55b38317"
      },
      "source": [
        "np.argmax(predictions[0])"
      ],
      "execution_count": null,
      "outputs": [
        {
          "output_type": "execute_result",
          "data": {
            "text/plain": [
              "0"
            ]
          },
          "metadata": {},
          "execution_count": 265
        }
      ]
    },
    {
      "cell_type": "code",
      "metadata": {
        "colab": {
          "base_uri": "https://localhost:8080/"
        },
        "id": "c81gyqxSpT8o",
        "outputId": "657e2ca4-88b7-4ad5-f39b-e5de89704f19"
      },
      "source": [
        "predictions = np.argmax(predictions)\n",
        "predictions"
      ],
      "execution_count": null,
      "outputs": [
        {
          "output_type": "execute_result",
          "data": {
            "text/plain": [
              "12"
            ]
          },
          "metadata": {},
          "execution_count": 266
        }
      ]
    },
    {
      "cell_type": "code",
      "metadata": {
        "colab": {
          "base_uri": "https://localhost:8080/",
          "height": 35
        },
        "id": "Kaby35OAi4rH",
        "outputId": "6f984451-3e3f-495e-aafb-512e64661381"
      },
      "source": [
        "y_test[0]"
      ],
      "execution_count": null,
      "outputs": [
        {
          "output_type": "execute_result",
          "data": {
            "application/vnd.google.colaboratory.intrinsic+json": {
              "type": "string"
            },
            "text/plain": [
              "'andesite'"
            ]
          },
          "metadata": {},
          "execution_count": 267
        }
      ]
    },
    {
      "cell_type": "code",
      "metadata": {
        "colab": {
          "base_uri": "https://localhost:8080/",
          "height": 320
        },
        "id": "-IwKBohOiOA_",
        "outputId": "5f104488-bfb9-4f94-83df-6c5c11cac1d6"
      },
      "source": [
        "from sklearn.metrics import confusion_matrix\n",
        "confusion_matrix(X_test,str(predictions))"
      ],
      "execution_count": null,
      "outputs": [
        {
          "output_type": "error",
          "ename": "ValueError",
          "evalue": "ignored",
          "traceback": [
            "\u001b[0;31m---------------------------------------------------------------------------\u001b[0m",
            "\u001b[0;31mValueError\u001b[0m                                Traceback (most recent call last)",
            "\u001b[0;32m<ipython-input-268-689280b579b8>\u001b[0m in \u001b[0;36m<module>\u001b[0;34m()\u001b[0m\n\u001b[1;32m      1\u001b[0m \u001b[0;32mfrom\u001b[0m \u001b[0msklearn\u001b[0m\u001b[0;34m.\u001b[0m\u001b[0mmetrics\u001b[0m \u001b[0;32mimport\u001b[0m \u001b[0mconfusion_matrix\u001b[0m\u001b[0;34m\u001b[0m\u001b[0;34m\u001b[0m\u001b[0m\n\u001b[0;32m----> 2\u001b[0;31m \u001b[0mconfusion_matrix\u001b[0m\u001b[0;34m(\u001b[0m\u001b[0mX_test\u001b[0m\u001b[0;34m,\u001b[0m\u001b[0mstr\u001b[0m\u001b[0;34m(\u001b[0m\u001b[0mpredictions\u001b[0m\u001b[0;34m)\u001b[0m\u001b[0;34m)\u001b[0m\u001b[0;34m\u001b[0m\u001b[0;34m\u001b[0m\u001b[0m\n\u001b[0m",
            "\u001b[0;32m/usr/local/lib/python3.7/dist-packages/sklearn/metrics/_classification.py\u001b[0m in \u001b[0;36mconfusion_matrix\u001b[0;34m(y_true, y_pred, labels, sample_weight, normalize)\u001b[0m\n\u001b[1;32m    266\u001b[0m \u001b[0;34m\u001b[0m\u001b[0m\n\u001b[1;32m    267\u001b[0m     \"\"\"\n\u001b[0;32m--> 268\u001b[0;31m     \u001b[0my_type\u001b[0m\u001b[0;34m,\u001b[0m \u001b[0my_true\u001b[0m\u001b[0;34m,\u001b[0m \u001b[0my_pred\u001b[0m \u001b[0;34m=\u001b[0m \u001b[0m_check_targets\u001b[0m\u001b[0;34m(\u001b[0m\u001b[0my_true\u001b[0m\u001b[0;34m,\u001b[0m \u001b[0my_pred\u001b[0m\u001b[0;34m)\u001b[0m\u001b[0;34m\u001b[0m\u001b[0;34m\u001b[0m\u001b[0m\n\u001b[0m\u001b[1;32m    269\u001b[0m     \u001b[0;32mif\u001b[0m \u001b[0my_type\u001b[0m \u001b[0;32mnot\u001b[0m \u001b[0;32min\u001b[0m \u001b[0;34m(\u001b[0m\u001b[0;34m\"binary\"\u001b[0m\u001b[0;34m,\u001b[0m \u001b[0;34m\"multiclass\"\u001b[0m\u001b[0;34m)\u001b[0m\u001b[0;34m:\u001b[0m\u001b[0;34m\u001b[0m\u001b[0;34m\u001b[0m\u001b[0m\n\u001b[1;32m    270\u001b[0m         \u001b[0;32mraise\u001b[0m \u001b[0mValueError\u001b[0m\u001b[0;34m(\u001b[0m\u001b[0;34m\"%s is not supported\"\u001b[0m \u001b[0;34m%\u001b[0m \u001b[0my_type\u001b[0m\u001b[0;34m)\u001b[0m\u001b[0;34m\u001b[0m\u001b[0;34m\u001b[0m\u001b[0m\n",
            "\u001b[0;32m/usr/local/lib/python3.7/dist-packages/sklearn/metrics/_classification.py\u001b[0m in \u001b[0;36m_check_targets\u001b[0;34m(y_true, y_pred)\u001b[0m\n\u001b[1;32m     78\u001b[0m     \u001b[0my_pred\u001b[0m \u001b[0;34m:\u001b[0m \u001b[0marray\u001b[0m \u001b[0;32mor\u001b[0m \u001b[0mindicator\u001b[0m \u001b[0mmatrix\u001b[0m\u001b[0;34m\u001b[0m\u001b[0;34m\u001b[0m\u001b[0m\n\u001b[1;32m     79\u001b[0m     \"\"\"\n\u001b[0;32m---> 80\u001b[0;31m     \u001b[0mcheck_consistent_length\u001b[0m\u001b[0;34m(\u001b[0m\u001b[0my_true\u001b[0m\u001b[0;34m,\u001b[0m \u001b[0my_pred\u001b[0m\u001b[0;34m)\u001b[0m\u001b[0;34m\u001b[0m\u001b[0;34m\u001b[0m\u001b[0m\n\u001b[0m\u001b[1;32m     81\u001b[0m     \u001b[0mtype_true\u001b[0m \u001b[0;34m=\u001b[0m \u001b[0mtype_of_target\u001b[0m\u001b[0;34m(\u001b[0m\u001b[0my_true\u001b[0m\u001b[0;34m)\u001b[0m\u001b[0;34m\u001b[0m\u001b[0;34m\u001b[0m\u001b[0m\n\u001b[1;32m     82\u001b[0m     \u001b[0mtype_pred\u001b[0m \u001b[0;34m=\u001b[0m \u001b[0mtype_of_target\u001b[0m\u001b[0;34m(\u001b[0m\u001b[0my_pred\u001b[0m\u001b[0;34m)\u001b[0m\u001b[0;34m\u001b[0m\u001b[0;34m\u001b[0m\u001b[0m\n",
            "\u001b[0;32m/usr/local/lib/python3.7/dist-packages/sklearn/utils/validation.py\u001b[0m in \u001b[0;36mcheck_consistent_length\u001b[0;34m(*arrays)\u001b[0m\n\u001b[1;32m    210\u001b[0m     \u001b[0;32mif\u001b[0m \u001b[0mlen\u001b[0m\u001b[0;34m(\u001b[0m\u001b[0muniques\u001b[0m\u001b[0;34m)\u001b[0m \u001b[0;34m>\u001b[0m \u001b[0;36m1\u001b[0m\u001b[0;34m:\u001b[0m\u001b[0;34m\u001b[0m\u001b[0;34m\u001b[0m\u001b[0m\n\u001b[1;32m    211\u001b[0m         raise ValueError(\"Found input variables with inconsistent numbers of\"\n\u001b[0;32m--> 212\u001b[0;31m                          \" samples: %r\" % [int(l) for l in lengths])\n\u001b[0m\u001b[1;32m    213\u001b[0m \u001b[0;34m\u001b[0m\u001b[0m\n\u001b[1;32m    214\u001b[0m \u001b[0;34m\u001b[0m\u001b[0m\n",
            "\u001b[0;31mValueError\u001b[0m: Found input variables with inconsistent numbers of samples: [20, 2]"
          ]
        }
      ]
    },
    {
      "cell_type": "code",
      "metadata": {
        "id": "qVeK5dZxcTxc",
        "colab": {
          "base_uri": "https://localhost:8080/",
          "height": 282
        },
        "outputId": "b46f8163-ed70-4ad6-c11a-a913565c2204"
      },
      "source": [
        "img_pred = cv.imread(\"gneiss/0QTQE.jpg\",0)\n",
        "plt.imshow(img_pred)"
      ],
      "execution_count": null,
      "outputs": [
        {
          "output_type": "execute_result",
          "data": {
            "text/plain": [
              "<matplotlib.image.AxesImage at 0x7f6553f8ec50>"
            ]
          },
          "metadata": {},
          "execution_count": 156
        },
        {
          "output_type": "display_data",
          "data": {
            "image/png": "[encoded data removed]",
            "text/plain": [
              "<Figure size 432x288 with 1 Axes>"
            ]
          },
          "metadata": {
            "needs_background": "light"
          }
        }
      ]
    },
    {
      "cell_type": "code",
      "metadata": {
        "id": "qsxcgyI9Byar"
      },
      "source": [
        "if img_pred.shape != [28,28]:\n",
        "    img2 = cv.resize(img_pred, (28, 28))\n",
        "    img_pred = img2.reshape(28, 28, -1)\n",
        "else:\n",
        "    img_pred = img_pred.reshape(28, 28, -1)\n",
        "\n",
        "img_pred = ~img_pred\n",
        "img_pred = img_pred.reshape(1, 1, 28, 28).astype('float32')\n",
        "\n",
        "img_pred = img_pred/255.0\n"
      ],
      "execution_count": null,
      "outputs": []
    },
    {
      "cell_type": "code",
      "metadata": {
        "id": "-vpZf-esIRHD",
        "colab": {
          "base_uri": "https://localhost:8080/",
          "height": 690
        },
        "outputId": "ba1b160f-6816-40e3-bc0d-e6d8c504eeaf"
      },
      "source": [
        "pred = model.predict(img_pred)\n",
        "pred_proba = model.predict_proba(img_pred)\n"
      ],
      "execution_count": null,
      "outputs": [
        {
          "output_type": "error",
          "ename": "ValueError",
          "evalue": "ignored",
          "traceback": [
            "\u001b[0;31m---------------------------------------------------------------------------\u001b[0m",
            "\u001b[0;31mValueError\u001b[0m                                Traceback (most recent call last)",
            "\u001b[0;32m<ipython-input-158-d00c635792b6>\u001b[0m in \u001b[0;36m<module>\u001b[0;34m()\u001b[0m\n\u001b[0;32m----> 1\u001b[0;31m \u001b[0mpred\u001b[0m \u001b[0;34m=\u001b[0m \u001b[0mmodel\u001b[0m\u001b[0;34m.\u001b[0m\u001b[0mpredict\u001b[0m\u001b[0;34m(\u001b[0m\u001b[0mimg_pred\u001b[0m\u001b[0;34m)\u001b[0m\u001b[0;34m\u001b[0m\u001b[0;34m\u001b[0m\u001b[0m\n\u001b[0m\u001b[1;32m      2\u001b[0m \u001b[0mpred_proba\u001b[0m \u001b[0;34m=\u001b[0m \u001b[0mmodel\u001b[0m\u001b[0;34m.\u001b[0m\u001b[0mpredict_proba\u001b[0m\u001b[0;34m(\u001b[0m\u001b[0mimg_pred\u001b[0m\u001b[0;34m)\u001b[0m\u001b[0;34m\u001b[0m\u001b[0;34m\u001b[0m\u001b[0m\n",
            "\u001b[0;32m/usr/local/lib/python3.7/dist-packages/keras/engine/training.py\u001b[0m in \u001b[0;36mpredict\u001b[0;34m(self, x, batch_size, verbose, steps, callbacks, max_queue_size, workers, use_multiprocessing)\u001b[0m\n\u001b[1;32m   1749\u001b[0m           \u001b[0;32mfor\u001b[0m \u001b[0mstep\u001b[0m \u001b[0;32min\u001b[0m \u001b[0mdata_handler\u001b[0m\u001b[0;34m.\u001b[0m\u001b[0msteps\u001b[0m\u001b[0;34m(\u001b[0m\u001b[0;34m)\u001b[0m\u001b[0;34m:\u001b[0m\u001b[0;34m\u001b[0m\u001b[0;34m\u001b[0m\u001b[0m\n\u001b[1;32m   1750\u001b[0m             \u001b[0mcallbacks\u001b[0m\u001b[0;34m.\u001b[0m\u001b[0mon_predict_batch_begin\u001b[0m\u001b[0;34m(\u001b[0m\u001b[0mstep\u001b[0m\u001b[0;34m)\u001b[0m\u001b[0;34m\u001b[0m\u001b[0;34m\u001b[0m\u001b[0m\n\u001b[0;32m-> 1751\u001b[0;31m             \u001b[0mtmp_batch_outputs\u001b[0m \u001b[0;34m=\u001b[0m \u001b[0mself\u001b[0m\u001b[0;34m.\u001b[0m\u001b[0mpredict_function\u001b[0m\u001b[0;34m(\u001b[0m\u001b[0miterator\u001b[0m\u001b[0;34m)\u001b[0m\u001b[0;34m\u001b[0m\u001b[0;34m\u001b[0m\u001b[0m\n\u001b[0m\u001b[1;32m   1752\u001b[0m             \u001b[0;32mif\u001b[0m \u001b[0mdata_handler\u001b[0m\u001b[0;34m.\u001b[0m\u001b[0mshould_sync\u001b[0m\u001b[0;34m:\u001b[0m\u001b[0;34m\u001b[0m\u001b[0;34m\u001b[0m\u001b[0m\n\u001b[1;32m   1753\u001b[0m               \u001b[0mcontext\u001b[0m\u001b[0;34m.\u001b[0m\u001b[0masync_wait\u001b[0m\u001b[0;34m(\u001b[0m\u001b[0;34m)\u001b[0m\u001b[0;34m\u001b[0m\u001b[0;34m\u001b[0m\u001b[0m\n",
            "\u001b[0;32m/usr/local/lib/python3.7/dist-packages/tensorflow/python/eager/def_function.py\u001b[0m in \u001b[0;36m__call__\u001b[0;34m(self, *args, **kwds)\u001b[0m\n\u001b[1;32m    883\u001b[0m \u001b[0;34m\u001b[0m\u001b[0m\n\u001b[1;32m    884\u001b[0m       \u001b[0;32mwith\u001b[0m \u001b[0mOptionalXlaContext\u001b[0m\u001b[0;34m(\u001b[0m\u001b[0mself\u001b[0m\u001b[0;34m.\u001b[0m\u001b[0m_jit_compile\u001b[0m\u001b[0;34m)\u001b[0m\u001b[0;34m:\u001b[0m\u001b[0;34m\u001b[0m\u001b[0;34m\u001b[0m\u001b[0m\n\u001b[0;32m--> 885\u001b[0;31m         \u001b[0mresult\u001b[0m \u001b[0;34m=\u001b[0m \u001b[0mself\u001b[0m\u001b[0;34m.\u001b[0m\u001b[0m_call\u001b[0m\u001b[0;34m(\u001b[0m\u001b[0;34m*\u001b[0m\u001b[0margs\u001b[0m\u001b[0;34m,\u001b[0m \u001b[0;34m**\u001b[0m\u001b[0mkwds\u001b[0m\u001b[0;34m)\u001b[0m\u001b[0;34m\u001b[0m\u001b[0;34m\u001b[0m\u001b[0m\n\u001b[0m\u001b[1;32m    886\u001b[0m \u001b[0;34m\u001b[0m\u001b[0m\n\u001b[1;32m    887\u001b[0m       \u001b[0mnew_tracing_count\u001b[0m \u001b[0;34m=\u001b[0m \u001b[0mself\u001b[0m\u001b[0;34m.\u001b[0m\u001b[0mexperimental_get_tracing_count\u001b[0m\u001b[0;34m(\u001b[0m\u001b[0;34m)\u001b[0m\u001b[0;34m\u001b[0m\u001b[0;34m\u001b[0m\u001b[0m\n",
            "\u001b[0;32m/usr/local/lib/python3.7/dist-packages/tensorflow/python/eager/def_function.py\u001b[0m in \u001b[0;36m_call\u001b[0;34m(self, *args, **kwds)\u001b[0m\n\u001b[1;32m    922\u001b[0m       \u001b[0;31m# In this case we have not created variables on the first call. So we can\u001b[0m\u001b[0;34m\u001b[0m\u001b[0;34m\u001b[0m\u001b[0;34m\u001b[0m\u001b[0m\n\u001b[1;32m    923\u001b[0m       \u001b[0;31m# run the first trace but we should fail if variables are created.\u001b[0m\u001b[0;34m\u001b[0m\u001b[0;34m\u001b[0m\u001b[0;34m\u001b[0m\u001b[0m\n\u001b[0;32m--> 924\u001b[0;31m       \u001b[0mresults\u001b[0m \u001b[0;34m=\u001b[0m \u001b[0mself\u001b[0m\u001b[0;34m.\u001b[0m\u001b[0m_stateful_fn\u001b[0m\u001b[0;34m(\u001b[0m\u001b[0;34m*\u001b[0m\u001b[0margs\u001b[0m\u001b[0;34m,\u001b[0m \u001b[0;34m**\u001b[0m\u001b[0mkwds\u001b[0m\u001b[0;34m)\u001b[0m\u001b[0;34m\u001b[0m\u001b[0;34m\u001b[0m\u001b[0m\n\u001b[0m\u001b[1;32m    925\u001b[0m       \u001b[0;32mif\u001b[0m \u001b[0mself\u001b[0m\u001b[0;34m.\u001b[0m\u001b[0m_created_variables\u001b[0m \u001b[0;32mand\u001b[0m \u001b[0;32mnot\u001b[0m \u001b[0mALLOW_DYNAMIC_VARIABLE_CREATION\u001b[0m\u001b[0;34m:\u001b[0m\u001b[0;34m\u001b[0m\u001b[0;34m\u001b[0m\u001b[0m\n\u001b[1;32m    926\u001b[0m         raise ValueError(\"Creating variables on a non-first call to a function\"\n",
            "\u001b[0;32m/usr/local/lib/python3.7/dist-packages/tensorflow/python/eager/function.py\u001b[0m in \u001b[0;36m__call__\u001b[0;34m(self, *args, **kwargs)\u001b[0m\n\u001b[1;32m   3036\u001b[0m     \u001b[0;32mwith\u001b[0m \u001b[0mself\u001b[0m\u001b[0;34m.\u001b[0m\u001b[0m_lock\u001b[0m\u001b[0;34m:\u001b[0m\u001b[0;34m\u001b[0m\u001b[0;34m\u001b[0m\u001b[0m\n\u001b[1;32m   3037\u001b[0m       (graph_function,\n\u001b[0;32m-> 3038\u001b[0;31m        filtered_flat_args) = self._maybe_define_function(args, kwargs)\n\u001b[0m\u001b[1;32m   3039\u001b[0m     return graph_function._call_flat(\n\u001b[1;32m   3040\u001b[0m         filtered_flat_args, captured_inputs=graph_function.captured_inputs)  # pylint: disable=protected-access\n",
            "\u001b[0;32m/usr/local/lib/python3.7/dist-packages/tensorflow/python/eager/function.py\u001b[0m in \u001b[0;36m_maybe_define_function\u001b[0;34m(self, args, kwargs)\u001b[0m\n\u001b[1;32m   3458\u001b[0m               call_context_key in self._function_cache.missed):\n\u001b[1;32m   3459\u001b[0m             return self._define_function_with_shape_relaxation(\n\u001b[0;32m-> 3460\u001b[0;31m                 args, kwargs, flat_args, filtered_flat_args, cache_key_context)\n\u001b[0m\u001b[1;32m   3461\u001b[0m \u001b[0;34m\u001b[0m\u001b[0m\n\u001b[1;32m   3462\u001b[0m           \u001b[0mself\u001b[0m\u001b[0;34m.\u001b[0m\u001b[0m_function_cache\u001b[0m\u001b[0;34m.\u001b[0m\u001b[0mmissed\u001b[0m\u001b[0;34m.\u001b[0m\u001b[0madd\u001b[0m\u001b[0;34m(\u001b[0m\u001b[0mcall_context_key\u001b[0m\u001b[0;34m)\u001b[0m\u001b[0;34m\u001b[0m\u001b[0;34m\u001b[0m\u001b[0m\n",
            "\u001b[0;32m/usr/local/lib/python3.7/dist-packages/tensorflow/python/eager/function.py\u001b[0m in \u001b[0;36m_define_function_with_shape_relaxation\u001b[0;34m(self, args, kwargs, flat_args, filtered_flat_args, cache_key_context)\u001b[0m\n\u001b[1;32m   3380\u001b[0m \u001b[0;34m\u001b[0m\u001b[0m\n\u001b[1;32m   3381\u001b[0m     graph_function = self._create_graph_function(\n\u001b[0;32m-> 3382\u001b[0;31m         args, kwargs, override_flat_arg_shapes=relaxed_arg_shapes)\n\u001b[0m\u001b[1;32m   3383\u001b[0m     \u001b[0mself\u001b[0m\u001b[0;34m.\u001b[0m\u001b[0m_function_cache\u001b[0m\u001b[0;34m.\u001b[0m\u001b[0marg_relaxed\u001b[0m\u001b[0;34m[\u001b[0m\u001b[0mrank_only_cache_key\u001b[0m\u001b[0;34m]\u001b[0m \u001b[0;34m=\u001b[0m \u001b[0mgraph_function\u001b[0m\u001b[0;34m\u001b[0m\u001b[0;34m\u001b[0m\u001b[0m\n\u001b[1;32m   3384\u001b[0m \u001b[0;34m\u001b[0m\u001b[0m\n",
            "\u001b[0;32m/usr/local/lib/python3.7/dist-packages/tensorflow/python/eager/function.py\u001b[0m in \u001b[0;36m_create_graph_function\u001b[0;34m(self, args, kwargs, override_flat_arg_shapes)\u001b[0m\n\u001b[1;32m   3306\u001b[0m             \u001b[0marg_names\u001b[0m\u001b[0;34m=\u001b[0m\u001b[0marg_names\u001b[0m\u001b[0;34m,\u001b[0m\u001b[0;34m\u001b[0m\u001b[0;34m\u001b[0m\u001b[0m\n\u001b[1;32m   3307\u001b[0m             \u001b[0moverride_flat_arg_shapes\u001b[0m\u001b[0;34m=\u001b[0m\u001b[0moverride_flat_arg_shapes\u001b[0m\u001b[0;34m,\u001b[0m\u001b[0;34m\u001b[0m\u001b[0;34m\u001b[0m\u001b[0m\n\u001b[0;32m-> 3308\u001b[0;31m             capture_by_value=self._capture_by_value),\n\u001b[0m\u001b[1;32m   3309\u001b[0m         \u001b[0mself\u001b[0m\u001b[0;34m.\u001b[0m\u001b[0m_function_attributes\u001b[0m\u001b[0;34m,\u001b[0m\u001b[0;34m\u001b[0m\u001b[0;34m\u001b[0m\u001b[0m\n\u001b[1;32m   3310\u001b[0m         \u001b[0mfunction_spec\u001b[0m\u001b[0;34m=\u001b[0m\u001b[0mself\u001b[0m\u001b[0;34m.\u001b[0m\u001b[0mfunction_spec\u001b[0m\u001b[0;34m,\u001b[0m\u001b[0;34m\u001b[0m\u001b[0;34m\u001b[0m\u001b[0m\n",
            "\u001b[0;32m/usr/local/lib/python3.7/dist-packages/tensorflow/python/framework/func_graph.py\u001b[0m in \u001b[0;36mfunc_graph_from_py_func\u001b[0;34m(name, python_func, args, kwargs, signature, func_graph, autograph, autograph_options, add_control_dependencies, arg_names, op_return_value, collections, capture_by_value, override_flat_arg_shapes, acd_record_initial_resource_uses)\u001b[0m\n\u001b[1;32m   1005\u001b[0m         \u001b[0m_\u001b[0m\u001b[0;34m,\u001b[0m \u001b[0moriginal_func\u001b[0m \u001b[0;34m=\u001b[0m \u001b[0mtf_decorator\u001b[0m\u001b[0;34m.\u001b[0m\u001b[0munwrap\u001b[0m\u001b[0;34m(\u001b[0m\u001b[0mpython_func\u001b[0m\u001b[0;34m)\u001b[0m\u001b[0;34m\u001b[0m\u001b[0;34m\u001b[0m\u001b[0m\n\u001b[1;32m   1006\u001b[0m \u001b[0;34m\u001b[0m\u001b[0m\n\u001b[0;32m-> 1007\u001b[0;31m       \u001b[0mfunc_outputs\u001b[0m \u001b[0;34m=\u001b[0m \u001b[0mpython_func\u001b[0m\u001b[0;34m(\u001b[0m\u001b[0;34m*\u001b[0m\u001b[0mfunc_args\u001b[0m\u001b[0;34m,\u001b[0m \u001b[0;34m**\u001b[0m\u001b[0mfunc_kwargs\u001b[0m\u001b[0;34m)\u001b[0m\u001b[0;34m\u001b[0m\u001b[0;34m\u001b[0m\u001b[0m\n\u001b[0m\u001b[1;32m   1008\u001b[0m \u001b[0;34m\u001b[0m\u001b[0m\n\u001b[1;32m   1009\u001b[0m       \u001b[0;31m# invariant: `func_outputs` contains only Tensors, CompositeTensors,\u001b[0m\u001b[0;34m\u001b[0m\u001b[0;34m\u001b[0m\u001b[0;34m\u001b[0m\u001b[0m\n",
            "\u001b[0;32m/usr/local/lib/python3.7/dist-packages/tensorflow/python/eager/def_function.py\u001b[0m in \u001b[0;36mwrapped_fn\u001b[0;34m(*args, **kwds)\u001b[0m\n\u001b[1;32m    666\u001b[0m         \u001b[0;31m# the function a weak reference to itself to avoid a reference cycle.\u001b[0m\u001b[0;34m\u001b[0m\u001b[0;34m\u001b[0m\u001b[0;34m\u001b[0m\u001b[0m\n\u001b[1;32m    667\u001b[0m         \u001b[0;32mwith\u001b[0m \u001b[0mOptionalXlaContext\u001b[0m\u001b[0;34m(\u001b[0m\u001b[0mcompile_with_xla\u001b[0m\u001b[0;34m)\u001b[0m\u001b[0;34m:\u001b[0m\u001b[0;34m\u001b[0m\u001b[0;34m\u001b[0m\u001b[0m\n\u001b[0;32m--> 668\u001b[0;31m           \u001b[0mout\u001b[0m \u001b[0;34m=\u001b[0m \u001b[0mweak_wrapped_fn\u001b[0m\u001b[0;34m(\u001b[0m\u001b[0;34m)\u001b[0m\u001b[0;34m.\u001b[0m\u001b[0m__wrapped__\u001b[0m\u001b[0;34m(\u001b[0m\u001b[0;34m*\u001b[0m\u001b[0margs\u001b[0m\u001b[0;34m,\u001b[0m \u001b[0;34m**\u001b[0m\u001b[0mkwds\u001b[0m\u001b[0;34m)\u001b[0m\u001b[0;34m\u001b[0m\u001b[0;34m\u001b[0m\u001b[0m\n\u001b[0m\u001b[1;32m    669\u001b[0m         \u001b[0;32mreturn\u001b[0m \u001b[0mout\u001b[0m\u001b[0;34m\u001b[0m\u001b[0;34m\u001b[0m\u001b[0m\n\u001b[1;32m    670\u001b[0m \u001b[0;34m\u001b[0m\u001b[0m\n",
            "\u001b[0;32m/usr/local/lib/python3.7/dist-packages/tensorflow/python/framework/func_graph.py\u001b[0m in \u001b[0;36mwrapper\u001b[0;34m(*args, **kwargs)\u001b[0m\n\u001b[1;32m    992\u001b[0m           \u001b[0;32mexcept\u001b[0m \u001b[0mException\u001b[0m \u001b[0;32mas\u001b[0m \u001b[0me\u001b[0m\u001b[0;34m:\u001b[0m  \u001b[0;31m# pylint:disable=broad-except\u001b[0m\u001b[0;34m\u001b[0m\u001b[0;34m\u001b[0m\u001b[0m\n\u001b[1;32m    993\u001b[0m             \u001b[0;32mif\u001b[0m \u001b[0mhasattr\u001b[0m\u001b[0;34m(\u001b[0m\u001b[0me\u001b[0m\u001b[0;34m,\u001b[0m \u001b[0;34m\"ag_error_metadata\"\u001b[0m\u001b[0;34m)\u001b[0m\u001b[0;34m:\u001b[0m\u001b[0;34m\u001b[0m\u001b[0;34m\u001b[0m\u001b[0m\n\u001b[0;32m--> 994\u001b[0;31m               \u001b[0;32mraise\u001b[0m \u001b[0me\u001b[0m\u001b[0;34m.\u001b[0m\u001b[0mag_error_metadata\u001b[0m\u001b[0;34m.\u001b[0m\u001b[0mto_exception\u001b[0m\u001b[0;34m(\u001b[0m\u001b[0me\u001b[0m\u001b[0;34m)\u001b[0m\u001b[0;34m\u001b[0m\u001b[0;34m\u001b[0m\u001b[0m\n\u001b[0m\u001b[1;32m    995\u001b[0m             \u001b[0;32melse\u001b[0m\u001b[0;34m:\u001b[0m\u001b[0;34m\u001b[0m\u001b[0;34m\u001b[0m\u001b[0m\n\u001b[1;32m    996\u001b[0m               \u001b[0;32mraise\u001b[0m\u001b[0;34m\u001b[0m\u001b[0;34m\u001b[0m\u001b[0m\n",
            "\u001b[0;31mValueError\u001b[0m: in user code:\n\n    /usr/local/lib/python3.7/dist-packages/keras/engine/training.py:1586 predict_function  *\n        return step_function(self, iterator)\n    /usr/local/lib/python3.7/dist-packages/keras/engine/training.py:1576 step_function  **\n        outputs = model.distribute_strategy.run(run_step, args=(data,))\n    /usr/local/lib/python3.7/dist-packages/tensorflow/python/distribute/distribute_lib.py:1286 run\n        return self._extended.call_for_each_replica(fn, args=args, kwargs=kwargs)\n    /usr/local/lib/python3.7/dist-packages/tensorflow/python/distribute/distribute_lib.py:2849 call_for_each_replica\n        return self._call_for_each_replica(fn, args, kwargs)\n    /usr/local/lib/python3.7/dist-packages/tensorflow/python/distribute/distribute_lib.py:3632 _call_for_each_replica\n        return fn(*args, **kwargs)\n    /usr/local/lib/python3.7/dist-packages/keras/engine/training.py:1569 run_step  **\n        outputs = model.predict_step(data)\n    /usr/local/lib/python3.7/dist-packages/keras/engine/training.py:1537 predict_step\n        return self(x, training=False)\n    /usr/local/lib/python3.7/dist-packages/keras/engine/base_layer.py:1020 __call__\n        input_spec.assert_input_compatibility(self.input_spec, inputs, self.name)\n    /usr/local/lib/python3.7/dist-packages/keras/engine/input_spec.py:254 assert_input_compatibility\n        ' but received input with shape ' + display_shape(x.shape))\n\n    ValueError: Input 0 of layer sequential_16 is incompatible with the layer: expected axis -1 of input shape to have value 3 but received input with shape (None, 1, 28, 28)\n"
          ]
        }
      ]
    },
    {
      "cell_type": "code",
      "metadata": {
        "id": "YHfXQT7RBHGS"
      },
      "source": [
        "pred_proba = \"%.2f%%\" % (pred_proba[0][pred]*100)\n",
        "print(pred[0], \" com confiança de \", pred_proba)"
      ],
      "execution_count": null,
      "outputs": []
    },
    {
      "cell_type": "code",
      "metadata": {
        "id": "ZzAJDvFfA8S0"
      },
      "source": [
        ""
      ],
      "execution_count": null,
      "outputs": []
    }
  ]
}