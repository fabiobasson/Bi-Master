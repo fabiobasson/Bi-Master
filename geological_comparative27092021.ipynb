{
  "nbformat": 4,
  "nbformat_minor": 0,
  "metadata": {
    "colab": {
      "name": "geological-image-similarity.ipynb",
      "provenance": [],
      "authorship_tag": "ABX9TyMJk3j3dTaeOev/AdUc27dL",
      "include_colab_link": true
    },
    "kernelspec": {
      "name": "python3",
      "display_name": "Python 3"
    },
    "language_info": {
      "name": "python"
    },
    "accelerator": "GPU"
  },
  "cells": [
    {
      "cell_type": "markdown",
      "metadata": {
        "id": "view-in-github",
        "colab_type": "text"
      },
      "source": [
        "<a href=\"https://colab.research.google.com/github/fabiobasson/Bi-Master/blob/main/geological_comparative27092021.ipynb\" target=\"_parent\"><img src=\"https://colab.research.google.com/assets/colab-badge.svg\" alt=\"Open In Colab\"/></a>"
      ]
    },
    {
      "cell_type": "markdown",
      "metadata": {
        "id": "ek-dpdgUwrpq"
      },
      "source": [
        "# Importações "
      ]
    },
    {
      "cell_type": "code",
      "metadata": {
        "id": "BhMpCgi7O64x"
      },
      "source": [
        "import os\n",
        "import tensorflow as tf\n",
        "from tensorflow.keras import layers\n",
        "from tensorflow.keras import Model\n",
        "from tensorflow.keras.layers import Dense, Dropout\n",
        "\n",
        "from os import getcwd\n",
        "import zipfile\n",
        "import shutil\n",
        "import numpy as np\n",
        "import glob\n",
        "import random\n",
        "import pandas as pd\n",
        "import matplotlib.pyplot as plt\n",
        "from PIL import Image\n",
        "import plotly.express as px\n",
        "import cv2 as cv\n",
        "\n",
        "from tensorflow.keras.optimizers import RMSprop, Adam\n",
        "from tensorflow.keras.applications.vgg16 import VGG16\n",
        "from tensorflow.keras.applications.inception_v3 import InceptionV3\n",
        "from tensorflow.keras.preprocessing.image import ImageDataGenerator\n",
        "\n",
        "from sklearn.metrics import confusion_matrix,accuracy_score\n",
        "from sklearn.model_selection import train_test_split"
      ],
      "execution_count": 1,
      "outputs": []
    },
    {
      "cell_type": "code",
      "metadata": {
        "colab": {
          "base_uri": "https://localhost:8080/"
        },
        "id": "ye09bw6nVWgH",
        "outputId": "e5c04548-21f8-4486-feef-e6a1941dbe23"
      },
      "source": [
        "print(tf.__version__)"
      ],
      "execution_count": 2,
      "outputs": [
        {
          "output_type": "stream",
          "name": "stdout",
          "text": [
            "2.6.0\n"
          ]
        }
      ]
    },
    {
      "cell_type": "code",
      "metadata": {
        "id": "Z6Micr83L4uy"
      },
      "source": [
        "# Instalar Tensorflow\n",
        "#!pip install tensorflow==2.6.0"
      ],
      "execution_count": 3,
      "outputs": []
    },
    {
      "cell_type": "code",
      "metadata": {
        "id": "X45KGrRTOp4S",
        "colab": {
          "base_uri": "https://localhost:8080/"
        },
        "outputId": "c9bf495e-885d-4539-997b-3f6fb5db86da"
      },
      "source": [
        "# Instalar Keras\n",
        "!pip install keras --upgrade"
      ],
      "execution_count": 4,
      "outputs": [
        {
          "output_type": "stream",
          "name": "stdout",
          "text": [
            "Requirement already satisfied: keras in /usr/local/lib/python3.7/dist-packages (2.6.0)\n"
          ]
        }
      ]
    },
    {
      "cell_type": "code",
      "metadata": {
        "id": "qB35LCwK1F9Y"
      },
      "source": [
        "# Caso precise, remover os diretorios\n",
        "\n",
        "#!rm -rf geological_similarity andesite gneiss/ marble/ quartzite/ rhyolite/ schist/"
      ],
      "execution_count": 5,
      "outputs": []
    },
    {
      "cell_type": "markdown",
      "metadata": {
        "id": "WsBJvou07fbF"
      },
      "source": [
        "# **Coleta de dados do Kaglle**"
      ]
    },
    {
      "cell_type": "code",
      "metadata": {
        "colab": {
          "resources": {
            "http://localhost:8080/nbextensions/google.colab/files.js": {
              "data": "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",
              "ok": true,
              "headers": [
                [
                  "content-type",
                  "application/javascript"
                ]
              ],
              "status": 200,
              "status_text": ""
            }
          },
          "base_uri": "https://localhost:8080/",
          "height": 89
        },
        "id": "qPW1Uceu4EkK",
        "outputId": "886f4646-290b-4940-a216-5e8184c62464"
      },
      "source": [
        "from google.colab import files\n",
        "files.upload()"
      ],
      "execution_count": 6,
      "outputs": [
        {
          "output_type": "display_data",
          "data": {
            "text/html": [
              "\n",
              "     <input type=\"file\" id=\"files-38cd749f-685c-42ca-802f-a8fe4803ae09\" name=\"files[]\" multiple disabled\n",
              "        style=\"border:none\" />\n",
              "     <output id=\"result-38cd749f-685c-42ca-802f-a8fe4803ae09\">\n",
              "      Upload widget is only available when the cell has been executed in the\n",
              "      current browser session. Please rerun this cell to enable.\n",
              "      </output>\n",
              "      <script src=\"/nbextensions/google.colab/files.js\"></script> "
            ],
            "text/plain": [
              "<IPython.core.display.HTML object>"
            ]
          },
          "metadata": {}
        },
        {
          "output_type": "stream",
          "name": "stdout",
          "text": [
            "Saving kaggle.json to kaggle.json\n"
          ]
        },
        {
          "output_type": "execute_result",
          "data": {
            "text/plain": [
              "{'kaggle.json': b'{\"username\":\"fabiobasson\",\"key\":\"d71cbfdfd23379909173204eac74cf96\"}'}"
            ]
          },
          "metadata": {},
          "execution_count": 6
        }
      ]
    },
    {
      "cell_type": "code",
      "metadata": {
        "id": "SQCTWdML4LFR"
      },
      "source": [
        "!mkdir ~/.kaggle\n",
        "!cp kaggle.json ~/.kaggle/\n",
        "!chmod 600 ~/.kaggle/kaggle.json"
      ],
      "execution_count": 7,
      "outputs": []
    },
    {
      "cell_type": "markdown",
      "metadata": {
        "id": "rte0cNVp7kgE"
      },
      "source": [
        "# **###  Download dos dados / descompactando os dados**"
      ]
    },
    {
      "cell_type": "code",
      "metadata": {
        "colab": {
          "base_uri": "https://localhost:8080/"
        },
        "id": "GvN30SNO4L1f",
        "outputId": "ad6bb980-0c36-403a-8b72-36d816df12d0"
      },
      "source": [
        "!kaggle datasets download fabiobasson/geologicalsimilarity\n",
        "! unzip -qq  geologicalsimilarity"
      ],
      "execution_count": 8,
      "outputs": [
        {
          "output_type": "stream",
          "name": "stdout",
          "text": [
            "Downloading geologicalsimilarity.zip to /content\n",
            "\r  0% 0.00/1.31M [00:00<?, ?B/s]\n",
            "\r100% 1.31M/1.31M [00:00<00:00, 43.7MB/s]\n"
          ]
        }
      ]
    },
    {
      "cell_type": "markdown",
      "metadata": {
        "id": "owY2uo8A7q5j"
      },
      "source": [
        "# ** Criação da estrutura e leitura de diretórios **"
      ]
    },
    {
      "cell_type": "code",
      "metadata": {
        "id": "QXSrUDeU4L7J",
        "colab": {
          "base_uri": "https://localhost:8080/"
        },
        "outputId": "13b350aa-1961-419b-ff3c-47665f75f8b5"
      },
      "source": [
        "andesite_dir = glob.glob('andesite/*.jpg');gneiss_dir = glob.glob('gneiss/*.jpg')\n",
        "marble_dir= glob.glob('marble/*.jpg');quartzite_dir = glob.glob('quartzite/*.jpg')\n",
        "rhyolite_dir = glob.glob('rhyolite/*.jpg');\n",
        "schist_dir = glob.glob('schist/*.jpg')\n",
        "print(len(andesite_dir));print(len(gneiss_dir)); print(len(marble_dir)); print(len(quartzite_dir));  print(len(quartzite_dir)); print(len(schist_dir))\n"
      ],
      "execution_count": 9,
      "outputs": [
        {
          "output_type": "stream",
          "name": "stdout",
          "text": [
            "230\n",
            "190\n",
            "204\n",
            "198\n",
            "198\n",
            "204\n"
          ]
        }
      ]
    },
    {
      "cell_type": "markdown",
      "metadata": {
        "id": "xL-7GOm_w3m3"
      },
      "source": [
        "# **Nomes das Classes**\n",
        "# andesite = 0  # gneiss =1 # marbler = 2 # quartzite = 3 # rhyolite = 4  # schist = 5 \n"
      ]
    },
    {
      "cell_type": "code",
      "metadata": {
        "id": "O9d3W_LswkS2"
      },
      "source": [
        "label = ['andesite','gneiss','marbler','quartzite','rhyolite','schist']\n",
        "\n",
        "#label =[0,1,2,3,4,5]"
      ],
      "execution_count": 10,
      "outputs": []
    },
    {
      "cell_type": "code",
      "metadata": {
        "colab": {
          "base_uri": "https://localhost:8080/"
        },
        "id": "wBhB6b6xi1xl",
        "outputId": "4b4024b5-8394-4d53-f4f2-2afa1d3a45aa"
      },
      "source": [
        "andesite_df=[];gneiss_df=[];marble_df=[];quartzite_df=[];rhyolite_df=[];schist_df=[]\n",
        "\n",
        "for i in andesite_dir:\n",
        "    andesite_df.append([i,label[0]])\n",
        "for j in gneiss_dir:\n",
        "   gneiss_df.append([j,label[1]])\n",
        "for l in marble_dir:\n",
        "    marble_df.append([l,label[2]])\n",
        "for m in quartzite_dir:\n",
        "    quartzite_df.append([m,label[3]])\n",
        "for n in rhyolite_dir:\n",
        "    rhyolite_df.append([n,label[4]])\n",
        "for o in schist_dir:\n",
        "    schist_df.append([o,label[5]])\n",
        "   \n",
        "df = andesite_df + gneiss_df + marble_df  + quartzite_df + rhyolite_df + schist_df\n",
        "random.shuffle(df)\n",
        "len(df)"
      ],
      "execution_count": 11,
      "outputs": [
        {
          "output_type": "execute_result",
          "data": {
            "text/plain": [
              "1218"
            ]
          },
          "metadata": {},
          "execution_count": 11
        }
      ]
    },
    {
      "cell_type": "markdown",
      "metadata": {
        "id": "iJTNl-uSVUFA"
      },
      "source": [
        "# **Criação do Dataframe**"
      ]
    },
    {
      "cell_type": "code",
      "metadata": {
        "colab": {
          "base_uri": "https://localhost:8080/",
          "height": 415
        },
        "id": "87UeiF--wzh8",
        "outputId": "b30f48c4-2b72-4a5d-f126-2f50032c5fa2"
      },
      "source": [
        "data_df = pd.DataFrame(df,columns=['path','label'])\n",
        "data_df"
      ],
      "execution_count": 12,
      "outputs": [
        {
          "output_type": "execute_result",
          "data": {
            "text/html": [
              "<div>\n",
              "<style scoped>\n",
              "    .dataframe tbody tr th:only-of-type {\n",
              "        vertical-align: middle;\n",
              "    }\n",
              "\n",
              "    .dataframe tbody tr th {\n",
              "        vertical-align: top;\n",
              "    }\n",
              "\n",
              "    .dataframe thead th {\n",
              "        text-align: right;\n",
              "    }\n",
              "</style>\n",
              "<table border=\"1\" class=\"dataframe\">\n",
              "  <thead>\n",
              "    <tr style=\"text-align: right;\">\n",
              "      <th></th>\n",
              "      <th>path</th>\n",
              "      <th>label</th>\n",
              "    </tr>\n",
              "  </thead>\n",
              "  <tbody>\n",
              "    <tr>\n",
              "      <th>0</th>\n",
              "      <td>andesite/1ZJVX.jpg</td>\n",
              "      <td>andesite</td>\n",
              "    </tr>\n",
              "    <tr>\n",
              "      <th>1</th>\n",
              "      <td>marble/1K0AW.jpg</td>\n",
              "      <td>marbler</td>\n",
              "    </tr>\n",
              "    <tr>\n",
              "      <th>2</th>\n",
              "      <td>gneiss/1CXFT.jpg</td>\n",
              "      <td>gneiss</td>\n",
              "    </tr>\n",
              "    <tr>\n",
              "      <th>3</th>\n",
              "      <td>schist/1W1F0.jpg</td>\n",
              "      <td>schist</td>\n",
              "    </tr>\n",
              "    <tr>\n",
              "      <th>4</th>\n",
              "      <td>marble/1PIJ1.jpg</td>\n",
              "      <td>marbler</td>\n",
              "    </tr>\n",
              "    <tr>\n",
              "      <th>...</th>\n",
              "      <td>...</td>\n",
              "      <td>...</td>\n",
              "    </tr>\n",
              "    <tr>\n",
              "      <th>1213</th>\n",
              "      <td>andesite/0LKQP.jpg</td>\n",
              "      <td>andesite</td>\n",
              "    </tr>\n",
              "    <tr>\n",
              "      <th>1214</th>\n",
              "      <td>schist/1K61D.jpg</td>\n",
              "      <td>schist</td>\n",
              "    </tr>\n",
              "    <tr>\n",
              "      <th>1215</th>\n",
              "      <td>schist/0PCYI.jpg</td>\n",
              "      <td>schist</td>\n",
              "    </tr>\n",
              "    <tr>\n",
              "      <th>1216</th>\n",
              "      <td>quartzite/0NYY5.jpg</td>\n",
              "      <td>quartzite</td>\n",
              "    </tr>\n",
              "    <tr>\n",
              "      <th>1217</th>\n",
              "      <td>quartzite/1VLI5.jpg</td>\n",
              "      <td>quartzite</td>\n",
              "    </tr>\n",
              "  </tbody>\n",
              "</table>\n",
              "<p>1218 rows × 2 columns</p>\n",
              "</div>"
            ],
            "text/plain": [
              "                     path      label\n",
              "0      andesite/1ZJVX.jpg   andesite\n",
              "1        marble/1K0AW.jpg    marbler\n",
              "2        gneiss/1CXFT.jpg     gneiss\n",
              "3        schist/1W1F0.jpg     schist\n",
              "4        marble/1PIJ1.jpg    marbler\n",
              "...                   ...        ...\n",
              "1213   andesite/0LKQP.jpg   andesite\n",
              "1214     schist/1K61D.jpg     schist\n",
              "1215     schist/0PCYI.jpg     schist\n",
              "1216  quartzite/0NYY5.jpg  quartzite\n",
              "1217  quartzite/1VLI5.jpg  quartzite\n",
              "\n",
              "[1218 rows x 2 columns]"
            ]
          },
          "metadata": {},
          "execution_count": 12
        }
      ]
    },
    {
      "cell_type": "markdown",
      "metadata": {
        "id": "B-ruxpGkzqHx"
      },
      "source": [
        "#  Conhecendo os dados de imagem"
      ]
    },
    {
      "cell_type": "code",
      "metadata": {
        "id": "j_QFJEd2yZMe",
        "colab": {
          "base_uri": "https://localhost:8080/",
          "height": 348
        },
        "outputId": "d37f8e88-3f5d-48cf-cd0d-c2e318d8c471"
      },
      "source": [
        "from matplotlib import image\n",
        "from matplotlib import pyplot\n",
        "# Carregando imagem como um array NumPy:\n",
        "data = image.imread(\"gneiss/0QTQE.jpg\")\n",
        "# Imprimindo as propriedades do array de pixels:\n",
        "print(data.dtype)\n",
        "print(data.shape)\n",
        "print(data.max())\n",
        "print(data.min())\n",
        "\n",
        "# Exibindo o array de pixels como uma imagem:\n",
        "pyplot.imshow(data)"
      ],
      "execution_count": 13,
      "outputs": [
        {
          "output_type": "stream",
          "name": "stdout",
          "text": [
            "uint8\n",
            "(28, 28, 3)\n",
            "251\n",
            "32\n"
          ]
        },
        {
          "output_type": "execute_result",
          "data": {
            "text/plain": [
              "<matplotlib.image.AxesImage at 0x7f1b0a4305d0>"
            ]
          },
          "metadata": {},
          "execution_count": 13
        },
        {
          "output_type": "display_data",
          "data": {
            "image/png": "[encoded data removed]",
            "text/plain": [
              "<Figure size 432x288 with 1 Axes>"
            ]
          },
          "metadata": {
            "needs_background": "light"
          }
        }
      ]
    },
    {
      "cell_type": "code",
      "metadata": {
        "id": "q0f0-HaP3cYM",
        "colab": {
          "base_uri": "https://localhost:8080/"
        },
        "outputId": "ade43da2-d8ab-4735-d47b-a35e02e9bf16"
      },
      "source": [
        "from numpy import asarray\n",
        "image = Image.open(\"gneiss/0QTQE.jpg\")\n",
        "# Método asarray para realizar a conversão:\n",
        "pixels= asarray(image)\n",
        "# Verificando a faixa de valores entre 0 e 255:\n",
        "print('Data Type: %s' % pixels.dtype)\n",
        "print('Min: %.3f, Max: %.3f' % (pixels.min(), pixels.max()))\n",
        "\n",
        "#Converte os valores inteiros em float para realizar a operação:\n",
        "pixels = pixels.astype('float32')\n",
        "# Normaliza a faixa de valores:\n",
        "pixels /= pixels.max()\n",
        "# Verificando a faixa de valores normalizada:\n",
        "print('Data Type: %s' % pixels.dtype)\n",
        "print('Min: %.3f, Max: %.3f' % (pixels.min(), pixels.max()))"
      ],
      "execution_count": 14,
      "outputs": [
        {
          "output_type": "stream",
          "name": "stdout",
          "text": [
            "Data Type: uint8\n",
            "Min: 32.000, Max: 251.000\n",
            "Data Type: float32\n",
            "Min: 0.127, Max: 1.000\n"
          ]
        }
      ]
    },
    {
      "cell_type": "markdown",
      "metadata": {
        "id": "XlUbajOTxHKl"
      },
      "source": [
        "# **Limpeza de dados**\n",
        "1 - Analisando os dados ausentes\n",
        "2 - Descartando os dados ausentes\n",
        "3 - Imputando dados\n",
        "4 - Acrescentando colunas informativas"
      ]
    },
    {
      "cell_type": "code",
      "metadata": {
        "id": "ybydrHWUvlbY",
        "colab": {
          "base_uri": "https://localhost:8080/",
          "height": 457
        },
        "outputId": "5992bef7-18ce-4227-b0f8-f58a2b9e8f94"
      },
      "source": [
        "### 1 - Analisando os dados ausentes ###\n",
        "\n",
        "import missingno as msno\n",
        "ax = msno.matrix(data_df.sample(400))"
      ],
      "execution_count": 15,
      "outputs": [
        {
          "output_type": "display_data",
          "data": {
            "image/png": "[encoded data removed]",
            "text/plain": [
              "<Figure size 1800x720 with 2 Axes>"
            ]
          },
          "metadata": {
            "needs_background": "light"
          }
        }
      ]
    },
    {
      "cell_type": "code",
      "metadata": {
        "id": "9cVvBcwVxq9s"
      },
      "source": [
        "#! pip install pandas-profiling==2.8.0\n",
        "#from pandas_profiling import ProfileReport\n",
        "#ProfileReport (data_df)"
      ],
      "execution_count": 16,
      "outputs": []
    },
    {
      "cell_type": "markdown",
      "metadata": {
        "id": "NONt2HCxWd5X"
      },
      "source": [
        "# **Separação das amostras**"
      ]
    },
    {
      "cell_type": "code",
      "metadata": {
        "id": "KBjbH7d9NUnq"
      },
      "source": [
        "X = data_df.drop(columns='label')\n",
        "y = data_df.label"
      ],
      "execution_count": 17,
      "outputs": []
    },
    {
      "cell_type": "code",
      "metadata": {
        "colab": {
          "base_uri": "https://localhost:8080/",
          "height": 415
        },
        "id": "319As8ThaNyo",
        "outputId": "e64e2fba-bc2c-481d-d158-4a13a405b745"
      },
      "source": [
        "X"
      ],
      "execution_count": 18,
      "outputs": [
        {
          "output_type": "execute_result",
          "data": {
            "text/html": [
              "<div>\n",
              "<style scoped>\n",
              "    .dataframe tbody tr th:only-of-type {\n",
              "        vertical-align: middle;\n",
              "    }\n",
              "\n",
              "    .dataframe tbody tr th {\n",
              "        vertical-align: top;\n",
              "    }\n",
              "\n",
              "    .dataframe thead th {\n",
              "        text-align: right;\n",
              "    }\n",
              "</style>\n",
              "<table border=\"1\" class=\"dataframe\">\n",
              "  <thead>\n",
              "    <tr style=\"text-align: right;\">\n",
              "      <th></th>\n",
              "      <th>path</th>\n",
              "    </tr>\n",
              "  </thead>\n",
              "  <tbody>\n",
              "    <tr>\n",
              "      <th>0</th>\n",
              "      <td>andesite/1ZJVX.jpg</td>\n",
              "    </tr>\n",
              "    <tr>\n",
              "      <th>1</th>\n",
              "      <td>marble/1K0AW.jpg</td>\n",
              "    </tr>\n",
              "    <tr>\n",
              "      <th>2</th>\n",
              "      <td>gneiss/1CXFT.jpg</td>\n",
              "    </tr>\n",
              "    <tr>\n",
              "      <th>3</th>\n",
              "      <td>schist/1W1F0.jpg</td>\n",
              "    </tr>\n",
              "    <tr>\n",
              "      <th>4</th>\n",
              "      <td>marble/1PIJ1.jpg</td>\n",
              "    </tr>\n",
              "    <tr>\n",
              "      <th>...</th>\n",
              "      <td>...</td>\n",
              "    </tr>\n",
              "    <tr>\n",
              "      <th>1213</th>\n",
              "      <td>andesite/0LKQP.jpg</td>\n",
              "    </tr>\n",
              "    <tr>\n",
              "      <th>1214</th>\n",
              "      <td>schist/1K61D.jpg</td>\n",
              "    </tr>\n",
              "    <tr>\n",
              "      <th>1215</th>\n",
              "      <td>schist/0PCYI.jpg</td>\n",
              "    </tr>\n",
              "    <tr>\n",
              "      <th>1216</th>\n",
              "      <td>quartzite/0NYY5.jpg</td>\n",
              "    </tr>\n",
              "    <tr>\n",
              "      <th>1217</th>\n",
              "      <td>quartzite/1VLI5.jpg</td>\n",
              "    </tr>\n",
              "  </tbody>\n",
              "</table>\n",
              "<p>1218 rows × 1 columns</p>\n",
              "</div>"
            ],
            "text/plain": [
              "                     path\n",
              "0      andesite/1ZJVX.jpg\n",
              "1        marble/1K0AW.jpg\n",
              "2        gneiss/1CXFT.jpg\n",
              "3        schist/1W1F0.jpg\n",
              "4        marble/1PIJ1.jpg\n",
              "...                   ...\n",
              "1213   andesite/0LKQP.jpg\n",
              "1214     schist/1K61D.jpg\n",
              "1215     schist/0PCYI.jpg\n",
              "1216  quartzite/0NYY5.jpg\n",
              "1217  quartzite/1VLI5.jpg\n",
              "\n",
              "[1218 rows x 1 columns]"
            ]
          },
          "metadata": {},
          "execution_count": 18
        }
      ]
    },
    {
      "cell_type": "markdown",
      "metadata": {
        "id": "rgLimflCWSq3"
      },
      "source": [
        "# **Explorando os dados**"
      ]
    },
    {
      "cell_type": "markdown",
      "metadata": {
        "id": "-AAuWUVf6ocm"
      },
      "source": [
        "\n",
        "# **Type: Data Augumentation**"
      ]
    },
    {
      "cell_type": "markdown",
      "metadata": {
        "id": "G1xbq78zfV9i"
      },
      "source": [
        "## ** Esta função irá plotar as imagens num grid de 1 a 5 colunas **"
      ]
    },
    {
      "cell_type": "code",
      "metadata": {
        "id": "hjV3pOngCtA7"
      },
      "source": [
        "IMG_SHAPE = 32\n",
        "BATCH_SIZE = 32\n",
        "\n",
        "def plotImages(images_arr):\n",
        "    fig, axes = plt.subplots(1, 5, figsize=(20,20))\n",
        "    axes = axes.flatten()\n",
        "    for img, ax in zip(images_arr, axes):\n",
        "        ax.imshow(img)\n",
        "    plt.tight_layout()\n",
        "    plt.show()"
      ],
      "execution_count": 19,
      "outputs": []
    },
    {
      "cell_type": "code",
      "metadata": {
        "id": "Cw0IbS6mfdxM",
        "colab": {
          "base_uri": "https://localhost:8080/"
        },
        "outputId": "f38a7a99-05f7-478f-816f-9a9b0ff7dfee"
      },
      "source": [
        "datagen_train = ImageDataGenerator(rescale=1./255,\n",
        "                            #featurewise_center =False ,\n",
        "                            # samplewise_center =False ,\n",
        "                            # featurewise_std_normalization =False ,\n",
        "                            # samplewise_std_normalization =False ,\n",
        "                            # zca_whitening =False ,\n",
        "                            # zca_epsilon =1e -6 ,\n",
        "                            # channel_shift_range =0. ,\n",
        "                            # fill_mode = ’ nearest ’ ,\n",
        "                            # cval =0. ,\n",
        "                            rotation_range = 40,\n",
        "                            width_shift_range = 0.2,\n",
        "                            height_shift_range = 0.2,\n",
        "                            #shear_range = 0.2,\n",
        "                            #zoom_range = 0.2,\n",
        "                            horizontal_flip = True,\n",
        "                            vertical_flip = True,\n",
        "                            validation_split=0.2)\n",
        "\n",
        "train_generator = datagen_train.flow_from_dataframe(data_df,\n",
        "                                              batch_size=BATCH_SIZE,\n",
        "                                              x_col='path',\n",
        "                                              y_col= 'label',\n",
        "                                              shuffle=True,\n",
        "                                              target_size=(IMG_SHAPE,IMG_SHAPE),\n",
        "                                              #class_mode='raw',\n",
        "                                              subset='training')\n",
        "\n",
        "datagen_val = ImageDataGenerator(rescale=1./255,\n",
        "                                 validation_split=0.2 )\n",
        "\n",
        "validation_generator = datagen_val.flow_from_dataframe(data_df,\n",
        "                                                   batch_size=BATCH_SIZE,\n",
        "                                                   x_col='path',\n",
        "                                                   y_col='label',\n",
        "                                                   shuffle=True,\n",
        "                                                   target_size=(IMG_SHAPE,IMG_SHAPE),\n",
        "                                                   #class_mode='raw',\n",
        "                                                   subset='validation')    "
      ],
      "execution_count": 20,
      "outputs": [
        {
          "output_type": "stream",
          "name": "stdout",
          "text": [
            "Found 975 validated image filenames belonging to 6 classes.\n",
            "Found 243 validated image filenames belonging to 6 classes.\n"
          ]
        }
      ]
    },
    {
      "cell_type": "code",
      "metadata": {
        "id": "cf7yx4e5oR2H",
        "colab": {
          "base_uri": "https://localhost:8080/"
        },
        "outputId": "46a33cc7-2deb-4dcf-f9f7-815ac7da010a"
      },
      "source": [
        "train_generator_inceptionv3 = datagen_train.flow_from_dataframe(data_df,\n",
        "                                              batch_size=BATCH_SIZE,\n",
        "                                              x_col='path',\n",
        "                                              y_col= 'label',\n",
        "                                              shuffle=True,\n",
        "                                              target_size=(150,150),\n",
        "                                              #class_mode='raw',\n",
        "                                              subset='training')\n",
        "\n",
        "\n",
        "validation_generator_inceptionv3 = datagen_val.flow_from_dataframe(data_df,\n",
        "                                                   batch_size=BATCH_SIZE,\n",
        "                                                   x_col='path',\n",
        "                                                   y_col='label',\n",
        "                                                   shuffle=True,\n",
        "                                                   target_size=(150,150),\n",
        "                                                   #class_mode='raw',\n",
        "                                                   subset='validation')  "
      ],
      "execution_count": 66,
      "outputs": [
        {
          "output_type": "stream",
          "name": "stdout",
          "text": [
            "Found 975 validated image filenames belonging to 6 classes.\n",
            "Found 243 validated image filenames belonging to 6 classes.\n"
          ]
        }
      ]
    },
    {
      "cell_type": "code",
      "metadata": {
        "colab": {
          "base_uri": "https://localhost:8080/"
        },
        "id": "Pgigt3S3Z6-V",
        "outputId": "5cc320d7-8d0d-4e39-b163-114ffd8e8b2b"
      },
      "source": [
        "datagen_test = ImageDataGenerator(rescale=1./255,\n",
        "                                  )\n",
        "\n",
        "test_generator = datagen_val.flow_from_dataframe(data_df,\n",
        "                                                 batch_size=BATCH_SIZE,\n",
        "                                                 x_col='path',\n",
        "                                                 y_col='label',\n",
        "                                                 shuffle=True,\n",
        "                                                 #class_mode='raw',\n",
        "                                                 target_size=(IMG_SHAPE,IMG_SHAPE))                                                   "
      ],
      "execution_count": 22,
      "outputs": [
        {
          "output_type": "stream",
          "name": "stdout",
          "text": [
            "Found 1218 validated image filenames belonging to 6 classes.\n"
          ]
        }
      ]
    },
    {
      "cell_type": "code",
      "metadata": {
        "colab": {
          "base_uri": "https://localhost:8080/",
          "height": 226
        },
        "id": "ShN0CzElfd9R",
        "outputId": "ae3c07d7-99c8-48fa-c032-269948fa3042"
      },
      "source": [
        "augmented_images = [train_generator[0][0][0] for i in range(5)]\n",
        "plotImages(augmented_images)"
      ],
      "execution_count": 23,
      "outputs": [
        {
          "output_type": "display_data",
          "data": {
            "image/png": "[encoded data removed]",
            "text/plain": [
              "<Figure size 1440x1440 with 5 Axes>"
            ]
          },
          "metadata": {
            "needs_background": "light"
          }
        }
      ]
    },
    {
      "cell_type": "markdown",
      "metadata": {
        "id": "UIPXX6y48mV-"
      },
      "source": [
        "# **Criando o Dataframe em dados de treino, validação e teste**"
      ]
    },
    {
      "cell_type": "code",
      "metadata": {
        "id": "397pKysWejrc"
      },
      "source": [
        "X_train, y_train = next(train_generator)\n",
        "X_val, y_val = next(validation_generator)\n",
        "X_test, y_test = next(test_generator)"
      ],
      "execution_count": 24,
      "outputs": []
    },
    {
      "cell_type": "code",
      "metadata": {
        "colab": {
          "base_uri": "https://localhost:8080/"
        },
        "id": "s1Rh9KNLEXqO",
        "outputId": "7beddd1b-4d98-42d6-c3f7-42362947034c"
      },
      "source": [
        "X_test.shape"
      ],
      "execution_count": 25,
      "outputs": [
        {
          "output_type": "execute_result",
          "data": {
            "text/plain": [
              "(32, 32, 32, 3)"
            ]
          },
          "metadata": {},
          "execution_count": 25
        }
      ]
    },
    {
      "cell_type": "markdown",
      "metadata": {
        "id": "dXm8LYqv0_vK"
      },
      "source": [
        "# **Criar o modelo**"
      ]
    },
    {
      "cell_type": "code",
      "metadata": {
        "id": "ncctBTCAgG7d"
      },
      "source": [
        "classes = 6\n",
        "\n",
        "model = tf.keras.models.Sequential([\n",
        "    tf.keras.layers.Conv2D(32, (3,3), activation='relu', input_shape=(32, 32,3)),\n",
        "    tf.keras.layers.BatchNormalization(),\n",
        "    tf.keras.layers.MaxPooling2D(2, 2),\n",
        "\n",
        "    tf.keras.layers.Conv2D(64, (3,3), activation='relu'),\n",
        "    tf.keras.layers.MaxPooling2D(2,2),\n",
        "\n",
        "    tf.keras.layers.Conv2D(128, (3,3), activation='relu'),\n",
        "    tf.keras.layers.MaxPooling2D(2,2),\n",
        "   \n",
        "\n",
        "    tf.keras.layers.Flatten(),\n",
        "    tf.keras.layers.Dense(512, activation='relu'),\n",
        "    tf.keras.layers.Dropout(0.5),\n",
        "    tf.keras.layers.Dense(6, activation='softmax')\n",
        "   \n",
        "])"
      ],
      "execution_count": 26,
      "outputs": []
    },
    {
      "cell_type": "markdown",
      "metadata": {
        "id": "cQvF_-VrbIhO"
      },
      "source": [
        "# **Compilando o Modelo**"
      ]
    },
    {
      "cell_type": "code",
      "metadata": {
        "id": "tseOThp5bLVl",
        "colab": {
          "base_uri": "https://localhost:8080/"
        },
        "outputId": "79596590-f055-4156-a5d6-6b710ecb048e"
      },
      "source": [
        "model.compile(optimizer = Adam(learning_rate=0.0001), \n",
        "               loss = 'categorical_crossentropy', \n",
        "               metrics =['accuracy'])\n",
        "model.summary()  "
      ],
      "execution_count": 27,
      "outputs": [
        {
          "output_type": "stream",
          "name": "stdout",
          "text": [
            "Model: \"sequential\"\n",
            "_________________________________________________________________\n",
            "Layer (type)                 Output Shape              Param #   \n",
            "=================================================================\n",
            "conv2d (Conv2D)              (None, 30, 30, 32)        896       \n",
            "_________________________________________________________________\n",
            "batch_normalization (BatchNo (None, 30, 30, 32)        128       \n",
            "_________________________________________________________________\n",
            "max_pooling2d (MaxPooling2D) (None, 15, 15, 32)        0         \n",
            "_________________________________________________________________\n",
            "conv2d_1 (Conv2D)            (None, 13, 13, 64)        18496     \n",
            "_________________________________________________________________\n",
            "max_pooling2d_1 (MaxPooling2 (None, 6, 6, 64)          0         \n",
            "_________________________________________________________________\n",
            "conv2d_2 (Conv2D)            (None, 4, 4, 128)         73856     \n",
            "_________________________________________________________________\n",
            "max_pooling2d_2 (MaxPooling2 (None, 2, 2, 128)         0         \n",
            "_________________________________________________________________\n",
            "flatten (Flatten)            (None, 512)               0         \n",
            "_________________________________________________________________\n",
            "dense (Dense)                (None, 512)               262656    \n",
            "_________________________________________________________________\n",
            "dropout (Dropout)            (None, 512)               0         \n",
            "_________________________________________________________________\n",
            "dense_1 (Dense)              (None, 6)                 3078      \n",
            "=================================================================\n",
            "Total params: 359,110\n",
            "Trainable params: 359,046\n",
            "Non-trainable params: 64\n",
            "_________________________________________________________________\n"
          ]
        }
      ]
    },
    {
      "cell_type": "code",
      "metadata": {
        "id": "9Sr0YDZ8dCmz"
      },
      "source": [
        "callbacks_list = [\n",
        "    tf.keras.callbacks.ReduceLROnPlateau(factor=0.5,\n",
        "                                         patience=4,\n",
        "                                         verbose=0),\n",
        "    tf.keras.callbacks.EarlyStopping(\n",
        "        monitor=\"accuracy\",\n",
        "        patience=12,\n",
        "        restore_best_weights=True,\n",
        "    ),\n",
        "    tf.keras.callbacks.ModelCheckpoint(\n",
        "        filepath='best_model.h5',\n",
        "        monitor=\"val_accuracy\",\n",
        "        save_best_only=True,\n",
        "    ),\n",
        "\n",
        "]"
      ],
      "execution_count": 28,
      "outputs": []
    },
    {
      "cell_type": "markdown",
      "metadata": {
        "id": "IhQyiWIh1HQs"
      },
      "source": [
        "# **Avaliar o modelo**"
      ]
    },
    {
      "cell_type": "code",
      "metadata": {
        "id": "cwpnwl86dm74",
        "colab": {
          "base_uri": "https://localhost:8080/"
        },
        "outputId": "b43ede52-fd09-4872-aa75-23312cf79992"
      },
      "source": [
        "epochs=100\n",
        "history = model.fit(train_generator,\n",
        "                               epochs=epochs,\n",
        "                               #verbose=0,\n",
        "                               callbacks=callbacks_list, \n",
        "                               #validation_split=0.2,\n",
        "                               #class_weight=class_weight_,\n",
        "                               workers=4,\n",
        "                               use_multiprocessing=True,\n",
        "                               validation_data=validation_generator)"
      ],
      "execution_count": 29,
      "outputs": [
        {
          "output_type": "stream",
          "name": "stdout",
          "text": [
            "Epoch 1/100\n",
            "31/31 [==============================] - 34s 57ms/step - loss: 1.4641 - accuracy: 0.4031 - val_loss: 1.7580 - val_accuracy: 0.1440\n",
            "Epoch 2/100\n",
            "31/31 [==============================] - 2s 51ms/step - loss: 0.9792 - accuracy: 0.6400 - val_loss: 1.6954 - val_accuracy: 0.1811\n",
            "Epoch 3/100\n",
            "31/31 [==============================] - 2s 45ms/step - loss: 0.7305 - accuracy: 0.7231 - val_loss: 1.5882 - val_accuracy: 0.3333\n",
            "Epoch 4/100\n",
            "31/31 [==============================] - 2s 55ms/step - loss: 0.6244 - accuracy: 0.7518 - val_loss: 1.4928 - val_accuracy: 0.4691\n",
            "Epoch 5/100\n",
            "31/31 [==============================] - 2s 53ms/step - loss: 0.5855 - accuracy: 0.7764 - val_loss: 1.4040 - val_accuracy: 0.5761\n",
            "Epoch 6/100\n",
            "31/31 [==============================] - 2s 52ms/step - loss: 0.5003 - accuracy: 0.7969 - val_loss: 1.3020 - val_accuracy: 0.6132\n",
            "Epoch 7/100\n",
            "31/31 [==============================] - 2s 53ms/step - loss: 0.5001 - accuracy: 0.8000 - val_loss: 1.2034 - val_accuracy: 0.6502\n",
            "Epoch 8/100\n",
            "31/31 [==============================] - 2s 44ms/step - loss: 0.4950 - accuracy: 0.8144 - val_loss: 1.0904 - val_accuracy: 0.7202\n",
            "Epoch 9/100\n",
            "31/31 [==============================] - 2s 53ms/step - loss: 0.4391 - accuracy: 0.8338 - val_loss: 1.0391 - val_accuracy: 0.7078\n",
            "Epoch 10/100\n",
            "31/31 [==============================] - 2s 50ms/step - loss: 0.4343 - accuracy: 0.8338 - val_loss: 0.9211 - val_accuracy: 0.7572\n",
            "Epoch 11/100\n",
            "31/31 [==============================] - 2s 46ms/step - loss: 0.3800 - accuracy: 0.8656 - val_loss: 0.8036 - val_accuracy: 0.8313\n",
            "Epoch 12/100\n",
            "31/31 [==============================] - 2s 47ms/step - loss: 0.3785 - accuracy: 0.8605 - val_loss: 0.7227 - val_accuracy: 0.8066\n",
            "Epoch 13/100\n",
            "31/31 [==============================] - 2s 56ms/step - loss: 0.3807 - accuracy: 0.8656 - val_loss: 0.6347 - val_accuracy: 0.8354\n",
            "Epoch 14/100\n",
            "31/31 [==============================] - 2s 58ms/step - loss: 0.3400 - accuracy: 0.8677 - val_loss: 0.5728 - val_accuracy: 0.8354\n",
            "Epoch 15/100\n",
            "31/31 [==============================] - 2s 53ms/step - loss: 0.3614 - accuracy: 0.8728 - val_loss: 0.5034 - val_accuracy: 0.8807\n",
            "Epoch 16/100\n",
            "31/31 [==============================] - 2s 47ms/step - loss: 0.3712 - accuracy: 0.8564 - val_loss: 0.4569 - val_accuracy: 0.8765\n",
            "Epoch 17/100\n",
            "31/31 [==============================] - 2s 46ms/step - loss: 0.3396 - accuracy: 0.8728 - val_loss: 0.4136 - val_accuracy: 0.8724\n",
            "Epoch 18/100\n",
            "31/31 [==============================] - 2s 54ms/step - loss: 0.3266 - accuracy: 0.8841 - val_loss: 0.3968 - val_accuracy: 0.8477\n",
            "Epoch 19/100\n",
            "31/31 [==============================] - 2s 59ms/step - loss: 0.3334 - accuracy: 0.8656 - val_loss: 0.3539 - val_accuracy: 0.8642\n",
            "Epoch 20/100\n",
            "31/31 [==============================] - 2s 48ms/step - loss: 0.3088 - accuracy: 0.8872 - val_loss: 0.3369 - val_accuracy: 0.8724\n",
            "Epoch 21/100\n",
            "31/31 [==============================] - 2s 56ms/step - loss: 0.3456 - accuracy: 0.8677 - val_loss: 0.3262 - val_accuracy: 0.8601\n",
            "Epoch 22/100\n",
            "31/31 [==============================] - 2s 53ms/step - loss: 0.3120 - accuracy: 0.8872 - val_loss: 0.3121 - val_accuracy: 0.8848\n",
            "Epoch 23/100\n",
            "31/31 [==============================] - 2s 52ms/step - loss: 0.3108 - accuracy: 0.8851 - val_loss: 0.2880 - val_accuracy: 0.8765\n",
            "Epoch 24/100\n",
            "31/31 [==============================] - 2s 51ms/step - loss: 0.2866 - accuracy: 0.8933 - val_loss: 0.2942 - val_accuracy: 0.9012\n",
            "Epoch 25/100\n",
            "31/31 [==============================] - 2s 52ms/step - loss: 0.2777 - accuracy: 0.8954 - val_loss: 0.2486 - val_accuracy: 0.9177\n",
            "Epoch 26/100\n",
            "31/31 [==============================] - 2s 51ms/step - loss: 0.2616 - accuracy: 0.8974 - val_loss: 0.3088 - val_accuracy: 0.8765\n",
            "Epoch 27/100\n",
            "31/31 [==============================] - 2s 44ms/step - loss: 0.2705 - accuracy: 0.8985 - val_loss: 0.3380 - val_accuracy: 0.8807\n",
            "Epoch 28/100\n",
            "31/31 [==============================] - 2s 57ms/step - loss: 0.2796 - accuracy: 0.9015 - val_loss: 0.3421 - val_accuracy: 0.8765\n",
            "Epoch 29/100\n",
            "31/31 [==============================] - 2s 47ms/step - loss: 0.2732 - accuracy: 0.8985 - val_loss: 0.2932 - val_accuracy: 0.8724\n",
            "Epoch 30/100\n",
            "31/31 [==============================] - 2s 55ms/step - loss: 0.2625 - accuracy: 0.9097 - val_loss: 0.2797 - val_accuracy: 0.8971\n",
            "Epoch 31/100\n",
            "31/31 [==============================] - 2s 54ms/step - loss: 0.2163 - accuracy: 0.9272 - val_loss: 0.2451 - val_accuracy: 0.9218\n",
            "Epoch 32/100\n",
            "31/31 [==============================] - 2s 47ms/step - loss: 0.2484 - accuracy: 0.9128 - val_loss: 0.3273 - val_accuracy: 0.8971\n",
            "Epoch 33/100\n",
            "31/31 [==============================] - 2s 48ms/step - loss: 0.2358 - accuracy: 0.9221 - val_loss: 0.2883 - val_accuracy: 0.9053\n",
            "Epoch 34/100\n",
            "31/31 [==============================] - 2s 62ms/step - loss: 0.2564 - accuracy: 0.9108 - val_loss: 0.2318 - val_accuracy: 0.9259\n",
            "Epoch 35/100\n",
            "31/31 [==============================] - 2s 57ms/step - loss: 0.2188 - accuracy: 0.9282 - val_loss: 0.2508 - val_accuracy: 0.9259\n",
            "Epoch 36/100\n",
            "31/31 [==============================] - 2s 53ms/step - loss: 0.2261 - accuracy: 0.9169 - val_loss: 0.2537 - val_accuracy: 0.9177\n",
            "Epoch 37/100\n",
            "31/31 [==============================] - 2s 57ms/step - loss: 0.2491 - accuracy: 0.9077 - val_loss: 0.2467 - val_accuracy: 0.9300\n",
            "Epoch 38/100\n",
            "31/31 [==============================] - 2s 50ms/step - loss: 0.2429 - accuracy: 0.9210 - val_loss: 0.2829 - val_accuracy: 0.9095\n",
            "Epoch 39/100\n",
            "31/31 [==============================] - 2s 52ms/step - loss: 0.2479 - accuracy: 0.9108 - val_loss: 0.2292 - val_accuracy: 0.9218\n",
            "Epoch 40/100\n",
            "31/31 [==============================] - 2s 55ms/step - loss: 0.2172 - accuracy: 0.9149 - val_loss: 0.2345 - val_accuracy: 0.9136\n",
            "Epoch 41/100\n",
            "31/31 [==============================] - 2s 58ms/step - loss: 0.2433 - accuracy: 0.9108 - val_loss: 0.2553 - val_accuracy: 0.9177\n",
            "Epoch 42/100\n",
            "31/31 [==============================] - 2s 56ms/step - loss: 0.2425 - accuracy: 0.9138 - val_loss: 0.2341 - val_accuracy: 0.9218\n",
            "Epoch 43/100\n",
            "31/31 [==============================] - 2s 47ms/step - loss: 0.2329 - accuracy: 0.9118 - val_loss: 0.2353 - val_accuracy: 0.9177\n",
            "Epoch 44/100\n",
            "31/31 [==============================] - 2s 47ms/step - loss: 0.2266 - accuracy: 0.9210 - val_loss: 0.2445 - val_accuracy: 0.9177\n",
            "Epoch 45/100\n",
            "31/31 [==============================] - 2s 54ms/step - loss: 0.2070 - accuracy: 0.9221 - val_loss: 0.2502 - val_accuracy: 0.9177\n",
            "Epoch 46/100\n",
            "31/31 [==============================] - 2s 56ms/step - loss: 0.2217 - accuracy: 0.9190 - val_loss: 0.2514 - val_accuracy: 0.9177\n",
            "Epoch 47/100\n",
            "31/31 [==============================] - 2s 57ms/step - loss: 0.2367 - accuracy: 0.9056 - val_loss: 0.2421 - val_accuracy: 0.9177\n"
          ]
        }
      ]
    },
    {
      "cell_type": "markdown",
      "metadata": {
        "id": "fXZP7HCxqpbS"
      },
      "source": [
        "**Deixe-nos representar graficamente a Precisão do treinamento versus perda para obter uma melhor compreensão do treinamento do modelo.**"
      ]
    },
    {
      "cell_type": "code",
      "metadata": {
        "colab": {
          "base_uri": "https://localhost:8080/",
          "height": 328
        },
        "id": "r2RLRG0mqfsv",
        "outputId": "0811693b-5998-47f3-99a3-506c3775730a"
      },
      "source": [
        "plt.figure(figsize=(10, 10))\n",
        "\n",
        "plt.subplot(2, 2, 1)\n",
        "plt.plot(history.history['loss'], label='Loss')\n",
        "plt.plot(history.history['val_loss'], label='Validation Loss')\n",
        "plt.legend()\n",
        "plt.title('Training - Loss Function')\n",
        "\n",
        "plt.subplot(2, 2, 2)\n",
        "plt.plot(history.history['accuracy'], label='Accuracy')\n",
        "plt.plot(history.history['val_accuracy'], label='Validation Accuracy')\n",
        "plt.legend()\n",
        "plt.title('Train - Accuracy')"
      ],
      "execution_count": 30,
      "outputs": [
        {
          "output_type": "execute_result",
          "data": {
            "text/plain": [
              "Text(0.5, 1.0, 'Train - Accuracy')"
            ]
          },
          "metadata": {},
          "execution_count": 30
        },
        {
          "output_type": "display_data",
          "data": {
            "image/png": "[encoded data removed]",
            "text/plain": [
              "<Figure size 720x720 with 2 Axes>"
            ]
          },
          "metadata": {
            "needs_background": "light"
          }
        }
      ]
    },
    {
      "cell_type": "markdown",
      "metadata": {
        "id": "D6gvFi_nY4NB"
      },
      "source": [
        "\n",
        "# **Vamos traçar a precisão do treinamento e da validação, bem como a perda.** "
      ]
    },
    {
      "cell_type": "code",
      "metadata": {
        "id": "HvI5gCDM5Djb",
        "colab": {
          "base_uri": "https://localhost:8080/",
          "height": 545
        },
        "outputId": "64ded5d5-ac3f-4a98-df40-01614c1011ab"
      },
      "source": [
        "%matplotlib inline\n",
        "import matplotlib.pyplot as plt\n",
        "acc = history.history['accuracy']\n",
        "val_acc = history.history['val_accuracy']\n",
        "loss = history.history['loss']\n",
        "val_loss = history.history['val_loss']\n",
        "\n",
        "epochs = range(len(acc))\n",
        "\n",
        "plt.plot(epochs, acc, 'r', label='Training accuracy')\n",
        "plt.plot(epochs, val_acc, 'b', label='Validation accuracy')\n",
        "plt.title('Training and validation accuracy')\n",
        "plt.legend(loc=0)\n",
        "plt.figure()\n",
        "\n",
        "plt.plot(epochs, loss, 'r', label='Training Loss')\n",
        "plt.plot(epochs, val_loss, 'b', label='Validation Loss')\n",
        "plt.title('Training and validation loss')\n",
        "plt.legend()\n",
        "\n",
        "plt.show()"
      ],
      "execution_count": 31,
      "outputs": [
        {
          "output_type": "display_data",
          "data": {
            "image/png": "[encoded data removed]",
            "text/plain": [
              "<Figure size 432x288 with 1 Axes>"
            ]
          },
          "metadata": {
            "needs_background": "light"
          }
        },
        {
          "output_type": "display_data",
          "data": {
            "image/png": "[encoded data removed]",
            "text/plain": [
              "<Figure size 432x288 with 1 Axes>"
            ]
          },
          "metadata": {
            "needs_background": "light"
          }
        }
      ]
    },
    {
      "cell_type": "code",
      "metadata": {
        "colab": {
          "base_uri": "https://localhost:8080/",
          "height": 542
        },
        "id": "IMJbJ4iT8f4x",
        "outputId": "7fc7df65-59da-4354-8940-1e617c0aefa3"
      },
      "source": [
        "history2= model.history.history\n",
        "px.line(history2,title = \"Metrics Plot\")"
      ],
      "execution_count": 32,
      "outputs": [
        {
          "output_type": "display_data",
          "data": {
            "text/html": [
              "<html>\n",
              "<head><meta charset=\"utf-8\" /></head>\n",
              "<body>\n",
              "    <div>\n",
              "            <script src=\"https://cdnjs.cloudflare.com/ajax/libs/mathjax/2.7.5/MathJax.js?config=TeX-AMS-MML_SVG\"></script><script type=\"text/javascript\">if (window.MathJax) {MathJax.Hub.Config({SVG: {font: \"STIX-Web\"}});}</script>\n",
              "                <script type=\"text/javascript\">window.PlotlyConfig = {MathJaxConfig: 'local'};</script>\n",
              "        <script src=\"https://cdn.plot.ly/plotly-latest.min.js\"></script>    \n",
              "            <div id=\"3209185b-c006-4bfb-a958-a565428ebbff\" class=\"plotly-graph-div\" style=\"height:525px; width:100%;\"></div>\n",
              "            <script type=\"text/javascript\">\n",
              "                \n",
              "                    window.PLOTLYENV=window.PLOTLYENV || {};\n",
              "                    \n",
              "                if (document.getElementById(\"3209185b-c006-4bfb-a958-a565428ebbff\")) {\n",
              "                    Plotly.newPlot(\n",
              "                        '3209185b-c006-4bfb-a958-a565428ebbff',\n",
              "                        [],\n",
              "                        {\"legend\": {\"tracegroupgap\": 0}, \"template\": {\"data\": {\"bar\": [{\"error_x\": {\"color\": \"#2a3f5f\"}, \"error_y\": {\"color\": \"#2a3f5f\"}, \"marker\": {\"line\": {\"color\": \"#E5ECF6\", \"width\": 0.5}}, \"type\": \"bar\"}], \"barpolar\": [{\"marker\": {\"line\": {\"color\": \"#E5ECF6\", \"width\": 0.5}}, \"type\": \"barpolar\"}], \"carpet\": [{\"aaxis\": {\"endlinecolor\": \"#2a3f5f\", \"gridcolor\": \"white\", \"linecolor\": \"white\", \"minorgridcolor\": \"white\", \"startlinecolor\": \"#2a3f5f\"}, \"baxis\": {\"endlinecolor\": \"#2a3f5f\", \"gridcolor\": \"white\", \"linecolor\": \"white\", \"minorgridcolor\": \"white\", \"startlinecolor\": \"#2a3f5f\"}, \"type\": \"carpet\"}], \"choropleth\": [{\"colorbar\": {\"outlinewidth\": 0, \"ticks\": \"\"}, \"type\": \"choropleth\"}], \"contour\": [{\"colorbar\": {\"outlinewidth\": 0, \"ticks\": \"\"}, \"colorscale\": [[0.0, \"#0d0887\"], [0.1111111111111111, \"#46039f\"], [0.2222222222222222, \"#7201a8\"], [0.3333333333333333, \"#9c179e\"], [0.4444444444444444, \"#bd3786\"], [0.5555555555555556, \"#d8576b\"], [0.6666666666666666, \"#ed7953\"], [0.7777777777777778, \"#fb9f3a\"], [0.8888888888888888, \"#fdca26\"], [1.0, \"#f0f921\"]], \"type\": \"contour\"}], \"contourcarpet\": [{\"colorbar\": {\"outlinewidth\": 0, \"ticks\": \"\"}, \"type\": \"contourcarpet\"}], \"heatmap\": [{\"colorbar\": {\"outlinewidth\": 0, \"ticks\": \"\"}, \"colorscale\": [[0.0, \"#0d0887\"], [0.1111111111111111, \"#46039f\"], [0.2222222222222222, \"#7201a8\"], [0.3333333333333333, \"#9c179e\"], [0.4444444444444444, \"#bd3786\"], [0.5555555555555556, \"#d8576b\"], [0.6666666666666666, \"#ed7953\"], [0.7777777777777778, \"#fb9f3a\"], [0.8888888888888888, \"#fdca26\"], [1.0, \"#f0f921\"]], \"type\": \"heatmap\"}], \"heatmapgl\": [{\"colorbar\": {\"outlinewidth\": 0, \"ticks\": \"\"}, \"colorscale\": [[0.0, \"#0d0887\"], [0.1111111111111111, \"#46039f\"], [0.2222222222222222, \"#7201a8\"], [0.3333333333333333, \"#9c179e\"], [0.4444444444444444, \"#bd3786\"], [0.5555555555555556, \"#d8576b\"], [0.6666666666666666, \"#ed7953\"], [0.7777777777777778, \"#fb9f3a\"], [0.8888888888888888, \"#fdca26\"], [1.0, \"#f0f921\"]], \"type\": \"heatmapgl\"}], \"histogram\": [{\"marker\": {\"colorbar\": {\"outlinewidth\": 0, \"ticks\": \"\"}}, \"type\": \"histogram\"}], \"histogram2d\": [{\"colorbar\": {\"outlinewidth\": 0, \"ticks\": \"\"}, \"colorscale\": [[0.0, \"#0d0887\"], [0.1111111111111111, \"#46039f\"], [0.2222222222222222, \"#7201a8\"], [0.3333333333333333, \"#9c179e\"], [0.4444444444444444, \"#bd3786\"], [0.5555555555555556, \"#d8576b\"], [0.6666666666666666, \"#ed7953\"], [0.7777777777777778, \"#fb9f3a\"], [0.8888888888888888, \"#fdca26\"], [1.0, \"#f0f921\"]], \"type\": \"histogram2d\"}], \"histogram2dcontour\": [{\"colorbar\": {\"outlinewidth\": 0, \"ticks\": \"\"}, \"colorscale\": [[0.0, \"#0d0887\"], [0.1111111111111111, \"#46039f\"], [0.2222222222222222, \"#7201a8\"], [0.3333333333333333, \"#9c179e\"], [0.4444444444444444, \"#bd3786\"], [0.5555555555555556, \"#d8576b\"], [0.6666666666666666, \"#ed7953\"], [0.7777777777777778, \"#fb9f3a\"], [0.8888888888888888, \"#fdca26\"], [1.0, \"#f0f921\"]], \"type\": \"histogram2dcontour\"}], \"mesh3d\": [{\"colorbar\": {\"outlinewidth\": 0, \"ticks\": \"\"}, \"type\": \"mesh3d\"}], \"parcoords\": [{\"line\": {\"colorbar\": {\"outlinewidth\": 0, \"ticks\": \"\"}}, \"type\": \"parcoords\"}], \"pie\": [{\"automargin\": true, \"type\": \"pie\"}], \"scatter\": [{\"marker\": {\"colorbar\": {\"outlinewidth\": 0, \"ticks\": \"\"}}, \"type\": \"scatter\"}], \"scatter3d\": [{\"line\": {\"colorbar\": {\"outlinewidth\": 0, \"ticks\": \"\"}}, \"marker\": {\"colorbar\": {\"outlinewidth\": 0, \"ticks\": \"\"}}, \"type\": \"scatter3d\"}], \"scattercarpet\": [{\"marker\": {\"colorbar\": {\"outlinewidth\": 0, \"ticks\": \"\"}}, \"type\": \"scattercarpet\"}], \"scattergeo\": [{\"marker\": {\"colorbar\": {\"outlinewidth\": 0, \"ticks\": \"\"}}, \"type\": \"scattergeo\"}], \"scattergl\": [{\"marker\": {\"colorbar\": {\"outlinewidth\": 0, \"ticks\": \"\"}}, \"type\": \"scattergl\"}], \"scattermapbox\": [{\"marker\": {\"colorbar\": {\"outlinewidth\": 0, \"ticks\": \"\"}}, \"type\": \"scattermapbox\"}], \"scatterpolar\": [{\"marker\": {\"colorbar\": {\"outlinewidth\": 0, \"ticks\": \"\"}}, \"type\": \"scatterpolar\"}], \"scatterpolargl\": [{\"marker\": {\"colorbar\": {\"outlinewidth\": 0, \"ticks\": \"\"}}, \"type\": \"scatterpolargl\"}], \"scatterternary\": [{\"marker\": {\"colorbar\": {\"outlinewidth\": 0, \"ticks\": \"\"}}, \"type\": \"scatterternary\"}], \"surface\": [{\"colorbar\": {\"outlinewidth\": 0, \"ticks\": \"\"}, \"colorscale\": [[0.0, \"#0d0887\"], [0.1111111111111111, \"#46039f\"], [0.2222222222222222, \"#7201a8\"], [0.3333333333333333, \"#9c179e\"], [0.4444444444444444, \"#bd3786\"], [0.5555555555555556, \"#d8576b\"], [0.6666666666666666, \"#ed7953\"], [0.7777777777777778, \"#fb9f3a\"], [0.8888888888888888, \"#fdca26\"], [1.0, \"#f0f921\"]], \"type\": \"surface\"}], \"table\": [{\"cells\": {\"fill\": {\"color\": \"#EBF0F8\"}, \"line\": {\"color\": \"white\"}}, \"header\": {\"fill\": {\"color\": \"#C8D4E3\"}, \"line\": {\"color\": \"white\"}}, \"type\": \"table\"}]}, \"layout\": {\"annotationdefaults\": {\"arrowcolor\": \"#2a3f5f\", \"arrowhead\": 0, \"arrowwidth\": 1}, \"coloraxis\": {\"colorbar\": {\"outlinewidth\": 0, \"ticks\": \"\"}}, \"colorscale\": {\"diverging\": [[0, \"#8e0152\"], [0.1, \"#c51b7d\"], [0.2, \"#de77ae\"], [0.3, \"#f1b6da\"], [0.4, \"#fde0ef\"], [0.5, \"#f7f7f7\"], [0.6, \"#e6f5d0\"], [0.7, \"#b8e186\"], [0.8, \"#7fbc41\"], [0.9, \"#4d9221\"], [1, \"#276419\"]], \"sequential\": [[0.0, \"#0d0887\"], [0.1111111111111111, \"#46039f\"], [0.2222222222222222, \"#7201a8\"], [0.3333333333333333, \"#9c179e\"], [0.4444444444444444, \"#bd3786\"], [0.5555555555555556, \"#d8576b\"], [0.6666666666666666, \"#ed7953\"], [0.7777777777777778, \"#fb9f3a\"], [0.8888888888888888, \"#fdca26\"], [1.0, \"#f0f921\"]], \"sequentialminus\": [[0.0, \"#0d0887\"], [0.1111111111111111, \"#46039f\"], [0.2222222222222222, \"#7201a8\"], [0.3333333333333333, \"#9c179e\"], [0.4444444444444444, \"#bd3786\"], [0.5555555555555556, \"#d8576b\"], [0.6666666666666666, \"#ed7953\"], [0.7777777777777778, \"#fb9f3a\"], [0.8888888888888888, \"#fdca26\"], [1.0, \"#f0f921\"]]}, \"colorway\": [\"#636efa\", \"#EF553B\", \"#00cc96\", \"#ab63fa\", \"#FFA15A\", \"#19d3f3\", \"#FF6692\", \"#B6E880\", \"#FF97FF\", \"#FECB52\"], \"font\": {\"color\": \"#2a3f5f\"}, \"geo\": {\"bgcolor\": \"white\", \"lakecolor\": \"white\", \"landcolor\": \"#E5ECF6\", \"showlakes\": true, \"showland\": true, \"subunitcolor\": \"white\"}, \"hoverlabel\": {\"align\": \"left\"}, \"hovermode\": \"closest\", \"mapbox\": {\"style\": \"light\"}, \"paper_bgcolor\": \"white\", \"plot_bgcolor\": \"#E5ECF6\", \"polar\": {\"angularaxis\": {\"gridcolor\": \"white\", \"linecolor\": \"white\", \"ticks\": \"\"}, \"bgcolor\": \"#E5ECF6\", \"radialaxis\": {\"gridcolor\": \"white\", \"linecolor\": \"white\", \"ticks\": \"\"}}, \"scene\": {\"xaxis\": {\"backgroundcolor\": \"#E5ECF6\", \"gridcolor\": \"white\", \"gridwidth\": 2, \"linecolor\": \"white\", \"showbackground\": true, \"ticks\": \"\", \"zerolinecolor\": \"white\"}, \"yaxis\": {\"backgroundcolor\": \"#E5ECF6\", \"gridcolor\": \"white\", \"gridwidth\": 2, \"linecolor\": \"white\", \"showbackground\": true, \"ticks\": \"\", \"zerolinecolor\": \"white\"}, \"zaxis\": {\"backgroundcolor\": \"#E5ECF6\", \"gridcolor\": \"white\", \"gridwidth\": 2, \"linecolor\": \"white\", \"showbackground\": true, \"ticks\": \"\", \"zerolinecolor\": \"white\"}}, \"shapedefaults\": {\"line\": {\"color\": \"#2a3f5f\"}}, \"ternary\": {\"aaxis\": {\"gridcolor\": \"white\", \"linecolor\": \"white\", \"ticks\": \"\"}, \"baxis\": {\"gridcolor\": \"white\", \"linecolor\": \"white\", \"ticks\": \"\"}, \"bgcolor\": \"#E5ECF6\", \"caxis\": {\"gridcolor\": \"white\", \"linecolor\": \"white\", \"ticks\": \"\"}}, \"title\": {\"x\": 0.05}, \"xaxis\": {\"automargin\": true, \"gridcolor\": \"white\", \"linecolor\": \"white\", \"ticks\": \"\", \"title\": {\"standoff\": 15}, \"zerolinecolor\": \"white\", \"zerolinewidth\": 2}, \"yaxis\": {\"automargin\": true, \"gridcolor\": \"white\", \"linecolor\": \"white\", \"ticks\": \"\", \"title\": {\"standoff\": 15}, \"zerolinecolor\": \"white\", \"zerolinewidth\": 2}}}, \"title\": {\"text\": \"Metrics Plot\"}, \"xaxis\": {\"anchor\": \"y\", \"domain\": [0.0, 1.0]}, \"yaxis\": {\"anchor\": \"x\", \"domain\": [0.0, 1.0]}},\n",
              "                        {\"responsive\": true}\n",
              "                    ).then(function(){\n",
              "                            \n",
              "var gd = document.getElementById('3209185b-c006-4bfb-a958-a565428ebbff');\n",
              "var x = new MutationObserver(function (mutations, observer) {{\n",
              "        var display = window.getComputedStyle(gd).display;\n",
              "        if (!display || display === 'none') {{\n",
              "            console.log([gd, 'removed!']);\n",
              "            Plotly.purge(gd);\n",
              "            observer.disconnect();\n",
              "        }}\n",
              "}});\n",
              "\n",
              "// Listen for the removal of the full notebook cells\n",
              "var notebookContainer = gd.closest('#notebook-container');\n",
              "if (notebookContainer) {{\n",
              "    x.observe(notebookContainer, {childList: true});\n",
              "}}\n",
              "\n",
              "// Listen for the clearing of the current output cell\n",
              "var outputEl = gd.closest('.output');\n",
              "if (outputEl) {{\n",
              "    x.observe(outputEl, {childList: true});\n",
              "}}\n",
              "\n",
              "                        })\n",
              "                };\n",
              "                \n",
              "            </script>\n",
              "        </div>\n",
              "</body>\n",
              "</html>"
            ]
          },
          "metadata": {}
        }
      ]
    },
    {
      "cell_type": "markdown",
      "metadata": {
        "id": "0G-slWFQ1KwJ"
      },
      "source": [
        "# **Otimizar o modelo**"
      ]
    },
    {
      "cell_type": "markdown",
      "metadata": {
        "id": "SukGrdFNTMWX"
      },
      "source": [
        "# **Avaliar acurácia  do Modelo**"
      ]
    },
    {
      "cell_type": "code",
      "metadata": {
        "id": "jHX9PR5gTQZA",
        "colab": {
          "base_uri": "https://localhost:8080/"
        },
        "outputId": "16e1198d-ea9c-4012-d0b3-f0ed68be933e"
      },
      "source": [
        "model = tf.keras.models.load_model(\"best_model.h5\")\n",
        "\n",
        "test_loss, test_acc= model.evaluate(X_test,y_test)\n",
        "print(\"validation_accuracy: \" + str(test_acc))"
      ],
      "execution_count": 33,
      "outputs": [
        {
          "output_type": "stream",
          "name": "stdout",
          "text": [
            "1/1 [==============================] - 0s 189ms/step - loss: 0.3834 - accuracy: 0.9062\n",
            "validation_accuracy: 0.90625\n"
          ]
        }
      ]
    },
    {
      "cell_type": "markdown",
      "metadata": {
        "id": "WPvlnHQyjENH"
      },
      "source": [
        "# **Listando as redes realmente disponíveis em seu Keras**"
      ]
    },
    {
      "cell_type": "code",
      "metadata": {
        "colab": {
          "base_uri": "https://localhost:8080/"
        },
        "id": "r7rGxnabi9t2",
        "outputId": "fa64e28c-68f2-43a4-e2e3-55fe7773e0c3"
      },
      "source": [
        "import tensorflow.keras.applications as app\n",
        "print(dir(app))"
      ],
      "execution_count": 34,
      "outputs": [
        {
          "output_type": "stream",
          "name": "stdout",
          "text": [
            "['DenseNet121', 'DenseNet169', 'DenseNet201', 'EfficientNetB0', 'EfficientNetB1', 'EfficientNetB2', 'EfficientNetB3', 'EfficientNetB4', 'EfficientNetB5', 'EfficientNetB6', 'EfficientNetB7', 'InceptionResNetV2', 'InceptionV3', 'MobileNet', 'MobileNetV2', 'MobileNetV3Large', 'MobileNetV3Small', 'NASNetLarge', 'NASNetMobile', 'ResNet101', 'ResNet101V2', 'ResNet152', 'ResNet152V2', 'ResNet50', 'ResNet50V2', 'VGG16', 'VGG19', 'Xception', '__builtins__', '__cached__', '__doc__', '__file__', '__loader__', '__name__', '__package__', '__path__', '__spec__', '_sys', 'densenet', 'efficientnet', 'imagenet_utils', 'inception_resnet_v2', 'inception_v3', 'mobilenet', 'mobilenet_v2', 'mobilenet_v3', 'nasnet', 'resnet', 'resnet50', 'resnet_v2', 'vgg16', 'vgg19', 'xception']\n"
          ]
        }
      ]
    },
    {
      "cell_type": "markdown",
      "metadata": {
        "id": "whuxIzeCjLba"
      },
      "source": [
        "# **O Modelo pre treinado VGG16**"
      ]
    },
    {
      "cell_type": "code",
      "metadata": {
        "id": "J5ri8TgbjjcD",
        "colab": {
          "base_uri": "https://localhost:8080/"
        },
        "outputId": "d2842071-7cb7-4155-a598-9fab652c6368"
      },
      "source": [
        "# Inicializar a CNN\n",
        "classifier = VGG16(include_top=False, input_shape=(32, 32, 3)) # Minimo de shape que o VGG16 aceita\n",
        "\n",
        "# marcar camadas como não treináveis\n",
        "for layer in classifier.layers:\n",
        "    layer.trainable = False\n",
        "\n",
        "# adicionar novas camadas para classificação\n",
        "flat1 = tf.keras.layers.Flatten()(classifier.layers[-1].output)\n",
        "class1 = Dense(512, activation='relu', kernel_initializer='he_uniform')(flat1)\n",
        "output = Dense(6, activation='softmax')(class1)\n",
        "\n",
        "# definir o modelo\n",
        "modelvgg16 = Model(inputs=classifier.inputs, outputs=output)\n",
        "\n",
        "modelvgg16.summary()"
      ],
      "execution_count": 35,
      "outputs": [
        {
          "output_type": "stream",
          "name": "stdout",
          "text": [
            "Downloading data from https://storage.googleapis.com/tensorflow/keras-applications/vgg16/vgg16_weights_tf_dim_ordering_tf_kernels_notop.h5\n",
            "58892288/58889256 [==============================] - 1s 0us/step\n",
            "58900480/58889256 [==============================] - 1s 0us/step\n",
            "Model: \"model\"\n",
            "_________________________________________________________________\n",
            "Layer (type)                 Output Shape              Param #   \n",
            "=================================================================\n",
            "input_1 (InputLayer)         [(None, 32, 32, 3)]       0         \n",
            "_________________________________________________________________\n",
            "block1_conv1 (Conv2D)        (None, 32, 32, 64)        1792      \n",
            "_________________________________________________________________\n",
            "block1_conv2 (Conv2D)        (None, 32, 32, 64)        36928     \n",
            "_________________________________________________________________\n",
            "block1_pool (MaxPooling2D)   (None, 16, 16, 64)        0         \n",
            "_________________________________________________________________\n",
            "block2_conv1 (Conv2D)        (None, 16, 16, 128)       73856     \n",
            "_________________________________________________________________\n",
            "block2_conv2 (Conv2D)        (None, 16, 16, 128)       147584    \n",
            "_________________________________________________________________\n",
            "block2_pool (MaxPooling2D)   (None, 8, 8, 128)         0         \n",
            "_________________________________________________________________\n",
            "block3_conv1 (Conv2D)        (None, 8, 8, 256)         295168    \n",
            "_________________________________________________________________\n",
            "block3_conv2 (Conv2D)        (None, 8, 8, 256)         590080    \n",
            "_________________________________________________________________\n",
            "block3_conv3 (Conv2D)        (None, 8, 8, 256)         590080    \n",
            "_________________________________________________________________\n",
            "block3_pool (MaxPooling2D)   (None, 4, 4, 256)         0         \n",
            "_________________________________________________________________\n",
            "block4_conv1 (Conv2D)        (None, 4, 4, 512)         1180160   \n",
            "_________________________________________________________________\n",
            "block4_conv2 (Conv2D)        (None, 4, 4, 512)         2359808   \n",
            "_________________________________________________________________\n",
            "block4_conv3 (Conv2D)        (None, 4, 4, 512)         2359808   \n",
            "_________________________________________________________________\n",
            "block4_pool (MaxPooling2D)   (None, 2, 2, 512)         0         \n",
            "_________________________________________________________________\n",
            "block5_conv1 (Conv2D)        (None, 2, 2, 512)         2359808   \n",
            "_________________________________________________________________\n",
            "block5_conv2 (Conv2D)        (None, 2, 2, 512)         2359808   \n",
            "_________________________________________________________________\n",
            "block5_conv3 (Conv2D)        (None, 2, 2, 512)         2359808   \n",
            "_________________________________________________________________\n",
            "block5_pool (MaxPooling2D)   (None, 1, 1, 512)         0         \n",
            "_________________________________________________________________\n",
            "flatten_1 (Flatten)          (None, 512)               0         \n",
            "_________________________________________________________________\n",
            "dense_2 (Dense)              (None, 512)               262656    \n",
            "_________________________________________________________________\n",
            "dense_3 (Dense)              (None, 6)                 3078      \n",
            "=================================================================\n",
            "Total params: 14,980,422\n",
            "Trainable params: 265,734\n",
            "Non-trainable params: 14,714,688\n",
            "_________________________________________________________________\n"
          ]
        }
      ]
    },
    {
      "cell_type": "code",
      "metadata": {
        "id": "wvbEuAEuQxLI"
      },
      "source": [
        "modelvgg16.compile(optimizer = Adam(learning_rate=0.0001), \n",
        "               loss = 'categorical_crossentropy', \n",
        "               metrics =['accuracy'])  \n",
        "\n",
        "callbacksvgg16 = [\n",
        "    tf.keras.callbacks.ReduceLROnPlateau(factor=0.5,\n",
        "                                         patience=4,\n",
        "                                         verbose=0),\n",
        "    tf.keras.callbacks.EarlyStopping(\n",
        "        monitor=\"accuracy\",\n",
        "        patience=12,\n",
        "        restore_best_weights=True,\n",
        "    ),\n",
        "    tf.keras.callbacks.ModelCheckpoint(\n",
        "        filepath='feature_extraction.vgg16',\n",
        "        save_best_only=True,\n",
        "        monitor=\"val_accuracy\",\n",
        "    ),\n",
        "\n",
        "]\n"
      ],
      "execution_count": 36,
      "outputs": []
    },
    {
      "cell_type": "code",
      "metadata": {
        "id": "Q49JsEYskH6B",
        "colab": {
          "base_uri": "https://localhost:8080/"
        },
        "outputId": "ce273761-3856-47a4-afe8-faa2ad094999"
      },
      "source": [
        "epochs=100\n",
        "historyvgg16 = modelvgg16.fit(train_generator,\n",
        "                         steps_per_epoch = 975/32,\n",
        "                          epochs=epochs,\n",
        "                          callbacks=callbacksvgg16,\n",
        "                          #validation_steps = 2000/32,\n",
        "                          validation_data=validation_generator)"
      ],
      "execution_count": 37,
      "outputs": [
        {
          "output_type": "stream",
          "name": "stdout",
          "text": [
            "Epoch 1/100\n",
            "30/30 [==============================] - 4s 80ms/step - loss: 1.7188 - accuracy: 0.3744 - val_loss: 1.4281 - val_accuracy: 0.6667\n",
            "INFO:tensorflow:Assets written to: feature_extraction.vgg16/assets\n",
            "Epoch 2/100\n",
            "30/30 [==============================] - 2s 50ms/step - loss: 1.3426 - accuracy: 0.6256 - val_loss: 1.1222 - val_accuracy: 0.7284\n",
            "INFO:tensorflow:Assets written to: feature_extraction.vgg16/assets\n",
            "Epoch 3/100\n",
            "30/30 [==============================] - 2s 51ms/step - loss: 1.1165 - accuracy: 0.6903 - val_loss: 0.9369 - val_accuracy: 0.7572\n",
            "INFO:tensorflow:Assets written to: feature_extraction.vgg16/assets\n",
            "Epoch 4/100\n",
            "30/30 [==============================] - 2s 49ms/step - loss: 0.9698 - accuracy: 0.6800 - val_loss: 0.8274 - val_accuracy: 0.7984\n",
            "INFO:tensorflow:Assets written to: feature_extraction.vgg16/assets\n",
            "Epoch 5/100\n",
            "30/30 [==============================] - 2s 50ms/step - loss: 0.8704 - accuracy: 0.7323 - val_loss: 0.7378 - val_accuracy: 0.7901\n",
            "Epoch 6/100\n",
            "30/30 [==============================] - 1s 47ms/step - loss: 0.8073 - accuracy: 0.7467 - val_loss: 0.6847 - val_accuracy: 0.8230\n",
            "INFO:tensorflow:Assets written to: feature_extraction.vgg16/assets\n",
            "Epoch 7/100\n",
            "30/30 [==============================] - 1s 48ms/step - loss: 0.7508 - accuracy: 0.7692 - val_loss: 0.6412 - val_accuracy: 0.8272\n",
            "INFO:tensorflow:Assets written to: feature_extraction.vgg16/assets\n",
            "Epoch 8/100\n",
            "30/30 [==============================] - 1s 49ms/step - loss: 0.7252 - accuracy: 0.7692 - val_loss: 0.6074 - val_accuracy: 0.8066\n",
            "Epoch 9/100\n",
            "30/30 [==============================] - 1s 47ms/step - loss: 0.6843 - accuracy: 0.7713 - val_loss: 0.5803 - val_accuracy: 0.8436\n",
            "INFO:tensorflow:Assets written to: feature_extraction.vgg16/assets\n",
            "Epoch 10/100\n",
            "30/30 [==============================] - 1s 49ms/step - loss: 0.6475 - accuracy: 0.7928 - val_loss: 0.5627 - val_accuracy: 0.8189\n",
            "Epoch 11/100\n",
            "30/30 [==============================] - 1s 48ms/step - loss: 0.6297 - accuracy: 0.7897 - val_loss: 0.5441 - val_accuracy: 0.8642\n",
            "INFO:tensorflow:Assets written to: feature_extraction.vgg16/assets\n",
            "Epoch 12/100\n",
            "30/30 [==============================] - 1s 48ms/step - loss: 0.6118 - accuracy: 0.7990 - val_loss: 0.5222 - val_accuracy: 0.8601\n",
            "Epoch 13/100\n",
            "30/30 [==============================] - 1s 47ms/step - loss: 0.6004 - accuracy: 0.7979 - val_loss: 0.5026 - val_accuracy: 0.8683\n",
            "INFO:tensorflow:Assets written to: feature_extraction.vgg16/assets\n",
            "Epoch 14/100\n",
            "30/30 [==============================] - 2s 50ms/step - loss: 0.5680 - accuracy: 0.8236 - val_loss: 0.4903 - val_accuracy: 0.8765\n",
            "INFO:tensorflow:Assets written to: feature_extraction.vgg16/assets\n",
            "Epoch 15/100\n",
            "30/30 [==============================] - 2s 53ms/step - loss: 0.5420 - accuracy: 0.8267 - val_loss: 0.4829 - val_accuracy: 0.8724\n",
            "Epoch 16/100\n",
            "30/30 [==============================] - 2s 51ms/step - loss: 0.5433 - accuracy: 0.8092 - val_loss: 0.4687 - val_accuracy: 0.8848\n",
            "INFO:tensorflow:Assets written to: feature_extraction.vgg16/assets\n",
            "Epoch 17/100\n",
            "30/30 [==============================] - 2s 53ms/step - loss: 0.5217 - accuracy: 0.8369 - val_loss: 0.4611 - val_accuracy: 0.8683\n",
            "Epoch 18/100\n",
            "30/30 [==============================] - 2s 50ms/step - loss: 0.5207 - accuracy: 0.8267 - val_loss: 0.4474 - val_accuracy: 0.8930\n",
            "INFO:tensorflow:Assets written to: feature_extraction.vgg16/assets\n",
            "Epoch 19/100\n",
            "30/30 [==============================] - 2s 50ms/step - loss: 0.5128 - accuracy: 0.8297 - val_loss: 0.4413 - val_accuracy: 0.9012\n",
            "INFO:tensorflow:Assets written to: feature_extraction.vgg16/assets\n",
            "Epoch 20/100\n",
            "30/30 [==============================] - 2s 51ms/step - loss: 0.5101 - accuracy: 0.8297 - val_loss: 0.4347 - val_accuracy: 0.8930\n",
            "Epoch 21/100\n",
            "30/30 [==============================] - 1s 48ms/step - loss: 0.4860 - accuracy: 0.8462 - val_loss: 0.4240 - val_accuracy: 0.9012\n",
            "Epoch 22/100\n",
            "30/30 [==============================] - 1s 48ms/step - loss: 0.4623 - accuracy: 0.8574 - val_loss: 0.4199 - val_accuracy: 0.8889\n",
            "Epoch 23/100\n",
            "30/30 [==============================] - 1s 47ms/step - loss: 0.4734 - accuracy: 0.8492 - val_loss: 0.4165 - val_accuracy: 0.8807\n",
            "Epoch 24/100\n",
            "30/30 [==============================] - 1s 48ms/step - loss: 0.4406 - accuracy: 0.8646 - val_loss: 0.4012 - val_accuracy: 0.9177\n",
            "INFO:tensorflow:Assets written to: feature_extraction.vgg16/assets\n",
            "Epoch 25/100\n",
            "30/30 [==============================] - 1s 48ms/step - loss: 0.4441 - accuracy: 0.8615 - val_loss: 0.3983 - val_accuracy: 0.9177\n",
            "Epoch 26/100\n",
            "30/30 [==============================] - 1s 47ms/step - loss: 0.4370 - accuracy: 0.8574 - val_loss: 0.3968 - val_accuracy: 0.9053\n",
            "Epoch 27/100\n",
            "30/30 [==============================] - 1s 47ms/step - loss: 0.4267 - accuracy: 0.8636 - val_loss: 0.3886 - val_accuracy: 0.9218\n",
            "INFO:tensorflow:Assets written to: feature_extraction.vgg16/assets\n",
            "Epoch 28/100\n",
            "30/30 [==============================] - 1s 48ms/step - loss: 0.4255 - accuracy: 0.8656 - val_loss: 0.3848 - val_accuracy: 0.9136\n",
            "Epoch 29/100\n",
            "30/30 [==============================] - 1s 47ms/step - loss: 0.4065 - accuracy: 0.8708 - val_loss: 0.3798 - val_accuracy: 0.9218\n",
            "Epoch 30/100\n",
            "30/30 [==============================] - 1s 47ms/step - loss: 0.4267 - accuracy: 0.8605 - val_loss: 0.3744 - val_accuracy: 0.9177\n",
            "Epoch 31/100\n",
            "30/30 [==============================] - 1s 47ms/step - loss: 0.4004 - accuracy: 0.8728 - val_loss: 0.3767 - val_accuracy: 0.8930\n",
            "Epoch 32/100\n",
            "30/30 [==============================] - 1s 48ms/step - loss: 0.4025 - accuracy: 0.8718 - val_loss: 0.3665 - val_accuracy: 0.9177\n",
            "Epoch 33/100\n",
            "30/30 [==============================] - 1s 47ms/step - loss: 0.3887 - accuracy: 0.8697 - val_loss: 0.3671 - val_accuracy: 0.9218\n",
            "Epoch 34/100\n",
            "30/30 [==============================] - 1s 47ms/step - loss: 0.3830 - accuracy: 0.8759 - val_loss: 0.3605 - val_accuracy: 0.9177\n",
            "Epoch 35/100\n",
            "30/30 [==============================] - 1s 46ms/step - loss: 0.3878 - accuracy: 0.8687 - val_loss: 0.3654 - val_accuracy: 0.9095\n",
            "Epoch 36/100\n",
            "30/30 [==============================] - 1s 48ms/step - loss: 0.3839 - accuracy: 0.8759 - val_loss: 0.3596 - val_accuracy: 0.9012\n",
            "Epoch 37/100\n",
            "30/30 [==============================] - 1s 47ms/step - loss: 0.3865 - accuracy: 0.8718 - val_loss: 0.3584 - val_accuracy: 0.9177\n",
            "Epoch 38/100\n",
            "30/30 [==============================] - 2s 49ms/step - loss: 0.3776 - accuracy: 0.8687 - val_loss: 0.3615 - val_accuracy: 0.9012\n",
            "Epoch 39/100\n",
            "30/30 [==============================] - 1s 48ms/step - loss: 0.3681 - accuracy: 0.8821 - val_loss: 0.3518 - val_accuracy: 0.9136\n",
            "Epoch 40/100\n",
            "30/30 [==============================] - 2s 50ms/step - loss: 0.3544 - accuracy: 0.8841 - val_loss: 0.3503 - val_accuracy: 0.9012\n",
            "Epoch 41/100\n",
            "30/30 [==============================] - 1s 49ms/step - loss: 0.3617 - accuracy: 0.8841 - val_loss: 0.3477 - val_accuracy: 0.8971\n",
            "Epoch 42/100\n",
            "30/30 [==============================] - 1s 49ms/step - loss: 0.3404 - accuracy: 0.8954 - val_loss: 0.3501 - val_accuracy: 0.9095\n",
            "Epoch 43/100\n",
            "30/30 [==============================] - 2s 50ms/step - loss: 0.3451 - accuracy: 0.8903 - val_loss: 0.3483 - val_accuracy: 0.8971\n",
            "Epoch 44/100\n",
            "30/30 [==============================] - 1s 49ms/step - loss: 0.3356 - accuracy: 0.8964 - val_loss: 0.3421 - val_accuracy: 0.9136\n",
            "Epoch 45/100\n",
            "30/30 [==============================] - 1s 48ms/step - loss: 0.3471 - accuracy: 0.8862 - val_loss: 0.3385 - val_accuracy: 0.9095\n",
            "Epoch 46/100\n",
            "30/30 [==============================] - 1s 49ms/step - loss: 0.3297 - accuracy: 0.8933 - val_loss: 0.3357 - val_accuracy: 0.9095\n",
            "Epoch 47/100\n",
            "30/30 [==============================] - 1s 49ms/step - loss: 0.3314 - accuracy: 0.8964 - val_loss: 0.3425 - val_accuracy: 0.9095\n",
            "Epoch 48/100\n",
            "30/30 [==============================] - 1s 49ms/step - loss: 0.3375 - accuracy: 0.8862 - val_loss: 0.3374 - val_accuracy: 0.9095\n",
            "Epoch 49/100\n",
            "30/30 [==============================] - 1s 48ms/step - loss: 0.3560 - accuracy: 0.8851 - val_loss: 0.3388 - val_accuracy: 0.8848\n",
            "Epoch 50/100\n",
            "30/30 [==============================] - 1s 46ms/step - loss: 0.3193 - accuracy: 0.8872 - val_loss: 0.3355 - val_accuracy: 0.9095\n",
            "Epoch 51/100\n",
            "30/30 [==============================] - 1s 47ms/step - loss: 0.3181 - accuracy: 0.8995 - val_loss: 0.3411 - val_accuracy: 0.8930\n",
            "Epoch 52/100\n",
            "30/30 [==============================] - 1s 47ms/step - loss: 0.3139 - accuracy: 0.8974 - val_loss: 0.3332 - val_accuracy: 0.8971\n",
            "Epoch 53/100\n",
            "30/30 [==============================] - 1s 47ms/step - loss: 0.3338 - accuracy: 0.8903 - val_loss: 0.3281 - val_accuracy: 0.9053\n",
            "Epoch 54/100\n",
            "30/30 [==============================] - 1s 48ms/step - loss: 0.3301 - accuracy: 0.8913 - val_loss: 0.3272 - val_accuracy: 0.8971\n",
            "Epoch 55/100\n",
            "30/30 [==============================] - 1s 47ms/step - loss: 0.3305 - accuracy: 0.8851 - val_loss: 0.3267 - val_accuracy: 0.9095\n",
            "Epoch 56/100\n",
            "30/30 [==============================] - 1s 49ms/step - loss: 0.2997 - accuracy: 0.8944 - val_loss: 0.3226 - val_accuracy: 0.9095\n",
            "Epoch 57/100\n",
            "30/30 [==============================] - 1s 48ms/step - loss: 0.3254 - accuracy: 0.8810 - val_loss: 0.3248 - val_accuracy: 0.9095\n",
            "Epoch 58/100\n",
            "30/30 [==============================] - 1s 48ms/step - loss: 0.2889 - accuracy: 0.9056 - val_loss: 0.3314 - val_accuracy: 0.8889\n",
            "Epoch 59/100\n",
            "30/30 [==============================] - 1s 47ms/step - loss: 0.3104 - accuracy: 0.9015 - val_loss: 0.3253 - val_accuracy: 0.9095\n",
            "Epoch 60/100\n",
            "30/30 [==============================] - 1s 48ms/step - loss: 0.2891 - accuracy: 0.9179 - val_loss: 0.3242 - val_accuracy: 0.9053\n",
            "Epoch 61/100\n",
            "30/30 [==============================] - 1s 47ms/step - loss: 0.2883 - accuracy: 0.9077 - val_loss: 0.3206 - val_accuracy: 0.9095\n",
            "Epoch 62/100\n",
            "30/30 [==============================] - 1s 48ms/step - loss: 0.2988 - accuracy: 0.8933 - val_loss: 0.3180 - val_accuracy: 0.9095\n",
            "Epoch 63/100\n",
            "30/30 [==============================] - 1s 47ms/step - loss: 0.2954 - accuracy: 0.8985 - val_loss: 0.3216 - val_accuracy: 0.9095\n",
            "Epoch 64/100\n",
            "30/30 [==============================] - 1s 48ms/step - loss: 0.2881 - accuracy: 0.8995 - val_loss: 0.3207 - val_accuracy: 0.9012\n",
            "Epoch 65/100\n",
            "30/30 [==============================] - 1s 48ms/step - loss: 0.3100 - accuracy: 0.8974 - val_loss: 0.3180 - val_accuracy: 0.9095\n",
            "Epoch 66/100\n",
            "30/30 [==============================] - 1s 47ms/step - loss: 0.3042 - accuracy: 0.8995 - val_loss: 0.3207 - val_accuracy: 0.8971\n",
            "Epoch 67/100\n",
            "30/30 [==============================] - 1s 48ms/step - loss: 0.3007 - accuracy: 0.8995 - val_loss: 0.3169 - val_accuracy: 0.9053\n",
            "Epoch 68/100\n",
            "30/30 [==============================] - 1s 48ms/step - loss: 0.2931 - accuracy: 0.9026 - val_loss: 0.3171 - val_accuracy: 0.9012\n",
            "Epoch 69/100\n",
            "30/30 [==============================] - 1s 49ms/step - loss: 0.2951 - accuracy: 0.8974 - val_loss: 0.3172 - val_accuracy: 0.9095\n",
            "Epoch 70/100\n",
            "30/30 [==============================] - 2s 50ms/step - loss: 0.2985 - accuracy: 0.8954 - val_loss: 0.3176 - val_accuracy: 0.9053\n",
            "Epoch 71/100\n",
            "30/30 [==============================] - 1s 49ms/step - loss: 0.2830 - accuracy: 0.9077 - val_loss: 0.3160 - val_accuracy: 0.9053\n",
            "Epoch 72/100\n",
            "30/30 [==============================] - 1s 48ms/step - loss: 0.2875 - accuracy: 0.9056 - val_loss: 0.3162 - val_accuracy: 0.9053\n"
          ]
        }
      ]
    },
    {
      "cell_type": "code",
      "metadata": {
        "colab": {
          "base_uri": "https://localhost:8080/",
          "height": 545
        },
        "id": "OzhMZWXqtWGz",
        "outputId": "a44dcf03-4367-4287-ddb4-e2bfb557868b"
      },
      "source": [
        "%matplotlib inline\n",
        "import matplotlib.pyplot as plt\n",
        "acc = historyvgg16.history['accuracy']\n",
        "val_acc = historyvgg16.history['val_accuracy']\n",
        "loss = historyvgg16.history['loss']\n",
        "val_loss = historyvgg16.history['val_loss']\n",
        "\n",
        "epochs = range(len(acc))\n",
        "\n",
        "plt.plot(epochs, acc, 'r', label='Training accuracy')\n",
        "plt.plot(epochs, val_acc, 'b', label='Validation accuracy')\n",
        "plt.title('Training and validation accuracy')\n",
        "plt.legend(loc=0)\n",
        "plt.figure()\n",
        "\n",
        "plt.plot(epochs, loss, 'r', label='Training Loss')\n",
        "plt.plot(epochs, val_loss, 'b', label='Validation Loss')\n",
        "plt.title('Training and validation loss')\n",
        "plt.legend()\n",
        "\n",
        "plt.show()"
      ],
      "execution_count": 46,
      "outputs": [
        {
          "output_type": "display_data",
          "data": {
            "image/png": "[encoded data removed]",
            "text/plain": [
              "<Figure size 432x288 with 1 Axes>"
            ]
          },
          "metadata": {
            "needs_background": "light"
          }
        },
        {
          "output_type": "display_data",
          "data": {
            "image/png": "[encoded data removed]",
            "text/plain": [
              "<Figure size 432x288 with 1 Axes>"
            ]
          },
          "metadata": {
            "needs_background": "light"
          }
        }
      ]
    },
    {
      "cell_type": "code",
      "metadata": {
        "colab": {
          "base_uri": "https://localhost:8080/"
        },
        "id": "Usw3n8GmtmXH",
        "outputId": "d6c4d611-1085-4df7-f5d2-c47345affab9"
      },
      "source": [
        "modelvgg16 = tf.keras.models.load_model(\"feature_extraction.vgg16\")\n",
        "\n",
        "test_lossvgg16, test_accvgg16= modelvgg16.evaluate(X_test,y_test)\n",
        "print(\"validation_accuracy: \" + str(test_accvgg16))"
      ],
      "execution_count": 39,
      "outputs": [
        {
          "output_type": "stream",
          "name": "stdout",
          "text": [
            "1/1 [==============================] - 0s 254ms/step - loss: 0.4966 - accuracy: 0.7812\n",
            "validation_accuracy: 0.78125\n"
          ]
        }
      ]
    },
    {
      "cell_type": "markdown",
      "metadata": {
        "id": "sy2zkcHz6FPn"
      },
      "source": [
        "# **O modeo InceptionV3**"
      ]
    },
    {
      "cell_type": "code",
      "metadata": {
        "id": "20chtUcZ6F-F"
      },
      "source": [
        "#inception_v3 = InceptionV3(input_shape=(150, 150, 3),\n",
        "                           #weights='imagenet',\n",
        "                           #include_top=False)\n",
        "#inception_v3.trainable = False"
      ],
      "execution_count": 40,
      "outputs": []
    },
    {
      "cell_type": "code",
      "metadata": {
        "colab": {
          "base_uri": "https://localhost:8080/"
        },
        "id": "hFC6sp1q6Lct",
        "outputId": "cc4c8776-46d7-4b62-b607-ac8b091e3487"
      },
      "source": [
        "inception_v3 = InceptionV3(include_top=False, input_shape=(150, 150, 3)) # Minimo de shape que o V3 aceita é 75 x 75\n",
        "\n",
        "# marcar camadas como não treináveis\n",
        "for layer in classifier.layers:\n",
        "    layer.trainable = False\n",
        "\n",
        "flat1 = tf.keras.layers.Flatten()(inception_v3.layers[-1].output)\n",
        "class1 = Dense(512, activation='relu', kernel_initializer='he_uniform')(flat1)\n",
        "output = Dense(6, activation='softmax')(class1)\n",
        "\n",
        "#x = layers.Flatten()(inception_v3.output)\n",
        "#x = layers.BatchNormalization()(x)\n",
        "#x = layers.Dense(512,activation='relu')(x)\n",
        "#x = layers.Dropout(0.2)(x)                  \n",
        "#x = layers.Dense(6,activation='softmax')(x)           \n",
        "\n",
        "# definir o modelo\n",
        "modelinception_v3 = Model(inputs=inception_v3.inputs, outputs=output) \n",
        "\n",
        "modelinception_v3.summary()"
      ],
      "execution_count": 70,
      "outputs": [
        {
          "output_type": "stream",
          "name": "stdout",
          "text": [
            "Model: \"model_10\"\n",
            "__________________________________________________________________________________________________\n",
            "Layer (type)                    Output Shape         Param #     Connected to                     \n",
            "==================================================================================================\n",
            "input_10 (InputLayer)           [(None, 150, 150, 3) 0                                            \n",
            "__________________________________________________________________________________________________\n",
            "conv2d_755 (Conv2D)             (None, 74, 74, 32)   864         input_10[0][0]                   \n",
            "__________________________________________________________________________________________________\n",
            "batch_normalization_754 (BatchN (None, 74, 74, 32)   96          conv2d_755[0][0]                 \n",
            "__________________________________________________________________________________________________\n",
            "activation_752 (Activation)     (None, 74, 74, 32)   0           batch_normalization_754[0][0]    \n",
            "__________________________________________________________________________________________________\n",
            "conv2d_756 (Conv2D)             (None, 72, 72, 32)   9216        activation_752[0][0]             \n",
            "__________________________________________________________________________________________________\n",
            "batch_normalization_755 (BatchN (None, 72, 72, 32)   96          conv2d_756[0][0]                 \n",
            "__________________________________________________________________________________________________\n",
            "activation_753 (Activation)     (None, 72, 72, 32)   0           batch_normalization_755[0][0]    \n",
            "__________________________________________________________________________________________________\n",
            "conv2d_757 (Conv2D)             (None, 72, 72, 64)   18432       activation_753[0][0]             \n",
            "__________________________________________________________________________________________________\n",
            "batch_normalization_756 (BatchN (None, 72, 72, 64)   192         conv2d_757[0][0]                 \n",
            "__________________________________________________________________________________________________\n",
            "activation_754 (Activation)     (None, 72, 72, 64)   0           batch_normalization_756[0][0]    \n",
            "__________________________________________________________________________________________________\n",
            "max_pooling2d_35 (MaxPooling2D) (None, 35, 35, 64)   0           activation_754[0][0]             \n",
            "__________________________________________________________________________________________________\n",
            "conv2d_758 (Conv2D)             (None, 35, 35, 80)   5120        max_pooling2d_35[0][0]           \n",
            "__________________________________________________________________________________________________\n",
            "batch_normalization_757 (BatchN (None, 35, 35, 80)   240         conv2d_758[0][0]                 \n",
            "__________________________________________________________________________________________________\n",
            "activation_755 (Activation)     (None, 35, 35, 80)   0           batch_normalization_757[0][0]    \n",
            "__________________________________________________________________________________________________\n",
            "conv2d_759 (Conv2D)             (None, 33, 33, 192)  138240      activation_755[0][0]             \n",
            "__________________________________________________________________________________________________\n",
            "batch_normalization_758 (BatchN (None, 33, 33, 192)  576         conv2d_759[0][0]                 \n",
            "__________________________________________________________________________________________________\n",
            "activation_756 (Activation)     (None, 33, 33, 192)  0           batch_normalization_758[0][0]    \n",
            "__________________________________________________________________________________________________\n",
            "max_pooling2d_36 (MaxPooling2D) (None, 16, 16, 192)  0           activation_756[0][0]             \n",
            "__________________________________________________________________________________________________\n",
            "conv2d_763 (Conv2D)             (None, 16, 16, 64)   12288       max_pooling2d_36[0][0]           \n",
            "__________________________________________________________________________________________________\n",
            "batch_normalization_762 (BatchN (None, 16, 16, 64)   192         conv2d_763[0][0]                 \n",
            "__________________________________________________________________________________________________\n",
            "activation_760 (Activation)     (None, 16, 16, 64)   0           batch_normalization_762[0][0]    \n",
            "__________________________________________________________________________________________________\n",
            "conv2d_761 (Conv2D)             (None, 16, 16, 48)   9216        max_pooling2d_36[0][0]           \n",
            "__________________________________________________________________________________________________\n",
            "conv2d_764 (Conv2D)             (None, 16, 16, 96)   55296       activation_760[0][0]             \n",
            "__________________________________________________________________________________________________\n",
            "batch_normalization_760 (BatchN (None, 16, 16, 48)   144         conv2d_761[0][0]                 \n",
            "__________________________________________________________________________________________________\n",
            "batch_normalization_763 (BatchN (None, 16, 16, 96)   288         conv2d_764[0][0]                 \n",
            "__________________________________________________________________________________________________\n",
            "activation_758 (Activation)     (None, 16, 16, 48)   0           batch_normalization_760[0][0]    \n",
            "__________________________________________________________________________________________________\n",
            "activation_761 (Activation)     (None, 16, 16, 96)   0           batch_normalization_763[0][0]    \n",
            "__________________________________________________________________________________________________\n",
            "average_pooling2d_72 (AveragePo (None, 16, 16, 192)  0           max_pooling2d_36[0][0]           \n",
            "__________________________________________________________________________________________________\n",
            "conv2d_760 (Conv2D)             (None, 16, 16, 64)   12288       max_pooling2d_36[0][0]           \n",
            "__________________________________________________________________________________________________\n",
            "conv2d_762 (Conv2D)             (None, 16, 16, 64)   76800       activation_758[0][0]             \n",
            "__________________________________________________________________________________________________\n",
            "conv2d_765 (Conv2D)             (None, 16, 16, 96)   82944       activation_761[0][0]             \n",
            "__________________________________________________________________________________________________\n",
            "conv2d_766 (Conv2D)             (None, 16, 16, 32)   6144        average_pooling2d_72[0][0]       \n",
            "__________________________________________________________________________________________________\n",
            "batch_normalization_759 (BatchN (None, 16, 16, 64)   192         conv2d_760[0][0]                 \n",
            "__________________________________________________________________________________________________\n",
            "batch_normalization_761 (BatchN (None, 16, 16, 64)   192         conv2d_762[0][0]                 \n",
            "__________________________________________________________________________________________________\n",
            "batch_normalization_764 (BatchN (None, 16, 16, 96)   288         conv2d_765[0][0]                 \n",
            "__________________________________________________________________________________________________\n",
            "batch_normalization_765 (BatchN (None, 16, 16, 32)   96          conv2d_766[0][0]                 \n",
            "__________________________________________________________________________________________________\n",
            "activation_757 (Activation)     (None, 16, 16, 64)   0           batch_normalization_759[0][0]    \n",
            "__________________________________________________________________________________________________\n",
            "activation_759 (Activation)     (None, 16, 16, 64)   0           batch_normalization_761[0][0]    \n",
            "__________________________________________________________________________________________________\n",
            "activation_762 (Activation)     (None, 16, 16, 96)   0           batch_normalization_764[0][0]    \n",
            "__________________________________________________________________________________________________\n",
            "activation_763 (Activation)     (None, 16, 16, 32)   0           batch_normalization_765[0][0]    \n",
            "__________________________________________________________________________________________________\n",
            "mixed0 (Concatenate)            (None, 16, 16, 256)  0           activation_757[0][0]             \n",
            "                                                                 activation_759[0][0]             \n",
            "                                                                 activation_762[0][0]             \n",
            "                                                                 activation_763[0][0]             \n",
            "__________________________________________________________________________________________________\n",
            "conv2d_770 (Conv2D)             (None, 16, 16, 64)   16384       mixed0[0][0]                     \n",
            "__________________________________________________________________________________________________\n",
            "batch_normalization_769 (BatchN (None, 16, 16, 64)   192         conv2d_770[0][0]                 \n",
            "__________________________________________________________________________________________________\n",
            "activation_767 (Activation)     (None, 16, 16, 64)   0           batch_normalization_769[0][0]    \n",
            "__________________________________________________________________________________________________\n",
            "conv2d_768 (Conv2D)             (None, 16, 16, 48)   12288       mixed0[0][0]                     \n",
            "__________________________________________________________________________________________________\n",
            "conv2d_771 (Conv2D)             (None, 16, 16, 96)   55296       activation_767[0][0]             \n",
            "__________________________________________________________________________________________________\n",
            "batch_normalization_767 (BatchN (None, 16, 16, 48)   144         conv2d_768[0][0]                 \n",
            "__________________________________________________________________________________________________\n",
            "batch_normalization_770 (BatchN (None, 16, 16, 96)   288         conv2d_771[0][0]                 \n",
            "__________________________________________________________________________________________________\n",
            "activation_765 (Activation)     (None, 16, 16, 48)   0           batch_normalization_767[0][0]    \n",
            "__________________________________________________________________________________________________\n",
            "activation_768 (Activation)     (None, 16, 16, 96)   0           batch_normalization_770[0][0]    \n",
            "__________________________________________________________________________________________________\n",
            "average_pooling2d_73 (AveragePo (None, 16, 16, 256)  0           mixed0[0][0]                     \n",
            "__________________________________________________________________________________________________\n",
            "conv2d_767 (Conv2D)             (None, 16, 16, 64)   16384       mixed0[0][0]                     \n",
            "__________________________________________________________________________________________________\n",
            "conv2d_769 (Conv2D)             (None, 16, 16, 64)   76800       activation_765[0][0]             \n",
            "__________________________________________________________________________________________________\n",
            "conv2d_772 (Conv2D)             (None, 16, 16, 96)   82944       activation_768[0][0]             \n",
            "__________________________________________________________________________________________________\n",
            "conv2d_773 (Conv2D)             (None, 16, 16, 64)   16384       average_pooling2d_73[0][0]       \n",
            "__________________________________________________________________________________________________\n",
            "batch_normalization_766 (BatchN (None, 16, 16, 64)   192         conv2d_767[0][0]                 \n",
            "__________________________________________________________________________________________________\n",
            "batch_normalization_768 (BatchN (None, 16, 16, 64)   192         conv2d_769[0][0]                 \n",
            "__________________________________________________________________________________________________\n",
            "batch_normalization_771 (BatchN (None, 16, 16, 96)   288         conv2d_772[0][0]                 \n",
            "__________________________________________________________________________________________________\n",
            "batch_normalization_772 (BatchN (None, 16, 16, 64)   192         conv2d_773[0][0]                 \n",
            "__________________________________________________________________________________________________\n",
            "activation_764 (Activation)     (None, 16, 16, 64)   0           batch_normalization_766[0][0]    \n",
            "__________________________________________________________________________________________________\n",
            "activation_766 (Activation)     (None, 16, 16, 64)   0           batch_normalization_768[0][0]    \n",
            "__________________________________________________________________________________________________\n",
            "activation_769 (Activation)     (None, 16, 16, 96)   0           batch_normalization_771[0][0]    \n",
            "__________________________________________________________________________________________________\n",
            "activation_770 (Activation)     (None, 16, 16, 64)   0           batch_normalization_772[0][0]    \n",
            "__________________________________________________________________________________________________\n",
            "mixed1 (Concatenate)            (None, 16, 16, 288)  0           activation_764[0][0]             \n",
            "                                                                 activation_766[0][0]             \n",
            "                                                                 activation_769[0][0]             \n",
            "                                                                 activation_770[0][0]             \n",
            "__________________________________________________________________________________________________\n",
            "conv2d_777 (Conv2D)             (None, 16, 16, 64)   18432       mixed1[0][0]                     \n",
            "__________________________________________________________________________________________________\n",
            "batch_normalization_776 (BatchN (None, 16, 16, 64)   192         conv2d_777[0][0]                 \n",
            "__________________________________________________________________________________________________\n",
            "activation_774 (Activation)     (None, 16, 16, 64)   0           batch_normalization_776[0][0]    \n",
            "__________________________________________________________________________________________________\n",
            "conv2d_775 (Conv2D)             (None, 16, 16, 48)   13824       mixed1[0][0]                     \n",
            "__________________________________________________________________________________________________\n",
            "conv2d_778 (Conv2D)             (None, 16, 16, 96)   55296       activation_774[0][0]             \n",
            "__________________________________________________________________________________________________\n",
            "batch_normalization_774 (BatchN (None, 16, 16, 48)   144         conv2d_775[0][0]                 \n",
            "__________________________________________________________________________________________________\n",
            "batch_normalization_777 (BatchN (None, 16, 16, 96)   288         conv2d_778[0][0]                 \n",
            "__________________________________________________________________________________________________\n",
            "activation_772 (Activation)     (None, 16, 16, 48)   0           batch_normalization_774[0][0]    \n",
            "__________________________________________________________________________________________________\n",
            "activation_775 (Activation)     (None, 16, 16, 96)   0           batch_normalization_777[0][0]    \n",
            "__________________________________________________________________________________________________\n",
            "average_pooling2d_74 (AveragePo (None, 16, 16, 288)  0           mixed1[0][0]                     \n",
            "__________________________________________________________________________________________________\n",
            "conv2d_774 (Conv2D)             (None, 16, 16, 64)   18432       mixed1[0][0]                     \n",
            "__________________________________________________________________________________________________\n",
            "conv2d_776 (Conv2D)             (None, 16, 16, 64)   76800       activation_772[0][0]             \n",
            "__________________________________________________________________________________________________\n",
            "conv2d_779 (Conv2D)             (None, 16, 16, 96)   82944       activation_775[0][0]             \n",
            "__________________________________________________________________________________________________\n",
            "conv2d_780 (Conv2D)             (None, 16, 16, 64)   18432       average_pooling2d_74[0][0]       \n",
            "__________________________________________________________________________________________________\n",
            "batch_normalization_773 (BatchN (None, 16, 16, 64)   192         conv2d_774[0][0]                 \n",
            "__________________________________________________________________________________________________\n",
            "batch_normalization_775 (BatchN (None, 16, 16, 64)   192         conv2d_776[0][0]                 \n",
            "__________________________________________________________________________________________________\n",
            "batch_normalization_778 (BatchN (None, 16, 16, 96)   288         conv2d_779[0][0]                 \n",
            "__________________________________________________________________________________________________\n",
            "batch_normalization_779 (BatchN (None, 16, 16, 64)   192         conv2d_780[0][0]                 \n",
            "__________________________________________________________________________________________________\n",
            "activation_771 (Activation)     (None, 16, 16, 64)   0           batch_normalization_773[0][0]    \n",
            "__________________________________________________________________________________________________\n",
            "activation_773 (Activation)     (None, 16, 16, 64)   0           batch_normalization_775[0][0]    \n",
            "__________________________________________________________________________________________________\n",
            "activation_776 (Activation)     (None, 16, 16, 96)   0           batch_normalization_778[0][0]    \n",
            "__________________________________________________________________________________________________\n",
            "activation_777 (Activation)     (None, 16, 16, 64)   0           batch_normalization_779[0][0]    \n",
            "__________________________________________________________________________________________________\n",
            "mixed2 (Concatenate)            (None, 16, 16, 288)  0           activation_771[0][0]             \n",
            "                                                                 activation_773[0][0]             \n",
            "                                                                 activation_776[0][0]             \n",
            "                                                                 activation_777[0][0]             \n",
            "__________________________________________________________________________________________________\n",
            "conv2d_782 (Conv2D)             (None, 16, 16, 64)   18432       mixed2[0][0]                     \n",
            "__________________________________________________________________________________________________\n",
            "batch_normalization_781 (BatchN (None, 16, 16, 64)   192         conv2d_782[0][0]                 \n",
            "__________________________________________________________________________________________________\n",
            "activation_779 (Activation)     (None, 16, 16, 64)   0           batch_normalization_781[0][0]    \n",
            "__________________________________________________________________________________________________\n",
            "conv2d_783 (Conv2D)             (None, 16, 16, 96)   55296       activation_779[0][0]             \n",
            "__________________________________________________________________________________________________\n",
            "batch_normalization_782 (BatchN (None, 16, 16, 96)   288         conv2d_783[0][0]                 \n",
            "__________________________________________________________________________________________________\n",
            "activation_780 (Activation)     (None, 16, 16, 96)   0           batch_normalization_782[0][0]    \n",
            "__________________________________________________________________________________________________\n",
            "conv2d_781 (Conv2D)             (None, 7, 7, 384)    995328      mixed2[0][0]                     \n",
            "__________________________________________________________________________________________________\n",
            "conv2d_784 (Conv2D)             (None, 7, 7, 96)     82944       activation_780[0][0]             \n",
            "__________________________________________________________________________________________________\n",
            "batch_normalization_780 (BatchN (None, 7, 7, 384)    1152        conv2d_781[0][0]                 \n",
            "__________________________________________________________________________________________________\n",
            "batch_normalization_783 (BatchN (None, 7, 7, 96)     288         conv2d_784[0][0]                 \n",
            "__________________________________________________________________________________________________\n",
            "activation_778 (Activation)     (None, 7, 7, 384)    0           batch_normalization_780[0][0]    \n",
            "__________________________________________________________________________________________________\n",
            "activation_781 (Activation)     (None, 7, 7, 96)     0           batch_normalization_783[0][0]    \n",
            "__________________________________________________________________________________________________\n",
            "max_pooling2d_37 (MaxPooling2D) (None, 7, 7, 288)    0           mixed2[0][0]                     \n",
            "__________________________________________________________________________________________________\n",
            "mixed3 (Concatenate)            (None, 7, 7, 768)    0           activation_778[0][0]             \n",
            "                                                                 activation_781[0][0]             \n",
            "                                                                 max_pooling2d_37[0][0]           \n",
            "__________________________________________________________________________________________________\n",
            "conv2d_789 (Conv2D)             (None, 7, 7, 128)    98304       mixed3[0][0]                     \n",
            "__________________________________________________________________________________________________\n",
            "batch_normalization_788 (BatchN (None, 7, 7, 128)    384         conv2d_789[0][0]                 \n",
            "__________________________________________________________________________________________________\n",
            "activation_786 (Activation)     (None, 7, 7, 128)    0           batch_normalization_788[0][0]    \n",
            "__________________________________________________________________________________________________\n",
            "conv2d_790 (Conv2D)             (None, 7, 7, 128)    114688      activation_786[0][0]             \n",
            "__________________________________________________________________________________________________\n",
            "batch_normalization_789 (BatchN (None, 7, 7, 128)    384         conv2d_790[0][0]                 \n",
            "__________________________________________________________________________________________________\n",
            "activation_787 (Activation)     (None, 7, 7, 128)    0           batch_normalization_789[0][0]    \n",
            "__________________________________________________________________________________________________\n",
            "conv2d_786 (Conv2D)             (None, 7, 7, 128)    98304       mixed3[0][0]                     \n",
            "__________________________________________________________________________________________________\n",
            "conv2d_791 (Conv2D)             (None, 7, 7, 128)    114688      activation_787[0][0]             \n",
            "__________________________________________________________________________________________________\n",
            "batch_normalization_785 (BatchN (None, 7, 7, 128)    384         conv2d_786[0][0]                 \n",
            "__________________________________________________________________________________________________\n",
            "batch_normalization_790 (BatchN (None, 7, 7, 128)    384         conv2d_791[0][0]                 \n",
            "__________________________________________________________________________________________________\n",
            "activation_783 (Activation)     (None, 7, 7, 128)    0           batch_normalization_785[0][0]    \n",
            "__________________________________________________________________________________________________\n",
            "activation_788 (Activation)     (None, 7, 7, 128)    0           batch_normalization_790[0][0]    \n",
            "__________________________________________________________________________________________________\n",
            "conv2d_787 (Conv2D)             (None, 7, 7, 128)    114688      activation_783[0][0]             \n",
            "__________________________________________________________________________________________________\n",
            "conv2d_792 (Conv2D)             (None, 7, 7, 128)    114688      activation_788[0][0]             \n",
            "__________________________________________________________________________________________________\n",
            "batch_normalization_786 (BatchN (None, 7, 7, 128)    384         conv2d_787[0][0]                 \n",
            "__________________________________________________________________________________________________\n",
            "batch_normalization_791 (BatchN (None, 7, 7, 128)    384         conv2d_792[0][0]                 \n",
            "__________________________________________________________________________________________________\n",
            "activation_784 (Activation)     (None, 7, 7, 128)    0           batch_normalization_786[0][0]    \n",
            "__________________________________________________________________________________________________\n",
            "activation_789 (Activation)     (None, 7, 7, 128)    0           batch_normalization_791[0][0]    \n",
            "__________________________________________________________________________________________________\n",
            "average_pooling2d_75 (AveragePo (None, 7, 7, 768)    0           mixed3[0][0]                     \n",
            "__________________________________________________________________________________________________\n",
            "conv2d_785 (Conv2D)             (None, 7, 7, 192)    147456      mixed3[0][0]                     \n",
            "__________________________________________________________________________________________________\n",
            "conv2d_788 (Conv2D)             (None, 7, 7, 192)    172032      activation_784[0][0]             \n",
            "__________________________________________________________________________________________________\n",
            "conv2d_793 (Conv2D)             (None, 7, 7, 192)    172032      activation_789[0][0]             \n",
            "__________________________________________________________________________________________________\n",
            "conv2d_794 (Conv2D)             (None, 7, 7, 192)    147456      average_pooling2d_75[0][0]       \n",
            "__________________________________________________________________________________________________\n",
            "batch_normalization_784 (BatchN (None, 7, 7, 192)    576         conv2d_785[0][0]                 \n",
            "__________________________________________________________________________________________________\n",
            "batch_normalization_787 (BatchN (None, 7, 7, 192)    576         conv2d_788[0][0]                 \n",
            "__________________________________________________________________________________________________\n",
            "batch_normalization_792 (BatchN (None, 7, 7, 192)    576         conv2d_793[0][0]                 \n",
            "__________________________________________________________________________________________________\n",
            "batch_normalization_793 (BatchN (None, 7, 7, 192)    576         conv2d_794[0][0]                 \n",
            "__________________________________________________________________________________________________\n",
            "activation_782 (Activation)     (None, 7, 7, 192)    0           batch_normalization_784[0][0]    \n",
            "__________________________________________________________________________________________________\n",
            "activation_785 (Activation)     (None, 7, 7, 192)    0           batch_normalization_787[0][0]    \n",
            "__________________________________________________________________________________________________\n",
            "activation_790 (Activation)     (None, 7, 7, 192)    0           batch_normalization_792[0][0]    \n",
            "__________________________________________________________________________________________________\n",
            "activation_791 (Activation)     (None, 7, 7, 192)    0           batch_normalization_793[0][0]    \n",
            "__________________________________________________________________________________________________\n",
            "mixed4 (Concatenate)            (None, 7, 7, 768)    0           activation_782[0][0]             \n",
            "                                                                 activation_785[0][0]             \n",
            "                                                                 activation_790[0][0]             \n",
            "                                                                 activation_791[0][0]             \n",
            "__________________________________________________________________________________________________\n",
            "conv2d_799 (Conv2D)             (None, 7, 7, 160)    122880      mixed4[0][0]                     \n",
            "__________________________________________________________________________________________________\n",
            "batch_normalization_798 (BatchN (None, 7, 7, 160)    480         conv2d_799[0][0]                 \n",
            "__________________________________________________________________________________________________\n",
            "activation_796 (Activation)     (None, 7, 7, 160)    0           batch_normalization_798[0][0]    \n",
            "__________________________________________________________________________________________________\n",
            "conv2d_800 (Conv2D)             (None, 7, 7, 160)    179200      activation_796[0][0]             \n",
            "__________________________________________________________________________________________________\n",
            "batch_normalization_799 (BatchN (None, 7, 7, 160)    480         conv2d_800[0][0]                 \n",
            "__________________________________________________________________________________________________\n",
            "activation_797 (Activation)     (None, 7, 7, 160)    0           batch_normalization_799[0][0]    \n",
            "__________________________________________________________________________________________________\n",
            "conv2d_796 (Conv2D)             (None, 7, 7, 160)    122880      mixed4[0][0]                     \n",
            "__________________________________________________________________________________________________\n",
            "conv2d_801 (Conv2D)             (None, 7, 7, 160)    179200      activation_797[0][0]             \n",
            "__________________________________________________________________________________________________\n",
            "batch_normalization_795 (BatchN (None, 7, 7, 160)    480         conv2d_796[0][0]                 \n",
            "__________________________________________________________________________________________________\n",
            "batch_normalization_800 (BatchN (None, 7, 7, 160)    480         conv2d_801[0][0]                 \n",
            "__________________________________________________________________________________________________\n",
            "activation_793 (Activation)     (None, 7, 7, 160)    0           batch_normalization_795[0][0]    \n",
            "__________________________________________________________________________________________________\n",
            "activation_798 (Activation)     (None, 7, 7, 160)    0           batch_normalization_800[0][0]    \n",
            "__________________________________________________________________________________________________\n",
            "conv2d_797 (Conv2D)             (None, 7, 7, 160)    179200      activation_793[0][0]             \n",
            "__________________________________________________________________________________________________\n",
            "conv2d_802 (Conv2D)             (None, 7, 7, 160)    179200      activation_798[0][0]             \n",
            "__________________________________________________________________________________________________\n",
            "batch_normalization_796 (BatchN (None, 7, 7, 160)    480         conv2d_797[0][0]                 \n",
            "__________________________________________________________________________________________________\n",
            "batch_normalization_801 (BatchN (None, 7, 7, 160)    480         conv2d_802[0][0]                 \n",
            "__________________________________________________________________________________________________\n",
            "activation_794 (Activation)     (None, 7, 7, 160)    0           batch_normalization_796[0][0]    \n",
            "__________________________________________________________________________________________________\n",
            "activation_799 (Activation)     (None, 7, 7, 160)    0           batch_normalization_801[0][0]    \n",
            "__________________________________________________________________________________________________\n",
            "average_pooling2d_76 (AveragePo (None, 7, 7, 768)    0           mixed4[0][0]                     \n",
            "__________________________________________________________________________________________________\n",
            "conv2d_795 (Conv2D)             (None, 7, 7, 192)    147456      mixed4[0][0]                     \n",
            "__________________________________________________________________________________________________\n",
            "conv2d_798 (Conv2D)             (None, 7, 7, 192)    215040      activation_794[0][0]             \n",
            "__________________________________________________________________________________________________\n",
            "conv2d_803 (Conv2D)             (None, 7, 7, 192)    215040      activation_799[0][0]             \n",
            "__________________________________________________________________________________________________\n",
            "conv2d_804 (Conv2D)             (None, 7, 7, 192)    147456      average_pooling2d_76[0][0]       \n",
            "__________________________________________________________________________________________________\n",
            "batch_normalization_794 (BatchN (None, 7, 7, 192)    576         conv2d_795[0][0]                 \n",
            "__________________________________________________________________________________________________\n",
            "batch_normalization_797 (BatchN (None, 7, 7, 192)    576         conv2d_798[0][0]                 \n",
            "__________________________________________________________________________________________________\n",
            "batch_normalization_802 (BatchN (None, 7, 7, 192)    576         conv2d_803[0][0]                 \n",
            "__________________________________________________________________________________________________\n",
            "batch_normalization_803 (BatchN (None, 7, 7, 192)    576         conv2d_804[0][0]                 \n",
            "__________________________________________________________________________________________________\n",
            "activation_792 (Activation)     (None, 7, 7, 192)    0           batch_normalization_794[0][0]    \n",
            "__________________________________________________________________________________________________\n",
            "activation_795 (Activation)     (None, 7, 7, 192)    0           batch_normalization_797[0][0]    \n",
            "__________________________________________________________________________________________________\n",
            "activation_800 (Activation)     (None, 7, 7, 192)    0           batch_normalization_802[0][0]    \n",
            "__________________________________________________________________________________________________\n",
            "activation_801 (Activation)     (None, 7, 7, 192)    0           batch_normalization_803[0][0]    \n",
            "__________________________________________________________________________________________________\n",
            "mixed5 (Concatenate)            (None, 7, 7, 768)    0           activation_792[0][0]             \n",
            "                                                                 activation_795[0][0]             \n",
            "                                                                 activation_800[0][0]             \n",
            "                                                                 activation_801[0][0]             \n",
            "__________________________________________________________________________________________________\n",
            "conv2d_809 (Conv2D)             (None, 7, 7, 160)    122880      mixed5[0][0]                     \n",
            "__________________________________________________________________________________________________\n",
            "batch_normalization_808 (BatchN (None, 7, 7, 160)    480         conv2d_809[0][0]                 \n",
            "__________________________________________________________________________________________________\n",
            "activation_806 (Activation)     (None, 7, 7, 160)    0           batch_normalization_808[0][0]    \n",
            "__________________________________________________________________________________________________\n",
            "conv2d_810 (Conv2D)             (None, 7, 7, 160)    179200      activation_806[0][0]             \n",
            "__________________________________________________________________________________________________\n",
            "batch_normalization_809 (BatchN (None, 7, 7, 160)    480         conv2d_810[0][0]                 \n",
            "__________________________________________________________________________________________________\n",
            "activation_807 (Activation)     (None, 7, 7, 160)    0           batch_normalization_809[0][0]    \n",
            "__________________________________________________________________________________________________\n",
            "conv2d_806 (Conv2D)             (None, 7, 7, 160)    122880      mixed5[0][0]                     \n",
            "__________________________________________________________________________________________________\n",
            "conv2d_811 (Conv2D)             (None, 7, 7, 160)    179200      activation_807[0][0]             \n",
            "__________________________________________________________________________________________________\n",
            "batch_normalization_805 (BatchN (None, 7, 7, 160)    480         conv2d_806[0][0]                 \n",
            "__________________________________________________________________________________________________\n",
            "batch_normalization_810 (BatchN (None, 7, 7, 160)    480         conv2d_811[0][0]                 \n",
            "__________________________________________________________________________________________________\n",
            "activation_803 (Activation)     (None, 7, 7, 160)    0           batch_normalization_805[0][0]    \n",
            "__________________________________________________________________________________________________\n",
            "activation_808 (Activation)     (None, 7, 7, 160)    0           batch_normalization_810[0][0]    \n",
            "__________________________________________________________________________________________________\n",
            "conv2d_807 (Conv2D)             (None, 7, 7, 160)    179200      activation_803[0][0]             \n",
            "__________________________________________________________________________________________________\n",
            "conv2d_812 (Conv2D)             (None, 7, 7, 160)    179200      activation_808[0][0]             \n",
            "__________________________________________________________________________________________________\n",
            "batch_normalization_806 (BatchN (None, 7, 7, 160)    480         conv2d_807[0][0]                 \n",
            "__________________________________________________________________________________________________\n",
            "batch_normalization_811 (BatchN (None, 7, 7, 160)    480         conv2d_812[0][0]                 \n",
            "__________________________________________________________________________________________________\n",
            "activation_804 (Activation)     (None, 7, 7, 160)    0           batch_normalization_806[0][0]    \n",
            "__________________________________________________________________________________________________\n",
            "activation_809 (Activation)     (None, 7, 7, 160)    0           batch_normalization_811[0][0]    \n",
            "__________________________________________________________________________________________________\n",
            "average_pooling2d_77 (AveragePo (None, 7, 7, 768)    0           mixed5[0][0]                     \n",
            "__________________________________________________________________________________________________\n",
            "conv2d_805 (Conv2D)             (None, 7, 7, 192)    147456      mixed5[0][0]                     \n",
            "__________________________________________________________________________________________________\n",
            "conv2d_808 (Conv2D)             (None, 7, 7, 192)    215040      activation_804[0][0]             \n",
            "__________________________________________________________________________________________________\n",
            "conv2d_813 (Conv2D)             (None, 7, 7, 192)    215040      activation_809[0][0]             \n",
            "__________________________________________________________________________________________________\n",
            "conv2d_814 (Conv2D)             (None, 7, 7, 192)    147456      average_pooling2d_77[0][0]       \n",
            "__________________________________________________________________________________________________\n",
            "batch_normalization_804 (BatchN (None, 7, 7, 192)    576         conv2d_805[0][0]                 \n",
            "__________________________________________________________________________________________________\n",
            "batch_normalization_807 (BatchN (None, 7, 7, 192)    576         conv2d_808[0][0]                 \n",
            "__________________________________________________________________________________________________\n",
            "batch_normalization_812 (BatchN (None, 7, 7, 192)    576         conv2d_813[0][0]                 \n",
            "__________________________________________________________________________________________________\n",
            "batch_normalization_813 (BatchN (None, 7, 7, 192)    576         conv2d_814[0][0]                 \n",
            "__________________________________________________________________________________________________\n",
            "activation_802 (Activation)     (None, 7, 7, 192)    0           batch_normalization_804[0][0]    \n",
            "__________________________________________________________________________________________________\n",
            "activation_805 (Activation)     (None, 7, 7, 192)    0           batch_normalization_807[0][0]    \n",
            "__________________________________________________________________________________________________\n",
            "activation_810 (Activation)     (None, 7, 7, 192)    0           batch_normalization_812[0][0]    \n",
            "__________________________________________________________________________________________________\n",
            "activation_811 (Activation)     (None, 7, 7, 192)    0           batch_normalization_813[0][0]    \n",
            "__________________________________________________________________________________________________\n",
            "mixed6 (Concatenate)            (None, 7, 7, 768)    0           activation_802[0][0]             \n",
            "                                                                 activation_805[0][0]             \n",
            "                                                                 activation_810[0][0]             \n",
            "                                                                 activation_811[0][0]             \n",
            "__________________________________________________________________________________________________\n",
            "conv2d_819 (Conv2D)             (None, 7, 7, 192)    147456      mixed6[0][0]                     \n",
            "__________________________________________________________________________________________________\n",
            "batch_normalization_818 (BatchN (None, 7, 7, 192)    576         conv2d_819[0][0]                 \n",
            "__________________________________________________________________________________________________\n",
            "activation_816 (Activation)     (None, 7, 7, 192)    0           batch_normalization_818[0][0]    \n",
            "__________________________________________________________________________________________________\n",
            "conv2d_820 (Conv2D)             (None, 7, 7, 192)    258048      activation_816[0][0]             \n",
            "__________________________________________________________________________________________________\n",
            "batch_normalization_819 (BatchN (None, 7, 7, 192)    576         conv2d_820[0][0]                 \n",
            "__________________________________________________________________________________________________\n",
            "activation_817 (Activation)     (None, 7, 7, 192)    0           batch_normalization_819[0][0]    \n",
            "__________________________________________________________________________________________________\n",
            "conv2d_816 (Conv2D)             (None, 7, 7, 192)    147456      mixed6[0][0]                     \n",
            "__________________________________________________________________________________________________\n",
            "conv2d_821 (Conv2D)             (None, 7, 7, 192)    258048      activation_817[0][0]             \n",
            "__________________________________________________________________________________________________\n",
            "batch_normalization_815 (BatchN (None, 7, 7, 192)    576         conv2d_816[0][0]                 \n",
            "__________________________________________________________________________________________________\n",
            "batch_normalization_820 (BatchN (None, 7, 7, 192)    576         conv2d_821[0][0]                 \n",
            "__________________________________________________________________________________________________\n",
            "activation_813 (Activation)     (None, 7, 7, 192)    0           batch_normalization_815[0][0]    \n",
            "__________________________________________________________________________________________________\n",
            "activation_818 (Activation)     (None, 7, 7, 192)    0           batch_normalization_820[0][0]    \n",
            "__________________________________________________________________________________________________\n",
            "conv2d_817 (Conv2D)             (None, 7, 7, 192)    258048      activation_813[0][0]             \n",
            "__________________________________________________________________________________________________\n",
            "conv2d_822 (Conv2D)             (None, 7, 7, 192)    258048      activation_818[0][0]             \n",
            "__________________________________________________________________________________________________\n",
            "batch_normalization_816 (BatchN (None, 7, 7, 192)    576         conv2d_817[0][0]                 \n",
            "__________________________________________________________________________________________________\n",
            "batch_normalization_821 (BatchN (None, 7, 7, 192)    576         conv2d_822[0][0]                 \n",
            "__________________________________________________________________________________________________\n",
            "activation_814 (Activation)     (None, 7, 7, 192)    0           batch_normalization_816[0][0]    \n",
            "__________________________________________________________________________________________________\n",
            "activation_819 (Activation)     (None, 7, 7, 192)    0           batch_normalization_821[0][0]    \n",
            "__________________________________________________________________________________________________\n",
            "average_pooling2d_78 (AveragePo (None, 7, 7, 768)    0           mixed6[0][0]                     \n",
            "__________________________________________________________________________________________________\n",
            "conv2d_815 (Conv2D)             (None, 7, 7, 192)    147456      mixed6[0][0]                     \n",
            "__________________________________________________________________________________________________\n",
            "conv2d_818 (Conv2D)             (None, 7, 7, 192)    258048      activation_814[0][0]             \n",
            "__________________________________________________________________________________________________\n",
            "conv2d_823 (Conv2D)             (None, 7, 7, 192)    258048      activation_819[0][0]             \n",
            "__________________________________________________________________________________________________\n",
            "conv2d_824 (Conv2D)             (None, 7, 7, 192)    147456      average_pooling2d_78[0][0]       \n",
            "__________________________________________________________________________________________________\n",
            "batch_normalization_814 (BatchN (None, 7, 7, 192)    576         conv2d_815[0][0]                 \n",
            "__________________________________________________________________________________________________\n",
            "batch_normalization_817 (BatchN (None, 7, 7, 192)    576         conv2d_818[0][0]                 \n",
            "__________________________________________________________________________________________________\n",
            "batch_normalization_822 (BatchN (None, 7, 7, 192)    576         conv2d_823[0][0]                 \n",
            "__________________________________________________________________________________________________\n",
            "batch_normalization_823 (BatchN (None, 7, 7, 192)    576         conv2d_824[0][0]                 \n",
            "__________________________________________________________________________________________________\n",
            "activation_812 (Activation)     (None, 7, 7, 192)    0           batch_normalization_814[0][0]    \n",
            "__________________________________________________________________________________________________\n",
            "activation_815 (Activation)     (None, 7, 7, 192)    0           batch_normalization_817[0][0]    \n",
            "__________________________________________________________________________________________________\n",
            "activation_820 (Activation)     (None, 7, 7, 192)    0           batch_normalization_822[0][0]    \n",
            "__________________________________________________________________________________________________\n",
            "activation_821 (Activation)     (None, 7, 7, 192)    0           batch_normalization_823[0][0]    \n",
            "__________________________________________________________________________________________________\n",
            "mixed7 (Concatenate)            (None, 7, 7, 768)    0           activation_812[0][0]             \n",
            "                                                                 activation_815[0][0]             \n",
            "                                                                 activation_820[0][0]             \n",
            "                                                                 activation_821[0][0]             \n",
            "__________________________________________________________________________________________________\n",
            "conv2d_827 (Conv2D)             (None, 7, 7, 192)    147456      mixed7[0][0]                     \n",
            "__________________________________________________________________________________________________\n",
            "batch_normalization_826 (BatchN (None, 7, 7, 192)    576         conv2d_827[0][0]                 \n",
            "__________________________________________________________________________________________________\n",
            "activation_824 (Activation)     (None, 7, 7, 192)    0           batch_normalization_826[0][0]    \n",
            "__________________________________________________________________________________________________\n",
            "conv2d_828 (Conv2D)             (None, 7, 7, 192)    258048      activation_824[0][0]             \n",
            "__________________________________________________________________________________________________\n",
            "batch_normalization_827 (BatchN (None, 7, 7, 192)    576         conv2d_828[0][0]                 \n",
            "__________________________________________________________________________________________________\n",
            "activation_825 (Activation)     (None, 7, 7, 192)    0           batch_normalization_827[0][0]    \n",
            "__________________________________________________________________________________________________\n",
            "conv2d_825 (Conv2D)             (None, 7, 7, 192)    147456      mixed7[0][0]                     \n",
            "__________________________________________________________________________________________________\n",
            "conv2d_829 (Conv2D)             (None, 7, 7, 192)    258048      activation_825[0][0]             \n",
            "__________________________________________________________________________________________________\n",
            "batch_normalization_824 (BatchN (None, 7, 7, 192)    576         conv2d_825[0][0]                 \n",
            "__________________________________________________________________________________________________\n",
            "batch_normalization_828 (BatchN (None, 7, 7, 192)    576         conv2d_829[0][0]                 \n",
            "__________________________________________________________________________________________________\n",
            "activation_822 (Activation)     (None, 7, 7, 192)    0           batch_normalization_824[0][0]    \n",
            "__________________________________________________________________________________________________\n",
            "activation_826 (Activation)     (None, 7, 7, 192)    0           batch_normalization_828[0][0]    \n",
            "__________________________________________________________________________________________________\n",
            "conv2d_826 (Conv2D)             (None, 3, 3, 320)    552960      activation_822[0][0]             \n",
            "__________________________________________________________________________________________________\n",
            "conv2d_830 (Conv2D)             (None, 3, 3, 192)    331776      activation_826[0][0]             \n",
            "__________________________________________________________________________________________________\n",
            "batch_normalization_825 (BatchN (None, 3, 3, 320)    960         conv2d_826[0][0]                 \n",
            "__________________________________________________________________________________________________\n",
            "batch_normalization_829 (BatchN (None, 3, 3, 192)    576         conv2d_830[0][0]                 \n",
            "__________________________________________________________________________________________________\n",
            "activation_823 (Activation)     (None, 3, 3, 320)    0           batch_normalization_825[0][0]    \n",
            "__________________________________________________________________________________________________\n",
            "activation_827 (Activation)     (None, 3, 3, 192)    0           batch_normalization_829[0][0]    \n",
            "__________________________________________________________________________________________________\n",
            "max_pooling2d_38 (MaxPooling2D) (None, 3, 3, 768)    0           mixed7[0][0]                     \n",
            "__________________________________________________________________________________________________\n",
            "mixed8 (Concatenate)            (None, 3, 3, 1280)   0           activation_823[0][0]             \n",
            "                                                                 activation_827[0][0]             \n",
            "                                                                 max_pooling2d_38[0][0]           \n",
            "__________________________________________________________________________________________________\n",
            "conv2d_835 (Conv2D)             (None, 3, 3, 448)    573440      mixed8[0][0]                     \n",
            "__________________________________________________________________________________________________\n",
            "batch_normalization_834 (BatchN (None, 3, 3, 448)    1344        conv2d_835[0][0]                 \n",
            "__________________________________________________________________________________________________\n",
            "activation_832 (Activation)     (None, 3, 3, 448)    0           batch_normalization_834[0][0]    \n",
            "__________________________________________________________________________________________________\n",
            "conv2d_832 (Conv2D)             (None, 3, 3, 384)    491520      mixed8[0][0]                     \n",
            "__________________________________________________________________________________________________\n",
            "conv2d_836 (Conv2D)             (None, 3, 3, 384)    1548288     activation_832[0][0]             \n",
            "__________________________________________________________________________________________________\n",
            "batch_normalization_831 (BatchN (None, 3, 3, 384)    1152        conv2d_832[0][0]                 \n",
            "__________________________________________________________________________________________________\n",
            "batch_normalization_835 (BatchN (None, 3, 3, 384)    1152        conv2d_836[0][0]                 \n",
            "__________________________________________________________________________________________________\n",
            "activation_829 (Activation)     (None, 3, 3, 384)    0           batch_normalization_831[0][0]    \n",
            "__________________________________________________________________________________________________\n",
            "activation_833 (Activation)     (None, 3, 3, 384)    0           batch_normalization_835[0][0]    \n",
            "__________________________________________________________________________________________________\n",
            "conv2d_833 (Conv2D)             (None, 3, 3, 384)    442368      activation_829[0][0]             \n",
            "__________________________________________________________________________________________________\n",
            "conv2d_834 (Conv2D)             (None, 3, 3, 384)    442368      activation_829[0][0]             \n",
            "__________________________________________________________________________________________________\n",
            "conv2d_837 (Conv2D)             (None, 3, 3, 384)    442368      activation_833[0][0]             \n",
            "__________________________________________________________________________________________________\n",
            "conv2d_838 (Conv2D)             (None, 3, 3, 384)    442368      activation_833[0][0]             \n",
            "__________________________________________________________________________________________________\n",
            "average_pooling2d_79 (AveragePo (None, 3, 3, 1280)   0           mixed8[0][0]                     \n",
            "__________________________________________________________________________________________________\n",
            "conv2d_831 (Conv2D)             (None, 3, 3, 320)    409600      mixed8[0][0]                     \n",
            "__________________________________________________________________________________________________\n",
            "batch_normalization_832 (BatchN (None, 3, 3, 384)    1152        conv2d_833[0][0]                 \n",
            "__________________________________________________________________________________________________\n",
            "batch_normalization_833 (BatchN (None, 3, 3, 384)    1152        conv2d_834[0][0]                 \n",
            "__________________________________________________________________________________________________\n",
            "batch_normalization_836 (BatchN (None, 3, 3, 384)    1152        conv2d_837[0][0]                 \n",
            "__________________________________________________________________________________________________\n",
            "batch_normalization_837 (BatchN (None, 3, 3, 384)    1152        conv2d_838[0][0]                 \n",
            "__________________________________________________________________________________________________\n",
            "conv2d_839 (Conv2D)             (None, 3, 3, 192)    245760      average_pooling2d_79[0][0]       \n",
            "__________________________________________________________________________________________________\n",
            "batch_normalization_830 (BatchN (None, 3, 3, 320)    960         conv2d_831[0][0]                 \n",
            "__________________________________________________________________________________________________\n",
            "activation_830 (Activation)     (None, 3, 3, 384)    0           batch_normalization_832[0][0]    \n",
            "__________________________________________________________________________________________________\n",
            "activation_831 (Activation)     (None, 3, 3, 384)    0           batch_normalization_833[0][0]    \n",
            "__________________________________________________________________________________________________\n",
            "activation_834 (Activation)     (None, 3, 3, 384)    0           batch_normalization_836[0][0]    \n",
            "__________________________________________________________________________________________________\n",
            "activation_835 (Activation)     (None, 3, 3, 384)    0           batch_normalization_837[0][0]    \n",
            "__________________________________________________________________________________________________\n",
            "batch_normalization_838 (BatchN (None, 3, 3, 192)    576         conv2d_839[0][0]                 \n",
            "__________________________________________________________________________________________________\n",
            "activation_828 (Activation)     (None, 3, 3, 320)    0           batch_normalization_830[0][0]    \n",
            "__________________________________________________________________________________________________\n",
            "mixed9_0 (Concatenate)          (None, 3, 3, 768)    0           activation_830[0][0]             \n",
            "                                                                 activation_831[0][0]             \n",
            "__________________________________________________________________________________________________\n",
            "concatenate_16 (Concatenate)    (None, 3, 3, 768)    0           activation_834[0][0]             \n",
            "                                                                 activation_835[0][0]             \n",
            "__________________________________________________________________________________________________\n",
            "activation_836 (Activation)     (None, 3, 3, 192)    0           batch_normalization_838[0][0]    \n",
            "__________________________________________________________________________________________________\n",
            "mixed9 (Concatenate)            (None, 3, 3, 2048)   0           activation_828[0][0]             \n",
            "                                                                 mixed9_0[0][0]                   \n",
            "                                                                 concatenate_16[0][0]             \n",
            "                                                                 activation_836[0][0]             \n",
            "__________________________________________________________________________________________________\n",
            "conv2d_844 (Conv2D)             (None, 3, 3, 448)    917504      mixed9[0][0]                     \n",
            "__________________________________________________________________________________________________\n",
            "batch_normalization_843 (BatchN (None, 3, 3, 448)    1344        conv2d_844[0][0]                 \n",
            "__________________________________________________________________________________________________\n",
            "activation_841 (Activation)     (None, 3, 3, 448)    0           batch_normalization_843[0][0]    \n",
            "__________________________________________________________________________________________________\n",
            "conv2d_841 (Conv2D)             (None, 3, 3, 384)    786432      mixed9[0][0]                     \n",
            "__________________________________________________________________________________________________\n",
            "conv2d_845 (Conv2D)             (None, 3, 3, 384)    1548288     activation_841[0][0]             \n",
            "__________________________________________________________________________________________________\n",
            "batch_normalization_840 (BatchN (None, 3, 3, 384)    1152        conv2d_841[0][0]                 \n",
            "__________________________________________________________________________________________________\n",
            "batch_normalization_844 (BatchN (None, 3, 3, 384)    1152        conv2d_845[0][0]                 \n",
            "__________________________________________________________________________________________________\n",
            "activation_838 (Activation)     (None, 3, 3, 384)    0           batch_normalization_840[0][0]    \n",
            "__________________________________________________________________________________________________\n",
            "activation_842 (Activation)     (None, 3, 3, 384)    0           batch_normalization_844[0][0]    \n",
            "__________________________________________________________________________________________________\n",
            "conv2d_842 (Conv2D)             (None, 3, 3, 384)    442368      activation_838[0][0]             \n",
            "__________________________________________________________________________________________________\n",
            "conv2d_843 (Conv2D)             (None, 3, 3, 384)    442368      activation_838[0][0]             \n",
            "__________________________________________________________________________________________________\n",
            "conv2d_846 (Conv2D)             (None, 3, 3, 384)    442368      activation_842[0][0]             \n",
            "__________________________________________________________________________________________________\n",
            "conv2d_847 (Conv2D)             (None, 3, 3, 384)    442368      activation_842[0][0]             \n",
            "__________________________________________________________________________________________________\n",
            "average_pooling2d_80 (AveragePo (None, 3, 3, 2048)   0           mixed9[0][0]                     \n",
            "__________________________________________________________________________________________________\n",
            "conv2d_840 (Conv2D)             (None, 3, 3, 320)    655360      mixed9[0][0]                     \n",
            "__________________________________________________________________________________________________\n",
            "batch_normalization_841 (BatchN (None, 3, 3, 384)    1152        conv2d_842[0][0]                 \n",
            "__________________________________________________________________________________________________\n",
            "batch_normalization_842 (BatchN (None, 3, 3, 384)    1152        conv2d_843[0][0]                 \n",
            "__________________________________________________________________________________________________\n",
            "batch_normalization_845 (BatchN (None, 3, 3, 384)    1152        conv2d_846[0][0]                 \n",
            "__________________________________________________________________________________________________\n",
            "batch_normalization_846 (BatchN (None, 3, 3, 384)    1152        conv2d_847[0][0]                 \n",
            "__________________________________________________________________________________________________\n",
            "conv2d_848 (Conv2D)             (None, 3, 3, 192)    393216      average_pooling2d_80[0][0]       \n",
            "__________________________________________________________________________________________________\n",
            "batch_normalization_839 (BatchN (None, 3, 3, 320)    960         conv2d_840[0][0]                 \n",
            "__________________________________________________________________________________________________\n",
            "activation_839 (Activation)     (None, 3, 3, 384)    0           batch_normalization_841[0][0]    \n",
            "__________________________________________________________________________________________________\n",
            "activation_840 (Activation)     (None, 3, 3, 384)    0           batch_normalization_842[0][0]    \n",
            "__________________________________________________________________________________________________\n",
            "activation_843 (Activation)     (None, 3, 3, 384)    0           batch_normalization_845[0][0]    \n",
            "__________________________________________________________________________________________________\n",
            "activation_844 (Activation)     (None, 3, 3, 384)    0           batch_normalization_846[0][0]    \n",
            "__________________________________________________________________________________________________\n",
            "batch_normalization_847 (BatchN (None, 3, 3, 192)    576         conv2d_848[0][0]                 \n",
            "__________________________________________________________________________________________________\n",
            "activation_837 (Activation)     (None, 3, 3, 320)    0           batch_normalization_839[0][0]    \n",
            "__________________________________________________________________________________________________\n",
            "mixed9_1 (Concatenate)          (None, 3, 3, 768)    0           activation_839[0][0]             \n",
            "                                                                 activation_840[0][0]             \n",
            "__________________________________________________________________________________________________\n",
            "concatenate_17 (Concatenate)    (None, 3, 3, 768)    0           activation_843[0][0]             \n",
            "                                                                 activation_844[0][0]             \n",
            "__________________________________________________________________________________________________\n",
            "activation_845 (Activation)     (None, 3, 3, 192)    0           batch_normalization_847[0][0]    \n",
            "__________________________________________________________________________________________________\n",
            "mixed10 (Concatenate)           (None, 3, 3, 2048)   0           activation_837[0][0]             \n",
            "                                                                 mixed9_1[0][0]                   \n",
            "                                                                 concatenate_17[0][0]             \n",
            "                                                                 activation_845[0][0]             \n",
            "__________________________________________________________________________________________________\n",
            "flatten_12 (Flatten)            (None, 18432)        0           mixed10[0][0]                    \n",
            "__________________________________________________________________________________________________\n",
            "dense_22 (Dense)                (None, 512)          9437696     flatten_12[0][0]                 \n",
            "__________________________________________________________________________________________________\n",
            "dense_23 (Dense)                (None, 6)            3078        dense_22[0][0]                   \n",
            "==================================================================================================\n",
            "Total params: 31,243,558\n",
            "Trainable params: 31,209,126\n",
            "Non-trainable params: 34,432\n",
            "__________________________________________________________________________________________________\n"
          ]
        }
      ]
    },
    {
      "cell_type": "code",
      "metadata": {
        "id": "tadLmUZu4lDK",
        "outputId": "cab7e1f7-4712-427d-84c1-9efe2d47b8ba",
        "colab": {
          "base_uri": "https://localhost:8080/"
        }
      },
      "source": [
        "inception_v3.inputs"
      ],
      "execution_count": 71,
      "outputs": [
        {
          "output_type": "execute_result",
          "data": {
            "text/plain": [
              "[<KerasTensor: shape=(None, 150, 150, 3) dtype=float32 (created by layer 'input_10')>]"
            ]
          },
          "metadata": {},
          "execution_count": 71
        }
      ]
    },
    {
      "cell_type": "code",
      "metadata": {
        "id": "rzjfdchS3L-E"
      },
      "source": [
        "modelinception_v3.compile(optimizer = Adam(learning_rate=0.0001), \n",
        "               loss = 'categorical_crossentropy', \n",
        "               metrics =['accuracy'])\n",
        "\n",
        "callbacksinception_v3 = [\n",
        "    tf.keras.callbacks.ReduceLROnPlateau(factor=0.5,\n",
        "                                         patience=4,\n",
        "                                         verbose=0),\n",
        "    tf.keras.callbacks.EarlyStopping(\n",
        "        monitor=\"accuracy\",\n",
        "        patience=12,\n",
        "        restore_best_weights=True,\n",
        "    ),\n",
        "    tf.keras.callbacks.ModelCheckpoint(\n",
        "        filepath='inception_v3_weights_tf_dim_ordering_tf_kernels_notop.h5',\n",
        "        save_best_only=True,\n",
        "        monitor=\"val_accuracy\",\n",
        "    ),\n",
        "\n",
        "]"
      ],
      "execution_count": 62,
      "outputs": []
    },
    {
      "cell_type": "code",
      "metadata": {
        "colab": {
          "base_uri": "https://localhost:8080/",
          "height": 336
        },
        "id": "24TkzR_g6LpN",
        "outputId": "a604db9a-750a-484a-c50d-1cf83e0e1004"
      },
      "source": [
        "epochs=100\n",
        "\n",
        "historyv3 = modelinception_v3(train_generator_inceptionv3,\n",
        "                               #steps_per_epoch = 975/32,\n",
        "                               epochs=epochs,\n",
        "                               #callbacks=callbacksinception_v3,\n",
        "                               validation_data=validation_generator_inceptionv3)"
      ],
      "execution_count": 72,
      "outputs": [
        {
          "output_type": "error",
          "ename": "TypeError",
          "evalue": "ignored",
          "traceback": [
            "\u001b[0;31m---------------------------------------------------------------------------\u001b[0m",
            "\u001b[0;31mTypeError\u001b[0m                                 Traceback (most recent call last)",
            "\u001b[0;32m<ipython-input-72-f3e5241ffc7a>\u001b[0m in \u001b[0;36m<module>\u001b[0;34m()\u001b[0m\n\u001b[1;32m      5\u001b[0m                                \u001b[0mepochs\u001b[0m\u001b[0;34m=\u001b[0m\u001b[0mepochs\u001b[0m\u001b[0;34m,\u001b[0m\u001b[0;34m\u001b[0m\u001b[0;34m\u001b[0m\u001b[0m\n\u001b[1;32m      6\u001b[0m                                \u001b[0;31m#callbacks=callbacksinception_v3,\u001b[0m\u001b[0;34m\u001b[0m\u001b[0;34m\u001b[0m\u001b[0;34m\u001b[0m\u001b[0m\n\u001b[0;32m----> 7\u001b[0;31m                                validation_data=validation_generator_inceptionv3)\n\u001b[0m",
            "\u001b[0;32m/usr/local/lib/python3.7/dist-packages/keras/engine/base_layer.py\u001b[0m in \u001b[0;36m__call__\u001b[0;34m(self, *args, **kwargs)\u001b[0m\n\u001b[1;32m   1018\u001b[0m         training=training_mode):\n\u001b[1;32m   1019\u001b[0m \u001b[0;34m\u001b[0m\u001b[0m\n\u001b[0;32m-> 1020\u001b[0;31m       \u001b[0minput_spec\u001b[0m\u001b[0;34m.\u001b[0m\u001b[0massert_input_compatibility\u001b[0m\u001b[0;34m(\u001b[0m\u001b[0mself\u001b[0m\u001b[0;34m.\u001b[0m\u001b[0minput_spec\u001b[0m\u001b[0;34m,\u001b[0m \u001b[0minputs\u001b[0m\u001b[0;34m,\u001b[0m \u001b[0mself\u001b[0m\u001b[0;34m.\u001b[0m\u001b[0mname\u001b[0m\u001b[0;34m)\u001b[0m\u001b[0;34m\u001b[0m\u001b[0;34m\u001b[0m\u001b[0m\n\u001b[0m\u001b[1;32m   1021\u001b[0m       \u001b[0;32mif\u001b[0m \u001b[0meager\u001b[0m\u001b[0;34m:\u001b[0m\u001b[0;34m\u001b[0m\u001b[0;34m\u001b[0m\u001b[0m\n\u001b[1;32m   1022\u001b[0m         \u001b[0mcall_fn\u001b[0m \u001b[0;34m=\u001b[0m \u001b[0mself\u001b[0m\u001b[0;34m.\u001b[0m\u001b[0mcall\u001b[0m\u001b[0;34m\u001b[0m\u001b[0;34m\u001b[0m\u001b[0m\n",
            "\u001b[0;32m/usr/local/lib/python3.7/dist-packages/keras/engine/input_spec.py\u001b[0m in \u001b[0;36massert_input_compatibility\u001b[0;34m(input_spec, inputs, layer_name)\u001b[0m\n\u001b[1;32m    194\u001b[0m     \u001b[0;31m# have a `shape` attribute.\u001b[0m\u001b[0;34m\u001b[0m\u001b[0;34m\u001b[0m\u001b[0;34m\u001b[0m\u001b[0m\n\u001b[1;32m    195\u001b[0m     \u001b[0;32mif\u001b[0m \u001b[0;32mnot\u001b[0m \u001b[0mhasattr\u001b[0m\u001b[0;34m(\u001b[0m\u001b[0mx\u001b[0m\u001b[0;34m,\u001b[0m \u001b[0;34m'shape'\u001b[0m\u001b[0;34m)\u001b[0m\u001b[0;34m:\u001b[0m\u001b[0;34m\u001b[0m\u001b[0;34m\u001b[0m\u001b[0m\n\u001b[0;32m--> 196\u001b[0;31m       \u001b[0;32mraise\u001b[0m \u001b[0mTypeError\u001b[0m\u001b[0;34m(\u001b[0m\u001b[0;34m'Inputs to a layer should be tensors. Got: %s'\u001b[0m \u001b[0;34m%\u001b[0m \u001b[0;34m(\u001b[0m\u001b[0mx\u001b[0m\u001b[0;34m,\u001b[0m\u001b[0;34m)\u001b[0m\u001b[0;34m)\u001b[0m\u001b[0;34m\u001b[0m\u001b[0;34m\u001b[0m\u001b[0m\n\u001b[0m\u001b[1;32m    197\u001b[0m \u001b[0;34m\u001b[0m\u001b[0m\n\u001b[1;32m    198\u001b[0m   \u001b[0;32mif\u001b[0m \u001b[0mlen\u001b[0m\u001b[0;34m(\u001b[0m\u001b[0minputs\u001b[0m\u001b[0;34m)\u001b[0m \u001b[0;34m!=\u001b[0m \u001b[0mlen\u001b[0m\u001b[0;34m(\u001b[0m\u001b[0minput_spec\u001b[0m\u001b[0;34m)\u001b[0m\u001b[0;34m:\u001b[0m\u001b[0;34m\u001b[0m\u001b[0;34m\u001b[0m\u001b[0m\n",
            "\u001b[0;31mTypeError\u001b[0m: Inputs to a layer should be tensors. Got: <keras.preprocessing.image.DataFrameIterator object at 0x7f1a0c76bc90>"
          ]
        }
      ]
    },
    {
      "cell_type": "code",
      "metadata": {
        "id": "rN-3XuFt6Ltt"
      },
      "source": [
        "%matplotlib inline\n",
        "import matplotlib.pyplot as plt\n",
        "acc = history.history['accuracy']\n",
        "val_acc = history.history['val_accuracy']\n",
        "loss = history.history['loss']\n",
        "val_loss = history.history['val_loss']\n",
        "\n",
        "epochs = range(len(acc))\n",
        "\n",
        "plt.plot(epochs, acc, 'r', label='Training accuracy')\n",
        "plt.plot(epochs, val_acc, 'b', label='Validation accuracy')\n",
        "plt.title('Training and validation accuracy')\n",
        "plt.legend(loc=0)\n",
        "plt.figure()\n",
        "\n",
        "plt.plot(epochs, loss, 'r', label='Training Loss')\n",
        "plt.plot(epochs, val_loss, 'b', label='Validation Loss')\n",
        "plt.title('Training and validation loss')\n",
        "plt.legend()\n",
        "\n",
        "plt.show()"
      ],
      "execution_count": null,
      "outputs": []
    },
    {
      "cell_type": "code",
      "metadata": {
        "id": "CzqXML0v6LyY"
      },
      "source": [
        "modelinception_v3 = tf.keras.models.load_model(\"inception_v3_weights_tf_dim_ordering_tf_kernels_notop.h5\")\n",
        "\n",
        "test_lossinception_v3, test_accinception_v3= modelinception_v3.evaluate(X_test,y_test)\n",
        "print(\"validation_accuracy: \" + str(test_accvinception_v3))"
      ],
      "execution_count": null,
      "outputs": []
    },
    {
      "cell_type": "markdown",
      "metadata": {
        "id": "DQVvEZ8C8ysP"
      },
      "source": [
        "# **Fim do modelo Inception V3**"
      ]
    },
    {
      "cell_type": "code",
      "metadata": {
        "id": "g6AYQKDTtmlY"
      },
      "source": [
        "fig = plt.figure()\n",
        "ax = fig.add_axes([0,0,1,1])\n",
        "acc = [val_acc,val_acvgg16c,val_accInceptionV3,valaccEfficientNetB,valaccEfficientNetB7]\n",
        "model = ['Modelo Criado','VGG16','InceptionV3','EfficientNetB0','EfficientNetB7']\n",
        "ax.bar(model,acc)\n",
        "plt.show()"
      ],
      "execution_count": null,
      "outputs": []
    },
    {
      "cell_type": "code",
      "metadata": {
        "id": "_rxy7Kr2tmw9"
      },
      "source": [
        ""
      ],
      "execution_count": null,
      "outputs": []
    },
    {
      "cell_type": "markdown",
      "metadata": {
        "id": "7toSzftQcPLH"
      },
      "source": [
        "# **Realizar a Predição para as 6 classes**"
      ]
    },
    {
      "cell_type": "code",
      "metadata": {
        "id": "6fd1COOBcEq-"
      },
      "source": [
        "predictions = model.predict(X_test)\n",
        "print(\"Prediction_accuracy: \" + str(predictions))"
      ],
      "execution_count": null,
      "outputs": []
    },
    {
      "cell_type": "code",
      "metadata": {
        "id": "cQp4hLBD1b2Q"
      },
      "source": [
        "plt.figure()\n",
        "plt.imshow(X_train[0])\n",
        "plt.colorbar()\n",
        "plt.grid(False)\n",
        "plt.show()"
      ],
      "execution_count": null,
      "outputs": []
    },
    {
      "cell_type": "markdown",
      "metadata": {
        "id": "N14GaXQK1x4C"
      },
      "source": [
        "Escalaremos esses valores no intervalo de 0 e 1 antes antes de alimentar o modelo da rede neural. Para fazer isso, dividimos os valores por 255. É importante que o conjunto de treinamento e o conjunto de teste podem ser pré-processados do mesmo modo:"
      ]
    },
    {
      "cell_type": "code",
      "metadata": {
        "id": "jerlMdae10kl"
      },
      "source": [
        "X_train = X_train /255\n",
        "X_test = X_test /255"
      ],
      "execution_count": null,
      "outputs": []
    },
    {
      "cell_type": "code",
      "metadata": {
        "id": "ut4cvpNs2eGz"
      },
      "source": [
        "plt.figure(figsize=(10,10))\n",
        "for i in range(20):\n",
        "    plt.subplot(5,5,i+1)\n",
        "    plt.xticks([])\n",
        "    plt.yticks([])\n",
        "    plt.grid(False)\n",
        "    plt.imshow(X_train[i])\n",
        "    plt.xlabel(label[y_train[i]])\n",
        "plt.show()"
      ],
      "execution_count": null,
      "outputs": []
    },
    {
      "cell_type": "code",
      "metadata": {
        "id": "UW-VloEXue0w"
      },
      "source": [
        "# Codigo do Dr.(o)professor Leonardo Forero\n",
        "\n",
        "def plot_image(i, predictions_array, true_label, img):\n",
        "  predictions_array, true_label, img = predictions_array[i], true_label[i], img[i]\n",
        "  plt.grid(False)\n",
        "  plt.xticks([])\n",
        "  plt.yticks([])\n",
        "\n",
        "  plt.imshow(img, cmap=plt.cm.binary)\n",
        "\n",
        "  predicted_label = np.argmax(predictions_array)\n",
        "  if predicted_label == true_label:\n",
        "    color = 'blue'\n",
        "  else:\n",
        "    color = 'red'\n",
        "\n",
        "  plt.xlabel(\"{} {:2.0f}% ({})\".format(label[predicted_label],\n",
        "                                100*np.max(predictions_array),\n",
        "                                label[true_label]),\n",
        "                                color=color)\n",
        "\n",
        "def plot_value_array(i, predictions_array, true_label):\n",
        "  predictions_array, true_label = predictions_array[i], true_label[i]\n",
        "  plt.grid(False)\n",
        "  plt.xticks([])\n",
        "  plt.yticks([])\n",
        "  thisplot = plt.bar(range(10), predictions_array, color=\"#777777\")\n",
        "  plt.ylim([0, 1])\n",
        "  predicted_label = np.argmax(predictions_array)\n",
        "\n",
        "  thisplot[predicted_label].set_color('red')\n",
        "  thisplot[true_label].set_color('blue')"
      ],
      "execution_count": null,
      "outputs": []
    },
    {
      "cell_type": "code",
      "metadata": {
        "id": "Q1ZVaJCavb1u"
      },
      "source": [
        "i = 0\n",
        "plt.figure(figsize=(6,3))\n",
        "plt.subplot(1,2,1)\n",
        "plot_image(i, predictions, y_test, X_test)\n",
        "plt.subplot(1,2,2)\n",
        "plot_value_array(i, predictions,  y_test)\n",
        "plt.show()"
      ],
      "execution_count": null,
      "outputs": []
    },
    {
      "cell_type": "code",
      "metadata": {
        "id": "pYKNqTvYIy56"
      },
      "source": [
        "predictions[0] # primeira predição"
      ],
      "execution_count": null,
      "outputs": []
    },
    {
      "cell_type": "code",
      "metadata": {
        "id": "aCmbcjolJstx"
      },
      "source": [
        "np.argmax(predictions[0])"
      ],
      "execution_count": null,
      "outputs": []
    },
    {
      "cell_type": "code",
      "metadata": {
        "id": "c81gyqxSpT8o"
      },
      "source": [
        "predictions = np.argmax(predictions)\n",
        "predictions"
      ],
      "execution_count": null,
      "outputs": []
    },
    {
      "cell_type": "code",
      "metadata": {
        "id": "Kaby35OAi4rH"
      },
      "source": [
        "y_test[0]"
      ],
      "execution_count": null,
      "outputs": []
    },
    {
      "cell_type": "code",
      "metadata": {
        "id": "-IwKBohOiOA_"
      },
      "source": [
        "from sklearn.metrics import confusion_matrix\n",
        "confusion_matrix(X_test,str(predictions))"
      ],
      "execution_count": null,
      "outputs": []
    },
    {
      "cell_type": "code",
      "metadata": {
        "id": "qVeK5dZxcTxc"
      },
      "source": [
        "img_pred = cv.imread(\"gneiss/0QTQE.jpg\",0)\n",
        "plt.imshow(img_pred)"
      ],
      "execution_count": null,
      "outputs": []
    },
    {
      "cell_type": "code",
      "metadata": {
        "id": "qsxcgyI9Byar"
      },
      "source": [
        "if img_pred.shape != [28,28]:\n",
        "    img2 = cv.resize(img_pred, (28, 28))\n",
        "    img_pred = img2.reshape(28, 28, -1)\n",
        "else:\n",
        "    img_pred = img_pred.reshape(28, 28, -1)\n",
        "\n",
        "img_pred = ~img_pred\n",
        "img_pred = img_pred.reshape(1, 1, 28, 28).astype('float32')\n",
        "\n",
        "img_pred = img_pred/255.0\n"
      ],
      "execution_count": null,
      "outputs": []
    },
    {
      "cell_type": "code",
      "metadata": {
        "id": "-vpZf-esIRHD"
      },
      "source": [
        "pred = model.predict(img_pred)\n",
        "pred_proba = model.predict_proba(img_pred)\n"
      ],
      "execution_count": null,
      "outputs": []
    },
    {
      "cell_type": "code",
      "metadata": {
        "id": "YHfXQT7RBHGS"
      },
      "source": [
        "pred_proba = \"%.2f%%\" % (pred_proba[0][pred]*100)\n",
        "print(pred[0], \" com confiança de \", pred_proba)"
      ],
      "execution_count": null,
      "outputs": []
    },
    {
      "cell_type": "code",
      "metadata": {
        "id": "ZzAJDvFfA8S0"
      },
      "source": [
        ""
      ],
      "execution_count": null,
      "outputs": []
    }
  ]
}