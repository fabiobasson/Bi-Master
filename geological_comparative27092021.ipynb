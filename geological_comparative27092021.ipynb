{
  "nbformat": 4,
  "nbformat_minor": 0,
  "metadata": {
    "colab": {
      "name": "geological-image-similarity.ipynb",
      "provenance": [],
      "authorship_tag": "ABX9TyPjEFKtgLyGlM8m0PyMJyuW",
      "include_colab_link": true
    },
    "kernelspec": {
      "name": "python3",
      "display_name": "Python 3"
    },
    "language_info": {
      "name": "python"
    },
    "accelerator": "GPU"
  },
  "cells": [
    {
      "cell_type": "markdown",
      "metadata": {
        "id": "view-in-github",
        "colab_type": "text"
      },
      "source": [
        "<a href=\"https://colab.research.google.com/github/fabiobasson/Bi-Master/blob/main/geological_comparative27092021.ipynb\" target=\"_parent\"><img src=\"https://colab.research.google.com/assets/colab-badge.svg\" alt=\"Open In Colab\"/></a>"
      ]
    },
    {
      "cell_type": "markdown",
      "metadata": {
        "id": "ek-dpdgUwrpq"
      },
      "source": [
        "# Importações "
      ]
    },
    {
      "cell_type": "code",
      "metadata": {
        "id": "BhMpCgi7O64x"
      },
      "source": [
        "import os\n",
        "import tensorflow as tf\n",
        "from tensorflow.keras import layers\n",
        "from tensorflow.keras import Model\n",
        "from tensorflow.keras.layers import Dense, Dropout\n",
        "\n",
        "from os import getcwd\n",
        "import zipfile\n",
        "import shutil\n",
        "import numpy as np\n",
        "import glob\n",
        "import random\n",
        "import pandas as pd\n",
        "import matplotlib.pyplot as plt\n",
        "from PIL import Image\n",
        "import plotly.express as px\n",
        "import cv2 as cv\n",
        "\n",
        "from tensorflow.keras.optimizers import RMSprop, Adam\n",
        "from tensorflow.keras.applications.vgg16 import VGG16\n",
        "from tensorflow.keras.applications.inception_v3 import InceptionV3\n",
        "from tensorflow.keras.preprocessing.image import ImageDataGenerator\n",
        "\n",
        "from sklearn.metrics import confusion_matrix,accuracy_score\n",
        "from sklearn.model_selection import train_test_split"
      ],
      "execution_count": 83,
      "outputs": []
    },
    {
      "cell_type": "code",
      "metadata": {
        "colab": {
          "base_uri": "https://localhost:8080/"
        },
        "id": "ye09bw6nVWgH",
        "outputId": "0ec9494b-d5ed-474e-e7bc-7c16cac554c0"
      },
      "source": [
        "print(tf.__version__)"
      ],
      "execution_count": 2,
      "outputs": [
        {
          "output_type": "stream",
          "name": "stdout",
          "text": [
            "2.6.0\n"
          ]
        }
      ]
    },
    {
      "cell_type": "code",
      "metadata": {
        "id": "Z6Micr83L4uy"
      },
      "source": [
        "# Instalar Tensorflow\n",
        "#!pip install tensorflow==2.6.0"
      ],
      "execution_count": 3,
      "outputs": []
    },
    {
      "cell_type": "code",
      "metadata": {
        "id": "X45KGrRTOp4S",
        "colab": {
          "base_uri": "https://localhost:8080/"
        },
        "outputId": "ee410ce7-258f-4325-d914-1f9781c9f91b"
      },
      "source": [
        "# Instalar Keras\n",
        "!pip install keras --upgrade"
      ],
      "execution_count": null,
      "outputs": [
        {
          "output_type": "stream",
          "name": "stdout",
          "text": [
            "Requirement already satisfied: keras in /usr/local/lib/python3.7/dist-packages (2.6.0)\n"
          ]
        }
      ]
    },
    {
      "cell_type": "code",
      "metadata": {
        "id": "qB35LCwK1F9Y"
      },
      "source": [
        "# Caso precise, remover os diretorios\n",
        "\n",
        "#!rm -rf geological_similarity andesite gneiss/ marble/ quartzite/ rhyolite/ schist/"
      ],
      "execution_count": 8,
      "outputs": []
    },
    {
      "cell_type": "markdown",
      "metadata": {
        "id": "WsBJvou07fbF"
      },
      "source": [
        "# **Coleta de dados do Kaglle**"
      ]
    },
    {
      "cell_type": "code",
      "metadata": {
        "colab": {
          "resources": {
            "http://localhost:8080/nbextensions/google.colab/files.js": {
              "data": "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",
              "ok": true,
              "headers": [
                [
                  "content-type",
                  "application/javascript"
                ]
              ],
              "status": 200,
              "status_text": ""
            }
          },
          "base_uri": "https://localhost:8080/",
          "height": 89
        },
        "id": "qPW1Uceu4EkK",
        "outputId": "c470b3ff-4fd0-4407-c20d-b080833aee86"
      },
      "source": [
        "from google.colab import files\n",
        "files.upload()"
      ],
      "execution_count": 3,
      "outputs": [
        {
          "output_type": "display_data",
          "data": {
            "text/html": [
              "\n",
              "     <input type=\"file\" id=\"files-7f682c73-8f32-42d3-a0ca-3e34d799468d\" name=\"files[]\" multiple disabled\n",
              "        style=\"border:none\" />\n",
              "     <output id=\"result-7f682c73-8f32-42d3-a0ca-3e34d799468d\">\n",
              "      Upload widget is only available when the cell has been executed in the\n",
              "      current browser session. Please rerun this cell to enable.\n",
              "      </output>\n",
              "      <script src=\"/nbextensions/google.colab/files.js\"></script> "
            ],
            "text/plain": [
              "<IPython.core.display.HTML object>"
            ]
          },
          "metadata": {}
        },
        {
          "output_type": "stream",
          "name": "stdout",
          "text": [
            "Saving kaggle.json to kaggle.json\n"
          ]
        },
        {
          "output_type": "execute_result",
          "data": {
            "text/plain": [
              "{'kaggle.json': b'{\"username\":\"fabiobasson\",\"key\":\"d71cbfdfd23379909173204eac74cf96\"}'}"
            ]
          },
          "metadata": {},
          "execution_count": 3
        }
      ]
    },
    {
      "cell_type": "code",
      "metadata": {
        "id": "SQCTWdML4LFR"
      },
      "source": [
        "!mkdir ~/.kaggle\n",
        "!cp kaggle.json ~/.kaggle/\n",
        "!chmod 600 ~/.kaggle/kaggle.json"
      ],
      "execution_count": 4,
      "outputs": []
    },
    {
      "cell_type": "markdown",
      "metadata": {
        "id": "rte0cNVp7kgE"
      },
      "source": [
        "# **###  Download dos dados / descompactando os dados**"
      ]
    },
    {
      "cell_type": "code",
      "metadata": {
        "colab": {
          "base_uri": "https://localhost:8080/"
        },
        "id": "GvN30SNO4L1f",
        "outputId": "29925d2b-2f5b-4333-af63-5453041ac959"
      },
      "source": [
        "!kaggle datasets download fabiobasson/geologicalsimilarity\n",
        "! unzip -qq  geologicalsimilarity"
      ],
      "execution_count": 5,
      "outputs": [
        {
          "output_type": "stream",
          "name": "stdout",
          "text": [
            "Downloading geologicalsimilarity.zip to /content\n",
            "\r  0% 0.00/1.31M [00:00<?, ?B/s]\n",
            "\r100% 1.31M/1.31M [00:00<00:00, 43.2MB/s]\n"
          ]
        }
      ]
    },
    {
      "cell_type": "markdown",
      "metadata": {
        "id": "owY2uo8A7q5j"
      },
      "source": [
        "# ** Criação da estrutura e leitura de diretórios **"
      ]
    },
    {
      "cell_type": "code",
      "metadata": {
        "id": "QXSrUDeU4L7J",
        "colab": {
          "base_uri": "https://localhost:8080/"
        },
        "outputId": "b4efbbe2-28f7-4c8f-cfe9-ddcc7e638406"
      },
      "source": [
        "andesite_dir = glob.glob('andesite/*.jpg');gneiss_dir = glob.glob('gneiss/*.jpg')\n",
        "marble_dir= glob.glob('marble/*.jpg');quartzite_dir = glob.glob('quartzite/*.jpg')\n",
        "rhyolite_dir = glob.glob('rhyolite/*.jpg');\n",
        "schist_dir = glob.glob('schist/*.jpg')\n",
        "print(len(andesite_dir));print(len(gneiss_dir)); print(len(marble_dir)); print(len(quartzite_dir));  print(len(quartzite_dir)); print(len(schist_dir))\n"
      ],
      "execution_count": 6,
      "outputs": [
        {
          "output_type": "stream",
          "name": "stdout",
          "text": [
            "230\n",
            "190\n",
            "204\n",
            "198\n",
            "198\n",
            "204\n"
          ]
        }
      ]
    },
    {
      "cell_type": "markdown",
      "metadata": {
        "id": "xL-7GOm_w3m3"
      },
      "source": [
        "# **Nomes das Classes**\n",
        "# andesite = 0  # gneiss =1 # marbler = 2 # quartzite = 3 # rhyolite = 4  # schist = 5 \n"
      ]
    },
    {
      "cell_type": "code",
      "metadata": {
        "id": "O9d3W_LswkS2"
      },
      "source": [
        "label = ['andesite','gneiss','marbler','quartzite','rhyolite','schist']\n",
        "\n",
        "#label =[0,1,2,3,4,5]"
      ],
      "execution_count": 7,
      "outputs": []
    },
    {
      "cell_type": "code",
      "metadata": {
        "colab": {
          "base_uri": "https://localhost:8080/"
        },
        "id": "wBhB6b6xi1xl",
        "outputId": "42663455-b0f9-4d6c-b4ca-0e6770ef0ada"
      },
      "source": [
        "andesite_df=[];gneiss_df=[];marble_df=[];quartzite_df=[];rhyolite_df=[];schist_df=[]\n",
        "\n",
        "for i in andesite_dir:\n",
        "    andesite_df.append([i,label[0]])\n",
        "for j in gneiss_dir:\n",
        "   gneiss_df.append([j,label[1]])\n",
        "for l in marble_dir:\n",
        "    marble_df.append([l,label[2]])\n",
        "for m in quartzite_dir:\n",
        "    quartzite_df.append([m,label[3]])\n",
        "for n in rhyolite_dir:\n",
        "    rhyolite_df.append([n,label[4]])\n",
        "for o in schist_dir:\n",
        "    schist_df.append([o,label[5]])\n",
        "   \n",
        "df = andesite_df + gneiss_df + marble_df  + quartzite_df + rhyolite_df + schist_df\n",
        "random.shuffle(df)\n",
        "len(df)"
      ],
      "execution_count": 8,
      "outputs": [
        {
          "output_type": "execute_result",
          "data": {
            "text/plain": [
              "1218"
            ]
          },
          "metadata": {},
          "execution_count": 8
        }
      ]
    },
    {
      "cell_type": "markdown",
      "metadata": {
        "id": "iJTNl-uSVUFA"
      },
      "source": [
        "# **Criação do Dataframe**"
      ]
    },
    {
      "cell_type": "code",
      "metadata": {
        "colab": {
          "base_uri": "https://localhost:8080/",
          "height": 415
        },
        "id": "87UeiF--wzh8",
        "outputId": "ae65c6d6-4ca4-4229-8a77-6a8f148121a9"
      },
      "source": [
        "data_df = pd.DataFrame(df,columns=['path','label'])\n",
        "data_df"
      ],
      "execution_count": 9,
      "outputs": [
        {
          "output_type": "execute_result",
          "data": {
            "text/html": [
              "<div>\n",
              "<style scoped>\n",
              "    .dataframe tbody tr th:only-of-type {\n",
              "        vertical-align: middle;\n",
              "    }\n",
              "\n",
              "    .dataframe tbody tr th {\n",
              "        vertical-align: top;\n",
              "    }\n",
              "\n",
              "    .dataframe thead th {\n",
              "        text-align: right;\n",
              "    }\n",
              "</style>\n",
              "<table border=\"1\" class=\"dataframe\">\n",
              "  <thead>\n",
              "    <tr style=\"text-align: right;\">\n",
              "      <th></th>\n",
              "      <th>path</th>\n",
              "      <th>label</th>\n",
              "    </tr>\n",
              "  </thead>\n",
              "  <tbody>\n",
              "    <tr>\n",
              "      <th>0</th>\n",
              "      <td>schist/0FO6F.jpg</td>\n",
              "      <td>schist</td>\n",
              "    </tr>\n",
              "    <tr>\n",
              "      <th>1</th>\n",
              "      <td>marble/1ABYM.jpg</td>\n",
              "      <td>marbler</td>\n",
              "    </tr>\n",
              "    <tr>\n",
              "      <th>2</th>\n",
              "      <td>schist/1N2AD.jpg</td>\n",
              "      <td>schist</td>\n",
              "    </tr>\n",
              "    <tr>\n",
              "      <th>3</th>\n",
              "      <td>gneiss/1HPJ5.jpg</td>\n",
              "      <td>gneiss</td>\n",
              "    </tr>\n",
              "    <tr>\n",
              "      <th>4</th>\n",
              "      <td>rhyolite/0XLEH.jpg</td>\n",
              "      <td>rhyolite</td>\n",
              "    </tr>\n",
              "    <tr>\n",
              "      <th>...</th>\n",
              "      <td>...</td>\n",
              "      <td>...</td>\n",
              "    </tr>\n",
              "    <tr>\n",
              "      <th>1213</th>\n",
              "      <td>marble/01FA2.jpg</td>\n",
              "      <td>marbler</td>\n",
              "    </tr>\n",
              "    <tr>\n",
              "      <th>1214</th>\n",
              "      <td>gneiss/0SRM1.jpg</td>\n",
              "      <td>gneiss</td>\n",
              "    </tr>\n",
              "    <tr>\n",
              "      <th>1215</th>\n",
              "      <td>quartzite/0KGSH.jpg</td>\n",
              "      <td>quartzite</td>\n",
              "    </tr>\n",
              "    <tr>\n",
              "      <th>1216</th>\n",
              "      <td>gneiss/1OW75.jpg</td>\n",
              "      <td>gneiss</td>\n",
              "    </tr>\n",
              "    <tr>\n",
              "      <th>1217</th>\n",
              "      <td>rhyolite/1RJFI.jpg</td>\n",
              "      <td>rhyolite</td>\n",
              "    </tr>\n",
              "  </tbody>\n",
              "</table>\n",
              "<p>1218 rows × 2 columns</p>\n",
              "</div>"
            ],
            "text/plain": [
              "                     path      label\n",
              "0        schist/0FO6F.jpg     schist\n",
              "1        marble/1ABYM.jpg    marbler\n",
              "2        schist/1N2AD.jpg     schist\n",
              "3        gneiss/1HPJ5.jpg     gneiss\n",
              "4      rhyolite/0XLEH.jpg   rhyolite\n",
              "...                   ...        ...\n",
              "1213     marble/01FA2.jpg    marbler\n",
              "1214     gneiss/0SRM1.jpg     gneiss\n",
              "1215  quartzite/0KGSH.jpg  quartzite\n",
              "1216     gneiss/1OW75.jpg     gneiss\n",
              "1217   rhyolite/1RJFI.jpg   rhyolite\n",
              "\n",
              "[1218 rows x 2 columns]"
            ]
          },
          "metadata": {},
          "execution_count": 9
        }
      ]
    },
    {
      "cell_type": "markdown",
      "metadata": {
        "id": "B-ruxpGkzqHx"
      },
      "source": [
        "#  Conhecendo os dados de imagem"
      ]
    },
    {
      "cell_type": "code",
      "metadata": {
        "id": "j_QFJEd2yZMe",
        "colab": {
          "base_uri": "https://localhost:8080/",
          "height": 348
        },
        "outputId": "2086dad7-d29e-4824-872f-f722a94820c7"
      },
      "source": [
        "from matplotlib import image\n",
        "from matplotlib import pyplot\n",
        "# Carregando imagem como um array NumPy:\n",
        "data = image.imread(\"gneiss/0QTQE.jpg\")\n",
        "# Imprimindo as propriedades do array de pixels:\n",
        "print(data.dtype)\n",
        "print(data.shape)\n",
        "print(data.max())\n",
        "print(data.min())\n",
        "\n",
        "# Exibindo o array de pixels como uma imagem:\n",
        "pyplot.imshow(data)"
      ],
      "execution_count": 21,
      "outputs": [
        {
          "output_type": "stream",
          "name": "stdout",
          "text": [
            "uint8\n",
            "(28, 28, 3)\n",
            "251\n",
            "32\n"
          ]
        },
        {
          "output_type": "execute_result",
          "data": {
            "text/plain": [
              "<matplotlib.image.AxesImage at 0x7f67797b83d0>"
            ]
          },
          "metadata": {},
          "execution_count": 21
        },
        {
          "output_type": "display_data",
          "data": {
            "image/png": "[encoded data removed]",
            "text/plain": [
              "<Figure size 432x288 with 1 Axes>"
            ]
          },
          "metadata": {
            "needs_background": "light"
          }
        }
      ]
    },
    {
      "cell_type": "code",
      "metadata": {
        "id": "q0f0-HaP3cYM",
        "colab": {
          "base_uri": "https://localhost:8080/"
        },
        "outputId": "0e518ac4-45e7-45bc-efa3-ee8e17250eaf"
      },
      "source": [
        "from numpy import asarray\n",
        "image = Image.open(\"gneiss/0QTQE.jpg\")\n",
        "# Método asarray para realizar a conversão:\n",
        "pixels= asarray(image)\n",
        "# Verificando a faixa de valores entre 0 e 255:\n",
        "print('Data Type: %s' % pixels.dtype)\n",
        "print('Min: %.3f, Max: %.3f' % (pixels.min(), pixels.max()))\n",
        "\n",
        "#Converte os valores inteiros em float para realizar a operação:\n",
        "pixels = pixels.astype('float32')\n",
        "# Normaliza a faixa de valores:\n",
        "pixels /= pixels.max()\n",
        "# Verificando a faixa de valores normalizada:\n",
        "print('Data Type: %s' % pixels.dtype)\n",
        "print('Min: %.3f, Max: %.3f' % (pixels.min(), pixels.max()))"
      ],
      "execution_count": 22,
      "outputs": [
        {
          "output_type": "stream",
          "name": "stdout",
          "text": [
            "Data Type: uint8\n",
            "Min: 32.000, Max: 251.000\n",
            "Data Type: float32\n",
            "Min: 0.127, Max: 1.000\n"
          ]
        }
      ]
    },
    {
      "cell_type": "markdown",
      "metadata": {
        "id": "XlUbajOTxHKl"
      },
      "source": [
        "# **Limpeza de dados**\n",
        "1 - Analisando os dados ausentes\n",
        "2 - Descartando os dados ausentes\n",
        "3 - Imputando dados\n",
        "4 - Acrescentando colunas informativas"
      ]
    },
    {
      "cell_type": "code",
      "metadata": {
        "id": "ybydrHWUvlbY",
        "colab": {
          "base_uri": "https://localhost:8080/",
          "height": 0
        },
        "outputId": "0a05a8e3-ba88-4bb0-8fad-9507d525ac9b"
      },
      "source": [
        "### 1 - Analisando os dados ausentes ###\n",
        "\n",
        "import missingno as msno\n",
        "ax = msno.matrix(data_df.sample(400))"
      ],
      "execution_count": 23,
      "outputs": [
        {
          "output_type": "display_data",
          "data": {
            "image/png": "[encoded data removed]",
            "text/plain": [
              "<Figure size 1800x720 with 2 Axes>"
            ]
          },
          "metadata": {
            "needs_background": "light"
          }
        }
      ]
    },
    {
      "cell_type": "code",
      "metadata": {
        "id": "9cVvBcwVxq9s"
      },
      "source": [
        "#! pip install pandas-profiling==2.8.0\n",
        "#from pandas_profiling import ProfileReport\n",
        "#ProfileReport (data_df)"
      ],
      "execution_count": 24,
      "outputs": []
    },
    {
      "cell_type": "markdown",
      "metadata": {
        "id": "NONt2HCxWd5X"
      },
      "source": [
        "# **Separação das amostras**"
      ]
    },
    {
      "cell_type": "code",
      "metadata": {
        "id": "KBjbH7d9NUnq"
      },
      "source": [
        "X = data_df.drop(columns='label')\n",
        "y = data_df.label"
      ],
      "execution_count": 10,
      "outputs": []
    },
    {
      "cell_type": "code",
      "metadata": {
        "colab": {
          "base_uri": "https://localhost:8080/",
          "height": 415
        },
        "id": "319As8ThaNyo",
        "outputId": "e75b1a0f-7a8f-4514-9264-d3ba288621df"
      },
      "source": [
        "X"
      ],
      "execution_count": 11,
      "outputs": [
        {
          "output_type": "execute_result",
          "data": {
            "text/html": [
              "<div>\n",
              "<style scoped>\n",
              "    .dataframe tbody tr th:only-of-type {\n",
              "        vertical-align: middle;\n",
              "    }\n",
              "\n",
              "    .dataframe tbody tr th {\n",
              "        vertical-align: top;\n",
              "    }\n",
              "\n",
              "    .dataframe thead th {\n",
              "        text-align: right;\n",
              "    }\n",
              "</style>\n",
              "<table border=\"1\" class=\"dataframe\">\n",
              "  <thead>\n",
              "    <tr style=\"text-align: right;\">\n",
              "      <th></th>\n",
              "      <th>path</th>\n",
              "    </tr>\n",
              "  </thead>\n",
              "  <tbody>\n",
              "    <tr>\n",
              "      <th>0</th>\n",
              "      <td>schist/0FO6F.jpg</td>\n",
              "    </tr>\n",
              "    <tr>\n",
              "      <th>1</th>\n",
              "      <td>marble/1ABYM.jpg</td>\n",
              "    </tr>\n",
              "    <tr>\n",
              "      <th>2</th>\n",
              "      <td>schist/1N2AD.jpg</td>\n",
              "    </tr>\n",
              "    <tr>\n",
              "      <th>3</th>\n",
              "      <td>gneiss/1HPJ5.jpg</td>\n",
              "    </tr>\n",
              "    <tr>\n",
              "      <th>4</th>\n",
              "      <td>rhyolite/0XLEH.jpg</td>\n",
              "    </tr>\n",
              "    <tr>\n",
              "      <th>...</th>\n",
              "      <td>...</td>\n",
              "    </tr>\n",
              "    <tr>\n",
              "      <th>1213</th>\n",
              "      <td>marble/01FA2.jpg</td>\n",
              "    </tr>\n",
              "    <tr>\n",
              "      <th>1214</th>\n",
              "      <td>gneiss/0SRM1.jpg</td>\n",
              "    </tr>\n",
              "    <tr>\n",
              "      <th>1215</th>\n",
              "      <td>quartzite/0KGSH.jpg</td>\n",
              "    </tr>\n",
              "    <tr>\n",
              "      <th>1216</th>\n",
              "      <td>gneiss/1OW75.jpg</td>\n",
              "    </tr>\n",
              "    <tr>\n",
              "      <th>1217</th>\n",
              "      <td>rhyolite/1RJFI.jpg</td>\n",
              "    </tr>\n",
              "  </tbody>\n",
              "</table>\n",
              "<p>1218 rows × 1 columns</p>\n",
              "</div>"
            ],
            "text/plain": [
              "                     path\n",
              "0        schist/0FO6F.jpg\n",
              "1        marble/1ABYM.jpg\n",
              "2        schist/1N2AD.jpg\n",
              "3        gneiss/1HPJ5.jpg\n",
              "4      rhyolite/0XLEH.jpg\n",
              "...                   ...\n",
              "1213     marble/01FA2.jpg\n",
              "1214     gneiss/0SRM1.jpg\n",
              "1215  quartzite/0KGSH.jpg\n",
              "1216     gneiss/1OW75.jpg\n",
              "1217   rhyolite/1RJFI.jpg\n",
              "\n",
              "[1218 rows x 1 columns]"
            ]
          },
          "metadata": {},
          "execution_count": 11
        }
      ]
    },
    {
      "cell_type": "markdown",
      "metadata": {
        "id": "rgLimflCWSq3"
      },
      "source": [
        "# **Explorando os dados**"
      ]
    },
    {
      "cell_type": "markdown",
      "metadata": {
        "id": "-AAuWUVf6ocm"
      },
      "source": [
        "\n",
        "# **Type: Data Augumentation**"
      ]
    },
    {
      "cell_type": "markdown",
      "metadata": {
        "id": "G1xbq78zfV9i"
      },
      "source": [
        "## ** Esta função irá plotar as imagens num grid de 1 a 5 colunas **"
      ]
    },
    {
      "cell_type": "code",
      "metadata": {
        "id": "hjV3pOngCtA7"
      },
      "source": [
        "IMG_SHAPE = 32\n",
        "BATCH_SIZE = 32\n",
        "\n",
        "def plotImages(images_arr):\n",
        "    fig, axes = plt.subplots(1, 5, figsize=(20,20))\n",
        "    axes = axes.flatten()\n",
        "    for img, ax in zip(images_arr, axes):\n",
        "        ax.imshow(img)\n",
        "    plt.tight_layout()\n",
        "    plt.show()"
      ],
      "execution_count": 12,
      "outputs": []
    },
    {
      "cell_type": "code",
      "metadata": {
        "id": "Cw0IbS6mfdxM",
        "colab": {
          "base_uri": "https://localhost:8080/"
        },
        "outputId": "ad4408ad-a5e7-4b5a-face-65da6f4a3125"
      },
      "source": [
        "datagen_train = ImageDataGenerator(rescale=1./255,\n",
        "                            #featurewise_center =False ,\n",
        "                            # samplewise_center =False ,\n",
        "                            # featurewise_std_normalization =False ,\n",
        "                            # samplewise_std_normalization =False ,\n",
        "                            # zca_whitening =False ,\n",
        "                            # zca_epsilon =1e -6 ,\n",
        "                            # channel_shift_range =0. ,\n",
        "                            # fill_mode = ’ nearest ’ ,\n",
        "                            # cval =0. ,\n",
        "                            rotation_range = 40,\n",
        "                            width_shift_range = 0.2,\n",
        "                            height_shift_range = 0.2,\n",
        "                            #shear_range = 0.2,\n",
        "                            #zoom_range = 0.2,\n",
        "                            horizontal_flip = True,\n",
        "                            vertical_flip = True,\n",
        "                            validation_split=0.2)\n",
        "\n",
        "train_generator = datagen_train.flow_from_dataframe(data_df,\n",
        "                                              batch_size=BATCH_SIZE,\n",
        "                                              x_col='path',\n",
        "                                              y_col= 'label',\n",
        "                                              shuffle=True,\n",
        "                                              target_size=(IMG_SHAPE,IMG_SHAPE),\n",
        "                                              #class_mode='raw',\n",
        "                                              subset='training')\n",
        "\n",
        "datagen_val = ImageDataGenerator(rescale=1./255,\n",
        "                                 validation_split=0.2 )\n",
        "\n",
        "validation_generator = datagen_val.flow_from_dataframe(data_df,\n",
        "                                                   batch_size=BATCH_SIZE,\n",
        "                                                   x_col='path',\n",
        "                                                   y_col='label',\n",
        "                                                   shuffle=True,\n",
        "                                                   target_size=(IMG_SHAPE,IMG_SHAPE),\n",
        "                                                   #class_mode='raw',\n",
        "                                                   subset='validation')    "
      ],
      "execution_count": 13,
      "outputs": [
        {
          "output_type": "stream",
          "name": "stdout",
          "text": [
            "Found 975 validated image filenames belonging to 6 classes.\n",
            "Found 243 validated image filenames belonging to 6 classes.\n"
          ]
        }
      ]
    },
    {
      "cell_type": "code",
      "metadata": {
        "id": "cf7yx4e5oR2H",
        "outputId": "2a29936e-9e0a-448f-e326-6e8074a7f9d0",
        "colab": {
          "base_uri": "https://localhost:8080/"
        }
      },
      "source": [
        "train_generator_inceptionv3 = datagen_train.flow_from_dataframe(data_df,\n",
        "                                              batch_size=BATCH_SIZE,\n",
        "                                              x_col='path',\n",
        "                                              y_col= 'label',\n",
        "                                              shuffle=True,\n",
        "                                              target_size=(150,150),\n",
        "                                              #class_mode='raw',\n",
        "                                              subset='training')\n",
        "\n",
        "\n",
        "validation_generator_inceptionv3 = datagen_val.flow_from_dataframe(data_df,\n",
        "                                                   batch_size=BATCH_SIZE,\n",
        "                                                   x_col='path',\n",
        "                                                   y_col='label',\n",
        "                                                   shuffle=True,\n",
        "                                                   target_size=(150,150),\n",
        "                                                   #class_mode='raw',\n",
        "                                                   subset='validation')  "
      ],
      "execution_count": 75,
      "outputs": [
        {
          "output_type": "stream",
          "name": "stdout",
          "text": [
            "Found 975 validated image filenames belonging to 6 classes.\n",
            "Found 243 validated image filenames belonging to 6 classes.\n"
          ]
        }
      ]
    },
    {
      "cell_type": "code",
      "metadata": {
        "colab": {
          "base_uri": "https://localhost:8080/"
        },
        "id": "Pgigt3S3Z6-V",
        "outputId": "d08e07ba-3fb6-452a-dfb4-2b09e50f5c2e"
      },
      "source": [
        "datagen_test = ImageDataGenerator(rescale=1./255,\n",
        "                                  )\n",
        "\n",
        "test_generator = datagen_val.flow_from_dataframe(data_df,\n",
        "                                                 batch_size=BATCH_SIZE,\n",
        "                                                 x_col='path',\n",
        "                                                 y_col='label',\n",
        "                                                 shuffle=True,\n",
        "                                                 #class_mode='raw',\n",
        "                                                 target_size=(IMG_SHAPE,IMG_SHAPE))                                                   "
      ],
      "execution_count": 14,
      "outputs": [
        {
          "output_type": "stream",
          "name": "stdout",
          "text": [
            "Found 1218 validated image filenames belonging to 6 classes.\n"
          ]
        }
      ]
    },
    {
      "cell_type": "code",
      "metadata": {
        "colab": {
          "base_uri": "https://localhost:8080/",
          "height": 220
        },
        "id": "ShN0CzElfd9R",
        "outputId": "b937ee95-9b95-4f79-bfd0-230cb382a667"
      },
      "source": [
        "augmented_images = [train_generator[0][0][0] for i in range(5)]\n",
        "plotImages(augmented_images)"
      ],
      "execution_count": 15,
      "outputs": [
        {
          "output_type": "display_data",
          "data": {
            "image/png": "[encoded data removed]",
            "text/plain": [
              "<Figure size 1440x1440 with 5 Axes>"
            ]
          },
          "metadata": {
            "needs_background": "light"
          }
        }
      ]
    },
    {
      "cell_type": "markdown",
      "metadata": {
        "id": "UIPXX6y48mV-"
      },
      "source": [
        "# **Criando o Dataframe em dados de treino, validação e teste**"
      ]
    },
    {
      "cell_type": "code",
      "metadata": {
        "id": "397pKysWejrc"
      },
      "source": [
        "X_train, y_train = next(train_generator)\n",
        "X_val, y_val = next(validation_generator)\n",
        "X_test, y_test = next(test_generator)"
      ],
      "execution_count": 16,
      "outputs": []
    },
    {
      "cell_type": "code",
      "metadata": {
        "colab": {
          "base_uri": "https://localhost:8080/"
        },
        "id": "s1Rh9KNLEXqO",
        "outputId": "d3265f4c-a34c-4cf8-c325-65e10af0d298"
      },
      "source": [
        "X_test.shape"
      ],
      "execution_count": 17,
      "outputs": [
        {
          "output_type": "execute_result",
          "data": {
            "text/plain": [
              "(32, 32, 32, 3)"
            ]
          },
          "metadata": {},
          "execution_count": 17
        }
      ]
    },
    {
      "cell_type": "markdown",
      "metadata": {
        "id": "dXm8LYqv0_vK"
      },
      "source": [
        "# **Criar o modelo**"
      ]
    },
    {
      "cell_type": "code",
      "metadata": {
        "id": "ncctBTCAgG7d"
      },
      "source": [
        "classes = 6\n",
        "\n",
        "model = tf.keras.models.Sequential([\n",
        "    tf.keras.layers.Conv2D(32, (3,3), activation='relu', input_shape=(32, 32,3)),\n",
        "    tf.keras.layers.BatchNormalization(),\n",
        "    tf.keras.layers.MaxPooling2D(2, 2),\n",
        "\n",
        "    tf.keras.layers.Conv2D(64, (3,3), activation='relu'),\n",
        "    tf.keras.layers.MaxPooling2D(2,2),\n",
        "\n",
        "    tf.keras.layers.Conv2D(128, (3,3), activation='relu'),\n",
        "    tf.keras.layers.MaxPooling2D(2,2),\n",
        "   \n",
        "\n",
        "    tf.keras.layers.Flatten(),\n",
        "    tf.keras.layers.Dense(512, activation='relu'),\n",
        "    tf.keras.layers.Dropout(0.5),\n",
        "    tf.keras.layers.Dense(6, activation='softmax')\n",
        "   \n",
        "])"
      ],
      "execution_count": 18,
      "outputs": []
    },
    {
      "cell_type": "markdown",
      "metadata": {
        "id": "cQvF_-VrbIhO"
      },
      "source": [
        "# **Compilando o Modelo**"
      ]
    },
    {
      "cell_type": "code",
      "metadata": {
        "id": "tseOThp5bLVl",
        "colab": {
          "base_uri": "https://localhost:8080/"
        },
        "outputId": "5b91b552-03b1-49c0-ab8f-018b312413b4"
      },
      "source": [
        "model.compile(optimizer = Adam(learning_rate=0.0001), \n",
        "               loss = 'categorical_crossentropy', \n",
        "               metrics =['accuracy'])\n",
        "model.summary()  "
      ],
      "execution_count": 19,
      "outputs": [
        {
          "output_type": "stream",
          "name": "stdout",
          "text": [
            "Model: \"sequential\"\n",
            "_________________________________________________________________\n",
            "Layer (type)                 Output Shape              Param #   \n",
            "=================================================================\n",
            "conv2d (Conv2D)              (None, 30, 30, 32)        896       \n",
            "_________________________________________________________________\n",
            "batch_normalization (BatchNo (None, 30, 30, 32)        128       \n",
            "_________________________________________________________________\n",
            "max_pooling2d (MaxPooling2D) (None, 15, 15, 32)        0         \n",
            "_________________________________________________________________\n",
            "conv2d_1 (Conv2D)            (None, 13, 13, 64)        18496     \n",
            "_________________________________________________________________\n",
            "max_pooling2d_1 (MaxPooling2 (None, 6, 6, 64)          0         \n",
            "_________________________________________________________________\n",
            "conv2d_2 (Conv2D)            (None, 4, 4, 128)         73856     \n",
            "_________________________________________________________________\n",
            "max_pooling2d_2 (MaxPooling2 (None, 2, 2, 128)         0         \n",
            "_________________________________________________________________\n",
            "flatten (Flatten)            (None, 512)               0         \n",
            "_________________________________________________________________\n",
            "dense (Dense)                (None, 512)               262656    \n",
            "_________________________________________________________________\n",
            "dropout (Dropout)            (None, 512)               0         \n",
            "_________________________________________________________________\n",
            "dense_1 (Dense)              (None, 6)                 3078      \n",
            "=================================================================\n",
            "Total params: 359,110\n",
            "Trainable params: 359,046\n",
            "Non-trainable params: 64\n",
            "_________________________________________________________________\n"
          ]
        }
      ]
    },
    {
      "cell_type": "code",
      "metadata": {
        "id": "9Sr0YDZ8dCmz"
      },
      "source": [
        "callbacks_list = [\n",
        "    tf.keras.callbacks.ReduceLROnPlateau(factor=0.5,\n",
        "                                         patience=4,\n",
        "                                         verbose=0),\n",
        "    tf.keras.callbacks.EarlyStopping(\n",
        "        monitor=\"accuracy\",\n",
        "        patience=12,\n",
        "        restore_best_weights=True,\n",
        "    ),\n",
        "    tf.keras.callbacks.ModelCheckpoint(\n",
        "        filepath='best_model.h5',\n",
        "        monitor=\"val_accuracy\",\n",
        "        save_best_only=True,\n",
        "    ),\n",
        "\n",
        "]"
      ],
      "execution_count": 20,
      "outputs": []
    },
    {
      "cell_type": "markdown",
      "metadata": {
        "id": "IhQyiWIh1HQs"
      },
      "source": [
        "# **Avaliar o modelo**"
      ]
    },
    {
      "cell_type": "code",
      "metadata": {
        "id": "cwpnwl86dm74",
        "colab": {
          "base_uri": "https://localhost:8080/"
        },
        "outputId": "b27fb4ad-f1bf-44ab-c4a5-52e76d3d13ee"
      },
      "source": [
        "epochs=100\n",
        "history = model.fit(train_generator,\n",
        "                               epochs=epochs,\n",
        "                               #verbose=0,\n",
        "                               callbacks=callbacks_list, \n",
        "                               #validation_split=0.2,\n",
        "                               #class_weight=class_weight_,\n",
        "                               workers=4,\n",
        "                               use_multiprocessing=True,\n",
        "                               validation_data=validation_generator)"
      ],
      "execution_count": 21,
      "outputs": [
        {
          "output_type": "stream",
          "name": "stdout",
          "text": [
            "Epoch 1/100\n",
            "31/31 [==============================] - 3s 72ms/step - loss: 1.4101 - accuracy: 0.4615 - val_loss: 1.7348 - val_accuracy: 0.1646\n",
            "Epoch 2/100\n",
            "31/31 [==============================] - 2s 67ms/step - loss: 0.8307 - accuracy: 0.7097 - val_loss: 1.6518 - val_accuracy: 0.2840\n",
            "Epoch 3/100\n",
            "31/31 [==============================] - 2s 69ms/step - loss: 0.5885 - accuracy: 0.7682 - val_loss: 1.5562 - val_accuracy: 0.3498\n",
            "Epoch 4/100\n",
            "31/31 [==============================] - 2s 68ms/step - loss: 0.4918 - accuracy: 0.8174 - val_loss: 1.4389 - val_accuracy: 0.5309\n",
            "Epoch 5/100\n",
            "31/31 [==============================] - 2s 69ms/step - loss: 0.5064 - accuracy: 0.7949 - val_loss: 1.3503 - val_accuracy: 0.5226\n",
            "Epoch 6/100\n",
            "31/31 [==============================] - 2s 69ms/step - loss: 0.4307 - accuracy: 0.8369 - val_loss: 1.2526 - val_accuracy: 0.6543\n",
            "Epoch 7/100\n",
            "31/31 [==============================] - 2s 68ms/step - loss: 0.3853 - accuracy: 0.8656 - val_loss: 1.1321 - val_accuracy: 0.7531\n",
            "Epoch 8/100\n",
            "31/31 [==============================] - 2s 72ms/step - loss: 0.3696 - accuracy: 0.8718 - val_loss: 1.0335 - val_accuracy: 0.8477\n",
            "Epoch 9/100\n",
            "31/31 [==============================] - 2s 71ms/step - loss: 0.3485 - accuracy: 0.8636 - val_loss: 0.9827 - val_accuracy: 0.8066\n",
            "Epoch 10/100\n",
            "31/31 [==============================] - 2s 75ms/step - loss: 0.3520 - accuracy: 0.8749 - val_loss: 0.8882 - val_accuracy: 0.7778\n",
            "Epoch 11/100\n",
            "31/31 [==============================] - 2s 71ms/step - loss: 0.3574 - accuracy: 0.8574 - val_loss: 0.7283 - val_accuracy: 0.8519\n",
            "Epoch 12/100\n",
            "31/31 [==============================] - 2s 71ms/step - loss: 0.3275 - accuracy: 0.8646 - val_loss: 0.7015 - val_accuracy: 0.8272\n",
            "Epoch 13/100\n",
            "31/31 [==============================] - 2s 71ms/step - loss: 0.2978 - accuracy: 0.8790 - val_loss: 0.6161 - val_accuracy: 0.8724\n",
            "Epoch 14/100\n",
            "31/31 [==============================] - 3s 74ms/step - loss: 0.3075 - accuracy: 0.8851 - val_loss: 0.5755 - val_accuracy: 0.8436\n",
            "Epoch 15/100\n",
            "31/31 [==============================] - 2s 71ms/step - loss: 0.2876 - accuracy: 0.8841 - val_loss: 0.4555 - val_accuracy: 0.9012\n",
            "Epoch 16/100\n",
            "31/31 [==============================] - 2s 71ms/step - loss: 0.3024 - accuracy: 0.8841 - val_loss: 0.3929 - val_accuracy: 0.9259\n",
            "Epoch 17/100\n",
            "31/31 [==============================] - 2s 71ms/step - loss: 0.2599 - accuracy: 0.9015 - val_loss: 0.3450 - val_accuracy: 0.9218\n",
            "Epoch 18/100\n",
            "31/31 [==============================] - 2s 69ms/step - loss: 0.2565 - accuracy: 0.8995 - val_loss: 0.3161 - val_accuracy: 0.9259\n",
            "Epoch 19/100\n",
            "31/31 [==============================] - 3s 75ms/step - loss: 0.2707 - accuracy: 0.8995 - val_loss: 0.3050 - val_accuracy: 0.9012\n",
            "Epoch 20/100\n",
            "31/31 [==============================] - 2s 71ms/step - loss: 0.2700 - accuracy: 0.8923 - val_loss: 0.3625 - val_accuracy: 0.8601\n",
            "Epoch 21/100\n",
            "31/31 [==============================] - 2s 73ms/step - loss: 0.2949 - accuracy: 0.8862 - val_loss: 0.3431 - val_accuracy: 0.8807\n",
            "Epoch 22/100\n",
            "31/31 [==============================] - 2s 70ms/step - loss: 0.2815 - accuracy: 0.8944 - val_loss: 0.2853 - val_accuracy: 0.9095\n",
            "Epoch 23/100\n",
            "31/31 [==============================] - 2s 72ms/step - loss: 0.2621 - accuracy: 0.9128 - val_loss: 0.3295 - val_accuracy: 0.8765\n",
            "Epoch 24/100\n",
            "31/31 [==============================] - 2s 71ms/step - loss: 0.2511 - accuracy: 0.9169 - val_loss: 0.2633 - val_accuracy: 0.9095\n",
            "Epoch 25/100\n",
            "31/31 [==============================] - 2s 65ms/step - loss: 0.2285 - accuracy: 0.9200 - val_loss: 0.2589 - val_accuracy: 0.9053\n",
            "Epoch 26/100\n",
            "31/31 [==============================] - 2s 70ms/step - loss: 0.2627 - accuracy: 0.8985 - val_loss: 0.2657 - val_accuracy: 0.9012\n",
            "Epoch 27/100\n",
            "31/31 [==============================] - 2s 72ms/step - loss: 0.2357 - accuracy: 0.9221 - val_loss: 0.2893 - val_accuracy: 0.8971\n",
            "Epoch 28/100\n",
            "31/31 [==============================] - 2s 70ms/step - loss: 0.2322 - accuracy: 0.9210 - val_loss: 0.3776 - val_accuracy: 0.8601\n",
            "Epoch 29/100\n",
            "31/31 [==============================] - 3s 74ms/step - loss: 0.2196 - accuracy: 0.9159 - val_loss: 0.2964 - val_accuracy: 0.9012\n",
            "Epoch 30/100\n",
            "31/31 [==============================] - 3s 74ms/step - loss: 0.2349 - accuracy: 0.9118 - val_loss: 0.2289 - val_accuracy: 0.9300\n",
            "Epoch 31/100\n",
            "31/31 [==============================] - 3s 74ms/step - loss: 0.1996 - accuracy: 0.9344 - val_loss: 0.2742 - val_accuracy: 0.9053\n",
            "Epoch 32/100\n",
            "31/31 [==============================] - 3s 77ms/step - loss: 0.2190 - accuracy: 0.9128 - val_loss: 0.2512 - val_accuracy: 0.9095\n",
            "Epoch 33/100\n",
            "31/31 [==============================] - 3s 75ms/step - loss: 0.2282 - accuracy: 0.9200 - val_loss: 0.2414 - val_accuracy: 0.9218\n",
            "Epoch 34/100\n",
            "31/31 [==============================] - 3s 76ms/step - loss: 0.2117 - accuracy: 0.9221 - val_loss: 0.2364 - val_accuracy: 0.9300\n",
            "Epoch 35/100\n",
            "31/31 [==============================] - 3s 75ms/step - loss: 0.2036 - accuracy: 0.9221 - val_loss: 0.2378 - val_accuracy: 0.9259\n",
            "Epoch 36/100\n",
            "31/31 [==============================] - 3s 75ms/step - loss: 0.2069 - accuracy: 0.9262 - val_loss: 0.2429 - val_accuracy: 0.9177\n",
            "Epoch 37/100\n",
            "31/31 [==============================] - 2s 76ms/step - loss: 0.2004 - accuracy: 0.9210 - val_loss: 0.2418 - val_accuracy: 0.9177\n",
            "Epoch 38/100\n",
            "31/31 [==============================] - 3s 78ms/step - loss: 0.1848 - accuracy: 0.9385 - val_loss: 0.2384 - val_accuracy: 0.9259\n",
            "Epoch 39/100\n",
            "31/31 [==============================] - 2s 77ms/step - loss: 0.2021 - accuracy: 0.9169 - val_loss: 0.2388 - val_accuracy: 0.9218\n",
            "Epoch 40/100\n",
            "31/31 [==============================] - 2s 71ms/step - loss: 0.1839 - accuracy: 0.9323 - val_loss: 0.2363 - val_accuracy: 0.9218\n",
            "Epoch 41/100\n",
            "31/31 [==============================] - 3s 74ms/step - loss: 0.2084 - accuracy: 0.9303 - val_loss: 0.2485 - val_accuracy: 0.9218\n",
            "Epoch 42/100\n",
            "31/31 [==============================] - 3s 76ms/step - loss: 0.1864 - accuracy: 0.9313 - val_loss: 0.2386 - val_accuracy: 0.9218\n",
            "Epoch 43/100\n",
            "31/31 [==============================] - 3s 76ms/step - loss: 0.1689 - accuracy: 0.9477 - val_loss: 0.2343 - val_accuracy: 0.9177\n",
            "Epoch 44/100\n",
            "31/31 [==============================] - 3s 75ms/step - loss: 0.1941 - accuracy: 0.9292 - val_loss: 0.2370 - val_accuracy: 0.9218\n",
            "Epoch 45/100\n",
            "31/31 [==============================] - 3s 78ms/step - loss: 0.1733 - accuracy: 0.9405 - val_loss: 0.2331 - val_accuracy: 0.9177\n",
            "Epoch 46/100\n",
            "31/31 [==============================] - 3s 76ms/step - loss: 0.1837 - accuracy: 0.9292 - val_loss: 0.2345 - val_accuracy: 0.9177\n",
            "Epoch 47/100\n",
            "31/31 [==============================] - 3s 76ms/step - loss: 0.2051 - accuracy: 0.9221 - val_loss: 0.2340 - val_accuracy: 0.9177\n",
            "Epoch 48/100\n",
            "31/31 [==============================] - 2s 73ms/step - loss: 0.2108 - accuracy: 0.9241 - val_loss: 0.2342 - val_accuracy: 0.9177\n",
            "Epoch 49/100\n",
            "31/31 [==============================] - 3s 74ms/step - loss: 0.1979 - accuracy: 0.9292 - val_loss: 0.2393 - val_accuracy: 0.9218\n",
            "Epoch 50/100\n",
            "31/31 [==============================] - 2s 74ms/step - loss: 0.1847 - accuracy: 0.9364 - val_loss: 0.2388 - val_accuracy: 0.9218\n",
            "Epoch 51/100\n",
            "31/31 [==============================] - 3s 73ms/step - loss: 0.1905 - accuracy: 0.9344 - val_loss: 0.2376 - val_accuracy: 0.9218\n",
            "Epoch 52/100\n",
            "31/31 [==============================] - 3s 75ms/step - loss: 0.1945 - accuracy: 0.9313 - val_loss: 0.2382 - val_accuracy: 0.9218\n",
            "Epoch 53/100\n",
            "31/31 [==============================] - 3s 73ms/step - loss: 0.1893 - accuracy: 0.9354 - val_loss: 0.2379 - val_accuracy: 0.9218\n",
            "Epoch 54/100\n",
            "31/31 [==============================] - 3s 77ms/step - loss: 0.1878 - accuracy: 0.9262 - val_loss: 0.2378 - val_accuracy: 0.9218\n",
            "Epoch 55/100\n",
            "31/31 [==============================] - 3s 77ms/step - loss: 0.2079 - accuracy: 0.9241 - val_loss: 0.2374 - val_accuracy: 0.9218\n"
          ]
        }
      ]
    },
    {
      "cell_type": "markdown",
      "metadata": {
        "id": "fXZP7HCxqpbS"
      },
      "source": [
        "**Deixe-nos representar graficamente a Precisão do treinamento versus perda para obter uma melhor compreensão do treinamento do modelo.**"
      ]
    },
    {
      "cell_type": "code",
      "metadata": {
        "colab": {
          "base_uri": "https://localhost:8080/",
          "height": 328
        },
        "id": "r2RLRG0mqfsv",
        "outputId": "b056ba89-7129-494c-b958-aa8554079275"
      },
      "source": [
        "plt.figure(figsize=(10, 10))\n",
        "\n",
        "plt.subplot(2, 2, 1)\n",
        "plt.plot(history.history['loss'], label='Loss')\n",
        "plt.plot(history.history['val_loss'], label='Validation Loss')\n",
        "plt.legend()\n",
        "plt.title('Training - Loss Function')\n",
        "\n",
        "plt.subplot(2, 2, 2)\n",
        "plt.plot(history.history['accuracy'], label='Accuracy')\n",
        "plt.plot(history.history['val_accuracy'], label='Validation Accuracy')\n",
        "plt.legend()\n",
        "plt.title('Train - Accuracy')"
      ],
      "execution_count": 22,
      "outputs": [
        {
          "output_type": "execute_result",
          "data": {
            "text/plain": [
              "Text(0.5, 1.0, 'Train - Accuracy')"
            ]
          },
          "metadata": {},
          "execution_count": 22
        },
        {
          "output_type": "display_data",
          "data": {
            "image/png": "[encoded data removed]",
            "text/plain": [
              "<Figure size 720x720 with 2 Axes>"
            ]
          },
          "metadata": {
            "needs_background": "light"
          }
        }
      ]
    },
    {
      "cell_type": "markdown",
      "metadata": {
        "id": "D6gvFi_nY4NB"
      },
      "source": [
        "\n",
        "# **Vamos traçar a precisão do treinamento e da validação, bem como a perda.** "
      ]
    },
    {
      "cell_type": "code",
      "metadata": {
        "id": "HvI5gCDM5Djb",
        "colab": {
          "base_uri": "https://localhost:8080/",
          "height": 545
        },
        "outputId": "7b53d70c-6150-45f1-ffb6-85f2812305b0"
      },
      "source": [
        "%matplotlib inline\n",
        "import matplotlib.pyplot as plt\n",
        "acc = history.history['accuracy']\n",
        "val_acc = history.history['val_accuracy']\n",
        "loss = history.history['loss']\n",
        "val_loss = history.history['val_loss']\n",
        "\n",
        "epochs = range(len(acc))\n",
        "\n",
        "plt.plot(epochs, acc, 'r', label='Training accuracy')\n",
        "plt.plot(epochs, val_acc, 'b', label='Validation accuracy')\n",
        "plt.title('Training and validation accuracy')\n",
        "plt.legend(loc=0)\n",
        "plt.figure()\n",
        "\n",
        "plt.plot(epochs, loss, 'r', label='Training Loss')\n",
        "plt.plot(epochs, val_loss, 'b', label='Validation Loss')\n",
        "plt.title('Training and validation loss')\n",
        "plt.legend()\n",
        "\n",
        "plt.show()"
      ],
      "execution_count": 23,
      "outputs": [
        {
          "output_type": "display_data",
          "data": {
            "image/png": "[encoded data removed]",
            "text/plain": [
              "<Figure size 432x288 with 1 Axes>"
            ]
          },
          "metadata": {
            "needs_background": "light"
          }
        },
        {
          "output_type": "display_data",
          "data": {
            "image/png": "[encoded data removed]",
            "text/plain": [
              "<Figure size 432x288 with 1 Axes>"
            ]
          },
          "metadata": {
            "needs_background": "light"
          }
        }
      ]
    },
    {
      "cell_type": "code",
      "metadata": {
        "colab": {
          "base_uri": "https://localhost:8080/",
          "height": 542
        },
        "id": "IMJbJ4iT8f4x",
        "outputId": "41f71304-aa8d-413e-d82c-a598bc445752"
      },
      "source": [
        "history2= model.history.history\n",
        "px.line(history2,title = \"Metrics Plot\")"
      ],
      "execution_count": 24,
      "outputs": [
        {
          "output_type": "display_data",
          "data": {
            "text/html": [
              "<html>\n",
              "<head><meta charset=\"utf-8\" /></head>\n",
              "<body>\n",
              "    <div>\n",
              "            <script src=\"https://cdnjs.cloudflare.com/ajax/libs/mathjax/2.7.5/MathJax.js?config=TeX-AMS-MML_SVG\"></script><script type=\"text/javascript\">if (window.MathJax) {MathJax.Hub.Config({SVG: {font: \"STIX-Web\"}});}</script>\n",
              "                <script type=\"text/javascript\">window.PlotlyConfig = {MathJaxConfig: 'local'};</script>\n",
              "        <script src=\"https://cdn.plot.ly/plotly-latest.min.js\"></script>    \n",
              "            <div id=\"8e00945b-8887-4fe9-aa35-bd61e05705da\" class=\"plotly-graph-div\" style=\"height:525px; width:100%;\"></div>\n",
              "            <script type=\"text/javascript\">\n",
              "                \n",
              "                    window.PLOTLYENV=window.PLOTLYENV || {};\n",
              "                    \n",
              "                if (document.getElementById(\"8e00945b-8887-4fe9-aa35-bd61e05705da\")) {\n",
              "                    Plotly.newPlot(\n",
              "                        '8e00945b-8887-4fe9-aa35-bd61e05705da',\n",
              "                        [],\n",
              "                        {\"legend\": {\"tracegroupgap\": 0}, \"template\": {\"data\": {\"bar\": [{\"error_x\": {\"color\": \"#2a3f5f\"}, \"error_y\": {\"color\": \"#2a3f5f\"}, \"marker\": {\"line\": {\"color\": \"#E5ECF6\", \"width\": 0.5}}, \"type\": \"bar\"}], \"barpolar\": [{\"marker\": {\"line\": {\"color\": \"#E5ECF6\", \"width\": 0.5}}, \"type\": \"barpolar\"}], \"carpet\": [{\"aaxis\": {\"endlinecolor\": \"#2a3f5f\", \"gridcolor\": \"white\", \"linecolor\": \"white\", \"minorgridcolor\": \"white\", \"startlinecolor\": \"#2a3f5f\"}, \"baxis\": {\"endlinecolor\": \"#2a3f5f\", \"gridcolor\": \"white\", \"linecolor\": \"white\", \"minorgridcolor\": \"white\", \"startlinecolor\": \"#2a3f5f\"}, \"type\": \"carpet\"}], \"choropleth\": [{\"colorbar\": {\"outlinewidth\": 0, \"ticks\": \"\"}, \"type\": \"choropleth\"}], \"contour\": [{\"colorbar\": {\"outlinewidth\": 0, \"ticks\": \"\"}, \"colorscale\": [[0.0, \"#0d0887\"], [0.1111111111111111, \"#46039f\"], [0.2222222222222222, \"#7201a8\"], [0.3333333333333333, \"#9c179e\"], [0.4444444444444444, \"#bd3786\"], [0.5555555555555556, \"#d8576b\"], [0.6666666666666666, \"#ed7953\"], [0.7777777777777778, \"#fb9f3a\"], [0.8888888888888888, \"#fdca26\"], [1.0, \"#f0f921\"]], \"type\": \"contour\"}], \"contourcarpet\": [{\"colorbar\": {\"outlinewidth\": 0, \"ticks\": \"\"}, \"type\": \"contourcarpet\"}], \"heatmap\": [{\"colorbar\": {\"outlinewidth\": 0, \"ticks\": \"\"}, \"colorscale\": [[0.0, \"#0d0887\"], [0.1111111111111111, \"#46039f\"], [0.2222222222222222, \"#7201a8\"], [0.3333333333333333, \"#9c179e\"], [0.4444444444444444, \"#bd3786\"], [0.5555555555555556, \"#d8576b\"], [0.6666666666666666, \"#ed7953\"], [0.7777777777777778, \"#fb9f3a\"], [0.8888888888888888, \"#fdca26\"], [1.0, \"#f0f921\"]], \"type\": \"heatmap\"}], \"heatmapgl\": [{\"colorbar\": {\"outlinewidth\": 0, \"ticks\": \"\"}, \"colorscale\": [[0.0, \"#0d0887\"], [0.1111111111111111, \"#46039f\"], [0.2222222222222222, \"#7201a8\"], [0.3333333333333333, \"#9c179e\"], [0.4444444444444444, \"#bd3786\"], [0.5555555555555556, \"#d8576b\"], [0.6666666666666666, \"#ed7953\"], [0.7777777777777778, \"#fb9f3a\"], [0.8888888888888888, \"#fdca26\"], [1.0, \"#f0f921\"]], \"type\": \"heatmapgl\"}], \"histogram\": [{\"marker\": {\"colorbar\": {\"outlinewidth\": 0, \"ticks\": \"\"}}, \"type\": \"histogram\"}], \"histogram2d\": [{\"colorbar\": {\"outlinewidth\": 0, \"ticks\": \"\"}, \"colorscale\": [[0.0, \"#0d0887\"], [0.1111111111111111, \"#46039f\"], [0.2222222222222222, \"#7201a8\"], [0.3333333333333333, \"#9c179e\"], [0.4444444444444444, \"#bd3786\"], [0.5555555555555556, \"#d8576b\"], [0.6666666666666666, \"#ed7953\"], [0.7777777777777778, \"#fb9f3a\"], [0.8888888888888888, \"#fdca26\"], [1.0, \"#f0f921\"]], \"type\": \"histogram2d\"}], \"histogram2dcontour\": [{\"colorbar\": {\"outlinewidth\": 0, \"ticks\": \"\"}, \"colorscale\": [[0.0, \"#0d0887\"], [0.1111111111111111, \"#46039f\"], [0.2222222222222222, \"#7201a8\"], [0.3333333333333333, \"#9c179e\"], [0.4444444444444444, \"#bd3786\"], [0.5555555555555556, \"#d8576b\"], [0.6666666666666666, \"#ed7953\"], [0.7777777777777778, \"#fb9f3a\"], [0.8888888888888888, \"#fdca26\"], [1.0, \"#f0f921\"]], \"type\": \"histogram2dcontour\"}], \"mesh3d\": [{\"colorbar\": {\"outlinewidth\": 0, \"ticks\": \"\"}, \"type\": \"mesh3d\"}], \"parcoords\": [{\"line\": {\"colorbar\": {\"outlinewidth\": 0, \"ticks\": \"\"}}, \"type\": \"parcoords\"}], \"pie\": [{\"automargin\": true, \"type\": \"pie\"}], \"scatter\": [{\"marker\": {\"colorbar\": {\"outlinewidth\": 0, \"ticks\": \"\"}}, \"type\": \"scatter\"}], \"scatter3d\": [{\"line\": {\"colorbar\": {\"outlinewidth\": 0, \"ticks\": \"\"}}, \"marker\": {\"colorbar\": {\"outlinewidth\": 0, \"ticks\": \"\"}}, \"type\": \"scatter3d\"}], \"scattercarpet\": [{\"marker\": {\"colorbar\": {\"outlinewidth\": 0, \"ticks\": \"\"}}, \"type\": \"scattercarpet\"}], \"scattergeo\": [{\"marker\": {\"colorbar\": {\"outlinewidth\": 0, \"ticks\": \"\"}}, \"type\": \"scattergeo\"}], \"scattergl\": [{\"marker\": {\"colorbar\": {\"outlinewidth\": 0, \"ticks\": \"\"}}, \"type\": \"scattergl\"}], \"scattermapbox\": [{\"marker\": {\"colorbar\": {\"outlinewidth\": 0, \"ticks\": \"\"}}, \"type\": \"scattermapbox\"}], \"scatterpolar\": [{\"marker\": {\"colorbar\": {\"outlinewidth\": 0, \"ticks\": \"\"}}, \"type\": \"scatterpolar\"}], \"scatterpolargl\": [{\"marker\": {\"colorbar\": {\"outlinewidth\": 0, \"ticks\": \"\"}}, \"type\": \"scatterpolargl\"}], \"scatterternary\": [{\"marker\": {\"colorbar\": {\"outlinewidth\": 0, \"ticks\": \"\"}}, \"type\": \"scatterternary\"}], \"surface\": [{\"colorbar\": {\"outlinewidth\": 0, \"ticks\": \"\"}, \"colorscale\": [[0.0, \"#0d0887\"], [0.1111111111111111, \"#46039f\"], [0.2222222222222222, \"#7201a8\"], [0.3333333333333333, \"#9c179e\"], [0.4444444444444444, \"#bd3786\"], [0.5555555555555556, \"#d8576b\"], [0.6666666666666666, \"#ed7953\"], [0.7777777777777778, \"#fb9f3a\"], [0.8888888888888888, \"#fdca26\"], [1.0, \"#f0f921\"]], \"type\": \"surface\"}], \"table\": [{\"cells\": {\"fill\": {\"color\": \"#EBF0F8\"}, \"line\": {\"color\": \"white\"}}, \"header\": {\"fill\": {\"color\": \"#C8D4E3\"}, \"line\": {\"color\": \"white\"}}, \"type\": \"table\"}]}, \"layout\": {\"annotationdefaults\": {\"arrowcolor\": \"#2a3f5f\", \"arrowhead\": 0, \"arrowwidth\": 1}, \"coloraxis\": {\"colorbar\": {\"outlinewidth\": 0, \"ticks\": \"\"}}, \"colorscale\": {\"diverging\": [[0, \"#8e0152\"], [0.1, \"#c51b7d\"], [0.2, \"#de77ae\"], [0.3, \"#f1b6da\"], [0.4, \"#fde0ef\"], [0.5, \"#f7f7f7\"], [0.6, \"#e6f5d0\"], [0.7, \"#b8e186\"], [0.8, \"#7fbc41\"], [0.9, \"#4d9221\"], [1, \"#276419\"]], \"sequential\": [[0.0, \"#0d0887\"], [0.1111111111111111, \"#46039f\"], [0.2222222222222222, \"#7201a8\"], [0.3333333333333333, \"#9c179e\"], [0.4444444444444444, \"#bd3786\"], [0.5555555555555556, \"#d8576b\"], [0.6666666666666666, \"#ed7953\"], [0.7777777777777778, \"#fb9f3a\"], [0.8888888888888888, \"#fdca26\"], [1.0, \"#f0f921\"]], \"sequentialminus\": [[0.0, \"#0d0887\"], [0.1111111111111111, \"#46039f\"], [0.2222222222222222, \"#7201a8\"], [0.3333333333333333, \"#9c179e\"], [0.4444444444444444, \"#bd3786\"], [0.5555555555555556, \"#d8576b\"], [0.6666666666666666, \"#ed7953\"], [0.7777777777777778, \"#fb9f3a\"], [0.8888888888888888, \"#fdca26\"], [1.0, \"#f0f921\"]]}, \"colorway\": [\"#636efa\", \"#EF553B\", \"#00cc96\", \"#ab63fa\", \"#FFA15A\", \"#19d3f3\", \"#FF6692\", \"#B6E880\", \"#FF97FF\", \"#FECB52\"], \"font\": {\"color\": \"#2a3f5f\"}, \"geo\": {\"bgcolor\": \"white\", \"lakecolor\": \"white\", \"landcolor\": \"#E5ECF6\", \"showlakes\": true, \"showland\": true, \"subunitcolor\": \"white\"}, \"hoverlabel\": {\"align\": \"left\"}, \"hovermode\": \"closest\", \"mapbox\": {\"style\": \"light\"}, \"paper_bgcolor\": \"white\", \"plot_bgcolor\": \"#E5ECF6\", \"polar\": {\"angularaxis\": {\"gridcolor\": \"white\", \"linecolor\": \"white\", \"ticks\": \"\"}, \"bgcolor\": \"#E5ECF6\", \"radialaxis\": {\"gridcolor\": \"white\", \"linecolor\": \"white\", \"ticks\": \"\"}}, \"scene\": {\"xaxis\": {\"backgroundcolor\": \"#E5ECF6\", \"gridcolor\": \"white\", \"gridwidth\": 2, \"linecolor\": \"white\", \"showbackground\": true, \"ticks\": \"\", \"zerolinecolor\": \"white\"}, \"yaxis\": {\"backgroundcolor\": \"#E5ECF6\", \"gridcolor\": \"white\", \"gridwidth\": 2, \"linecolor\": \"white\", \"showbackground\": true, \"ticks\": \"\", \"zerolinecolor\": \"white\"}, \"zaxis\": {\"backgroundcolor\": \"#E5ECF6\", \"gridcolor\": \"white\", \"gridwidth\": 2, \"linecolor\": \"white\", \"showbackground\": true, \"ticks\": \"\", \"zerolinecolor\": \"white\"}}, \"shapedefaults\": {\"line\": {\"color\": \"#2a3f5f\"}}, \"ternary\": {\"aaxis\": {\"gridcolor\": \"white\", \"linecolor\": \"white\", \"ticks\": \"\"}, \"baxis\": {\"gridcolor\": \"white\", \"linecolor\": \"white\", \"ticks\": \"\"}, \"bgcolor\": \"#E5ECF6\", \"caxis\": {\"gridcolor\": \"white\", \"linecolor\": \"white\", \"ticks\": \"\"}}, \"title\": {\"x\": 0.05}, \"xaxis\": {\"automargin\": true, \"gridcolor\": \"white\", \"linecolor\": \"white\", \"ticks\": \"\", \"title\": {\"standoff\": 15}, \"zerolinecolor\": \"white\", \"zerolinewidth\": 2}, \"yaxis\": {\"automargin\": true, \"gridcolor\": \"white\", \"linecolor\": \"white\", \"ticks\": \"\", \"title\": {\"standoff\": 15}, \"zerolinecolor\": \"white\", \"zerolinewidth\": 2}}}, \"title\": {\"text\": \"Metrics Plot\"}, \"xaxis\": {\"anchor\": \"y\", \"domain\": [0.0, 1.0]}, \"yaxis\": {\"anchor\": \"x\", \"domain\": [0.0, 1.0]}},\n",
              "                        {\"responsive\": true}\n",
              "                    ).then(function(){\n",
              "                            \n",
              "var gd = document.getElementById('8e00945b-8887-4fe9-aa35-bd61e05705da');\n",
              "var x = new MutationObserver(function (mutations, observer) {{\n",
              "        var display = window.getComputedStyle(gd).display;\n",
              "        if (!display || display === 'none') {{\n",
              "            console.log([gd, 'removed!']);\n",
              "            Plotly.purge(gd);\n",
              "            observer.disconnect();\n",
              "        }}\n",
              "}});\n",
              "\n",
              "// Listen for the removal of the full notebook cells\n",
              "var notebookContainer = gd.closest('#notebook-container');\n",
              "if (notebookContainer) {{\n",
              "    x.observe(notebookContainer, {childList: true});\n",
              "}}\n",
              "\n",
              "// Listen for the clearing of the current output cell\n",
              "var outputEl = gd.closest('.output');\n",
              "if (outputEl) {{\n",
              "    x.observe(outputEl, {childList: true});\n",
              "}}\n",
              "\n",
              "                        })\n",
              "                };\n",
              "                \n",
              "            </script>\n",
              "        </div>\n",
              "</body>\n",
              "</html>"
            ]
          },
          "metadata": {}
        }
      ]
    },
    {
      "cell_type": "markdown",
      "metadata": {
        "id": "0G-slWFQ1KwJ"
      },
      "source": [
        "# **Otimizar o modelo**"
      ]
    },
    {
      "cell_type": "markdown",
      "metadata": {
        "id": "SukGrdFNTMWX"
      },
      "source": [
        "# **Avaliar acurácia  do Modelo**"
      ]
    },
    {
      "cell_type": "code",
      "metadata": {
        "id": "jHX9PR5gTQZA",
        "colab": {
          "base_uri": "https://localhost:8080/"
        },
        "outputId": "14587fe4-2b55-4258-9888-382169c7fbd0"
      },
      "source": [
        "model = tf.keras.models.load_model(\"best_model.h5\")\n",
        "\n",
        "test_loss, test_acc= model.evaluate(X_test,y_test)\n",
        "print(\"validation_accuracy: \" + str(test_acc))"
      ],
      "execution_count": 26,
      "outputs": [
        {
          "output_type": "stream",
          "name": "stdout",
          "text": [
            "1/1 [==============================] - 0s 143ms/step - loss: 0.0656 - accuracy: 1.0000\n",
            "validation_accuracy: 1.0\n"
          ]
        }
      ]
    },
    {
      "cell_type": "markdown",
      "metadata": {
        "id": "WPvlnHQyjENH"
      },
      "source": [
        "# **Listando as redes realmente disponíveis em seu Keras**"
      ]
    },
    {
      "cell_type": "code",
      "metadata": {
        "colab": {
          "base_uri": "https://localhost:8080/"
        },
        "id": "r7rGxnabi9t2",
        "outputId": "b2afe451-18c6-4a23-c1e8-ba1197bb804a"
      },
      "source": [
        "import tensorflow.keras.applications as app\n",
        "print(dir(app))"
      ],
      "execution_count": 27,
      "outputs": [
        {
          "output_type": "stream",
          "name": "stdout",
          "text": [
            "['DenseNet121', 'DenseNet169', 'DenseNet201', 'EfficientNetB0', 'EfficientNetB1', 'EfficientNetB2', 'EfficientNetB3', 'EfficientNetB4', 'EfficientNetB5', 'EfficientNetB6', 'EfficientNetB7', 'InceptionResNetV2', 'InceptionV3', 'MobileNet', 'MobileNetV2', 'MobileNetV3Large', 'MobileNetV3Small', 'NASNetLarge', 'NASNetMobile', 'ResNet101', 'ResNet101V2', 'ResNet152', 'ResNet152V2', 'ResNet50', 'ResNet50V2', 'VGG16', 'VGG19', 'Xception', '__builtins__', '__cached__', '__doc__', '__file__', '__loader__', '__name__', '__package__', '__path__', '__spec__', '_sys', 'densenet', 'efficientnet', 'imagenet_utils', 'inception_resnet_v2', 'inception_v3', 'mobilenet', 'mobilenet_v2', 'mobilenet_v3', 'nasnet', 'resnet', 'resnet50', 'resnet_v2', 'vgg16', 'vgg19', 'xception']\n"
          ]
        }
      ]
    },
    {
      "cell_type": "markdown",
      "metadata": {
        "id": "whuxIzeCjLba"
      },
      "source": [
        "# **O Modelo pre treinado VGG16**"
      ]
    },
    {
      "cell_type": "code",
      "metadata": {
        "id": "J5ri8TgbjjcD",
        "colab": {
          "base_uri": "https://localhost:8080/"
        },
        "outputId": "0f75bccf-8850-4934-c105-b85ad2b70934"
      },
      "source": [
        "# Inicializar a CNN\n",
        "classifier = VGG16(include_top=False, input_shape=(32, 32, 3)) # Minimo de shape que o VGG16 aceita\n",
        "\n",
        "# marcar camadas como não treináveis\n",
        "for layer in classifier.layers:\n",
        "    layer.trainable = False\n",
        "\n",
        "# adicionar novas camadas para classificação\n",
        "flat1 = tf.keras.layers.Flatten()(classifier.layers[-1].output)\n",
        "class1 = Dense(512, activation='relu', kernel_initializer='he_uniform')(flat1)\n",
        "output = Dense(6, activation='softmax')(class1)\n",
        "\n",
        "# definir o modelo\n",
        "modelvgg16 = Model(inputs=classifier.inputs, outputs=output)\n",
        "\n",
        "modelvgg16.summary()"
      ],
      "execution_count": 28,
      "outputs": [
        {
          "output_type": "stream",
          "name": "stdout",
          "text": [
            "Downloading data from https://storage.googleapis.com/tensorflow/keras-applications/vgg16/vgg16_weights_tf_dim_ordering_tf_kernels_notop.h5\n",
            "58892288/58889256 [==============================] - 2s 0us/step\n",
            "58900480/58889256 [==============================] - 2s 0us/step\n",
            "Model: \"model\"\n",
            "_________________________________________________________________\n",
            "Layer (type)                 Output Shape              Param #   \n",
            "=================================================================\n",
            "input_1 (InputLayer)         [(None, 32, 32, 3)]       0         \n",
            "_________________________________________________________________\n",
            "block1_conv1 (Conv2D)        (None, 32, 32, 64)        1792      \n",
            "_________________________________________________________________\n",
            "block1_conv2 (Conv2D)        (None, 32, 32, 64)        36928     \n",
            "_________________________________________________________________\n",
            "block1_pool (MaxPooling2D)   (None, 16, 16, 64)        0         \n",
            "_________________________________________________________________\n",
            "block2_conv1 (Conv2D)        (None, 16, 16, 128)       73856     \n",
            "_________________________________________________________________\n",
            "block2_conv2 (Conv2D)        (None, 16, 16, 128)       147584    \n",
            "_________________________________________________________________\n",
            "block2_pool (MaxPooling2D)   (None, 8, 8, 128)         0         \n",
            "_________________________________________________________________\n",
            "block3_conv1 (Conv2D)        (None, 8, 8, 256)         295168    \n",
            "_________________________________________________________________\n",
            "block3_conv2 (Conv2D)        (None, 8, 8, 256)         590080    \n",
            "_________________________________________________________________\n",
            "block3_conv3 (Conv2D)        (None, 8, 8, 256)         590080    \n",
            "_________________________________________________________________\n",
            "block3_pool (MaxPooling2D)   (None, 4, 4, 256)         0         \n",
            "_________________________________________________________________\n",
            "block4_conv1 (Conv2D)        (None, 4, 4, 512)         1180160   \n",
            "_________________________________________________________________\n",
            "block4_conv2 (Conv2D)        (None, 4, 4, 512)         2359808   \n",
            "_________________________________________________________________\n",
            "block4_conv3 (Conv2D)        (None, 4, 4, 512)         2359808   \n",
            "_________________________________________________________________\n",
            "block4_pool (MaxPooling2D)   (None, 2, 2, 512)         0         \n",
            "_________________________________________________________________\n",
            "block5_conv1 (Conv2D)        (None, 2, 2, 512)         2359808   \n",
            "_________________________________________________________________\n",
            "block5_conv2 (Conv2D)        (None, 2, 2, 512)         2359808   \n",
            "_________________________________________________________________\n",
            "block5_conv3 (Conv2D)        (None, 2, 2, 512)         2359808   \n",
            "_________________________________________________________________\n",
            "block5_pool (MaxPooling2D)   (None, 1, 1, 512)         0         \n",
            "_________________________________________________________________\n",
            "flatten_1 (Flatten)          (None, 512)               0         \n",
            "_________________________________________________________________\n",
            "dense_2 (Dense)              (None, 512)               262656    \n",
            "_________________________________________________________________\n",
            "dense_3 (Dense)              (None, 6)                 3078      \n",
            "=================================================================\n",
            "Total params: 14,980,422\n",
            "Trainable params: 265,734\n",
            "Non-trainable params: 14,714,688\n",
            "_________________________________________________________________\n"
          ]
        }
      ]
    },
    {
      "cell_type": "code",
      "metadata": {
        "id": "wvbEuAEuQxLI"
      },
      "source": [
        "modelvgg16.compile(optimizer = Adam(learning_rate=0.0001), \n",
        "               loss = 'categorical_crossentropy', \n",
        "               metrics =['accuracy'])  \n",
        "\n",
        "callbacksvgg16 = [\n",
        "    tf.keras.callbacks.ReduceLROnPlateau(factor=0.5,\n",
        "                                         patience=4,\n",
        "                                         verbose=0),\n",
        "    tf.keras.callbacks.EarlyStopping(\n",
        "        monitor=\"accuracy\",\n",
        "        patience=12,\n",
        "        restore_best_weights=True,\n",
        "    ),\n",
        "    tf.keras.callbacks.ModelCheckpoint(\n",
        "        filepath='feature_extraction.vgg16',\n",
        "        save_best_only=True,\n",
        "        monitor=\"val_accuracy\",\n",
        "    ),\n",
        "\n",
        "]\n"
      ],
      "execution_count": 29,
      "outputs": []
    },
    {
      "cell_type": "code",
      "metadata": {
        "id": "Q49JsEYskH6B",
        "colab": {
          "base_uri": "https://localhost:8080/"
        },
        "outputId": "892d08e7-6e48-47c8-b43d-45938e1f3bc0"
      },
      "source": [
        "epochs=100\n",
        "historyvgg16 = modelvgg16.fit(train_generator,\n",
        "                         steps_per_epoch = 975/32,\n",
        "                          epochs=epochs,\n",
        "                          callbacks=callbacksvgg16,\n",
        "                          #validation_steps = 2000/32,\n",
        "                          validation_data=validation_generator)"
      ],
      "execution_count": 31,
      "outputs": [
        {
          "output_type": "stream",
          "name": "stdout",
          "text": [
            "Epoch 1/100\n",
            "30/30 [==============================] - 11s 373ms/step - loss: 1.7844 - accuracy: 0.2595 - val_loss: 1.4859 - val_accuracy: 0.5885\n",
            "INFO:tensorflow:Assets written to: feature_extraction.vgg16/assets\n",
            "Epoch 2/100\n",
            "30/30 [==============================] - 10s 344ms/step - loss: 1.3667 - accuracy: 0.6462 - val_loss: 1.1735 - val_accuracy: 0.7325\n",
            "INFO:tensorflow:Assets written to: feature_extraction.vgg16/assets\n",
            "Epoch 3/100\n",
            "30/30 [==============================] - 10s 340ms/step - loss: 1.1430 - accuracy: 0.6933 - val_loss: 0.9813 - val_accuracy: 0.7490\n",
            "INFO:tensorflow:Assets written to: feature_extraction.vgg16/assets\n",
            "Epoch 4/100\n",
            "30/30 [==============================] - 10s 335ms/step - loss: 0.9945 - accuracy: 0.7282 - val_loss: 0.8510 - val_accuracy: 0.7860\n",
            "INFO:tensorflow:Assets written to: feature_extraction.vgg16/assets\n",
            "Epoch 5/100\n",
            "30/30 [==============================] - 10s 339ms/step - loss: 0.8942 - accuracy: 0.7569 - val_loss: 0.7674 - val_accuracy: 0.7695\n",
            "Epoch 6/100\n",
            "30/30 [==============================] - 10s 335ms/step - loss: 0.8303 - accuracy: 0.7621 - val_loss: 0.7080 - val_accuracy: 0.7819\n",
            "Epoch 7/100\n",
            "30/30 [==============================] - 10s 337ms/step - loss: 0.7698 - accuracy: 0.7672 - val_loss: 0.6590 - val_accuracy: 0.8025\n",
            "INFO:tensorflow:Assets written to: feature_extraction.vgg16/assets\n",
            "Epoch 8/100\n",
            "30/30 [==============================] - 10s 338ms/step - loss: 0.7299 - accuracy: 0.7846 - val_loss: 0.6231 - val_accuracy: 0.8189\n",
            "INFO:tensorflow:Assets written to: feature_extraction.vgg16/assets\n",
            "Epoch 9/100\n",
            "30/30 [==============================] - 10s 338ms/step - loss: 0.6985 - accuracy: 0.7744 - val_loss: 0.6019 - val_accuracy: 0.7942\n",
            "Epoch 10/100\n",
            "30/30 [==============================] - 10s 335ms/step - loss: 0.6681 - accuracy: 0.7856 - val_loss: 0.5767 - val_accuracy: 0.8066\n",
            "Epoch 11/100\n",
            "30/30 [==============================] - 10s 336ms/step - loss: 0.6391 - accuracy: 0.8082 - val_loss: 0.5580 - val_accuracy: 0.8025\n",
            "Epoch 12/100\n",
            "30/30 [==============================] - 10s 335ms/step - loss: 0.6227 - accuracy: 0.7877 - val_loss: 0.5512 - val_accuracy: 0.8025\n",
            "Epoch 13/100\n",
            "30/30 [==============================] - 10s 334ms/step - loss: 0.5893 - accuracy: 0.8072 - val_loss: 0.5224 - val_accuracy: 0.8354\n",
            "INFO:tensorflow:Assets written to: feature_extraction.vgg16/assets\n",
            "Epoch 14/100\n",
            "30/30 [==============================] - 10s 335ms/step - loss: 0.5805 - accuracy: 0.8144 - val_loss: 0.5167 - val_accuracy: 0.8230\n",
            "Epoch 15/100\n",
            "30/30 [==============================] - 10s 332ms/step - loss: 0.5612 - accuracy: 0.8328 - val_loss: 0.5048 - val_accuracy: 0.8107\n",
            "Epoch 16/100\n",
            "30/30 [==============================] - 10s 335ms/step - loss: 0.5545 - accuracy: 0.8205 - val_loss: 0.5001 - val_accuracy: 0.8066\n",
            "Epoch 17/100\n",
            "30/30 [==============================] - 10s 335ms/step - loss: 0.5423 - accuracy: 0.8349 - val_loss: 0.4811 - val_accuracy: 0.8313\n",
            "Epoch 18/100\n",
            "30/30 [==============================] - 10s 333ms/step - loss: 0.5189 - accuracy: 0.8267 - val_loss: 0.4868 - val_accuracy: 0.8107\n",
            "Epoch 19/100\n",
            "30/30 [==============================] - 10s 332ms/step - loss: 0.5085 - accuracy: 0.8410 - val_loss: 0.4668 - val_accuracy: 0.8395\n",
            "INFO:tensorflow:Assets written to: feature_extraction.vgg16/assets\n",
            "Epoch 20/100\n",
            "30/30 [==============================] - 10s 334ms/step - loss: 0.5003 - accuracy: 0.8533 - val_loss: 0.4603 - val_accuracy: 0.8436\n",
            "INFO:tensorflow:Assets written to: feature_extraction.vgg16/assets\n",
            "Epoch 21/100\n",
            "30/30 [==============================] - 10s 334ms/step - loss: 0.5061 - accuracy: 0.8379 - val_loss: 0.4589 - val_accuracy: 0.8395\n",
            "Epoch 22/100\n",
            "30/30 [==============================] - 10s 333ms/step - loss: 0.4902 - accuracy: 0.8338 - val_loss: 0.4490 - val_accuracy: 0.8436\n",
            "Epoch 23/100\n",
            "30/30 [==============================] - 10s 334ms/step - loss: 0.4724 - accuracy: 0.8462 - val_loss: 0.4373 - val_accuracy: 0.8807\n",
            "INFO:tensorflow:Assets written to: feature_extraction.vgg16/assets\n",
            "Epoch 24/100\n",
            "30/30 [==============================] - 10s 334ms/step - loss: 0.4543 - accuracy: 0.8533 - val_loss: 0.4415 - val_accuracy: 0.8477\n",
            "Epoch 25/100\n",
            "30/30 [==============================] - 10s 333ms/step - loss: 0.4354 - accuracy: 0.8595 - val_loss: 0.4341 - val_accuracy: 0.8519\n",
            "Epoch 26/100\n",
            "30/30 [==============================] - 10s 335ms/step - loss: 0.4391 - accuracy: 0.8554 - val_loss: 0.4314 - val_accuracy: 0.8601\n",
            "Epoch 27/100\n",
            "30/30 [==============================] - 10s 334ms/step - loss: 0.4264 - accuracy: 0.8626 - val_loss: 0.4262 - val_accuracy: 0.8560\n",
            "Epoch 28/100\n",
            "30/30 [==============================] - 10s 335ms/step - loss: 0.4250 - accuracy: 0.8656 - val_loss: 0.4114 - val_accuracy: 0.8683\n",
            "Epoch 29/100\n",
            "30/30 [==============================] - 10s 336ms/step - loss: 0.4209 - accuracy: 0.8636 - val_loss: 0.4305 - val_accuracy: 0.8560\n",
            "Epoch 30/100\n",
            "30/30 [==============================] - 10s 334ms/step - loss: 0.4189 - accuracy: 0.8533 - val_loss: 0.4151 - val_accuracy: 0.8642\n",
            "Epoch 31/100\n",
            "30/30 [==============================] - 10s 334ms/step - loss: 0.4136 - accuracy: 0.8667 - val_loss: 0.4059 - val_accuracy: 0.8807\n",
            "Epoch 32/100\n",
            "30/30 [==============================] - 10s 337ms/step - loss: 0.4010 - accuracy: 0.8656 - val_loss: 0.4077 - val_accuracy: 0.8765\n",
            "Epoch 33/100\n",
            "30/30 [==============================] - 10s 334ms/step - loss: 0.3910 - accuracy: 0.8749 - val_loss: 0.4031 - val_accuracy: 0.8683\n",
            "Epoch 34/100\n",
            "30/30 [==============================] - 10s 334ms/step - loss: 0.3767 - accuracy: 0.8738 - val_loss: 0.4046 - val_accuracy: 0.8848\n",
            "INFO:tensorflow:Assets written to: feature_extraction.vgg16/assets\n",
            "Epoch 35/100\n",
            "30/30 [==============================] - 10s 334ms/step - loss: 0.3733 - accuracy: 0.8821 - val_loss: 0.3961 - val_accuracy: 0.8765\n",
            "Epoch 36/100\n",
            "30/30 [==============================] - 10s 333ms/step - loss: 0.3716 - accuracy: 0.8821 - val_loss: 0.4035 - val_accuracy: 0.8642\n",
            "Epoch 37/100\n",
            "30/30 [==============================] - 10s 334ms/step - loss: 0.3777 - accuracy: 0.8749 - val_loss: 0.3935 - val_accuracy: 0.8724\n",
            "Epoch 38/100\n",
            "30/30 [==============================] - 10s 332ms/step - loss: 0.3613 - accuracy: 0.8769 - val_loss: 0.3939 - val_accuracy: 0.8848\n",
            "Epoch 39/100\n",
            "30/30 [==============================] - 10s 334ms/step - loss: 0.3704 - accuracy: 0.8728 - val_loss: 0.4021 - val_accuracy: 0.8765\n",
            "Epoch 40/100\n",
            "30/30 [==============================] - 10s 332ms/step - loss: 0.3808 - accuracy: 0.8738 - val_loss: 0.4157 - val_accuracy: 0.8560\n",
            "Epoch 41/100\n",
            "30/30 [==============================] - 10s 338ms/step - loss: 0.3655 - accuracy: 0.8667 - val_loss: 0.3998 - val_accuracy: 0.8642\n",
            "Epoch 42/100\n",
            "30/30 [==============================] - 10s 333ms/step - loss: 0.3502 - accuracy: 0.8790 - val_loss: 0.3899 - val_accuracy: 0.8807\n",
            "Epoch 43/100\n",
            "30/30 [==============================] - 10s 332ms/step - loss: 0.3569 - accuracy: 0.8759 - val_loss: 0.3895 - val_accuracy: 0.8683\n",
            "Epoch 44/100\n",
            "30/30 [==============================] - 10s 333ms/step - loss: 0.3583 - accuracy: 0.8790 - val_loss: 0.3852 - val_accuracy: 0.8889\n",
            "INFO:tensorflow:Assets written to: feature_extraction.vgg16/assets\n",
            "Epoch 45/100\n",
            "30/30 [==============================] - 10s 333ms/step - loss: 0.3423 - accuracy: 0.8831 - val_loss: 0.3818 - val_accuracy: 0.8889\n",
            "Epoch 46/100\n",
            "30/30 [==============================] - 10s 333ms/step - loss: 0.3512 - accuracy: 0.8697 - val_loss: 0.3830 - val_accuracy: 0.8889\n",
            "Epoch 47/100\n",
            "30/30 [==============================] - 10s 333ms/step - loss: 0.3500 - accuracy: 0.8790 - val_loss: 0.3821 - val_accuracy: 0.8848\n",
            "Epoch 48/100\n",
            "30/30 [==============================] - 10s 333ms/step - loss: 0.3442 - accuracy: 0.8738 - val_loss: 0.3811 - val_accuracy: 0.8807\n",
            "Epoch 49/100\n",
            "30/30 [==============================] - 10s 333ms/step - loss: 0.3579 - accuracy: 0.8667 - val_loss: 0.3793 - val_accuracy: 0.8848\n",
            "Epoch 50/100\n",
            "30/30 [==============================] - 10s 335ms/step - loss: 0.3322 - accuracy: 0.8964 - val_loss: 0.3939 - val_accuracy: 0.8642\n",
            "Epoch 51/100\n",
            "30/30 [==============================] - 10s 335ms/step - loss: 0.3418 - accuracy: 0.8851 - val_loss: 0.3771 - val_accuracy: 0.8889\n",
            "Epoch 52/100\n",
            "30/30 [==============================] - 10s 335ms/step - loss: 0.3438 - accuracy: 0.8841 - val_loss: 0.3791 - val_accuracy: 0.8889\n",
            "Epoch 53/100\n",
            "30/30 [==============================] - 10s 333ms/step - loss: 0.3405 - accuracy: 0.8903 - val_loss: 0.3782 - val_accuracy: 0.8848\n",
            "Epoch 54/100\n",
            "30/30 [==============================] - 10s 333ms/step - loss: 0.3395 - accuracy: 0.8821 - val_loss: 0.3759 - val_accuracy: 0.8971\n",
            "INFO:tensorflow:Assets written to: feature_extraction.vgg16/assets\n",
            "Epoch 55/100\n",
            "30/30 [==============================] - 10s 336ms/step - loss: 0.3332 - accuracy: 0.8913 - val_loss: 0.3753 - val_accuracy: 0.8971\n",
            "Epoch 56/100\n",
            "30/30 [==============================] - 10s 333ms/step - loss: 0.3334 - accuracy: 0.8903 - val_loss: 0.3779 - val_accuracy: 0.8807\n",
            "Epoch 57/100\n",
            "30/30 [==============================] - 10s 334ms/step - loss: 0.3365 - accuracy: 0.8790 - val_loss: 0.3733 - val_accuracy: 0.8930\n",
            "Epoch 58/100\n",
            "30/30 [==============================] - 10s 333ms/step - loss: 0.3024 - accuracy: 0.8913 - val_loss: 0.3792 - val_accuracy: 0.8807\n",
            "Epoch 59/100\n",
            "30/30 [==============================] - 10s 333ms/step - loss: 0.3205 - accuracy: 0.8923 - val_loss: 0.3782 - val_accuracy: 0.8765\n",
            "Epoch 60/100\n",
            "30/30 [==============================] - 10s 334ms/step - loss: 0.3434 - accuracy: 0.8779 - val_loss: 0.3761 - val_accuracy: 0.8848\n",
            "Epoch 61/100\n",
            "30/30 [==============================] - 10s 335ms/step - loss: 0.3088 - accuracy: 0.8933 - val_loss: 0.3686 - val_accuracy: 0.8807\n",
            "Epoch 62/100\n",
            "30/30 [==============================] - 10s 333ms/step - loss: 0.3386 - accuracy: 0.8749 - val_loss: 0.3687 - val_accuracy: 0.8971\n"
          ]
        }
      ]
    },
    {
      "cell_type": "code",
      "metadata": {
        "colab": {
          "base_uri": "https://localhost:8080/",
          "height": 545
        },
        "id": "OzhMZWXqtWGz",
        "outputId": "14684b60-06ea-4c90-f99c-6b1455e07946"
      },
      "source": [
        "%matplotlib inline\n",
        "import matplotlib.pyplot as plt\n",
        "acc = history.history['accuracy']\n",
        "val_acc = history.history['val_accuracy']\n",
        "loss = history.history['loss']\n",
        "val_loss = history.history['val_loss']\n",
        "\n",
        "epochs = range(len(acc))\n",
        "\n",
        "plt.plot(epochs, acc, 'r', label='Training accuracy')\n",
        "plt.plot(epochs, val_acc, 'b', label='Validation accuracy')\n",
        "plt.title('Training and validation accuracy')\n",
        "plt.legend(loc=0)\n",
        "plt.figure()\n",
        "\n",
        "plt.plot(epochs, loss, 'r', label='Training Loss')\n",
        "plt.plot(epochs, val_loss, 'b', label='Validation Loss')\n",
        "plt.title('Training and validation loss')\n",
        "plt.legend()\n",
        "\n",
        "plt.show()"
      ],
      "execution_count": 32,
      "outputs": [
        {
          "output_type": "display_data",
          "data": {
            "image/png": "[encoded data removed]",
            "text/plain": [
              "<Figure size 432x288 with 1 Axes>"
            ]
          },
          "metadata": {
            "needs_background": "light"
          }
        },
        {
          "output_type": "display_data",
          "data": {
            "image/png": "[encoded data removed]",
            "text/plain": [
              "<Figure size 432x288 with 1 Axes>"
            ]
          },
          "metadata": {
            "needs_background": "light"
          }
        }
      ]
    },
    {
      "cell_type": "code",
      "metadata": {
        "colab": {
          "base_uri": "https://localhost:8080/"
        },
        "id": "Usw3n8GmtmXH",
        "outputId": "7c84ca50-796e-4554-c728-1d603ad8dc6b"
      },
      "source": [
        "modelvgg16 = tf.keras.models.load_model(\"feature_extraction.vgg16\")\n",
        "\n",
        "test_lossvgg16, test_accvgg16= modelvgg16.evaluate(X_test,y_test)\n",
        "print(\"validation_accuracy: \" + str(test_accvgg16))"
      ],
      "execution_count": 33,
      "outputs": [
        {
          "output_type": "stream",
          "name": "stdout",
          "text": [
            "1/1 [==============================] - 0s 425ms/step - loss: 0.1337 - accuracy: 0.9688\n",
            "validation_accuracy: 0.96875\n"
          ]
        }
      ]
    },
    {
      "cell_type": "markdown",
      "metadata": {
        "id": "sy2zkcHz6FPn"
      },
      "source": [
        "# **O modeo InceptionV3**"
      ]
    },
    {
      "cell_type": "code",
      "metadata": {
        "id": "20chtUcZ6F-F"
      },
      "source": [
        "#inception_v3 = InceptionV3(input_shape=(150, 150, 3),\n",
        "                           #weights='imagenet',\n",
        "                           #include_top=False)\n",
        "#inception_v3.trainable = False"
      ],
      "execution_count": 76,
      "outputs": []
    },
    {
      "cell_type": "code",
      "metadata": {
        "id": "WTR61TBxvoGO"
      },
      "source": [
        "inception_v3 = InceptionV3(include_top=False, input_shape=(150, 150, 3)) # Minimo de shape que o VGG16 aceita\n",
        "\n",
        "# marcar camadas como não treináveis\n",
        "for layer in classifier.layers:\n",
        "    layer.trainable = False"
      ],
      "execution_count": 87,
      "outputs": []
    },
    {
      "cell_type": "code",
      "metadata": {
        "colab": {
          "base_uri": "https://localhost:8080/"
        },
        "id": "hFC6sp1q6Lct",
        "outputId": "a19f2895-990e-4b9a-9904-3935c6e1851c"
      },
      "source": [
        "x = layers.Flatten()(inception_v3.output)\n",
        "x = layers.BatchNormalization()(x)\n",
        "x = layers.Dense(512,activation='relu')(x)\n",
        "x = layers.Dropout(0.2)(x)                  \n",
        "x = layers.Dense(6,activation='softmax')(x)           \n",
        "\n",
        "# definir o modelo\n",
        "modelinception_v3 = Model(inputs=inception_v3.inputs, outputs=x) \n",
        "\n",
        "#flat1 = tf.keras.layers.Flatten()(classifier.layers[-1].output)\n",
        "#class1 = Dense(512, activation='relu', kernel_initializer='he_uniform')(flat1)\n",
        "#output = Dense(6, activation='softmax')(class1)\n",
        "\n",
        "\n",
        "modelinception_v3.summary()\n",
        "\n",
        "modelinception_v3.compile(optimizer = Adam(learning_rate=0.0001), \n",
        "               loss = 'categorical_crossentropy', \n",
        "               metrics =['accuracy'])\n",
        "\n",
        "callbacksinception_v3 = [\n",
        "    tf.keras.callbacks.ReduceLROnPlateau(factor=0.5,\n",
        "                                         patience=4,\n",
        "                                         verbose=0),\n",
        "    tf.keras.callbacks.EarlyStopping(\n",
        "        monitor=\"accuracy\",\n",
        "        patience=12,\n",
        "        restore_best_weights=True,\n",
        "    ),\n",
        "    tf.keras.callbacks.ModelCheckpoint(\n",
        "        filepath='inception_v3_weights_tf_dim_ordering_tf_kernels_notop.h5',\n",
        "        save_best_only=True,\n",
        "        monitor=\"val_accuracy\",\n",
        "    ),\n",
        "\n",
        "]"
      ],
      "execution_count": 90,
      "outputs": [
        {
          "output_type": "stream",
          "name": "stdout",
          "text": [
            "Model: \"model_18\"\n",
            "__________________________________________________________________________________________________\n",
            "Layer (type)                    Output Shape         Param #     Connected to                     \n",
            "==================================================================================================\n",
            "input_8 (InputLayer)            [(None, 150, 150, 3) 0                                            \n",
            "__________________________________________________________________________________________________\n",
            "conv2d_567 (Conv2D)             (None, 74, 74, 32)   864         input_8[0][0]                    \n",
            "__________________________________________________________________________________________________\n",
            "batch_normalization_581 (BatchN (None, 74, 74, 32)   96          conv2d_567[0][0]                 \n",
            "__________________________________________________________________________________________________\n",
            "activation_564 (Activation)     (None, 74, 74, 32)   0           batch_normalization_581[0][0]    \n",
            "__________________________________________________________________________________________________\n",
            "conv2d_568 (Conv2D)             (None, 72, 72, 32)   9216        activation_564[0][0]             \n",
            "__________________________________________________________________________________________________\n",
            "batch_normalization_582 (BatchN (None, 72, 72, 32)   96          conv2d_568[0][0]                 \n",
            "__________________________________________________________________________________________________\n",
            "activation_565 (Activation)     (None, 72, 72, 32)   0           batch_normalization_582[0][0]    \n",
            "__________________________________________________________________________________________________\n",
            "conv2d_569 (Conv2D)             (None, 72, 72, 64)   18432       activation_565[0][0]             \n",
            "__________________________________________________________________________________________________\n",
            "batch_normalization_583 (BatchN (None, 72, 72, 64)   192         conv2d_569[0][0]                 \n",
            "__________________________________________________________________________________________________\n",
            "activation_566 (Activation)     (None, 72, 72, 64)   0           batch_normalization_583[0][0]    \n",
            "__________________________________________________________________________________________________\n",
            "max_pooling2d_27 (MaxPooling2D) (None, 35, 35, 64)   0           activation_566[0][0]             \n",
            "__________________________________________________________________________________________________\n",
            "conv2d_570 (Conv2D)             (None, 35, 35, 80)   5120        max_pooling2d_27[0][0]           \n",
            "__________________________________________________________________________________________________\n",
            "batch_normalization_584 (BatchN (None, 35, 35, 80)   240         conv2d_570[0][0]                 \n",
            "__________________________________________________________________________________________________\n",
            "activation_567 (Activation)     (None, 35, 35, 80)   0           batch_normalization_584[0][0]    \n",
            "__________________________________________________________________________________________________\n",
            "conv2d_571 (Conv2D)             (None, 33, 33, 192)  138240      activation_567[0][0]             \n",
            "__________________________________________________________________________________________________\n",
            "batch_normalization_585 (BatchN (None, 33, 33, 192)  576         conv2d_571[0][0]                 \n",
            "__________________________________________________________________________________________________\n",
            "activation_568 (Activation)     (None, 33, 33, 192)  0           batch_normalization_585[0][0]    \n",
            "__________________________________________________________________________________________________\n",
            "max_pooling2d_28 (MaxPooling2D) (None, 16, 16, 192)  0           activation_568[0][0]             \n",
            "__________________________________________________________________________________________________\n",
            "conv2d_575 (Conv2D)             (None, 16, 16, 64)   12288       max_pooling2d_28[0][0]           \n",
            "__________________________________________________________________________________________________\n",
            "batch_normalization_589 (BatchN (None, 16, 16, 64)   192         conv2d_575[0][0]                 \n",
            "__________________________________________________________________________________________________\n",
            "activation_572 (Activation)     (None, 16, 16, 64)   0           batch_normalization_589[0][0]    \n",
            "__________________________________________________________________________________________________\n",
            "conv2d_573 (Conv2D)             (None, 16, 16, 48)   9216        max_pooling2d_28[0][0]           \n",
            "__________________________________________________________________________________________________\n",
            "conv2d_576 (Conv2D)             (None, 16, 16, 96)   55296       activation_572[0][0]             \n",
            "__________________________________________________________________________________________________\n",
            "batch_normalization_587 (BatchN (None, 16, 16, 48)   144         conv2d_573[0][0]                 \n",
            "__________________________________________________________________________________________________\n",
            "batch_normalization_590 (BatchN (None, 16, 16, 96)   288         conv2d_576[0][0]                 \n",
            "__________________________________________________________________________________________________\n",
            "activation_570 (Activation)     (None, 16, 16, 48)   0           batch_normalization_587[0][0]    \n",
            "__________________________________________________________________________________________________\n",
            "activation_573 (Activation)     (None, 16, 16, 96)   0           batch_normalization_590[0][0]    \n",
            "__________________________________________________________________________________________________\n",
            "average_pooling2d_54 (AveragePo (None, 16, 16, 192)  0           max_pooling2d_28[0][0]           \n",
            "__________________________________________________________________________________________________\n",
            "conv2d_572 (Conv2D)             (None, 16, 16, 64)   12288       max_pooling2d_28[0][0]           \n",
            "__________________________________________________________________________________________________\n",
            "conv2d_574 (Conv2D)             (None, 16, 16, 64)   76800       activation_570[0][0]             \n",
            "__________________________________________________________________________________________________\n",
            "conv2d_577 (Conv2D)             (None, 16, 16, 96)   82944       activation_573[0][0]             \n",
            "__________________________________________________________________________________________________\n",
            "conv2d_578 (Conv2D)             (None, 16, 16, 32)   6144        average_pooling2d_54[0][0]       \n",
            "__________________________________________________________________________________________________\n",
            "batch_normalization_586 (BatchN (None, 16, 16, 64)   192         conv2d_572[0][0]                 \n",
            "__________________________________________________________________________________________________\n",
            "batch_normalization_588 (BatchN (None, 16, 16, 64)   192         conv2d_574[0][0]                 \n",
            "__________________________________________________________________________________________________\n",
            "batch_normalization_591 (BatchN (None, 16, 16, 96)   288         conv2d_577[0][0]                 \n",
            "__________________________________________________________________________________________________\n",
            "batch_normalization_592 (BatchN (None, 16, 16, 32)   96          conv2d_578[0][0]                 \n",
            "__________________________________________________________________________________________________\n",
            "activation_569 (Activation)     (None, 16, 16, 64)   0           batch_normalization_586[0][0]    \n",
            "__________________________________________________________________________________________________\n",
            "activation_571 (Activation)     (None, 16, 16, 64)   0           batch_normalization_588[0][0]    \n",
            "__________________________________________________________________________________________________\n",
            "activation_574 (Activation)     (None, 16, 16, 96)   0           batch_normalization_591[0][0]    \n",
            "__________________________________________________________________________________________________\n",
            "activation_575 (Activation)     (None, 16, 16, 32)   0           batch_normalization_592[0][0]    \n",
            "__________________________________________________________________________________________________\n",
            "mixed0 (Concatenate)            (None, 16, 16, 256)  0           activation_569[0][0]             \n",
            "                                                                 activation_571[0][0]             \n",
            "                                                                 activation_574[0][0]             \n",
            "                                                                 activation_575[0][0]             \n",
            "__________________________________________________________________________________________________\n",
            "conv2d_582 (Conv2D)             (None, 16, 16, 64)   16384       mixed0[0][0]                     \n",
            "__________________________________________________________________________________________________\n",
            "batch_normalization_596 (BatchN (None, 16, 16, 64)   192         conv2d_582[0][0]                 \n",
            "__________________________________________________________________________________________________\n",
            "activation_579 (Activation)     (None, 16, 16, 64)   0           batch_normalization_596[0][0]    \n",
            "__________________________________________________________________________________________________\n",
            "conv2d_580 (Conv2D)             (None, 16, 16, 48)   12288       mixed0[0][0]                     \n",
            "__________________________________________________________________________________________________\n",
            "conv2d_583 (Conv2D)             (None, 16, 16, 96)   55296       activation_579[0][0]             \n",
            "__________________________________________________________________________________________________\n",
            "batch_normalization_594 (BatchN (None, 16, 16, 48)   144         conv2d_580[0][0]                 \n",
            "__________________________________________________________________________________________________\n",
            "batch_normalization_597 (BatchN (None, 16, 16, 96)   288         conv2d_583[0][0]                 \n",
            "__________________________________________________________________________________________________\n",
            "activation_577 (Activation)     (None, 16, 16, 48)   0           batch_normalization_594[0][0]    \n",
            "__________________________________________________________________________________________________\n",
            "activation_580 (Activation)     (None, 16, 16, 96)   0           batch_normalization_597[0][0]    \n",
            "__________________________________________________________________________________________________\n",
            "average_pooling2d_55 (AveragePo (None, 16, 16, 256)  0           mixed0[0][0]                     \n",
            "__________________________________________________________________________________________________\n",
            "conv2d_579 (Conv2D)             (None, 16, 16, 64)   16384       mixed0[0][0]                     \n",
            "__________________________________________________________________________________________________\n",
            "conv2d_581 (Conv2D)             (None, 16, 16, 64)   76800       activation_577[0][0]             \n",
            "__________________________________________________________________________________________________\n",
            "conv2d_584 (Conv2D)             (None, 16, 16, 96)   82944       activation_580[0][0]             \n",
            "__________________________________________________________________________________________________\n",
            "conv2d_585 (Conv2D)             (None, 16, 16, 64)   16384       average_pooling2d_55[0][0]       \n",
            "__________________________________________________________________________________________________\n",
            "batch_normalization_593 (BatchN (None, 16, 16, 64)   192         conv2d_579[0][0]                 \n",
            "__________________________________________________________________________________________________\n",
            "batch_normalization_595 (BatchN (None, 16, 16, 64)   192         conv2d_581[0][0]                 \n",
            "__________________________________________________________________________________________________\n",
            "batch_normalization_598 (BatchN (None, 16, 16, 96)   288         conv2d_584[0][0]                 \n",
            "__________________________________________________________________________________________________\n",
            "batch_normalization_599 (BatchN (None, 16, 16, 64)   192         conv2d_585[0][0]                 \n",
            "__________________________________________________________________________________________________\n",
            "activation_576 (Activation)     (None, 16, 16, 64)   0           batch_normalization_593[0][0]    \n",
            "__________________________________________________________________________________________________\n",
            "activation_578 (Activation)     (None, 16, 16, 64)   0           batch_normalization_595[0][0]    \n",
            "__________________________________________________________________________________________________\n",
            "activation_581 (Activation)     (None, 16, 16, 96)   0           batch_normalization_598[0][0]    \n",
            "__________________________________________________________________________________________________\n",
            "activation_582 (Activation)     (None, 16, 16, 64)   0           batch_normalization_599[0][0]    \n",
            "__________________________________________________________________________________________________\n",
            "mixed1 (Concatenate)            (None, 16, 16, 288)  0           activation_576[0][0]             \n",
            "                                                                 activation_578[0][0]             \n",
            "                                                                 activation_581[0][0]             \n",
            "                                                                 activation_582[0][0]             \n",
            "__________________________________________________________________________________________________\n",
            "conv2d_589 (Conv2D)             (None, 16, 16, 64)   18432       mixed1[0][0]                     \n",
            "__________________________________________________________________________________________________\n",
            "batch_normalization_603 (BatchN (None, 16, 16, 64)   192         conv2d_589[0][0]                 \n",
            "__________________________________________________________________________________________________\n",
            "activation_586 (Activation)     (None, 16, 16, 64)   0           batch_normalization_603[0][0]    \n",
            "__________________________________________________________________________________________________\n",
            "conv2d_587 (Conv2D)             (None, 16, 16, 48)   13824       mixed1[0][0]                     \n",
            "__________________________________________________________________________________________________\n",
            "conv2d_590 (Conv2D)             (None, 16, 16, 96)   55296       activation_586[0][0]             \n",
            "__________________________________________________________________________________________________\n",
            "batch_normalization_601 (BatchN (None, 16, 16, 48)   144         conv2d_587[0][0]                 \n",
            "__________________________________________________________________________________________________\n",
            "batch_normalization_604 (BatchN (None, 16, 16, 96)   288         conv2d_590[0][0]                 \n",
            "__________________________________________________________________________________________________\n",
            "activation_584 (Activation)     (None, 16, 16, 48)   0           batch_normalization_601[0][0]    \n",
            "__________________________________________________________________________________________________\n",
            "activation_587 (Activation)     (None, 16, 16, 96)   0           batch_normalization_604[0][0]    \n",
            "__________________________________________________________________________________________________\n",
            "average_pooling2d_56 (AveragePo (None, 16, 16, 288)  0           mixed1[0][0]                     \n",
            "__________________________________________________________________________________________________\n",
            "conv2d_586 (Conv2D)             (None, 16, 16, 64)   18432       mixed1[0][0]                     \n",
            "__________________________________________________________________________________________________\n",
            "conv2d_588 (Conv2D)             (None, 16, 16, 64)   76800       activation_584[0][0]             \n",
            "__________________________________________________________________________________________________\n",
            "conv2d_591 (Conv2D)             (None, 16, 16, 96)   82944       activation_587[0][0]             \n",
            "__________________________________________________________________________________________________\n",
            "conv2d_592 (Conv2D)             (None, 16, 16, 64)   18432       average_pooling2d_56[0][0]       \n",
            "__________________________________________________________________________________________________\n",
            "batch_normalization_600 (BatchN (None, 16, 16, 64)   192         conv2d_586[0][0]                 \n",
            "__________________________________________________________________________________________________\n",
            "batch_normalization_602 (BatchN (None, 16, 16, 64)   192         conv2d_588[0][0]                 \n",
            "__________________________________________________________________________________________________\n",
            "batch_normalization_605 (BatchN (None, 16, 16, 96)   288         conv2d_591[0][0]                 \n",
            "__________________________________________________________________________________________________\n",
            "batch_normalization_606 (BatchN (None, 16, 16, 64)   192         conv2d_592[0][0]                 \n",
            "__________________________________________________________________________________________________\n",
            "activation_583 (Activation)     (None, 16, 16, 64)   0           batch_normalization_600[0][0]    \n",
            "__________________________________________________________________________________________________\n",
            "activation_585 (Activation)     (None, 16, 16, 64)   0           batch_normalization_602[0][0]    \n",
            "__________________________________________________________________________________________________\n",
            "activation_588 (Activation)     (None, 16, 16, 96)   0           batch_normalization_605[0][0]    \n",
            "__________________________________________________________________________________________________\n",
            "activation_589 (Activation)     (None, 16, 16, 64)   0           batch_normalization_606[0][0]    \n",
            "__________________________________________________________________________________________________\n",
            "mixed2 (Concatenate)            (None, 16, 16, 288)  0           activation_583[0][0]             \n",
            "                                                                 activation_585[0][0]             \n",
            "                                                                 activation_588[0][0]             \n",
            "                                                                 activation_589[0][0]             \n",
            "__________________________________________________________________________________________________\n",
            "conv2d_594 (Conv2D)             (None, 16, 16, 64)   18432       mixed2[0][0]                     \n",
            "__________________________________________________________________________________________________\n",
            "batch_normalization_608 (BatchN (None, 16, 16, 64)   192         conv2d_594[0][0]                 \n",
            "__________________________________________________________________________________________________\n",
            "activation_591 (Activation)     (None, 16, 16, 64)   0           batch_normalization_608[0][0]    \n",
            "__________________________________________________________________________________________________\n",
            "conv2d_595 (Conv2D)             (None, 16, 16, 96)   55296       activation_591[0][0]             \n",
            "__________________________________________________________________________________________________\n",
            "batch_normalization_609 (BatchN (None, 16, 16, 96)   288         conv2d_595[0][0]                 \n",
            "__________________________________________________________________________________________________\n",
            "activation_592 (Activation)     (None, 16, 16, 96)   0           batch_normalization_609[0][0]    \n",
            "__________________________________________________________________________________________________\n",
            "conv2d_593 (Conv2D)             (None, 7, 7, 384)    995328      mixed2[0][0]                     \n",
            "__________________________________________________________________________________________________\n",
            "conv2d_596 (Conv2D)             (None, 7, 7, 96)     82944       activation_592[0][0]             \n",
            "__________________________________________________________________________________________________\n",
            "batch_normalization_607 (BatchN (None, 7, 7, 384)    1152        conv2d_593[0][0]                 \n",
            "__________________________________________________________________________________________________\n",
            "batch_normalization_610 (BatchN (None, 7, 7, 96)     288         conv2d_596[0][0]                 \n",
            "__________________________________________________________________________________________________\n",
            "activation_590 (Activation)     (None, 7, 7, 384)    0           batch_normalization_607[0][0]    \n",
            "__________________________________________________________________________________________________\n",
            "activation_593 (Activation)     (None, 7, 7, 96)     0           batch_normalization_610[0][0]    \n",
            "__________________________________________________________________________________________________\n",
            "max_pooling2d_29 (MaxPooling2D) (None, 7, 7, 288)    0           mixed2[0][0]                     \n",
            "__________________________________________________________________________________________________\n",
            "mixed3 (Concatenate)            (None, 7, 7, 768)    0           activation_590[0][0]             \n",
            "                                                                 activation_593[0][0]             \n",
            "                                                                 max_pooling2d_29[0][0]           \n",
            "__________________________________________________________________________________________________\n",
            "conv2d_601 (Conv2D)             (None, 7, 7, 128)    98304       mixed3[0][0]                     \n",
            "__________________________________________________________________________________________________\n",
            "batch_normalization_615 (BatchN (None, 7, 7, 128)    384         conv2d_601[0][0]                 \n",
            "__________________________________________________________________________________________________\n",
            "activation_598 (Activation)     (None, 7, 7, 128)    0           batch_normalization_615[0][0]    \n",
            "__________________________________________________________________________________________________\n",
            "conv2d_602 (Conv2D)             (None, 7, 7, 128)    114688      activation_598[0][0]             \n",
            "__________________________________________________________________________________________________\n",
            "batch_normalization_616 (BatchN (None, 7, 7, 128)    384         conv2d_602[0][0]                 \n",
            "__________________________________________________________________________________________________\n",
            "activation_599 (Activation)     (None, 7, 7, 128)    0           batch_normalization_616[0][0]    \n",
            "__________________________________________________________________________________________________\n",
            "conv2d_598 (Conv2D)             (None, 7, 7, 128)    98304       mixed3[0][0]                     \n",
            "__________________________________________________________________________________________________\n",
            "conv2d_603 (Conv2D)             (None, 7, 7, 128)    114688      activation_599[0][0]             \n",
            "__________________________________________________________________________________________________\n",
            "batch_normalization_612 (BatchN (None, 7, 7, 128)    384         conv2d_598[0][0]                 \n",
            "__________________________________________________________________________________________________\n",
            "batch_normalization_617 (BatchN (None, 7, 7, 128)    384         conv2d_603[0][0]                 \n",
            "__________________________________________________________________________________________________\n",
            "activation_595 (Activation)     (None, 7, 7, 128)    0           batch_normalization_612[0][0]    \n",
            "__________________________________________________________________________________________________\n",
            "activation_600 (Activation)     (None, 7, 7, 128)    0           batch_normalization_617[0][0]    \n",
            "__________________________________________________________________________________________________\n",
            "conv2d_599 (Conv2D)             (None, 7, 7, 128)    114688      activation_595[0][0]             \n",
            "__________________________________________________________________________________________________\n",
            "conv2d_604 (Conv2D)             (None, 7, 7, 128)    114688      activation_600[0][0]             \n",
            "__________________________________________________________________________________________________\n",
            "batch_normalization_613 (BatchN (None, 7, 7, 128)    384         conv2d_599[0][0]                 \n",
            "__________________________________________________________________________________________________\n",
            "batch_normalization_618 (BatchN (None, 7, 7, 128)    384         conv2d_604[0][0]                 \n",
            "__________________________________________________________________________________________________\n",
            "activation_596 (Activation)     (None, 7, 7, 128)    0           batch_normalization_613[0][0]    \n",
            "__________________________________________________________________________________________________\n",
            "activation_601 (Activation)     (None, 7, 7, 128)    0           batch_normalization_618[0][0]    \n",
            "__________________________________________________________________________________________________\n",
            "average_pooling2d_57 (AveragePo (None, 7, 7, 768)    0           mixed3[0][0]                     \n",
            "__________________________________________________________________________________________________\n",
            "conv2d_597 (Conv2D)             (None, 7, 7, 192)    147456      mixed3[0][0]                     \n",
            "__________________________________________________________________________________________________\n",
            "conv2d_600 (Conv2D)             (None, 7, 7, 192)    172032      activation_596[0][0]             \n",
            "__________________________________________________________________________________________________\n",
            "conv2d_605 (Conv2D)             (None, 7, 7, 192)    172032      activation_601[0][0]             \n",
            "__________________________________________________________________________________________________\n",
            "conv2d_606 (Conv2D)             (None, 7, 7, 192)    147456      average_pooling2d_57[0][0]       \n",
            "__________________________________________________________________________________________________\n",
            "batch_normalization_611 (BatchN (None, 7, 7, 192)    576         conv2d_597[0][0]                 \n",
            "__________________________________________________________________________________________________\n",
            "batch_normalization_614 (BatchN (None, 7, 7, 192)    576         conv2d_600[0][0]                 \n",
            "__________________________________________________________________________________________________\n",
            "batch_normalization_619 (BatchN (None, 7, 7, 192)    576         conv2d_605[0][0]                 \n",
            "__________________________________________________________________________________________________\n",
            "batch_normalization_620 (BatchN (None, 7, 7, 192)    576         conv2d_606[0][0]                 \n",
            "__________________________________________________________________________________________________\n",
            "activation_594 (Activation)     (None, 7, 7, 192)    0           batch_normalization_611[0][0]    \n",
            "__________________________________________________________________________________________________\n",
            "activation_597 (Activation)     (None, 7, 7, 192)    0           batch_normalization_614[0][0]    \n",
            "__________________________________________________________________________________________________\n",
            "activation_602 (Activation)     (None, 7, 7, 192)    0           batch_normalization_619[0][0]    \n",
            "__________________________________________________________________________________________________\n",
            "activation_603 (Activation)     (None, 7, 7, 192)    0           batch_normalization_620[0][0]    \n",
            "__________________________________________________________________________________________________\n",
            "mixed4 (Concatenate)            (None, 7, 7, 768)    0           activation_594[0][0]             \n",
            "                                                                 activation_597[0][0]             \n",
            "                                                                 activation_602[0][0]             \n",
            "                                                                 activation_603[0][0]             \n",
            "__________________________________________________________________________________________________\n",
            "conv2d_611 (Conv2D)             (None, 7, 7, 160)    122880      mixed4[0][0]                     \n",
            "__________________________________________________________________________________________________\n",
            "batch_normalization_625 (BatchN (None, 7, 7, 160)    480         conv2d_611[0][0]                 \n",
            "__________________________________________________________________________________________________\n",
            "activation_608 (Activation)     (None, 7, 7, 160)    0           batch_normalization_625[0][0]    \n",
            "__________________________________________________________________________________________________\n",
            "conv2d_612 (Conv2D)             (None, 7, 7, 160)    179200      activation_608[0][0]             \n",
            "__________________________________________________________________________________________________\n",
            "batch_normalization_626 (BatchN (None, 7, 7, 160)    480         conv2d_612[0][0]                 \n",
            "__________________________________________________________________________________________________\n",
            "activation_609 (Activation)     (None, 7, 7, 160)    0           batch_normalization_626[0][0]    \n",
            "__________________________________________________________________________________________________\n",
            "conv2d_608 (Conv2D)             (None, 7, 7, 160)    122880      mixed4[0][0]                     \n",
            "__________________________________________________________________________________________________\n",
            "conv2d_613 (Conv2D)             (None, 7, 7, 160)    179200      activation_609[0][0]             \n",
            "__________________________________________________________________________________________________\n",
            "batch_normalization_622 (BatchN (None, 7, 7, 160)    480         conv2d_608[0][0]                 \n",
            "__________________________________________________________________________________________________\n",
            "batch_normalization_627 (BatchN (None, 7, 7, 160)    480         conv2d_613[0][0]                 \n",
            "__________________________________________________________________________________________________\n",
            "activation_605 (Activation)     (None, 7, 7, 160)    0           batch_normalization_622[0][0]    \n",
            "__________________________________________________________________________________________________\n",
            "activation_610 (Activation)     (None, 7, 7, 160)    0           batch_normalization_627[0][0]    \n",
            "__________________________________________________________________________________________________\n",
            "conv2d_609 (Conv2D)             (None, 7, 7, 160)    179200      activation_605[0][0]             \n",
            "__________________________________________________________________________________________________\n",
            "conv2d_614 (Conv2D)             (None, 7, 7, 160)    179200      activation_610[0][0]             \n",
            "__________________________________________________________________________________________________\n",
            "batch_normalization_623 (BatchN (None, 7, 7, 160)    480         conv2d_609[0][0]                 \n",
            "__________________________________________________________________________________________________\n",
            "batch_normalization_628 (BatchN (None, 7, 7, 160)    480         conv2d_614[0][0]                 \n",
            "__________________________________________________________________________________________________\n",
            "activation_606 (Activation)     (None, 7, 7, 160)    0           batch_normalization_623[0][0]    \n",
            "__________________________________________________________________________________________________\n",
            "activation_611 (Activation)     (None, 7, 7, 160)    0           batch_normalization_628[0][0]    \n",
            "__________________________________________________________________________________________________\n",
            "average_pooling2d_58 (AveragePo (None, 7, 7, 768)    0           mixed4[0][0]                     \n",
            "__________________________________________________________________________________________________\n",
            "conv2d_607 (Conv2D)             (None, 7, 7, 192)    147456      mixed4[0][0]                     \n",
            "__________________________________________________________________________________________________\n",
            "conv2d_610 (Conv2D)             (None, 7, 7, 192)    215040      activation_606[0][0]             \n",
            "__________________________________________________________________________________________________\n",
            "conv2d_615 (Conv2D)             (None, 7, 7, 192)    215040      activation_611[0][0]             \n",
            "__________________________________________________________________________________________________\n",
            "conv2d_616 (Conv2D)             (None, 7, 7, 192)    147456      average_pooling2d_58[0][0]       \n",
            "__________________________________________________________________________________________________\n",
            "batch_normalization_621 (BatchN (None, 7, 7, 192)    576         conv2d_607[0][0]                 \n",
            "__________________________________________________________________________________________________\n",
            "batch_normalization_624 (BatchN (None, 7, 7, 192)    576         conv2d_610[0][0]                 \n",
            "__________________________________________________________________________________________________\n",
            "batch_normalization_629 (BatchN (None, 7, 7, 192)    576         conv2d_615[0][0]                 \n",
            "__________________________________________________________________________________________________\n",
            "batch_normalization_630 (BatchN (None, 7, 7, 192)    576         conv2d_616[0][0]                 \n",
            "__________________________________________________________________________________________________\n",
            "activation_604 (Activation)     (None, 7, 7, 192)    0           batch_normalization_621[0][0]    \n",
            "__________________________________________________________________________________________________\n",
            "activation_607 (Activation)     (None, 7, 7, 192)    0           batch_normalization_624[0][0]    \n",
            "__________________________________________________________________________________________________\n",
            "activation_612 (Activation)     (None, 7, 7, 192)    0           batch_normalization_629[0][0]    \n",
            "__________________________________________________________________________________________________\n",
            "activation_613 (Activation)     (None, 7, 7, 192)    0           batch_normalization_630[0][0]    \n",
            "__________________________________________________________________________________________________\n",
            "mixed5 (Concatenate)            (None, 7, 7, 768)    0           activation_604[0][0]             \n",
            "                                                                 activation_607[0][0]             \n",
            "                                                                 activation_612[0][0]             \n",
            "                                                                 activation_613[0][0]             \n",
            "__________________________________________________________________________________________________\n",
            "conv2d_621 (Conv2D)             (None, 7, 7, 160)    122880      mixed5[0][0]                     \n",
            "__________________________________________________________________________________________________\n",
            "batch_normalization_635 (BatchN (None, 7, 7, 160)    480         conv2d_621[0][0]                 \n",
            "__________________________________________________________________________________________________\n",
            "activation_618 (Activation)     (None, 7, 7, 160)    0           batch_normalization_635[0][0]    \n",
            "__________________________________________________________________________________________________\n",
            "conv2d_622 (Conv2D)             (None, 7, 7, 160)    179200      activation_618[0][0]             \n",
            "__________________________________________________________________________________________________\n",
            "batch_normalization_636 (BatchN (None, 7, 7, 160)    480         conv2d_622[0][0]                 \n",
            "__________________________________________________________________________________________________\n",
            "activation_619 (Activation)     (None, 7, 7, 160)    0           batch_normalization_636[0][0]    \n",
            "__________________________________________________________________________________________________\n",
            "conv2d_618 (Conv2D)             (None, 7, 7, 160)    122880      mixed5[0][0]                     \n",
            "__________________________________________________________________________________________________\n",
            "conv2d_623 (Conv2D)             (None, 7, 7, 160)    179200      activation_619[0][0]             \n",
            "__________________________________________________________________________________________________\n",
            "batch_normalization_632 (BatchN (None, 7, 7, 160)    480         conv2d_618[0][0]                 \n",
            "__________________________________________________________________________________________________\n",
            "batch_normalization_637 (BatchN (None, 7, 7, 160)    480         conv2d_623[0][0]                 \n",
            "__________________________________________________________________________________________________\n",
            "activation_615 (Activation)     (None, 7, 7, 160)    0           batch_normalization_632[0][0]    \n",
            "__________________________________________________________________________________________________\n",
            "activation_620 (Activation)     (None, 7, 7, 160)    0           batch_normalization_637[0][0]    \n",
            "__________________________________________________________________________________________________\n",
            "conv2d_619 (Conv2D)             (None, 7, 7, 160)    179200      activation_615[0][0]             \n",
            "__________________________________________________________________________________________________\n",
            "conv2d_624 (Conv2D)             (None, 7, 7, 160)    179200      activation_620[0][0]             \n",
            "__________________________________________________________________________________________________\n",
            "batch_normalization_633 (BatchN (None, 7, 7, 160)    480         conv2d_619[0][0]                 \n",
            "__________________________________________________________________________________________________\n",
            "batch_normalization_638 (BatchN (None, 7, 7, 160)    480         conv2d_624[0][0]                 \n",
            "__________________________________________________________________________________________________\n",
            "activation_616 (Activation)     (None, 7, 7, 160)    0           batch_normalization_633[0][0]    \n",
            "__________________________________________________________________________________________________\n",
            "activation_621 (Activation)     (None, 7, 7, 160)    0           batch_normalization_638[0][0]    \n",
            "__________________________________________________________________________________________________\n",
            "average_pooling2d_59 (AveragePo (None, 7, 7, 768)    0           mixed5[0][0]                     \n",
            "__________________________________________________________________________________________________\n",
            "conv2d_617 (Conv2D)             (None, 7, 7, 192)    147456      mixed5[0][0]                     \n",
            "__________________________________________________________________________________________________\n",
            "conv2d_620 (Conv2D)             (None, 7, 7, 192)    215040      activation_616[0][0]             \n",
            "__________________________________________________________________________________________________\n",
            "conv2d_625 (Conv2D)             (None, 7, 7, 192)    215040      activation_621[0][0]             \n",
            "__________________________________________________________________________________________________\n",
            "conv2d_626 (Conv2D)             (None, 7, 7, 192)    147456      average_pooling2d_59[0][0]       \n",
            "__________________________________________________________________________________________________\n",
            "batch_normalization_631 (BatchN (None, 7, 7, 192)    576         conv2d_617[0][0]                 \n",
            "__________________________________________________________________________________________________\n",
            "batch_normalization_634 (BatchN (None, 7, 7, 192)    576         conv2d_620[0][0]                 \n",
            "__________________________________________________________________________________________________\n",
            "batch_normalization_639 (BatchN (None, 7, 7, 192)    576         conv2d_625[0][0]                 \n",
            "__________________________________________________________________________________________________\n",
            "batch_normalization_640 (BatchN (None, 7, 7, 192)    576         conv2d_626[0][0]                 \n",
            "__________________________________________________________________________________________________\n",
            "activation_614 (Activation)     (None, 7, 7, 192)    0           batch_normalization_631[0][0]    \n",
            "__________________________________________________________________________________________________\n",
            "activation_617 (Activation)     (None, 7, 7, 192)    0           batch_normalization_634[0][0]    \n",
            "__________________________________________________________________________________________________\n",
            "activation_622 (Activation)     (None, 7, 7, 192)    0           batch_normalization_639[0][0]    \n",
            "__________________________________________________________________________________________________\n",
            "activation_623 (Activation)     (None, 7, 7, 192)    0           batch_normalization_640[0][0]    \n",
            "__________________________________________________________________________________________________\n",
            "mixed6 (Concatenate)            (None, 7, 7, 768)    0           activation_614[0][0]             \n",
            "                                                                 activation_617[0][0]             \n",
            "                                                                 activation_622[0][0]             \n",
            "                                                                 activation_623[0][0]             \n",
            "__________________________________________________________________________________________________\n",
            "conv2d_631 (Conv2D)             (None, 7, 7, 192)    147456      mixed6[0][0]                     \n",
            "__________________________________________________________________________________________________\n",
            "batch_normalization_645 (BatchN (None, 7, 7, 192)    576         conv2d_631[0][0]                 \n",
            "__________________________________________________________________________________________________\n",
            "activation_628 (Activation)     (None, 7, 7, 192)    0           batch_normalization_645[0][0]    \n",
            "__________________________________________________________________________________________________\n",
            "conv2d_632 (Conv2D)             (None, 7, 7, 192)    258048      activation_628[0][0]             \n",
            "__________________________________________________________________________________________________\n",
            "batch_normalization_646 (BatchN (None, 7, 7, 192)    576         conv2d_632[0][0]                 \n",
            "__________________________________________________________________________________________________\n",
            "activation_629 (Activation)     (None, 7, 7, 192)    0           batch_normalization_646[0][0]    \n",
            "__________________________________________________________________________________________________\n",
            "conv2d_628 (Conv2D)             (None, 7, 7, 192)    147456      mixed6[0][0]                     \n",
            "__________________________________________________________________________________________________\n",
            "conv2d_633 (Conv2D)             (None, 7, 7, 192)    258048      activation_629[0][0]             \n",
            "__________________________________________________________________________________________________\n",
            "batch_normalization_642 (BatchN (None, 7, 7, 192)    576         conv2d_628[0][0]                 \n",
            "__________________________________________________________________________________________________\n",
            "batch_normalization_647 (BatchN (None, 7, 7, 192)    576         conv2d_633[0][0]                 \n",
            "__________________________________________________________________________________________________\n",
            "activation_625 (Activation)     (None, 7, 7, 192)    0           batch_normalization_642[0][0]    \n",
            "__________________________________________________________________________________________________\n",
            "activation_630 (Activation)     (None, 7, 7, 192)    0           batch_normalization_647[0][0]    \n",
            "__________________________________________________________________________________________________\n",
            "conv2d_629 (Conv2D)             (None, 7, 7, 192)    258048      activation_625[0][0]             \n",
            "__________________________________________________________________________________________________\n",
            "conv2d_634 (Conv2D)             (None, 7, 7, 192)    258048      activation_630[0][0]             \n",
            "__________________________________________________________________________________________________\n",
            "batch_normalization_643 (BatchN (None, 7, 7, 192)    576         conv2d_629[0][0]                 \n",
            "__________________________________________________________________________________________________\n",
            "batch_normalization_648 (BatchN (None, 7, 7, 192)    576         conv2d_634[0][0]                 \n",
            "__________________________________________________________________________________________________\n",
            "activation_626 (Activation)     (None, 7, 7, 192)    0           batch_normalization_643[0][0]    \n",
            "__________________________________________________________________________________________________\n",
            "activation_631 (Activation)     (None, 7, 7, 192)    0           batch_normalization_648[0][0]    \n",
            "__________________________________________________________________________________________________\n",
            "average_pooling2d_60 (AveragePo (None, 7, 7, 768)    0           mixed6[0][0]                     \n",
            "__________________________________________________________________________________________________\n",
            "conv2d_627 (Conv2D)             (None, 7, 7, 192)    147456      mixed6[0][0]                     \n",
            "__________________________________________________________________________________________________\n",
            "conv2d_630 (Conv2D)             (None, 7, 7, 192)    258048      activation_626[0][0]             \n",
            "__________________________________________________________________________________________________\n",
            "conv2d_635 (Conv2D)             (None, 7, 7, 192)    258048      activation_631[0][0]             \n",
            "__________________________________________________________________________________________________\n",
            "conv2d_636 (Conv2D)             (None, 7, 7, 192)    147456      average_pooling2d_60[0][0]       \n",
            "__________________________________________________________________________________________________\n",
            "batch_normalization_641 (BatchN (None, 7, 7, 192)    576         conv2d_627[0][0]                 \n",
            "__________________________________________________________________________________________________\n",
            "batch_normalization_644 (BatchN (None, 7, 7, 192)    576         conv2d_630[0][0]                 \n",
            "__________________________________________________________________________________________________\n",
            "batch_normalization_649 (BatchN (None, 7, 7, 192)    576         conv2d_635[0][0]                 \n",
            "__________________________________________________________________________________________________\n",
            "batch_normalization_650 (BatchN (None, 7, 7, 192)    576         conv2d_636[0][0]                 \n",
            "__________________________________________________________________________________________________\n",
            "activation_624 (Activation)     (None, 7, 7, 192)    0           batch_normalization_641[0][0]    \n",
            "__________________________________________________________________________________________________\n",
            "activation_627 (Activation)     (None, 7, 7, 192)    0           batch_normalization_644[0][0]    \n",
            "__________________________________________________________________________________________________\n",
            "activation_632 (Activation)     (None, 7, 7, 192)    0           batch_normalization_649[0][0]    \n",
            "__________________________________________________________________________________________________\n",
            "activation_633 (Activation)     (None, 7, 7, 192)    0           batch_normalization_650[0][0]    \n",
            "__________________________________________________________________________________________________\n",
            "mixed7 (Concatenate)            (None, 7, 7, 768)    0           activation_624[0][0]             \n",
            "                                                                 activation_627[0][0]             \n",
            "                                                                 activation_632[0][0]             \n",
            "                                                                 activation_633[0][0]             \n",
            "__________________________________________________________________________________________________\n",
            "conv2d_639 (Conv2D)             (None, 7, 7, 192)    147456      mixed7[0][0]                     \n",
            "__________________________________________________________________________________________________\n",
            "batch_normalization_653 (BatchN (None, 7, 7, 192)    576         conv2d_639[0][0]                 \n",
            "__________________________________________________________________________________________________\n",
            "activation_636 (Activation)     (None, 7, 7, 192)    0           batch_normalization_653[0][0]    \n",
            "__________________________________________________________________________________________________\n",
            "conv2d_640 (Conv2D)             (None, 7, 7, 192)    258048      activation_636[0][0]             \n",
            "__________________________________________________________________________________________________\n",
            "batch_normalization_654 (BatchN (None, 7, 7, 192)    576         conv2d_640[0][0]                 \n",
            "__________________________________________________________________________________________________\n",
            "activation_637 (Activation)     (None, 7, 7, 192)    0           batch_normalization_654[0][0]    \n",
            "__________________________________________________________________________________________________\n",
            "conv2d_637 (Conv2D)             (None, 7, 7, 192)    147456      mixed7[0][0]                     \n",
            "__________________________________________________________________________________________________\n",
            "conv2d_641 (Conv2D)             (None, 7, 7, 192)    258048      activation_637[0][0]             \n",
            "__________________________________________________________________________________________________\n",
            "batch_normalization_651 (BatchN (None, 7, 7, 192)    576         conv2d_637[0][0]                 \n",
            "__________________________________________________________________________________________________\n",
            "batch_normalization_655 (BatchN (None, 7, 7, 192)    576         conv2d_641[0][0]                 \n",
            "__________________________________________________________________________________________________\n",
            "activation_634 (Activation)     (None, 7, 7, 192)    0           batch_normalization_651[0][0]    \n",
            "__________________________________________________________________________________________________\n",
            "activation_638 (Activation)     (None, 7, 7, 192)    0           batch_normalization_655[0][0]    \n",
            "__________________________________________________________________________________________________\n",
            "conv2d_638 (Conv2D)             (None, 3, 3, 320)    552960      activation_634[0][0]             \n",
            "__________________________________________________________________________________________________\n",
            "conv2d_642 (Conv2D)             (None, 3, 3, 192)    331776      activation_638[0][0]             \n",
            "__________________________________________________________________________________________________\n",
            "batch_normalization_652 (BatchN (None, 3, 3, 320)    960         conv2d_638[0][0]                 \n",
            "__________________________________________________________________________________________________\n",
            "batch_normalization_656 (BatchN (None, 3, 3, 192)    576         conv2d_642[0][0]                 \n",
            "__________________________________________________________________________________________________\n",
            "activation_635 (Activation)     (None, 3, 3, 320)    0           batch_normalization_652[0][0]    \n",
            "__________________________________________________________________________________________________\n",
            "activation_639 (Activation)     (None, 3, 3, 192)    0           batch_normalization_656[0][0]    \n",
            "__________________________________________________________________________________________________\n",
            "max_pooling2d_30 (MaxPooling2D) (None, 3, 3, 768)    0           mixed7[0][0]                     \n",
            "__________________________________________________________________________________________________\n",
            "mixed8 (Concatenate)            (None, 3, 3, 1280)   0           activation_635[0][0]             \n",
            "                                                                 activation_639[0][0]             \n",
            "                                                                 max_pooling2d_30[0][0]           \n",
            "__________________________________________________________________________________________________\n",
            "conv2d_647 (Conv2D)             (None, 3, 3, 448)    573440      mixed8[0][0]                     \n",
            "__________________________________________________________________________________________________\n",
            "batch_normalization_661 (BatchN (None, 3, 3, 448)    1344        conv2d_647[0][0]                 \n",
            "__________________________________________________________________________________________________\n",
            "activation_644 (Activation)     (None, 3, 3, 448)    0           batch_normalization_661[0][0]    \n",
            "__________________________________________________________________________________________________\n",
            "conv2d_644 (Conv2D)             (None, 3, 3, 384)    491520      mixed8[0][0]                     \n",
            "__________________________________________________________________________________________________\n",
            "conv2d_648 (Conv2D)             (None, 3, 3, 384)    1548288     activation_644[0][0]             \n",
            "__________________________________________________________________________________________________\n",
            "batch_normalization_658 (BatchN (None, 3, 3, 384)    1152        conv2d_644[0][0]                 \n",
            "__________________________________________________________________________________________________\n",
            "batch_normalization_662 (BatchN (None, 3, 3, 384)    1152        conv2d_648[0][0]                 \n",
            "__________________________________________________________________________________________________\n",
            "activation_641 (Activation)     (None, 3, 3, 384)    0           batch_normalization_658[0][0]    \n",
            "__________________________________________________________________________________________________\n",
            "activation_645 (Activation)     (None, 3, 3, 384)    0           batch_normalization_662[0][0]    \n",
            "__________________________________________________________________________________________________\n",
            "conv2d_645 (Conv2D)             (None, 3, 3, 384)    442368      activation_641[0][0]             \n",
            "__________________________________________________________________________________________________\n",
            "conv2d_646 (Conv2D)             (None, 3, 3, 384)    442368      activation_641[0][0]             \n",
            "__________________________________________________________________________________________________\n",
            "conv2d_649 (Conv2D)             (None, 3, 3, 384)    442368      activation_645[0][0]             \n",
            "__________________________________________________________________________________________________\n",
            "conv2d_650 (Conv2D)             (None, 3, 3, 384)    442368      activation_645[0][0]             \n",
            "__________________________________________________________________________________________________\n",
            "average_pooling2d_61 (AveragePo (None, 3, 3, 1280)   0           mixed8[0][0]                     \n",
            "__________________________________________________________________________________________________\n",
            "conv2d_643 (Conv2D)             (None, 3, 3, 320)    409600      mixed8[0][0]                     \n",
            "__________________________________________________________________________________________________\n",
            "batch_normalization_659 (BatchN (None, 3, 3, 384)    1152        conv2d_645[0][0]                 \n",
            "__________________________________________________________________________________________________\n",
            "batch_normalization_660 (BatchN (None, 3, 3, 384)    1152        conv2d_646[0][0]                 \n",
            "__________________________________________________________________________________________________\n",
            "batch_normalization_663 (BatchN (None, 3, 3, 384)    1152        conv2d_649[0][0]                 \n",
            "__________________________________________________________________________________________________\n",
            "batch_normalization_664 (BatchN (None, 3, 3, 384)    1152        conv2d_650[0][0]                 \n",
            "__________________________________________________________________________________________________\n",
            "conv2d_651 (Conv2D)             (None, 3, 3, 192)    245760      average_pooling2d_61[0][0]       \n",
            "__________________________________________________________________________________________________\n",
            "batch_normalization_657 (BatchN (None, 3, 3, 320)    960         conv2d_643[0][0]                 \n",
            "__________________________________________________________________________________________________\n",
            "activation_642 (Activation)     (None, 3, 3, 384)    0           batch_normalization_659[0][0]    \n",
            "__________________________________________________________________________________________________\n",
            "activation_643 (Activation)     (None, 3, 3, 384)    0           batch_normalization_660[0][0]    \n",
            "__________________________________________________________________________________________________\n",
            "activation_646 (Activation)     (None, 3, 3, 384)    0           batch_normalization_663[0][0]    \n",
            "__________________________________________________________________________________________________\n",
            "activation_647 (Activation)     (None, 3, 3, 384)    0           batch_normalization_664[0][0]    \n",
            "__________________________________________________________________________________________________\n",
            "batch_normalization_665 (BatchN (None, 3, 3, 192)    576         conv2d_651[0][0]                 \n",
            "__________________________________________________________________________________________________\n",
            "activation_640 (Activation)     (None, 3, 3, 320)    0           batch_normalization_657[0][0]    \n",
            "__________________________________________________________________________________________________\n",
            "mixed9_0 (Concatenate)          (None, 3, 3, 768)    0           activation_642[0][0]             \n",
            "                                                                 activation_643[0][0]             \n",
            "__________________________________________________________________________________________________\n",
            "concatenate_12 (Concatenate)    (None, 3, 3, 768)    0           activation_646[0][0]             \n",
            "                                                                 activation_647[0][0]             \n",
            "__________________________________________________________________________________________________\n",
            "activation_648 (Activation)     (None, 3, 3, 192)    0           batch_normalization_665[0][0]    \n",
            "__________________________________________________________________________________________________\n",
            "mixed9 (Concatenate)            (None, 3, 3, 2048)   0           activation_640[0][0]             \n",
            "                                                                 mixed9_0[0][0]                   \n",
            "                                                                 concatenate_12[0][0]             \n",
            "                                                                 activation_648[0][0]             \n",
            "__________________________________________________________________________________________________\n",
            "conv2d_656 (Conv2D)             (None, 3, 3, 448)    917504      mixed9[0][0]                     \n",
            "__________________________________________________________________________________________________\n",
            "batch_normalization_670 (BatchN (None, 3, 3, 448)    1344        conv2d_656[0][0]                 \n",
            "__________________________________________________________________________________________________\n",
            "activation_653 (Activation)     (None, 3, 3, 448)    0           batch_normalization_670[0][0]    \n",
            "__________________________________________________________________________________________________\n",
            "conv2d_653 (Conv2D)             (None, 3, 3, 384)    786432      mixed9[0][0]                     \n",
            "__________________________________________________________________________________________________\n",
            "conv2d_657 (Conv2D)             (None, 3, 3, 384)    1548288     activation_653[0][0]             \n",
            "__________________________________________________________________________________________________\n",
            "batch_normalization_667 (BatchN (None, 3, 3, 384)    1152        conv2d_653[0][0]                 \n",
            "__________________________________________________________________________________________________\n",
            "batch_normalization_671 (BatchN (None, 3, 3, 384)    1152        conv2d_657[0][0]                 \n",
            "__________________________________________________________________________________________________\n",
            "activation_650 (Activation)     (None, 3, 3, 384)    0           batch_normalization_667[0][0]    \n",
            "__________________________________________________________________________________________________\n",
            "activation_654 (Activation)     (None, 3, 3, 384)    0           batch_normalization_671[0][0]    \n",
            "__________________________________________________________________________________________________\n",
            "conv2d_654 (Conv2D)             (None, 3, 3, 384)    442368      activation_650[0][0]             \n",
            "__________________________________________________________________________________________________\n",
            "conv2d_655 (Conv2D)             (None, 3, 3, 384)    442368      activation_650[0][0]             \n",
            "__________________________________________________________________________________________________\n",
            "conv2d_658 (Conv2D)             (None, 3, 3, 384)    442368      activation_654[0][0]             \n",
            "__________________________________________________________________________________________________\n",
            "conv2d_659 (Conv2D)             (None, 3, 3, 384)    442368      activation_654[0][0]             \n",
            "__________________________________________________________________________________________________\n",
            "average_pooling2d_62 (AveragePo (None, 3, 3, 2048)   0           mixed9[0][0]                     \n",
            "__________________________________________________________________________________________________\n",
            "conv2d_652 (Conv2D)             (None, 3, 3, 320)    655360      mixed9[0][0]                     \n",
            "__________________________________________________________________________________________________\n",
            "batch_normalization_668 (BatchN (None, 3, 3, 384)    1152        conv2d_654[0][0]                 \n",
            "__________________________________________________________________________________________________\n",
            "batch_normalization_669 (BatchN (None, 3, 3, 384)    1152        conv2d_655[0][0]                 \n",
            "__________________________________________________________________________________________________\n",
            "batch_normalization_672 (BatchN (None, 3, 3, 384)    1152        conv2d_658[0][0]                 \n",
            "__________________________________________________________________________________________________\n",
            "batch_normalization_673 (BatchN (None, 3, 3, 384)    1152        conv2d_659[0][0]                 \n",
            "__________________________________________________________________________________________________\n",
            "conv2d_660 (Conv2D)             (None, 3, 3, 192)    393216      average_pooling2d_62[0][0]       \n",
            "__________________________________________________________________________________________________\n",
            "batch_normalization_666 (BatchN (None, 3, 3, 320)    960         conv2d_652[0][0]                 \n",
            "__________________________________________________________________________________________________\n",
            "activation_651 (Activation)     (None, 3, 3, 384)    0           batch_normalization_668[0][0]    \n",
            "__________________________________________________________________________________________________\n",
            "activation_652 (Activation)     (None, 3, 3, 384)    0           batch_normalization_669[0][0]    \n",
            "__________________________________________________________________________________________________\n",
            "activation_655 (Activation)     (None, 3, 3, 384)    0           batch_normalization_672[0][0]    \n",
            "__________________________________________________________________________________________________\n",
            "activation_656 (Activation)     (None, 3, 3, 384)    0           batch_normalization_673[0][0]    \n",
            "__________________________________________________________________________________________________\n",
            "batch_normalization_674 (BatchN (None, 3, 3, 192)    576         conv2d_660[0][0]                 \n",
            "__________________________________________________________________________________________________\n",
            "activation_649 (Activation)     (None, 3, 3, 320)    0           batch_normalization_666[0][0]    \n",
            "__________________________________________________________________________________________________\n",
            "mixed9_1 (Concatenate)          (None, 3, 3, 768)    0           activation_651[0][0]             \n",
            "                                                                 activation_652[0][0]             \n",
            "__________________________________________________________________________________________________\n",
            "concatenate_13 (Concatenate)    (None, 3, 3, 768)    0           activation_655[0][0]             \n",
            "                                                                 activation_656[0][0]             \n",
            "__________________________________________________________________________________________________\n",
            "activation_657 (Activation)     (None, 3, 3, 192)    0           batch_normalization_674[0][0]    \n",
            "__________________________________________________________________________________________________\n",
            "mixed10 (Concatenate)           (None, 3, 3, 2048)   0           activation_649[0][0]             \n",
            "                                                                 mixed9_1[0][0]                   \n",
            "                                                                 concatenate_13[0][0]             \n",
            "                                                                 activation_657[0][0]             \n",
            "__________________________________________________________________________________________________\n",
            "flatten_19 (Flatten)            (None, 18432)        0           mixed10[0][0]                    \n",
            "__________________________________________________________________________________________________\n",
            "batch_normalization_676 (BatchN (None, 18432)        73728       flatten_19[0][0]                 \n",
            "__________________________________________________________________________________________________\n",
            "dense_38 (Dense)                (None, 512)          9437696     batch_normalization_676[0][0]    \n",
            "__________________________________________________________________________________________________\n",
            "dropout_18 (Dropout)            (None, 512)          0           dense_38[0][0]                   \n",
            "__________________________________________________________________________________________________\n",
            "dense_39 (Dense)                (None, 6)            3078        dropout_18[0][0]                 \n",
            "==================================================================================================\n",
            "Total params: 31,317,286\n",
            "Trainable params: 31,245,990\n",
            "Non-trainable params: 71,296\n",
            "__________________________________________________________________________________________________\n"
          ]
        }
      ]
    },
    {
      "cell_type": "code",
      "metadata": {
        "colab": {
          "base_uri": "https://localhost:8080/",
          "height": 336
        },
        "id": "24TkzR_g6LpN",
        "outputId": "72f8776b-f6ed-4644-b4dc-579e61f1ad6f"
      },
      "source": [
        "epochs=100\n",
        "\n",
        "historyinceptionv3 = modelinception_v3(train_generator_inceptionv3,\n",
        "                               steps_per_epoch = 975/32,\n",
        "                               epochs=epochs,\n",
        "                               callbacks=callbacksinception_v3,\n",
        "                               validation_data=validation_generator_inceptionv3)"
      ],
      "execution_count": 91,
      "outputs": [
        {
          "output_type": "error",
          "ename": "TypeError",
          "evalue": "ignored",
          "traceback": [
            "\u001b[0;31m---------------------------------------------------------------------------\u001b[0m",
            "\u001b[0;31mTypeError\u001b[0m                                 Traceback (most recent call last)",
            "\u001b[0;32m<ipython-input-91-b807d57ddb90>\u001b[0m in \u001b[0;36m<module>\u001b[0;34m()\u001b[0m\n\u001b[1;32m      5\u001b[0m                                \u001b[0mepochs\u001b[0m\u001b[0;34m=\u001b[0m\u001b[0mepochs\u001b[0m\u001b[0;34m,\u001b[0m\u001b[0;34m\u001b[0m\u001b[0;34m\u001b[0m\u001b[0m\n\u001b[1;32m      6\u001b[0m                                \u001b[0mcallbacks\u001b[0m\u001b[0;34m=\u001b[0m\u001b[0mcallbacksinception_v3\u001b[0m\u001b[0;34m,\u001b[0m\u001b[0;34m\u001b[0m\u001b[0;34m\u001b[0m\u001b[0m\n\u001b[0;32m----> 7\u001b[0;31m                                validation_data=validation_generator_inceptionv3)\n\u001b[0m",
            "\u001b[0;32m/usr/local/lib/python3.7/dist-packages/keras/engine/base_layer.py\u001b[0m in \u001b[0;36m__call__\u001b[0;34m(self, *args, **kwargs)\u001b[0m\n\u001b[1;32m   1018\u001b[0m         training=training_mode):\n\u001b[1;32m   1019\u001b[0m \u001b[0;34m\u001b[0m\u001b[0m\n\u001b[0;32m-> 1020\u001b[0;31m       \u001b[0minput_spec\u001b[0m\u001b[0;34m.\u001b[0m\u001b[0massert_input_compatibility\u001b[0m\u001b[0;34m(\u001b[0m\u001b[0mself\u001b[0m\u001b[0;34m.\u001b[0m\u001b[0minput_spec\u001b[0m\u001b[0;34m,\u001b[0m \u001b[0minputs\u001b[0m\u001b[0;34m,\u001b[0m \u001b[0mself\u001b[0m\u001b[0;34m.\u001b[0m\u001b[0mname\u001b[0m\u001b[0;34m)\u001b[0m\u001b[0;34m\u001b[0m\u001b[0;34m\u001b[0m\u001b[0m\n\u001b[0m\u001b[1;32m   1021\u001b[0m       \u001b[0;32mif\u001b[0m \u001b[0meager\u001b[0m\u001b[0;34m:\u001b[0m\u001b[0;34m\u001b[0m\u001b[0;34m\u001b[0m\u001b[0m\n\u001b[1;32m   1022\u001b[0m         \u001b[0mcall_fn\u001b[0m \u001b[0;34m=\u001b[0m \u001b[0mself\u001b[0m\u001b[0;34m.\u001b[0m\u001b[0mcall\u001b[0m\u001b[0;34m\u001b[0m\u001b[0;34m\u001b[0m\u001b[0m\n",
            "\u001b[0;32m/usr/local/lib/python3.7/dist-packages/keras/engine/input_spec.py\u001b[0m in \u001b[0;36massert_input_compatibility\u001b[0;34m(input_spec, inputs, layer_name)\u001b[0m\n\u001b[1;32m    194\u001b[0m     \u001b[0;31m# have a `shape` attribute.\u001b[0m\u001b[0;34m\u001b[0m\u001b[0;34m\u001b[0m\u001b[0;34m\u001b[0m\u001b[0m\n\u001b[1;32m    195\u001b[0m     \u001b[0;32mif\u001b[0m \u001b[0;32mnot\u001b[0m \u001b[0mhasattr\u001b[0m\u001b[0;34m(\u001b[0m\u001b[0mx\u001b[0m\u001b[0;34m,\u001b[0m \u001b[0;34m'shape'\u001b[0m\u001b[0;34m)\u001b[0m\u001b[0;34m:\u001b[0m\u001b[0;34m\u001b[0m\u001b[0;34m\u001b[0m\u001b[0m\n\u001b[0;32m--> 196\u001b[0;31m       \u001b[0;32mraise\u001b[0m \u001b[0mTypeError\u001b[0m\u001b[0;34m(\u001b[0m\u001b[0;34m'Inputs to a layer should be tensors. Got: %s'\u001b[0m \u001b[0;34m%\u001b[0m \u001b[0;34m(\u001b[0m\u001b[0mx\u001b[0m\u001b[0;34m,\u001b[0m\u001b[0;34m)\u001b[0m\u001b[0;34m)\u001b[0m\u001b[0;34m\u001b[0m\u001b[0;34m\u001b[0m\u001b[0m\n\u001b[0m\u001b[1;32m    197\u001b[0m \u001b[0;34m\u001b[0m\u001b[0m\n\u001b[1;32m    198\u001b[0m   \u001b[0;32mif\u001b[0m \u001b[0mlen\u001b[0m\u001b[0;34m(\u001b[0m\u001b[0minputs\u001b[0m\u001b[0;34m)\u001b[0m \u001b[0;34m!=\u001b[0m \u001b[0mlen\u001b[0m\u001b[0;34m(\u001b[0m\u001b[0minput_spec\u001b[0m\u001b[0;34m)\u001b[0m\u001b[0;34m:\u001b[0m\u001b[0;34m\u001b[0m\u001b[0;34m\u001b[0m\u001b[0m\n",
            "\u001b[0;31mTypeError\u001b[0m: Inputs to a layer should be tensors. Got: <keras.preprocessing.image.DataFrameIterator object at 0x7f360f756e50>"
          ]
        }
      ]
    },
    {
      "cell_type": "code",
      "metadata": {
        "id": "rN-3XuFt6Ltt"
      },
      "source": [
        "%matplotlib inline\n",
        "import matplotlib.pyplot as plt\n",
        "acc = history.history['accuracy']\n",
        "val_acc = history.history['val_accuracy']\n",
        "loss = history.history['loss']\n",
        "val_loss = history.history['val_loss']\n",
        "\n",
        "epochs = range(len(acc))\n",
        "\n",
        "plt.plot(epochs, acc, 'r', label='Training accuracy')\n",
        "plt.plot(epochs, val_acc, 'b', label='Validation accuracy')\n",
        "plt.title('Training and validation accuracy')\n",
        "plt.legend(loc=0)\n",
        "plt.figure()\n",
        "\n",
        "plt.plot(epochs, loss, 'r', label='Training Loss')\n",
        "plt.plot(epochs, val_loss, 'b', label='Validation Loss')\n",
        "plt.title('Training and validation loss')\n",
        "plt.legend()\n",
        "\n",
        "plt.show()"
      ],
      "execution_count": null,
      "outputs": []
    },
    {
      "cell_type": "code",
      "metadata": {
        "id": "CzqXML0v6LyY"
      },
      "source": [
        "modelinception_v3 = tf.keras.models.load_model(\"inception_v3_weights_tf_dim_ordering_tf_kernels_notop.h5\")\n",
        "\n",
        "test_lossinception_v3, test_accinception_v3= modelinception_v3.evaluate(X_test,y_test)\n",
        "print(\"validation_accuracy: \" + str(test_accvinception_v3))"
      ],
      "execution_count": null,
      "outputs": []
    },
    {
      "cell_type": "markdown",
      "metadata": {
        "id": "DQVvEZ8C8ysP"
      },
      "source": [
        "# **Fim do modelo Inception V3**"
      ]
    },
    {
      "cell_type": "code",
      "metadata": {
        "id": "g6AYQKDTtmlY"
      },
      "source": [
        "fig = plt.figure()\n",
        "ax = fig.add_axes([0,0,1,1])\n",
        "acc = [val_acc,val_acvgg16c,val_accInceptionV3,valaccEfficientNetB,valaccEfficientNetB7]\n",
        "model = ['Modelo Criado','VGG16','InceptionV3','EfficientNetB0','EfficientNetB7']\n",
        "ax.bar(model,acc)\n",
        "plt.show()"
      ],
      "execution_count": null,
      "outputs": []
    },
    {
      "cell_type": "code",
      "metadata": {
        "id": "_rxy7Kr2tmw9"
      },
      "source": [
        ""
      ],
      "execution_count": null,
      "outputs": []
    },
    {
      "cell_type": "markdown",
      "metadata": {
        "id": "7toSzftQcPLH"
      },
      "source": [
        "# **Realizar a Predição para as 6 classes**"
      ]
    },
    {
      "cell_type": "code",
      "metadata": {
        "id": "6fd1COOBcEq-",
        "colab": {
          "base_uri": "https://localhost:8080/"
        },
        "outputId": "89788227-b2db-4838-811f-85288111a365"
      },
      "source": [
        "predictions = model.predict(X_test)\n",
        "print(\"Prediction_accuracy: \" + str(predictions))"
      ],
      "execution_count": null,
      "outputs": [
        {
          "output_type": "stream",
          "name": "stdout",
          "text": [
            "Prediction_accuracy: [[0.17218024 0.16139771 0.16677544 0.16468659 0.1719023  0.16305776]\n",
            " [0.17536429 0.15775178 0.16749242 0.16164327 0.17514233 0.16260591]\n",
            " [0.17709239 0.15678856 0.16744374 0.1615359  0.17557517 0.16156419]\n",
            " [0.17548922 0.15714422 0.1672347  0.1639333  0.17430176 0.16189677]\n",
            " [0.17608273 0.15549958 0.16682564 0.16358136 0.17627893 0.16173181]\n",
            " [0.17271106 0.15973786 0.1669244  0.16274296 0.1741293  0.16375451]\n",
            " [0.17189719 0.16143374 0.16743785 0.16376469 0.17196001 0.16350655]\n",
            " [0.17254892 0.16055582 0.16688202 0.16361699 0.17323323 0.16316293]\n",
            " [0.17222944 0.16122444 0.16805337 0.16403417 0.17236869 0.16208984]\n",
            " [0.17018114 0.16289286 0.16713831 0.16534951 0.17031093 0.16412728]\n",
            " [0.1703538  0.16333427 0.16697602 0.16430828 0.17058967 0.16443795]\n",
            " [0.17126663 0.16060254 0.16777253 0.16434495 0.17195718 0.16405612]\n",
            " [0.17226851 0.16074017 0.1672467  0.16399117 0.1721768  0.16357672]\n",
            " [0.1720213  0.16156599 0.16713376 0.1625667  0.1726888  0.16402341]\n",
            " [0.17379285 0.15969902 0.16736011 0.16193804 0.17441845 0.16279148]\n",
            " [0.17534247 0.15760908 0.16723523 0.16299348 0.17438321 0.16243656]\n",
            " [0.17581147 0.15892033 0.16752468 0.16181381 0.17367172 0.16225801]\n",
            " [0.17450966 0.15925911 0.16698733 0.1628743  0.17303465 0.163335  ]\n",
            " [0.1767053  0.1554568  0.16898361 0.1613401  0.17383324 0.16368096]\n",
            " [0.1694813  0.15960954 0.16779695 0.16835278 0.16977195 0.16498753]]\n"
          ]
        }
      ]
    },
    {
      "cell_type": "code",
      "metadata": {
        "colab": {
          "base_uri": "https://localhost:8080/",
          "height": 265
        },
        "id": "cQp4hLBD1b2Q",
        "outputId": "97c2b0cc-e467-4e2b-e6f3-588083026ae9"
      },
      "source": [
        "plt.figure()\n",
        "plt.imshow(X_train[0])\n",
        "plt.colorbar()\n",
        "plt.grid(False)\n",
        "plt.show()"
      ],
      "execution_count": null,
      "outputs": [
        {
          "output_type": "display_data",
          "data": {
            "image/png": "[encoded data removed]",
            "text/plain": [
              "<Figure size 432x288 with 2 Axes>"
            ]
          },
          "metadata": {
            "needs_background": "light"
          }
        }
      ]
    },
    {
      "cell_type": "markdown",
      "metadata": {
        "id": "N14GaXQK1x4C"
      },
      "source": [
        "Escalaremos esses valores no intervalo de 0 e 1 antes antes de alimentar o modelo da rede neural. Para fazer isso, dividimos os valores por 255. É importante que o conjunto de treinamento e o conjunto de teste podem ser pré-processados do mesmo modo:"
      ]
    },
    {
      "cell_type": "code",
      "metadata": {
        "id": "jerlMdae10kl"
      },
      "source": [
        "X_train = X_train /255\n",
        "X_test = X_test /255"
      ],
      "execution_count": null,
      "outputs": []
    },
    {
      "cell_type": "code",
      "metadata": {
        "colab": {
          "base_uri": "https://localhost:8080/",
          "height": 476
        },
        "id": "ut4cvpNs2eGz",
        "outputId": "7c8794d8-af29-4bdd-e056-6f21b9d51520"
      },
      "source": [
        "plt.figure(figsize=(10,10))\n",
        "for i in range(20):\n",
        "    plt.subplot(5,5,i+1)\n",
        "    plt.xticks([])\n",
        "    plt.yticks([])\n",
        "    plt.grid(False)\n",
        "    plt.imshow(X_train[i])\n",
        "    plt.xlabel(label[y_train[i]])\n",
        "plt.show()"
      ],
      "execution_count": null,
      "outputs": [
        {
          "output_type": "display_data",
          "data": {
            "image/png": "[encoded data removed]",
            "text/plain": [
              "<Figure size 720x720 with 20 Axes>"
            ]
          },
          "metadata": {}
        }
      ]
    },
    {
      "cell_type": "code",
      "metadata": {
        "id": "UW-VloEXue0w"
      },
      "source": [
        "# Codigo do Dr.(o)professor Leonardo Forero\n",
        "\n",
        "def plot_image(i, predictions_array, true_label, img):\n",
        "  predictions_array, true_label, img = predictions_array[i], true_label[i], img[i]\n",
        "  plt.grid(False)\n",
        "  plt.xticks([])\n",
        "  plt.yticks([])\n",
        "\n",
        "  plt.imshow(img, cmap=plt.cm.binary)\n",
        "\n",
        "  predicted_label = np.argmax(predictions_array)\n",
        "  if predicted_label == true_label:\n",
        "    color = 'blue'\n",
        "  else:\n",
        "    color = 'red'\n",
        "\n",
        "  plt.xlabel(\"{} {:2.0f}% ({})\".format(label[predicted_label],\n",
        "                                100*np.max(predictions_array),\n",
        "                                label[true_label]),\n",
        "                                color=color)\n",
        "\n",
        "def plot_value_array(i, predictions_array, true_label):\n",
        "  predictions_array, true_label = predictions_array[i], true_label[i]\n",
        "  plt.grid(False)\n",
        "  plt.xticks([])\n",
        "  plt.yticks([])\n",
        "  thisplot = plt.bar(range(10), predictions_array, color=\"#777777\")\n",
        "  plt.ylim([0, 1])\n",
        "  predicted_label = np.argmax(predictions_array)\n",
        "\n",
        "  thisplot[predicted_label].set_color('red')\n",
        "  thisplot[true_label].set_color('blue')"
      ],
      "execution_count": null,
      "outputs": []
    },
    {
      "cell_type": "code",
      "metadata": {
        "colab": {
          "base_uri": "https://localhost:8080/",
          "height": 545
        },
        "id": "Q1ZVaJCavb1u",
        "outputId": "2f3a40f6-6c74-4b36-ea7d-65c2cb1920de"
      },
      "source": [
        "i = 0\n",
        "plt.figure(figsize=(6,3))\n",
        "plt.subplot(1,2,1)\n",
        "plot_image(i, predictions, y_test, X_test)\n",
        "plt.subplot(1,2,2)\n",
        "plot_value_array(i, predictions,  y_test)\n",
        "plt.show()"
      ],
      "execution_count": null,
      "outputs": [
        {
          "output_type": "error",
          "ename": "IndexError",
          "evalue": "ignored",
          "traceback": [
            "\u001b[0;31m---------------------------------------------------------------------------\u001b[0m",
            "\u001b[0;31mIndexError\u001b[0m                                Traceback (most recent call last)",
            "\u001b[0;32m<ipython-input-270-c66d863e5a59>\u001b[0m in \u001b[0;36m<module>\u001b[0;34m()\u001b[0m\n\u001b[1;32m      2\u001b[0m \u001b[0mplt\u001b[0m\u001b[0;34m.\u001b[0m\u001b[0mfigure\u001b[0m\u001b[0;34m(\u001b[0m\u001b[0mfigsize\u001b[0m\u001b[0;34m=\u001b[0m\u001b[0;34m(\u001b[0m\u001b[0;36m6\u001b[0m\u001b[0;34m,\u001b[0m\u001b[0;36m3\u001b[0m\u001b[0;34m)\u001b[0m\u001b[0;34m)\u001b[0m\u001b[0;34m\u001b[0m\u001b[0;34m\u001b[0m\u001b[0m\n\u001b[1;32m      3\u001b[0m \u001b[0mplt\u001b[0m\u001b[0;34m.\u001b[0m\u001b[0msubplot\u001b[0m\u001b[0;34m(\u001b[0m\u001b[0;36m1\u001b[0m\u001b[0;34m,\u001b[0m\u001b[0;36m2\u001b[0m\u001b[0;34m,\u001b[0m\u001b[0;36m1\u001b[0m\u001b[0;34m)\u001b[0m\u001b[0;34m\u001b[0m\u001b[0;34m\u001b[0m\u001b[0m\n\u001b[0;32m----> 4\u001b[0;31m \u001b[0mplot_image\u001b[0m\u001b[0;34m(\u001b[0m\u001b[0mi\u001b[0m\u001b[0;34m,\u001b[0m \u001b[0mpredictions\u001b[0m\u001b[0;34m,\u001b[0m \u001b[0my_test\u001b[0m\u001b[0;34m,\u001b[0m \u001b[0mX_test\u001b[0m\u001b[0;34m)\u001b[0m\u001b[0;34m\u001b[0m\u001b[0;34m\u001b[0m\u001b[0m\n\u001b[0m\u001b[1;32m      5\u001b[0m \u001b[0mplt\u001b[0m\u001b[0;34m.\u001b[0m\u001b[0msubplot\u001b[0m\u001b[0;34m(\u001b[0m\u001b[0;36m1\u001b[0m\u001b[0;34m,\u001b[0m\u001b[0;36m2\u001b[0m\u001b[0;34m,\u001b[0m\u001b[0;36m2\u001b[0m\u001b[0;34m)\u001b[0m\u001b[0;34m\u001b[0m\u001b[0;34m\u001b[0m\u001b[0m\n\u001b[1;32m      6\u001b[0m \u001b[0mplot_value_array\u001b[0m\u001b[0;34m(\u001b[0m\u001b[0mi\u001b[0m\u001b[0;34m,\u001b[0m \u001b[0mpredictions\u001b[0m\u001b[0;34m,\u001b[0m  \u001b[0my_test\u001b[0m\u001b[0;34m)\u001b[0m\u001b[0;34m\u001b[0m\u001b[0;34m\u001b[0m\u001b[0m\n",
            "\u001b[0;32m<ipython-input-269-cc698903231d>\u001b[0m in \u001b[0;36mplot_image\u001b[0;34m(i, predictions_array, true_label, img)\u001b[0m\n\u001b[1;32m      2\u001b[0m \u001b[0;34m\u001b[0m\u001b[0m\n\u001b[1;32m      3\u001b[0m \u001b[0;32mdef\u001b[0m \u001b[0mplot_image\u001b[0m\u001b[0;34m(\u001b[0m\u001b[0mi\u001b[0m\u001b[0;34m,\u001b[0m \u001b[0mpredictions_array\u001b[0m\u001b[0;34m,\u001b[0m \u001b[0mtrue_label\u001b[0m\u001b[0;34m,\u001b[0m \u001b[0mimg\u001b[0m\u001b[0;34m)\u001b[0m\u001b[0;34m:\u001b[0m\u001b[0;34m\u001b[0m\u001b[0;34m\u001b[0m\u001b[0m\n\u001b[0;32m----> 4\u001b[0;31m   \u001b[0mpredictions_array\u001b[0m\u001b[0;34m,\u001b[0m \u001b[0mtrue_label\u001b[0m\u001b[0;34m,\u001b[0m \u001b[0mimg\u001b[0m \u001b[0;34m=\u001b[0m \u001b[0mpredictions_array\u001b[0m\u001b[0;34m[\u001b[0m\u001b[0mi\u001b[0m\u001b[0;34m]\u001b[0m\u001b[0;34m,\u001b[0m \u001b[0mtrue_label\u001b[0m\u001b[0;34m[\u001b[0m\u001b[0mi\u001b[0m\u001b[0;34m]\u001b[0m\u001b[0;34m,\u001b[0m \u001b[0mimg\u001b[0m\u001b[0;34m[\u001b[0m\u001b[0mi\u001b[0m\u001b[0;34m]\u001b[0m\u001b[0;34m\u001b[0m\u001b[0;34m\u001b[0m\u001b[0m\n\u001b[0m\u001b[1;32m      5\u001b[0m   \u001b[0mplt\u001b[0m\u001b[0;34m.\u001b[0m\u001b[0mgrid\u001b[0m\u001b[0;34m(\u001b[0m\u001b[0;32mFalse\u001b[0m\u001b[0;34m)\u001b[0m\u001b[0;34m\u001b[0m\u001b[0;34m\u001b[0m\u001b[0m\n\u001b[1;32m      6\u001b[0m   \u001b[0mplt\u001b[0m\u001b[0;34m.\u001b[0m\u001b[0mxticks\u001b[0m\u001b[0;34m(\u001b[0m\u001b[0;34m[\u001b[0m\u001b[0;34m]\u001b[0m\u001b[0;34m)\u001b[0m\u001b[0;34m\u001b[0m\u001b[0;34m\u001b[0m\u001b[0m\n",
            "\u001b[0;31mIndexError\u001b[0m: invalid index to scalar variable."
          ]
        },
        {
          "output_type": "display_data",
          "data": {
            "image/png": "[encoded data removed]",
            "text/plain": [
              "<Figure size 432x216 with 1 Axes>"
            ]
          },
          "metadata": {
            "needs_background": "light"
          }
        }
      ]
    },
    {
      "cell_type": "code",
      "metadata": {
        "colab": {
          "base_uri": "https://localhost:8080/"
        },
        "id": "pYKNqTvYIy56",
        "outputId": "48029f4c-e2fc-41e1-cf8e-cec79ed0869a"
      },
      "source": [
        "predictions[0] # primeira predição"
      ],
      "execution_count": null,
      "outputs": [
        {
          "output_type": "execute_result",
          "data": {
            "text/plain": [
              "array([0.17218024, 0.16139771, 0.16677544, 0.16468659, 0.1719023 ,\n",
              "       0.16305776], dtype=float32)"
            ]
          },
          "metadata": {},
          "execution_count": 264
        }
      ]
    },
    {
      "cell_type": "code",
      "metadata": {
        "colab": {
          "base_uri": "https://localhost:8080/"
        },
        "id": "aCmbcjolJstx",
        "outputId": "5e6c2c06-4f9b-4ec6-acfa-135c55b38317"
      },
      "source": [
        "np.argmax(predictions[0])"
      ],
      "execution_count": null,
      "outputs": [
        {
          "output_type": "execute_result",
          "data": {
            "text/plain": [
              "0"
            ]
          },
          "metadata": {},
          "execution_count": 265
        }
      ]
    },
    {
      "cell_type": "code",
      "metadata": {
        "colab": {
          "base_uri": "https://localhost:8080/"
        },
        "id": "c81gyqxSpT8o",
        "outputId": "657e2ca4-88b7-4ad5-f39b-e5de89704f19"
      },
      "source": [
        "predictions = np.argmax(predictions)\n",
        "predictions"
      ],
      "execution_count": null,
      "outputs": [
        {
          "output_type": "execute_result",
          "data": {
            "text/plain": [
              "12"
            ]
          },
          "metadata": {},
          "execution_count": 266
        }
      ]
    },
    {
      "cell_type": "code",
      "metadata": {
        "colab": {
          "base_uri": "https://localhost:8080/",
          "height": 35
        },
        "id": "Kaby35OAi4rH",
        "outputId": "6f984451-3e3f-495e-aafb-512e64661381"
      },
      "source": [
        "y_test[0]"
      ],
      "execution_count": null,
      "outputs": [
        {
          "output_type": "execute_result",
          "data": {
            "application/vnd.google.colaboratory.intrinsic+json": {
              "type": "string"
            },
            "text/plain": [
              "'andesite'"
            ]
          },
          "metadata": {},
          "execution_count": 267
        }
      ]
    },
    {
      "cell_type": "code",
      "metadata": {
        "colab": {
          "base_uri": "https://localhost:8080/",
          "height": 320
        },
        "id": "-IwKBohOiOA_",
        "outputId": "5f104488-bfb9-4f94-83df-6c5c11cac1d6"
      },
      "source": [
        "from sklearn.metrics import confusion_matrix\n",
        "confusion_matrix(X_test,str(predictions))"
      ],
      "execution_count": null,
      "outputs": [
        {
          "output_type": "error",
          "ename": "ValueError",
          "evalue": "ignored",
          "traceback": [
            "\u001b[0;31m---------------------------------------------------------------------------\u001b[0m",
            "\u001b[0;31mValueError\u001b[0m                                Traceback (most recent call last)",
            "\u001b[0;32m<ipython-input-268-689280b579b8>\u001b[0m in \u001b[0;36m<module>\u001b[0;34m()\u001b[0m\n\u001b[1;32m      1\u001b[0m \u001b[0;32mfrom\u001b[0m \u001b[0msklearn\u001b[0m\u001b[0;34m.\u001b[0m\u001b[0mmetrics\u001b[0m \u001b[0;32mimport\u001b[0m \u001b[0mconfusion_matrix\u001b[0m\u001b[0;34m\u001b[0m\u001b[0;34m\u001b[0m\u001b[0m\n\u001b[0;32m----> 2\u001b[0;31m \u001b[0mconfusion_matrix\u001b[0m\u001b[0;34m(\u001b[0m\u001b[0mX_test\u001b[0m\u001b[0;34m,\u001b[0m\u001b[0mstr\u001b[0m\u001b[0;34m(\u001b[0m\u001b[0mpredictions\u001b[0m\u001b[0;34m)\u001b[0m\u001b[0;34m)\u001b[0m\u001b[0;34m\u001b[0m\u001b[0;34m\u001b[0m\u001b[0m\n\u001b[0m",
            "\u001b[0;32m/usr/local/lib/python3.7/dist-packages/sklearn/metrics/_classification.py\u001b[0m in \u001b[0;36mconfusion_matrix\u001b[0;34m(y_true, y_pred, labels, sample_weight, normalize)\u001b[0m\n\u001b[1;32m    266\u001b[0m \u001b[0;34m\u001b[0m\u001b[0m\n\u001b[1;32m    267\u001b[0m     \"\"\"\n\u001b[0;32m--> 268\u001b[0;31m     \u001b[0my_type\u001b[0m\u001b[0;34m,\u001b[0m \u001b[0my_true\u001b[0m\u001b[0;34m,\u001b[0m \u001b[0my_pred\u001b[0m \u001b[0;34m=\u001b[0m \u001b[0m_check_targets\u001b[0m\u001b[0;34m(\u001b[0m\u001b[0my_true\u001b[0m\u001b[0;34m,\u001b[0m \u001b[0my_pred\u001b[0m\u001b[0;34m)\u001b[0m\u001b[0;34m\u001b[0m\u001b[0;34m\u001b[0m\u001b[0m\n\u001b[0m\u001b[1;32m    269\u001b[0m     \u001b[0;32mif\u001b[0m \u001b[0my_type\u001b[0m \u001b[0;32mnot\u001b[0m \u001b[0;32min\u001b[0m \u001b[0;34m(\u001b[0m\u001b[0;34m\"binary\"\u001b[0m\u001b[0;34m,\u001b[0m \u001b[0;34m\"multiclass\"\u001b[0m\u001b[0;34m)\u001b[0m\u001b[0;34m:\u001b[0m\u001b[0;34m\u001b[0m\u001b[0;34m\u001b[0m\u001b[0m\n\u001b[1;32m    270\u001b[0m         \u001b[0;32mraise\u001b[0m \u001b[0mValueError\u001b[0m\u001b[0;34m(\u001b[0m\u001b[0;34m\"%s is not supported\"\u001b[0m \u001b[0;34m%\u001b[0m \u001b[0my_type\u001b[0m\u001b[0;34m)\u001b[0m\u001b[0;34m\u001b[0m\u001b[0;34m\u001b[0m\u001b[0m\n",
            "\u001b[0;32m/usr/local/lib/python3.7/dist-packages/sklearn/metrics/_classification.py\u001b[0m in \u001b[0;36m_check_targets\u001b[0;34m(y_true, y_pred)\u001b[0m\n\u001b[1;32m     78\u001b[0m     \u001b[0my_pred\u001b[0m \u001b[0;34m:\u001b[0m \u001b[0marray\u001b[0m \u001b[0;32mor\u001b[0m \u001b[0mindicator\u001b[0m \u001b[0mmatrix\u001b[0m\u001b[0;34m\u001b[0m\u001b[0;34m\u001b[0m\u001b[0m\n\u001b[1;32m     79\u001b[0m     \"\"\"\n\u001b[0;32m---> 80\u001b[0;31m     \u001b[0mcheck_consistent_length\u001b[0m\u001b[0;34m(\u001b[0m\u001b[0my_true\u001b[0m\u001b[0;34m,\u001b[0m \u001b[0my_pred\u001b[0m\u001b[0;34m)\u001b[0m\u001b[0;34m\u001b[0m\u001b[0;34m\u001b[0m\u001b[0m\n\u001b[0m\u001b[1;32m     81\u001b[0m     \u001b[0mtype_true\u001b[0m \u001b[0;34m=\u001b[0m \u001b[0mtype_of_target\u001b[0m\u001b[0;34m(\u001b[0m\u001b[0my_true\u001b[0m\u001b[0;34m)\u001b[0m\u001b[0;34m\u001b[0m\u001b[0;34m\u001b[0m\u001b[0m\n\u001b[1;32m     82\u001b[0m     \u001b[0mtype_pred\u001b[0m \u001b[0;34m=\u001b[0m \u001b[0mtype_of_target\u001b[0m\u001b[0;34m(\u001b[0m\u001b[0my_pred\u001b[0m\u001b[0;34m)\u001b[0m\u001b[0;34m\u001b[0m\u001b[0;34m\u001b[0m\u001b[0m\n",
            "\u001b[0;32m/usr/local/lib/python3.7/dist-packages/sklearn/utils/validation.py\u001b[0m in \u001b[0;36mcheck_consistent_length\u001b[0;34m(*arrays)\u001b[0m\n\u001b[1;32m    210\u001b[0m     \u001b[0;32mif\u001b[0m \u001b[0mlen\u001b[0m\u001b[0;34m(\u001b[0m\u001b[0muniques\u001b[0m\u001b[0;34m)\u001b[0m \u001b[0;34m>\u001b[0m \u001b[0;36m1\u001b[0m\u001b[0;34m:\u001b[0m\u001b[0;34m\u001b[0m\u001b[0;34m\u001b[0m\u001b[0m\n\u001b[1;32m    211\u001b[0m         raise ValueError(\"Found input variables with inconsistent numbers of\"\n\u001b[0;32m--> 212\u001b[0;31m                          \" samples: %r\" % [int(l) for l in lengths])\n\u001b[0m\u001b[1;32m    213\u001b[0m \u001b[0;34m\u001b[0m\u001b[0m\n\u001b[1;32m    214\u001b[0m \u001b[0;34m\u001b[0m\u001b[0m\n",
            "\u001b[0;31mValueError\u001b[0m: Found input variables with inconsistent numbers of samples: [20, 2]"
          ]
        }
      ]
    },
    {
      "cell_type": "code",
      "metadata": {
        "id": "qVeK5dZxcTxc",
        "colab": {
          "base_uri": "https://localhost:8080/",
          "height": 282
        },
        "outputId": "b46f8163-ed70-4ad6-c11a-a913565c2204"
      },
      "source": [
        "img_pred = cv.imread(\"gneiss/0QTQE.jpg\",0)\n",
        "plt.imshow(img_pred)"
      ],
      "execution_count": null,
      "outputs": [
        {
          "output_type": "execute_result",
          "data": {
            "text/plain": [
              "<matplotlib.image.AxesImage at 0x7f6553f8ec50>"
            ]
          },
          "metadata": {},
          "execution_count": 156
        },
        {
          "output_type": "display_data",
          "data": {
            "image/png": "[encoded data removed]",
            "text/plain": [
              "<Figure size 432x288 with 1 Axes>"
            ]
          },
          "metadata": {
            "needs_background": "light"
          }
        }
      ]
    },
    {
      "cell_type": "code",
      "metadata": {
        "id": "qsxcgyI9Byar"
      },
      "source": [
        "if img_pred.shape != [28,28]:\n",
        "    img2 = cv.resize(img_pred, (28, 28))\n",
        "    img_pred = img2.reshape(28, 28, -1)\n",
        "else:\n",
        "    img_pred = img_pred.reshape(28, 28, -1)\n",
        "\n",
        "img_pred = ~img_pred\n",
        "img_pred = img_pred.reshape(1, 1, 28, 28).astype('float32')\n",
        "\n",
        "img_pred = img_pred/255.0\n"
      ],
      "execution_count": null,
      "outputs": []
    },
    {
      "cell_type": "code",
      "metadata": {
        "id": "-vpZf-esIRHD",
        "colab": {
          "base_uri": "https://localhost:8080/",
          "height": 690
        },
        "outputId": "ba1b160f-6816-40e3-bc0d-e6d8c504eeaf"
      },
      "source": [
        "pred = model.predict(img_pred)\n",
        "pred_proba = model.predict_proba(img_pred)\n"
      ],
      "execution_count": null,
      "outputs": [
        {
          "output_type": "error",
          "ename": "ValueError",
          "evalue": "ignored",
          "traceback": [
            "\u001b[0;31m---------------------------------------------------------------------------\u001b[0m",
            "\u001b[0;31mValueError\u001b[0m                                Traceback (most recent call last)",
            "\u001b[0;32m<ipython-input-158-d00c635792b6>\u001b[0m in \u001b[0;36m<module>\u001b[0;34m()\u001b[0m\n\u001b[0;32m----> 1\u001b[0;31m \u001b[0mpred\u001b[0m \u001b[0;34m=\u001b[0m \u001b[0mmodel\u001b[0m\u001b[0;34m.\u001b[0m\u001b[0mpredict\u001b[0m\u001b[0;34m(\u001b[0m\u001b[0mimg_pred\u001b[0m\u001b[0;34m)\u001b[0m\u001b[0;34m\u001b[0m\u001b[0;34m\u001b[0m\u001b[0m\n\u001b[0m\u001b[1;32m      2\u001b[0m \u001b[0mpred_proba\u001b[0m \u001b[0;34m=\u001b[0m \u001b[0mmodel\u001b[0m\u001b[0;34m.\u001b[0m\u001b[0mpredict_proba\u001b[0m\u001b[0;34m(\u001b[0m\u001b[0mimg_pred\u001b[0m\u001b[0;34m)\u001b[0m\u001b[0;34m\u001b[0m\u001b[0;34m\u001b[0m\u001b[0m\n",
            "\u001b[0;32m/usr/local/lib/python3.7/dist-packages/keras/engine/training.py\u001b[0m in \u001b[0;36mpredict\u001b[0;34m(self, x, batch_size, verbose, steps, callbacks, max_queue_size, workers, use_multiprocessing)\u001b[0m\n\u001b[1;32m   1749\u001b[0m           \u001b[0;32mfor\u001b[0m \u001b[0mstep\u001b[0m \u001b[0;32min\u001b[0m \u001b[0mdata_handler\u001b[0m\u001b[0;34m.\u001b[0m\u001b[0msteps\u001b[0m\u001b[0;34m(\u001b[0m\u001b[0;34m)\u001b[0m\u001b[0;34m:\u001b[0m\u001b[0;34m\u001b[0m\u001b[0;34m\u001b[0m\u001b[0m\n\u001b[1;32m   1750\u001b[0m             \u001b[0mcallbacks\u001b[0m\u001b[0;34m.\u001b[0m\u001b[0mon_predict_batch_begin\u001b[0m\u001b[0;34m(\u001b[0m\u001b[0mstep\u001b[0m\u001b[0;34m)\u001b[0m\u001b[0;34m\u001b[0m\u001b[0;34m\u001b[0m\u001b[0m\n\u001b[0;32m-> 1751\u001b[0;31m             \u001b[0mtmp_batch_outputs\u001b[0m \u001b[0;34m=\u001b[0m \u001b[0mself\u001b[0m\u001b[0;34m.\u001b[0m\u001b[0mpredict_function\u001b[0m\u001b[0;34m(\u001b[0m\u001b[0miterator\u001b[0m\u001b[0;34m)\u001b[0m\u001b[0;34m\u001b[0m\u001b[0;34m\u001b[0m\u001b[0m\n\u001b[0m\u001b[1;32m   1752\u001b[0m             \u001b[0;32mif\u001b[0m \u001b[0mdata_handler\u001b[0m\u001b[0;34m.\u001b[0m\u001b[0mshould_sync\u001b[0m\u001b[0;34m:\u001b[0m\u001b[0;34m\u001b[0m\u001b[0;34m\u001b[0m\u001b[0m\n\u001b[1;32m   1753\u001b[0m               \u001b[0mcontext\u001b[0m\u001b[0;34m.\u001b[0m\u001b[0masync_wait\u001b[0m\u001b[0;34m(\u001b[0m\u001b[0;34m)\u001b[0m\u001b[0;34m\u001b[0m\u001b[0;34m\u001b[0m\u001b[0m\n",
            "\u001b[0;32m/usr/local/lib/python3.7/dist-packages/tensorflow/python/eager/def_function.py\u001b[0m in \u001b[0;36m__call__\u001b[0;34m(self, *args, **kwds)\u001b[0m\n\u001b[1;32m    883\u001b[0m \u001b[0;34m\u001b[0m\u001b[0m\n\u001b[1;32m    884\u001b[0m       \u001b[0;32mwith\u001b[0m \u001b[0mOptionalXlaContext\u001b[0m\u001b[0;34m(\u001b[0m\u001b[0mself\u001b[0m\u001b[0;34m.\u001b[0m\u001b[0m_jit_compile\u001b[0m\u001b[0;34m)\u001b[0m\u001b[0;34m:\u001b[0m\u001b[0;34m\u001b[0m\u001b[0;34m\u001b[0m\u001b[0m\n\u001b[0;32m--> 885\u001b[0;31m         \u001b[0mresult\u001b[0m \u001b[0;34m=\u001b[0m \u001b[0mself\u001b[0m\u001b[0;34m.\u001b[0m\u001b[0m_call\u001b[0m\u001b[0;34m(\u001b[0m\u001b[0;34m*\u001b[0m\u001b[0margs\u001b[0m\u001b[0;34m,\u001b[0m \u001b[0;34m**\u001b[0m\u001b[0mkwds\u001b[0m\u001b[0;34m)\u001b[0m\u001b[0;34m\u001b[0m\u001b[0;34m\u001b[0m\u001b[0m\n\u001b[0m\u001b[1;32m    886\u001b[0m \u001b[0;34m\u001b[0m\u001b[0m\n\u001b[1;32m    887\u001b[0m       \u001b[0mnew_tracing_count\u001b[0m \u001b[0;34m=\u001b[0m \u001b[0mself\u001b[0m\u001b[0;34m.\u001b[0m\u001b[0mexperimental_get_tracing_count\u001b[0m\u001b[0;34m(\u001b[0m\u001b[0;34m)\u001b[0m\u001b[0;34m\u001b[0m\u001b[0;34m\u001b[0m\u001b[0m\n",
            "\u001b[0;32m/usr/local/lib/python3.7/dist-packages/tensorflow/python/eager/def_function.py\u001b[0m in \u001b[0;36m_call\u001b[0;34m(self, *args, **kwds)\u001b[0m\n\u001b[1;32m    922\u001b[0m       \u001b[0;31m# In this case we have not created variables on the first call. So we can\u001b[0m\u001b[0;34m\u001b[0m\u001b[0;34m\u001b[0m\u001b[0;34m\u001b[0m\u001b[0m\n\u001b[1;32m    923\u001b[0m       \u001b[0;31m# run the first trace but we should fail if variables are created.\u001b[0m\u001b[0;34m\u001b[0m\u001b[0;34m\u001b[0m\u001b[0;34m\u001b[0m\u001b[0m\n\u001b[0;32m--> 924\u001b[0;31m       \u001b[0mresults\u001b[0m \u001b[0;34m=\u001b[0m \u001b[0mself\u001b[0m\u001b[0;34m.\u001b[0m\u001b[0m_stateful_fn\u001b[0m\u001b[0;34m(\u001b[0m\u001b[0;34m*\u001b[0m\u001b[0margs\u001b[0m\u001b[0;34m,\u001b[0m \u001b[0;34m**\u001b[0m\u001b[0mkwds\u001b[0m\u001b[0;34m)\u001b[0m\u001b[0;34m\u001b[0m\u001b[0;34m\u001b[0m\u001b[0m\n\u001b[0m\u001b[1;32m    925\u001b[0m       \u001b[0;32mif\u001b[0m \u001b[0mself\u001b[0m\u001b[0;34m.\u001b[0m\u001b[0m_created_variables\u001b[0m \u001b[0;32mand\u001b[0m \u001b[0;32mnot\u001b[0m \u001b[0mALLOW_DYNAMIC_VARIABLE_CREATION\u001b[0m\u001b[0;34m:\u001b[0m\u001b[0;34m\u001b[0m\u001b[0;34m\u001b[0m\u001b[0m\n\u001b[1;32m    926\u001b[0m         raise ValueError(\"Creating variables on a non-first call to a function\"\n",
            "\u001b[0;32m/usr/local/lib/python3.7/dist-packages/tensorflow/python/eager/function.py\u001b[0m in \u001b[0;36m__call__\u001b[0;34m(self, *args, **kwargs)\u001b[0m\n\u001b[1;32m   3036\u001b[0m     \u001b[0;32mwith\u001b[0m \u001b[0mself\u001b[0m\u001b[0;34m.\u001b[0m\u001b[0m_lock\u001b[0m\u001b[0;34m:\u001b[0m\u001b[0;34m\u001b[0m\u001b[0;34m\u001b[0m\u001b[0m\n\u001b[1;32m   3037\u001b[0m       (graph_function,\n\u001b[0;32m-> 3038\u001b[0;31m        filtered_flat_args) = self._maybe_define_function(args, kwargs)\n\u001b[0m\u001b[1;32m   3039\u001b[0m     return graph_function._call_flat(\n\u001b[1;32m   3040\u001b[0m         filtered_flat_args, captured_inputs=graph_function.captured_inputs)  # pylint: disable=protected-access\n",
            "\u001b[0;32m/usr/local/lib/python3.7/dist-packages/tensorflow/python/eager/function.py\u001b[0m in \u001b[0;36m_maybe_define_function\u001b[0;34m(self, args, kwargs)\u001b[0m\n\u001b[1;32m   3458\u001b[0m               call_context_key in self._function_cache.missed):\n\u001b[1;32m   3459\u001b[0m             return self._define_function_with_shape_relaxation(\n\u001b[0;32m-> 3460\u001b[0;31m                 args, kwargs, flat_args, filtered_flat_args, cache_key_context)\n\u001b[0m\u001b[1;32m   3461\u001b[0m \u001b[0;34m\u001b[0m\u001b[0m\n\u001b[1;32m   3462\u001b[0m           \u001b[0mself\u001b[0m\u001b[0;34m.\u001b[0m\u001b[0m_function_cache\u001b[0m\u001b[0;34m.\u001b[0m\u001b[0mmissed\u001b[0m\u001b[0;34m.\u001b[0m\u001b[0madd\u001b[0m\u001b[0;34m(\u001b[0m\u001b[0mcall_context_key\u001b[0m\u001b[0;34m)\u001b[0m\u001b[0;34m\u001b[0m\u001b[0;34m\u001b[0m\u001b[0m\n",
            "\u001b[0;32m/usr/local/lib/python3.7/dist-packages/tensorflow/python/eager/function.py\u001b[0m in \u001b[0;36m_define_function_with_shape_relaxation\u001b[0;34m(self, args, kwargs, flat_args, filtered_flat_args, cache_key_context)\u001b[0m\n\u001b[1;32m   3380\u001b[0m \u001b[0;34m\u001b[0m\u001b[0m\n\u001b[1;32m   3381\u001b[0m     graph_function = self._create_graph_function(\n\u001b[0;32m-> 3382\u001b[0;31m         args, kwargs, override_flat_arg_shapes=relaxed_arg_shapes)\n\u001b[0m\u001b[1;32m   3383\u001b[0m     \u001b[0mself\u001b[0m\u001b[0;34m.\u001b[0m\u001b[0m_function_cache\u001b[0m\u001b[0;34m.\u001b[0m\u001b[0marg_relaxed\u001b[0m\u001b[0;34m[\u001b[0m\u001b[0mrank_only_cache_key\u001b[0m\u001b[0;34m]\u001b[0m \u001b[0;34m=\u001b[0m \u001b[0mgraph_function\u001b[0m\u001b[0;34m\u001b[0m\u001b[0;34m\u001b[0m\u001b[0m\n\u001b[1;32m   3384\u001b[0m \u001b[0;34m\u001b[0m\u001b[0m\n",
            "\u001b[0;32m/usr/local/lib/python3.7/dist-packages/tensorflow/python/eager/function.py\u001b[0m in \u001b[0;36m_create_graph_function\u001b[0;34m(self, args, kwargs, override_flat_arg_shapes)\u001b[0m\n\u001b[1;32m   3306\u001b[0m             \u001b[0marg_names\u001b[0m\u001b[0;34m=\u001b[0m\u001b[0marg_names\u001b[0m\u001b[0;34m,\u001b[0m\u001b[0;34m\u001b[0m\u001b[0;34m\u001b[0m\u001b[0m\n\u001b[1;32m   3307\u001b[0m             \u001b[0moverride_flat_arg_shapes\u001b[0m\u001b[0;34m=\u001b[0m\u001b[0moverride_flat_arg_shapes\u001b[0m\u001b[0;34m,\u001b[0m\u001b[0;34m\u001b[0m\u001b[0;34m\u001b[0m\u001b[0m\n\u001b[0;32m-> 3308\u001b[0;31m             capture_by_value=self._capture_by_value),\n\u001b[0m\u001b[1;32m   3309\u001b[0m         \u001b[0mself\u001b[0m\u001b[0;34m.\u001b[0m\u001b[0m_function_attributes\u001b[0m\u001b[0;34m,\u001b[0m\u001b[0;34m\u001b[0m\u001b[0;34m\u001b[0m\u001b[0m\n\u001b[1;32m   3310\u001b[0m         \u001b[0mfunction_spec\u001b[0m\u001b[0;34m=\u001b[0m\u001b[0mself\u001b[0m\u001b[0;34m.\u001b[0m\u001b[0mfunction_spec\u001b[0m\u001b[0;34m,\u001b[0m\u001b[0;34m\u001b[0m\u001b[0;34m\u001b[0m\u001b[0m\n",
            "\u001b[0;32m/usr/local/lib/python3.7/dist-packages/tensorflow/python/framework/func_graph.py\u001b[0m in \u001b[0;36mfunc_graph_from_py_func\u001b[0;34m(name, python_func, args, kwargs, signature, func_graph, autograph, autograph_options, add_control_dependencies, arg_names, op_return_value, collections, capture_by_value, override_flat_arg_shapes, acd_record_initial_resource_uses)\u001b[0m\n\u001b[1;32m   1005\u001b[0m         \u001b[0m_\u001b[0m\u001b[0;34m,\u001b[0m \u001b[0moriginal_func\u001b[0m \u001b[0;34m=\u001b[0m \u001b[0mtf_decorator\u001b[0m\u001b[0;34m.\u001b[0m\u001b[0munwrap\u001b[0m\u001b[0;34m(\u001b[0m\u001b[0mpython_func\u001b[0m\u001b[0;34m)\u001b[0m\u001b[0;34m\u001b[0m\u001b[0;34m\u001b[0m\u001b[0m\n\u001b[1;32m   1006\u001b[0m \u001b[0;34m\u001b[0m\u001b[0m\n\u001b[0;32m-> 1007\u001b[0;31m       \u001b[0mfunc_outputs\u001b[0m \u001b[0;34m=\u001b[0m \u001b[0mpython_func\u001b[0m\u001b[0;34m(\u001b[0m\u001b[0;34m*\u001b[0m\u001b[0mfunc_args\u001b[0m\u001b[0;34m,\u001b[0m \u001b[0;34m**\u001b[0m\u001b[0mfunc_kwargs\u001b[0m\u001b[0;34m)\u001b[0m\u001b[0;34m\u001b[0m\u001b[0;34m\u001b[0m\u001b[0m\n\u001b[0m\u001b[1;32m   1008\u001b[0m \u001b[0;34m\u001b[0m\u001b[0m\n\u001b[1;32m   1009\u001b[0m       \u001b[0;31m# invariant: `func_outputs` contains only Tensors, CompositeTensors,\u001b[0m\u001b[0;34m\u001b[0m\u001b[0;34m\u001b[0m\u001b[0;34m\u001b[0m\u001b[0m\n",
            "\u001b[0;32m/usr/local/lib/python3.7/dist-packages/tensorflow/python/eager/def_function.py\u001b[0m in \u001b[0;36mwrapped_fn\u001b[0;34m(*args, **kwds)\u001b[0m\n\u001b[1;32m    666\u001b[0m         \u001b[0;31m# the function a weak reference to itself to avoid a reference cycle.\u001b[0m\u001b[0;34m\u001b[0m\u001b[0;34m\u001b[0m\u001b[0;34m\u001b[0m\u001b[0m\n\u001b[1;32m    667\u001b[0m         \u001b[0;32mwith\u001b[0m \u001b[0mOptionalXlaContext\u001b[0m\u001b[0;34m(\u001b[0m\u001b[0mcompile_with_xla\u001b[0m\u001b[0;34m)\u001b[0m\u001b[0;34m:\u001b[0m\u001b[0;34m\u001b[0m\u001b[0;34m\u001b[0m\u001b[0m\n\u001b[0;32m--> 668\u001b[0;31m           \u001b[0mout\u001b[0m \u001b[0;34m=\u001b[0m \u001b[0mweak_wrapped_fn\u001b[0m\u001b[0;34m(\u001b[0m\u001b[0;34m)\u001b[0m\u001b[0;34m.\u001b[0m\u001b[0m__wrapped__\u001b[0m\u001b[0;34m(\u001b[0m\u001b[0;34m*\u001b[0m\u001b[0margs\u001b[0m\u001b[0;34m,\u001b[0m \u001b[0;34m**\u001b[0m\u001b[0mkwds\u001b[0m\u001b[0;34m)\u001b[0m\u001b[0;34m\u001b[0m\u001b[0;34m\u001b[0m\u001b[0m\n\u001b[0m\u001b[1;32m    669\u001b[0m         \u001b[0;32mreturn\u001b[0m \u001b[0mout\u001b[0m\u001b[0;34m\u001b[0m\u001b[0;34m\u001b[0m\u001b[0m\n\u001b[1;32m    670\u001b[0m \u001b[0;34m\u001b[0m\u001b[0m\n",
            "\u001b[0;32m/usr/local/lib/python3.7/dist-packages/tensorflow/python/framework/func_graph.py\u001b[0m in \u001b[0;36mwrapper\u001b[0;34m(*args, **kwargs)\u001b[0m\n\u001b[1;32m    992\u001b[0m           \u001b[0;32mexcept\u001b[0m \u001b[0mException\u001b[0m \u001b[0;32mas\u001b[0m \u001b[0me\u001b[0m\u001b[0;34m:\u001b[0m  \u001b[0;31m# pylint:disable=broad-except\u001b[0m\u001b[0;34m\u001b[0m\u001b[0;34m\u001b[0m\u001b[0m\n\u001b[1;32m    993\u001b[0m             \u001b[0;32mif\u001b[0m \u001b[0mhasattr\u001b[0m\u001b[0;34m(\u001b[0m\u001b[0me\u001b[0m\u001b[0;34m,\u001b[0m \u001b[0;34m\"ag_error_metadata\"\u001b[0m\u001b[0;34m)\u001b[0m\u001b[0;34m:\u001b[0m\u001b[0;34m\u001b[0m\u001b[0;34m\u001b[0m\u001b[0m\n\u001b[0;32m--> 994\u001b[0;31m               \u001b[0;32mraise\u001b[0m \u001b[0me\u001b[0m\u001b[0;34m.\u001b[0m\u001b[0mag_error_metadata\u001b[0m\u001b[0;34m.\u001b[0m\u001b[0mto_exception\u001b[0m\u001b[0;34m(\u001b[0m\u001b[0me\u001b[0m\u001b[0;34m)\u001b[0m\u001b[0;34m\u001b[0m\u001b[0;34m\u001b[0m\u001b[0m\n\u001b[0m\u001b[1;32m    995\u001b[0m             \u001b[0;32melse\u001b[0m\u001b[0;34m:\u001b[0m\u001b[0;34m\u001b[0m\u001b[0;34m\u001b[0m\u001b[0m\n\u001b[1;32m    996\u001b[0m               \u001b[0;32mraise\u001b[0m\u001b[0;34m\u001b[0m\u001b[0;34m\u001b[0m\u001b[0m\n",
            "\u001b[0;31mValueError\u001b[0m: in user code:\n\n    /usr/local/lib/python3.7/dist-packages/keras/engine/training.py:1586 predict_function  *\n        return step_function(self, iterator)\n    /usr/local/lib/python3.7/dist-packages/keras/engine/training.py:1576 step_function  **\n        outputs = model.distribute_strategy.run(run_step, args=(data,))\n    /usr/local/lib/python3.7/dist-packages/tensorflow/python/distribute/distribute_lib.py:1286 run\n        return self._extended.call_for_each_replica(fn, args=args, kwargs=kwargs)\n    /usr/local/lib/python3.7/dist-packages/tensorflow/python/distribute/distribute_lib.py:2849 call_for_each_replica\n        return self._call_for_each_replica(fn, args, kwargs)\n    /usr/local/lib/python3.7/dist-packages/tensorflow/python/distribute/distribute_lib.py:3632 _call_for_each_replica\n        return fn(*args, **kwargs)\n    /usr/local/lib/python3.7/dist-packages/keras/engine/training.py:1569 run_step  **\n        outputs = model.predict_step(data)\n    /usr/local/lib/python3.7/dist-packages/keras/engine/training.py:1537 predict_step\n        return self(x, training=False)\n    /usr/local/lib/python3.7/dist-packages/keras/engine/base_layer.py:1020 __call__\n        input_spec.assert_input_compatibility(self.input_spec, inputs, self.name)\n    /usr/local/lib/python3.7/dist-packages/keras/engine/input_spec.py:254 assert_input_compatibility\n        ' but received input with shape ' + display_shape(x.shape))\n\n    ValueError: Input 0 of layer sequential_16 is incompatible with the layer: expected axis -1 of input shape to have value 3 but received input with shape (None, 1, 28, 28)\n"
          ]
        }
      ]
    },
    {
      "cell_type": "code",
      "metadata": {
        "id": "YHfXQT7RBHGS"
      },
      "source": [
        "pred_proba = \"%.2f%%\" % (pred_proba[0][pred]*100)\n",
        "print(pred[0], \" com confiança de \", pred_proba)"
      ],
      "execution_count": null,
      "outputs": []
    },
    {
      "cell_type": "code",
      "metadata": {
        "id": "ZzAJDvFfA8S0"
      },
      "source": [
        ""
      ],
      "execution_count": null,
      "outputs": []
    }
  ]
}