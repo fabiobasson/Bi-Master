{
  "nbformat": 4,
  "nbformat_minor": 0,
  "metadata": {
    "colab": {
      "name": "geological-image-similarity.ipynb",
      "provenance": [],
      "authorship_tag": "ABX9TyOS4ZnjEacQCsYsy/ICj1pe",
      "include_colab_link": true
    },
    "kernelspec": {
      "name": "python3",
      "display_name": "Python 3"
    },
    "language_info": {
      "name": "python"
    },
    "accelerator": "GPU"
  },
  "cells": [
    {
      "cell_type": "markdown",
      "metadata": {
        "id": "view-in-github",
        "colab_type": "text"
      },
      "source": [
        "<a href=\"https://colab.research.google.com/github/fabiobasson/Bi-Master/blob/main/geological_image_similarity.ipynb\" target=\"_parent\"><img src=\"https://colab.research.google.com/assets/colab-badge.svg\" alt=\"Open In Colab\"/></a>"
      ]
    },
    {
      "cell_type": "markdown",
      "metadata": {
        "id": "ek-dpdgUwrpq"
      },
      "source": [
        "# Importações "
      ]
    },
    {
      "cell_type": "code",
      "metadata": {
        "id": "d_JsE0wMwy5m"
      },
      "source": [
        "import os\n",
        "import tensorflow as tf\n",
        "from tensorflow.keras import layers\n",
        "from tensorflow.keras import Model\n",
        "from os import getcwd\n",
        "import zipfile\n",
        "import shutil\n",
        "import numpy as np\n",
        "import glob\n",
        "import random\n",
        "import pandas as pd\n",
        "import matplotlib.pyplot as plt\n",
        "\n",
        "\n",
        "from tensorflow.keras.optimizers import RMSprop, Adam\n",
        "from tensorflow.keras.applications.inception_v3 import InceptionV3\n",
        "from tensorflow.keras.preprocessing.image import ImageDataGenerator\n",
        "\n",
        "from sklearn.metrics import confusion_matrix,accuracy_score\n",
        "from sklearn.model_selection import train_test_split"
      ],
      "execution_count": 3,
      "outputs": []
    },
    {
      "cell_type": "code",
      "metadata": {
        "id": "qB35LCwK1F9Y"
      },
      "source": [
        "!rm -rf geological_similarity"
      ],
      "execution_count": null,
      "outputs": []
    },
    {
      "cell_type": "markdown",
      "metadata": {
        "id": "WsBJvou07fbF"
      },
      "source": [
        "# **Coleta de dados do Kaglle**"
      ]
    },
    {
      "cell_type": "code",
      "metadata": {
        "colab": {
          "resources": {
            "http://localhost:8080/nbextensions/google.colab/files.js": {
              "data": "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",
              "ok": true,
              "headers": [
                [
                  "content-type",
                  "application/javascript"
                ]
              ],
              "status": 200,
              "status_text": ""
            }
          },
          "base_uri": "https://localhost:8080/",
          "height": 90
        },
        "id": "qPW1Uceu4EkK",
        "outputId": "71a1b824-34cb-459c-fec4-6e0afb8eb561"
      },
      "source": [
        "from google.colab import files\n",
        "files.upload()"
      ],
      "execution_count": 7,
      "outputs": [
        {
          "output_type": "display_data",
          "data": {
            "text/html": [
              "\n",
              "     <input type=\"file\" id=\"files-60947abf-0da3-4816-a9f2-c97e601b94b0\" name=\"files[]\" multiple disabled\n",
              "        style=\"border:none\" />\n",
              "     <output id=\"result-60947abf-0da3-4816-a9f2-c97e601b94b0\">\n",
              "      Upload widget is only available when the cell has been executed in the\n",
              "      current browser session. Please rerun this cell to enable.\n",
              "      </output>\n",
              "      <script src=\"/nbextensions/google.colab/files.js\"></script> "
            ],
            "text/plain": [
              "<IPython.core.display.HTML object>"
            ]
          },
          "metadata": {}
        },
        {
          "output_type": "stream",
          "name": "stdout",
          "text": [
            "Saving kaggle.json to kaggle.json\n"
          ]
        },
        {
          "output_type": "execute_result",
          "data": {
            "text/plain": [
              "{'kaggle.json': b'{\"username\":\"fabiobasson\",\"key\":\"d71cbfdfd23379909173204eac74cf96\"}'}"
            ]
          },
          "metadata": {},
          "execution_count": 7
        }
      ]
    },
    {
      "cell_type": "code",
      "metadata": {
        "id": "SQCTWdML4LFR",
        "colab": {
          "base_uri": "https://localhost:8080/"
        },
        "outputId": "3524e78a-1e90-4c83-cc94-277121801438"
      },
      "source": [
        "!mkdir ~/.kaggle\n",
        "!cp kaggle.json ~/.kaggle/\n",
        "!chmod 600 ~/.kaggle/kaggle.json"
      ],
      "execution_count": 10,
      "outputs": [
        {
          "output_type": "stream",
          "name": "stdout",
          "text": [
            "mkdir: cannot create directory ‘/root/.kaggle’: File exists\n"
          ]
        }
      ]
    },
    {
      "cell_type": "markdown",
      "metadata": {
        "id": "rte0cNVp7kgE"
      },
      "source": [
        "# **###  Download dos dados / descompactando os dados**"
      ]
    },
    {
      "cell_type": "code",
      "metadata": {
        "colab": {
          "base_uri": "https://localhost:8080/"
        },
        "id": "cPWKIkQqHfSv",
        "outputId": "6c7cb82e-c271-4e8b-bad4-6a56b2a64f47"
      },
      "source": [
        "#!kaggle datasets download tanyadayanand/geological-image-similarity\n",
        "#! unzip -qq  geological-image-similarity"
      ],
      "execution_count": null,
      "outputs": [
        {
          "output_type": "stream",
          "name": "stdout",
          "text": [
            "Downloading geological-image-similarity.zip to /content\n",
            " 80% 27.0M/33.6M [00:00<00:00, 22.8MB/s]\n",
            "100% 33.6M/33.6M [00:00<00:00, 49.2MB/s]\n"
          ]
        }
      ]
    },
    {
      "cell_type": "code",
      "metadata": {
        "colab": {
          "base_uri": "https://localhost:8080/"
        },
        "id": "GvN30SNO4L1f",
        "outputId": "8507cfe9-82e1-4190-cd54-2eb3946a7ebd"
      },
      "source": [
        "!kaggle datasets download fabiobasson/geologicalsimilarity\n",
        "! unzip -qq  geologicalsimilarity"
      ],
      "execution_count": 11,
      "outputs": [
        {
          "output_type": "stream",
          "name": "stdout",
          "text": [
            "Downloading geologicalsimilarity.zip to /content\n",
            "\r  0% 0.00/1.31M [00:00<?, ?B/s]\n",
            "\r100% 1.31M/1.31M [00:00<00:00, 87.6MB/s]\n"
          ]
        }
      ]
    },
    {
      "cell_type": "markdown",
      "metadata": {
        "id": "owY2uo8A7q5j"
      },
      "source": [
        "# ** Criação da estrutura e Dataframe**"
      ]
    },
    {
      "cell_type": "code",
      "metadata": {
        "colab": {
          "base_uri": "https://localhost:8080/"
        },
        "id": "QXSrUDeU4L7J",
        "outputId": "6b669293-d845-49cc-856a-997e033fda14"
      },
      "source": [
        "andesite_dir = glob.glob('andesite/*.jpg');gneiss_dir = glob.glob('gneiss/*.jpg')\n",
        "marble_dir = glob.glob('marble/*.jpg');quartzite_dir = glob.glob('quartzite/*.jpg')\n",
        "rhyolite_dir = glob.glob('rhyolite/*.jpg');\n",
        "schist_dir = glob.glob('schist/*.jpg')\n",
        "print(len(andesite_dir));print(len(gneiss_dir)); print(len(marble_dir)); print(len(quartzite_dir));  print(len(quartzite_dir)); print(len(schist_dir))\n"
      ],
      "execution_count": 12,
      "outputs": [
        {
          "output_type": "stream",
          "name": "stdout",
          "text": [
            "230\n",
            "190\n",
            "204\n",
            "198\n",
            "198\n",
            "204\n"
          ]
        }
      ]
    },
    {
      "cell_type": "code",
      "metadata": {
        "colab": {
          "base_uri": "https://localhost:8080/"
        },
        "id": "_eBw1Jk2EYm2",
        "outputId": "b4eeeae9-6b17-4dbe-dce7-732c25c04c2e"
      },
      "source": [
        "andesite_dir[0:4]"
      ],
      "execution_count": 13,
      "outputs": [
        {
          "output_type": "execute_result",
          "data": {
            "text/plain": [
              "['andesite/0DG4N.jpg',\n",
              " 'andesite/2A1GM.jpg',\n",
              " 'andesite/0VTAJ.jpg',\n",
              " 'andesite/0FDRJ.jpg']"
            ]
          },
          "metadata": {},
          "execution_count": 13
        }
      ]
    },
    {
      "cell_type": "code",
      "metadata": {
        "id": "O9d3W_LswkS2",
        "colab": {
          "base_uri": "https://localhost:8080/",
          "height": 35
        },
        "outputId": "3403b895-0c0c-4666-d76c-29067732df48"
      },
      "source": [
        "class_names = ['andesite', 'gneiss', 'marbler', 'quartzite', 'rhyolite','schist']\n",
        "class_names[0]"
      ],
      "execution_count": 14,
      "outputs": [
        {
          "output_type": "execute_result",
          "data": {
            "application/vnd.google.colaboratory.intrinsic+json": {
              "type": "string"
            },
            "text/plain": [
              "'andesite'"
            ]
          },
          "metadata": {},
          "execution_count": 14
        }
      ]
    },
    {
      "cell_type": "code",
      "metadata": {
        "colab": {
          "base_uri": "https://localhost:8080/"
        },
        "id": "wBhB6b6xi1xl",
        "outputId": "0cb1152f-75b4-438f-966c-bed4463628a5"
      },
      "source": [
        "andesite_df=[];gneiss_df=[];marble_df=[]\n",
        "quartzite_df=[]\n",
        "rhyolite_df=[]\n",
        "schist_df=[]\n",
        "\n",
        "for i in andesite_dir:\n",
        "    andesite_df.append([i,class_names[0]])\n",
        "for j in gneiss_dir:\n",
        "   gneiss_df.append([j,class_names[1]])\n",
        "for l in marble_dir:\n",
        "    marble_df.append([l,class_names[2]])\n",
        "for m in quartzite_dir:\n",
        "    quartzite_df.append([m,class_names[3]])\n",
        "for n in rhyolite_dir:\n",
        "    rhyolite_df.append([n,class_names[4]])\n",
        "for o in schist_dir:\n",
        "    schist_df.append([o,class_names[5]])\n",
        "   \n",
        "df = andesite_df + gneiss_df + marble_df + quartzite_df + rhyolite_df + schist_df\n",
        "random.shuffle(df)\n",
        "df"
      ],
      "execution_count": 15,
      "outputs": [
        {
          "output_type": "execute_result",
          "data": {
            "text/plain": [
              "[['marble/0CGF6.jpg', 'marbler'],\n",
              " ['rhyolite/0LDKO.jpg', 'rhyolite'],\n",
              " ['quartzite/0TEUK.jpg', 'quartzite'],\n",
              " ['schist/1Y71S.jpg', 'schist'],\n",
              " ['gneiss/0FCEM.jpg', 'gneiss'],\n",
              " ['rhyolite/1DD0D.jpg', 'rhyolite'],\n",
              " ['rhyolite/1ZRW6.jpg', 'rhyolite'],\n",
              " ['gneiss/1EZKQ.jpg', 'gneiss'],\n",
              " ['andesite/1SGRW.jpg', 'andesite'],\n",
              " ['schist/0IG8O.jpg', 'schist'],\n",
              " ['gneiss/1F40X.jpg', 'gneiss'],\n",
              " ['marble/0EHO3.jpg', 'marbler'],\n",
              " ['marble/1J16A.jpg', 'marbler'],\n",
              " ['schist/1FL60.jpg', 'schist'],\n",
              " ['marble/0DZ1P.jpg', 'marbler'],\n",
              " ['gneiss/1BORU.jpg', 'gneiss'],\n",
              " ['schist/02AS4.jpg', 'schist'],\n",
              " ['andesite/0F0VP.jpg', 'andesite'],\n",
              " ['marble/1CGX1.jpg', 'marbler'],\n",
              " ['schist/2B06R.jpg', 'schist'],\n",
              " ['gneiss/1RFQS.jpg', 'gneiss'],\n",
              " ['marble/1GU6W.jpg', 'marbler'],\n",
              " ['quartzite/01E0O.jpg', 'quartzite'],\n",
              " ['andesite/0NYLD.jpg', 'andesite'],\n",
              " ['rhyolite/1G22E.jpg', 'rhyolite'],\n",
              " ['schist/1FJL3.jpg', 'schist'],\n",
              " ['rhyolite/1NO90.jpg', 'rhyolite'],\n",
              " ['schist/1IPQ1.jpg', 'schist'],\n",
              " ['marble/1BAFQ.jpg', 'marbler'],\n",
              " ['andesite/1W32X.jpg', 'andesite'],\n",
              " ['rhyolite/1IFIZ.jpg', 'rhyolite'],\n",
              " ['schist/1M20R.jpg', 'schist'],\n",
              " ['schist/0RLPR.jpg', 'schist'],\n",
              " ['marble/0JRN3.jpg', 'marbler'],\n",
              " ['quartzite/0UKU9.jpg', 'quartzite'],\n",
              " ['andesite/1P8TW.jpg', 'andesite'],\n",
              " ['schist/0QWO6.jpg', 'schist'],\n",
              " ['gneiss/1Q999.jpg', 'gneiss'],\n",
              " ['andesite/0SD5F.jpg', 'andesite'],\n",
              " ['schist/0YZ1K.jpg', 'schist'],\n",
              " ['marble/1AC3N.jpg', 'marbler'],\n",
              " ['andesite/0GPRK.jpg', 'andesite'],\n",
              " ['quartzite/0SVGT.jpg', 'quartzite'],\n",
              " ['rhyolite/1G1V2.jpg', 'rhyolite'],\n",
              " ['andesite/0APW8.jpg', 'andesite'],\n",
              " ['quartzite/0PVU4.jpg', 'quartzite'],\n",
              " ['quartzite/1RT9R.jpg', 'quartzite'],\n",
              " ['quartzite/0AC6V.jpg', 'quartzite'],\n",
              " ['rhyolite/0H8PF.jpg', 'rhyolite'],\n",
              " ['gneiss/1N2MN.jpg', 'gneiss'],\n",
              " ['schist/01IL5.jpg', 'schist'],\n",
              " ['marble/01FA2.jpg', 'marbler'],\n",
              " ['gneiss/0U5RP.jpg', 'gneiss'],\n",
              " ['marble/0O8K0.jpg', 'marbler'],\n",
              " ['quartzite/1DGLB.jpg', 'quartzite'],\n",
              " ['rhyolite/0H4H9.jpg', 'rhyolite'],\n",
              " ['rhyolite/0LC4Y.jpg', 'rhyolite'],\n",
              " ['quartzite/0N5GX.jpg', 'quartzite'],\n",
              " ['schist/0M8WX.jpg', 'schist'],\n",
              " ['schist/00DLL.jpg', 'schist'],\n",
              " ['quartzite/0M6W5.jpg', 'quartzite'],\n",
              " ['andesite/1UHU2.jpg', 'andesite'],\n",
              " ['gneiss/0XKLD.jpg', 'gneiss'],\n",
              " ['gneiss/0KIXZ.jpg', 'gneiss'],\n",
              " ['quartzite/0TT4D.jpg', 'quartzite'],\n",
              " ['rhyolite/0D6U6.jpg', 'rhyolite'],\n",
              " ['marble/0TDII.jpg', 'marbler'],\n",
              " ['marble/1O228.jpg', 'marbler'],\n",
              " ['marble/1OAV0.jpg', 'marbler'],\n",
              " ['schist/1YDVN.jpg', 'schist'],\n",
              " ['rhyolite/0S0FW.jpg', 'rhyolite'],\n",
              " ['marble/0NZ1L.jpg', 'marbler'],\n",
              " ['rhyolite/01L2N.jpg', 'rhyolite'],\n",
              " ['schist/1YS7B.jpg', 'schist'],\n",
              " ['gneiss/1DZKA.jpg', 'gneiss'],\n",
              " ['andesite/0IUZE.jpg', 'andesite'],\n",
              " ['andesite/1Q38F.jpg', 'andesite'],\n",
              " ['rhyolite/0R1VV.jpg', 'rhyolite'],\n",
              " ['gneiss/0B9A9.jpg', 'gneiss'],\n",
              " ['marble/0O0HX.jpg', 'marbler'],\n",
              " ['schist/0R7TQ.jpg', 'schist'],\n",
              " ['marble/1FWYJ.jpg', 'marbler'],\n",
              " ['andesite/0M1BO.jpg', 'andesite'],\n",
              " ['rhyolite/1UR07.jpg', 'rhyolite'],\n",
              " ['schist/1FA7G.jpg', 'schist'],\n",
              " ['gneiss/0II0T.jpg', 'gneiss'],\n",
              " ['marble/0BGE7.jpg', 'marbler'],\n",
              " ['rhyolite/0K9SS.jpg', 'rhyolite'],\n",
              " ['quartzite/0IV82.jpg', 'quartzite'],\n",
              " ['rhyolite/1KNID.jpg', 'rhyolite'],\n",
              " ['schist/1IHVE.jpg', 'schist'],\n",
              " ['gneiss/1K6HA.jpg', 'gneiss'],\n",
              " ['schist/1FJHY.jpg', 'schist'],\n",
              " ['quartzite/1GG0V.jpg', 'quartzite'],\n",
              " ['quartzite/0M3XM.jpg', 'quartzite'],\n",
              " ['gneiss/0S1CK.jpg', 'gneiss'],\n",
              " ['schist/1UBZ2.jpg', 'schist'],\n",
              " ['quartzite/0GERO.jpg', 'quartzite'],\n",
              " ['quartzite/0AERN.jpg', 'quartzite'],\n",
              " ['gneiss/0Q0ZA.jpg', 'gneiss'],\n",
              " ['quartzite/1IYIZ.jpg', 'quartzite'],\n",
              " ['rhyolite/0A3ZH.jpg', 'rhyolite'],\n",
              " ['gneiss/01GFN.jpg', 'gneiss'],\n",
              " ['andesite/2BVY0.jpg', 'andesite'],\n",
              " ['andesite/0L488.jpg', 'andesite'],\n",
              " ['gneiss/0UG4V.jpg', 'gneiss'],\n",
              " ['marble/1JFQX.jpg', 'marbler'],\n",
              " ['quartzite/0M3H2.jpg', 'quartzite'],\n",
              " ['andesite/0VTAJ.jpg', 'andesite'],\n",
              " ['quartzite/2FWWA.jpg', 'quartzite'],\n",
              " ['andesite/1ONZI.jpg', 'andesite'],\n",
              " ['schist/1UMFK.jpg', 'schist'],\n",
              " ['gneiss/0X24Q.jpg', 'gneiss'],\n",
              " ['marble/0VGC1.jpg', 'marbler'],\n",
              " ['schist/0UIE5.jpg', 'schist'],\n",
              " ['andesite/0AQBW.jpg', 'andesite'],\n",
              " ['rhyolite/1AK8X.jpg', 'rhyolite'],\n",
              " ['schist/0KQWR.jpg', 'schist'],\n",
              " ['schist/1D5UC.jpg', 'schist'],\n",
              " ['rhyolite/0IIG4.jpg', 'rhyolite'],\n",
              " ['rhyolite/0R9X2.jpg', 'rhyolite'],\n",
              " ['andesite/1ZXQD.jpg', 'andesite'],\n",
              " ['rhyolite/1O5OP.jpg', 'rhyolite'],\n",
              " ['quartzite/0UA7W.jpg', 'quartzite'],\n",
              " ['marble/0LM6M.jpg', 'marbler'],\n",
              " ['rhyolite/1AGZV.jpg', 'rhyolite'],\n",
              " ['andesite/1MY8Y.jpg', 'andesite'],\n",
              " ['andesite/0OUZH.jpg', 'andesite'],\n",
              " ['marble/0ZGML.jpg', 'marbler'],\n",
              " ['gneiss/0P4UM.jpg', 'gneiss'],\n",
              " ['andesite/1ZWUQ.jpg', 'andesite'],\n",
              " ['andesite/0V324.jpg', 'andesite'],\n",
              " ['quartzite/1CPAU.jpg', 'quartzite'],\n",
              " ['schist/0FO33.jpg', 'schist'],\n",
              " ['andesite/0M6H4.jpg', 'andesite'],\n",
              " ['rhyolite/0OFWW.jpg', 'rhyolite'],\n",
              " ['gneiss/0S1AE.jpg', 'gneiss'],\n",
              " ['gneiss/0H329.jpg', 'gneiss'],\n",
              " ['andesite/1T6J6.jpg', 'andesite'],\n",
              " ['rhyolite/1PVGQ.jpg', 'rhyolite'],\n",
              " ['rhyolite/0MC9E.jpg', 'rhyolite'],\n",
              " ['marble/1B6ME.jpg', 'marbler'],\n",
              " ['schist/1XU6R.jpg', 'schist'],\n",
              " ['andesite/1JDQC.jpg', 'andesite'],\n",
              " ['schist/0TZG8.jpg', 'schist'],\n",
              " ['quartzite/1S1OJ.jpg', 'quartzite'],\n",
              " ['andesite/0MYHH.jpg', 'andesite'],\n",
              " ['schist/1ZHJ7.jpg', 'schist'],\n",
              " ['quartzite/0LLV5.jpg', 'quartzite'],\n",
              " ['marble/1J65D.jpg', 'marbler'],\n",
              " ['gneiss/0XIRF.jpg', 'gneiss'],\n",
              " ['rhyolite/1CKYU.jpg', 'rhyolite'],\n",
              " ['marble/0B709.jpg', 'marbler'],\n",
              " ['andesite/0FW81.jpg', 'andesite'],\n",
              " ['rhyolite/0XD7W.jpg', 'rhyolite'],\n",
              " ['schist/1DE8I.jpg', 'schist'],\n",
              " ['andesite/0JC0L.jpg', 'andesite'],\n",
              " ['rhyolite/1BUMU.jpg', 'rhyolite'],\n",
              " ['schist/1WKRB.jpg', 'schist'],\n",
              " ['andesite/0A5NL.jpg', 'andesite'],\n",
              " ['quartzite/2AWT3.jpg', 'quartzite'],\n",
              " ['andesite/1MGDU.jpg', 'andesite'],\n",
              " ['quartzite/0RQA4.jpg', 'quartzite'],\n",
              " ['quartzite/0Y3PY.jpg', 'quartzite'],\n",
              " ['gneiss/0SA1U.jpg', 'gneiss'],\n",
              " ['marble/0NIHO.jpg', 'marbler'],\n",
              " ['schist/1O5FU.jpg', 'schist'],\n",
              " ['andesite/0IF4E.jpg', 'andesite'],\n",
              " ['quartzite/1NF92.jpg', 'quartzite'],\n",
              " ['marble/0YQ0R.jpg', 'marbler'],\n",
              " ['schist/1D2Q6.jpg', 'schist'],\n",
              " ['andesite/0FVDN.jpg', 'andesite'],\n",
              " ['quartzite/1K4ZM.jpg', 'quartzite'],\n",
              " ['marble/1D7R3.jpg', 'marbler'],\n",
              " ['gneiss/1NL21.jpg', 'gneiss'],\n",
              " ['andesite/0YKEH.jpg', 'andesite'],\n",
              " ['rhyolite/0GX7I.jpg', 'rhyolite'],\n",
              " ['andesite/2A1GM.jpg', 'andesite'],\n",
              " ['schist/0SYP8.jpg', 'schist'],\n",
              " ['marble/1EO7H.jpg', 'marbler'],\n",
              " ['andesite/0OF1T.jpg', 'andesite'],\n",
              " ['rhyolite/0PJC2.jpg', 'rhyolite'],\n",
              " ['marble/1KEFC.jpg', 'marbler'],\n",
              " ['quartzite/1X147.jpg', 'quartzite'],\n",
              " ['andesite/0PVZK.jpg', 'andesite'],\n",
              " ['andesite/0N8VN.jpg', 'andesite'],\n",
              " ['gneiss/1DLBL.jpg', 'gneiss'],\n",
              " ['rhyolite/0WOMC.jpg', 'rhyolite'],\n",
              " ['andesite/0J628.jpg', 'andesite'],\n",
              " ['quartzite/0S2HD.jpg', 'quartzite'],\n",
              " ['marble/0TR8Y.jpg', 'marbler'],\n",
              " ['andesite/1LGKB.jpg', 'andesite'],\n",
              " ['quartzite/1HECR.jpg', 'quartzite'],\n",
              " ['schist/00TOX.jpg', 'schist'],\n",
              " ['andesite/1HI47.jpg', 'andesite'],\n",
              " ['gneiss/0RFPP.jpg', 'gneiss'],\n",
              " ['gneiss/0Z0V8.jpg', 'gneiss'],\n",
              " ['marble/1RH1N.jpg', 'marbler'],\n",
              " ['marble/1AZSB.jpg', 'marbler'],\n",
              " ['schist/1Y05I.jpg', 'schist'],\n",
              " ['schist/0B9U9.jpg', 'schist'],\n",
              " ['gneiss/1FYAU.jpg', 'gneiss'],\n",
              " ['schist/1K61D.jpg', 'schist'],\n",
              " ['gneiss/1T9Q0.jpg', 'gneiss'],\n",
              " ['marble/1RGH1.jpg', 'marbler'],\n",
              " ['marble/1FBR8.jpg', 'marbler'],\n",
              " ['gneiss/0GV1I.jpg', 'gneiss'],\n",
              " ['gneiss/1J8GJ.jpg', 'gneiss'],\n",
              " ['gneiss/1QUIW.jpg', 'gneiss'],\n",
              " ['quartzite/1Y2OW.jpg', 'quartzite'],\n",
              " ['marble/0QIZA.jpg', 'marbler'],\n",
              " ['andesite/1PNDU.jpg', 'andesite'],\n",
              " ['schist/1XIJB.jpg', 'schist'],\n",
              " ['quartzite/0N3VF.jpg', 'quartzite'],\n",
              " ['gneiss/0W1F1.jpg', 'gneiss'],\n",
              " ['gneiss/0KGY5.jpg', 'gneiss'],\n",
              " ['schist/1ZLQJ.jpg', 'schist'],\n",
              " ['quartzite/1C8W8.jpg', 'quartzite'],\n",
              " ['quartzite/0P0BE.jpg', 'quartzite'],\n",
              " ['andesite/0Z6PL.jpg', 'andesite'],\n",
              " ['marble/0YCO5.jpg', 'marbler'],\n",
              " ['rhyolite/0Z4O3.jpg', 'rhyolite'],\n",
              " ['gneiss/0TO1U.jpg', 'gneiss'],\n",
              " ['schist/1YT05.jpg', 'schist'],\n",
              " ['quartzite/2GGEY.jpg', 'quartzite'],\n",
              " ['schist/1Y8DC.jpg', 'schist'],\n",
              " ['schist/0DXG2.jpg', 'schist'],\n",
              " ['quartzite/1W4X1.jpg', 'quartzite'],\n",
              " ['rhyolite/0YRP3.jpg', 'rhyolite'],\n",
              " ['gneiss/1BSRA.jpg', 'gneiss'],\n",
              " ['marble/0YZ5J.jpg', 'marbler'],\n",
              " ['rhyolite/1L7JX.jpg', 'rhyolite'],\n",
              " ['gneiss/1DY10.jpg', 'gneiss'],\n",
              " ['quartzite/0OSE0.jpg', 'quartzite'],\n",
              " ['gneiss/0SZ87.jpg', 'gneiss'],\n",
              " ['rhyolite/1BKI0.jpg', 'rhyolite'],\n",
              " ['quartzite/0JF0L.jpg', 'quartzite'],\n",
              " ['quartzite/1WJVT.jpg', 'quartzite'],\n",
              " ['andesite/02V0N.jpg', 'andesite'],\n",
              " ['marble/0P1ON.jpg', 'marbler'],\n",
              " ['rhyolite/1RTUJ.jpg', 'rhyolite'],\n",
              " ['schist/0I99J.jpg', 'schist'],\n",
              " ['marble/1MWMD.jpg', 'marbler'],\n",
              " ['schist/2A9P7.jpg', 'schist'],\n",
              " ['gneiss/1JANP.jpg', 'gneiss'],\n",
              " ['schist/1KXSS.jpg', 'schist'],\n",
              " ['quartzite/1JEGX.jpg', 'quartzite'],\n",
              " ['quartzite/1MRH6.jpg', 'quartzite'],\n",
              " ['andesite/1X2X6.jpg', 'andesite'],\n",
              " ['andesite/1P0YB.jpg', 'andesite'],\n",
              " ['andesite/2D5OC.jpg', 'andesite'],\n",
              " ['marble/1A48K.jpg', 'marbler'],\n",
              " ['gneiss/1N32C.jpg', 'gneiss'],\n",
              " ['andesite/1I5G3.jpg', 'andesite'],\n",
              " ['andesite/1CQSI.jpg', 'andesite'],\n",
              " ['marble/1QMTF.jpg', 'marbler'],\n",
              " ['gneiss/0KNBL.jpg', 'gneiss'],\n",
              " ['andesite/0LOF1.jpg', 'andesite'],\n",
              " ['gneiss/0C2HX.jpg', 'gneiss'],\n",
              " ['gneiss/0Q415.jpg', 'gneiss'],\n",
              " ['marble/1R6HB.jpg', 'marbler'],\n",
              " ['quartzite/0CCJH.jpg', 'quartzite'],\n",
              " ['gneiss/1QLKO.jpg', 'gneiss'],\n",
              " ['schist/0R62E.jpg', 'schist'],\n",
              " ['marble/0ECJN.jpg', 'marbler'],\n",
              " ['andesite/0EKHX.jpg', 'andesite'],\n",
              " ['andesite/2AOD4.jpg', 'andesite'],\n",
              " ['rhyolite/1A8NB.jpg', 'rhyolite'],\n",
              " ['rhyolite/0GKBD.jpg', 'rhyolite'],\n",
              " ['quartzite/0V4E7.jpg', 'quartzite'],\n",
              " ['rhyolite/00T5Z.jpg', 'rhyolite'],\n",
              " ['quartzite/0E0E4.jpg', 'quartzite'],\n",
              " ['rhyolite/0KIWN.jpg', 'rhyolite'],\n",
              " ['andesite/1KGS3.jpg', 'andesite'],\n",
              " ['quartzite/1QJ19.jpg', 'quartzite'],\n",
              " ['gneiss/1NJM6.jpg', 'gneiss'],\n",
              " ['rhyolite/0JVJ9.jpg', 'rhyolite'],\n",
              " ['schist/1I7GU.jpg', 'schist'],\n",
              " ['marble/0K0AA.jpg', 'marbler'],\n",
              " ['marble/00I88.jpg', 'marbler'],\n",
              " ['schist/2A42W.jpg', 'schist'],\n",
              " ['rhyolite/0OKWR.jpg', 'rhyolite'],\n",
              " ['marble/0AFPK.jpg', 'marbler'],\n",
              " ['quartzite/0G8J4.jpg', 'quartzite'],\n",
              " ['marble/1C1WP.jpg', 'marbler'],\n",
              " ['marble/0A0VE.jpg', 'marbler'],\n",
              " ['schist/0O6E5.jpg', 'schist'],\n",
              " ['marble/0FNTM.jpg', 'marbler'],\n",
              " ['gneiss/0LONE.jpg', 'gneiss'],\n",
              " ['andesite/0TQ2K.jpg', 'andesite'],\n",
              " ['quartzite/1DWAT.jpg', 'quartzite'],\n",
              " ['andesite/0GB4B.jpg', 'andesite'],\n",
              " ['andesite/0YY64.jpg', 'andesite'],\n",
              " ['andesite/0TVN7.jpg', 'andesite'],\n",
              " ['rhyolite/0K1EO.jpg', 'rhyolite'],\n",
              " ['rhyolite/1QDKE.jpg', 'rhyolite'],\n",
              " ['schist/0IDLI.jpg', 'schist'],\n",
              " ['marble/00ZIH.jpg', 'marbler'],\n",
              " ['andesite/2B16A.jpg', 'andesite'],\n",
              " ['gneiss/0IMN9.jpg', 'gneiss'],\n",
              " ['gneiss/1HPJ5.jpg', 'gneiss'],\n",
              " ['andesite/0JLU3.jpg', 'andesite'],\n",
              " ['andesite/1F41Q.jpg', 'andesite'],\n",
              " ['schist/0IRZM.jpg', 'schist'],\n",
              " ['andesite/1D6MF.jpg', 'andesite'],\n",
              " ['rhyolite/0C59P.jpg', 'rhyolite'],\n",
              " ['schist/1TDS0.jpg', 'schist'],\n",
              " ['schist/1VSRZ.jpg', 'schist'],\n",
              " ['rhyolite/1RZWA.jpg', 'rhyolite'],\n",
              " ['quartzite/1WY8G.jpg', 'quartzite'],\n",
              " ['rhyolite/0VLOR.jpg', 'rhyolite'],\n",
              " ['gneiss/0SQYV.jpg', 'gneiss'],\n",
              " ['gneiss/0VQJ1.jpg', 'gneiss'],\n",
              " ['rhyolite/0UQLC.jpg', 'rhyolite'],\n",
              " ['schist/0VMXE.jpg', 'schist'],\n",
              " ['gneiss/1MDNL.jpg', 'gneiss'],\n",
              " ['schist/01PHA.jpg', 'schist'],\n",
              " ['schist/1QT4M.jpg', 'schist'],\n",
              " ['andesite/1SFRE.jpg', 'andesite'],\n",
              " ['gneiss/0ARS3.jpg', 'gneiss'],\n",
              " ['andesite/1VZU5.jpg', 'andesite'],\n",
              " ['rhyolite/0O7R0.jpg', 'rhyolite'],\n",
              " ['schist/0H52K.jpg', 'schist'],\n",
              " ['andesite/1XUO4.jpg', 'andesite'],\n",
              " ['quartzite/0X4UG.jpg', 'quartzite'],\n",
              " ['schist/1J3FL.jpg', 'schist'],\n",
              " ['marble/1RYI9.jpg', 'marbler'],\n",
              " ['andesite/0ILM1.jpg', 'andesite'],\n",
              " ['marble/0OXNI.jpg', 'marbler'],\n",
              " ['quartzite/0UI2R.jpg', 'quartzite'],\n",
              " ['schist/0MIBF.jpg', 'schist'],\n",
              " ['andesite/0KTE2.jpg', 'andesite'],\n",
              " ['marble/0RJBM.jpg', 'marbler'],\n",
              " ['andesite/1T895.jpg', 'andesite'],\n",
              " ['quartzite/0PYFS.jpg', 'quartzite'],\n",
              " ['andesite/0EO3R.jpg', 'andesite'],\n",
              " ['gneiss/0DJ4D.jpg', 'gneiss'],\n",
              " ['rhyolite/0KM5I.jpg', 'rhyolite'],\n",
              " ['schist/0FO6F.jpg', 'schist'],\n",
              " ['gneiss/1GGFX.jpg', 'gneiss'],\n",
              " ['andesite/0FGVQ.jpg', 'andesite'],\n",
              " ['quartzite/0UYQC.jpg', 'quartzite'],\n",
              " ['gneiss/1LB4G.jpg', 'gneiss'],\n",
              " ['schist/0XQTO.jpg', 'schist'],\n",
              " ['gneiss/1NBG7.jpg', 'gneiss'],\n",
              " ['gneiss/0UZPJ.jpg', 'gneiss'],\n",
              " ['schist/1AYII.jpg', 'schist'],\n",
              " ['schist/1SS34.jpg', 'schist'],\n",
              " ['schist/0RGM3.jpg', 'schist'],\n",
              " ['andesite/0CO7D.jpg', 'andesite'],\n",
              " ['andesite/1WOEB.jpg', 'andesite'],\n",
              " ['andesite/1A9NT.jpg', 'andesite'],\n",
              " ['rhyolite/1DJYY.jpg', 'rhyolite'],\n",
              " ['schist/1Q8BO.jpg', 'schist'],\n",
              " ['marble/1BOM4.jpg', 'marbler'],\n",
              " ['rhyolite/0RYAA.jpg', 'rhyolite'],\n",
              " ['quartzite/1Z2Z0.jpg', 'quartzite'],\n",
              " ['schist/1XK7E.jpg', 'schist'],\n",
              " ['quartzite/1DOH7.jpg', 'quartzite'],\n",
              " ['schist/0YLMN.jpg', 'schist'],\n",
              " ['schist/0JNLD.jpg', 'schist'],\n",
              " ['rhyolite/1X781.jpg', 'rhyolite'],\n",
              " ['andesite/1NZQH.jpg', 'andesite'],\n",
              " ['gneiss/1SVIB.jpg', 'gneiss'],\n",
              " ['andesite/0YCVK.jpg', 'andesite'],\n",
              " ['rhyolite/0Y6NA.jpg', 'rhyolite'],\n",
              " ['quartzite/2CZGU.jpg', 'quartzite'],\n",
              " ['andesite/2BCIA.jpg', 'andesite'],\n",
              " ['quartzite/2GL7U.jpg', 'quartzite'],\n",
              " ['quartzite/0UKV1.jpg', 'quartzite'],\n",
              " ['schist/1VIQN.jpg', 'schist'],\n",
              " ['andesite/0DJWM.jpg', 'andesite'],\n",
              " ['schist/1TUJY.jpg', 'schist'],\n",
              " ['andesite/1BSQD.jpg', 'andesite'],\n",
              " ['marble/1EFDM.jpg', 'marbler'],\n",
              " ['andesite/1U3SJ.jpg', 'andesite'],\n",
              " ['andesite/0P15I.jpg', 'andesite'],\n",
              " ['andesite/1ZEBJ.jpg', 'andesite'],\n",
              " ['andesite/0ZXAT.jpg', 'andesite'],\n",
              " ['andesite/1IWCM.jpg', 'andesite'],\n",
              " ['andesite/0YHO9.jpg', 'andesite'],\n",
              " ['gneiss/0A23A.jpg', 'gneiss'],\n",
              " ['gneiss/1DQG1.jpg', 'gneiss'],\n",
              " ['quartzite/0JF7T.jpg', 'quartzite'],\n",
              " ['gneiss/0ICYJ.jpg', 'gneiss'],\n",
              " ['marble/0P6C5.jpg', 'marbler'],\n",
              " ['rhyolite/1F0AF.jpg', 'rhyolite'],\n",
              " ['rhyolite/1YND0.jpg', 'rhyolite'],\n",
              " ['andesite/1BWPU.jpg', 'andesite'],\n",
              " ['quartzite/1FP0Y.jpg', 'quartzite'],\n",
              " ['andesite/2CJ5G.jpg', 'andesite'],\n",
              " ['gneiss/1RZC2.jpg', 'gneiss'],\n",
              " ['quartzite/0KGSH.jpg', 'quartzite'],\n",
              " ['marble/1RN1B.jpg', 'marbler'],\n",
              " ['quartzite/1QPSR.jpg', 'quartzite'],\n",
              " ['schist/01EMV.jpg', 'schist'],\n",
              " ['andesite/1SCWY.jpg', 'andesite'],\n",
              " ['gneiss/0UR72.jpg', 'gneiss'],\n",
              " ['andesite/1FZZ0.jpg', 'andesite'],\n",
              " ['quartzite/0NMRI.jpg', 'quartzite'],\n",
              " ['gneiss/0GCRZ.jpg', 'gneiss'],\n",
              " ['quartzite/0RDJU.jpg', 'quartzite'],\n",
              " ['rhyolite/0QYBP.jpg', 'rhyolite'],\n",
              " ['marble/0NIGO.jpg', 'marbler'],\n",
              " ['rhyolite/1RIA2.jpg', 'rhyolite'],\n",
              " ['marble/0MHLD.jpg', 'marbler'],\n",
              " ['quartzite/2FWIN.jpg', 'quartzite'],\n",
              " ['gneiss/1SKPH.jpg', 'gneiss'],\n",
              " ['andesite/1RJ9W.jpg', 'andesite'],\n",
              " ['rhyolite/1USZL.jpg', 'rhyolite'],\n",
              " ['rhyolite/00RR8.jpg', 'rhyolite'],\n",
              " ['gneiss/0M24O.jpg', 'gneiss'],\n",
              " ['gneiss/0KF0C.jpg', 'gneiss'],\n",
              " ['quartzite/1NU6Q.jpg', 'quartzite'],\n",
              " ['andesite/1CJKG.jpg', 'andesite'],\n",
              " ['marble/0XSN4.jpg', 'marbler'],\n",
              " ['quartzite/1TXZF.jpg', 'quartzite'],\n",
              " ['rhyolite/1LDYE.jpg', 'rhyolite'],\n",
              " ['schist/1IN00.jpg', 'schist'],\n",
              " ['gneiss/0UQVY.jpg', 'gneiss'],\n",
              " ['gneiss/1L2YJ.jpg', 'gneiss'],\n",
              " ['gneiss/0UQWH.jpg', 'gneiss'],\n",
              " ['quartzite/1TQ09.jpg', 'quartzite'],\n",
              " ['rhyolite/1OWTU.jpg', 'rhyolite'],\n",
              " ['gneiss/00JQK.jpg', 'gneiss'],\n",
              " ['schist/1J8PC.jpg', 'schist'],\n",
              " ['marble/0EKPZ.jpg', 'marbler'],\n",
              " ['schist/0QTK2.jpg', 'schist'],\n",
              " ['marble/1K0AW.jpg', 'marbler'],\n",
              " ['schist/2A7ZO.jpg', 'schist'],\n",
              " ['schist/1YMEP.jpg', 'schist'],\n",
              " ['gneiss/0NRTE.jpg', 'gneiss'],\n",
              " ['quartzite/0NYY5.jpg', 'quartzite'],\n",
              " ['schist/1E0CD.jpg', 'schist'],\n",
              " ['schist/0PCYI.jpg', 'schist'],\n",
              " ['schist/1J8XA.jpg', 'schist'],\n",
              " ['rhyolite/1RCU8.jpg', 'rhyolite'],\n",
              " ['gneiss/0FYMI.jpg', 'gneiss'],\n",
              " ['marble/1GAH5.jpg', 'marbler'],\n",
              " ['marble/1PEP2.jpg', 'marbler'],\n",
              " ['andesite/1Q8QB.jpg', 'andesite'],\n",
              " ['quartzite/1EXNH.jpg', 'quartzite'],\n",
              " ['rhyolite/0CT3O.jpg', 'rhyolite'],\n",
              " ['gneiss/0THX1.jpg', 'gneiss'],\n",
              " ['andesite/0JJ0K.jpg', 'andesite'],\n",
              " ['marble/0QQ2P.jpg', 'marbler'],\n",
              " ['andesite/0MRO4.jpg', 'andesite'],\n",
              " ['andesite/0UHNC.jpg', 'andesite'],\n",
              " ['rhyolite/1R37U.jpg', 'rhyolite'],\n",
              " ['quartzite/1EH7X.jpg', 'quartzite'],\n",
              " ['rhyolite/1N637.jpg', 'rhyolite'],\n",
              " ['gneiss/1M5XB.jpg', 'gneiss'],\n",
              " ['rhyolite/0PDU2.jpg', 'rhyolite'],\n",
              " ['rhyolite/1XOAT.jpg', 'rhyolite'],\n",
              " ['rhyolite/0HCVA.jpg', 'rhyolite'],\n",
              " ['rhyolite/1G9FP.jpg', 'rhyolite'],\n",
              " ['rhyolite/0Z23U.jpg', 'rhyolite'],\n",
              " ['marble/0EWTD.jpg', 'marbler'],\n",
              " ['andesite/1N3PA.jpg', 'andesite'],\n",
              " ['schist/0HQE5.jpg', 'schist'],\n",
              " ['marble/0USQ4.jpg', 'marbler'],\n",
              " ['gneiss/1JJ6Y.jpg', 'gneiss'],\n",
              " ['rhyolite/0L528.jpg', 'rhyolite'],\n",
              " ['marble/1DRAG.jpg', 'marbler'],\n",
              " ['gneiss/1BFGF.jpg', 'gneiss'],\n",
              " ['andesite/1GYJ8.jpg', 'andesite'],\n",
              " ['andesite/1ZJVX.jpg', 'andesite'],\n",
              " ['andesite/0LKQP.jpg', 'andesite'],\n",
              " ['andesite/1U0CR.jpg', 'andesite'],\n",
              " ['andesite/1FFG4.jpg', 'andesite'],\n",
              " ['quartzite/0GR1V.jpg', 'quartzite'],\n",
              " ['marble/0MLLO.jpg', 'marbler'],\n",
              " ['marble/1ABYM.jpg', 'marbler'],\n",
              " ['gneiss/0IAW0.jpg', 'gneiss'],\n",
              " ['rhyolite/0ZO41.jpg', 'rhyolite'],\n",
              " ['gneiss/1NIXA.jpg', 'gneiss'],\n",
              " ['marble/0GE6C.jpg', 'marbler'],\n",
              " ['andesite/0KS0V.jpg', 'andesite'],\n",
              " ['rhyolite/0SWNP.jpg', 'rhyolite'],\n",
              " ['rhyolite/1QLVM.jpg', 'rhyolite'],\n",
              " ['gneiss/0UV54.jpg', 'gneiss'],\n",
              " ['marble/0BB2V.jpg', 'marbler'],\n",
              " ['gneiss/0KMCE.jpg', 'gneiss'],\n",
              " ['andesite/1C1ER.jpg', 'andesite'],\n",
              " ['schist/0ALDG.jpg', 'schist'],\n",
              " ['quartzite/1VCTN.jpg', 'quartzite'],\n",
              " ['schist/1MFLN.jpg', 'schist'],\n",
              " ['andesite/02UT8.jpg', 'andesite'],\n",
              " ['rhyolite/0O3GT.jpg', 'rhyolite'],\n",
              " ['andesite/1GE3A.jpg', 'andesite'],\n",
              " ['schist/0EZ8X.jpg', 'schist'],\n",
              " ['rhyolite/0JTP1.jpg', 'rhyolite'],\n",
              " ['marble/0KX4A.jpg', 'marbler'],\n",
              " ['schist/0I19V.jpg', 'schist'],\n",
              " ['rhyolite/1OOWO.jpg', 'rhyolite'],\n",
              " ['andesite/1X0OH.jpg', 'andesite'],\n",
              " ['andesite/0LC7W.jpg', 'andesite'],\n",
              " ['marble/1F2B1.jpg', 'marbler'],\n",
              " ['rhyolite/0RS2H.jpg', 'rhyolite'],\n",
              " ['quartzite/1D3P3.jpg', 'quartzite'],\n",
              " ['rhyolite/0GI7S.jpg', 'rhyolite'],\n",
              " ['andesite/0VT1X.jpg', 'andesite'],\n",
              " ['gneiss/1OMPQ.jpg', 'gneiss'],\n",
              " ['andesite/2D2NF.jpg', 'andesite'],\n",
              " ['schist/0N2TH.jpg', 'schist'],\n",
              " ['marble/1FG6V.jpg', 'marbler'],\n",
              " ['quartzite/1PDKA.jpg', 'quartzite'],\n",
              " ['schist/1G2FS.jpg', 'schist'],\n",
              " ['quartzite/1LH16.jpg', 'quartzite'],\n",
              " ['andesite/1YILJ.jpg', 'andesite'],\n",
              " ['schist/1ST1F.jpg', 'schist'],\n",
              " ['schist/01NFA.jpg', 'schist'],\n",
              " ['marble/1NB1U.jpg', 'marbler'],\n",
              " ['quartzite/0SG3W.jpg', 'quartzite'],\n",
              " ['andesite/2CB5F.jpg', 'andesite'],\n",
              " ['quartzite/0AX7L.jpg', 'quartzite'],\n",
              " ['quartzite/02QRW.jpg', 'quartzite'],\n",
              " ['marble/1L7WG.jpg', 'marbler'],\n",
              " ['quartzite/1PODO.jpg', 'quartzite'],\n",
              " ['andesite/0KQH2.jpg', 'andesite'],\n",
              " ['marble/01WL3.jpg', 'marbler'],\n",
              " ['marble/1EG3T.jpg', 'marbler'],\n",
              " ['marble/0V8K5.jpg', 'marbler'],\n",
              " ['schist/0QVQM.jpg', 'schist'],\n",
              " ['marble/1GOCC.jpg', 'marbler'],\n",
              " ['marble/1DYJU.jpg', 'marbler'],\n",
              " ['rhyolite/0GIGI.jpg', 'rhyolite'],\n",
              " ['marble/1IJ99.jpg', 'marbler'],\n",
              " ['rhyolite/0FNZG.jpg', 'rhyolite'],\n",
              " ['schist/0EBNR.jpg', 'schist'],\n",
              " ['schist/1VHRR.jpg', 'schist'],\n",
              " ['schist/0TO4G.jpg', 'schist'],\n",
              " ['andesite/0IU7T.jpg', 'andesite'],\n",
              " ['quartzite/1HBZP.jpg', 'quartzite'],\n",
              " ['schist/0OR40.jpg', 'schist'],\n",
              " ['gneiss/01NQL.jpg', 'gneiss'],\n",
              " ['schist/1QHPB.jpg', 'schist'],\n",
              " ['quartzite/1UOKC.jpg', 'quartzite'],\n",
              " ['andesite/0L3KF.jpg', 'andesite'],\n",
              " ['rhyolite/1SRBP.jpg', 'rhyolite'],\n",
              " ['gneiss/0D2AV.jpg', 'gneiss'],\n",
              " ['schist/1JN9L.jpg', 'schist'],\n",
              " ['quartzite/1F88J.jpg', 'quartzite'],\n",
              " ['marble/1N028.jpg', 'marbler'],\n",
              " ['rhyolite/1WZVY.jpg', 'rhyolite'],\n",
              " ['marble/0V2JG.jpg', 'marbler'],\n",
              " ['quartzite/0T7V2.jpg', 'quartzite'],\n",
              " ['rhyolite/1RHDX.jpg', 'rhyolite'],\n",
              " ['gneiss/1OW75.jpg', 'gneiss'],\n",
              " ['marble/1RELH.jpg', 'marbler'],\n",
              " ['andesite/0OBOQ.jpg', 'andesite'],\n",
              " ['gneiss/1QGXR.jpg', 'gneiss'],\n",
              " ['andesite/0XQI9.jpg', 'andesite'],\n",
              " ['quartzite/0PDHJ.jpg', 'quartzite'],\n",
              " ['schist/1X8MA.jpg', 'schist'],\n",
              " ['marble/0WX1Y.jpg', 'marbler'],\n",
              " ['marble/0JGIF.jpg', 'marbler'],\n",
              " ['andesite/0WOO1.jpg', 'andesite'],\n",
              " ['quartzite/0H3MR.jpg', 'quartzite'],\n",
              " ['schist/1J8N8.jpg', 'schist'],\n",
              " ['gneiss/0UWHW.jpg', 'gneiss'],\n",
              " ['rhyolite/1G39Y.jpg', 'rhyolite'],\n",
              " ['gneiss/1DDPY.jpg', 'gneiss'],\n",
              " ['quartzite/0FUVS.jpg', 'quartzite'],\n",
              " ['marble/0A4BE.jpg', 'marbler'],\n",
              " ['schist/0P200.jpg', 'schist'],\n",
              " ['rhyolite/0Q9SF.jpg', 'rhyolite'],\n",
              " ['quartzite/0ATH8.jpg', 'quartzite'],\n",
              " ['schist/1R32V.jpg', 'schist'],\n",
              " ['andesite/1INKZ.jpg', 'andesite'],\n",
              " ['quartzite/1LR2I.jpg', 'quartzite'],\n",
              " ['gneiss/0ZEK4.jpg', 'gneiss'],\n",
              " ['andesite/1S8BQ.jpg', 'andesite'],\n",
              " ['marble/0FI87.jpg', 'marbler'],\n",
              " ['quartzite/0VU5W.jpg', 'quartzite'],\n",
              " ['marble/1TTDR.jpg', 'marbler'],\n",
              " ['marble/0G893.jpg', 'marbler'],\n",
              " ['marble/0U0EL.jpg', 'marbler'],\n",
              " ['andesite/1A8A0.jpg', 'andesite'],\n",
              " ['schist/1W1F0.jpg', 'schist'],\n",
              " ['quartzite/0FJPG.jpg', 'quartzite'],\n",
              " ['quartzite/1B72Z.jpg', 'quartzite'],\n",
              " ['andesite/2AS02.jpg', 'andesite'],\n",
              " ['marble/0WE3F.jpg', 'marbler'],\n",
              " ['quartzite/2B1FA.jpg', 'quartzite'],\n",
              " ['gneiss/1KFKH.jpg', 'gneiss'],\n",
              " ['rhyolite/0P8UX.jpg', 'rhyolite'],\n",
              " ['gneiss/1P3C2.jpg', 'gneiss'],\n",
              " ['schist/1K270.jpg', 'schist'],\n",
              " ['quartzite/1SPKV.jpg', 'quartzite'],\n",
              " ['marble/1E7D7.jpg', 'marbler'],\n",
              " ['andesite/1Y1SB.jpg', 'andesite'],\n",
              " ['rhyolite/0EP7N.jpg', 'rhyolite'],\n",
              " ['gneiss/0VK93.jpg', 'gneiss'],\n",
              " ['schist/0VIY0.jpg', 'schist'],\n",
              " ['gneiss/00WK9.jpg', 'gneiss'],\n",
              " ['schist/0LAVL.jpg', 'schist'],\n",
              " ['quartzite/0XBFO.jpg', 'quartzite'],\n",
              " ['quartzite/1ZIHN.jpg', 'quartzite'],\n",
              " ['andesite/2B375.jpg', 'andesite'],\n",
              " ['quartzite/0V9TJ.jpg', 'quartzite'],\n",
              " ['rhyolite/1RJFI.jpg', 'rhyolite'],\n",
              " ['schist/0QWOP.jpg', 'schist'],\n",
              " ['marble/0XBJT.jpg', 'marbler'],\n",
              " ['schist/0E1M1.jpg', 'schist'],\n",
              " ['gneiss/1AV5B.jpg', 'gneiss'],\n",
              " ['marble/0O1YC.jpg', 'marbler'],\n",
              " ['marble/1SNLX.jpg', 'marbler'],\n",
              " ['schist/1W6CI.jpg', 'schist'],\n",
              " ['rhyolite/1KI7Q.jpg', 'rhyolite'],\n",
              " ['marble/1FTIQ.jpg', 'marbler'],\n",
              " ['quartzite/2HHLT.jpg', 'quartzite'],\n",
              " ['marble/1C6Q3.jpg', 'marbler'],\n",
              " ['gneiss/0XMW7.jpg', 'gneiss'],\n",
              " ['marble/1BT0X.jpg', 'marbler'],\n",
              " ['andesite/0ZH5U.jpg', 'andesite'],\n",
              " ['andesite/0ZAU9.jpg', 'andesite'],\n",
              " ['quartzite/0YII5.jpg', 'quartzite'],\n",
              " ['schist/0SPXT.jpg', 'schist'],\n",
              " ['schist/1UPGE.jpg', 'schist'],\n",
              " ['schist/0K6M6.jpg', 'schist'],\n",
              " ['rhyolite/1ZTHD.jpg', 'rhyolite'],\n",
              " ['gneiss/0US6D.jpg', 'gneiss'],\n",
              " ['gneiss/0BNHA.jpg', 'gneiss'],\n",
              " ['andesite/0OL01.jpg', 'andesite'],\n",
              " ['andesite/0JM47.jpg', 'andesite'],\n",
              " ['rhyolite/1Q3B2.jpg', 'rhyolite'],\n",
              " ['andesite/2CBMU.jpg', 'andesite'],\n",
              " ['marble/1V1CA.jpg', 'marbler'],\n",
              " ['gneiss/1IIVH.jpg', 'gneiss'],\n",
              " ['gneiss/0OOGW.jpg', 'gneiss'],\n",
              " ['schist/0ULEK.jpg', 'schist'],\n",
              " ['quartzite/1VLI5.jpg', 'quartzite'],\n",
              " ['schist/0W5QU.jpg', 'schist'],\n",
              " ['schist/1OWQN.jpg', 'schist'],\n",
              " ['gneiss/1OK58.jpg', 'gneiss'],\n",
              " ['gneiss/0PEQE.jpg', 'gneiss'],\n",
              " ['andesite/1ERC1.jpg', 'andesite'],\n",
              " ['andesite/1EAPQ.jpg', 'andesite'],\n",
              " ['quartzite/1VLZ9.jpg', 'quartzite'],\n",
              " ['schist/1HVIW.jpg', 'schist'],\n",
              " ['schist/0EM0Q.jpg', 'schist'],\n",
              " ['rhyolite/01HI5.jpg', 'rhyolite'],\n",
              " ['quartzite/2HQ6H.jpg', 'quartzite'],\n",
              " ['gneiss/0AF29.jpg', 'gneiss'],\n",
              " ['quartzite/1FS7P.jpg', 'quartzite'],\n",
              " ['quartzite/0PP0L.jpg', 'quartzite'],\n",
              " ['marble/0RJBI.jpg', 'marbler'],\n",
              " ['rhyolite/1OY0U.jpg', 'rhyolite'],\n",
              " ['quartzite/1RLQG.jpg', 'quartzite'],\n",
              " ['marble/1LMQJ.jpg', 'marbler'],\n",
              " ['andesite/1OBGW.jpg', 'andesite'],\n",
              " ['rhyolite/1DF7W.jpg', 'rhyolite'],\n",
              " ['andesite/1TGXG.jpg', 'andesite'],\n",
              " ['gneiss/1QJAV.jpg', 'gneiss'],\n",
              " ['andesite/1F95Z.jpg', 'andesite'],\n",
              " ['andesite/1H9U0.jpg', 'andesite'],\n",
              " ['rhyolite/1G611.jpg', 'rhyolite'],\n",
              " ['marble/1INXP.jpg', 'marbler'],\n",
              " ['andesite/1FOZX.jpg', 'andesite'],\n",
              " ['gneiss/1RAOM.jpg', 'gneiss'],\n",
              " ['quartzite/0VTJ1.jpg', 'quartzite'],\n",
              " ['andesite/0U0LR.jpg', 'andesite'],\n",
              " ['rhyolite/1KRDN.jpg', 'rhyolite'],\n",
              " ['schist/0E3GD.jpg', 'schist'],\n",
              " ['andesite/2AOA9.jpg', 'andesite'],\n",
              " ['andesite/1KHUQ.jpg', 'andesite'],\n",
              " ['schist/1YHIR.jpg', 'schist'],\n",
              " ['andesite/0TLMK.jpg', 'andesite'],\n",
              " ['gneiss/0KJ6S.jpg', 'gneiss'],\n",
              " ['rhyolite/0N5U9.jpg', 'rhyolite'],\n",
              " ['andesite/0DJHN.jpg', 'andesite'],\n",
              " ['gneiss/1BLED.jpg', 'gneiss'],\n",
              " ['schist/1SRXU.jpg', 'schist'],\n",
              " ['schist/0VO3P.jpg', 'schist'],\n",
              " ['marble/1AP4X.jpg', 'marbler'],\n",
              " ['gneiss/0RDBQ.jpg', 'gneiss'],\n",
              " ['quartzite/1ZBTU.jpg', 'quartzite'],\n",
              " ['schist/0U7AJ.jpg', 'schist'],\n",
              " ['gneiss/0SRM1.jpg', 'gneiss'],\n",
              " ['schist/0I2D9.jpg', 'schist'],\n",
              " ['marble/1B5NI.jpg', 'marbler'],\n",
              " ['andesite/1N1GZ.jpg', 'andesite'],\n",
              " ['marble/1VD8M.jpg', 'marbler'],\n",
              " ['marble/0LANU.jpg', 'marbler'],\n",
              " ['quartzite/01HFZ.jpg', 'quartzite'],\n",
              " ['gneiss/1GKX1.jpg', 'gneiss'],\n",
              " ['gneiss/0DLWC.jpg', 'gneiss'],\n",
              " ['rhyolite/0JX4W.jpg', 'rhyolite'],\n",
              " ['schist/1SI3S.jpg', 'schist'],\n",
              " ['schist/2AYPP.jpg', 'schist'],\n",
              " ['gneiss/0RE8J.jpg', 'gneiss'],\n",
              " ['schist/1LDCY.jpg', 'schist'],\n",
              " ['quartzite/1WFXW.jpg', 'quartzite'],\n",
              " ['gneiss/0NJLK.jpg', 'gneiss'],\n",
              " ['andesite/0V571.jpg', 'andesite'],\n",
              " ['gneiss/1QRGA.jpg', 'gneiss'],\n",
              " ['rhyolite/0YRX5.jpg', 'rhyolite'],\n",
              " ['gneiss/0HEIJ.jpg', 'gneiss'],\n",
              " ['rhyolite/1H9EY.jpg', 'rhyolite'],\n",
              " ['andesite/1NRCK.jpg', 'andesite'],\n",
              " ['marble/1JTB8.jpg', 'marbler'],\n",
              " ['quartzite/0OTUL.jpg', 'quartzite'],\n",
              " ['marble/0TCH6.jpg', 'marbler'],\n",
              " ['andesite/0XXUT.jpg', 'andesite'],\n",
              " ['schist/0L925.jpg', 'schist'],\n",
              " ['andesite/0G9JT.jpg', 'andesite'],\n",
              " ['schist/1J9NA.jpg', 'schist'],\n",
              " ['schist/1A3SP.jpg', 'schist'],\n",
              " ['andesite/0RIDC.jpg', 'andesite'],\n",
              " ['quartzite/2GRUT.jpg', 'quartzite'],\n",
              " ['gneiss/0FGWI.jpg', 'gneiss'],\n",
              " ['andesite/2B23O.jpg', 'andesite'],\n",
              " ['marble/1GJZ9.jpg', 'marbler'],\n",
              " ['marble/1M0AB.jpg', 'marbler'],\n",
              " ['andesite/0IVX3.jpg', 'andesite'],\n",
              " ['gneiss/0TV0H.jpg', 'gneiss'],\n",
              " ['quartzite/0QK7A.jpg', 'quartzite'],\n",
              " ['marble/0LP02.jpg', 'marbler'],\n",
              " ['rhyolite/1G19Q.jpg', 'rhyolite'],\n",
              " ['quartzite/01VGF.jpg', 'quartzite'],\n",
              " ['quartzite/1CVBR.jpg', 'quartzite'],\n",
              " ['quartzite/01MSO.jpg', 'quartzite'],\n",
              " ['gneiss/1AG8O.jpg', 'gneiss'],\n",
              " ['schist/1RHEF.jpg', 'schist'],\n",
              " ['quartzite/1BNA5.jpg', 'quartzite'],\n",
              " ['rhyolite/0TCLA.jpg', 'rhyolite'],\n",
              " ['marble/0J19J.jpg', 'marbler'],\n",
              " ['schist/1RCU2.jpg', 'schist'],\n",
              " ['marble/1KH2Z.jpg', 'marbler'],\n",
              " ['marble/0IGO9.jpg', 'marbler'],\n",
              " ['gneiss/0K1FK.jpg', 'gneiss'],\n",
              " ['marble/0G9UE.jpg', 'marbler'],\n",
              " ['rhyolite/1HWZ3.jpg', 'rhyolite'],\n",
              " ['andesite/1XQ3K.jpg', 'andesite'],\n",
              " ['andesite/1ZGSA.jpg', 'andesite'],\n",
              " ['quartzite/0B4LJ.jpg', 'quartzite'],\n",
              " ['marble/0FUFC.jpg', 'marbler'],\n",
              " ['quartzite/1URN0.jpg', 'quartzite'],\n",
              " ['schist/0NJ3B.jpg', 'schist'],\n",
              " ['quartzite/1H503.jpg', 'quartzite'],\n",
              " ['marble/0STDM.jpg', 'marbler'],\n",
              " ['quartzite/2EXRH.jpg', 'quartzite'],\n",
              " ['rhyolite/0KX6X.jpg', 'rhyolite'],\n",
              " ['andesite/1EVOU.jpg', 'andesite'],\n",
              " ['schist/1G2W4.jpg', 'schist'],\n",
              " ['quartzite/1XHUP.jpg', 'quartzite'],\n",
              " ['andesite/0Z2AO.jpg', 'andesite'],\n",
              " ['quartzite/1U64L.jpg', 'quartzite'],\n",
              " ['rhyolite/0BPOM.jpg', 'rhyolite'],\n",
              " ['quartzite/0E7HT.jpg', 'quartzite'],\n",
              " ['gneiss/1RJK8.jpg', 'gneiss'],\n",
              " ['gneiss/0IBYL.jpg', 'gneiss'],\n",
              " ['andesite/1QZ67.jpg', 'andesite'],\n",
              " ['gneiss/1CDRN.jpg', 'gneiss'],\n",
              " ['rhyolite/1YEQK.jpg', 'rhyolite'],\n",
              " ['andesite/1CT4D.jpg', 'andesite'],\n",
              " ['gneiss/1CXFT.jpg', 'gneiss'],\n",
              " ['rhyolite/0SCJ0.jpg', 'rhyolite'],\n",
              " ['marble/0XG9Q.jpg', 'marbler'],\n",
              " ['andesite/0ZA0B.jpg', 'andesite'],\n",
              " ['andesite/1IP99.jpg', 'andesite'],\n",
              " ['schist/0LJR6.jpg', 'schist'],\n",
              " ['andesite/1W93C.jpg', 'andesite'],\n",
              " ['marble/0SY6Y.jpg', 'marbler'],\n",
              " ['quartzite/2C562.jpg', 'quartzite'],\n",
              " ['rhyolite/0GX0W.jpg', 'rhyolite'],\n",
              " ['quartzite/1C75A.jpg', 'quartzite'],\n",
              " ['andesite/1RCKD.jpg', 'andesite'],\n",
              " ['rhyolite/1REFW.jpg', 'rhyolite'],\n",
              " ['rhyolite/1ZJC9.jpg', 'rhyolite'],\n",
              " ['quartzite/1RTDZ.jpg', 'quartzite'],\n",
              " ['andesite/1ZJ0G.jpg', 'andesite'],\n",
              " ['gneiss/1LYH7.jpg', 'gneiss'],\n",
              " ['marble/1LWNV.jpg', 'marbler'],\n",
              " ['andesite/1JO4M.jpg', 'andesite'],\n",
              " ['schist/00GOR.jpg', 'schist'],\n",
              " ['quartzite/1V3I6.jpg', 'quartzite'],\n",
              " ['andesite/0BBCL.jpg', 'andesite'],\n",
              " ['quartzite/1VBEK.jpg', 'quartzite'],\n",
              " ['quartzite/1JCZ0.jpg', 'quartzite'],\n",
              " ['andesite/0TRME.jpg', 'andesite'],\n",
              " ['marble/1O658.jpg', 'marbler'],\n",
              " ['andesite/0N3JV.jpg', 'andesite'],\n",
              " ['schist/0FZ5H.jpg', 'schist'],\n",
              " ['marble/0BTEI.jpg', 'marbler'],\n",
              " ['marble/00GNB.jpg', 'marbler'],\n",
              " ['rhyolite/0BPFW.jpg', 'rhyolite'],\n",
              " ['schist/1ZZ5W.jpg', 'schist'],\n",
              " ['rhyolite/0I2EY.jpg', 'rhyolite'],\n",
              " ['andesite/0CTGW.jpg', 'andesite'],\n",
              " ['gneiss/0SD28.jpg', 'gneiss'],\n",
              " ['quartzite/0QWCD.jpg', 'quartzite'],\n",
              " ['rhyolite/1QSRJ.jpg', 'rhyolite'],\n",
              " ['marble/1CVEJ.jpg', 'marbler'],\n",
              " ['rhyolite/1WQX5.jpg', 'rhyolite'],\n",
              " ['rhyolite/1MQXG.jpg', 'rhyolite'],\n",
              " ['quartzite/2EDVH.jpg', 'quartzite'],\n",
              " ['quartzite/1R8NU.jpg', 'quartzite'],\n",
              " ['andesite/0UCB4.jpg', 'andesite'],\n",
              " ['gneiss/1BC6C.jpg', 'gneiss'],\n",
              " ['rhyolite/0BYVX.jpg', 'rhyolite'],\n",
              " ['rhyolite/1NVQF.jpg', 'rhyolite'],\n",
              " ['schist/0QBPE.jpg', 'schist'],\n",
              " ['schist/0CU6J.jpg', 'schist'],\n",
              " ['rhyolite/0SJ13.jpg', 'rhyolite'],\n",
              " ['rhyolite/1AX0O.jpg', 'rhyolite'],\n",
              " ['andesite/1B0KW.jpg', 'andesite'],\n",
              " ['quartzite/2HADR.jpg', 'quartzite'],\n",
              " ['marble/1ANPV.jpg', 'marbler'],\n",
              " ['schist/2ACHW.jpg', 'schist'],\n",
              " ['marble/0QGZI.jpg', 'marbler'],\n",
              " ['quartzite/1AAHN.jpg', 'quartzite'],\n",
              " ['andesite/02Q0N.jpg', 'andesite'],\n",
              " ['rhyolite/1HJ2D.jpg', 'rhyolite'],\n",
              " ['andesite/1E5BE.jpg', 'andesite'],\n",
              " ['quartzite/1Q35W.jpg', 'quartzite'],\n",
              " ['andesite/0KD1O.jpg', 'andesite'],\n",
              " ['quartzite/2EY8E.jpg', 'quartzite'],\n",
              " ['rhyolite/1YMXJ.jpg', 'rhyolite'],\n",
              " ['schist/0YHOH.jpg', 'schist'],\n",
              " ['marble/0JMGZ.jpg', 'marbler'],\n",
              " ['marble/0KGZL.jpg', 'marbler'],\n",
              " ['marble/0VZ6H.jpg', 'marbler'],\n",
              " ['schist/0DV1I.jpg', 'schist'],\n",
              " ['rhyolite/1EI8V.jpg', 'rhyolite'],\n",
              " ['marble/0M6UO.jpg', 'marbler'],\n",
              " ['andesite/0KNW2.jpg', 'andesite'],\n",
              " ['gneiss/0UQ17.jpg', 'gneiss'],\n",
              " ['marble/0RY96.jpg', 'marbler'],\n",
              " ['marble/1PIJ1.jpg', 'marbler'],\n",
              " ['quartzite/1VK6N.jpg', 'quartzite'],\n",
              " ['quartzite/1W3DU.jpg', 'quartzite'],\n",
              " ['quartzite/1JNPT.jpg', 'quartzite'],\n",
              " ['rhyolite/1QO5O.jpg', 'rhyolite'],\n",
              " ['quartzite/2GSDR.jpg', 'quartzite'],\n",
              " ['marble/1IGUR.jpg', 'marbler'],\n",
              " ['rhyolite/1UN4O.jpg', 'rhyolite'],\n",
              " ['marble/0DA5B.jpg', 'marbler'],\n",
              " ['schist/1OYSD.jpg', 'schist'],\n",
              " ['rhyolite/1O5MI.jpg', 'rhyolite'],\n",
              " ['quartzite/1CXUU.jpg', 'quartzite'],\n",
              " ['rhyolite/0KYWT.jpg', 'rhyolite'],\n",
              " ['schist/1CRSJ.jpg', 'schist'],\n",
              " ['gneiss/1NHZF.jpg', 'gneiss'],\n",
              " ['marble/0DEV8.jpg', 'marbler'],\n",
              " ['quartzite/1B3LP.jpg', 'quartzite'],\n",
              " ['andesite/1JOIO.jpg', 'andesite'],\n",
              " ['gneiss/0R5NW.jpg', 'gneiss'],\n",
              " ['rhyolite/0TB9W.jpg', 'rhyolite'],\n",
              " ['schist/0IKAQ.jpg', 'schist'],\n",
              " ['rhyolite/1PPN5.jpg', 'rhyolite'],\n",
              " ['marble/0UEH1.jpg', 'marbler'],\n",
              " ['rhyolite/0BIQU.jpg', 'rhyolite'],\n",
              " ['schist/1ZZW0.jpg', 'schist'],\n",
              " ['rhyolite/1SJUV.jpg', 'rhyolite'],\n",
              " ['rhyolite/1RYWF.jpg', 'rhyolite'],\n",
              " ['rhyolite/1V0XU.jpg', 'rhyolite'],\n",
              " ['andesite/1ATXZ.jpg', 'andesite'],\n",
              " ['marble/1QTL0.jpg', 'marbler'],\n",
              " ['gneiss/0U3N5.jpg', 'gneiss'],\n",
              " ['gneiss/0PDAS.jpg', 'gneiss'],\n",
              " ['marble/1B45O.jpg', 'marbler'],\n",
              " ['rhyolite/1UVX5.jpg', 'rhyolite'],\n",
              " ['marble/1HKKH.jpg', 'marbler'],\n",
              " ['rhyolite/1Y0AT.jpg', 'rhyolite'],\n",
              " ['gneiss/0O6UH.jpg', 'gneiss'],\n",
              " ['quartzite/2FQV8.jpg', 'quartzite'],\n",
              " ['andesite/1SIZL.jpg', 'andesite'],\n",
              " ['rhyolite/0HXFK.jpg', 'rhyolite'],\n",
              " ['quartzite/0NXDT.jpg', 'quartzite'],\n",
              " ['rhyolite/0ZN4O.jpg', 'rhyolite'],\n",
              " ['marble/1FLJJ.jpg', 'marbler'],\n",
              " ['marble/0OOMS.jpg', 'marbler'],\n",
              " ['marble/1CBZT.jpg', 'marbler'],\n",
              " ['andesite/2A663.jpg', 'andesite'],\n",
              " ['schist/00BXB.jpg', 'schist'],\n",
              " ['andesite/1ZE35.jpg', 'andesite'],\n",
              " ['marble/1HE4I.jpg', 'marbler'],\n",
              " ['quartzite/0WP16.jpg', 'quartzite'],\n",
              " ['quartzite/0Q1U6.jpg', 'quartzite'],\n",
              " ['quartzite/1IV36.jpg', 'quartzite'],\n",
              " ['gneiss/0QTQE.jpg', 'gneiss'],\n",
              " ['gneiss/0U01S.jpg', 'gneiss'],\n",
              " ['marble/0S0L2.jpg', 'marbler'],\n",
              " ['gneiss/0C1G3.jpg', 'gneiss'],\n",
              " ['marble/0EFJP.jpg', 'marbler'],\n",
              " ['andesite/1QH4X.jpg', 'andesite'],\n",
              " ['gneiss/1CRRZ.jpg', 'gneiss'],\n",
              " ['gneiss/0JQE9.jpg', 'gneiss'],\n",
              " ['andesite/0QL96.jpg', 'andesite'],\n",
              " ['marble/1OCMU.jpg', 'marbler'],\n",
              " ['schist/0O7AU.jpg', 'schist'],\n",
              " ['andesite/0OFD9.jpg', 'andesite'],\n",
              " ['andesite/0N2DV.jpg', 'andesite'],\n",
              " ['rhyolite/1SO67.jpg', 'rhyolite'],\n",
              " ['rhyolite/0L3GY.jpg', 'rhyolite'],\n",
              " ['gneiss/0VEW2.jpg', 'gneiss'],\n",
              " ['schist/0B0PI.jpg', 'schist'],\n",
              " ['schist/1D51F.jpg', 'schist'],\n",
              " ['gneiss/1LTYG.jpg', 'gneiss'],\n",
              " ['gneiss/1OPKS.jpg', 'gneiss'],\n",
              " ['quartzite/0TWUQ.jpg', 'quartzite'],\n",
              " ['rhyolite/0G06U.jpg', 'rhyolite'],\n",
              " ['gneiss/0LKCA.jpg', 'gneiss'],\n",
              " ['quartzite/0PP3V.jpg', 'quartzite'],\n",
              " ['andesite/0K7K7.jpg', 'andesite'],\n",
              " ['rhyolite/1SOHP.jpg', 'rhyolite'],\n",
              " ['andesite/1Z7UU.jpg', 'andesite'],\n",
              " ['andesite/2AEMZ.jpg', 'andesite'],\n",
              " ['rhyolite/1WRIM.jpg', 'rhyolite'],\n",
              " ['gneiss/1GPAC.jpg', 'gneiss'],\n",
              " ['marble/1B81O.jpg', 'marbler'],\n",
              " ['marble/1TXV6.jpg', 'marbler'],\n",
              " ['quartzite/0KGWA.jpg', 'quartzite'],\n",
              " ['rhyolite/1GDA2.jpg', 'rhyolite'],\n",
              " ['marble/0VC2C.jpg', 'marbler'],\n",
              " ['marble/0ZPAW.jpg', 'marbler'],\n",
              " ['marble/0P7R9.jpg', 'marbler'],\n",
              " ['gneiss/1FAB0.jpg', 'gneiss'],\n",
              " ['marble/0QYF5.jpg', 'marbler'],\n",
              " ['schist/1VZVU.jpg', 'schist'],\n",
              " ['gneiss/1SHOI.jpg', 'gneiss'],\n",
              " ['andesite/0S6XY.jpg', 'andesite'],\n",
              " ['marble/1O1H2.jpg', 'marbler'],\n",
              " ['andesite/0O0A4.jpg', 'andesite'],\n",
              " ['andesite/2D4EJ.jpg', 'andesite'],\n",
              " ['marble/0PX9Z.jpg', 'marbler'],\n",
              " ['andesite/1CC0L.jpg', 'andesite'],\n",
              " ['andesite/0WJDU.jpg', 'andesite'],\n",
              " ['andesite/0MQVS.jpg', 'andesite'],\n",
              " ['marble/0UZJM.jpg', 'marbler'],\n",
              " ['gneiss/1B4VF.jpg', 'gneiss'],\n",
              " ['andesite/0DUXP.jpg', 'andesite'],\n",
              " ['quartzite/1KCIT.jpg', 'quartzite'],\n",
              " ['marble/1IHCA.jpg', 'marbler'],\n",
              " ['rhyolite/0W7UL.jpg', 'rhyolite'],\n",
              " ['andesite/1UUCM.jpg', 'andesite'],\n",
              " ['schist/0XVZU.jpg', 'schist'],\n",
              " ['rhyolite/1VPFC.jpg', 'rhyolite'],\n",
              " ['rhyolite/1RA01.jpg', 'rhyolite'],\n",
              " ['quartzite/0LLYH.jpg', 'quartzite'],\n",
              " ['marble/1L9DQ.jpg', 'marbler'],\n",
              " ['marble/1VHEF.jpg', 'marbler'],\n",
              " ['andesite/0FNZ8.jpg', 'andesite'],\n",
              " ['andesite/0DHSF.jpg', 'andesite'],\n",
              " ['schist/1IOP1.jpg', 'schist'],\n",
              " ['andesite/0XREV.jpg', 'andesite'],\n",
              " ['rhyolite/1N8HN.jpg', 'rhyolite'],\n",
              " ['schist/0HA6F.jpg', 'schist'],\n",
              " ['marble/1DDAR.jpg', 'marbler'],\n",
              " ['rhyolite/0F4P5.jpg', 'rhyolite'],\n",
              " ['marble/00VCW.jpg', 'marbler'],\n",
              " ['gneiss/0OM3L.jpg', 'gneiss'],\n",
              " ['andesite/1VB7A.jpg', 'andesite'],\n",
              " ['quartzite/1YL21.jpg', 'quartzite'],\n",
              " ['schist/0H1I0.jpg', 'schist'],\n",
              " ['schist/0ND8U.jpg', 'schist'],\n",
              " ['marble/0JHH2.jpg', 'marbler'],\n",
              " ['andesite/0CAYF.jpg', 'andesite'],\n",
              " ['marble/0Y5R2.jpg', 'marbler'],\n",
              " ['gneiss/1S8HC.jpg', 'gneiss'],\n",
              " ['rhyolite/1QPDQ.jpg', 'rhyolite'],\n",
              " ['rhyolite/0GA74.jpg', 'rhyolite'],\n",
              " ['andesite/0S5IG.jpg', 'andesite'],\n",
              " ['gneiss/0QNVL.jpg', 'gneiss'],\n",
              " ['andesite/0JDL9.jpg', 'andesite'],\n",
              " ['gneiss/0HBTF.jpg', 'gneiss'],\n",
              " ['andesite/0BUG1.jpg', 'andesite'],\n",
              " ['quartzite/1H0F4.jpg', 'quartzite'],\n",
              " ['andesite/0GI41.jpg', 'andesite'],\n",
              " ['schist/1SQKG.jpg', 'schist'],\n",
              " ['marble/0BQHC.jpg', 'marbler'],\n",
              " ['rhyolite/1U8BW.jpg', 'rhyolite'],\n",
              " ['gneiss/1H25E.jpg', 'gneiss'],\n",
              " ['schist/0KK9Q.jpg', 'schist'],\n",
              " ['rhyolite/1EBTC.jpg', 'rhyolite'],\n",
              " ['marble/1H22B.jpg', 'marbler'],\n",
              " ['gneiss/0TI1D.jpg', 'gneiss'],\n",
              " ['schist/0EK0A.jpg', 'schist'],\n",
              " ['quartzite/2E7IO.jpg', 'quartzite'],\n",
              " ['rhyolite/1YW3M.jpg', 'rhyolite'],\n",
              " ['rhyolite/1SAGH.jpg', 'rhyolite'],\n",
              " ['quartzite/1X367.jpg', 'quartzite'],\n",
              " ['rhyolite/0RO6A.jpg', 'rhyolite'],\n",
              " ['marble/1BNOI.jpg', 'marbler'],\n",
              " ['schist/01J37.jpg', 'schist'],\n",
              " ['quartzite/1A384.jpg', 'quartzite'],\n",
              " ['marble/1EFKT.jpg', 'marbler'],\n",
              " ['marble/1ABW7.jpg', 'marbler'],\n",
              " ['schist/0G2RJ.jpg', 'schist'],\n",
              " ['schist/1BQEO.jpg', 'schist'],\n",
              " ['rhyolite/0M9VW.jpg', 'rhyolite'],\n",
              " ['andesite/1NM04.jpg', 'andesite'],\n",
              " ['gneiss/0EUHA.jpg', 'gneiss'],\n",
              " ['andesite/0DPF9.jpg', 'andesite'],\n",
              " ['marble/0VMLE.jpg', 'marbler'],\n",
              " ['rhyolite/0XLEH.jpg', 'rhyolite'],\n",
              " ['andesite/0RLEP.jpg', 'andesite'],\n",
              " ['schist/1XVLV.jpg', 'schist'],\n",
              " ...]"
            ]
          },
          "metadata": {},
          "execution_count": 15
        }
      ]
    },
    {
      "cell_type": "code",
      "metadata": {
        "colab": {
          "base_uri": "https://localhost:8080/",
          "height": 417
        },
        "id": "JxH49usnlTiU",
        "outputId": "4b008bdd-4de8-448f-b1a0-abd238842b86"
      },
      "source": [
        "data_df = pd.DataFrame(df,columns=['path','label'])\n",
        "data_df"
      ],
      "execution_count": 16,
      "outputs": [
        {
          "output_type": "execute_result",
          "data": {
            "text/html": [
              "<div>\n",
              "<style scoped>\n",
              "    .dataframe tbody tr th:only-of-type {\n",
              "        vertical-align: middle;\n",
              "    }\n",
              "\n",
              "    .dataframe tbody tr th {\n",
              "        vertical-align: top;\n",
              "    }\n",
              "\n",
              "    .dataframe thead th {\n",
              "        text-align: right;\n",
              "    }\n",
              "</style>\n",
              "<table border=\"1\" class=\"dataframe\">\n",
              "  <thead>\n",
              "    <tr style=\"text-align: right;\">\n",
              "      <th></th>\n",
              "      <th>path</th>\n",
              "      <th>label</th>\n",
              "    </tr>\n",
              "  </thead>\n",
              "  <tbody>\n",
              "    <tr>\n",
              "      <th>0</th>\n",
              "      <td>marble/0CGF6.jpg</td>\n",
              "      <td>marbler</td>\n",
              "    </tr>\n",
              "    <tr>\n",
              "      <th>1</th>\n",
              "      <td>rhyolite/0LDKO.jpg</td>\n",
              "      <td>rhyolite</td>\n",
              "    </tr>\n",
              "    <tr>\n",
              "      <th>2</th>\n",
              "      <td>quartzite/0TEUK.jpg</td>\n",
              "      <td>quartzite</td>\n",
              "    </tr>\n",
              "    <tr>\n",
              "      <th>3</th>\n",
              "      <td>schist/1Y71S.jpg</td>\n",
              "      <td>schist</td>\n",
              "    </tr>\n",
              "    <tr>\n",
              "      <th>4</th>\n",
              "      <td>gneiss/0FCEM.jpg</td>\n",
              "      <td>gneiss</td>\n",
              "    </tr>\n",
              "    <tr>\n",
              "      <th>...</th>\n",
              "      <td>...</td>\n",
              "      <td>...</td>\n",
              "    </tr>\n",
              "    <tr>\n",
              "      <th>1213</th>\n",
              "      <td>quartzite/1PYLI.jpg</td>\n",
              "      <td>quartzite</td>\n",
              "    </tr>\n",
              "    <tr>\n",
              "      <th>1214</th>\n",
              "      <td>schist/0J242.jpg</td>\n",
              "      <td>schist</td>\n",
              "    </tr>\n",
              "    <tr>\n",
              "      <th>1215</th>\n",
              "      <td>gneiss/0CAR0.jpg</td>\n",
              "      <td>gneiss</td>\n",
              "    </tr>\n",
              "    <tr>\n",
              "      <th>1216</th>\n",
              "      <td>andesite/0TKR6.jpg</td>\n",
              "      <td>andesite</td>\n",
              "    </tr>\n",
              "    <tr>\n",
              "      <th>1217</th>\n",
              "      <td>gneiss/0EE04.jpg</td>\n",
              "      <td>gneiss</td>\n",
              "    </tr>\n",
              "  </tbody>\n",
              "</table>\n",
              "<p>1218 rows × 2 columns</p>\n",
              "</div>"
            ],
            "text/plain": [
              "                     path      label\n",
              "0        marble/0CGF6.jpg    marbler\n",
              "1      rhyolite/0LDKO.jpg   rhyolite\n",
              "2     quartzite/0TEUK.jpg  quartzite\n",
              "3        schist/1Y71S.jpg     schist\n",
              "4        gneiss/0FCEM.jpg     gneiss\n",
              "...                   ...        ...\n",
              "1213  quartzite/1PYLI.jpg  quartzite\n",
              "1214     schist/0J242.jpg     schist\n",
              "1215     gneiss/0CAR0.jpg     gneiss\n",
              "1216   andesite/0TKR6.jpg   andesite\n",
              "1217     gneiss/0EE04.jpg     gneiss\n",
              "\n",
              "[1218 rows x 2 columns]"
            ]
          },
          "metadata": {},
          "execution_count": 16
        }
      ]
    },
    {
      "cell_type": "code",
      "metadata": {
        "colab": {
          "base_uri": "https://localhost:8080/"
        },
        "id": "qhAVtAK8zQPd",
        "outputId": "6922ecf3-0bde-49ef-f8a9-9707e7fd80df"
      },
      "source": [
        "data_df.dtypes"
      ],
      "execution_count": 14,
      "outputs": [
        {
          "output_type": "execute_result",
          "data": {
            "text/plain": [
              "path     object\n",
              "label    object\n",
              "dtype: object"
            ]
          },
          "metadata": {},
          "execution_count": 14
        }
      ]
    },
    {
      "cell_type": "markdown",
      "metadata": {
        "id": "XlUbajOTxHKl"
      },
      "source": [
        "# **Limpeza de dados**\n",
        "1 - Analisando os dados ausentes\n",
        "2 - Descartando os dados ausentes\n",
        "3 - Imputando dados\n",
        "4 - Acrescentando colunas informativas"
      ]
    },
    {
      "cell_type": "code",
      "metadata": {
        "colab": {
          "base_uri": "https://localhost:8080/",
          "height": 518
        },
        "id": "ybydrHWUvlbY",
        "outputId": "2ffed0bb-daa3-4d9d-ac5b-125c5fc1d531"
      },
      "source": [
        "import missingno as msno\n",
        "ax = msno.matrix(data_df.sample(400))"
      ],
      "execution_count": 15,
      "outputs": [
        {
          "output_type": "display_data",
          "data": {
            "image/png": "[encoded data removed]",
            "text/plain": [
              "<Figure size 1800x720 with 2 Axes>"
            ]
          },
          "metadata": {
            "needs_background": "light"
          }
        }
      ]
    },
    {
      "cell_type": "code",
      "metadata": {
        "id": "9cVvBcwVxq9s"
      },
      "source": [
        "#! pip install pandas-profiling==2.8.0\n",
        "#from pandas_profiling import ProfileReport\n",
        "#ProfileReport (data_df)"
      ],
      "execution_count": null,
      "outputs": []
    },
    {
      "cell_type": "markdown",
      "metadata": {
        "id": "aPsSnX6j0Ec-"
      },
      "source": [
        "# **Separação das amostras**"
      ]
    },
    {
      "cell_type": "code",
      "metadata": {
        "id": "GivnwDIGUrFW"
      },
      "source": [
        "X = data_df.drop(columns='label')\n",
        "y = data_df.path"
      ],
      "execution_count": null,
      "outputs": []
    },
    {
      "cell_type": "code",
      "metadata": {
        "id": "uh3XBhM9pqJz"
      },
      "source": [
        "X_train,X_test,y_train,y_test=train_test_split(X,y,test_size=0.2,random_state=44)"
      ],
      "execution_count": null,
      "outputs": []
    },
    {
      "cell_type": "markdown",
      "metadata": {
        "id": "uAXxm12yUwsI"
      },
      "source": [
        "# **Explorando os dados**"
      ]
    },
    {
      "cell_type": "code",
      "metadata": {
        "id": "RIeT3Ji_UxQO"
      },
      "source": [
        "#print(X_train.shape)\n",
        "#print(X_test.shape)\n",
        "#print(y_train.shape)\n",
        "#print(y_test.shape)"
      ],
      "execution_count": 12,
      "outputs": []
    },
    {
      "cell_type": "code",
      "metadata": {
        "id": "Xry02gl1VD3g"
      },
      "source": [
        "#fig, ax = plt.subplots(figsize=(6,4))\n",
        "#X.plot(kind=\"hist\",ax=ax)"
      ],
      "execution_count": null,
      "outputs": []
    },
    {
      "cell_type": "markdown",
      "metadata": {
        "id": "-AAuWUVf6ocm"
      },
      "source": [
        "# **Data Argumentation**"
      ]
    },
    {
      "cell_type": "markdown",
      "metadata": {
        "id": "G1xbq78zfV9i"
      },
      "source": [
        "## ** Esta função irá plotar as imagens num grid de 1 a 5 colunas **"
      ]
    },
    {
      "cell_type": "code",
      "metadata": {
        "id": "hjV3pOngCtA7"
      },
      "source": [
        "def plotImages(images_arr):\n",
        "    fig, axes = plt.subplots(1, 5, figsize=(20,20))\n",
        "    axes = axes.flatten()\n",
        "    for img, ax in zip(images_arr, axes):\n",
        "        ax.imshow(img)\n",
        "    plt.tight_layout()\n",
        "    plt.show()"
      ],
      "execution_count": 17,
      "outputs": []
    },
    {
      "cell_type": "code",
      "metadata": {
        "id": "jkUru3gBfA0n"
      },
      "source": [
        "IMG_SHAPE = 28\n",
        "BATCH_SIZE = 20"
      ],
      "execution_count": 18,
      "outputs": []
    },
    {
      "cell_type": "code",
      "metadata": {
        "id": "Cw0IbS6mfdxM"
      },
      "source": [
        "datagen = ImageDataGenerator(rescale=1./255,\n",
        "                            #rotation_range = 40,\n",
        "                            #width_shift_range = 0.2,\n",
        "                            #height_shift_range = 0.2,\n",
        "                            #shear_range = 0.2,\n",
        "                            #zoom_range = 0.2,\n",
        "                            horizontal_flip = True,\n",
        "                            validation_split=0.2)"
      ],
      "execution_count": 19,
      "outputs": []
    },
    {
      "cell_type": "code",
      "metadata": {
        "colab": {
          "base_uri": "https://localhost:8080/"
        },
        "id": "fJOGqBP7fd3n",
        "outputId": "ced3f9c5-a6ff-4548-e10d-42dce481aa5c"
      },
      "source": [
        "train_generator = datagen.flow_from_dataframe(data_df,\n",
        "                                              x_col='path',\n",
        "                                              y_col='label',\n",
        "                                              images_size=(28,28),\n",
        "                                              #class_mode='binary',\n",
        "                                              subset='training')\n",
        "\n",
        "validation_generator = datagen.flow_from_dataframe(data_df,\n",
        "                                                   x_col='path',\n",
        "                                                   y_col='label',\n",
        "                                                   images_size=(28,28),\n",
        "                                                   #class_mode='binary',\n",
        "                                                   subset='validation')\n",
        "\n",
        "## Duvidas - Existe esse codigo abaixo\n",
        "\n",
        "#test_generator = datagen.flow_from_dataframe(data_df,\n",
        "                                              #x_col='path',\n",
        "                                             # y_col='label',\n",
        "                                             # images_size=(28,28)\n",
        "                                              #class_mode='binary')\n",
        "                                             # )"
      ],
      "execution_count": 20,
      "outputs": [
        {
          "output_type": "stream",
          "name": "stdout",
          "text": [
            "Found 975 validated image filenames belonging to 6 classes.\n",
            "Found 243 validated image filenames belonging to 6 classes.\n"
          ]
        }
      ]
    },
    {
      "cell_type": "code",
      "metadata": {
        "colab": {
          "base_uri": "https://localhost:8080/",
          "height": 249
        },
        "id": "ShN0CzElfd9R",
        "outputId": "2fa583de-077f-4956-c304-f1edc73e6f24"
      },
      "source": [
        "augmented_images = [train_generator[0][0][0] for i in range(5)]\n",
        "plotImages(augmented_images)"
      ],
      "execution_count": 22,
      "outputs": [
        {
          "output_type": "display_data",
          "data": {
            "image/png": "[encoded data removed]",
            "text/plain": [
              "<Figure size 1440x1440 with 5 Axes>"
            ]
          },
          "metadata": {
            "needs_background": "light"
          }
        }
      ]
    },
    {
      "cell_type": "markdown",
      "metadata": {
        "id": "l1OMG-TS0Lq_"
      },
      "source": [
        "# **Imputação dos dados ???**"
      ]
    },
    {
      "cell_type": "markdown",
      "metadata": {
        "id": "JbBfQIg10RlI"
      },
      "source": [
        "# **Normalização dos dados ???**"
      ]
    },
    {
      "cell_type": "markdown",
      "metadata": {
        "id": "_3kIlBx3r01D"
      },
      "source": [
        "# **Pre Processamento dos dados**"
      ]
    },
    {
      "cell_type": "markdown",
      "metadata": {
        "id": "dXm8LYqv0_vK"
      },
      "source": [
        "# **Criar o modelo**"
      ]
    },
    {
      "cell_type": "code",
      "metadata": {
        "colab": {
          "base_uri": "https://localhost:8080/",
          "height": 229
        },
        "id": "aksvwnd_cB3m",
        "outputId": "4f58391f-65ef-4b9d-85b0-ff4a1d876deb"
      },
      "source": [
        "inputs = tf.keras.Input(shape=(256, 256,3))\n",
        "#x = augmented_images(inputs) # como conserto e passo isso\n",
        "x = layers.experimental.preprocessing.Rescaling(1./255)(x)\n",
        "x = layers.Conv2D(filters=32, kernel_size=3, activation=\"relu\")(x)\n",
        "x = layers.MaxPooling2D(pool_size=2)(x)\n",
        "x = layers.Conv2D(filters=64, kernel_size=3, activation=\"relu\")(x)\n",
        "x = layers.MaxPooling2D(pool_size=2)(x)\n",
        "x = layers.Conv2D(filters=128, kernel_size=3, activation=\"relu\")(x)\n",
        "x = layers.MaxPooling2D(pool_size=2)(x)\n",
        "x = layers.Conv2D(filters=256, kernel_size=3, activation=\"relu\")(x)\n",
        "x = layers.MaxPooling2D(pool_size=2)(x)\n",
        "x = layers.Conv2D(filters=256, kernel_size=3, activation=\"relu\")(x)\n",
        "x = layers.Flatten()(x)\n",
        "x = layers.Dropout(0.5)(x)\n",
        "outputs = layers.Dense(3, activation=\"sigmoid\")(x)\n",
        "model = tf.keras.Model(inputs=inputs, outputs=outputs)\n"
      ],
      "execution_count": null,
      "outputs": [
        {
          "output_type": "error",
          "ename": "TypeError",
          "evalue": "ignored",
          "traceback": [
            "\u001b[0;31m---------------------------------------------------------------------------\u001b[0m",
            "\u001b[0;31mTypeError\u001b[0m                                 Traceback (most recent call last)",
            "\u001b[0;32m<ipython-input-20-fed7e1b628b5>\u001b[0m in \u001b[0;36m<module>\u001b[0;34m()\u001b[0m\n\u001b[1;32m      1\u001b[0m \u001b[0minputs\u001b[0m \u001b[0;34m=\u001b[0m \u001b[0mtf\u001b[0m\u001b[0;34m.\u001b[0m\u001b[0mkeras\u001b[0m\u001b[0;34m.\u001b[0m\u001b[0mInput\u001b[0m\u001b[0;34m(\u001b[0m\u001b[0mshape\u001b[0m\u001b[0;34m=\u001b[0m\u001b[0;34m(\u001b[0m\u001b[0;36m256\u001b[0m\u001b[0;34m,\u001b[0m \u001b[0;36m256\u001b[0m\u001b[0;34m,\u001b[0m\u001b[0;36m3\u001b[0m\u001b[0;34m)\u001b[0m\u001b[0;34m)\u001b[0m\u001b[0;34m\u001b[0m\u001b[0;34m\u001b[0m\u001b[0m\n\u001b[0;32m----> 2\u001b[0;31m \u001b[0mx\u001b[0m \u001b[0;34m=\u001b[0m \u001b[0maugmented_images\u001b[0m\u001b[0;34m(\u001b[0m\u001b[0minputs\u001b[0m\u001b[0;34m)\u001b[0m \u001b[0;31m# como conserto e passo isso\u001b[0m\u001b[0;34m\u001b[0m\u001b[0;34m\u001b[0m\u001b[0m\n\u001b[0m\u001b[1;32m      3\u001b[0m \u001b[0mx\u001b[0m \u001b[0;34m=\u001b[0m \u001b[0mlayers\u001b[0m\u001b[0;34m.\u001b[0m\u001b[0mexperimental\u001b[0m\u001b[0;34m.\u001b[0m\u001b[0mpreprocessing\u001b[0m\u001b[0;34m.\u001b[0m\u001b[0mRescaling\u001b[0m\u001b[0;34m(\u001b[0m\u001b[0;36m1.\u001b[0m\u001b[0;34m/\u001b[0m\u001b[0;36m255\u001b[0m\u001b[0;34m)\u001b[0m\u001b[0;34m(\u001b[0m\u001b[0mx\u001b[0m\u001b[0;34m)\u001b[0m\u001b[0;34m\u001b[0m\u001b[0;34m\u001b[0m\u001b[0m\n\u001b[1;32m      4\u001b[0m \u001b[0mx\u001b[0m \u001b[0;34m=\u001b[0m \u001b[0mlayers\u001b[0m\u001b[0;34m.\u001b[0m\u001b[0mConv2D\u001b[0m\u001b[0;34m(\u001b[0m\u001b[0mfilters\u001b[0m\u001b[0;34m=\u001b[0m\u001b[0;36m32\u001b[0m\u001b[0;34m,\u001b[0m \u001b[0mkernel_size\u001b[0m\u001b[0;34m=\u001b[0m\u001b[0;36m3\u001b[0m\u001b[0;34m,\u001b[0m \u001b[0mactivation\u001b[0m\u001b[0;34m=\u001b[0m\u001b[0;34m\"relu\"\u001b[0m\u001b[0;34m)\u001b[0m\u001b[0;34m(\u001b[0m\u001b[0mx\u001b[0m\u001b[0;34m)\u001b[0m\u001b[0;34m\u001b[0m\u001b[0;34m\u001b[0m\u001b[0m\n\u001b[1;32m      5\u001b[0m \u001b[0mx\u001b[0m \u001b[0;34m=\u001b[0m \u001b[0mlayers\u001b[0m\u001b[0;34m.\u001b[0m\u001b[0mMaxPooling2D\u001b[0m\u001b[0;34m(\u001b[0m\u001b[0mpool_size\u001b[0m\u001b[0;34m=\u001b[0m\u001b[0;36m2\u001b[0m\u001b[0;34m)\u001b[0m\u001b[0;34m(\u001b[0m\u001b[0mx\u001b[0m\u001b[0;34m)\u001b[0m\u001b[0;34m\u001b[0m\u001b[0;34m\u001b[0m\u001b[0m\n",
            "\u001b[0;31mTypeError\u001b[0m: 'list' object is not callable"
          ]
        }
      ]
    },
    {
      "cell_type": "code",
      "metadata": {
        "id": "ncctBTCAgG7d"
      },
      "source": [
        "model = tf.keras.models.Sequential([\n",
        "    tf.keras.layers.Conv2D(256, (3,3), activation='relu', input_shape=(256, 256, 3)),\n",
        "    tf.keras.layers.MaxPooling2D(2, 2),\n",
        "\n",
        "    tf.keras.layers.Conv2D(64, (3,3), activation='relu'),\n",
        "    tf.keras.layers.MaxPooling2D(2,2),\n",
        "\n",
        "    tf.keras.layers.Conv2D(128, (3,3), activation='relu'),\n",
        "    tf.keras.layers.MaxPooling2D(2,2),\n",
        "\n",
        "    tf.keras.layers.Conv2D(128, (3,3), activation='relu'),\n",
        "    tf.keras.layers.MaxPooling2D(2,2),\n",
        "\n",
        "    tf.keras.layers.Dropout(0.5),\n",
        "    tf.keras.layers.Flatten(),\n",
        "    tf.keras.layers.Dense(512, activation='relu'),\n",
        "    tf.keras.layers.Dense(1)\n",
        "])"
      ],
      "execution_count": 28,
      "outputs": []
    },
    {
      "cell_type": "markdown",
      "metadata": {
        "id": "cQvF_-VrbIhO"
      },
      "source": [
        "# **Compilando o Modelo**"
      ]
    },
    {
      "cell_type": "code",
      "metadata": {
        "id": "tseOThp5bLVl"
      },
      "source": [
        "model.compile(optimizer = Adam(learning_rate=0.0001), \n",
        "               loss = 'binary_crossentropy', \n",
        "               metrics =['accuracy'])"
      ],
      "execution_count": 29,
      "outputs": []
    },
    {
      "cell_type": "code",
      "metadata": {
        "colab": {
          "base_uri": "https://localhost:8080/"
        },
        "id": "quiMae2IbOcT",
        "outputId": "6fe2e6d0-29e4-48bd-95c8-8250399c4f1b"
      },
      "source": [
        "model.summary()  "
      ],
      "execution_count": 30,
      "outputs": [
        {
          "output_type": "stream",
          "name": "stdout",
          "text": [
            "Model: \"sequential_1\"\n",
            "_________________________________________________________________\n",
            "Layer (type)                 Output Shape              Param #   \n",
            "=================================================================\n",
            "conv2d_4 (Conv2D)            (None, 254, 254, 256)     7168      \n",
            "_________________________________________________________________\n",
            "max_pooling2d_4 (MaxPooling2 (None, 127, 127, 256)     0         \n",
            "_________________________________________________________________\n",
            "conv2d_5 (Conv2D)            (None, 125, 125, 64)      147520    \n",
            "_________________________________________________________________\n",
            "max_pooling2d_5 (MaxPooling2 (None, 62, 62, 64)        0         \n",
            "_________________________________________________________________\n",
            "conv2d_6 (Conv2D)            (None, 60, 60, 128)       73856     \n",
            "_________________________________________________________________\n",
            "max_pooling2d_6 (MaxPooling2 (None, 30, 30, 128)       0         \n",
            "_________________________________________________________________\n",
            "conv2d_7 (Conv2D)            (None, 28, 28, 128)       147584    \n",
            "_________________________________________________________________\n",
            "max_pooling2d_7 (MaxPooling2 (None, 14, 14, 128)       0         \n",
            "_________________________________________________________________\n",
            "dropout_1 (Dropout)          (None, 14, 14, 128)       0         \n",
            "_________________________________________________________________\n",
            "flatten_1 (Flatten)          (None, 25088)             0         \n",
            "_________________________________________________________________\n",
            "dense_2 (Dense)              (None, 512)               12845568  \n",
            "_________________________________________________________________\n",
            "dense_3 (Dense)              (None, 1)                 513       \n",
            "=================================================================\n",
            "Total params: 13,222,209\n",
            "Trainable params: 13,222,209\n",
            "Non-trainable params: 0\n",
            "_________________________________________________________________\n"
          ]
        }
      ]
    },
    {
      "cell_type": "code",
      "metadata": {
        "id": "9Sr0YDZ8dCmz"
      },
      "source": [
        "callbacks_list = [\n",
        "    tf.keras.callbacks.ReduceLROnPlateau(factor=0.5,\n",
        "                                         patience=4,\n",
        "                                         verbose=0),\n",
        "    tf.keras.callbacks.EarlyStopping(\n",
        "        monitor=\"accuracy\",\n",
        "        patience=12,\n",
        "        #restore_best_weights=True,\n",
        "    ),\n",
        "    tf.keras.callbacks.ModelCheckpoint(\n",
        "        filepath='best_model.h5',\n",
        "        monitor=\"val_accuracy\",\n",
        "        save_best_only=True,\n",
        "    ),\n",
        "\n",
        "]"
      ],
      "execution_count": 31,
      "outputs": []
    },
    {
      "cell_type": "markdown",
      "metadata": {
        "id": "IhQyiWIh1HQs"
      },
      "source": [
        "# **Avaliar o modelo**"
      ]
    },
    {
      "cell_type": "code",
      "metadata": {
        "colab": {
          "base_uri": "https://localhost:8080/"
        },
        "id": "cwpnwl86dm74",
        "outputId": "7e85872c-b441-4d36-eb55-991ef416396f"
      },
      "source": [
        "history = model.fit(train_generator,\n",
        "                               epochs=5,\n",
        "                               #verbose=0,\n",
        "                               callbacks=callbacks_list, \n",
        "                               #validation_split=0.2,\n",
        "                               #class_weight=class_weight_,\n",
        "                               #workers=4,\n",
        "                               use_multiprocessing=True,\n",
        "                               validation_data=validation_generator)"
      ],
      "execution_count": 32,
      "outputs": [
        {
          "output_type": "stream",
          "name": "stdout",
          "text": [
            "Epoch 1/5\n",
            "31/31 [==============================] - 595s 19s/step - loss: 0.5175 - accuracy: 0.7985 - val_loss: 0.4554 - val_accuracy: 0.8333\n",
            "Epoch 2/5\n",
            "31/31 [==============================] - 600s 19s/step - loss: 0.4548 - accuracy: 0.8333 - val_loss: 0.4526 - val_accuracy: 0.8333\n",
            "Epoch 3/5\n",
            "31/31 [==============================] - 610s 19s/step - loss: 0.4525 - accuracy: 0.8333 - val_loss: 0.4525 - val_accuracy: 0.8333\n",
            "Epoch 4/5\n",
            "31/31 [==============================] - 609s 19s/step - loss: 0.4517 - accuracy: 0.8333 - val_loss: 0.4516 - val_accuracy: 0.8333\n",
            "Epoch 5/5\n",
            "31/31 [==============================] - 612s 19s/step - loss: 0.4512 - accuracy: 0.8333 - val_loss: 0.4508 - val_accuracy: 0.8333\n"
          ]
        }
      ]
    },
    {
      "cell_type": "code",
      "metadata": {
        "colab": {
          "base_uri": "https://localhost:8080/",
          "height": 545
        },
        "id": "HvI5gCDM5Djb",
        "outputId": "431653fb-ada7-4cf6-d47a-431bc9850242"
      },
      "source": [
        "%matplotlib inline\n",
        "import matplotlib.pyplot as plt\n",
        "acc = history.history['accuracy']\n",
        "val_acc = history.history['val_accuracy']\n",
        "loss = history.history['loss']\n",
        "val_loss = history.history['val_loss']\n",
        "\n",
        "epochs = range(len(acc))\n",
        "\n",
        "plt.plot(epochs, acc, 'r', label='Training accuracy')\n",
        "plt.plot(epochs, val_acc, 'b', label='Validation accuracy')\n",
        "plt.title('Training and validation accuracy')\n",
        "plt.legend(loc=0)\n",
        "plt.figure()\n",
        "\n",
        "plt.plot(epochs, loss, 'r', label='Training Loss')\n",
        "plt.plot(epochs, val_loss, 'b', label='Validation Loss')\n",
        "plt.title('Training and validation loss')\n",
        "plt.legend()\n",
        "\n",
        "plt.show()"
      ],
      "execution_count": 33,
      "outputs": [
        {
          "output_type": "display_data",
          "data": {
            "image/png": "[encoded data removed]",
            "text/plain": [
              "<Figure size 432x288 with 1 Axes>"
            ]
          },
          "metadata": {
            "needs_background": "light"
          }
        },
        {
          "output_type": "display_data",
          "data": {
            "image/png": "[encoded data removed]",
            "text/plain": [
              "<Figure size 432x288 with 1 Axes>"
            ]
          },
          "metadata": {
            "needs_background": "light"
          }
        }
      ]
    },
    {
      "cell_type": "markdown",
      "metadata": {
        "id": "0G-slWFQ1KwJ"
      },
      "source": [
        "# **Otimizar o modelo**"
      ]
    },
    {
      "cell_type": "code",
      "metadata": {
        "id": "SSXH7txAgG_n"
      },
      "source": [
        ""
      ],
      "execution_count": null,
      "outputs": []
    },
    {
      "cell_type": "markdown",
      "metadata": {
        "id": "SukGrdFNTMWX"
      },
      "source": [
        "# **Avaliar o Modelo**"
      ]
    },
    {
      "cell_type": "code",
      "metadata": {
        "colab": {
          "base_uri": "https://localhost:8080/"
        },
        "id": "jHX9PR5gTQZA",
        "outputId": "441595a2-05fa-4ba1-fa67-6a6816e0c496"
      },
      "source": [
        "model = tf.keras.models.load_model(\"best_model.h5\")\n",
        "\n",
        "val_acc = model.evaluate(validation_generator)[1]\n",
        "print(\"validation_accuracy: \" + str(val_acc))"
      ],
      "execution_count": 34,
      "outputs": [
        {
          "output_type": "stream",
          "name": "stdout",
          "text": [
            "8/8 [==============================] - 34s 4s/step - loss: 0.4554 - accuracy: 0.8333\n",
            "validation_accuracy: 0.8333333134651184\n"
          ]
        }
      ]
    }
  ]
}