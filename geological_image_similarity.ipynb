{
  "nbformat": 4,
  "nbformat_minor": 0,
  "metadata": {
    "colab": {
      "name": "geological-image-similarity.ipynb",
      "provenance": [],
      "authorship_tag": "ABX9TyOIS83x7sTWRp6RgLk1RDTV",
      "include_colab_link": true
    },
    "kernelspec": {
      "name": "python3",
      "display_name": "Python 3"
    },
    "language_info": {
      "name": "python"
    },
    "accelerator": "GPU"
  },
  "cells": [
    {
      "cell_type": "markdown",
      "metadata": {
        "id": "view-in-github",
        "colab_type": "text"
      },
      "source": [
        "<a href=\"https://colab.research.google.com/github/fabiobasson/Bi-Master/blob/main/geological_image_similarity.ipynb\" target=\"_parent\"><img src=\"https://colab.research.google.com/assets/colab-badge.svg\" alt=\"Open In Colab\"/></a>"
      ]
    },
    {
      "cell_type": "markdown",
      "metadata": {
        "id": "ek-dpdgUwrpq"
      },
      "source": [
        "# Importações "
      ]
    },
    {
      "cell_type": "code",
      "metadata": {
        "id": "d_JsE0wMwy5m"
      },
      "source": [
        "import os\n",
        "import tensorflow as tf\n",
        "from tensorflow.keras import layers\n",
        "from tensorflow.keras import Model\n",
        "from os import getcwd\n",
        "import zipfile\n",
        "import shutil\n",
        "import numpy as np\n",
        "import glob\n",
        "import random\n",
        "import pandas as pd\n",
        "import matplotlib.pyplot as plt\n",
        "\n",
        "\n",
        "from tensorflow.keras.optimizers import RMSprop, Adam\n",
        "from tensorflow.keras.applications.inception_v3 import InceptionV3\n",
        "from tensorflow.keras.preprocessing.image import ImageDataGenerator\n",
        "\n",
        "from sklearn.metrics import confusion_matrix,accuracy_score\n",
        "from sklearn.model_selection import train_test_split"
      ],
      "execution_count": 4,
      "outputs": []
    },
    {
      "cell_type": "code",
      "metadata": {
        "id": "qB35LCwK1F9Y"
      },
      "source": [
        "!rm -rf geological_similarity"
      ],
      "execution_count": 5,
      "outputs": []
    },
    {
      "cell_type": "markdown",
      "metadata": {
        "id": "WsBJvou07fbF"
      },
      "source": [
        "# **Coleta de dados do Kaglle**"
      ]
    },
    {
      "cell_type": "code",
      "metadata": {
        "colab": {
          "resources": {
            "http://localhost:8080/nbextensions/google.colab/files.js": {
              "data": "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",
              "ok": true,
              "headers": [
                [
                  "content-type",
                  "application/javascript"
                ]
              ],
              "status": 200,
              "status_text": ""
            }
          },
          "base_uri": "https://localhost:8080/",
          "height": 90
        },
        "id": "qPW1Uceu4EkK",
        "outputId": "3c1019cb-9ba1-4898-bc58-486ee140bad0"
      },
      "source": [
        "from google.colab import files\n",
        "files.upload()"
      ],
      "execution_count": 6,
      "outputs": [
        {
          "output_type": "display_data",
          "data": {
            "text/html": [
              "\n",
              "     <input type=\"file\" id=\"files-5d45d8df-766b-40eb-b3ed-8133292196ea\" name=\"files[]\" multiple disabled\n",
              "        style=\"border:none\" />\n",
              "     <output id=\"result-5d45d8df-766b-40eb-b3ed-8133292196ea\">\n",
              "      Upload widget is only available when the cell has been executed in the\n",
              "      current browser session. Please rerun this cell to enable.\n",
              "      </output>\n",
              "      <script src=\"/nbextensions/google.colab/files.js\"></script> "
            ],
            "text/plain": [
              "<IPython.core.display.HTML object>"
            ]
          },
          "metadata": {}
        },
        {
          "output_type": "stream",
          "name": "stdout",
          "text": [
            "Saving kaggle.json to kaggle.json\n"
          ]
        },
        {
          "output_type": "execute_result",
          "data": {
            "text/plain": [
              "{'kaggle.json': b'{\"username\":\"fabiobasson\",\"key\":\"d71cbfdfd23379909173204eac74cf96\"}'}"
            ]
          },
          "metadata": {},
          "execution_count": 6
        }
      ]
    },
    {
      "cell_type": "code",
      "metadata": {
        "id": "SQCTWdML4LFR",
        "colab": {
          "base_uri": "https://localhost:8080/"
        },
        "outputId": "15ddb619-b81e-49f8-af29-949e08692a74"
      },
      "source": [
        "!mkdir ~/.kaggle\n",
        "!cp kaggle.json ~/.kaggle/\n",
        "!chmod 600 ~/.kaggle/kaggle.json"
      ],
      "execution_count": 8,
      "outputs": [
        {
          "output_type": "stream",
          "name": "stdout",
          "text": [
            "mkdir: cannot create directory ‘/root/.kaggle’: File exists\n"
          ]
        }
      ]
    },
    {
      "cell_type": "markdown",
      "metadata": {
        "id": "rte0cNVp7kgE"
      },
      "source": [
        "# **###  Download dos dados / descompactando os dados**"
      ]
    },
    {
      "cell_type": "code",
      "metadata": {
        "colab": {
          "base_uri": "https://localhost:8080/"
        },
        "id": "cPWKIkQqHfSv",
        "outputId": "415a3811-662e-48df-a98a-735866ae7c5d"
      },
      "source": [
        "!kaggle datasets download tanyadayanand/geological-image-similarity\n",
        "! unzip -qq  geological-image-similarity"
      ],
      "execution_count": 9,
      "outputs": [
        {
          "output_type": "stream",
          "name": "stdout",
          "text": [
            "Downloading geological-image-similarity.zip to /content\n",
            " 51% 17.0M/33.6M [00:00<00:00, 53.0MB/s]\n",
            "100% 33.6M/33.6M [00:00<00:00, 84.9MB/s]\n"
          ]
        }
      ]
    },
    {
      "cell_type": "code",
      "metadata": {
        "colab": {
          "base_uri": "https://localhost:8080/"
        },
        "id": "GvN30SNO4L1f",
        "outputId": "e1dbd42f-a8ea-4e0d-8ea7-9e5b3d4d72ff"
      },
      "source": [
        "#!kaggle datasets download fabiobasson/geological-similarity\n",
        "#! unzip -qq  geological-similarity"
      ],
      "execution_count": null,
      "outputs": [
        {
          "output_type": "stream",
          "name": "stdout",
          "text": [
            "geological-similarity.zip: Skipping, found more recently modified local copy (use --force to force download)\n"
          ]
        }
      ]
    },
    {
      "cell_type": "markdown",
      "metadata": {
        "id": "owY2uo8A7q5j"
      },
      "source": [
        "# ** Criação da estrutura e Dataframe**"
      ]
    },
    {
      "cell_type": "code",
      "metadata": {
        "colab": {
          "base_uri": "https://localhost:8080/"
        },
        "id": "QXSrUDeU4L7J",
        "outputId": "78cbcafe-2a10-4dea-ac1b-9a004be3137b"
      },
      "source": [
        "andesite_dir = glob.glob('geological_similarity/andesite/*.jpg');gneiss_dir = glob.glob('geological_similarity/gneiss/*.jpg')\n",
        "marble_dir = glob.glob('geological_similarity/marble/*.jpg');quartzite_dir = glob.glob('geological_similarity/quartzite/*.jpg')\n",
        "rhyolite_dir = glob.glob('geological_similarity/rhyolite/*.jpg');\n",
        "schist_dir = glob.glob('geological_similarity/schist/*.jpg')\n",
        "print(len(andesite_dir));print(len(gneiss_dir)); print(len(marble_dir)); print(len(quartzite_dir));  print(len(quartzite_dir)); print(len(schist_dir))\n"
      ],
      "execution_count": 10,
      "outputs": [
        {
          "output_type": "stream",
          "name": "stdout",
          "text": [
            "5000\n",
            "5000\n",
            "4998\n",
            "5000\n",
            "5000\n",
            "5000\n"
          ]
        }
      ]
    },
    {
      "cell_type": "code",
      "metadata": {
        "colab": {
          "base_uri": "https://localhost:8080/"
        },
        "id": "_eBw1Jk2EYm2",
        "outputId": "e87eb104-2b95-4117-eac9-8e91d94a6aac"
      },
      "source": [
        "andesite_dir[0:4]"
      ],
      "execution_count": 11,
      "outputs": [
        {
          "output_type": "execute_result",
          "data": {
            "text/plain": [
              "['geological_similarity/andesite/9AA5X.jpg',\n",
              " 'geological_similarity/andesite/FQGXN.jpg',\n",
              " 'geological_similarity/andesite/5BW0Y.jpg',\n",
              " 'geological_similarity/andesite/HZE4C.jpg']"
            ]
          },
          "metadata": {},
          "execution_count": 11
        }
      ]
    },
    {
      "cell_type": "code",
      "metadata": {
        "id": "O9d3W_LswkS2",
        "colab": {
          "base_uri": "https://localhost:8080/",
          "height": 35
        },
        "outputId": "40cb845a-3901-428b-ba13-cc3155e8edb2"
      },
      "source": [
        "class_names = ['andesite', 'gneiss', 'marbler', 'quartzite', 'rhyolite','schist']\n",
        "class_names[0]"
      ],
      "execution_count": 12,
      "outputs": [
        {
          "output_type": "execute_result",
          "data": {
            "application/vnd.google.colaboratory.intrinsic+json": {
              "type": "string"
            },
            "text/plain": [
              "'andesite'"
            ]
          },
          "metadata": {},
          "execution_count": 12
        }
      ]
    },
    {
      "cell_type": "code",
      "metadata": {
        "colab": {
          "base_uri": "https://localhost:8080/"
        },
        "id": "wBhB6b6xi1xl",
        "outputId": "aab43a76-4c30-40d9-bb09-9aea9360cffe"
      },
      "source": [
        "andesite_df=[];gneiss_df=[];marble_df=[]\n",
        "quartzite_df=[]\n",
        "rhyolite_df=[]\n",
        "schist_df=[]\n",
        "\n",
        "for i in andesite_dir:\n",
        "    andesite_df.append([i,class_names[0]])\n",
        "for j in gneiss_dir:\n",
        "   gneiss_df.append([j,class_names[1]])\n",
        "for l in marble_dir:\n",
        "    marble_df.append([l,class_names[2]])\n",
        "for m in quartzite_dir:\n",
        "    quartzite_df.append([m,class_names[3]])\n",
        "for n in rhyolite_dir:\n",
        "    rhyolite_df.append([n,class_names[4]])\n",
        "for o in schist_dir:\n",
        "    schist_df.append([o,class_names[5]])\n",
        "   \n",
        "df = andesite_df + gneiss_df + marble_df + quartzite_df + rhyolite_df + schist_df\n",
        "random.shuffle(df)\n",
        "df"
      ],
      "execution_count": 13,
      "outputs": [
        {
          "output_type": "execute_result",
          "data": {
            "text/plain": [
              "[['geological_similarity/quartzite/6S1ZB.jpg', 'quartzite'],\n",
              " ['geological_similarity/andesite/6Y4AQ.jpg', 'andesite'],\n",
              " ['geological_similarity/rhyolite/FLGWL.jpg', 'rhyolite'],\n",
              " ['geological_similarity/rhyolite/VY06V.jpg', 'rhyolite'],\n",
              " ['geological_similarity/schist/GBWT0.jpg', 'schist'],\n",
              " ['geological_similarity/quartzite/PXLJW.jpg', 'quartzite'],\n",
              " ['geological_similarity/gneiss/VBBH1.jpg', 'gneiss'],\n",
              " ['geological_similarity/schist/JZ5Q4.jpg', 'schist'],\n",
              " ['geological_similarity/quartzite/MJMUR.jpg', 'quartzite'],\n",
              " ['geological_similarity/gneiss/DULCW.jpg', 'gneiss'],\n",
              " ['geological_similarity/andesite/FGUMP.jpg', 'andesite'],\n",
              " ['geological_similarity/andesite/3PFI1.jpg', 'andesite'],\n",
              " ['geological_similarity/andesite/UGRBE.jpg', 'andesite'],\n",
              " ['geological_similarity/andesite/7U4MN.jpg', 'andesite'],\n",
              " ['geological_similarity/marble/HC3AQ.jpg', 'marbler'],\n",
              " ['geological_similarity/marble/NS1U7.jpg', 'marbler'],\n",
              " ['geological_similarity/marble/UX9TV.jpg', 'marbler'],\n",
              " ['geological_similarity/quartzite/APB0S.jpg', 'quartzite'],\n",
              " ['geological_similarity/schist/6JOWU.jpg', 'schist'],\n",
              " ['geological_similarity/quartzite/AI1FD.jpg', 'quartzite'],\n",
              " ['geological_similarity/rhyolite/NL0F1.jpg', 'rhyolite'],\n",
              " ['geological_similarity/schist/LH3DX.jpg', 'schist'],\n",
              " ['geological_similarity/andesite/F5YQH.jpg', 'andesite'],\n",
              " ['geological_similarity/andesite/LJ7YF.jpg', 'andesite'],\n",
              " ['geological_similarity/schist/2A7ZO.jpg', 'schist'],\n",
              " ['geological_similarity/schist/IULVV.jpg', 'schist'],\n",
              " ['geological_similarity/marble/8NRBR.jpg', 'marbler'],\n",
              " ['geological_similarity/quartzite/5XC8I.jpg', 'quartzite'],\n",
              " ['geological_similarity/schist/ZLZ01.jpg', 'schist'],\n",
              " ['geological_similarity/andesite/O5NSK.jpg', 'andesite'],\n",
              " ['geological_similarity/marble/0E8SW.jpg', 'marbler'],\n",
              " ['geological_similarity/andesite/4KFRG.jpg', 'andesite'],\n",
              " ['geological_similarity/andesite/B4JAL.jpg', 'andesite'],\n",
              " ['geological_similarity/rhyolite/UUBLB.jpg', 'rhyolite'],\n",
              " ['geological_similarity/quartzite/QWFBA.jpg', 'quartzite'],\n",
              " ['geological_similarity/rhyolite/4YFBZ.jpg', 'rhyolite'],\n",
              " ['geological_similarity/gneiss/7MW2B.jpg', 'gneiss'],\n",
              " ['geological_similarity/gneiss/18T57.jpg', 'gneiss'],\n",
              " ['geological_similarity/marble/0JMGZ.jpg', 'marbler'],\n",
              " ['geological_similarity/gneiss/E3967.jpg', 'gneiss'],\n",
              " ['geological_similarity/andesite/H3QMI.jpg', 'andesite'],\n",
              " ['geological_similarity/rhyolite/KGMG0.jpg', 'rhyolite'],\n",
              " ['geological_similarity/quartzite/C8396.jpg', 'quartzite'],\n",
              " ['geological_similarity/marble/4GPC0.jpg', 'marbler'],\n",
              " ['geological_similarity/gneiss/WIFC2.jpg', 'gneiss'],\n",
              " ['geological_similarity/marble/HELBP.jpg', 'marbler'],\n",
              " ['geological_similarity/marble/RTB9A.jpg', 'marbler'],\n",
              " ['geological_similarity/marble/G2N42.jpg', 'marbler'],\n",
              " ['geological_similarity/andesite/JUMWR.jpg', 'andesite'],\n",
              " ['geological_similarity/quartzite/T7Z3X.jpg', 'quartzite'],\n",
              " ['geological_similarity/andesite/AXWX2.jpg', 'andesite'],\n",
              " ['geological_similarity/schist/37BU5.jpg', 'schist'],\n",
              " ['geological_similarity/rhyolite/PD1WY.jpg', 'rhyolite'],\n",
              " ['geological_similarity/quartzite/MWGK6.jpg', 'quartzite'],\n",
              " ['geological_similarity/marble/TPAMR.jpg', 'marbler'],\n",
              " ['geological_similarity/gneiss/LNEG6.jpg', 'gneiss'],\n",
              " ['geological_similarity/rhyolite/6RN1Z.jpg', 'rhyolite'],\n",
              " ['geological_similarity/rhyolite/2XCYU.jpg', 'rhyolite'],\n",
              " ['geological_similarity/marble/JPXHH.jpg', 'marbler'],\n",
              " ['geological_similarity/andesite/Y20CJ.jpg', 'andesite'],\n",
              " ['geological_similarity/andesite/56SFT.jpg', 'andesite'],\n",
              " ['geological_similarity/quartzite/BVTHX.jpg', 'quartzite'],\n",
              " ['geological_similarity/marble/AANBE.jpg', 'marbler'],\n",
              " ['geological_similarity/rhyolite/YF1PZ.jpg', 'rhyolite'],\n",
              " ['geological_similarity/gneiss/1L2YJ.jpg', 'gneiss'],\n",
              " ['geological_similarity/gneiss/TGWY8.jpg', 'gneiss'],\n",
              " ['geological_similarity/gneiss/SRUUN.jpg', 'gneiss'],\n",
              " ['geological_similarity/andesite/8OLEN.jpg', 'andesite'],\n",
              " ['geological_similarity/gneiss/VRING.jpg', 'gneiss'],\n",
              " ['geological_similarity/rhyolite/VYTNA.jpg', 'rhyolite'],\n",
              " ['geological_similarity/gneiss/OOUHW.jpg', 'gneiss'],\n",
              " ['geological_similarity/marble/EVM38.jpg', 'marbler'],\n",
              " ['geological_similarity/marble/DLIRQ.jpg', 'marbler'],\n",
              " ['geological_similarity/rhyolite/O05MB.jpg', 'rhyolite'],\n",
              " ['geological_similarity/rhyolite/2OX9G.jpg', 'rhyolite'],\n",
              " ['geological_similarity/schist/M7VVT.jpg', 'schist'],\n",
              " ['geological_similarity/rhyolite/70S46.jpg', 'rhyolite'],\n",
              " ['geological_similarity/marble/CTYMM.jpg', 'marbler'],\n",
              " ['geological_similarity/andesite/O7VUU.jpg', 'andesite'],\n",
              " ['geological_similarity/gneiss/DGUQI.jpg', 'gneiss'],\n",
              " ['geological_similarity/gneiss/TTOVG.jpg', 'gneiss'],\n",
              " ['geological_similarity/andesite/QUQJS.jpg', 'andesite'],\n",
              " ['geological_similarity/marble/HXZG8.jpg', 'marbler'],\n",
              " ['geological_similarity/gneiss/PV3AI.jpg', 'gneiss'],\n",
              " ['geological_similarity/andesite/2L2TC.jpg', 'andesite'],\n",
              " ['geological_similarity/andesite/LEQM7.jpg', 'andesite'],\n",
              " ['geological_similarity/marble/NN5XL.jpg', 'marbler'],\n",
              " ['geological_similarity/quartzite/32RRG.jpg', 'quartzite'],\n",
              " ['geological_similarity/andesite/U0W7Z.jpg', 'andesite'],\n",
              " ['geological_similarity/marble/878OJ.jpg', 'marbler'],\n",
              " ['geological_similarity/schist/36NIN.jpg', 'schist'],\n",
              " ['geological_similarity/schist/LO9X1.jpg', 'schist'],\n",
              " ['geological_similarity/gneiss/IEGBD.jpg', 'gneiss'],\n",
              " ['geological_similarity/rhyolite/11E46.jpg', 'rhyolite'],\n",
              " ['geological_similarity/quartzite/PHXNY.jpg', 'quartzite'],\n",
              " ['geological_similarity/andesite/BREF5.jpg', 'andesite'],\n",
              " ['geological_similarity/quartzite/V3GM2.jpg', 'quartzite'],\n",
              " ['geological_similarity/andesite/O8VLI.jpg', 'andesite'],\n",
              " ['geological_similarity/quartzite/I19XJ.jpg', 'quartzite'],\n",
              " ['geological_similarity/rhyolite/B92T5.jpg', 'rhyolite'],\n",
              " ['geological_similarity/andesite/104PQ.jpg', 'andesite'],\n",
              " ['geological_similarity/andesite/7379L.jpg', 'andesite'],\n",
              " ['geological_similarity/marble/AOY6M.jpg', 'marbler'],\n",
              " ['geological_similarity/gneiss/QTFTZ.jpg', 'gneiss'],\n",
              " ['geological_similarity/schist/R7OIT.jpg', 'schist'],\n",
              " ['geological_similarity/andesite/KFRQH.jpg', 'andesite'],\n",
              " ['geological_similarity/quartzite/HFUEC.jpg', 'quartzite'],\n",
              " ['geological_similarity/schist/B440X.jpg', 'schist'],\n",
              " ['geological_similarity/andesite/MRBVG.jpg', 'andesite'],\n",
              " ['geological_similarity/quartzite/XDDLY.jpg', 'quartzite'],\n",
              " ['geological_similarity/marble/H4QOO.jpg', 'marbler'],\n",
              " ['geological_similarity/gneiss/N8SRW.jpg', 'gneiss'],\n",
              " ['geological_similarity/quartzite/ZLB3C.jpg', 'quartzite'],\n",
              " ['geological_similarity/marble/KS0WR.jpg', 'marbler'],\n",
              " ['geological_similarity/gneiss/XUGC2.jpg', 'gneiss'],\n",
              " ['geological_similarity/andesite/P82B0.jpg', 'andesite'],\n",
              " ['geological_similarity/schist/DDX7T.jpg', 'schist'],\n",
              " ['geological_similarity/andesite/0LC7W.jpg', 'andesite'],\n",
              " ['geological_similarity/gneiss/JLK36.jpg', 'gneiss'],\n",
              " ['geological_similarity/rhyolite/DOAZR.jpg', 'rhyolite'],\n",
              " ['geological_similarity/quartzite/ASYDY.jpg', 'quartzite'],\n",
              " ['geological_similarity/rhyolite/4HJLE.jpg', 'rhyolite'],\n",
              " ['geological_similarity/rhyolite/3D6YT.jpg', 'rhyolite'],\n",
              " ['geological_similarity/schist/SCNKK.jpg', 'schist'],\n",
              " ['geological_similarity/quartzite/31J2Q.jpg', 'quartzite'],\n",
              " ['geological_similarity/rhyolite/DY6H4.jpg', 'rhyolite'],\n",
              " ['geological_similarity/gneiss/BZC96.jpg', 'gneiss'],\n",
              " ['geological_similarity/marble/C64I7.jpg', 'marbler'],\n",
              " ['geological_similarity/schist/J0OQT.jpg', 'schist'],\n",
              " ['geological_similarity/schist/O2HVJ.jpg', 'schist'],\n",
              " ['geological_similarity/marble/SAALQ.jpg', 'marbler'],\n",
              " ['geological_similarity/quartzite/QFTWK.jpg', 'quartzite'],\n",
              " ['geological_similarity/schist/GLPC5.jpg', 'schist'],\n",
              " ['geological_similarity/gneiss/FFC86.jpg', 'gneiss'],\n",
              " ['geological_similarity/gneiss/BWJ66.jpg', 'gneiss'],\n",
              " ['geological_similarity/quartzite/YW7BQ.jpg', 'quartzite'],\n",
              " ['geological_similarity/quartzite/FB14S.jpg', 'quartzite'],\n",
              " ['geological_similarity/marble/Z49M0.jpg', 'marbler'],\n",
              " ['geological_similarity/gneiss/16Y93.jpg', 'gneiss'],\n",
              " ['geological_similarity/rhyolite/WPLJT.jpg', 'rhyolite'],\n",
              " ['geological_similarity/schist/PNCZI.jpg', 'schist'],\n",
              " ['geological_similarity/marble/98WAF.jpg', 'marbler'],\n",
              " ['geological_similarity/andesite/C6BCT.jpg', 'andesite'],\n",
              " ['geological_similarity/andesite/Q2YA5.jpg', 'andesite'],\n",
              " ['geological_similarity/marble/GKJLJ.jpg', 'marbler'],\n",
              " ['geological_similarity/andesite/MVPE2.jpg', 'andesite'],\n",
              " ['geological_similarity/schist/8H62M.jpg', 'schist'],\n",
              " ['geological_similarity/gneiss/Q978O.jpg', 'gneiss'],\n",
              " ['geological_similarity/rhyolite/3UB0X.jpg', 'rhyolite'],\n",
              " ['geological_similarity/schist/4H01V.jpg', 'schist'],\n",
              " ['geological_similarity/rhyolite/J5921.jpg', 'rhyolite'],\n",
              " ['geological_similarity/andesite/8PDDA.jpg', 'andesite'],\n",
              " ['geological_similarity/quartzite/F3TVR.jpg', 'quartzite'],\n",
              " ['geological_similarity/rhyolite/3VE0J.jpg', 'rhyolite'],\n",
              " ['geological_similarity/andesite/YMHB2.jpg', 'andesite'],\n",
              " ['geological_similarity/schist/42WV6.jpg', 'schist'],\n",
              " ['geological_similarity/schist/P82Y0.jpg', 'schist'],\n",
              " ['geological_similarity/rhyolite/9XV9K.jpg', 'rhyolite'],\n",
              " ['geological_similarity/gneiss/QD0JY.jpg', 'gneiss'],\n",
              " ['geological_similarity/gneiss/TBYWT.jpg', 'gneiss'],\n",
              " ['geological_similarity/schist/Q06XN.jpg', 'schist'],\n",
              " ['geological_similarity/schist/UY6MN.jpg', 'schist'],\n",
              " ['geological_similarity/rhyolite/CVAMA.jpg', 'rhyolite'],\n",
              " ['geological_similarity/gneiss/8FLIE.jpg', 'gneiss'],\n",
              " ['geological_similarity/marble/VX5XA.jpg', 'marbler'],\n",
              " ['geological_similarity/andesite/BKY3J.jpg', 'andesite'],\n",
              " ['geological_similarity/schist/605AV.jpg', 'schist'],\n",
              " ['geological_similarity/schist/C2Y9A.jpg', 'schist'],\n",
              " ['geological_similarity/rhyolite/MFYK7.jpg', 'rhyolite'],\n",
              " ['geological_similarity/andesite/LUVJZ.jpg', 'andesite'],\n",
              " ['geological_similarity/marble/B38V3.jpg', 'marbler'],\n",
              " ['geological_similarity/quartzite/9GH12.jpg', 'quartzite'],\n",
              " ['geological_similarity/gneiss/3RH5Q.jpg', 'gneiss'],\n",
              " ['geological_similarity/quartzite/EKYX0.jpg', 'quartzite'],\n",
              " ['geological_similarity/marble/AN3BC.jpg', 'marbler'],\n",
              " ['geological_similarity/marble/IAT69.jpg', 'marbler'],\n",
              " ['geological_similarity/marble/ISLGU.jpg', 'marbler'],\n",
              " ['geological_similarity/schist/WJ0GV.jpg', 'schist'],\n",
              " ['geological_similarity/andesite/DR6BU.jpg', 'andesite'],\n",
              " ['geological_similarity/marble/F5QME.jpg', 'marbler'],\n",
              " ['geological_similarity/gneiss/OTLLE.jpg', 'gneiss'],\n",
              " ['geological_similarity/rhyolite/5DQHP.jpg', 'rhyolite'],\n",
              " ['geological_similarity/gneiss/427RS.jpg', 'gneiss'],\n",
              " ['geological_similarity/rhyolite/F0CK8.jpg', 'rhyolite'],\n",
              " ['geological_similarity/rhyolite/H48UO.jpg', 'rhyolite'],\n",
              " ['geological_similarity/marble/VXQB5.jpg', 'marbler'],\n",
              " ['geological_similarity/andesite/OIM59.jpg', 'andesite'],\n",
              " ['geological_similarity/quartzite/NYGLP.jpg', 'quartzite'],\n",
              " ['geological_similarity/marble/P7SFI.jpg', 'marbler'],\n",
              " ['geological_similarity/quartzite/55CR0.jpg', 'quartzite'],\n",
              " ['geological_similarity/schist/Z1EOG.jpg', 'schist'],\n",
              " ['geological_similarity/schist/RT5EO.jpg', 'schist'],\n",
              " ['geological_similarity/quartzite/2UYIF.jpg', 'quartzite'],\n",
              " ['geological_similarity/schist/95Y81.jpg', 'schist'],\n",
              " ['geological_similarity/schist/7K6GP.jpg', 'schist'],\n",
              " ['geological_similarity/rhyolite/1YND0.jpg', 'rhyolite'],\n",
              " ['geological_similarity/gneiss/OY2MU.jpg', 'gneiss'],\n",
              " ['geological_similarity/gneiss/1CXFT.jpg', 'gneiss'],\n",
              " ['geological_similarity/marble/JYGBW.jpg', 'marbler'],\n",
              " ['geological_similarity/marble/9I0EE.jpg', 'marbler'],\n",
              " ['geological_similarity/schist/UAKR2.jpg', 'schist'],\n",
              " ['geological_similarity/marble/LBI5N.jpg', 'marbler'],\n",
              " ['geological_similarity/gneiss/K4EDJ.jpg', 'gneiss'],\n",
              " ['geological_similarity/gneiss/J5Z1M.jpg', 'gneiss'],\n",
              " ['geological_similarity/schist/1FA7G.jpg', 'schist'],\n",
              " ['geological_similarity/marble/XW73S.jpg', 'marbler'],\n",
              " ['geological_similarity/marble/VDH1B.jpg', 'marbler'],\n",
              " ['geological_similarity/rhyolite/9HOBQ.jpg', 'rhyolite'],\n",
              " ['geological_similarity/rhyolite/VQWL3.jpg', 'rhyolite'],\n",
              " ['geological_similarity/schist/CGY22.jpg', 'schist'],\n",
              " ['geological_similarity/gneiss/0UQWH.jpg', 'gneiss'],\n",
              " ['geological_similarity/schist/UG1MG.jpg', 'schist'],\n",
              " ['geological_similarity/marble/9HI2B.jpg', 'marbler'],\n",
              " ['geological_similarity/schist/Q8CBJ.jpg', 'schist'],\n",
              " ['geological_similarity/andesite/LNDXR.jpg', 'andesite'],\n",
              " ['geological_similarity/rhyolite/IOA5F.jpg', 'rhyolite'],\n",
              " ['geological_similarity/gneiss/CNVY0.jpg', 'gneiss'],\n",
              " ['geological_similarity/schist/7OKQT.jpg', 'schist'],\n",
              " ['geological_similarity/gneiss/24Z6F.jpg', 'gneiss'],\n",
              " ['geological_similarity/schist/ONNEX.jpg', 'schist'],\n",
              " ['geological_similarity/quartzite/0NBIV.jpg', 'quartzite'],\n",
              " ['geological_similarity/marble/6U8CL.jpg', 'marbler'],\n",
              " ['geological_similarity/schist/CJBDD.jpg', 'schist'],\n",
              " ['geological_similarity/marble/ZMXSH.jpg', 'marbler'],\n",
              " ['geological_similarity/quartzite/HPR39.jpg', 'quartzite'],\n",
              " ['geological_similarity/andesite/V2LW1.jpg', 'andesite'],\n",
              " ['geological_similarity/schist/OIW4H.jpg', 'schist'],\n",
              " ['geological_similarity/marble/DJCT4.jpg', 'marbler'],\n",
              " ['geological_similarity/gneiss/MR71O.jpg', 'gneiss'],\n",
              " ['geological_similarity/gneiss/Q8IHN.jpg', 'gneiss'],\n",
              " ['geological_similarity/marble/LSCYM.jpg', 'marbler'],\n",
              " ['geological_similarity/quartzite/BE1QP.jpg', 'quartzite'],\n",
              " ['geological_similarity/gneiss/0KGY5.jpg', 'gneiss'],\n",
              " ['geological_similarity/gneiss/49UAJ.jpg', 'gneiss'],\n",
              " ['geological_similarity/schist/6A3P9.jpg', 'schist'],\n",
              " ['geological_similarity/quartzite/RXEXD.jpg', 'quartzite'],\n",
              " ['geological_similarity/marble/N1H38.jpg', 'marbler'],\n",
              " ['geological_similarity/rhyolite/0W7UL.jpg', 'rhyolite'],\n",
              " ['geological_similarity/gneiss/LWIBX.jpg', 'gneiss'],\n",
              " ['geological_similarity/marble/ZVERD.jpg', 'marbler'],\n",
              " ['geological_similarity/rhyolite/IR8IA.jpg', 'rhyolite'],\n",
              " ['geological_similarity/andesite/5R2MC.jpg', 'andesite'],\n",
              " ['geological_similarity/schist/ZD92S.jpg', 'schist'],\n",
              " ['geological_similarity/quartzite/4BQ2R.jpg', 'quartzite'],\n",
              " ['geological_similarity/andesite/PFF3V.jpg', 'andesite'],\n",
              " ['geological_similarity/rhyolite/NHCWO.jpg', 'rhyolite'],\n",
              " ['geological_similarity/andesite/JCN17.jpg', 'andesite'],\n",
              " ['geological_similarity/andesite/KIWKY.jpg', 'andesite'],\n",
              " ['geological_similarity/schist/N7371.jpg', 'schist'],\n",
              " ['geological_similarity/gneiss/3502T.jpg', 'gneiss'],\n",
              " ['geological_similarity/schist/0XVZU.jpg', 'schist'],\n",
              " ['geological_similarity/andesite/A3IEB.jpg', 'andesite'],\n",
              " ['geological_similarity/quartzite/V2YH4.jpg', 'quartzite'],\n",
              " ['geological_similarity/quartzite/4N0ZS.jpg', 'quartzite'],\n",
              " ['geological_similarity/rhyolite/QXQ4S.jpg', 'rhyolite'],\n",
              " ['geological_similarity/rhyolite/5BNXZ.jpg', 'rhyolite'],\n",
              " ['geological_similarity/gneiss/LVMYH.jpg', 'gneiss'],\n",
              " ['geological_similarity/rhyolite/DBAKT.jpg', 'rhyolite'],\n",
              " ['geological_similarity/quartzite/ANWAI.jpg', 'quartzite'],\n",
              " ['geological_similarity/rhyolite/0LDKO.jpg', 'rhyolite'],\n",
              " ['geological_similarity/quartzite/PNXUF.jpg', 'quartzite'],\n",
              " ['geological_similarity/schist/9Z9YK.jpg', 'schist'],\n",
              " ['geological_similarity/marble/9NHDF.jpg', 'marbler'],\n",
              " ['geological_similarity/quartzite/6JNOR.jpg', 'quartzite'],\n",
              " ['geological_similarity/schist/HG5H5.jpg', 'schist'],\n",
              " ['geological_similarity/andesite/1XQ3K.jpg', 'andesite'],\n",
              " ['geological_similarity/quartzite/45OLK.jpg', 'quartzite'],\n",
              " ['geological_similarity/gneiss/Q7EI4.jpg', 'gneiss'],\n",
              " ['geological_similarity/marble/P5CS4.jpg', 'marbler'],\n",
              " ['geological_similarity/marble/MWJTV.jpg', 'marbler'],\n",
              " ['geological_similarity/quartzite/UQZ95.jpg', 'quartzite'],\n",
              " ['geological_similarity/schist/KVU96.jpg', 'schist'],\n",
              " ['geological_similarity/marble/E4DE3.jpg', 'marbler'],\n",
              " ['geological_similarity/andesite/SPAKU.jpg', 'andesite'],\n",
              " ['geological_similarity/marble/SFBVS.jpg', 'marbler'],\n",
              " ['geological_similarity/rhyolite/L2XXH.jpg', 'rhyolite'],\n",
              " ['geological_similarity/rhyolite/VYFJ9.jpg', 'rhyolite'],\n",
              " ['geological_similarity/marble/WU3LG.jpg', 'marbler'],\n",
              " ['geological_similarity/gneiss/RB7RL.jpg', 'gneiss'],\n",
              " ['geological_similarity/quartzite/WB8YO.jpg', 'quartzite'],\n",
              " ['geological_similarity/andesite/XR6UG.jpg', 'andesite'],\n",
              " ['geological_similarity/andesite/4W7L3.jpg', 'andesite'],\n",
              " ['geological_similarity/schist/ZCKVJ.jpg', 'schist'],\n",
              " ['geological_similarity/rhyolite/0U3AY.jpg', 'rhyolite'],\n",
              " ['geological_similarity/rhyolite/ADMUS.jpg', 'rhyolite'],\n",
              " ['geological_similarity/andesite/X3BW9.jpg', 'andesite'],\n",
              " ['geological_similarity/gneiss/54I4X.jpg', 'gneiss'],\n",
              " ['geological_similarity/quartzite/DVU2S.jpg', 'quartzite'],\n",
              " ['geological_similarity/gneiss/SRCMZ.jpg', 'gneiss'],\n",
              " ['geological_similarity/marble/1VPQN.jpg', 'marbler'],\n",
              " ['geological_similarity/gneiss/ES1X0.jpg', 'gneiss'],\n",
              " ['geological_similarity/marble/0LP02.jpg', 'marbler'],\n",
              " ['geological_similarity/quartzite/ZWH9X.jpg', 'quartzite'],\n",
              " ['geological_similarity/rhyolite/8K2BR.jpg', 'rhyolite'],\n",
              " ['geological_similarity/quartzite/F9JY2.jpg', 'quartzite'],\n",
              " ['geological_similarity/andesite/4OWWL.jpg', 'andesite'],\n",
              " ['geological_similarity/andesite/QX4Q5.jpg', 'andesite'],\n",
              " ['geological_similarity/rhyolite/S4FN3.jpg', 'rhyolite'],\n",
              " ['geological_similarity/gneiss/AXQWJ.jpg', 'gneiss'],\n",
              " ['geological_similarity/gneiss/LEZGQ.jpg', 'gneiss'],\n",
              " ['geological_similarity/rhyolite/NE1XX.jpg', 'rhyolite'],\n",
              " ['geological_similarity/gneiss/U4P10.jpg', 'gneiss'],\n",
              " ['geological_similarity/schist/XV5T6.jpg', 'schist'],\n",
              " ['geological_similarity/rhyolite/Q0X6N.jpg', 'rhyolite'],\n",
              " ['geological_similarity/schist/LYGIP.jpg', 'schist'],\n",
              " ['geological_similarity/andesite/B7AWN.jpg', 'andesite'],\n",
              " ['geological_similarity/marble/P80A9.jpg', 'marbler'],\n",
              " ['geological_similarity/schist/37G5N.jpg', 'schist'],\n",
              " ['geological_similarity/gneiss/VHE8T.jpg', 'gneiss'],\n",
              " ['geological_similarity/gneiss/Y3URV.jpg', 'gneiss'],\n",
              " ['geological_similarity/quartzite/OYSZT.jpg', 'quartzite'],\n",
              " ['geological_similarity/marble/6J6I8.jpg', 'marbler'],\n",
              " ['geological_similarity/rhyolite/MUQJN.jpg', 'rhyolite'],\n",
              " ['geological_similarity/schist/PVQQD.jpg', 'schist'],\n",
              " ['geological_similarity/quartzite/FT2DR.jpg', 'quartzite'],\n",
              " ['geological_similarity/schist/F14DX.jpg', 'schist'],\n",
              " ['geological_similarity/schist/3O3RO.jpg', 'schist'],\n",
              " ['geological_similarity/quartzite/0NMRI.jpg', 'quartzite'],\n",
              " ['geological_similarity/gneiss/MQ5FG.jpg', 'gneiss'],\n",
              " ['geological_similarity/rhyolite/G1Y40.jpg', 'rhyolite'],\n",
              " ['geological_similarity/rhyolite/J9KL1.jpg', 'rhyolite'],\n",
              " ['geological_similarity/marble/H3ETA.jpg', 'marbler'],\n",
              " ['geological_similarity/andesite/DTYEW.jpg', 'andesite'],\n",
              " ['geological_similarity/schist/NY3MG.jpg', 'schist'],\n",
              " ['geological_similarity/rhyolite/X2D90.jpg', 'rhyolite'],\n",
              " ['geological_similarity/quartzite/1VK6N.jpg', 'quartzite'],\n",
              " ['geological_similarity/quartzite/TFL17.jpg', 'quartzite'],\n",
              " ['geological_similarity/schist/NGFGY.jpg', 'schist'],\n",
              " ['geological_similarity/schist/O33N8.jpg', 'schist'],\n",
              " ['geological_similarity/rhyolite/WG4X9.jpg', 'rhyolite'],\n",
              " ['geological_similarity/gneiss/H71LH.jpg', 'gneiss'],\n",
              " ['geological_similarity/marble/ZWZUL.jpg', 'marbler'],\n",
              " ['geological_similarity/schist/IC1EU.jpg', 'schist'],\n",
              " ['geological_similarity/gneiss/DGFUY.jpg', 'gneiss'],\n",
              " ['geological_similarity/quartzite/ZEBY0.jpg', 'quartzite'],\n",
              " ['geological_similarity/rhyolite/K6WC5.jpg', 'rhyolite'],\n",
              " ['geological_similarity/andesite/3AV4X.jpg', 'andesite'],\n",
              " ['geological_similarity/andesite/RW9EY.jpg', 'andesite'],\n",
              " ['geological_similarity/andesite/F6XTE.jpg', 'andesite'],\n",
              " ['geological_similarity/andesite/UQFOJ.jpg', 'andesite'],\n",
              " ['geological_similarity/rhyolite/R266A.jpg', 'rhyolite'],\n",
              " ['geological_similarity/andesite/YR3VP.jpg', 'andesite'],\n",
              " ['geological_similarity/rhyolite/K9D0J.jpg', 'rhyolite'],\n",
              " ['geological_similarity/schist/D0A0P.jpg', 'schist'],\n",
              " ['geological_similarity/gneiss/JF1TU.jpg', 'gneiss'],\n",
              " ['geological_similarity/andesite/4WMYA.jpg', 'andesite'],\n",
              " ['geological_similarity/marble/7NKWK.jpg', 'marbler'],\n",
              " ['geological_similarity/quartzite/SXC3V.jpg', 'quartzite'],\n",
              " ['geological_similarity/rhyolite/M8A2Z.jpg', 'rhyolite'],\n",
              " ['geological_similarity/gneiss/3FOBK.jpg', 'gneiss'],\n",
              " ['geological_similarity/gneiss/1NBG7.jpg', 'gneiss'],\n",
              " ['geological_similarity/gneiss/T2XVN.jpg', 'gneiss'],\n",
              " ['geological_similarity/rhyolite/M86JP.jpg', 'rhyolite'],\n",
              " ['geological_similarity/quartzite/M46JJ.jpg', 'quartzite'],\n",
              " ['geological_similarity/quartzite/UJ4HY.jpg', 'quartzite'],\n",
              " ['geological_similarity/schist/BVI6S.jpg', 'schist'],\n",
              " ['geological_similarity/gneiss/SN1SB.jpg', 'gneiss'],\n",
              " ['geological_similarity/schist/OFY0R.jpg', 'schist'],\n",
              " ['geological_similarity/rhyolite/G5TAT.jpg', 'rhyolite'],\n",
              " ['geological_similarity/gneiss/8VLPT.jpg', 'gneiss'],\n",
              " ['geological_similarity/marble/OV10J.jpg', 'marbler'],\n",
              " ['geological_similarity/marble/TK7B1.jpg', 'marbler'],\n",
              " ['geological_similarity/gneiss/U1PRB.jpg', 'gneiss'],\n",
              " ['geological_similarity/rhyolite/VBUYR.jpg', 'rhyolite'],\n",
              " ['geological_similarity/gneiss/O1VFH.jpg', 'gneiss'],\n",
              " ['geological_similarity/schist/XBWY4.jpg', 'schist'],\n",
              " ['geological_similarity/andesite/V3FFZ.jpg', 'andesite'],\n",
              " ['geological_similarity/rhyolite/MTOIO.jpg', 'rhyolite'],\n",
              " ['geological_similarity/schist/PIEWX.jpg', 'schist'],\n",
              " ['geological_similarity/marble/U6E1P.jpg', 'marbler'],\n",
              " ['geological_similarity/andesite/BQJ2J.jpg', 'andesite'],\n",
              " ['geological_similarity/gneiss/0KJ6S.jpg', 'gneiss'],\n",
              " ['geological_similarity/quartzite/PYN7M.jpg', 'quartzite'],\n",
              " ['geological_similarity/andesite/5I1JR.jpg', 'andesite'],\n",
              " ['geological_similarity/rhyolite/DVZV5.jpg', 'rhyolite'],\n",
              " ['geological_similarity/andesite/ODIT5.jpg', 'andesite'],\n",
              " ['geological_similarity/andesite/OEQ9U.jpg', 'andesite'],\n",
              " ['geological_similarity/marble/BIEEB.jpg', 'marbler'],\n",
              " ['geological_similarity/andesite/ON8ZH.jpg', 'andesite'],\n",
              " ['geological_similarity/andesite/7XHJM.jpg', 'andesite'],\n",
              " ['geological_similarity/rhyolite/YPGCA.jpg', 'rhyolite'],\n",
              " ['geological_similarity/andesite/I797Z.jpg', 'andesite'],\n",
              " ['geological_similarity/gneiss/3MBH0.jpg', 'gneiss'],\n",
              " ['geological_similarity/rhyolite/GBTIT.jpg', 'rhyolite'],\n",
              " ['geological_similarity/schist/KLKA9.jpg', 'schist'],\n",
              " ['geological_similarity/marble/O0NKY.jpg', 'marbler'],\n",
              " ['geological_similarity/marble/9UTOO.jpg', 'marbler'],\n",
              " ['geological_similarity/andesite/SYJ9F.jpg', 'andesite'],\n",
              " ['geological_similarity/andesite/V62WN.jpg', 'andesite'],\n",
              " ['geological_similarity/marble/RRTZJ.jpg', 'marbler'],\n",
              " ['geological_similarity/quartzite/ZBJ2M.jpg', 'quartzite'],\n",
              " ['geological_similarity/gneiss/B1J7P.jpg', 'gneiss'],\n",
              " ['geological_similarity/rhyolite/UUVXF.jpg', 'rhyolite'],\n",
              " ['geological_similarity/marble/BUCO4.jpg', 'marbler'],\n",
              " ['geological_similarity/quartzite/NKDOT.jpg', 'quartzite'],\n",
              " ['geological_similarity/gneiss/ALOXS.jpg', 'gneiss'],\n",
              " ['geological_similarity/gneiss/M8QAF.jpg', 'gneiss'],\n",
              " ['geological_similarity/rhyolite/S6OSY.jpg', 'rhyolite'],\n",
              " ['geological_similarity/rhyolite/9VBHU.jpg', 'rhyolite'],\n",
              " ['geological_similarity/gneiss/YNW64.jpg', 'gneiss'],\n",
              " ['geological_similarity/schist/ZMK3L.jpg', 'schist'],\n",
              " ['geological_similarity/rhyolite/S2OKK.jpg', 'rhyolite'],\n",
              " ['geological_similarity/rhyolite/O12VV.jpg', 'rhyolite'],\n",
              " ['geological_similarity/quartzite/MDE49.jpg', 'quartzite'],\n",
              " ['geological_similarity/schist/CJ7PO.jpg', 'schist'],\n",
              " ['geological_similarity/schist/FVGC0.jpg', 'schist'],\n",
              " ['geological_similarity/andesite/MCRQ8.jpg', 'andesite'],\n",
              " ['geological_similarity/rhyolite/H0Q97.jpg', 'rhyolite'],\n",
              " ['geological_similarity/rhyolite/HZS4A.jpg', 'rhyolite'],\n",
              " ['geological_similarity/rhyolite/0ZN4O.jpg', 'rhyolite'],\n",
              " ['geological_similarity/andesite/Y7MLX.jpg', 'andesite'],\n",
              " ['geological_similarity/rhyolite/RLTU2.jpg', 'rhyolite'],\n",
              " ['geological_similarity/quartzite/7B02K.jpg', 'quartzite'],\n",
              " ['geological_similarity/marble/M6C9E.jpg', 'marbler'],\n",
              " ['geological_similarity/marble/DLI2O.jpg', 'marbler'],\n",
              " ['geological_similarity/gneiss/Y3SAF.jpg', 'gneiss'],\n",
              " ['geological_similarity/schist/KLQT8.jpg', 'schist'],\n",
              " ['geological_similarity/gneiss/1YJ5O.jpg', 'gneiss'],\n",
              " ['geological_similarity/marble/H92P1.jpg', 'marbler'],\n",
              " ['geological_similarity/schist/OZ12P.jpg', 'schist'],\n",
              " ['geological_similarity/andesite/CECXG.jpg', 'andesite'],\n",
              " ['geological_similarity/rhyolite/UO32E.jpg', 'rhyolite'],\n",
              " ['geological_similarity/marble/7MMTQ.jpg', 'marbler'],\n",
              " ['geological_similarity/marble/MMD9O.jpg', 'marbler'],\n",
              " ['geological_similarity/gneiss/EEKVJ.jpg', 'gneiss'],\n",
              " ['geological_similarity/rhyolite/CZNE0.jpg', 'rhyolite'],\n",
              " ['geological_similarity/schist/Y3HXU.jpg', 'schist'],\n",
              " ['geological_similarity/rhyolite/MC6M4.jpg', 'rhyolite'],\n",
              " ['geological_similarity/marble/YXO2C.jpg', 'marbler'],\n",
              " ['geological_similarity/schist/01EMV.jpg', 'schist'],\n",
              " ['geological_similarity/rhyolite/R2BY6.jpg', 'rhyolite'],\n",
              " ['geological_similarity/schist/NONJI.jpg', 'schist'],\n",
              " ['geological_similarity/gneiss/OPUUV.jpg', 'gneiss'],\n",
              " ['geological_similarity/schist/DE6FX.jpg', 'schist'],\n",
              " ['geological_similarity/rhyolite/CF1DE.jpg', 'rhyolite'],\n",
              " ['geological_similarity/andesite/F4P16.jpg', 'andesite'],\n",
              " ['geological_similarity/gneiss/9PP9L.jpg', 'gneiss'],\n",
              " ['geological_similarity/schist/F786J.jpg', 'schist'],\n",
              " ['geological_similarity/andesite/5N4GG.jpg', 'andesite'],\n",
              " ['geological_similarity/andesite/3F5LG.jpg', 'andesite'],\n",
              " ['geological_similarity/andesite/9NBN7.jpg', 'andesite'],\n",
              " ['geological_similarity/schist/SDWTG.jpg', 'schist'],\n",
              " ['geological_similarity/gneiss/V7XKQ.jpg', 'gneiss'],\n",
              " ['geological_similarity/quartzite/9RLT3.jpg', 'quartzite'],\n",
              " ['geological_similarity/rhyolite/5GUKG.jpg', 'rhyolite'],\n",
              " ['geological_similarity/marble/F4MXG.jpg', 'marbler'],\n",
              " ['geological_similarity/gneiss/7PAYP.jpg', 'gneiss'],\n",
              " ['geological_similarity/schist/NUVM7.jpg', 'schist'],\n",
              " ['geological_similarity/marble/D9RX7.jpg', 'marbler'],\n",
              " ['geological_similarity/andesite/GFIFJ.jpg', 'andesite'],\n",
              " ['geological_similarity/andesite/ML2EL.jpg', 'andesite'],\n",
              " ['geological_similarity/quartzite/VHFHU.jpg', 'quartzite'],\n",
              " ['geological_similarity/quartzite/JCM9J.jpg', 'quartzite'],\n",
              " ['geological_similarity/andesite/QC50E.jpg', 'andesite'],\n",
              " ['geological_similarity/gneiss/MRCUE.jpg', 'gneiss'],\n",
              " ['geological_similarity/quartzite/5F0AH.jpg', 'quartzite'],\n",
              " ['geological_similarity/gneiss/PSR0P.jpg', 'gneiss'],\n",
              " ['geological_similarity/quartzite/U7AO5.jpg', 'quartzite'],\n",
              " ['geological_similarity/marble/060XY.jpg', 'marbler'],\n",
              " ['geological_similarity/marble/4L7A8.jpg', 'marbler'],\n",
              " ['geological_similarity/marble/HZLUH.jpg', 'marbler'],\n",
              " ['geological_similarity/andesite/HRB0U.jpg', 'andesite'],\n",
              " ['geological_similarity/marble/FX1UZ.jpg', 'marbler'],\n",
              " ['geological_similarity/andesite/N64GH.jpg', 'andesite'],\n",
              " ['geological_similarity/marble/6TL8I.jpg', 'marbler'],\n",
              " ['geological_similarity/gneiss/D2CSL.jpg', 'gneiss'],\n",
              " ['geological_similarity/gneiss/N8RSU.jpg', 'gneiss'],\n",
              " ['geological_similarity/quartzite/5IPNH.jpg', 'quartzite'],\n",
              " ['geological_similarity/rhyolite/CXPZY.jpg', 'rhyolite'],\n",
              " ['geological_similarity/schist/NFMW7.jpg', 'schist'],\n",
              " ['geological_similarity/quartzite/GH31F.jpg', 'quartzite'],\n",
              " ['geological_similarity/marble/VC1J6.jpg', 'marbler'],\n",
              " ['geological_similarity/quartzite/MFWJO.jpg', 'quartzite'],\n",
              " ['geological_similarity/quartzite/WGBUE.jpg', 'quartzite'],\n",
              " ['geological_similarity/gneiss/216VM.jpg', 'gneiss'],\n",
              " ['geological_similarity/marble/AZ62H.jpg', 'marbler'],\n",
              " ['geological_similarity/schist/1Y8DC.jpg', 'schist'],\n",
              " ['geological_similarity/marble/EMLZQ.jpg', 'marbler'],\n",
              " ['geological_similarity/andesite/HBKJY.jpg', 'andesite'],\n",
              " ['geological_similarity/schist/DS0D2.jpg', 'schist'],\n",
              " ['geological_similarity/rhyolite/UQ3HC.jpg', 'rhyolite'],\n",
              " ['geological_similarity/gneiss/GLSJL.jpg', 'gneiss'],\n",
              " ['geological_similarity/andesite/HW1LT.jpg', 'andesite'],\n",
              " ['geological_similarity/rhyolite/HTXKI.jpg', 'rhyolite'],\n",
              " ['geological_similarity/gneiss/G0PJD.jpg', 'gneiss'],\n",
              " ['geological_similarity/marble/XJYEW.jpg', 'marbler'],\n",
              " ['geological_similarity/rhyolite/ZFT7I.jpg', 'rhyolite'],\n",
              " ['geological_similarity/schist/Y4IOQ.jpg', 'schist'],\n",
              " ['geological_similarity/rhyolite/FPBQO.jpg', 'rhyolite'],\n",
              " ['geological_similarity/schist/M6YGI.jpg', 'schist'],\n",
              " ['geological_similarity/andesite/0O0A4.jpg', 'andesite'],\n",
              " ['geological_similarity/marble/NWQGD.jpg', 'marbler'],\n",
              " ['geological_similarity/marble/4O8BA.jpg', 'marbler'],\n",
              " ['geological_similarity/schist/2IX1X.jpg', 'schist'],\n",
              " ['geological_similarity/marble/95TD5.jpg', 'marbler'],\n",
              " ['geological_similarity/rhyolite/3HFFG.jpg', 'rhyolite'],\n",
              " ['geological_similarity/marble/7X218.jpg', 'marbler'],\n",
              " ['geological_similarity/schist/E81SY.jpg', 'schist'],\n",
              " ['geological_similarity/andesite/CPRE9.jpg', 'andesite'],\n",
              " ['geological_similarity/andesite/DQTX1.jpg', 'andesite'],\n",
              " ['geological_similarity/quartzite/T03QQ.jpg', 'quartzite'],\n",
              " ['geological_similarity/gneiss/G0OI6.jpg', 'gneiss'],\n",
              " ['geological_similarity/gneiss/D3A5D.jpg', 'gneiss'],\n",
              " ['geological_similarity/marble/SGWGP.jpg', 'marbler'],\n",
              " ['geological_similarity/andesite/TVP73.jpg', 'andesite'],\n",
              " ['geological_similarity/rhyolite/ZH1VK.jpg', 'rhyolite'],\n",
              " ['geological_similarity/schist/GFLV1.jpg', 'schist'],\n",
              " ['geological_similarity/gneiss/YKWJE.jpg', 'gneiss'],\n",
              " ['geological_similarity/schist/DVIZT.jpg', 'schist'],\n",
              " ['geological_similarity/quartzite/WJ16G.jpg', 'quartzite'],\n",
              " ['geological_similarity/schist/Z3XE7.jpg', 'schist'],\n",
              " ['geological_similarity/schist/S6YC8.jpg', 'schist'],\n",
              " ['geological_similarity/marble/N8N3A.jpg', 'marbler'],\n",
              " ['geological_similarity/marble/DZIE4.jpg', 'marbler'],\n",
              " ['geological_similarity/schist/MLHYR.jpg', 'schist'],\n",
              " ['geological_similarity/rhyolite/IH95W.jpg', 'rhyolite'],\n",
              " ['geological_similarity/rhyolite/BPITW.jpg', 'rhyolite'],\n",
              " ['geological_similarity/andesite/LEPJ3.jpg', 'andesite'],\n",
              " ['geological_similarity/quartzite/WDPPH.jpg', 'quartzite'],\n",
              " ['geological_similarity/gneiss/K331K.jpg', 'gneiss'],\n",
              " ['geological_similarity/schist/6R35N.jpg', 'schist'],\n",
              " ['geological_similarity/rhyolite/TLF96.jpg', 'rhyolite'],\n",
              " ['geological_similarity/quartzite/66NN0.jpg', 'quartzite'],\n",
              " ['geological_similarity/andesite/B3ZAV.jpg', 'andesite'],\n",
              " ['geological_similarity/gneiss/JRYYW.jpg', 'gneiss'],\n",
              " ['geological_similarity/andesite/CA1AE.jpg', 'andesite'],\n",
              " ['geological_similarity/marble/GVDMI.jpg', 'marbler'],\n",
              " ['geological_similarity/gneiss/YKR51.jpg', 'gneiss'],\n",
              " ['geological_similarity/schist/IXBYW.jpg', 'schist'],\n",
              " ['geological_similarity/gneiss/DOD5R.jpg', 'gneiss'],\n",
              " ['geological_similarity/andesite/IN57C.jpg', 'andesite'],\n",
              " ['geological_similarity/andesite/613UX.jpg', 'andesite'],\n",
              " ['geological_similarity/schist/GPVEE.jpg', 'schist'],\n",
              " ['geological_similarity/gneiss/EUGH8.jpg', 'gneiss'],\n",
              " ['geological_similarity/quartzite/C1VBR.jpg', 'quartzite'],\n",
              " ['geological_similarity/schist/VKR0P.jpg', 'schist'],\n",
              " ['geological_similarity/schist/KKBS2.jpg', 'schist'],\n",
              " ['geological_similarity/andesite/4MGGH.jpg', 'andesite'],\n",
              " ['geological_similarity/rhyolite/YXZBN.jpg', 'rhyolite'],\n",
              " ['geological_similarity/andesite/QRZIJ.jpg', 'andesite'],\n",
              " ['geological_similarity/gneiss/529WR.jpg', 'gneiss'],\n",
              " ['geological_similarity/marble/QLPFI.jpg', 'marbler'],\n",
              " ['geological_similarity/quartzite/58WOU.jpg', 'quartzite'],\n",
              " ['geological_similarity/quartzite/OKGG2.jpg', 'quartzite'],\n",
              " ['geological_similarity/marble/87LFV.jpg', 'marbler'],\n",
              " ['geological_similarity/quartzite/4AO7A.jpg', 'quartzite'],\n",
              " ['geological_similarity/quartzite/O56WY.jpg', 'quartzite'],\n",
              " ['geological_similarity/andesite/OBIUA.jpg', 'andesite'],\n",
              " ['geological_similarity/andesite/2E65R.jpg', 'andesite'],\n",
              " ['geological_similarity/quartzite/ZLWPU.jpg', 'quartzite'],\n",
              " ['geological_similarity/quartzite/JRFRR.jpg', 'quartzite'],\n",
              " ['geological_similarity/quartzite/R3X6N.jpg', 'quartzite'],\n",
              " ['geological_similarity/andesite/0DHSF.jpg', 'andesite'],\n",
              " ['geological_similarity/andesite/1CT4D.jpg', 'andesite'],\n",
              " ['geological_similarity/marble/J5F4R.jpg', 'marbler'],\n",
              " ['geological_similarity/quartzite/6ILGR.jpg', 'quartzite'],\n",
              " ['geological_similarity/marble/UEPT6.jpg', 'marbler'],\n",
              " ['geological_similarity/quartzite/2N7EG.jpg', 'quartzite'],\n",
              " ['geological_similarity/rhyolite/VOGN5.jpg', 'rhyolite'],\n",
              " ['geological_similarity/marble/9SDPY.jpg', 'marbler'],\n",
              " ['geological_similarity/gneiss/8HBH7.jpg', 'gneiss'],\n",
              " ['geological_similarity/gneiss/F19WR.jpg', 'gneiss'],\n",
              " ['geological_similarity/quartzite/SFZ8J.jpg', 'quartzite'],\n",
              " ['geological_similarity/andesite/HPBJ9.jpg', 'andesite'],\n",
              " ['geological_similarity/rhyolite/SLM5N.jpg', 'rhyolite'],\n",
              " ['geological_similarity/schist/58FNL.jpg', 'schist'],\n",
              " ['geological_similarity/schist/LNIUS.jpg', 'schist'],\n",
              " ['geological_similarity/quartzite/ME4N5.jpg', 'quartzite'],\n",
              " ['geological_similarity/marble/TNKND.jpg', 'marbler'],\n",
              " ['geological_similarity/rhyolite/YKG5F.jpg', 'rhyolite'],\n",
              " ['geological_similarity/quartzite/4QBEI.jpg', 'quartzite'],\n",
              " ['geological_similarity/quartzite/6KBI1.jpg', 'quartzite'],\n",
              " ['geological_similarity/schist/WWQFS.jpg', 'schist'],\n",
              " ['geological_similarity/gneiss/19BJ1.jpg', 'gneiss'],\n",
              " ['geological_similarity/schist/YL9B5.jpg', 'schist'],\n",
              " ['geological_similarity/schist/KPBMD.jpg', 'schist'],\n",
              " ['geological_similarity/andesite/5Z1WL.jpg', 'andesite'],\n",
              " ['geological_similarity/andesite/NC7E4.jpg', 'andesite'],\n",
              " ['geological_similarity/quartzite/KIAPA.jpg', 'quartzite'],\n",
              " ['geological_similarity/gneiss/JDTWC.jpg', 'gneiss'],\n",
              " ['geological_similarity/marble/AQLU2.jpg', 'marbler'],\n",
              " ['geological_similarity/andesite/8Y83Z.jpg', 'andesite'],\n",
              " ['geological_similarity/quartzite/60VP0.jpg', 'quartzite'],\n",
              " ['geological_similarity/gneiss/JT6TQ.jpg', 'gneiss'],\n",
              " ['geological_similarity/schist/8TGOQ.jpg', 'schist'],\n",
              " ['geological_similarity/andesite/WD2RG.jpg', 'andesite'],\n",
              " ['geological_similarity/quartzite/L53EY.jpg', 'quartzite'],\n",
              " ['geological_similarity/quartzite/9DT20.jpg', 'quartzite'],\n",
              " ['geological_similarity/schist/YIC80.jpg', 'schist'],\n",
              " ['geological_similarity/gneiss/9UZV5.jpg', 'gneiss'],\n",
              " ['geological_similarity/rhyolite/8RSV2.jpg', 'rhyolite'],\n",
              " ['geological_similarity/marble/T69J0.jpg', 'marbler'],\n",
              " ['geological_similarity/andesite/WY8W0.jpg', 'andesite'],\n",
              " ['geological_similarity/rhyolite/7EJAL.jpg', 'rhyolite'],\n",
              " ['geological_similarity/quartzite/DQI7B.jpg', 'quartzite'],\n",
              " ['geological_similarity/quartzite/B3YM4.jpg', 'quartzite'],\n",
              " ['geological_similarity/andesite/89ZFV.jpg', 'andesite'],\n",
              " ['geological_similarity/marble/LYRC6.jpg', 'marbler'],\n",
              " ['geological_similarity/gneiss/7WCVO.jpg', 'gneiss'],\n",
              " ['geological_similarity/andesite/6U7RO.jpg', 'andesite'],\n",
              " ['geological_similarity/gneiss/VBEON.jpg', 'gneiss'],\n",
              " ['geological_similarity/marble/8L2TG.jpg', 'marbler'],\n",
              " ['geological_similarity/schist/5V24T.jpg', 'schist'],\n",
              " ['geological_similarity/gneiss/9LXIP.jpg', 'gneiss'],\n",
              " ['geological_similarity/rhyolite/JUGUB.jpg', 'rhyolite'],\n",
              " ['geological_similarity/andesite/3LLWO.jpg', 'andesite'],\n",
              " ['geological_similarity/schist/BK6ZL.jpg', 'schist'],\n",
              " ['geological_similarity/marble/LWPA0.jpg', 'marbler'],\n",
              " ['geological_similarity/andesite/DCO66.jpg', 'andesite'],\n",
              " ['geological_similarity/quartzite/75W8F.jpg', 'quartzite'],\n",
              " ['geological_similarity/andesite/7YPFT.jpg', 'andesite'],\n",
              " ['geological_similarity/andesite/F4AWU.jpg', 'andesite'],\n",
              " ['geological_similarity/andesite/VES0V.jpg', 'andesite'],\n",
              " ['geological_similarity/marble/C69NJ.jpg', 'marbler'],\n",
              " ['geological_similarity/gneiss/V601O.jpg', 'gneiss'],\n",
              " ['geological_similarity/schist/LEWJ4.jpg', 'schist'],\n",
              " ['geological_similarity/andesite/VEJIM.jpg', 'andesite'],\n",
              " ['geological_similarity/andesite/UNZ3K.jpg', 'andesite'],\n",
              " ['geological_similarity/andesite/31EKE.jpg', 'andesite'],\n",
              " ['geological_similarity/marble/5XFFL.jpg', 'marbler'],\n",
              " ['geological_similarity/andesite/BLC8G.jpg', 'andesite'],\n",
              " ['geological_similarity/marble/S18R6.jpg', 'marbler'],\n",
              " ['geological_similarity/schist/I1K99.jpg', 'schist'],\n",
              " ['geological_similarity/quartzite/NXFG2.jpg', 'quartzite'],\n",
              " ['geological_similarity/andesite/TMAZR.jpg', 'andesite'],\n",
              " ['geological_similarity/andesite/RXAUY.jpg', 'andesite'],\n",
              " ['geological_similarity/andesite/QSY35.jpg', 'andesite'],\n",
              " ['geological_similarity/gneiss/SG6II.jpg', 'gneiss'],\n",
              " ['geological_similarity/quartzite/N0ILK.jpg', 'quartzite'],\n",
              " ['geological_similarity/quartzite/6NFIW.jpg', 'quartzite'],\n",
              " ['geological_similarity/marble/P610B.jpg', 'marbler'],\n",
              " ['geological_similarity/andesite/J49TG.jpg', 'andesite'],\n",
              " ['geological_similarity/marble/FZM45.jpg', 'marbler'],\n",
              " ['geological_similarity/schist/ZURG9.jpg', 'schist'],\n",
              " ['geological_similarity/schist/CCCST.jpg', 'schist'],\n",
              " ['geological_similarity/quartzite/XCTWC.jpg', 'quartzite'],\n",
              " ['geological_similarity/quartzite/VWBS5.jpg', 'quartzite'],\n",
              " ['geological_similarity/gneiss/I3KQY.jpg', 'gneiss'],\n",
              " ['geological_similarity/andesite/49L49.jpg', 'andesite'],\n",
              " ['geological_similarity/schist/BP81U.jpg', 'schist'],\n",
              " ['geological_similarity/gneiss/WEGTM.jpg', 'gneiss'],\n",
              " ['geological_similarity/rhyolite/KRH4X.jpg', 'rhyolite'],\n",
              " ['geological_similarity/quartzite/3CMYC.jpg', 'quartzite'],\n",
              " ['geological_similarity/quartzite/HEXVY.jpg', 'quartzite'],\n",
              " ['geological_similarity/andesite/4NAU8.jpg', 'andesite'],\n",
              " ['geological_similarity/andesite/MDS4R.jpg', 'andesite'],\n",
              " ['geological_similarity/rhyolite/9RFE7.jpg', 'rhyolite'],\n",
              " ['geological_similarity/quartzite/4LNWQ.jpg', 'quartzite'],\n",
              " ['geological_similarity/schist/JWKMG.jpg', 'schist'],\n",
              " ['geological_similarity/marble/IVXUU.jpg', 'marbler'],\n",
              " ['geological_similarity/marble/T4VNR.jpg', 'marbler'],\n",
              " ['geological_similarity/quartzite/BDPAR.jpg', 'quartzite'],\n",
              " ['geological_similarity/andesite/0SV9X.jpg', 'andesite'],\n",
              " ['geological_similarity/schist/14GUS.jpg', 'schist'],\n",
              " ['geological_similarity/schist/37WMO.jpg', 'schist'],\n",
              " ['geological_similarity/andesite/7DYK1.jpg', 'andesite'],\n",
              " ['geological_similarity/schist/KCU3E.jpg', 'schist'],\n",
              " ['geological_similarity/gneiss/OMWR5.jpg', 'gneiss'],\n",
              " ['geological_similarity/gneiss/2QSIT.jpg', 'gneiss'],\n",
              " ['geological_similarity/gneiss/KDV2W.jpg', 'gneiss'],\n",
              " ['geological_similarity/gneiss/SX03U.jpg', 'gneiss'],\n",
              " ['geological_similarity/quartzite/D25J8.jpg', 'quartzite'],\n",
              " ['geological_similarity/gneiss/KDB5N.jpg', 'gneiss'],\n",
              " ['geological_similarity/andesite/AH36U.jpg', 'andesite'],\n",
              " ['geological_similarity/gneiss/7AZB5.jpg', 'gneiss'],\n",
              " ['geological_similarity/schist/BNQ0Q.jpg', 'schist'],\n",
              " ['geological_similarity/marble/V65WP.jpg', 'marbler'],\n",
              " ['geological_similarity/marble/WDA89.jpg', 'marbler'],\n",
              " ['geological_similarity/rhyolite/JKQAY.jpg', 'rhyolite'],\n",
              " ['geological_similarity/schist/Q10TG.jpg', 'schist'],\n",
              " ['geological_similarity/quartzite/ON1OT.jpg', 'quartzite'],\n",
              " ['geological_similarity/rhyolite/QSWMO.jpg', 'rhyolite'],\n",
              " ['geological_similarity/quartzite/O4XO3.jpg', 'quartzite'],\n",
              " ['geological_similarity/andesite/WIQJQ.jpg', 'andesite'],\n",
              " ['geological_similarity/marble/0ZK3P.jpg', 'marbler'],\n",
              " ['geological_similarity/andesite/NCMT0.jpg', 'andesite'],\n",
              " ['geological_similarity/gneiss/M4IQM.jpg', 'gneiss'],\n",
              " ['geological_similarity/marble/VIM9Y.jpg', 'marbler'],\n",
              " ['geological_similarity/andesite/18HPL.jpg', 'andesite'],\n",
              " ['geological_similarity/gneiss/CLD3X.jpg', 'gneiss'],\n",
              " ['geological_similarity/quartzite/BYSCT.jpg', 'quartzite'],\n",
              " ['geological_similarity/rhyolite/CZ3BC.jpg', 'rhyolite'],\n",
              " ['geological_similarity/andesite/PN8KL.jpg', 'andesite'],\n",
              " ['geological_similarity/gneiss/UDDQ2.jpg', 'gneiss'],\n",
              " ['geological_similarity/andesite/K0QNX.jpg', 'andesite'],\n",
              " ['geological_similarity/quartzite/2GSDR.jpg', 'quartzite'],\n",
              " ['geological_similarity/schist/XWUT9.jpg', 'schist'],\n",
              " ['geological_similarity/marble/Q4N4Q.jpg', 'marbler'],\n",
              " ['geological_similarity/andesite/PH5YS.jpg', 'andesite'],\n",
              " ['geological_similarity/marble/1XV4D.jpg', 'marbler'],\n",
              " ['geological_similarity/andesite/NMY2T.jpg', 'andesite'],\n",
              " ['geological_similarity/gneiss/SU5RG.jpg', 'gneiss'],\n",
              " ['geological_similarity/quartzite/Y9L75.jpg', 'quartzite'],\n",
              " ['geological_similarity/marble/NCLI2.jpg', 'marbler'],\n",
              " ['geological_similarity/gneiss/GAR1W.jpg', 'gneiss'],\n",
              " ['geological_similarity/schist/8V6O9.jpg', 'schist'],\n",
              " ['geological_similarity/quartzite/D114U.jpg', 'quartzite'],\n",
              " ['geological_similarity/rhyolite/2NZE0.jpg', 'rhyolite'],\n",
              " ['geological_similarity/schist/AFSDC.jpg', 'schist'],\n",
              " ['geological_similarity/gneiss/XIQI2.jpg', 'gneiss'],\n",
              " ['geological_similarity/andesite/CSTMB.jpg', 'andesite'],\n",
              " ['geological_similarity/quartzite/K2BLF.jpg', 'quartzite'],\n",
              " ['geological_similarity/schist/16HKY.jpg', 'schist'],\n",
              " ['geological_similarity/andesite/MU8OK.jpg', 'andesite'],\n",
              " ['geological_similarity/andesite/N5ZRZ.jpg', 'andesite'],\n",
              " ['geological_similarity/schist/QZBRH.jpg', 'schist'],\n",
              " ['geological_similarity/marble/M9C1H.jpg', 'marbler'],\n",
              " ['geological_similarity/gneiss/HONYH.jpg', 'gneiss'],\n",
              " ['geological_similarity/marble/WBMCP.jpg', 'marbler'],\n",
              " ['geological_similarity/quartzite/Q0ZDQ.jpg', 'quartzite'],\n",
              " ['geological_similarity/andesite/WI4Y7.jpg', 'andesite'],\n",
              " ['geological_similarity/gneiss/HZ1WR.jpg', 'gneiss'],\n",
              " ['geological_similarity/quartzite/8ASK1.jpg', 'quartzite'],\n",
              " ['geological_similarity/marble/FH4I0.jpg', 'marbler'],\n",
              " ['geological_similarity/quartzite/W1RY3.jpg', 'quartzite'],\n",
              " ['geological_similarity/gneiss/2B6TC.jpg', 'gneiss'],\n",
              " ['geological_similarity/schist/K3DXH.jpg', 'schist'],\n",
              " ['geological_similarity/schist/WYYYT.jpg', 'schist'],\n",
              " ['geological_similarity/andesite/KTMAC.jpg', 'andesite'],\n",
              " ['geological_similarity/marble/LLBP8.jpg', 'marbler'],\n",
              " ['geological_similarity/schist/EL3IY.jpg', 'schist'],\n",
              " ['geological_similarity/andesite/TQCEX.jpg', 'andesite'],\n",
              " ['geological_similarity/quartzite/O6RJM.jpg', 'quartzite'],\n",
              " ['geological_similarity/quartzite/NTG4C.jpg', 'quartzite'],\n",
              " ['geological_similarity/schist/VNA3Y.jpg', 'schist'],\n",
              " ['geological_similarity/gneiss/T87F4.jpg', 'gneiss'],\n",
              " ['geological_similarity/schist/N3EPM.jpg', 'schist'],\n",
              " ['geological_similarity/schist/IQ4ZD.jpg', 'schist'],\n",
              " ['geological_similarity/marble/MC15K.jpg', 'marbler'],\n",
              " ['geological_similarity/gneiss/LD1BS.jpg', 'gneiss'],\n",
              " ['geological_similarity/gneiss/FZUAI.jpg', 'gneiss'],\n",
              " ['geological_similarity/schist/GJTEF.jpg', 'schist'],\n",
              " ['geological_similarity/schist/4F3WS.jpg', 'schist'],\n",
              " ['geological_similarity/quartzite/L6EGQ.jpg', 'quartzite'],\n",
              " ['geological_similarity/quartzite/56JEP.jpg', 'quartzite'],\n",
              " ['geological_similarity/rhyolite/2SMAW.jpg', 'rhyolite'],\n",
              " ['geological_similarity/marble/MUP2L.jpg', 'marbler'],\n",
              " ['geological_similarity/quartzite/YYKOH.jpg', 'quartzite'],\n",
              " ['geological_similarity/andesite/96F1R.jpg', 'andesite'],\n",
              " ['geological_similarity/gneiss/38D50.jpg', 'gneiss'],\n",
              " ['geological_similarity/quartzite/9OPXR.jpg', 'quartzite'],\n",
              " ['geological_similarity/quartzite/EO64W.jpg', 'quartzite'],\n",
              " ['geological_similarity/schist/H3BLX.jpg', 'schist'],\n",
              " ['geological_similarity/andesite/9S7L3.jpg', 'andesite'],\n",
              " ['geological_similarity/gneiss/DYP27.jpg', 'gneiss'],\n",
              " ['geological_similarity/rhyolite/TY0AF.jpg', 'rhyolite'],\n",
              " ['geological_similarity/marble/XGCHY.jpg', 'marbler'],\n",
              " ['geological_similarity/quartzite/Z4ZP4.jpg', 'quartzite'],\n",
              " ['geological_similarity/schist/1GREZ.jpg', 'schist'],\n",
              " ['geological_similarity/gneiss/BXQAB.jpg', 'gneiss'],\n",
              " ['geological_similarity/quartzite/BQ8AJ.jpg', 'quartzite'],\n",
              " ['geological_similarity/marble/SJJF5.jpg', 'marbler'],\n",
              " ['geological_similarity/quartzite/HLJ2L.jpg', 'quartzite'],\n",
              " ['geological_similarity/quartzite/GH798.jpg', 'quartzite'],\n",
              " ['geological_similarity/schist/RZ2T8.jpg', 'schist'],\n",
              " ['geological_similarity/schist/3S4E5.jpg', 'schist'],\n",
              " ['geological_similarity/schist/GTG7E.jpg', 'schist'],\n",
              " ['geological_similarity/andesite/WWEVA.jpg', 'andesite'],\n",
              " ['geological_similarity/andesite/T3BPG.jpg', 'andesite'],\n",
              " ['geological_similarity/andesite/7C8B3.jpg', 'andesite'],\n",
              " ['geological_similarity/andesite/KASX4.jpg', 'andesite'],\n",
              " ['geological_similarity/gneiss/8Z3W4.jpg', 'gneiss'],\n",
              " ['geological_similarity/andesite/MII1Y.jpg', 'andesite'],\n",
              " ['geological_similarity/rhyolite/0UQLC.jpg', 'rhyolite'],\n",
              " ['geological_similarity/marble/0RJBM.jpg', 'marbler'],\n",
              " ['geological_similarity/marble/ZRYDB.jpg', 'marbler'],\n",
              " ['geological_similarity/schist/QRQ1P.jpg', 'schist'],\n",
              " ['geological_similarity/quartzite/9FL8O.jpg', 'quartzite'],\n",
              " ['geological_similarity/gneiss/GBXSD.jpg', 'gneiss'],\n",
              " ['geological_similarity/rhyolite/RL977.jpg', 'rhyolite'],\n",
              " ['geological_similarity/schist/0963A.jpg', 'schist'],\n",
              " ['geological_similarity/quartzite/NUMVQ.jpg', 'quartzite'],\n",
              " ['geological_similarity/schist/OQ5C1.jpg', 'schist'],\n",
              " ['geological_similarity/rhyolite/R4ZKS.jpg', 'rhyolite'],\n",
              " ['geological_similarity/schist/PMGEY.jpg', 'schist'],\n",
              " ['geological_similarity/andesite/Y46KZ.jpg', 'andesite'],\n",
              " ['geological_similarity/gneiss/59MBT.jpg', 'gneiss'],\n",
              " ['geological_similarity/rhyolite/2I6W8.jpg', 'rhyolite'],\n",
              " ['geological_similarity/rhyolite/J44IL.jpg', 'rhyolite'],\n",
              " ['geological_similarity/quartzite/D0K9X.jpg', 'quartzite'],\n",
              " ['geological_similarity/rhyolite/GFM36.jpg', 'rhyolite'],\n",
              " ['geological_similarity/andesite/HZC9H.jpg', 'andesite'],\n",
              " ['geological_similarity/rhyolite/VGDVL.jpg', 'rhyolite'],\n",
              " ['geological_similarity/andesite/L4S4W.jpg', 'andesite'],\n",
              " ['geological_similarity/quartzite/D0H3W.jpg', 'quartzite'],\n",
              " ['geological_similarity/andesite/HWLHT.jpg', 'andesite'],\n",
              " ['geological_similarity/rhyolite/O4MQQ.jpg', 'rhyolite'],\n",
              " ['geological_similarity/gneiss/ZO68R.jpg', 'gneiss'],\n",
              " ['geological_similarity/schist/48SYY.jpg', 'schist'],\n",
              " ['geological_similarity/quartzite/XKOKI.jpg', 'quartzite'],\n",
              " ['geological_similarity/schist/K9QEO.jpg', 'schist'],\n",
              " ['geological_similarity/schist/LEWEA.jpg', 'schist'],\n",
              " ['geological_similarity/schist/CDUH9.jpg', 'schist'],\n",
              " ['geological_similarity/marble/QLRQM.jpg', 'marbler'],\n",
              " ['geological_similarity/quartzite/6R8M6.jpg', 'quartzite'],\n",
              " ['geological_similarity/schist/Z4EJO.jpg', 'schist'],\n",
              " ['geological_similarity/marble/4DIJY.jpg', 'marbler'],\n",
              " ['geological_similarity/gneiss/B0712.jpg', 'gneiss'],\n",
              " ['geological_similarity/gneiss/L3QO5.jpg', 'gneiss'],\n",
              " ['geological_similarity/gneiss/0KMCE.jpg', 'gneiss'],\n",
              " ['geological_similarity/rhyolite/EG82V.jpg', 'rhyolite'],\n",
              " ['geological_similarity/andesite/PU1HY.jpg', 'andesite'],\n",
              " ['geological_similarity/andesite/WT3E7.jpg', 'andesite'],\n",
              " ['geological_similarity/andesite/WZ2NJ.jpg', 'andesite'],\n",
              " ['geological_similarity/andesite/8P5TD.jpg', 'andesite'],\n",
              " ['geological_similarity/schist/DBRO4.jpg', 'schist'],\n",
              " ['geological_similarity/gneiss/Q7MWF.jpg', 'gneiss'],\n",
              " ['geological_similarity/rhyolite/5227B.jpg', 'rhyolite'],\n",
              " ['geological_similarity/andesite/C861B.jpg', 'andesite'],\n",
              " ['geological_similarity/gneiss/PGXIO.jpg', 'gneiss'],\n",
              " ['geological_similarity/quartzite/05M1L.jpg', 'quartzite'],\n",
              " ['geological_similarity/quartzite/VENRV.jpg', 'quartzite'],\n",
              " ['geological_similarity/rhyolite/083LJ.jpg', 'rhyolite'],\n",
              " ['geological_similarity/andesite/LEJR4.jpg', 'andesite'],\n",
              " ['geological_similarity/marble/KPK5D.jpg', 'marbler'],\n",
              " ['geological_similarity/andesite/VCYAF.jpg', 'andesite'],\n",
              " ['geological_similarity/marble/YIVRQ.jpg', 'marbler'],\n",
              " ['geological_similarity/schist/YQ65D.jpg', 'schist'],\n",
              " ['geological_similarity/marble/WKSLA.jpg', 'marbler'],\n",
              " ['geological_similarity/marble/MYBGV.jpg', 'marbler'],\n",
              " ['geological_similarity/rhyolite/VB1ER.jpg', 'rhyolite'],\n",
              " ['geological_similarity/schist/2WE10.jpg', 'schist'],\n",
              " ['geological_similarity/rhyolite/2ATII.jpg', 'rhyolite'],\n",
              " ['geological_similarity/quartzite/5WEAR.jpg', 'quartzite'],\n",
              " ['geological_similarity/quartzite/J8P19.jpg', 'quartzite'],\n",
              " ['geological_similarity/andesite/P226I.jpg', 'andesite'],\n",
              " ['geological_similarity/rhyolite/QRRVW.jpg', 'rhyolite'],\n",
              " ['geological_similarity/schist/1Y05I.jpg', 'schist'],\n",
              " ['geological_similarity/andesite/AIPL5.jpg', 'andesite'],\n",
              " ['geological_similarity/schist/D8SPG.jpg', 'schist'],\n",
              " ['geological_similarity/andesite/KP8TA.jpg', 'andesite'],\n",
              " ['geological_similarity/quartzite/EJOLP.jpg', 'quartzite'],\n",
              " ['geological_similarity/schist/7PVSW.jpg', 'schist'],\n",
              " ['geological_similarity/gneiss/HSY8X.jpg', 'gneiss'],\n",
              " ['geological_similarity/schist/Q1YS6.jpg', 'schist'],\n",
              " ['geological_similarity/schist/W9LM5.jpg', 'schist'],\n",
              " ['geological_similarity/rhyolite/0EP7N.jpg', 'rhyolite'],\n",
              " ['geological_similarity/marble/XJNNG.jpg', 'marbler'],\n",
              " ['geological_similarity/rhyolite/PM02N.jpg', 'rhyolite'],\n",
              " ['geological_similarity/rhyolite/I7WFQ.jpg', 'rhyolite'],\n",
              " ['geological_similarity/marble/33QKC.jpg', 'marbler'],\n",
              " ['geological_similarity/andesite/Y681A.jpg', 'andesite'],\n",
              " ['geological_similarity/marble/FEQAC.jpg', 'marbler'],\n",
              " ['geological_similarity/schist/VS28M.jpg', 'schist'],\n",
              " ['geological_similarity/andesite/OA1NM.jpg', 'andesite'],\n",
              " ['geological_similarity/schist/UQP2N.jpg', 'schist'],\n",
              " ['geological_similarity/andesite/P9FLY.jpg', 'andesite'],\n",
              " ['geological_similarity/quartzite/EDEYB.jpg', 'quartzite'],\n",
              " ['geological_similarity/schist/15WRK.jpg', 'schist'],\n",
              " ['geological_similarity/gneiss/Z5824.jpg', 'gneiss'],\n",
              " ['geological_similarity/marble/44368.jpg', 'marbler'],\n",
              " ['geological_similarity/rhyolite/7CSGS.jpg', 'rhyolite'],\n",
              " ['geological_similarity/quartzite/I004Q.jpg', 'quartzite'],\n",
              " ['geological_similarity/rhyolite/RVA0M.jpg', 'rhyolite'],\n",
              " ['geological_similarity/schist/FFOL3.jpg', 'schist'],\n",
              " ['geological_similarity/quartzite/HSX0I.jpg', 'quartzite'],\n",
              " ['geological_similarity/quartzite/W3U58.jpg', 'quartzite'],\n",
              " ['geological_similarity/gneiss/646Y1.jpg', 'gneiss'],\n",
              " ['geological_similarity/andesite/UYHRN.jpg', 'andesite'],\n",
              " ['geological_similarity/rhyolite/Y9L97.jpg', 'rhyolite'],\n",
              " ['geological_similarity/rhyolite/JIP4S.jpg', 'rhyolite'],\n",
              " ['geological_similarity/gneiss/NEI7P.jpg', 'gneiss'],\n",
              " ['geological_similarity/quartzite/0OSE0.jpg', 'quartzite'],\n",
              " ['geological_similarity/gneiss/KVK8P.jpg', 'gneiss'],\n",
              " ['geological_similarity/andesite/476DO.jpg', 'andesite'],\n",
              " ['geological_similarity/rhyolite/F5XWL.jpg', 'rhyolite'],\n",
              " ['geological_similarity/quartzite/NWEQR.jpg', 'quartzite'],\n",
              " ['geological_similarity/gneiss/H1U6T.jpg', 'gneiss'],\n",
              " ['geological_similarity/marble/GE03K.jpg', 'marbler'],\n",
              " ['geological_similarity/schist/H6OYC.jpg', 'schist'],\n",
              " ['geological_similarity/rhyolite/IHQCF.jpg', 'rhyolite'],\n",
              " ['geological_similarity/marble/QLLD2.jpg', 'marbler'],\n",
              " ['geological_similarity/rhyolite/J3ZRI.jpg', 'rhyolite'],\n",
              " ['geological_similarity/gneiss/NZI12.jpg', 'gneiss'],\n",
              " ['geological_similarity/gneiss/FHATY.jpg', 'gneiss'],\n",
              " ['geological_similarity/schist/YTAI7.jpg', 'schist'],\n",
              " ['geological_similarity/marble/6OKQL.jpg', 'marbler'],\n",
              " ['geological_similarity/rhyolite/AOAMW.jpg', 'rhyolite'],\n",
              " ['geological_similarity/rhyolite/F5ZSD.jpg', 'rhyolite'],\n",
              " ['geological_similarity/gneiss/ZB8DB.jpg', 'gneiss'],\n",
              " ['geological_similarity/andesite/I1DY8.jpg', 'andesite'],\n",
              " ['geological_similarity/schist/WCOVV.jpg', 'schist'],\n",
              " ['geological_similarity/rhyolite/K4687.jpg', 'rhyolite'],\n",
              " ['geological_similarity/andesite/9G1C3.jpg', 'andesite'],\n",
              " ['geological_similarity/quartzite/EFU6Y.jpg', 'quartzite'],\n",
              " ['geological_similarity/marble/UOJO3.jpg', 'marbler'],\n",
              " ['geological_similarity/schist/DK0RI.jpg', 'schist'],\n",
              " ['geological_similarity/quartzite/CSLD3.jpg', 'quartzite'],\n",
              " ['geological_similarity/gneiss/KMUJ7.jpg', 'gneiss'],\n",
              " ['geological_similarity/marble/NLOTQ.jpg', 'marbler'],\n",
              " ['geological_similarity/gneiss/UCQDG.jpg', 'gneiss'],\n",
              " ['geological_similarity/schist/SI6A2.jpg', 'schist'],\n",
              " ['geological_similarity/quartzite/X3UVE.jpg', 'quartzite'],\n",
              " ['geological_similarity/schist/3NC0W.jpg', 'schist'],\n",
              " ['geological_similarity/rhyolite/SCVVY.jpg', 'rhyolite'],\n",
              " ['geological_similarity/schist/YM0LI.jpg', 'schist'],\n",
              " ['geological_similarity/rhyolite/9054B.jpg', 'rhyolite'],\n",
              " ['geological_similarity/schist/THG6M.jpg', 'schist'],\n",
              " ['geological_similarity/quartzite/G1D33.jpg', 'quartzite'],\n",
              " ['geological_similarity/marble/BTKGZ.jpg', 'marbler'],\n",
              " ['geological_similarity/schist/0YZ1K.jpg', 'schist'],\n",
              " ['geological_similarity/andesite/S9X8P.jpg', 'andesite'],\n",
              " ['geological_similarity/gneiss/1QL4U.jpg', 'gneiss'],\n",
              " ['geological_similarity/gneiss/2N4LN.jpg', 'gneiss'],\n",
              " ['geological_similarity/gneiss/OX6UV.jpg', 'gneiss'],\n",
              " ['geological_similarity/marble/HDC61.jpg', 'marbler'],\n",
              " ['geological_similarity/rhyolite/5KGXY.jpg', 'rhyolite'],\n",
              " ['geological_similarity/quartzite/H8PN1.jpg', 'quartzite'],\n",
              " ['geological_similarity/schist/P0PQC.jpg', 'schist'],\n",
              " ['geological_similarity/andesite/DE6V7.jpg', 'andesite'],\n",
              " ['geological_similarity/marble/D07IZ.jpg', 'marbler'],\n",
              " ['geological_similarity/quartzite/OAH95.jpg', 'quartzite'],\n",
              " ['geological_similarity/andesite/HERSK.jpg', 'andesite'],\n",
              " ['geological_similarity/rhyolite/PA3LS.jpg', 'rhyolite'],\n",
              " ['geological_similarity/marble/PUWD4.jpg', 'marbler'],\n",
              " ['geological_similarity/marble/3DNJ2.jpg', 'marbler'],\n",
              " ['geological_similarity/rhyolite/A1Z67.jpg', 'rhyolite'],\n",
              " ['geological_similarity/marble/2PWLX.jpg', 'marbler'],\n",
              " ['geological_similarity/andesite/NUBI9.jpg', 'andesite'],\n",
              " ['geological_similarity/andesite/B1I4W.jpg', 'andesite'],\n",
              " ['geological_similarity/gneiss/FG4CE.jpg', 'gneiss'],\n",
              " ['geological_similarity/andesite/ZUK0N.jpg', 'andesite'],\n",
              " ['geological_similarity/quartzite/X9E5X.jpg', 'quartzite'],\n",
              " ['geological_similarity/quartzite/A0N6F.jpg', 'quartzite'],\n",
              " ['geological_similarity/andesite/S48TA.jpg', 'andesite'],\n",
              " ['geological_similarity/quartzite/EPTY2.jpg', 'quartzite'],\n",
              " ['geological_similarity/quartzite/9187T.jpg', 'quartzite'],\n",
              " ['geological_similarity/marble/MH8RS.jpg', 'marbler'],\n",
              " ['geological_similarity/marble/MWTU9.jpg', 'marbler'],\n",
              " ['geological_similarity/marble/HFL5Z.jpg', 'marbler'],\n",
              " ['geological_similarity/gneiss/ZBTU7.jpg', 'gneiss'],\n",
              " ['geological_similarity/schist/P9N30.jpg', 'schist'],\n",
              " ['geological_similarity/andesite/RMHMI.jpg', 'andesite'],\n",
              " ['geological_similarity/marble/PQGEL.jpg', 'marbler'],\n",
              " ['geological_similarity/gneiss/XE5LY.jpg', 'gneiss'],\n",
              " ['geological_similarity/quartzite/Q4XF1.jpg', 'quartzite'],\n",
              " ['geological_similarity/marble/6GP3B.jpg', 'marbler'],\n",
              " ['geological_similarity/quartzite/48Z30.jpg', 'quartzite'],\n",
              " ['geological_similarity/andesite/E4QB4.jpg', 'andesite'],\n",
              " ['geological_similarity/marble/BMF28.jpg', 'marbler'],\n",
              " ['geological_similarity/andesite/SP0ZC.jpg', 'andesite'],\n",
              " ['geological_similarity/quartzite/56MSX.jpg', 'quartzite'],\n",
              " ['geological_similarity/quartzite/KN7AA.jpg', 'quartzite'],\n",
              " ['geological_similarity/gneiss/VL9WN.jpg', 'gneiss'],\n",
              " ['geological_similarity/rhyolite/K5TKH.jpg', 'rhyolite'],\n",
              " ['geological_similarity/andesite/40PY4.jpg', 'andesite'],\n",
              " ['geological_similarity/marble/TAGGJ.jpg', 'marbler'],\n",
              " ['geological_similarity/rhyolite/0RO6A.jpg', 'rhyolite'],\n",
              " ['geological_similarity/quartzite/AV8II.jpg', 'quartzite'],\n",
              " ['geological_similarity/quartzite/4ALKW.jpg', 'quartzite'],\n",
              " ['geological_similarity/marble/PI9Z2.jpg', 'marbler'],\n",
              " ['geological_similarity/marble/8K25K.jpg', 'marbler'],\n",
              " ['geological_similarity/gneiss/TY8QA.jpg', 'gneiss'],\n",
              " ['geological_similarity/andesite/UJGDE.jpg', 'andesite'],\n",
              " ['geological_similarity/gneiss/6P02F.jpg', 'gneiss'],\n",
              " ['geological_similarity/schist/SDGNT.jpg', 'schist'],\n",
              " ['geological_similarity/marble/3AZ3H.jpg', 'marbler'],\n",
              " ['geological_similarity/quartzite/R9VNX.jpg', 'quartzite'],\n",
              " ['geological_similarity/rhyolite/JD8IC.jpg', 'rhyolite'],\n",
              " ['geological_similarity/quartzite/SSH63.jpg', 'quartzite'],\n",
              " ['geological_similarity/quartzite/A6FIG.jpg', 'quartzite'],\n",
              " ['geological_similarity/rhyolite/WVGRX.jpg', 'rhyolite'],\n",
              " ['geological_similarity/rhyolite/IB4E3.jpg', 'rhyolite'],\n",
              " ['geological_similarity/rhyolite/T9VK3.jpg', 'rhyolite'],\n",
              " ['geological_similarity/marble/R2AZ4.jpg', 'marbler'],\n",
              " ['geological_similarity/marble/8J011.jpg', 'marbler'],\n",
              " ['geological_similarity/rhyolite/AAYHE.jpg', 'rhyolite'],\n",
              " ['geological_similarity/quartzite/ASEV3.jpg', 'quartzite'],\n",
              " ['geological_similarity/quartzite/J4Q9M.jpg', 'quartzite'],\n",
              " ['geological_similarity/marble/NDET2.jpg', 'marbler'],\n",
              " ['geological_similarity/rhyolite/J9U8J.jpg', 'rhyolite'],\n",
              " ['geological_similarity/marble/CNL5V.jpg', 'marbler'],\n",
              " ['geological_similarity/quartzite/M3M2F.jpg', 'quartzite'],\n",
              " ['geological_similarity/gneiss/Y6R2H.jpg', 'gneiss'],\n",
              " ['geological_similarity/gneiss/21FUF.jpg', 'gneiss'],\n",
              " ['geological_similarity/quartzite/O6T1S.jpg', 'quartzite'],\n",
              " ['geological_similarity/rhyolite/2UL1O.jpg', 'rhyolite'],\n",
              " ['geological_similarity/gneiss/XM3Z1.jpg', 'gneiss'],\n",
              " ['geological_similarity/andesite/LR52D.jpg', 'andesite'],\n",
              " ['geological_similarity/andesite/MGRIP.jpg', 'andesite'],\n",
              " ['geological_similarity/gneiss/2V1LV.jpg', 'gneiss'],\n",
              " ['geological_similarity/rhyolite/KTBP0.jpg', 'rhyolite'],\n",
              " ['geological_similarity/schist/ON35C.jpg', 'schist'],\n",
              " ['geological_similarity/marble/AK9HQ.jpg', 'marbler'],\n",
              " ['geological_similarity/quartzite/L8D1R.jpg', 'quartzite'],\n",
              " ['geological_similarity/rhyolite/8KA7W.jpg', 'rhyolite'],\n",
              " ['geological_similarity/schist/KWFDH.jpg', 'schist'],\n",
              " ['geological_similarity/andesite/AI95M.jpg', 'andesite'],\n",
              " ['geological_similarity/gneiss/UWJ2L.jpg', 'gneiss'],\n",
              " ['geological_similarity/quartzite/CZZY8.jpg', 'quartzite'],\n",
              " ['geological_similarity/marble/GX789.jpg', 'marbler'],\n",
              " ['geological_similarity/gneiss/0KIXZ.jpg', 'gneiss'],\n",
              " ['geological_similarity/quartzite/5NZ3A.jpg', 'quartzite'],\n",
              " ['geological_similarity/quartzite/ST6PE.jpg', 'quartzite'],\n",
              " ['geological_similarity/quartzite/KHUD0.jpg', 'quartzite'],\n",
              " ['geological_similarity/schist/SMJ7H.jpg', 'schist'],\n",
              " ['geological_similarity/marble/V53CH.jpg', 'marbler'],\n",
              " ['geological_similarity/gneiss/ETRHS.jpg', 'gneiss'],\n",
              " ['geological_similarity/schist/NUOER.jpg', 'schist'],\n",
              " ['geological_similarity/andesite/6THSO.jpg', 'andesite'],\n",
              " ...]"
            ]
          },
          "metadata": {},
          "execution_count": 13
        }
      ]
    },
    {
      "cell_type": "code",
      "metadata": {
        "colab": {
          "base_uri": "https://localhost:8080/",
          "height": 417
        },
        "id": "JxH49usnlTiU",
        "outputId": "4afefb6e-29ac-42a5-fa21-c6003dfeba41"
      },
      "source": [
        "data_df = pd.DataFrame(df,columns=['path','label'])\n",
        "data_df"
      ],
      "execution_count": 14,
      "outputs": [
        {
          "output_type": "execute_result",
          "data": {
            "text/html": [
              "<div>\n",
              "<style scoped>\n",
              "    .dataframe tbody tr th:only-of-type {\n",
              "        vertical-align: middle;\n",
              "    }\n",
              "\n",
              "    .dataframe tbody tr th {\n",
              "        vertical-align: top;\n",
              "    }\n",
              "\n",
              "    .dataframe thead th {\n",
              "        text-align: right;\n",
              "    }\n",
              "</style>\n",
              "<table border=\"1\" class=\"dataframe\">\n",
              "  <thead>\n",
              "    <tr style=\"text-align: right;\">\n",
              "      <th></th>\n",
              "      <th>path</th>\n",
              "      <th>label</th>\n",
              "    </tr>\n",
              "  </thead>\n",
              "  <tbody>\n",
              "    <tr>\n",
              "      <th>0</th>\n",
              "      <td>geological_similarity/quartzite/6S1ZB.jpg</td>\n",
              "      <td>quartzite</td>\n",
              "    </tr>\n",
              "    <tr>\n",
              "      <th>1</th>\n",
              "      <td>geological_similarity/andesite/6Y4AQ.jpg</td>\n",
              "      <td>andesite</td>\n",
              "    </tr>\n",
              "    <tr>\n",
              "      <th>2</th>\n",
              "      <td>geological_similarity/rhyolite/FLGWL.jpg</td>\n",
              "      <td>rhyolite</td>\n",
              "    </tr>\n",
              "    <tr>\n",
              "      <th>3</th>\n",
              "      <td>geological_similarity/rhyolite/VY06V.jpg</td>\n",
              "      <td>rhyolite</td>\n",
              "    </tr>\n",
              "    <tr>\n",
              "      <th>4</th>\n",
              "      <td>geological_similarity/schist/GBWT0.jpg</td>\n",
              "      <td>schist</td>\n",
              "    </tr>\n",
              "    <tr>\n",
              "      <th>...</th>\n",
              "      <td>...</td>\n",
              "      <td>...</td>\n",
              "    </tr>\n",
              "    <tr>\n",
              "      <th>29993</th>\n",
              "      <td>geological_similarity/quartzite/NI7LB.jpg</td>\n",
              "      <td>quartzite</td>\n",
              "    </tr>\n",
              "    <tr>\n",
              "      <th>29994</th>\n",
              "      <td>geological_similarity/quartzite/NHGE8.jpg</td>\n",
              "      <td>quartzite</td>\n",
              "    </tr>\n",
              "    <tr>\n",
              "      <th>29995</th>\n",
              "      <td>geological_similarity/andesite/G6SE8.jpg</td>\n",
              "      <td>andesite</td>\n",
              "    </tr>\n",
              "    <tr>\n",
              "      <th>29996</th>\n",
              "      <td>geological_similarity/quartzite/38GGV.jpg</td>\n",
              "      <td>quartzite</td>\n",
              "    </tr>\n",
              "    <tr>\n",
              "      <th>29997</th>\n",
              "      <td>geological_similarity/schist/32ZSZ.jpg</td>\n",
              "      <td>schist</td>\n",
              "    </tr>\n",
              "  </tbody>\n",
              "</table>\n",
              "<p>29998 rows × 2 columns</p>\n",
              "</div>"
            ],
            "text/plain": [
              "                                            path      label\n",
              "0      geological_similarity/quartzite/6S1ZB.jpg  quartzite\n",
              "1       geological_similarity/andesite/6Y4AQ.jpg   andesite\n",
              "2       geological_similarity/rhyolite/FLGWL.jpg   rhyolite\n",
              "3       geological_similarity/rhyolite/VY06V.jpg   rhyolite\n",
              "4         geological_similarity/schist/GBWT0.jpg     schist\n",
              "...                                          ...        ...\n",
              "29993  geological_similarity/quartzite/NI7LB.jpg  quartzite\n",
              "29994  geological_similarity/quartzite/NHGE8.jpg  quartzite\n",
              "29995   geological_similarity/andesite/G6SE8.jpg   andesite\n",
              "29996  geological_similarity/quartzite/38GGV.jpg  quartzite\n",
              "29997     geological_similarity/schist/32ZSZ.jpg     schist\n",
              "\n",
              "[29998 rows x 2 columns]"
            ]
          },
          "metadata": {},
          "execution_count": 14
        }
      ]
    },
    {
      "cell_type": "code",
      "metadata": {
        "colab": {
          "base_uri": "https://localhost:8080/"
        },
        "id": "qhAVtAK8zQPd",
        "outputId": "48c1b2ae-b4db-406f-8940-034b163a2ca9"
      },
      "source": [
        "data_df.dtypes"
      ],
      "execution_count": 15,
      "outputs": [
        {
          "output_type": "execute_result",
          "data": {
            "text/plain": [
              "path     object\n",
              "label    object\n",
              "dtype: object"
            ]
          },
          "metadata": {},
          "execution_count": 15
        }
      ]
    },
    {
      "cell_type": "markdown",
      "metadata": {
        "id": "XlUbajOTxHKl"
      },
      "source": [
        "# **Limpeza de dados**\n",
        "1 - Analisando os dados ausentes\n",
        "2 - Descartando os dados ausentes\n",
        "3 - Imputando dados\n",
        "4 - Acrescentando colunas informativas"
      ]
    },
    {
      "cell_type": "code",
      "metadata": {
        "colab": {
          "base_uri": "https://localhost:8080/",
          "height": 521
        },
        "id": "ybydrHWUvlbY",
        "outputId": "d05b5a28-5f81-43c2-ad93-f18961676705"
      },
      "source": [
        "import missingno as msno\n",
        "ax = msno.matrix(data_df.sample(400))"
      ],
      "execution_count": 16,
      "outputs": [
        {
          "output_type": "display_data",
          "data": {
            "image/png": "[encoded data removed]",
            "text/plain": [
              "<Figure size 1800x720 with 2 Axes>"
            ]
          },
          "metadata": {
            "needs_background": "light"
          }
        }
      ]
    },
    {
      "cell_type": "code",
      "metadata": {
        "id": "9cVvBcwVxq9s"
      },
      "source": [
        "#! pip install pandas-profiling==2.8.0\n",
        "#from pandas_profiling import ProfileReport\n",
        "#ProfileReport (data_df)"
      ],
      "execution_count": 18,
      "outputs": []
    },
    {
      "cell_type": "markdown",
      "metadata": {
        "id": "aPsSnX6j0Ec-"
      },
      "source": [
        "# **Separação das amostras**"
      ]
    },
    {
      "cell_type": "code",
      "metadata": {
        "id": "GivnwDIGUrFW"
      },
      "source": [
        "X = data_df.drop(columns='label')\n",
        "y = data_df.path"
      ],
      "execution_count": 17,
      "outputs": []
    },
    {
      "cell_type": "code",
      "metadata": {
        "id": "uh3XBhM9pqJz"
      },
      "source": [
        "X_train,X_test,y_train,y_test=train_test_split(X,y,test_size=0.2,random_state=44)"
      ],
      "execution_count": 18,
      "outputs": []
    },
    {
      "cell_type": "markdown",
      "metadata": {
        "id": "uAXxm12yUwsI"
      },
      "source": [
        "# **Explorando os dados**"
      ]
    },
    {
      "cell_type": "code",
      "metadata": {
        "colab": {
          "base_uri": "https://localhost:8080/"
        },
        "id": "RIeT3Ji_UxQO",
        "outputId": "6d22997b-da33-4feb-e15b-5fb9352708c2"
      },
      "source": [
        "print(X_train.shape)\n",
        "print(X_test.shape)\n",
        "print(y_train.shape)\n",
        "print(y_test.shape)"
      ],
      "execution_count": 19,
      "outputs": [
        {
          "output_type": "stream",
          "name": "stdout",
          "text": [
            "(23998, 1)\n",
            "(6000, 1)\n",
            "(23998,)\n",
            "(6000,)\n"
          ]
        }
      ]
    },
    {
      "cell_type": "code",
      "metadata": {
        "id": "Xry02gl1VD3g"
      },
      "source": [
        "#fig, ax = plt.subplots(figsize=(6,4))\n",
        "#X.plot(kind=\"hist\",ax=ax)"
      ],
      "execution_count": null,
      "outputs": []
    },
    {
      "cell_type": "markdown",
      "metadata": {
        "id": "-AAuWUVf6ocm"
      },
      "source": [
        "# **Data Argumentation**"
      ]
    },
    {
      "cell_type": "markdown",
      "metadata": {
        "id": "G1xbq78zfV9i"
      },
      "source": [
        "## ** Esta função irá plotar as imagens num grid de 1 a 5 colunas **"
      ]
    },
    {
      "cell_type": "code",
      "metadata": {
        "id": "hjV3pOngCtA7"
      },
      "source": [
        "def plotImages(images_arr):\n",
        "    fig, axes = plt.subplots(1, 5, figsize=(20,20))\n",
        "    axes = axes.flatten()\n",
        "    for img, ax in zip(images_arr, axes):\n",
        "        ax.imshow(img)\n",
        "    plt.tight_layout()\n",
        "    plt.show()"
      ],
      "execution_count": 28,
      "outputs": []
    },
    {
      "cell_type": "code",
      "metadata": {
        "id": "jkUru3gBfA0n"
      },
      "source": [
        "IMG_SHAPE = 28\n",
        "BATCH_SIZE = 20"
      ],
      "execution_count": 29,
      "outputs": []
    },
    {
      "cell_type": "code",
      "metadata": {
        "id": "Cw0IbS6mfdxM"
      },
      "source": [
        "datagen = ImageDataGenerator(rescale=1./255,\n",
        "                            #rotation_range = 40,\n",
        "                            #width_shift_range = 0.2,\n",
        "                            #height_shift_range = 0.2,\n",
        "                            #shear_range = 0.2,\n",
        "                            #zoom_range = 0.2,\n",
        "                            horizontal_flip = True,\n",
        "                            validation_split=0.2)"
      ],
      "execution_count": 30,
      "outputs": []
    },
    {
      "cell_type": "code",
      "metadata": {
        "colab": {
          "base_uri": "https://localhost:8080/"
        },
        "id": "fJOGqBP7fd3n",
        "outputId": "f48c4680-2261-473b-827b-5efe5c4cae43"
      },
      "source": [
        "train_generator = datagen.flow_from_dataframe(data_df,\n",
        "                                              x_col='path',\n",
        "                                              y_col='label',\n",
        "                                              images_size=(28,28),\n",
        "                                              #class_mode='binary',\n",
        "                                              subset='training')\n",
        "\n",
        "validation_generator = datagen.flow_from_dataframe(data_df,\n",
        "                                                   x_col='path',\n",
        "                                                   y_col='label',\n",
        "                                                   images_size=(28,28),\n",
        "                                                   #class_mode='binary',\n",
        "                                                   subset='validation')\n",
        "\n",
        "## Duvidas - Existe esse codigo abaixo\n",
        "\n",
        "#test_generator = datagen.flow_from_dataframe(data_df,\n",
        "                                              #x_col='path',\n",
        "                                             # y_col='label',\n",
        "                                             # images_size=(28,28)\n",
        "                                              #class_mode='binary')\n",
        "                                             # )"
      ],
      "execution_count": 31,
      "outputs": [
        {
          "output_type": "stream",
          "name": "stdout",
          "text": [
            "Found 23999 validated image filenames belonging to 6 classes.\n",
            "Found 5999 validated image filenames belonging to 6 classes.\n"
          ]
        }
      ]
    },
    {
      "cell_type": "code",
      "metadata": {
        "colab": {
          "base_uri": "https://localhost:8080/",
          "height": 250
        },
        "id": "ShN0CzElfd9R",
        "outputId": "66afad31-1ab6-44ba-f8ab-64fb84853821"
      },
      "source": [
        "augmented_images = [train_generator[0][0][0] for i in range(5)]\n",
        "plotImages(augmented_images)"
      ],
      "execution_count": 32,
      "outputs": [
        {
          "output_type": "display_data",
          "data": {
            "image/png": "[encoded data removed]",
            "text/plain": [
              "<Figure size 1440x1440 with 5 Axes>"
            ]
          },
          "metadata": {
            "needs_background": "light"
          }
        }
      ]
    },
    {
      "cell_type": "markdown",
      "metadata": {
        "id": "l1OMG-TS0Lq_"
      },
      "source": [
        "# **Imputação dos dados ???**"
      ]
    },
    {
      "cell_type": "markdown",
      "metadata": {
        "id": "JbBfQIg10RlI"
      },
      "source": [
        "# **Normalização dos dados ???**"
      ]
    },
    {
      "cell_type": "markdown",
      "metadata": {
        "id": "_3kIlBx3r01D"
      },
      "source": [
        "# **Pre Processamento dos dados**"
      ]
    },
    {
      "cell_type": "markdown",
      "metadata": {
        "id": "dXm8LYqv0_vK"
      },
      "source": [
        "# **Criar o modelo**"
      ]
    },
    {
      "cell_type": "code",
      "metadata": {
        "colab": {
          "base_uri": "https://localhost:8080/",
          "height": 229
        },
        "id": "aksvwnd_cB3m",
        "outputId": "9e473dbf-f767-4832-8c31-35798f517933"
      },
      "source": [
        "inputs = tf.keras.Input(shape=(256, 256,3))\n",
        "x = augmented_images(inputs) # como conserto e passo isso\n",
        "x = layers.experimental.preprocessing.Rescaling(1./255)(x)\n",
        "x = layers.Conv2D(filters=32, kernel_size=3, activation=\"relu\")(x)\n",
        "x = layers.MaxPooling2D(pool_size=2)(x)\n",
        "x = layers.Conv2D(filters=64, kernel_size=3, activation=\"relu\")(x)\n",
        "x = layers.MaxPooling2D(pool_size=2)(x)\n",
        "x = layers.Conv2D(filters=128, kernel_size=3, activation=\"relu\")(x)\n",
        "x = layers.MaxPooling2D(pool_size=2)(x)\n",
        "x = layers.Conv2D(filters=256, kernel_size=3, activation=\"relu\")(x)\n",
        "x = layers.MaxPooling2D(pool_size=2)(x)\n",
        "x = layers.Conv2D(filters=256, kernel_size=3, activation=\"relu\")(x)\n",
        "x = layers.Flatten()(x)\n",
        "x = layers.Dropout(0.5)(x)\n",
        "outputs = layers.Dense(3, activation=\"sigmoid\")(x)\n",
        "model = tf.keras.Model(inputs=inputs, outputs=outputs)\n"
      ],
      "execution_count": 73,
      "outputs": [
        {
          "output_type": "error",
          "ename": "TypeError",
          "evalue": "ignored",
          "traceback": [
            "\u001b[0;31m---------------------------------------------------------------------------\u001b[0m",
            "\u001b[0;31mTypeError\u001b[0m                                 Traceback (most recent call last)",
            "\u001b[0;32m<ipython-input-73-20a7bc77b3dc>\u001b[0m in \u001b[0;36m<module>\u001b[0;34m()\u001b[0m\n\u001b[1;32m      1\u001b[0m \u001b[0minputs\u001b[0m \u001b[0;34m=\u001b[0m \u001b[0mtf\u001b[0m\u001b[0;34m.\u001b[0m\u001b[0mkeras\u001b[0m\u001b[0;34m.\u001b[0m\u001b[0mInput\u001b[0m\u001b[0;34m(\u001b[0m\u001b[0mshape\u001b[0m\u001b[0;34m=\u001b[0m\u001b[0;34m(\u001b[0m\u001b[0;36m256\u001b[0m\u001b[0;34m,\u001b[0m \u001b[0;36m256\u001b[0m\u001b[0;34m,\u001b[0m\u001b[0;36m3\u001b[0m\u001b[0;34m)\u001b[0m\u001b[0;34m)\u001b[0m\u001b[0;34m\u001b[0m\u001b[0;34m\u001b[0m\u001b[0m\n\u001b[0;32m----> 2\u001b[0;31m \u001b[0mx\u001b[0m \u001b[0;34m=\u001b[0m \u001b[0maugmented_images\u001b[0m\u001b[0;34m(\u001b[0m\u001b[0minputs\u001b[0m\u001b[0;34m)\u001b[0m\u001b[0;34m\u001b[0m\u001b[0;34m\u001b[0m\u001b[0m\n\u001b[0m\u001b[1;32m      3\u001b[0m \u001b[0mx\u001b[0m \u001b[0;34m=\u001b[0m \u001b[0mlayers\u001b[0m\u001b[0;34m.\u001b[0m\u001b[0mexperimental\u001b[0m\u001b[0;34m.\u001b[0m\u001b[0mpreprocessing\u001b[0m\u001b[0;34m.\u001b[0m\u001b[0mRescaling\u001b[0m\u001b[0;34m(\u001b[0m\u001b[0;36m1.\u001b[0m\u001b[0;34m/\u001b[0m\u001b[0;36m255\u001b[0m\u001b[0;34m)\u001b[0m\u001b[0;34m(\u001b[0m\u001b[0mx\u001b[0m\u001b[0;34m)\u001b[0m\u001b[0;34m\u001b[0m\u001b[0;34m\u001b[0m\u001b[0m\n\u001b[1;32m      4\u001b[0m \u001b[0mx\u001b[0m \u001b[0;34m=\u001b[0m \u001b[0mlayers\u001b[0m\u001b[0;34m.\u001b[0m\u001b[0mConv2D\u001b[0m\u001b[0;34m(\u001b[0m\u001b[0mfilters\u001b[0m\u001b[0;34m=\u001b[0m\u001b[0;36m32\u001b[0m\u001b[0;34m,\u001b[0m \u001b[0mkernel_size\u001b[0m\u001b[0;34m=\u001b[0m\u001b[0;36m3\u001b[0m\u001b[0;34m,\u001b[0m \u001b[0mactivation\u001b[0m\u001b[0;34m=\u001b[0m\u001b[0;34m\"relu\"\u001b[0m\u001b[0;34m)\u001b[0m\u001b[0;34m(\u001b[0m\u001b[0mx\u001b[0m\u001b[0;34m)\u001b[0m\u001b[0;34m\u001b[0m\u001b[0;34m\u001b[0m\u001b[0m\n\u001b[1;32m      5\u001b[0m \u001b[0mx\u001b[0m \u001b[0;34m=\u001b[0m \u001b[0mlayers\u001b[0m\u001b[0;34m.\u001b[0m\u001b[0mMaxPooling2D\u001b[0m\u001b[0;34m(\u001b[0m\u001b[0mpool_size\u001b[0m\u001b[0;34m=\u001b[0m\u001b[0;36m2\u001b[0m\u001b[0;34m)\u001b[0m\u001b[0;34m(\u001b[0m\u001b[0mx\u001b[0m\u001b[0;34m)\u001b[0m\u001b[0;34m\u001b[0m\u001b[0;34m\u001b[0m\u001b[0m\n",
            "\u001b[0;31mTypeError\u001b[0m: 'list' object is not callable"
          ]
        }
      ]
    },
    {
      "cell_type": "code",
      "metadata": {
        "id": "ncctBTCAgG7d"
      },
      "source": [
        "model = tf.keras.models.Sequential([\n",
        "    tf.keras.layers.Conv2D(256, (3,3), activation='relu', input_shape=(256, 256, 3)),\n",
        "    tf.keras.layers.MaxPooling2D(2, 2),\n",
        "\n",
        "    tf.keras.layers.Conv2D(64, (3,3), activation='relu'),\n",
        "    tf.keras.layers.MaxPooling2D(2,2),\n",
        "\n",
        "    tf.keras.layers.Conv2D(128, (3,3), activation='relu'),\n",
        "    tf.keras.layers.MaxPooling2D(2,2),\n",
        "\n",
        "    #tf.keras.layers.Conv2D(128, (3,3), activation='relu'),\n",
        "    #tf.keras.layers.MaxPooling2D(2,2),\n",
        "\n",
        "    tf.keras.layers.Dropout(0.5),\n",
        "    tf.keras.layers.Flatten(),\n",
        "    tf.keras.layers.Dense(512, activation='relu'),\n",
        "    tf.keras.layers.Dense(6)\n",
        "])"
      ],
      "execution_count": 92,
      "outputs": []
    },
    {
      "cell_type": "markdown",
      "metadata": {
        "id": "cQvF_-VrbIhO"
      },
      "source": [
        "# **Compilando o Modelo**"
      ]
    },
    {
      "cell_type": "code",
      "metadata": {
        "id": "tseOThp5bLVl"
      },
      "source": [
        "model.compile(optimizer = Adam(learning_rate=0.0001), \n",
        "               loss = 'binary_crossentropy', \n",
        "               metrics =['accuracy'])"
      ],
      "execution_count": 93,
      "outputs": []
    },
    {
      "cell_type": "code",
      "metadata": {
        "colab": {
          "base_uri": "https://localhost:8080/"
        },
        "id": "quiMae2IbOcT",
        "outputId": "a9ec1664-09d5-468b-f0ea-47cb098144a1"
      },
      "source": [
        "model.summary()  "
      ],
      "execution_count": 94,
      "outputs": [
        {
          "output_type": "stream",
          "name": "stdout",
          "text": [
            "Model: \"sequential_7\"\n",
            "_________________________________________________________________\n",
            "Layer (type)                 Output Shape              Param #   \n",
            "=================================================================\n",
            "conv2d_69 (Conv2D)           (None, 254, 254, 256)     7168      \n",
            "_________________________________________________________________\n",
            "max_pooling2d_58 (MaxPooling (None, 127, 127, 256)     0         \n",
            "_________________________________________________________________\n",
            "conv2d_70 (Conv2D)           (None, 125, 125, 64)      147520    \n",
            "_________________________________________________________________\n",
            "max_pooling2d_59 (MaxPooling (None, 62, 62, 64)        0         \n",
            "_________________________________________________________________\n",
            "conv2d_71 (Conv2D)           (None, 60, 60, 128)       73856     \n",
            "_________________________________________________________________\n",
            "max_pooling2d_60 (MaxPooling (None, 30, 30, 128)       0         \n",
            "_________________________________________________________________\n",
            "dropout_14 (Dropout)         (None, 30, 30, 128)       0         \n",
            "_________________________________________________________________\n",
            "flatten_14 (Flatten)         (None, 115200)            0         \n",
            "_________________________________________________________________\n",
            "dense_20 (Dense)             (None, 512)               58982912  \n",
            "_________________________________________________________________\n",
            "dense_21 (Dense)             (None, 6)                 3078      \n",
            "=================================================================\n",
            "Total params: 59,214,534\n",
            "Trainable params: 59,214,534\n",
            "Non-trainable params: 0\n",
            "_________________________________________________________________\n"
          ]
        }
      ]
    },
    {
      "cell_type": "code",
      "metadata": {
        "id": "9Sr0YDZ8dCmz"
      },
      "source": [
        "callbacks_list = [\n",
        "    tf.keras.callbacks.ReduceLROnPlateau(factor=0.5,\n",
        "                                         patience=4,\n",
        "                                         verbose=0),\n",
        "    tf.keras.callbacks.EarlyStopping(\n",
        "        monitor=\"accuracy\",\n",
        "        patience=12,\n",
        "        #restore_best_weights=True,\n",
        "    ),\n",
        "    tf.keras.callbacks.ModelCheckpoint(\n",
        "        filepath='best_model.h5',\n",
        "        monitor=\"val_accuracy\",\n",
        "        save_best_only=True,\n",
        "    ),\n",
        "\n",
        "]"
      ],
      "execution_count": 95,
      "outputs": []
    },
    {
      "cell_type": "markdown",
      "metadata": {
        "id": "IhQyiWIh1HQs"
      },
      "source": [
        "# **Avaliar o modelo**"
      ]
    },
    {
      "cell_type": "code",
      "metadata": {
        "colab": {
          "base_uri": "https://localhost:8080/"
        },
        "id": "cwpnwl86dm74",
        "outputId": "9079383e-6027-4ef3-8b4e-41f682ec77a7"
      },
      "source": [
        "history = model.fit(train_generator,\n",
        "                               epochs=20,\n",
        "                               #verbose=0,\n",
        "                               callbacks=callbacks_list, \n",
        "                               #validation_split=0.2,\n",
        "                               #class_weight=class_weight_,\n",
        "                               #workers=4,\n",
        "                               #use_multiprocessing=True,\n",
        "                               validation_data=validation_generator)"
      ],
      "execution_count": null,
      "outputs": [
        {
          "output_type": "stream",
          "name": "stdout",
          "text": [
            "Epoch 1/20\n"
          ]
        }
      ]
    },
    {
      "cell_type": "markdown",
      "metadata": {
        "id": "0G-slWFQ1KwJ"
      },
      "source": [
        "# **Otimizar o modelo**"
      ]
    },
    {
      "cell_type": "code",
      "metadata": {
        "id": "SSXH7txAgG_n"
      },
      "source": [
        ""
      ],
      "execution_count": null,
      "outputs": []
    }
  ]
}