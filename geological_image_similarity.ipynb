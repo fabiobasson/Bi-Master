{
  "nbformat": 4,
  "nbformat_minor": 0,
  "metadata": {
    "colab": {
      "name": "geological-image-similarity.ipynb",
      "provenance": [],
      "authorship_tag": "ABX9TyPA85GeOT+3SQcddn/2TUnQ",
      "include_colab_link": true
    },
    "kernelspec": {
      "name": "python3",
      "display_name": "Python 3"
    },
    "language_info": {
      "name": "python"
    },
    "accelerator": "GPU"
  },
  "cells": [
    {
      "cell_type": "markdown",
      "metadata": {
        "id": "view-in-github",
        "colab_type": "text"
      },
      "source": [
        "<a href=\"https://colab.research.google.com/github/fabiobasson/Bi-Master/blob/main/geological_image_similarity.ipynb\" target=\"_parent\"><img src=\"https://colab.research.google.com/assets/colab-badge.svg\" alt=\"Open In Colab\"/></a>"
      ]
    },
    {
      "cell_type": "markdown",
      "metadata": {
        "id": "ek-dpdgUwrpq"
      },
      "source": [
        "# Importações "
      ]
    },
    {
      "cell_type": "code",
      "metadata": {
        "id": "d_JsE0wMwy5m"
      },
      "source": [
        "import os\n",
        "import tensorflow as tf\n",
        "from tensorflow.keras import layers\n",
        "from tensorflow.keras import Model\n",
        "from os import getcwd\n",
        "import zipfile\n",
        "import shutil\n",
        "import numpy as np\n",
        "import glob\n",
        "import random\n",
        "import pandas as pd\n",
        "import matplotlib.pyplot as plt\n",
        "\n",
        "\n",
        "from tensorflow.keras.optimizers import RMSprop, Adam\n",
        "from tensorflow.keras.applications.inception_v3 import InceptionV3\n",
        "from tensorflow.keras.preprocessing.image import ImageDataGenerator\n",
        "\n",
        "from sklearn.metrics import confusion_matrix,accuracy_score\n",
        "from sklearn.model_selection import train_test_split"
      ],
      "execution_count": 1,
      "outputs": []
    },
    {
      "cell_type": "code",
      "metadata": {
        "id": "qB35LCwK1F9Y"
      },
      "source": [
        "!rm -rf geological_similarity"
      ],
      "execution_count": null,
      "outputs": []
    },
    {
      "cell_type": "markdown",
      "metadata": {
        "id": "WsBJvou07fbF"
      },
      "source": [
        "# **Coleta de dados do Kaglle**"
      ]
    },
    {
      "cell_type": "code",
      "metadata": {
        "colab": {
          "resources": {
            "http://localhost:8080/nbextensions/google.colab/files.js": {
              "data": "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",
              "ok": true,
              "headers": [
                [
                  "content-type",
                  "application/javascript"
                ]
              ],
              "status": 200,
              "status_text": ""
            }
          },
          "base_uri": "https://localhost:8080/",
          "height": 90
        },
        "id": "qPW1Uceu4EkK",
        "outputId": "1373416e-a91d-47d9-e168-0a31791e718d"
      },
      "source": [
        "from google.colab import files\n",
        "files.upload()"
      ],
      "execution_count": 2,
      "outputs": [
        {
          "output_type": "display_data",
          "data": {
            "text/html": [
              "\n",
              "     <input type=\"file\" id=\"files-253d2a9e-61d9-4895-9a91-3f8e04e08737\" name=\"files[]\" multiple disabled\n",
              "        style=\"border:none\" />\n",
              "     <output id=\"result-253d2a9e-61d9-4895-9a91-3f8e04e08737\">\n",
              "      Upload widget is only available when the cell has been executed in the\n",
              "      current browser session. Please rerun this cell to enable.\n",
              "      </output>\n",
              "      <script src=\"/nbextensions/google.colab/files.js\"></script> "
            ],
            "text/plain": [
              "<IPython.core.display.HTML object>"
            ]
          },
          "metadata": {}
        },
        {
          "output_type": "stream",
          "name": "stdout",
          "text": [
            "Saving kaggle.json to kaggle.json\n"
          ]
        },
        {
          "output_type": "execute_result",
          "data": {
            "text/plain": [
              "{'kaggle.json': b'{\"username\":\"fabiobasson\",\"key\":\"d71cbfdfd23379909173204eac74cf96\"}'}"
            ]
          },
          "metadata": {},
          "execution_count": 2
        }
      ]
    },
    {
      "cell_type": "code",
      "metadata": {
        "id": "SQCTWdML4LFR"
      },
      "source": [
        "!mkdir ~/.kaggle\n",
        "!cp kaggle.json ~/.kaggle/\n",
        "!chmod 600 ~/.kaggle/kaggle.json"
      ],
      "execution_count": 3,
      "outputs": []
    },
    {
      "cell_type": "markdown",
      "metadata": {
        "id": "rte0cNVp7kgE"
      },
      "source": [
        "# **###  Download dos dados / descompactando os dados**"
      ]
    },
    {
      "cell_type": "code",
      "metadata": {
        "colab": {
          "base_uri": "https://localhost:8080/"
        },
        "id": "cPWKIkQqHfSv",
        "outputId": "6c7cb82e-c271-4e8b-bad4-6a56b2a64f47"
      },
      "source": [
        "#!kaggle datasets download tanyadayanand/geological-image-similarity\n",
        "#! unzip -qq  geological-image-similarity"
      ],
      "execution_count": null,
      "outputs": [
        {
          "output_type": "stream",
          "name": "stdout",
          "text": [
            "Downloading geological-image-similarity.zip to /content\n",
            " 80% 27.0M/33.6M [00:00<00:00, 22.8MB/s]\n",
            "100% 33.6M/33.6M [00:00<00:00, 49.2MB/s]\n"
          ]
        }
      ]
    },
    {
      "cell_type": "code",
      "metadata": {
        "colab": {
          "base_uri": "https://localhost:8080/"
        },
        "id": "GvN30SNO4L1f",
        "outputId": "b9e6dc5c-74db-40ed-b70b-f2d25c4435ca"
      },
      "source": [
        "!kaggle datasets download fabiobasson/geologicalsimilarity\n",
        "! unzip -qq  geologicalsimilarity"
      ],
      "execution_count": 5,
      "outputs": [
        {
          "output_type": "stream",
          "name": "stdout",
          "text": [
            "geologicalsimilarity.zip: Skipping, found more recently modified local copy (use --force to force download)\n"
          ]
        }
      ]
    },
    {
      "cell_type": "markdown",
      "metadata": {
        "id": "owY2uo8A7q5j"
      },
      "source": [
        "# ** Criação da estrutura e Dataframe**"
      ]
    },
    {
      "cell_type": "code",
      "metadata": {
        "colab": {
          "base_uri": "https://localhost:8080/"
        },
        "id": "QXSrUDeU4L7J",
        "outputId": "ba76a8c6-5ad3-457f-bf4c-b79bf194c433"
      },
      "source": [
        "andesite_dir = glob.glob('andesite/*.jpg');gneiss_dir = glob.glob('gneiss/*.jpg')\n",
        "marble_dir = glob.glob('marble/*.jpg');quartzite_dir = glob.glob('quartzite/*.jpg')\n",
        "rhyolite_dir = glob.glob('rhyolite/*.jpg');\n",
        "schist_dir = glob.glob('schist/*.jpg')\n",
        "print(len(andesite_dir));print(len(gneiss_dir)); print(len(marble_dir)); print(len(quartzite_dir));  print(len(quartzite_dir)); print(len(schist_dir))\n"
      ],
      "execution_count": 8,
      "outputs": [
        {
          "output_type": "stream",
          "name": "stdout",
          "text": [
            "1008\n",
            "948\n",
            "612\n",
            "864\n",
            "864\n",
            "672\n"
          ]
        }
      ]
    },
    {
      "cell_type": "code",
      "metadata": {
        "colab": {
          "base_uri": "https://localhost:8080/"
        },
        "id": "_eBw1Jk2EYm2",
        "outputId": "55fddbc9-7bd7-410d-a49b-a96cb29c1a99"
      },
      "source": [
        "andesite_dir[0:4]"
      ],
      "execution_count": 9,
      "outputs": [
        {
          "output_type": "execute_result",
          "data": {
            "text/plain": [
              "['andesite/9AA5X.jpg',\n",
              " 'andesite/5BW0Y.jpg',\n",
              " 'andesite/8FTK3.jpg',\n",
              " 'andesite/2Z9MK.jpg']"
            ]
          },
          "metadata": {},
          "execution_count": 9
        }
      ]
    },
    {
      "cell_type": "code",
      "metadata": {
        "id": "O9d3W_LswkS2",
        "colab": {
          "base_uri": "https://localhost:8080/",
          "height": 35
        },
        "outputId": "193d8b55-db2b-4dbf-8e8f-56d56e52ecb8"
      },
      "source": [
        "class_names = ['andesite', 'gneiss', 'marbler', 'quartzite', 'rhyolite','schist']\n",
        "class_names[0]"
      ],
      "execution_count": 10,
      "outputs": [
        {
          "output_type": "execute_result",
          "data": {
            "application/vnd.google.colaboratory.intrinsic+json": {
              "type": "string"
            },
            "text/plain": [
              "'andesite'"
            ]
          },
          "metadata": {},
          "execution_count": 10
        }
      ]
    },
    {
      "cell_type": "code",
      "metadata": {
        "colab": {
          "base_uri": "https://localhost:8080/"
        },
        "id": "wBhB6b6xi1xl",
        "outputId": "501701d6-24d2-497a-89a0-c64245771605"
      },
      "source": [
        "andesite_df=[];gneiss_df=[];marble_df=[]\n",
        "quartzite_df=[]\n",
        "rhyolite_df=[]\n",
        "schist_df=[]\n",
        "\n",
        "for i in andesite_dir:\n",
        "    andesite_df.append([i,class_names[0]])\n",
        "for j in gneiss_dir:\n",
        "   gneiss_df.append([j,class_names[1]])\n",
        "for l in marble_dir:\n",
        "    marble_df.append([l,class_names[2]])\n",
        "for m in quartzite_dir:\n",
        "    quartzite_df.append([m,class_names[3]])\n",
        "for n in rhyolite_dir:\n",
        "    rhyolite_df.append([n,class_names[4]])\n",
        "for o in schist_dir:\n",
        "    schist_df.append([o,class_names[5]])\n",
        "   \n",
        "df = andesite_df + gneiss_df + marble_df + quartzite_df + rhyolite_df + schist_df\n",
        "random.shuffle(df)\n",
        "df"
      ],
      "execution_count": 11,
      "outputs": [
        {
          "output_type": "execute_result",
          "data": {
            "text/plain": [
              "[['andesite/0YFIS.jpg', 'andesite'],\n",
              " ['quartzite/6NO4Z.jpg', 'quartzite'],\n",
              " ['andesite/7NSOK.jpg', 'andesite'],\n",
              " ['gneiss/2SRMK.jpg', 'gneiss'],\n",
              " ['schist/5NMXK.jpg', 'schist'],\n",
              " ['schist/3I00Z.jpg', 'schist'],\n",
              " ['gneiss/3DGLZ.jpg', 'gneiss'],\n",
              " ['schist/3DCCN.jpg', 'schist'],\n",
              " ['quartzite/6Q55E.jpg', 'quartzite'],\n",
              " ['schist/0QVQM.jpg', 'schist'],\n",
              " ['gneiss/6I8EQ.jpg', 'gneiss'],\n",
              " ['gneiss/4A8HV.jpg', 'gneiss'],\n",
              " ['quartzite/1TP3W.jpg', 'quartzite'],\n",
              " ['rhyolite/1N8HN.jpg', 'rhyolite'],\n",
              " ['gneiss/6YKCL.jpg', 'gneiss'],\n",
              " ['andesite/0DJWM.jpg', 'andesite'],\n",
              " ['rhyolite/4O75X.jpg', 'rhyolite'],\n",
              " ['marble/2JT8Y.jpg', 'marbler'],\n",
              " ['schist/6EBRN.jpg', 'schist'],\n",
              " ['schist/5QGM1.jpg', 'schist'],\n",
              " ['andesite/1VZU5.jpg', 'andesite'],\n",
              " ['quartzite/1X367.jpg', 'quartzite'],\n",
              " ['quartzite/8BGHI.jpg', 'quartzite'],\n",
              " ['rhyolite/6D8T0.jpg', 'rhyolite'],\n",
              " ['quartzite/0M3H2.jpg', 'quartzite'],\n",
              " ['quartzite/5QC7B.jpg', 'quartzite'],\n",
              " ['schist/5G3W5.jpg', 'schist'],\n",
              " ['quartzite/5PCR6.jpg', 'quartzite'],\n",
              " ['gneiss/4E4H8.jpg', 'gneiss'],\n",
              " ['andesite/7KLKO.jpg', 'andesite'],\n",
              " ['gneiss/5EJ6E.jpg', 'gneiss'],\n",
              " ['quartzite/6R8M6.jpg', 'quartzite'],\n",
              " ['quartzite/4WPEI.jpg', 'quartzite'],\n",
              " ['quartzite/2XNMJ.jpg', 'quartzite'],\n",
              " ['quartzite/5F2EN.jpg', 'quartzite'],\n",
              " ['marble/4VU65.jpg', 'marbler'],\n",
              " ['rhyolite/0HXFK.jpg', 'rhyolite'],\n",
              " ['schist/2IIB9.jpg', 'schist'],\n",
              " ['andesite/4MP7Z.jpg', 'andesite'],\n",
              " ['andesite/1C1ER.jpg', 'andesite'],\n",
              " ['andesite/4W49K.jpg', 'andesite'],\n",
              " ['quartzite/6IYP5.jpg', 'quartzite'],\n",
              " ['schist/6P5JS.jpg', 'schist'],\n",
              " ['gneiss/1QL4U.jpg', 'gneiss'],\n",
              " ['marble/0JRN3.jpg', 'marbler'],\n",
              " ['marble/4TF9Y.jpg', 'marbler'],\n",
              " ['rhyolite/5NBV3.jpg', 'rhyolite'],\n",
              " ['marble/2AN1F.jpg', 'marbler'],\n",
              " ['gneiss/3NJJY.jpg', 'gneiss'],\n",
              " ['schist/6IZWN.jpg', 'schist'],\n",
              " ['andesite/8PQMK.jpg', 'andesite'],\n",
              " ['marble/2SF5I.jpg', 'marbler'],\n",
              " ['schist/5VWW2.jpg', 'schist'],\n",
              " ['andesite/7ZAI8.jpg', 'andesite'],\n",
              " ['gneiss/4Y30W.jpg', 'gneiss'],\n",
              " ['rhyolite/1VPFC.jpg', 'rhyolite'],\n",
              " ['gneiss/2Z627.jpg', 'gneiss'],\n",
              " ['quartzite/7GUS4.jpg', 'quartzite'],\n",
              " ['schist/5HTTB.jpg', 'schist'],\n",
              " ['schist/4Z5HZ.jpg', 'schist'],\n",
              " ['gneiss/4HTDW.jpg', 'gneiss'],\n",
              " ['andesite/6KGGA.jpg', 'andesite'],\n",
              " ['andesite/0N8VN.jpg', 'andesite'],\n",
              " ['quartzite/1B72Z.jpg', 'quartzite'],\n",
              " ['gneiss/0KMCE.jpg', 'gneiss'],\n",
              " ['gneiss/7MW2B.jpg', 'gneiss'],\n",
              " ['andesite/5I1JR.jpg', 'andesite'],\n",
              " ['andesite/5EM8N.jpg', 'andesite'],\n",
              " ['gneiss/5HNL1.jpg', 'gneiss'],\n",
              " ['quartzite/4BZ1H.jpg', 'quartzite'],\n",
              " ['gneiss/6MST1.jpg', 'gneiss'],\n",
              " ['rhyolite/2US7N.jpg', 'rhyolite'],\n",
              " ['gneiss/4JRKT.jpg', 'gneiss'],\n",
              " ['andesite/1KX2B.jpg', 'andesite'],\n",
              " ['andesite/2B16A.jpg', 'andesite'],\n",
              " ['quartzite/0FJPG.jpg', 'quartzite'],\n",
              " ['andesite/8M5OB.jpg', 'andesite'],\n",
              " ['andesite/4CQ3S.jpg', 'andesite'],\n",
              " ['rhyolite/1H9EY.jpg', 'rhyolite'],\n",
              " ['rhyolite/6QY7N.jpg', 'rhyolite'],\n",
              " ['andesite/4WMYA.jpg', 'andesite'],\n",
              " ['marble/1H22B.jpg', 'marbler'],\n",
              " ['schist/6FVHE.jpg', 'schist'],\n",
              " ['rhyolite/6Q21G.jpg', 'rhyolite'],\n",
              " ['quartzite/7CDH6.jpg', 'quartzite'],\n",
              " ['andesite/9O5Q5.jpg', 'andesite'],\n",
              " ['schist/5DH55.jpg', 'schist'],\n",
              " ['schist/1G2W4.jpg', 'schist'],\n",
              " ['schist/0B7H3.jpg', 'schist'],\n",
              " ['schist/2SIS4.jpg', 'schist'],\n",
              " ['rhyolite/2ESPM.jpg', 'rhyolite'],\n",
              " ['schist/2YZUY.jpg', 'schist'],\n",
              " ['marble/2X5IJ.jpg', 'marbler'],\n",
              " ['andesite/3H2GF.jpg', 'andesite'],\n",
              " ['marble/5I9KD.jpg', 'marbler'],\n",
              " ['gneiss/4LAOP.jpg', 'gneiss'],\n",
              " ['gneiss/8B4PN.jpg', 'gneiss'],\n",
              " ['schist/0QTK2.jpg', 'schist'],\n",
              " ['gneiss/8ZC9U.jpg', 'gneiss'],\n",
              " ['gneiss/6WWME.jpg', 'gneiss'],\n",
              " ['quartzite/6VNAC.jpg', 'quartzite'],\n",
              " ['quartzite/2OIU9.jpg', 'quartzite'],\n",
              " ['rhyolite/3WHTU.jpg', 'rhyolite'],\n",
              " ['marble/4ONBY.jpg', 'marbler'],\n",
              " ['schist/3IWKI.jpg', 'schist'],\n",
              " ['rhyolite/5XN8H.jpg', 'rhyolite'],\n",
              " ['quartzite/0NYY5.jpg', 'quartzite'],\n",
              " ['rhyolite/4UMSE.jpg', 'rhyolite'],\n",
              " ['schist/6QZWN.jpg', 'schist'],\n",
              " ['quartzite/1RW3I.jpg', 'quartzite'],\n",
              " ['rhyolite/3WXPM.jpg', 'rhyolite'],\n",
              " ['schist/0KK9Q.jpg', 'schist'],\n",
              " ['rhyolite/1QPDQ.jpg', 'rhyolite'],\n",
              " ['gneiss/5XBYZ.jpg', 'gneiss'],\n",
              " ['marble/2LVAW.jpg', 'marbler'],\n",
              " ['andesite/9FLA3.jpg', 'andesite'],\n",
              " ['andesite/5B8XG.jpg', 'andesite'],\n",
              " ['schist/3FXKU.jpg', 'schist'],\n",
              " ['marble/1AC3N.jpg', 'marbler'],\n",
              " ['schist/1K270.jpg', 'schist'],\n",
              " ['schist/1XIJB.jpg', 'schist'],\n",
              " ['rhyolite/3M1CV.jpg', 'rhyolite'],\n",
              " ['quartzite/4Z9PY.jpg', 'quartzite'],\n",
              " ['rhyolite/2NB1U.jpg', 'rhyolite'],\n",
              " ['quartzite/4MFNW.jpg', 'quartzite'],\n",
              " ['gneiss/2CR64.jpg', 'gneiss'],\n",
              " ['andesite/3O6CG.jpg', 'andesite'],\n",
              " ['quartzite/5CV1R.jpg', 'quartzite'],\n",
              " ['schist/3HMFU.jpg', 'schist'],\n",
              " ['andesite/7QCL7.jpg', 'andesite'],\n",
              " ['gneiss/03K66.jpg', 'gneiss'],\n",
              " ['rhyolite/5YT41.jpg', 'rhyolite'],\n",
              " ['schist/6BRSO.jpg', 'schist'],\n",
              " ['marble/2KUDT.jpg', 'marbler'],\n",
              " ['gneiss/8W6MC.jpg', 'gneiss'],\n",
              " ['andesite/8MUFT.jpg', 'andesite'],\n",
              " ['quartzite/4WRJ4.jpg', 'quartzite'],\n",
              " ['andesite/3LMG0.jpg', 'andesite'],\n",
              " ['quartzite/2WE92.jpg', 'quartzite'],\n",
              " ['gneiss/2A9ZI.jpg', 'gneiss'],\n",
              " ['gneiss/1AV5B.jpg', 'gneiss'],\n",
              " ['marble/0EHO3.jpg', 'marbler'],\n",
              " ['quartzite/3RGNC.jpg', 'quartzite'],\n",
              " ['schist/5YNT9.jpg', 'schist'],\n",
              " ['rhyolite/1QLVM.jpg', 'rhyolite'],\n",
              " ['andesite/1C778.jpg', 'andesite'],\n",
              " ['rhyolite/3U8Z2.jpg', 'rhyolite'],\n",
              " ['gneiss/1UDHQ.jpg', 'gneiss'],\n",
              " ['gneiss/1YXVT.jpg', 'gneiss'],\n",
              " ['quartzite/0PYFS.jpg', 'quartzite'],\n",
              " ['marble/1KSK3.jpg', 'marbler'],\n",
              " ['gneiss/1LTYG.jpg', 'gneiss'],\n",
              " ['quartzite/7UJ2J.jpg', 'quartzite'],\n",
              " ['gneiss/0CAR0.jpg', 'gneiss'],\n",
              " ['quartzite/07UQ8.jpg', 'quartzite'],\n",
              " ['gneiss/0OOGW.jpg', 'gneiss'],\n",
              " ['schist/4U8J2.jpg', 'schist'],\n",
              " ['schist/1SS34.jpg', 'schist'],\n",
              " ['andesite/2ZG7A.jpg', 'andesite'],\n",
              " ['quartzite/8NKLY.jpg', 'quartzite'],\n",
              " ['rhyolite/3HU13.jpg', 'rhyolite'],\n",
              " ['andesite/8G0QM.jpg', 'andesite'],\n",
              " ['gneiss/4RI2D.jpg', 'gneiss'],\n",
              " ['andesite/2TG6L.jpg', 'andesite'],\n",
              " ['schist/0EZ8X.jpg', 'schist'],\n",
              " ['rhyolite/6PODK.jpg', 'rhyolite'],\n",
              " ['gneiss/0IMN9.jpg', 'gneiss'],\n",
              " ['rhyolite/04OTY.jpg', 'rhyolite'],\n",
              " ['gneiss/6L347.jpg', 'gneiss'],\n",
              " ['rhyolite/2FURT.jpg', 'rhyolite'],\n",
              " ['andesite/3OMB6.jpg', 'andesite'],\n",
              " ['marble/2DDE7.jpg', 'marbler'],\n",
              " ['rhyolite/4TPU3.jpg', 'rhyolite'],\n",
              " ['andesite/9APZ6.jpg', 'andesite'],\n",
              " ['rhyolite/1QXW2.jpg', 'rhyolite'],\n",
              " ['rhyolite/6A6ZI.jpg', 'rhyolite'],\n",
              " ['rhyolite/2OKK6.jpg', 'rhyolite'],\n",
              " ['schist/2I0U0.jpg', 'schist'],\n",
              " ['rhyolite/2UQNR.jpg', 'rhyolite'],\n",
              " ['quartzite/3X7Y5.jpg', 'quartzite'],\n",
              " ['marble/5U6S5.jpg', 'marbler'],\n",
              " ['gneiss/6R1WH.jpg', 'gneiss'],\n",
              " ['schist/6A3P9.jpg', 'schist'],\n",
              " ['marble/0DA5B.jpg', 'marbler'],\n",
              " ['quartzite/7EAM7.jpg', 'quartzite'],\n",
              " ['andesite/5OUL8.jpg', 'andesite'],\n",
              " ['gneiss/6I7AF.jpg', 'gneiss'],\n",
              " ['quartzite/1Z7HA.jpg', 'quartzite'],\n",
              " ['quartzite/1EH7X.jpg', 'quartzite'],\n",
              " ['gneiss/5XDIS.jpg', 'gneiss'],\n",
              " ['gneiss/2KZV5.jpg', 'gneiss'],\n",
              " ['schist/5CUKY.jpg', 'schist'],\n",
              " ['rhyolite/2ZHO8.jpg', 'rhyolite'],\n",
              " ['rhyolite/1Y2P2.jpg', 'rhyolite'],\n",
              " ['gneiss/3NWN8.jpg', 'gneiss'],\n",
              " ['marble/0U0EL.jpg', 'marbler'],\n",
              " ['schist/5IY84.jpg', 'schist'],\n",
              " ['quartzite/0PP3V.jpg', 'quartzite'],\n",
              " ['gneiss/2UUBA.jpg', 'gneiss'],\n",
              " ['andesite/2D2NF.jpg', 'andesite'],\n",
              " ['rhyolite/6BTGM.jpg', 'rhyolite'],\n",
              " ['schist/0SQMO.jpg', 'schist'],\n",
              " ['rhyolite/4SG1D.jpg', 'rhyolite'],\n",
              " ['andesite/6U7RO.jpg', 'andesite'],\n",
              " ['andesite/7P7H8.jpg', 'andesite'],\n",
              " ['andesite/9NBN7.jpg', 'andesite'],\n",
              " ['quartzite/2HHLT.jpg', 'quartzite'],\n",
              " ['marble/4R7Z0.jpg', 'marbler'],\n",
              " ['quartzite/4IEQD.jpg', 'quartzite'],\n",
              " ['rhyolite/0KM5I.jpg', 'rhyolite'],\n",
              " ['quartzite/5MIOG.jpg', 'quartzite'],\n",
              " ['gneiss/1S8HC.jpg', 'gneiss'],\n",
              " ['andesite/0JM47.jpg', 'andesite'],\n",
              " ['schist/0LJR6.jpg', 'schist'],\n",
              " ['schist/1J8PC.jpg', 'schist'],\n",
              " ['gneiss/8TYDI.jpg', 'gneiss'],\n",
              " ['rhyolite/4UY9Y.jpg', 'rhyolite'],\n",
              " ['marble/3LX90.jpg', 'marbler'],\n",
              " ['rhyolite/1RZWA.jpg', 'rhyolite'],\n",
              " ['rhyolite/4IVOZ.jpg', 'rhyolite'],\n",
              " ['rhyolite/03QUM.jpg', 'rhyolite'],\n",
              " ['andesite/2N3PT.jpg', 'andesite'],\n",
              " ['quartzite/3NUD6.jpg', 'quartzite'],\n",
              " ['schist/2ZPUE.jpg', 'schist'],\n",
              " ['gneiss/7QOF8.jpg', 'gneiss'],\n",
              " ['gneiss/4IQ6W.jpg', 'gneiss'],\n",
              " ['andesite/0J628.jpg', 'andesite'],\n",
              " ['gneiss/8ULXS.jpg', 'gneiss'],\n",
              " ['gneiss/8B9ZI.jpg', 'gneiss'],\n",
              " ['rhyolite/4XFYG.jpg', 'rhyolite'],\n",
              " ['marble/3F10P.jpg', 'marbler'],\n",
              " ['rhyolite/1F0AF.jpg', 'rhyolite'],\n",
              " ['schist/2RU3P.jpg', 'schist'],\n",
              " ['marble/0XG9Q.jpg', 'marbler'],\n",
              " ['marble/1AZSB.jpg', 'marbler'],\n",
              " ['quartzite/0MT70.jpg', 'quartzite'],\n",
              " ['quartzite/5YYYN.jpg', 'quartzite'],\n",
              " ['marble/3M1E0.jpg', 'marbler'],\n",
              " ['quartzite/5GKBV.jpg', 'quartzite'],\n",
              " ['gneiss/8SXJJ.jpg', 'gneiss'],\n",
              " ['quartzite/5XL9T.jpg', 'quartzite'],\n",
              " ['gneiss/2V05R.jpg', 'gneiss'],\n",
              " ['marble/3BSA3.jpg', 'marbler'],\n",
              " ['marble/1EG3T.jpg', 'marbler'],\n",
              " ['schist/6EZOI.jpg', 'schist'],\n",
              " ['andesite/04NZL.jpg', 'andesite'],\n",
              " ['rhyolite/5ZKKM.jpg', 'rhyolite'],\n",
              " ['quartzite/6S1ZB.jpg', 'quartzite'],\n",
              " ['gneiss/5ULQD.jpg', 'gneiss'],\n",
              " ['rhyolite/2R0NL.jpg', 'rhyolite'],\n",
              " ['andesite/1ATXZ.jpg', 'andesite'],\n",
              " ['marble/2ZZ5I.jpg', 'marbler'],\n",
              " ['quartzite/4GAML.jpg', 'quartzite'],\n",
              " ['gneiss/5L43V.jpg', 'gneiss'],\n",
              " ['quartzite/0YE2F.jpg', 'quartzite'],\n",
              " ['andesite/7SWNG.jpg', 'andesite'],\n",
              " ['quartzite/6O1QF.jpg', 'quartzite'],\n",
              " ['gneiss/8Z3W4.jpg', 'gneiss'],\n",
              " ['andesite/5XFMA.jpg', 'andesite'],\n",
              " ['rhyolite/3HVS9.jpg', 'rhyolite'],\n",
              " ['andesite/3WC9J.jpg', 'andesite'],\n",
              " ['quartzite/7SGF6.jpg', 'quartzite'],\n",
              " ['marble/5HZKW.jpg', 'marbler'],\n",
              " ['andesite/0XQI9.jpg', 'andesite'],\n",
              " ['andesite/2OYHY.jpg', 'andesite'],\n",
              " ['gneiss/3EPAH.jpg', 'gneiss'],\n",
              " ['quartzite/1K4ZM.jpg', 'quartzite'],\n",
              " ['schist/0XVZU.jpg', 'schist'],\n",
              " ['quartzite/00DG0.jpg', 'quartzite'],\n",
              " ['rhyolite/6CWQD.jpg', 'rhyolite'],\n",
              " ['marble/3AX2Q.jpg', 'marbler'],\n",
              " ['quartzite/1DV7A.jpg', 'quartzite'],\n",
              " ['marble/5C3K9.jpg', 'marbler'],\n",
              " ['quartzite/4QQ6C.jpg', 'quartzite'],\n",
              " ['andesite/0JDL9.jpg', 'andesite'],\n",
              " ['rhyolite/2EFZH.jpg', 'rhyolite'],\n",
              " ['rhyolite/5XL9W.jpg', 'rhyolite'],\n",
              " ['schist/6W9XW.jpg', 'schist'],\n",
              " ['quartzite/5PB9P.jpg', 'quartzite'],\n",
              " ['andesite/0UHNC.jpg', 'andesite'],\n",
              " ['andesite/1CT4D.jpg', 'andesite'],\n",
              " ['rhyolite/2QUZT.jpg', 'rhyolite'],\n",
              " ['quartzite/2KE3F.jpg', 'quartzite'],\n",
              " ['schist/0I19V.jpg', 'schist'],\n",
              " ['schist/3B3RO.jpg', 'schist'],\n",
              " ['rhyolite/6P9LI.jpg', 'rhyolite'],\n",
              " ['marble/0EKPZ.jpg', 'marbler'],\n",
              " ['gneiss/2KEDH.jpg', 'gneiss'],\n",
              " ['quartzite/3USE5.jpg', 'quartzite'],\n",
              " ['schist/3G6A5.jpg', 'schist'],\n",
              " ['gneiss/3MBH0.jpg', 'gneiss'],\n",
              " ['gneiss/00STB.jpg', 'gneiss'],\n",
              " ['gneiss/1OK58.jpg', 'gneiss'],\n",
              " ['andesite/1NM1I.jpg', 'andesite'],\n",
              " ['marble/5N5V5.jpg', 'marbler'],\n",
              " ['schist/5JYNW.jpg', 'schist'],\n",
              " ['quartzite/7Q8N3.jpg', 'quartzite'],\n",
              " ['gneiss/0U5RP.jpg', 'gneiss'],\n",
              " ['rhyolite/1AX0O.jpg', 'rhyolite'],\n",
              " ['rhyolite/3PALH.jpg', 'rhyolite'],\n",
              " ['quartzite/3HLA3.jpg', 'quartzite'],\n",
              " ['quartzite/2X2E6.jpg', 'quartzite'],\n",
              " ['schist/3ROYL.jpg', 'schist'],\n",
              " ['schist/1D2Q6.jpg', 'schist'],\n",
              " ['gneiss/1Z5YN.jpg', 'gneiss'],\n",
              " ['marble/4PD83.jpg', 'marbler'],\n",
              " ['andesite/6N34O.jpg', 'andesite'],\n",
              " ['marble/3GJYP.jpg', 'marbler'],\n",
              " ['gneiss/6B132.jpg', 'gneiss'],\n",
              " ['quartzite/6CX93.jpg', 'quartzite'],\n",
              " ['schist/3FN2K.jpg', 'schist'],\n",
              " ['gneiss/4ZGO5.jpg', 'gneiss'],\n",
              " ['andesite/8ZAAL.jpg', 'andesite'],\n",
              " ['schist/4W1CZ.jpg', 'schist'],\n",
              " ['andesite/9QMNH.jpg', 'andesite'],\n",
              " ['gneiss/7SZEQ.jpg', 'gneiss'],\n",
              " ['rhyolite/5L5RU.jpg', 'rhyolite'],\n",
              " ['gneiss/2BRTD.jpg', 'gneiss'],\n",
              " ['quartzite/0QK7A.jpg', 'quartzite'],\n",
              " ['gneiss/6QNHT.jpg', 'gneiss'],\n",
              " ['marble/0NIGO.jpg', 'marbler'],\n",
              " ['andesite/0DJHN.jpg', 'andesite'],\n",
              " ['rhyolite/5F9KY.jpg', 'rhyolite'],\n",
              " ['andesite/1EAPQ.jpg', 'andesite'],\n",
              " ['quartzite/7PCPF.jpg', 'quartzite'],\n",
              " ['gneiss/2SNDR.jpg', 'gneiss'],\n",
              " ['marble/2R4VR.jpg', 'marbler'],\n",
              " ['andesite/3KKVB.jpg', 'andesite'],\n",
              " ['quartzite/1VLZ9.jpg', 'quartzite'],\n",
              " ['andesite/8QBOZ.jpg', 'andesite'],\n",
              " ['quartzite/3JWIL.jpg', 'quartzite'],\n",
              " ['rhyolite/1WZVY.jpg', 'rhyolite'],\n",
              " ['marble/2ACJZ.jpg', 'marbler'],\n",
              " ['marble/3KGBB.jpg', 'marbler'],\n",
              " ['andesite/7SHSW.jpg', 'andesite'],\n",
              " ['schist/5PIHD.jpg', 'schist'],\n",
              " ['quartzite/02QRW.jpg', 'quartzite'],\n",
              " ['gneiss/6LJU2.jpg', 'gneiss'],\n",
              " ['gneiss/6FGF8.jpg', 'gneiss'],\n",
              " ['schist/2K2OG.jpg', 'schist'],\n",
              " ['rhyolite/4LQ8O.jpg', 'rhyolite'],\n",
              " ['rhyolite/5CLSF.jpg', 'rhyolite'],\n",
              " ['rhyolite/2UBDS.jpg', 'rhyolite'],\n",
              " ['andesite/03PIF.jpg', 'andesite'],\n",
              " ['quartzite/2IR7A.jpg', 'quartzite'],\n",
              " ['quartzite/2LABN.jpg', 'quartzite'],\n",
              " ['andesite/7N89A.jpg', 'andesite'],\n",
              " ['rhyolite/0C59P.jpg', 'rhyolite'],\n",
              " ['rhyolite/6C0MW.jpg', 'rhyolite'],\n",
              " ['quartzite/6OBME.jpg', 'quartzite'],\n",
              " ['rhyolite/2UBX4.jpg', 'rhyolite'],\n",
              " ['quartzite/2YY1T.jpg', 'quartzite'],\n",
              " ['andesite/0KQH2.jpg', 'andesite'],\n",
              " ['marble/4QP1B.jpg', 'marbler'],\n",
              " ['andesite/4MGGH.jpg', 'andesite'],\n",
              " ['gneiss/7ZXU4.jpg', 'gneiss'],\n",
              " ['quartzite/3MHE6.jpg', 'quartzite'],\n",
              " ['quartzite/5C6HI.jpg', 'quartzite'],\n",
              " ['andesite/9TT0P.jpg', 'andesite'],\n",
              " ['schist/1TT9G.jpg', 'schist'],\n",
              " ['rhyolite/3O7M7.jpg', 'rhyolite'],\n",
              " ['andesite/0MRO4.jpg', 'andesite'],\n",
              " ['quartzite/7W7V7.jpg', 'quartzite'],\n",
              " ['marble/1JAC8.jpg', 'marbler'],\n",
              " ['schist/3U2J1.jpg', 'schist'],\n",
              " ['andesite/8Q0LC.jpg', 'andesite'],\n",
              " ['schist/6CZEU.jpg', 'schist'],\n",
              " ['gneiss/5J5NL.jpg', 'gneiss'],\n",
              " ['andesite/2VUZ6.jpg', 'andesite'],\n",
              " ['gneiss/2LB3V.jpg', 'gneiss'],\n",
              " ['quartzite/1LR2I.jpg', 'quartzite'],\n",
              " ['quartzite/5Y4P2.jpg', 'quartzite'],\n",
              " ['andesite/8O6YW.jpg', 'andesite'],\n",
              " ['gneiss/6X5HT.jpg', 'gneiss'],\n",
              " ['quartzite/4UMEJ.jpg', 'quartzite'],\n",
              " ['quartzite/4GZZY.jpg', 'quartzite'],\n",
              " ['andesite/1OBGW.jpg', 'andesite'],\n",
              " ['schist/4SQJM.jpg', 'schist'],\n",
              " ['gneiss/7JLHA.jpg', 'gneiss'],\n",
              " ['quartzite/8EU5S.jpg', 'quartzite'],\n",
              " ['schist/4WITK.jpg', 'schist'],\n",
              " ['marble/0VC2C.jpg', 'marbler'],\n",
              " ['quartzite/0N3VF.jpg', 'quartzite'],\n",
              " ['schist/3R9K4.jpg', 'schist'],\n",
              " ['quartzite/6NO1V.jpg', 'quartzite'],\n",
              " ['quartzite/3BYF5.jpg', 'quartzite'],\n",
              " ['schist/1X8MA.jpg', 'schist'],\n",
              " ['schist/6IMXQ.jpg', 'schist'],\n",
              " ['rhyolite/1NO90.jpg', 'rhyolite'],\n",
              " ['andesite/5FZWZ.jpg', 'andesite'],\n",
              " ['gneiss/2QSY6.jpg', 'gneiss'],\n",
              " ['rhyolite/4ZH3I.jpg', 'rhyolite'],\n",
              " ['marble/1O1H2.jpg', 'marbler'],\n",
              " ['andesite/7W207.jpg', 'andesite'],\n",
              " ['andesite/1UUCM.jpg', 'andesite'],\n",
              " ['gneiss/6HU1R.jpg', 'gneiss'],\n",
              " ['andesite/0TRME.jpg', 'andesite'],\n",
              " ['gneiss/3CBFC.jpg', 'gneiss'],\n",
              " ['schist/0CU6J.jpg', 'schist'],\n",
              " ['quartzite/4BA0W.jpg', 'quartzite'],\n",
              " ['gneiss/4QAUO.jpg', 'gneiss'],\n",
              " ['schist/6S0XX.jpg', 'schist'],\n",
              " ['rhyolite/3TGNO.jpg', 'rhyolite'],\n",
              " ['rhyolite/3TUJ9.jpg', 'rhyolite'],\n",
              " ['gneiss/7U9RO.jpg', 'gneiss'],\n",
              " ['gneiss/4EUNQ.jpg', 'gneiss'],\n",
              " ['quartzite/6E9XE.jpg', 'quartzite'],\n",
              " ['andesite/9MUX1.jpg', 'andesite'],\n",
              " ['andesite/3GH25.jpg', 'andesite'],\n",
              " ['schist/0FLY3.jpg', 'schist'],\n",
              " ['marble/5OH2D.jpg', 'marbler'],\n",
              " ['andesite/7V0RM.jpg', 'andesite'],\n",
              " ['gneiss/1VY03.jpg', 'gneiss'],\n",
              " ['schist/1DE8I.jpg', 'schist'],\n",
              " ['quartzite/5S4MA.jpg', 'quartzite'],\n",
              " ['schist/2CUZ7.jpg', 'schist'],\n",
              " ['andesite/3BBB1.jpg', 'andesite'],\n",
              " ['andesite/5J4C5.jpg', 'andesite'],\n",
              " ['rhyolite/5GDXT.jpg', 'rhyolite'],\n",
              " ['andesite/3IC3O.jpg', 'andesite'],\n",
              " ['gneiss/0EC7Q.jpg', 'gneiss'],\n",
              " ['gneiss/5F4OH.jpg', 'gneiss'],\n",
              " ['gneiss/5MVQQ.jpg', 'gneiss'],\n",
              " ['rhyolite/5HZYU.jpg', 'rhyolite'],\n",
              " ['schist/03EVB.jpg', 'schist'],\n",
              " ['andesite/3PFI1.jpg', 'andesite'],\n",
              " ['quartzite/1YL21.jpg', 'quartzite'],\n",
              " ['quartzite/6DJCX.jpg', 'quartzite'],\n",
              " ['quartzite/7BE4K.jpg', 'quartzite'],\n",
              " ['gneiss/8IGYW.jpg', 'gneiss'],\n",
              " ['gneiss/8SQVB.jpg', 'gneiss'],\n",
              " ['quartzite/4BEQR.jpg', 'quartzite'],\n",
              " ['rhyolite/0S0FW.jpg', 'rhyolite'],\n",
              " ['andesite/6GG59.jpg', 'andesite'],\n",
              " ['rhyolite/3Q6B4.jpg', 'rhyolite'],\n",
              " ['andesite/9FCTI.jpg', 'andesite'],\n",
              " ['rhyolite/2JLUE.jpg', 'rhyolite'],\n",
              " ['quartzite/5EORF.jpg', 'quartzite'],\n",
              " ['schist/2K7QN.jpg', 'schist'],\n",
              " ['marble/1RELH.jpg', 'marbler'],\n",
              " ['rhyolite/4K9VN.jpg', 'rhyolite'],\n",
              " ['marble/00ZIH.jpg', 'marbler'],\n",
              " ['rhyolite/6H1YT.jpg', 'rhyolite'],\n",
              " ['gneiss/5DUM7.jpg', 'gneiss'],\n",
              " ['marble/4CPWE.jpg', 'marbler'],\n",
              " ['schist/1FJL3.jpg', 'schist'],\n",
              " ['gneiss/02JWG.jpg', 'gneiss'],\n",
              " ['rhyolite/5T3B7.jpg', 'rhyolite'],\n",
              " ['gneiss/6NRHC.jpg', 'gneiss'],\n",
              " ['marble/2M076.jpg', 'marbler'],\n",
              " ['gneiss/3YYII.jpg', 'gneiss'],\n",
              " ['rhyolite/0OFWW.jpg', 'rhyolite'],\n",
              " ['andesite/0RLEP.jpg', 'andesite'],\n",
              " ['schist/0HA6F.jpg', 'schist'],\n",
              " ['andesite/8P3LL.jpg', 'andesite'],\n",
              " ['gneiss/3RZIE.jpg', 'gneiss'],\n",
              " ['andesite/8E2EC.jpg', 'andesite'],\n",
              " ['gneiss/5PGTN.jpg', 'gneiss'],\n",
              " ['andesite/9DSM5.jpg', 'andesite'],\n",
              " ['gneiss/2P6P2.jpg', 'gneiss'],\n",
              " ['gneiss/7HH95.jpg', 'gneiss'],\n",
              " ['andesite/7IP6I.jpg', 'andesite'],\n",
              " ['schist/5HTE4.jpg', 'schist'],\n",
              " ['marble/2OR4R.jpg', 'marbler'],\n",
              " ['andesite/09ABP.jpg', 'andesite'],\n",
              " ['marble/4GSPG.jpg', 'marbler'],\n",
              " ['rhyolite/3PTPL.jpg', 'rhyolite'],\n",
              " ['andesite/9HR65.jpg', 'andesite'],\n",
              " ['quartzite/0XBFO.jpg', 'quartzite'],\n",
              " ['rhyolite/3GQKE.jpg', 'rhyolite'],\n",
              " ['andesite/7CGK3.jpg', 'andesite'],\n",
              " ['rhyolite/3UN2L.jpg', 'rhyolite'],\n",
              " ['schist/0FZ5H.jpg', 'schist'],\n",
              " ['quartzite/7G06C.jpg', 'quartzite'],\n",
              " ['rhyolite/0JTP1.jpg', 'rhyolite'],\n",
              " ['quartzite/3LK8P.jpg', 'quartzite'],\n",
              " ['gneiss/4DRTY.jpg', 'gneiss'],\n",
              " ['gneiss/0BNHA.jpg', 'gneiss'],\n",
              " ['schist/1FJHY.jpg', 'schist'],\n",
              " ['rhyolite/0TB9W.jpg', 'rhyolite'],\n",
              " ['marble/5QADY.jpg', 'marbler'],\n",
              " ['rhyolite/5YS4N.jpg', 'rhyolite'],\n",
              " ['schist/1FA7G.jpg', 'schist'],\n",
              " ['andesite/9GBJL.jpg', 'andesite'],\n",
              " ['gneiss/1OPKS.jpg', 'gneiss'],\n",
              " ['andesite/3VLIQ.jpg', 'andesite'],\n",
              " ['rhyolite/6IVJB.jpg', 'rhyolite'],\n",
              " ['gneiss/7WNEY.jpg', 'gneiss'],\n",
              " ['gneiss/3FA11.jpg', 'gneiss'],\n",
              " ['quartzite/5GOTT.jpg', 'quartzite'],\n",
              " ['schist/5MINE.jpg', 'schist'],\n",
              " ['schist/1TDS0.jpg', 'schist'],\n",
              " ['schist/2T9DW.jpg', 'schist'],\n",
              " ['schist/1XVYY.jpg', 'schist'],\n",
              " ['marble/2R0KT.jpg', 'marbler'],\n",
              " ['gneiss/6AQDI.jpg', 'gneiss'],\n",
              " ['quartzite/5KX1X.jpg', 'quartzite'],\n",
              " ['rhyolite/6VRPU.jpg', 'rhyolite'],\n",
              " ['schist/1D5UC.jpg', 'schist'],\n",
              " ['quartzite/0TT4D.jpg', 'quartzite'],\n",
              " ['andesite/4JNSD.jpg', 'andesite'],\n",
              " ['quartzite/3YX8Q.jpg', 'quartzite'],\n",
              " ['andesite/8GR21.jpg', 'andesite'],\n",
              " ['schist/5XVKZ.jpg', 'schist'],\n",
              " ['quartzite/2OI66.jpg', 'quartzite'],\n",
              " ['rhyolite/4IEGP.jpg', 'rhyolite'],\n",
              " ['andesite/6VAJ7.jpg', 'andesite'],\n",
              " ['andesite/2SVUD.jpg', 'andesite'],\n",
              " ['quartzite/7LX0B.jpg', 'quartzite'],\n",
              " ['quartzite/04WTN.jpg', 'quartzite'],\n",
              " ['marble/1JFQX.jpg', 'marbler'],\n",
              " ['quartzite/0OSE0.jpg', 'quartzite'],\n",
              " ['schist/6GK1E.jpg', 'schist'],\n",
              " ['rhyolite/2SMAW.jpg', 'rhyolite'],\n",
              " ['andesite/9RMQ1.jpg', 'andesite'],\n",
              " ['quartzite/7GLS6.jpg', 'quartzite'],\n",
              " ['marble/4IYGD.jpg', 'marbler'],\n",
              " ['schist/6BP87.jpg', 'schist'],\n",
              " ['schist/5JOCI.jpg', 'schist'],\n",
              " ['quartzite/1QPSR.jpg', 'quartzite'],\n",
              " ['gneiss/7T26D.jpg', 'gneiss'],\n",
              " ['gneiss/4F4AY.jpg', 'gneiss'],\n",
              " ['gneiss/7LKW0.jpg', 'gneiss'],\n",
              " ['quartzite/6NFIW.jpg', 'quartzite'],\n",
              " ['rhyolite/6ZYW4.jpg', 'rhyolite'],\n",
              " ['gneiss/8Q0MH.jpg', 'gneiss'],\n",
              " ['gneiss/7K81Y.jpg', 'gneiss'],\n",
              " ['marble/0ZPAW.jpg', 'marbler'],\n",
              " ['gneiss/8R37X.jpg', 'gneiss'],\n",
              " ['rhyolite/3EHL7.jpg', 'rhyolite'],\n",
              " ['gneiss/2RC3O.jpg', 'gneiss'],\n",
              " ['gneiss/6P4FM.jpg', 'gneiss'],\n",
              " ['gneiss/1CRRZ.jpg', 'gneiss'],\n",
              " ['marble/3G2QN.jpg', 'marbler'],\n",
              " ['marble/3O7W7.jpg', 'marbler'],\n",
              " ['rhyolite/4AM5S.jpg', 'rhyolite'],\n",
              " ['andesite/1RCKD.jpg', 'andesite'],\n",
              " ['gneiss/5W92B.jpg', 'gneiss'],\n",
              " ['gneiss/0RRWS.jpg', 'gneiss'],\n",
              " ['gneiss/0ER4O.jpg', 'gneiss'],\n",
              " ['gneiss/4Z893.jpg', 'gneiss'],\n",
              " ['schist/6K3GA.jpg', 'schist'],\n",
              " ['gneiss/5UYT8.jpg', 'gneiss'],\n",
              " ['rhyolite/2EGZB.jpg', 'rhyolite'],\n",
              " ['andesite/2I7W2.jpg', 'andesite'],\n",
              " ['gneiss/1K6HA.jpg', 'gneiss'],\n",
              " ['quartzite/3JO20.jpg', 'quartzite'],\n",
              " ['andesite/0YY64.jpg', 'andesite'],\n",
              " ['gneiss/1MPCF.jpg', 'gneiss'],\n",
              " ['rhyolite/3HFFG.jpg', 'rhyolite'],\n",
              " ['marble/1BNOI.jpg', 'marbler'],\n",
              " ['schist/5OU7L.jpg', 'schist'],\n",
              " ['quartzite/3HGMW.jpg', 'quartzite'],\n",
              " ['andesite/6UO5W.jpg', 'andesite'],\n",
              " ['rhyolite/2ZZKI.jpg', 'rhyolite'],\n",
              " ['rhyolite/7ALT0.jpg', 'rhyolite'],\n",
              " ['marble/2BZ7X.jpg', 'marbler'],\n",
              " ['schist/0PCYI.jpg', 'schist'],\n",
              " ['gneiss/3RTBK.jpg', 'gneiss'],\n",
              " ['marble/3YVZY.jpg', 'marbler'],\n",
              " ['andesite/5MUQR.jpg', 'andesite'],\n",
              " ['gneiss/1YZKO.jpg', 'gneiss'],\n",
              " ['schist/2A42W.jpg', 'schist'],\n",
              " ['andesite/0SV9X.jpg', 'andesite'],\n",
              " ['quartzite/7Z5UF.jpg', 'quartzite'],\n",
              " ['quartzite/7ADT8.jpg', 'quartzite'],\n",
              " ['andesite/8XPKG.jpg', 'andesite'],\n",
              " ['andesite/3LTJZ.jpg', 'andesite'],\n",
              " ['marble/4ZVZA.jpg', 'marbler'],\n",
              " ['schist/6AQZ8.jpg', 'schist'],\n",
              " ['quartzite/3L530.jpg', 'quartzite'],\n",
              " ['rhyolite/4METM.jpg', 'rhyolite'],\n",
              " ['gneiss/6HHYQ.jpg', 'gneiss'],\n",
              " ['andesite/6CBI0.jpg', 'andesite'],\n",
              " ['andesite/0DPF9.jpg', 'andesite'],\n",
              " ['quartzite/3SGHZ.jpg', 'quartzite'],\n",
              " ['andesite/5V8SI.jpg', 'andesite'],\n",
              " ['gneiss/05YPE.jpg', 'gneiss'],\n",
              " ['gneiss/4G17Y.jpg', 'gneiss'],\n",
              " ['marble/2P8YH.jpg', 'marbler'],\n",
              " ['andesite/4ZU2A.jpg', 'andesite'],\n",
              " ['schist/03UIN.jpg', 'schist'],\n",
              " ['andesite/1ZJVX.jpg', 'andesite'],\n",
              " ['gneiss/3FOBK.jpg', 'gneiss'],\n",
              " ['quartzite/2BPZG.jpg', 'quartzite'],\n",
              " ['marble/2UVT1.jpg', 'marbler'],\n",
              " ['marble/0FI87.jpg', 'marbler'],\n",
              " ['andesite/2FO13.jpg', 'andesite'],\n",
              " ['rhyolite/5G85M.jpg', 'rhyolite'],\n",
              " ['schist/0JNLD.jpg', 'schist'],\n",
              " ['gneiss/0TO1U.jpg', 'gneiss'],\n",
              " ['rhyolite/4EQJJ.jpg', 'rhyolite'],\n",
              " ['marble/4AK4A.jpg', 'marbler'],\n",
              " ['quartzite/5SN6O.jpg', 'quartzite'],\n",
              " ['andesite/3D7RY.jpg', 'andesite'],\n",
              " ['marble/1C6Q3.jpg', 'marbler'],\n",
              " ['gneiss/3HDR5.jpg', 'gneiss'],\n",
              " ['marble/0DEV8.jpg', 'marbler'],\n",
              " ['gneiss/6N8FY.jpg', 'gneiss'],\n",
              " ['quartzite/7QMXL.jpg', 'quartzite'],\n",
              " ['quartzite/2HWC5.jpg', 'quartzite'],\n",
              " ['gneiss/3TEOE.jpg', 'gneiss'],\n",
              " ['gneiss/6P02F.jpg', 'gneiss'],\n",
              " ['rhyolite/3JV51.jpg', 'rhyolite'],\n",
              " ['quartzite/2UQXR.jpg', 'quartzite'],\n",
              " ['quartzite/3HAZD.jpg', 'quartzite'],\n",
              " ['gneiss/08MVV.jpg', 'gneiss'],\n",
              " ['marble/2Q4RX.jpg', 'marbler'],\n",
              " ['andesite/0O0A4.jpg', 'andesite'],\n",
              " ['gneiss/7ZX3H.jpg', 'gneiss'],\n",
              " ['gneiss/4NEP8.jpg', 'gneiss'],\n",
              " ['gneiss/6BCZY.jpg', 'gneiss'],\n",
              " ['gneiss/8IG8U.jpg', 'gneiss'],\n",
              " ['gneiss/0PEQE.jpg', 'gneiss'],\n",
              " ['gneiss/8TSF0.jpg', 'gneiss'],\n",
              " ['andesite/7C8B3.jpg', 'andesite'],\n",
              " ['gneiss/8NFF3.jpg', 'gneiss'],\n",
              " ['andesite/03OSJ.jpg', 'andesite'],\n",
              " ['rhyolite/6X1XF.jpg', 'rhyolite'],\n",
              " ['marble/5PWVN.jpg', 'marbler'],\n",
              " ['rhyolite/3JJQS.jpg', 'rhyolite'],\n",
              " ['andesite/4OECE.jpg', 'andesite'],\n",
              " ['rhyolite/0T6B1.jpg', 'rhyolite'],\n",
              " ['quartzite/1Z2Z0.jpg', 'quartzite'],\n",
              " ['schist/02AS4.jpg', 'schist'],\n",
              " ['quartzite/7NWV1.jpg', 'quartzite'],\n",
              " ['gneiss/7N874.jpg', 'gneiss'],\n",
              " ['marble/5QWCS.jpg', 'marbler'],\n",
              " ['quartzite/7HVCW.jpg', 'quartzite'],\n",
              " ['quartzite/01MSO.jpg', 'quartzite'],\n",
              " ['rhyolite/5RORJ.jpg', 'rhyolite'],\n",
              " ['schist/5DSY1.jpg', 'schist'],\n",
              " ['andesite/9JV0T.jpg', 'andesite'],\n",
              " ['gneiss/7N5TH.jpg', 'gneiss'],\n",
              " ['schist/5O6WI.jpg', 'schist'],\n",
              " ['gneiss/8XQ5Y.jpg', 'gneiss'],\n",
              " ['rhyolite/5JQJV.jpg', 'rhyolite'],\n",
              " ['quartzite/2P42M.jpg', 'quartzite'],\n",
              " ['quartzite/3ER1W.jpg', 'quartzite'],\n",
              " ['andesite/04TUM.jpg', 'andesite'],\n",
              " ['quartzite/2V6AR.jpg', 'quartzite'],\n",
              " ['quartzite/5BA83.jpg', 'quartzite'],\n",
              " ['marble/0YZ5J.jpg', 'marbler'],\n",
              " ['schist/5V2OP.jpg', 'schist'],\n",
              " ['quartzite/7D45V.jpg', 'quartzite'],\n",
              " ['marble/4Y196.jpg', 'marbler'],\n",
              " ['andesite/1ZE35.jpg', 'andesite'],\n",
              " ['schist/5X2RG.jpg', 'schist'],\n",
              " ['andesite/07IND.jpg', 'andesite'],\n",
              " ['quartzite/8H0UL.jpg', 'quartzite'],\n",
              " ['gneiss/5OGTK.jpg', 'gneiss'],\n",
              " ['gneiss/7CHZ9.jpg', 'gneiss'],\n",
              " ['andesite/6KF1I.jpg', 'andesite'],\n",
              " ['andesite/9CPJC.jpg', 'andesite'],\n",
              " ['schist/2COAT.jpg', 'schist'],\n",
              " ['gneiss/5MPOE.jpg', 'gneiss'],\n",
              " ['gneiss/6OAQS.jpg', 'gneiss'],\n",
              " ['andesite/0AQBW.jpg', 'andesite'],\n",
              " ['rhyolite/3TPU2.jpg', 'rhyolite'],\n",
              " ['andesite/5RX3V.jpg', 'andesite'],\n",
              " ['quartzite/6FS7D.jpg', 'quartzite'],\n",
              " ['rhyolite/3IJCM.jpg', 'rhyolite'],\n",
              " ['rhyolite/0WE8G.jpg', 'rhyolite'],\n",
              " ['quartzite/1RTDZ.jpg', 'quartzite'],\n",
              " ['rhyolite/4L2NP.jpg', 'rhyolite'],\n",
              " ['quartzite/5Y1TU.jpg', 'quartzite'],\n",
              " ['andesite/0Z2AO.jpg', 'andesite'],\n",
              " ['andesite/1ERC1.jpg', 'andesite'],\n",
              " ['andesite/7CY7C.jpg', 'andesite'],\n",
              " ['gneiss/4EWYQ.jpg', 'gneiss'],\n",
              " ['schist/2KI7R.jpg', 'schist'],\n",
              " ['schist/5R4OK.jpg', 'schist'],\n",
              " ['marble/01WL3.jpg', 'marbler'],\n",
              " ['quartzite/6JJ3K.jpg', 'quartzite'],\n",
              " ['andesite/2FQ2B.jpg', 'andesite'],\n",
              " ['gneiss/4YJZT.jpg', 'gneiss'],\n",
              " ['quartzite/4N6V3.jpg', 'quartzite'],\n",
              " ['andesite/1YILJ.jpg', 'andesite'],\n",
              " ['gneiss/04T6G.jpg', 'gneiss'],\n",
              " ['quartzite/2ZOY0.jpg', 'quartzite'],\n",
              " ['gneiss/7QRDD.jpg', 'gneiss'],\n",
              " ['gneiss/1BLED.jpg', 'gneiss'],\n",
              " ['quartzite/4NSE0.jpg', 'quartzite'],\n",
              " ['rhyolite/0XLEH.jpg', 'rhyolite'],\n",
              " ['quartzite/6KJIG.jpg', 'quartzite'],\n",
              " ['gneiss/3B7N7.jpg', 'gneiss'],\n",
              " ['marble/0RY09.jpg', 'marbler'],\n",
              " ['marble/3DRTH.jpg', 'marbler'],\n",
              " ['schist/5IFRA.jpg', 'schist'],\n",
              " ['quartzite/4UEZ7.jpg', 'quartzite'],\n",
              " ['quartzite/1YW73.jpg', 'quartzite'],\n",
              " ['marble/5I932.jpg', 'marbler'],\n",
              " ['quartzite/6EWLE.jpg', 'quartzite'],\n",
              " ['andesite/0TLMK.jpg', 'andesite'],\n",
              " ['andesite/9SA0E.jpg', 'andesite'],\n",
              " ['gneiss/3I2BC.jpg', 'gneiss'],\n",
              " ['quartzite/0FUVS.jpg', 'quartzite'],\n",
              " ['gneiss/8OJP5.jpg', 'gneiss'],\n",
              " ['andesite/2IN4R.jpg', 'andesite'],\n",
              " ['andesite/5VRCY.jpg', 'andesite'],\n",
              " ['marble/4P06K.jpg', 'marbler'],\n",
              " ['marble/3EXDX.jpg', 'marbler'],\n",
              " ['quartzite/4HLRH.jpg', 'quartzite'],\n",
              " ['andesite/2PNPB.jpg', 'andesite'],\n",
              " ['gneiss/0BSAZ.jpg', 'gneiss'],\n",
              " ['andesite/8U9FB.jpg', 'andesite'],\n",
              " ['andesite/5MWLV.jpg', 'andesite'],\n",
              " ['gneiss/5A0VU.jpg', 'gneiss'],\n",
              " ['andesite/7HTFR.jpg', 'andesite'],\n",
              " ['andesite/7JB5E.jpg', 'andesite'],\n",
              " ['quartzite/6SQ7C.jpg', 'quartzite'],\n",
              " ['gneiss/03EN3.jpg', 'gneiss'],\n",
              " ['rhyolite/6TIEG.jpg', 'rhyolite'],\n",
              " ['quartzite/7LZCU.jpg', 'quartzite'],\n",
              " ['marble/5DON4.jpg', 'marbler'],\n",
              " ['marble/2X5EQ.jpg', 'marbler'],\n",
              " ['rhyolite/2A0Z9.jpg', 'rhyolite'],\n",
              " ['marble/5P5KG.jpg', 'marbler'],\n",
              " ['quartzite/5XHD0.jpg', 'quartzite'],\n",
              " ['quartzite/2FQV8.jpg', 'quartzite'],\n",
              " ['gneiss/1VLJR.jpg', 'gneiss'],\n",
              " ['andesite/0S6XY.jpg', 'andesite'],\n",
              " ['rhyolite/0HCVA.jpg', 'rhyolite'],\n",
              " ['rhyolite/0GX0W.jpg', 'rhyolite'],\n",
              " ['marble/0Y5R2.jpg', 'marbler'],\n",
              " ['rhyolite/4WOK3.jpg', 'rhyolite'],\n",
              " ['schist/1W6CI.jpg', 'schist'],\n",
              " ['andesite/0UCB4.jpg', 'andesite'],\n",
              " ['quartzite/0V4E7.jpg', 'quartzite'],\n",
              " ['quartzite/3HYS2.jpg', 'quartzite'],\n",
              " ['schist/4VYJV.jpg', 'schist'],\n",
              " ['gneiss/0QJ1R.jpg', 'gneiss'],\n",
              " ['schist/4KAH4.jpg', 'schist'],\n",
              " ['quartzite/1XLHV.jpg', 'quartzite'],\n",
              " ['schist/4I9MH.jpg', 'schist'],\n",
              " ['andesite/6WO29.jpg', 'andesite'],\n",
              " ['rhyolite/6Q1ZV.jpg', 'rhyolite'],\n",
              " ['rhyolite/6D5RM.jpg', 'rhyolite'],\n",
              " ['schist/1A3SP.jpg', 'schist'],\n",
              " ['rhyolite/1AK8X.jpg', 'rhyolite'],\n",
              " ['schist/2F4NU.jpg', 'schist'],\n",
              " ['gneiss/6YPEY.jpg', 'gneiss'],\n",
              " ['quartzite/8LBDG.jpg', 'quartzite'],\n",
              " ['quartzite/6V7GY.jpg', 'quartzite'],\n",
              " ['quartzite/1IYIZ.jpg', 'quartzite'],\n",
              " ['quartzite/7U2W7.jpg', 'quartzite'],\n",
              " ['schist/5B8UM.jpg', 'schist'],\n",
              " ['quartzite/4D11V.jpg', 'quartzite'],\n",
              " ['gneiss/3ESH4.jpg', 'gneiss'],\n",
              " ['gneiss/7ICJI.jpg', 'gneiss'],\n",
              " ['gneiss/5VBUQ.jpg', 'gneiss'],\n",
              " ['andesite/0OF1T.jpg', 'andesite'],\n",
              " ['rhyolite/4NGPV.jpg', 'rhyolite'],\n",
              " ['andesite/4AXA4.jpg', 'andesite'],\n",
              " ['rhyolite/2VEXO.jpg', 'rhyolite'],\n",
              " ['schist/4A626.jpg', 'schist'],\n",
              " ['schist/5B561.jpg', 'schist'],\n",
              " ['marble/2J6BU.jpg', 'marbler'],\n",
              " ['rhyolite/2GE4A.jpg', 'rhyolite'],\n",
              " ['andesite/9GD0O.jpg', 'andesite'],\n",
              " ['quartzite/7N7JA.jpg', 'quartzite'],\n",
              " ['marble/0UEH1.jpg', 'marbler'],\n",
              " ['andesite/3GVJ2.jpg', 'andesite'],\n",
              " ['quartzite/4FVFA.jpg', 'quartzite'],\n",
              " ['schist/2PQX4.jpg', 'schist'],\n",
              " ['marble/2PA9K.jpg', 'marbler'],\n",
              " ['rhyolite/2L7TG.jpg', 'rhyolite'],\n",
              " ['andesite/6EDI1.jpg', 'andesite'],\n",
              " ['andesite/6UO30.jpg', 'andesite'],\n",
              " ['schist/4NAK8.jpg', 'schist'],\n",
              " ['schist/2A4HB.jpg', 'schist'],\n",
              " ['schist/2ZN6R.jpg', 'schist'],\n",
              " ['quartzite/05HTO.jpg', 'quartzite'],\n",
              " ['andesite/8VULV.jpg', 'andesite'],\n",
              " ['quartzite/7TAUI.jpg', 'quartzite'],\n",
              " ['quartzite/5EPGU.jpg', 'quartzite'],\n",
              " ['quartzite/2OHGK.jpg', 'quartzite'],\n",
              " ['marble/4XE7H.jpg', 'marbler'],\n",
              " ['schist/3ZWER.jpg', 'schist'],\n",
              " ['rhyolite/0FZGQ.jpg', 'rhyolite'],\n",
              " ['quartzite/7E33D.jpg', 'quartzite'],\n",
              " ['quartzite/2P7FP.jpg', 'quartzite'],\n",
              " ['andesite/8AE5S.jpg', 'andesite'],\n",
              " ['quartzite/5N0EW.jpg', 'quartzite'],\n",
              " ['marble/0RJBI.jpg', 'marbler'],\n",
              " ['andesite/8RGHE.jpg', 'andesite'],\n",
              " ['marble/1SYUI.jpg', 'marbler'],\n",
              " ['quartzite/2PN0T.jpg', 'quartzite'],\n",
              " ['marble/03JZF.jpg', 'marbler'],\n",
              " ['marble/4AODI.jpg', 'marbler'],\n",
              " ['marble/1VPQN.jpg', 'marbler'],\n",
              " ['rhyolite/1O88N.jpg', 'rhyolite'],\n",
              " ['andesite/7WX6B.jpg', 'andesite'],\n",
              " ['quartzite/4C9Z8.jpg', 'quartzite'],\n",
              " ['schist/0YA5Q.jpg', 'schist'],\n",
              " ['rhyolite/4K2WJ.jpg', 'rhyolite'],\n",
              " ['schist/3BSFC.jpg', 'schist'],\n",
              " ['quartzite/2HADR.jpg', 'quartzite'],\n",
              " ['andesite/5Z01R.jpg', 'andesite'],\n",
              " ['schist/6OU21.jpg', 'schist'],\n",
              " ['rhyolite/5TNEG.jpg', 'rhyolite'],\n",
              " ['andesite/7AUN4.jpg', 'andesite'],\n",
              " ['gneiss/2WPPU.jpg', 'gneiss'],\n",
              " ['marble/1EFKT.jpg', 'marbler'],\n",
              " ['quartzite/1D3P3.jpg', 'quartzite'],\n",
              " ['marble/2AJY5.jpg', 'marbler'],\n",
              " ['quartzite/6F2SQ.jpg', 'quartzite'],\n",
              " ['andesite/0KNW2.jpg', 'andesite'],\n",
              " ['quartzite/6GTIZ.jpg', 'quartzite'],\n",
              " ['marble/0KOIZ.jpg', 'marbler'],\n",
              " ['andesite/2GMSM.jpg', 'andesite'],\n",
              " ['quartzite/7E8QJ.jpg', 'quartzite'],\n",
              " ['rhyolite/4N4Z0.jpg', 'rhyolite'],\n",
              " ['quartzite/4MTUC.jpg', 'quartzite'],\n",
              " ['marble/2O96N.jpg', 'marbler'],\n",
              " ['andesite/7DYK1.jpg', 'andesite'],\n",
              " ['schist/5NC1N.jpg', 'schist'],\n",
              " ['andesite/5F3MY.jpg', 'andesite'],\n",
              " ['schist/4Q3QZ.jpg', 'schist'],\n",
              " ['quartzite/4DPWM.jpg', 'quartzite'],\n",
              " ['andesite/6MKSZ.jpg', 'andesite'],\n",
              " ['andesite/9ONGM.jpg', 'andesite'],\n",
              " ['schist/3BC3P.jpg', 'schist'],\n",
              " ['gneiss/7H90H.jpg', 'gneiss'],\n",
              " ['schist/3N9Q5.jpg', 'schist'],\n",
              " ['gneiss/2X9QD.jpg', 'gneiss'],\n",
              " ['quartzite/8J6GA.jpg', 'quartzite'],\n",
              " ['gneiss/5VQ1N.jpg', 'gneiss'],\n",
              " ['marble/3DD5E.jpg', 'marbler'],\n",
              " ['andesite/4E8TC.jpg', 'andesite'],\n",
              " ['rhyolite/2AC9X.jpg', 'rhyolite'],\n",
              " ['marble/3DNJ2.jpg', 'marbler'],\n",
              " ['rhyolite/2FUH3.jpg', 'rhyolite'],\n",
              " ['quartzite/4KOOA.jpg', 'quartzite'],\n",
              " ['andesite/8ON0Y.jpg', 'andesite'],\n",
              " ['schist/5Q12N.jpg', 'schist'],\n",
              " ['schist/2ODTC.jpg', 'schist'],\n",
              " ['schist/1QV2Q.jpg', 'schist'],\n",
              " ['schist/4PZSI.jpg', 'schist'],\n",
              " ['gneiss/7X4XD.jpg', 'gneiss'],\n",
              " ['quartzite/0GR0K.jpg', 'quartzite'],\n",
              " ['gneiss/0AF29.jpg', 'gneiss'],\n",
              " ['gneiss/2NXB4.jpg', 'gneiss'],\n",
              " ['andesite/0DUXP.jpg', 'andesite'],\n",
              " ['gneiss/2O8VD.jpg', 'gneiss'],\n",
              " ['marble/3U08E.jpg', 'marbler'],\n",
              " ['gneiss/8FRC9.jpg', 'gneiss'],\n",
              " ['quartzite/01E0O.jpg', 'quartzite'],\n",
              " ['schist/5WNJB.jpg', 'schist'],\n",
              " ['andesite/9GDL9.jpg', 'andesite'],\n",
              " ['schist/5DD9M.jpg', 'schist'],\n",
              " ['rhyolite/2IAUK.jpg', 'rhyolite'],\n",
              " ['schist/5XHG5.jpg', 'schist'],\n",
              " ['marble/2LP45.jpg', 'marbler'],\n",
              " ['marble/0M6UO.jpg', 'marbler'],\n",
              " ['quartzite/4BQ2R.jpg', 'quartzite'],\n",
              " ['andesite/9RZQS.jpg', 'andesite'],\n",
              " ['quartzite/5PKGP.jpg', 'quartzite'],\n",
              " ['gneiss/7V57I.jpg', 'gneiss'],\n",
              " ['rhyolite/06FI8.jpg', 'rhyolite'],\n",
              " ['gneiss/1N32C.jpg', 'gneiss'],\n",
              " ['gneiss/8OOA1.jpg', 'gneiss'],\n",
              " ['rhyolite/4F6N1.jpg', 'rhyolite'],\n",
              " ['quartzite/5VDLK.jpg', 'quartzite'],\n",
              " ['andesite/7KJGC.jpg', 'andesite'],\n",
              " ['andesite/1F95Z.jpg', 'andesite'],\n",
              " ['rhyolite/6QIXO.jpg', 'rhyolite'],\n",
              " ['marble/3RROS.jpg', 'marbler'],\n",
              " ['rhyolite/2OX9G.jpg', 'rhyolite'],\n",
              " ['gneiss/4KFPI.jpg', 'gneiss'],\n",
              " ['gneiss/0B9A9.jpg', 'gneiss'],\n",
              " ['gneiss/4GJP9.jpg', 'gneiss'],\n",
              " ['quartzite/7U2WL.jpg', 'quartzite'],\n",
              " ['gneiss/4AQ73.jpg', 'gneiss'],\n",
              " ['rhyolite/04Q31.jpg', 'rhyolite'],\n",
              " ['quartzite/1V3I6.jpg', 'quartzite'],\n",
              " ['rhyolite/1SOHP.jpg', 'rhyolite'],\n",
              " ['marble/4JL6A.jpg', 'marbler'],\n",
              " ['schist/0J242.jpg', 'schist'],\n",
              " ['quartzite/0YII5.jpg', 'quartzite'],\n",
              " ['marble/0K0AA.jpg', 'marbler'],\n",
              " ['marble/4L7A8.jpg', 'marbler'],\n",
              " ['quartzite/1DOH7.jpg', 'quartzite'],\n",
              " ['rhyolite/05E27.jpg', 'rhyolite'],\n",
              " ['andesite/5LQRG.jpg', 'andesite'],\n",
              " ['schist/3NZB1.jpg', 'schist'],\n",
              " ['schist/6NWZ7.jpg', 'schist'],\n",
              " ['quartzite/4UYHE.jpg', 'quartzite'],\n",
              " ['gneiss/8IBO6.jpg', 'gneiss'],\n",
              " ['quartzite/2U4DX.jpg', 'quartzite'],\n",
              " ['quartzite/5WEAR.jpg', 'quartzite'],\n",
              " ['marble/2TW94.jpg', 'marbler'],\n",
              " ['marble/5NVOO.jpg', 'marbler'],\n",
              " ['quartzite/1WFXW.jpg', 'quartzite'],\n",
              " ['schist/2EV4V.jpg', 'schist'],\n",
              " ['andesite/8Z2N1.jpg', 'andesite'],\n",
              " ['andesite/9PRUN.jpg', 'andesite'],\n",
              " ['rhyolite/4DH8Q.jpg', 'rhyolite'],\n",
              " ['schist/2Y6VX.jpg', 'schist'],\n",
              " ['andesite/8C59M.jpg', 'andesite'],\n",
              " ['rhyolite/1G611.jpg', 'rhyolite'],\n",
              " ['marble/0N1QT.jpg', 'marbler'],\n",
              " ['gneiss/3IBPO.jpg', 'gneiss'],\n",
              " ['marble/3E1PO.jpg', 'marbler'],\n",
              " ['schist/2XAT8.jpg', 'schist'],\n",
              " ['schist/0G2RJ.jpg', 'schist'],\n",
              " ['quartzite/1Y2OW.jpg', 'quartzite'],\n",
              " ['rhyolite/6F5D3.jpg', 'rhyolite'],\n",
              " ['quartzite/2T841.jpg', 'quartzite'],\n",
              " ['schist/5XQB3.jpg', 'schist'],\n",
              " ['marble/5BKJB.jpg', 'marbler'],\n",
              " ['rhyolite/4RJE6.jpg', 'rhyolite'],\n",
              " ['gneiss/6V8RO.jpg', 'gneiss'],\n",
              " ['andesite/1KHUQ.jpg', 'andesite'],\n",
              " ['andesite/5RKIN.jpg', 'andesite'],\n",
              " ['andesite/1BSQD.jpg', 'andesite'],\n",
              " ['quartzite/0SG3W.jpg', 'quartzite'],\n",
              " ['andesite/3R3PD.jpg', 'andesite'],\n",
              " ['quartzite/08QOB.jpg', 'quartzite'],\n",
              " ['andesite/7T37P.jpg', 'andesite'],\n",
              " ['andesite/9R9UR.jpg', 'andesite'],\n",
              " ['gneiss/3UKI5.jpg', 'gneiss'],\n",
              " ['quartzite/6WF30.jpg', 'quartzite'],\n",
              " ['rhyolite/03TTX.jpg', 'rhyolite'],\n",
              " ['gneiss/5G1KC.jpg', 'gneiss'],\n",
              " ['gneiss/7PVRW.jpg', 'gneiss'],\n",
              " ['rhyolite/1SAGH.jpg', 'rhyolite'],\n",
              " ['andesite/7NQO4.jpg', 'andesite'],\n",
              " ['andesite/7IQJZ.jpg', 'andesite'],\n",
              " ['gneiss/8HUXV.jpg', 'gneiss'],\n",
              " ['quartzite/4MNUO.jpg', 'quartzite'],\n",
              " ['gneiss/5B5XA.jpg', 'gneiss'],\n",
              " ['andesite/8R000.jpg', 'andesite'],\n",
              " ['schist/3X9V6.jpg', 'schist'],\n",
              " ['andesite/9LU3U.jpg', 'andesite'],\n",
              " ['marble/3GMUX.jpg', 'marbler'],\n",
              " ['gneiss/07O1K.jpg', 'gneiss'],\n",
              " ['schist/1QHPB.jpg', 'schist'],\n",
              " ['quartzite/6G0OV.jpg', 'quartzite'],\n",
              " ['schist/1OYSD.jpg', 'schist'],\n",
              " ['rhyolite/2O0HV.jpg', 'rhyolite'],\n",
              " ['schist/0U7AJ.jpg', 'schist'],\n",
              " ['andesite/1IWCM.jpg', 'andesite'],\n",
              " ['marble/0WE3F.jpg', 'marbler'],\n",
              " ['andesite/04ZDG.jpg', 'andesite'],\n",
              " ['quartzite/2JNPW.jpg', 'quartzite'],\n",
              " ['andesite/0YCVK.jpg', 'andesite'],\n",
              " ['marble/1VD8M.jpg', 'marbler'],\n",
              " ['marble/0IYEA.jpg', 'marbler'],\n",
              " ['gneiss/9E6CQ.jpg', 'gneiss'],\n",
              " ['andesite/7V21B.jpg', 'andesite'],\n",
              " ['quartzite/5R318.jpg', 'quartzite'],\n",
              " ['schist/2BVH5.jpg', 'schist'],\n",
              " ['rhyolite/6VN4Y.jpg', 'rhyolite'],\n",
              " ['andesite/9K5JP.jpg', 'andesite'],\n",
              " ['schist/6MNK0.jpg', 'schist'],\n",
              " ['marble/2FQYW.jpg', 'marbler'],\n",
              " ['rhyolite/2YO1P.jpg', 'rhyolite'],\n",
              " ['andesite/4Y2QA.jpg', 'andesite'],\n",
              " ['quartzite/4KRD8.jpg', 'quartzite'],\n",
              " ['rhyolite/0I2EY.jpg', 'rhyolite'],\n",
              " ['rhyolite/6PS3Q.jpg', 'rhyolite'],\n",
              " ['quartzite/7DI16.jpg', 'quartzite'],\n",
              " ['quartzite/7JY3Q.jpg', 'quartzite'],\n",
              " ['andesite/8Y83Z.jpg', 'andesite'],\n",
              " ['schist/5D8J3.jpg', 'schist'],\n",
              " ['schist/0SPXT.jpg', 'schist'],\n",
              " ['andesite/8UAQ1.jpg', 'andesite'],\n",
              " ['rhyolite/1NVQF.jpg', 'rhyolite'],\n",
              " ['andesite/7DXSH.jpg', 'andesite'],\n",
              " ['gneiss/4S3TZ.jpg', 'gneiss'],\n",
              " ['schist/5UW3V.jpg', 'schist'],\n",
              " ['gneiss/0UQ17.jpg', 'gneiss'],\n",
              " ['gneiss/6KYIA.jpg', 'gneiss'],\n",
              " ['rhyolite/2NJ65.jpg', 'rhyolite'],\n",
              " ['gneiss/3KPG1.jpg', 'gneiss'],\n",
              " ['quartzite/8FO7T.jpg', 'quartzite'],\n",
              " ['quartzite/0VU5W.jpg', 'quartzite'],\n",
              " ['andesite/4US5Q.jpg', 'andesite'],\n",
              " ['rhyolite/2BSAF.jpg', 'rhyolite'],\n",
              " ['schist/3OSV4.jpg', 'schist'],\n",
              " ['rhyolite/3Q5QW.jpg', 'rhyolite'],\n",
              " ['gneiss/4PBQK.jpg', 'gneiss'],\n",
              " ['rhyolite/4NW4T.jpg', 'rhyolite'],\n",
              " ['andesite/4ZNN4.jpg', 'andesite'],\n",
              " ['schist/4O9G2.jpg', 'schist'],\n",
              " ['gneiss/4YPI2.jpg', 'gneiss'],\n",
              " ['marble/1MWMD.jpg', 'marbler'],\n",
              " ['gneiss/0EUHA.jpg', 'gneiss'],\n",
              " ['rhyolite/2LTH2.jpg', 'rhyolite'],\n",
              " ['gneiss/4U5CT.jpg', 'gneiss'],\n",
              " ['quartzite/5QKAD.jpg', 'quartzite'],\n",
              " ['gneiss/4WO8W.jpg', 'gneiss'],\n",
              " ['schist/3O3RO.jpg', 'schist'],\n",
              " ['andesite/4KP56.jpg', 'andesite'],\n",
              " ['gneiss/4SM26.jpg', 'gneiss'],\n",
              " ['andesite/5AMAT.jpg', 'andesite'],\n",
              " ['rhyolite/2AYMH.jpg', 'rhyolite'],\n",
              " ['quartzite/7GEUM.jpg', 'quartzite'],\n",
              " ['gneiss/0DJ4D.jpg', 'gneiss'],\n",
              " ...]"
            ]
          },
          "metadata": {},
          "execution_count": 11
        }
      ]
    },
    {
      "cell_type": "code",
      "metadata": {
        "colab": {
          "base_uri": "https://localhost:8080/",
          "height": 417
        },
        "id": "JxH49usnlTiU",
        "outputId": "8166be4b-625a-4095-e173-b71e883b4144"
      },
      "source": [
        "data_df = pd.DataFrame(df,columns=['path','label'])\n",
        "data_df"
      ],
      "execution_count": 12,
      "outputs": [
        {
          "output_type": "execute_result",
          "data": {
            "text/html": [
              "<div>\n",
              "<style scoped>\n",
              "    .dataframe tbody tr th:only-of-type {\n",
              "        vertical-align: middle;\n",
              "    }\n",
              "\n",
              "    .dataframe tbody tr th {\n",
              "        vertical-align: top;\n",
              "    }\n",
              "\n",
              "    .dataframe thead th {\n",
              "        text-align: right;\n",
              "    }\n",
              "</style>\n",
              "<table border=\"1\" class=\"dataframe\">\n",
              "  <thead>\n",
              "    <tr style=\"text-align: right;\">\n",
              "      <th></th>\n",
              "      <th>path</th>\n",
              "      <th>label</th>\n",
              "    </tr>\n",
              "  </thead>\n",
              "  <tbody>\n",
              "    <tr>\n",
              "      <th>0</th>\n",
              "      <td>andesite/0YFIS.jpg</td>\n",
              "      <td>andesite</td>\n",
              "    </tr>\n",
              "    <tr>\n",
              "      <th>1</th>\n",
              "      <td>quartzite/6NO4Z.jpg</td>\n",
              "      <td>quartzite</td>\n",
              "    </tr>\n",
              "    <tr>\n",
              "      <th>2</th>\n",
              "      <td>andesite/7NSOK.jpg</td>\n",
              "      <td>andesite</td>\n",
              "    </tr>\n",
              "    <tr>\n",
              "      <th>3</th>\n",
              "      <td>gneiss/2SRMK.jpg</td>\n",
              "      <td>gneiss</td>\n",
              "    </tr>\n",
              "    <tr>\n",
              "      <th>4</th>\n",
              "      <td>schist/5NMXK.jpg</td>\n",
              "      <td>schist</td>\n",
              "    </tr>\n",
              "    <tr>\n",
              "      <th>...</th>\n",
              "      <td>...</td>\n",
              "      <td>...</td>\n",
              "    </tr>\n",
              "    <tr>\n",
              "      <th>4843</th>\n",
              "      <td>andesite/2EIB1.jpg</td>\n",
              "      <td>andesite</td>\n",
              "    </tr>\n",
              "    <tr>\n",
              "      <th>4844</th>\n",
              "      <td>andesite/7QVMH.jpg</td>\n",
              "      <td>andesite</td>\n",
              "    </tr>\n",
              "    <tr>\n",
              "      <th>4845</th>\n",
              "      <td>schist/6S59T.jpg</td>\n",
              "      <td>schist</td>\n",
              "    </tr>\n",
              "    <tr>\n",
              "      <th>4846</th>\n",
              "      <td>quartzite/6JT6D.jpg</td>\n",
              "      <td>quartzite</td>\n",
              "    </tr>\n",
              "    <tr>\n",
              "      <th>4847</th>\n",
              "      <td>quartzite/4TVW8.jpg</td>\n",
              "      <td>quartzite</td>\n",
              "    </tr>\n",
              "  </tbody>\n",
              "</table>\n",
              "<p>4848 rows × 2 columns</p>\n",
              "</div>"
            ],
            "text/plain": [
              "                     path      label\n",
              "0      andesite/0YFIS.jpg   andesite\n",
              "1     quartzite/6NO4Z.jpg  quartzite\n",
              "2      andesite/7NSOK.jpg   andesite\n",
              "3        gneiss/2SRMK.jpg     gneiss\n",
              "4        schist/5NMXK.jpg     schist\n",
              "...                   ...        ...\n",
              "4843   andesite/2EIB1.jpg   andesite\n",
              "4844   andesite/7QVMH.jpg   andesite\n",
              "4845     schist/6S59T.jpg     schist\n",
              "4846  quartzite/6JT6D.jpg  quartzite\n",
              "4847  quartzite/4TVW8.jpg  quartzite\n",
              "\n",
              "[4848 rows x 2 columns]"
            ]
          },
          "metadata": {},
          "execution_count": 12
        }
      ]
    },
    {
      "cell_type": "code",
      "metadata": {
        "colab": {
          "base_uri": "https://localhost:8080/"
        },
        "id": "qhAVtAK8zQPd",
        "outputId": "212cef65-51cb-4820-fd85-c7d614104ab0"
      },
      "source": [
        "data_df.dtypes"
      ],
      "execution_count": 13,
      "outputs": [
        {
          "output_type": "execute_result",
          "data": {
            "text/plain": [
              "path     object\n",
              "label    object\n",
              "dtype: object"
            ]
          },
          "metadata": {},
          "execution_count": 13
        }
      ]
    },
    {
      "cell_type": "markdown",
      "metadata": {
        "id": "XlUbajOTxHKl"
      },
      "source": [
        "# **Limpeza de dados**\n",
        "1 - Analisando os dados ausentes\n",
        "2 - Descartando os dados ausentes\n",
        "3 - Imputando dados\n",
        "4 - Acrescentando colunas informativas"
      ]
    },
    {
      "cell_type": "code",
      "metadata": {
        "colab": {
          "base_uri": "https://localhost:8080/",
          "height": 518
        },
        "id": "ybydrHWUvlbY",
        "outputId": "0e3d2b15-737d-4014-b380-694666fbd4ae"
      },
      "source": [
        "import missingno as msno\n",
        "ax = msno.matrix(data_df.sample(400))"
      ],
      "execution_count": 14,
      "outputs": [
        {
          "output_type": "display_data",
          "data": {
            "image/png": "[encoded data removed]",
            "text/plain": [
              "<Figure size 1800x720 with 2 Axes>"
            ]
          },
          "metadata": {
            "needs_background": "light"
          }
        }
      ]
    },
    {
      "cell_type": "code",
      "metadata": {
        "id": "9cVvBcwVxq9s"
      },
      "source": [
        "#! pip install pandas-profiling==2.8.0\n",
        "#from pandas_profiling import ProfileReport\n",
        "#ProfileReport (data_df)"
      ],
      "execution_count": null,
      "outputs": []
    },
    {
      "cell_type": "markdown",
      "metadata": {
        "id": "aPsSnX6j0Ec-"
      },
      "source": [
        "# **Separação das amostras**"
      ]
    },
    {
      "cell_type": "code",
      "metadata": {
        "id": "GivnwDIGUrFW"
      },
      "source": [
        "X = data_df.drop(columns='label')\n",
        "y = data_df.path"
      ],
      "execution_count": null,
      "outputs": []
    },
    {
      "cell_type": "code",
      "metadata": {
        "id": "uh3XBhM9pqJz"
      },
      "source": [
        "X_train,X_test,y_train,y_test=train_test_split(X,y,test_size=0.2,random_state=44)"
      ],
      "execution_count": null,
      "outputs": []
    },
    {
      "cell_type": "markdown",
      "metadata": {
        "id": "uAXxm12yUwsI"
      },
      "source": [
        "# **Explorando os dados**"
      ]
    },
    {
      "cell_type": "code",
      "metadata": {
        "colab": {
          "base_uri": "https://localhost:8080/",
          "height": 212
        },
        "id": "RIeT3Ji_UxQO",
        "outputId": "5f1db233-c77a-492d-ef2e-20bc42a42ca9"
      },
      "source": [
        "print(X_train.shape)\n",
        "print(X_test.shape)\n",
        "print(y_train.shape)\n",
        "print(y_test.shape)"
      ],
      "execution_count": 15,
      "outputs": [
        {
          "output_type": "error",
          "ename": "NameError",
          "evalue": "ignored",
          "traceback": [
            "\u001b[0;31m---------------------------------------------------------------------------\u001b[0m",
            "\u001b[0;31mNameError\u001b[0m                                 Traceback (most recent call last)",
            "\u001b[0;32m<ipython-input-15-72473169a3b2>\u001b[0m in \u001b[0;36m<module>\u001b[0;34m()\u001b[0m\n\u001b[0;32m----> 1\u001b[0;31m \u001b[0mprint\u001b[0m\u001b[0;34m(\u001b[0m\u001b[0mX_train\u001b[0m\u001b[0;34m.\u001b[0m\u001b[0mshape\u001b[0m\u001b[0;34m)\u001b[0m\u001b[0;34m\u001b[0m\u001b[0;34m\u001b[0m\u001b[0m\n\u001b[0m\u001b[1;32m      2\u001b[0m \u001b[0mprint\u001b[0m\u001b[0;34m(\u001b[0m\u001b[0mX_test\u001b[0m\u001b[0;34m.\u001b[0m\u001b[0mshape\u001b[0m\u001b[0;34m)\u001b[0m\u001b[0;34m\u001b[0m\u001b[0;34m\u001b[0m\u001b[0m\n\u001b[1;32m      3\u001b[0m \u001b[0mprint\u001b[0m\u001b[0;34m(\u001b[0m\u001b[0my_train\u001b[0m\u001b[0;34m.\u001b[0m\u001b[0mshape\u001b[0m\u001b[0;34m)\u001b[0m\u001b[0;34m\u001b[0m\u001b[0;34m\u001b[0m\u001b[0m\n\u001b[1;32m      4\u001b[0m \u001b[0mprint\u001b[0m\u001b[0;34m(\u001b[0m\u001b[0my_test\u001b[0m\u001b[0;34m.\u001b[0m\u001b[0mshape\u001b[0m\u001b[0;34m)\u001b[0m\u001b[0;34m\u001b[0m\u001b[0;34m\u001b[0m\u001b[0m\n",
            "\u001b[0;31mNameError\u001b[0m: name 'X_train' is not defined"
          ]
        }
      ]
    },
    {
      "cell_type": "code",
      "metadata": {
        "id": "Xry02gl1VD3g"
      },
      "source": [
        "#fig, ax = plt.subplots(figsize=(6,4))\n",
        "#X.plot(kind=\"hist\",ax=ax)"
      ],
      "execution_count": null,
      "outputs": []
    },
    {
      "cell_type": "markdown",
      "metadata": {
        "id": "-AAuWUVf6ocm"
      },
      "source": [
        "# **Data Argumentation**"
      ]
    },
    {
      "cell_type": "markdown",
      "metadata": {
        "id": "G1xbq78zfV9i"
      },
      "source": [
        "## ** Esta função irá plotar as imagens num grid de 1 a 5 colunas **"
      ]
    },
    {
      "cell_type": "code",
      "metadata": {
        "id": "hjV3pOngCtA7"
      },
      "source": [
        "def plotImages(images_arr):\n",
        "    fig, axes = plt.subplots(1, 5, figsize=(20,20))\n",
        "    axes = axes.flatten()\n",
        "    for img, ax in zip(images_arr, axes):\n",
        "        ax.imshow(img)\n",
        "    plt.tight_layout()\n",
        "    plt.show()"
      ],
      "execution_count": 16,
      "outputs": []
    },
    {
      "cell_type": "code",
      "metadata": {
        "id": "jkUru3gBfA0n"
      },
      "source": [
        "IMG_SHAPE = 28\n",
        "BATCH_SIZE = 20"
      ],
      "execution_count": 17,
      "outputs": []
    },
    {
      "cell_type": "code",
      "metadata": {
        "id": "Cw0IbS6mfdxM"
      },
      "source": [
        "datagen = ImageDataGenerator(rescale=1./255,\n",
        "                            #rotation_range = 40,\n",
        "                            #width_shift_range = 0.2,\n",
        "                            #height_shift_range = 0.2,\n",
        "                            #shear_range = 0.2,\n",
        "                            #zoom_range = 0.2,\n",
        "                            horizontal_flip = True,\n",
        "                            validation_split=0.2)"
      ],
      "execution_count": 18,
      "outputs": []
    },
    {
      "cell_type": "code",
      "metadata": {
        "colab": {
          "base_uri": "https://localhost:8080/"
        },
        "id": "fJOGqBP7fd3n",
        "outputId": "4d2220d5-36e8-43bc-c347-b1b495507476"
      },
      "source": [
        "train_generator = datagen.flow_from_dataframe(data_df,\n",
        "                                              x_col='path',\n",
        "                                              y_col='label',\n",
        "                                              images_size=(28,28),\n",
        "                                              #class_mode='binary',\n",
        "                                              subset='training')\n",
        "\n",
        "validation_generator = datagen.flow_from_dataframe(data_df,\n",
        "                                                   x_col='path',\n",
        "                                                   y_col='label',\n",
        "                                                   images_size=(28,28),\n",
        "                                                   #class_mode='binary',\n",
        "                                                   subset='validation')\n",
        "\n",
        "## Duvidas - Existe esse codigo abaixo\n",
        "\n",
        "#test_generator = datagen.flow_from_dataframe(data_df,\n",
        "                                              #x_col='path',\n",
        "                                             # y_col='label',\n",
        "                                             # images_size=(28,28)\n",
        "                                              #class_mode='binary')\n",
        "                                             # )"
      ],
      "execution_count": 19,
      "outputs": [
        {
          "output_type": "stream",
          "name": "stdout",
          "text": [
            "Found 3879 validated image filenames belonging to 6 classes.\n",
            "Found 969 validated image filenames belonging to 6 classes.\n"
          ]
        }
      ]
    },
    {
      "cell_type": "code",
      "metadata": {
        "colab": {
          "base_uri": "https://localhost:8080/",
          "height": 249
        },
        "id": "ShN0CzElfd9R",
        "outputId": "7fa30b80-4958-46b0-ba04-b844e819ee95"
      },
      "source": [
        "augmented_images = [train_generator[0][0][0] for i in range(5)]\n",
        "plotImages(augmented_images)"
      ],
      "execution_count": 20,
      "outputs": [
        {
          "output_type": "display_data",
          "data": {
            "image/png": "[encoded data removed]",
            "text/plain": [
              "<Figure size 1440x1440 with 5 Axes>"
            ]
          },
          "metadata": {
            "needs_background": "light"
          }
        }
      ]
    },
    {
      "cell_type": "markdown",
      "metadata": {
        "id": "l1OMG-TS0Lq_"
      },
      "source": [
        "# **Imputação dos dados ???**"
      ]
    },
    {
      "cell_type": "markdown",
      "metadata": {
        "id": "JbBfQIg10RlI"
      },
      "source": [
        "# **Normalização dos dados ???**"
      ]
    },
    {
      "cell_type": "markdown",
      "metadata": {
        "id": "_3kIlBx3r01D"
      },
      "source": [
        "# **Pre Processamento dos dados**"
      ]
    },
    {
      "cell_type": "markdown",
      "metadata": {
        "id": "dXm8LYqv0_vK"
      },
      "source": [
        "# **Criar o modelo**"
      ]
    },
    {
      "cell_type": "code",
      "metadata": {
        "colab": {
          "base_uri": "https://localhost:8080/",
          "height": 229
        },
        "id": "aksvwnd_cB3m",
        "outputId": "4f58391f-65ef-4b9d-85b0-ff4a1d876deb"
      },
      "source": [
        "inputs = tf.keras.Input(shape=(256, 256,3))\n",
        "#x = augmented_images(inputs) # como conserto e passo isso\n",
        "x = layers.experimental.preprocessing.Rescaling(1./255)(x)\n",
        "x = layers.Conv2D(filters=32, kernel_size=3, activation=\"relu\")(x)\n",
        "x = layers.MaxPooling2D(pool_size=2)(x)\n",
        "x = layers.Conv2D(filters=64, kernel_size=3, activation=\"relu\")(x)\n",
        "x = layers.MaxPooling2D(pool_size=2)(x)\n",
        "x = layers.Conv2D(filters=128, kernel_size=3, activation=\"relu\")(x)\n",
        "x = layers.MaxPooling2D(pool_size=2)(x)\n",
        "x = layers.Conv2D(filters=256, kernel_size=3, activation=\"relu\")(x)\n",
        "x = layers.MaxPooling2D(pool_size=2)(x)\n",
        "x = layers.Conv2D(filters=256, kernel_size=3, activation=\"relu\")(x)\n",
        "x = layers.Flatten()(x)\n",
        "x = layers.Dropout(0.5)(x)\n",
        "outputs = layers.Dense(3, activation=\"sigmoid\")(x)\n",
        "model = tf.keras.Model(inputs=inputs, outputs=outputs)\n"
      ],
      "execution_count": null,
      "outputs": [
        {
          "output_type": "error",
          "ename": "TypeError",
          "evalue": "ignored",
          "traceback": [
            "\u001b[0;31m---------------------------------------------------------------------------\u001b[0m",
            "\u001b[0;31mTypeError\u001b[0m                                 Traceback (most recent call last)",
            "\u001b[0;32m<ipython-input-20-fed7e1b628b5>\u001b[0m in \u001b[0;36m<module>\u001b[0;34m()\u001b[0m\n\u001b[1;32m      1\u001b[0m \u001b[0minputs\u001b[0m \u001b[0;34m=\u001b[0m \u001b[0mtf\u001b[0m\u001b[0;34m.\u001b[0m\u001b[0mkeras\u001b[0m\u001b[0;34m.\u001b[0m\u001b[0mInput\u001b[0m\u001b[0;34m(\u001b[0m\u001b[0mshape\u001b[0m\u001b[0;34m=\u001b[0m\u001b[0;34m(\u001b[0m\u001b[0;36m256\u001b[0m\u001b[0;34m,\u001b[0m \u001b[0;36m256\u001b[0m\u001b[0;34m,\u001b[0m\u001b[0;36m3\u001b[0m\u001b[0;34m)\u001b[0m\u001b[0;34m)\u001b[0m\u001b[0;34m\u001b[0m\u001b[0;34m\u001b[0m\u001b[0m\n\u001b[0;32m----> 2\u001b[0;31m \u001b[0mx\u001b[0m \u001b[0;34m=\u001b[0m \u001b[0maugmented_images\u001b[0m\u001b[0;34m(\u001b[0m\u001b[0minputs\u001b[0m\u001b[0;34m)\u001b[0m \u001b[0;31m# como conserto e passo isso\u001b[0m\u001b[0;34m\u001b[0m\u001b[0;34m\u001b[0m\u001b[0m\n\u001b[0m\u001b[1;32m      3\u001b[0m \u001b[0mx\u001b[0m \u001b[0;34m=\u001b[0m \u001b[0mlayers\u001b[0m\u001b[0;34m.\u001b[0m\u001b[0mexperimental\u001b[0m\u001b[0;34m.\u001b[0m\u001b[0mpreprocessing\u001b[0m\u001b[0;34m.\u001b[0m\u001b[0mRescaling\u001b[0m\u001b[0;34m(\u001b[0m\u001b[0;36m1.\u001b[0m\u001b[0;34m/\u001b[0m\u001b[0;36m255\u001b[0m\u001b[0;34m)\u001b[0m\u001b[0;34m(\u001b[0m\u001b[0mx\u001b[0m\u001b[0;34m)\u001b[0m\u001b[0;34m\u001b[0m\u001b[0;34m\u001b[0m\u001b[0m\n\u001b[1;32m      4\u001b[0m \u001b[0mx\u001b[0m \u001b[0;34m=\u001b[0m \u001b[0mlayers\u001b[0m\u001b[0;34m.\u001b[0m\u001b[0mConv2D\u001b[0m\u001b[0;34m(\u001b[0m\u001b[0mfilters\u001b[0m\u001b[0;34m=\u001b[0m\u001b[0;36m32\u001b[0m\u001b[0;34m,\u001b[0m \u001b[0mkernel_size\u001b[0m\u001b[0;34m=\u001b[0m\u001b[0;36m3\u001b[0m\u001b[0;34m,\u001b[0m \u001b[0mactivation\u001b[0m\u001b[0;34m=\u001b[0m\u001b[0;34m\"relu\"\u001b[0m\u001b[0;34m)\u001b[0m\u001b[0;34m(\u001b[0m\u001b[0mx\u001b[0m\u001b[0;34m)\u001b[0m\u001b[0;34m\u001b[0m\u001b[0;34m\u001b[0m\u001b[0m\n\u001b[1;32m      5\u001b[0m \u001b[0mx\u001b[0m \u001b[0;34m=\u001b[0m \u001b[0mlayers\u001b[0m\u001b[0;34m.\u001b[0m\u001b[0mMaxPooling2D\u001b[0m\u001b[0;34m(\u001b[0m\u001b[0mpool_size\u001b[0m\u001b[0;34m=\u001b[0m\u001b[0;36m2\u001b[0m\u001b[0;34m)\u001b[0m\u001b[0;34m(\u001b[0m\u001b[0mx\u001b[0m\u001b[0;34m)\u001b[0m\u001b[0;34m\u001b[0m\u001b[0;34m\u001b[0m\u001b[0m\n",
            "\u001b[0;31mTypeError\u001b[0m: 'list' object is not callable"
          ]
        }
      ]
    },
    {
      "cell_type": "code",
      "metadata": {
        "id": "ncctBTCAgG7d"
      },
      "source": [
        "model = tf.keras.models.Sequential([\n",
        "    tf.keras.layers.Conv2D(256, (3,3), activation='relu', input_shape=(256, 256, 3)),\n",
        "    tf.keras.layers.MaxPooling2D(2, 2),\n",
        "\n",
        "    tf.keras.layers.Conv2D(64, (3,3), activation='relu'),\n",
        "    tf.keras.layers.MaxPooling2D(2,2),\n",
        "\n",
        "    tf.keras.layers.Conv2D(128, (3,3), activation='relu'),\n",
        "    tf.keras.layers.MaxPooling2D(2,2),\n",
        "\n",
        "    #tf.keras.layers.Conv2D(128, (3,3), activation='relu'),\n",
        "    #tf.keras.layers.MaxPooling2D(2,2),\n",
        "\n",
        "    tf.keras.layers.Dropout(0.5),\n",
        "    tf.keras.layers.Flatten(),\n",
        "    tf.keras.layers.Dense(512, activation='relu'),\n",
        "    tf.keras.layers.Dense(1)\n",
        "])"
      ],
      "execution_count": 28,
      "outputs": []
    },
    {
      "cell_type": "markdown",
      "metadata": {
        "id": "cQvF_-VrbIhO"
      },
      "source": [
        "# **Compilando o Modelo**"
      ]
    },
    {
      "cell_type": "code",
      "metadata": {
        "id": "tseOThp5bLVl"
      },
      "source": [
        "model.compile(optimizer = Adam(learning_rate=0.0001), \n",
        "               loss = 'binary_crossentropy', \n",
        "               metrics =['accuracy'])"
      ],
      "execution_count": 29,
      "outputs": []
    },
    {
      "cell_type": "code",
      "metadata": {
        "colab": {
          "base_uri": "https://localhost:8080/"
        },
        "id": "quiMae2IbOcT",
        "outputId": "5fa4a20a-e6d9-4401-a049-b62b99f0661b"
      },
      "source": [
        "model.summary()  "
      ],
      "execution_count": 30,
      "outputs": [
        {
          "output_type": "stream",
          "name": "stdout",
          "text": [
            "Model: \"sequential_2\"\n",
            "_________________________________________________________________\n",
            "Layer (type)                 Output Shape              Param #   \n",
            "=================================================================\n",
            "conv2d_6 (Conv2D)            (None, 254, 254, 256)     7168      \n",
            "_________________________________________________________________\n",
            "max_pooling2d_6 (MaxPooling2 (None, 127, 127, 256)     0         \n",
            "_________________________________________________________________\n",
            "conv2d_7 (Conv2D)            (None, 125, 125, 64)      147520    \n",
            "_________________________________________________________________\n",
            "max_pooling2d_7 (MaxPooling2 (None, 62, 62, 64)        0         \n",
            "_________________________________________________________________\n",
            "conv2d_8 (Conv2D)            (None, 60, 60, 128)       73856     \n",
            "_________________________________________________________________\n",
            "max_pooling2d_8 (MaxPooling2 (None, 30, 30, 128)       0         \n",
            "_________________________________________________________________\n",
            "dropout_2 (Dropout)          (None, 30, 30, 128)       0         \n",
            "_________________________________________________________________\n",
            "flatten_2 (Flatten)          (None, 115200)            0         \n",
            "_________________________________________________________________\n",
            "dense_4 (Dense)              (None, 512)               58982912  \n",
            "_________________________________________________________________\n",
            "dense_5 (Dense)              (None, 1)                 513       \n",
            "=================================================================\n",
            "Total params: 59,211,969\n",
            "Trainable params: 59,211,969\n",
            "Non-trainable params: 0\n",
            "_________________________________________________________________\n"
          ]
        }
      ]
    },
    {
      "cell_type": "code",
      "metadata": {
        "id": "9Sr0YDZ8dCmz"
      },
      "source": [
        "callbacks_list = [\n",
        "    tf.keras.callbacks.ReduceLROnPlateau(factor=0.5,\n",
        "                                         patience=4,\n",
        "                                         verbose=0),\n",
        "    tf.keras.callbacks.EarlyStopping(\n",
        "        monitor=\"accuracy\",\n",
        "        patience=12,\n",
        "        #restore_best_weights=True,\n",
        "    ),\n",
        "    tf.keras.callbacks.ModelCheckpoint(\n",
        "        filepath='best_model.h5',\n",
        "        monitor=\"val_accuracy\",\n",
        "        save_best_only=True,\n",
        "    ),\n",
        "\n",
        "]"
      ],
      "execution_count": 31,
      "outputs": []
    },
    {
      "cell_type": "markdown",
      "metadata": {
        "id": "IhQyiWIh1HQs"
      },
      "source": [
        "# **Avaliar o modelo**"
      ]
    },
    {
      "cell_type": "code",
      "metadata": {
        "colab": {
          "base_uri": "https://localhost:8080/"
        },
        "id": "cwpnwl86dm74",
        "outputId": "3e0cf6b6-70c7-4eca-db55-041d36fc46f1"
      },
      "source": [
        "history = model.fit(train_generator,\n",
        "                               epochs=20,\n",
        "                               #verbose=0,\n",
        "                               callbacks=callbacks_list, \n",
        "                               #validation_split=0.2,\n",
        "                               #class_weight=class_weight_,\n",
        "                               #workers=4,\n",
        "                               #use_multiprocessing=True,\n",
        "                               validation_data=validation_generator)"
      ],
      "execution_count": null,
      "outputs": [
        {
          "output_type": "stream",
          "name": "stdout",
          "text": [
            "Epoch 1/20\n",
            "  2/122 [..............................] - ETA: 36:34 - loss: 6.6856 - accuracy: 0.5000"
          ]
        }
      ]
    },
    {
      "cell_type": "markdown",
      "metadata": {
        "id": "0G-slWFQ1KwJ"
      },
      "source": [
        "# **Otimizar o modelo**"
      ]
    },
    {
      "cell_type": "code",
      "metadata": {
        "id": "SSXH7txAgG_n"
      },
      "source": [
        ""
      ],
      "execution_count": null,
      "outputs": []
    }
  ]
}