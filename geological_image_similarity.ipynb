{
  "nbformat": 4,
  "nbformat_minor": 0,
  "metadata": {
    "colab": {
      "name": "geological-image-similarity.ipynb",
      "provenance": [],
      "authorship_tag": "ABX9TyNwR45a27QcjjkadI7aNbr0",
      "include_colab_link": true
    },
    "kernelspec": {
      "name": "python3",
      "display_name": "Python 3"
    },
    "language_info": {
      "name": "python"
    },
    "accelerator": "GPU"
  },
  "cells": [
    {
      "cell_type": "markdown",
      "metadata": {
        "id": "view-in-github",
        "colab_type": "text"
      },
      "source": [
        "<a href=\"https://colab.research.google.com/github/fabiobasson/Bi-Master/blob/main/geological_image_similarity.ipynb\" target=\"_parent\"><img src=\"https://colab.research.google.com/assets/colab-badge.svg\" alt=\"Open In Colab\"/></a>"
      ]
    },
    {
      "cell_type": "markdown",
      "metadata": {
        "id": "ek-dpdgUwrpq"
      },
      "source": [
        "# Importações "
      ]
    },
    {
      "cell_type": "code",
      "metadata": {
        "id": "d_JsE0wMwy5m"
      },
      "source": [
        "import os\n",
        "import tensorflow as tf\n",
        "from tensorflow.keras import layers\n",
        "from tensorflow.keras import Model\n",
        "from os import getcwd\n",
        "import zipfile\n",
        "import shutil\n",
        "import numpy as np\n",
        "import glob\n",
        "import random\n",
        "import pandas as pd\n",
        "import matplotlib.pyplot as plt\n",
        "\n",
        "\n",
        "from tensorflow.keras.optimizers import RMSprop, Adam\n",
        "from tensorflow.keras.applications.inception_v3 import InceptionV3\n",
        "from tensorflow.keras.preprocessing.image import ImageDataGenerator\n",
        "\n",
        "from sklearn.metrics import confusion_matrix,accuracy_score\n",
        "from sklearn.model_selection import train_test_split"
      ],
      "execution_count": 1,
      "outputs": []
    },
    {
      "cell_type": "code",
      "metadata": {
        "id": "qB35LCwK1F9Y"
      },
      "source": [
        "!rm -rf geological_similarity"
      ],
      "execution_count": 2,
      "outputs": []
    },
    {
      "cell_type": "markdown",
      "metadata": {
        "id": "WsBJvou07fbF"
      },
      "source": [
        "# **Coleta de dados do Kaglle**"
      ]
    },
    {
      "cell_type": "code",
      "metadata": {
        "colab": {
          "resources": {
            "http://localhost:8080/nbextensions/google.colab/files.js": {
              "data": "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",
              "ok": true,
              "headers": [
                [
                  "content-type",
                  "application/javascript"
                ]
              ],
              "status": 200,
              "status_text": ""
            }
          },
          "base_uri": "https://localhost:8080/",
          "height": 90
        },
        "id": "qPW1Uceu4EkK",
        "outputId": "c3f4688b-9b5c-4966-ace1-1d9890e32e13"
      },
      "source": [
        "from google.colab import files\n",
        "files.upload()"
      ],
      "execution_count": 3,
      "outputs": [
        {
          "output_type": "display_data",
          "data": {
            "text/html": [
              "\n",
              "     <input type=\"file\" id=\"files-07cc8de5-e81e-41d8-8fd5-8f54faddecf9\" name=\"files[]\" multiple disabled\n",
              "        style=\"border:none\" />\n",
              "     <output id=\"result-07cc8de5-e81e-41d8-8fd5-8f54faddecf9\">\n",
              "      Upload widget is only available when the cell has been executed in the\n",
              "      current browser session. Please rerun this cell to enable.\n",
              "      </output>\n",
              "      <script src=\"/nbextensions/google.colab/files.js\"></script> "
            ],
            "text/plain": [
              "<IPython.core.display.HTML object>"
            ]
          },
          "metadata": {}
        },
        {
          "output_type": "stream",
          "name": "stdout",
          "text": [
            "Saving kaggle.json to kaggle (1).json\n"
          ]
        },
        {
          "output_type": "execute_result",
          "data": {
            "text/plain": [
              "{'kaggle.json': b'{\"username\":\"fabiobasson\",\"key\":\"d71cbfdfd23379909173204eac74cf96\"}'}"
            ]
          },
          "metadata": {},
          "execution_count": 3
        }
      ]
    },
    {
      "cell_type": "code",
      "metadata": {
        "id": "SQCTWdML4LFR",
        "colab": {
          "base_uri": "https://localhost:8080/"
        },
        "outputId": "aa2dd9d3-9867-450d-cf2c-6d5c6d60ebac"
      },
      "source": [
        "!mkdir ~/.kaggle\n",
        "!cp kaggle.json ~/.kaggle/\n",
        "!chmod 600 ~/.kaggle/kaggle.json"
      ],
      "execution_count": 4,
      "outputs": [
        {
          "output_type": "stream",
          "name": "stdout",
          "text": [
            "mkdir: cannot create directory ‘/root/.kaggle’: File exists\n"
          ]
        }
      ]
    },
    {
      "cell_type": "markdown",
      "metadata": {
        "id": "rte0cNVp7kgE"
      },
      "source": [
        "# **###  Download dos dados / descompactando os dados**"
      ]
    },
    {
      "cell_type": "code",
      "metadata": {
        "colab": {
          "base_uri": "https://localhost:8080/"
        },
        "id": "cPWKIkQqHfSv",
        "outputId": "6c7cb82e-c271-4e8b-bad4-6a56b2a64f47"
      },
      "source": [
        "#!kaggle datasets download tanyadayanand/geological-image-similarity\n",
        "#! unzip -qq  geological-image-similarity"
      ],
      "execution_count": 6,
      "outputs": [
        {
          "output_type": "stream",
          "name": "stdout",
          "text": [
            "Downloading geological-image-similarity.zip to /content\n",
            " 80% 27.0M/33.6M [00:00<00:00, 22.8MB/s]\n",
            "100% 33.6M/33.6M [00:00<00:00, 49.2MB/s]\n"
          ]
        }
      ]
    },
    {
      "cell_type": "code",
      "metadata": {
        "colab": {
          "base_uri": "https://localhost:8080/"
        },
        "id": "GvN30SNO4L1f",
        "outputId": "20eeef02-52f0-4652-8ef1-aa5f6cb34b49"
      },
      "source": [
        "!kaggle datasets download fabiobasson/geologicalsimilarity\n",
        "! unzip -qq  geological-similarity"
      ],
      "execution_count": 7,
      "outputs": [
        {
          "output_type": "stream",
          "name": "stdout",
          "text": [
            "Downloading geologicalsimilarity.zip to /content\n",
            " 97% 5.00M/5.16M [00:01<00:00, 4.08MB/s]\n",
            "100% 5.16M/5.16M [00:01<00:00, 4.10MB/s]\n",
            "unzip:  cannot find or open geological-similarity, geological-similarity.zip or geological-similarity.ZIP.\n"
          ]
        }
      ]
    },
    {
      "cell_type": "markdown",
      "metadata": {
        "id": "owY2uo8A7q5j"
      },
      "source": [
        "# ** Criação da estrutura e Dataframe**"
      ]
    },
    {
      "cell_type": "code",
      "metadata": {
        "colab": {
          "base_uri": "https://localhost:8080/"
        },
        "id": "QXSrUDeU4L7J",
        "outputId": "a58a2c8c-b869-492d-938d-a8f1f818415a"
      },
      "source": [
        "andesite_dir = glob.glob('geological_similarity/andesite/*.jpg');gneiss_dir = glob.glob('geological_similarity/gneiss/*.jpg')\n",
        "marble_dir = glob.glob('geological_similarity/marble/*.jpg');quartzite_dir = glob.glob('geological_similarity/quartzite/*.jpg')\n",
        "rhyolite_dir = glob.glob('geological_similarity/rhyolite/*.jpg');\n",
        "schist_dir = glob.glob('geological_similarity/schist/*.jpg')\n",
        "print(len(andesite_dir));print(len(gneiss_dir)); print(len(marble_dir)); print(len(quartzite_dir));  print(len(quartzite_dir)); print(len(schist_dir))\n"
      ],
      "execution_count": 7,
      "outputs": [
        {
          "output_type": "stream",
          "name": "stdout",
          "text": [
            "5000\n",
            "5000\n",
            "4998\n",
            "5000\n",
            "5000\n",
            "5000\n"
          ]
        }
      ]
    },
    {
      "cell_type": "code",
      "metadata": {
        "colab": {
          "base_uri": "https://localhost:8080/"
        },
        "id": "_eBw1Jk2EYm2",
        "outputId": "129b6420-982f-4df4-b4f6-ee104bb8fc7c"
      },
      "source": [
        "andesite_dir[0:4]"
      ],
      "execution_count": 8,
      "outputs": [
        {
          "output_type": "execute_result",
          "data": {
            "text/plain": [
              "['geological_similarity/andesite/9AA5X.jpg',\n",
              " 'geological_similarity/andesite/FQGXN.jpg',\n",
              " 'geological_similarity/andesite/5BW0Y.jpg',\n",
              " 'geological_similarity/andesite/HZE4C.jpg']"
            ]
          },
          "metadata": {},
          "execution_count": 8
        }
      ]
    },
    {
      "cell_type": "code",
      "metadata": {
        "id": "O9d3W_LswkS2",
        "colab": {
          "base_uri": "https://localhost:8080/",
          "height": 35
        },
        "outputId": "71bbae0c-326b-4001-a4db-8273d12d2240"
      },
      "source": [
        "class_names = ['andesite', 'gneiss', 'marbler', 'quartzite', 'rhyolite','schist']\n",
        "class_names[0]"
      ],
      "execution_count": 9,
      "outputs": [
        {
          "output_type": "execute_result",
          "data": {
            "application/vnd.google.colaboratory.intrinsic+json": {
              "type": "string"
            },
            "text/plain": [
              "'andesite'"
            ]
          },
          "metadata": {},
          "execution_count": 9
        }
      ]
    },
    {
      "cell_type": "code",
      "metadata": {
        "colab": {
          "base_uri": "https://localhost:8080/"
        },
        "id": "wBhB6b6xi1xl",
        "outputId": "ad5a4d4d-02cc-4c0e-8b92-f97f6b6a1ee5"
      },
      "source": [
        "andesite_df=[];gneiss_df=[];marble_df=[]\n",
        "quartzite_df=[]\n",
        "rhyolite_df=[]\n",
        "schist_df=[]\n",
        "\n",
        "for i in andesite_dir:\n",
        "    andesite_df.append([i,class_names[0]])\n",
        "for j in gneiss_dir:\n",
        "   gneiss_df.append([j,class_names[1]])\n",
        "for l in marble_dir:\n",
        "    marble_df.append([l,class_names[2]])\n",
        "for m in quartzite_dir:\n",
        "    quartzite_df.append([m,class_names[3]])\n",
        "for n in rhyolite_dir:\n",
        "    rhyolite_df.append([n,class_names[4]])\n",
        "for o in schist_dir:\n",
        "    schist_df.append([o,class_names[5]])\n",
        "   \n",
        "df = andesite_df + gneiss_df + marble_df + quartzite_df + rhyolite_df + schist_df\n",
        "random.shuffle(df)\n",
        "df"
      ],
      "execution_count": 10,
      "outputs": [
        {
          "output_type": "execute_result",
          "data": {
            "text/plain": [
              "[['geological_similarity/gneiss/9W1HV.jpg', 'gneiss'],\n",
              " ['geological_similarity/schist/6DT8T.jpg', 'schist'],\n",
              " ['geological_similarity/gneiss/GYW9W.jpg', 'gneiss'],\n",
              " ['geological_similarity/rhyolite/KCOL2.jpg', 'rhyolite'],\n",
              " ['geological_similarity/rhyolite/ESFLC.jpg', 'rhyolite'],\n",
              " ['geological_similarity/marble/3HIOK.jpg', 'marbler'],\n",
              " ['geological_similarity/schist/M4X8S.jpg', 'schist'],\n",
              " ['geological_similarity/marble/G02A5.jpg', 'marbler'],\n",
              " ['geological_similarity/rhyolite/36AFI.jpg', 'rhyolite'],\n",
              " ['geological_similarity/schist/92T2J.jpg', 'schist'],\n",
              " ['geological_similarity/schist/JC2CM.jpg', 'schist'],\n",
              " ['geological_similarity/gneiss/ALOUF.jpg', 'gneiss'],\n",
              " ['geological_similarity/andesite/EG19Q.jpg', 'andesite'],\n",
              " ['geological_similarity/rhyolite/GG5A9.jpg', 'rhyolite'],\n",
              " ['geological_similarity/schist/UIVZY.jpg', 'schist'],\n",
              " ['geological_similarity/andesite/9PBSQ.jpg', 'andesite'],\n",
              " ['geological_similarity/marble/XFCLB.jpg', 'marbler'],\n",
              " ['geological_similarity/quartzite/B802Q.jpg', 'quartzite'],\n",
              " ['geological_similarity/gneiss/48FUP.jpg', 'gneiss'],\n",
              " ['geological_similarity/rhyolite/95FD9.jpg', 'rhyolite'],\n",
              " ['geological_similarity/schist/54ZAB.jpg', 'schist'],\n",
              " ['geological_similarity/marble/OMXBK.jpg', 'marbler'],\n",
              " ['geological_similarity/schist/43HDO.jpg', 'schist'],\n",
              " ['geological_similarity/rhyolite/MGBKI.jpg', 'rhyolite'],\n",
              " ['geological_similarity/marble/NQP2K.jpg', 'marbler'],\n",
              " ['geological_similarity/schist/TAGGZ.jpg', 'schist'],\n",
              " ['geological_similarity/schist/ZEKOB.jpg', 'schist'],\n",
              " ['geological_similarity/schist/E9YZ7.jpg', 'schist'],\n",
              " ['geological_similarity/marble/KXWST.jpg', 'marbler'],\n",
              " ['geological_similarity/gneiss/78B3L.jpg', 'gneiss'],\n",
              " ['geological_similarity/quartzite/1VLI5.jpg', 'quartzite'],\n",
              " ['geological_similarity/quartzite/TSV0E.jpg', 'quartzite'],\n",
              " ['geological_similarity/gneiss/08OX5.jpg', 'gneiss'],\n",
              " ['geological_similarity/schist/V4GSM.jpg', 'schist'],\n",
              " ['geological_similarity/gneiss/TVZ9I.jpg', 'gneiss'],\n",
              " ['geological_similarity/andesite/DT5L4.jpg', 'andesite'],\n",
              " ['geological_similarity/quartzite/ZXUZJ.jpg', 'quartzite'],\n",
              " ['geological_similarity/quartzite/QUR3D.jpg', 'quartzite'],\n",
              " ['geological_similarity/rhyolite/IFBEL.jpg', 'rhyolite'],\n",
              " ['geological_similarity/quartzite/GNZEF.jpg', 'quartzite'],\n",
              " ['geological_similarity/gneiss/7P8GB.jpg', 'gneiss'],\n",
              " ['geological_similarity/marble/2DDE7.jpg', 'marbler'],\n",
              " ['geological_similarity/rhyolite/YDUHE.jpg', 'rhyolite'],\n",
              " ['geological_similarity/quartzite/JPXYR.jpg', 'quartzite'],\n",
              " ['geological_similarity/gneiss/H9ZTV.jpg', 'gneiss'],\n",
              " ['geological_similarity/rhyolite/RA2CF.jpg', 'rhyolite'],\n",
              " ['geological_similarity/quartzite/OZ4Y2.jpg', 'quartzite'],\n",
              " ['geological_similarity/andesite/JJSUE.jpg', 'andesite'],\n",
              " ['geological_similarity/andesite/ROCG9.jpg', 'andesite'],\n",
              " ['geological_similarity/gneiss/I7B6N.jpg', 'gneiss'],\n",
              " ['geological_similarity/quartzite/99N2O.jpg', 'quartzite'],\n",
              " ['geological_similarity/quartzite/TZTFK.jpg', 'quartzite'],\n",
              " ['geological_similarity/gneiss/DXCEO.jpg', 'gneiss'],\n",
              " ['geological_similarity/andesite/NOAC8.jpg', 'andesite'],\n",
              " ['geological_similarity/rhyolite/TWJC2.jpg', 'rhyolite'],\n",
              " ['geological_similarity/rhyolite/VFCY0.jpg', 'rhyolite'],\n",
              " ['geological_similarity/quartzite/W6BVH.jpg', 'quartzite'],\n",
              " ['geological_similarity/quartzite/N7C36.jpg', 'quartzite'],\n",
              " ['geological_similarity/schist/DVURN.jpg', 'schist'],\n",
              " ['geological_similarity/schist/K1PLL.jpg', 'schist'],\n",
              " ['geological_similarity/quartzite/XX8OP.jpg', 'quartzite'],\n",
              " ['geological_similarity/andesite/ON36V.jpg', 'andesite'],\n",
              " ['geological_similarity/quartzite/G7HRW.jpg', 'quartzite'],\n",
              " ['geological_similarity/schist/BUPCG.jpg', 'schist'],\n",
              " ['geological_similarity/rhyolite/71DA2.jpg', 'rhyolite'],\n",
              " ['geological_similarity/andesite/IANCX.jpg', 'andesite'],\n",
              " ['geological_similarity/andesite/G0NAI.jpg', 'andesite'],\n",
              " ['geological_similarity/rhyolite/ZJZ5T.jpg', 'rhyolite'],\n",
              " ['geological_similarity/quartzite/L7OPY.jpg', 'quartzite'],\n",
              " ['geological_similarity/marble/61WQ3.jpg', 'marbler'],\n",
              " ['geological_similarity/gneiss/287D0.jpg', 'gneiss'],\n",
              " ['geological_similarity/rhyolite/3L67J.jpg', 'rhyolite'],\n",
              " ['geological_similarity/gneiss/XKI2C.jpg', 'gneiss'],\n",
              " ['geological_similarity/quartzite/38O91.jpg', 'quartzite'],\n",
              " ['geological_similarity/schist/DAQ1A.jpg', 'schist'],\n",
              " ['geological_similarity/quartzite/X2SA1.jpg', 'quartzite'],\n",
              " ['geological_similarity/quartzite/NDAXS.jpg', 'quartzite'],\n",
              " ['geological_similarity/andesite/Y6NOV.jpg', 'andesite'],\n",
              " ['geological_similarity/quartzite/FM0DX.jpg', 'quartzite'],\n",
              " ['geological_similarity/gneiss/57Y6Y.jpg', 'gneiss'],\n",
              " ['geological_similarity/quartzite/XI6MK.jpg', 'quartzite'],\n",
              " ['geological_similarity/rhyolite/Z3AB8.jpg', 'rhyolite'],\n",
              " ['geological_similarity/rhyolite/F64P5.jpg', 'rhyolite'],\n",
              " ['geological_similarity/quartzite/W3R1E.jpg', 'quartzite'],\n",
              " ['geological_similarity/rhyolite/CU0MQ.jpg', 'rhyolite'],\n",
              " ['geological_similarity/quartzite/WEQ83.jpg', 'quartzite'],\n",
              " ['geological_similarity/quartzite/FYAWO.jpg', 'quartzite'],\n",
              " ['geological_similarity/schist/GX7BZ.jpg', 'schist'],\n",
              " ['geological_similarity/gneiss/PLHT1.jpg', 'gneiss'],\n",
              " ['geological_similarity/rhyolite/WHUE0.jpg', 'rhyolite'],\n",
              " ['geological_similarity/quartzite/UG87F.jpg', 'quartzite'],\n",
              " ['geological_similarity/marble/ZRHAY.jpg', 'marbler'],\n",
              " ['geological_similarity/andesite/C8TER.jpg', 'andesite'],\n",
              " ['geological_similarity/schist/CB1O0.jpg', 'schist'],\n",
              " ['geological_similarity/schist/UYUEH.jpg', 'schist'],\n",
              " ['geological_similarity/marble/N3D4N.jpg', 'marbler'],\n",
              " ['geological_similarity/rhyolite/JP2H2.jpg', 'rhyolite'],\n",
              " ['geological_similarity/andesite/TVLEC.jpg', 'andesite'],\n",
              " ['geological_similarity/andesite/HA5UJ.jpg', 'andesite'],\n",
              " ['geological_similarity/gneiss/E12AS.jpg', 'gneiss'],\n",
              " ['geological_similarity/schist/FW27O.jpg', 'schist'],\n",
              " ['geological_similarity/gneiss/SC83J.jpg', 'gneiss'],\n",
              " ['geological_similarity/andesite/0YCVK.jpg', 'andesite'],\n",
              " ['geological_similarity/rhyolite/7U1H2.jpg', 'rhyolite'],\n",
              " ['geological_similarity/gneiss/R72G3.jpg', 'gneiss'],\n",
              " ['geological_similarity/quartzite/D4OGG.jpg', 'quartzite'],\n",
              " ['geological_similarity/gneiss/KHEHW.jpg', 'gneiss'],\n",
              " ['geological_similarity/gneiss/I4UFE.jpg', 'gneiss'],\n",
              " ['geological_similarity/schist/PFL4P.jpg', 'schist'],\n",
              " ['geological_similarity/gneiss/3DI34.jpg', 'gneiss'],\n",
              " ['geological_similarity/quartzite/41EOA.jpg', 'quartzite'],\n",
              " ['geological_similarity/andesite/X47Q0.jpg', 'andesite'],\n",
              " ['geological_similarity/schist/IWOPJ.jpg', 'schist'],\n",
              " ['geological_similarity/rhyolite/J9KL1.jpg', 'rhyolite'],\n",
              " ['geological_similarity/gneiss/WPC15.jpg', 'gneiss'],\n",
              " ['geological_similarity/gneiss/F7MRQ.jpg', 'gneiss'],\n",
              " ['geological_similarity/quartzite/KRK1K.jpg', 'quartzite'],\n",
              " ['geological_similarity/marble/WKSLA.jpg', 'marbler'],\n",
              " ['geological_similarity/andesite/JZIF9.jpg', 'andesite'],\n",
              " ['geological_similarity/marble/CRZ5C.jpg', 'marbler'],\n",
              " ['geological_similarity/marble/JLBAV.jpg', 'marbler'],\n",
              " ['geological_similarity/andesite/2I6R6.jpg', 'andesite'],\n",
              " ['geological_similarity/gneiss/052KC.jpg', 'gneiss'],\n",
              " ['geological_similarity/gneiss/QMQK5.jpg', 'gneiss'],\n",
              " ['geological_similarity/marble/OOGCD.jpg', 'marbler'],\n",
              " ['geological_similarity/quartzite/IJ6WR.jpg', 'quartzite'],\n",
              " ['geological_similarity/rhyolite/USN58.jpg', 'rhyolite'],\n",
              " ['geological_similarity/rhyolite/JZYTM.jpg', 'rhyolite'],\n",
              " ['geological_similarity/marble/NMESH.jpg', 'marbler'],\n",
              " ['geological_similarity/andesite/C3SQX.jpg', 'andesite'],\n",
              " ['geological_similarity/rhyolite/JIPHR.jpg', 'rhyolite'],\n",
              " ['geological_similarity/andesite/TTFBJ.jpg', 'andesite'],\n",
              " ['geological_similarity/schist/PDZKC.jpg', 'schist'],\n",
              " ['geological_similarity/andesite/ZNOVL.jpg', 'andesite'],\n",
              " ['geological_similarity/marble/M35U6.jpg', 'marbler'],\n",
              " ['geological_similarity/marble/1TXW7.jpg', 'marbler'],\n",
              " ['geological_similarity/gneiss/3DGLZ.jpg', 'gneiss'],\n",
              " ['geological_similarity/gneiss/3FA11.jpg', 'gneiss'],\n",
              " ['geological_similarity/marble/BAWAQ.jpg', 'marbler'],\n",
              " ['geological_similarity/quartzite/7AN55.jpg', 'quartzite'],\n",
              " ['geological_similarity/gneiss/I4IRP.jpg', 'gneiss'],\n",
              " ['geological_similarity/gneiss/8YYXY.jpg', 'gneiss'],\n",
              " ['geological_similarity/rhyolite/QXL5Z.jpg', 'rhyolite'],\n",
              " ['geological_similarity/quartzite/AW2UZ.jpg', 'quartzite'],\n",
              " ['geological_similarity/andesite/CEAG4.jpg', 'andesite'],\n",
              " ['geological_similarity/andesite/T8PYA.jpg', 'andesite'],\n",
              " ['geological_similarity/marble/BTBCX.jpg', 'marbler'],\n",
              " ['geological_similarity/rhyolite/Z5CGM.jpg', 'rhyolite'],\n",
              " ['geological_similarity/gneiss/53EPI.jpg', 'gneiss'],\n",
              " ['geological_similarity/marble/BKIIZ.jpg', 'marbler'],\n",
              " ['geological_similarity/rhyolite/7JHMW.jpg', 'rhyolite'],\n",
              " ['geological_similarity/quartzite/5ZPRJ.jpg', 'quartzite'],\n",
              " ['geological_similarity/gneiss/688FM.jpg', 'gneiss'],\n",
              " ['geological_similarity/gneiss/18XOR.jpg', 'gneiss'],\n",
              " ['geological_similarity/quartzite/3QVKF.jpg', 'quartzite'],\n",
              " ['geological_similarity/andesite/70O23.jpg', 'andesite'],\n",
              " ['geological_similarity/schist/0Z9N3.jpg', 'schist'],\n",
              " ['geological_similarity/gneiss/8OJP5.jpg', 'gneiss'],\n",
              " ['geological_similarity/schist/FEPX6.jpg', 'schist'],\n",
              " ['geological_similarity/rhyolite/7QKAE.jpg', 'rhyolite'],\n",
              " ['geological_similarity/andesite/6MLJK.jpg', 'andesite'],\n",
              " ['geological_similarity/marble/I8MEO.jpg', 'marbler'],\n",
              " ['geological_similarity/marble/DSKZH.jpg', 'marbler'],\n",
              " ['geological_similarity/gneiss/XDAML.jpg', 'gneiss'],\n",
              " ['geological_similarity/schist/X1F3C.jpg', 'schist'],\n",
              " ['geological_similarity/marble/LYRC6.jpg', 'marbler'],\n",
              " ['geological_similarity/marble/EBOPE.jpg', 'marbler'],\n",
              " ['geological_similarity/schist/MW5A7.jpg', 'schist'],\n",
              " ['geological_similarity/rhyolite/P4ZL1.jpg', 'rhyolite'],\n",
              " ['geological_similarity/andesite/DZCNC.jpg', 'andesite'],\n",
              " ['geological_similarity/gneiss/TNQDJ.jpg', 'gneiss'],\n",
              " ['geological_similarity/quartzite/PKNEB.jpg', 'quartzite'],\n",
              " ['geological_similarity/marble/692WN.jpg', 'marbler'],\n",
              " ['geological_similarity/quartzite/LW72E.jpg', 'quartzite'],\n",
              " ['geological_similarity/marble/DVMC6.jpg', 'marbler'],\n",
              " ['geological_similarity/schist/WPKNQ.jpg', 'schist'],\n",
              " ['geological_similarity/schist/1X8MA.jpg', 'schist'],\n",
              " ['geological_similarity/quartzite/S0R3B.jpg', 'quartzite'],\n",
              " ['geological_similarity/gneiss/4SM26.jpg', 'gneiss'],\n",
              " ['geological_similarity/marble/WTB0Y.jpg', 'marbler'],\n",
              " ['geological_similarity/gneiss/RYK2T.jpg', 'gneiss'],\n",
              " ['geological_similarity/rhyolite/JA47Y.jpg', 'rhyolite'],\n",
              " ['geological_similarity/schist/RELLL.jpg', 'schist'],\n",
              " ['geological_similarity/quartzite/GZ3KE.jpg', 'quartzite'],\n",
              " ['geological_similarity/rhyolite/NP5EW.jpg', 'rhyolite'],\n",
              " ['geological_similarity/schist/O6YGW.jpg', 'schist'],\n",
              " ['geological_similarity/rhyolite/J52R4.jpg', 'rhyolite'],\n",
              " ['geological_similarity/marble/8M9K3.jpg', 'marbler'],\n",
              " ['geological_similarity/schist/7J8LJ.jpg', 'schist'],\n",
              " ['geological_similarity/rhyolite/KUW8Y.jpg', 'rhyolite'],\n",
              " ['geological_similarity/quartzite/CJ7UX.jpg', 'quartzite'],\n",
              " ['geological_similarity/marble/KLS4A.jpg', 'marbler'],\n",
              " ['geological_similarity/gneiss/IEBLM.jpg', 'gneiss'],\n",
              " ['geological_similarity/schist/U6LI7.jpg', 'schist'],\n",
              " ['geological_similarity/quartzite/KY9YT.jpg', 'quartzite'],\n",
              " ['geological_similarity/quartzite/9R2NC.jpg', 'quartzite'],\n",
              " ['geological_similarity/quartzite/RXK01.jpg', 'quartzite'],\n",
              " ['geological_similarity/quartzite/G80UR.jpg', 'quartzite'],\n",
              " ['geological_similarity/schist/0M8WX.jpg', 'schist'],\n",
              " ['geological_similarity/rhyolite/ETLFA.jpg', 'rhyolite'],\n",
              " ['geological_similarity/quartzite/3CYQ5.jpg', 'quartzite'],\n",
              " ['geological_similarity/rhyolite/IZ4GW.jpg', 'rhyolite'],\n",
              " ['geological_similarity/schist/Q06XN.jpg', 'schist'],\n",
              " ['geological_similarity/rhyolite/HNI8P.jpg', 'rhyolite'],\n",
              " ['geological_similarity/quartzite/SL4N1.jpg', 'quartzite'],\n",
              " ['geological_similarity/gneiss/AS98K.jpg', 'gneiss'],\n",
              " ['geological_similarity/andesite/7MQ53.jpg', 'andesite'],\n",
              " ['geological_similarity/rhyolite/FZOYY.jpg', 'rhyolite'],\n",
              " ['geological_similarity/marble/GLJH0.jpg', 'marbler'],\n",
              " ['geological_similarity/quartzite/Z0OJC.jpg', 'quartzite'],\n",
              " ['geological_similarity/marble/MS6QA.jpg', 'marbler'],\n",
              " ['geological_similarity/gneiss/QTQZB.jpg', 'gneiss'],\n",
              " ['geological_similarity/rhyolite/VVBC3.jpg', 'rhyolite'],\n",
              " ['geological_similarity/quartzite/1V05M.jpg', 'quartzite'],\n",
              " ['geological_similarity/quartzite/4BQ2R.jpg', 'quartzite'],\n",
              " ['geological_similarity/rhyolite/FN43N.jpg', 'rhyolite'],\n",
              " ['geological_similarity/marble/FLK6P.jpg', 'marbler'],\n",
              " ['geological_similarity/marble/ADD3Z.jpg', 'marbler'],\n",
              " ['geological_similarity/andesite/G7MZ3.jpg', 'andesite'],\n",
              " ['geological_similarity/andesite/AAIPV.jpg', 'andesite'],\n",
              " ['geological_similarity/gneiss/25XV1.jpg', 'gneiss'],\n",
              " ['geological_similarity/quartzite/P59Y2.jpg', 'quartzite'],\n",
              " ['geological_similarity/marble/IH6MI.jpg', 'marbler'],\n",
              " ['geological_similarity/rhyolite/F872D.jpg', 'rhyolite'],\n",
              " ['geological_similarity/gneiss/ZRTHH.jpg', 'gneiss'],\n",
              " ['geological_similarity/gneiss/Y1FZ5.jpg', 'gneiss'],\n",
              " ['geological_similarity/andesite/MJ3BC.jpg', 'andesite'],\n",
              " ['geological_similarity/quartzite/69IIM.jpg', 'quartzite'],\n",
              " ['geological_similarity/marble/21XWQ.jpg', 'marbler'],\n",
              " ['geological_similarity/marble/SRMSY.jpg', 'marbler'],\n",
              " ['geological_similarity/marble/LGDL6.jpg', 'marbler'],\n",
              " ['geological_similarity/gneiss/599QL.jpg', 'gneiss'],\n",
              " ['geological_similarity/andesite/HRIYW.jpg', 'andesite'],\n",
              " ['geological_similarity/quartzite/6KZUJ.jpg', 'quartzite'],\n",
              " ['geological_similarity/rhyolite/A8L1R.jpg', 'rhyolite'],\n",
              " ['geological_similarity/marble/18PK2.jpg', 'marbler'],\n",
              " ['geological_similarity/quartzite/HY20Y.jpg', 'quartzite'],\n",
              " ['geological_similarity/rhyolite/QW01E.jpg', 'rhyolite'],\n",
              " ['geological_similarity/quartzite/AW9WH.jpg', 'quartzite'],\n",
              " ['geological_similarity/andesite/MMV82.jpg', 'andesite'],\n",
              " ['geological_similarity/rhyolite/ZZKP2.jpg', 'rhyolite'],\n",
              " ['geological_similarity/andesite/3NUX1.jpg', 'andesite'],\n",
              " ['geological_similarity/quartzite/3WRKN.jpg', 'quartzite'],\n",
              " ['geological_similarity/quartzite/OQH4C.jpg', 'quartzite'],\n",
              " ['geological_similarity/gneiss/QTKE4.jpg', 'gneiss'],\n",
              " ['geological_similarity/marble/2PAJ4.jpg', 'marbler'],\n",
              " ['geological_similarity/marble/GK8N8.jpg', 'marbler'],\n",
              " ['geological_similarity/schist/SR9WW.jpg', 'schist'],\n",
              " ['geological_similarity/schist/JCATK.jpg', 'schist'],\n",
              " ['geological_similarity/quartzite/ANL14.jpg', 'quartzite'],\n",
              " ['geological_similarity/schist/UXMBP.jpg', 'schist'],\n",
              " ['geological_similarity/quartzite/8OCIW.jpg', 'quartzite'],\n",
              " ['geological_similarity/schist/NLK24.jpg', 'schist'],\n",
              " ['geological_similarity/quartzite/8TJ5X.jpg', 'quartzite'],\n",
              " ['geological_similarity/marble/FLR1D.jpg', 'marbler'],\n",
              " ['geological_similarity/marble/V8YB4.jpg', 'marbler'],\n",
              " ['geological_similarity/gneiss/YT3E0.jpg', 'gneiss'],\n",
              " ['geological_similarity/gneiss/BJUG8.jpg', 'gneiss'],\n",
              " ['geological_similarity/quartzite/T8Y58.jpg', 'quartzite'],\n",
              " ['geological_similarity/marble/RUKKO.jpg', 'marbler'],\n",
              " ['geological_similarity/gneiss/H3OIN.jpg', 'gneiss'],\n",
              " ['geological_similarity/andesite/VFDSU.jpg', 'andesite'],\n",
              " ['geological_similarity/gneiss/O5NR1.jpg', 'gneiss'],\n",
              " ['geological_similarity/marble/7RE3B.jpg', 'marbler'],\n",
              " ['geological_similarity/gneiss/LPOKF.jpg', 'gneiss'],\n",
              " ['geological_similarity/marble/EQNDI.jpg', 'marbler'],\n",
              " ['geological_similarity/gneiss/8V7GK.jpg', 'gneiss'],\n",
              " ['geological_similarity/gneiss/VQFFR.jpg', 'gneiss'],\n",
              " ['geological_similarity/quartzite/H1MCH.jpg', 'quartzite'],\n",
              " ['geological_similarity/marble/TTTDW.jpg', 'marbler'],\n",
              " ['geological_similarity/schist/T3URT.jpg', 'schist'],\n",
              " ['geological_similarity/andesite/J7TBI.jpg', 'andesite'],\n",
              " ['geological_similarity/quartzite/G5XV9.jpg', 'quartzite'],\n",
              " ['geological_similarity/andesite/H4KXW.jpg', 'andesite'],\n",
              " ['geological_similarity/rhyolite/QJ09U.jpg', 'rhyolite'],\n",
              " ['geological_similarity/rhyolite/X7SIY.jpg', 'rhyolite'],\n",
              " ['geological_similarity/marble/S0CB7.jpg', 'marbler'],\n",
              " ['geological_similarity/andesite/WA0NN.jpg', 'andesite'],\n",
              " ['geological_similarity/rhyolite/HFORR.jpg', 'rhyolite'],\n",
              " ['geological_similarity/andesite/2XYRH.jpg', 'andesite'],\n",
              " ['geological_similarity/rhyolite/G428V.jpg', 'rhyolite'],\n",
              " ['geological_similarity/marble/FHZ2M.jpg', 'marbler'],\n",
              " ['geological_similarity/quartzite/3QFGJ.jpg', 'quartzite'],\n",
              " ['geological_similarity/gneiss/Z33MO.jpg', 'gneiss'],\n",
              " ['geological_similarity/schist/3B3RO.jpg', 'schist'],\n",
              " ['geological_similarity/schist/G1R2K.jpg', 'schist'],\n",
              " ['geological_similarity/quartzite/FUFQT.jpg', 'quartzite'],\n",
              " ['geological_similarity/andesite/46DN8.jpg', 'andesite'],\n",
              " ['geological_similarity/marble/Z0BSO.jpg', 'marbler'],\n",
              " ['geological_similarity/gneiss/M33AN.jpg', 'gneiss'],\n",
              " ['geological_similarity/rhyolite/IL0HI.jpg', 'rhyolite'],\n",
              " ['geological_similarity/quartzite/ULN28.jpg', 'quartzite'],\n",
              " ['geological_similarity/andesite/U2YUN.jpg', 'andesite'],\n",
              " ['geological_similarity/gneiss/BB9RV.jpg', 'gneiss'],\n",
              " ['geological_similarity/schist/TWL67.jpg', 'schist'],\n",
              " ['geological_similarity/schist/ZHI76.jpg', 'schist'],\n",
              " ['geological_similarity/gneiss/MNGK7.jpg', 'gneiss'],\n",
              " ['geological_similarity/marble/YLD0P.jpg', 'marbler'],\n",
              " ['geological_similarity/marble/2TW94.jpg', 'marbler'],\n",
              " ['geological_similarity/gneiss/V261P.jpg', 'gneiss'],\n",
              " ['geological_similarity/andesite/1NM04.jpg', 'andesite'],\n",
              " ['geological_similarity/schist/85Y35.jpg', 'schist'],\n",
              " ['geological_similarity/marble/MO0WA.jpg', 'marbler'],\n",
              " ['geological_similarity/schist/AIAOG.jpg', 'schist'],\n",
              " ['geological_similarity/schist/UXJ2Q.jpg', 'schist'],\n",
              " ['geological_similarity/gneiss/SZRR4.jpg', 'gneiss'],\n",
              " ['geological_similarity/gneiss/177WT.jpg', 'gneiss'],\n",
              " ['geological_similarity/rhyolite/EH3GF.jpg', 'rhyolite'],\n",
              " ['geological_similarity/andesite/4CA7J.jpg', 'andesite'],\n",
              " ['geological_similarity/quartzite/5QWFW.jpg', 'quartzite'],\n",
              " ['geological_similarity/andesite/OEARE.jpg', 'andesite'],\n",
              " ['geological_similarity/quartzite/9VJGE.jpg', 'quartzite'],\n",
              " ['geological_similarity/rhyolite/I45YT.jpg', 'rhyolite'],\n",
              " ['geological_similarity/schist/1YJB6.jpg', 'schist'],\n",
              " ['geological_similarity/andesite/R9RMA.jpg', 'andesite'],\n",
              " ['geological_similarity/gneiss/RRV7A.jpg', 'gneiss'],\n",
              " ['geological_similarity/gneiss/JK9CV.jpg', 'gneiss'],\n",
              " ['geological_similarity/andesite/FKOS1.jpg', 'andesite'],\n",
              " ['geological_similarity/rhyolite/DTK86.jpg', 'rhyolite'],\n",
              " ['geological_similarity/andesite/MLGIC.jpg', 'andesite'],\n",
              " ['geological_similarity/marble/F71KG.jpg', 'marbler'],\n",
              " ['geological_similarity/rhyolite/L8WZR.jpg', 'rhyolite'],\n",
              " ['geological_similarity/andesite/U43HR.jpg', 'andesite'],\n",
              " ['geological_similarity/marble/VVF6D.jpg', 'marbler'],\n",
              " ['geological_similarity/marble/YK4ZB.jpg', 'marbler'],\n",
              " ['geological_similarity/marble/YYVLR.jpg', 'marbler'],\n",
              " ['geological_similarity/marble/QI0NG.jpg', 'marbler'],\n",
              " ['geological_similarity/gneiss/YU51G.jpg', 'gneiss'],\n",
              " ['geological_similarity/andesite/0RCWO.jpg', 'andesite'],\n",
              " ['geological_similarity/quartzite/ZS0W0.jpg', 'quartzite'],\n",
              " ['geological_similarity/marble/QQUYS.jpg', 'marbler'],\n",
              " ['geological_similarity/rhyolite/KL3P1.jpg', 'rhyolite'],\n",
              " ['geological_similarity/rhyolite/LMQB4.jpg', 'rhyolite'],\n",
              " ['geological_similarity/marble/VQVG0.jpg', 'marbler'],\n",
              " ['geological_similarity/schist/KW1WV.jpg', 'schist'],\n",
              " ['geological_similarity/schist/A0LZ1.jpg', 'schist'],\n",
              " ['geological_similarity/gneiss/RPUWS.jpg', 'gneiss'],\n",
              " ['geological_similarity/andesite/N1I29.jpg', 'andesite'],\n",
              " ['geological_similarity/marble/MX5UN.jpg', 'marbler'],\n",
              " ['geological_similarity/marble/BLRUG.jpg', 'marbler'],\n",
              " ['geological_similarity/schist/484LW.jpg', 'schist'],\n",
              " ['geological_similarity/andesite/N6V61.jpg', 'andesite'],\n",
              " ['geological_similarity/andesite/CZ0N5.jpg', 'andesite'],\n",
              " ['geological_similarity/schist/R656L.jpg', 'schist'],\n",
              " ['geological_similarity/gneiss/GS5YB.jpg', 'gneiss'],\n",
              " ['geological_similarity/rhyolite/TSSIS.jpg', 'rhyolite'],\n",
              " ['geological_similarity/andesite/0CO7D.jpg', 'andesite'],\n",
              " ['geological_similarity/marble/XV379.jpg', 'marbler'],\n",
              " ['geological_similarity/marble/NF1KO.jpg', 'marbler'],\n",
              " ['geological_similarity/rhyolite/4IJ9M.jpg', 'rhyolite'],\n",
              " ['geological_similarity/schist/A2GDQ.jpg', 'schist'],\n",
              " ['geological_similarity/quartzite/87EH9.jpg', 'quartzite'],\n",
              " ['geological_similarity/gneiss/4PBQK.jpg', 'gneiss'],\n",
              " ['geological_similarity/quartzite/FOMJJ.jpg', 'quartzite'],\n",
              " ['geological_similarity/rhyolite/ZG68L.jpg', 'rhyolite'],\n",
              " ['geological_similarity/marble/HFDNZ.jpg', 'marbler'],\n",
              " ['geological_similarity/andesite/RUKBG.jpg', 'andesite'],\n",
              " ['geological_similarity/gneiss/WOQDV.jpg', 'gneiss'],\n",
              " ['geological_similarity/gneiss/T3MDX.jpg', 'gneiss'],\n",
              " ['geological_similarity/gneiss/9PJ4W.jpg', 'gneiss'],\n",
              " ['geological_similarity/andesite/SEECT.jpg', 'andesite'],\n",
              " ['geological_similarity/rhyolite/H8AWV.jpg', 'rhyolite'],\n",
              " ['geological_similarity/schist/CL285.jpg', 'schist'],\n",
              " ['geological_similarity/marble/JZEDW.jpg', 'marbler'],\n",
              " ['geological_similarity/schist/R4IXM.jpg', 'schist'],\n",
              " ['geological_similarity/schist/TEJ1Y.jpg', 'schist'],\n",
              " ['geological_similarity/andesite/0U0LR.jpg', 'andesite'],\n",
              " ['geological_similarity/rhyolite/BUSK6.jpg', 'rhyolite'],\n",
              " ['geological_similarity/quartzite/LMBHB.jpg', 'quartzite'],\n",
              " ['geological_similarity/andesite/5GOCZ.jpg', 'andesite'],\n",
              " ['geological_similarity/marble/HEELC.jpg', 'marbler'],\n",
              " ['geological_similarity/marble/LAM6A.jpg', 'marbler'],\n",
              " ['geological_similarity/schist/11NEB.jpg', 'schist'],\n",
              " ['geological_similarity/andesite/UI6NH.jpg', 'andesite'],\n",
              " ['geological_similarity/rhyolite/EWNLU.jpg', 'rhyolite'],\n",
              " ['geological_similarity/quartzite/CZDQL.jpg', 'quartzite'],\n",
              " ['geological_similarity/marble/QBYXF.jpg', 'marbler'],\n",
              " ['geological_similarity/schist/CDUH9.jpg', 'schist'],\n",
              " ['geological_similarity/schist/WV6IL.jpg', 'schist'],\n",
              " ['geological_similarity/quartzite/5R318.jpg', 'quartzite'],\n",
              " ['geological_similarity/gneiss/OYU6O.jpg', 'gneiss'],\n",
              " ['geological_similarity/gneiss/CWBBW.jpg', 'gneiss'],\n",
              " ['geological_similarity/marble/DP5OI.jpg', 'marbler'],\n",
              " ['geological_similarity/andesite/R8J2V.jpg', 'andesite'],\n",
              " ['geological_similarity/gneiss/BMPP4.jpg', 'gneiss'],\n",
              " ['geological_similarity/marble/RUSJS.jpg', 'marbler'],\n",
              " ['geological_similarity/marble/9IRHK.jpg', 'marbler'],\n",
              " ['geological_similarity/marble/KSI5O.jpg', 'marbler'],\n",
              " ['geological_similarity/rhyolite/BZQ2P.jpg', 'rhyolite'],\n",
              " ['geological_similarity/gneiss/SRUUN.jpg', 'gneiss'],\n",
              " ['geological_similarity/rhyolite/6MIYY.jpg', 'rhyolite'],\n",
              " ['geological_similarity/gneiss/GFW6C.jpg', 'gneiss'],\n",
              " ['geological_similarity/quartzite/MRVSJ.jpg', 'quartzite'],\n",
              " ['geological_similarity/schist/U1O6T.jpg', 'schist'],\n",
              " ['geological_similarity/marble/N996B.jpg', 'marbler'],\n",
              " ['geological_similarity/rhyolite/ZJY5L.jpg', 'rhyolite'],\n",
              " ['geological_similarity/gneiss/383MB.jpg', 'gneiss'],\n",
              " ['geological_similarity/gneiss/NGF26.jpg', 'gneiss'],\n",
              " ['geological_similarity/gneiss/YQ5QS.jpg', 'gneiss'],\n",
              " ['geological_similarity/rhyolite/DLZAK.jpg', 'rhyolite'],\n",
              " ['geological_similarity/marble/69T8J.jpg', 'marbler'],\n",
              " ['geological_similarity/andesite/R567A.jpg', 'andesite'],\n",
              " ['geological_similarity/quartzite/7BEH6.jpg', 'quartzite'],\n",
              " ['geological_similarity/andesite/YH6ZJ.jpg', 'andesite'],\n",
              " ['geological_similarity/gneiss/URJCH.jpg', 'gneiss'],\n",
              " ['geological_similarity/gneiss/PQCQS.jpg', 'gneiss'],\n",
              " ['geological_similarity/rhyolite/W3TVU.jpg', 'rhyolite'],\n",
              " ['geological_similarity/quartzite/0RDJU.jpg', 'quartzite'],\n",
              " ['geological_similarity/marble/3XS1L.jpg', 'marbler'],\n",
              " ['geological_similarity/schist/AKFBA.jpg', 'schist'],\n",
              " ['geological_similarity/quartzite/1X367.jpg', 'quartzite'],\n",
              " ['geological_similarity/gneiss/D86ZZ.jpg', 'gneiss'],\n",
              " ['geological_similarity/schist/BTS0C.jpg', 'schist'],\n",
              " ['geological_similarity/andesite/AABFJ.jpg', 'andesite'],\n",
              " ['geological_similarity/schist/7L9WU.jpg', 'schist'],\n",
              " ['geological_similarity/andesite/RHB5R.jpg', 'andesite'],\n",
              " ['geological_similarity/schist/RLLJL.jpg', 'schist'],\n",
              " ['geological_similarity/marble/K7IVC.jpg', 'marbler'],\n",
              " ['geological_similarity/rhyolite/1AGZV.jpg', 'rhyolite'],\n",
              " ['geological_similarity/schist/6O21O.jpg', 'schist'],\n",
              " ['geological_similarity/marble/KRH6B.jpg', 'marbler'],\n",
              " ['geological_similarity/andesite/FOQPI.jpg', 'andesite'],\n",
              " ['geological_similarity/andesite/60897.jpg', 'andesite'],\n",
              " ['geological_similarity/marble/02UFU.jpg', 'marbler'],\n",
              " ['geological_similarity/rhyolite/KELX2.jpg', 'rhyolite'],\n",
              " ['geological_similarity/marble/NMXX4.jpg', 'marbler'],\n",
              " ['geological_similarity/rhyolite/C63PY.jpg', 'rhyolite'],\n",
              " ['geological_similarity/quartzite/32KN8.jpg', 'quartzite'],\n",
              " ['geological_similarity/marble/I75XF.jpg', 'marbler'],\n",
              " ['geological_similarity/quartzite/IS7T6.jpg', 'quartzite'],\n",
              " ['geological_similarity/marble/9X0F0.jpg', 'marbler'],\n",
              " ['geological_similarity/andesite/SD5XB.jpg', 'andesite'],\n",
              " ['geological_similarity/schist/A9F6N.jpg', 'schist'],\n",
              " ['geological_similarity/rhyolite/QBG52.jpg', 'rhyolite'],\n",
              " ['geological_similarity/rhyolite/RZ3QG.jpg', 'rhyolite'],\n",
              " ['geological_similarity/schist/R9RK6.jpg', 'schist'],\n",
              " ['geological_similarity/schist/LTSDW.jpg', 'schist'],\n",
              " ['geological_similarity/schist/VJD9F.jpg', 'schist'],\n",
              " ['geological_similarity/quartzite/HSX0I.jpg', 'quartzite'],\n",
              " ['geological_similarity/gneiss/4XI1C.jpg', 'gneiss'],\n",
              " ['geological_similarity/quartzite/H5SLD.jpg', 'quartzite'],\n",
              " ['geological_similarity/schist/AOSP3.jpg', 'schist'],\n",
              " ['geological_similarity/gneiss/PVHOJ.jpg', 'gneiss'],\n",
              " ['geological_similarity/marble/AX3Z8.jpg', 'marbler'],\n",
              " ['geological_similarity/marble/ZZKCA.jpg', 'marbler'],\n",
              " ['geological_similarity/quartzite/LK08S.jpg', 'quartzite'],\n",
              " ['geological_similarity/andesite/HO3JF.jpg', 'andesite'],\n",
              " ['geological_similarity/marble/HOW9G.jpg', 'marbler'],\n",
              " ['geological_similarity/rhyolite/O48JN.jpg', 'rhyolite'],\n",
              " ['geological_similarity/andesite/BKW91.jpg', 'andesite'],\n",
              " ['geological_similarity/gneiss/9B1OI.jpg', 'gneiss'],\n",
              " ['geological_similarity/rhyolite/V3HOY.jpg', 'rhyolite'],\n",
              " ['geological_similarity/marble/WH3HY.jpg', 'marbler'],\n",
              " ['geological_similarity/rhyolite/66JHO.jpg', 'rhyolite'],\n",
              " ['geological_similarity/rhyolite/7V0D7.jpg', 'rhyolite'],\n",
              " ['geological_similarity/gneiss/N3ZU8.jpg', 'gneiss'],\n",
              " ['geological_similarity/rhyolite/E962R.jpg', 'rhyolite'],\n",
              " ['geological_similarity/schist/KQMEE.jpg', 'schist'],\n",
              " ['geological_similarity/andesite/F00H6.jpg', 'andesite'],\n",
              " ['geological_similarity/marble/9II5W.jpg', 'marbler'],\n",
              " ['geological_similarity/gneiss/IS9NX.jpg', 'gneiss'],\n",
              " ['geological_similarity/gneiss/Y5G4G.jpg', 'gneiss'],\n",
              " ['geological_similarity/rhyolite/75CEZ.jpg', 'rhyolite'],\n",
              " ['geological_similarity/rhyolite/JVX5A.jpg', 'rhyolite'],\n",
              " ['geological_similarity/rhyolite/H3GK7.jpg', 'rhyolite'],\n",
              " ['geological_similarity/schist/VYTQC.jpg', 'schist'],\n",
              " ['geological_similarity/schist/6VI23.jpg', 'schist'],\n",
              " ['geological_similarity/quartzite/SZH8X.jpg', 'quartzite'],\n",
              " ['geological_similarity/quartzite/090N9.jpg', 'quartzite'],\n",
              " ['geological_similarity/rhyolite/2H82O.jpg', 'rhyolite'],\n",
              " ['geological_similarity/andesite/48D8H.jpg', 'andesite'],\n",
              " ['geological_similarity/marble/83W7U.jpg', 'marbler'],\n",
              " ['geological_similarity/quartzite/W340F.jpg', 'quartzite'],\n",
              " ['geological_similarity/rhyolite/RROIZ.jpg', 'rhyolite'],\n",
              " ['geological_similarity/gneiss/5SDWK.jpg', 'gneiss'],\n",
              " ['geological_similarity/marble/MH8RS.jpg', 'marbler'],\n",
              " ['geological_similarity/schist/8IVIX.jpg', 'schist'],\n",
              " ['geological_similarity/andesite/1ERC1.jpg', 'andesite'],\n",
              " ['geological_similarity/schist/V9KFX.jpg', 'schist'],\n",
              " ['geological_similarity/marble/OHZOH.jpg', 'marbler'],\n",
              " ['geological_similarity/gneiss/WM6V8.jpg', 'gneiss'],\n",
              " ['geological_similarity/andesite/VBLBH.jpg', 'andesite'],\n",
              " ['geological_similarity/gneiss/37V3C.jpg', 'gneiss'],\n",
              " ['geological_similarity/marble/XFQY7.jpg', 'marbler'],\n",
              " ['geological_similarity/gneiss/ACH1R.jpg', 'gneiss'],\n",
              " ['geological_similarity/marble/JRJHM.jpg', 'marbler'],\n",
              " ['geological_similarity/andesite/RV7VR.jpg', 'andesite'],\n",
              " ['geological_similarity/quartzite/RHWGX.jpg', 'quartzite'],\n",
              " ['geological_similarity/marble/1S6H8.jpg', 'marbler'],\n",
              " ['geological_similarity/quartzite/EGHVY.jpg', 'quartzite'],\n",
              " ['geological_similarity/rhyolite/06ZNT.jpg', 'rhyolite'],\n",
              " ['geological_similarity/rhyolite/7VDMY.jpg', 'rhyolite'],\n",
              " ['geological_similarity/gneiss/6EQGA.jpg', 'gneiss'],\n",
              " ['geological_similarity/quartzite/EM9OA.jpg', 'quartzite'],\n",
              " ['geological_similarity/andesite/43SB9.jpg', 'andesite'],\n",
              " ['geological_similarity/rhyolite/EAVVG.jpg', 'rhyolite'],\n",
              " ['geological_similarity/gneiss/BKPHX.jpg', 'gneiss'],\n",
              " ['geological_similarity/andesite/4WP1Y.jpg', 'andesite'],\n",
              " ['geological_similarity/marble/8PU7I.jpg', 'marbler'],\n",
              " ['geological_similarity/andesite/QR2KD.jpg', 'andesite'],\n",
              " ['geological_similarity/gneiss/OAWI5.jpg', 'gneiss'],\n",
              " ['geological_similarity/schist/RU0AG.jpg', 'schist'],\n",
              " ['geological_similarity/schist/UGLU0.jpg', 'schist'],\n",
              " ['geological_similarity/andesite/W5078.jpg', 'andesite'],\n",
              " ['geological_similarity/quartzite/YM4IY.jpg', 'quartzite'],\n",
              " ['geological_similarity/quartzite/N1P22.jpg', 'quartzite'],\n",
              " ['geological_similarity/rhyolite/A7470.jpg', 'rhyolite'],\n",
              " ['geological_similarity/andesite/UB331.jpg', 'andesite'],\n",
              " ['geological_similarity/schist/9VUJ6.jpg', 'schist'],\n",
              " ['geological_similarity/quartzite/92XEB.jpg', 'quartzite'],\n",
              " ['geological_similarity/schist/J0OQT.jpg', 'schist'],\n",
              " ['geological_similarity/andesite/C4WVQ.jpg', 'andesite'],\n",
              " ['geological_similarity/andesite/XM6GZ.jpg', 'andesite'],\n",
              " ['geological_similarity/gneiss/7OIT9.jpg', 'gneiss'],\n",
              " ['geological_similarity/quartzite/J1XL7.jpg', 'quartzite'],\n",
              " ['geological_similarity/gneiss/DGFUY.jpg', 'gneiss'],\n",
              " ['geological_similarity/andesite/CZQ24.jpg', 'andesite'],\n",
              " ['geological_similarity/quartzite/Y7ATR.jpg', 'quartzite'],\n",
              " ['geological_similarity/quartzite/T68PD.jpg', 'quartzite'],\n",
              " ['geological_similarity/gneiss/3YPAO.jpg', 'gneiss'],\n",
              " ['geological_similarity/gneiss/77EW1.jpg', 'gneiss'],\n",
              " ['geological_similarity/quartzite/NY0TN.jpg', 'quartzite'],\n",
              " ['geological_similarity/rhyolite/AYC7N.jpg', 'rhyolite'],\n",
              " ['geological_similarity/quartzite/MNB0C.jpg', 'quartzite'],\n",
              " ['geological_similarity/marble/IGSHS.jpg', 'marbler'],\n",
              " ['geological_similarity/gneiss/C9VO4.jpg', 'gneiss'],\n",
              " ['geological_similarity/rhyolite/026Q9.jpg', 'rhyolite'],\n",
              " ['geological_similarity/rhyolite/P8P6D.jpg', 'rhyolite'],\n",
              " ['geological_similarity/rhyolite/120SS.jpg', 'rhyolite'],\n",
              " ['geological_similarity/marble/QKMV1.jpg', 'marbler'],\n",
              " ['geological_similarity/rhyolite/BAAL7.jpg', 'rhyolite'],\n",
              " ['geological_similarity/andesite/9YVBH.jpg', 'andesite'],\n",
              " ['geological_similarity/marble/53LWU.jpg', 'marbler'],\n",
              " ['geological_similarity/marble/27PRI.jpg', 'marbler'],\n",
              " ['geological_similarity/rhyolite/HOZQI.jpg', 'rhyolite'],\n",
              " ['geological_similarity/schist/PJLKS.jpg', 'schist'],\n",
              " ['geological_similarity/gneiss/3ZJ1W.jpg', 'gneiss'],\n",
              " ['geological_similarity/gneiss/QLDCU.jpg', 'gneiss'],\n",
              " ['geological_similarity/marble/SWPN8.jpg', 'marbler'],\n",
              " ['geological_similarity/gneiss/IL15K.jpg', 'gneiss'],\n",
              " ['geological_similarity/andesite/VPT2W.jpg', 'andesite'],\n",
              " ['geological_similarity/marble/RJVMB.jpg', 'marbler'],\n",
              " ['geological_similarity/schist/3YRAB.jpg', 'schist'],\n",
              " ['geological_similarity/andesite/0APW8.jpg', 'andesite'],\n",
              " ['geological_similarity/quartzite/9PU4K.jpg', 'quartzite'],\n",
              " ['geological_similarity/gneiss/8ULXS.jpg', 'gneiss'],\n",
              " ['geological_similarity/andesite/E76CO.jpg', 'andesite'],\n",
              " ['geological_similarity/marble/55NDU.jpg', 'marbler'],\n",
              " ['geological_similarity/schist/LFH9L.jpg', 'schist'],\n",
              " ['geological_similarity/schist/NXY28.jpg', 'schist'],\n",
              " ['geological_similarity/andesite/4DBSR.jpg', 'andesite'],\n",
              " ['geological_similarity/andesite/AO657.jpg', 'andesite'],\n",
              " ['geological_similarity/marble/CVK6O.jpg', 'marbler'],\n",
              " ['geological_similarity/schist/5PIHD.jpg', 'schist'],\n",
              " ['geological_similarity/quartzite/3B7CU.jpg', 'quartzite'],\n",
              " ['geological_similarity/quartzite/RX1IS.jpg', 'quartzite'],\n",
              " ['geological_similarity/quartzite/QT00D.jpg', 'quartzite'],\n",
              " ['geological_similarity/rhyolite/SCEZA.jpg', 'rhyolite'],\n",
              " ['geological_similarity/gneiss/YWTU8.jpg', 'gneiss'],\n",
              " ['geological_similarity/schist/TZLHA.jpg', 'schist'],\n",
              " ['geological_similarity/schist/4U82N.jpg', 'schist'],\n",
              " ['geological_similarity/schist/2AYPP.jpg', 'schist'],\n",
              " ['geological_similarity/andesite/UXALC.jpg', 'andesite'],\n",
              " ['geological_similarity/gneiss/IKIXF.jpg', 'gneiss'],\n",
              " ['geological_similarity/andesite/DE1XO.jpg', 'andesite'],\n",
              " ['geological_similarity/andesite/F3TJ1.jpg', 'andesite'],\n",
              " ['geological_similarity/marble/C7EC6.jpg', 'marbler'],\n",
              " ['geological_similarity/quartzite/C8Z96.jpg', 'quartzite'],\n",
              " ['geological_similarity/quartzite/OVMF1.jpg', 'quartzite'],\n",
              " ['geological_similarity/schist/7WXAI.jpg', 'schist'],\n",
              " ['geological_similarity/marble/CRWL4.jpg', 'marbler'],\n",
              " ['geological_similarity/marble/I4BN4.jpg', 'marbler'],\n",
              " ['geological_similarity/schist/2562A.jpg', 'schist'],\n",
              " ['geological_similarity/gneiss/2DAIP.jpg', 'gneiss'],\n",
              " ['geological_similarity/andesite/2W6GX.jpg', 'andesite'],\n",
              " ['geological_similarity/gneiss/0A23A.jpg', 'gneiss'],\n",
              " ['geological_similarity/quartzite/YWCF3.jpg', 'quartzite'],\n",
              " ['geological_similarity/gneiss/6L347.jpg', 'gneiss'],\n",
              " ['geological_similarity/schist/D3NJV.jpg', 'schist'],\n",
              " ['geological_similarity/rhyolite/24GT7.jpg', 'rhyolite'],\n",
              " ['geological_similarity/schist/LTXXY.jpg', 'schist'],\n",
              " ['geological_similarity/gneiss/10OKG.jpg', 'gneiss'],\n",
              " ['geological_similarity/gneiss/D2XFC.jpg', 'gneiss'],\n",
              " ['geological_similarity/quartzite/DXWY9.jpg', 'quartzite'],\n",
              " ['geological_similarity/marble/WU3LG.jpg', 'marbler'],\n",
              " ['geological_similarity/gneiss/1T9Q0.jpg', 'gneiss'],\n",
              " ['geological_similarity/gneiss/HB2BN.jpg', 'gneiss'],\n",
              " ['geological_similarity/rhyolite/OIIUC.jpg', 'rhyolite'],\n",
              " ['geological_similarity/andesite/TILAZ.jpg', 'andesite'],\n",
              " ['geological_similarity/andesite/S2IZL.jpg', 'andesite'],\n",
              " ['geological_similarity/marble/Q3N87.jpg', 'marbler'],\n",
              " ['geological_similarity/rhyolite/VDR9E.jpg', 'rhyolite'],\n",
              " ['geological_similarity/quartzite/U38O4.jpg', 'quartzite'],\n",
              " ['geological_similarity/gneiss/VQCME.jpg', 'gneiss'],\n",
              " ['geological_similarity/schist/S1FDE.jpg', 'schist'],\n",
              " ['geological_similarity/andesite/PNYUB.jpg', 'andesite'],\n",
              " ['geological_similarity/andesite/KXTZF.jpg', 'andesite'],\n",
              " ['geological_similarity/quartzite/D9UO1.jpg', 'quartzite'],\n",
              " ['geological_similarity/andesite/I06B6.jpg', 'andesite'],\n",
              " ['geological_similarity/rhyolite/34IHR.jpg', 'rhyolite'],\n",
              " ['geological_similarity/gneiss/5U3FD.jpg', 'gneiss'],\n",
              " ['geological_similarity/quartzite/G5UIJ.jpg', 'quartzite'],\n",
              " ['geological_similarity/marble/FAEK6.jpg', 'marbler'],\n",
              " ['geological_similarity/gneiss/W8TN4.jpg', 'gneiss'],\n",
              " ['geological_similarity/andesite/MDGSJ.jpg', 'andesite'],\n",
              " ['geological_similarity/schist/64BQB.jpg', 'schist'],\n",
              " ['geological_similarity/schist/VUCGZ.jpg', 'schist'],\n",
              " ['geological_similarity/schist/GJTRW.jpg', 'schist'],\n",
              " ['geological_similarity/schist/8WNWZ.jpg', 'schist'],\n",
              " ['geological_similarity/schist/3JN7U.jpg', 'schist'],\n",
              " ['geological_similarity/gneiss/PSIQO.jpg', 'gneiss'],\n",
              " ['geological_similarity/quartzite/NHGE8.jpg', 'quartzite'],\n",
              " ['geological_similarity/andesite/CIJ9A.jpg', 'andesite'],\n",
              " ['geological_similarity/andesite/9TDHR.jpg', 'andesite'],\n",
              " ['geological_similarity/rhyolite/S6EP2.jpg', 'rhyolite'],\n",
              " ['geological_similarity/quartzite/A14WT.jpg', 'quartzite'],\n",
              " ['geological_similarity/rhyolite/5WTWX.jpg', 'rhyolite'],\n",
              " ['geological_similarity/quartzite/534KI.jpg', 'quartzite'],\n",
              " ['geological_similarity/quartzite/QR9H7.jpg', 'quartzite'],\n",
              " ['geological_similarity/andesite/B7AWN.jpg', 'andesite'],\n",
              " ['geological_similarity/gneiss/TBSM4.jpg', 'gneiss'],\n",
              " ['geological_similarity/schist/UBND7.jpg', 'schist'],\n",
              " ['geological_similarity/schist/KZD7W.jpg', 'schist'],\n",
              " ['geological_similarity/rhyolite/OO6UC.jpg', 'rhyolite'],\n",
              " ['geological_similarity/marble/5PVNV.jpg', 'marbler'],\n",
              " ['geological_similarity/andesite/PYSNV.jpg', 'andesite'],\n",
              " ['geological_similarity/andesite/9YOKB.jpg', 'andesite'],\n",
              " ['geological_similarity/marble/FSIJU.jpg', 'marbler'],\n",
              " ['geological_similarity/gneiss/25DHR.jpg', 'gneiss'],\n",
              " ['geological_similarity/quartzite/SJH8V.jpg', 'quartzite'],\n",
              " ['geological_similarity/andesite/9Z0GH.jpg', 'andesite'],\n",
              " ['geological_similarity/marble/X2D4E.jpg', 'marbler'],\n",
              " ['geological_similarity/rhyolite/XBVU7.jpg', 'rhyolite'],\n",
              " ['geological_similarity/gneiss/EF8RI.jpg', 'gneiss'],\n",
              " ['geological_similarity/andesite/L4FY3.jpg', 'andesite'],\n",
              " ['geological_similarity/quartzite/KAM5B.jpg', 'quartzite'],\n",
              " ['geological_similarity/andesite/CFRO3.jpg', 'andesite'],\n",
              " ['geological_similarity/andesite/J2F6L.jpg', 'andesite'],\n",
              " ['geological_similarity/andesite/WQF72.jpg', 'andesite'],\n",
              " ['geological_similarity/schist/5SMVS.jpg', 'schist'],\n",
              " ['geological_similarity/marble/N6HM3.jpg', 'marbler'],\n",
              " ['geological_similarity/schist/M686V.jpg', 'schist'],\n",
              " ['geological_similarity/schist/PEVYX.jpg', 'schist'],\n",
              " ['geological_similarity/marble/ZJXOD.jpg', 'marbler'],\n",
              " ['geological_similarity/gneiss/UNMAJ.jpg', 'gneiss'],\n",
              " ['geological_similarity/rhyolite/V1OT8.jpg', 'rhyolite'],\n",
              " ['geological_similarity/quartzite/0M3XM.jpg', 'quartzite'],\n",
              " ['geological_similarity/gneiss/KET6J.jpg', 'gneiss'],\n",
              " ['geological_similarity/schist/A1VVU.jpg', 'schist'],\n",
              " ['geological_similarity/marble/137PT.jpg', 'marbler'],\n",
              " ['geological_similarity/quartzite/CY1QR.jpg', 'quartzite'],\n",
              " ['geological_similarity/rhyolite/PRN85.jpg', 'rhyolite'],\n",
              " ['geological_similarity/gneiss/KTWT2.jpg', 'gneiss'],\n",
              " ['geological_similarity/andesite/A1A98.jpg', 'andesite'],\n",
              " ['geological_similarity/andesite/F65FI.jpg', 'andesite'],\n",
              " ['geological_similarity/andesite/CQGSL.jpg', 'andesite'],\n",
              " ['geological_similarity/marble/1VD8M.jpg', 'marbler'],\n",
              " ['geological_similarity/schist/RRL7U.jpg', 'schist'],\n",
              " ['geological_similarity/rhyolite/1G1V2.jpg', 'rhyolite'],\n",
              " ['geological_similarity/rhyolite/MZUE8.jpg', 'rhyolite'],\n",
              " ['geological_similarity/gneiss/U0C1V.jpg', 'gneiss'],\n",
              " ['geological_similarity/andesite/DLVF8.jpg', 'andesite'],\n",
              " ['geological_similarity/gneiss/NZ8LT.jpg', 'gneiss'],\n",
              " ['geological_similarity/andesite/P9Y51.jpg', 'andesite'],\n",
              " ['geological_similarity/marble/8V5Q3.jpg', 'marbler'],\n",
              " ['geological_similarity/quartzite/V3GM2.jpg', 'quartzite'],\n",
              " ['geological_similarity/gneiss/VD1CM.jpg', 'gneiss'],\n",
              " ['geological_similarity/schist/6AE79.jpg', 'schist'],\n",
              " ['geological_similarity/schist/5WVGW.jpg', 'schist'],\n",
              " ['geological_similarity/gneiss/IFZ2B.jpg', 'gneiss'],\n",
              " ['geological_similarity/schist/NBAU4.jpg', 'schist'],\n",
              " ['geological_similarity/schist/0H52K.jpg', 'schist'],\n",
              " ['geological_similarity/schist/I40WY.jpg', 'schist'],\n",
              " ['geological_similarity/rhyolite/AN016.jpg', 'rhyolite'],\n",
              " ['geological_similarity/andesite/KTMAC.jpg', 'andesite'],\n",
              " ['geological_similarity/rhyolite/4ZH3I.jpg', 'rhyolite'],\n",
              " ['geological_similarity/andesite/0RIDC.jpg', 'andesite'],\n",
              " ['geological_similarity/schist/AOAKU.jpg', 'schist'],\n",
              " ['geological_similarity/rhyolite/5HIXT.jpg', 'rhyolite'],\n",
              " ['geological_similarity/gneiss/I91OX.jpg', 'gneiss'],\n",
              " ['geological_similarity/rhyolite/EC55T.jpg', 'rhyolite'],\n",
              " ['geological_similarity/schist/LA9QO.jpg', 'schist'],\n",
              " ['geological_similarity/marble/FVHNW.jpg', 'marbler'],\n",
              " ['geological_similarity/marble/1BOM4.jpg', 'marbler'],\n",
              " ['geological_similarity/marble/HFL5Z.jpg', 'marbler'],\n",
              " ['geological_similarity/marble/OYTAC.jpg', 'marbler'],\n",
              " ['geological_similarity/gneiss/NQOTC.jpg', 'gneiss'],\n",
              " ['geological_similarity/gneiss/AUFK9.jpg', 'gneiss'],\n",
              " ['geological_similarity/gneiss/4AJJS.jpg', 'gneiss'],\n",
              " ['geological_similarity/andesite/GUD69.jpg', 'andesite'],\n",
              " ['geological_similarity/quartzite/NVAIU.jpg', 'quartzite'],\n",
              " ['geological_similarity/marble/ZPHTB.jpg', 'marbler'],\n",
              " ['geological_similarity/rhyolite/3EHL7.jpg', 'rhyolite'],\n",
              " ['geological_similarity/schist/Y6S86.jpg', 'schist'],\n",
              " ['geological_similarity/gneiss/7IVGP.jpg', 'gneiss'],\n",
              " ['geological_similarity/rhyolite/SXO17.jpg', 'rhyolite'],\n",
              " ['geological_similarity/andesite/SEQGN.jpg', 'andesite'],\n",
              " ['geological_similarity/marble/T2DXQ.jpg', 'marbler'],\n",
              " ['geological_similarity/rhyolite/RX8BP.jpg', 'rhyolite'],\n",
              " ['geological_similarity/gneiss/6DAXR.jpg', 'gneiss'],\n",
              " ['geological_similarity/marble/LDV2D.jpg', 'marbler'],\n",
              " ['geological_similarity/schist/CUT0M.jpg', 'schist'],\n",
              " ['geological_similarity/quartzite/U30TM.jpg', 'quartzite'],\n",
              " ['geological_similarity/quartzite/PSECY.jpg', 'quartzite'],\n",
              " ['geological_similarity/schist/GO0IQ.jpg', 'schist'],\n",
              " ['geological_similarity/gneiss/RIF8V.jpg', 'gneiss'],\n",
              " ['geological_similarity/gneiss/DZXF1.jpg', 'gneiss'],\n",
              " ['geological_similarity/rhyolite/ELU2E.jpg', 'rhyolite'],\n",
              " ['geological_similarity/marble/Z3YJR.jpg', 'marbler'],\n",
              " ['geological_similarity/andesite/GAS38.jpg', 'andesite'],\n",
              " ['geological_similarity/marble/ZASXW.jpg', 'marbler'],\n",
              " ['geological_similarity/quartzite/W3U58.jpg', 'quartzite'],\n",
              " ['geological_similarity/rhyolite/BC3YW.jpg', 'rhyolite'],\n",
              " ['geological_similarity/andesite/XC267.jpg', 'andesite'],\n",
              " ['geological_similarity/rhyolite/W4H8G.jpg', 'rhyolite'],\n",
              " ['geological_similarity/andesite/5JPX1.jpg', 'andesite'],\n",
              " ['geological_similarity/rhyolite/84T3Y.jpg', 'rhyolite'],\n",
              " ['geological_similarity/gneiss/D5HB7.jpg', 'gneiss'],\n",
              " ['geological_similarity/andesite/9263J.jpg', 'andesite'],\n",
              " ['geological_similarity/quartzite/67NL3.jpg', 'quartzite'],\n",
              " ['geological_similarity/rhyolite/30VTE.jpg', 'rhyolite'],\n",
              " ['geological_similarity/schist/OZHD6.jpg', 'schist'],\n",
              " ['geological_similarity/quartzite/XPH8M.jpg', 'quartzite'],\n",
              " ['geological_similarity/gneiss/6054C.jpg', 'gneiss'],\n",
              " ['geological_similarity/quartzite/N8UYI.jpg', 'quartzite'],\n",
              " ['geological_similarity/andesite/YZP4P.jpg', 'andesite'],\n",
              " ['geological_similarity/schist/10HA9.jpg', 'schist'],\n",
              " ['geological_similarity/gneiss/F1ZIR.jpg', 'gneiss'],\n",
              " ['geological_similarity/rhyolite/XVK7A.jpg', 'rhyolite'],\n",
              " ['geological_similarity/quartzite/3HYS2.jpg', 'quartzite'],\n",
              " ['geological_similarity/schist/CCCST.jpg', 'schist'],\n",
              " ['geological_similarity/rhyolite/04Z7B.jpg', 'rhyolite'],\n",
              " ['geological_similarity/andesite/1I1LJ.jpg', 'andesite'],\n",
              " ['geological_similarity/marble/OB4SI.jpg', 'marbler'],\n",
              " ['geological_similarity/marble/I9ENL.jpg', 'marbler'],\n",
              " ['geological_similarity/quartzite/ITJVR.jpg', 'quartzite'],\n",
              " ['geological_similarity/schist/WT548.jpg', 'schist'],\n",
              " ['geological_similarity/marble/Y310J.jpg', 'marbler'],\n",
              " ['geological_similarity/marble/DNMSF.jpg', 'marbler'],\n",
              " ['geological_similarity/marble/O11XR.jpg', 'marbler'],\n",
              " ['geological_similarity/andesite/7TSPS.jpg', 'andesite'],\n",
              " ['geological_similarity/rhyolite/7B200.jpg', 'rhyolite'],\n",
              " ['geological_similarity/gneiss/IX4ZI.jpg', 'gneiss'],\n",
              " ['geological_similarity/rhyolite/AQZU7.jpg', 'rhyolite'],\n",
              " ['geological_similarity/quartzite/IV7BV.jpg', 'quartzite'],\n",
              " ['geological_similarity/schist/ZN0B7.jpg', 'schist'],\n",
              " ['geological_similarity/schist/GBWVD.jpg', 'schist'],\n",
              " ['geological_similarity/schist/JF7SJ.jpg', 'schist'],\n",
              " ['geological_similarity/quartzite/7JL9B.jpg', 'quartzite'],\n",
              " ['geological_similarity/andesite/XR6UG.jpg', 'andesite'],\n",
              " ['geological_similarity/rhyolite/NORSS.jpg', 'rhyolite'],\n",
              " ['geological_similarity/gneiss/8BHAC.jpg', 'gneiss'],\n",
              " ['geological_similarity/quartzite/TYDRP.jpg', 'quartzite'],\n",
              " ['geological_similarity/quartzite/QIKV5.jpg', 'quartzite'],\n",
              " ['geological_similarity/gneiss/SCDO0.jpg', 'gneiss'],\n",
              " ['geological_similarity/marble/W8CCA.jpg', 'marbler'],\n",
              " ['geological_similarity/rhyolite/VZ4CD.jpg', 'rhyolite'],\n",
              " ['geological_similarity/gneiss/JGN6Z.jpg', 'gneiss'],\n",
              " ['geological_similarity/marble/VQVYX.jpg', 'marbler'],\n",
              " ['geological_similarity/quartzite/9FXZA.jpg', 'quartzite'],\n",
              " ['geological_similarity/andesite/1A8A0.jpg', 'andesite'],\n",
              " ['geological_similarity/schist/8NG6N.jpg', 'schist'],\n",
              " ['geological_similarity/schist/VWAV2.jpg', 'schist'],\n",
              " ['geological_similarity/andesite/293WY.jpg', 'andesite'],\n",
              " ['geological_similarity/marble/IDQN2.jpg', 'marbler'],\n",
              " ['geological_similarity/gneiss/2DL0C.jpg', 'gneiss'],\n",
              " ['geological_similarity/quartzite/7GSWD.jpg', 'quartzite'],\n",
              " ['geological_similarity/marble/OYWOS.jpg', 'marbler'],\n",
              " ['geological_similarity/schist/4AE6A.jpg', 'schist'],\n",
              " ['geological_similarity/quartzite/X3UVE.jpg', 'quartzite'],\n",
              " ['geological_similarity/schist/9T9B0.jpg', 'schist'],\n",
              " ['geological_similarity/rhyolite/KR22Y.jpg', 'rhyolite'],\n",
              " ['geological_similarity/quartzite/TYFQF.jpg', 'quartzite'],\n",
              " ['geological_similarity/quartzite/J6PHE.jpg', 'quartzite'],\n",
              " ['geological_similarity/rhyolite/C49SV.jpg', 'rhyolite'],\n",
              " ['geological_similarity/rhyolite/2FURT.jpg', 'rhyolite'],\n",
              " ['geological_similarity/gneiss/YF3QW.jpg', 'gneiss'],\n",
              " ['geological_similarity/andesite/SZ6LM.jpg', 'andesite'],\n",
              " ['geological_similarity/gneiss/EZE57.jpg', 'gneiss'],\n",
              " ['geological_similarity/gneiss/H19PI.jpg', 'gneiss'],\n",
              " ['geological_similarity/gneiss/9OA5U.jpg', 'gneiss'],\n",
              " ['geological_similarity/quartzite/CR156.jpg', 'quartzite'],\n",
              " ['geological_similarity/schist/NX8Z0.jpg', 'schist'],\n",
              " ['geological_similarity/rhyolite/E7A74.jpg', 'rhyolite'],\n",
              " ['geological_similarity/schist/I2UAG.jpg', 'schist'],\n",
              " ['geological_similarity/marble/HHMN5.jpg', 'marbler'],\n",
              " ['geological_similarity/rhyolite/XY7RI.jpg', 'rhyolite'],\n",
              " ['geological_similarity/marble/L5EMC.jpg', 'marbler'],\n",
              " ['geological_similarity/schist/PY6LL.jpg', 'schist'],\n",
              " ['geological_similarity/andesite/YUJVL.jpg', 'andesite'],\n",
              " ['geological_similarity/marble/3XJET.jpg', 'marbler'],\n",
              " ['geological_similarity/andesite/V79RW.jpg', 'andesite'],\n",
              " ['geological_similarity/schist/ZES1T.jpg', 'schist'],\n",
              " ['geological_similarity/marble/A961N.jpg', 'marbler'],\n",
              " ['geological_similarity/quartzite/MBEE7.jpg', 'quartzite'],\n",
              " ['geological_similarity/schist/5QHEJ.jpg', 'schist'],\n",
              " ['geological_similarity/andesite/YS2FL.jpg', 'andesite'],\n",
              " ['geological_similarity/quartzite/6JT6D.jpg', 'quartzite'],\n",
              " ['geological_similarity/rhyolite/23G2S.jpg', 'rhyolite'],\n",
              " ['geological_similarity/gneiss/UJHIY.jpg', 'gneiss'],\n",
              " ['geological_similarity/gneiss/16BB8.jpg', 'gneiss'],\n",
              " ['geological_similarity/rhyolite/YXG33.jpg', 'rhyolite'],\n",
              " ['geological_similarity/gneiss/VT0UX.jpg', 'gneiss'],\n",
              " ['geological_similarity/schist/IZ2JP.jpg', 'schist'],\n",
              " ['geological_similarity/schist/M6YGI.jpg', 'schist'],\n",
              " ['geological_similarity/marble/GBKV2.jpg', 'marbler'],\n",
              " ['geological_similarity/schist/SDWTG.jpg', 'schist'],\n",
              " ['geological_similarity/gneiss/1NBG7.jpg', 'gneiss'],\n",
              " ['geological_similarity/gneiss/AJNWW.jpg', 'gneiss'],\n",
              " ['geological_similarity/quartzite/B2LKQ.jpg', 'quartzite'],\n",
              " ['geological_similarity/quartzite/KG45X.jpg', 'quartzite'],\n",
              " ['geological_similarity/marble/7TOUB.jpg', 'marbler'],\n",
              " ['geological_similarity/schist/AMEGN.jpg', 'schist'],\n",
              " ['geological_similarity/quartzite/56YZ7.jpg', 'quartzite'],\n",
              " ['geological_similarity/andesite/0JC0L.jpg', 'andesite'],\n",
              " ['geological_similarity/marble/QA2J5.jpg', 'marbler'],\n",
              " ['geological_similarity/quartzite/O03H7.jpg', 'quartzite'],\n",
              " ['geological_similarity/rhyolite/LHHML.jpg', 'rhyolite'],\n",
              " ['geological_similarity/andesite/OBYE8.jpg', 'andesite'],\n",
              " ['geological_similarity/andesite/O10KA.jpg', 'andesite'],\n",
              " ['geological_similarity/marble/SNK48.jpg', 'marbler'],\n",
              " ['geological_similarity/schist/N615Q.jpg', 'schist'],\n",
              " ['geological_similarity/schist/IQGNR.jpg', 'schist'],\n",
              " ['geological_similarity/rhyolite/1DF7W.jpg', 'rhyolite'],\n",
              " ['geological_similarity/rhyolite/MKG4W.jpg', 'rhyolite'],\n",
              " ['geological_similarity/quartzite/TMWRB.jpg', 'quartzite'],\n",
              " ['geological_similarity/schist/HYIBK.jpg', 'schist'],\n",
              " ['geological_similarity/andesite/8HXJY.jpg', 'andesite'],\n",
              " ['geological_similarity/marble/31W7P.jpg', 'marbler'],\n",
              " ['geological_similarity/schist/4HUK3.jpg', 'schist'],\n",
              " ['geological_similarity/rhyolite/WQR3S.jpg', 'rhyolite'],\n",
              " ['geological_similarity/quartzite/9EBZ2.jpg', 'quartzite'],\n",
              " ['geological_similarity/marble/1QTL0.jpg', 'marbler'],\n",
              " ['geological_similarity/andesite/8VULV.jpg', 'andesite'],\n",
              " ['geological_similarity/schist/UAKR2.jpg', 'schist'],\n",
              " ['geological_similarity/marble/2CI4V.jpg', 'marbler'],\n",
              " ['geological_similarity/gneiss/4GL7K.jpg', 'gneiss'],\n",
              " ['geological_similarity/gneiss/M4VY3.jpg', 'gneiss'],\n",
              " ['geological_similarity/rhyolite/U0OS4.jpg', 'rhyolite'],\n",
              " ['geological_similarity/schist/CL5PA.jpg', 'schist'],\n",
              " ['geological_similarity/gneiss/6DZAM.jpg', 'gneiss'],\n",
              " ['geological_similarity/andesite/9ZMSZ.jpg', 'andesite'],\n",
              " ['geological_similarity/rhyolite/AW80U.jpg', 'rhyolite'],\n",
              " ['geological_similarity/marble/Y04CB.jpg', 'marbler'],\n",
              " ['geological_similarity/marble/XJ4RR.jpg', 'marbler'],\n",
              " ['geological_similarity/marble/5KXJB.jpg', 'marbler'],\n",
              " ['geological_similarity/gneiss/Z9RNS.jpg', 'gneiss'],\n",
              " ['geological_similarity/quartzite/RPKB7.jpg', 'quartzite'],\n",
              " ['geological_similarity/marble/43GI4.jpg', 'marbler'],\n",
              " ['geological_similarity/gneiss/7PVRW.jpg', 'gneiss'],\n",
              " ['geological_similarity/schist/K48MM.jpg', 'schist'],\n",
              " ['geological_similarity/andesite/JUMWR.jpg', 'andesite'],\n",
              " ['geological_similarity/gneiss/A1RNC.jpg', 'gneiss'],\n",
              " ['geological_similarity/andesite/XNV41.jpg', 'andesite'],\n",
              " ['geological_similarity/rhyolite/MSY8L.jpg', 'rhyolite'],\n",
              " ['geological_similarity/gneiss/RBUK3.jpg', 'gneiss'],\n",
              " ['geological_similarity/quartzite/6S1ZB.jpg', 'quartzite'],\n",
              " ['geological_similarity/marble/2ZU4Z.jpg', 'marbler'],\n",
              " ['geological_similarity/rhyolite/L0RX4.jpg', 'rhyolite'],\n",
              " ['geological_similarity/rhyolite/11G81.jpg', 'rhyolite'],\n",
              " ['geological_similarity/andesite/W3LU7.jpg', 'andesite'],\n",
              " ['geological_similarity/rhyolite/XT47U.jpg', 'rhyolite'],\n",
              " ['geological_similarity/gneiss/WLQI8.jpg', 'gneiss'],\n",
              " ['geological_similarity/marble/NUQQ3.jpg', 'marbler'],\n",
              " ['geological_similarity/gneiss/IWERT.jpg', 'gneiss'],\n",
              " ['geological_similarity/rhyolite/EZ3OY.jpg', 'rhyolite'],\n",
              " ['geological_similarity/schist/1GREZ.jpg', 'schist'],\n",
              " ['geological_similarity/rhyolite/5PLZH.jpg', 'rhyolite'],\n",
              " ['geological_similarity/marble/YUU5T.jpg', 'marbler'],\n",
              " ['geological_similarity/rhyolite/64RC4.jpg', 'rhyolite'],\n",
              " ['geological_similarity/quartzite/WM10O.jpg', 'quartzite'],\n",
              " ['geological_similarity/marble/VHI4K.jpg', 'marbler'],\n",
              " ['geological_similarity/quartzite/7RA4F.jpg', 'quartzite'],\n",
              " ['geological_similarity/andesite/4HQNP.jpg', 'andesite'],\n",
              " ['geological_similarity/quartzite/6HNBQ.jpg', 'quartzite'],\n",
              " ['geological_similarity/quartzite/DH6L0.jpg', 'quartzite'],\n",
              " ['geological_similarity/schist/27FJR.jpg', 'schist'],\n",
              " ['geological_similarity/gneiss/6T00N.jpg', 'gneiss'],\n",
              " ['geological_similarity/marble/5VJ6F.jpg', 'marbler'],\n",
              " ['geological_similarity/gneiss/4T2WN.jpg', 'gneiss'],\n",
              " ['geological_similarity/marble/FZM09.jpg', 'marbler'],\n",
              " ['geological_similarity/rhyolite/OSOE7.jpg', 'rhyolite'],\n",
              " ['geological_similarity/rhyolite/KLP8N.jpg', 'rhyolite'],\n",
              " ['geological_similarity/gneiss/3Q5TL.jpg', 'gneiss'],\n",
              " ['geological_similarity/andesite/QQ0X9.jpg', 'andesite'],\n",
              " ['geological_similarity/rhyolite/7B9XE.jpg', 'rhyolite'],\n",
              " ['geological_similarity/quartzite/LLOU3.jpg', 'quartzite'],\n",
              " ['geological_similarity/schist/DT59L.jpg', 'schist'],\n",
              " ['geological_similarity/schist/M1U8H.jpg', 'schist'],\n",
              " ['geological_similarity/quartzite/TVNX1.jpg', 'quartzite'],\n",
              " ['geological_similarity/gneiss/4C1JN.jpg', 'gneiss'],\n",
              " ['geological_similarity/quartzite/VAI5B.jpg', 'quartzite'],\n",
              " ['geological_similarity/rhyolite/EXVLZ.jpg', 'rhyolite'],\n",
              " ['geological_similarity/andesite/8T2X6.jpg', 'andesite'],\n",
              " ['geological_similarity/andesite/FGYSX.jpg', 'andesite'],\n",
              " ['geological_similarity/andesite/XRNQ0.jpg', 'andesite'],\n",
              " ['geological_similarity/andesite/W7WWC.jpg', 'andesite'],\n",
              " ['geological_similarity/quartzite/JDOP9.jpg', 'quartzite'],\n",
              " ['geological_similarity/quartzite/I28CZ.jpg', 'quartzite'],\n",
              " ['geological_similarity/schist/1FA7G.jpg', 'schist'],\n",
              " ['geological_similarity/andesite/VKJ23.jpg', 'andesite'],\n",
              " ['geological_similarity/gneiss/CFU3A.jpg', 'gneiss'],\n",
              " ['geological_similarity/marble/DR320.jpg', 'marbler'],\n",
              " ['geological_similarity/schist/ESP50.jpg', 'schist'],\n",
              " ['geological_similarity/schist/WPXSF.jpg', 'schist'],\n",
              " ['geological_similarity/rhyolite/MFDN0.jpg', 'rhyolite'],\n",
              " ['geological_similarity/schist/K9C7T.jpg', 'schist'],\n",
              " ['geological_similarity/andesite/ON51I.jpg', 'andesite'],\n",
              " ['geological_similarity/andesite/8Q0LC.jpg', 'andesite'],\n",
              " ['geological_similarity/schist/6FU2R.jpg', 'schist'],\n",
              " ['geological_similarity/schist/HBF73.jpg', 'schist'],\n",
              " ['geological_similarity/rhyolite/03O69.jpg', 'rhyolite'],\n",
              " ['geological_similarity/quartzite/JHRY4.jpg', 'quartzite'],\n",
              " ['geological_similarity/marble/216YX.jpg', 'marbler'],\n",
              " ['geological_similarity/andesite/UJ3SG.jpg', 'andesite'],\n",
              " ['geological_similarity/andesite/0M6H4.jpg', 'andesite'],\n",
              " ['geological_similarity/schist/RV6SW.jpg', 'schist'],\n",
              " ['geological_similarity/gneiss/9GX8A.jpg', 'gneiss'],\n",
              " ['geological_similarity/marble/VN2Q3.jpg', 'marbler'],\n",
              " ['geological_similarity/quartzite/PCUJH.jpg', 'quartzite'],\n",
              " ['geological_similarity/marble/9PF6B.jpg', 'marbler'],\n",
              " ['geological_similarity/quartzite/LHMGO.jpg', 'quartzite'],\n",
              " ['geological_similarity/gneiss/B3A1H.jpg', 'gneiss'],\n",
              " ['geological_similarity/gneiss/91W0N.jpg', 'gneiss'],\n",
              " ['geological_similarity/marble/4AODI.jpg', 'marbler'],\n",
              " ['geological_similarity/andesite/9M551.jpg', 'andesite'],\n",
              " ['geological_similarity/gneiss/Q8IHN.jpg', 'gneiss'],\n",
              " ['geological_similarity/gneiss/YJ1P2.jpg', 'gneiss'],\n",
              " ['geological_similarity/schist/QAITJ.jpg', 'schist'],\n",
              " ['geological_similarity/quartzite/ZB284.jpg', 'quartzite'],\n",
              " ['geological_similarity/marble/ZKHTS.jpg', 'marbler'],\n",
              " ['geological_similarity/marble/V7MH1.jpg', 'marbler'],\n",
              " ['geological_similarity/andesite/7LTXV.jpg', 'andesite'],\n",
              " ['geological_similarity/schist/QQ3AH.jpg', 'schist'],\n",
              " ['geological_similarity/rhyolite/H8OXH.jpg', 'rhyolite'],\n",
              " ['geological_similarity/quartzite/V2QCH.jpg', 'quartzite'],\n",
              " ['geological_similarity/andesite/7LCO0.jpg', 'andesite'],\n",
              " ['geological_similarity/gneiss/PQE1B.jpg', 'gneiss'],\n",
              " ['geological_similarity/marble/LZ2ER.jpg', 'marbler'],\n",
              " ['geological_similarity/schist/FNG4J.jpg', 'schist'],\n",
              " ['geological_similarity/schist/QSX1F.jpg', 'schist'],\n",
              " ['geological_similarity/quartzite/CGPJ1.jpg', 'quartzite'],\n",
              " ['geological_similarity/quartzite/N5WS2.jpg', 'quartzite'],\n",
              " ['geological_similarity/quartzite/7N7JA.jpg', 'quartzite'],\n",
              " ['geological_similarity/schist/F288G.jpg', 'schist'],\n",
              " ['geological_similarity/schist/IMGU3.jpg', 'schist'],\n",
              " ['geological_similarity/rhyolite/23IVO.jpg', 'rhyolite'],\n",
              " ['geological_similarity/schist/034JA.jpg', 'schist'],\n",
              " ['geological_similarity/marble/UI53X.jpg', 'marbler'],\n",
              " ['geological_similarity/quartzite/W1C6C.jpg', 'quartzite'],\n",
              " ['geological_similarity/rhyolite/FYYB8.jpg', 'rhyolite'],\n",
              " ['geological_similarity/andesite/QL0ET.jpg', 'andesite'],\n",
              " ['geological_similarity/rhyolite/2Q19H.jpg', 'rhyolite'],\n",
              " ['geological_similarity/quartzite/8WJER.jpg', 'quartzite'],\n",
              " ['geological_similarity/gneiss/ATHY0.jpg', 'gneiss'],\n",
              " ['geological_similarity/rhyolite/2VW8Y.jpg', 'rhyolite'],\n",
              " ['geological_similarity/marble/JAAWO.jpg', 'marbler'],\n",
              " ['geological_similarity/gneiss/NIUUI.jpg', 'gneiss'],\n",
              " ['geological_similarity/marble/7YOED.jpg', 'marbler'],\n",
              " ['geological_similarity/marble/3UUZO.jpg', 'marbler'],\n",
              " ['geological_similarity/marble/PLY1A.jpg', 'marbler'],\n",
              " ['geological_similarity/schist/MLKNS.jpg', 'schist'],\n",
              " ['geological_similarity/schist/HKTL4.jpg', 'schist'],\n",
              " ['geological_similarity/marble/F1OKN.jpg', 'marbler'],\n",
              " ['geological_similarity/rhyolite/8KR6K.jpg', 'rhyolite'],\n",
              " ['geological_similarity/rhyolite/KILAP.jpg', 'rhyolite'],\n",
              " ['geological_similarity/andesite/QK33R.jpg', 'andesite'],\n",
              " ['geological_similarity/marble/W8C0Q.jpg', 'marbler'],\n",
              " ['geological_similarity/schist/AD713.jpg', 'schist'],\n",
              " ['geological_similarity/marble/JB1MX.jpg', 'marbler'],\n",
              " ['geological_similarity/gneiss/7X4XD.jpg', 'gneiss'],\n",
              " ['geological_similarity/quartzite/I4U7L.jpg', 'quartzite'],\n",
              " ['geological_similarity/schist/08I28.jpg', 'schist'],\n",
              " ['geological_similarity/gneiss/DHDRF.jpg', 'gneiss'],\n",
              " ['geological_similarity/quartzite/7PD2Z.jpg', 'quartzite'],\n",
              " ['geological_similarity/gneiss/IGT87.jpg', 'gneiss'],\n",
              " ['geological_similarity/quartzite/DVP9L.jpg', 'quartzite'],\n",
              " ['geological_similarity/gneiss/1XGHY.jpg', 'gneiss'],\n",
              " ['geological_similarity/rhyolite/P0APG.jpg', 'rhyolite'],\n",
              " ['geological_similarity/marble/D1JTE.jpg', 'marbler'],\n",
              " ['geological_similarity/rhyolite/0HCVA.jpg', 'rhyolite'],\n",
              " ['geological_similarity/gneiss/BRUR8.jpg', 'gneiss'],\n",
              " ['geological_similarity/quartzite/RM1D2.jpg', 'quartzite'],\n",
              " ['geological_similarity/andesite/26PN1.jpg', 'andesite'],\n",
              " ['geological_similarity/andesite/COUY4.jpg', 'andesite'],\n",
              " ['geological_similarity/andesite/CPZ77.jpg', 'andesite'],\n",
              " ['geological_similarity/rhyolite/QVWEF.jpg', 'rhyolite'],\n",
              " ['geological_similarity/marble/BY06J.jpg', 'marbler'],\n",
              " ['geological_similarity/rhyolite/PW1BO.jpg', 'rhyolite'],\n",
              " ['geological_similarity/andesite/AJAAI.jpg', 'andesite'],\n",
              " ['geological_similarity/marble/9GTYF.jpg', 'marbler'],\n",
              " ['geological_similarity/rhyolite/H11Y2.jpg', 'rhyolite'],\n",
              " ['geological_similarity/marble/DZHPO.jpg', 'marbler'],\n",
              " ['geological_similarity/quartzite/KOD80.jpg', 'quartzite'],\n",
              " ['geological_similarity/marble/Y2Y31.jpg', 'marbler'],\n",
              " ['geological_similarity/marble/33M6M.jpg', 'marbler'],\n",
              " ['geological_similarity/schist/PVMAV.jpg', 'schist'],\n",
              " ['geological_similarity/andesite/8AUFI.jpg', 'andesite'],\n",
              " ['geological_similarity/quartzite/54RYP.jpg', 'quartzite'],\n",
              " ['geological_similarity/gneiss/OGP2S.jpg', 'gneiss'],\n",
              " ...]"
            ]
          },
          "metadata": {},
          "execution_count": 10
        }
      ]
    },
    {
      "cell_type": "code",
      "metadata": {
        "colab": {
          "base_uri": "https://localhost:8080/",
          "height": 417
        },
        "id": "JxH49usnlTiU",
        "outputId": "069faa9c-b4ac-48f4-d163-8831d31b64bd"
      },
      "source": [
        "data_df = pd.DataFrame(df,columns=['path','label'])\n",
        "data_df"
      ],
      "execution_count": 11,
      "outputs": [
        {
          "output_type": "execute_result",
          "data": {
            "text/html": [
              "<div>\n",
              "<style scoped>\n",
              "    .dataframe tbody tr th:only-of-type {\n",
              "        vertical-align: middle;\n",
              "    }\n",
              "\n",
              "    .dataframe tbody tr th {\n",
              "        vertical-align: top;\n",
              "    }\n",
              "\n",
              "    .dataframe thead th {\n",
              "        text-align: right;\n",
              "    }\n",
              "</style>\n",
              "<table border=\"1\" class=\"dataframe\">\n",
              "  <thead>\n",
              "    <tr style=\"text-align: right;\">\n",
              "      <th></th>\n",
              "      <th>path</th>\n",
              "      <th>label</th>\n",
              "    </tr>\n",
              "  </thead>\n",
              "  <tbody>\n",
              "    <tr>\n",
              "      <th>0</th>\n",
              "      <td>geological_similarity/gneiss/9W1HV.jpg</td>\n",
              "      <td>gneiss</td>\n",
              "    </tr>\n",
              "    <tr>\n",
              "      <th>1</th>\n",
              "      <td>geological_similarity/schist/6DT8T.jpg</td>\n",
              "      <td>schist</td>\n",
              "    </tr>\n",
              "    <tr>\n",
              "      <th>2</th>\n",
              "      <td>geological_similarity/gneiss/GYW9W.jpg</td>\n",
              "      <td>gneiss</td>\n",
              "    </tr>\n",
              "    <tr>\n",
              "      <th>3</th>\n",
              "      <td>geological_similarity/rhyolite/KCOL2.jpg</td>\n",
              "      <td>rhyolite</td>\n",
              "    </tr>\n",
              "    <tr>\n",
              "      <th>4</th>\n",
              "      <td>geological_similarity/rhyolite/ESFLC.jpg</td>\n",
              "      <td>rhyolite</td>\n",
              "    </tr>\n",
              "    <tr>\n",
              "      <th>...</th>\n",
              "      <td>...</td>\n",
              "      <td>...</td>\n",
              "    </tr>\n",
              "    <tr>\n",
              "      <th>29993</th>\n",
              "      <td>geological_similarity/gneiss/I789D.jpg</td>\n",
              "      <td>gneiss</td>\n",
              "    </tr>\n",
              "    <tr>\n",
              "      <th>29994</th>\n",
              "      <td>geological_similarity/schist/8ND62.jpg</td>\n",
              "      <td>schist</td>\n",
              "    </tr>\n",
              "    <tr>\n",
              "      <th>29995</th>\n",
              "      <td>geological_similarity/quartzite/U2W54.jpg</td>\n",
              "      <td>quartzite</td>\n",
              "    </tr>\n",
              "    <tr>\n",
              "      <th>29996</th>\n",
              "      <td>geological_similarity/andesite/7N2VZ.jpg</td>\n",
              "      <td>andesite</td>\n",
              "    </tr>\n",
              "    <tr>\n",
              "      <th>29997</th>\n",
              "      <td>geological_similarity/andesite/DC5DN.jpg</td>\n",
              "      <td>andesite</td>\n",
              "    </tr>\n",
              "  </tbody>\n",
              "</table>\n",
              "<p>29998 rows × 2 columns</p>\n",
              "</div>"
            ],
            "text/plain": [
              "                                            path      label\n",
              "0         geological_similarity/gneiss/9W1HV.jpg     gneiss\n",
              "1         geological_similarity/schist/6DT8T.jpg     schist\n",
              "2         geological_similarity/gneiss/GYW9W.jpg     gneiss\n",
              "3       geological_similarity/rhyolite/KCOL2.jpg   rhyolite\n",
              "4       geological_similarity/rhyolite/ESFLC.jpg   rhyolite\n",
              "...                                          ...        ...\n",
              "29993     geological_similarity/gneiss/I789D.jpg     gneiss\n",
              "29994     geological_similarity/schist/8ND62.jpg     schist\n",
              "29995  geological_similarity/quartzite/U2W54.jpg  quartzite\n",
              "29996   geological_similarity/andesite/7N2VZ.jpg   andesite\n",
              "29997   geological_similarity/andesite/DC5DN.jpg   andesite\n",
              "\n",
              "[29998 rows x 2 columns]"
            ]
          },
          "metadata": {},
          "execution_count": 11
        }
      ]
    },
    {
      "cell_type": "code",
      "metadata": {
        "colab": {
          "base_uri": "https://localhost:8080/"
        },
        "id": "qhAVtAK8zQPd",
        "outputId": "2b579833-55f8-4312-8d87-68d24702a9a0"
      },
      "source": [
        "data_df.dtypes"
      ],
      "execution_count": 12,
      "outputs": [
        {
          "output_type": "execute_result",
          "data": {
            "text/plain": [
              "path     object\n",
              "label    object\n",
              "dtype: object"
            ]
          },
          "metadata": {},
          "execution_count": 12
        }
      ]
    },
    {
      "cell_type": "markdown",
      "metadata": {
        "id": "XlUbajOTxHKl"
      },
      "source": [
        "# **Limpeza de dados**\n",
        "1 - Analisando os dados ausentes\n",
        "2 - Descartando os dados ausentes\n",
        "3 - Imputando dados\n",
        "4 - Acrescentando colunas informativas"
      ]
    },
    {
      "cell_type": "code",
      "metadata": {
        "colab": {
          "base_uri": "https://localhost:8080/",
          "height": 510
        },
        "id": "ybydrHWUvlbY",
        "outputId": "803b4ce9-20eb-4bec-e84c-029fcd5debe3"
      },
      "source": [
        "import missingno as msno\n",
        "ax = msno.matrix(data_df.sample(400))"
      ],
      "execution_count": 13,
      "outputs": [
        {
          "output_type": "display_data",
          "data": {
            "image/png": "[encoded data removed]",
            "text/plain": [
              "<Figure size 1800x720 with 2 Axes>"
            ]
          },
          "metadata": {
            "needs_background": "light"
          }
        }
      ]
    },
    {
      "cell_type": "code",
      "metadata": {
        "id": "9cVvBcwVxq9s"
      },
      "source": [
        "#! pip install pandas-profiling==2.8.0\n",
        "#from pandas_profiling import ProfileReport\n",
        "#ProfileReport (data_df)"
      ],
      "execution_count": null,
      "outputs": []
    },
    {
      "cell_type": "markdown",
      "metadata": {
        "id": "aPsSnX6j0Ec-"
      },
      "source": [
        "# **Separação das amostras**"
      ]
    },
    {
      "cell_type": "code",
      "metadata": {
        "id": "GivnwDIGUrFW"
      },
      "source": [
        "X = data_df.drop(columns='label')\n",
        "y = data_df.path"
      ],
      "execution_count": null,
      "outputs": []
    },
    {
      "cell_type": "code",
      "metadata": {
        "id": "uh3XBhM9pqJz"
      },
      "source": [
        "X_train,X_test,y_train,y_test=train_test_split(X,y,test_size=0.2,random_state=44)"
      ],
      "execution_count": null,
      "outputs": []
    },
    {
      "cell_type": "markdown",
      "metadata": {
        "id": "uAXxm12yUwsI"
      },
      "source": [
        "# **Explorando os dados**"
      ]
    },
    {
      "cell_type": "code",
      "metadata": {
        "colab": {
          "base_uri": "https://localhost:8080/",
          "height": 212
        },
        "id": "RIeT3Ji_UxQO",
        "outputId": "ccf53ba0-bd5c-43ef-89df-87d4c68fe141"
      },
      "source": [
        "print(X_train.shape)\n",
        "print(X_test.shape)\n",
        "print(y_train.shape)\n",
        "print(y_test.shape)"
      ],
      "execution_count": 14,
      "outputs": [
        {
          "output_type": "error",
          "ename": "NameError",
          "evalue": "ignored",
          "traceback": [
            "\u001b[0;31m---------------------------------------------------------------------------\u001b[0m",
            "\u001b[0;31mNameError\u001b[0m                                 Traceback (most recent call last)",
            "\u001b[0;32m<ipython-input-14-72473169a3b2>\u001b[0m in \u001b[0;36m<module>\u001b[0;34m()\u001b[0m\n\u001b[0;32m----> 1\u001b[0;31m \u001b[0mprint\u001b[0m\u001b[0;34m(\u001b[0m\u001b[0mX_train\u001b[0m\u001b[0;34m.\u001b[0m\u001b[0mshape\u001b[0m\u001b[0;34m)\u001b[0m\u001b[0;34m\u001b[0m\u001b[0;34m\u001b[0m\u001b[0m\n\u001b[0m\u001b[1;32m      2\u001b[0m \u001b[0mprint\u001b[0m\u001b[0;34m(\u001b[0m\u001b[0mX_test\u001b[0m\u001b[0;34m.\u001b[0m\u001b[0mshape\u001b[0m\u001b[0;34m)\u001b[0m\u001b[0;34m\u001b[0m\u001b[0;34m\u001b[0m\u001b[0m\n\u001b[1;32m      3\u001b[0m \u001b[0mprint\u001b[0m\u001b[0;34m(\u001b[0m\u001b[0my_train\u001b[0m\u001b[0;34m.\u001b[0m\u001b[0mshape\u001b[0m\u001b[0;34m)\u001b[0m\u001b[0;34m\u001b[0m\u001b[0;34m\u001b[0m\u001b[0m\n\u001b[1;32m      4\u001b[0m \u001b[0mprint\u001b[0m\u001b[0;34m(\u001b[0m\u001b[0my_test\u001b[0m\u001b[0;34m.\u001b[0m\u001b[0mshape\u001b[0m\u001b[0;34m)\u001b[0m\u001b[0;34m\u001b[0m\u001b[0;34m\u001b[0m\u001b[0m\n",
            "\u001b[0;31mNameError\u001b[0m: name 'X_train' is not defined"
          ]
        }
      ]
    },
    {
      "cell_type": "code",
      "metadata": {
        "id": "Xry02gl1VD3g"
      },
      "source": [
        "#fig, ax = plt.subplots(figsize=(6,4))\n",
        "#X.plot(kind=\"hist\",ax=ax)"
      ],
      "execution_count": null,
      "outputs": []
    },
    {
      "cell_type": "markdown",
      "metadata": {
        "id": "-AAuWUVf6ocm"
      },
      "source": [
        "# **Data Argumentation**"
      ]
    },
    {
      "cell_type": "markdown",
      "metadata": {
        "id": "G1xbq78zfV9i"
      },
      "source": [
        "## ** Esta função irá plotar as imagens num grid de 1 a 5 colunas **"
      ]
    },
    {
      "cell_type": "code",
      "metadata": {
        "id": "hjV3pOngCtA7"
      },
      "source": [
        "def plotImages(images_arr):\n",
        "    fig, axes = plt.subplots(1, 5, figsize=(20,20))\n",
        "    axes = axes.flatten()\n",
        "    for img, ax in zip(images_arr, axes):\n",
        "        ax.imshow(img)\n",
        "    plt.tight_layout()\n",
        "    plt.show()"
      ],
      "execution_count": 15,
      "outputs": []
    },
    {
      "cell_type": "code",
      "metadata": {
        "id": "jkUru3gBfA0n"
      },
      "source": [
        "IMG_SHAPE = 28\n",
        "BATCH_SIZE = 20"
      ],
      "execution_count": 16,
      "outputs": []
    },
    {
      "cell_type": "code",
      "metadata": {
        "id": "Cw0IbS6mfdxM"
      },
      "source": [
        "datagen = ImageDataGenerator(rescale=1./255,\n",
        "                            #rotation_range = 40,\n",
        "                            #width_shift_range = 0.2,\n",
        "                            #height_shift_range = 0.2,\n",
        "                            #shear_range = 0.2,\n",
        "                            #zoom_range = 0.2,\n",
        "                            horizontal_flip = True,\n",
        "                            validation_split=0.2)"
      ],
      "execution_count": 17,
      "outputs": []
    },
    {
      "cell_type": "code",
      "metadata": {
        "colab": {
          "base_uri": "https://localhost:8080/"
        },
        "id": "fJOGqBP7fd3n",
        "outputId": "4b78e9d8-b80d-4341-d85e-f4cbc6203abb"
      },
      "source": [
        "train_generator = datagen.flow_from_dataframe(data_df,\n",
        "                                              x_col='path',\n",
        "                                              y_col='label',\n",
        "                                              images_size=(28,28),\n",
        "                                              #class_mode='binary',\n",
        "                                              subset='training')\n",
        "\n",
        "validation_generator = datagen.flow_from_dataframe(data_df,\n",
        "                                                   x_col='path',\n",
        "                                                   y_col='label',\n",
        "                                                   images_size=(28,28),\n",
        "                                                   #class_mode='binary',\n",
        "                                                   subset='validation')\n",
        "\n",
        "## Duvidas - Existe esse codigo abaixo\n",
        "\n",
        "#test_generator = datagen.flow_from_dataframe(data_df,\n",
        "                                              #x_col='path',\n",
        "                                             # y_col='label',\n",
        "                                             # images_size=(28,28)\n",
        "                                              #class_mode='binary')\n",
        "                                             # )"
      ],
      "execution_count": 18,
      "outputs": [
        {
          "output_type": "stream",
          "name": "stdout",
          "text": [
            "Found 23999 validated image filenames belonging to 6 classes.\n",
            "Found 5999 validated image filenames belonging to 6 classes.\n"
          ]
        }
      ]
    },
    {
      "cell_type": "code",
      "metadata": {
        "colab": {
          "base_uri": "https://localhost:8080/",
          "height": 245
        },
        "id": "ShN0CzElfd9R",
        "outputId": "2d1c2ca1-c3d2-49bf-8549-55eacd1267e1"
      },
      "source": [
        "augmented_images = [train_generator[0][0][0] for i in range(5)]\n",
        "plotImages(augmented_images)"
      ],
      "execution_count": 19,
      "outputs": [
        {
          "output_type": "display_data",
          "data": {
            "image/png": "[encoded data removed]",
            "text/plain": [
              "<Figure size 1440x1440 with 5 Axes>"
            ]
          },
          "metadata": {
            "needs_background": "light"
          }
        }
      ]
    },
    {
      "cell_type": "markdown",
      "metadata": {
        "id": "l1OMG-TS0Lq_"
      },
      "source": [
        "# **Imputação dos dados ???**"
      ]
    },
    {
      "cell_type": "markdown",
      "metadata": {
        "id": "JbBfQIg10RlI"
      },
      "source": [
        "# **Normalização dos dados ???**"
      ]
    },
    {
      "cell_type": "markdown",
      "metadata": {
        "id": "_3kIlBx3r01D"
      },
      "source": [
        "# **Pre Processamento dos dados**"
      ]
    },
    {
      "cell_type": "markdown",
      "metadata": {
        "id": "dXm8LYqv0_vK"
      },
      "source": [
        "# **Criar o modelo**"
      ]
    },
    {
      "cell_type": "code",
      "metadata": {
        "colab": {
          "base_uri": "https://localhost:8080/",
          "height": 229
        },
        "id": "aksvwnd_cB3m",
        "outputId": "4f58391f-65ef-4b9d-85b0-ff4a1d876deb"
      },
      "source": [
        "inputs = tf.keras.Input(shape=(256, 256,3))\n",
        "#x = augmented_images(inputs) # como conserto e passo isso\n",
        "x = layers.experimental.preprocessing.Rescaling(1./255)(x)\n",
        "x = layers.Conv2D(filters=32, kernel_size=3, activation=\"relu\")(x)\n",
        "x = layers.MaxPooling2D(pool_size=2)(x)\n",
        "x = layers.Conv2D(filters=64, kernel_size=3, activation=\"relu\")(x)\n",
        "x = layers.MaxPooling2D(pool_size=2)(x)\n",
        "x = layers.Conv2D(filters=128, kernel_size=3, activation=\"relu\")(x)\n",
        "x = layers.MaxPooling2D(pool_size=2)(x)\n",
        "x = layers.Conv2D(filters=256, kernel_size=3, activation=\"relu\")(x)\n",
        "x = layers.MaxPooling2D(pool_size=2)(x)\n",
        "x = layers.Conv2D(filters=256, kernel_size=3, activation=\"relu\")(x)\n",
        "x = layers.Flatten()(x)\n",
        "x = layers.Dropout(0.5)(x)\n",
        "outputs = layers.Dense(3, activation=\"sigmoid\")(x)\n",
        "model = tf.keras.Model(inputs=inputs, outputs=outputs)\n"
      ],
      "execution_count": 20,
      "outputs": [
        {
          "output_type": "error",
          "ename": "TypeError",
          "evalue": "ignored",
          "traceback": [
            "\u001b[0;31m---------------------------------------------------------------------------\u001b[0m",
            "\u001b[0;31mTypeError\u001b[0m                                 Traceback (most recent call last)",
            "\u001b[0;32m<ipython-input-20-fed7e1b628b5>\u001b[0m in \u001b[0;36m<module>\u001b[0;34m()\u001b[0m\n\u001b[1;32m      1\u001b[0m \u001b[0minputs\u001b[0m \u001b[0;34m=\u001b[0m \u001b[0mtf\u001b[0m\u001b[0;34m.\u001b[0m\u001b[0mkeras\u001b[0m\u001b[0;34m.\u001b[0m\u001b[0mInput\u001b[0m\u001b[0;34m(\u001b[0m\u001b[0mshape\u001b[0m\u001b[0;34m=\u001b[0m\u001b[0;34m(\u001b[0m\u001b[0;36m256\u001b[0m\u001b[0;34m,\u001b[0m \u001b[0;36m256\u001b[0m\u001b[0;34m,\u001b[0m\u001b[0;36m3\u001b[0m\u001b[0;34m)\u001b[0m\u001b[0;34m)\u001b[0m\u001b[0;34m\u001b[0m\u001b[0;34m\u001b[0m\u001b[0m\n\u001b[0;32m----> 2\u001b[0;31m \u001b[0mx\u001b[0m \u001b[0;34m=\u001b[0m \u001b[0maugmented_images\u001b[0m\u001b[0;34m(\u001b[0m\u001b[0minputs\u001b[0m\u001b[0;34m)\u001b[0m \u001b[0;31m# como conserto e passo isso\u001b[0m\u001b[0;34m\u001b[0m\u001b[0;34m\u001b[0m\u001b[0m\n\u001b[0m\u001b[1;32m      3\u001b[0m \u001b[0mx\u001b[0m \u001b[0;34m=\u001b[0m \u001b[0mlayers\u001b[0m\u001b[0;34m.\u001b[0m\u001b[0mexperimental\u001b[0m\u001b[0;34m.\u001b[0m\u001b[0mpreprocessing\u001b[0m\u001b[0;34m.\u001b[0m\u001b[0mRescaling\u001b[0m\u001b[0;34m(\u001b[0m\u001b[0;36m1.\u001b[0m\u001b[0;34m/\u001b[0m\u001b[0;36m255\u001b[0m\u001b[0;34m)\u001b[0m\u001b[0;34m(\u001b[0m\u001b[0mx\u001b[0m\u001b[0;34m)\u001b[0m\u001b[0;34m\u001b[0m\u001b[0;34m\u001b[0m\u001b[0m\n\u001b[1;32m      4\u001b[0m \u001b[0mx\u001b[0m \u001b[0;34m=\u001b[0m \u001b[0mlayers\u001b[0m\u001b[0;34m.\u001b[0m\u001b[0mConv2D\u001b[0m\u001b[0;34m(\u001b[0m\u001b[0mfilters\u001b[0m\u001b[0;34m=\u001b[0m\u001b[0;36m32\u001b[0m\u001b[0;34m,\u001b[0m \u001b[0mkernel_size\u001b[0m\u001b[0;34m=\u001b[0m\u001b[0;36m3\u001b[0m\u001b[0;34m,\u001b[0m \u001b[0mactivation\u001b[0m\u001b[0;34m=\u001b[0m\u001b[0;34m\"relu\"\u001b[0m\u001b[0;34m)\u001b[0m\u001b[0;34m(\u001b[0m\u001b[0mx\u001b[0m\u001b[0;34m)\u001b[0m\u001b[0;34m\u001b[0m\u001b[0;34m\u001b[0m\u001b[0m\n\u001b[1;32m      5\u001b[0m \u001b[0mx\u001b[0m \u001b[0;34m=\u001b[0m \u001b[0mlayers\u001b[0m\u001b[0;34m.\u001b[0m\u001b[0mMaxPooling2D\u001b[0m\u001b[0;34m(\u001b[0m\u001b[0mpool_size\u001b[0m\u001b[0;34m=\u001b[0m\u001b[0;36m2\u001b[0m\u001b[0;34m)\u001b[0m\u001b[0;34m(\u001b[0m\u001b[0mx\u001b[0m\u001b[0;34m)\u001b[0m\u001b[0;34m\u001b[0m\u001b[0;34m\u001b[0m\u001b[0m\n",
            "\u001b[0;31mTypeError\u001b[0m: 'list' object is not callable"
          ]
        }
      ]
    },
    {
      "cell_type": "code",
      "metadata": {
        "id": "ncctBTCAgG7d"
      },
      "source": [
        "model = tf.keras.models.Sequential([\n",
        "    tf.keras.layers.Conv2D(256, (3,3), activation='relu', input_shape=(256, 256, 3)),\n",
        "    tf.keras.layers.MaxPooling2D(2, 2),\n",
        "\n",
        "    tf.keras.layers.Conv2D(64, (3,3), activation='relu'),\n",
        "    tf.keras.layers.MaxPooling2D(2,2),\n",
        "\n",
        "    tf.keras.layers.Conv2D(128, (3,3), activation='relu'),\n",
        "    tf.keras.layers.MaxPooling2D(2,2),\n",
        "\n",
        "    #tf.keras.layers.Conv2D(128, (3,3), activation='relu'),\n",
        "    #tf.keras.layers.MaxPooling2D(2,2),\n",
        "\n",
        "    tf.keras.layers.Dropout(0.5),\n",
        "    tf.keras.layers.Flatten(),\n",
        "    tf.keras.layers.Dense(512, activation='relu'),\n",
        "    tf.keras.layers.Dense(6)\n",
        "])"
      ],
      "execution_count": 21,
      "outputs": []
    },
    {
      "cell_type": "markdown",
      "metadata": {
        "id": "cQvF_-VrbIhO"
      },
      "source": [
        "# **Compilando o Modelo**"
      ]
    },
    {
      "cell_type": "code",
      "metadata": {
        "id": "tseOThp5bLVl"
      },
      "source": [
        "model.compile(optimizer = Adam(learning_rate=0.0001), \n",
        "               loss = 'binary_crossentropy', \n",
        "               metrics =['accuracy'])"
      ],
      "execution_count": 22,
      "outputs": []
    },
    {
      "cell_type": "code",
      "metadata": {
        "colab": {
          "base_uri": "https://localhost:8080/"
        },
        "id": "quiMae2IbOcT",
        "outputId": "5bc028d6-c0e5-42b5-a3de-515587487db3"
      },
      "source": [
        "model.summary()  "
      ],
      "execution_count": 23,
      "outputs": [
        {
          "output_type": "stream",
          "name": "stdout",
          "text": [
            "Model: \"sequential\"\n",
            "_________________________________________________________________\n",
            "Layer (type)                 Output Shape              Param #   \n",
            "=================================================================\n",
            "conv2d (Conv2D)              (None, 254, 254, 256)     7168      \n",
            "_________________________________________________________________\n",
            "max_pooling2d (MaxPooling2D) (None, 127, 127, 256)     0         \n",
            "_________________________________________________________________\n",
            "conv2d_1 (Conv2D)            (None, 125, 125, 64)      147520    \n",
            "_________________________________________________________________\n",
            "max_pooling2d_1 (MaxPooling2 (None, 62, 62, 64)        0         \n",
            "_________________________________________________________________\n",
            "conv2d_2 (Conv2D)            (None, 60, 60, 128)       73856     \n",
            "_________________________________________________________________\n",
            "max_pooling2d_2 (MaxPooling2 (None, 30, 30, 128)       0         \n",
            "_________________________________________________________________\n",
            "dropout (Dropout)            (None, 30, 30, 128)       0         \n",
            "_________________________________________________________________\n",
            "flatten (Flatten)            (None, 115200)            0         \n",
            "_________________________________________________________________\n",
            "dense (Dense)                (None, 512)               58982912  \n",
            "_________________________________________________________________\n",
            "dense_1 (Dense)              (None, 6)                 3078      \n",
            "=================================================================\n",
            "Total params: 59,214,534\n",
            "Trainable params: 59,214,534\n",
            "Non-trainable params: 0\n",
            "_________________________________________________________________\n"
          ]
        }
      ]
    },
    {
      "cell_type": "code",
      "metadata": {
        "id": "9Sr0YDZ8dCmz"
      },
      "source": [
        "callbacks_list = [\n",
        "    tf.keras.callbacks.ReduceLROnPlateau(factor=0.5,\n",
        "                                         patience=4,\n",
        "                                         verbose=0),\n",
        "    tf.keras.callbacks.EarlyStopping(\n",
        "        monitor=\"accuracy\",\n",
        "        patience=12,\n",
        "        #restore_best_weights=True,\n",
        "    ),\n",
        "    tf.keras.callbacks.ModelCheckpoint(\n",
        "        filepath='best_model.h5',\n",
        "        monitor=\"val_accuracy\",\n",
        "        save_best_only=True,\n",
        "    ),\n",
        "\n",
        "]"
      ],
      "execution_count": 24,
      "outputs": []
    },
    {
      "cell_type": "markdown",
      "metadata": {
        "id": "IhQyiWIh1HQs"
      },
      "source": [
        "# **Avaliar o modelo**"
      ]
    },
    {
      "cell_type": "code",
      "metadata": {
        "colab": {
          "base_uri": "https://localhost:8080/",
          "height": 404
        },
        "id": "cwpnwl86dm74",
        "outputId": "330448f9-b09e-4942-fd2b-d88c9bae6d16"
      },
      "source": [
        "history = model.fit(train_generator,\n",
        "                               epochs=20,\n",
        "                               #verbose=0,\n",
        "                               callbacks=callbacks_list, \n",
        "                               #validation_split=0.2,\n",
        "                               #class_weight=class_weight_,\n",
        "                               #workers=4,\n",
        "                               #use_multiprocessing=True,\n",
        "                               validation_data=validation_generator)"
      ],
      "execution_count": null,
      "outputs": [
        {
          "output_type": "stream",
          "name": "stdout",
          "text": [
            "Epoch 1/20\n",
            "750/750 [==============================] - 13806s 18s/step - loss: 2.6188 - accuracy: 0.3306 - val_loss: 4.2755 - val_accuracy: 0.1637\n",
            "Epoch 2/20\n",
            " 27/750 [>.............................] - ETA: 3:28:36 - loss: 4.1124 - accuracy: 0.1956"
          ]
        },
        {
          "output_type": "error",
          "ename": "KeyboardInterrupt",
          "evalue": "ignored",
          "traceback": [
            "\u001b[0;31m---------------------------------------------------------------------------\u001b[0m",
            "\u001b[0;31mKeyboardInterrupt\u001b[0m                         Traceback (most recent call last)",
            "\u001b[0;32m<ipython-input-25-40b1050792fa>\u001b[0m in \u001b[0;36m<module>\u001b[0;34m()\u001b[0m\n\u001b[1;32m      7\u001b[0m                                \u001b[0;31m#workers=4,\u001b[0m\u001b[0;34m\u001b[0m\u001b[0;34m\u001b[0m\u001b[0;34m\u001b[0m\u001b[0m\n\u001b[1;32m      8\u001b[0m                                \u001b[0;31m#use_multiprocessing=True,\u001b[0m\u001b[0;34m\u001b[0m\u001b[0;34m\u001b[0m\u001b[0;34m\u001b[0m\u001b[0m\n\u001b[0;32m----> 9\u001b[0;31m                                validation_data=validation_generator)\n\u001b[0m",
            "\u001b[0;32m/usr/local/lib/python3.7/dist-packages/keras/engine/training.py\u001b[0m in \u001b[0;36mfit\u001b[0;34m(self, x, y, batch_size, epochs, verbose, callbacks, validation_split, validation_data, shuffle, class_weight, sample_weight, initial_epoch, steps_per_epoch, validation_steps, validation_batch_size, validation_freq, max_queue_size, workers, use_multiprocessing)\u001b[0m\n\u001b[1;32m   1182\u001b[0m                 _r=1):\n\u001b[1;32m   1183\u001b[0m               \u001b[0mcallbacks\u001b[0m\u001b[0;34m.\u001b[0m\u001b[0mon_train_batch_begin\u001b[0m\u001b[0;34m(\u001b[0m\u001b[0mstep\u001b[0m\u001b[0;34m)\u001b[0m\u001b[0;34m\u001b[0m\u001b[0;34m\u001b[0m\u001b[0m\n\u001b[0;32m-> 1184\u001b[0;31m               \u001b[0mtmp_logs\u001b[0m \u001b[0;34m=\u001b[0m \u001b[0mself\u001b[0m\u001b[0;34m.\u001b[0m\u001b[0mtrain_function\u001b[0m\u001b[0;34m(\u001b[0m\u001b[0miterator\u001b[0m\u001b[0;34m)\u001b[0m\u001b[0;34m\u001b[0m\u001b[0;34m\u001b[0m\u001b[0m\n\u001b[0m\u001b[1;32m   1185\u001b[0m               \u001b[0;32mif\u001b[0m \u001b[0mdata_handler\u001b[0m\u001b[0;34m.\u001b[0m\u001b[0mshould_sync\u001b[0m\u001b[0;34m:\u001b[0m\u001b[0;34m\u001b[0m\u001b[0;34m\u001b[0m\u001b[0m\n\u001b[1;32m   1186\u001b[0m                 \u001b[0mcontext\u001b[0m\u001b[0;34m.\u001b[0m\u001b[0masync_wait\u001b[0m\u001b[0;34m(\u001b[0m\u001b[0;34m)\u001b[0m\u001b[0;34m\u001b[0m\u001b[0;34m\u001b[0m\u001b[0m\n",
            "\u001b[0;32m/usr/local/lib/python3.7/dist-packages/tensorflow/python/eager/def_function.py\u001b[0m in \u001b[0;36m__call__\u001b[0;34m(self, *args, **kwds)\u001b[0m\n\u001b[1;32m    883\u001b[0m \u001b[0;34m\u001b[0m\u001b[0m\n\u001b[1;32m    884\u001b[0m       \u001b[0;32mwith\u001b[0m \u001b[0mOptionalXlaContext\u001b[0m\u001b[0;34m(\u001b[0m\u001b[0mself\u001b[0m\u001b[0;34m.\u001b[0m\u001b[0m_jit_compile\u001b[0m\u001b[0;34m)\u001b[0m\u001b[0;34m:\u001b[0m\u001b[0;34m\u001b[0m\u001b[0;34m\u001b[0m\u001b[0m\n\u001b[0;32m--> 885\u001b[0;31m         \u001b[0mresult\u001b[0m \u001b[0;34m=\u001b[0m \u001b[0mself\u001b[0m\u001b[0;34m.\u001b[0m\u001b[0m_call\u001b[0m\u001b[0;34m(\u001b[0m\u001b[0;34m*\u001b[0m\u001b[0margs\u001b[0m\u001b[0;34m,\u001b[0m \u001b[0;34m**\u001b[0m\u001b[0mkwds\u001b[0m\u001b[0;34m)\u001b[0m\u001b[0;34m\u001b[0m\u001b[0;34m\u001b[0m\u001b[0m\n\u001b[0m\u001b[1;32m    886\u001b[0m \u001b[0;34m\u001b[0m\u001b[0m\n\u001b[1;32m    887\u001b[0m       \u001b[0mnew_tracing_count\u001b[0m \u001b[0;34m=\u001b[0m \u001b[0mself\u001b[0m\u001b[0;34m.\u001b[0m\u001b[0mexperimental_get_tracing_count\u001b[0m\u001b[0;34m(\u001b[0m\u001b[0;34m)\u001b[0m\u001b[0;34m\u001b[0m\u001b[0;34m\u001b[0m\u001b[0m\n",
            "\u001b[0;32m/usr/local/lib/python3.7/dist-packages/tensorflow/python/eager/def_function.py\u001b[0m in \u001b[0;36m_call\u001b[0;34m(self, *args, **kwds)\u001b[0m\n\u001b[1;32m    915\u001b[0m       \u001b[0;31m# In this case we have created variables on the first call, so we run the\u001b[0m\u001b[0;34m\u001b[0m\u001b[0;34m\u001b[0m\u001b[0;34m\u001b[0m\u001b[0m\n\u001b[1;32m    916\u001b[0m       \u001b[0;31m# defunned version which is guaranteed to never create variables.\u001b[0m\u001b[0;34m\u001b[0m\u001b[0;34m\u001b[0m\u001b[0;34m\u001b[0m\u001b[0m\n\u001b[0;32m--> 917\u001b[0;31m       \u001b[0;32mreturn\u001b[0m \u001b[0mself\u001b[0m\u001b[0;34m.\u001b[0m\u001b[0m_stateless_fn\u001b[0m\u001b[0;34m(\u001b[0m\u001b[0;34m*\u001b[0m\u001b[0margs\u001b[0m\u001b[0;34m,\u001b[0m \u001b[0;34m**\u001b[0m\u001b[0mkwds\u001b[0m\u001b[0;34m)\u001b[0m  \u001b[0;31m# pylint: disable=not-callable\u001b[0m\u001b[0;34m\u001b[0m\u001b[0;34m\u001b[0m\u001b[0m\n\u001b[0m\u001b[1;32m    918\u001b[0m     \u001b[0;32melif\u001b[0m \u001b[0mself\u001b[0m\u001b[0;34m.\u001b[0m\u001b[0m_stateful_fn\u001b[0m \u001b[0;32mis\u001b[0m \u001b[0;32mnot\u001b[0m \u001b[0;32mNone\u001b[0m\u001b[0;34m:\u001b[0m\u001b[0;34m\u001b[0m\u001b[0;34m\u001b[0m\u001b[0m\n\u001b[1;32m    919\u001b[0m       \u001b[0;31m# Release the lock early so that multiple threads can perform the call\u001b[0m\u001b[0;34m\u001b[0m\u001b[0;34m\u001b[0m\u001b[0;34m\u001b[0m\u001b[0m\n",
            "\u001b[0;32m/usr/local/lib/python3.7/dist-packages/tensorflow/python/eager/function.py\u001b[0m in \u001b[0;36m__call__\u001b[0;34m(self, *args, **kwargs)\u001b[0m\n\u001b[1;32m   3038\u001b[0m        filtered_flat_args) = self._maybe_define_function(args, kwargs)\n\u001b[1;32m   3039\u001b[0m     return graph_function._call_flat(\n\u001b[0;32m-> 3040\u001b[0;31m         filtered_flat_args, captured_inputs=graph_function.captured_inputs)  # pylint: disable=protected-access\n\u001b[0m\u001b[1;32m   3041\u001b[0m \u001b[0;34m\u001b[0m\u001b[0m\n\u001b[1;32m   3042\u001b[0m   \u001b[0;34m@\u001b[0m\u001b[0mproperty\u001b[0m\u001b[0;34m\u001b[0m\u001b[0;34m\u001b[0m\u001b[0m\n",
            "\u001b[0;32m/usr/local/lib/python3.7/dist-packages/tensorflow/python/eager/function.py\u001b[0m in \u001b[0;36m_call_flat\u001b[0;34m(self, args, captured_inputs, cancellation_manager)\u001b[0m\n\u001b[1;32m   1962\u001b[0m       \u001b[0;31m# No tape is watching; skip to running the function.\u001b[0m\u001b[0;34m\u001b[0m\u001b[0;34m\u001b[0m\u001b[0;34m\u001b[0m\u001b[0m\n\u001b[1;32m   1963\u001b[0m       return self._build_call_outputs(self._inference_function.call(\n\u001b[0;32m-> 1964\u001b[0;31m           ctx, args, cancellation_manager=cancellation_manager))\n\u001b[0m\u001b[1;32m   1965\u001b[0m     forward_backward = self._select_forward_and_backward_functions(\n\u001b[1;32m   1966\u001b[0m         \u001b[0margs\u001b[0m\u001b[0;34m,\u001b[0m\u001b[0;34m\u001b[0m\u001b[0;34m\u001b[0m\u001b[0m\n",
            "\u001b[0;32m/usr/local/lib/python3.7/dist-packages/tensorflow/python/eager/function.py\u001b[0m in \u001b[0;36mcall\u001b[0;34m(self, ctx, args, cancellation_manager)\u001b[0m\n\u001b[1;32m    594\u001b[0m               \u001b[0minputs\u001b[0m\u001b[0;34m=\u001b[0m\u001b[0margs\u001b[0m\u001b[0;34m,\u001b[0m\u001b[0;34m\u001b[0m\u001b[0;34m\u001b[0m\u001b[0m\n\u001b[1;32m    595\u001b[0m               \u001b[0mattrs\u001b[0m\u001b[0;34m=\u001b[0m\u001b[0mattrs\u001b[0m\u001b[0;34m,\u001b[0m\u001b[0;34m\u001b[0m\u001b[0;34m\u001b[0m\u001b[0m\n\u001b[0;32m--> 596\u001b[0;31m               ctx=ctx)\n\u001b[0m\u001b[1;32m    597\u001b[0m         \u001b[0;32melse\u001b[0m\u001b[0;34m:\u001b[0m\u001b[0;34m\u001b[0m\u001b[0;34m\u001b[0m\u001b[0m\n\u001b[1;32m    598\u001b[0m           outputs = execute.execute_with_cancellation(\n",
            "\u001b[0;32m/usr/local/lib/python3.7/dist-packages/tensorflow/python/eager/execute.py\u001b[0m in \u001b[0;36mquick_execute\u001b[0;34m(op_name, num_outputs, inputs, attrs, ctx, name)\u001b[0m\n\u001b[1;32m     58\u001b[0m     \u001b[0mctx\u001b[0m\u001b[0;34m.\u001b[0m\u001b[0mensure_initialized\u001b[0m\u001b[0;34m(\u001b[0m\u001b[0;34m)\u001b[0m\u001b[0;34m\u001b[0m\u001b[0;34m\u001b[0m\u001b[0m\n\u001b[1;32m     59\u001b[0m     tensors = pywrap_tfe.TFE_Py_Execute(ctx._handle, device_name, op_name,\n\u001b[0;32m---> 60\u001b[0;31m                                         inputs, attrs, num_outputs)\n\u001b[0m\u001b[1;32m     61\u001b[0m   \u001b[0;32mexcept\u001b[0m \u001b[0mcore\u001b[0m\u001b[0;34m.\u001b[0m\u001b[0m_NotOkStatusException\u001b[0m \u001b[0;32mas\u001b[0m \u001b[0me\u001b[0m\u001b[0;34m:\u001b[0m\u001b[0;34m\u001b[0m\u001b[0;34m\u001b[0m\u001b[0m\n\u001b[1;32m     62\u001b[0m     \u001b[0;32mif\u001b[0m \u001b[0mname\u001b[0m \u001b[0;32mis\u001b[0m \u001b[0;32mnot\u001b[0m \u001b[0;32mNone\u001b[0m\u001b[0;34m:\u001b[0m\u001b[0;34m\u001b[0m\u001b[0;34m\u001b[0m\u001b[0m\n",
            "\u001b[0;31mKeyboardInterrupt\u001b[0m: "
          ]
        }
      ]
    },
    {
      "cell_type": "markdown",
      "metadata": {
        "id": "0G-slWFQ1KwJ"
      },
      "source": [
        "# **Otimizar o modelo**"
      ]
    },
    {
      "cell_type": "code",
      "metadata": {
        "id": "SSXH7txAgG_n"
      },
      "source": [
        ""
      ],
      "execution_count": null,
      "outputs": []
    }
  ]
}