{
  "nbformat": 4,
  "nbformat_minor": 0,
  "metadata": {
    "colab": {
      "name": "geological-image-similarity.ipynb",
      "provenance": [],
      "authorship_tag": "ABX9TyN6ZE/OktmfoxWHsqHASzeP",
      "include_colab_link": true
    },
    "kernelspec": {
      "name": "python3",
      "display_name": "Python 3"
    },
    "language_info": {
      "name": "python"
    },
    "accelerator": "GPU"
  },
  "cells": [
    {
      "cell_type": "markdown",
      "metadata": {
        "id": "view-in-github",
        "colab_type": "text"
      },
      "source": [
        "<a href=\"https://colab.research.google.com/github/fabiobasson/Bi-Master/blob/main/geological_image_similarity.ipynb\" target=\"_parent\"><img src=\"https://colab.research.google.com/assets/colab-badge.svg\" alt=\"Open In Colab\"/></a>"
      ]
    },
    {
      "cell_type": "markdown",
      "metadata": {
        "id": "ek-dpdgUwrpq"
      },
      "source": [
        "# Importações "
      ]
    },
    {
      "cell_type": "code",
      "metadata": {
        "id": "d_JsE0wMwy5m"
      },
      "source": [
        "import os\n",
        "import tensorflow as tf\n",
        "from tensorflow.keras import layers\n",
        "from tensorflow.keras import Model\n",
        "from os import getcwd\n",
        "import zipfile\n",
        "import shutil\n",
        "import numpy as np\n",
        "import glob\n",
        "import random\n",
        "import pandas as pd\n",
        "import matplotlib.pyplot as plt\n",
        "\n",
        "\n",
        "from tensorflow.keras.optimizers import RMSprop, Adam\n",
        "from tensorflow.keras.applications.inception_v3 import InceptionV3\n",
        "from tensorflow.keras.preprocessing.image import ImageDataGenerator\n",
        "\n",
        "from sklearn.metrics import confusion_matrix,accuracy_score\n",
        "from sklearn.model_selection import train_test_split"
      ],
      "execution_count": 1,
      "outputs": []
    },
    {
      "cell_type": "code",
      "metadata": {
        "id": "qB35LCwK1F9Y"
      },
      "source": [
        "!rm -rf geological_similarity"
      ],
      "execution_count": 1,
      "outputs": []
    },
    {
      "cell_type": "markdown",
      "metadata": {
        "id": "WsBJvou07fbF"
      },
      "source": [
        "# **Coleta de dados do Kaglle**"
      ]
    },
    {
      "cell_type": "code",
      "metadata": {
        "colab": {
          "resources": {
            "http://localhost:8080/nbextensions/google.colab/files.js": {
              "data": "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",
              "ok": true,
              "headers": [
                [
                  "content-type",
                  "application/javascript"
                ]
              ],
              "status": 200,
              "status_text": ""
            }
          },
          "base_uri": "https://localhost:8080/",
          "height": 90
        },
        "id": "qPW1Uceu4EkK",
        "outputId": "b7f6fe8d-90a7-4c95-ee4a-3c2d7c4b3c50"
      },
      "source": [
        "from google.colab import files\n",
        "files.upload()"
      ],
      "execution_count": 2,
      "outputs": [
        {
          "output_type": "display_data",
          "data": {
            "text/html": [
              "\n",
              "     <input type=\"file\" id=\"files-0e792b64-69af-437e-aa60-3a1c3daeea5a\" name=\"files[]\" multiple disabled\n",
              "        style=\"border:none\" />\n",
              "     <output id=\"result-0e792b64-69af-437e-aa60-3a1c3daeea5a\">\n",
              "      Upload widget is only available when the cell has been executed in the\n",
              "      current browser session. Please rerun this cell to enable.\n",
              "      </output>\n",
              "      <script src=\"/nbextensions/google.colab/files.js\"></script> "
            ],
            "text/plain": [
              "<IPython.core.display.HTML object>"
            ]
          },
          "metadata": {}
        },
        {
          "output_type": "stream",
          "name": "stdout",
          "text": [
            "Saving kaggle.json to kaggle.json\n"
          ]
        },
        {
          "output_type": "execute_result",
          "data": {
            "text/plain": [
              "{'kaggle.json': b'{\"username\":\"fabiobasson\",\"key\":\"d71cbfdfd23379909173204eac74cf96\"}'}"
            ]
          },
          "metadata": {},
          "execution_count": 2
        }
      ]
    },
    {
      "cell_type": "code",
      "metadata": {
        "id": "SQCTWdML4LFR"
      },
      "source": [
        "!mkdir ~/.kaggle\n",
        "!cp kaggle.json ~/.kaggle/\n",
        "!chmod 600 ~/.kaggle/kaggle.json"
      ],
      "execution_count": 3,
      "outputs": []
    },
    {
      "cell_type": "markdown",
      "metadata": {
        "id": "rte0cNVp7kgE"
      },
      "source": [
        "# **###  Download dos dados / descompactando os dados**"
      ]
    },
    {
      "cell_type": "code",
      "metadata": {
        "colab": {
          "base_uri": "https://localhost:8080/"
        },
        "id": "cPWKIkQqHfSv",
        "outputId": "91cf3ece-dd5e-456d-c06e-2e395a18e680"
      },
      "source": [
        "!kaggle datasets download tanyadayanand/geological-image-similarity\n",
        "! unzip -qq  geological-image-similarity"
      ],
      "execution_count": 5,
      "outputs": [
        {
          "output_type": "stream",
          "name": "stdout",
          "text": [
            "Downloading geological-image-similarity.zip to /content\n",
            "\r  0% 0.00/33.6M [00:00<?, ?B/s]\r 21% 7.00M/33.6M [00:00<00:00, 72.3MB/s]\r 74% 25.0M/33.6M [00:00<00:00, 88.7MB/s]\n",
            "\r100% 33.6M/33.6M [00:00<00:00, 133MB/s] \n"
          ]
        }
      ]
    },
    {
      "cell_type": "code",
      "metadata": {
        "colab": {
          "base_uri": "https://localhost:8080/"
        },
        "id": "GvN30SNO4L1f",
        "outputId": "e1dbd42f-a8ea-4e0d-8ea7-9e5b3d4d72ff"
      },
      "source": [
        "#!kaggle datasets download fabiobasson/geological-similarity\n",
        "#! unzip -qq  geological-similarity"
      ],
      "execution_count": null,
      "outputs": [
        {
          "output_type": "stream",
          "name": "stdout",
          "text": [
            "geological-similarity.zip: Skipping, found more recently modified local copy (use --force to force download)\n"
          ]
        }
      ]
    },
    {
      "cell_type": "markdown",
      "metadata": {
        "id": "owY2uo8A7q5j"
      },
      "source": [
        "# ** Criação da estrutura e Dataframe**"
      ]
    },
    {
      "cell_type": "code",
      "metadata": {
        "colab": {
          "base_uri": "https://localhost:8080/"
        },
        "id": "QXSrUDeU4L7J",
        "outputId": "6b805860-6a25-40e9-a3ef-8362ea875dd2"
      },
      "source": [
        "andesite_dir = glob.glob('geological_similarity/andesite/*.jpg');gneiss_dir = glob.glob('geological_similarity/gneiss/*.jpg')\n",
        "marble_dir = glob.glob('geological_similarity/marble/*.jpg');quartzite_dir = glob.glob('geological_similarity/quartzite/*.jpg')\n",
        "rhyolite_dir = glob.glob('geological_similarity/rhyolite/*.jpg');\n",
        "schist_dir = glob.glob('geological_similarity/schist/*.jpg')\n",
        "print(len(andesite_dir));print(len(gneiss_dir)); print(len(marble_dir)); print(len(quartzite_dir));  print(len(quartzite_dir)); print(len(schist_dir))\n"
      ],
      "execution_count": 6,
      "outputs": [
        {
          "output_type": "stream",
          "name": "stdout",
          "text": [
            "5000\n",
            "5000\n",
            "4998\n",
            "5000\n",
            "5000\n",
            "5000\n"
          ]
        }
      ]
    },
    {
      "cell_type": "code",
      "metadata": {
        "colab": {
          "base_uri": "https://localhost:8080/"
        },
        "id": "_eBw1Jk2EYm2",
        "outputId": "b9df07d5-aad8-43a0-b61c-ecd4b8a6646c"
      },
      "source": [
        "andesite_dir[0:4]"
      ],
      "execution_count": 7,
      "outputs": [
        {
          "output_type": "execute_result",
          "data": {
            "text/plain": [
              "['geological_similarity/andesite/1UHU2.jpg',\n",
              " 'geological_similarity/andesite/6HCS3.jpg',\n",
              " 'geological_similarity/andesite/KJB2I.jpg',\n",
              " 'geological_similarity/andesite/CO36V.jpg']"
            ]
          },
          "metadata": {},
          "execution_count": 7
        }
      ]
    },
    {
      "cell_type": "code",
      "metadata": {
        "id": "O9d3W_LswkS2",
        "colab": {
          "base_uri": "https://localhost:8080/",
          "height": 35
        },
        "outputId": "ac57614e-4451-442b-d1be-3fe8c84760d7"
      },
      "source": [
        "class_names = ['andesite', 'gneiss', 'marbler', 'quartzite', 'rhyolite','schist']\n",
        "class_names[0]"
      ],
      "execution_count": 8,
      "outputs": [
        {
          "output_type": "execute_result",
          "data": {
            "application/vnd.google.colaboratory.intrinsic+json": {
              "type": "string"
            },
            "text/plain": [
              "'andesite'"
            ]
          },
          "metadata": {},
          "execution_count": 8
        }
      ]
    },
    {
      "cell_type": "code",
      "metadata": {
        "colab": {
          "base_uri": "https://localhost:8080/"
        },
        "id": "wBhB6b6xi1xl",
        "outputId": "a227a312-e518-49de-bcb5-f3f4334f8103"
      },
      "source": [
        "andesite_df=[];gneiss_df=[];marble_df=[]\n",
        "quartzite_df=[]\n",
        "rhyolite_df=[]\n",
        "schist_df=[]\n",
        "\n",
        "for i in andesite_dir:\n",
        "    andesite_df.append([i,class_names[0]])\n",
        "for j in gneiss_dir:\n",
        "   gneiss_df.append([j,class_names[1]])\n",
        "for l in marble_dir:\n",
        "    marble_df.append([l,class_names[2]])\n",
        "for m in quartzite_dir:\n",
        "    quartzite_df.append([m,class_names[3]])\n",
        "for n in rhyolite_dir:\n",
        "    rhyolite_df.append([n,class_names[4]])\n",
        "for o in schist_dir:\n",
        "    schist_df.append([o,class_names[5]])\n",
        "   \n",
        "df = andesite_df + gneiss_df + marble_df + quartzite_df + rhyolite_df + schist_df\n",
        "random.shuffle(df)\n",
        "df"
      ],
      "execution_count": 9,
      "outputs": [
        {
          "output_type": "execute_result",
          "data": {
            "text/plain": [
              "[['geological_similarity/gneiss/SCCVN.jpg', 'gneiss'],\n",
              " ['geological_similarity/quartzite/YS6K4.jpg', 'quartzite'],\n",
              " ['geological_similarity/rhyolite/BPRNG.jpg', 'rhyolite'],\n",
              " ['geological_similarity/marble/WG1TW.jpg', 'marbler'],\n",
              " ['geological_similarity/andesite/MQUT3.jpg', 'andesite'],\n",
              " ['geological_similarity/gneiss/12CX6.jpg', 'gneiss'],\n",
              " ['geological_similarity/marble/8O154.jpg', 'marbler'],\n",
              " ['geological_similarity/gneiss/UXUSG.jpg', 'gneiss'],\n",
              " ['geological_similarity/rhyolite/VTGR5.jpg', 'rhyolite'],\n",
              " ['geological_similarity/schist/E30Y5.jpg', 'schist'],\n",
              " ['geological_similarity/quartzite/56EQU.jpg', 'quartzite'],\n",
              " ['geological_similarity/schist/GT0F4.jpg', 'schist'],\n",
              " ['geological_similarity/gneiss/IC6G6.jpg', 'gneiss'],\n",
              " ['geological_similarity/andesite/S5CQE.jpg', 'andesite'],\n",
              " ['geological_similarity/schist/R3OLV.jpg', 'schist'],\n",
              " ['geological_similarity/gneiss/VDPVZ.jpg', 'gneiss'],\n",
              " ['geological_similarity/gneiss/ONSIT.jpg', 'gneiss'],\n",
              " ['geological_similarity/marble/LUDID.jpg', 'marbler'],\n",
              " ['geological_similarity/rhyolite/L2B1Q.jpg', 'rhyolite'],\n",
              " ['geological_similarity/marble/A146W.jpg', 'marbler'],\n",
              " ['geological_similarity/andesite/7UP90.jpg', 'andesite'],\n",
              " ['geological_similarity/schist/Q4NUX.jpg', 'schist'],\n",
              " ['geological_similarity/andesite/LWTUB.jpg', 'andesite'],\n",
              " ['geological_similarity/rhyolite/5Z1MV.jpg', 'rhyolite'],\n",
              " ['geological_similarity/marble/51GUQ.jpg', 'marbler'],\n",
              " ['geological_similarity/marble/KC0ML.jpg', 'marbler'],\n",
              " ['geological_similarity/andesite/8R000.jpg', 'andesite'],\n",
              " ['geological_similarity/quartzite/ZNL98.jpg', 'quartzite'],\n",
              " ['geological_similarity/rhyolite/1H9EY.jpg', 'rhyolite'],\n",
              " ['geological_similarity/quartzite/NNOYC.jpg', 'quartzite'],\n",
              " ['geological_similarity/schist/4AAV7.jpg', 'schist'],\n",
              " ['geological_similarity/gneiss/RJ6S5.jpg', 'gneiss'],\n",
              " ['geological_similarity/andesite/4OWWL.jpg', 'andesite'],\n",
              " ['geological_similarity/andesite/LYB6X.jpg', 'andesite'],\n",
              " ['geological_similarity/gneiss/IC1BN.jpg', 'gneiss'],\n",
              " ['geological_similarity/andesite/3K4BQ.jpg', 'andesite'],\n",
              " ['geological_similarity/gneiss/JO1LZ.jpg', 'gneiss'],\n",
              " ['geological_similarity/gneiss/DEA9B.jpg', 'gneiss'],\n",
              " ['geological_similarity/quartzite/Q3TYV.jpg', 'quartzite'],\n",
              " ['geological_similarity/rhyolite/DFK6I.jpg', 'rhyolite'],\n",
              " ['geological_similarity/gneiss/K9QHO.jpg', 'gneiss'],\n",
              " ['geological_similarity/quartzite/46JTA.jpg', 'quartzite'],\n",
              " ['geological_similarity/andesite/Q67L8.jpg', 'andesite'],\n",
              " ['geological_similarity/rhyolite/C9O8C.jpg', 'rhyolite'],\n",
              " ['geological_similarity/schist/MAMYP.jpg', 'schist'],\n",
              " ['geological_similarity/andesite/DYL5D.jpg', 'andesite'],\n",
              " ['geological_similarity/schist/HAHHR.jpg', 'schist'],\n",
              " ['geological_similarity/andesite/9NKOJ.jpg', 'andesite'],\n",
              " ['geological_similarity/gneiss/UKE9N.jpg', 'gneiss'],\n",
              " ['geological_similarity/quartzite/1H503.jpg', 'quartzite'],\n",
              " ['geological_similarity/marble/CIF0X.jpg', 'marbler'],\n",
              " ['geological_similarity/schist/10HA9.jpg', 'schist'],\n",
              " ['geological_similarity/schist/XZWPQ.jpg', 'schist'],\n",
              " ['geological_similarity/gneiss/MOGST.jpg', 'gneiss'],\n",
              " ['geological_similarity/marble/QY74T.jpg', 'marbler'],\n",
              " ['geological_similarity/rhyolite/T26EP.jpg', 'rhyolite'],\n",
              " ['geological_similarity/marble/M5M97.jpg', 'marbler'],\n",
              " ['geological_similarity/quartzite/I28CZ.jpg', 'quartzite'],\n",
              " ['geological_similarity/marble/M22XP.jpg', 'marbler'],\n",
              " ['geological_similarity/schist/O013F.jpg', 'schist'],\n",
              " ['geological_similarity/gneiss/75OCO.jpg', 'gneiss'],\n",
              " ['geological_similarity/quartzite/8QJIJ.jpg', 'quartzite'],\n",
              " ['geological_similarity/schist/9JV6T.jpg', 'schist'],\n",
              " ['geological_similarity/marble/9J8F2.jpg', 'marbler'],\n",
              " ['geological_similarity/marble/M9C1H.jpg', 'marbler'],\n",
              " ['geological_similarity/schist/54N19.jpg', 'schist'],\n",
              " ['geological_similarity/gneiss/HUOUD.jpg', 'gneiss'],\n",
              " ['geological_similarity/quartzite/MS8BY.jpg', 'quartzite'],\n",
              " ['geological_similarity/gneiss/YHXEI.jpg', 'gneiss'],\n",
              " ['geological_similarity/quartzite/943VL.jpg', 'quartzite'],\n",
              " ['geological_similarity/gneiss/HU2WW.jpg', 'gneiss'],\n",
              " ['geological_similarity/quartzite/YIIFI.jpg', 'quartzite'],\n",
              " ['geological_similarity/gneiss/2RM1J.jpg', 'gneiss'],\n",
              " ['geological_similarity/andesite/JC6R7.jpg', 'andesite'],\n",
              " ['geological_similarity/marble/6UM9T.jpg', 'marbler'],\n",
              " ['geological_similarity/gneiss/CNCYW.jpg', 'gneiss'],\n",
              " ['geological_similarity/schist/BY6TS.jpg', 'schist'],\n",
              " ['geological_similarity/schist/K5DNW.jpg', 'schist'],\n",
              " ['geological_similarity/marble/HH0L6.jpg', 'marbler'],\n",
              " ['geological_similarity/andesite/D94UV.jpg', 'andesite'],\n",
              " ['geological_similarity/marble/VXQB5.jpg', 'marbler'],\n",
              " ['geological_similarity/gneiss/JK9CV.jpg', 'gneiss'],\n",
              " ['geological_similarity/marble/KONTY.jpg', 'marbler'],\n",
              " ['geological_similarity/andesite/KGDNF.jpg', 'andesite'],\n",
              " ['geological_similarity/quartzite/3JC0P.jpg', 'quartzite'],\n",
              " ['geological_similarity/marble/ZWQSD.jpg', 'marbler'],\n",
              " ['geological_similarity/rhyolite/GY9TK.jpg', 'rhyolite'],\n",
              " ['geological_similarity/schist/OAJP3.jpg', 'schist'],\n",
              " ['geological_similarity/marble/I0NFD.jpg', 'marbler'],\n",
              " ['geological_similarity/rhyolite/K9EDY.jpg', 'rhyolite'],\n",
              " ['geological_similarity/marble/MQO9R.jpg', 'marbler'],\n",
              " ['geological_similarity/schist/ADM09.jpg', 'schist'],\n",
              " ['geological_similarity/gneiss/7QFR1.jpg', 'gneiss'],\n",
              " ['geological_similarity/schist/GCY4M.jpg', 'schist'],\n",
              " ['geological_similarity/rhyolite/TDJGU.jpg', 'rhyolite'],\n",
              " ['geological_similarity/marble/471TL.jpg', 'marbler'],\n",
              " ['geological_similarity/rhyolite/W2VZR.jpg', 'rhyolite'],\n",
              " ['geological_similarity/rhyolite/99OZP.jpg', 'rhyolite'],\n",
              " ['geological_similarity/gneiss/X4OGF.jpg', 'gneiss'],\n",
              " ['geological_similarity/andesite/VLLNL.jpg', 'andesite'],\n",
              " ['geological_similarity/gneiss/T4II2.jpg', 'gneiss'],\n",
              " ['geological_similarity/rhyolite/S0D42.jpg', 'rhyolite'],\n",
              " ['geological_similarity/andesite/BEETA.jpg', 'andesite'],\n",
              " ['geological_similarity/schist/0JNLD.jpg', 'schist'],\n",
              " ['geological_similarity/schist/OJL94.jpg', 'schist'],\n",
              " ['geological_similarity/quartzite/QVI1N.jpg', 'quartzite'],\n",
              " ['geological_similarity/schist/LEMVX.jpg', 'schist'],\n",
              " ['geological_similarity/schist/7OLAL.jpg', 'schist'],\n",
              " ['geological_similarity/marble/8TDAI.jpg', 'marbler'],\n",
              " ['geological_similarity/gneiss/8NFF3.jpg', 'gneiss'],\n",
              " ['geological_similarity/rhyolite/BNMAL.jpg', 'rhyolite'],\n",
              " ['geological_similarity/quartzite/U0OS4.jpg', 'quartzite'],\n",
              " ['geological_similarity/schist/5BCK7.jpg', 'schist'],\n",
              " ['geological_similarity/schist/FBPJ2.jpg', 'schist'],\n",
              " ['geological_similarity/rhyolite/BU593.jpg', 'rhyolite'],\n",
              " ['geological_similarity/marble/E1O3T.jpg', 'marbler'],\n",
              " ['geological_similarity/quartzite/3C5CL.jpg', 'quartzite'],\n",
              " ['geological_similarity/andesite/N2OKH.jpg', 'andesite'],\n",
              " ['geological_similarity/quartzite/7BCCP.jpg', 'quartzite'],\n",
              " ['geological_similarity/marble/GGI6I.jpg', 'marbler'],\n",
              " ['geological_similarity/rhyolite/QUITO.jpg', 'rhyolite'],\n",
              " ['geological_similarity/marble/G9JYB.jpg', 'marbler'],\n",
              " ['geological_similarity/schist/HZQH8.jpg', 'schist'],\n",
              " ['geological_similarity/marble/4GPC0.jpg', 'marbler'],\n",
              " ['geological_similarity/rhyolite/H5OOK.jpg', 'rhyolite'],\n",
              " ['geological_similarity/rhyolite/BZQ2P.jpg', 'rhyolite'],\n",
              " ['geological_similarity/andesite/C30XO.jpg', 'andesite'],\n",
              " ['geological_similarity/andesite/7E0ZN.jpg', 'andesite'],\n",
              " ['geological_similarity/andesite/NK3K4.jpg', 'andesite'],\n",
              " ['geological_similarity/rhyolite/EPA08.jpg', 'rhyolite'],\n",
              " ['geological_similarity/quartzite/MZ4Q5.jpg', 'quartzite'],\n",
              " ['geological_similarity/marble/NGV66.jpg', 'marbler'],\n",
              " ['geological_similarity/andesite/EKCDF.jpg', 'andesite'],\n",
              " ['geological_similarity/quartzite/MVM39.jpg', 'quartzite'],\n",
              " ['geological_similarity/schist/D8KKV.jpg', 'schist'],\n",
              " ['geological_similarity/schist/0EM0Q.jpg', 'schist'],\n",
              " ['geological_similarity/quartzite/KAYC4.jpg', 'quartzite'],\n",
              " ['geological_similarity/schist/TFK0S.jpg', 'schist'],\n",
              " ['geological_similarity/quartzite/BQ8AJ.jpg', 'quartzite'],\n",
              " ['geological_similarity/gneiss/6XHPX.jpg', 'gneiss'],\n",
              " ['geological_similarity/rhyolite/HQIU0.jpg', 'rhyolite'],\n",
              " ['geological_similarity/quartzite/PYR35.jpg', 'quartzite'],\n",
              " ['geological_similarity/gneiss/1N32C.jpg', 'gneiss'],\n",
              " ['geological_similarity/quartzite/TSG9F.jpg', 'quartzite'],\n",
              " ['geological_similarity/andesite/WQS7P.jpg', 'andesite'],\n",
              " ['geological_similarity/gneiss/BVYIS.jpg', 'gneiss'],\n",
              " ['geological_similarity/gneiss/KWJSD.jpg', 'gneiss'],\n",
              " ['geological_similarity/marble/HUP3Z.jpg', 'marbler'],\n",
              " ['geological_similarity/rhyolite/09H0H.jpg', 'rhyolite'],\n",
              " ['geological_similarity/andesite/CDOTK.jpg', 'andesite'],\n",
              " ['geological_similarity/quartzite/5HJ3H.jpg', 'quartzite'],\n",
              " ['geological_similarity/andesite/ZTNUY.jpg', 'andesite'],\n",
              " ['geological_similarity/quartzite/J299U.jpg', 'quartzite'],\n",
              " ['geological_similarity/quartzite/Q14LB.jpg', 'quartzite'],\n",
              " ['geological_similarity/marble/AANBE.jpg', 'marbler'],\n",
              " ['geological_similarity/gneiss/1N2MN.jpg', 'gneiss'],\n",
              " ['geological_similarity/quartzite/3WFK1.jpg', 'quartzite'],\n",
              " ['geological_similarity/schist/V8XQD.jpg', 'schist'],\n",
              " ['geological_similarity/andesite/LXMR2.jpg', 'andesite'],\n",
              " ['geological_similarity/rhyolite/JKL6U.jpg', 'rhyolite'],\n",
              " ['geological_similarity/rhyolite/54GBT.jpg', 'rhyolite'],\n",
              " ['geological_similarity/rhyolite/CPE8M.jpg', 'rhyolite'],\n",
              " ['geological_similarity/marble/GHTVY.jpg', 'marbler'],\n",
              " ['geological_similarity/quartzite/B6150.jpg', 'quartzite'],\n",
              " ['geological_similarity/rhyolite/R0EPX.jpg', 'rhyolite'],\n",
              " ['geological_similarity/quartzite/2LJXT.jpg', 'quartzite'],\n",
              " ['geological_similarity/andesite/CA1AE.jpg', 'andesite'],\n",
              " ['geological_similarity/marble/2PAJ4.jpg', 'marbler'],\n",
              " ['geological_similarity/marble/I49QW.jpg', 'marbler'],\n",
              " ['geological_similarity/marble/C5Q8R.jpg', 'marbler'],\n",
              " ['geological_similarity/gneiss/L2JKD.jpg', 'gneiss'],\n",
              " ['geological_similarity/andesite/QFME9.jpg', 'andesite'],\n",
              " ['geological_similarity/andesite/DO8IA.jpg', 'andesite'],\n",
              " ['geological_similarity/schist/UFBTX.jpg', 'schist'],\n",
              " ['geological_similarity/gneiss/A3KVI.jpg', 'gneiss'],\n",
              " ['geological_similarity/schist/WLB0H.jpg', 'schist'],\n",
              " ['geological_similarity/marble/QIBHV.jpg', 'marbler'],\n",
              " ['geological_similarity/andesite/803MB.jpg', 'andesite'],\n",
              " ['geological_similarity/quartzite/CMZXY.jpg', 'quartzite'],\n",
              " ['geological_similarity/quartzite/1X367.jpg', 'quartzite'],\n",
              " ['geological_similarity/gneiss/OETQC.jpg', 'gneiss'],\n",
              " ['geological_similarity/schist/0XQTO.jpg', 'schist'],\n",
              " ['geological_similarity/quartzite/9E5AI.jpg', 'quartzite'],\n",
              " ['geological_similarity/andesite/Y8QXB.jpg', 'andesite'],\n",
              " ['geological_similarity/quartzite/H8PN1.jpg', 'quartzite'],\n",
              " ['geological_similarity/marble/GFRSB.jpg', 'marbler'],\n",
              " ['geological_similarity/rhyolite/U5RFW.jpg', 'rhyolite'],\n",
              " ['geological_similarity/quartzite/NB03V.jpg', 'quartzite'],\n",
              " ['geological_similarity/andesite/YHZ47.jpg', 'andesite'],\n",
              " ['geological_similarity/andesite/4IZAH.jpg', 'andesite'],\n",
              " ['geological_similarity/gneiss/HMB88.jpg', 'gneiss'],\n",
              " ['geological_similarity/marble/GQHSD.jpg', 'marbler'],\n",
              " ['geological_similarity/andesite/Y4I0B.jpg', 'andesite'],\n",
              " ['geological_similarity/rhyolite/Q64TV.jpg', 'rhyolite'],\n",
              " ['geological_similarity/quartzite/I9R68.jpg', 'quartzite'],\n",
              " ['geological_similarity/gneiss/OBNMP.jpg', 'gneiss'],\n",
              " ['geological_similarity/marble/SJJF5.jpg', 'marbler'],\n",
              " ['geological_similarity/quartzite/6CX93.jpg', 'quartzite'],\n",
              " ['geological_similarity/gneiss/ZA869.jpg', 'gneiss'],\n",
              " ['geological_similarity/quartzite/55CR0.jpg', 'quartzite'],\n",
              " ['geological_similarity/rhyolite/LOXM1.jpg', 'rhyolite'],\n",
              " ['geological_similarity/gneiss/V7RHY.jpg', 'gneiss'],\n",
              " ['geological_similarity/rhyolite/E1YTE.jpg', 'rhyolite'],\n",
              " ['geological_similarity/quartzite/CU4O3.jpg', 'quartzite'],\n",
              " ['geological_similarity/gneiss/NTGAG.jpg', 'gneiss'],\n",
              " ['geological_similarity/andesite/HC4AA.jpg', 'andesite'],\n",
              " ['geological_similarity/gneiss/OHX3P.jpg', 'gneiss'],\n",
              " ['geological_similarity/rhyolite/B9EK3.jpg', 'rhyolite'],\n",
              " ['geological_similarity/schist/B9RXW.jpg', 'schist'],\n",
              " ['geological_similarity/marble/NBQ1I.jpg', 'marbler'],\n",
              " ['geological_similarity/schist/FYLKR.jpg', 'schist'],\n",
              " ['geological_similarity/marble/1RELH.jpg', 'marbler'],\n",
              " ['geological_similarity/gneiss/Q9D8Q.jpg', 'gneiss'],\n",
              " ['geological_similarity/rhyolite/BUE73.jpg', 'rhyolite'],\n",
              " ['geological_similarity/rhyolite/VETBW.jpg', 'rhyolite'],\n",
              " ['geological_similarity/gneiss/QOKGK.jpg', 'gneiss'],\n",
              " ['geological_similarity/gneiss/75LRE.jpg', 'gneiss'],\n",
              " ['geological_similarity/rhyolite/3TKVO.jpg', 'rhyolite'],\n",
              " ['geological_similarity/marble/TDXZN.jpg', 'marbler'],\n",
              " ['geological_similarity/andesite/S4VQK.jpg', 'andesite'],\n",
              " ['geological_similarity/andesite/NUKWV.jpg', 'andesite'],\n",
              " ['geological_similarity/schist/L3PE8.jpg', 'schist'],\n",
              " ['geological_similarity/rhyolite/C4214.jpg', 'rhyolite'],\n",
              " ['geological_similarity/schist/BKI7U.jpg', 'schist'],\n",
              " ['geological_similarity/gneiss/0DJ4D.jpg', 'gneiss'],\n",
              " ['geological_similarity/schist/9JI06.jpg', 'schist'],\n",
              " ['geological_similarity/schist/EAB6D.jpg', 'schist'],\n",
              " ['geological_similarity/schist/G86KQ.jpg', 'schist'],\n",
              " ['geological_similarity/marble/CEM2L.jpg', 'marbler'],\n",
              " ['geological_similarity/marble/QIA9K.jpg', 'marbler'],\n",
              " ['geological_similarity/rhyolite/JKNQ8.jpg', 'rhyolite'],\n",
              " ['geological_similarity/rhyolite/KG5RU.jpg', 'rhyolite'],\n",
              " ['geological_similarity/gneiss/TAK41.jpg', 'gneiss'],\n",
              " ['geological_similarity/marble/R5ZS9.jpg', 'marbler'],\n",
              " ['geological_similarity/schist/N3RCV.jpg', 'schist'],\n",
              " ['geological_similarity/marble/M9LHC.jpg', 'marbler'],\n",
              " ['geological_similarity/quartzite/3YDKZ.jpg', 'quartzite'],\n",
              " ['geological_similarity/andesite/Q6ZC2.jpg', 'andesite'],\n",
              " ['geological_similarity/rhyolite/M752F.jpg', 'rhyolite'],\n",
              " ['geological_similarity/schist/IQGNR.jpg', 'schist'],\n",
              " ['geological_similarity/gneiss/8HOK5.jpg', 'gneiss'],\n",
              " ['geological_similarity/andesite/DH2JR.jpg', 'andesite'],\n",
              " ['geological_similarity/schist/M2G4O.jpg', 'schist'],\n",
              " ['geological_similarity/schist/RTV5C.jpg', 'schist'],\n",
              " ['geological_similarity/rhyolite/O306F.jpg', 'rhyolite'],\n",
              " ['geological_similarity/marble/NL1AW.jpg', 'marbler'],\n",
              " ['geological_similarity/gneiss/IFFBT.jpg', 'gneiss'],\n",
              " ['geological_similarity/andesite/1X0OH.jpg', 'andesite'],\n",
              " ['geological_similarity/gneiss/RVO8P.jpg', 'gneiss'],\n",
              " ['geological_similarity/quartzite/3NJID.jpg', 'quartzite'],\n",
              " ['geological_similarity/marble/9UTOO.jpg', 'marbler'],\n",
              " ['geological_similarity/marble/2S61V.jpg', 'marbler'],\n",
              " ['geological_similarity/gneiss/KDTZY.jpg', 'gneiss'],\n",
              " ['geological_similarity/rhyolite/ZJ499.jpg', 'rhyolite'],\n",
              " ['geological_similarity/quartzite/SARNX.jpg', 'quartzite'],\n",
              " ['geological_similarity/marble/M6C9E.jpg', 'marbler'],\n",
              " ['geological_similarity/marble/R7SI8.jpg', 'marbler'],\n",
              " ['geological_similarity/quartzite/M75O7.jpg', 'quartzite'],\n",
              " ['geological_similarity/marble/GPQ6O.jpg', 'marbler'],\n",
              " ['geological_similarity/andesite/TSC76.jpg', 'andesite'],\n",
              " ['geological_similarity/rhyolite/0XLEH.jpg', 'rhyolite'],\n",
              " ['geological_similarity/marble/RRB2I.jpg', 'marbler'],\n",
              " ['geological_similarity/quartzite/6MXU2.jpg', 'quartzite'],\n",
              " ['geological_similarity/schist/OSONA.jpg', 'schist'],\n",
              " ['geological_similarity/schist/IYUZ4.jpg', 'schist'],\n",
              " ['geological_similarity/andesite/QGI55.jpg', 'andesite'],\n",
              " ['geological_similarity/rhyolite/FKIBN.jpg', 'rhyolite'],\n",
              " ['geological_similarity/gneiss/7HH95.jpg', 'gneiss'],\n",
              " ['geological_similarity/rhyolite/RYMQF.jpg', 'rhyolite'],\n",
              " ['geological_similarity/rhyolite/7XRZX.jpg', 'rhyolite'],\n",
              " ['geological_similarity/gneiss/4QTWO.jpg', 'gneiss'],\n",
              " ['geological_similarity/andesite/3NBRX.jpg', 'andesite'],\n",
              " ['geological_similarity/quartzite/K1N6O.jpg', 'quartzite'],\n",
              " ['geological_similarity/andesite/58R0J.jpg', 'andesite'],\n",
              " ['geological_similarity/andesite/Z8ERE.jpg', 'andesite'],\n",
              " ['geological_similarity/rhyolite/3E5YJ.jpg', 'rhyolite'],\n",
              " ['geological_similarity/rhyolite/MPM4K.jpg', 'rhyolite'],\n",
              " ['geological_similarity/quartzite/KRA4V.jpg', 'quartzite'],\n",
              " ['geological_similarity/quartzite/X0EIB.jpg', 'quartzite'],\n",
              " ['geological_similarity/quartzite/GNTNF.jpg', 'quartzite'],\n",
              " ['geological_similarity/andesite/AYQ0Q.jpg', 'andesite'],\n",
              " ['geological_similarity/rhyolite/86G50.jpg', 'rhyolite'],\n",
              " ['geological_similarity/marble/CG8LT.jpg', 'marbler'],\n",
              " ['geological_similarity/gneiss/80HYN.jpg', 'gneiss'],\n",
              " ['geological_similarity/gneiss/590E0.jpg', 'gneiss'],\n",
              " ['geological_similarity/rhyolite/XY0YY.jpg', 'rhyolite'],\n",
              " ['geological_similarity/marble/JEKGX.jpg', 'marbler'],\n",
              " ['geological_similarity/gneiss/HXNTE.jpg', 'gneiss'],\n",
              " ['geological_similarity/schist/POH60.jpg', 'schist'],\n",
              " ['geological_similarity/gneiss/PW56R.jpg', 'gneiss'],\n",
              " ['geological_similarity/rhyolite/GG5A9.jpg', 'rhyolite'],\n",
              " ['geological_similarity/schist/XBWY4.jpg', 'schist'],\n",
              " ['geological_similarity/andesite/W44HK.jpg', 'andesite'],\n",
              " ['geological_similarity/andesite/RV7VR.jpg', 'andesite'],\n",
              " ['geological_similarity/quartzite/T94OH.jpg', 'quartzite'],\n",
              " ['geological_similarity/marble/C23FC.jpg', 'marbler'],\n",
              " ['geological_similarity/rhyolite/7N8RI.jpg', 'rhyolite'],\n",
              " ['geological_similarity/andesite/T8X7R.jpg', 'andesite'],\n",
              " ['geological_similarity/andesite/ZDIOD.jpg', 'andesite'],\n",
              " ['geological_similarity/marble/6W8QV.jpg', 'marbler'],\n",
              " ['geological_similarity/gneiss/26UT2.jpg', 'gneiss'],\n",
              " ['geological_similarity/andesite/G7RKE.jpg', 'andesite'],\n",
              " ['geological_similarity/rhyolite/PYBET.jpg', 'rhyolite'],\n",
              " ['geological_similarity/quartzite/AHSJY.jpg', 'quartzite'],\n",
              " ['geological_similarity/quartzite/AAFK3.jpg', 'quartzite'],\n",
              " ['geological_similarity/marble/YVXXL.jpg', 'marbler'],\n",
              " ['geological_similarity/rhyolite/6EQ28.jpg', 'rhyolite'],\n",
              " ['geological_similarity/gneiss/P6RNI.jpg', 'gneiss'],\n",
              " ['geological_similarity/quartzite/UIW20.jpg', 'quartzite'],\n",
              " ['geological_similarity/rhyolite/I45YT.jpg', 'rhyolite'],\n",
              " ['geological_similarity/marble/ME5TL.jpg', 'marbler'],\n",
              " ['geological_similarity/quartzite/NIJF7.jpg', 'quartzite'],\n",
              " ['geological_similarity/schist/BF96R.jpg', 'schist'],\n",
              " ['geological_similarity/marble/RY1K7.jpg', 'marbler'],\n",
              " ['geological_similarity/marble/BNQ4V.jpg', 'marbler'],\n",
              " ['geological_similarity/gneiss/YAL1N.jpg', 'gneiss'],\n",
              " ['geological_similarity/gneiss/MBQ09.jpg', 'gneiss'],\n",
              " ['geological_similarity/schist/27FJR.jpg', 'schist'],\n",
              " ['geological_similarity/gneiss/EL1PQ.jpg', 'gneiss'],\n",
              " ['geological_similarity/marble/W8CCA.jpg', 'marbler'],\n",
              " ['geological_similarity/gneiss/FVLJP.jpg', 'gneiss'],\n",
              " ['geological_similarity/gneiss/6QXHV.jpg', 'gneiss'],\n",
              " ['geological_similarity/andesite/PS6RV.jpg', 'andesite'],\n",
              " ['geological_similarity/quartzite/B42L6.jpg', 'quartzite'],\n",
              " ['geological_similarity/gneiss/WV89H.jpg', 'gneiss'],\n",
              " ['geological_similarity/andesite/XK612.jpg', 'andesite'],\n",
              " ['geological_similarity/andesite/I1KX0.jpg', 'andesite'],\n",
              " ['geological_similarity/andesite/QG7UZ.jpg', 'andesite'],\n",
              " ['geological_similarity/gneiss/V3USF.jpg', 'gneiss'],\n",
              " ['geological_similarity/schist/SJHC3.jpg', 'schist'],\n",
              " ['geological_similarity/quartzite/P3ZH8.jpg', 'quartzite'],\n",
              " ['geological_similarity/andesite/EH2T1.jpg', 'andesite'],\n",
              " ['geological_similarity/andesite/9IS1J.jpg', 'andesite'],\n",
              " ['geological_similarity/gneiss/VPT47.jpg', 'gneiss'],\n",
              " ['geological_similarity/quartzite/AA0N9.jpg', 'quartzite'],\n",
              " ['geological_similarity/marble/CYF7X.jpg', 'marbler'],\n",
              " ['geological_similarity/rhyolite/7THV7.jpg', 'rhyolite'],\n",
              " ['geological_similarity/rhyolite/X7H9S.jpg', 'rhyolite'],\n",
              " ['geological_similarity/gneiss/ESEXP.jpg', 'gneiss'],\n",
              " ['geological_similarity/schist/18CX5.jpg', 'schist'],\n",
              " ['geological_similarity/andesite/SWFAM.jpg', 'andesite'],\n",
              " ['geological_similarity/gneiss/0CAR0.jpg', 'gneiss'],\n",
              " ['geological_similarity/marble/04IAW.jpg', 'marbler'],\n",
              " ['geological_similarity/gneiss/BAFJS.jpg', 'gneiss'],\n",
              " ['geological_similarity/marble/8KL4Y.jpg', 'marbler'],\n",
              " ['geological_similarity/quartzite/9RLT3.jpg', 'quartzite'],\n",
              " ['geological_similarity/andesite/U6LAE.jpg', 'andesite'],\n",
              " ['geological_similarity/quartzite/6A4JV.jpg', 'quartzite'],\n",
              " ['geological_similarity/schist/S403C.jpg', 'schist'],\n",
              " ['geological_similarity/rhyolite/8B5QY.jpg', 'rhyolite'],\n",
              " ['geological_similarity/gneiss/U1TRM.jpg', 'gneiss'],\n",
              " ['geological_similarity/gneiss/4QAUO.jpg', 'gneiss'],\n",
              " ['geological_similarity/gneiss/7KJDP.jpg', 'gneiss'],\n",
              " ['geological_similarity/quartzite/VAPD6.jpg', 'quartzite'],\n",
              " ['geological_similarity/schist/XR6JR.jpg', 'schist'],\n",
              " ['geological_similarity/schist/XF5NT.jpg', 'schist'],\n",
              " ['geological_similarity/andesite/9VBBK.jpg', 'andesite'],\n",
              " ['geological_similarity/marble/Q70ID.jpg', 'marbler'],\n",
              " ['geological_similarity/gneiss/SB2A7.jpg', 'gneiss'],\n",
              " ['geological_similarity/schist/PMMQN.jpg', 'schist'],\n",
              " ['geological_similarity/rhyolite/AM0Z5.jpg', 'rhyolite'],\n",
              " ['geological_similarity/marble/GWR7H.jpg', 'marbler'],\n",
              " ['geological_similarity/marble/YWRJS.jpg', 'marbler'],\n",
              " ['geological_similarity/gneiss/64DO1.jpg', 'gneiss'],\n",
              " ['geological_similarity/andesite/9ML5O.jpg', 'andesite'],\n",
              " ['geological_similarity/marble/JX39E.jpg', 'marbler'],\n",
              " ['geological_similarity/gneiss/SN9OG.jpg', 'gneiss'],\n",
              " ['geological_similarity/andesite/BQ12I.jpg', 'andesite'],\n",
              " ['geological_similarity/quartzite/77VL1.jpg', 'quartzite'],\n",
              " ['geological_similarity/quartzite/NH2LM.jpg', 'quartzite'],\n",
              " ['geological_similarity/schist/VO2A9.jpg', 'schist'],\n",
              " ['geological_similarity/marble/YHROT.jpg', 'marbler'],\n",
              " ['geological_similarity/marble/P6R5M.jpg', 'marbler'],\n",
              " ['geological_similarity/quartzite/4MFYQ.jpg', 'quartzite'],\n",
              " ['geological_similarity/rhyolite/WY3CH.jpg', 'rhyolite'],\n",
              " ['geological_similarity/quartzite/9D7UC.jpg', 'quartzite'],\n",
              " ['geological_similarity/marble/7VNMZ.jpg', 'marbler'],\n",
              " ['geological_similarity/andesite/9ENUD.jpg', 'andesite'],\n",
              " ['geological_similarity/rhyolite/KJ69Y.jpg', 'rhyolite'],\n",
              " ['geological_similarity/rhyolite/SHXJW.jpg', 'rhyolite'],\n",
              " ['geological_similarity/schist/LWYTY.jpg', 'schist'],\n",
              " ['geological_similarity/marble/7P1D2.jpg', 'marbler'],\n",
              " ['geological_similarity/quartzite/CI1SV.jpg', 'quartzite'],\n",
              " ['geological_similarity/marble/1BAFQ.jpg', 'marbler'],\n",
              " ['geological_similarity/marble/QBU3F.jpg', 'marbler'],\n",
              " ['geological_similarity/gneiss/4KBK9.jpg', 'gneiss'],\n",
              " ['geological_similarity/rhyolite/E7OB7.jpg', 'rhyolite'],\n",
              " ['geological_similarity/schist/YSZ36.jpg', 'schist'],\n",
              " ['geological_similarity/quartzite/XWD86.jpg', 'quartzite'],\n",
              " ['geological_similarity/schist/SINRZ.jpg', 'schist'],\n",
              " ['geological_similarity/marble/Z1Y51.jpg', 'marbler'],\n",
              " ['geological_similarity/schist/O6KRK.jpg', 'schist'],\n",
              " ['geological_similarity/marble/L9ESW.jpg', 'marbler'],\n",
              " ['geological_similarity/quartzite/K4APG.jpg', 'quartzite'],\n",
              " ['geological_similarity/quartzite/MC2TY.jpg', 'quartzite'],\n",
              " ['geological_similarity/gneiss/XVR6G.jpg', 'gneiss'],\n",
              " ['geological_similarity/rhyolite/NA5Q6.jpg', 'rhyolite'],\n",
              " ['geological_similarity/andesite/H3C26.jpg', 'andesite'],\n",
              " ['geological_similarity/quartzite/2GRUT.jpg', 'quartzite'],\n",
              " ['geological_similarity/andesite/BT7MB.jpg', 'andesite'],\n",
              " ['geological_similarity/quartzite/C32HB.jpg', 'quartzite'],\n",
              " ['geological_similarity/gneiss/VHDPI.jpg', 'gneiss'],\n",
              " ['geological_similarity/schist/0B7H3.jpg', 'schist'],\n",
              " ['geological_similarity/quartzite/J44G6.jpg', 'quartzite'],\n",
              " ['geological_similarity/rhyolite/OOCNO.jpg', 'rhyolite'],\n",
              " ['geological_similarity/marble/LAM6A.jpg', 'marbler'],\n",
              " ['geological_similarity/rhyolite/8LHY3.jpg', 'rhyolite'],\n",
              " ['geological_similarity/quartzite/C9FP4.jpg', 'quartzite'],\n",
              " ['geological_similarity/marble/JIHC4.jpg', 'marbler'],\n",
              " ['geological_similarity/andesite/OV8B6.jpg', 'andesite'],\n",
              " ['geological_similarity/schist/28HKG.jpg', 'schist'],\n",
              " ['geological_similarity/schist/N64W0.jpg', 'schist'],\n",
              " ['geological_similarity/andesite/9FUK8.jpg', 'andesite'],\n",
              " ['geological_similarity/quartzite/Q6UHN.jpg', 'quartzite'],\n",
              " ['geological_similarity/quartzite/FQGCF.jpg', 'quartzite'],\n",
              " ['geological_similarity/quartzite/HVCQ6.jpg', 'quartzite'],\n",
              " ['geological_similarity/schist/L4OBR.jpg', 'schist'],\n",
              " ['geological_similarity/andesite/61Z30.jpg', 'andesite'],\n",
              " ['geological_similarity/gneiss/AHSEK.jpg', 'gneiss'],\n",
              " ['geological_similarity/marble/GIMV1.jpg', 'marbler'],\n",
              " ['geological_similarity/schist/Y76UO.jpg', 'schist'],\n",
              " ['geological_similarity/rhyolite/QN2KT.jpg', 'rhyolite'],\n",
              " ['geological_similarity/schist/VFPSA.jpg', 'schist'],\n",
              " ['geological_similarity/quartzite/N38X1.jpg', 'quartzite'],\n",
              " ['geological_similarity/quartzite/7DTS2.jpg', 'quartzite'],\n",
              " ['geological_similarity/marble/MJF92.jpg', 'marbler'],\n",
              " ['geological_similarity/gneiss/9ZSS2.jpg', 'gneiss'],\n",
              " ['geological_similarity/schist/GMFLP.jpg', 'schist'],\n",
              " ['geological_similarity/schist/C7GXL.jpg', 'schist'],\n",
              " ['geological_similarity/quartzite/F5XGB.jpg', 'quartzite'],\n",
              " ['geological_similarity/rhyolite/8PZ1J.jpg', 'rhyolite'],\n",
              " ['geological_similarity/gneiss/5PM5R.jpg', 'gneiss'],\n",
              " ['geological_similarity/rhyolite/7QQ92.jpg', 'rhyolite'],\n",
              " ['geological_similarity/andesite/R79ZW.jpg', 'andesite'],\n",
              " ['geological_similarity/marble/11HOD.jpg', 'marbler'],\n",
              " ['geological_similarity/quartzite/ZY08A.jpg', 'quartzite'],\n",
              " ['geological_similarity/rhyolite/A6G69.jpg', 'rhyolite'],\n",
              " ['geological_similarity/schist/BWGNA.jpg', 'schist'],\n",
              " ['geological_similarity/schist/DRUG2.jpg', 'schist'],\n",
              " ['geological_similarity/andesite/W5AP7.jpg', 'andesite'],\n",
              " ['geological_similarity/schist/M7VVT.jpg', 'schist'],\n",
              " ['geological_similarity/quartzite/FHNI0.jpg', 'quartzite'],\n",
              " ['geological_similarity/gneiss/WQHJQ.jpg', 'gneiss'],\n",
              " ['geological_similarity/gneiss/81ANZ.jpg', 'gneiss'],\n",
              " ['geological_similarity/quartzite/IQOFB.jpg', 'quartzite'],\n",
              " ['geological_similarity/gneiss/RZT44.jpg', 'gneiss'],\n",
              " ['geological_similarity/andesite/O4KW4.jpg', 'andesite'],\n",
              " ['geological_similarity/quartzite/A75RC.jpg', 'quartzite'],\n",
              " ['geological_similarity/gneiss/U8QWR.jpg', 'gneiss'],\n",
              " ['geological_similarity/marble/M3I9I.jpg', 'marbler'],\n",
              " ['geological_similarity/marble/1HKKH.jpg', 'marbler'],\n",
              " ['geological_similarity/gneiss/N15CG.jpg', 'gneiss'],\n",
              " ['geological_similarity/gneiss/HDSE5.jpg', 'gneiss'],\n",
              " ['geological_similarity/andesite/XKHU4.jpg', 'andesite'],\n",
              " ['geological_similarity/gneiss/YQVBV.jpg', 'gneiss'],\n",
              " ['geological_similarity/schist/R05TN.jpg', 'schist'],\n",
              " ['geological_similarity/rhyolite/B5HE0.jpg', 'rhyolite'],\n",
              " ['geological_similarity/rhyolite/RPVPA.jpg', 'rhyolite'],\n",
              " ['geological_similarity/quartzite/LT3BA.jpg', 'quartzite'],\n",
              " ['geological_similarity/quartzite/9PIQO.jpg', 'quartzite'],\n",
              " ['geological_similarity/quartzite/9I1IW.jpg', 'quartzite'],\n",
              " ['geological_similarity/andesite/KPUWM.jpg', 'andesite'],\n",
              " ['geological_similarity/andesite/RQREG.jpg', 'andesite'],\n",
              " ['geological_similarity/gneiss/U9LY0.jpg', 'gneiss'],\n",
              " ['geological_similarity/schist/CPJ2P.jpg', 'schist'],\n",
              " ['geological_similarity/quartzite/D6ROQ.jpg', 'quartzite'],\n",
              " ['geological_similarity/schist/3CYXU.jpg', 'schist'],\n",
              " ['geological_similarity/gneiss/FMC9Y.jpg', 'gneiss'],\n",
              " ['geological_similarity/quartzite/MGEL2.jpg', 'quartzite'],\n",
              " ['geological_similarity/andesite/FGUMP.jpg', 'andesite'],\n",
              " ['geological_similarity/quartzite/0FJPG.jpg', 'quartzite'],\n",
              " ['geological_similarity/schist/AXI8C.jpg', 'schist'],\n",
              " ['geological_similarity/andesite/TD72H.jpg', 'andesite'],\n",
              " ['geological_similarity/marble/YQ8CN.jpg', 'marbler'],\n",
              " ['geological_similarity/schist/43KZC.jpg', 'schist'],\n",
              " ['geological_similarity/gneiss/Q0037.jpg', 'gneiss'],\n",
              " ['geological_similarity/quartzite/HE2XS.jpg', 'quartzite'],\n",
              " ['geological_similarity/rhyolite/UO32E.jpg', 'rhyolite'],\n",
              " ['geological_similarity/andesite/M4J20.jpg', 'andesite'],\n",
              " ['geological_similarity/andesite/Z0V4E.jpg', 'andesite'],\n",
              " ['geological_similarity/quartzite/0QK7A.jpg', 'quartzite'],\n",
              " ['geological_similarity/rhyolite/JSBLV.jpg', 'rhyolite'],\n",
              " ['geological_similarity/gneiss/8W8SI.jpg', 'gneiss'],\n",
              " ['geological_similarity/marble/OOMUC.jpg', 'marbler'],\n",
              " ['geological_similarity/marble/M8IVB.jpg', 'marbler'],\n",
              " ['geological_similarity/schist/G9W7U.jpg', 'schist'],\n",
              " ['geological_similarity/andesite/EH3WN.jpg', 'andesite'],\n",
              " ['geological_similarity/gneiss/PWMCK.jpg', 'gneiss'],\n",
              " ['geological_similarity/quartzite/WFGIV.jpg', 'quartzite'],\n",
              " ['geological_similarity/marble/7MMTQ.jpg', 'marbler'],\n",
              " ['geological_similarity/schist/00BXB.jpg', 'schist'],\n",
              " ['geological_similarity/rhyolite/VPCWP.jpg', 'rhyolite'],\n",
              " ['geological_similarity/rhyolite/UUIW9.jpg', 'rhyolite'],\n",
              " ['geological_similarity/marble/J23JR.jpg', 'marbler'],\n",
              " ['geological_similarity/rhyolite/VKW8S.jpg', 'rhyolite'],\n",
              " ['geological_similarity/marble/LJPZ4.jpg', 'marbler'],\n",
              " ['geological_similarity/schist/5VSKZ.jpg', 'schist'],\n",
              " ['geological_similarity/rhyolite/HCIB4.jpg', 'rhyolite'],\n",
              " ['geological_similarity/andesite/JPXML.jpg', 'andesite'],\n",
              " ['geological_similarity/quartzite/ILITJ.jpg', 'quartzite'],\n",
              " ['geological_similarity/andesite/HMB5T.jpg', 'andesite'],\n",
              " ['geological_similarity/schist/UXTNG.jpg', 'schist'],\n",
              " ['geological_similarity/rhyolite/ATXIR.jpg', 'rhyolite'],\n",
              " ['geological_similarity/andesite/BELFI.jpg', 'andesite'],\n",
              " ['geological_similarity/quartzite/2FWIN.jpg', 'quartzite'],\n",
              " ['geological_similarity/quartzite/RM6HC.jpg', 'quartzite'],\n",
              " ['geological_similarity/schist/C75OB.jpg', 'schist'],\n",
              " ['geological_similarity/schist/CT713.jpg', 'schist'],\n",
              " ['geological_similarity/schist/K7WDL.jpg', 'schist'],\n",
              " ['geological_similarity/rhyolite/B40AJ.jpg', 'rhyolite'],\n",
              " ['geological_similarity/quartzite/7W7V7.jpg', 'quartzite'],\n",
              " ['geological_similarity/marble/8D35R.jpg', 'marbler'],\n",
              " ['geological_similarity/andesite/EZ73D.jpg', 'andesite'],\n",
              " ['geological_similarity/andesite/RWZVK.jpg', 'andesite'],\n",
              " ['geological_similarity/quartzite/O4DWF.jpg', 'quartzite'],\n",
              " ['geological_similarity/schist/K1W65.jpg', 'schist'],\n",
              " ['geological_similarity/marble/NC6F1.jpg', 'marbler'],\n",
              " ['geological_similarity/quartzite/1MRH6.jpg', 'quartzite'],\n",
              " ['geological_similarity/rhyolite/2ZMEL.jpg', 'rhyolite'],\n",
              " ['geological_similarity/quartzite/TYL8Z.jpg', 'quartzite'],\n",
              " ['geological_similarity/andesite/Z23RU.jpg', 'andesite'],\n",
              " ['geological_similarity/marble/89W8X.jpg', 'marbler'],\n",
              " ['geological_similarity/marble/45L2Z.jpg', 'marbler'],\n",
              " ['geological_similarity/rhyolite/ZDVD2.jpg', 'rhyolite'],\n",
              " ['geological_similarity/quartzite/H4S9M.jpg', 'quartzite'],\n",
              " ['geological_similarity/rhyolite/97DEE.jpg', 'rhyolite'],\n",
              " ['geological_similarity/rhyolite/N2VX7.jpg', 'rhyolite'],\n",
              " ['geological_similarity/marble/O6WIM.jpg', 'marbler'],\n",
              " ['geological_similarity/gneiss/BXQAB.jpg', 'gneiss'],\n",
              " ['geological_similarity/quartzite/KSL1J.jpg', 'quartzite'],\n",
              " ['geological_similarity/andesite/6UEW9.jpg', 'andesite'],\n",
              " ['geological_similarity/andesite/EKNQZ.jpg', 'andesite'],\n",
              " ['geological_similarity/schist/JNZUN.jpg', 'schist'],\n",
              " ['geological_similarity/gneiss/DJN9T.jpg', 'gneiss'],\n",
              " ['geological_similarity/quartzite/KL3KV.jpg', 'quartzite'],\n",
              " ['geological_similarity/gneiss/T8JXP.jpg', 'gneiss'],\n",
              " ['geological_similarity/schist/TGZGP.jpg', 'schist'],\n",
              " ['geological_similarity/marble/XHO0Y.jpg', 'marbler'],\n",
              " ['geological_similarity/marble/XPW3W.jpg', 'marbler'],\n",
              " ['geological_similarity/andesite/RRVJ4.jpg', 'andesite'],\n",
              " ['geological_similarity/schist/DS6N9.jpg', 'schist'],\n",
              " ['geological_similarity/quartzite/LDGPT.jpg', 'quartzite'],\n",
              " ['geological_similarity/marble/CCZBJ.jpg', 'marbler'],\n",
              " ['geological_similarity/marble/83AOE.jpg', 'marbler'],\n",
              " ['geological_similarity/quartzite/TWZGM.jpg', 'quartzite'],\n",
              " ['geological_similarity/gneiss/2XACV.jpg', 'gneiss'],\n",
              " ['geological_similarity/andesite/CV2UO.jpg', 'andesite'],\n",
              " ['geological_similarity/schist/WYEML.jpg', 'schist'],\n",
              " ['geological_similarity/marble/ZSJZG.jpg', 'marbler'],\n",
              " ['geological_similarity/rhyolite/H1BFP.jpg', 'rhyolite'],\n",
              " ['geological_similarity/gneiss/IEPS9.jpg', 'gneiss'],\n",
              " ['geological_similarity/schist/GBLZ9.jpg', 'schist'],\n",
              " ['geological_similarity/andesite/Q2D9C.jpg', 'andesite'],\n",
              " ['geological_similarity/andesite/WIQJQ.jpg', 'andesite'],\n",
              " ['geological_similarity/schist/71KXF.jpg', 'schist'],\n",
              " ['geological_similarity/rhyolite/E3XZT.jpg', 'rhyolite'],\n",
              " ['geological_similarity/quartzite/Y63FT.jpg', 'quartzite'],\n",
              " ['geological_similarity/gneiss/YLGLA.jpg', 'gneiss'],\n",
              " ['geological_similarity/andesite/4VFEU.jpg', 'andesite'],\n",
              " ['geological_similarity/rhyolite/0GI7S.jpg', 'rhyolite'],\n",
              " ['geological_similarity/gneiss/3SY2W.jpg', 'gneiss'],\n",
              " ['geological_similarity/marble/BZQOC.jpg', 'marbler'],\n",
              " ['geological_similarity/marble/7WU97.jpg', 'marbler'],\n",
              " ['geological_similarity/rhyolite/SPR7V.jpg', 'rhyolite'],\n",
              " ['geological_similarity/quartzite/NBREE.jpg', 'quartzite'],\n",
              " ['geological_similarity/gneiss/22US8.jpg', 'gneiss'],\n",
              " ['geological_similarity/marble/KWS8L.jpg', 'marbler'],\n",
              " ['geological_similarity/quartzite/QNCA3.jpg', 'quartzite'],\n",
              " ['geological_similarity/schist/WXR1U.jpg', 'schist'],\n",
              " ['geological_similarity/gneiss/WBYOA.jpg', 'gneiss'],\n",
              " ['geological_similarity/rhyolite/Y9L97.jpg', 'rhyolite'],\n",
              " ['geological_similarity/quartzite/RG17K.jpg', 'quartzite'],\n",
              " ['geological_similarity/andesite/4RNLM.jpg', 'andesite'],\n",
              " ['geological_similarity/andesite/JJIJ2.jpg', 'andesite'],\n",
              " ['geological_similarity/andesite/E76CO.jpg', 'andesite'],\n",
              " ['geological_similarity/schist/WSIX9.jpg', 'schist'],\n",
              " ['geological_similarity/rhyolite/5XL9W.jpg', 'rhyolite'],\n",
              " ['geological_similarity/rhyolite/YQ9KQ.jpg', 'rhyolite'],\n",
              " ['geological_similarity/quartzite/S6XB4.jpg', 'quartzite'],\n",
              " ['geological_similarity/marble/BGH3D.jpg', 'marbler'],\n",
              " ['geological_similarity/andesite/Q692C.jpg', 'andesite'],\n",
              " ['geological_similarity/andesite/T8Q11.jpg', 'andesite'],\n",
              " ['geological_similarity/rhyolite/VSGTN.jpg', 'rhyolite'],\n",
              " ['geological_similarity/marble/S9PGS.jpg', 'marbler'],\n",
              " ['geological_similarity/quartzite/2YT65.jpg', 'quartzite'],\n",
              " ['geological_similarity/marble/QXP2N.jpg', 'marbler'],\n",
              " ['geological_similarity/gneiss/F99GO.jpg', 'gneiss'],\n",
              " ['geological_similarity/quartzite/X9D9X.jpg', 'quartzite'],\n",
              " ['geological_similarity/andesite/QI7MW.jpg', 'andesite'],\n",
              " ['geological_similarity/marble/NWQGD.jpg', 'marbler'],\n",
              " ['geological_similarity/quartzite/Y2OJC.jpg', 'quartzite'],\n",
              " ['geological_similarity/rhyolite/6PTQE.jpg', 'rhyolite'],\n",
              " ['geological_similarity/quartzite/9R43E.jpg', 'quartzite'],\n",
              " ['geological_similarity/schist/Y9I4D.jpg', 'schist'],\n",
              " ['geological_similarity/marble/C2QQ0.jpg', 'marbler'],\n",
              " ['geological_similarity/quartzite/9XAV8.jpg', 'quartzite'],\n",
              " ['geological_similarity/schist/LUCVR.jpg', 'schist'],\n",
              " ['geological_similarity/andesite/RS9ZH.jpg', 'andesite'],\n",
              " ['geological_similarity/gneiss/I0XJE.jpg', 'gneiss'],\n",
              " ['geological_similarity/quartzite/RJPQP.jpg', 'quartzite'],\n",
              " ['geological_similarity/rhyolite/HJLYO.jpg', 'rhyolite'],\n",
              " ['geological_similarity/andesite/QPM84.jpg', 'andesite'],\n",
              " ['geological_similarity/rhyolite/JR2Q1.jpg', 'rhyolite'],\n",
              " ['geological_similarity/rhyolite/EEXDN.jpg', 'rhyolite'],\n",
              " ['geological_similarity/quartzite/OD0CD.jpg', 'quartzite'],\n",
              " ['geological_similarity/andesite/75NBK.jpg', 'andesite'],\n",
              " ['geological_similarity/gneiss/QC8P4.jpg', 'gneiss'],\n",
              " ['geological_similarity/rhyolite/0OFWW.jpg', 'rhyolite'],\n",
              " ['geological_similarity/rhyolite/WPV3U.jpg', 'rhyolite'],\n",
              " ['geological_similarity/marble/8RNSM.jpg', 'marbler'],\n",
              " ['geological_similarity/schist/JQ59A.jpg', 'schist'],\n",
              " ['geological_similarity/schist/54YL3.jpg', 'schist'],\n",
              " ['geological_similarity/marble/DL32H.jpg', 'marbler'],\n",
              " ['geological_similarity/marble/87LEV.jpg', 'marbler'],\n",
              " ['geological_similarity/schist/QG48H.jpg', 'schist'],\n",
              " ['geological_similarity/schist/ZZ5Z5.jpg', 'schist'],\n",
              " ['geological_similarity/marble/YUK94.jpg', 'marbler'],\n",
              " ['geological_similarity/gneiss/1UDHQ.jpg', 'gneiss'],\n",
              " ['geological_similarity/andesite/07IND.jpg', 'andesite'],\n",
              " ['geological_similarity/gneiss/KBPY9.jpg', 'gneiss'],\n",
              " ['geological_similarity/gneiss/2WY01.jpg', 'gneiss'],\n",
              " ['geological_similarity/rhyolite/6AORD.jpg', 'rhyolite'],\n",
              " ['geological_similarity/rhyolite/0YRX5.jpg', 'rhyolite'],\n",
              " ['geological_similarity/quartzite/3EYMV.jpg', 'quartzite'],\n",
              " ['geological_similarity/quartzite/M5P3O.jpg', 'quartzite'],\n",
              " ['geological_similarity/marble/NI0QY.jpg', 'marbler'],\n",
              " ['geological_similarity/schist/FWPTI.jpg', 'schist'],\n",
              " ['geological_similarity/schist/3NEY1.jpg', 'schist'],\n",
              " ['geological_similarity/quartzite/ROPAH.jpg', 'quartzite'],\n",
              " ['geological_similarity/schist/2HXZ0.jpg', 'schist'],\n",
              " ['geological_similarity/marble/5N5V5.jpg', 'marbler'],\n",
              " ['geological_similarity/rhyolite/BF4MT.jpg', 'rhyolite'],\n",
              " ['geological_similarity/andesite/CMTQA.jpg', 'andesite'],\n",
              " ['geological_similarity/quartzite/5BA83.jpg', 'quartzite'],\n",
              " ['geological_similarity/rhyolite/BUBCX.jpg', 'rhyolite'],\n",
              " ['geological_similarity/andesite/A41GX.jpg', 'andesite'],\n",
              " ['geological_similarity/schist/EG8LM.jpg', 'schist'],\n",
              " ['geological_similarity/andesite/2ZZGJ.jpg', 'andesite'],\n",
              " ['geological_similarity/quartzite/V2IZC.jpg', 'quartzite'],\n",
              " ['geological_similarity/quartzite/7RWRG.jpg', 'quartzite'],\n",
              " ['geological_similarity/schist/IDCNB.jpg', 'schist'],\n",
              " ['geological_similarity/rhyolite/I0UDW.jpg', 'rhyolite'],\n",
              " ['geological_similarity/gneiss/JVYQ2.jpg', 'gneiss'],\n",
              " ['geological_similarity/marble/5UZ7B.jpg', 'marbler'],\n",
              " ['geological_similarity/andesite/C57WN.jpg', 'andesite'],\n",
              " ['geological_similarity/schist/Q9HIG.jpg', 'schist'],\n",
              " ['geological_similarity/gneiss/UHX6Z.jpg', 'gneiss'],\n",
              " ['geological_similarity/rhyolite/XJMGP.jpg', 'rhyolite'],\n",
              " ['geological_similarity/marble/GJ34F.jpg', 'marbler'],\n",
              " ['geological_similarity/quartzite/THK09.jpg', 'quartzite'],\n",
              " ['geological_similarity/gneiss/4DVB2.jpg', 'gneiss'],\n",
              " ['geological_similarity/gneiss/1QJAV.jpg', 'gneiss'],\n",
              " ['geological_similarity/gneiss/5L43V.jpg', 'gneiss'],\n",
              " ['geological_similarity/quartzite/W1249.jpg', 'quartzite'],\n",
              " ['geological_similarity/marble/UI53X.jpg', 'marbler'],\n",
              " ['geological_similarity/quartzite/A9SKJ.jpg', 'quartzite'],\n",
              " ['geological_similarity/schist/67027.jpg', 'schist'],\n",
              " ['geological_similarity/schist/TJ5HX.jpg', 'schist'],\n",
              " ['geological_similarity/andesite/8ZJ3G.jpg', 'andesite'],\n",
              " ['geological_similarity/rhyolite/KN1PN.jpg', 'rhyolite'],\n",
              " ['geological_similarity/andesite/T73CZ.jpg', 'andesite'],\n",
              " ['geological_similarity/schist/MNNOQ.jpg', 'schist'],\n",
              " ['geological_similarity/marble/NQ4I3.jpg', 'marbler'],\n",
              " ['geological_similarity/quartzite/XDHBR.jpg', 'quartzite'],\n",
              " ['geological_similarity/marble/LX4RG.jpg', 'marbler'],\n",
              " ['geological_similarity/schist/C26TR.jpg', 'schist'],\n",
              " ['geological_similarity/andesite/GHYKU.jpg', 'andesite'],\n",
              " ['geological_similarity/rhyolite/XLMY9.jpg', 'rhyolite'],\n",
              " ['geological_similarity/marble/DDRN4.jpg', 'marbler'],\n",
              " ['geological_similarity/andesite/7C8B3.jpg', 'andesite'],\n",
              " ['geological_similarity/gneiss/98Y93.jpg', 'gneiss'],\n",
              " ['geological_similarity/andesite/E4MOU.jpg', 'andesite'],\n",
              " ['geological_similarity/marble/7H2YA.jpg', 'marbler'],\n",
              " ['geological_similarity/andesite/4PFLT.jpg', 'andesite'],\n",
              " ['geological_similarity/gneiss/K0PET.jpg', 'gneiss'],\n",
              " ['geological_similarity/gneiss/411H9.jpg', 'gneiss'],\n",
              " ['geological_similarity/gneiss/DYP27.jpg', 'gneiss'],\n",
              " ['geological_similarity/schist/LUP2Q.jpg', 'schist'],\n",
              " ['geological_similarity/quartzite/KZPAO.jpg', 'quartzite'],\n",
              " ['geological_similarity/gneiss/GA8R3.jpg', 'gneiss'],\n",
              " ['geological_similarity/schist/5U50C.jpg', 'schist'],\n",
              " ['geological_similarity/andesite/GB5N1.jpg', 'andesite'],\n",
              " ['geological_similarity/quartzite/FCX0Z.jpg', 'quartzite'],\n",
              " ['geological_similarity/andesite/CPZ77.jpg', 'andesite'],\n",
              " ['geological_similarity/andesite/RFKEW.jpg', 'andesite'],\n",
              " ['geological_similarity/quartzite/PBZ82.jpg', 'quartzite'],\n",
              " ['geological_similarity/marble/I01KO.jpg', 'marbler'],\n",
              " ['geological_similarity/rhyolite/HQFYW.jpg', 'rhyolite'],\n",
              " ['geological_similarity/marble/OYDQD.jpg', 'marbler'],\n",
              " ['geological_similarity/marble/9HKKQ.jpg', 'marbler'],\n",
              " ['geological_similarity/rhyolite/F9VZT.jpg', 'rhyolite'],\n",
              " ['geological_similarity/andesite/P4YM9.jpg', 'andesite'],\n",
              " ['geological_similarity/quartzite/5PB9P.jpg', 'quartzite'],\n",
              " ['geological_similarity/rhyolite/J46BE.jpg', 'rhyolite'],\n",
              " ['geological_similarity/gneiss/WP15A.jpg', 'gneiss'],\n",
              " ['geological_similarity/schist/ZETTG.jpg', 'schist'],\n",
              " ['geological_similarity/marble/6VW7S.jpg', 'marbler'],\n",
              " ['geological_similarity/marble/Q563N.jpg', 'marbler'],\n",
              " ['geological_similarity/rhyolite/D9L1W.jpg', 'rhyolite'],\n",
              " ['geological_similarity/gneiss/P0JCL.jpg', 'gneiss'],\n",
              " ['geological_similarity/andesite/MDCW5.jpg', 'andesite'],\n",
              " ['geological_similarity/rhyolite/LJ17P.jpg', 'rhyolite'],\n",
              " ['geological_similarity/rhyolite/ZU1RN.jpg', 'rhyolite'],\n",
              " ['geological_similarity/rhyolite/SUSOG.jpg', 'rhyolite'],\n",
              " ['geological_similarity/rhyolite/DBM3M.jpg', 'rhyolite'],\n",
              " ['geological_similarity/marble/SIB7U.jpg', 'marbler'],\n",
              " ['geological_similarity/quartzite/FC6ST.jpg', 'quartzite'],\n",
              " ['geological_similarity/gneiss/9K3CH.jpg', 'gneiss'],\n",
              " ['geological_similarity/marble/O11XR.jpg', 'marbler'],\n",
              " ['geological_similarity/schist/08I28.jpg', 'schist'],\n",
              " ['geological_similarity/andesite/TPN4V.jpg', 'andesite'],\n",
              " ['geological_similarity/schist/058DK.jpg', 'schist'],\n",
              " ['geological_similarity/andesite/3GH25.jpg', 'andesite'],\n",
              " ['geological_similarity/andesite/VYXJV.jpg', 'andesite'],\n",
              " ['geological_similarity/gneiss/DI1H9.jpg', 'gneiss'],\n",
              " ['geological_similarity/schist/C4VM8.jpg', 'schist'],\n",
              " ['geological_similarity/andesite/47M23.jpg', 'andesite'],\n",
              " ['geological_similarity/gneiss/VAEIW.jpg', 'gneiss'],\n",
              " ['geological_similarity/quartzite/OY9OP.jpg', 'quartzite'],\n",
              " ['geological_similarity/quartzite/TQAMA.jpg', 'quartzite'],\n",
              " ['geological_similarity/andesite/RJ3QW.jpg', 'andesite'],\n",
              " ['geological_similarity/rhyolite/663CX.jpg', 'rhyolite'],\n",
              " ['geological_similarity/rhyolite/OZ03N.jpg', 'rhyolite'],\n",
              " ['geological_similarity/marble/MLC8Q.jpg', 'marbler'],\n",
              " ['geological_similarity/andesite/DUYMQ.jpg', 'andesite'],\n",
              " ['geological_similarity/gneiss/OSXZP.jpg', 'gneiss'],\n",
              " ['geological_similarity/marble/ZKHTS.jpg', 'marbler'],\n",
              " ['geological_similarity/quartzite/W17C6.jpg', 'quartzite'],\n",
              " ['geological_similarity/quartzite/LQPG1.jpg', 'quartzite'],\n",
              " ['geological_similarity/gneiss/JMEQS.jpg', 'gneiss'],\n",
              " ['geological_similarity/gneiss/XEA5Y.jpg', 'gneiss'],\n",
              " ['geological_similarity/rhyolite/H48UO.jpg', 'rhyolite'],\n",
              " ['geological_similarity/quartzite/TELQE.jpg', 'quartzite'],\n",
              " ['geological_similarity/schist/AIAOG.jpg', 'schist'],\n",
              " ['geological_similarity/marble/8SC0B.jpg', 'marbler'],\n",
              " ['geological_similarity/marble/GQKH7.jpg', 'marbler'],\n",
              " ['geological_similarity/gneiss/QN13F.jpg', 'gneiss'],\n",
              " ['geological_similarity/rhyolite/YPMGF.jpg', 'rhyolite'],\n",
              " ['geological_similarity/andesite/KB3SH.jpg', 'andesite'],\n",
              " ['geological_similarity/quartzite/ASYDY.jpg', 'quartzite'],\n",
              " ['geological_similarity/marble/X7ULX.jpg', 'marbler'],\n",
              " ['geological_similarity/gneiss/PDM92.jpg', 'gneiss'],\n",
              " ['geological_similarity/rhyolite/5CI8H.jpg', 'rhyolite'],\n",
              " ['geological_similarity/schist/2SXSV.jpg', 'schist'],\n",
              " ['geological_similarity/andesite/FZOEA.jpg', 'andesite'],\n",
              " ['geological_similarity/gneiss/OZ3BT.jpg', 'gneiss'],\n",
              " ['geological_similarity/gneiss/CVJG0.jpg', 'gneiss'],\n",
              " ['geological_similarity/andesite/DE1XO.jpg', 'andesite'],\n",
              " ['geological_similarity/andesite/ZP2ZF.jpg', 'andesite'],\n",
              " ['geological_similarity/gneiss/TUG42.jpg', 'gneiss'],\n",
              " ['geological_similarity/marble/XAKLG.jpg', 'marbler'],\n",
              " ['geological_similarity/andesite/LPTK2.jpg', 'andesite'],\n",
              " ['geological_similarity/schist/83OZ3.jpg', 'schist'],\n",
              " ['geological_similarity/gneiss/ENNRB.jpg', 'gneiss'],\n",
              " ['geological_similarity/gneiss/I789D.jpg', 'gneiss'],\n",
              " ['geological_similarity/quartzite/S5G8M.jpg', 'quartzite'],\n",
              " ['geological_similarity/gneiss/HB2BN.jpg', 'gneiss'],\n",
              " ['geological_similarity/rhyolite/81ZPW.jpg', 'rhyolite'],\n",
              " ['geological_similarity/quartzite/VMHVO.jpg', 'quartzite'],\n",
              " ['geological_similarity/quartzite/DJ625.jpg', 'quartzite'],\n",
              " ['geological_similarity/rhyolite/6P9LI.jpg', 'rhyolite'],\n",
              " ['geological_similarity/rhyolite/291OE.jpg', 'rhyolite'],\n",
              " ['geological_similarity/rhyolite/XD6D2.jpg', 'rhyolite'],\n",
              " ['geological_similarity/rhyolite/EXW90.jpg', 'rhyolite'],\n",
              " ['geological_similarity/rhyolite/V9SLH.jpg', 'rhyolite'],\n",
              " ['geological_similarity/schist/BH2CR.jpg', 'schist'],\n",
              " ['geological_similarity/andesite/9EAE9.jpg', 'andesite'],\n",
              " ['geological_similarity/andesite/4QAXX.jpg', 'andesite'],\n",
              " ['geological_similarity/schist/BOOIU.jpg', 'schist'],\n",
              " ['geological_similarity/rhyolite/JYPYT.jpg', 'rhyolite'],\n",
              " ['geological_similarity/schist/YSPE4.jpg', 'schist'],\n",
              " ['geological_similarity/marble/VQVG0.jpg', 'marbler'],\n",
              " ['geological_similarity/rhyolite/60QFZ.jpg', 'rhyolite'],\n",
              " ['geological_similarity/rhyolite/9IZLF.jpg', 'rhyolite'],\n",
              " ['geological_similarity/andesite/N1FXZ.jpg', 'andesite'],\n",
              " ['geological_similarity/gneiss/8T8T6.jpg', 'gneiss'],\n",
              " ['geological_similarity/marble/QLLD2.jpg', 'marbler'],\n",
              " ['geological_similarity/quartzite/X75CN.jpg', 'quartzite'],\n",
              " ['geological_similarity/schist/7GESJ.jpg', 'schist'],\n",
              " ['geological_similarity/rhyolite/19YXA.jpg', 'rhyolite'],\n",
              " ['geological_similarity/andesite/YYP7Q.jpg', 'andesite'],\n",
              " ['geological_similarity/andesite/4X8FD.jpg', 'andesite'],\n",
              " ['geological_similarity/marble/U9021.jpg', 'marbler'],\n",
              " ['geological_similarity/schist/5W509.jpg', 'schist'],\n",
              " ['geological_similarity/schist/S1F9V.jpg', 'schist'],\n",
              " ['geological_similarity/rhyolite/3ZY61.jpg', 'rhyolite'],\n",
              " ['geological_similarity/andesite/0U0LR.jpg', 'andesite'],\n",
              " ['geological_similarity/marble/F71KG.jpg', 'marbler'],\n",
              " ['geological_similarity/marble/K3E73.jpg', 'marbler'],\n",
              " ['geological_similarity/rhyolite/QODX0.jpg', 'rhyolite'],\n",
              " ['geological_similarity/gneiss/1UJYA.jpg', 'gneiss'],\n",
              " ['geological_similarity/andesite/3TEKF.jpg', 'andesite'],\n",
              " ['geological_similarity/gneiss/XJT1Q.jpg', 'gneiss'],\n",
              " ['geological_similarity/marble/IFF09.jpg', 'marbler'],\n",
              " ['geological_similarity/schist/H1ZHS.jpg', 'schist'],\n",
              " ['geological_similarity/andesite/RB2CV.jpg', 'andesite'],\n",
              " ['geological_similarity/andesite/SE9CF.jpg', 'andesite'],\n",
              " ['geological_similarity/marble/GE2RH.jpg', 'marbler'],\n",
              " ['geological_similarity/gneiss/TBGZI.jpg', 'gneiss'],\n",
              " ['geological_similarity/gneiss/MEE49.jpg', 'gneiss'],\n",
              " ['geological_similarity/rhyolite/2PLOL.jpg', 'rhyolite'],\n",
              " ['geological_similarity/andesite/N60I4.jpg', 'andesite'],\n",
              " ['geological_similarity/quartzite/IXCU3.jpg', 'quartzite'],\n",
              " ['geological_similarity/quartzite/BVIQC.jpg', 'quartzite'],\n",
              " ['geological_similarity/schist/8LS0S.jpg', 'schist'],\n",
              " ['geological_similarity/andesite/RSSB4.jpg', 'andesite'],\n",
              " ['geological_similarity/rhyolite/2VCTM.jpg', 'rhyolite'],\n",
              " ['geological_similarity/schist/ODCAM.jpg', 'schist'],\n",
              " ['geological_similarity/marble/SM4EL.jpg', 'marbler'],\n",
              " ['geological_similarity/marble/LKXYV.jpg', 'marbler'],\n",
              " ['geological_similarity/quartzite/ZLWPU.jpg', 'quartzite'],\n",
              " ['geological_similarity/quartzite/IMOET.jpg', 'quartzite'],\n",
              " ['geological_similarity/andesite/62MFH.jpg', 'andesite'],\n",
              " ['geological_similarity/gneiss/MC2PJ.jpg', 'gneiss'],\n",
              " ['geological_similarity/rhyolite/KYQDZ.jpg', 'rhyolite'],\n",
              " ['geological_similarity/gneiss/JGPD6.jpg', 'gneiss'],\n",
              " ['geological_similarity/gneiss/S64XB.jpg', 'gneiss'],\n",
              " ['geological_similarity/gneiss/220Q5.jpg', 'gneiss'],\n",
              " ['geological_similarity/quartzite/XB309.jpg', 'quartzite'],\n",
              " ['geological_similarity/marble/0JGIF.jpg', 'marbler'],\n",
              " ['geological_similarity/gneiss/IU09P.jpg', 'gneiss'],\n",
              " ['geological_similarity/marble/N3VYW.jpg', 'marbler'],\n",
              " ['geological_similarity/gneiss/599QL.jpg', 'gneiss'],\n",
              " ['geological_similarity/schist/40RFJ.jpg', 'schist'],\n",
              " ['geological_similarity/schist/RU13T.jpg', 'schist'],\n",
              " ['geological_similarity/marble/3S6PX.jpg', 'marbler'],\n",
              " ['geological_similarity/andesite/TGH66.jpg', 'andesite'],\n",
              " ['geological_similarity/marble/QXCUM.jpg', 'marbler'],\n",
              " ['geological_similarity/marble/Z86GV.jpg', 'marbler'],\n",
              " ['geological_similarity/quartzite/FLRL0.jpg', 'quartzite'],\n",
              " ['geological_similarity/gneiss/45AZN.jpg', 'gneiss'],\n",
              " ['geological_similarity/rhyolite/V6KPT.jpg', 'rhyolite'],\n",
              " ['geological_similarity/quartzite/9PSTU.jpg', 'quartzite'],\n",
              " ['geological_similarity/gneiss/QXGR4.jpg', 'gneiss'],\n",
              " ['geological_similarity/schist/TCJR3.jpg', 'schist'],\n",
              " ['geological_similarity/schist/6AE79.jpg', 'schist'],\n",
              " ['geological_similarity/marble/P0JJN.jpg', 'marbler'],\n",
              " ['geological_similarity/quartzite/4GZZY.jpg', 'quartzite'],\n",
              " ['geological_similarity/rhyolite/HRV7G.jpg', 'rhyolite'],\n",
              " ['geological_similarity/marble/Z204I.jpg', 'marbler'],\n",
              " ['geological_similarity/andesite/CD7PI.jpg', 'andesite'],\n",
              " ['geological_similarity/gneiss/I4IRP.jpg', 'gneiss'],\n",
              " ['geological_similarity/schist/067KY.jpg', 'schist'],\n",
              " ['geological_similarity/quartzite/427OZ.jpg', 'quartzite'],\n",
              " ['geological_similarity/andesite/GQUFN.jpg', 'andesite'],\n",
              " ['geological_similarity/schist/T9ZMJ.jpg', 'schist'],\n",
              " ['geological_similarity/gneiss/Y0IV4.jpg', 'gneiss'],\n",
              " ['geological_similarity/marble/W76I8.jpg', 'marbler'],\n",
              " ['geological_similarity/schist/NOH3O.jpg', 'schist'],\n",
              " ['geological_similarity/andesite/U0P1X.jpg', 'andesite'],\n",
              " ['geological_similarity/quartzite/VPECA.jpg', 'quartzite'],\n",
              " ['geological_similarity/andesite/A63OB.jpg', 'andesite'],\n",
              " ['geological_similarity/rhyolite/VBUYR.jpg', 'rhyolite'],\n",
              " ['geological_similarity/andesite/6OGIU.jpg', 'andesite'],\n",
              " ['geological_similarity/marble/33M6M.jpg', 'marbler'],\n",
              " ['geological_similarity/rhyolite/QW01E.jpg', 'rhyolite'],\n",
              " ['geological_similarity/rhyolite/LC4L9.jpg', 'rhyolite'],\n",
              " ['geological_similarity/gneiss/7ZVUL.jpg', 'gneiss'],\n",
              " ['geological_similarity/rhyolite/L3ZXT.jpg', 'rhyolite'],\n",
              " ['geological_similarity/marble/GXI56.jpg', 'marbler'],\n",
              " ['geological_similarity/schist/Y5UNT.jpg', 'schist'],\n",
              " ['geological_similarity/quartzite/W4WQ8.jpg', 'quartzite'],\n",
              " ['geological_similarity/marble/P3F65.jpg', 'marbler'],\n",
              " ['geological_similarity/schist/9NHR1.jpg', 'schist'],\n",
              " ['geological_similarity/rhyolite/74BAP.jpg', 'rhyolite'],\n",
              " ['geological_similarity/quartzite/NQQ6S.jpg', 'quartzite'],\n",
              " ['geological_similarity/quartzite/EM898.jpg', 'quartzite'],\n",
              " ['geological_similarity/schist/CZ4BR.jpg', 'schist'],\n",
              " ['geological_similarity/schist/DHI0E.jpg', 'schist'],\n",
              " ['geological_similarity/schist/I7KDQ.jpg', 'schist'],\n",
              " ['geological_similarity/marble/540TJ.jpg', 'marbler'],\n",
              " ['geological_similarity/andesite/AWGEY.jpg', 'andesite'],\n",
              " ['geological_similarity/quartzite/HDHEO.jpg', 'quartzite'],\n",
              " ['geological_similarity/marble/AXABB.jpg', 'marbler'],\n",
              " ['geological_similarity/gneiss/F73O6.jpg', 'gneiss'],\n",
              " ['geological_similarity/marble/CEIJE.jpg', 'marbler'],\n",
              " ['geological_similarity/andesite/AHM2Q.jpg', 'andesite'],\n",
              " ['geological_similarity/schist/DWIVO.jpg', 'schist'],\n",
              " ['geological_similarity/schist/DYLID.jpg', 'schist'],\n",
              " ['geological_similarity/marble/MYPDF.jpg', 'marbler'],\n",
              " ['geological_similarity/schist/51M66.jpg', 'schist'],\n",
              " ['geological_similarity/quartzite/UHP5E.jpg', 'quartzite'],\n",
              " ['geological_similarity/schist/40U33.jpg', 'schist'],\n",
              " ['geological_similarity/marble/AQ79F.jpg', 'marbler'],\n",
              " ['geological_similarity/rhyolite/EW60P.jpg', 'rhyolite'],\n",
              " ['geological_similarity/andesite/R77JU.jpg', 'andesite'],\n",
              " ['geological_similarity/andesite/QR2KD.jpg', 'andesite'],\n",
              " ['geological_similarity/gneiss/P8QSZ.jpg', 'gneiss'],\n",
              " ['geological_similarity/quartzite/QT00D.jpg', 'quartzite'],\n",
              " ['geological_similarity/andesite/400RK.jpg', 'andesite'],\n",
              " ['geological_similarity/marble/MX6K8.jpg', 'marbler'],\n",
              " ['geological_similarity/quartzite/2PGPX.jpg', 'quartzite'],\n",
              " ['geological_similarity/andesite/KVTMD.jpg', 'andesite'],\n",
              " ['geological_similarity/quartzite/RCREY.jpg', 'quartzite'],\n",
              " ['geological_similarity/schist/CIW82.jpg', 'schist'],\n",
              " ['geological_similarity/rhyolite/KILAP.jpg', 'rhyolite'],\n",
              " ['geological_similarity/quartzite/M7QUA.jpg', 'quartzite'],\n",
              " ['geological_similarity/schist/0VIY0.jpg', 'schist'],\n",
              " ['geological_similarity/rhyolite/1UR07.jpg', 'rhyolite'],\n",
              " ['geological_similarity/marble/1H22B.jpg', 'marbler'],\n",
              " ['geological_similarity/schist/CBP1B.jpg', 'schist'],\n",
              " ['geological_similarity/gneiss/GI0AZ.jpg', 'gneiss'],\n",
              " ['geological_similarity/marble/BYMEH.jpg', 'marbler'],\n",
              " ['geological_similarity/rhyolite/BZS2X.jpg', 'rhyolite'],\n",
              " ['geological_similarity/schist/LT6OD.jpg', 'schist'],\n",
              " ['geological_similarity/schist/ZN845.jpg', 'schist'],\n",
              " ['geological_similarity/marble/3AEAW.jpg', 'marbler'],\n",
              " ['geological_similarity/rhyolite/MQHGH.jpg', 'rhyolite'],\n",
              " ['geological_similarity/gneiss/F5J2G.jpg', 'gneiss'],\n",
              " ['geological_similarity/schist/TH0EF.jpg', 'schist'],\n",
              " ['geological_similarity/andesite/M5P5R.jpg', 'andesite'],\n",
              " ['geological_similarity/schist/86U57.jpg', 'schist'],\n",
              " ['geological_similarity/andesite/Y7MLX.jpg', 'andesite'],\n",
              " ['geological_similarity/quartzite/25BF6.jpg', 'quartzite'],\n",
              " ['geological_similarity/andesite/KIK1Y.jpg', 'andesite'],\n",
              " ['geological_similarity/gneiss/BQXTB.jpg', 'gneiss'],\n",
              " ['geological_similarity/gneiss/2GZB6.jpg', 'gneiss'],\n",
              " ['geological_similarity/gneiss/5IU91.jpg', 'gneiss'],\n",
              " ['geological_similarity/quartzite/FPBYV.jpg', 'quartzite'],\n",
              " ['geological_similarity/gneiss/R3MA4.jpg', 'gneiss'],\n",
              " ['geological_similarity/andesite/Q5S3M.jpg', 'andesite'],\n",
              " ['geological_similarity/andesite/37J63.jpg', 'andesite'],\n",
              " ['geological_similarity/rhyolite/CFUQW.jpg', 'rhyolite'],\n",
              " ['geological_similarity/quartzite/IY865.jpg', 'quartzite'],\n",
              " ['geological_similarity/gneiss/VCDT7.jpg', 'gneiss'],\n",
              " ['geological_similarity/rhyolite/NHCWO.jpg', 'rhyolite'],\n",
              " ['geological_similarity/schist/UU701.jpg', 'schist'],\n",
              " ['geological_similarity/andesite/HQW76.jpg', 'andesite'],\n",
              " ['geological_similarity/marble/9EZ6Z.jpg', 'marbler'],\n",
              " ['geological_similarity/gneiss/317AZ.jpg', 'gneiss'],\n",
              " ['geological_similarity/andesite/6NOYY.jpg', 'andesite'],\n",
              " ['geological_similarity/andesite/Z5YLO.jpg', 'andesite'],\n",
              " ['geological_similarity/marble/BQ0M7.jpg', 'marbler'],\n",
              " ['geological_similarity/rhyolite/X8BOJ.jpg', 'rhyolite'],\n",
              " ['geological_similarity/schist/UKGUZ.jpg', 'schist'],\n",
              " ['geological_similarity/marble/ZBNXJ.jpg', 'marbler'],\n",
              " ['geological_similarity/andesite/K1L8L.jpg', 'andesite'],\n",
              " ['geological_similarity/gneiss/YOA9V.jpg', 'gneiss'],\n",
              " ['geological_similarity/andesite/69OVY.jpg', 'andesite'],\n",
              " ['geological_similarity/gneiss/5BQPM.jpg', 'gneiss'],\n",
              " ['geological_similarity/marble/JX8UE.jpg', 'marbler'],\n",
              " ['geological_similarity/schist/OZP9X.jpg', 'schist'],\n",
              " ['geological_similarity/marble/9UUR8.jpg', 'marbler'],\n",
              " ['geological_similarity/gneiss/6V4R4.jpg', 'gneiss'],\n",
              " ['geological_similarity/quartzite/NUMVQ.jpg', 'quartzite'],\n",
              " ['geological_similarity/schist/SWDEH.jpg', 'schist'],\n",
              " ['geological_similarity/gneiss/DRXEN.jpg', 'gneiss'],\n",
              " ['geological_similarity/marble/80XOX.jpg', 'marbler'],\n",
              " ['geological_similarity/andesite/8Y3KK.jpg', 'andesite'],\n",
              " ['geological_similarity/quartzite/WEQ83.jpg', 'quartzite'],\n",
              " ['geological_similarity/quartzite/VTLAO.jpg', 'quartzite'],\n",
              " ['geological_similarity/schist/3NL4I.jpg', 'schist'],\n",
              " ['geological_similarity/schist/2M77G.jpg', 'schist'],\n",
              " ['geological_similarity/andesite/Q9BXC.jpg', 'andesite'],\n",
              " ['geological_similarity/quartzite/VPPTZ.jpg', 'quartzite'],\n",
              " ['geological_similarity/andesite/UJNQC.jpg', 'andesite'],\n",
              " ['geological_similarity/gneiss/AER2Z.jpg', 'gneiss'],\n",
              " ['geological_similarity/gneiss/BQBRL.jpg', 'gneiss'],\n",
              " ['geological_similarity/andesite/D3HJK.jpg', 'andesite'],\n",
              " ['geological_similarity/marble/BV5JS.jpg', 'marbler'],\n",
              " ['geological_similarity/rhyolite/XEJME.jpg', 'rhyolite'],\n",
              " ['geological_similarity/rhyolite/UUTM0.jpg', 'rhyolite'],\n",
              " ['geological_similarity/marble/QHQ79.jpg', 'marbler'],\n",
              " ['geological_similarity/andesite/KWG0N.jpg', 'andesite'],\n",
              " ['geological_similarity/schist/6IMXQ.jpg', 'schist'],\n",
              " ['geological_similarity/schist/0U7AJ.jpg', 'schist'],\n",
              " ['geological_similarity/andesite/I1UVS.jpg', 'andesite'],\n",
              " ['geological_similarity/marble/BS9CU.jpg', 'marbler'],\n",
              " ['geological_similarity/marble/CVR6X.jpg', 'marbler'],\n",
              " ['geological_similarity/rhyolite/SD7L6.jpg', 'rhyolite'],\n",
              " ['geological_similarity/schist/K9VFV.jpg', 'schist'],\n",
              " ['geological_similarity/gneiss/NJIAC.jpg', 'gneiss'],\n",
              " ['geological_similarity/marble/H0VXW.jpg', 'marbler'],\n",
              " ['geological_similarity/gneiss/7U92U.jpg', 'gneiss'],\n",
              " ['geological_similarity/gneiss/PPIE5.jpg', 'gneiss'],\n",
              " ['geological_similarity/quartzite/2KS24.jpg', 'quartzite'],\n",
              " ['geological_similarity/marble/JAPPJ.jpg', 'marbler'],\n",
              " ['geological_similarity/quartzite/5YRXV.jpg', 'quartzite'],\n",
              " ['geological_similarity/andesite/D3680.jpg', 'andesite'],\n",
              " ['geological_similarity/rhyolite/E7A74.jpg', 'rhyolite'],\n",
              " ['geological_similarity/marble/SF6SA.jpg', 'marbler'],\n",
              " ['geological_similarity/schist/38R19.jpg', 'schist'],\n",
              " ['geological_similarity/quartzite/21032.jpg', 'quartzite'],\n",
              " ['geological_similarity/quartzite/TJV77.jpg', 'quartzite'],\n",
              " ['geological_similarity/andesite/TGQES.jpg', 'andesite'],\n",
              " ['geological_similarity/rhyolite/G27VV.jpg', 'rhyolite'],\n",
              " ['geological_similarity/schist/HX97C.jpg', 'schist'],\n",
              " ['geological_similarity/andesite/IR9FI.jpg', 'andesite'],\n",
              " ['geological_similarity/gneiss/HQR7V.jpg', 'gneiss'],\n",
              " ['geological_similarity/marble/BHPXG.jpg', 'marbler'],\n",
              " ['geological_similarity/rhyolite/3NP5M.jpg', 'rhyolite'],\n",
              " ['geological_similarity/andesite/XNIBK.jpg', 'andesite'],\n",
              " ['geological_similarity/schist/1J3FL.jpg', 'schist'],\n",
              " ['geological_similarity/gneiss/9SDOM.jpg', 'gneiss'],\n",
              " ['geological_similarity/gneiss/SMU1Q.jpg', 'gneiss'],\n",
              " ['geological_similarity/quartzite/ZSVWP.jpg', 'quartzite'],\n",
              " ['geological_similarity/schist/ROP50.jpg', 'schist'],\n",
              " ['geological_similarity/gneiss/ZB607.jpg', 'gneiss'],\n",
              " ['geological_similarity/marble/8OEIA.jpg', 'marbler'],\n",
              " ['geological_similarity/andesite/R0ZQH.jpg', 'andesite'],\n",
              " ...]"
            ]
          },
          "metadata": {},
          "execution_count": 9
        }
      ]
    },
    {
      "cell_type": "code",
      "metadata": {
        "colab": {
          "base_uri": "https://localhost:8080/",
          "height": 417
        },
        "id": "JxH49usnlTiU",
        "outputId": "60a8a57e-1c96-475b-d43d-aca76e3eaf86"
      },
      "source": [
        "data_df = pd.DataFrame(df,columns=['path','label'])\n",
        "data_df"
      ],
      "execution_count": 10,
      "outputs": [
        {
          "output_type": "execute_result",
          "data": {
            "text/html": [
              "<div>\n",
              "<style scoped>\n",
              "    .dataframe tbody tr th:only-of-type {\n",
              "        vertical-align: middle;\n",
              "    }\n",
              "\n",
              "    .dataframe tbody tr th {\n",
              "        vertical-align: top;\n",
              "    }\n",
              "\n",
              "    .dataframe thead th {\n",
              "        text-align: right;\n",
              "    }\n",
              "</style>\n",
              "<table border=\"1\" class=\"dataframe\">\n",
              "  <thead>\n",
              "    <tr style=\"text-align: right;\">\n",
              "      <th></th>\n",
              "      <th>path</th>\n",
              "      <th>label</th>\n",
              "    </tr>\n",
              "  </thead>\n",
              "  <tbody>\n",
              "    <tr>\n",
              "      <th>0</th>\n",
              "      <td>geological_similarity/gneiss/SCCVN.jpg</td>\n",
              "      <td>gneiss</td>\n",
              "    </tr>\n",
              "    <tr>\n",
              "      <th>1</th>\n",
              "      <td>geological_similarity/quartzite/YS6K4.jpg</td>\n",
              "      <td>quartzite</td>\n",
              "    </tr>\n",
              "    <tr>\n",
              "      <th>2</th>\n",
              "      <td>geological_similarity/rhyolite/BPRNG.jpg</td>\n",
              "      <td>rhyolite</td>\n",
              "    </tr>\n",
              "    <tr>\n",
              "      <th>3</th>\n",
              "      <td>geological_similarity/marble/WG1TW.jpg</td>\n",
              "      <td>marbler</td>\n",
              "    </tr>\n",
              "    <tr>\n",
              "      <th>4</th>\n",
              "      <td>geological_similarity/andesite/MQUT3.jpg</td>\n",
              "      <td>andesite</td>\n",
              "    </tr>\n",
              "    <tr>\n",
              "      <th>...</th>\n",
              "      <td>...</td>\n",
              "      <td>...</td>\n",
              "    </tr>\n",
              "    <tr>\n",
              "      <th>29993</th>\n",
              "      <td>geological_similarity/schist/U3EXX.jpg</td>\n",
              "      <td>schist</td>\n",
              "    </tr>\n",
              "    <tr>\n",
              "      <th>29994</th>\n",
              "      <td>geological_similarity/marble/78MRI.jpg</td>\n",
              "      <td>marbler</td>\n",
              "    </tr>\n",
              "    <tr>\n",
              "      <th>29995</th>\n",
              "      <td>geological_similarity/rhyolite/04RVV.jpg</td>\n",
              "      <td>rhyolite</td>\n",
              "    </tr>\n",
              "    <tr>\n",
              "      <th>29996</th>\n",
              "      <td>geological_similarity/marble/CVN3J.jpg</td>\n",
              "      <td>marbler</td>\n",
              "    </tr>\n",
              "    <tr>\n",
              "      <th>29997</th>\n",
              "      <td>geological_similarity/marble/DXLJ9.jpg</td>\n",
              "      <td>marbler</td>\n",
              "    </tr>\n",
              "  </tbody>\n",
              "</table>\n",
              "<p>29998 rows × 2 columns</p>\n",
              "</div>"
            ],
            "text/plain": [
              "                                            path      label\n",
              "0         geological_similarity/gneiss/SCCVN.jpg     gneiss\n",
              "1      geological_similarity/quartzite/YS6K4.jpg  quartzite\n",
              "2       geological_similarity/rhyolite/BPRNG.jpg   rhyolite\n",
              "3         geological_similarity/marble/WG1TW.jpg    marbler\n",
              "4       geological_similarity/andesite/MQUT3.jpg   andesite\n",
              "...                                          ...        ...\n",
              "29993     geological_similarity/schist/U3EXX.jpg     schist\n",
              "29994     geological_similarity/marble/78MRI.jpg    marbler\n",
              "29995   geological_similarity/rhyolite/04RVV.jpg   rhyolite\n",
              "29996     geological_similarity/marble/CVN3J.jpg    marbler\n",
              "29997     geological_similarity/marble/DXLJ9.jpg    marbler\n",
              "\n",
              "[29998 rows x 2 columns]"
            ]
          },
          "metadata": {},
          "execution_count": 10
        }
      ]
    },
    {
      "cell_type": "code",
      "metadata": {
        "colab": {
          "base_uri": "https://localhost:8080/"
        },
        "id": "qhAVtAK8zQPd",
        "outputId": "40f3f68c-9a0a-4de9-a655-bb727287626e"
      },
      "source": [
        "data_df.dtypes"
      ],
      "execution_count": 11,
      "outputs": [
        {
          "output_type": "execute_result",
          "data": {
            "text/plain": [
              "path     object\n",
              "label    object\n",
              "dtype: object"
            ]
          },
          "metadata": {},
          "execution_count": 11
        }
      ]
    },
    {
      "cell_type": "markdown",
      "metadata": {
        "id": "XlUbajOTxHKl"
      },
      "source": [
        "# **Limpeza de dados**\n",
        "1 - Analisando os dados ausentes\n",
        "2 - Descartando os dados ausentes\n",
        "3 - Imputando dados\n",
        "4 - Acrescentando colunas informativas"
      ]
    },
    {
      "cell_type": "code",
      "metadata": {
        "colab": {
          "base_uri": "https://localhost:8080/",
          "height": 521
        },
        "id": "ybydrHWUvlbY",
        "outputId": "5014887b-e7e6-4fbe-c057-8afd6a2fd34b"
      },
      "source": [
        "import missingno as msno\n",
        "ax = msno.matrix(data_df.sample(400))"
      ],
      "execution_count": 12,
      "outputs": [
        {
          "output_type": "display_data",
          "data": {
            "image/png": "[encoded data removed]",
            "text/plain": [
              "<Figure size 1800x720 with 2 Axes>"
            ]
          },
          "metadata": {
            "needs_background": "light"
          }
        }
      ]
    },
    {
      "cell_type": "code",
      "metadata": {
        "id": "9cVvBcwVxq9s"
      },
      "source": [
        "#! pip install pandas-profiling==2.8.0\n",
        "#from pandas_profiling import ProfileReport\n",
        "#ProfileReport (data_df)"
      ],
      "execution_count": 18,
      "outputs": []
    },
    {
      "cell_type": "markdown",
      "metadata": {
        "id": "aPsSnX6j0Ec-"
      },
      "source": [
        "# **Separação das amostras**"
      ]
    },
    {
      "cell_type": "code",
      "metadata": {
        "id": "GivnwDIGUrFW"
      },
      "source": [
        "X = data_df.drop(columns='label')\n",
        "y= data_df.path"
      ],
      "execution_count": null,
      "outputs": []
    },
    {
      "cell_type": "code",
      "metadata": {
        "id": "uh3XBhM9pqJz"
      },
      "source": [
        "X_train,X_test,y_train,y_test=train_test_split(X,y,test_size=0.2,random_state=44)"
      ],
      "execution_count": 22,
      "outputs": []
    },
    {
      "cell_type": "code",
      "metadata": {
        "colab": {
          "base_uri": "https://localhost:8080/"
        },
        "id": "2t_BltlcuGE8",
        "outputId": "817f0a29-acbb-4031-f2c9-e91b760f1537"
      },
      "source": [
        "print(X_train.shape)\n",
        "print(X_test.shape)\n",
        "print(y_train.shape)\n",
        "print(y_test.shape)"
      ],
      "execution_count": 23,
      "outputs": [
        {
          "output_type": "stream",
          "name": "stdout",
          "text": [
            "(23998, 1)\n",
            "(6000, 1)\n",
            "(23998,)\n",
            "(6000,)\n"
          ]
        }
      ]
    },
    {
      "cell_type": "markdown",
      "metadata": {
        "id": "uAXxm12yUwsI"
      },
      "source": [
        "# **Explorando os dados**"
      ]
    },
    {
      "cell_type": "code",
      "metadata": {
        "id": "RIeT3Ji_UxQO"
      },
      "source": [
        "print(X_train.shape)\n",
        "print(X_test.shape)\n",
        "print(y_train.shape)\n",
        "print(y_test.shape)"
      ],
      "execution_count": null,
      "outputs": []
    },
    {
      "cell_type": "code",
      "metadata": {
        "id": "dJyhQw37U7IR"
      },
      "source": [
        "X_train.describe()"
      ],
      "execution_count": null,
      "outputs": []
    },
    {
      "cell_type": "code",
      "metadata": {
        "id": "Xry02gl1VD3g"
      },
      "source": [
        "#fig, ax = plt.subplots(figsize=(6,4))\n",
        "#X.plot(kind=\"hist\",ax=ax)"
      ],
      "execution_count": null,
      "outputs": []
    },
    {
      "cell_type": "markdown",
      "metadata": {
        "id": "-AAuWUVf6ocm"
      },
      "source": [
        "# **Data Argumentation**"
      ]
    },
    {
      "cell_type": "markdown",
      "metadata": {
        "id": "G1xbq78zfV9i"
      },
      "source": [
        "## ** Esta função irá plotar as imagens num grid de 1 a 5 colunas **"
      ]
    },
    {
      "cell_type": "code",
      "metadata": {
        "id": "hjV3pOngCtA7"
      },
      "source": [
        "def plotImages(images_arr):\n",
        "    fig, axes = plt.subplots(1, 5, figsize=(20,20))\n",
        "    axes = axes.flatten()\n",
        "    for img, ax in zip(images_arr, axes):\n",
        "        ax.imshow(img)\n",
        "    plt.tight_layout()\n",
        "    plt.show()"
      ],
      "execution_count": 16,
      "outputs": []
    },
    {
      "cell_type": "code",
      "metadata": {
        "id": "jkUru3gBfA0n"
      },
      "source": [
        "IMG_SHAPE = 28\n",
        "BATCH_SIZE = 20"
      ],
      "execution_count": 17,
      "outputs": []
    },
    {
      "cell_type": "code",
      "metadata": {
        "id": "Cw0IbS6mfdxM"
      },
      "source": [
        "datagen = ImageDataGenerator(rescale=1./255,\n",
        "                            #rotation_range = 40,\n",
        "                            #width_shift_range = 0.2,\n",
        "                            #height_shift_range = 0.2,\n",
        "                            #shear_range = 0.2,\n",
        "                            #zoom_range = 0.2,\n",
        "                            horizontal_flip = True,\n",
        "                            validation_split=0.2)"
      ],
      "execution_count": 18,
      "outputs": []
    },
    {
      "cell_type": "code",
      "metadata": {
        "colab": {
          "base_uri": "https://localhost:8080/"
        },
        "id": "fJOGqBP7fd3n",
        "outputId": "b369a3c7-5d89-418b-b543-629900eaba0f"
      },
      "source": [
        "train_generator = datagen.flow_from_dataframe(data_df,\n",
        "                                              x_col='path',\n",
        "                                              y_col='label',\n",
        "                                              images_size=(28,28),\n",
        "                                              #class_mode='binary',\n",
        "                                              subset='training')\n",
        "\n",
        "validation_generator = datagen.flow_from_dataframe(data_df,\n",
        "                                                   x_col='path',\n",
        "                                                   y_col='label',\n",
        "                                                   images_size=(28,28),\n",
        "                                                   #class_mode='binary',\n",
        "                                                   subset='validation')\n",
        "\n",
        "## Duvidas - Existe esse codigo abaixo\n",
        "\n",
        "#test_generator = datagen.flow_from_dataframe(data_df,\n",
        "                                              #x_col='path',\n",
        "                                             # y_col='label',\n",
        "                                             # images_size=(28,28)\n",
        "                                              #class_mode='binary')\n",
        "                                             # )"
      ],
      "execution_count": 20,
      "outputs": [
        {
          "output_type": "stream",
          "name": "stdout",
          "text": [
            "Found 23999 validated image filenames belonging to 6 classes.\n",
            "Found 5999 validated image filenames belonging to 6 classes.\n"
          ]
        }
      ]
    },
    {
      "cell_type": "code",
      "metadata": {
        "colab": {
          "base_uri": "https://localhost:8080/",
          "height": 250
        },
        "id": "ShN0CzElfd9R",
        "outputId": "9020f192-8e0b-4d09-ef47-0651a3dd8d7f"
      },
      "source": [
        "augmented_images = [train_generator[0][0][0] for i in range(5)]\n",
        "plotImages(augmented_images)"
      ],
      "execution_count": 21,
      "outputs": [
        {
          "output_type": "display_data",
          "data": {
            "image/png": "[encoded data removed]",
            "text/plain": [
              "<Figure size 1440x1440 with 5 Axes>"
            ]
          },
          "metadata": {}
        }
      ]
    },
    {
      "cell_type": "markdown",
      "metadata": {
        "id": "l1OMG-TS0Lq_"
      },
      "source": [
        "# **Imputação dos dados ???**"
      ]
    },
    {
      "cell_type": "markdown",
      "metadata": {
        "id": "JbBfQIg10RlI"
      },
      "source": [
        "# **Normalização dos dados ???**"
      ]
    },
    {
      "cell_type": "markdown",
      "metadata": {
        "id": "XTmSHwZa0YXe"
      },
      "source": [
        "# Refatore ??? "
      ]
    },
    {
      "cell_type": "markdown",
      "metadata": {
        "id": "dXm8LYqv0_vK"
      },
      "source": [
        "# **Criar o modelo**"
      ]
    },
    {
      "cell_type": "code",
      "metadata": {
        "colab": {
          "base_uri": "https://localhost:8080/",
          "height": 488
        },
        "id": "ncctBTCAgG7d",
        "outputId": "7fcc1b31-9329-40d6-be2f-11b1402ffe0f"
      },
      "source": [
        "model = tf.keras.models.Sequential([\n",
        "    tf.keras.layers.Conv2D(32, (3,3), activation='relu', input_shape=(28, 28,3)),\n",
        "    tf.keras.layers.MaxPooling2D(2, 2),\n",
        "\n",
        "    tf.keras.layers.Conv2D(64, (3,3), activation='relu'),\n",
        "    tf.keras.layers.MaxPooling2D(2,2),\n",
        "\n",
        "    tf.keras.layers.Conv2D(128, (3,3), activation='relu'),\n",
        "    tf.keras.layers.MaxPooling2D(2,2),\n",
        "\n",
        "    tf.keras.layers.Conv2D(128, (3,3), activation='relu'),\n",
        "    tf.keras.layers.MaxPooling2D(2,2),\n",
        "\n",
        "    tf.keras.layers.Dropout(0.5),\n",
        "    tf.keras.layers.Flatten(),\n",
        "    tf.keras.layers.Dense(512, activation='relu'),\n",
        "    tf.keras.layers.Dense(2)\n",
        "])"
      ],
      "execution_count": 24,
      "outputs": [
        {
          "output_type": "error",
          "ename": "ValueError",
          "evalue": "ignored",
          "traceback": [
            "\u001b[0;31m---------------------------------------------------------------------------\u001b[0m",
            "\u001b[0;31mInvalidArgumentError\u001b[0m                      Traceback (most recent call last)",
            "\u001b[0;32m/usr/local/lib/python3.7/dist-packages/tensorflow/python/framework/ops.py\u001b[0m in \u001b[0;36m_create_c_op\u001b[0;34m(graph, node_def, inputs, control_inputs, op_def)\u001b[0m\n\u001b[1;32m   1879\u001b[0m   \u001b[0;32mtry\u001b[0m\u001b[0;34m:\u001b[0m\u001b[0;34m\u001b[0m\u001b[0;34m\u001b[0m\u001b[0m\n\u001b[0;32m-> 1880\u001b[0;31m     \u001b[0mc_op\u001b[0m \u001b[0;34m=\u001b[0m \u001b[0mpywrap_tf_session\u001b[0m\u001b[0;34m.\u001b[0m\u001b[0mTF_FinishOperation\u001b[0m\u001b[0;34m(\u001b[0m\u001b[0mop_desc\u001b[0m\u001b[0;34m)\u001b[0m\u001b[0;34m\u001b[0m\u001b[0;34m\u001b[0m\u001b[0m\n\u001b[0m\u001b[1;32m   1881\u001b[0m   \u001b[0;32mexcept\u001b[0m \u001b[0merrors\u001b[0m\u001b[0;34m.\u001b[0m\u001b[0mInvalidArgumentError\u001b[0m \u001b[0;32mas\u001b[0m \u001b[0me\u001b[0m\u001b[0;34m:\u001b[0m\u001b[0;34m\u001b[0m\u001b[0;34m\u001b[0m\u001b[0m\n",
            "\u001b[0;31mInvalidArgumentError\u001b[0m: Negative dimension size caused by subtracting 3 from 1 for '{{node conv2d_3/Conv2D}} = Conv2D[T=DT_FLOAT, data_format=\"NHWC\", dilations=[1, 1, 1, 1], explicit_paddings=[], padding=\"VALID\", strides=[1, 1, 1, 1], use_cudnn_on_gpu=true](Placeholder, conv2d_3/Conv2D/ReadVariableOp)' with input shapes: [?,1,1,128], [3,3,128,128].",
            "\nDuring handling of the above exception, another exception occurred:\n",
            "\u001b[0;31mValueError\u001b[0m                                Traceback (most recent call last)",
            "\u001b[0;32m<ipython-input-24-1072f428b72e>\u001b[0m in \u001b[0;36m<module>\u001b[0;34m()\u001b[0m\n\u001b[1;32m     15\u001b[0m     \u001b[0mtf\u001b[0m\u001b[0;34m.\u001b[0m\u001b[0mkeras\u001b[0m\u001b[0;34m.\u001b[0m\u001b[0mlayers\u001b[0m\u001b[0;34m.\u001b[0m\u001b[0mFlatten\u001b[0m\u001b[0;34m(\u001b[0m\u001b[0;34m)\u001b[0m\u001b[0;34m,\u001b[0m\u001b[0;34m\u001b[0m\u001b[0;34m\u001b[0m\u001b[0m\n\u001b[1;32m     16\u001b[0m     \u001b[0mtf\u001b[0m\u001b[0;34m.\u001b[0m\u001b[0mkeras\u001b[0m\u001b[0;34m.\u001b[0m\u001b[0mlayers\u001b[0m\u001b[0;34m.\u001b[0m\u001b[0mDense\u001b[0m\u001b[0;34m(\u001b[0m\u001b[0;36m512\u001b[0m\u001b[0;34m,\u001b[0m \u001b[0mactivation\u001b[0m\u001b[0;34m=\u001b[0m\u001b[0;34m'relu'\u001b[0m\u001b[0;34m)\u001b[0m\u001b[0;34m,\u001b[0m\u001b[0;34m\u001b[0m\u001b[0;34m\u001b[0m\u001b[0m\n\u001b[0;32m---> 17\u001b[0;31m     \u001b[0mtf\u001b[0m\u001b[0;34m.\u001b[0m\u001b[0mkeras\u001b[0m\u001b[0;34m.\u001b[0m\u001b[0mlayers\u001b[0m\u001b[0;34m.\u001b[0m\u001b[0mDense\u001b[0m\u001b[0;34m(\u001b[0m\u001b[0;36m2\u001b[0m\u001b[0;34m)\u001b[0m\u001b[0;34m\u001b[0m\u001b[0;34m\u001b[0m\u001b[0m\n\u001b[0m\u001b[1;32m     18\u001b[0m ])\n",
            "\u001b[0;32m/usr/local/lib/python3.7/dist-packages/tensorflow/python/training/tracking/base.py\u001b[0m in \u001b[0;36m_method_wrapper\u001b[0;34m(self, *args, **kwargs)\u001b[0m\n\u001b[1;32m    528\u001b[0m     \u001b[0mself\u001b[0m\u001b[0;34m.\u001b[0m\u001b[0m_self_setattr_tracking\u001b[0m \u001b[0;34m=\u001b[0m \u001b[0;32mFalse\u001b[0m  \u001b[0;31m# pylint: disable=protected-access\u001b[0m\u001b[0;34m\u001b[0m\u001b[0;34m\u001b[0m\u001b[0m\n\u001b[1;32m    529\u001b[0m     \u001b[0;32mtry\u001b[0m\u001b[0;34m:\u001b[0m\u001b[0;34m\u001b[0m\u001b[0;34m\u001b[0m\u001b[0m\n\u001b[0;32m--> 530\u001b[0;31m       \u001b[0mresult\u001b[0m \u001b[0;34m=\u001b[0m \u001b[0mmethod\u001b[0m\u001b[0;34m(\u001b[0m\u001b[0mself\u001b[0m\u001b[0;34m,\u001b[0m \u001b[0;34m*\u001b[0m\u001b[0margs\u001b[0m\u001b[0;34m,\u001b[0m \u001b[0;34m**\u001b[0m\u001b[0mkwargs\u001b[0m\u001b[0;34m)\u001b[0m\u001b[0;34m\u001b[0m\u001b[0;34m\u001b[0m\u001b[0m\n\u001b[0m\u001b[1;32m    531\u001b[0m     \u001b[0;32mfinally\u001b[0m\u001b[0;34m:\u001b[0m\u001b[0;34m\u001b[0m\u001b[0;34m\u001b[0m\u001b[0m\n\u001b[1;32m    532\u001b[0m       \u001b[0mself\u001b[0m\u001b[0;34m.\u001b[0m\u001b[0m_self_setattr_tracking\u001b[0m \u001b[0;34m=\u001b[0m \u001b[0mprevious_value\u001b[0m  \u001b[0;31m# pylint: disable=protected-access\u001b[0m\u001b[0;34m\u001b[0m\u001b[0;34m\u001b[0m\u001b[0m\n",
            "\u001b[0;32m/usr/local/lib/python3.7/dist-packages/keras/engine/sequential.py\u001b[0m in \u001b[0;36m__init__\u001b[0;34m(self, layers, name)\u001b[0m\n\u001b[1;32m    132\u001b[0m         \u001b[0mlayers\u001b[0m \u001b[0;34m=\u001b[0m \u001b[0;34m[\u001b[0m\u001b[0mlayers\u001b[0m\u001b[0;34m]\u001b[0m\u001b[0;34m\u001b[0m\u001b[0;34m\u001b[0m\u001b[0m\n\u001b[1;32m    133\u001b[0m       \u001b[0;32mfor\u001b[0m \u001b[0mlayer\u001b[0m \u001b[0;32min\u001b[0m \u001b[0mlayers\u001b[0m\u001b[0;34m:\u001b[0m\u001b[0;34m\u001b[0m\u001b[0;34m\u001b[0m\u001b[0m\n\u001b[0;32m--> 134\u001b[0;31m         \u001b[0mself\u001b[0m\u001b[0;34m.\u001b[0m\u001b[0madd\u001b[0m\u001b[0;34m(\u001b[0m\u001b[0mlayer\u001b[0m\u001b[0;34m)\u001b[0m\u001b[0;34m\u001b[0m\u001b[0;34m\u001b[0m\u001b[0m\n\u001b[0m\u001b[1;32m    135\u001b[0m \u001b[0;34m\u001b[0m\u001b[0m\n\u001b[1;32m    136\u001b[0m   \u001b[0;34m@\u001b[0m\u001b[0mproperty\u001b[0m\u001b[0;34m\u001b[0m\u001b[0;34m\u001b[0m\u001b[0m\n",
            "\u001b[0;32m/usr/local/lib/python3.7/dist-packages/tensorflow/python/training/tracking/base.py\u001b[0m in \u001b[0;36m_method_wrapper\u001b[0;34m(self, *args, **kwargs)\u001b[0m\n\u001b[1;32m    528\u001b[0m     \u001b[0mself\u001b[0m\u001b[0;34m.\u001b[0m\u001b[0m_self_setattr_tracking\u001b[0m \u001b[0;34m=\u001b[0m \u001b[0;32mFalse\u001b[0m  \u001b[0;31m# pylint: disable=protected-access\u001b[0m\u001b[0;34m\u001b[0m\u001b[0;34m\u001b[0m\u001b[0m\n\u001b[1;32m    529\u001b[0m     \u001b[0;32mtry\u001b[0m\u001b[0;34m:\u001b[0m\u001b[0;34m\u001b[0m\u001b[0;34m\u001b[0m\u001b[0m\n\u001b[0;32m--> 530\u001b[0;31m       \u001b[0mresult\u001b[0m \u001b[0;34m=\u001b[0m \u001b[0mmethod\u001b[0m\u001b[0;34m(\u001b[0m\u001b[0mself\u001b[0m\u001b[0;34m,\u001b[0m \u001b[0;34m*\u001b[0m\u001b[0margs\u001b[0m\u001b[0;34m,\u001b[0m \u001b[0;34m**\u001b[0m\u001b[0mkwargs\u001b[0m\u001b[0;34m)\u001b[0m\u001b[0;34m\u001b[0m\u001b[0;34m\u001b[0m\u001b[0m\n\u001b[0m\u001b[1;32m    531\u001b[0m     \u001b[0;32mfinally\u001b[0m\u001b[0;34m:\u001b[0m\u001b[0;34m\u001b[0m\u001b[0;34m\u001b[0m\u001b[0m\n\u001b[1;32m    532\u001b[0m       \u001b[0mself\u001b[0m\u001b[0;34m.\u001b[0m\u001b[0m_self_setattr_tracking\u001b[0m \u001b[0;34m=\u001b[0m \u001b[0mprevious_value\u001b[0m  \u001b[0;31m# pylint: disable=protected-access\u001b[0m\u001b[0;34m\u001b[0m\u001b[0;34m\u001b[0m\u001b[0m\n",
            "\u001b[0;32m/usr/local/lib/python3.7/dist-packages/keras/engine/sequential.py\u001b[0m in \u001b[0;36madd\u001b[0;34m(self, layer)\u001b[0m\n\u001b[1;32m    215\u001b[0m       \u001b[0;31m# If the model is being built continuously on top of an input layer:\u001b[0m\u001b[0;34m\u001b[0m\u001b[0;34m\u001b[0m\u001b[0;34m\u001b[0m\u001b[0m\n\u001b[1;32m    216\u001b[0m       \u001b[0;31m# refresh its output.\u001b[0m\u001b[0;34m\u001b[0m\u001b[0;34m\u001b[0m\u001b[0;34m\u001b[0m\u001b[0m\n\u001b[0;32m--> 217\u001b[0;31m       \u001b[0moutput_tensor\u001b[0m \u001b[0;34m=\u001b[0m \u001b[0mlayer\u001b[0m\u001b[0;34m(\u001b[0m\u001b[0mself\u001b[0m\u001b[0;34m.\u001b[0m\u001b[0moutputs\u001b[0m\u001b[0;34m[\u001b[0m\u001b[0;36m0\u001b[0m\u001b[0;34m]\u001b[0m\u001b[0;34m)\u001b[0m\u001b[0;34m\u001b[0m\u001b[0;34m\u001b[0m\u001b[0m\n\u001b[0m\u001b[1;32m    218\u001b[0m       \u001b[0;32mif\u001b[0m \u001b[0mlen\u001b[0m\u001b[0;34m(\u001b[0m\u001b[0mtf\u001b[0m\u001b[0;34m.\u001b[0m\u001b[0mnest\u001b[0m\u001b[0;34m.\u001b[0m\u001b[0mflatten\u001b[0m\u001b[0;34m(\u001b[0m\u001b[0moutput_tensor\u001b[0m\u001b[0;34m)\u001b[0m\u001b[0;34m)\u001b[0m \u001b[0;34m!=\u001b[0m \u001b[0;36m1\u001b[0m\u001b[0;34m:\u001b[0m\u001b[0;34m\u001b[0m\u001b[0;34m\u001b[0m\u001b[0m\n\u001b[1;32m    219\u001b[0m         \u001b[0;32mraise\u001b[0m \u001b[0mValueError\u001b[0m\u001b[0;34m(\u001b[0m\u001b[0mSINGLE_LAYER_OUTPUT_ERROR_MSG\u001b[0m\u001b[0;34m)\u001b[0m\u001b[0;34m\u001b[0m\u001b[0;34m\u001b[0m\u001b[0m\n",
            "\u001b[0;32m/usr/local/lib/python3.7/dist-packages/keras/engine/base_layer.py\u001b[0m in \u001b[0;36m__call__\u001b[0;34m(self, *args, **kwargs)\u001b[0m\n\u001b[1;32m    975\u001b[0m     \u001b[0;32mif\u001b[0m \u001b[0m_in_functional_construction_mode\u001b[0m\u001b[0;34m(\u001b[0m\u001b[0mself\u001b[0m\u001b[0;34m,\u001b[0m \u001b[0minputs\u001b[0m\u001b[0;34m,\u001b[0m \u001b[0margs\u001b[0m\u001b[0;34m,\u001b[0m \u001b[0mkwargs\u001b[0m\u001b[0;34m,\u001b[0m \u001b[0minput_list\u001b[0m\u001b[0;34m)\u001b[0m\u001b[0;34m:\u001b[0m\u001b[0;34m\u001b[0m\u001b[0;34m\u001b[0m\u001b[0m\n\u001b[1;32m    976\u001b[0m       return self._functional_construction_call(inputs, args, kwargs,\n\u001b[0;32m--> 977\u001b[0;31m                                                 input_list)\n\u001b[0m\u001b[1;32m    978\u001b[0m \u001b[0;34m\u001b[0m\u001b[0m\n\u001b[1;32m    979\u001b[0m     \u001b[0;31m# Maintains info about the `Layer.call` stack.\u001b[0m\u001b[0;34m\u001b[0m\u001b[0;34m\u001b[0m\u001b[0;34m\u001b[0m\u001b[0m\n",
            "\u001b[0;32m/usr/local/lib/python3.7/dist-packages/keras/engine/base_layer.py\u001b[0m in \u001b[0;36m_functional_construction_call\u001b[0;34m(self, inputs, args, kwargs, input_list)\u001b[0m\n\u001b[1;32m   1113\u001b[0m       \u001b[0;31m# Check input assumptions set after layer building, e.g. input shape.\u001b[0m\u001b[0;34m\u001b[0m\u001b[0;34m\u001b[0m\u001b[0;34m\u001b[0m\u001b[0m\n\u001b[1;32m   1114\u001b[0m       outputs = self._keras_tensor_symbolic_call(\n\u001b[0;32m-> 1115\u001b[0;31m           inputs, input_masks, args, kwargs)\n\u001b[0m\u001b[1;32m   1116\u001b[0m \u001b[0;34m\u001b[0m\u001b[0m\n\u001b[1;32m   1117\u001b[0m       \u001b[0;32mif\u001b[0m \u001b[0moutputs\u001b[0m \u001b[0;32mis\u001b[0m \u001b[0;32mNone\u001b[0m\u001b[0;34m:\u001b[0m\u001b[0;34m\u001b[0m\u001b[0;34m\u001b[0m\u001b[0m\n",
            "\u001b[0;32m/usr/local/lib/python3.7/dist-packages/keras/engine/base_layer.py\u001b[0m in \u001b[0;36m_keras_tensor_symbolic_call\u001b[0;34m(self, inputs, input_masks, args, kwargs)\u001b[0m\n\u001b[1;32m    846\u001b[0m       \u001b[0;32mreturn\u001b[0m \u001b[0mtf\u001b[0m\u001b[0;34m.\u001b[0m\u001b[0mnest\u001b[0m\u001b[0;34m.\u001b[0m\u001b[0mmap_structure\u001b[0m\u001b[0;34m(\u001b[0m\u001b[0mkeras_tensor\u001b[0m\u001b[0;34m.\u001b[0m\u001b[0mKerasTensor\u001b[0m\u001b[0;34m,\u001b[0m \u001b[0moutput_signature\u001b[0m\u001b[0;34m)\u001b[0m\u001b[0;34m\u001b[0m\u001b[0;34m\u001b[0m\u001b[0m\n\u001b[1;32m    847\u001b[0m     \u001b[0;32melse\u001b[0m\u001b[0;34m:\u001b[0m\u001b[0;34m\u001b[0m\u001b[0;34m\u001b[0m\u001b[0m\n\u001b[0;32m--> 848\u001b[0;31m       \u001b[0;32mreturn\u001b[0m \u001b[0mself\u001b[0m\u001b[0;34m.\u001b[0m\u001b[0m_infer_output_signature\u001b[0m\u001b[0;34m(\u001b[0m\u001b[0minputs\u001b[0m\u001b[0;34m,\u001b[0m \u001b[0margs\u001b[0m\u001b[0;34m,\u001b[0m \u001b[0mkwargs\u001b[0m\u001b[0;34m,\u001b[0m \u001b[0minput_masks\u001b[0m\u001b[0;34m)\u001b[0m\u001b[0;34m\u001b[0m\u001b[0;34m\u001b[0m\u001b[0m\n\u001b[0m\u001b[1;32m    849\u001b[0m \u001b[0;34m\u001b[0m\u001b[0m\n\u001b[1;32m    850\u001b[0m   \u001b[0;32mdef\u001b[0m \u001b[0m_infer_output_signature\u001b[0m\u001b[0;34m(\u001b[0m\u001b[0mself\u001b[0m\u001b[0;34m,\u001b[0m \u001b[0minputs\u001b[0m\u001b[0;34m,\u001b[0m \u001b[0margs\u001b[0m\u001b[0;34m,\u001b[0m \u001b[0mkwargs\u001b[0m\u001b[0;34m,\u001b[0m \u001b[0minput_masks\u001b[0m\u001b[0;34m)\u001b[0m\u001b[0;34m:\u001b[0m\u001b[0;34m\u001b[0m\u001b[0;34m\u001b[0m\u001b[0m\n",
            "\u001b[0;32m/usr/local/lib/python3.7/dist-packages/keras/engine/base_layer.py\u001b[0m in \u001b[0;36m_infer_output_signature\u001b[0;34m(self, inputs, args, kwargs, input_masks)\u001b[0m\n\u001b[1;32m    886\u001b[0m           \u001b[0mself\u001b[0m\u001b[0;34m.\u001b[0m\u001b[0m_maybe_build\u001b[0m\u001b[0;34m(\u001b[0m\u001b[0minputs\u001b[0m\u001b[0;34m)\u001b[0m\u001b[0;34m\u001b[0m\u001b[0;34m\u001b[0m\u001b[0m\n\u001b[1;32m    887\u001b[0m           \u001b[0minputs\u001b[0m \u001b[0;34m=\u001b[0m \u001b[0mself\u001b[0m\u001b[0;34m.\u001b[0m\u001b[0m_maybe_cast_inputs\u001b[0m\u001b[0;34m(\u001b[0m\u001b[0minputs\u001b[0m\u001b[0;34m)\u001b[0m\u001b[0;34m\u001b[0m\u001b[0;34m\u001b[0m\u001b[0m\n\u001b[0;32m--> 888\u001b[0;31m           \u001b[0moutputs\u001b[0m \u001b[0;34m=\u001b[0m \u001b[0mcall_fn\u001b[0m\u001b[0;34m(\u001b[0m\u001b[0minputs\u001b[0m\u001b[0;34m,\u001b[0m \u001b[0;34m*\u001b[0m\u001b[0margs\u001b[0m\u001b[0;34m,\u001b[0m \u001b[0;34m**\u001b[0m\u001b[0mkwargs\u001b[0m\u001b[0;34m)\u001b[0m\u001b[0;34m\u001b[0m\u001b[0;34m\u001b[0m\u001b[0m\n\u001b[0m\u001b[1;32m    889\u001b[0m \u001b[0;34m\u001b[0m\u001b[0m\n\u001b[1;32m    890\u001b[0m         \u001b[0mself\u001b[0m\u001b[0;34m.\u001b[0m\u001b[0m_handle_activity_regularization\u001b[0m\u001b[0;34m(\u001b[0m\u001b[0minputs\u001b[0m\u001b[0;34m,\u001b[0m \u001b[0moutputs\u001b[0m\u001b[0;34m)\u001b[0m\u001b[0;34m\u001b[0m\u001b[0;34m\u001b[0m\u001b[0m\n",
            "\u001b[0;32m/usr/local/lib/python3.7/dist-packages/keras/layers/convolutional.py\u001b[0m in \u001b[0;36mcall\u001b[0;34m(self, inputs)\u001b[0m\n\u001b[1;32m    247\u001b[0m       \u001b[0minputs\u001b[0m \u001b[0;34m=\u001b[0m \u001b[0mtf\u001b[0m\u001b[0;34m.\u001b[0m\u001b[0mpad\u001b[0m\u001b[0;34m(\u001b[0m\u001b[0minputs\u001b[0m\u001b[0;34m,\u001b[0m \u001b[0mself\u001b[0m\u001b[0;34m.\u001b[0m\u001b[0m_compute_causal_padding\u001b[0m\u001b[0;34m(\u001b[0m\u001b[0minputs\u001b[0m\u001b[0;34m)\u001b[0m\u001b[0;34m)\u001b[0m\u001b[0;34m\u001b[0m\u001b[0;34m\u001b[0m\u001b[0m\n\u001b[1;32m    248\u001b[0m \u001b[0;34m\u001b[0m\u001b[0m\n\u001b[0;32m--> 249\u001b[0;31m     \u001b[0moutputs\u001b[0m \u001b[0;34m=\u001b[0m \u001b[0mself\u001b[0m\u001b[0;34m.\u001b[0m\u001b[0m_convolution_op\u001b[0m\u001b[0;34m(\u001b[0m\u001b[0minputs\u001b[0m\u001b[0;34m,\u001b[0m \u001b[0mself\u001b[0m\u001b[0;34m.\u001b[0m\u001b[0mkernel\u001b[0m\u001b[0;34m)\u001b[0m\u001b[0;34m\u001b[0m\u001b[0;34m\u001b[0m\u001b[0m\n\u001b[0m\u001b[1;32m    250\u001b[0m \u001b[0;34m\u001b[0m\u001b[0m\n\u001b[1;32m    251\u001b[0m     \u001b[0;32mif\u001b[0m \u001b[0mself\u001b[0m\u001b[0;34m.\u001b[0m\u001b[0muse_bias\u001b[0m\u001b[0;34m:\u001b[0m\u001b[0;34m\u001b[0m\u001b[0;34m\u001b[0m\u001b[0m\n",
            "\u001b[0;32m/usr/local/lib/python3.7/dist-packages/tensorflow/python/util/dispatch.py\u001b[0m in \u001b[0;36mwrapper\u001b[0;34m(*args, **kwargs)\u001b[0m\n\u001b[1;32m    204\u001b[0m     \u001b[0;34m\"\"\"Call target, and fall back on dispatchers if there is a TypeError.\"\"\"\u001b[0m\u001b[0;34m\u001b[0m\u001b[0;34m\u001b[0m\u001b[0m\n\u001b[1;32m    205\u001b[0m     \u001b[0;32mtry\u001b[0m\u001b[0;34m:\u001b[0m\u001b[0;34m\u001b[0m\u001b[0;34m\u001b[0m\u001b[0m\n\u001b[0;32m--> 206\u001b[0;31m       \u001b[0;32mreturn\u001b[0m \u001b[0mtarget\u001b[0m\u001b[0;34m(\u001b[0m\u001b[0;34m*\u001b[0m\u001b[0margs\u001b[0m\u001b[0;34m,\u001b[0m \u001b[0;34m**\u001b[0m\u001b[0mkwargs\u001b[0m\u001b[0;34m)\u001b[0m\u001b[0;34m\u001b[0m\u001b[0;34m\u001b[0m\u001b[0m\n\u001b[0m\u001b[1;32m    207\u001b[0m     \u001b[0;32mexcept\u001b[0m \u001b[0;34m(\u001b[0m\u001b[0mTypeError\u001b[0m\u001b[0;34m,\u001b[0m \u001b[0mValueError\u001b[0m\u001b[0;34m)\u001b[0m\u001b[0;34m:\u001b[0m\u001b[0;34m\u001b[0m\u001b[0;34m\u001b[0m\u001b[0m\n\u001b[1;32m    208\u001b[0m       \u001b[0;31m# Note: convert_to_eager_tensor currently raises a ValueError, not a\u001b[0m\u001b[0;34m\u001b[0m\u001b[0;34m\u001b[0m\u001b[0;34m\u001b[0m\u001b[0m\n",
            "\u001b[0;32m/usr/local/lib/python3.7/dist-packages/tensorflow/python/ops/nn_ops.py\u001b[0m in \u001b[0;36mconvolution_v2\u001b[0;34m(input, filters, strides, padding, data_format, dilations, name)\u001b[0m\n\u001b[1;32m   1136\u001b[0m       \u001b[0mdata_format\u001b[0m\u001b[0;34m=\u001b[0m\u001b[0mdata_format\u001b[0m\u001b[0;34m,\u001b[0m\u001b[0;34m\u001b[0m\u001b[0;34m\u001b[0m\u001b[0m\n\u001b[1;32m   1137\u001b[0m       \u001b[0mdilations\u001b[0m\u001b[0;34m=\u001b[0m\u001b[0mdilations\u001b[0m\u001b[0;34m,\u001b[0m\u001b[0;34m\u001b[0m\u001b[0;34m\u001b[0m\u001b[0m\n\u001b[0;32m-> 1138\u001b[0;31m       name=name)\n\u001b[0m\u001b[1;32m   1139\u001b[0m \u001b[0;34m\u001b[0m\u001b[0m\n\u001b[1;32m   1140\u001b[0m \u001b[0;34m\u001b[0m\u001b[0m\n",
            "\u001b[0;32m/usr/local/lib/python3.7/dist-packages/tensorflow/python/ops/nn_ops.py\u001b[0m in \u001b[0;36mconvolution_internal\u001b[0;34m(input, filters, strides, padding, data_format, dilations, name, call_from_convolution, num_spatial_dims)\u001b[0m\n\u001b[1;32m   1266\u001b[0m           \u001b[0mdata_format\u001b[0m\u001b[0;34m=\u001b[0m\u001b[0mdata_format\u001b[0m\u001b[0;34m,\u001b[0m\u001b[0;34m\u001b[0m\u001b[0;34m\u001b[0m\u001b[0m\n\u001b[1;32m   1267\u001b[0m           \u001b[0mdilations\u001b[0m\u001b[0;34m=\u001b[0m\u001b[0mdilations\u001b[0m\u001b[0;34m,\u001b[0m\u001b[0;34m\u001b[0m\u001b[0;34m\u001b[0m\u001b[0m\n\u001b[0;32m-> 1268\u001b[0;31m           name=name)\n\u001b[0m\u001b[1;32m   1269\u001b[0m     \u001b[0;32melse\u001b[0m\u001b[0;34m:\u001b[0m\u001b[0;34m\u001b[0m\u001b[0;34m\u001b[0m\u001b[0m\n\u001b[1;32m   1270\u001b[0m       \u001b[0;32mif\u001b[0m \u001b[0mchannel_index\u001b[0m \u001b[0;34m==\u001b[0m \u001b[0;36m1\u001b[0m\u001b[0;34m:\u001b[0m\u001b[0;34m\u001b[0m\u001b[0;34m\u001b[0m\u001b[0m\n",
            "\u001b[0;32m/usr/local/lib/python3.7/dist-packages/tensorflow/python/ops/nn_ops.py\u001b[0m in \u001b[0;36m_conv2d_expanded_batch\u001b[0;34m(input, filters, strides, padding, data_format, dilations, name)\u001b[0m\n\u001b[1;32m   2720\u001b[0m         \u001b[0mdata_format\u001b[0m\u001b[0;34m=\u001b[0m\u001b[0mdata_format\u001b[0m\u001b[0;34m,\u001b[0m\u001b[0;34m\u001b[0m\u001b[0;34m\u001b[0m\u001b[0m\n\u001b[1;32m   2721\u001b[0m         \u001b[0mdilations\u001b[0m\u001b[0;34m=\u001b[0m\u001b[0mdilations\u001b[0m\u001b[0;34m,\u001b[0m\u001b[0;34m\u001b[0m\u001b[0;34m\u001b[0m\u001b[0m\n\u001b[0;32m-> 2722\u001b[0;31m         name=name)\n\u001b[0m\u001b[1;32m   2723\u001b[0m   return squeeze_batch_dims(\n\u001b[1;32m   2724\u001b[0m       \u001b[0minput\u001b[0m\u001b[0;34m,\u001b[0m\u001b[0;34m\u001b[0m\u001b[0;34m\u001b[0m\u001b[0m\n",
            "\u001b[0;32m/usr/local/lib/python3.7/dist-packages/tensorflow/python/ops/gen_nn_ops.py\u001b[0m in \u001b[0;36mconv2d\u001b[0;34m(input, filter, strides, padding, use_cudnn_on_gpu, explicit_paddings, data_format, dilations, name)\u001b[0m\n\u001b[1;32m    971\u001b[0m                   \u001b[0mpadding\u001b[0m\u001b[0;34m=\u001b[0m\u001b[0mpadding\u001b[0m\u001b[0;34m,\u001b[0m \u001b[0muse_cudnn_on_gpu\u001b[0m\u001b[0;34m=\u001b[0m\u001b[0muse_cudnn_on_gpu\u001b[0m\u001b[0;34m,\u001b[0m\u001b[0;34m\u001b[0m\u001b[0;34m\u001b[0m\u001b[0m\n\u001b[1;32m    972\u001b[0m                   \u001b[0mexplicit_paddings\u001b[0m\u001b[0;34m=\u001b[0m\u001b[0mexplicit_paddings\u001b[0m\u001b[0;34m,\u001b[0m\u001b[0;34m\u001b[0m\u001b[0;34m\u001b[0m\u001b[0m\n\u001b[0;32m--> 973\u001b[0;31m                   data_format=data_format, dilations=dilations, name=name)\n\u001b[0m\u001b[1;32m    974\u001b[0m   \u001b[0m_result\u001b[0m \u001b[0;34m=\u001b[0m \u001b[0m_outputs\u001b[0m\u001b[0;34m[\u001b[0m\u001b[0;34m:\u001b[0m\u001b[0;34m]\u001b[0m\u001b[0;34m\u001b[0m\u001b[0;34m\u001b[0m\u001b[0m\n\u001b[1;32m    975\u001b[0m   \u001b[0;32mif\u001b[0m \u001b[0m_execute\u001b[0m\u001b[0;34m.\u001b[0m\u001b[0mmust_record_gradient\u001b[0m\u001b[0;34m(\u001b[0m\u001b[0;34m)\u001b[0m\u001b[0;34m:\u001b[0m\u001b[0;34m\u001b[0m\u001b[0;34m\u001b[0m\u001b[0m\n",
            "\u001b[0;32m/usr/local/lib/python3.7/dist-packages/tensorflow/python/framework/op_def_library.py\u001b[0m in \u001b[0;36m_apply_op_helper\u001b[0;34m(op_type_name, name, **keywords)\u001b[0m\n\u001b[1;32m    748\u001b[0m       op = g._create_op_internal(op_type_name, inputs, dtypes=None,\n\u001b[1;32m    749\u001b[0m                                  \u001b[0mname\u001b[0m\u001b[0;34m=\u001b[0m\u001b[0mscope\u001b[0m\u001b[0;34m,\u001b[0m \u001b[0minput_types\u001b[0m\u001b[0;34m=\u001b[0m\u001b[0minput_types\u001b[0m\u001b[0;34m,\u001b[0m\u001b[0;34m\u001b[0m\u001b[0;34m\u001b[0m\u001b[0m\n\u001b[0;32m--> 750\u001b[0;31m                                  attrs=attr_protos, op_def=op_def)\n\u001b[0m\u001b[1;32m    751\u001b[0m \u001b[0;34m\u001b[0m\u001b[0m\n\u001b[1;32m    752\u001b[0m     \u001b[0;31m# `outputs` is returned as a separate return value so that the output\u001b[0m\u001b[0;34m\u001b[0m\u001b[0;34m\u001b[0m\u001b[0;34m\u001b[0m\u001b[0m\n",
            "\u001b[0;32m/usr/local/lib/python3.7/dist-packages/tensorflow/python/framework/func_graph.py\u001b[0m in \u001b[0;36m_create_op_internal\u001b[0;34m(self, op_type, inputs, dtypes, input_types, name, attrs, op_def, compute_device)\u001b[0m\n\u001b[1;32m    599\u001b[0m     return super(FuncGraph, self)._create_op_internal(  # pylint: disable=protected-access\n\u001b[1;32m    600\u001b[0m         \u001b[0mop_type\u001b[0m\u001b[0;34m,\u001b[0m \u001b[0mcaptured_inputs\u001b[0m\u001b[0;34m,\u001b[0m \u001b[0mdtypes\u001b[0m\u001b[0;34m,\u001b[0m \u001b[0minput_types\u001b[0m\u001b[0;34m,\u001b[0m \u001b[0mname\u001b[0m\u001b[0;34m,\u001b[0m \u001b[0mattrs\u001b[0m\u001b[0;34m,\u001b[0m \u001b[0mop_def\u001b[0m\u001b[0;34m,\u001b[0m\u001b[0;34m\u001b[0m\u001b[0;34m\u001b[0m\u001b[0m\n\u001b[0;32m--> 601\u001b[0;31m         compute_device)\n\u001b[0m\u001b[1;32m    602\u001b[0m \u001b[0;34m\u001b[0m\u001b[0m\n\u001b[1;32m    603\u001b[0m   \u001b[0;32mdef\u001b[0m \u001b[0mcapture\u001b[0m\u001b[0;34m(\u001b[0m\u001b[0mself\u001b[0m\u001b[0;34m,\u001b[0m \u001b[0mtensor\u001b[0m\u001b[0;34m,\u001b[0m \u001b[0mname\u001b[0m\u001b[0;34m=\u001b[0m\u001b[0;32mNone\u001b[0m\u001b[0;34m,\u001b[0m \u001b[0mshape\u001b[0m\u001b[0;34m=\u001b[0m\u001b[0;32mNone\u001b[0m\u001b[0;34m)\u001b[0m\u001b[0;34m:\u001b[0m\u001b[0;34m\u001b[0m\u001b[0;34m\u001b[0m\u001b[0m\n",
            "\u001b[0;32m/usr/local/lib/python3.7/dist-packages/tensorflow/python/framework/ops.py\u001b[0m in \u001b[0;36m_create_op_internal\u001b[0;34m(self, op_type, inputs, dtypes, input_types, name, attrs, op_def, compute_device)\u001b[0m\n\u001b[1;32m   3567\u001b[0m           \u001b[0minput_types\u001b[0m\u001b[0;34m=\u001b[0m\u001b[0minput_types\u001b[0m\u001b[0;34m,\u001b[0m\u001b[0;34m\u001b[0m\u001b[0;34m\u001b[0m\u001b[0m\n\u001b[1;32m   3568\u001b[0m           \u001b[0moriginal_op\u001b[0m\u001b[0;34m=\u001b[0m\u001b[0mself\u001b[0m\u001b[0;34m.\u001b[0m\u001b[0m_default_original_op\u001b[0m\u001b[0;34m,\u001b[0m\u001b[0;34m\u001b[0m\u001b[0;34m\u001b[0m\u001b[0m\n\u001b[0;32m-> 3569\u001b[0;31m           op_def=op_def)\n\u001b[0m\u001b[1;32m   3570\u001b[0m       \u001b[0mself\u001b[0m\u001b[0;34m.\u001b[0m\u001b[0m_create_op_helper\u001b[0m\u001b[0;34m(\u001b[0m\u001b[0mret\u001b[0m\u001b[0;34m,\u001b[0m \u001b[0mcompute_device\u001b[0m\u001b[0;34m=\u001b[0m\u001b[0mcompute_device\u001b[0m\u001b[0;34m)\u001b[0m\u001b[0;34m\u001b[0m\u001b[0;34m\u001b[0m\u001b[0m\n\u001b[1;32m   3571\u001b[0m     \u001b[0;32mreturn\u001b[0m \u001b[0mret\u001b[0m\u001b[0;34m\u001b[0m\u001b[0;34m\u001b[0m\u001b[0m\n",
            "\u001b[0;32m/usr/local/lib/python3.7/dist-packages/tensorflow/python/framework/ops.py\u001b[0m in \u001b[0;36m__init__\u001b[0;34m(self, node_def, g, inputs, output_types, control_inputs, input_types, original_op, op_def)\u001b[0m\n\u001b[1;32m   2040\u001b[0m         \u001b[0mop_def\u001b[0m \u001b[0;34m=\u001b[0m \u001b[0mself\u001b[0m\u001b[0;34m.\u001b[0m\u001b[0m_graph\u001b[0m\u001b[0;34m.\u001b[0m\u001b[0m_get_op_def\u001b[0m\u001b[0;34m(\u001b[0m\u001b[0mnode_def\u001b[0m\u001b[0;34m.\u001b[0m\u001b[0mop\u001b[0m\u001b[0;34m)\u001b[0m\u001b[0;34m\u001b[0m\u001b[0;34m\u001b[0m\u001b[0m\n\u001b[1;32m   2041\u001b[0m       self._c_op = _create_c_op(self._graph, node_def, inputs,\n\u001b[0;32m-> 2042\u001b[0;31m                                 control_input_ops, op_def)\n\u001b[0m\u001b[1;32m   2043\u001b[0m       \u001b[0mname\u001b[0m \u001b[0;34m=\u001b[0m \u001b[0mcompat\u001b[0m\u001b[0;34m.\u001b[0m\u001b[0mas_str\u001b[0m\u001b[0;34m(\u001b[0m\u001b[0mnode_def\u001b[0m\u001b[0;34m.\u001b[0m\u001b[0mname\u001b[0m\u001b[0;34m)\u001b[0m\u001b[0;34m\u001b[0m\u001b[0;34m\u001b[0m\u001b[0m\n\u001b[1;32m   2044\u001b[0m \u001b[0;34m\u001b[0m\u001b[0m\n",
            "\u001b[0;32m/usr/local/lib/python3.7/dist-packages/tensorflow/python/framework/ops.py\u001b[0m in \u001b[0;36m_create_c_op\u001b[0;34m(graph, node_def, inputs, control_inputs, op_def)\u001b[0m\n\u001b[1;32m   1881\u001b[0m   \u001b[0;32mexcept\u001b[0m \u001b[0merrors\u001b[0m\u001b[0;34m.\u001b[0m\u001b[0mInvalidArgumentError\u001b[0m \u001b[0;32mas\u001b[0m \u001b[0me\u001b[0m\u001b[0;34m:\u001b[0m\u001b[0;34m\u001b[0m\u001b[0;34m\u001b[0m\u001b[0m\n\u001b[1;32m   1882\u001b[0m     \u001b[0;31m# Convert to ValueError for backwards compatibility.\u001b[0m\u001b[0;34m\u001b[0m\u001b[0;34m\u001b[0m\u001b[0;34m\u001b[0m\u001b[0m\n\u001b[0;32m-> 1883\u001b[0;31m     \u001b[0;32mraise\u001b[0m \u001b[0mValueError\u001b[0m\u001b[0;34m(\u001b[0m\u001b[0mstr\u001b[0m\u001b[0;34m(\u001b[0m\u001b[0me\u001b[0m\u001b[0;34m)\u001b[0m\u001b[0;34m)\u001b[0m\u001b[0;34m\u001b[0m\u001b[0;34m\u001b[0m\u001b[0m\n\u001b[0m\u001b[1;32m   1884\u001b[0m \u001b[0;34m\u001b[0m\u001b[0m\n\u001b[1;32m   1885\u001b[0m   \u001b[0;32mreturn\u001b[0m \u001b[0mc_op\u001b[0m\u001b[0;34m\u001b[0m\u001b[0;34m\u001b[0m\u001b[0m\n",
            "\u001b[0;31mValueError\u001b[0m: Negative dimension size caused by subtracting 3 from 1 for '{{node conv2d_3/Conv2D}} = Conv2D[T=DT_FLOAT, data_format=\"NHWC\", dilations=[1, 1, 1, 1], explicit_paddings=[], padding=\"VALID\", strides=[1, 1, 1, 1], use_cudnn_on_gpu=true](Placeholder, conv2d_3/Conv2D/ReadVariableOp)' with input shapes: [?,1,1,128], [3,3,128,128]."
          ]
        }
      ]
    },
    {
      "cell_type": "markdown",
      "metadata": {
        "id": "IhQyiWIh1HQs"
      },
      "source": [
        "# **Avaliar o modelo**"
      ]
    },
    {
      "cell_type": "markdown",
      "metadata": {
        "id": "0G-slWFQ1KwJ"
      },
      "source": [
        "# **Otimizar o modelo**"
      ]
    },
    {
      "cell_type": "code",
      "metadata": {
        "id": "SSXH7txAgG_n"
      },
      "source": [
        ""
      ],
      "execution_count": null,
      "outputs": []
    }
  ]
}