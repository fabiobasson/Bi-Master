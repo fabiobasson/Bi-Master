{
  "nbformat": 4,
  "nbformat_minor": 0,
  "metadata": {
    "colab": {
      "name": "geological-image-similarity.ipynb",
      "provenance": [],
      "authorship_tag": "ABX9TyPmB9WCDYtBh4gbQacMpELI",
      "include_colab_link": true
    },
    "kernelspec": {
      "name": "python3",
      "display_name": "Python 3"
    },
    "language_info": {
      "name": "python"
    },
    "accelerator": "GPU"
  },
  "cells": [
    {
      "cell_type": "markdown",
      "metadata": {
        "id": "view-in-github",
        "colab_type": "text"
      },
      "source": [
        "<a href=\"https://colab.research.google.com/github/fabiobasson/Bi-Master/blob/main/geological_image_similarity.ipynb\" target=\"_parent\"><img src=\"https://colab.research.google.com/assets/colab-badge.svg\" alt=\"Open In Colab\"/></a>"
      ]
    },
    {
      "cell_type": "markdown",
      "metadata": {
        "id": "ek-dpdgUwrpq"
      },
      "source": [
        "# Importações "
      ]
    },
    {
      "cell_type": "code",
      "metadata": {
        "id": "d_JsE0wMwy5m"
      },
      "source": [
        "import os\n",
        "import tensorflow as tf\n",
        "from tensorflow.keras import layers\n",
        "from tensorflow.keras import Model\n",
        "from os import getcwd\n",
        "import zipfile\n",
        "import shutil\n",
        "import numpy as np\n",
        "import glob\n",
        "import random\n",
        "import pandas as pd\n",
        "import matplotlib.pyplot as plt\n",
        "\n",
        "\n",
        "from tensorflow.keras.optimizers import RMSprop, Adam\n",
        "from tensorflow.keras.applications.inception_v3 import InceptionV3\n",
        "from tensorflow.keras.preprocessing.image import ImageDataGenerator\n",
        "\n",
        "from sklearn.metrics import confusion_matrix,accuracy_score\n",
        "from sklearn.model_selection import train_test_split"
      ],
      "execution_count": 19,
      "outputs": []
    },
    {
      "cell_type": "code",
      "metadata": {
        "id": "qB35LCwK1F9Y"
      },
      "source": [
        "!rm -rf geological_similarity"
      ],
      "execution_count": 20,
      "outputs": []
    },
    {
      "cell_type": "markdown",
      "metadata": {
        "id": "WsBJvou07fbF"
      },
      "source": [
        "# **Coleta de dados do Kaglle**"
      ]
    },
    {
      "cell_type": "code",
      "metadata": {
        "colab": {
          "resources": {
            "http://localhost:8080/nbextensions/google.colab/files.js": {
              "data": "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",
              "ok": true,
              "headers": [
                [
                  "content-type",
                  "application/javascript"
                ]
              ],
              "status": 200,
              "status_text": ""
            }
          },
          "base_uri": "https://localhost:8080/",
          "height": 90
        },
        "id": "qPW1Uceu4EkK",
        "outputId": "b7f6fe8d-90a7-4c95-ee4a-3c2d7c4b3c50"
      },
      "source": [
        "from google.colab import files\n",
        "files.upload()"
      ],
      "execution_count": 2,
      "outputs": [
        {
          "output_type": "display_data",
          "data": {
            "text/html": [
              "\n",
              "     <input type=\"file\" id=\"files-0e792b64-69af-437e-aa60-3a1c3daeea5a\" name=\"files[]\" multiple disabled\n",
              "        style=\"border:none\" />\n",
              "     <output id=\"result-0e792b64-69af-437e-aa60-3a1c3daeea5a\">\n",
              "      Upload widget is only available when the cell has been executed in the\n",
              "      current browser session. Please rerun this cell to enable.\n",
              "      </output>\n",
              "      <script src=\"/nbextensions/google.colab/files.js\"></script> "
            ],
            "text/plain": [
              "<IPython.core.display.HTML object>"
            ]
          },
          "metadata": {}
        },
        {
          "output_type": "stream",
          "name": "stdout",
          "text": [
            "Saving kaggle.json to kaggle.json\n"
          ]
        },
        {
          "output_type": "execute_result",
          "data": {
            "text/plain": [
              "{'kaggle.json': b'{\"username\":\"fabiobasson\",\"key\":\"d71cbfdfd23379909173204eac74cf96\"}'}"
            ]
          },
          "metadata": {},
          "execution_count": 2
        }
      ]
    },
    {
      "cell_type": "code",
      "metadata": {
        "id": "SQCTWdML4LFR",
        "colab": {
          "base_uri": "https://localhost:8080/"
        },
        "outputId": "5f5133f8-ed28-4495-f82a-2be8cf8ba5de"
      },
      "source": [
        "!mkdir ~/.kaggle\n",
        "!cp kaggle.json ~/.kaggle/\n",
        "!chmod 600 ~/.kaggle/kaggle.json"
      ],
      "execution_count": 22,
      "outputs": [
        {
          "output_type": "stream",
          "name": "stdout",
          "text": [
            "mkdir: cannot create directory ‘/root/.kaggle’: File exists\n"
          ]
        }
      ]
    },
    {
      "cell_type": "markdown",
      "metadata": {
        "id": "rte0cNVp7kgE"
      },
      "source": [
        "# **###  Download dos dados / descompactando os dados**"
      ]
    },
    {
      "cell_type": "code",
      "metadata": {
        "colab": {
          "base_uri": "https://localhost:8080/"
        },
        "id": "cPWKIkQqHfSv",
        "outputId": "94bb4836-b00f-4dfb-f87f-0c9bba5c9602"
      },
      "source": [
        "!kaggle datasets download tanyadayanand/geological-image-similarity\n",
        "! unzip -qq  geological-image-similarity"
      ],
      "execution_count": 23,
      "outputs": [
        {
          "output_type": "stream",
          "name": "stdout",
          "text": [
            "Downloading geological-image-similarity.zip to /content\n",
            " 60% 20.0M/33.6M [00:00<00:00, 36.2MB/s]\n",
            "100% 33.6M/33.6M [00:00<00:00, 84.5MB/s]\n"
          ]
        }
      ]
    },
    {
      "cell_type": "code",
      "metadata": {
        "colab": {
          "base_uri": "https://localhost:8080/"
        },
        "id": "GvN30SNO4L1f",
        "outputId": "e1dbd42f-a8ea-4e0d-8ea7-9e5b3d4d72ff"
      },
      "source": [
        "#!kaggle datasets download fabiobasson/geological-similarity\n",
        "#! unzip -qq  geological-similarity"
      ],
      "execution_count": null,
      "outputs": [
        {
          "output_type": "stream",
          "name": "stdout",
          "text": [
            "geological-similarity.zip: Skipping, found more recently modified local copy (use --force to force download)\n"
          ]
        }
      ]
    },
    {
      "cell_type": "markdown",
      "metadata": {
        "id": "owY2uo8A7q5j"
      },
      "source": [
        "# ** Criação da estrutura e Dataframe**"
      ]
    },
    {
      "cell_type": "code",
      "metadata": {
        "colab": {
          "base_uri": "https://localhost:8080/"
        },
        "id": "QXSrUDeU4L7J",
        "outputId": "380fb759-5ecc-4c93-b30e-8a51a9a5f024"
      },
      "source": [
        "andesite_dir = glob.glob('geological_similarity/andesite/*.jpg');gneiss_dir = glob.glob('geological_similarity/gneiss/*.jpg')\n",
        "marble_dir = glob.glob('geological_similarity/marble/*.jpg');quartzite_dir = glob.glob('geological_similarity/quartzite/*.jpg')\n",
        "rhyolite_dir = glob.glob('geological_similarity/rhyolite/*.jpg');\n",
        "schist_dir = glob.glob('geological_similarity/schist/*.jpg')\n",
        "print(len(andesite_dir));print(len(gneiss_dir)); print(len(marble_dir)); print(len(quartzite_dir));  print(len(quartzite_dir)); print(len(schist_dir))\n"
      ],
      "execution_count": 24,
      "outputs": [
        {
          "output_type": "stream",
          "name": "stdout",
          "text": [
            "5000\n",
            "5000\n",
            "4998\n",
            "5000\n",
            "5000\n",
            "5000\n"
          ]
        }
      ]
    },
    {
      "cell_type": "code",
      "metadata": {
        "colab": {
          "base_uri": "https://localhost:8080/"
        },
        "id": "_eBw1Jk2EYm2",
        "outputId": "3add83ab-3d0d-4e29-a2b4-1a8f68ed711a"
      },
      "source": [
        "andesite_dir[0:4]"
      ],
      "execution_count": 25,
      "outputs": [
        {
          "output_type": "execute_result",
          "data": {
            "text/plain": [
              "['geological_similarity/andesite/1UHU2.jpg',\n",
              " 'geological_similarity/andesite/6HCS3.jpg',\n",
              " 'geological_similarity/andesite/KJB2I.jpg',\n",
              " 'geological_similarity/andesite/CO36V.jpg']"
            ]
          },
          "metadata": {},
          "execution_count": 25
        }
      ]
    },
    {
      "cell_type": "code",
      "metadata": {
        "id": "O9d3W_LswkS2",
        "colab": {
          "base_uri": "https://localhost:8080/",
          "height": 35
        },
        "outputId": "d8ae72f0-4e5d-45ab-c991-2f5d68282c45"
      },
      "source": [
        "class_names = ['andesite', 'gneiss', 'marbler', 'quartzite', 'rhyolite','schist']\n",
        "class_names[0]"
      ],
      "execution_count": 26,
      "outputs": [
        {
          "output_type": "execute_result",
          "data": {
            "application/vnd.google.colaboratory.intrinsic+json": {
              "type": "string"
            },
            "text/plain": [
              "'andesite'"
            ]
          },
          "metadata": {},
          "execution_count": 26
        }
      ]
    },
    {
      "cell_type": "code",
      "metadata": {
        "colab": {
          "base_uri": "https://localhost:8080/"
        },
        "id": "wBhB6b6xi1xl",
        "outputId": "e8973a6f-9696-4fb1-a363-8242ae15a4ed"
      },
      "source": [
        "andesite_df=[];gneiss_df=[];marble_df=[]\n",
        "quartzite_df=[]\n",
        "rhyolite_df=[]\n",
        "schist_df=[]\n",
        "\n",
        "for i in andesite_dir:\n",
        "    andesite_df.append([i,class_names[0]])\n",
        "for j in gneiss_dir:\n",
        "   gneiss_df.append([j,class_names[1]])\n",
        "for l in marble_dir:\n",
        "    marble_df.append([l,class_names[2]])\n",
        "for m in quartzite_dir:\n",
        "    quartzite_df.append([m,class_names[3]])\n",
        "for n in rhyolite_dir:\n",
        "    rhyolite_df.append([n,class_names[4]])\n",
        "for o in schist_dir:\n",
        "    schist_df.append([o,class_names[5]])\n",
        "   \n",
        "df = andesite_df + gneiss_df + marble_df + quartzite_df + rhyolite_df + schist_df\n",
        "random.shuffle(df)\n",
        "df"
      ],
      "execution_count": 27,
      "outputs": [
        {
          "output_type": "execute_result",
          "data": {
            "text/plain": [
              "[['geological_similarity/marble/4R7PK.jpg', 'marbler'],\n",
              " ['geological_similarity/gneiss/DTU73.jpg', 'gneiss'],\n",
              " ['geological_similarity/andesite/9263J.jpg', 'andesite'],\n",
              " ['geological_similarity/andesite/QDGRD.jpg', 'andesite'],\n",
              " ['geological_similarity/marble/NWQGD.jpg', 'marbler'],\n",
              " ['geological_similarity/schist/DX03Y.jpg', 'schist'],\n",
              " ['geological_similarity/rhyolite/V72XD.jpg', 'rhyolite'],\n",
              " ['geological_similarity/schist/RAZ28.jpg', 'schist'],\n",
              " ['geological_similarity/marble/OZHCX.jpg', 'marbler'],\n",
              " ['geological_similarity/quartzite/6GTIZ.jpg', 'quartzite'],\n",
              " ['geological_similarity/quartzite/2KZED.jpg', 'quartzite'],\n",
              " ['geological_similarity/rhyolite/ZM275.jpg', 'rhyolite'],\n",
              " ['geological_similarity/gneiss/9VDK2.jpg', 'gneiss'],\n",
              " ['geological_similarity/rhyolite/750JQ.jpg', 'rhyolite'],\n",
              " ['geological_similarity/quartzite/VWBS5.jpg', 'quartzite'],\n",
              " ['geological_similarity/gneiss/CFM9J.jpg', 'gneiss'],\n",
              " ['geological_similarity/schist/E3NN0.jpg', 'schist'],\n",
              " ['geological_similarity/marble/F833I.jpg', 'marbler'],\n",
              " ['geological_similarity/quartzite/8FILX.jpg', 'quartzite'],\n",
              " ['geological_similarity/andesite/DPTE6.jpg', 'andesite'],\n",
              " ['geological_similarity/andesite/9K5JP.jpg', 'andesite'],\n",
              " ['geological_similarity/rhyolite/KCX7C.jpg', 'rhyolite'],\n",
              " ['geological_similarity/quartzite/YEFLN.jpg', 'quartzite'],\n",
              " ['geological_similarity/schist/L1UK3.jpg', 'schist'],\n",
              " ['geological_similarity/gneiss/13EAB.jpg', 'gneiss'],\n",
              " ['geological_similarity/quartzite/85EAM.jpg', 'quartzite'],\n",
              " ['geological_similarity/schist/IVG4F.jpg', 'schist'],\n",
              " ['geological_similarity/andesite/YS2FL.jpg', 'andesite'],\n",
              " ['geological_similarity/andesite/M6F7G.jpg', 'andesite'],\n",
              " ['geological_similarity/quartzite/2IJ7M.jpg', 'quartzite'],\n",
              " ['geological_similarity/gneiss/NN1OH.jpg', 'gneiss'],\n",
              " ['geological_similarity/gneiss/ZIL2O.jpg', 'gneiss'],\n",
              " ['geological_similarity/schist/CCXZ0.jpg', 'schist'],\n",
              " ['geological_similarity/marble/JHOYG.jpg', 'marbler'],\n",
              " ['geological_similarity/schist/I0ZWN.jpg', 'schist'],\n",
              " ['geological_similarity/quartzite/SR2CH.jpg', 'quartzite'],\n",
              " ['geological_similarity/schist/VKR0P.jpg', 'schist'],\n",
              " ['geological_similarity/andesite/ZV5DB.jpg', 'andesite'],\n",
              " ['geological_similarity/andesite/9CAZ1.jpg', 'andesite'],\n",
              " ['geological_similarity/andesite/855SL.jpg', 'andesite'],\n",
              " ['geological_similarity/andesite/1INKZ.jpg', 'andesite'],\n",
              " ['geological_similarity/schist/BG1D3.jpg', 'schist'],\n",
              " ['geological_similarity/rhyolite/VZR7Y.jpg', 'rhyolite'],\n",
              " ['geological_similarity/andesite/75SUP.jpg', 'andesite'],\n",
              " ['geological_similarity/schist/JIK3A.jpg', 'schist'],\n",
              " ['geological_similarity/schist/JIDMG.jpg', 'schist'],\n",
              " ['geological_similarity/rhyolite/AOAMW.jpg', 'rhyolite'],\n",
              " ['geological_similarity/gneiss/5THUI.jpg', 'gneiss'],\n",
              " ['geological_similarity/andesite/BR5SM.jpg', 'andesite'],\n",
              " ['geological_similarity/gneiss/Z88BS.jpg', 'gneiss'],\n",
              " ['geological_similarity/quartzite/1TP3W.jpg', 'quartzite'],\n",
              " ['geological_similarity/schist/MAS5M.jpg', 'schist'],\n",
              " ['geological_similarity/andesite/UD36C.jpg', 'andesite'],\n",
              " ['geological_similarity/rhyolite/54H4K.jpg', 'rhyolite'],\n",
              " ['geological_similarity/gneiss/9LTH9.jpg', 'gneiss'],\n",
              " ['geological_similarity/rhyolite/FAEMJ.jpg', 'rhyolite'],\n",
              " ['geological_similarity/andesite/97KXF.jpg', 'andesite'],\n",
              " ['geological_similarity/schist/WJA89.jpg', 'schist'],\n",
              " ['geological_similarity/quartzite/YW7BQ.jpg', 'quartzite'],\n",
              " ['geological_similarity/rhyolite/2Q1SO.jpg', 'rhyolite'],\n",
              " ['geological_similarity/quartzite/QJSHA.jpg', 'quartzite'],\n",
              " ['geological_similarity/rhyolite/YA5XI.jpg', 'rhyolite'],\n",
              " ['geological_similarity/gneiss/HXI46.jpg', 'gneiss'],\n",
              " ['geological_similarity/gneiss/OJNYL.jpg', 'gneiss'],\n",
              " ['geological_similarity/quartzite/NE5V7.jpg', 'quartzite'],\n",
              " ['geological_similarity/gneiss/KH56Y.jpg', 'gneiss'],\n",
              " ['geological_similarity/quartzite/DJO12.jpg', 'quartzite'],\n",
              " ['geological_similarity/gneiss/XEO51.jpg', 'gneiss'],\n",
              " ['geological_similarity/schist/GCGHQ.jpg', 'schist'],\n",
              " ['geological_similarity/andesite/MOJPF.jpg', 'andesite'],\n",
              " ['geological_similarity/marble/YNGH6.jpg', 'marbler'],\n",
              " ['geological_similarity/gneiss/64MRA.jpg', 'gneiss'],\n",
              " ['geological_similarity/rhyolite/V75V2.jpg', 'rhyolite'],\n",
              " ['geological_similarity/marble/RI0QT.jpg', 'marbler'],\n",
              " ['geological_similarity/rhyolite/E0CUV.jpg', 'rhyolite'],\n",
              " ['geological_similarity/andesite/TLKQS.jpg', 'andesite'],\n",
              " ['geological_similarity/quartzite/Q555I.jpg', 'quartzite'],\n",
              " ['geological_similarity/andesite/Z2EAZ.jpg', 'andesite'],\n",
              " ['geological_similarity/marble/KN1IK.jpg', 'marbler'],\n",
              " ['geological_similarity/gneiss/6QTAQ.jpg', 'gneiss'],\n",
              " ['geological_similarity/rhyolite/4UAYT.jpg', 'rhyolite'],\n",
              " ['geological_similarity/andesite/8T2X6.jpg', 'andesite'],\n",
              " ['geological_similarity/quartzite/QIHQ6.jpg', 'quartzite'],\n",
              " ['geological_similarity/schist/1DE8I.jpg', 'schist'],\n",
              " ['geological_similarity/rhyolite/FQKDZ.jpg', 'rhyolite'],\n",
              " ['geological_similarity/schist/W1TAI.jpg', 'schist'],\n",
              " ['geological_similarity/quartzite/377Z0.jpg', 'quartzite'],\n",
              " ['geological_similarity/andesite/CMQPU.jpg', 'andesite'],\n",
              " ['geological_similarity/marble/NGV66.jpg', 'marbler'],\n",
              " ['geological_similarity/andesite/XNTWX.jpg', 'andesite'],\n",
              " ['geological_similarity/andesite/E28Q4.jpg', 'andesite'],\n",
              " ['geological_similarity/schist/0M8WX.jpg', 'schist'],\n",
              " ['geological_similarity/rhyolite/LHHML.jpg', 'rhyolite'],\n",
              " ['geological_similarity/schist/DW8RV.jpg', 'schist'],\n",
              " ['geological_similarity/schist/Y2EYD.jpg', 'schist'],\n",
              " ['geological_similarity/rhyolite/ILMGU.jpg', 'rhyolite'],\n",
              " ['geological_similarity/andesite/J7FX0.jpg', 'andesite'],\n",
              " ['geological_similarity/quartzite/BMGJR.jpg', 'quartzite'],\n",
              " ['geological_similarity/schist/HN9MP.jpg', 'schist'],\n",
              " ['geological_similarity/gneiss/1QL4U.jpg', 'gneiss'],\n",
              " ['geological_similarity/schist/BDIH5.jpg', 'schist'],\n",
              " ['geological_similarity/schist/VUSQG.jpg', 'schist'],\n",
              " ['geological_similarity/schist/X0TZ6.jpg', 'schist'],\n",
              " ['geological_similarity/quartzite/U2OT4.jpg', 'quartzite'],\n",
              " ['geological_similarity/quartzite/4BEQR.jpg', 'quartzite'],\n",
              " ['geological_similarity/marble/LL53D.jpg', 'marbler'],\n",
              " ['geological_similarity/quartzite/ZH1QA.jpg', 'quartzite'],\n",
              " ['geological_similarity/schist/I0Q1J.jpg', 'schist'],\n",
              " ['geological_similarity/marble/BKIIZ.jpg', 'marbler'],\n",
              " ['geological_similarity/marble/8D1SJ.jpg', 'marbler'],\n",
              " ['geological_similarity/rhyolite/5C7G4.jpg', 'rhyolite'],\n",
              " ['geological_similarity/rhyolite/3WXPM.jpg', 'rhyolite'],\n",
              " ['geological_similarity/schist/7ENL6.jpg', 'schist'],\n",
              " ['geological_similarity/quartzite/8QJIJ.jpg', 'quartzite'],\n",
              " ['geological_similarity/andesite/EM6S8.jpg', 'andesite'],\n",
              " ['geological_similarity/rhyolite/LWVE8.jpg', 'rhyolite'],\n",
              " ['geological_similarity/quartzite/LIBCK.jpg', 'quartzite'],\n",
              " ['geological_similarity/marble/II75V.jpg', 'marbler'],\n",
              " ['geological_similarity/quartzite/13E56.jpg', 'quartzite'],\n",
              " ['geological_similarity/marble/9I0EE.jpg', 'marbler'],\n",
              " ['geological_similarity/quartzite/MH9NA.jpg', 'quartzite'],\n",
              " ['geological_similarity/schist/T86U8.jpg', 'schist'],\n",
              " ['geological_similarity/marble/QZ991.jpg', 'marbler'],\n",
              " ['geological_similarity/quartzite/JJLDT.jpg', 'quartzite'],\n",
              " ['geological_similarity/gneiss/B14IT.jpg', 'gneiss'],\n",
              " ['geological_similarity/rhyolite/AUNJK.jpg', 'rhyolite'],\n",
              " ['geological_similarity/quartzite/U38O4.jpg', 'quartzite'],\n",
              " ['geological_similarity/andesite/F6Q3U.jpg', 'andesite'],\n",
              " ['geological_similarity/gneiss/4ZGO5.jpg', 'gneiss'],\n",
              " ['geological_similarity/rhyolite/8S3BK.jpg', 'rhyolite'],\n",
              " ['geological_similarity/quartzite/R1GLP.jpg', 'quartzite'],\n",
              " ['geological_similarity/marble/26DUB.jpg', 'marbler'],\n",
              " ['geological_similarity/gneiss/V5KX1.jpg', 'gneiss'],\n",
              " ['geological_similarity/rhyolite/YAX4U.jpg', 'rhyolite'],\n",
              " ['geological_similarity/quartzite/U30TM.jpg', 'quartzite'],\n",
              " ['geological_similarity/quartzite/7ZT7Z.jpg', 'quartzite'],\n",
              " ['geological_similarity/andesite/PFRL0.jpg', 'andesite'],\n",
              " ['geological_similarity/rhyolite/EH4XP.jpg', 'rhyolite'],\n",
              " ['geological_similarity/gneiss/00WK9.jpg', 'gneiss'],\n",
              " ['geological_similarity/rhyolite/I89IZ.jpg', 'rhyolite'],\n",
              " ['geological_similarity/gneiss/MY7ZV.jpg', 'gneiss'],\n",
              " ['geological_similarity/quartzite/N6GXA.jpg', 'quartzite'],\n",
              " ['geological_similarity/schist/DLF82.jpg', 'schist'],\n",
              " ['geological_similarity/gneiss/5INFE.jpg', 'gneiss'],\n",
              " ['geological_similarity/rhyolite/I082T.jpg', 'rhyolite'],\n",
              " ['geological_similarity/marble/R57FO.jpg', 'marbler'],\n",
              " ['geological_similarity/marble/02AO1.jpg', 'marbler'],\n",
              " ['geological_similarity/rhyolite/053VY.jpg', 'rhyolite'],\n",
              " ['geological_similarity/rhyolite/KC2PR.jpg', 'rhyolite'],\n",
              " ['geological_similarity/marble/YNQEB.jpg', 'marbler'],\n",
              " ['geological_similarity/gneiss/1XHPF.jpg', 'gneiss'],\n",
              " ['geological_similarity/quartzite/RFA38.jpg', 'quartzite'],\n",
              " ['geological_similarity/quartzite/CNWNM.jpg', 'quartzite'],\n",
              " ['geological_similarity/andesite/COG1H.jpg', 'andesite'],\n",
              " ['geological_similarity/gneiss/6EQGA.jpg', 'gneiss'],\n",
              " ['geological_similarity/andesite/7B2F0.jpg', 'andesite'],\n",
              " ['geological_similarity/gneiss/PRVZX.jpg', 'gneiss'],\n",
              " ['geological_similarity/marble/6JWIL.jpg', 'marbler'],\n",
              " ['geological_similarity/andesite/KEKJ4.jpg', 'andesite'],\n",
              " ['geological_similarity/gneiss/TD52O.jpg', 'gneiss'],\n",
              " ['geological_similarity/quartzite/VBIH1.jpg', 'quartzite'],\n",
              " ['geological_similarity/rhyolite/DRY6P.jpg', 'rhyolite'],\n",
              " ['geological_similarity/marble/J87BO.jpg', 'marbler'],\n",
              " ['geological_similarity/rhyolite/3WHTU.jpg', 'rhyolite'],\n",
              " ['geological_similarity/schist/NSVAP.jpg', 'schist'],\n",
              " ['geological_similarity/andesite/A9N6Y.jpg', 'andesite'],\n",
              " ['geological_similarity/schist/ABCTX.jpg', 'schist'],\n",
              " ['geological_similarity/gneiss/NXEKQ.jpg', 'gneiss'],\n",
              " ['geological_similarity/gneiss/KFDUI.jpg', 'gneiss'],\n",
              " ['geological_similarity/rhyolite/HMI4A.jpg', 'rhyolite'],\n",
              " ['geological_similarity/andesite/KOY2X.jpg', 'andesite'],\n",
              " ['geological_similarity/schist/GSTX7.jpg', 'schist'],\n",
              " ['geological_similarity/schist/PDDK6.jpg', 'schist'],\n",
              " ['geological_similarity/quartzite/I8SBO.jpg', 'quartzite'],\n",
              " ['geological_similarity/andesite/TPG3V.jpg', 'andesite'],\n",
              " ['geological_similarity/rhyolite/EDYQP.jpg', 'rhyolite'],\n",
              " ['geological_similarity/quartzite/I3GXM.jpg', 'quartzite'],\n",
              " ['geological_similarity/gneiss/7HH95.jpg', 'gneiss'],\n",
              " ['geological_similarity/quartzite/LQVTN.jpg', 'quartzite'],\n",
              " ['geological_similarity/rhyolite/318U8.jpg', 'rhyolite'],\n",
              " ['geological_similarity/marble/LK8XG.jpg', 'marbler'],\n",
              " ['geological_similarity/marble/50HX5.jpg', 'marbler'],\n",
              " ['geological_similarity/quartzite/SSXUY.jpg', 'quartzite'],\n",
              " ['geological_similarity/rhyolite/NMYV1.jpg', 'rhyolite'],\n",
              " ['geological_similarity/schist/H7HVI.jpg', 'schist'],\n",
              " ['geological_similarity/marble/Z0K43.jpg', 'marbler'],\n",
              " ['geological_similarity/schist/Q3YO8.jpg', 'schist'],\n",
              " ['geological_similarity/marble/MWTU9.jpg', 'marbler'],\n",
              " ['geological_similarity/gneiss/DEOJ7.jpg', 'gneiss'],\n",
              " ['geological_similarity/marble/908N2.jpg', 'marbler'],\n",
              " ['geological_similarity/quartzite/T3W9P.jpg', 'quartzite'],\n",
              " ['geological_similarity/schist/OBA7N.jpg', 'schist'],\n",
              " ['geological_similarity/andesite/LQJJL.jpg', 'andesite'],\n",
              " ['geological_similarity/marble/27OTR.jpg', 'marbler'],\n",
              " ['geological_similarity/quartzite/F928D.jpg', 'quartzite'],\n",
              " ['geological_similarity/marble/TOYYM.jpg', 'marbler'],\n",
              " ['geological_similarity/quartzite/HJTUI.jpg', 'quartzite'],\n",
              " ['geological_similarity/marble/9G7TD.jpg', 'marbler'],\n",
              " ['geological_similarity/marble/9QWOH.jpg', 'marbler'],\n",
              " ['geological_similarity/marble/EBE1S.jpg', 'marbler'],\n",
              " ['geological_similarity/andesite/PV7L1.jpg', 'andesite'],\n",
              " ['geological_similarity/quartzite/Q9OEM.jpg', 'quartzite'],\n",
              " ['geological_similarity/gneiss/S084E.jpg', 'gneiss'],\n",
              " ['geological_similarity/gneiss/KKOAE.jpg', 'gneiss'],\n",
              " ['geological_similarity/gneiss/C78SK.jpg', 'gneiss'],\n",
              " ['geological_similarity/andesite/EJQIC.jpg', 'andesite'],\n",
              " ['geological_similarity/gneiss/SHN3G.jpg', 'gneiss'],\n",
              " ['geological_similarity/andesite/B8YYD.jpg', 'andesite'],\n",
              " ['geological_similarity/rhyolite/L2B1Q.jpg', 'rhyolite'],\n",
              " ['geological_similarity/quartzite/8TJ5X.jpg', 'quartzite'],\n",
              " ['geological_similarity/gneiss/7K6YM.jpg', 'gneiss'],\n",
              " ['geological_similarity/rhyolite/DLZAK.jpg', 'rhyolite'],\n",
              " ['geological_similarity/quartzite/83MIE.jpg', 'quartzite'],\n",
              " ['geological_similarity/gneiss/K5PZU.jpg', 'gneiss'],\n",
              " ['geological_similarity/rhyolite/28RTC.jpg', 'rhyolite'],\n",
              " ['geological_similarity/gneiss/ZJAE4.jpg', 'gneiss'],\n",
              " ['geological_similarity/andesite/UA9FP.jpg', 'andesite'],\n",
              " ['geological_similarity/schist/574X3.jpg', 'schist'],\n",
              " ['geological_similarity/gneiss/JXREO.jpg', 'gneiss'],\n",
              " ['geological_similarity/quartzite/779K7.jpg', 'quartzite'],\n",
              " ['geological_similarity/schist/A0G7V.jpg', 'schist'],\n",
              " ['geological_similarity/andesite/GXV8Y.jpg', 'andesite'],\n",
              " ['geological_similarity/gneiss/5XDIS.jpg', 'gneiss'],\n",
              " ['geological_similarity/marble/OZOB6.jpg', 'marbler'],\n",
              " ['geological_similarity/quartzite/05HTO.jpg', 'quartzite'],\n",
              " ['geological_similarity/andesite/U42KM.jpg', 'andesite'],\n",
              " ['geological_similarity/quartzite/R72NF.jpg', 'quartzite'],\n",
              " ['geological_similarity/gneiss/VBC6S.jpg', 'gneiss'],\n",
              " ['geological_similarity/gneiss/SLG58.jpg', 'gneiss'],\n",
              " ['geological_similarity/andesite/QDPIP.jpg', 'andesite'],\n",
              " ['geological_similarity/schist/CDHQZ.jpg', 'schist'],\n",
              " ['geological_similarity/rhyolite/ZZOBG.jpg', 'rhyolite'],\n",
              " ['geological_similarity/marble/CXJS3.jpg', 'marbler'],\n",
              " ['geological_similarity/quartzite/H16XO.jpg', 'quartzite'],\n",
              " ['geological_similarity/gneiss/K0NRE.jpg', 'gneiss'],\n",
              " ['geological_similarity/quartzite/GP2UP.jpg', 'quartzite'],\n",
              " ['geological_similarity/gneiss/074Z0.jpg', 'gneiss'],\n",
              " ['geological_similarity/schist/KPBMD.jpg', 'schist'],\n",
              " ['geological_similarity/rhyolite/JYPYT.jpg', 'rhyolite'],\n",
              " ['geological_similarity/rhyolite/58FJD.jpg', 'rhyolite'],\n",
              " ['geological_similarity/quartzite/LDAAO.jpg', 'quartzite'],\n",
              " ['geological_similarity/gneiss/TV3AB.jpg', 'gneiss'],\n",
              " ['geological_similarity/marble/FZJS1.jpg', 'marbler'],\n",
              " ['geological_similarity/schist/X3OOI.jpg', 'schist'],\n",
              " ['geological_similarity/quartzite/UXOT6.jpg', 'quartzite'],\n",
              " ['geological_similarity/rhyolite/7MKZC.jpg', 'rhyolite'],\n",
              " ['geological_similarity/gneiss/PYBSV.jpg', 'gneiss'],\n",
              " ['geological_similarity/rhyolite/4OOLK.jpg', 'rhyolite'],\n",
              " ['geological_similarity/rhyolite/Q9EA1.jpg', 'rhyolite'],\n",
              " ['geological_similarity/rhyolite/LE2F3.jpg', 'rhyolite'],\n",
              " ['geological_similarity/quartzite/VMDVI.jpg', 'quartzite'],\n",
              " ['geological_similarity/andesite/GTN0W.jpg', 'andesite'],\n",
              " ['geological_similarity/gneiss/Q5PKS.jpg', 'gneiss'],\n",
              " ['geological_similarity/marble/I1MP2.jpg', 'marbler'],\n",
              " ['geological_similarity/gneiss/NPNCS.jpg', 'gneiss'],\n",
              " ['geological_similarity/schist/XQ3FH.jpg', 'schist'],\n",
              " ['geological_similarity/gneiss/LD13D.jpg', 'gneiss'],\n",
              " ['geological_similarity/rhyolite/V1AF1.jpg', 'rhyolite'],\n",
              " ['geological_similarity/quartzite/0RDJU.jpg', 'quartzite'],\n",
              " ['geological_similarity/rhyolite/NEQGX.jpg', 'rhyolite'],\n",
              " ['geological_similarity/marble/ATTTP.jpg', 'marbler'],\n",
              " ['geological_similarity/andesite/R2FTV.jpg', 'andesite'],\n",
              " ['geological_similarity/quartzite/IRNI5.jpg', 'quartzite'],\n",
              " ['geological_similarity/gneiss/USRTQ.jpg', 'gneiss'],\n",
              " ['geological_similarity/schist/EMLW2.jpg', 'schist'],\n",
              " ['geological_similarity/marble/ZWLA6.jpg', 'marbler'],\n",
              " ['geological_similarity/marble/VMSVH.jpg', 'marbler'],\n",
              " ['geological_similarity/gneiss/LMYH2.jpg', 'gneiss'],\n",
              " ['geological_similarity/gneiss/URBU0.jpg', 'gneiss'],\n",
              " ['geological_similarity/quartzite/4J0YR.jpg', 'quartzite'],\n",
              " ['geological_similarity/marble/3XDBB.jpg', 'marbler'],\n",
              " ['geological_similarity/marble/ZBNXJ.jpg', 'marbler'],\n",
              " ['geological_similarity/quartzite/A3EY5.jpg', 'quartzite'],\n",
              " ['geological_similarity/gneiss/D85I5.jpg', 'gneiss'],\n",
              " ['geological_similarity/marble/PHELQ.jpg', 'marbler'],\n",
              " ['geological_similarity/gneiss/EF8RI.jpg', 'gneiss'],\n",
              " ['geological_similarity/marble/J7EYJ.jpg', 'marbler'],\n",
              " ['geological_similarity/rhyolite/L0VDF.jpg', 'rhyolite'],\n",
              " ['geological_similarity/andesite/968G7.jpg', 'andesite'],\n",
              " ['geological_similarity/marble/VDH1B.jpg', 'marbler'],\n",
              " ['geological_similarity/marble/YYAJ0.jpg', 'marbler'],\n",
              " ['geological_similarity/gneiss/BD2EJ.jpg', 'gneiss'],\n",
              " ['geological_similarity/marble/PSAHY.jpg', 'marbler'],\n",
              " ['geological_similarity/quartzite/M19X0.jpg', 'quartzite'],\n",
              " ['geological_similarity/schist/XTNYF.jpg', 'schist'],\n",
              " ['geological_similarity/gneiss/CP4EW.jpg', 'gneiss'],\n",
              " ['geological_similarity/andesite/YWE0X.jpg', 'andesite'],\n",
              " ['geological_similarity/schist/23YEE.jpg', 'schist'],\n",
              " ['geological_similarity/rhyolite/R1XWJ.jpg', 'rhyolite'],\n",
              " ['geological_similarity/gneiss/ZTJ8T.jpg', 'gneiss'],\n",
              " ['geological_similarity/rhyolite/AWXG6.jpg', 'rhyolite'],\n",
              " ['geological_similarity/gneiss/S2XLQ.jpg', 'gneiss'],\n",
              " ['geological_similarity/gneiss/IHQ59.jpg', 'gneiss'],\n",
              " ['geological_similarity/andesite/6MUEW.jpg', 'andesite'],\n",
              " ['geological_similarity/quartzite/972FU.jpg', 'quartzite'],\n",
              " ['geological_similarity/gneiss/YNOQP.jpg', 'gneiss'],\n",
              " ['geological_similarity/rhyolite/9ZEUT.jpg', 'rhyolite'],\n",
              " ['geological_similarity/rhyolite/AKMAN.jpg', 'rhyolite'],\n",
              " ['geological_similarity/gneiss/R4DK9.jpg', 'gneiss'],\n",
              " ['geological_similarity/andesite/EO48A.jpg', 'andesite'],\n",
              " ['geological_similarity/rhyolite/DFSED.jpg', 'rhyolite'],\n",
              " ['geological_similarity/andesite/20WXP.jpg', 'andesite'],\n",
              " ['geological_similarity/rhyolite/WG03D.jpg', 'rhyolite'],\n",
              " ['geological_similarity/gneiss/6V8RO.jpg', 'gneiss'],\n",
              " ['geological_similarity/gneiss/6I6BK.jpg', 'gneiss'],\n",
              " ['geological_similarity/marble/N438T.jpg', 'marbler'],\n",
              " ['geological_similarity/andesite/E1YPD.jpg', 'andesite'],\n",
              " ['geological_similarity/schist/AAPOP.jpg', 'schist'],\n",
              " ['geological_similarity/schist/RW83X.jpg', 'schist'],\n",
              " ['geological_similarity/quartzite/1659G.jpg', 'quartzite'],\n",
              " ['geological_similarity/marble/WOKS3.jpg', 'marbler'],\n",
              " ['geological_similarity/schist/KFRGI.jpg', 'schist'],\n",
              " ['geological_similarity/andesite/N4GXV.jpg', 'andesite'],\n",
              " ['geological_similarity/gneiss/PAYEM.jpg', 'gneiss'],\n",
              " ['geological_similarity/marble/PMPCN.jpg', 'marbler'],\n",
              " ['geological_similarity/marble/348DX.jpg', 'marbler'],\n",
              " ['geological_similarity/schist/UM3I8.jpg', 'schist'],\n",
              " ['geological_similarity/gneiss/B74ZD.jpg', 'gneiss'],\n",
              " ['geological_similarity/andesite/B7VKD.jpg', 'andesite'],\n",
              " ['geological_similarity/gneiss/P2K5C.jpg', 'gneiss'],\n",
              " ['geological_similarity/schist/VPVC8.jpg', 'schist'],\n",
              " ['geological_similarity/schist/IJJZG.jpg', 'schist'],\n",
              " ['geological_similarity/quartzite/J5P6G.jpg', 'quartzite'],\n",
              " ['geological_similarity/schist/AWL0X.jpg', 'schist'],\n",
              " ['geological_similarity/marble/3YVZY.jpg', 'marbler'],\n",
              " ['geological_similarity/marble/IBMZN.jpg', 'marbler'],\n",
              " ['geological_similarity/rhyolite/WP5AO.jpg', 'rhyolite'],\n",
              " ['geological_similarity/rhyolite/YC54I.jpg', 'rhyolite'],\n",
              " ['geological_similarity/quartzite/MPKD7.jpg', 'quartzite'],\n",
              " ['geological_similarity/quartzite/FB14S.jpg', 'quartzite'],\n",
              " ['geological_similarity/andesite/K2U19.jpg', 'andesite'],\n",
              " ['geological_similarity/gneiss/V0AFC.jpg', 'gneiss'],\n",
              " ['geological_similarity/gneiss/HFDRI.jpg', 'gneiss'],\n",
              " ['geological_similarity/gneiss/B36RB.jpg', 'gneiss'],\n",
              " ['geological_similarity/rhyolite/9A96G.jpg', 'rhyolite'],\n",
              " ['geological_similarity/marble/1B6ME.jpg', 'marbler'],\n",
              " ['geological_similarity/quartzite/GSZG5.jpg', 'quartzite'],\n",
              " ['geological_similarity/rhyolite/6SD9P.jpg', 'rhyolite'],\n",
              " ['geological_similarity/quartzite/KAUEG.jpg', 'quartzite'],\n",
              " ['geological_similarity/gneiss/JQK0S.jpg', 'gneiss'],\n",
              " ['geological_similarity/schist/TDCQF.jpg', 'schist'],\n",
              " ['geological_similarity/marble/33QKC.jpg', 'marbler'],\n",
              " ['geological_similarity/quartzite/YN0FA.jpg', 'quartzite'],\n",
              " ['geological_similarity/gneiss/052KC.jpg', 'gneiss'],\n",
              " ['geological_similarity/rhyolite/T6M4K.jpg', 'rhyolite'],\n",
              " ['geological_similarity/marble/178OC.jpg', 'marbler'],\n",
              " ['geological_similarity/gneiss/S437B.jpg', 'gneiss'],\n",
              " ['geological_similarity/quartzite/BMAAQ.jpg', 'quartzite'],\n",
              " ['geological_similarity/andesite/XNV41.jpg', 'andesite'],\n",
              " ['geological_similarity/quartzite/PVJFK.jpg', 'quartzite'],\n",
              " ['geological_similarity/quartzite/1P72R.jpg', 'quartzite'],\n",
              " ['geological_similarity/marble/Y5QUW.jpg', 'marbler'],\n",
              " ['geological_similarity/schist/YGWMC.jpg', 'schist'],\n",
              " ['geological_similarity/quartzite/7FHDK.jpg', 'quartzite'],\n",
              " ['geological_similarity/gneiss/QI49E.jpg', 'gneiss'],\n",
              " ['geological_similarity/quartzite/V77KG.jpg', 'quartzite'],\n",
              " ['geological_similarity/andesite/8HTUH.jpg', 'andesite'],\n",
              " ['geological_similarity/rhyolite/CDSAL.jpg', 'rhyolite'],\n",
              " ['geological_similarity/gneiss/EAR5O.jpg', 'gneiss'],\n",
              " ['geological_similarity/andesite/SINPY.jpg', 'andesite'],\n",
              " ['geological_similarity/gneiss/MWP4T.jpg', 'gneiss'],\n",
              " ['geological_similarity/gneiss/MSVK6.jpg', 'gneiss'],\n",
              " ['geological_similarity/schist/TRQ20.jpg', 'schist'],\n",
              " ['geological_similarity/gneiss/YHXEI.jpg', 'gneiss'],\n",
              " ['geological_similarity/schist/HIQ6F.jpg', 'schist'],\n",
              " ['geological_similarity/andesite/TCFLZ.jpg', 'andesite'],\n",
              " ['geological_similarity/marble/ORK9E.jpg', 'marbler'],\n",
              " ['geological_similarity/marble/Y25VZ.jpg', 'marbler'],\n",
              " ['geological_similarity/gneiss/57Z9R.jpg', 'gneiss'],\n",
              " ['geological_similarity/quartzite/NC6EG.jpg', 'quartzite'],\n",
              " ['geological_similarity/rhyolite/7EJAL.jpg', 'rhyolite'],\n",
              " ['geological_similarity/quartzite/Z73PP.jpg', 'quartzite'],\n",
              " ['geological_similarity/marble/EOE12.jpg', 'marbler'],\n",
              " ['geological_similarity/marble/98W65.jpg', 'marbler'],\n",
              " ['geological_similarity/rhyolite/74A9G.jpg', 'rhyolite'],\n",
              " ['geological_similarity/gneiss/15RQN.jpg', 'gneiss'],\n",
              " ['geological_similarity/quartzite/F7I8G.jpg', 'quartzite'],\n",
              " ['geological_similarity/schist/0EBNR.jpg', 'schist'],\n",
              " ['geological_similarity/gneiss/81H21.jpg', 'gneiss'],\n",
              " ['geological_similarity/quartzite/XVL6S.jpg', 'quartzite'],\n",
              " ['geological_similarity/marble/HNDDC.jpg', 'marbler'],\n",
              " ['geological_similarity/gneiss/3EPAH.jpg', 'gneiss'],\n",
              " ['geological_similarity/gneiss/EI8TJ.jpg', 'gneiss'],\n",
              " ['geological_similarity/schist/GJ9FJ.jpg', 'schist'],\n",
              " ['geological_similarity/andesite/T2MFN.jpg', 'andesite'],\n",
              " ['geological_similarity/gneiss/E5KXD.jpg', 'gneiss'],\n",
              " ['geological_similarity/marble/PK6P4.jpg', 'marbler'],\n",
              " ['geological_similarity/marble/M0DG7.jpg', 'marbler'],\n",
              " ['geological_similarity/rhyolite/3J2MJ.jpg', 'rhyolite'],\n",
              " ['geological_similarity/andesite/XC0AE.jpg', 'andesite'],\n",
              " ['geological_similarity/quartzite/T4PF9.jpg', 'quartzite'],\n",
              " ['geological_similarity/quartzite/YZCL9.jpg', 'quartzite'],\n",
              " ['geological_similarity/marble/Z90CF.jpg', 'marbler'],\n",
              " ['geological_similarity/quartzite/B1MTN.jpg', 'quartzite'],\n",
              " ['geological_similarity/marble/59OQ3.jpg', 'marbler'],\n",
              " ['geological_similarity/andesite/60QYY.jpg', 'andesite'],\n",
              " ['geological_similarity/rhyolite/1O5OP.jpg', 'rhyolite'],\n",
              " ['geological_similarity/rhyolite/DYWTN.jpg', 'rhyolite'],\n",
              " ['geological_similarity/andesite/9028L.jpg', 'andesite'],\n",
              " ['geological_similarity/andesite/O8VLI.jpg', 'andesite'],\n",
              " ['geological_similarity/quartzite/ZI9N1.jpg', 'quartzite'],\n",
              " ['geological_similarity/quartzite/BC6FH.jpg', 'quartzite'],\n",
              " ['geological_similarity/andesite/V60EE.jpg', 'andesite'],\n",
              " ['geological_similarity/rhyolite/MQHGH.jpg', 'rhyolite'],\n",
              " ['geological_similarity/quartzite/NDLTP.jpg', 'quartzite'],\n",
              " ['geological_similarity/gneiss/W5M2W.jpg', 'gneiss'],\n",
              " ['geological_similarity/marble/PQMPR.jpg', 'marbler'],\n",
              " ['geological_similarity/rhyolite/JZTLK.jpg', 'rhyolite'],\n",
              " ['geological_similarity/gneiss/L3QO5.jpg', 'gneiss'],\n",
              " ['geological_similarity/schist/SDUNN.jpg', 'schist'],\n",
              " ['geological_similarity/gneiss/DUGNA.jpg', 'gneiss'],\n",
              " ['geological_similarity/andesite/DDZY2.jpg', 'andesite'],\n",
              " ['geological_similarity/gneiss/SU6AO.jpg', 'gneiss'],\n",
              " ['geological_similarity/gneiss/54W2D.jpg', 'gneiss'],\n",
              " ['geological_similarity/andesite/2HPY5.jpg', 'andesite'],\n",
              " ['geological_similarity/schist/SUK5N.jpg', 'schist'],\n",
              " ['geological_similarity/quartzite/WNMM1.jpg', 'quartzite'],\n",
              " ['geological_similarity/marble/1LMQJ.jpg', 'marbler'],\n",
              " ['geological_similarity/andesite/LX5QI.jpg', 'andesite'],\n",
              " ['geological_similarity/gneiss/240CL.jpg', 'gneiss'],\n",
              " ['geological_similarity/andesite/83K14.jpg', 'andesite'],\n",
              " ['geological_similarity/andesite/VFU9Y.jpg', 'andesite'],\n",
              " ['geological_similarity/schist/QD2SS.jpg', 'schist'],\n",
              " ['geological_similarity/marble/D93H3.jpg', 'marbler'],\n",
              " ['geological_similarity/andesite/JSW1K.jpg', 'andesite'],\n",
              " ['geological_similarity/andesite/TXZJ6.jpg', 'andesite'],\n",
              " ['geological_similarity/gneiss/X7FOI.jpg', 'gneiss'],\n",
              " ['geological_similarity/marble/8V177.jpg', 'marbler'],\n",
              " ['geological_similarity/gneiss/5ICC8.jpg', 'gneiss'],\n",
              " ['geological_similarity/andesite/SJ3GF.jpg', 'andesite'],\n",
              " ['geological_similarity/schist/0TO4G.jpg', 'schist'],\n",
              " ['geological_similarity/gneiss/J0PAY.jpg', 'gneiss'],\n",
              " ['geological_similarity/marble/XOCTQ.jpg', 'marbler'],\n",
              " ['geological_similarity/quartzite/GT8B7.jpg', 'quartzite'],\n",
              " ['geological_similarity/gneiss/YER3L.jpg', 'gneiss'],\n",
              " ['geological_similarity/schist/KHMAO.jpg', 'schist'],\n",
              " ['geological_similarity/rhyolite/3K66A.jpg', 'rhyolite'],\n",
              " ['geological_similarity/gneiss/RZY0U.jpg', 'gneiss'],\n",
              " ['geological_similarity/rhyolite/DRTGT.jpg', 'rhyolite'],\n",
              " ['geological_similarity/gneiss/64QIV.jpg', 'gneiss'],\n",
              " ['geological_similarity/rhyolite/I9GHF.jpg', 'rhyolite'],\n",
              " ['geological_similarity/quartzite/9ITMK.jpg', 'quartzite'],\n",
              " ['geological_similarity/gneiss/5GNI5.jpg', 'gneiss'],\n",
              " ['geological_similarity/schist/0B9U9.jpg', 'schist'],\n",
              " ['geological_similarity/gneiss/FU7KW.jpg', 'gneiss'],\n",
              " ['geological_similarity/gneiss/CCUYW.jpg', 'gneiss'],\n",
              " ['geological_similarity/rhyolite/QT6H3.jpg', 'rhyolite'],\n",
              " ['geological_similarity/rhyolite/GFFDE.jpg', 'rhyolite'],\n",
              " ['geological_similarity/andesite/0SD5F.jpg', 'andesite'],\n",
              " ['geological_similarity/marble/Y17QZ.jpg', 'marbler'],\n",
              " ['geological_similarity/quartzite/F5NW8.jpg', 'quartzite'],\n",
              " ['geological_similarity/quartzite/6XH1H.jpg', 'quartzite'],\n",
              " ['geological_similarity/quartzite/BKJ72.jpg', 'quartzite'],\n",
              " ['geological_similarity/quartzite/9DWCX.jpg', 'quartzite'],\n",
              " ['geological_similarity/schist/MIY4H.jpg', 'schist'],\n",
              " ['geological_similarity/gneiss/GJB5U.jpg', 'gneiss'],\n",
              " ['geological_similarity/andesite/AJAAI.jpg', 'andesite'],\n",
              " ['geological_similarity/andesite/CA1AE.jpg', 'andesite'],\n",
              " ['geological_similarity/marble/KHR4Q.jpg', 'marbler'],\n",
              " ['geological_similarity/gneiss/GNIML.jpg', 'gneiss'],\n",
              " ['geological_similarity/andesite/9OG6G.jpg', 'andesite'],\n",
              " ['geological_similarity/gneiss/K8RH7.jpg', 'gneiss'],\n",
              " ['geological_similarity/schist/NCQRY.jpg', 'schist'],\n",
              " ['geological_similarity/andesite/WWMGY.jpg', 'andesite'],\n",
              " ['geological_similarity/gneiss/MCURY.jpg', 'gneiss'],\n",
              " ['geological_similarity/schist/1Y05I.jpg', 'schist'],\n",
              " ['geological_similarity/schist/66T07.jpg', 'schist'],\n",
              " ['geological_similarity/schist/NN8CF.jpg', 'schist'],\n",
              " ['geological_similarity/schist/LN3VM.jpg', 'schist'],\n",
              " ['geological_similarity/marble/ZB4A8.jpg', 'marbler'],\n",
              " ['geological_similarity/rhyolite/TVFZR.jpg', 'rhyolite'],\n",
              " ['geological_similarity/andesite/QLVH3.jpg', 'andesite'],\n",
              " ['geological_similarity/marble/VR3UK.jpg', 'marbler'],\n",
              " ['geological_similarity/andesite/IVW76.jpg', 'andesite'],\n",
              " ['geological_similarity/quartzite/BGZRS.jpg', 'quartzite'],\n",
              " ['geological_similarity/rhyolite/JHTX0.jpg', 'rhyolite'],\n",
              " ['geological_similarity/quartzite/1IV36.jpg', 'quartzite'],\n",
              " ['geological_similarity/rhyolite/YDBH1.jpg', 'rhyolite'],\n",
              " ['geological_similarity/rhyolite/04RVV.jpg', 'rhyolite'],\n",
              " ['geological_similarity/quartzite/6NO4Z.jpg', 'quartzite'],\n",
              " ['geological_similarity/andesite/BG460.jpg', 'andesite'],\n",
              " ['geological_similarity/schist/GBJMH.jpg', 'schist'],\n",
              " ['geological_similarity/marble/VHH90.jpg', 'marbler'],\n",
              " ['geological_similarity/schist/GKRST.jpg', 'schist'],\n",
              " ['geological_similarity/quartzite/7ZUEJ.jpg', 'quartzite'],\n",
              " ['geological_similarity/schist/0TZG8.jpg', 'schist'],\n",
              " ['geological_similarity/quartzite/S2MCU.jpg', 'quartzite'],\n",
              " ['geological_similarity/quartzite/3RNNX.jpg', 'quartzite'],\n",
              " ['geological_similarity/gneiss/MUL5C.jpg', 'gneiss'],\n",
              " ['geological_similarity/gneiss/149W7.jpg', 'gneiss'],\n",
              " ['geological_similarity/gneiss/BQBRL.jpg', 'gneiss'],\n",
              " ['geological_similarity/quartzite/BJGOM.jpg', 'quartzite'],\n",
              " ['geological_similarity/rhyolite/JY9KO.jpg', 'rhyolite'],\n",
              " ['geological_similarity/andesite/05BVI.jpg', 'andesite'],\n",
              " ['geological_similarity/gneiss/3EED4.jpg', 'gneiss'],\n",
              " ['geological_similarity/andesite/E80SO.jpg', 'andesite'],\n",
              " ['geological_similarity/quartzite/XEB7M.jpg', 'quartzite'],\n",
              " ['geological_similarity/rhyolite/BYPMJ.jpg', 'rhyolite'],\n",
              " ['geological_similarity/marble/W1NL0.jpg', 'marbler'],\n",
              " ['geological_similarity/andesite/61Z30.jpg', 'andesite'],\n",
              " ['geological_similarity/rhyolite/59YUB.jpg', 'rhyolite'],\n",
              " ['geological_similarity/gneiss/SSWWM.jpg', 'gneiss'],\n",
              " ['geological_similarity/marble/F1FP1.jpg', 'marbler'],\n",
              " ['geological_similarity/andesite/18GCE.jpg', 'andesite'],\n",
              " ['geological_similarity/schist/9HZ7U.jpg', 'schist'],\n",
              " ['geological_similarity/quartzite/I9R68.jpg', 'quartzite'],\n",
              " ['geological_similarity/marble/CGSDO.jpg', 'marbler'],\n",
              " ['geological_similarity/rhyolite/0XD7W.jpg', 'rhyolite'],\n",
              " ['geological_similarity/andesite/47VXQ.jpg', 'andesite'],\n",
              " ['geological_similarity/andesite/AA1MU.jpg', 'andesite'],\n",
              " ['geological_similarity/gneiss/MOGST.jpg', 'gneiss'],\n",
              " ['geological_similarity/marble/5PVNV.jpg', 'marbler'],\n",
              " ['geological_similarity/gneiss/646Y1.jpg', 'gneiss'],\n",
              " ['geological_similarity/quartzite/CS1VY.jpg', 'quartzite'],\n",
              " ['geological_similarity/rhyolite/WXJN5.jpg', 'rhyolite'],\n",
              " ['geological_similarity/andesite/XHV5T.jpg', 'andesite'],\n",
              " ['geological_similarity/marble/UHEZN.jpg', 'marbler'],\n",
              " ['geological_similarity/gneiss/OSW2I.jpg', 'gneiss'],\n",
              " ['geological_similarity/quartzite/4GZZY.jpg', 'quartzite'],\n",
              " ['geological_similarity/andesite/GQP8M.jpg', 'andesite'],\n",
              " ['geological_similarity/quartzite/6B2LI.jpg', 'quartzite'],\n",
              " ['geological_similarity/marble/XM511.jpg', 'marbler'],\n",
              " ['geological_similarity/quartzite/XTBTE.jpg', 'quartzite'],\n",
              " ['geological_similarity/gneiss/VD99D.jpg', 'gneiss'],\n",
              " ['geological_similarity/gneiss/5HB4H.jpg', 'gneiss'],\n",
              " ['geological_similarity/andesite/D5A3U.jpg', 'andesite'],\n",
              " ['geological_similarity/gneiss/BVXBF.jpg', 'gneiss'],\n",
              " ['geological_similarity/quartzite/ULN28.jpg', 'quartzite'],\n",
              " ['geological_similarity/andesite/5B8XG.jpg', 'andesite'],\n",
              " ['geological_similarity/andesite/9O5Q5.jpg', 'andesite'],\n",
              " ['geological_similarity/gneiss/NDVEU.jpg', 'gneiss'],\n",
              " ['geological_similarity/schist/WJ0GV.jpg', 'schist'],\n",
              " ['geological_similarity/rhyolite/738ML.jpg', 'rhyolite'],\n",
              " ['geological_similarity/schist/WWQFS.jpg', 'schist'],\n",
              " ['geological_similarity/schist/ZWXVE.jpg', 'schist'],\n",
              " ['geological_similarity/marble/5BDZM.jpg', 'marbler'],\n",
              " ['geological_similarity/schist/ZAW0C.jpg', 'schist'],\n",
              " ['geological_similarity/rhyolite/HZS4A.jpg', 'rhyolite'],\n",
              " ['geological_similarity/rhyolite/8T1VY.jpg', 'rhyolite'],\n",
              " ['geological_similarity/quartzite/5JTHP.jpg', 'quartzite'],\n",
              " ['geological_similarity/quartzite/T803A.jpg', 'quartzite'],\n",
              " ['geological_similarity/marble/BDT31.jpg', 'marbler'],\n",
              " ['geological_similarity/quartzite/0YE2F.jpg', 'quartzite'],\n",
              " ['geological_similarity/schist/V9OCE.jpg', 'schist'],\n",
              " ['geological_similarity/quartzite/59GNL.jpg', 'quartzite'],\n",
              " ['geological_similarity/gneiss/6I8EQ.jpg', 'gneiss'],\n",
              " ['geological_similarity/schist/VWWUM.jpg', 'schist'],\n",
              " ['geological_similarity/gneiss/60KOG.jpg', 'gneiss'],\n",
              " ['geological_similarity/quartzite/KL3KV.jpg', 'quartzite'],\n",
              " ['geological_similarity/andesite/8H8FG.jpg', 'andesite'],\n",
              " ['geological_similarity/marble/RLKWA.jpg', 'marbler'],\n",
              " ['geological_similarity/gneiss/A5G7N.jpg', 'gneiss'],\n",
              " ['geological_similarity/rhyolite/RT9ZU.jpg', 'rhyolite'],\n",
              " ['geological_similarity/rhyolite/V655D.jpg', 'rhyolite'],\n",
              " ['geological_similarity/marble/IQ9ZK.jpg', 'marbler'],\n",
              " ['geological_similarity/marble/5UZLL.jpg', 'marbler'],\n",
              " ['geological_similarity/schist/TJAIO.jpg', 'schist'],\n",
              " ['geological_similarity/gneiss/25XV1.jpg', 'gneiss'],\n",
              " ['geological_similarity/quartzite/KFO6D.jpg', 'quartzite'],\n",
              " ['geological_similarity/quartzite/87I6V.jpg', 'quartzite'],\n",
              " ['geological_similarity/marble/5URX3.jpg', 'marbler'],\n",
              " ['geological_similarity/gneiss/89S8O.jpg', 'gneiss'],\n",
              " ['geological_similarity/gneiss/W3PLS.jpg', 'gneiss'],\n",
              " ['geological_similarity/schist/RMVZR.jpg', 'schist'],\n",
              " ['geological_similarity/schist/GHDXQ.jpg', 'schist'],\n",
              " ['geological_similarity/rhyolite/I5QWL.jpg', 'rhyolite'],\n",
              " ['geological_similarity/rhyolite/T0U6P.jpg', 'rhyolite'],\n",
              " ['geological_similarity/gneiss/UJUS4.jpg', 'gneiss'],\n",
              " ['geological_similarity/schist/5QVYK.jpg', 'schist'],\n",
              " ['geological_similarity/schist/BO2PJ.jpg', 'schist'],\n",
              " ['geological_similarity/rhyolite/2H6QP.jpg', 'rhyolite'],\n",
              " ['geological_similarity/schist/11GRD.jpg', 'schist'],\n",
              " ['geological_similarity/andesite/DUYMQ.jpg', 'andesite'],\n",
              " ['geological_similarity/marble/2YG7P.jpg', 'marbler'],\n",
              " ['geological_similarity/marble/KV3QV.jpg', 'marbler'],\n",
              " ['geological_similarity/andesite/SBQV3.jpg', 'andesite'],\n",
              " ['geological_similarity/andesite/GD1AP.jpg', 'andesite'],\n",
              " ['geological_similarity/andesite/ODIT5.jpg', 'andesite'],\n",
              " ['geological_similarity/andesite/PMZG3.jpg', 'andesite'],\n",
              " ['geological_similarity/schist/G4JXW.jpg', 'schist'],\n",
              " ['geological_similarity/schist/KVU96.jpg', 'schist'],\n",
              " ['geological_similarity/rhyolite/LAHZ5.jpg', 'rhyolite'],\n",
              " ['geological_similarity/marble/B1PY8.jpg', 'marbler'],\n",
              " ['geological_similarity/marble/TCUV3.jpg', 'marbler'],\n",
              " ['geological_similarity/rhyolite/RJY33.jpg', 'rhyolite'],\n",
              " ['geological_similarity/quartzite/ASDRH.jpg', 'quartzite'],\n",
              " ['geological_similarity/schist/DIBF9.jpg', 'schist'],\n",
              " ['geological_similarity/quartzite/GCYNO.jpg', 'quartzite'],\n",
              " ['geological_similarity/schist/5HTE4.jpg', 'schist'],\n",
              " ['geological_similarity/schist/9XIJW.jpg', 'schist'],\n",
              " ['geological_similarity/andesite/18M7W.jpg', 'andesite'],\n",
              " ['geological_similarity/rhyolite/3L5AQ.jpg', 'rhyolite'],\n",
              " ['geological_similarity/rhyolite/GR2TR.jpg', 'rhyolite'],\n",
              " ['geological_similarity/gneiss/9Z22M.jpg', 'gneiss'],\n",
              " ['geological_similarity/rhyolite/MVAPW.jpg', 'rhyolite'],\n",
              " ['geological_similarity/gneiss/D6898.jpg', 'gneiss'],\n",
              " ['geological_similarity/gneiss/BI043.jpg', 'gneiss'],\n",
              " ['geological_similarity/marble/H93QD.jpg', 'marbler'],\n",
              " ['geological_similarity/schist/U30VI.jpg', 'schist'],\n",
              " ['geological_similarity/andesite/RJP9D.jpg', 'andesite'],\n",
              " ['geological_similarity/andesite/CT63V.jpg', 'andesite'],\n",
              " ['geological_similarity/marble/XHB4Y.jpg', 'marbler'],\n",
              " ['geological_similarity/schist/UIVZY.jpg', 'schist'],\n",
              " ['geological_similarity/schist/JF7SJ.jpg', 'schist'],\n",
              " ['geological_similarity/andesite/TT57H.jpg', 'andesite'],\n",
              " ['geological_similarity/marble/CSADE.jpg', 'marbler'],\n",
              " ['geological_similarity/andesite/DKO1J.jpg', 'andesite'],\n",
              " ['geological_similarity/rhyolite/LXK93.jpg', 'rhyolite'],\n",
              " ['geological_similarity/gneiss/84FQ9.jpg', 'gneiss'],\n",
              " ['geological_similarity/quartzite/XYM29.jpg', 'quartzite'],\n",
              " ['geological_similarity/rhyolite/AU8D5.jpg', 'rhyolite'],\n",
              " ['geological_similarity/schist/R6RLA.jpg', 'schist'],\n",
              " ['geological_similarity/rhyolite/EH7BI.jpg', 'rhyolite'],\n",
              " ['geological_similarity/rhyolite/HG95S.jpg', 'rhyolite'],\n",
              " ['geological_similarity/gneiss/F223H.jpg', 'gneiss'],\n",
              " ['geological_similarity/schist/B929B.jpg', 'schist'],\n",
              " ['geological_similarity/marble/NWRTX.jpg', 'marbler'],\n",
              " ['geological_similarity/schist/Y7I0E.jpg', 'schist'],\n",
              " ['geological_similarity/rhyolite/0QT2Y.jpg', 'rhyolite'],\n",
              " ['geological_similarity/quartzite/TZTFK.jpg', 'quartzite'],\n",
              " ['geological_similarity/quartzite/P5CBC.jpg', 'quartzite'],\n",
              " ['geological_similarity/andesite/I1DY8.jpg', 'andesite'],\n",
              " ['geological_similarity/rhyolite/XGO0C.jpg', 'rhyolite'],\n",
              " ['geological_similarity/rhyolite/D2V3Y.jpg', 'rhyolite'],\n",
              " ['geological_similarity/marble/NTP9C.jpg', 'marbler'],\n",
              " ['geological_similarity/quartzite/6AILY.jpg', 'quartzite'],\n",
              " ['geological_similarity/schist/J4HWV.jpg', 'schist'],\n",
              " ['geological_similarity/gneiss/WOQDV.jpg', 'gneiss'],\n",
              " ['geological_similarity/gneiss/QZ584.jpg', 'gneiss'],\n",
              " ['geological_similarity/andesite/305EB.jpg', 'andesite'],\n",
              " ['geological_similarity/gneiss/ALOUF.jpg', 'gneiss'],\n",
              " ['geological_similarity/gneiss/2QSIT.jpg', 'gneiss'],\n",
              " ['geological_similarity/rhyolite/RWWPQ.jpg', 'rhyolite'],\n",
              " ['geological_similarity/quartzite/VFV35.jpg', 'quartzite'],\n",
              " ['geological_similarity/quartzite/T2S59.jpg', 'quartzite'],\n",
              " ['geological_similarity/gneiss/2PVF8.jpg', 'gneiss'],\n",
              " ['geological_similarity/marble/SROSP.jpg', 'marbler'],\n",
              " ['geological_similarity/andesite/F6DE7.jpg', 'andesite'],\n",
              " ['geological_similarity/schist/EOMPU.jpg', 'schist'],\n",
              " ['geological_similarity/marble/QP98G.jpg', 'marbler'],\n",
              " ['geological_similarity/andesite/42E19.jpg', 'andesite'],\n",
              " ['geological_similarity/rhyolite/WGH6J.jpg', 'rhyolite'],\n",
              " ['geological_similarity/marble/FT1Y6.jpg', 'marbler'],\n",
              " ['geological_similarity/andesite/DD2FD.jpg', 'andesite'],\n",
              " ['geological_similarity/andesite/QGFJA.jpg', 'andesite'],\n",
              " ['geological_similarity/andesite/08X96.jpg', 'andesite'],\n",
              " ['geological_similarity/gneiss/1NJM6.jpg', 'gneiss'],\n",
              " ['geological_similarity/gneiss/9SJL4.jpg', 'gneiss'],\n",
              " ['geological_similarity/rhyolite/2IZCA.jpg', 'rhyolite'],\n",
              " ['geological_similarity/schist/PW71U.jpg', 'schist'],\n",
              " ['geological_similarity/quartzite/YDNRW.jpg', 'quartzite'],\n",
              " ['geological_similarity/quartzite/CC4SJ.jpg', 'quartzite'],\n",
              " ['geological_similarity/marble/BCI6I.jpg', 'marbler'],\n",
              " ['geological_similarity/andesite/565YP.jpg', 'andesite'],\n",
              " ['geological_similarity/gneiss/MEA9L.jpg', 'gneiss'],\n",
              " ['geological_similarity/marble/GIMV1.jpg', 'marbler'],\n",
              " ['geological_similarity/rhyolite/F47GL.jpg', 'rhyolite'],\n",
              " ['geological_similarity/marble/LGIH9.jpg', 'marbler'],\n",
              " ['geological_similarity/quartzite/CXXYO.jpg', 'quartzite'],\n",
              " ['geological_similarity/schist/MSSY1.jpg', 'schist'],\n",
              " ['geological_similarity/gneiss/8NU7P.jpg', 'gneiss'],\n",
              " ['geological_similarity/quartzite/PLYC0.jpg', 'quartzite'],\n",
              " ['geological_similarity/marble/HCY4B.jpg', 'marbler'],\n",
              " ['geological_similarity/rhyolite/K8E10.jpg', 'rhyolite'],\n",
              " ['geological_similarity/schist/JAQAT.jpg', 'schist'],\n",
              " ['geological_similarity/schist/6JX3S.jpg', 'schist'],\n",
              " ['geological_similarity/quartzite/8OO2M.jpg', 'quartzite'],\n",
              " ['geological_similarity/marble/NMESH.jpg', 'marbler'],\n",
              " ['geological_similarity/schist/6IZWN.jpg', 'schist'],\n",
              " ['geological_similarity/schist/JVN3E.jpg', 'schist'],\n",
              " ['geological_similarity/rhyolite/Q02D9.jpg', 'rhyolite'],\n",
              " ['geological_similarity/gneiss/695TO.jpg', 'gneiss'],\n",
              " ['geological_similarity/schist/ZOVJZ.jpg', 'schist'],\n",
              " ['geological_similarity/gneiss/U9WWK.jpg', 'gneiss'],\n",
              " ['geological_similarity/marble/G1GXU.jpg', 'marbler'],\n",
              " ['geological_similarity/andesite/GUYS9.jpg', 'andesite'],\n",
              " ['geological_similarity/rhyolite/MXRWW.jpg', 'rhyolite'],\n",
              " ['geological_similarity/gneiss/JKFCE.jpg', 'gneiss'],\n",
              " ['geological_similarity/gneiss/9A12C.jpg', 'gneiss'],\n",
              " ['geological_similarity/rhyolite/K93YH.jpg', 'rhyolite'],\n",
              " ['geological_similarity/andesite/LXGBR.jpg', 'andesite'],\n",
              " ['geological_similarity/marble/PUWD4.jpg', 'marbler'],\n",
              " ['geological_similarity/schist/43KZC.jpg', 'schist'],\n",
              " ['geological_similarity/rhyolite/UL81V.jpg', 'rhyolite'],\n",
              " ['geological_similarity/gneiss/PSR0P.jpg', 'gneiss'],\n",
              " ['geological_similarity/quartzite/KK1OA.jpg', 'quartzite'],\n",
              " ['geological_similarity/schist/WUBNL.jpg', 'schist'],\n",
              " ['geological_similarity/rhyolite/M1SHW.jpg', 'rhyolite'],\n",
              " ['geological_similarity/andesite/GOCH6.jpg', 'andesite'],\n",
              " ['geological_similarity/gneiss/WN10Y.jpg', 'gneiss'],\n",
              " ['geological_similarity/gneiss/F0746.jpg', 'gneiss'],\n",
              " ['geological_similarity/schist/SR9WW.jpg', 'schist'],\n",
              " ['geological_similarity/gneiss/GMGAC.jpg', 'gneiss'],\n",
              " ['geological_similarity/andesite/EYVNT.jpg', 'andesite'],\n",
              " ['geological_similarity/gneiss/AXBHS.jpg', 'gneiss'],\n",
              " ['geological_similarity/marble/GWYW7.jpg', 'marbler'],\n",
              " ['geological_similarity/andesite/A05A6.jpg', 'andesite'],\n",
              " ['geological_similarity/andesite/4P4AO.jpg', 'andesite'],\n",
              " ['geological_similarity/schist/BF748.jpg', 'schist'],\n",
              " ['geological_similarity/schist/H6D8Z.jpg', 'schist'],\n",
              " ['geological_similarity/andesite/MVW4N.jpg', 'andesite'],\n",
              " ['geological_similarity/schist/Z6RYQ.jpg', 'schist'],\n",
              " ['geological_similarity/gneiss/22QD4.jpg', 'gneiss'],\n",
              " ['geological_similarity/rhyolite/CWRC3.jpg', 'rhyolite'],\n",
              " ['geological_similarity/andesite/DWLRR.jpg', 'andesite'],\n",
              " ['geological_similarity/gneiss/KSZXO.jpg', 'gneiss'],\n",
              " ['geological_similarity/andesite/VUFVG.jpg', 'andesite'],\n",
              " ['geological_similarity/rhyolite/GJ0R1.jpg', 'rhyolite'],\n",
              " ['geological_similarity/schist/MWYX2.jpg', 'schist'],\n",
              " ['geological_similarity/rhyolite/D5EDJ.jpg', 'rhyolite'],\n",
              " ['geological_similarity/gneiss/D5PSN.jpg', 'gneiss'],\n",
              " ['geological_similarity/gneiss/W9JPM.jpg', 'gneiss'],\n",
              " ['geological_similarity/quartzite/594F3.jpg', 'quartzite'],\n",
              " ['geological_similarity/rhyolite/K7JN6.jpg', 'rhyolite'],\n",
              " ['geological_similarity/andesite/K375B.jpg', 'andesite'],\n",
              " ['geological_similarity/quartzite/5ORTH.jpg', 'quartzite'],\n",
              " ['geological_similarity/rhyolite/LOESS.jpg', 'rhyolite'],\n",
              " ['geological_similarity/andesite/526Y3.jpg', 'andesite'],\n",
              " ['geological_similarity/andesite/WHQ96.jpg', 'andesite'],\n",
              " ['geological_similarity/gneiss/YY56E.jpg', 'gneiss'],\n",
              " ['geological_similarity/gneiss/QX1ID.jpg', 'gneiss'],\n",
              " ['geological_similarity/schist/7GBF8.jpg', 'schist'],\n",
              " ['geological_similarity/marble/30M01.jpg', 'marbler'],\n",
              " ['geological_similarity/schist/TO3I0.jpg', 'schist'],\n",
              " ['geological_similarity/andesite/VVWN0.jpg', 'andesite'],\n",
              " ['geological_similarity/rhyolite/MMZ4T.jpg', 'rhyolite'],\n",
              " ['geological_similarity/rhyolite/1RCU8.jpg', 'rhyolite'],\n",
              " ['geological_similarity/schist/HCO7M.jpg', 'schist'],\n",
              " ['geological_similarity/quartzite/2HHLT.jpg', 'quartzite'],\n",
              " ['geological_similarity/andesite/4X8FD.jpg', 'andesite'],\n",
              " ['geological_similarity/andesite/PNIEZ.jpg', 'andesite'],\n",
              " ['geological_similarity/rhyolite/EE06X.jpg', 'rhyolite'],\n",
              " ['geological_similarity/marble/9AB32.jpg', 'marbler'],\n",
              " ['geological_similarity/gneiss/KXN0K.jpg', 'gneiss'],\n",
              " ['geological_similarity/rhyolite/LJUOR.jpg', 'rhyolite'],\n",
              " ['geological_similarity/quartzite/AHXMA.jpg', 'quartzite'],\n",
              " ['geological_similarity/gneiss/7JPVE.jpg', 'gneiss'],\n",
              " ['geological_similarity/rhyolite/8YVVX.jpg', 'rhyolite'],\n",
              " ['geological_similarity/marble/29KEG.jpg', 'marbler'],\n",
              " ['geological_similarity/marble/XD5KG.jpg', 'marbler'],\n",
              " ['geological_similarity/marble/BFR35.jpg', 'marbler'],\n",
              " ['geological_similarity/gneiss/2BIYM.jpg', 'gneiss'],\n",
              " ['geological_similarity/rhyolite/7JSDP.jpg', 'rhyolite'],\n",
              " ['geological_similarity/schist/UBND7.jpg', 'schist'],\n",
              " ['geological_similarity/marble/M35U6.jpg', 'marbler'],\n",
              " ['geological_similarity/marble/2GDQ5.jpg', 'marbler'],\n",
              " ['geological_similarity/gneiss/I5URW.jpg', 'gneiss'],\n",
              " ['geological_similarity/schist/BP0JU.jpg', 'schist'],\n",
              " ['geological_similarity/andesite/M6SGS.jpg', 'andesite'],\n",
              " ['geological_similarity/andesite/Z23RU.jpg', 'andesite'],\n",
              " ['geological_similarity/marble/JCJ6Y.jpg', 'marbler'],\n",
              " ['geological_similarity/marble/BZ2HM.jpg', 'marbler'],\n",
              " ['geological_similarity/marble/9WOME.jpg', 'marbler'],\n",
              " ['geological_similarity/rhyolite/G772X.jpg', 'rhyolite'],\n",
              " ['geological_similarity/marble/M5YOM.jpg', 'marbler'],\n",
              " ['geological_similarity/rhyolite/CKR1Z.jpg', 'rhyolite'],\n",
              " ['geological_similarity/andesite/A7PJK.jpg', 'andesite'],\n",
              " ['geological_similarity/andesite/GFUYL.jpg', 'andesite'],\n",
              " ['geological_similarity/gneiss/QAKJK.jpg', 'gneiss'],\n",
              " ['geological_similarity/andesite/PLDNM.jpg', 'andesite'],\n",
              " ['geological_similarity/quartzite/EJZYW.jpg', 'quartzite'],\n",
              " ['geological_similarity/gneiss/G74JY.jpg', 'gneiss'],\n",
              " ['geological_similarity/marble/R8BDE.jpg', 'marbler'],\n",
              " ['geological_similarity/quartzite/NQ90A.jpg', 'quartzite'],\n",
              " ['geological_similarity/rhyolite/7RYSL.jpg', 'rhyolite'],\n",
              " ['geological_similarity/andesite/L9IN4.jpg', 'andesite'],\n",
              " ['geological_similarity/andesite/LZ684.jpg', 'andesite'],\n",
              " ['geological_similarity/marble/4ZVZA.jpg', 'marbler'],\n",
              " ['geological_similarity/schist/YJ02P.jpg', 'schist'],\n",
              " ['geological_similarity/rhyolite/X7H9S.jpg', 'rhyolite'],\n",
              " ['geological_similarity/schist/SXO8V.jpg', 'schist'],\n",
              " ['geological_similarity/gneiss/EZE57.jpg', 'gneiss'],\n",
              " ['geological_similarity/gneiss/3EHKH.jpg', 'gneiss'],\n",
              " ['geological_similarity/rhyolite/24RD1.jpg', 'rhyolite'],\n",
              " ['geological_similarity/schist/FGLRG.jpg', 'schist'],\n",
              " ['geological_similarity/andesite/W5QGU.jpg', 'andesite'],\n",
              " ['geological_similarity/schist/OVRWR.jpg', 'schist'],\n",
              " ['geological_similarity/quartzite/9LN1R.jpg', 'quartzite'],\n",
              " ['geological_similarity/quartzite/5Y1TU.jpg', 'quartzite'],\n",
              " ['geological_similarity/marble/3WVTM.jpg', 'marbler'],\n",
              " ['geological_similarity/rhyolite/5SU7Q.jpg', 'rhyolite'],\n",
              " ['geological_similarity/gneiss/WAWHY.jpg', 'gneiss'],\n",
              " ['geological_similarity/schist/GGQDY.jpg', 'schist'],\n",
              " ['geological_similarity/schist/HS4BD.jpg', 'schist'],\n",
              " ['geological_similarity/andesite/ISMOP.jpg', 'andesite'],\n",
              " ['geological_similarity/quartzite/1IYIZ.jpg', 'quartzite'],\n",
              " ['geological_similarity/quartzite/TYL8Z.jpg', 'quartzite'],\n",
              " ['geological_similarity/andesite/4VFEU.jpg', 'andesite'],\n",
              " ['geological_similarity/rhyolite/WRQJG.jpg', 'rhyolite'],\n",
              " ['geological_similarity/marble/BCM8K.jpg', 'marbler'],\n",
              " ['geological_similarity/rhyolite/TN9PJ.jpg', 'rhyolite'],\n",
              " ['geological_similarity/gneiss/F7BC8.jpg', 'gneiss'],\n",
              " ['geological_similarity/andesite/IF502.jpg', 'andesite'],\n",
              " ['geological_similarity/quartzite/5MIOG.jpg', 'quartzite'],\n",
              " ['geological_similarity/andesite/XC267.jpg', 'andesite'],\n",
              " ['geological_similarity/gneiss/L861W.jpg', 'gneiss'],\n",
              " ['geological_similarity/andesite/TXWDK.jpg', 'andesite'],\n",
              " ['geological_similarity/schist/P9PUI.jpg', 'schist'],\n",
              " ['geological_similarity/marble/YBT2A.jpg', 'marbler'],\n",
              " ['geological_similarity/andesite/7B4BE.jpg', 'andesite'],\n",
              " ['geological_similarity/andesite/TST81.jpg', 'andesite'],\n",
              " ['geological_similarity/andesite/UM8VH.jpg', 'andesite'],\n",
              " ['geological_similarity/schist/KS2JA.jpg', 'schist'],\n",
              " ['geological_similarity/schist/IYUZ4.jpg', 'schist'],\n",
              " ['geological_similarity/marble/CSFK1.jpg', 'marbler'],\n",
              " ['geological_similarity/marble/FT4ZK.jpg', 'marbler'],\n",
              " ['geological_similarity/schist/ESGQV.jpg', 'schist'],\n",
              " ['geological_similarity/gneiss/867GL.jpg', 'gneiss'],\n",
              " ['geological_similarity/marble/PU9KD.jpg', 'marbler'],\n",
              " ['geological_similarity/gneiss/R65VS.jpg', 'gneiss'],\n",
              " ['geological_similarity/rhyolite/VTXIO.jpg', 'rhyolite'],\n",
              " ['geological_similarity/andesite/9JV0T.jpg', 'andesite'],\n",
              " ['geological_similarity/schist/54UQZ.jpg', 'schist'],\n",
              " ['geological_similarity/gneiss/0ZEK4.jpg', 'gneiss'],\n",
              " ['geological_similarity/andesite/UZV96.jpg', 'andesite'],\n",
              " ['geological_similarity/andesite/ZAW86.jpg', 'andesite'],\n",
              " ['geological_similarity/gneiss/9KP7J.jpg', 'gneiss'],\n",
              " ['geological_similarity/schist/FUAGN.jpg', 'schist'],\n",
              " ['geological_similarity/marble/H0ZV3.jpg', 'marbler'],\n",
              " ['geological_similarity/rhyolite/MSS51.jpg', 'rhyolite'],\n",
              " ['geological_similarity/andesite/GU9RM.jpg', 'andesite'],\n",
              " ['geological_similarity/schist/J2J8L.jpg', 'schist'],\n",
              " ['geological_similarity/rhyolite/HRV7G.jpg', 'rhyolite'],\n",
              " ['geological_similarity/schist/1M20R.jpg', 'schist'],\n",
              " ['geological_similarity/andesite/NUKWV.jpg', 'andesite'],\n",
              " ['geological_similarity/marble/FZ8ME.jpg', 'marbler'],\n",
              " ['geological_similarity/quartzite/1B3LP.jpg', 'quartzite'],\n",
              " ['geological_similarity/gneiss/2N4LN.jpg', 'gneiss'],\n",
              " ['geological_similarity/rhyolite/WZY21.jpg', 'rhyolite'],\n",
              " ['geological_similarity/quartzite/BUPNC.jpg', 'quartzite'],\n",
              " ['geological_similarity/andesite/PXUOL.jpg', 'andesite'],\n",
              " ['geological_similarity/quartzite/X4SQ2.jpg', 'quartzite'],\n",
              " ['geological_similarity/schist/NJVM6.jpg', 'schist'],\n",
              " ['geological_similarity/schist/39GI3.jpg', 'schist'],\n",
              " ['geological_similarity/rhyolite/5N08J.jpg', 'rhyolite'],\n",
              " ['geological_similarity/gneiss/DXXL8.jpg', 'gneiss'],\n",
              " ['geological_similarity/quartzite/OOAV3.jpg', 'quartzite'],\n",
              " ['geological_similarity/schist/WI8OQ.jpg', 'schist'],\n",
              " ['geological_similarity/marble/N1DGH.jpg', 'marbler'],\n",
              " ['geological_similarity/gneiss/L38CI.jpg', 'gneiss'],\n",
              " ['geological_similarity/quartzite/SNJ8U.jpg', 'quartzite'],\n",
              " ['geological_similarity/quartzite/HJ5GB.jpg', 'quartzite'],\n",
              " ['geological_similarity/schist/P2KDW.jpg', 'schist'],\n",
              " ['geological_similarity/gneiss/YH9ET.jpg', 'gneiss'],\n",
              " ['geological_similarity/schist/PIONM.jpg', 'schist'],\n",
              " ['geological_similarity/quartzite/MA6CD.jpg', 'quartzite'],\n",
              " ['geological_similarity/marble/69T8J.jpg', 'marbler'],\n",
              " ['geological_similarity/andesite/ARNOY.jpg', 'andesite'],\n",
              " ['geological_similarity/quartzite/QU5BM.jpg', 'quartzite'],\n",
              " ['geological_similarity/gneiss/PW797.jpg', 'gneiss'],\n",
              " ['geological_similarity/gneiss/3DBGX.jpg', 'gneiss'],\n",
              " ['geological_similarity/quartzite/ZULW5.jpg', 'quartzite'],\n",
              " ['geological_similarity/quartzite/HFUEC.jpg', 'quartzite'],\n",
              " ['geological_similarity/gneiss/BW3X4.jpg', 'gneiss'],\n",
              " ['geological_similarity/schist/B06ZL.jpg', 'schist'],\n",
              " ['geological_similarity/schist/P5KPZ.jpg', 'schist'],\n",
              " ['geological_similarity/gneiss/ZXZTL.jpg', 'gneiss'],\n",
              " ['geological_similarity/rhyolite/GNBHC.jpg', 'rhyolite'],\n",
              " ['geological_similarity/marble/V1EA5.jpg', 'marbler'],\n",
              " ['geological_similarity/schist/SPF45.jpg', 'schist'],\n",
              " ['geological_similarity/marble/VOVLO.jpg', 'marbler'],\n",
              " ['geological_similarity/schist/EO3JP.jpg', 'schist'],\n",
              " ['geological_similarity/quartzite/PA0FS.jpg', 'quartzite'],\n",
              " ['geological_similarity/quartzite/7SGF6.jpg', 'quartzite'],\n",
              " ['geological_similarity/gneiss/4UZZR.jpg', 'gneiss'],\n",
              " ['geological_similarity/quartzite/1HBZP.jpg', 'quartzite'],\n",
              " ['geological_similarity/andesite/L7KSS.jpg', 'andesite'],\n",
              " ['geological_similarity/andesite/TVLEC.jpg', 'andesite'],\n",
              " ['geological_similarity/rhyolite/SRDPQ.jpg', 'rhyolite'],\n",
              " ['geological_similarity/schist/33X7B.jpg', 'schist'],\n",
              " ['geological_similarity/rhyolite/G5T3R.jpg', 'rhyolite'],\n",
              " ['geological_similarity/schist/HBHNI.jpg', 'schist'],\n",
              " ['geological_similarity/gneiss/BPSKS.jpg', 'gneiss'],\n",
              " ['geological_similarity/gneiss/Z9CZ9.jpg', 'gneiss'],\n",
              " ['geological_similarity/gneiss/EGV6R.jpg', 'gneiss'],\n",
              " ['geological_similarity/marble/W2B4E.jpg', 'marbler'],\n",
              " ['geological_similarity/gneiss/NOBSL.jpg', 'gneiss'],\n",
              " ['geological_similarity/andesite/Q692C.jpg', 'andesite'],\n",
              " ['geological_similarity/schist/NKF06.jpg', 'schist'],\n",
              " ['geological_similarity/schist/0818O.jpg', 'schist'],\n",
              " ['geological_similarity/rhyolite/O5ROS.jpg', 'rhyolite'],\n",
              " ['geological_similarity/marble/2QFA3.jpg', 'marbler'],\n",
              " ['geological_similarity/quartzite/OQH4C.jpg', 'quartzite'],\n",
              " ['geological_similarity/schist/2XAT8.jpg', 'schist'],\n",
              " ['geological_similarity/schist/HMEVY.jpg', 'schist'],\n",
              " ['geological_similarity/quartzite/V6BY6.jpg', 'quartzite'],\n",
              " ['geological_similarity/quartzite/ZL2UF.jpg', 'quartzite'],\n",
              " ['geological_similarity/quartzite/9HC41.jpg', 'quartzite'],\n",
              " ['geological_similarity/quartzite/0HI9R.jpg', 'quartzite'],\n",
              " ['geological_similarity/marble/DIHB3.jpg', 'marbler'],\n",
              " ['geological_similarity/rhyolite/1N8HN.jpg', 'rhyolite'],\n",
              " ['geological_similarity/andesite/Q3SR2.jpg', 'andesite'],\n",
              " ['geological_similarity/rhyolite/YXVGS.jpg', 'rhyolite'],\n",
              " ['geological_similarity/marble/PXMFP.jpg', 'marbler'],\n",
              " ['geological_similarity/schist/VC14J.jpg', 'schist'],\n",
              " ['geological_similarity/gneiss/DZOEC.jpg', 'gneiss'],\n",
              " ['geological_similarity/schist/6Q8RM.jpg', 'schist'],\n",
              " ['geological_similarity/schist/4BEZE.jpg', 'schist'],\n",
              " ['geological_similarity/schist/116RV.jpg', 'schist'],\n",
              " ['geological_similarity/gneiss/38J1S.jpg', 'gneiss'],\n",
              " ['geological_similarity/marble/7WF73.jpg', 'marbler'],\n",
              " ['geological_similarity/andesite/SEECT.jpg', 'andesite'],\n",
              " ['geological_similarity/andesite/9OR0S.jpg', 'andesite'],\n",
              " ['geological_similarity/andesite/L5SVG.jpg', 'andesite'],\n",
              " ['geological_similarity/gneiss/Z3QRN.jpg', 'gneiss'],\n",
              " ['geological_similarity/gneiss/T6UR2.jpg', 'gneiss'],\n",
              " ['geological_similarity/schist/V0SBW.jpg', 'schist'],\n",
              " ['geological_similarity/schist/I0YP6.jpg', 'schist'],\n",
              " ['geological_similarity/quartzite/45CQQ.jpg', 'quartzite'],\n",
              " ['geological_similarity/quartzite/ZW7TE.jpg', 'quartzite'],\n",
              " ['geological_similarity/andesite/U34PI.jpg', 'andesite'],\n",
              " ['geological_similarity/quartzite/EPXA0.jpg', 'quartzite'],\n",
              " ['geological_similarity/gneiss/5EIEM.jpg', 'gneiss'],\n",
              " ['geological_similarity/marble/51KEZ.jpg', 'marbler'],\n",
              " ['geological_similarity/gneiss/DAN36.jpg', 'gneiss'],\n",
              " ['geological_similarity/schist/D7TSY.jpg', 'schist'],\n",
              " ['geological_similarity/marble/QXI98.jpg', 'marbler'],\n",
              " ['geological_similarity/marble/NYM3S.jpg', 'marbler'],\n",
              " ['geological_similarity/marble/D9EEJ.jpg', 'marbler'],\n",
              " ['geological_similarity/marble/605TW.jpg', 'marbler'],\n",
              " ['geological_similarity/schist/BH2CR.jpg', 'schist'],\n",
              " ['geological_similarity/marble/P7H8U.jpg', 'marbler'],\n",
              " ['geological_similarity/rhyolite/D8N5S.jpg', 'rhyolite'],\n",
              " ['geological_similarity/marble/H82HQ.jpg', 'marbler'],\n",
              " ['geological_similarity/andesite/BFHDX.jpg', 'andesite'],\n",
              " ['geological_similarity/quartzite/WK7V3.jpg', 'quartzite'],\n",
              " ['geological_similarity/quartzite/J0RXZ.jpg', 'quartzite'],\n",
              " ['geological_similarity/rhyolite/GHW3N.jpg', 'rhyolite'],\n",
              " ['geological_similarity/gneiss/I5M8M.jpg', 'gneiss'],\n",
              " ['geological_similarity/quartzite/IQOFB.jpg', 'quartzite'],\n",
              " ['geological_similarity/gneiss/2AXIR.jpg', 'gneiss'],\n",
              " ['geological_similarity/rhyolite/ZO6QB.jpg', 'rhyolite'],\n",
              " ['geological_similarity/schist/DPXYS.jpg', 'schist'],\n",
              " ['geological_similarity/quartzite/DAWB8.jpg', 'quartzite'],\n",
              " ['geological_similarity/gneiss/XKPCJ.jpg', 'gneiss'],\n",
              " ['geological_similarity/quartzite/JNANX.jpg', 'quartzite'],\n",
              " ['geological_similarity/andesite/1XQ3K.jpg', 'andesite'],\n",
              " ['geological_similarity/gneiss/GFG0E.jpg', 'gneiss'],\n",
              " ['geological_similarity/quartzite/V2HAJ.jpg', 'quartzite'],\n",
              " ['geological_similarity/marble/JWVXO.jpg', 'marbler'],\n",
              " ['geological_similarity/gneiss/1QGXR.jpg', 'gneiss'],\n",
              " ['geological_similarity/gneiss/W659U.jpg', 'gneiss'],\n",
              " ['geological_similarity/gneiss/7PJH9.jpg', 'gneiss'],\n",
              " ['geological_similarity/rhyolite/CMP0R.jpg', 'rhyolite'],\n",
              " ['geological_similarity/rhyolite/LPUPR.jpg', 'rhyolite'],\n",
              " ['geological_similarity/quartzite/F35HA.jpg', 'quartzite'],\n",
              " ['geological_similarity/rhyolite/NSE3I.jpg', 'rhyolite'],\n",
              " ['geological_similarity/rhyolite/D4ESM.jpg', 'rhyolite'],\n",
              " ['geological_similarity/quartzite/1W4SE.jpg', 'quartzite'],\n",
              " ['geological_similarity/marble/WHR8K.jpg', 'marbler'],\n",
              " ['geological_similarity/gneiss/3YFCU.jpg', 'gneiss'],\n",
              " ['geological_similarity/gneiss/25EM2.jpg', 'gneiss'],\n",
              " ['geological_similarity/marble/WEAFC.jpg', 'marbler'],\n",
              " ['geological_similarity/quartzite/MPN7T.jpg', 'quartzite'],\n",
              " ['geological_similarity/quartzite/R0AQP.jpg', 'quartzite'],\n",
              " ['geological_similarity/rhyolite/DVWM4.jpg', 'rhyolite'],\n",
              " ['geological_similarity/rhyolite/EEMCO.jpg', 'rhyolite'],\n",
              " ['geological_similarity/andesite/W6VVC.jpg', 'andesite'],\n",
              " ['geological_similarity/andesite/YBC60.jpg', 'andesite'],\n",
              " ['geological_similarity/schist/95Y81.jpg', 'schist'],\n",
              " ['geological_similarity/marble/0SEW8.jpg', 'marbler'],\n",
              " ['geological_similarity/rhyolite/8H0Z4.jpg', 'rhyolite'],\n",
              " ['geological_similarity/schist/21G3N.jpg', 'schist'],\n",
              " ['geological_similarity/marble/0YZ5J.jpg', 'marbler'],\n",
              " ['geological_similarity/marble/6CLSI.jpg', 'marbler'],\n",
              " ['geological_similarity/schist/LFALL.jpg', 'schist'],\n",
              " ['geological_similarity/marble/6NJVM.jpg', 'marbler'],\n",
              " ['geological_similarity/quartzite/1HECR.jpg', 'quartzite'],\n",
              " ['geological_similarity/quartzite/29LEQ.jpg', 'quartzite'],\n",
              " ['geological_similarity/schist/WLV7Z.jpg', 'schist'],\n",
              " ['geological_similarity/schist/DPRBU.jpg', 'schist'],\n",
              " ['geological_similarity/gneiss/RAKVO.jpg', 'gneiss'],\n",
              " ['geological_similarity/quartzite/PYNUV.jpg', 'quartzite'],\n",
              " ['geological_similarity/marble/W05GJ.jpg', 'marbler'],\n",
              " ['geological_similarity/marble/WYJAP.jpg', 'marbler'],\n",
              " ['geological_similarity/gneiss/L9A8C.jpg', 'gneiss'],\n",
              " ['geological_similarity/schist/E2IK6.jpg', 'schist'],\n",
              " ['geological_similarity/schist/DQAE8.jpg', 'schist'],\n",
              " ['geological_similarity/andesite/M0WLB.jpg', 'andesite'],\n",
              " ['geological_similarity/marble/U3A3Z.jpg', 'marbler'],\n",
              " ['geological_similarity/rhyolite/YMI23.jpg', 'rhyolite'],\n",
              " ['geological_similarity/rhyolite/4564S.jpg', 'rhyolite'],\n",
              " ['geological_similarity/gneiss/DZKEO.jpg', 'gneiss'],\n",
              " ['geological_similarity/rhyolite/E8PTT.jpg', 'rhyolite'],\n",
              " ['geological_similarity/quartzite/HNLLN.jpg', 'quartzite'],\n",
              " ['geological_similarity/rhyolite/JFGTE.jpg', 'rhyolite'],\n",
              " ['geological_similarity/quartzite/AWOJH.jpg', 'quartzite'],\n",
              " ['geological_similarity/schist/6FPOT.jpg', 'schist'],\n",
              " ['geological_similarity/gneiss/WM6V8.jpg', 'gneiss'],\n",
              " ['geological_similarity/andesite/QLLFI.jpg', 'andesite'],\n",
              " ['geological_similarity/marble/EWEV0.jpg', 'marbler'],\n",
              " ['geological_similarity/andesite/1A9NT.jpg', 'andesite'],\n",
              " ['geological_similarity/gneiss/U9LPZ.jpg', 'gneiss'],\n",
              " ['geological_similarity/marble/9MC5V.jpg', 'marbler'],\n",
              " ['geological_similarity/andesite/QPM84.jpg', 'andesite'],\n",
              " ['geological_similarity/schist/SI6A2.jpg', 'schist'],\n",
              " ['geological_similarity/marble/CHTMZ.jpg', 'marbler'],\n",
              " ['geological_similarity/andesite/4RCS1.jpg', 'andesite'],\n",
              " ['geological_similarity/rhyolite/25MBX.jpg', 'rhyolite'],\n",
              " ['geological_similarity/schist/ATPQD.jpg', 'schist'],\n",
              " ...]"
            ]
          },
          "metadata": {},
          "execution_count": 27
        }
      ]
    },
    {
      "cell_type": "code",
      "metadata": {
        "colab": {
          "base_uri": "https://localhost:8080/",
          "height": 417
        },
        "id": "JxH49usnlTiU",
        "outputId": "b8220a67-2b50-4eb0-8f90-dba59e6a5b44"
      },
      "source": [
        "data_df = pd.DataFrame(df,columns=['path','label'])\n",
        "data_df"
      ],
      "execution_count": 28,
      "outputs": [
        {
          "output_type": "execute_result",
          "data": {
            "text/html": [
              "<div>\n",
              "<style scoped>\n",
              "    .dataframe tbody tr th:only-of-type {\n",
              "        vertical-align: middle;\n",
              "    }\n",
              "\n",
              "    .dataframe tbody tr th {\n",
              "        vertical-align: top;\n",
              "    }\n",
              "\n",
              "    .dataframe thead th {\n",
              "        text-align: right;\n",
              "    }\n",
              "</style>\n",
              "<table border=\"1\" class=\"dataframe\">\n",
              "  <thead>\n",
              "    <tr style=\"text-align: right;\">\n",
              "      <th></th>\n",
              "      <th>path</th>\n",
              "      <th>label</th>\n",
              "    </tr>\n",
              "  </thead>\n",
              "  <tbody>\n",
              "    <tr>\n",
              "      <th>0</th>\n",
              "      <td>geological_similarity/marble/4R7PK.jpg</td>\n",
              "      <td>marbler</td>\n",
              "    </tr>\n",
              "    <tr>\n",
              "      <th>1</th>\n",
              "      <td>geological_similarity/gneiss/DTU73.jpg</td>\n",
              "      <td>gneiss</td>\n",
              "    </tr>\n",
              "    <tr>\n",
              "      <th>2</th>\n",
              "      <td>geological_similarity/andesite/9263J.jpg</td>\n",
              "      <td>andesite</td>\n",
              "    </tr>\n",
              "    <tr>\n",
              "      <th>3</th>\n",
              "      <td>geological_similarity/andesite/QDGRD.jpg</td>\n",
              "      <td>andesite</td>\n",
              "    </tr>\n",
              "    <tr>\n",
              "      <th>4</th>\n",
              "      <td>geological_similarity/marble/NWQGD.jpg</td>\n",
              "      <td>marbler</td>\n",
              "    </tr>\n",
              "    <tr>\n",
              "      <th>...</th>\n",
              "      <td>...</td>\n",
              "      <td>...</td>\n",
              "    </tr>\n",
              "    <tr>\n",
              "      <th>29993</th>\n",
              "      <td>geological_similarity/schist/101OV.jpg</td>\n",
              "      <td>schist</td>\n",
              "    </tr>\n",
              "    <tr>\n",
              "      <th>29994</th>\n",
              "      <td>geological_similarity/gneiss/ISG2N.jpg</td>\n",
              "      <td>gneiss</td>\n",
              "    </tr>\n",
              "    <tr>\n",
              "      <th>29995</th>\n",
              "      <td>geological_similarity/marble/CXBTU.jpg</td>\n",
              "      <td>marbler</td>\n",
              "    </tr>\n",
              "    <tr>\n",
              "      <th>29996</th>\n",
              "      <td>geological_similarity/quartzite/5ZKE4.jpg</td>\n",
              "      <td>quartzite</td>\n",
              "    </tr>\n",
              "    <tr>\n",
              "      <th>29997</th>\n",
              "      <td>geological_similarity/gneiss/XN863.jpg</td>\n",
              "      <td>gneiss</td>\n",
              "    </tr>\n",
              "  </tbody>\n",
              "</table>\n",
              "<p>29998 rows × 2 columns</p>\n",
              "</div>"
            ],
            "text/plain": [
              "                                            path      label\n",
              "0         geological_similarity/marble/4R7PK.jpg    marbler\n",
              "1         geological_similarity/gneiss/DTU73.jpg     gneiss\n",
              "2       geological_similarity/andesite/9263J.jpg   andesite\n",
              "3       geological_similarity/andesite/QDGRD.jpg   andesite\n",
              "4         geological_similarity/marble/NWQGD.jpg    marbler\n",
              "...                                          ...        ...\n",
              "29993     geological_similarity/schist/101OV.jpg     schist\n",
              "29994     geological_similarity/gneiss/ISG2N.jpg     gneiss\n",
              "29995     geological_similarity/marble/CXBTU.jpg    marbler\n",
              "29996  geological_similarity/quartzite/5ZKE4.jpg  quartzite\n",
              "29997     geological_similarity/gneiss/XN863.jpg     gneiss\n",
              "\n",
              "[29998 rows x 2 columns]"
            ]
          },
          "metadata": {},
          "execution_count": 28
        }
      ]
    },
    {
      "cell_type": "code",
      "metadata": {
        "colab": {
          "base_uri": "https://localhost:8080/"
        },
        "id": "qhAVtAK8zQPd",
        "outputId": "bd68de89-0363-44a2-ee73-c7509c7ce5f5"
      },
      "source": [
        "data_df.dtypes"
      ],
      "execution_count": 29,
      "outputs": [
        {
          "output_type": "execute_result",
          "data": {
            "text/plain": [
              "path     object\n",
              "label    object\n",
              "dtype: object"
            ]
          },
          "metadata": {},
          "execution_count": 29
        }
      ]
    },
    {
      "cell_type": "markdown",
      "metadata": {
        "id": "XlUbajOTxHKl"
      },
      "source": [
        "# **Limpeza de dados**\n",
        "1 - Analisando os dados ausentes\n",
        "2 - Descartando os dados ausentes\n",
        "3 - Imputando dados\n",
        "4 - Acrescentando colunas informativas"
      ]
    },
    {
      "cell_type": "code",
      "metadata": {
        "colab": {
          "base_uri": "https://localhost:8080/",
          "height": 530
        },
        "id": "ybydrHWUvlbY",
        "outputId": "f6ad52b5-a8d2-4bb7-af6a-401273f172c9"
      },
      "source": [
        "import missingno as msno\n",
        "ax = msno.matrix(data_df.sample(400))"
      ],
      "execution_count": 30,
      "outputs": [
        {
          "output_type": "display_data",
          "data": {
            "image/png": "[encoded data removed]",
            "text/plain": [
              "<Figure size 2500x1000 with 2 Axes>"
            ]
          },
          "metadata": {}
        }
      ]
    },
    {
      "cell_type": "code",
      "metadata": {
        "id": "9cVvBcwVxq9s"
      },
      "source": [
        "#! pip install pandas-profiling==2.8.0\n",
        "#from pandas_profiling import ProfileReport\n",
        "#ProfileReport (data_df)"
      ],
      "execution_count": 18,
      "outputs": []
    },
    {
      "cell_type": "markdown",
      "metadata": {
        "id": "aPsSnX6j0Ec-"
      },
      "source": [
        "# **Separação das amostras**"
      ]
    },
    {
      "cell_type": "code",
      "metadata": {
        "id": "GivnwDIGUrFW"
      },
      "source": [
        "X = data_df.drop(columns='label')\n",
        "y= data_df.path"
      ],
      "execution_count": 31,
      "outputs": []
    },
    {
      "cell_type": "code",
      "metadata": {
        "id": "uh3XBhM9pqJz"
      },
      "source": [
        "X_train,X_test,y_train,y_test=train_test_split(X,y,test_size=0.2,random_state=44)"
      ],
      "execution_count": 32,
      "outputs": []
    },
    {
      "cell_type": "markdown",
      "metadata": {
        "id": "uAXxm12yUwsI"
      },
      "source": [
        "# **Explorando os dados**"
      ]
    },
    {
      "cell_type": "code",
      "metadata": {
        "colab": {
          "base_uri": "https://localhost:8080/"
        },
        "id": "RIeT3Ji_UxQO",
        "outputId": "5fcd4d21-e177-4dee-aaf8-686a72ab65fd"
      },
      "source": [
        "print(X_train.shape)\n",
        "print(X_test.shape)\n",
        "print(y_train.shape)\n",
        "print(y_test.shape)"
      ],
      "execution_count": 34,
      "outputs": [
        {
          "output_type": "stream",
          "name": "stdout",
          "text": [
            "(23998, 1)\n",
            "(6000, 1)\n",
            "(23998,)\n",
            "(6000,)\n"
          ]
        }
      ]
    },
    {
      "cell_type": "code",
      "metadata": {
        "colab": {
          "base_uri": "https://localhost:8080/",
          "height": 172
        },
        "id": "dJyhQw37U7IR",
        "outputId": "4fb0dcc7-453a-4eec-9d8e-3aa9ca0ffcea"
      },
      "source": [
        "X_train.describe()"
      ],
      "execution_count": 35,
      "outputs": [
        {
          "output_type": "execute_result",
          "data": {
            "text/html": [
              "<div>\n",
              "<style scoped>\n",
              "    .dataframe tbody tr th:only-of-type {\n",
              "        vertical-align: middle;\n",
              "    }\n",
              "\n",
              "    .dataframe tbody tr th {\n",
              "        vertical-align: top;\n",
              "    }\n",
              "\n",
              "    .dataframe thead th {\n",
              "        text-align: right;\n",
              "    }\n",
              "</style>\n",
              "<table border=\"1\" class=\"dataframe\">\n",
              "  <thead>\n",
              "    <tr style=\"text-align: right;\">\n",
              "      <th></th>\n",
              "      <th>path</th>\n",
              "    </tr>\n",
              "  </thead>\n",
              "  <tbody>\n",
              "    <tr>\n",
              "      <th>count</th>\n",
              "      <td>23998</td>\n",
              "    </tr>\n",
              "    <tr>\n",
              "      <th>unique</th>\n",
              "      <td>23998</td>\n",
              "    </tr>\n",
              "    <tr>\n",
              "      <th>top</th>\n",
              "      <td>geological_similarity/quartzite/RHX3J.jpg</td>\n",
              "    </tr>\n",
              "    <tr>\n",
              "      <th>freq</th>\n",
              "      <td>1</td>\n",
              "    </tr>\n",
              "  </tbody>\n",
              "</table>\n",
              "</div>"
            ],
            "text/plain": [
              "                                             path\n",
              "count                                       23998\n",
              "unique                                      23998\n",
              "top     geological_similarity/quartzite/RHX3J.jpg\n",
              "freq                                            1"
            ]
          },
          "metadata": {},
          "execution_count": 35
        }
      ]
    },
    {
      "cell_type": "code",
      "metadata": {
        "id": "Xry02gl1VD3g"
      },
      "source": [
        "#fig, ax = plt.subplots(figsize=(6,4))\n",
        "#X.plot(kind=\"hist\",ax=ax)"
      ],
      "execution_count": null,
      "outputs": []
    },
    {
      "cell_type": "markdown",
      "metadata": {
        "id": "-AAuWUVf6ocm"
      },
      "source": [
        "# **Data Argumentation**"
      ]
    },
    {
      "cell_type": "markdown",
      "metadata": {
        "id": "G1xbq78zfV9i"
      },
      "source": [
        "## ** Esta função irá plotar as imagens num grid de 1 a 5 colunas **"
      ]
    },
    {
      "cell_type": "code",
      "metadata": {
        "id": "hjV3pOngCtA7"
      },
      "source": [
        "def plotImages(images_arr):\n",
        "    fig, axes = plt.subplots(1, 5, figsize=(20,20))\n",
        "    axes = axes.flatten()\n",
        "    for img, ax in zip(images_arr, axes):\n",
        "        ax.imshow(img)\n",
        "    plt.tight_layout()\n",
        "    plt.show()"
      ],
      "execution_count": 36,
      "outputs": []
    },
    {
      "cell_type": "code",
      "metadata": {
        "id": "jkUru3gBfA0n"
      },
      "source": [
        "IMG_SHAPE = 28\n",
        "BATCH_SIZE = 20"
      ],
      "execution_count": 37,
      "outputs": []
    },
    {
      "cell_type": "code",
      "metadata": {
        "id": "Cw0IbS6mfdxM"
      },
      "source": [
        "datagen = ImageDataGenerator(rescale=1./255,\n",
        "                            #rotation_range = 40,\n",
        "                            #width_shift_range = 0.2,\n",
        "                            #height_shift_range = 0.2,\n",
        "                            #shear_range = 0.2,\n",
        "                            #zoom_range = 0.2,\n",
        "                            horizontal_flip = True,\n",
        "                            validation_split=0.2)"
      ],
      "execution_count": 38,
      "outputs": []
    },
    {
      "cell_type": "code",
      "metadata": {
        "colab": {
          "base_uri": "https://localhost:8080/"
        },
        "id": "fJOGqBP7fd3n",
        "outputId": "9b4dccb9-9365-4d85-d92d-fbb6662a478b"
      },
      "source": [
        "train_generator = datagen.flow_from_dataframe(data_df,\n",
        "                                              x_col='path',\n",
        "                                              y_col='label',\n",
        "                                              images_size=(28,28),\n",
        "                                              #class_mode='binary',\n",
        "                                              subset='training')\n",
        "\n",
        "validation_generator = datagen.flow_from_dataframe(data_df,\n",
        "                                                   x_col='path',\n",
        "                                                   y_col='label',\n",
        "                                                   images_size=(28,28),\n",
        "                                                   #class_mode='binary',\n",
        "                                                   subset='validation')\n",
        "\n",
        "## Duvidas - Existe esse codigo abaixo\n",
        "\n",
        "#test_generator = datagen.flow_from_dataframe(data_df,\n",
        "                                              #x_col='path',\n",
        "                                             # y_col='label',\n",
        "                                             # images_size=(28,28)\n",
        "                                              #class_mode='binary')\n",
        "                                             # )"
      ],
      "execution_count": 40,
      "outputs": [
        {
          "output_type": "stream",
          "name": "stdout",
          "text": [
            "Found 23999 validated image filenames belonging to 6 classes.\n",
            "Found 5999 validated image filenames belonging to 6 classes.\n"
          ]
        }
      ]
    },
    {
      "cell_type": "code",
      "metadata": {
        "colab": {
          "base_uri": "https://localhost:8080/",
          "height": 253
        },
        "id": "ShN0CzElfd9R",
        "outputId": "0fe93959-f3bf-4197-a2df-546a5b3c081a"
      },
      "source": [
        "augmented_images = [train_generator[0][0][0] for i in range(5)]\n",
        "plotImages(augmented_images)"
      ],
      "execution_count": 41,
      "outputs": [
        {
          "output_type": "display_data",
          "data": {
            "image/png": "[encoded data removed]",
            "text/plain": [
              "<Figure size 2000x2000 with 5 Axes>"
            ]
          },
          "metadata": {}
        }
      ]
    },
    {
      "cell_type": "markdown",
      "metadata": {
        "id": "l1OMG-TS0Lq_"
      },
      "source": [
        "# **Imputação dos dados ???**"
      ]
    },
    {
      "cell_type": "markdown",
      "metadata": {
        "id": "JbBfQIg10RlI"
      },
      "source": [
        "# **Normalização dos dados ???**"
      ]
    },
    {
      "cell_type": "markdown",
      "metadata": {
        "id": "dXm8LYqv0_vK"
      },
      "source": [
        "# **Criar o modelo**"
      ]
    },
    {
      "cell_type": "code",
      "metadata": {
        "id": "aksvwnd_cB3m"
      },
      "source": [
        "from tensorflow import keras\n",
        "from tensorflow.keras import layers\n",
        "\n",
        "inputs = keras.Input(shape=(180, 180, 3))\n",
        "x = layers.experimental.preprocessing.Rescaling(1./255)(inputs)\n",
        "x = layers.Conv2D(filters=32, kernel_size=3, activation=\"relu\")(x)\n",
        "x = layers.MaxPooling2D(pool_size=2)(x)\n",
        "x = layers.Conv2D(filters=64, kernel_size=3, activation=\"relu\")(x)\n",
        "x = layers.MaxPooling2D(pool_size=2)(x)\n",
        "x = layers.Conv2D(filters=128, kernel_size=3, activation=\"relu\")(x)\n",
        "x = layers.MaxPooling2D(pool_size=2)(x)\n",
        "x = layers.Conv2D(filters=256, kernel_size=3, activation=\"relu\")(x)\n",
        "x = layers.MaxPooling2D(pool_size=2)(x)\n",
        "x = layers.Conv2D(filters=256, kernel_size=3, activation=\"relu\")(x)\n",
        "x = layers.Flatten()(x)\n",
        "outputs = layers.Dense(1, activation=\"sigmoid\")(x)\n",
        "model = keras.Model(inputs=inputs, outputs=outputs)"
      ],
      "execution_count": 59,
      "outputs": []
    },
    {
      "cell_type": "code",
      "metadata": {
        "id": "ncctBTCAgG7d"
      },
      "source": [
        "model = tf.keras.models.Sequential([\n",
        "    tf.keras.layers.Conv2D(31, (3,3), activation='relu', input_shape=(180, 180,3)),\n",
        "    tf.keras.layers.MaxPooling2D(2, 2),\n",
        "\n",
        "    tf.keras.layers.Conv2D(64, (3,3), activation='relu'),\n",
        "    tf.keras.layers.MaxPooling2D(2,2),\n",
        "\n",
        "    tf.keras.layers.Conv2D(128, (3,3), activation='relu'),\n",
        "    tf.keras.layers.MaxPooling2D(2,2),\n",
        "\n",
        "    tf.keras.layers.Conv2D(128, (3,3), activation='relu'),\n",
        "    tf.keras.layers.MaxPooling2D(2,2),\n",
        "\n",
        "    tf.keras.layers.Dropout(0.5),\n",
        "    tf.keras.layers.Flatten(),\n",
        "    tf.keras.layers.Dense(512, activation='relu'),\n",
        "    tf.keras.layers.Dense(6)\n",
        "])"
      ],
      "execution_count": 56,
      "outputs": []
    },
    {
      "cell_type": "markdown",
      "metadata": {
        "id": "cQvF_-VrbIhO"
      },
      "source": [
        "# **Compilando o Modelo**"
      ]
    },
    {
      "cell_type": "code",
      "metadata": {
        "id": "tseOThp5bLVl"
      },
      "source": [
        "model.compile(optimizer = Adam(learning_rate=0.0001), \n",
        "               loss = 'binary_crossentropy', \n",
        "               metrics =['accuracy'])"
      ],
      "execution_count": 60,
      "outputs": []
    },
    {
      "cell_type": "code",
      "metadata": {
        "id": "quiMae2IbOcT",
        "outputId": "78190bbc-748f-441c-a799-bb9ba25240f2",
        "colab": {
          "base_uri": "https://localhost:8080/"
        }
      },
      "source": [
        "model.summary()  "
      ],
      "execution_count": 61,
      "outputs": [
        {
          "output_type": "stream",
          "name": "stdout",
          "text": [
            "Model: \"model_2\"\n",
            "_________________________________________________________________\n",
            "Layer (type)                 Output Shape              Param #   \n",
            "=================================================================\n",
            "input_4 (InputLayer)         [(None, 180, 180, 3)]     0         \n",
            "_________________________________________________________________\n",
            "rescaling_3 (Rescaling)      (None, 180, 180, 3)       0         \n",
            "_________________________________________________________________\n",
            "conv2d_50 (Conv2D)           (None, 178, 178, 32)      896       \n",
            "_________________________________________________________________\n",
            "max_pooling2d_47 (MaxPooling (None, 89, 89, 32)        0         \n",
            "_________________________________________________________________\n",
            "conv2d_51 (Conv2D)           (None, 87, 87, 64)        18496     \n",
            "_________________________________________________________________\n",
            "max_pooling2d_48 (MaxPooling (None, 43, 43, 64)        0         \n",
            "_________________________________________________________________\n",
            "conv2d_52 (Conv2D)           (None, 41, 41, 128)       73856     \n",
            "_________________________________________________________________\n",
            "max_pooling2d_49 (MaxPooling (None, 20, 20, 128)       0         \n",
            "_________________________________________________________________\n",
            "conv2d_53 (Conv2D)           (None, 18, 18, 256)       295168    \n",
            "_________________________________________________________________\n",
            "max_pooling2d_50 (MaxPooling (None, 9, 9, 256)         0         \n",
            "_________________________________________________________________\n",
            "conv2d_54 (Conv2D)           (None, 7, 7, 256)         590080    \n",
            "_________________________________________________________________\n",
            "flatten_11 (Flatten)         (None, 12544)             0         \n",
            "_________________________________________________________________\n",
            "dense_19 (Dense)             (None, 1)                 12545     \n",
            "=================================================================\n",
            "Total params: 991,041\n",
            "Trainable params: 991,041\n",
            "Non-trainable params: 0\n",
            "_________________________________________________________________\n"
          ]
        }
      ]
    },
    {
      "cell_type": "code",
      "metadata": {
        "id": "9Sr0YDZ8dCmz"
      },
      "source": [
        "callbacks_list = [\n",
        "    tf.keras.callbacks.ReduceLROnPlateau(factor=0.5,\n",
        "                                         patience=4,\n",
        "                                         verbose=0),\n",
        "    tf.keras.callbacks.EarlyStopping(\n",
        "        monitor=\"accuracy\",\n",
        "        patience=12,\n",
        "        #restore_best_weights=True,\n",
        "    ),\n",
        "    tf.keras.callbacks.ModelCheckpoint(\n",
        "        filepath='best_model.h5',\n",
        "        monitor=\"val_accuracy\",\n",
        "        save_best_only=True,\n",
        "    ),\n",
        "\n",
        "]"
      ],
      "execution_count": 62,
      "outputs": []
    },
    {
      "cell_type": "markdown",
      "metadata": {
        "id": "IhQyiWIh1HQs"
      },
      "source": [
        "# **Avaliar o modelo**"
      ]
    },
    {
      "cell_type": "code",
      "metadata": {
        "id": "m0JQpL4mdEMh"
      },
      "source": [
        "history = model.fit(train_generator,\n",
        "                               epochs=20,\n",
        "                               #verbose=0,\n",
        "                               callbacks=callbacks_list, \n",
        "                               #validation_split=0.2,\n",
        "                               #class_weight=class_weight_,\n",
        "                               workers=4,\n",
        "                               use_multiprocessing=True,\n",
        "                               validation_data=validation_generator)"
      ],
      "execution_count": null,
      "outputs": []
    },
    {
      "cell_type": "code",
      "metadata": {
        "id": "cwpnwl86dm74",
        "outputId": "44f45ea8-62d2-447b-f06e-f094322ba7e2",
        "colab": {
          "base_uri": "https://localhost:8080/",
          "height": 128
        }
      },
      "source": [
        "history = model.fit(X_train,y_train\n",
        "                    epochs=20,\n",
        "                    #verbose=0,\n",
        "                    callbacks=callbacks_list, \n",
        "                    #validation_split=0.2,\n",
        "                    #class_weight=class_weight_,\n",
        "                    workers=4,\n",
        "                    use_multiprocessing=True,\n",
        "                    #validation_data=validation_generator)"
      ],
      "execution_count": 64,
      "outputs": [
        {
          "output_type": "error",
          "ename": "SyntaxError",
          "evalue": "ignored",
          "traceback": [
            "\u001b[0;36m  File \u001b[0;32m\"<ipython-input-64-66598307567a>\"\u001b[0;36m, line \u001b[0;32m2\u001b[0m\n\u001b[0;31m    epoch=20,\u001b[0m\n\u001b[0m        ^\u001b[0m\n\u001b[0;31mSyntaxError\u001b[0m\u001b[0;31m:\u001b[0m invalid syntax\n"
          ]
        }
      ]
    },
    {
      "cell_type": "markdown",
      "metadata": {
        "id": "0G-slWFQ1KwJ"
      },
      "source": [
        "# **Otimizar o modelo**"
      ]
    },
    {
      "cell_type": "code",
      "metadata": {
        "id": "SSXH7txAgG_n"
      },
      "source": [
        ""
      ],
      "execution_count": null,
      "outputs": []
    }
  ]
}