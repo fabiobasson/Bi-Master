{
  "nbformat": 4,
  "nbformat_minor": 0,
  "metadata": {
    "colab": {
      "name": "geological-image-similarity.ipynb",
      "provenance": [],
      "authorship_tag": "ABX9TyPmqOv5bfmW5Ot3WsM/PmRl",
      "include_colab_link": true
    },
    "kernelspec": {
      "name": "python3",
      "display_name": "Python 3"
    },
    "language_info": {
      "name": "python"
    },
    "accelerator": "GPU"
  },
  "cells": [
    {
      "cell_type": "markdown",
      "metadata": {
        "id": "view-in-github",
        "colab_type": "text"
      },
      "source": [
        "<a href=\"https://colab.research.google.com/github/fabiobasson/Bi-Master/blob/main/geological_comparative30092021.ipynb\" target=\"_parent\"><img src=\"https://colab.research.google.com/assets/colab-badge.svg\" alt=\"Open In Colab\"/></a>"
      ]
    },
    {
      "cell_type": "markdown",
      "metadata": {
        "id": "ek-dpdgUwrpq"
      },
      "source": [
        "# Importações "
      ]
    },
    {
      "cell_type": "code",
      "metadata": {
        "id": "BhMpCgi7O64x"
      },
      "source": [
        "import warnings\n",
        "warnings.filterwarnings('always')\n",
        "warnings.filterwarnings('ignore')\n",
        "\n",
        "import os\n",
        "import tensorflow as tf\n",
        "from tensorflow.keras import layers\n",
        "from tensorflow.keras import Model\n",
        "from tensorflow.keras.layers import Dense, Dropout\n",
        "\n",
        "from os import getcwd\n",
        "import zipfile\n",
        "import shutil\n",
        "import numpy as np\n",
        "import glob\n",
        "import random\n",
        "import pandas as pd\n",
        "import matplotlib.pyplot as plt\n",
        "from PIL import Image\n",
        "import plotly.express as px\n",
        "import cv2 as cv\n",
        "\n",
        "from tensorflow.keras.optimizers import RMSprop, Adam\n",
        "from tensorflow.keras.applications.vgg16 import VGG16\n",
        "from tensorflow.keras.applications.inception_v3 import InceptionV3\n",
        "from tensorflow.keras.preprocessing.image import ImageDataGenerator\n",
        "\n",
        "from sklearn.metrics import confusion_matrix,accuracy_score\n",
        "from sklearn.model_selection import train_test_split"
      ],
      "execution_count": 2,
      "outputs": []
    },
    {
      "cell_type": "code",
      "metadata": {
        "colab": {
          "base_uri": "https://localhost:8080/"
        },
        "id": "ye09bw6nVWgH",
        "outputId": "49f140d0-05d3-42a5-8d48-754093cf8822"
      },
      "source": [
        "print(tf.__version__)"
      ],
      "execution_count": 2,
      "outputs": [
        {
          "output_type": "stream",
          "name": "stdout",
          "text": [
            "2.6.0\n"
          ]
        }
      ]
    },
    {
      "cell_type": "code",
      "metadata": {
        "id": "Z6Micr83L4uy",
        "colab": {
          "base_uri": "https://localhost:8080/"
        },
        "outputId": "0d0545b8-3354-4eed-bf70-7e028d794d9b"
      },
      "source": [
        "# Instalar Tensorflow\n",
        "#!pip install tensorflow==2.6.0\n",
        "\n",
        "# Instalar Keras\n",
        "!pip install keras --upgrade"
      ],
      "execution_count": 3,
      "outputs": [
        {
          "output_type": "stream",
          "name": "stdout",
          "text": [
            "Requirement already satisfied: keras in /usr/local/lib/python3.7/dist-packages (2.6.0)\n"
          ]
        }
      ]
    },
    {
      "cell_type": "code",
      "metadata": {
        "id": "qB35LCwK1F9Y"
      },
      "source": [
        "# Caso precise, remover os diretorios\n",
        "\n",
        "#!rm -rf geological_similarity andesite gneiss/ marble/ quartzite/ rhyolite/ schist/\n",
        "#!rm -rf geological-image-similarity"
      ],
      "execution_count": 4,
      "outputs": []
    },
    {
      "cell_type": "markdown",
      "metadata": {
        "id": "WsBJvou07fbF"
      },
      "source": [
        "# **Coleta de dados do Kaglle**"
      ]
    },
    {
      "cell_type": "code",
      "metadata": {
        "colab": {
          "resources": {
            "http://localhost:8080/nbextensions/google.colab/files.js": {
              "data": "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",
              "ok": true,
              "headers": [
                [
                  "content-type",
                  "application/javascript"
                ]
              ],
              "status": 200,
              "status_text": ""
            }
          },
          "base_uri": "https://localhost:8080/",
          "height": 73
        },
        "id": "qPW1Uceu4EkK",
        "outputId": "76bee454-eb9c-4f3b-d138-f15748676ba4"
      },
      "source": [
        "from google.colab import files\n",
        "files.upload()\n",
        "\n",
        "!mkdir ~/.kaggle\n",
        "!cp kaggle.json ~/.kaggle/\n",
        "!chmod 600 ~/.kaggle/kaggle.json"
      ],
      "execution_count": 3,
      "outputs": [
        {
          "output_type": "display_data",
          "data": {
            "text/html": [
              "\n",
              "     <input type=\"file\" id=\"files-847f8625-33df-401e-9801-4b2764c30438\" name=\"files[]\" multiple disabled\n",
              "        style=\"border:none\" />\n",
              "     <output id=\"result-847f8625-33df-401e-9801-4b2764c30438\">\n",
              "      Upload widget is only available when the cell has been executed in the\n",
              "      current browser session. Please rerun this cell to enable.\n",
              "      </output>\n",
              "      <script src=\"/nbextensions/google.colab/files.js\"></script> "
            ],
            "text/plain": [
              "<IPython.core.display.HTML object>"
            ]
          },
          "metadata": {}
        },
        {
          "output_type": "stream",
          "name": "stdout",
          "text": [
            "Saving kaggle.json to kaggle.json\n"
          ]
        }
      ]
    },
    {
      "cell_type": "markdown",
      "metadata": {
        "id": "rte0cNVp7kgE"
      },
      "source": [
        "# **###  Download dos dados / descompactando os dados**"
      ]
    },
    {
      "cell_type": "code",
      "metadata": {
        "colab": {
          "base_uri": "https://localhost:8080/"
        },
        "id": "GvN30SNO4L1f",
        "outputId": "2a864c88-0846-4753-d532-cfcff6008259"
      },
      "source": [
        "#!kaggle datasets download fabiobasson/geologicalsimilarity\n",
        "#! unzip -qq  geologicalsimilarity\n",
        "!kaggle datasets download tanyadayanand/geological-image-similarity\n",
        "! unzip -qq geological-image-similarity    "
      ],
      "execution_count": 4,
      "outputs": [
        {
          "output_type": "stream",
          "name": "stdout",
          "text": [
            "Downloading geological-image-similarity.zip to /content\n",
            "100% 33.6M/33.6M [00:01<00:00, 17.8MB/s]\n",
            "\n"
          ]
        }
      ]
    },
    {
      "cell_type": "markdown",
      "metadata": {
        "id": "owY2uo8A7q5j"
      },
      "source": [
        "# ** Criação da estrutura e leitura de diretórios **"
      ]
    },
    {
      "cell_type": "code",
      "metadata": {
        "id": "QXSrUDeU4L7J",
        "colab": {
          "base_uri": "https://localhost:8080/"
        },
        "outputId": "0e15cc26-d3b6-4e37-ec9e-5fa8fbdc10eb"
      },
      "source": [
        "andesite_dir = glob.glob('geological_similarity/andesite/*.jpg');gneiss_dir = glob.glob('geological_similarity/gneiss/*.jpg')\n",
        "marble_dir= glob.glob('geological_similarity/marble/*.jpg');quartzite_dir = glob.glob('geological_similarity/quartzite/*.jpg')\n",
        "rhyolite_dir = glob.glob('geological_similarity/rhyolite/*.jpg');\n",
        "schist_dir = glob.glob('geological_similarity/schist/*.jpg')\n",
        "print(len(andesite_dir));print(len(gneiss_dir)); print(len(marble_dir)); print(len(quartzite_dir));  print(len(quartzite_dir)); print(len(schist_dir))\n"
      ],
      "execution_count": 5,
      "outputs": [
        {
          "output_type": "stream",
          "name": "stdout",
          "text": [
            "5000\n",
            "5000\n",
            "4998\n",
            "5000\n",
            "5000\n",
            "5000\n"
          ]
        }
      ]
    },
    {
      "cell_type": "markdown",
      "metadata": {
        "id": "xL-7GOm_w3m3"
      },
      "source": [
        "# **Nomes das Classes**\n",
        "# andesite = 0  # gneiss =1 # marbler = 2 # quartzite = 3 # rhyolite = 4  # schist = 5 \n"
      ]
    },
    {
      "cell_type": "code",
      "metadata": {
        "colab": {
          "base_uri": "https://localhost:8080/"
        },
        "id": "wBhB6b6xi1xl",
        "outputId": "0f1d9436-ada9-4f31-b9fd-15119cac2a0a"
      },
      "source": [
        "label = ['andesite','gneiss','marbler','quartzite','rhyolite','schist']\n",
        "\n",
        "andesite_df=[];gneiss_df=[];marble_df=[];quartzite_df=[];rhyolite_df=[];schist_df=[]\n",
        "\n",
        "for i in andesite_dir:\n",
        "    andesite_df.append([i,label[0]])\n",
        "for j in gneiss_dir:\n",
        "   gneiss_df.append([j,label[1]])\n",
        "for l in marble_dir:\n",
        "    marble_df.append([l,label[2]])\n",
        "for m in quartzite_dir:\n",
        "    quartzite_df.append([m,label[3]])\n",
        "for n in rhyolite_dir:\n",
        "    rhyolite_df.append([n,label[4]])\n",
        "for o in schist_dir:\n",
        "    schist_df.append([o,label[5]])\n",
        "   \n",
        "df = andesite_df + gneiss_df + marble_df  + quartzite_df + rhyolite_df + schist_df\n",
        "random.shuffle(df)\n",
        "len(df)"
      ],
      "execution_count": 6,
      "outputs": [
        {
          "output_type": "execute_result",
          "data": {
            "text/plain": [
              "29998"
            ]
          },
          "metadata": {},
          "execution_count": 6
        }
      ]
    },
    {
      "cell_type": "markdown",
      "metadata": {
        "id": "iJTNl-uSVUFA"
      },
      "source": [
        "# **Criação do Dataframe**"
      ]
    },
    {
      "cell_type": "code",
      "metadata": {
        "colab": {
          "base_uri": "https://localhost:8080/",
          "height": 415
        },
        "id": "87UeiF--wzh8",
        "outputId": "8c4d48ea-49ad-45e0-acfc-67e223bb8f7e"
      },
      "source": [
        "data_df = pd.DataFrame(df,columns=['path','label'])\n",
        "data_df"
      ],
      "execution_count": 7,
      "outputs": [
        {
          "output_type": "execute_result",
          "data": {
            "text/html": [
              "<div>\n",
              "<style scoped>\n",
              "    .dataframe tbody tr th:only-of-type {\n",
              "        vertical-align: middle;\n",
              "    }\n",
              "\n",
              "    .dataframe tbody tr th {\n",
              "        vertical-align: top;\n",
              "    }\n",
              "\n",
              "    .dataframe thead th {\n",
              "        text-align: right;\n",
              "    }\n",
              "</style>\n",
              "<table border=\"1\" class=\"dataframe\">\n",
              "  <thead>\n",
              "    <tr style=\"text-align: right;\">\n",
              "      <th></th>\n",
              "      <th>path</th>\n",
              "      <th>label</th>\n",
              "    </tr>\n",
              "  </thead>\n",
              "  <tbody>\n",
              "    <tr>\n",
              "      <th>0</th>\n",
              "      <td>geological_similarity/andesite/H9U1E.jpg</td>\n",
              "      <td>andesite</td>\n",
              "    </tr>\n",
              "    <tr>\n",
              "      <th>1</th>\n",
              "      <td>geological_similarity/gneiss/QPD5T.jpg</td>\n",
              "      <td>gneiss</td>\n",
              "    </tr>\n",
              "    <tr>\n",
              "      <th>2</th>\n",
              "      <td>geological_similarity/quartzite/POEM9.jpg</td>\n",
              "      <td>quartzite</td>\n",
              "    </tr>\n",
              "    <tr>\n",
              "      <th>3</th>\n",
              "      <td>geological_similarity/quartzite/TKXNP.jpg</td>\n",
              "      <td>quartzite</td>\n",
              "    </tr>\n",
              "    <tr>\n",
              "      <th>4</th>\n",
              "      <td>geological_similarity/quartzite/KQFI1.jpg</td>\n",
              "      <td>quartzite</td>\n",
              "    </tr>\n",
              "    <tr>\n",
              "      <th>...</th>\n",
              "      <td>...</td>\n",
              "      <td>...</td>\n",
              "    </tr>\n",
              "    <tr>\n",
              "      <th>29993</th>\n",
              "      <td>geological_similarity/rhyolite/09HC7.jpg</td>\n",
              "      <td>rhyolite</td>\n",
              "    </tr>\n",
              "    <tr>\n",
              "      <th>29994</th>\n",
              "      <td>geological_similarity/andesite/38A1P.jpg</td>\n",
              "      <td>andesite</td>\n",
              "    </tr>\n",
              "    <tr>\n",
              "      <th>29995</th>\n",
              "      <td>geological_similarity/quartzite/6GVCK.jpg</td>\n",
              "      <td>quartzite</td>\n",
              "    </tr>\n",
              "    <tr>\n",
              "      <th>29996</th>\n",
              "      <td>geological_similarity/schist/YCGAY.jpg</td>\n",
              "      <td>schist</td>\n",
              "    </tr>\n",
              "    <tr>\n",
              "      <th>29997</th>\n",
              "      <td>geological_similarity/quartzite/AQPAZ.jpg</td>\n",
              "      <td>quartzite</td>\n",
              "    </tr>\n",
              "  </tbody>\n",
              "</table>\n",
              "<p>29998 rows × 2 columns</p>\n",
              "</div>"
            ],
            "text/plain": [
              "                                            path      label\n",
              "0       geological_similarity/andesite/H9U1E.jpg   andesite\n",
              "1         geological_similarity/gneiss/QPD5T.jpg     gneiss\n",
              "2      geological_similarity/quartzite/POEM9.jpg  quartzite\n",
              "3      geological_similarity/quartzite/TKXNP.jpg  quartzite\n",
              "4      geological_similarity/quartzite/KQFI1.jpg  quartzite\n",
              "...                                          ...        ...\n",
              "29993   geological_similarity/rhyolite/09HC7.jpg   rhyolite\n",
              "29994   geological_similarity/andesite/38A1P.jpg   andesite\n",
              "29995  geological_similarity/quartzite/6GVCK.jpg  quartzite\n",
              "29996     geological_similarity/schist/YCGAY.jpg     schist\n",
              "29997  geological_similarity/quartzite/AQPAZ.jpg  quartzite\n",
              "\n",
              "[29998 rows x 2 columns]"
            ]
          },
          "metadata": {},
          "execution_count": 7
        }
      ]
    },
    {
      "cell_type": "markdown",
      "metadata": {
        "id": "B-ruxpGkzqHx"
      },
      "source": [
        "#  Conhecendo os dados de imagem"
      ]
    },
    {
      "cell_type": "code",
      "metadata": {
        "id": "q0f0-HaP3cYM",
        "colab": {
          "base_uri": "https://localhost:8080/"
        },
        "outputId": "a78c8e9f-048a-4099-9dfe-0b4188a58306"
      },
      "source": [
        "from numpy import asarray\n",
        "image = Image.open(\"geological_similarity/gneiss/0QTQE.jpg\")\n",
        "# Método asarray para realizar a conversão:\n",
        "pixels= asarray(image)\n",
        "# Verificando a faixa de valores entre 0 e 255:\n",
        "print('Data Type: %s' % pixels.dtype)\n",
        "print('Min: %.3f, Max: %.3f' % (pixels.min(), pixels.max()))\n",
        "\n",
        "#Converte os valores inteiros em float para realizar a operação:\n",
        "pixels = pixels.astype('float32')\n",
        "# Normaliza a faixa de valores:\n",
        "pixels /= pixels.max()\n",
        "# Verificando a faixa de valores normalizada:\n",
        "print('Data Type: %s' % pixels.dtype)\n",
        "print('Min: %.3f, Max: %.3f' % (pixels.min(), pixels.max()))"
      ],
      "execution_count": 8,
      "outputs": [
        {
          "output_type": "stream",
          "name": "stdout",
          "text": [
            "Data Type: uint8\n",
            "Min: 32.000, Max: 251.000\n",
            "Data Type: float32\n",
            "Min: 0.127, Max: 1.000\n"
          ]
        }
      ]
    },
    {
      "cell_type": "markdown",
      "metadata": {
        "id": "XlUbajOTxHKl"
      },
      "source": [
        "# **Limpeza de dados**\n",
        "1 - Analisando os dados ausentes\n",
        "2 - Descartando os dados ausentes\n",
        "3 - Imputando dados\n",
        "4 - Acrescentando colunas informativas"
      ]
    },
    {
      "cell_type": "code",
      "metadata": {
        "id": "ybydrHWUvlbY",
        "colab": {
          "base_uri": "https://localhost:8080/",
          "height": 460
        },
        "outputId": "f8006086-3338-40fb-89a1-1e977152f5f2"
      },
      "source": [
        "### 1 - Analisando os dados ausentes ###\n",
        "\n",
        "import missingno as msno\n",
        "ax = msno.matrix(data_df.sample(400))"
      ],
      "execution_count": 9,
      "outputs": [
        {
          "output_type": "display_data",
          "data": {
            "image/png": "[encoded data removed]",
            "text/plain": [
              "<Figure size 1800x720 with 2 Axes>"
            ]
          },
          "metadata": {
            "needs_background": "light"
          }
        }
      ]
    },
    {
      "cell_type": "code",
      "metadata": {
        "id": "9cVvBcwVxq9s"
      },
      "source": [
        "#! pip install pandas-profiling==2.8.0\n",
        "#from pandas_profiling import ProfileReport\n",
        "#ProfileReport (data_df)"
      ],
      "execution_count": 12,
      "outputs": []
    },
    {
      "cell_type": "markdown",
      "metadata": {
        "id": "NONt2HCxWd5X"
      },
      "source": [
        "# **Separação das amostras**"
      ]
    },
    {
      "cell_type": "code",
      "metadata": {
        "id": "KBjbH7d9NUnq"
      },
      "source": [
        "X = data_df.drop(columns='label')\n",
        "y = data_df.label\n",
        "\n",
        "# X_train, X_val, y_train, y_val = train_test_split(X, y, test_size = 0.2, random_state=42)"
      ],
      "execution_count": 8,
      "outputs": []
    },
    {
      "cell_type": "markdown",
      "metadata": {
        "id": "rgLimflCWSq3"
      },
      "source": [
        "# **Explorando os dados**"
      ]
    },
    {
      "cell_type": "markdown",
      "metadata": {
        "id": "-AAuWUVf6ocm"
      },
      "source": [
        "\n",
        "# **Type: Data Augumentation**"
      ]
    },
    {
      "cell_type": "markdown",
      "metadata": {
        "id": "G1xbq78zfV9i"
      },
      "source": [
        "## ** Esta função irá plotar as imagens num grid de 1 a 5 colunas **"
      ]
    },
    {
      "cell_type": "code",
      "metadata": {
        "id": "hjV3pOngCtA7"
      },
      "source": [
        "IMG_SHAPE = 28\n",
        "IMG_SHAPE_VGG16 = 32\n",
        "\n",
        "BATCH_SIZE = 128\n",
        "\n",
        "def plotImages(images_arr):\n",
        "    fig, axes = plt.subplots(1, 5, figsize=(20,20))\n",
        "    axes = axes.flatten()\n",
        "    for img, ax in zip(images_arr, axes):\n",
        "        ax.imshow(img)\n",
        "    plt.tight_layout()\n",
        "    plt.show()"
      ],
      "execution_count": 9,
      "outputs": []
    },
    {
      "cell_type": "code",
      "metadata": {
        "id": "Cw0IbS6mfdxM",
        "colab": {
          "base_uri": "https://localhost:8080/"
        },
        "outputId": "69e689da-edd6-4f0b-bc2c-4dc4ee0daa42"
      },
      "source": [
        "# Dados de Treino e Validação\n",
        "\n",
        "datagen_train = ImageDataGenerator(rescale=1./255,\n",
        "                            #featurewise_center =False ,\n",
        "                            # samplewise_center =False ,\n",
        "                            # featurewise_std_normalization =False ,\n",
        "                            # samplewise_std_normalization =False ,\n",
        "                            # zca_whitening =False ,\n",
        "                            # zca_epsilon =1e -6 ,\n",
        "                            # channel_shift_range =0. ,\n",
        "                            # fill_mode = ’ nearest ’ ,\n",
        "                            # cval =0. ,\n",
        "                            rotation_range = 40,\n",
        "                            width_shift_range = 0.2,\n",
        "                            height_shift_range = 0.2,\n",
        "                            #shear_range = 0.2,\n",
        "                            #zoom_range = 0.2,\n",
        "                            horizontal_flip = True,\n",
        "                            vertical_flip = True,\n",
        "                            validation_split=0.2)\n",
        "\n",
        "train_generator = datagen_train.flow_from_dataframe(data_df,\n",
        "                                               batch_size=BATCH_SIZE,\n",
        "                                               x_col='path',\n",
        "                                               y_col= 'label',\n",
        "                                               shuffle=True,\n",
        "                                               target_size=(IMG_SHAPE,IMG_SHAPE),\n",
        "                                               class_mode='categorical',\n",
        "                                               subset='training')\n",
        "\n",
        "train_generator_VGG16 = datagen_train.flow_from_dataframe(data_df,\n",
        "                                               batch_size=BATCH_SIZE,\n",
        "                                               x_col='path',\n",
        "                                               y_col= 'label',\n",
        "                                               shuffle=True,\n",
        "                                               target_size=(IMG_SHAPE_VGG16,IMG_SHAPE_VGG16),\n",
        "                                               class_mode='categorical',\n",
        "                                               subset='training')\n",
        "\n",
        "datagen_val = ImageDataGenerator (rescale=1./255, \n",
        "                                 validation_split=0.2)\n",
        "\n",
        "\n",
        "validation_generator = datagen_val.flow_from_dataframe(data_df,\n",
        "                                                   batch_size=BATCH_SIZE,\n",
        "                                                   x_col='path',\n",
        "                                                   y_col='label',\n",
        "                                                   shuffle=True,\n",
        "                                                   target_size=(IMG_SHAPE,IMG_SHAPE),\n",
        "                                                   class_mode='categorical',\n",
        "                                                   subset='validation') \n",
        "\n",
        "validation_generator_VGG16 = datagen_val.flow_from_dataframe(data_df,\n",
        "                                                   batch_size=BATCH_SIZE,\n",
        "                                                   x_col='path',\n",
        "                                                   y_col='label',\n",
        "                                                   shuffle=True,\n",
        "                                                   target_size=(IMG_SHAPE_VGG16,IMG_SHAPE_VGG16),\n",
        "                                                   class_mode='categorical',\n",
        "                                                   subset='validation')   "
      ],
      "execution_count": 10,
      "outputs": [
        {
          "output_type": "stream",
          "name": "stdout",
          "text": [
            "Found 23999 validated image filenames belonging to 6 classes.\n",
            "Found 23999 validated image filenames belonging to 6 classes.\n",
            "Found 5999 validated image filenames belonging to 6 classes.\n",
            "Found 5999 validated image filenames belonging to 6 classes.\n"
          ]
        }
      ]
    },
    {
      "cell_type": "code",
      "metadata": {
        "colab": {
          "base_uri": "https://localhost:8080/"
        },
        "id": "i5sbJJeWlcv4",
        "outputId": "6b548871-4269-4917-f725-a5c690f90c29"
      },
      "source": [
        "# Dados de Teste\n",
        "\n",
        "datagen_test = ImageDataGenerator (rescale=1./255, \n",
        "                                 validation_split=0.2)\n",
        "\n",
        "\n",
        "test_generator = datagen_test.flow_from_dataframe(data_df,\n",
        "                                                   batch_size=BATCH_SIZE,\n",
        "                                                   x_col='path',\n",
        "                                                   y_col='label',\n",
        "                                                   shuffle=False,\n",
        "                                                   target_size=(IMG_SHAPE,IMG_SHAPE),\n",
        "                                                   class_mode='categorical')\n",
        "                                                   #subset='validation') \n",
        "\n",
        "\n",
        "test_generator_VGG16 = datagen_test.flow_from_dataframe(data_df,\n",
        "                                                   batch_size=BATCH_SIZE,\n",
        "                                                   x_col='path',\n",
        "                                                   y_col='label',\n",
        "                                                   shuffle=False,\n",
        "                                                   target_size=(IMG_SHAPE_VGG16,IMG_SHAPE_VGG16),\n",
        "                                                   class_mode='categorical')\n",
        "                                                   #subset='validation') "
      ],
      "execution_count": 11,
      "outputs": [
        {
          "output_type": "stream",
          "name": "stdout",
          "text": [
            "Found 29998 validated image filenames belonging to 6 classes.\n",
            "Found 29998 validated image filenames belonging to 6 classes.\n"
          ]
        }
      ]
    },
    {
      "cell_type": "code",
      "metadata": {
        "colab": {
          "base_uri": "https://localhost:8080/",
          "height": 228
        },
        "id": "ShN0CzElfd9R",
        "outputId": "a3400ef6-74fb-45cd-9db9-3d32bc217ad2"
      },
      "source": [
        "augmented_images = [train_generator[0][0][0] for i in range(5)]\n",
        "plotImages(augmented_images)"
      ],
      "execution_count": 12,
      "outputs": [
        {
          "output_type": "display_data",
          "data": {
            "image/png": "[encoded data removed]",
            "text/plain": [
              "<Figure size 1440x1440 with 5 Axes>"
            ]
          },
          "metadata": {
            "needs_background": "light"
          }
        }
      ]
    },
    {
      "cell_type": "markdown",
      "metadata": {
        "id": "UIPXX6y48mV-"
      },
      "source": [
        "# **Criando o Dataframe em dados de treino, validação e teste**"
      ]
    },
    {
      "cell_type": "code",
      "metadata": {
        "id": "ByYa1WtsGAOO",
        "colab": {
          "base_uri": "https://localhost:8080/"
        },
        "outputId": "04dc615d-a51a-466c-a98c-d64b16f91c2d"
      },
      "source": [
        "class_dict=train_generator.class_indices\n",
        "labels= train_generator.labels\n",
        "file_names= train_generator.filenames \n",
        "\n",
        "class_dict"
      ],
      "execution_count": 13,
      "outputs": [
        {
          "output_type": "execute_result",
          "data": {
            "text/plain": [
              "{'andesite': 0,\n",
              " 'gneiss': 1,\n",
              " 'marbler': 2,\n",
              " 'quartzite': 3,\n",
              " 'rhyolite': 4,\n",
              " 'schist': 5}"
            ]
          },
          "metadata": {},
          "execution_count": 13
        }
      ]
    },
    {
      "cell_type": "code",
      "metadata": {
        "id": "397pKysWejrc",
        "colab": {
          "base_uri": "https://localhost:8080/"
        },
        "outputId": "27ec158f-febe-46f4-96e1-8c1fde758394"
      },
      "source": [
        "X_train, y_train = next(train_generator)\n",
        "X_val, y_val = next(validation_generator)\n",
        "X_test, y_test = next(test_generator)\n",
        "\n",
        "X_trainVGG16, y_trainVGG16 = next(train_generator_VGG16)\n",
        "X_valVGG16, y_valVGG16 = next(validation_generator_VGG16)\n",
        "X_testVGG16, y_testVGG16 = next(test_generator_VGG16)\n",
        "\n",
        "print(X_val.shape)\n",
        "print(X_test)"
      ],
      "execution_count": 14,
      "outputs": [
        {
          "output_type": "stream",
          "name": "stdout",
          "text": [
            "(128, 28, 28, 3)\n",
            "[[[[0.43137258 0.48235297 0.5058824 ]\n",
            "   [0.2901961  0.34509805 0.35686275]\n",
            "   [0.43921572 0.49411768 0.49803925]\n",
            "   ...\n",
            "   [0.41960788 0.45882356 0.454902  ]\n",
            "   [0.42352945 0.46274513 0.45882356]\n",
            "   [0.49411768 0.5294118  0.5176471 ]]\n",
            "\n",
            "  [[0.4156863  0.47058827 0.48235297]\n",
            "   [0.34117648 0.39607847 0.40784317]\n",
            "   [0.45098042 0.49411768 0.5019608 ]\n",
            "   ...\n",
            "   [0.39607847 0.43529415 0.43137258]\n",
            "   [0.45098042 0.4901961  0.48627454]\n",
            "   [0.5058824  0.5411765  0.5294118 ]]\n",
            "\n",
            "  [[0.41960788 0.47450984 0.48627454]\n",
            "   [0.34901962 0.3921569  0.40000004]\n",
            "   [0.5176471  0.5647059  0.5647059 ]\n",
            "   ...\n",
            "   [0.36862746 0.40784317 0.4039216 ]\n",
            "   [0.45098042 0.49411768 0.4784314 ]\n",
            "   [0.5254902  0.56078434 0.54901963]]\n",
            "\n",
            "  ...\n",
            "\n",
            "  [[0.41960788 0.427451   0.40784317]\n",
            "   [0.4156863  0.42352945 0.4039216 ]\n",
            "   [0.48627454 0.49411768 0.47450984]\n",
            "   ...\n",
            "   [0.427451   0.46274513 0.45098042]\n",
            "   [0.49411768 0.5176471  0.50980395]\n",
            "   [0.5019608  0.5254902  0.50980395]]\n",
            "\n",
            "  [[0.4039216  0.40784317 0.38823533]\n",
            "   [0.4039216  0.40784317 0.38823533]\n",
            "   [0.4666667  0.47450984 0.454902  ]\n",
            "   ...\n",
            "   [0.38431376 0.41960788 0.40784317]\n",
            "   [0.44705886 0.47058827 0.46274513]\n",
            "   [0.47058827 0.49411768 0.4784314 ]]\n",
            "\n",
            "  [[0.40000004 0.4039216  0.38431376]\n",
            "   [0.42352945 0.427451   0.40784317]\n",
            "   [0.48235297 0.4901961  0.47058827]\n",
            "   ...\n",
            "   [0.3647059  0.40000004 0.38823533]\n",
            "   [0.43137258 0.454902   0.44705886]\n",
            "   [0.47450984 0.49803925 0.48235297]]]\n",
            "\n",
            "\n",
            " [[[0.6        0.53333336 0.5647059 ]\n",
            "   [0.61960787 0.5019608  0.54901963]\n",
            "   [0.6431373  0.45098042 0.5254902 ]\n",
            "   ...\n",
            "   [0.7843138  0.78823537 0.7960785 ]\n",
            "   [0.76470596 0.7803922  0.7843138 ]\n",
            "   [0.76470596 0.7686275  0.77647066]]\n",
            "\n",
            "  [[0.5137255  0.3137255  0.38823533]\n",
            "   [0.49803925 0.2901961  0.36862746]\n",
            "   [0.50980395 0.29411766 0.37647063]\n",
            "   ...\n",
            "   [0.79215693 0.7960785  0.80392164]\n",
            "   [0.76470596 0.7803922  0.7843138 ]\n",
            "   [0.7607844  0.77647066 0.7803922 ]]\n",
            "\n",
            "  [[0.6        0.35686275 0.44705886]\n",
            "   [0.63529414 0.41960788 0.5019608 ]\n",
            "   [0.7058824  0.53333336 0.6       ]\n",
            "   ...\n",
            "   [0.77647066 0.79215693 0.7960785 ]\n",
            "   [0.7568628  0.7725491  0.77647066]\n",
            "   [0.7607844  0.77647066 0.7803922 ]]\n",
            "\n",
            "  ...\n",
            "\n",
            "  [[0.8470589  0.8313726  0.8352942 ]\n",
            "   [0.83921576 0.8313726  0.8352942 ]\n",
            "   [0.8313726  0.8235295  0.82745105]\n",
            "   ...\n",
            "   [0.7686275  0.7725491  0.7803922 ]\n",
            "   [0.7686275  0.7725491  0.7803922 ]\n",
            "   [0.7725491  0.77647066 0.7843138 ]]\n",
            "\n",
            "  [[0.8352942  0.8196079  0.8235295 ]\n",
            "   [0.8352942  0.8196079  0.8235295 ]\n",
            "   [0.8235295  0.81568635 0.8196079 ]\n",
            "   ...\n",
            "   [0.76470596 0.7686275  0.77647066]\n",
            "   [0.7607844  0.76470596 0.7725491 ]\n",
            "   [0.7607844  0.76470596 0.7725491 ]]\n",
            "\n",
            "  [[0.8235295  0.8078432  0.8117648 ]\n",
            "   [0.8196079  0.80392164 0.8078432 ]\n",
            "   [0.8117648  0.80392164 0.8078432 ]\n",
            "   ...\n",
            "   [0.7686275  0.7725491  0.7803922 ]\n",
            "   [0.7607844  0.76470596 0.7725491 ]\n",
            "   [0.7568628  0.7607844  0.7686275 ]]]\n",
            "\n",
            "\n",
            " [[[0.38823533 0.4901961  0.5803922 ]\n",
            "   [0.41176474 0.5137255  0.6039216 ]\n",
            "   [0.42352945 0.5254902  0.6156863 ]\n",
            "   ...\n",
            "   [0.454902   0.57254905 0.68235296]\n",
            "   [0.4901961  0.60784316 0.7176471 ]\n",
            "   [0.47450984 0.5882353  0.7058824 ]]\n",
            "\n",
            "  [[0.454902   0.5568628  0.64705884]\n",
            "   [0.38431376 0.48627454 0.5764706 ]\n",
            "   [0.49803925 0.6        0.6901961 ]\n",
            "   ...\n",
            "   [0.47058827 0.5882353  0.69803923]\n",
            "   [0.34509805 0.46274513 0.57254905]\n",
            "   [0.47058827 0.58431375 0.7019608 ]]\n",
            "\n",
            "  [[0.34901962 0.45098042 0.5411765 ]\n",
            "   [0.36078432 0.46274513 0.5529412 ]\n",
            "   [0.44705886 0.54901963 0.6392157 ]\n",
            "   ...\n",
            "   [0.5529412  0.67058825 0.7803922 ]\n",
            "   [0.47058827 0.5882353  0.69803923]\n",
            "   [0.48235297 0.59607846 0.7137255 ]]\n",
            "\n",
            "  ...\n",
            "\n",
            "  [[0.47058827 0.5686275  0.654902  ]\n",
            "   [0.5019608  0.6        0.6862745 ]\n",
            "   [0.43529415 0.53333336 0.61960787]\n",
            "   ...\n",
            "   [0.5058824  0.6117647  0.7176471 ]\n",
            "   [0.47450984 0.5921569  0.6862745 ]\n",
            "   [0.43921572 0.5568628  0.6509804 ]]\n",
            "\n",
            "  [[0.4666667  0.5647059  0.6509804 ]\n",
            "   [0.5058824  0.6039216  0.6901961 ]\n",
            "   [0.49803925 0.59607846 0.68235296]\n",
            "   ...\n",
            "   [0.5176471  0.62352943 0.7294118 ]\n",
            "   [0.5686275  0.6862745  0.78823537]\n",
            "   [0.5176471  0.63529414 0.7294118 ]]\n",
            "\n",
            "  [[0.4666667  0.5647059  0.6509804 ]\n",
            "   [0.43137258 0.5294118  0.6156863 ]\n",
            "   [0.49803925 0.5921569  0.6862745 ]\n",
            "   ...\n",
            "   [0.46274513 0.5686275  0.6745098 ]\n",
            "   [0.5411765  0.64705884 0.75294125]\n",
            "   [0.49803925 0.6156863  0.70980394]]]\n",
            "\n",
            "\n",
            " ...\n",
            "\n",
            "\n",
            " [[[0.227451   0.3137255  0.3647059 ]\n",
            "   [0.3254902  0.41176474 0.46274513]\n",
            "   [0.29803923 0.38431376 0.427451  ]\n",
            "   ...\n",
            "   [0.42352945 0.49411768 0.43921572]\n",
            "   [0.38431376 0.454902   0.40784317]\n",
            "   [0.28235295 0.36862746 0.31764707]]\n",
            "\n",
            "  [[0.09803922 0.18823531 0.21960786]\n",
            "   [0.30980393 0.40000004 0.42352945]\n",
            "   [0.47450984 0.5647059  0.5882353 ]\n",
            "   ...\n",
            "   [0.3921569  0.46274513 0.40784317]\n",
            "   [0.36078432 0.43921572 0.3921569 ]\n",
            "   [0.41960788 0.5058824  0.454902  ]]\n",
            "\n",
            "  [[0.40784317 0.5019608  0.50980395]\n",
            "   [0.2627451  0.35686275 0.3647059 ]\n",
            "   [0.49411768 0.5882353  0.6039216 ]\n",
            "   ...\n",
            "   [0.38431376 0.4666667  0.40784317]\n",
            "   [0.36078432 0.43921572 0.3921569 ]\n",
            "   [0.41176474 0.49803925 0.44705886]]\n",
            "\n",
            "  ...\n",
            "\n",
            "  [[0.2627451  0.2901961  0.32156864]\n",
            "   [0.29411766 0.3137255  0.3254902 ]\n",
            "   [0.40000004 0.40784317 0.39607847]\n",
            "   ...\n",
            "   [0.3647059  0.3921569  0.42352945]\n",
            "   [0.1137255  0.1254902  0.15294118]\n",
            "   [0.1764706  0.17254902 0.19215688]]\n",
            "\n",
            "  [[0.32941177 0.34509805 0.35686275]\n",
            "   [0.25882354 0.28235295 0.28235295]\n",
            "   [0.23529413 0.27058825 0.2509804 ]\n",
            "   ...\n",
            "   [0.3647059  0.40000004 0.427451  ]\n",
            "   [0.09019608 0.11764707 0.14901961]\n",
            "   [0.10196079 0.12941177 0.15294118]]\n",
            "\n",
            "  [[0.48627454 0.48235297 0.46274513]\n",
            "   [0.44705886 0.48627454 0.454902  ]\n",
            "   [0.17254902 0.22352943 0.18823531]\n",
            "   ...\n",
            "   [0.42352945 0.45098042 0.47450984]\n",
            "   [0.21960786 0.25490198 0.28235295]\n",
            "   [0.15294118 0.20392159 0.23529413]]]\n",
            "\n",
            "\n",
            " [[[0.8980393  0.909804   0.86666673]\n",
            "   [0.86274517 0.909804   0.854902  ]\n",
            "   [0.86274517 0.909804   0.8705883 ]\n",
            "   ...\n",
            "   [0.854902   0.8745099  0.8862746 ]\n",
            "   [0.854902   0.8705883  0.8745099 ]\n",
            "   [0.8431373  0.86274517 0.8470589 ]]\n",
            "\n",
            "  [[0.89019614 0.8941177  0.8705883 ]\n",
            "   [0.8980393  0.8941177  0.87843144]\n",
            "   [0.90196085 0.8980393  0.882353  ]\n",
            "   ...\n",
            "   [0.854902   0.8745099  0.8862746 ]\n",
            "   [0.8431373  0.86666673 0.8588236 ]\n",
            "   [0.8352942  0.86274517 0.8313726 ]]\n",
            "\n",
            "  [[0.8941177  0.8862746  0.8980393 ]\n",
            "   [0.91372555 0.87843144 0.8980393 ]\n",
            "   [0.91372555 0.87843144 0.89019614]\n",
            "   ...\n",
            "   [0.8588236  0.87843144 0.8941177 ]\n",
            "   [0.8431373  0.86666673 0.85098046]\n",
            "   [0.83921576 0.8705883  0.82745105]]\n",
            "\n",
            "  ...\n",
            "\n",
            "  [[0.6117647  0.45882356 0.43921572]\n",
            "   [0.7411765  0.5764706  0.5803922 ]\n",
            "   [0.7294118  0.54509807 0.5686275 ]\n",
            "   ...\n",
            "   [0.8862746  0.8862746  0.8862746 ]\n",
            "   [0.87843144 0.86274517 0.86666673]\n",
            "   [0.86274517 0.82745105 0.83921576]]\n",
            "\n",
            "  [[0.5294118  0.22352943 0.21568629]\n",
            "   [0.6313726  0.3529412  0.34509805]\n",
            "   [0.63529414 0.36862746 0.3647059 ]\n",
            "   ...\n",
            "   [0.90196085 0.87843144 0.87843144]\n",
            "   [0.8745099  0.85098046 0.85098046]\n",
            "   [0.8470589  0.8235295  0.8313726 ]]\n",
            "\n",
            "  [[0.58431375 0.21176472 0.19607845]\n",
            "   [0.59607846 0.24705884 0.23137257]\n",
            "   [0.6117647  0.29803923 0.27058825]\n",
            "   ...\n",
            "   [0.9058824  0.8705883  0.8745099 ]\n",
            "   [0.882353   0.8588236  0.8588236 ]\n",
            "   [0.8470589  0.83921576 0.8431373 ]]]\n",
            "\n",
            "\n",
            " [[[0.30588236 0.40000004 0.43921572]\n",
            "   [0.34117648 0.41960788 0.42352945]\n",
            "   [0.44705886 0.49803925 0.46274513]\n",
            "   ...\n",
            "   [0.43137258 0.48235297 0.44705886]\n",
            "   [0.2784314  0.32941177 0.29411766]\n",
            "   [0.33333334 0.3921569  0.3803922 ]]\n",
            "\n",
            "  [[0.2901961  0.37254903 0.3921569 ]\n",
            "   [0.30980393 0.38823533 0.3921569 ]\n",
            "   [0.3647059  0.427451   0.4156863 ]\n",
            "   ...\n",
            "   [0.4666667  0.50980395 0.4784314 ]\n",
            "   [0.43137258 0.48235297 0.454902  ]\n",
            "   [0.42352945 0.47058827 0.47058827]]\n",
            "\n",
            "  [[0.2509804  0.32156864 0.3372549 ]\n",
            "   [0.24705884 0.32156864 0.3372549 ]\n",
            "   [0.27450982 0.34901962 0.3647059 ]\n",
            "   ...\n",
            "   [0.5686275  0.6117647  0.59607846]\n",
            "   [0.41176474 0.45098042 0.44705886]\n",
            "   [0.2901961  0.33333334 0.34901962]]\n",
            "\n",
            "  ...\n",
            "\n",
            "  [[0.2392157  0.29411766 0.29803923]\n",
            "   [0.2901961  0.33333334 0.34901962]\n",
            "   [0.43921572 0.48235297 0.49803925]\n",
            "   ...\n",
            "   [0.44705886 0.49411768 0.49411768]\n",
            "   [0.35686275 0.4039216  0.4039216 ]\n",
            "   [0.41960788 0.4666667  0.4666667 ]]\n",
            "\n",
            "  [[0.18823531 0.24705884 0.26666668]\n",
            "   [0.28235295 0.33333334 0.35686275]\n",
            "   [0.3019608  0.3529412  0.38431376]\n",
            "   ...\n",
            "   [0.19607845 0.24313727 0.23529413]\n",
            "   [0.18431373 0.24313727 0.23137257]\n",
            "   [0.21176472 0.26666668 0.26666668]]\n",
            "\n",
            "  [[0.3529412  0.41176474 0.43921572]\n",
            "   [0.29411766 0.3529412  0.3803922 ]\n",
            "   [0.21568629 0.26666668 0.29803923]\n",
            "   ...\n",
            "   [0.3803922  0.427451   0.41960788]\n",
            "   [0.5137255  0.56078434 0.5529412 ]\n",
            "   [0.32941177 0.37647063 0.36862746]]]]\n"
          ]
        }
      ]
    },
    {
      "cell_type": "markdown",
      "metadata": {
        "id": "dXm8LYqv0_vK"
      },
      "source": [
        "# **Criar o modelo**"
      ]
    },
    {
      "cell_type": "code",
      "metadata": {
        "id": "ncctBTCAgG7d"
      },
      "source": [
        "num_classes = 6\n",
        "\n",
        "model = tf.keras.models.Sequential([\n",
        "    tf.keras.layers.Conv2D(64, (3,3), activation='relu', input_shape=(28,28,3)),\n",
        "    tf.keras.layers.BatchNormalization(),\n",
        "    tf.keras.layers.MaxPooling2D(2, 2),\n",
        "\n",
        "    tf.keras.layers.Conv2D(32, (3,3), activation='relu'),\n",
        "    tf.keras.layers.MaxPooling2D(2,2),\n",
        "\n",
        "    tf.keras.layers.Conv2D(16, (3,3), activation='relu'),\n",
        "    tf.keras.layers.MaxPooling2D(2,2),\n",
        "   \n",
        "\n",
        "    tf.keras.layers.Flatten(),\n",
        "    tf.keras.layers.Dense(1024, activation='relu'),\n",
        "    tf.keras.layers.Dropout(0.5),\n",
        "    tf.keras.layers.Dense(num_classes, activation='softmax')\n",
        "   \n",
        "])"
      ],
      "execution_count": 16,
      "outputs": []
    },
    {
      "cell_type": "markdown",
      "metadata": {
        "id": "cQvF_-VrbIhO"
      },
      "source": [
        "# **Compilando o Modelo**"
      ]
    },
    {
      "cell_type": "code",
      "metadata": {
        "id": "tseOThp5bLVl",
        "colab": {
          "base_uri": "https://localhost:8080/"
        },
        "outputId": "85fa0e4b-e04e-4dfe-d779-0890a0199ca2"
      },
      "source": [
        "model.compile(optimizer = Adam(learning_rate=0.0001), \n",
        "               loss = 'categorical_crossentropy', \n",
        "               metrics =['accuracy'])\n",
        "model.summary()  "
      ],
      "execution_count": 17,
      "outputs": [
        {
          "output_type": "stream",
          "name": "stdout",
          "text": [
            "Model: \"sequential\"\n",
            "_________________________________________________________________\n",
            "Layer (type)                 Output Shape              Param #   \n",
            "=================================================================\n",
            "conv2d (Conv2D)              (None, 26, 26, 64)        1792      \n",
            "_________________________________________________________________\n",
            "batch_normalization (BatchNo (None, 26, 26, 64)        256       \n",
            "_________________________________________________________________\n",
            "max_pooling2d (MaxPooling2D) (None, 13, 13, 64)        0         \n",
            "_________________________________________________________________\n",
            "conv2d_1 (Conv2D)            (None, 11, 11, 32)        18464     \n",
            "_________________________________________________________________\n",
            "max_pooling2d_1 (MaxPooling2 (None, 5, 5, 32)          0         \n",
            "_________________________________________________________________\n",
            "conv2d_2 (Conv2D)            (None, 3, 3, 16)          4624      \n",
            "_________________________________________________________________\n",
            "max_pooling2d_2 (MaxPooling2 (None, 1, 1, 16)          0         \n",
            "_________________________________________________________________\n",
            "flatten (Flatten)            (None, 16)                0         \n",
            "_________________________________________________________________\n",
            "dense (Dense)                (None, 1024)              17408     \n",
            "_________________________________________________________________\n",
            "dropout (Dropout)            (None, 1024)              0         \n",
            "_________________________________________________________________\n",
            "dense_1 (Dense)              (None, 6)                 6150      \n",
            "=================================================================\n",
            "Total params: 48,694\n",
            "Trainable params: 48,566\n",
            "Non-trainable params: 128\n",
            "_________________________________________________________________\n"
          ]
        }
      ]
    },
    {
      "cell_type": "code",
      "metadata": {
        "id": "9Sr0YDZ8dCmz"
      },
      "source": [
        "callbacks_list = [\n",
        "    tf.keras.callbacks.ReduceLROnPlateau(factor=0.5,\n",
        "                                         patience=4,\n",
        "                                         verbose=0),\n",
        "    tf.keras.callbacks.EarlyStopping(\n",
        "        monitor=\"accuracy\",\n",
        "        patience=12,\n",
        "        restore_best_weights=True,\n",
        "    ),\n",
        "    tf.keras.callbacks.ModelCheckpoint(\n",
        "        filepath='best_model.h5',\n",
        "        monitor=\"val_accuracy\",\n",
        "        verbose=1,\n",
        "        save_best_only=True,\n",
        "        #save_weights_only=False,\n",
        "        #mode='auto',\n",
        "        #period=1,\n",
        "    ),\n",
        "\n",
        "]"
      ],
      "execution_count": 18,
      "outputs": []
    },
    {
      "cell_type": "markdown",
      "metadata": {
        "id": "IhQyiWIh1HQs"
      },
      "source": [
        "# **Avaliar o modelo**"
      ]
    },
    {
      "cell_type": "code",
      "metadata": {
        "id": "cwpnwl86dm74",
        "colab": {
          "base_uri": "https://localhost:8080/"
        },
        "outputId": "6309ff34-8621-4dc8-83de-ae8052e73cef"
      },
      "source": [
        "epochs=200\n",
        "history = model.fit(X_train,y_train,\n",
        "                               epochs=epochs,\n",
        "                               verbose=1,\n",
        "                               callbacks=callbacks_list, \n",
        "                               #validation_split=0.2,\n",
        "                               #class_weight=class_weight_,\n",
        "                               steps_per_epoch = 23999/256,\n",
        "                               workers=4,\n",
        "                               use_multiprocessing=True,\n",
        "                               #validation_steps = 5999/512,\n",
        "                               validation_data=(X_val,y_val))"
      ],
      "execution_count": 19,
      "outputs": [
        {
          "output_type": "stream",
          "name": "stdout",
          "text": [
            "Epoch 1/200\n",
            "93/93 [==============================] - 33s 8ms/step - loss: 1.8031 - accuracy: 0.1543 - val_loss: 1.7881 - val_accuracy: 0.2031\n",
            "\n",
            "Epoch 00001: val_accuracy improved from -inf to 0.20312, saving model to best_model.h5\n",
            "Epoch 2/200\n",
            "93/93 [==============================] - 0s 5ms/step - loss: 1.7172 - accuracy: 0.2872 - val_loss: 1.7531 - val_accuracy: 0.2812\n",
            "\n",
            "Epoch 00002: val_accuracy improved from 0.20312 to 0.28125, saving model to best_model.h5\n",
            "Epoch 3/200\n",
            "93/93 [==============================] - 0s 5ms/step - loss: 1.6092 - accuracy: 0.3564 - val_loss: 1.6767 - val_accuracy: 0.4375\n",
            "\n",
            "Epoch 00003: val_accuracy improved from 0.28125 to 0.43750, saving model to best_model.h5\n",
            "Epoch 4/200\n",
            "93/93 [==============================] - 0s 5ms/step - loss: 1.4773 - accuracy: 0.4734 - val_loss: 1.5194 - val_accuracy: 0.5703\n",
            "\n",
            "Epoch 00004: val_accuracy improved from 0.43750 to 0.57031, saving model to best_model.h5\n",
            "Epoch 5/200\n",
            "93/93 [==============================] - 0s 5ms/step - loss: 1.3508 - accuracy: 0.4202 - val_loss: 1.2885 - val_accuracy: 0.5547\n",
            "\n",
            "Epoch 00005: val_accuracy did not improve from 0.57031\n",
            "Epoch 6/200\n",
            "93/93 [==============================] - 0s 5ms/step - loss: 1.2044 - accuracy: 0.4362 - val_loss: 1.0524 - val_accuracy: 0.6406\n",
            "\n",
            "Epoch 00006: val_accuracy improved from 0.57031 to 0.64062, saving model to best_model.h5\n",
            "Epoch 7/200\n",
            "93/93 [==============================] - 0s 5ms/step - loss: 1.1646 - accuracy: 0.5532 - val_loss: 0.9254 - val_accuracy: 0.7031\n",
            "\n",
            "Epoch 00007: val_accuracy improved from 0.64062 to 0.70312, saving model to best_model.h5\n",
            "Epoch 8/200\n",
            "93/93 [==============================] - 0s 5ms/step - loss: 1.1067 - accuracy: 0.4947 - val_loss: 0.9019 - val_accuracy: 0.6562\n",
            "\n",
            "Epoch 00008: val_accuracy did not improve from 0.70312\n",
            "Epoch 9/200\n",
            "93/93 [==============================] - 0s 5ms/step - loss: 0.9950 - accuracy: 0.6117 - val_loss: 0.6968 - val_accuracy: 0.7031\n",
            "\n",
            "Epoch 00009: val_accuracy did not improve from 0.70312\n",
            "Epoch 10/200\n",
            "93/93 [==============================] - 0s 5ms/step - loss: 0.9843 - accuracy: 0.6170 - val_loss: 0.7063 - val_accuracy: 0.7266\n",
            "\n",
            "Epoch 00010: val_accuracy improved from 0.70312 to 0.72656, saving model to best_model.h5\n",
            "Epoch 11/200\n",
            "93/93 [==============================] - 0s 5ms/step - loss: 0.7905 - accuracy: 0.7021 - val_loss: 0.6264 - val_accuracy: 0.7109\n",
            "\n",
            "Epoch 00011: val_accuracy did not improve from 0.72656\n",
            "Epoch 12/200\n",
            "93/93 [==============================] - 0s 5ms/step - loss: 0.8338 - accuracy: 0.6596 - val_loss: 0.6376 - val_accuracy: 0.7969\n",
            "\n",
            "Epoch 00012: val_accuracy improved from 0.72656 to 0.79688, saving model to best_model.h5\n",
            "Epoch 13/200\n",
            "93/93 [==============================] - 0s 5ms/step - loss: 0.7370 - accuracy: 0.6968 - val_loss: 0.5977 - val_accuracy: 0.7578\n",
            "\n",
            "Epoch 00013: val_accuracy did not improve from 0.79688\n",
            "Epoch 14/200\n",
            "93/93 [==============================] - 0s 5ms/step - loss: 0.6478 - accuracy: 0.7660 - val_loss: 0.6238 - val_accuracy: 0.7500\n",
            "\n",
            "Epoch 00014: val_accuracy did not improve from 0.79688\n",
            "Epoch 15/200\n",
            "93/93 [==============================] - 0s 5ms/step - loss: 0.6860 - accuracy: 0.7181 - val_loss: 0.5313 - val_accuracy: 0.8203\n",
            "\n",
            "Epoch 00015: val_accuracy improved from 0.79688 to 0.82031, saving model to best_model.h5\n",
            "Epoch 16/200\n",
            "93/93 [==============================] - 0s 5ms/step - loss: 0.5943 - accuracy: 0.8032 - val_loss: 0.5353 - val_accuracy: 0.8047\n",
            "\n",
            "Epoch 00016: val_accuracy did not improve from 0.82031\n",
            "Epoch 17/200\n",
            "93/93 [==============================] - 0s 5ms/step - loss: 0.5074 - accuracy: 0.8032 - val_loss: 0.5807 - val_accuracy: 0.8047\n",
            "\n",
            "Epoch 00017: val_accuracy did not improve from 0.82031\n",
            "Epoch 18/200\n",
            "93/93 [==============================] - 0s 5ms/step - loss: 0.4860 - accuracy: 0.8351 - val_loss: 0.5592 - val_accuracy: 0.7812\n",
            "\n",
            "Epoch 00018: val_accuracy did not improve from 0.82031\n",
            "Epoch 19/200\n",
            "93/93 [==============================] - 0s 5ms/step - loss: 0.4980 - accuracy: 0.7872 - val_loss: 0.4972 - val_accuracy: 0.8203\n",
            "\n",
            "Epoch 00019: val_accuracy did not improve from 0.82031\n",
            "Epoch 20/200\n",
            "93/93 [==============================] - 0s 5ms/step - loss: 0.4111 - accuracy: 0.8511 - val_loss: 0.5137 - val_accuracy: 0.8281\n",
            "\n",
            "Epoch 00020: val_accuracy improved from 0.82031 to 0.82812, saving model to best_model.h5\n",
            "Epoch 21/200\n",
            "93/93 [==============================] - 0s 5ms/step - loss: 0.3834 - accuracy: 0.8723 - val_loss: 0.5288 - val_accuracy: 0.7656\n",
            "\n",
            "Epoch 00021: val_accuracy did not improve from 0.82812\n",
            "Epoch 22/200\n",
            "93/93 [==============================] - 0s 5ms/step - loss: 0.3920 - accuracy: 0.8617 - val_loss: 0.4739 - val_accuracy: 0.8281\n",
            "\n",
            "Epoch 00022: val_accuracy did not improve from 0.82812\n",
            "Epoch 23/200\n",
            "93/93 [==============================] - 0s 5ms/step - loss: 0.3774 - accuracy: 0.8617 - val_loss: 0.6598 - val_accuracy: 0.7344\n",
            "\n",
            "Epoch 00023: val_accuracy did not improve from 0.82812\n",
            "Epoch 24/200\n",
            "93/93 [==============================] - 0s 5ms/step - loss: 0.3276 - accuracy: 0.8936 - val_loss: 0.5215 - val_accuracy: 0.8438\n",
            "\n",
            "Epoch 00024: val_accuracy improved from 0.82812 to 0.84375, saving model to best_model.h5\n",
            "Epoch 25/200\n",
            "93/93 [==============================] - 0s 5ms/step - loss: 0.3063 - accuracy: 0.9149 - val_loss: 0.5426 - val_accuracy: 0.8047\n",
            "\n",
            "Epoch 00025: val_accuracy did not improve from 0.84375\n",
            "Epoch 26/200\n",
            "93/93 [==============================] - 0s 5ms/step - loss: 0.2576 - accuracy: 0.9149 - val_loss: 0.5191 - val_accuracy: 0.8594\n",
            "\n",
            "Epoch 00026: val_accuracy improved from 0.84375 to 0.85938, saving model to best_model.h5\n",
            "Epoch 27/200\n",
            "93/93 [==============================] - 0s 5ms/step - loss: 0.2176 - accuracy: 0.9574 - val_loss: 0.4599 - val_accuracy: 0.8516\n",
            "\n",
            "Epoch 00027: val_accuracy did not improve from 0.85938\n",
            "Epoch 28/200\n",
            "93/93 [==============================] - 0s 5ms/step - loss: 0.2120 - accuracy: 0.9309 - val_loss: 0.4454 - val_accuracy: 0.8438\n",
            "\n",
            "Epoch 00028: val_accuracy did not improve from 0.85938\n",
            "Epoch 29/200\n",
            "93/93 [==============================] - 0s 5ms/step - loss: 0.2720 - accuracy: 0.9096 - val_loss: 0.5670 - val_accuracy: 0.8203\n",
            "\n",
            "Epoch 00029: val_accuracy did not improve from 0.85938\n",
            "Epoch 30/200\n",
            "93/93 [==============================] - 0s 5ms/step - loss: 0.2300 - accuracy: 0.9468 - val_loss: 0.5013 - val_accuracy: 0.8125\n",
            "\n",
            "Epoch 00030: val_accuracy did not improve from 0.85938\n",
            "Epoch 31/200\n",
            "93/93 [==============================] - 0s 5ms/step - loss: 0.1595 - accuracy: 0.9787 - val_loss: 0.5354 - val_accuracy: 0.8516\n",
            "\n",
            "Epoch 00031: val_accuracy did not improve from 0.85938\n",
            "Epoch 32/200\n",
            "93/93 [==============================] - 0s 5ms/step - loss: 0.1964 - accuracy: 0.9521 - val_loss: 0.4526 - val_accuracy: 0.8516\n",
            "\n",
            "Epoch 00032: val_accuracy did not improve from 0.85938\n",
            "Epoch 33/200\n",
            "93/93 [==============================] - 0s 5ms/step - loss: 0.1730 - accuracy: 0.9415 - val_loss: 0.4759 - val_accuracy: 0.8672\n",
            "\n",
            "Epoch 00033: val_accuracy improved from 0.85938 to 0.86719, saving model to best_model.h5\n",
            "Epoch 34/200\n",
            "93/93 [==============================] - 0s 5ms/step - loss: 0.1654 - accuracy: 0.9628 - val_loss: 0.4857 - val_accuracy: 0.8594\n",
            "\n",
            "Epoch 00034: val_accuracy did not improve from 0.86719\n",
            "Epoch 35/200\n",
            "93/93 [==============================] - 0s 5ms/step - loss: 0.1760 - accuracy: 0.9521 - val_loss: 0.4712 - val_accuracy: 0.8438\n",
            "\n",
            "Epoch 00035: val_accuracy did not improve from 0.86719\n",
            "Epoch 36/200\n",
            "93/93 [==============================] - 0s 5ms/step - loss: 0.1697 - accuracy: 0.9574 - val_loss: 0.4486 - val_accuracy: 0.8672\n",
            "\n",
            "Epoch 00036: val_accuracy did not improve from 0.86719\n",
            "Epoch 37/200\n",
            "93/93 [==============================] - 0s 5ms/step - loss: 0.1508 - accuracy: 0.9681 - val_loss: 0.4473 - val_accuracy: 0.8672\n",
            "\n",
            "Epoch 00037: val_accuracy did not improve from 0.86719\n",
            "Epoch 38/200\n",
            "93/93 [==============================] - 0s 5ms/step - loss: 0.1671 - accuracy: 0.9468 - val_loss: 0.4485 - val_accuracy: 0.8359\n",
            "\n",
            "Epoch 00038: val_accuracy did not improve from 0.86719\n",
            "Epoch 39/200\n",
            "93/93 [==============================] - 0s 5ms/step - loss: 0.1510 - accuracy: 0.9521 - val_loss: 0.4664 - val_accuracy: 0.8594\n",
            "\n",
            "Epoch 00039: val_accuracy did not improve from 0.86719\n",
            "Epoch 40/200\n",
            "93/93 [==============================] - 0s 5ms/step - loss: 0.1685 - accuracy: 0.9574 - val_loss: 0.4567 - val_accuracy: 0.8594\n",
            "\n",
            "Epoch 00040: val_accuracy did not improve from 0.86719\n",
            "Epoch 41/200\n",
            "93/93 [==============================] - 0s 5ms/step - loss: 0.1456 - accuracy: 0.9734 - val_loss: 0.4422 - val_accuracy: 0.8750\n",
            "\n",
            "Epoch 00041: val_accuracy improved from 0.86719 to 0.87500, saving model to best_model.h5\n",
            "Epoch 42/200\n",
            "93/93 [==============================] - 0s 5ms/step - loss: 0.1470 - accuracy: 0.9521 - val_loss: 0.4613 - val_accuracy: 0.8828\n",
            "\n",
            "Epoch 00042: val_accuracy improved from 0.87500 to 0.88281, saving model to best_model.h5\n",
            "Epoch 43/200\n",
            "93/93 [==============================] - 0s 5ms/step - loss: 0.1569 - accuracy: 0.9681 - val_loss: 0.4604 - val_accuracy: 0.8828\n",
            "\n",
            "Epoch 00043: val_accuracy did not improve from 0.88281\n"
          ]
        }
      ]
    },
    {
      "cell_type": "markdown",
      "metadata": {
        "id": "fXZP7HCxqpbS"
      },
      "source": [
        "**Deixe-nos representar graficamente a Precisão do treinamento versus perda para obter uma melhor compreensão do treinamento do modelo.**"
      ]
    },
    {
      "cell_type": "code",
      "metadata": {
        "colab": {
          "base_uri": "https://localhost:8080/",
          "height": 328
        },
        "id": "r2RLRG0mqfsv",
        "outputId": "a7622245-7bdc-42b0-8b01-8abd6dc1fe79"
      },
      "source": [
        "plt.figure(figsize=(10, 10))\n",
        "\n",
        "plt.subplot(2, 2, 1)\n",
        "plt.plot(history.history['loss'], label='Loss')\n",
        "plt.plot(history.history['val_loss'], label='Validation Loss')\n",
        "plt.legend()\n",
        "plt.title('Training - Loss Function')\n",
        "\n",
        "plt.subplot(2, 2, 2)\n",
        "plt.plot(history.history['accuracy'], label='Accuracy')\n",
        "plt.plot(history.history['val_accuracy'], label='Validation Accuracy')\n",
        "plt.legend()\n",
        "plt.title('Train - Accuracy')"
      ],
      "execution_count": 20,
      "outputs": [
        {
          "output_type": "execute_result",
          "data": {
            "text/plain": [
              "Text(0.5, 1.0, 'Train - Accuracy')"
            ]
          },
          "metadata": {},
          "execution_count": 20
        },
        {
          "output_type": "display_data",
          "data": {
            "image/png": "[encoded data removed]",
            "text/plain": [
              "<Figure size 720x720 with 2 Axes>"
            ]
          },
          "metadata": {
            "needs_background": "light"
          }
        }
      ]
    },
    {
      "cell_type": "markdown",
      "metadata": {
        "id": "D6gvFi_nY4NB"
      },
      "source": [
        "\n",
        "# **Vamos traçar a precisão do treinamento e da validação, bem como a perda.** "
      ]
    },
    {
      "cell_type": "code",
      "metadata": {
        "id": "HvI5gCDM5Djb",
        "colab": {
          "base_uri": "https://localhost:8080/",
          "height": 545
        },
        "outputId": "5625f796-4155-412f-f5c1-28b283f75a63"
      },
      "source": [
        "%matplotlib inline\n",
        "import matplotlib.pyplot as plt\n",
        "acc = history.history['accuracy']\n",
        "val_acc = history.history['val_accuracy']\n",
        "loss = history.history['loss']\n",
        "val_loss = history.history['val_loss']\n",
        "\n",
        "epochs = range(len(acc))\n",
        "\n",
        "plt.plot(epochs, acc, 'r', label='Training accuracy')\n",
        "plt.plot(epochs, val_acc, 'b', label='Validation accuracy')\n",
        "plt.title('Training and validation accuracy')\n",
        "plt.legend(loc=0)\n",
        "plt.figure()\n",
        "\n",
        "plt.plot(epochs, loss, 'r', label='Training Loss')\n",
        "plt.plot(epochs, val_loss, 'b', label='Validation Loss')\n",
        "plt.title('Training and validation loss')\n",
        "plt.legend()\n",
        "\n",
        "plt.show()"
      ],
      "execution_count": 21,
      "outputs": [
        {
          "output_type": "display_data",
          "data": {
            "image/png": "[encoded data removed]",
            "text/plain": [
              "<Figure size 432x288 with 1 Axes>"
            ]
          },
          "metadata": {
            "needs_background": "light"
          }
        },
        {
          "output_type": "display_data",
          "data": {
            "image/png": "[encoded data removed]",
            "text/plain": [
              "<Figure size 432x288 with 1 Axes>"
            ]
          },
          "metadata": {
            "needs_background": "light"
          }
        }
      ]
    },
    {
      "cell_type": "code",
      "metadata": {
        "id": "IMJbJ4iT8f4x",
        "colab": {
          "base_uri": "https://localhost:8080/",
          "height": 542
        },
        "outputId": "0644d7bf-c9bc-48de-83b5-343e476f5c23"
      },
      "source": [
        "history2= model.history.history\n",
        "px.line(history2,title = \"Metrics Plot\")"
      ],
      "execution_count": 26,
      "outputs": [
        {
          "output_type": "display_data",
          "data": {
            "text/html": [
              "<html>\n",
              "<head><meta charset=\"utf-8\" /></head>\n",
              "<body>\n",
              "    <div>\n",
              "            <script src=\"https://cdnjs.cloudflare.com/ajax/libs/mathjax/2.7.5/MathJax.js?config=TeX-AMS-MML_SVG\"></script><script type=\"text/javascript\">if (window.MathJax) {MathJax.Hub.Config({SVG: {font: \"STIX-Web\"}});}</script>\n",
              "                <script type=\"text/javascript\">window.PlotlyConfig = {MathJaxConfig: 'local'};</script>\n",
              "        <script src=\"https://cdn.plot.ly/plotly-latest.min.js\"></script>    \n",
              "            <div id=\"817d1cf1-ca9c-429f-9f77-fb8f67e2e846\" class=\"plotly-graph-div\" style=\"height:525px; width:100%;\"></div>\n",
              "            <script type=\"text/javascript\">\n",
              "                \n",
              "                    window.PLOTLYENV=window.PLOTLYENV || {};\n",
              "                    \n",
              "                if (document.getElementById(\"817d1cf1-ca9c-429f-9f77-fb8f67e2e846\")) {\n",
              "                    Plotly.newPlot(\n",
              "                        '817d1cf1-ca9c-429f-9f77-fb8f67e2e846',\n",
              "                        [],\n",
              "                        {\"legend\": {\"tracegroupgap\": 0}, \"template\": {\"data\": {\"bar\": [{\"error_x\": {\"color\": \"#2a3f5f\"}, \"error_y\": {\"color\": \"#2a3f5f\"}, \"marker\": {\"line\": {\"color\": \"#E5ECF6\", \"width\": 0.5}}, \"type\": \"bar\"}], \"barpolar\": [{\"marker\": {\"line\": {\"color\": \"#E5ECF6\", \"width\": 0.5}}, \"type\": \"barpolar\"}], \"carpet\": [{\"aaxis\": {\"endlinecolor\": \"#2a3f5f\", \"gridcolor\": \"white\", \"linecolor\": \"white\", \"minorgridcolor\": \"white\", \"startlinecolor\": \"#2a3f5f\"}, \"baxis\": {\"endlinecolor\": \"#2a3f5f\", \"gridcolor\": \"white\", \"linecolor\": \"white\", \"minorgridcolor\": \"white\", \"startlinecolor\": \"#2a3f5f\"}, \"type\": \"carpet\"}], \"choropleth\": [{\"colorbar\": {\"outlinewidth\": 0, \"ticks\": \"\"}, \"type\": \"choropleth\"}], \"contour\": [{\"colorbar\": {\"outlinewidth\": 0, \"ticks\": \"\"}, \"colorscale\": [[0.0, \"#0d0887\"], [0.1111111111111111, \"#46039f\"], [0.2222222222222222, \"#7201a8\"], [0.3333333333333333, \"#9c179e\"], [0.4444444444444444, \"#bd3786\"], [0.5555555555555556, \"#d8576b\"], [0.6666666666666666, \"#ed7953\"], [0.7777777777777778, \"#fb9f3a\"], [0.8888888888888888, \"#fdca26\"], [1.0, \"#f0f921\"]], \"type\": \"contour\"}], \"contourcarpet\": [{\"colorbar\": {\"outlinewidth\": 0, \"ticks\": \"\"}, \"type\": \"contourcarpet\"}], \"heatmap\": [{\"colorbar\": {\"outlinewidth\": 0, \"ticks\": \"\"}, \"colorscale\": [[0.0, \"#0d0887\"], [0.1111111111111111, \"#46039f\"], [0.2222222222222222, \"#7201a8\"], [0.3333333333333333, \"#9c179e\"], [0.4444444444444444, \"#bd3786\"], [0.5555555555555556, \"#d8576b\"], [0.6666666666666666, \"#ed7953\"], [0.7777777777777778, \"#fb9f3a\"], [0.8888888888888888, \"#fdca26\"], [1.0, \"#f0f921\"]], \"type\": \"heatmap\"}], \"heatmapgl\": [{\"colorbar\": {\"outlinewidth\": 0, \"ticks\": \"\"}, \"colorscale\": [[0.0, \"#0d0887\"], [0.1111111111111111, \"#46039f\"], [0.2222222222222222, \"#7201a8\"], [0.3333333333333333, \"#9c179e\"], [0.4444444444444444, \"#bd3786\"], [0.5555555555555556, \"#d8576b\"], [0.6666666666666666, \"#ed7953\"], [0.7777777777777778, \"#fb9f3a\"], [0.8888888888888888, \"#fdca26\"], [1.0, \"#f0f921\"]], \"type\": \"heatmapgl\"}], \"histogram\": [{\"marker\": {\"colorbar\": {\"outlinewidth\": 0, \"ticks\": \"\"}}, \"type\": \"histogram\"}], \"histogram2d\": [{\"colorbar\": {\"outlinewidth\": 0, \"ticks\": \"\"}, \"colorscale\": [[0.0, \"#0d0887\"], [0.1111111111111111, \"#46039f\"], [0.2222222222222222, \"#7201a8\"], [0.3333333333333333, \"#9c179e\"], [0.4444444444444444, \"#bd3786\"], [0.5555555555555556, \"#d8576b\"], [0.6666666666666666, \"#ed7953\"], [0.7777777777777778, \"#fb9f3a\"], [0.8888888888888888, \"#fdca26\"], [1.0, \"#f0f921\"]], \"type\": \"histogram2d\"}], \"histogram2dcontour\": [{\"colorbar\": {\"outlinewidth\": 0, \"ticks\": \"\"}, \"colorscale\": [[0.0, \"#0d0887\"], [0.1111111111111111, \"#46039f\"], [0.2222222222222222, \"#7201a8\"], [0.3333333333333333, \"#9c179e\"], [0.4444444444444444, \"#bd3786\"], [0.5555555555555556, \"#d8576b\"], [0.6666666666666666, \"#ed7953\"], [0.7777777777777778, \"#fb9f3a\"], [0.8888888888888888, \"#fdca26\"], [1.0, \"#f0f921\"]], \"type\": \"histogram2dcontour\"}], \"mesh3d\": [{\"colorbar\": {\"outlinewidth\": 0, \"ticks\": \"\"}, \"type\": \"mesh3d\"}], \"parcoords\": [{\"line\": {\"colorbar\": {\"outlinewidth\": 0, \"ticks\": \"\"}}, \"type\": \"parcoords\"}], \"pie\": [{\"automargin\": true, \"type\": \"pie\"}], \"scatter\": [{\"marker\": {\"colorbar\": {\"outlinewidth\": 0, \"ticks\": \"\"}}, \"type\": \"scatter\"}], \"scatter3d\": [{\"line\": {\"colorbar\": {\"outlinewidth\": 0, \"ticks\": \"\"}}, \"marker\": {\"colorbar\": {\"outlinewidth\": 0, \"ticks\": \"\"}}, \"type\": \"scatter3d\"}], \"scattercarpet\": [{\"marker\": {\"colorbar\": {\"outlinewidth\": 0, \"ticks\": \"\"}}, \"type\": \"scattercarpet\"}], \"scattergeo\": [{\"marker\": {\"colorbar\": {\"outlinewidth\": 0, \"ticks\": \"\"}}, \"type\": \"scattergeo\"}], \"scattergl\": [{\"marker\": {\"colorbar\": {\"outlinewidth\": 0, \"ticks\": \"\"}}, \"type\": \"scattergl\"}], \"scattermapbox\": [{\"marker\": {\"colorbar\": {\"outlinewidth\": 0, \"ticks\": \"\"}}, \"type\": \"scattermapbox\"}], \"scatterpolar\": [{\"marker\": {\"colorbar\": {\"outlinewidth\": 0, \"ticks\": \"\"}}, \"type\": \"scatterpolar\"}], \"scatterpolargl\": [{\"marker\": {\"colorbar\": {\"outlinewidth\": 0, \"ticks\": \"\"}}, \"type\": \"scatterpolargl\"}], \"scatterternary\": [{\"marker\": {\"colorbar\": {\"outlinewidth\": 0, \"ticks\": \"\"}}, \"type\": \"scatterternary\"}], \"surface\": [{\"colorbar\": {\"outlinewidth\": 0, \"ticks\": \"\"}, \"colorscale\": [[0.0, \"#0d0887\"], [0.1111111111111111, \"#46039f\"], [0.2222222222222222, \"#7201a8\"], [0.3333333333333333, \"#9c179e\"], [0.4444444444444444, \"#bd3786\"], [0.5555555555555556, \"#d8576b\"], [0.6666666666666666, \"#ed7953\"], [0.7777777777777778, \"#fb9f3a\"], [0.8888888888888888, \"#fdca26\"], [1.0, \"#f0f921\"]], \"type\": \"surface\"}], \"table\": [{\"cells\": {\"fill\": {\"color\": \"#EBF0F8\"}, \"line\": {\"color\": \"white\"}}, \"header\": {\"fill\": {\"color\": \"#C8D4E3\"}, \"line\": {\"color\": \"white\"}}, \"type\": \"table\"}]}, \"layout\": {\"annotationdefaults\": {\"arrowcolor\": \"#2a3f5f\", \"arrowhead\": 0, \"arrowwidth\": 1}, \"coloraxis\": {\"colorbar\": {\"outlinewidth\": 0, \"ticks\": \"\"}}, \"colorscale\": {\"diverging\": [[0, \"#8e0152\"], [0.1, \"#c51b7d\"], [0.2, \"#de77ae\"], [0.3, \"#f1b6da\"], [0.4, \"#fde0ef\"], [0.5, \"#f7f7f7\"], [0.6, \"#e6f5d0\"], [0.7, \"#b8e186\"], [0.8, \"#7fbc41\"], [0.9, \"#4d9221\"], [1, \"#276419\"]], \"sequential\": [[0.0, \"#0d0887\"], [0.1111111111111111, \"#46039f\"], [0.2222222222222222, \"#7201a8\"], [0.3333333333333333, \"#9c179e\"], [0.4444444444444444, \"#bd3786\"], [0.5555555555555556, \"#d8576b\"], [0.6666666666666666, \"#ed7953\"], [0.7777777777777778, \"#fb9f3a\"], [0.8888888888888888, \"#fdca26\"], [1.0, \"#f0f921\"]], \"sequentialminus\": [[0.0, \"#0d0887\"], [0.1111111111111111, \"#46039f\"], [0.2222222222222222, \"#7201a8\"], [0.3333333333333333, \"#9c179e\"], [0.4444444444444444, \"#bd3786\"], [0.5555555555555556, \"#d8576b\"], [0.6666666666666666, \"#ed7953\"], [0.7777777777777778, \"#fb9f3a\"], [0.8888888888888888, \"#fdca26\"], [1.0, \"#f0f921\"]]}, \"colorway\": [\"#636efa\", \"#EF553B\", \"#00cc96\", \"#ab63fa\", \"#FFA15A\", \"#19d3f3\", \"#FF6692\", \"#B6E880\", \"#FF97FF\", \"#FECB52\"], \"font\": {\"color\": \"#2a3f5f\"}, \"geo\": {\"bgcolor\": \"white\", \"lakecolor\": \"white\", \"landcolor\": \"#E5ECF6\", \"showlakes\": true, \"showland\": true, \"subunitcolor\": \"white\"}, \"hoverlabel\": {\"align\": \"left\"}, \"hovermode\": \"closest\", \"mapbox\": {\"style\": \"light\"}, \"paper_bgcolor\": \"white\", \"plot_bgcolor\": \"#E5ECF6\", \"polar\": {\"angularaxis\": {\"gridcolor\": \"white\", \"linecolor\": \"white\", \"ticks\": \"\"}, \"bgcolor\": \"#E5ECF6\", \"radialaxis\": {\"gridcolor\": \"white\", \"linecolor\": \"white\", \"ticks\": \"\"}}, \"scene\": {\"xaxis\": {\"backgroundcolor\": \"#E5ECF6\", \"gridcolor\": \"white\", \"gridwidth\": 2, \"linecolor\": \"white\", \"showbackground\": true, \"ticks\": \"\", \"zerolinecolor\": \"white\"}, \"yaxis\": {\"backgroundcolor\": \"#E5ECF6\", \"gridcolor\": \"white\", \"gridwidth\": 2, \"linecolor\": \"white\", \"showbackground\": true, \"ticks\": \"\", \"zerolinecolor\": \"white\"}, \"zaxis\": {\"backgroundcolor\": \"#E5ECF6\", \"gridcolor\": \"white\", \"gridwidth\": 2, \"linecolor\": \"white\", \"showbackground\": true, \"ticks\": \"\", \"zerolinecolor\": \"white\"}}, \"shapedefaults\": {\"line\": {\"color\": \"#2a3f5f\"}}, \"ternary\": {\"aaxis\": {\"gridcolor\": \"white\", \"linecolor\": \"white\", \"ticks\": \"\"}, \"baxis\": {\"gridcolor\": \"white\", \"linecolor\": \"white\", \"ticks\": \"\"}, \"bgcolor\": \"#E5ECF6\", \"caxis\": {\"gridcolor\": \"white\", \"linecolor\": \"white\", \"ticks\": \"\"}}, \"title\": {\"x\": 0.05}, \"xaxis\": {\"automargin\": true, \"gridcolor\": \"white\", \"linecolor\": \"white\", \"ticks\": \"\", \"title\": {\"standoff\": 15}, \"zerolinecolor\": \"white\", \"zerolinewidth\": 2}, \"yaxis\": {\"automargin\": true, \"gridcolor\": \"white\", \"linecolor\": \"white\", \"ticks\": \"\", \"title\": {\"standoff\": 15}, \"zerolinecolor\": \"white\", \"zerolinewidth\": 2}}}, \"title\": {\"text\": \"Metrics Plot\"}, \"xaxis\": {\"anchor\": \"y\", \"domain\": [0.0, 1.0]}, \"yaxis\": {\"anchor\": \"x\", \"domain\": [0.0, 1.0]}},\n",
              "                        {\"responsive\": true}\n",
              "                    ).then(function(){\n",
              "                            \n",
              "var gd = document.getElementById('817d1cf1-ca9c-429f-9f77-fb8f67e2e846');\n",
              "var x = new MutationObserver(function (mutations, observer) {{\n",
              "        var display = window.getComputedStyle(gd).display;\n",
              "        if (!display || display === 'none') {{\n",
              "            console.log([gd, 'removed!']);\n",
              "            Plotly.purge(gd);\n",
              "            observer.disconnect();\n",
              "        }}\n",
              "}});\n",
              "\n",
              "// Listen for the removal of the full notebook cells\n",
              "var notebookContainer = gd.closest('#notebook-container');\n",
              "if (notebookContainer) {{\n",
              "    x.observe(notebookContainer, {childList: true});\n",
              "}}\n",
              "\n",
              "// Listen for the clearing of the current output cell\n",
              "var outputEl = gd.closest('.output');\n",
              "if (outputEl) {{\n",
              "    x.observe(outputEl, {childList: true});\n",
              "}}\n",
              "\n",
              "                        })\n",
              "                };\n",
              "                \n",
              "            </script>\n",
              "        </div>\n",
              "</body>\n",
              "</html>"
            ]
          },
          "metadata": {}
        }
      ]
    },
    {
      "cell_type": "markdown",
      "metadata": {
        "id": "0G-slWFQ1KwJ"
      },
      "source": [
        "# **Otimizar o modelo**"
      ]
    },
    {
      "cell_type": "markdown",
      "metadata": {
        "id": "SukGrdFNTMWX"
      },
      "source": [
        "# **Avaliar acurácia  do Modelo**"
      ]
    },
    {
      "cell_type": "code",
      "metadata": {
        "id": "jHX9PR5gTQZA",
        "colab": {
          "base_uri": "https://localhost:8080/"
        },
        "outputId": "62a8e12c-125a-4360-8be9-218af55b7b52"
      },
      "source": [
        "model = tf.keras.models.load_model(\"best_model.h5\")\n",
        "\n",
        "test_loss, test_acc= model.evaluate(X_test,y_test)\n",
        "print(\"validation_accuracy: \" + str(test_acc))"
      ],
      "execution_count": 22,
      "outputs": [
        {
          "output_type": "stream",
          "name": "stdout",
          "text": [
            "4/4 [==============================] - 0s 5ms/step - loss: 0.3805 - accuracy: 0.8203\n",
            "validation_accuracy: 0.8203125\n"
          ]
        }
      ]
    },
    {
      "cell_type": "markdown",
      "metadata": {
        "id": "WPvlnHQyjENH"
      },
      "source": [
        "# **Listando as redes realmente disponíveis em seu Keras**"
      ]
    },
    {
      "cell_type": "code",
      "metadata": {
        "colab": {
          "base_uri": "https://localhost:8080/"
        },
        "id": "r7rGxnabi9t2",
        "outputId": "5d10663b-1909-463d-b066-731d7dc53910"
      },
      "source": [
        "import tensorflow.keras.applications as app\n",
        "print(dir(app))"
      ],
      "execution_count": 23,
      "outputs": [
        {
          "output_type": "stream",
          "name": "stdout",
          "text": [
            "['DenseNet121', 'DenseNet169', 'DenseNet201', 'EfficientNetB0', 'EfficientNetB1', 'EfficientNetB2', 'EfficientNetB3', 'EfficientNetB4', 'EfficientNetB5', 'EfficientNetB6', 'EfficientNetB7', 'InceptionResNetV2', 'InceptionV3', 'MobileNet', 'MobileNetV2', 'MobileNetV3Large', 'MobileNetV3Small', 'NASNetLarge', 'NASNetMobile', 'ResNet101', 'ResNet101V2', 'ResNet152', 'ResNet152V2', 'ResNet50', 'ResNet50V2', 'VGG16', 'VGG19', 'Xception', '__builtins__', '__cached__', '__doc__', '__file__', '__loader__', '__name__', '__package__', '__path__', '__spec__', '_sys', 'densenet', 'efficientnet', 'imagenet_utils', 'inception_resnet_v2', 'inception_v3', 'mobilenet', 'mobilenet_v2', 'mobilenet_v3', 'nasnet', 'resnet', 'resnet50', 'resnet_v2', 'vgg16', 'vgg19', 'xception']\n"
          ]
        }
      ]
    },
    {
      "cell_type": "markdown",
      "metadata": {
        "id": "TtHvNQkI2vle"
      },
      "source": [
        "# **O Modelo pre treinado VGG16**"
      ]
    },
    {
      "cell_type": "code",
      "metadata": {
        "id": "J5ri8TgbjjcD",
        "colab": {
          "base_uri": "https://localhost:8080/"
        },
        "outputId": "25ea7fe7-e206-4b91-d451-e34f1a5d4ca4"
      },
      "source": [
        "# Inicializar a CNN\n",
        "\n",
        "classifier = VGG16(include_top=False,weights='imagenet',input_shape=(32,32,3))"
      ],
      "execution_count": 24,
      "outputs": [
        {
          "output_type": "stream",
          "name": "stdout",
          "text": [
            "Downloading data from https://storage.googleapis.com/tensorflow/keras-applications/vgg16/vgg16_weights_tf_dim_ordering_tf_kernels_notop.h5\n",
            "58892288/58889256 [==============================] - 1s 0us/step\n",
            "58900480/58889256 [==============================] - 1s 0us/step\n"
          ]
        }
      ]
    },
    {
      "cell_type": "code",
      "metadata": {
        "id": "6_sWdJk654Wn"
      },
      "source": [
        "#inp = tf.keras.Input((28,28,3))"
      ],
      "execution_count": 30,
      "outputs": []
    },
    {
      "cell_type": "code",
      "metadata": {
        "colab": {
          "base_uri": "https://localhost:8080/"
        },
        "id": "v-3FFMBQpKXo",
        "outputId": "b5f6d2d8-93ce-4162-c5c0-1f60e3e58cd6"
      },
      "source": [
        "# marcar camadas como não treináveis\n",
        "for layer in classifier.layers:\n",
        "    layer.trainable = False\n",
        "\n",
        "# adicionar novas camadas para classificação\n",
        "\n",
        "flat1 = tf.keras.layers.Flatten()(classifier.layers[-1].output)\n",
        "flat1 = Dense(1024, activation='relu', kernel_initializer='he_uniform')(flat1)\n",
        "flat1 = tf.keras.layers.Dropout(0.5)(flat1)\n",
        "output = Dense(6, activation='softmax')(flat1)\n",
        "\n",
        "# definir o modelo\n",
        "modelvgg16 = Model(inputs=classifier.inputs, outputs=output)\n",
        "\n",
        "modelvgg16.summary()"
      ],
      "execution_count": 26,
      "outputs": [
        {
          "output_type": "stream",
          "name": "stdout",
          "text": [
            "Model: \"model_1\"\n",
            "_________________________________________________________________\n",
            "Layer (type)                 Output Shape              Param #   \n",
            "=================================================================\n",
            "input_1 (InputLayer)         [(None, 32, 32, 3)]       0         \n",
            "_________________________________________________________________\n",
            "block1_conv1 (Conv2D)        (None, 32, 32, 64)        1792      \n",
            "_________________________________________________________________\n",
            "block1_conv2 (Conv2D)        (None, 32, 32, 64)        36928     \n",
            "_________________________________________________________________\n",
            "block1_pool (MaxPooling2D)   (None, 16, 16, 64)        0         \n",
            "_________________________________________________________________\n",
            "block2_conv1 (Conv2D)        (None, 16, 16, 128)       73856     \n",
            "_________________________________________________________________\n",
            "block2_conv2 (Conv2D)        (None, 16, 16, 128)       147584    \n",
            "_________________________________________________________________\n",
            "block2_pool (MaxPooling2D)   (None, 8, 8, 128)         0         \n",
            "_________________________________________________________________\n",
            "block3_conv1 (Conv2D)        (None, 8, 8, 256)         295168    \n",
            "_________________________________________________________________\n",
            "block3_conv2 (Conv2D)        (None, 8, 8, 256)         590080    \n",
            "_________________________________________________________________\n",
            "block3_conv3 (Conv2D)        (None, 8, 8, 256)         590080    \n",
            "_________________________________________________________________\n",
            "block3_pool (MaxPooling2D)   (None, 4, 4, 256)         0         \n",
            "_________________________________________________________________\n",
            "block4_conv1 (Conv2D)        (None, 4, 4, 512)         1180160   \n",
            "_________________________________________________________________\n",
            "block4_conv2 (Conv2D)        (None, 4, 4, 512)         2359808   \n",
            "_________________________________________________________________\n",
            "block4_conv3 (Conv2D)        (None, 4, 4, 512)         2359808   \n",
            "_________________________________________________________________\n",
            "block4_pool (MaxPooling2D)   (None, 2, 2, 512)         0         \n",
            "_________________________________________________________________\n",
            "block5_conv1 (Conv2D)        (None, 2, 2, 512)         2359808   \n",
            "_________________________________________________________________\n",
            "block5_conv2 (Conv2D)        (None, 2, 2, 512)         2359808   \n",
            "_________________________________________________________________\n",
            "block5_conv3 (Conv2D)        (None, 2, 2, 512)         2359808   \n",
            "_________________________________________________________________\n",
            "block5_pool (MaxPooling2D)   (None, 1, 1, 512)         0         \n",
            "_________________________________________________________________\n",
            "flatten_2 (Flatten)          (None, 512)               0         \n",
            "_________________________________________________________________\n",
            "dense_4 (Dense)              (None, 1024)              525312    \n",
            "_________________________________________________________________\n",
            "dropout_2 (Dropout)          (None, 1024)              0         \n",
            "_________________________________________________________________\n",
            "dense_5 (Dense)              (None, 6)                 6150      \n",
            "=================================================================\n",
            "Total params: 15,246,150\n",
            "Trainable params: 531,462\n",
            "Non-trainable params: 14,714,688\n",
            "_________________________________________________________________\n"
          ]
        }
      ]
    },
    {
      "cell_type": "code",
      "metadata": {
        "id": "wvbEuAEuQxLI"
      },
      "source": [
        "modelvgg16.compile(optimizer = Adam(learning_rate=0.0001), \n",
        "               loss = 'categorical_crossentropy', \n",
        "               metrics =['accuracy'])  \n",
        "\n",
        "callbacksvgg16 = [\n",
        "    tf.keras.callbacks.ReduceLROnPlateau(factor=0.5,\n",
        "                                         patience=4,\n",
        "                                         verbose=0),\n",
        "    tf.keras.callbacks.EarlyStopping(\n",
        "        monitor=\"accuracy\",\n",
        "        patience=12,\n",
        "        restore_best_weights=True,\n",
        "    ),\n",
        "    tf.keras.callbacks.ModelCheckpoint(\n",
        "        filepath='feature_extraction.vgg16',\n",
        "        save_best_only=True,\n",
        "        monitor=\"val_accuracy\",\n",
        "    ),\n",
        "\n",
        "]"
      ],
      "execution_count": 27,
      "outputs": []
    },
    {
      "cell_type": "code",
      "metadata": {
        "id": "Q49JsEYskH6B",
        "colab": {
          "base_uri": "https://localhost:8080/"
        },
        "outputId": "f3fc8437-fd71-4351-e527-5dd751df0088"
      },
      "source": [
        "epochs=200\n",
        "historyvgg16 = modelvgg16.fit(X_trainVGG16,y_trainVGG16,\n",
        "                    epochs=epochs,\n",
        "                    verbose=1,\n",
        "                    steps_per_epoch = 23999/256,\n",
        "                    callbacks=callbacksvgg16,\n",
        "                    validation_data=(X_valVGG16,y_valVGG16))\n",
        "                    #validation_steps = 5999/64)"
      ],
      "execution_count": 28,
      "outputs": [
        {
          "output_type": "stream",
          "name": "stdout",
          "text": [
            "Epoch 1/200\n",
            "93/93 [==============================] - 3s 21ms/step - loss: 1.8917 - accuracy: 0.3032 - val_loss: 1.3855 - val_accuracy: 0.6094\n",
            "INFO:tensorflow:Assets written to: feature_extraction.vgg16/assets\n",
            "Epoch 2/200\n",
            "93/93 [==============================] - 1s 13ms/step - loss: 1.4342 - accuracy: 0.3989 - val_loss: 1.0415 - val_accuracy: 0.7188\n",
            "INFO:tensorflow:Assets written to: feature_extraction.vgg16/assets\n",
            "Epoch 3/200\n",
            "93/93 [==============================] - 1s 13ms/step - loss: 1.2940 - accuracy: 0.5053 - val_loss: 0.8822 - val_accuracy: 0.7969\n",
            "INFO:tensorflow:Assets written to: feature_extraction.vgg16/assets\n",
            "Epoch 4/200\n",
            "93/93 [==============================] - 1s 13ms/step - loss: 1.1113 - accuracy: 0.5585 - val_loss: 0.7763 - val_accuracy: 0.7969\n",
            "Epoch 5/200\n",
            "93/93 [==============================] - 1s 13ms/step - loss: 1.0096 - accuracy: 0.6170 - val_loss: 0.6915 - val_accuracy: 0.8047\n",
            "INFO:tensorflow:Assets written to: feature_extraction.vgg16/assets\n",
            "Epoch 6/200\n",
            "93/93 [==============================] - 1s 13ms/step - loss: 0.8822 - accuracy: 0.6330 - val_loss: 0.6512 - val_accuracy: 0.8203\n",
            "INFO:tensorflow:Assets written to: feature_extraction.vgg16/assets\n",
            "Epoch 7/200\n",
            "93/93 [==============================] - 1s 12ms/step - loss: 0.8400 - accuracy: 0.6915 - val_loss: 0.6011 - val_accuracy: 0.7969\n",
            "Epoch 8/200\n",
            "93/93 [==============================] - 1s 13ms/step - loss: 0.7735 - accuracy: 0.7181 - val_loss: 0.5980 - val_accuracy: 0.8203\n",
            "Epoch 9/200\n",
            "93/93 [==============================] - 1s 13ms/step - loss: 0.6797 - accuracy: 0.7606 - val_loss: 0.5618 - val_accuracy: 0.8359\n",
            "INFO:tensorflow:Assets written to: feature_extraction.vgg16/assets\n",
            "Epoch 10/200\n",
            "93/93 [==============================] - 1s 13ms/step - loss: 0.6954 - accuracy: 0.7766 - val_loss: 0.5557 - val_accuracy: 0.8203\n",
            "Epoch 11/200\n",
            "93/93 [==============================] - 1s 13ms/step - loss: 0.5797 - accuracy: 0.8138 - val_loss: 0.5378 - val_accuracy: 0.8281\n",
            "Epoch 12/200\n",
            "93/93 [==============================] - 1s 13ms/step - loss: 0.5760 - accuracy: 0.7979 - val_loss: 0.5372 - val_accuracy: 0.8438\n",
            "INFO:tensorflow:Assets written to: feature_extraction.vgg16/assets\n",
            "Epoch 13/200\n",
            "93/93 [==============================] - 1s 13ms/step - loss: 0.5589 - accuracy: 0.7979 - val_loss: 0.5069 - val_accuracy: 0.8281\n",
            "Epoch 14/200\n",
            "93/93 [==============================] - 1s 13ms/step - loss: 0.5244 - accuracy: 0.8511 - val_loss: 0.5102 - val_accuracy: 0.8438\n",
            "Epoch 15/200\n",
            "93/93 [==============================] - 1s 13ms/step - loss: 0.5094 - accuracy: 0.8245 - val_loss: 0.4851 - val_accuracy: 0.8281\n",
            "Epoch 16/200\n",
            "93/93 [==============================] - 1s 13ms/step - loss: 0.4681 - accuracy: 0.8404 - val_loss: 0.4783 - val_accuracy: 0.8438\n",
            "Epoch 17/200\n",
            "93/93 [==============================] - 1s 13ms/step - loss: 0.4604 - accuracy: 0.8564 - val_loss: 0.4721 - val_accuracy: 0.8203\n",
            "Epoch 18/200\n",
            "93/93 [==============================] - 1s 13ms/step - loss: 0.4296 - accuracy: 0.8670 - val_loss: 0.4676 - val_accuracy: 0.8281\n",
            "Epoch 19/200\n",
            "93/93 [==============================] - 1s 13ms/step - loss: 0.4306 - accuracy: 0.8511 - val_loss: 0.4631 - val_accuracy: 0.8516\n",
            "INFO:tensorflow:Assets written to: feature_extraction.vgg16/assets\n",
            "Epoch 20/200\n",
            "93/93 [==============================] - 1s 13ms/step - loss: 0.3718 - accuracy: 0.8830 - val_loss: 0.4652 - val_accuracy: 0.8672\n",
            "INFO:tensorflow:Assets written to: feature_extraction.vgg16/assets\n",
            "Epoch 21/200\n",
            "93/93 [==============================] - 1s 14ms/step - loss: 0.4109 - accuracy: 0.8617 - val_loss: 0.4626 - val_accuracy: 0.8281\n",
            "Epoch 22/200\n",
            "93/93 [==============================] - 1s 13ms/step - loss: 0.4004 - accuracy: 0.8617 - val_loss: 0.4581 - val_accuracy: 0.8672\n",
            "Epoch 23/200\n",
            "93/93 [==============================] - 1s 13ms/step - loss: 0.3763 - accuracy: 0.8670 - val_loss: 0.4439 - val_accuracy: 0.8281\n",
            "Epoch 24/200\n",
            "93/93 [==============================] - 1s 12ms/step - loss: 0.3252 - accuracy: 0.8936 - val_loss: 0.4519 - val_accuracy: 0.8281\n",
            "Epoch 25/200\n",
            "93/93 [==============================] - 1s 13ms/step - loss: 0.3325 - accuracy: 0.8936 - val_loss: 0.4522 - val_accuracy: 0.8281\n",
            "Epoch 26/200\n",
            "93/93 [==============================] - 1s 13ms/step - loss: 0.3146 - accuracy: 0.8936 - val_loss: 0.4698 - val_accuracy: 0.8438\n",
            "Epoch 27/200\n",
            "93/93 [==============================] - 1s 13ms/step - loss: 0.2951 - accuracy: 0.9415 - val_loss: 0.4458 - val_accuracy: 0.8281\n",
            "Epoch 28/200\n",
            "93/93 [==============================] - 1s 13ms/step - loss: 0.3182 - accuracy: 0.9043 - val_loss: 0.4343 - val_accuracy: 0.8359\n",
            "Epoch 29/200\n",
            "93/93 [==============================] - 1s 13ms/step - loss: 0.2805 - accuracy: 0.8989 - val_loss: 0.4349 - val_accuracy: 0.8281\n",
            "Epoch 30/200\n",
            "93/93 [==============================] - 1s 13ms/step - loss: 0.2889 - accuracy: 0.9149 - val_loss: 0.4325 - val_accuracy: 0.8359\n",
            "Epoch 31/200\n",
            "93/93 [==============================] - 1s 13ms/step - loss: 0.2831 - accuracy: 0.9362 - val_loss: 0.4355 - val_accuracy: 0.8359\n",
            "Epoch 32/200\n",
            "93/93 [==============================] - 1s 13ms/step - loss: 0.2719 - accuracy: 0.9255 - val_loss: 0.4381 - val_accuracy: 0.8281\n",
            "Epoch 33/200\n",
            "93/93 [==============================] - 1s 13ms/step - loss: 0.2512 - accuracy: 0.9415 - val_loss: 0.4361 - val_accuracy: 0.8281\n",
            "Epoch 34/200\n",
            "93/93 [==============================] - 1s 13ms/step - loss: 0.2476 - accuracy: 0.9309 - val_loss: 0.4303 - val_accuracy: 0.8281\n",
            "Epoch 35/200\n",
            "93/93 [==============================] - 1s 13ms/step - loss: 0.2731 - accuracy: 0.9309 - val_loss: 0.4393 - val_accuracy: 0.8359\n",
            "Epoch 36/200\n",
            "93/93 [==============================] - 1s 13ms/step - loss: 0.2458 - accuracy: 0.9255 - val_loss: 0.4300 - val_accuracy: 0.8281\n",
            "Epoch 37/200\n",
            "93/93 [==============================] - 1s 13ms/step - loss: 0.2579 - accuracy: 0.9149 - val_loss: 0.4478 - val_accuracy: 0.8438\n",
            "Epoch 38/200\n",
            "93/93 [==============================] - 1s 13ms/step - loss: 0.2735 - accuracy: 0.9202 - val_loss: 0.4362 - val_accuracy: 0.8359\n",
            "Epoch 39/200\n",
            "93/93 [==============================] - 1s 12ms/step - loss: 0.2530 - accuracy: 0.9309 - val_loss: 0.4305 - val_accuracy: 0.8203\n"
          ]
        }
      ]
    },
    {
      "cell_type": "code",
      "metadata": {
        "id": "OzhMZWXqtWGz",
        "colab": {
          "base_uri": "https://localhost:8080/",
          "height": 545
        },
        "outputId": "ae73d84d-3854-4578-f879-e86d03c13b6c"
      },
      "source": [
        "%matplotlib inline\n",
        "import matplotlib.pyplot as plt\n",
        "acc = historyvgg16.history['accuracy']\n",
        "val_acc = historyvgg16.history['val_accuracy']\n",
        "loss = historyvgg16.history['loss']\n",
        "val_loss = historyvgg16.history['val_loss']\n",
        "\n",
        "epochs = range(len(acc))\n",
        "\n",
        "plt.plot(epochs, acc, 'r', label='Training accuracy')\n",
        "plt.plot(epochs, val_acc, 'b', label='Validation accuracy')\n",
        "plt.title('Training and validation accuracy')\n",
        "plt.legend(loc=0)\n",
        "plt.figure()\n",
        "\n",
        "plt.plot(epochs, loss, 'r', label='Training Loss')\n",
        "plt.plot(epochs, val_loss, 'b', label='Validation Loss')\n",
        "plt.title('Training and validation loss')\n",
        "plt.legend()\n",
        "\n",
        "plt.show()"
      ],
      "execution_count": 29,
      "outputs": [
        {
          "output_type": "display_data",
          "data": {
            "image/png": "[encoded data removed]",
            "text/plain": [
              "<Figure size 432x288 with 1 Axes>"
            ]
          },
          "metadata": {
            "needs_background": "light"
          }
        },
        {
          "output_type": "display_data",
          "data": {
            "image/png": "[encoded data removed]",
            "text/plain": [
              "<Figure size 432x288 with 1 Axes>"
            ]
          },
          "metadata": {
            "needs_background": "light"
          }
        }
      ]
    },
    {
      "cell_type": "code",
      "metadata": {
        "id": "Usw3n8GmtmXH",
        "colab": {
          "base_uri": "https://localhost:8080/"
        },
        "outputId": "d4baeaad-eafd-4bec-a6fa-fb7618010407"
      },
      "source": [
        "modelvgg16 = tf.keras.models.load_model(\"feature_extraction.vgg16\")\n",
        "\n",
        "test_lossvgg16, test_accvgg16= modelvgg16.evaluate(X_testVGG16,y_testVGG16)\n",
        "print(\"validation_accuracy: \" + str(test_accvgg16))"
      ],
      "execution_count": 30,
      "outputs": [
        {
          "output_type": "stream",
          "name": "stdout",
          "text": [
            "4/4 [==============================] - 0s 17ms/step - loss: 0.5567 - accuracy: 0.8203\n",
            "validation_accuracy: 0.8203125\n"
          ]
        }
      ]
    },
    {
      "cell_type": "markdown",
      "metadata": {
        "id": "MVOum8PiFwj5"
      },
      "source": [
        "# **Comparandos os modelos**"
      ]
    },
    {
      "cell_type": "code",
      "metadata": {
        "id": "g6AYQKDTtmlY",
        "colab": {
          "base_uri": "https://localhost:8080/",
          "height": 336
        },
        "outputId": "17849825-91af-4c57-96f9-ce4ff5c1529b"
      },
      "source": [
        "fig = plt.figure()\n",
        "ax = fig.add_axes([0,0,1,1])\n",
        "acc = [test_acc,test_accvgg16]\n",
        "model = ['Modelo Criado','VGG16']\n",
        "#model = ['Modelo Criado','VGG16','InceptionV3','EfficientNetB0','EfficientNetB7']\n",
        "ax.bar(model,acc)\n",
        "plt.show()"
      ],
      "execution_count": 31,
      "outputs": [
        {
          "output_type": "display_data",
          "data": {
            "image/png": "[encoded data removed]",
            "text/plain": [
              "<Figure size 432x288 with 1 Axes>"
            ]
          },
          "metadata": {
            "needs_background": "light"
          }
        }
      ]
    },
    {
      "cell_type": "markdown",
      "metadata": {
        "id": "7toSzftQcPLH"
      },
      "source": [
        "# **Realizar a Predição para as 6 classes**"
      ]
    },
    {
      "cell_type": "code",
      "metadata": {
        "id": "cQp4hLBD1b2Q",
        "colab": {
          "base_uri": "https://localhost:8080/",
          "height": 245
        },
        "outputId": "355bafdf-f54a-4893-c85e-b011e75cfafb"
      },
      "source": [
        "plt.figure()\n",
        "plt.imshow(X_train[i])\n",
        "plt.colorbar()\n",
        "plt.grid(False)\n",
        "image_shape = plt.show()"
      ],
      "execution_count": 32,
      "outputs": [
        {
          "output_type": "error",
          "ename": "IndexError",
          "evalue": "ignored",
          "traceback": [
            "\u001b[0;31m---------------------------------------------------------------------------\u001b[0m",
            "\u001b[0;31mIndexError\u001b[0m                                Traceback (most recent call last)",
            "\u001b[0;32m<ipython-input-32-bf3629bfb81a>\u001b[0m in \u001b[0;36m<module>\u001b[0;34m()\u001b[0m\n\u001b[1;32m      1\u001b[0m \u001b[0mplt\u001b[0m\u001b[0;34m.\u001b[0m\u001b[0mfigure\u001b[0m\u001b[0;34m(\u001b[0m\u001b[0;34m)\u001b[0m\u001b[0;34m\u001b[0m\u001b[0;34m\u001b[0m\u001b[0m\n\u001b[0;32m----> 2\u001b[0;31m \u001b[0mplt\u001b[0m\u001b[0;34m.\u001b[0m\u001b[0mimshow\u001b[0m\u001b[0;34m(\u001b[0m\u001b[0mX_train\u001b[0m\u001b[0;34m[\u001b[0m\u001b[0mi\u001b[0m\u001b[0;34m]\u001b[0m\u001b[0;34m)\u001b[0m\u001b[0;34m\u001b[0m\u001b[0;34m\u001b[0m\u001b[0m\n\u001b[0m\u001b[1;32m      3\u001b[0m \u001b[0mplt\u001b[0m\u001b[0;34m.\u001b[0m\u001b[0mcolorbar\u001b[0m\u001b[0;34m(\u001b[0m\u001b[0;34m)\u001b[0m\u001b[0;34m\u001b[0m\u001b[0;34m\u001b[0m\u001b[0m\n\u001b[1;32m      4\u001b[0m \u001b[0mplt\u001b[0m\u001b[0;34m.\u001b[0m\u001b[0mgrid\u001b[0m\u001b[0;34m(\u001b[0m\u001b[0;32mFalse\u001b[0m\u001b[0;34m)\u001b[0m\u001b[0;34m\u001b[0m\u001b[0;34m\u001b[0m\u001b[0m\n\u001b[1;32m      5\u001b[0m \u001b[0mimage_shape\u001b[0m \u001b[0;34m=\u001b[0m \u001b[0mplt\u001b[0m\u001b[0;34m.\u001b[0m\u001b[0mshow\u001b[0m\u001b[0;34m(\u001b[0m\u001b[0;34m)\u001b[0m\u001b[0;34m\u001b[0m\u001b[0;34m\u001b[0m\u001b[0m\n",
            "\u001b[0;31mIndexError\u001b[0m: only integers, slices (`:`), ellipsis (`...`), numpy.newaxis (`None`) and integer or boolean arrays are valid indices"
          ]
        },
        {
          "output_type": "display_data",
          "data": {
            "text/plain": [
              "<Figure size 432x288 with 0 Axes>"
            ]
          },
          "metadata": {}
        }
      ]
    },
    {
      "cell_type": "code",
      "metadata": {
        "id": "LiCfoVFuxeC1",
        "outputId": "d3ba2866-6c89-493e-e59a-d57408e919f3",
        "colab": {
          "base_uri": "https://localhost:8080/"
        }
      },
      "source": [
        "class_dict=train_generator.class_indices\n",
        "labels= train_generator.labels\n",
        "file_names= train_generator.filenames \n",
        "\n",
        "class_dict"
      ],
      "execution_count": 118,
      "outputs": [
        {
          "output_type": "execute_result",
          "data": {
            "text/plain": [
              "{'andesite': 0,\n",
              " 'gneiss': 1,\n",
              " 'marbler': 2,\n",
              " 'quartzite': 3,\n",
              " 'rhyolite': 4,\n",
              " 'schist': 5}"
            ]
          },
          "metadata": {},
          "execution_count": 118
        }
      ]
    },
    {
      "cell_type": "code",
      "metadata": {
        "id": "bHe8dG5-r7uk",
        "outputId": "04d7c816-efe0-40c4-9d3e-e385ed0c835a",
        "colab": {
          "base_uri": "https://localhost:8080/"
        }
      },
      "source": [
        "y_train[i]"
      ],
      "execution_count": 78,
      "outputs": [
        {
          "output_type": "execute_result",
          "data": {
            "text/plain": [
              "array([0., 0., 0., 1., 0., 0.], dtype=float32)"
            ]
          },
          "metadata": {},
          "execution_count": 78
        }
      ]
    },
    {
      "cell_type": "markdown",
      "metadata": {
        "id": "N14GaXQK1x4C"
      },
      "source": [
        "Escalaremos esses valores no intervalo de 0 e 1 antes antes de alimentar o modelo da rede neural. Para fazer isso, dividimos os valores por 255. É importante que o conjunto de treinamento e o conjunto de teste podem ser pré-processados do mesmo modo:"
      ]
    },
    {
      "cell_type": "code",
      "metadata": {
        "id": "jerlMdae10kl"
      },
      "source": [
        "X_train = X_train /255\n",
        "X_test = X_test /255"
      ],
      "execution_count": 45,
      "outputs": []
    },
    {
      "cell_type": "code",
      "metadata": {
        "id": "ut4cvpNs2eGz",
        "colab": {
          "base_uri": "https://localhost:8080/",
          "height": 228
        },
        "outputId": "eb3de1f2-0b03-4200-8fbf-514b2737013b"
      },
      "source": [
        "class_names = ['andesite','gneiss','marbler','quartzite','rhyolite','schist']\n",
        "#class_names = [0,1,2,3,4,5]\n",
        "\n",
        "plt.figure(figsize=(10, 10))\n",
        "for i in range(36):\n",
        "    plt.subplot(6, 6, i + 1)\n",
        "    plt.xticks([])\n",
        "    plt.yticks([])\n",
        "    plt.grid(False)\n",
        "    plt.imshow(X_train[i])\n",
        "    label_index = y_train[i]\n",
        "    #plt.title(class_dict)\n",
        "plt.show()\n"
      ],
      "execution_count": 1,
      "outputs": [
        {
          "output_type": "error",
          "ename": "NameError",
          "evalue": "ignored",
          "traceback": [
            "\u001b[0;31m---------------------------------------------------------------------------\u001b[0m",
            "\u001b[0;31mNameError\u001b[0m                                 Traceback (most recent call last)",
            "\u001b[0;32m<ipython-input-1-2322b6d1807c>\u001b[0m in \u001b[0;36m<module>\u001b[0;34m()\u001b[0m\n\u001b[1;32m      2\u001b[0m \u001b[0;31m#class_names = [0,1,2,3,4,5]\u001b[0m\u001b[0;34m\u001b[0m\u001b[0;34m\u001b[0m\u001b[0;34m\u001b[0m\u001b[0m\n\u001b[1;32m      3\u001b[0m \u001b[0;34m\u001b[0m\u001b[0m\n\u001b[0;32m----> 4\u001b[0;31m \u001b[0mplt\u001b[0m\u001b[0;34m.\u001b[0m\u001b[0mfigure\u001b[0m\u001b[0;34m(\u001b[0m\u001b[0mfigsize\u001b[0m\u001b[0;34m=\u001b[0m\u001b[0;34m(\u001b[0m\u001b[0;36m10\u001b[0m\u001b[0;34m,\u001b[0m \u001b[0;36m10\u001b[0m\u001b[0;34m)\u001b[0m\u001b[0;34m)\u001b[0m\u001b[0;34m\u001b[0m\u001b[0;34m\u001b[0m\u001b[0m\n\u001b[0m\u001b[1;32m      5\u001b[0m \u001b[0;32mfor\u001b[0m \u001b[0mi\u001b[0m \u001b[0;32min\u001b[0m \u001b[0mrange\u001b[0m\u001b[0;34m(\u001b[0m\u001b[0;36m36\u001b[0m\u001b[0;34m)\u001b[0m\u001b[0;34m:\u001b[0m\u001b[0;34m\u001b[0m\u001b[0;34m\u001b[0m\u001b[0m\n\u001b[1;32m      6\u001b[0m     \u001b[0mplt\u001b[0m\u001b[0;34m.\u001b[0m\u001b[0msubplot\u001b[0m\u001b[0;34m(\u001b[0m\u001b[0;36m6\u001b[0m\u001b[0;34m,\u001b[0m \u001b[0;36m6\u001b[0m\u001b[0;34m,\u001b[0m \u001b[0mi\u001b[0m \u001b[0;34m+\u001b[0m \u001b[0;36m1\u001b[0m\u001b[0;34m)\u001b[0m\u001b[0;34m\u001b[0m\u001b[0;34m\u001b[0m\u001b[0m\n",
            "\u001b[0;31mNameError\u001b[0m: name 'plt' is not defined"
          ]
        }
      ]
    },
    {
      "cell_type": "code",
      "metadata": {
        "id": "UW-VloEXue0w"
      },
      "source": [
        "# Codigo do Dr.(o)professor Leonardo Forero\n",
        "\n",
        "def plot_image(i, predictions_array, true_label, img):\n",
        "  predictions_array, true_label, img = predictions_array[i], true_label[i], img[i]\n",
        "  plt.grid(False)\n",
        "  plt.xticks([])\n",
        "  plt.yticks([])\n",
        "\n",
        "  plt.imshow(img, cmap=plt.cm.binary)\n",
        "\n",
        "  predicted_label = np.argmax(predictions_array)\n",
        "  if predicted_label == true_label:\n",
        "    color = 'blue'\n",
        "  else:\n",
        "    color = 'red'\n",
        "\n",
        "  plt.xlabel(\"{} {:2.0f}% ({})\".format(label[predicted_label],\n",
        "                                100*np.max(predictions_array),\n",
        "                                label[true_label]),\n",
        "                                color=color)\n",
        "\n",
        "def plot_value_array(i, predictions_array, true_label):\n",
        "  predictions_array, true_label = predictions_array[i], true_label[i]\n",
        "  plt.grid(False)\n",
        "  plt.xticks([])\n",
        "  plt.yticks([])\n",
        "  thisplot = plt.bar(range(10), predictions_array, color=\"#777777\")\n",
        "  plt.ylim([0, 1])\n",
        "  predicted_label = np.argmax(predictions_array)\n",
        "\n",
        "  thisplot[predicted_label].set_color('red')\n",
        "  thisplot[true_label].set_color('blue')"
      ],
      "execution_count": 97,
      "outputs": []
    },
    {
      "cell_type": "code",
      "metadata": {
        "id": "Q1ZVaJCavb1u",
        "colab": {
          "base_uri": "https://localhost:8080/",
          "height": 427
        },
        "outputId": "8bea5547-de9d-4e0e-b262-186ad101452b"
      },
      "source": [
        "i = 0\n",
        "plt.figure(figsize=(6,3))\n",
        "plt.subplot(1,2,1)\n",
        "plot_image(i, predictions, y_test, X_test)\n",
        "plt.subplot(1,2,2)\n",
        "plot_value_array(i, predictions,  y_test)\n",
        "plt.show()"
      ],
      "execution_count": 98,
      "outputs": [
        {
          "output_type": "error",
          "ename": "NameError",
          "evalue": "ignored",
          "traceback": [
            "\u001b[0;31m---------------------------------------------------------------------------\u001b[0m",
            "\u001b[0;31mNameError\u001b[0m                                 Traceback (most recent call last)",
            "\u001b[0;32m<ipython-input-98-c66d863e5a59>\u001b[0m in \u001b[0;36m<module>\u001b[0;34m()\u001b[0m\n\u001b[1;32m      2\u001b[0m \u001b[0mplt\u001b[0m\u001b[0;34m.\u001b[0m\u001b[0mfigure\u001b[0m\u001b[0;34m(\u001b[0m\u001b[0mfigsize\u001b[0m\u001b[0;34m=\u001b[0m\u001b[0;34m(\u001b[0m\u001b[0;36m6\u001b[0m\u001b[0;34m,\u001b[0m\u001b[0;36m3\u001b[0m\u001b[0;34m)\u001b[0m\u001b[0;34m)\u001b[0m\u001b[0;34m\u001b[0m\u001b[0;34m\u001b[0m\u001b[0m\n\u001b[1;32m      3\u001b[0m \u001b[0mplt\u001b[0m\u001b[0;34m.\u001b[0m\u001b[0msubplot\u001b[0m\u001b[0;34m(\u001b[0m\u001b[0;36m1\u001b[0m\u001b[0;34m,\u001b[0m\u001b[0;36m2\u001b[0m\u001b[0;34m,\u001b[0m\u001b[0;36m1\u001b[0m\u001b[0;34m)\u001b[0m\u001b[0;34m\u001b[0m\u001b[0;34m\u001b[0m\u001b[0m\n\u001b[0;32m----> 4\u001b[0;31m \u001b[0mplot_image\u001b[0m\u001b[0;34m(\u001b[0m\u001b[0mi\u001b[0m\u001b[0;34m,\u001b[0m \u001b[0mpredictions\u001b[0m\u001b[0;34m,\u001b[0m \u001b[0my_test\u001b[0m\u001b[0;34m,\u001b[0m \u001b[0mX_test\u001b[0m\u001b[0;34m)\u001b[0m\u001b[0;34m\u001b[0m\u001b[0;34m\u001b[0m\u001b[0m\n\u001b[0m\u001b[1;32m      5\u001b[0m \u001b[0mplt\u001b[0m\u001b[0;34m.\u001b[0m\u001b[0msubplot\u001b[0m\u001b[0;34m(\u001b[0m\u001b[0;36m1\u001b[0m\u001b[0;34m,\u001b[0m\u001b[0;36m2\u001b[0m\u001b[0;34m,\u001b[0m\u001b[0;36m2\u001b[0m\u001b[0;34m)\u001b[0m\u001b[0;34m\u001b[0m\u001b[0;34m\u001b[0m\u001b[0m\n\u001b[1;32m      6\u001b[0m \u001b[0mplot_value_array\u001b[0m\u001b[0;34m(\u001b[0m\u001b[0mi\u001b[0m\u001b[0;34m,\u001b[0m \u001b[0mpredictions\u001b[0m\u001b[0;34m,\u001b[0m  \u001b[0my_test\u001b[0m\u001b[0;34m)\u001b[0m\u001b[0;34m\u001b[0m\u001b[0;34m\u001b[0m\u001b[0m\n",
            "\u001b[0;31mNameError\u001b[0m: name 'predictions' is not defined"
          ]
        },
        {
          "output_type": "display_data",
          "data": {
            "image/png": "[encoded data removed]",
            "text/plain": [
              "<Figure size 432x216 with 1 Axes>"
            ]
          },
          "metadata": {
            "needs_background": "light"
          }
        }
      ]
    },
    {
      "cell_type": "code",
      "metadata": {
        "id": "6fd1COOBcEq-",
        "colab": {
          "base_uri": "https://localhost:8080/",
          "height": 178
        },
        "outputId": "156bab66-02dc-4cbc-9199-00e35b293930"
      },
      "source": [
        "predictions = model.predict(X_test)\n",
        "print(\"Prediction_accuracy: \" + str(predictions))"
      ],
      "execution_count": 86,
      "outputs": [
        {
          "output_type": "error",
          "ename": "AttributeError",
          "evalue": "ignored",
          "traceback": [
            "\u001b[0;31m---------------------------------------------------------------------------\u001b[0m",
            "\u001b[0;31mAttributeError\u001b[0m                            Traceback (most recent call last)",
            "\u001b[0;32m<ipython-input-86-ed61d70cdd33>\u001b[0m in \u001b[0;36m<module>\u001b[0;34m()\u001b[0m\n\u001b[0;32m----> 1\u001b[0;31m \u001b[0mpredictions\u001b[0m \u001b[0;34m=\u001b[0m \u001b[0mmodel\u001b[0m\u001b[0;34m.\u001b[0m\u001b[0mpredict\u001b[0m\u001b[0;34m(\u001b[0m\u001b[0mX_test\u001b[0m\u001b[0;34m)\u001b[0m\u001b[0;34m\u001b[0m\u001b[0;34m\u001b[0m\u001b[0m\n\u001b[0m\u001b[1;32m      2\u001b[0m \u001b[0mprint\u001b[0m\u001b[0;34m(\u001b[0m\u001b[0;34m\"Prediction_accuracy: \"\u001b[0m \u001b[0;34m+\u001b[0m \u001b[0mstr\u001b[0m\u001b[0;34m(\u001b[0m\u001b[0mpredictions\u001b[0m\u001b[0;34m)\u001b[0m\u001b[0;34m)\u001b[0m\u001b[0;34m\u001b[0m\u001b[0;34m\u001b[0m\u001b[0m\n",
            "\u001b[0;31mAttributeError\u001b[0m: 'list' object has no attribute 'predict'"
          ]
        }
      ]
    },
    {
      "cell_type": "code",
      "metadata": {
        "id": "pYKNqTvYIy56"
      },
      "source": [
        "predictions[0] # primeira predição"
      ],
      "execution_count": null,
      "outputs": []
    },
    {
      "cell_type": "code",
      "metadata": {
        "id": "aCmbcjolJstx"
      },
      "source": [
        "np.argmax(predictions[0])"
      ],
      "execution_count": null,
      "outputs": []
    },
    {
      "cell_type": "code",
      "metadata": {
        "id": "c81gyqxSpT8o"
      },
      "source": [
        "predictions = np.argmax(predictions)\n",
        "predictions"
      ],
      "execution_count": null,
      "outputs": []
    },
    {
      "cell_type": "code",
      "metadata": {
        "id": "Kaby35OAi4rH"
      },
      "source": [
        "y_test[0]"
      ],
      "execution_count": null,
      "outputs": []
    },
    {
      "cell_type": "code",
      "metadata": {
        "id": "-IwKBohOiOA_"
      },
      "source": [
        "from sklearn.metrics import confusion_matrix\n",
        "confusion_matrix(X_test,str(predictions))"
      ],
      "execution_count": null,
      "outputs": []
    },
    {
      "cell_type": "code",
      "metadata": {
        "id": "ZzAJDvFfA8S0"
      },
      "source": [
        ""
      ],
      "execution_count": null,
      "outputs": []
    }
  ]
}