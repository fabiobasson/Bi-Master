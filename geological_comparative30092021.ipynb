{
  "nbformat": 4,
  "nbformat_minor": 0,
  "metadata": {
    "colab": {
      "name": "geological-image-similarity.ipynb",
      "provenance": [],
      "authorship_tag": "ABX9TyNrpR1S/mM+rQKAdWQpxyjW",
      "include_colab_link": true
    },
    "kernelspec": {
      "name": "python3",
      "display_name": "Python 3"
    },
    "language_info": {
      "name": "python"
    },
    "accelerator": "GPU"
  },
  "cells": [
    {
      "cell_type": "markdown",
      "metadata": {
        "id": "view-in-github",
        "colab_type": "text"
      },
      "source": [
        "<a href=\"https://colab.research.google.com/github/fabiobasson/Bi-Master/blob/main/geological_comparative30092021.ipynb\" target=\"_parent\"><img src=\"https://colab.research.google.com/assets/colab-badge.svg\" alt=\"Open In Colab\"/></a>"
      ]
    },
    {
      "cell_type": "markdown",
      "metadata": {
        "id": "ek-dpdgUwrpq"
      },
      "source": [
        "# Importações "
      ]
    },
    {
      "cell_type": "code",
      "metadata": {
        "id": "BhMpCgi7O64x"
      },
      "source": [
        "import warnings\n",
        "warnings.filterwarnings('always')\n",
        "warnings.filterwarnings('ignore')\n",
        "\n",
        "import os\n",
        "import tensorflow as tf\n",
        "from tensorflow.keras import layers\n",
        "from tensorflow.keras import Model\n",
        "from tensorflow.keras.layers import Dense, Dropout\n",
        "\n",
        "from os import getcwd\n",
        "import zipfile\n",
        "import shutil\n",
        "import numpy as np\n",
        "import glob\n",
        "import random\n",
        "import pandas as pd\n",
        "import matplotlib.pyplot as plt\n",
        "from PIL import Image\n",
        "import plotly.express as px\n",
        "import cv2 as cv\n",
        "\n",
        "from tensorflow.keras.optimizers import RMSprop, Adam\n",
        "from tensorflow.keras.applications.vgg16 import VGG16\n",
        "from tensorflow.keras.applications.inception_v3 import InceptionV3\n",
        "from tensorflow.keras.preprocessing.image import ImageDataGenerator\n",
        "\n",
        "from sklearn.metrics import confusion_matrix,accuracy_score\n",
        "from sklearn.model_selection import train_test_split"
      ],
      "execution_count": 225,
      "outputs": []
    },
    {
      "cell_type": "code",
      "metadata": {
        "colab": {
          "base_uri": "https://localhost:8080/"
        },
        "id": "ye09bw6nVWgH",
        "outputId": "ff0f74ab-cef9-4a39-ece9-aa92467b96cf"
      },
      "source": [
        "print(tf.__version__)"
      ],
      "execution_count": 226,
      "outputs": [
        {
          "output_type": "stream",
          "name": "stdout",
          "text": [
            "2.6.0\n"
          ]
        }
      ]
    },
    {
      "cell_type": "code",
      "metadata": {
        "id": "Z6Micr83L4uy",
        "colab": {
          "base_uri": "https://localhost:8080/"
        },
        "outputId": "c7e8edb8-e215-4017-a42f-dd44520775f0"
      },
      "source": [
        "# Instalar Tensorflow\n",
        "#!pip install tensorflow==2.6.0\n",
        "\n",
        "# Instalar Keras\n",
        "!pip install keras --upgrade"
      ],
      "execution_count": 14,
      "outputs": [
        {
          "output_type": "stream",
          "name": "stdout",
          "text": [
            "Requirement already satisfied: keras in /usr/local/lib/python3.7/dist-packages (2.6.0)\n"
          ]
        }
      ]
    },
    {
      "cell_type": "code",
      "metadata": {
        "id": "qB35LCwK1F9Y"
      },
      "source": [
        "# Caso precise, remover os diretorios\n",
        "\n",
        "#!rm -rf geological_similarity andesite gneiss/ marble/ quartzite/ rhyolite/ schist/\n",
        "#!rm -rf geological-image-similarity"
      ],
      "execution_count": 15,
      "outputs": []
    },
    {
      "cell_type": "markdown",
      "metadata": {
        "id": "WsBJvou07fbF"
      },
      "source": [
        "# **Coleta de dados do Kaglle**"
      ]
    },
    {
      "cell_type": "code",
      "metadata": {
        "colab": {
          "resources": {
            "http://localhost:8080/nbextensions/google.colab/files.js": {
              "data": "Ly8gQ29weXJpZ2h0IDIwMTcgR29vZ2xlIExMQwovLwovLyBMaWNlbnNlZCB1bmRlciB0aGUgQXBhY2hlIExpY2Vuc2UsIFZlcnNpb24gMi4wICh0aGUgIkxpY2Vuc2UiKTsKLy8geW91IG1heSBub3QgdXNlIHRoaXMgZmlsZSBleGNlcHQgaW4gY29tcGxpYW5jZSB3aXRoIHRoZSBMaWNlbnNlLgovLyBZb3UgbWF5IG9idGFpbiBhIGNvcHkgb2YgdGhlIExpY2Vuc2UgYXQKLy8KLy8gICAgICBodHRwOi8vd3d3LmFwYWNoZS5vcmcvbGljZW5zZXMvTElDRU5TRS0yLjAKLy8KLy8gVW5sZXNzIHJlcXVpcmVkIGJ5IGFwcGxpY2FibGUgbGF3IG9yIGFncmVlZCB0byBpbiB3cml0aW5nLCBzb2Z0d2FyZQovLyBkaXN0cmlidXRlZCB1bmRlciB0aGUgTGljZW5zZSBpcyBkaXN0cmlidXRlZCBvbiBhbiAiQVMgSVMiIEJBU0lTLAovLyBXSVRIT1VUIFdBUlJBTlRJRVMgT1IgQ09ORElUSU9OUyBPRiBBTlkgS0lORCwgZWl0aGVyIGV4cHJlc3Mgb3IgaW1wbGllZC4KLy8gU2VlIHRoZSBMaWNlbnNlIGZvciB0aGUgc3BlY2lmaWMgbGFuZ3VhZ2UgZ292ZXJuaW5nIHBlcm1pc3Npb25zIGFuZAovLyBsaW1pdGF0aW9ucyB1bmRlciB0aGUgTGljZW5zZS4KCi8qKgogKiBAZmlsZW92ZXJ2aWV3IEhlbHBlcnMgZm9yIGdvb2dsZS5jb2xhYiBQeXRob24gbW9kdWxlLgogKi8KKGZ1bmN0aW9uKHNjb3BlKSB7CmZ1bmN0aW9uIHNwYW4odGV4dCwgc3R5bGVBdHRyaWJ1dGVzID0ge30pIHsKICBjb25zdCBlbGVtZW50ID0gZG9jdW1lbnQuY3JlYXRlRWxlbWVudCgnc3BhbicpOwogIGVsZW1lbnQudGV4dENvbnRlbnQgPSB0ZXh0OwogIGZvciAoY29uc3Qga2V5IG9mIE9iamVjdC5rZXlzKHN0eWxlQXR0cmlidXRlcykpIHsKICAgIGVsZW1lbnQuc3R5bGVba2V5XSA9IHN0eWxlQXR0cmlidXRlc1trZXldOwogIH0KICByZXR1cm4gZWxlbWVudDsKfQoKLy8gTWF4IG51bWJlciBvZiBieXRlcyB3aGljaCB3aWxsIGJlIHVwbG9hZGVkIGF0IGEgdGltZS4KY29uc3QgTUFYX1BBWUxPQURfU0laRSA9IDEwMCAqIDEwMjQ7CgpmdW5jdGlvbiBfdXBsb2FkRmlsZXMoaW5wdXRJZCwgb3V0cHV0SWQpIHsKICBjb25zdCBzdGVwcyA9IHVwbG9hZEZpbGVzU3RlcChpbnB1dElkLCBvdXRwdXRJZCk7CiAgY29uc3Qgb3V0cHV0RWxlbWVudCA9IGRvY3VtZW50LmdldEVsZW1lbnRCeUlkKG91dHB1dElkKTsKICAvLyBDYWNoZSBzdGVwcyBvbiB0aGUgb3V0cHV0RWxlbWVudCB0byBtYWtlIGl0IGF2YWlsYWJsZSBmb3IgdGhlIG5leHQgY2FsbAogIC8vIHRvIHVwbG9hZEZpbGVzQ29udGludWUgZnJvbSBQeXRob24uCiAgb3V0cHV0RWxlbWVudC5zdGVwcyA9IHN0ZXBzOwoKICByZXR1cm4gX3VwbG9hZEZpbGVzQ29udGludWUob3V0cHV0SWQpOwp9CgovLyBUaGlzIGlzIHJvdWdobHkgYW4gYXN5bmMgZ2VuZXJhdG9yIChub3Qgc3VwcG9ydGVkIGluIHRoZSBicm93c2VyIHlldCksCi8vIHdoZXJlIHRoZXJlIGFyZSBtdWx0aXBsZSBhc3luY2hyb25vdXMgc3RlcHMgYW5kIHRoZSBQeXRob24gc2lkZSBpcyBnb2luZwovLyB0byBwb2xsIGZvciBjb21wbGV0aW9uIG9mIGVhY2ggc3RlcC4KLy8gVGhpcyB1c2VzIGEgUHJvbWlzZSB0byBibG9jayB0aGUgcHl0aG9uIHNpZGUgb24gY29tcGxldGlvbiBvZiBlYWNoIHN0ZXAsCi8vIHRoZW4gcGFzc2VzIHRoZSByZXN1bHQgb2YgdGhlIHByZXZpb3VzIHN0ZXAgYXMgdGhlIGlucHV0IHRvIHRoZSBuZXh0IHN0ZXAuCmZ1bmN0aW9uIF91cGxvYWRGaWxlc0NvbnRpbnVlKG91dHB1dElkKSB7CiAgY29uc3Qgb3V0cHV0RWxlbWVudCA9IGRvY3VtZW50LmdldEVsZW1lbnRCeUlkKG91dHB1dElkKTsKICBjb25zdCBzdGVwcyA9IG91dHB1dEVsZW1lbnQuc3RlcHM7CgogIGNvbnN0IG5leHQgPSBzdGVwcy5uZXh0KG91dHB1dEVsZW1lbnQubGFzdFByb21pc2VWYWx1ZSk7CiAgcmV0dXJuIFByb21pc2UucmVzb2x2ZShuZXh0LnZhbHVlLnByb21pc2UpLnRoZW4oKHZhbHVlKSA9PiB7CiAgICAvLyBDYWNoZSB0aGUgbGFzdCBwcm9taXNlIHZhbHVlIHRvIG1ha2UgaXQgYXZhaWxhYmxlIHRvIHRoZSBuZXh0CiAgICAvLyBzdGVwIG9mIHRoZSBnZW5lcmF0b3IuCiAgICBvdXRwdXRFbGVtZW50Lmxhc3RQcm9taXNlVmFsdWUgPSB2YWx1ZTsKICAgIHJldHVybiBuZXh0LnZhbHVlLnJlc3BvbnNlOwogIH0pOwp9CgovKioKICogR2VuZXJhdG9yIGZ1bmN0aW9uIHdoaWNoIGlzIGNhbGxlZCBiZXR3ZWVuIGVhY2ggYXN5bmMgc3RlcCBvZiB0aGUgdXBsb2FkCiAqIHByb2Nlc3MuCiAqIEBwYXJhbSB7c3RyaW5nfSBpbnB1dElkIEVsZW1lbnQgSUQgb2YgdGhlIGlucHV0IGZpbGUgcGlja2VyIGVsZW1lbnQuCiAqIEBwYXJhbSB7c3RyaW5nfSBvdXRwdXRJZCBFbGVtZW50IElEIG9mIHRoZSBvdXRwdXQgZGlzcGxheS4KICogQHJldHVybiB7IUl0ZXJhYmxlPCFPYmplY3Q+fSBJdGVyYWJsZSBvZiBuZXh0IHN0ZXBzLgogKi8KZnVuY3Rpb24qIHVwbG9hZEZpbGVzU3RlcChpbnB1dElkLCBvdXRwdXRJZCkgewogIGNvbnN0IGlucHV0RWxlbWVudCA9IGRvY3VtZW50LmdldEVsZW1lbnRCeUlkKGlucHV0SWQpOwogIGlucHV0RWxlbWVudC5kaXNhYmxlZCA9IGZhbHNlOwoKICBjb25zdCBvdXRwdXRFbGVtZW50ID0gZG9jdW1lbnQuZ2V0RWxlbWVudEJ5SWQob3V0cHV0SWQpOwogIG91dHB1dEVsZW1lbnQuaW5uZXJIVE1MID0gJyc7CgogIGNvbnN0IHBpY2tlZFByb21pc2UgPSBuZXcgUHJvbWlzZSgocmVzb2x2ZSkgPT4gewogICAgaW5wdXRFbGVtZW50LmFkZEV2ZW50TGlzdGVuZXIoJ2NoYW5nZScsIChlKSA9PiB7CiAgICAgIHJlc29sdmUoZS50YXJnZXQuZmlsZXMpOwogICAgfSk7CiAgfSk7CgogIGNvbnN0IGNhbmNlbCA9IGRvY3VtZW50LmNyZWF0ZUVsZW1lbnQoJ2J1dHRvbicpOwogIGlucHV0RWxlbWVudC5wYXJlbnRFbGVtZW50LmFwcGVuZENoaWxkKGNhbmNlbCk7CiAgY2FuY2VsLnRleHRDb250ZW50ID0gJ0NhbmNlbCB1cGxvYWQnOwogIGNvbnN0IGNhbmNlbFByb21pc2UgPSBuZXcgUHJvbWlzZSgocmVzb2x2ZSkgPT4gewogICAgY2FuY2VsLm9uY2xpY2sgPSAoKSA9PiB7CiAgICAgIHJlc29sdmUobnVsbCk7CiAgICB9OwogIH0pOwoKICAvLyBXYWl0IGZvciB0aGUgdXNlciB0byBwaWNrIHRoZSBmaWxlcy4KICBjb25zdCBmaWxlcyA9IHlpZWxkIHsKICAgIHByb21pc2U6IFByb21pc2UucmFjZShbcGlja2VkUHJvbWlzZSwgY2FuY2VsUHJvbWlzZV0pLAogICAgcmVzcG9uc2U6IHsKICAgICAgYWN0aW9uOiAnc3RhcnRpbmcnLAogICAgfQogIH07CgogIGNhbmNlbC5yZW1vdmUoKTsKCiAgLy8gRGlzYWJsZSB0aGUgaW5wdXQgZWxlbWVudCBzaW5jZSBmdXJ0aGVyIHBpY2tzIGFyZSBub3QgYWxsb3dlZC4KICBpbnB1dEVsZW1lbnQuZGlzYWJsZWQgPSB0cnVlOwoKICBpZiAoIWZpbGVzKSB7CiAgICByZXR1cm4gewogICAgICByZXNwb25zZTogewogICAgICAgIGFjdGlvbjogJ2NvbXBsZXRlJywKICAgICAgfQogICAgfTsKICB9CgogIGZvciAoY29uc3QgZmlsZSBvZiBmaWxlcykgewogICAgY29uc3QgbGkgPSBkb2N1bWVudC5jcmVhdGVFbGVtZW50KCdsaScpOwogICAgbGkuYXBwZW5kKHNwYW4oZmlsZS5uYW1lLCB7Zm9udFdlaWdodDogJ2JvbGQnfSkpOwogICAgbGkuYXBwZW5kKHNwYW4oCiAgICAgICAgYCgke2ZpbGUudHlwZSB8fCAnbi9hJ30pIC0gJHtmaWxlLnNpemV9IGJ5dGVzLCBgICsKICAgICAgICBgbGFzdCBtb2RpZmllZDogJHsKICAgICAgICAgICAgZmlsZS5sYXN0TW9kaWZpZWREYXRlID8gZmlsZS5sYXN0TW9kaWZpZWREYXRlLnRvTG9jYWxlRGF0ZVN0cmluZygpIDoKICAgICAgICAgICAgICAgICAgICAgICAgICAgICAgICAgICAgJ24vYSd9IC0gYCkpOwogICAgY29uc3QgcGVyY2VudCA9IHNwYW4oJzAlIGRvbmUnKTsKICAgIGxpLmFwcGVuZENoaWxkKHBlcmNlbnQpOwoKICAgIG91dHB1dEVsZW1lbnQuYXBwZW5kQ2hpbGQobGkpOwoKICAgIGNvbnN0IGZpbGVEYXRhUHJvbWlzZSA9IG5ldyBQcm9taXNlKChyZXNvbHZlKSA9PiB7CiAgICAgIGNvbnN0IHJlYWRlciA9IG5ldyBGaWxlUmVhZGVyKCk7CiAgICAgIHJlYWRlci5vbmxvYWQgPSAoZSkgPT4gewogICAgICAgIHJlc29sdmUoZS50YXJnZXQucmVzdWx0KTsKICAgICAgfTsKICAgICAgcmVhZGVyLnJlYWRBc0FycmF5QnVmZmVyKGZpbGUpOwogICAgfSk7CiAgICAvLyBXYWl0IGZvciB0aGUgZGF0YSB0byBiZSByZWFkeS4KICAgIGxldCBmaWxlRGF0YSA9IHlpZWxkIHsKICAgICAgcHJvbWlzZTogZmlsZURhdGFQcm9taXNlLAogICAgICByZXNwb25zZTogewogICAgICAgIGFjdGlvbjogJ2NvbnRpbnVlJywKICAgICAgfQogICAgfTsKCiAgICAvLyBVc2UgYSBjaHVua2VkIHNlbmRpbmcgdG8gYXZvaWQgbWVzc2FnZSBzaXplIGxpbWl0cy4gU2VlIGIvNjIxMTU2NjAuCiAgICBsZXQgcG9zaXRpb24gPSAwOwogICAgZG8gewogICAgICBjb25zdCBsZW5ndGggPSBNYXRoLm1pbihmaWxlRGF0YS5ieXRlTGVuZ3RoIC0gcG9zaXRpb24sIE1BWF9QQVlMT0FEX1NJWkUpOwogICAgICBjb25zdCBjaHVuayA9IG5ldyBVaW50OEFycmF5KGZpbGVEYXRhLCBwb3NpdGlvbiwgbGVuZ3RoKTsKICAgICAgcG9zaXRpb24gKz0gbGVuZ3RoOwoKICAgICAgY29uc3QgYmFzZTY0ID0gYnRvYShTdHJpbmcuZnJvbUNoYXJDb2RlLmFwcGx5KG51bGwsIGNodW5rKSk7CiAgICAgIHlpZWxkIHsKICAgICAgICByZXNwb25zZTogewogICAgICAgICAgYWN0aW9uOiAnYXBwZW5kJywKICAgICAgICAgIGZpbGU6IGZpbGUubmFtZSwKICAgICAgICAgIGRhdGE6IGJhc2U2NCwKICAgICAgICB9LAogICAgICB9OwoKICAgICAgbGV0IHBlcmNlbnREb25lID0gZmlsZURhdGEuYnl0ZUxlbmd0aCA9PT0gMCA/CiAgICAgICAgICAxMDAgOgogICAgICAgICAgTWF0aC5yb3VuZCgocG9zaXRpb24gLyBmaWxlRGF0YS5ieXRlTGVuZ3RoKSAqIDEwMCk7CiAgICAgIHBlcmNlbnQudGV4dENvbnRlbnQgPSBgJHtwZXJjZW50RG9uZX0lIGRvbmVgOwoKICAgIH0gd2hpbGUgKHBvc2l0aW9uIDwgZmlsZURhdGEuYnl0ZUxlbmd0aCk7CiAgfQoKICAvLyBBbGwgZG9uZS4KICB5aWVsZCB7CiAgICByZXNwb25zZTogewogICAgICBhY3Rpb246ICdjb21wbGV0ZScsCiAgICB9CiAgfTsKfQoKc2NvcGUuZ29vZ2xlID0gc2NvcGUuZ29vZ2xlIHx8IHt9OwpzY29wZS5nb29nbGUuY29sYWIgPSBzY29wZS5nb29nbGUuY29sYWIgfHwge307CnNjb3BlLmdvb2dsZS5jb2xhYi5fZmlsZXMgPSB7CiAgX3VwbG9hZEZpbGVzLAogIF91cGxvYWRGaWxlc0NvbnRpbnVlLAp9Owp9KShzZWxmKTsK",
              "ok": true,
              "headers": [
                [
                  "content-type",
                  "application/javascript"
                ]
              ],
              "status": 200,
              "status_text": ""
            }
          },
          "base_uri": "https://localhost:8080/",
          "height": 89
        },
        "id": "qPW1Uceu4EkK",
        "outputId": "9a7f0f7f-b995-47c5-b1ac-55d5c3c5ea22"
      },
      "source": [
        "from google.colab import files\n",
        "files.upload()\n",
        "\n",
        "!mkdir ~/.kaggle\n",
        "!cp kaggle.json ~/.kaggle/\n",
        "!chmod 600 ~/.kaggle/kaggle.json"
      ],
      "execution_count": 16,
      "outputs": [
        {
          "output_type": "display_data",
          "data": {
            "text/html": [
              "\n",
              "     <input type=\"file\" id=\"files-016360ff-7057-44ed-bf5d-42af14181c7b\" name=\"files[]\" multiple disabled\n",
              "        style=\"border:none\" />\n",
              "     <output id=\"result-016360ff-7057-44ed-bf5d-42af14181c7b\">\n",
              "      Upload widget is only available when the cell has been executed in the\n",
              "      current browser session. Please rerun this cell to enable.\n",
              "      </output>\n",
              "      <script src=\"/nbextensions/google.colab/files.js\"></script> "
            ],
            "text/plain": [
              "<IPython.core.display.HTML object>"
            ]
          },
          "metadata": {}
        },
        {
          "output_type": "stream",
          "name": "stdout",
          "text": [
            "Saving kaggle.json to kaggle.json\n",
            "mkdir: cannot create directory ‘/root/.kaggle’: File exists\n"
          ]
        }
      ]
    },
    {
      "cell_type": "markdown",
      "metadata": {
        "id": "rte0cNVp7kgE"
      },
      "source": [
        "# **###  Download dos dados / descompactando os dados**"
      ]
    },
    {
      "cell_type": "code",
      "metadata": {
        "colab": {
          "base_uri": "https://localhost:8080/"
        },
        "id": "GvN30SNO4L1f",
        "outputId": "40a6a451-55a2-40e6-a89c-a5418f9171d9"
      },
      "source": [
        "#!kaggle datasets download fabiobasson/geologicalsimilarity\n",
        "#! unzip -qq  geologicalsimilarity\n",
        "!kaggle datasets download tanyadayanand/geological-image-similarity\n",
        "! unzip -qq geological-image-similarity    "
      ],
      "execution_count": 17,
      "outputs": [
        {
          "output_type": "stream",
          "name": "stdout",
          "text": [
            "Downloading geological-image-similarity.zip to /content\n",
            " 80% 27.0M/33.6M [00:00<00:00, 56.6MB/s]\n",
            "100% 33.6M/33.6M [00:00<00:00, 84.9MB/s]\n"
          ]
        }
      ]
    },
    {
      "cell_type": "markdown",
      "metadata": {
        "id": "owY2uo8A7q5j"
      },
      "source": [
        "# ** Criação da estrutura e leitura de diretórios **"
      ]
    },
    {
      "cell_type": "code",
      "metadata": {
        "id": "QXSrUDeU4L7J",
        "colab": {
          "base_uri": "https://localhost:8080/"
        },
        "outputId": "e7778c15-63c5-4690-e7f9-3b0bdba04492"
      },
      "source": [
        "andesite_dir = glob.glob('geological_similarity/andesite/*.jpg');gneiss_dir = glob.glob('geological_similarity/gneiss/*.jpg')\n",
        "marble_dir= glob.glob('geological_similarity/marble/*.jpg');quartzite_dir = glob.glob('geological_similarity/quartzite/*.jpg')\n",
        "rhyolite_dir = glob.glob('geological_similarity/rhyolite/*.jpg');\n",
        "schist_dir = glob.glob('geological_similarity/schist/*.jpg')\n",
        "print(len(andesite_dir));print(len(gneiss_dir)); print(len(marble_dir)); print(len(quartzite_dir));  print(len(quartzite_dir)); print(len(schist_dir))\n"
      ],
      "execution_count": 227,
      "outputs": [
        {
          "output_type": "stream",
          "name": "stdout",
          "text": [
            "5000\n",
            "5000\n",
            "4998\n",
            "5000\n",
            "5000\n",
            "5000\n"
          ]
        }
      ]
    },
    {
      "cell_type": "markdown",
      "metadata": {
        "id": "xL-7GOm_w3m3"
      },
      "source": [
        "# **Nomes das Classes**\n",
        "# andesite = 0  # gneiss =1 # marbler = 2 # quartzite = 3 # rhyolite = 4  # schist = 5 \n"
      ]
    },
    {
      "cell_type": "code",
      "metadata": {
        "colab": {
          "base_uri": "https://localhost:8080/"
        },
        "id": "wBhB6b6xi1xl",
        "outputId": "eebd497b-9c6d-4c37-bf17-d3baeb1a8c24"
      },
      "source": [
        "label = ['andesite','gneiss','marbler','quartzite','rhyolite','schist']\n",
        "\n",
        "andesite_df=[];gneiss_df=[];marble_df=[];quartzite_df=[];rhyolite_df=[];schist_df=[]\n",
        "\n",
        "for i in andesite_dir:\n",
        "    andesite_df.append([i,label[0]])\n",
        "for j in gneiss_dir:\n",
        "   gneiss_df.append([j,label[1]])\n",
        "for l in marble_dir:\n",
        "    marble_df.append([l,label[2]])\n",
        "for m in quartzite_dir:\n",
        "    quartzite_df.append([m,label[3]])\n",
        "for n in rhyolite_dir:\n",
        "    rhyolite_df.append([n,label[4]])\n",
        "for o in schist_dir:\n",
        "    schist_df.append([o,label[5]])\n",
        "   \n",
        "df = andesite_df + gneiss_df + marble_df  + quartzite_df + rhyolite_df + schist_df\n",
        "random.shuffle(df)\n",
        "len(df)"
      ],
      "execution_count": 228,
      "outputs": [
        {
          "output_type": "execute_result",
          "data": {
            "text/plain": [
              "29998"
            ]
          },
          "metadata": {},
          "execution_count": 228
        }
      ]
    },
    {
      "cell_type": "markdown",
      "metadata": {
        "id": "iJTNl-uSVUFA"
      },
      "source": [
        "# **Criação do Dataframe**"
      ]
    },
    {
      "cell_type": "code",
      "metadata": {
        "colab": {
          "base_uri": "https://localhost:8080/",
          "height": 415
        },
        "id": "87UeiF--wzh8",
        "outputId": "b688aab4-f7f8-4a6e-9bc7-5edfda7a419f"
      },
      "source": [
        "data_df = pd.DataFrame(df,columns=['path','label'])\n",
        "data_df"
      ],
      "execution_count": 229,
      "outputs": [
        {
          "output_type": "execute_result",
          "data": {
            "text/html": [
              "<div>\n",
              "<style scoped>\n",
              "    .dataframe tbody tr th:only-of-type {\n",
              "        vertical-align: middle;\n",
              "    }\n",
              "\n",
              "    .dataframe tbody tr th {\n",
              "        vertical-align: top;\n",
              "    }\n",
              "\n",
              "    .dataframe thead th {\n",
              "        text-align: right;\n",
              "    }\n",
              "</style>\n",
              "<table border=\"1\" class=\"dataframe\">\n",
              "  <thead>\n",
              "    <tr style=\"text-align: right;\">\n",
              "      <th></th>\n",
              "      <th>path</th>\n",
              "      <th>label</th>\n",
              "    </tr>\n",
              "  </thead>\n",
              "  <tbody>\n",
              "    <tr>\n",
              "      <th>0</th>\n",
              "      <td>geological_similarity/gneiss/N6Q6Q.jpg</td>\n",
              "      <td>gneiss</td>\n",
              "    </tr>\n",
              "    <tr>\n",
              "      <th>1</th>\n",
              "      <td>geological_similarity/rhyolite/BC8IN.jpg</td>\n",
              "      <td>rhyolite</td>\n",
              "    </tr>\n",
              "    <tr>\n",
              "      <th>2</th>\n",
              "      <td>geological_similarity/andesite/8HKSE.jpg</td>\n",
              "      <td>andesite</td>\n",
              "    </tr>\n",
              "    <tr>\n",
              "      <th>3</th>\n",
              "      <td>geological_similarity/marble/7S3BX.jpg</td>\n",
              "      <td>marbler</td>\n",
              "    </tr>\n",
              "    <tr>\n",
              "      <th>4</th>\n",
              "      <td>geological_similarity/rhyolite/EJAKQ.jpg</td>\n",
              "      <td>rhyolite</td>\n",
              "    </tr>\n",
              "    <tr>\n",
              "      <th>...</th>\n",
              "      <td>...</td>\n",
              "      <td>...</td>\n",
              "    </tr>\n",
              "    <tr>\n",
              "      <th>29993</th>\n",
              "      <td>geological_similarity/gneiss/RTNEH.jpg</td>\n",
              "      <td>gneiss</td>\n",
              "    </tr>\n",
              "    <tr>\n",
              "      <th>29994</th>\n",
              "      <td>geological_similarity/schist/9MX39.jpg</td>\n",
              "      <td>schist</td>\n",
              "    </tr>\n",
              "    <tr>\n",
              "      <th>29995</th>\n",
              "      <td>geological_similarity/quartzite/76MMQ.jpg</td>\n",
              "      <td>quartzite</td>\n",
              "    </tr>\n",
              "    <tr>\n",
              "      <th>29996</th>\n",
              "      <td>geological_similarity/marble/1YXAR.jpg</td>\n",
              "      <td>marbler</td>\n",
              "    </tr>\n",
              "    <tr>\n",
              "      <th>29997</th>\n",
              "      <td>geological_similarity/schist/1Q2XW.jpg</td>\n",
              "      <td>schist</td>\n",
              "    </tr>\n",
              "  </tbody>\n",
              "</table>\n",
              "<p>29998 rows × 2 columns</p>\n",
              "</div>"
            ],
            "text/plain": [
              "                                            path      label\n",
              "0         geological_similarity/gneiss/N6Q6Q.jpg     gneiss\n",
              "1       geological_similarity/rhyolite/BC8IN.jpg   rhyolite\n",
              "2       geological_similarity/andesite/8HKSE.jpg   andesite\n",
              "3         geological_similarity/marble/7S3BX.jpg    marbler\n",
              "4       geological_similarity/rhyolite/EJAKQ.jpg   rhyolite\n",
              "...                                          ...        ...\n",
              "29993     geological_similarity/gneiss/RTNEH.jpg     gneiss\n",
              "29994     geological_similarity/schist/9MX39.jpg     schist\n",
              "29995  geological_similarity/quartzite/76MMQ.jpg  quartzite\n",
              "29996     geological_similarity/marble/1YXAR.jpg    marbler\n",
              "29997     geological_similarity/schist/1Q2XW.jpg     schist\n",
              "\n",
              "[29998 rows x 2 columns]"
            ]
          },
          "metadata": {},
          "execution_count": 229
        }
      ]
    },
    {
      "cell_type": "markdown",
      "metadata": {
        "id": "B-ruxpGkzqHx"
      },
      "source": [
        "#  Conhecendo os dados de imagem"
      ]
    },
    {
      "cell_type": "code",
      "metadata": {
        "id": "q0f0-HaP3cYM",
        "colab": {
          "base_uri": "https://localhost:8080/"
        },
        "outputId": "5ccec123-be51-411b-e193-2c0febf1882c"
      },
      "source": [
        "from numpy import asarray\n",
        "image = Image.open(\"geological_similarity/gneiss/0QTQE.jpg\")\n",
        "# Método asarray para realizar a conversão:\n",
        "pixels= asarray(image)\n",
        "# Verificando a faixa de valores entre 0 e 255:\n",
        "print('Data Type: %s' % pixels.dtype)\n",
        "print('Min: %.3f, Max: %.3f' % (pixels.min(), pixels.max()))\n",
        "\n",
        "#Converte os valores inteiros em float para realizar a operação:\n",
        "pixels = pixels.astype('float32')\n",
        "# Normaliza a faixa de valores:\n",
        "pixels /= pixels.max()\n",
        "# Verificando a faixa de valores normalizada:\n",
        "print('Data Type: %s' % pixels.dtype)\n",
        "print('Min: %.3f, Max: %.3f' % (pixels.min(), pixels.max()))"
      ],
      "execution_count": 230,
      "outputs": [
        {
          "output_type": "stream",
          "name": "stdout",
          "text": [
            "Data Type: uint8\n",
            "Min: 32.000, Max: 251.000\n",
            "Data Type: float32\n",
            "Min: 0.127, Max: 1.000\n"
          ]
        }
      ]
    },
    {
      "cell_type": "markdown",
      "metadata": {
        "id": "XlUbajOTxHKl"
      },
      "source": [
        "# **Limpeza de dados**\n",
        "1 - Analisando os dados ausentes\n",
        "2 - Descartando os dados ausentes\n",
        "3 - Imputando dados\n",
        "4 - Acrescentando colunas informativas"
      ]
    },
    {
      "cell_type": "code",
      "metadata": {
        "id": "ybydrHWUvlbY",
        "colab": {
          "base_uri": "https://localhost:8080/",
          "height": 463
        },
        "outputId": "3bbeb1ac-c615-439e-8906-6d83e94e7c79"
      },
      "source": [
        "### 1 - Analisando os dados ausentes ###\n",
        "\n",
        "import missingno as msno\n",
        "ax = msno.matrix(data_df.sample(400))"
      ],
      "execution_count": 231,
      "outputs": [
        {
          "output_type": "display_data",
          "data": {
            "image/png": "[encoded data removed]",
            "text/plain": [
              "<Figure size 1800x720 with 2 Axes>"
            ]
          },
          "metadata": {
            "needs_background": "light"
          }
        }
      ]
    },
    {
      "cell_type": "code",
      "metadata": {
        "id": "9cVvBcwVxq9s"
      },
      "source": [
        "#! pip install pandas-profiling==2.8.0\n",
        "#from pandas_profiling import ProfileReport\n",
        "#ProfileReport (data_df)"
      ],
      "execution_count": 23,
      "outputs": []
    },
    {
      "cell_type": "markdown",
      "metadata": {
        "id": "NONt2HCxWd5X"
      },
      "source": [
        "# **Separação das amostras**"
      ]
    },
    {
      "cell_type": "code",
      "metadata": {
        "id": "KBjbH7d9NUnq"
      },
      "source": [
        "X = data_df.drop(columns='label')\n",
        "y = data_df.label\n",
        "\n",
        "# X_train, X_val, y_train, y_val = train_test_split(X, y, test_size = 0.2, random_state=42)"
      ],
      "execution_count": 232,
      "outputs": []
    },
    {
      "cell_type": "markdown",
      "metadata": {
        "id": "rgLimflCWSq3"
      },
      "source": [
        "# **Explorando os dados**"
      ]
    },
    {
      "cell_type": "markdown",
      "metadata": {
        "id": "-AAuWUVf6ocm"
      },
      "source": [
        "\n",
        "# **Type: Data Augumentation**"
      ]
    },
    {
      "cell_type": "markdown",
      "metadata": {
        "id": "G1xbq78zfV9i"
      },
      "source": [
        "## ** Esta função irá plotar as imagens num grid de 1 a 5 colunas **"
      ]
    },
    {
      "cell_type": "code",
      "metadata": {
        "id": "hjV3pOngCtA7"
      },
      "source": [
        "IMG_SHAPE = 28\n",
        "IMG_SHAPE_VGG16 = 32\n",
        "\n",
        "BATCH_SIZE = 128\n",
        "\n",
        "def plotImages(images_arr):\n",
        "    fig, axes = plt.subplots(1, 5, figsize=(20,20))\n",
        "    axes = axes.flatten()\n",
        "    for img, ax in zip(images_arr, axes):\n",
        "        ax.imshow(img)\n",
        "    plt.tight_layout()\n",
        "    plt.show()"
      ],
      "execution_count": 249,
      "outputs": []
    },
    {
      "cell_type": "code",
      "metadata": {
        "id": "Cw0IbS6mfdxM",
        "colab": {
          "base_uri": "https://localhost:8080/"
        },
        "outputId": "38f234a5-142a-4476-9712-7d9afb93a889"
      },
      "source": [
        "# Dados de Treino e Validação\n",
        "\n",
        "datagen_train = ImageDataGenerator(rescale=1./255,\n",
        "                            #featurewise_center =False ,\n",
        "                            # samplewise_center =False ,\n",
        "                            # featurewise_std_normalization =False ,\n",
        "                            # samplewise_std_normalization =False ,\n",
        "                            # zca_whitening =False ,\n",
        "                            # zca_epsilon =1e -6 ,\n",
        "                            # channel_shift_range =0. ,\n",
        "                            # fill_mode = ’ nearest ’ ,\n",
        "                            # cval =0. ,\n",
        "                            rotation_range = 40,\n",
        "                            width_shift_range = 0.2,\n",
        "                            height_shift_range = 0.2,\n",
        "                            #shear_range = 0.2,\n",
        "                            #zoom_range = 0.2,\n",
        "                            horizontal_flip = True,\n",
        "                            vertical_flip = True,\n",
        "                            validation_split=0.2)\n",
        "\n",
        "train_generator = datagen_train.flow_from_dataframe(data_df,\n",
        "                                               batch_size=BATCH_SIZE,\n",
        "                                               x_col='path',\n",
        "                                               y_col= 'label',\n",
        "                                               shuffle=True,\n",
        "                                               target_size=(IMG_SHAPE,IMG_SHAPE),\n",
        "                                               class_mode='categorical',\n",
        "                                               subset='training')\n",
        "\n",
        "train_generator_VGG16 = datagen_train.flow_from_dataframe(data_df,\n",
        "                                               batch_size=BATCH_SIZE,\n",
        "                                               x_col='path',\n",
        "                                               y_col= 'label',\n",
        "                                               shuffle=True,\n",
        "                                               target_size=(IMG_SHAPE_VGG16,IMG_SHAPE_VGG16),\n",
        "                                               class_mode='categorical',\n",
        "                                               subset='training')\n",
        "\n",
        "datagen_val = ImageDataGenerator (rescale=1./255, \n",
        "                                 validation_split=0.2)\n",
        "\n",
        "\n",
        "validation_generator = datagen_val.flow_from_dataframe(data_df,\n",
        "                                                   batch_size=BATCH_SIZE,\n",
        "                                                   x_col='path',\n",
        "                                                   y_col='label',\n",
        "                                                   shuffle=True,\n",
        "                                                   target_size=(IMG_SHAPE,IMG_SHAPE),\n",
        "                                                   class_mode='categorical',\n",
        "                                                   subset='validation') \n",
        "\n",
        "validation_generator_VGG16 = datagen_val.flow_from_dataframe(data_df,\n",
        "                                                   batch_size=BATCH_SIZE,\n",
        "                                                   x_col='path',\n",
        "                                                   y_col='label',\n",
        "                                                   shuffle=True,\n",
        "                                                   target_size=(IMG_SHAPE_VGG16,IMG_SHAPE_VGG16),\n",
        "                                                   class_mode='categorical',\n",
        "                                                   subset='validation')   "
      ],
      "execution_count": 259,
      "outputs": [
        {
          "output_type": "stream",
          "name": "stdout",
          "text": [
            "Found 23999 validated image filenames belonging to 6 classes.\n",
            "Found 23999 validated image filenames belonging to 6 classes.\n",
            "Found 5999 validated image filenames belonging to 6 classes.\n",
            "Found 5999 validated image filenames belonging to 6 classes.\n"
          ]
        }
      ]
    },
    {
      "cell_type": "code",
      "metadata": {
        "colab": {
          "base_uri": "https://localhost:8080/"
        },
        "id": "i5sbJJeWlcv4",
        "outputId": "823a1bda-51a6-4243-eb10-18ce32542426"
      },
      "source": [
        "# Dados de Teste\n",
        "\n",
        "datagen_test = ImageDataGenerator (rescale=1./255, \n",
        "                                 validation_split=0.2)\n",
        "\n",
        "\n",
        "test_generator = datagen_test.flow_from_dataframe(data_df,\n",
        "                                                   batch_size=BATCH_SIZE,\n",
        "                                                   x_col='path',\n",
        "                                                   y_col='label',\n",
        "                                                   shuffle=False,\n",
        "                                                   target_size=(IMG_SHAPE,IMG_SHAPE),\n",
        "                                                   class_mode='categorical')\n",
        "                                                   #subset='validation') \n",
        "\n",
        "\n",
        "test_generator_VGG16 = datagen_test.flow_from_dataframe(data_df,\n",
        "                                                   batch_size=BATCH_SIZE,\n",
        "                                                   x_col='path',\n",
        "                                                   y_col='label',\n",
        "                                                   shuffle=False,\n",
        "                                                   target_size=(IMG_SHAPE_VGG16,IMG_SHAPE_VGG16),\n",
        "                                                   class_mode='categorical')\n",
        "                                                   #subset='validation') "
      ],
      "execution_count": 258,
      "outputs": [
        {
          "output_type": "stream",
          "name": "stdout",
          "text": [
            "Found 29998 validated image filenames belonging to 6 classes.\n",
            "Found 29998 validated image filenames belonging to 6 classes.\n"
          ]
        }
      ]
    },
    {
      "cell_type": "code",
      "metadata": {
        "colab": {
          "base_uri": "https://localhost:8080/",
          "height": 229
        },
        "id": "ShN0CzElfd9R",
        "outputId": "957a4b72-7a38-4dee-ee86-6f0d630bef1b"
      },
      "source": [
        "augmented_images = [train_generator[0][0][0] for i in range(5)]\n",
        "plotImages(augmented_images)"
      ],
      "execution_count": 260,
      "outputs": [
        {
          "output_type": "display_data",
          "data": {
            "image/png": "[encoded data removed]",
            "text/plain": [
              "<Figure size 1440x1440 with 5 Axes>"
            ]
          },
          "metadata": {
            "needs_background": "light"
          }
        }
      ]
    },
    {
      "cell_type": "markdown",
      "metadata": {
        "id": "UIPXX6y48mV-"
      },
      "source": [
        "# **Criando o Dataframe em dados de treino, validação e teste**"
      ]
    },
    {
      "cell_type": "code",
      "metadata": {
        "id": "ByYa1WtsGAOO",
        "colab": {
          "base_uri": "https://localhost:8080/"
        },
        "outputId": "fe2b7963-435c-498b-c616-69a1539a66ea"
      },
      "source": [
        "class_dict=train_generator.class_indices\n",
        "labels= train_generator.labels\n",
        "file_names= train_generator.filenames \n",
        "\n",
        "class_dict"
      ],
      "execution_count": 261,
      "outputs": [
        {
          "output_type": "execute_result",
          "data": {
            "text/plain": [
              "{'andesite': 0,\n",
              " 'gneiss': 1,\n",
              " 'marbler': 2,\n",
              " 'quartzite': 3,\n",
              " 'rhyolite': 4,\n",
              " 'schist': 5}"
            ]
          },
          "metadata": {},
          "execution_count": 261
        }
      ]
    },
    {
      "cell_type": "code",
      "metadata": {
        "id": "397pKysWejrc",
        "colab": {
          "base_uri": "https://localhost:8080/"
        },
        "outputId": "f32e36ce-0635-4bed-f1d6-b75b005b02c2"
      },
      "source": [
        "X_train, y_train = next(train_generator)\n",
        "X_val, y_val = next(validation_generator)\n",
        "X_test, y_test = next(test_generator)\n",
        "\n",
        "X_trainVGG16, y_trainVGG16 = next(train_generator_VGG16)\n",
        "X_valVGG16, y_valVGG16 = next(validation_generator_VGG16)\n",
        "X_testVGG16, y_testVGG16 = next(test_generator_VGG16)\n",
        "\n",
        "print(X_val.shape)\n",
        "print(X_valVGG16)"
      ],
      "execution_count": 262,
      "outputs": [
        {
          "output_type": "stream",
          "name": "stdout",
          "text": [
            "(128, 28, 28, 3)\n",
            "[[[[0.24313727 0.24705884 0.31764707]\n",
            "   [0.21176472 0.21960786 0.27058825]\n",
            "   [0.43921572 0.45098042 0.4784314 ]\n",
            "   ...\n",
            "   [0.49803925 0.5019608  0.50980395]\n",
            "   [0.27450982 0.2901961  0.3019608 ]\n",
            "   [0.27450982 0.29411766 0.30980393]]\n",
            "\n",
            "  [[0.23137257 0.2627451  0.3137255 ]\n",
            "   [0.21176472 0.23529413 0.28235295]\n",
            "   [0.43921572 0.4666667  0.4901961 ]\n",
            "   ...\n",
            "   [0.53333336 0.5568628  0.5568628 ]\n",
            "   [0.20784315 0.23137257 0.23137257]\n",
            "   [0.29803923 0.32941177 0.3372549 ]]\n",
            "\n",
            "  [[0.18823531 0.2392157  0.27058825]\n",
            "   [0.16862746 0.21960786 0.24313727]\n",
            "   [0.32156864 0.3647059  0.3803922 ]\n",
            "   ...\n",
            "   [0.21568629 0.2392157  0.23137257]\n",
            "   [0.16078432 0.18431373 0.18431373]\n",
            "   [0.25882354 0.27450982 0.2784314 ]]\n",
            "\n",
            "  ...\n",
            "\n",
            "  [[0.45882356 0.49411768 0.5294118 ]\n",
            "   [0.32156864 0.35686275 0.38431376]\n",
            "   [0.23137257 0.26666668 0.29411766]\n",
            "   ...\n",
            "   [0.27058825 0.26666668 0.2509804 ]\n",
            "   [0.28627452 0.28235295 0.26666668]\n",
            "   [0.2901961  0.27450982 0.2627451 ]]\n",
            "\n",
            "  [[0.2392157  0.2784314  0.3137255 ]\n",
            "   [0.30980393 0.34509805 0.3803922 ]\n",
            "   [0.3019608  0.3372549  0.3647059 ]\n",
            "   ...\n",
            "   [0.2627451  0.24313727 0.21960786]\n",
            "   [0.28627452 0.25490198 0.24313727]\n",
            "   [0.2901961  0.25882354 0.24705884]]\n",
            "\n",
            "  [[0.48235297 0.52156866 0.5568628 ]\n",
            "   [0.19607845 0.23529413 0.27058825]\n",
            "   [0.37254903 0.4156863  0.43921572]\n",
            "   ...\n",
            "   [0.3254902  0.28627452 0.2784314 ]\n",
            "   [0.3137255  0.27450982 0.27058825]\n",
            "   [0.32156864 0.28235295 0.2784314 ]]]\n",
            "\n",
            "\n",
            " [[[0.3372549  0.36078432 0.34509805]\n",
            "   [0.31764707 0.34117648 0.3254902 ]\n",
            "   [0.3254902  0.34509805 0.32941177]\n",
            "   ...\n",
            "   [0.28627452 0.29803923 0.2627451 ]\n",
            "   [0.29803923 0.30980393 0.27450982]\n",
            "   [0.29411766 0.30588236 0.27058825]]\n",
            "\n",
            "  [[0.37254903 0.39607847 0.3803922 ]\n",
            "   [0.32156864 0.34509805 0.32941177]\n",
            "   [0.3137255  0.33333334 0.31764707]\n",
            "   ...\n",
            "   [0.28627452 0.29803923 0.27058825]\n",
            "   [0.29411766 0.30588236 0.27058825]\n",
            "   [0.2901961  0.3019608  0.26666668]]\n",
            "\n",
            "  [[0.41960788 0.43921572 0.42352945]\n",
            "   [0.34117648 0.36078432 0.34509805]\n",
            "   [0.30980393 0.32941177 0.3137255 ]\n",
            "   ...\n",
            "   [0.29411766 0.30588236 0.2784314 ]\n",
            "   [0.3019608  0.3137255  0.28627452]\n",
            "   [0.29803923 0.30980393 0.28235295]]\n",
            "\n",
            "  ...\n",
            "\n",
            "  [[0.30588236 0.31764707 0.2901961 ]\n",
            "   [0.30588236 0.31764707 0.2901961 ]\n",
            "   [0.30588236 0.31764707 0.2901961 ]\n",
            "   ...\n",
            "   [0.28235295 0.3019608  0.27450982]\n",
            "   [0.29411766 0.3137255  0.28627452]\n",
            "   [0.3019608  0.3137255  0.28627452]]\n",
            "\n",
            "  [[0.3019608  0.3137255  0.28627452]\n",
            "   [0.30588236 0.31764707 0.2901961 ]\n",
            "   [0.30588236 0.31764707 0.2901961 ]\n",
            "   ...\n",
            "   [0.2784314  0.29803923 0.27058825]\n",
            "   [0.2901961  0.30980393 0.28235295]\n",
            "   [0.29803923 0.30980393 0.28235295]]\n",
            "\n",
            "  [[0.3019608  0.3137255  0.28627452]\n",
            "   [0.30588236 0.31764707 0.2901961 ]\n",
            "   [0.30588236 0.31764707 0.2901961 ]\n",
            "   ...\n",
            "   [0.2784314  0.29803923 0.27058825]\n",
            "   [0.2901961  0.30980393 0.28235295]\n",
            "   [0.29803923 0.30980393 0.28235295]]]\n",
            "\n",
            "\n",
            " [[[0.5294118  0.67058825 0.6313726 ]\n",
            "   [0.5921569  0.59607846 0.6039216 ]\n",
            "   [0.62352943 0.5647059  0.58431375]\n",
            "   ...\n",
            "   [0.59607846 0.6784314  0.6431373 ]\n",
            "   [0.6627451  0.74509805 0.70980394]\n",
            "   [0.70980394 0.77647066 0.74509805]]\n",
            "\n",
            "  [[0.5411765  0.67058825 0.63529414]\n",
            "   [0.5803922  0.6039216  0.6039216 ]\n",
            "   [0.6        0.5647059  0.5764706 ]\n",
            "   ...\n",
            "   [0.6117647  0.69411767 0.65882355]\n",
            "   [0.6627451  0.76470596 0.72156864]\n",
            "   [0.69803923 0.78823537 0.7490196 ]]\n",
            "\n",
            "  [[0.56078434 0.6745098  0.654902  ]\n",
            "   [0.5647059  0.6039216  0.6       ]\n",
            "   [0.5764706  0.5686275  0.5803922 ]\n",
            "   ...\n",
            "   [0.6156863  0.68235296 0.6509804 ]\n",
            "   [0.67058825 0.7607844  0.72156864]\n",
            "   [0.6901961  0.7803922  0.7411765 ]]\n",
            "\n",
            "  ...\n",
            "\n",
            "  [[0.5411765  0.5882353  0.57254905]\n",
            "   [0.54509807 0.5882353  0.57254905]\n",
            "   [0.56078434 0.6039216  0.5882353 ]\n",
            "   ...\n",
            "   [0.6784314  0.7294118  0.69411767]\n",
            "   [0.6745098  0.72156864 0.7137255 ]\n",
            "   [0.63529414 0.70980394 0.7019608 ]]\n",
            "\n",
            "  [[0.54509807 0.5921569  0.5764706 ]\n",
            "   [0.54901963 0.5921569  0.5764706 ]\n",
            "   [0.5686275  0.6117647  0.59607846]\n",
            "   ...\n",
            "   [0.6666667  0.7137255  0.69803923]\n",
            "   [0.67058825 0.70980394 0.7137255 ]\n",
            "   [0.6509804  0.7137255  0.7137255 ]]\n",
            "\n",
            "  [[0.54509807 0.5921569  0.5764706 ]\n",
            "   [0.54901963 0.5921569  0.5764706 ]\n",
            "   [0.5686275  0.6117647  0.59607846]\n",
            "   ...\n",
            "   [0.6666667  0.7137255  0.69803923]\n",
            "   [0.6666667  0.7058824  0.70980394]\n",
            "   [0.6509804  0.7137255  0.7137255 ]]]\n",
            "\n",
            "\n",
            " ...\n",
            "\n",
            "\n",
            " [[[0.5529412  0.57254905 0.5568628 ]\n",
            "   [0.57254905 0.57254905 0.5647059 ]\n",
            "   [0.5647059  0.5647059  0.5568628 ]\n",
            "   ...\n",
            "   [0.56078434 0.61960787 0.6313726 ]\n",
            "   [0.5176471  0.5764706  0.59607846]\n",
            "   [0.454902   0.52156866 0.54901963]]\n",
            "\n",
            "  [[0.54509807 0.5686275  0.5529412 ]\n",
            "   [0.5647059  0.57254905 0.56078434]\n",
            "   [0.5647059  0.5647059  0.5568628 ]\n",
            "   ...\n",
            "   [0.56078434 0.61960787 0.6313726 ]\n",
            "   [0.5058824  0.5647059  0.58431375]\n",
            "   [0.44705886 0.5058824  0.53333336]]\n",
            "\n",
            "  [[0.5294118  0.5647059  0.54509807]\n",
            "   [0.54901963 0.5686275  0.5529412 ]\n",
            "   [0.5568628  0.5647059  0.5529412 ]\n",
            "   ...\n",
            "   [0.5568628  0.61960787 0.61960787]\n",
            "   [0.5137255  0.57254905 0.5921569 ]\n",
            "   [0.454902   0.5137255  0.53333336]]\n",
            "\n",
            "  ...\n",
            "\n",
            "  [[0.54509807 0.54509807 0.54509807]\n",
            "   [0.56078434 0.5686275  0.5647059 ]\n",
            "   [0.5568628  0.5764706  0.56078434]\n",
            "   ...\n",
            "   [0.4156863  0.52156866 0.49411768]\n",
            "   [0.3647059  0.45882356 0.40784317]\n",
            "   [0.29803923 0.3803922  0.3137255 ]]\n",
            "\n",
            "  [[0.5764706  0.5686275  0.57254905]\n",
            "   [0.5803922  0.58431375 0.6       ]\n",
            "   [0.56078434 0.5647059  0.57254905]\n",
            "   ...\n",
            "   [0.4156863  0.5254902  0.47058827]\n",
            "   [0.37254903 0.46274513 0.38431376]\n",
            "   [0.30980393 0.3803922  0.28627452]]\n",
            "\n",
            "  [[0.56078434 0.6039216  0.5882353 ]\n",
            "   [0.6039216  0.60784316 0.6156863 ]\n",
            "   [0.58431375 0.5764706  0.5882353 ]\n",
            "   ...\n",
            "   [0.4039216  0.5294118  0.44705886]\n",
            "   [0.37254903 0.47450984 0.36078432]\n",
            "   [0.3254902  0.40000004 0.27450982]]]\n",
            "\n",
            "\n",
            " [[[0.43921572 0.3803922  0.29803923]\n",
            "   [0.35686275 0.29803923 0.22352943]\n",
            "   [0.48235297 0.43137258 0.3647059 ]\n",
            "   ...\n",
            "   [0.52156866 0.43921572 0.43529415]\n",
            "   [0.59607846 0.54509807 0.5137255 ]\n",
            "   [0.6666667  0.6862745  0.59607846]]\n",
            "\n",
            "  [[0.40000004 0.21568629 0.19215688]\n",
            "   [0.36862746 0.21960786 0.18431373]\n",
            "   [0.5019608  0.40000004 0.34901962]\n",
            "   ...\n",
            "   [0.53333336 0.3921569  0.40000004]\n",
            "   [0.62352943 0.5647059  0.5372549 ]\n",
            "   [0.6862745  0.7137255  0.6509804 ]]\n",
            "\n",
            "  [[0.427451   0.1254902  0.16470589]\n",
            "   [0.41176474 0.21176472 0.20784315]\n",
            "   [0.4784314  0.36078432 0.32156864]\n",
            "   ...\n",
            "   [0.43921572 0.2901961  0.28627452]\n",
            "   [0.6862745  0.6156863  0.6       ]\n",
            "   [0.6431373  0.6431373  0.6117647 ]]\n",
            "\n",
            "  ...\n",
            "\n",
            "  [[0.3529412  0.20784315 0.17254902]\n",
            "   [0.3529412  0.23529413 0.19607845]\n",
            "   [0.41960788 0.34901962 0.3019608 ]\n",
            "   ...\n",
            "   [0.5764706  0.49803925 0.47058827]\n",
            "   [0.6431373  0.65882355 0.5921569 ]\n",
            "   [0.5529412  0.6392157  0.54901963]]\n",
            "\n",
            "  [[0.36078432 0.20392159 0.17254902]\n",
            "   [0.34117648 0.22352943 0.18039216]\n",
            "   [0.4431373  0.3921569  0.3254902 ]\n",
            "   ...\n",
            "   [0.6627451  0.67058825 0.6156863 ]\n",
            "   [0.65882355 0.6745098  0.60784316]\n",
            "   [0.5019608  0.4784314  0.42352945]]\n",
            "\n",
            "  [[0.34509805 0.19607845 0.16078432]\n",
            "   [0.32156864 0.21960786 0.16862746]\n",
            "   [0.47058827 0.44705886 0.3529412 ]\n",
            "   ...\n",
            "   [0.5764706  0.67058825 0.58431375]\n",
            "   [0.6117647  0.62352943 0.5411765 ]\n",
            "   [0.49803925 0.36862746 0.34117648]]]\n",
            "\n",
            "\n",
            " [[[0.7137255  0.80392164 0.7725491 ]\n",
            "   [0.70980394 0.7843138  0.77647066]\n",
            "   [0.70980394 0.7843138  0.77647066]\n",
            "   ...\n",
            "   [0.57254905 0.6156863  0.5529412 ]\n",
            "   [0.5254902  0.6117647  0.5647059 ]\n",
            "   [0.5176471  0.6156863  0.6       ]]\n",
            "\n",
            "  [[0.70980394 0.8000001  0.77647066]\n",
            "   [0.7019608  0.7803922  0.7725491 ]\n",
            "   [0.7058824  0.7803922  0.7725491 ]\n",
            "   ...\n",
            "   [0.5921569  0.5882353  0.5686275 ]\n",
            "   [0.57254905 0.5921569  0.5764706 ]\n",
            "   [0.5686275  0.60784316 0.6117647 ]]\n",
            "\n",
            "  [[0.7137255  0.8117648  0.7960785 ]\n",
            "   [0.70980394 0.78823537 0.7843138 ]\n",
            "   [0.7137255  0.77647066 0.77647066]\n",
            "   ...\n",
            "   [0.6        0.5921569  0.59607846]\n",
            "   [0.5921569  0.58431375 0.5882353 ]\n",
            "   [0.6039216  0.6        0.61960787]]\n",
            "\n",
            "  ...\n",
            "\n",
            "  [[0.6509804  0.7176471  0.7490196 ]\n",
            "   [0.654902   0.73333335 0.7372549 ]\n",
            "   [0.6431373  0.70980394 0.6862745 ]\n",
            "   ...\n",
            "   [0.61960787 0.62352943 0.6       ]\n",
            "   [0.6784314  0.627451   0.59607846]\n",
            "   [0.7372549  0.6313726  0.59607846]]\n",
            "\n",
            "  [[0.64705884 0.72156864 0.7372549 ]\n",
            "   [0.6509804  0.7254902  0.7176471 ]\n",
            "   [0.64705884 0.69803923 0.67058825]\n",
            "   ...\n",
            "   [0.5882353  0.6156863  0.6392157 ]\n",
            "   [0.64705884 0.6156863  0.60784316]\n",
            "   [0.69411767 0.6039216  0.57254905]]\n",
            "\n",
            "  [[0.63529414 0.73333335 0.72156864]\n",
            "   [0.654902   0.7176471  0.7058824 ]\n",
            "   [0.6509804  0.6862745  0.6666667 ]\n",
            "   ...\n",
            "   [0.5764706  0.6039216  0.6666667 ]\n",
            "   [0.6117647  0.6117647  0.61960787]\n",
            "   [0.64705884 0.59607846 0.56078434]]]]\n"
          ]
        }
      ]
    },
    {
      "cell_type": "markdown",
      "metadata": {
        "id": "dXm8LYqv0_vK"
      },
      "source": [
        "# **Criar o modelo**"
      ]
    },
    {
      "cell_type": "code",
      "metadata": {
        "id": "ncctBTCAgG7d"
      },
      "source": [
        "num_classes = 6\n",
        "\n",
        "model = tf.keras.models.Sequential([\n",
        "    tf.keras.layers.Conv2D(64, (3,3), activation='relu', input_shape=(28,28,3)),\n",
        "    tf.keras.layers.BatchNormalization(),\n",
        "    tf.keras.layers.MaxPooling2D(2, 2),\n",
        "\n",
        "    tf.keras.layers.Conv2D(32, (3,3), activation='relu'),\n",
        "    tf.keras.layers.MaxPooling2D(2,2),\n",
        "\n",
        "    tf.keras.layers.Conv2D(16, (3,3), activation='relu'),\n",
        "    tf.keras.layers.MaxPooling2D(2,2),\n",
        "   \n",
        "\n",
        "    tf.keras.layers.Flatten(),\n",
        "    tf.keras.layers.Dense(512, activation='relu'),\n",
        "    tf.keras.layers.Dropout(0.5),\n",
        "    tf.keras.layers.Dense(num_classes, activation='softmax')\n",
        "   \n",
        "])"
      ],
      "execution_count": 263,
      "outputs": []
    },
    {
      "cell_type": "markdown",
      "metadata": {
        "id": "cQvF_-VrbIhO"
      },
      "source": [
        "# **Compilando o Modelo**"
      ]
    },
    {
      "cell_type": "code",
      "metadata": {
        "id": "tseOThp5bLVl",
        "colab": {
          "base_uri": "https://localhost:8080/"
        },
        "outputId": "048436de-083e-4214-db9a-bee734f57fd5"
      },
      "source": [
        "model.compile(optimizer = Adam(learning_rate=0.0001), \n",
        "               loss = 'categorical_crossentropy', \n",
        "               metrics =['accuracy'])\n",
        "model.summary()  "
      ],
      "execution_count": 264,
      "outputs": [
        {
          "output_type": "stream",
          "name": "stdout",
          "text": [
            "Model: \"sequential_9\"\n",
            "_________________________________________________________________\n",
            "Layer (type)                 Output Shape              Param #   \n",
            "=================================================================\n",
            "conv2d_27 (Conv2D)           (None, 26, 26, 64)        1792      \n",
            "_________________________________________________________________\n",
            "batch_normalization_9 (Batch (None, 26, 26, 64)        256       \n",
            "_________________________________________________________________\n",
            "max_pooling2d_27 (MaxPooling (None, 13, 13, 64)        0         \n",
            "_________________________________________________________________\n",
            "conv2d_28 (Conv2D)           (None, 11, 11, 32)        18464     \n",
            "_________________________________________________________________\n",
            "max_pooling2d_28 (MaxPooling (None, 5, 5, 32)          0         \n",
            "_________________________________________________________________\n",
            "conv2d_29 (Conv2D)           (None, 3, 3, 16)          4624      \n",
            "_________________________________________________________________\n",
            "max_pooling2d_29 (MaxPooling (None, 1, 1, 16)          0         \n",
            "_________________________________________________________________\n",
            "flatten_25 (Flatten)         (None, 16)                0         \n",
            "_________________________________________________________________\n",
            "dense_50 (Dense)             (None, 512)               8704      \n",
            "_________________________________________________________________\n",
            "dropout_12 (Dropout)         (None, 512)               0         \n",
            "_________________________________________________________________\n",
            "dense_51 (Dense)             (None, 6)                 3078      \n",
            "=================================================================\n",
            "Total params: 36,918\n",
            "Trainable params: 36,790\n",
            "Non-trainable params: 128\n",
            "_________________________________________________________________\n"
          ]
        }
      ]
    },
    {
      "cell_type": "code",
      "metadata": {
        "id": "9Sr0YDZ8dCmz"
      },
      "source": [
        "callbacks_list = [\n",
        "    tf.keras.callbacks.ReduceLROnPlateau(factor=0.5,\n",
        "                                         patience=4,\n",
        "                                         verbose=0),\n",
        "    tf.keras.callbacks.EarlyStopping(\n",
        "        monitor=\"accuracy\",\n",
        "        patience=12,\n",
        "        restore_best_weights=True,\n",
        "    ),\n",
        "    tf.keras.callbacks.ModelCheckpoint(\n",
        "        filepath='best_model.h5',\n",
        "        monitor=\"val_accuracy\",\n",
        "        verbose=1,\n",
        "        save_best_only=True,\n",
        "        #save_weights_only=False,\n",
        "        #mode='auto',\n",
        "        #period=1,\n",
        "    ),\n",
        "\n",
        "]"
      ],
      "execution_count": 265,
      "outputs": []
    },
    {
      "cell_type": "markdown",
      "metadata": {
        "id": "IhQyiWIh1HQs"
      },
      "source": [
        "# **Avaliar o modelo**"
      ]
    },
    {
      "cell_type": "code",
      "metadata": {
        "id": "cwpnwl86dm74",
        "colab": {
          "base_uri": "https://localhost:8080/"
        },
        "outputId": "7147621a-b38e-4ac6-ee5c-213e26c0a14b"
      },
      "source": [
        "epochs=100\n",
        "history = model.fit(X_train,y_train,\n",
        "                              epochs=epochs,\n",
        "                               verbose=1,\n",
        "                               callbacks=callbacks_list, \n",
        "                               #validation_split=0.2,\n",
        "                               #class_weight=class_weight_,\n",
        "                               steps_per_epoch = 23999/256,\n",
        "                               workers=4,\n",
        "                               use_multiprocessing=True,\n",
        "                               #validation_steps = 5999/512,\n",
        "                               validation_data=(X_val,y_val))"
      ],
      "execution_count": 266,
      "outputs": [
        {
          "output_type": "stream",
          "name": "stdout",
          "text": [
            "Epoch 1/100\n",
            "93/93 [==============================] - 3s 16ms/step - loss: 1.7938 - accuracy: 0.2021 - val_loss: 1.7788 - val_accuracy: 0.3672\n",
            "\n",
            "Epoch 00001: val_accuracy improved from -inf to 0.36719, saving model to best_model.h5\n",
            "Epoch 2/100\n",
            "93/93 [==============================] - 1s 13ms/step - loss: 1.7294 - accuracy: 0.2553 - val_loss: 1.7480 - val_accuracy: 0.3359\n",
            "\n",
            "Epoch 00002: val_accuracy did not improve from 0.36719\n",
            "Epoch 3/100\n",
            "93/93 [==============================] - 1s 13ms/step - loss: 1.6801 - accuracy: 0.2979 - val_loss: 1.6755 - val_accuracy: 0.5391\n",
            "\n",
            "Epoch 00003: val_accuracy improved from 0.36719 to 0.53906, saving model to best_model.h5\n",
            "Epoch 4/100\n",
            "93/93 [==============================] - 1s 13ms/step - loss: 1.4757 - accuracy: 0.4894 - val_loss: 1.5062 - val_accuracy: 0.5391\n",
            "\n",
            "Epoch 00004: val_accuracy did not improve from 0.53906\n",
            "Epoch 5/100\n",
            "93/93 [==============================] - 1s 13ms/step - loss: 1.3786 - accuracy: 0.5106 - val_loss: 1.3283 - val_accuracy: 0.6797\n",
            "\n",
            "Epoch 00005: val_accuracy improved from 0.53906 to 0.67969, saving model to best_model.h5\n",
            "Epoch 6/100\n",
            "93/93 [==============================] - 1s 12ms/step - loss: 1.2342 - accuracy: 0.5213 - val_loss: 1.1017 - val_accuracy: 0.6641\n",
            "\n",
            "Epoch 00006: val_accuracy did not improve from 0.67969\n",
            "Epoch 7/100\n",
            "93/93 [==============================] - 1s 12ms/step - loss: 1.2033 - accuracy: 0.5160 - val_loss: 0.9264 - val_accuracy: 0.6953\n",
            "\n",
            "Epoch 00007: val_accuracy improved from 0.67969 to 0.69531, saving model to best_model.h5\n",
            "Epoch 8/100\n",
            "93/93 [==============================] - 1s 12ms/step - loss: 1.1464 - accuracy: 0.5266 - val_loss: 0.8570 - val_accuracy: 0.7344\n",
            "\n",
            "Epoch 00008: val_accuracy improved from 0.69531 to 0.73438, saving model to best_model.h5\n",
            "Epoch 9/100\n",
            "93/93 [==============================] - 1s 12ms/step - loss: 0.9301 - accuracy: 0.6383 - val_loss: 0.7514 - val_accuracy: 0.7188\n",
            "\n",
            "Epoch 00009: val_accuracy did not improve from 0.73438\n",
            "Epoch 10/100\n",
            "93/93 [==============================] - 1s 12ms/step - loss: 0.9918 - accuracy: 0.6277 - val_loss: 0.6954 - val_accuracy: 0.7188\n",
            "\n",
            "Epoch 00010: val_accuracy did not improve from 0.73438\n",
            "Epoch 11/100\n",
            "93/93 [==============================] - 1s 12ms/step - loss: 0.8572 - accuracy: 0.6702 - val_loss: 0.8576 - val_accuracy: 0.6172\n",
            "\n",
            "Epoch 00011: val_accuracy did not improve from 0.73438\n",
            "Epoch 12/100\n",
            "93/93 [==============================] - 1s 12ms/step - loss: 0.8550 - accuracy: 0.6649 - val_loss: 0.7472 - val_accuracy: 0.6406\n",
            "\n",
            "Epoch 00012: val_accuracy did not improve from 0.73438\n",
            "Epoch 13/100\n",
            "93/93 [==============================] - 1s 12ms/step - loss: 0.8510 - accuracy: 0.7021 - val_loss: 0.6911 - val_accuracy: 0.6953\n",
            "\n",
            "Epoch 00013: val_accuracy did not improve from 0.73438\n",
            "Epoch 14/100\n",
            "93/93 [==============================] - 1s 13ms/step - loss: 0.8225 - accuracy: 0.6436 - val_loss: 0.6845 - val_accuracy: 0.7344\n",
            "\n",
            "Epoch 00014: val_accuracy did not improve from 0.73438\n",
            "Epoch 15/100\n",
            "93/93 [==============================] - 1s 13ms/step - loss: 0.7295 - accuracy: 0.7234 - val_loss: 0.5990 - val_accuracy: 0.7578\n",
            "\n",
            "Epoch 00015: val_accuracy improved from 0.73438 to 0.75781, saving model to best_model.h5\n",
            "Epoch 16/100\n",
            "93/93 [==============================] - 1s 13ms/step - loss: 0.6321 - accuracy: 0.7447 - val_loss: 0.6431 - val_accuracy: 0.7109\n",
            "\n",
            "Epoch 00016: val_accuracy did not improve from 0.75781\n",
            "Epoch 17/100\n",
            "93/93 [==============================] - 1s 13ms/step - loss: 0.6533 - accuracy: 0.7500 - val_loss: 0.7051 - val_accuracy: 0.7109\n",
            "\n",
            "Epoch 00017: val_accuracy did not improve from 0.75781\n",
            "Epoch 18/100\n",
            "93/93 [==============================] - 1s 13ms/step - loss: 0.6042 - accuracy: 0.7979 - val_loss: 0.5866 - val_accuracy: 0.7578\n",
            "\n",
            "Epoch 00018: val_accuracy did not improve from 0.75781\n",
            "Epoch 19/100\n",
            "93/93 [==============================] - 1s 13ms/step - loss: 0.5099 - accuracy: 0.8245 - val_loss: 0.8479 - val_accuracy: 0.6719\n",
            "\n",
            "Epoch 00019: val_accuracy did not improve from 0.75781\n",
            "Epoch 20/100\n",
            "93/93 [==============================] - 1s 13ms/step - loss: 0.4989 - accuracy: 0.7979 - val_loss: 0.6614 - val_accuracy: 0.7500\n",
            "\n",
            "Epoch 00020: val_accuracy did not improve from 0.75781\n",
            "Epoch 21/100\n",
            "93/93 [==============================] - 1s 15ms/step - loss: 0.4459 - accuracy: 0.8404 - val_loss: 0.6521 - val_accuracy: 0.7109\n",
            "\n",
            "Epoch 00021: val_accuracy did not improve from 0.75781\n",
            "Epoch 22/100\n",
            "93/93 [==============================] - 1s 13ms/step - loss: 0.4096 - accuracy: 0.8777 - val_loss: 0.6790 - val_accuracy: 0.7109\n",
            "\n",
            "Epoch 00022: val_accuracy did not improve from 0.75781\n",
            "Epoch 23/100\n",
            "93/93 [==============================] - 1s 12ms/step - loss: 0.4312 - accuracy: 0.8404 - val_loss: 0.5688 - val_accuracy: 0.8125\n",
            "\n",
            "Epoch 00023: val_accuracy improved from 0.75781 to 0.81250, saving model to best_model.h5\n",
            "Epoch 24/100\n",
            "93/93 [==============================] - 1s 12ms/step - loss: 0.4022 - accuracy: 0.8511 - val_loss: 0.5114 - val_accuracy: 0.7734\n",
            "\n",
            "Epoch 00024: val_accuracy did not improve from 0.81250\n",
            "Epoch 25/100\n",
            "93/93 [==============================] - 1s 12ms/step - loss: 0.3849 - accuracy: 0.8670 - val_loss: 0.6441 - val_accuracy: 0.7500\n",
            "\n",
            "Epoch 00025: val_accuracy did not improve from 0.81250\n",
            "Epoch 26/100\n",
            "93/93 [==============================] - 1s 12ms/step - loss: 0.3882 - accuracy: 0.8830 - val_loss: 0.5425 - val_accuracy: 0.7656\n",
            "\n",
            "Epoch 00026: val_accuracy did not improve from 0.81250\n",
            "Epoch 27/100\n",
            "93/93 [==============================] - 1s 12ms/step - loss: 0.3748 - accuracy: 0.8936 - val_loss: 0.5675 - val_accuracy: 0.7578\n",
            "\n",
            "Epoch 00027: val_accuracy did not improve from 0.81250\n",
            "Epoch 28/100\n",
            "93/93 [==============================] - 1s 12ms/step - loss: 0.3271 - accuracy: 0.8936 - val_loss: 0.6604 - val_accuracy: 0.7578\n",
            "\n",
            "Epoch 00028: val_accuracy did not improve from 0.81250\n",
            "Epoch 29/100\n",
            "93/93 [==============================] - 1s 12ms/step - loss: 0.3510 - accuracy: 0.8830 - val_loss: 0.5656 - val_accuracy: 0.7734\n",
            "\n",
            "Epoch 00029: val_accuracy did not improve from 0.81250\n",
            "Epoch 30/100\n",
            "93/93 [==============================] - 1s 13ms/step - loss: 0.3069 - accuracy: 0.9362 - val_loss: 0.5337 - val_accuracy: 0.7734\n",
            "\n",
            "Epoch 00030: val_accuracy did not improve from 0.81250\n",
            "Epoch 31/100\n",
            "93/93 [==============================] - 1s 13ms/step - loss: 0.3506 - accuracy: 0.8936 - val_loss: 0.5505 - val_accuracy: 0.7969\n",
            "\n",
            "Epoch 00031: val_accuracy did not improve from 0.81250\n",
            "Epoch 32/100\n",
            "93/93 [==============================] - 1s 13ms/step - loss: 0.3762 - accuracy: 0.8777 - val_loss: 0.5406 - val_accuracy: 0.7734\n",
            "\n",
            "Epoch 00032: val_accuracy did not improve from 0.81250\n",
            "Epoch 33/100\n",
            "93/93 [==============================] - 1s 13ms/step - loss: 0.3506 - accuracy: 0.9043 - val_loss: 0.5720 - val_accuracy: 0.7578\n",
            "\n",
            "Epoch 00033: val_accuracy did not improve from 0.81250\n",
            "Epoch 34/100\n",
            "93/93 [==============================] - 1s 14ms/step - loss: 0.2719 - accuracy: 0.9202 - val_loss: 0.5513 - val_accuracy: 0.7578\n",
            "\n",
            "Epoch 00034: val_accuracy did not improve from 0.81250\n",
            "Epoch 35/100\n",
            "93/93 [==============================] - 1s 13ms/step - loss: 0.2844 - accuracy: 0.9255 - val_loss: 0.5457 - val_accuracy: 0.7812\n",
            "\n",
            "Epoch 00035: val_accuracy did not improve from 0.81250\n",
            "Epoch 36/100\n",
            "93/93 [==============================] - 1s 13ms/step - loss: 0.3037 - accuracy: 0.8830 - val_loss: 0.5559 - val_accuracy: 0.7734\n",
            "\n",
            "Epoch 00036: val_accuracy did not improve from 0.81250\n",
            "Epoch 37/100\n",
            "93/93 [==============================] - 1s 13ms/step - loss: 0.3047 - accuracy: 0.8777 - val_loss: 0.5695 - val_accuracy: 0.7500\n",
            "\n",
            "Epoch 00037: val_accuracy did not improve from 0.81250\n",
            "Epoch 38/100\n",
            "93/93 [==============================] - 1s 13ms/step - loss: 0.3238 - accuracy: 0.9309 - val_loss: 0.5608 - val_accuracy: 0.7578\n",
            "\n",
            "Epoch 00038: val_accuracy did not improve from 0.81250\n",
            "Epoch 39/100\n",
            "93/93 [==============================] - 1s 14ms/step - loss: 0.2681 - accuracy: 0.9255 - val_loss: 0.5556 - val_accuracy: 0.7656\n",
            "\n",
            "Epoch 00039: val_accuracy did not improve from 0.81250\n",
            "Epoch 40/100\n",
            "93/93 [==============================] - 1s 12ms/step - loss: 0.2782 - accuracy: 0.9149 - val_loss: 0.5515 - val_accuracy: 0.7812\n",
            "\n",
            "Epoch 00040: val_accuracy did not improve from 0.81250\n",
            "Epoch 41/100\n",
            "93/93 [==============================] - 1s 13ms/step - loss: 0.2982 - accuracy: 0.9043 - val_loss: 0.5536 - val_accuracy: 0.7812\n",
            "\n",
            "Epoch 00041: val_accuracy did not improve from 0.81250\n",
            "Epoch 42/100\n",
            "93/93 [==============================] - 1s 13ms/step - loss: 0.2666 - accuracy: 0.9043 - val_loss: 0.5593 - val_accuracy: 0.7812\n",
            "\n",
            "Epoch 00042: val_accuracy did not improve from 0.81250\n"
          ]
        }
      ]
    },
    {
      "cell_type": "markdown",
      "metadata": {
        "id": "fXZP7HCxqpbS"
      },
      "source": [
        "**Deixe-nos representar graficamente a Precisão do treinamento versus perda para obter uma melhor compreensão do treinamento do modelo.**"
      ]
    },
    {
      "cell_type": "code",
      "metadata": {
        "colab": {
          "base_uri": "https://localhost:8080/",
          "height": 328
        },
        "id": "r2RLRG0mqfsv",
        "outputId": "e909e0bd-798a-491c-de6a-7401a620c327"
      },
      "source": [
        "plt.figure(figsize=(10, 10))\n",
        "\n",
        "plt.subplot(2, 2, 1)\n",
        "plt.plot(history.history['loss'], label='Loss')\n",
        "plt.plot(history.history['val_loss'], label='Validation Loss')\n",
        "plt.legend()\n",
        "plt.title('Training - Loss Function')\n",
        "\n",
        "plt.subplot(2, 2, 2)\n",
        "plt.plot(history.history['accuracy'], label='Accuracy')\n",
        "plt.plot(history.history['val_accuracy'], label='Validation Accuracy')\n",
        "plt.legend()\n",
        "plt.title('Train - Accuracy')"
      ],
      "execution_count": 267,
      "outputs": [
        {
          "output_type": "execute_result",
          "data": {
            "text/plain": [
              "Text(0.5, 1.0, 'Train - Accuracy')"
            ]
          },
          "metadata": {},
          "execution_count": 267
        },
        {
          "output_type": "display_data",
          "data": {
            "image/png": "[encoded data removed]",
            "text/plain": [
              "<Figure size 720x720 with 2 Axes>"
            ]
          },
          "metadata": {
            "needs_background": "light"
          }
        }
      ]
    },
    {
      "cell_type": "markdown",
      "metadata": {
        "id": "D6gvFi_nY4NB"
      },
      "source": [
        "\n",
        "# **Vamos traçar a precisão do treinamento e da validação, bem como a perda.** "
      ]
    },
    {
      "cell_type": "code",
      "metadata": {
        "id": "HvI5gCDM5Djb",
        "colab": {
          "base_uri": "https://localhost:8080/",
          "height": 545
        },
        "outputId": "917fa80a-5655-443b-c8ee-a30356bcc6e6"
      },
      "source": [
        "%matplotlib inline\n",
        "import matplotlib.pyplot as plt\n",
        "acc = history.history['accuracy']\n",
        "val_acc = history.history['val_accuracy']\n",
        "loss = history.history['loss']\n",
        "val_loss = history.history['val_loss']\n",
        "\n",
        "epochs = range(len(acc))\n",
        "\n",
        "plt.plot(epochs, acc, 'r', label='Training accuracy')\n",
        "plt.plot(epochs, val_acc, 'b', label='Validation accuracy')\n",
        "plt.title('Training and validation accuracy')\n",
        "plt.legend(loc=0)\n",
        "plt.figure()\n",
        "\n",
        "plt.plot(epochs, loss, 'r', label='Training Loss')\n",
        "plt.plot(epochs, val_loss, 'b', label='Validation Loss')\n",
        "plt.title('Training and validation loss')\n",
        "plt.legend()\n",
        "\n",
        "plt.show()"
      ],
      "execution_count": 268,
      "outputs": [
        {
          "output_type": "display_data",
          "data": {
            "image/png": "[encoded data removed]",
            "text/plain": [
              "<Figure size 432x288 with 1 Axes>"
            ]
          },
          "metadata": {
            "needs_background": "light"
          }
        },
        {
          "output_type": "display_data",
          "data": {
            "image/png": "[encoded data removed]",
            "text/plain": [
              "<Figure size 432x288 with 1 Axes>"
            ]
          },
          "metadata": {
            "needs_background": "light"
          }
        }
      ]
    },
    {
      "cell_type": "code",
      "metadata": {
        "id": "IMJbJ4iT8f4x",
        "colab": {
          "base_uri": "https://localhost:8080/",
          "height": 542
        },
        "outputId": "74ab1d1e-8b93-42b6-86ae-c3285d321f62"
      },
      "source": [
        "history2= model.history.history\n",
        "px.line(history2,title = \"Metrics Plot\")"
      ],
      "execution_count": 37,
      "outputs": [
        {
          "output_type": "display_data",
          "data": {
            "text/html": [
              "<html>\n",
              "<head><meta charset=\"utf-8\" /></head>\n",
              "<body>\n",
              "    <div>\n",
              "            <script src=\"https://cdnjs.cloudflare.com/ajax/libs/mathjax/2.7.5/MathJax.js?config=TeX-AMS-MML_SVG\"></script><script type=\"text/javascript\">if (window.MathJax) {MathJax.Hub.Config({SVG: {font: \"STIX-Web\"}});}</script>\n",
              "                <script type=\"text/javascript\">window.PlotlyConfig = {MathJaxConfig: 'local'};</script>\n",
              "        <script src=\"https://cdn.plot.ly/plotly-latest.min.js\"></script>    \n",
              "            <div id=\"128d1ec1-11c6-4d71-a592-0588c219ffeb\" class=\"plotly-graph-div\" style=\"height:525px; width:100%;\"></div>\n",
              "            <script type=\"text/javascript\">\n",
              "                \n",
              "                    window.PLOTLYENV=window.PLOTLYENV || {};\n",
              "                    \n",
              "                if (document.getElementById(\"128d1ec1-11c6-4d71-a592-0588c219ffeb\")) {\n",
              "                    Plotly.newPlot(\n",
              "                        '128d1ec1-11c6-4d71-a592-0588c219ffeb',\n",
              "                        [],\n",
              "                        {\"legend\": {\"tracegroupgap\": 0}, \"template\": {\"data\": {\"bar\": [{\"error_x\": {\"color\": \"#2a3f5f\"}, \"error_y\": {\"color\": \"#2a3f5f\"}, \"marker\": {\"line\": {\"color\": \"#E5ECF6\", \"width\": 0.5}}, \"type\": \"bar\"}], \"barpolar\": [{\"marker\": {\"line\": {\"color\": \"#E5ECF6\", \"width\": 0.5}}, \"type\": \"barpolar\"}], \"carpet\": [{\"aaxis\": {\"endlinecolor\": \"#2a3f5f\", \"gridcolor\": \"white\", \"linecolor\": \"white\", \"minorgridcolor\": \"white\", \"startlinecolor\": \"#2a3f5f\"}, \"baxis\": {\"endlinecolor\": \"#2a3f5f\", \"gridcolor\": \"white\", \"linecolor\": \"white\", \"minorgridcolor\": \"white\", \"startlinecolor\": \"#2a3f5f\"}, \"type\": \"carpet\"}], \"choropleth\": [{\"colorbar\": {\"outlinewidth\": 0, \"ticks\": \"\"}, \"type\": \"choropleth\"}], \"contour\": [{\"colorbar\": {\"outlinewidth\": 0, \"ticks\": \"\"}, \"colorscale\": [[0.0, \"#0d0887\"], [0.1111111111111111, \"#46039f\"], [0.2222222222222222, \"#7201a8\"], [0.3333333333333333, \"#9c179e\"], [0.4444444444444444, \"#bd3786\"], [0.5555555555555556, \"#d8576b\"], [0.6666666666666666, \"#ed7953\"], [0.7777777777777778, \"#fb9f3a\"], [0.8888888888888888, \"#fdca26\"], [1.0, \"#f0f921\"]], \"type\": \"contour\"}], \"contourcarpet\": [{\"colorbar\": {\"outlinewidth\": 0, \"ticks\": \"\"}, \"type\": \"contourcarpet\"}], \"heatmap\": [{\"colorbar\": {\"outlinewidth\": 0, \"ticks\": \"\"}, \"colorscale\": [[0.0, \"#0d0887\"], [0.1111111111111111, \"#46039f\"], [0.2222222222222222, \"#7201a8\"], [0.3333333333333333, \"#9c179e\"], [0.4444444444444444, \"#bd3786\"], [0.5555555555555556, \"#d8576b\"], [0.6666666666666666, \"#ed7953\"], [0.7777777777777778, \"#fb9f3a\"], [0.8888888888888888, \"#fdca26\"], [1.0, \"#f0f921\"]], \"type\": \"heatmap\"}], \"heatmapgl\": [{\"colorbar\": {\"outlinewidth\": 0, \"ticks\": \"\"}, \"colorscale\": [[0.0, \"#0d0887\"], [0.1111111111111111, \"#46039f\"], [0.2222222222222222, \"#7201a8\"], [0.3333333333333333, \"#9c179e\"], [0.4444444444444444, \"#bd3786\"], [0.5555555555555556, \"#d8576b\"], [0.6666666666666666, \"#ed7953\"], [0.7777777777777778, \"#fb9f3a\"], [0.8888888888888888, \"#fdca26\"], [1.0, \"#f0f921\"]], \"type\": \"heatmapgl\"}], \"histogram\": [{\"marker\": {\"colorbar\": {\"outlinewidth\": 0, \"ticks\": \"\"}}, \"type\": \"histogram\"}], \"histogram2d\": [{\"colorbar\": {\"outlinewidth\": 0, \"ticks\": \"\"}, \"colorscale\": [[0.0, \"#0d0887\"], [0.1111111111111111, \"#46039f\"], [0.2222222222222222, \"#7201a8\"], [0.3333333333333333, \"#9c179e\"], [0.4444444444444444, \"#bd3786\"], [0.5555555555555556, \"#d8576b\"], [0.6666666666666666, \"#ed7953\"], [0.7777777777777778, \"#fb9f3a\"], [0.8888888888888888, \"#fdca26\"], [1.0, \"#f0f921\"]], \"type\": \"histogram2d\"}], \"histogram2dcontour\": [{\"colorbar\": {\"outlinewidth\": 0, \"ticks\": \"\"}, \"colorscale\": [[0.0, \"#0d0887\"], [0.1111111111111111, \"#46039f\"], [0.2222222222222222, \"#7201a8\"], [0.3333333333333333, \"#9c179e\"], [0.4444444444444444, \"#bd3786\"], [0.5555555555555556, \"#d8576b\"], [0.6666666666666666, \"#ed7953\"], [0.7777777777777778, \"#fb9f3a\"], [0.8888888888888888, \"#fdca26\"], [1.0, \"#f0f921\"]], \"type\": \"histogram2dcontour\"}], \"mesh3d\": [{\"colorbar\": {\"outlinewidth\": 0, \"ticks\": \"\"}, \"type\": \"mesh3d\"}], \"parcoords\": [{\"line\": {\"colorbar\": {\"outlinewidth\": 0, \"ticks\": \"\"}}, \"type\": \"parcoords\"}], \"pie\": [{\"automargin\": true, \"type\": \"pie\"}], \"scatter\": [{\"marker\": {\"colorbar\": {\"outlinewidth\": 0, \"ticks\": \"\"}}, \"type\": \"scatter\"}], \"scatter3d\": [{\"line\": {\"colorbar\": {\"outlinewidth\": 0, \"ticks\": \"\"}}, \"marker\": {\"colorbar\": {\"outlinewidth\": 0, \"ticks\": \"\"}}, \"type\": \"scatter3d\"}], \"scattercarpet\": [{\"marker\": {\"colorbar\": {\"outlinewidth\": 0, \"ticks\": \"\"}}, \"type\": \"scattercarpet\"}], \"scattergeo\": [{\"marker\": {\"colorbar\": {\"outlinewidth\": 0, \"ticks\": \"\"}}, \"type\": \"scattergeo\"}], \"scattergl\": [{\"marker\": {\"colorbar\": {\"outlinewidth\": 0, \"ticks\": \"\"}}, \"type\": \"scattergl\"}], \"scattermapbox\": [{\"marker\": {\"colorbar\": {\"outlinewidth\": 0, \"ticks\": \"\"}}, \"type\": \"scattermapbox\"}], \"scatterpolar\": [{\"marker\": {\"colorbar\": {\"outlinewidth\": 0, \"ticks\": \"\"}}, \"type\": \"scatterpolar\"}], \"scatterpolargl\": [{\"marker\": {\"colorbar\": {\"outlinewidth\": 0, \"ticks\": \"\"}}, \"type\": \"scatterpolargl\"}], \"scatterternary\": [{\"marker\": {\"colorbar\": {\"outlinewidth\": 0, \"ticks\": \"\"}}, \"type\": \"scatterternary\"}], \"surface\": [{\"colorbar\": {\"outlinewidth\": 0, \"ticks\": \"\"}, \"colorscale\": [[0.0, \"#0d0887\"], [0.1111111111111111, \"#46039f\"], [0.2222222222222222, \"#7201a8\"], [0.3333333333333333, \"#9c179e\"], [0.4444444444444444, \"#bd3786\"], [0.5555555555555556, \"#d8576b\"], [0.6666666666666666, \"#ed7953\"], [0.7777777777777778, \"#fb9f3a\"], [0.8888888888888888, \"#fdca26\"], [1.0, \"#f0f921\"]], \"type\": \"surface\"}], \"table\": [{\"cells\": {\"fill\": {\"color\": \"#EBF0F8\"}, \"line\": {\"color\": \"white\"}}, \"header\": {\"fill\": {\"color\": \"#C8D4E3\"}, \"line\": {\"color\": \"white\"}}, \"type\": \"table\"}]}, \"layout\": {\"annotationdefaults\": {\"arrowcolor\": \"#2a3f5f\", \"arrowhead\": 0, \"arrowwidth\": 1}, \"coloraxis\": {\"colorbar\": {\"outlinewidth\": 0, \"ticks\": \"\"}}, \"colorscale\": {\"diverging\": [[0, \"#8e0152\"], [0.1, \"#c51b7d\"], [0.2, \"#de77ae\"], [0.3, \"#f1b6da\"], [0.4, \"#fde0ef\"], [0.5, \"#f7f7f7\"], [0.6, \"#e6f5d0\"], [0.7, \"#b8e186\"], [0.8, \"#7fbc41\"], [0.9, \"#4d9221\"], [1, \"#276419\"]], \"sequential\": [[0.0, \"#0d0887\"], [0.1111111111111111, \"#46039f\"], [0.2222222222222222, \"#7201a8\"], [0.3333333333333333, \"#9c179e\"], [0.4444444444444444, \"#bd3786\"], [0.5555555555555556, \"#d8576b\"], [0.6666666666666666, \"#ed7953\"], [0.7777777777777778, \"#fb9f3a\"], [0.8888888888888888, \"#fdca26\"], [1.0, \"#f0f921\"]], \"sequentialminus\": [[0.0, \"#0d0887\"], [0.1111111111111111, \"#46039f\"], [0.2222222222222222, \"#7201a8\"], [0.3333333333333333, \"#9c179e\"], [0.4444444444444444, \"#bd3786\"], [0.5555555555555556, \"#d8576b\"], [0.6666666666666666, \"#ed7953\"], [0.7777777777777778, \"#fb9f3a\"], [0.8888888888888888, \"#fdca26\"], [1.0, \"#f0f921\"]]}, \"colorway\": [\"#636efa\", \"#EF553B\", \"#00cc96\", \"#ab63fa\", \"#FFA15A\", \"#19d3f3\", \"#FF6692\", \"#B6E880\", \"#FF97FF\", \"#FECB52\"], \"font\": {\"color\": \"#2a3f5f\"}, \"geo\": {\"bgcolor\": \"white\", \"lakecolor\": \"white\", \"landcolor\": \"#E5ECF6\", \"showlakes\": true, \"showland\": true, \"subunitcolor\": \"white\"}, \"hoverlabel\": {\"align\": \"left\"}, \"hovermode\": \"closest\", \"mapbox\": {\"style\": \"light\"}, \"paper_bgcolor\": \"white\", \"plot_bgcolor\": \"#E5ECF6\", \"polar\": {\"angularaxis\": {\"gridcolor\": \"white\", \"linecolor\": \"white\", \"ticks\": \"\"}, \"bgcolor\": \"#E5ECF6\", \"radialaxis\": {\"gridcolor\": \"white\", \"linecolor\": \"white\", \"ticks\": \"\"}}, \"scene\": {\"xaxis\": {\"backgroundcolor\": \"#E5ECF6\", \"gridcolor\": \"white\", \"gridwidth\": 2, \"linecolor\": \"white\", \"showbackground\": true, \"ticks\": \"\", \"zerolinecolor\": \"white\"}, \"yaxis\": {\"backgroundcolor\": \"#E5ECF6\", \"gridcolor\": \"white\", \"gridwidth\": 2, \"linecolor\": \"white\", \"showbackground\": true, \"ticks\": \"\", \"zerolinecolor\": \"white\"}, \"zaxis\": {\"backgroundcolor\": \"#E5ECF6\", \"gridcolor\": \"white\", \"gridwidth\": 2, \"linecolor\": \"white\", \"showbackground\": true, \"ticks\": \"\", \"zerolinecolor\": \"white\"}}, \"shapedefaults\": {\"line\": {\"color\": \"#2a3f5f\"}}, \"ternary\": {\"aaxis\": {\"gridcolor\": \"white\", \"linecolor\": \"white\", \"ticks\": \"\"}, \"baxis\": {\"gridcolor\": \"white\", \"linecolor\": \"white\", \"ticks\": \"\"}, \"bgcolor\": \"#E5ECF6\", \"caxis\": {\"gridcolor\": \"white\", \"linecolor\": \"white\", \"ticks\": \"\"}}, \"title\": {\"x\": 0.05}, \"xaxis\": {\"automargin\": true, \"gridcolor\": \"white\", \"linecolor\": \"white\", \"ticks\": \"\", \"title\": {\"standoff\": 15}, \"zerolinecolor\": \"white\", \"zerolinewidth\": 2}, \"yaxis\": {\"automargin\": true, \"gridcolor\": \"white\", \"linecolor\": \"white\", \"ticks\": \"\", \"title\": {\"standoff\": 15}, \"zerolinecolor\": \"white\", \"zerolinewidth\": 2}}}, \"title\": {\"text\": \"Metrics Plot\"}, \"xaxis\": {\"anchor\": \"y\", \"domain\": [0.0, 1.0]}, \"yaxis\": {\"anchor\": \"x\", \"domain\": [0.0, 1.0]}},\n",
              "                        {\"responsive\": true}\n",
              "                    ).then(function(){\n",
              "                            \n",
              "var gd = document.getElementById('128d1ec1-11c6-4d71-a592-0588c219ffeb');\n",
              "var x = new MutationObserver(function (mutations, observer) {{\n",
              "        var display = window.getComputedStyle(gd).display;\n",
              "        if (!display || display === 'none') {{\n",
              "            console.log([gd, 'removed!']);\n",
              "            Plotly.purge(gd);\n",
              "            observer.disconnect();\n",
              "        }}\n",
              "}});\n",
              "\n",
              "// Listen for the removal of the full notebook cells\n",
              "var notebookContainer = gd.closest('#notebook-container');\n",
              "if (notebookContainer) {{\n",
              "    x.observe(notebookContainer, {childList: true});\n",
              "}}\n",
              "\n",
              "// Listen for the clearing of the current output cell\n",
              "var outputEl = gd.closest('.output');\n",
              "if (outputEl) {{\n",
              "    x.observe(outputEl, {childList: true});\n",
              "}}\n",
              "\n",
              "                        })\n",
              "                };\n",
              "                \n",
              "            </script>\n",
              "        </div>\n",
              "</body>\n",
              "</html>"
            ]
          },
          "metadata": {}
        }
      ]
    },
    {
      "cell_type": "markdown",
      "metadata": {
        "id": "0G-slWFQ1KwJ"
      },
      "source": [
        "# **Otimizar o modelo**"
      ]
    },
    {
      "cell_type": "markdown",
      "metadata": {
        "id": "SukGrdFNTMWX"
      },
      "source": [
        "# **Avaliar acurácia  do Modelo**"
      ]
    },
    {
      "cell_type": "code",
      "metadata": {
        "id": "jHX9PR5gTQZA",
        "colab": {
          "base_uri": "https://localhost:8080/"
        },
        "outputId": "d6031163-9b7f-41c0-96d7-98e079c2cce8"
      },
      "source": [
        "model = tf.keras.models.load_model(\"best_model.h5\")\n",
        "\n",
        "test_loss, test_acc= model.evaluate(X_test,y_test)\n",
        "print(\"validation_accuracy: \" + str(test_acc))"
      ],
      "execution_count": 269,
      "outputs": [
        {
          "output_type": "stream",
          "name": "stdout",
          "text": [
            "4/4 [==============================] - 0s 14ms/step - loss: 0.5869 - accuracy: 0.7812\n",
            "validation_accuracy: 0.78125\n"
          ]
        }
      ]
    },
    {
      "cell_type": "markdown",
      "metadata": {
        "id": "WPvlnHQyjENH"
      },
      "source": [
        "# **Listando as redes realmente disponíveis em seu Keras**"
      ]
    },
    {
      "cell_type": "code",
      "metadata": {
        "colab": {
          "base_uri": "https://localhost:8080/"
        },
        "id": "r7rGxnabi9t2",
        "outputId": "be2a0815-f4cc-421c-f70c-569518d707d0"
      },
      "source": [
        "import tensorflow.keras.applications as app\n",
        "print(dir(app))"
      ],
      "execution_count": 270,
      "outputs": [
        {
          "output_type": "stream",
          "name": "stdout",
          "text": [
            "['DenseNet121', 'DenseNet169', 'DenseNet201', 'EfficientNetB0', 'EfficientNetB1', 'EfficientNetB2', 'EfficientNetB3', 'EfficientNetB4', 'EfficientNetB5', 'EfficientNetB6', 'EfficientNetB7', 'InceptionResNetV2', 'InceptionV3', 'MobileNet', 'MobileNetV2', 'MobileNetV3Large', 'MobileNetV3Small', 'NASNetLarge', 'NASNetMobile', 'ResNet101', 'ResNet101V2', 'ResNet152', 'ResNet152V2', 'ResNet50', 'ResNet50V2', 'VGG16', 'VGG19', 'Xception', '__builtins__', '__cached__', '__doc__', '__file__', '__loader__', '__name__', '__package__', '__path__', '__spec__', '_sys', 'densenet', 'efficientnet', 'imagenet_utils', 'inception_resnet_v2', 'inception_v3', 'mobilenet', 'mobilenet_v2', 'mobilenet_v3', 'nasnet', 'resnet', 'resnet50', 'resnet_v2', 'vgg16', 'vgg19', 'xception']\n"
          ]
        }
      ]
    },
    {
      "cell_type": "markdown",
      "metadata": {
        "id": "TtHvNQkI2vle"
      },
      "source": [
        "# **O Modelo pre treinado VGG16**"
      ]
    },
    {
      "cell_type": "code",
      "metadata": {
        "id": "J5ri8TgbjjcD"
      },
      "source": [
        "# Inicializar a CNN\n",
        "\n",
        "classifier = VGG16(include_top=False,weights='imagenet',input_shape=(32,32,3))"
      ],
      "execution_count": 271,
      "outputs": []
    },
    {
      "cell_type": "code",
      "metadata": {
        "id": "6_sWdJk654Wn"
      },
      "source": [
        "#inp = tf.keras.Input((28,28,3))"
      ],
      "execution_count": 41,
      "outputs": []
    },
    {
      "cell_type": "code",
      "metadata": {
        "colab": {
          "base_uri": "https://localhost:8080/"
        },
        "id": "v-3FFMBQpKXo",
        "outputId": "a406511e-7782-4910-fa32-208f59499ac5"
      },
      "source": [
        "# marcar camadas como não treináveis\n",
        "for layer in classifier.layers:\n",
        "    layer.trainable = False\n",
        "\n",
        "# adicionar novas camadas para classificação\n",
        "\n",
        "flat1 = tf.keras.layers.Flatten()(classifier.layers[-1].output)\n",
        "flat1 = Dense(256, activation='relu', kernel_initializer='he_uniform')(flat1)\n",
        "#flat1 = tf.keras.layers.Dropout(0.5)(flat1)\n",
        "output = Dense(6, activation='softmax')(flat1)\n",
        "\n",
        "# definir o modelo\n",
        "modelvgg16 = Model(inputs=classifier.inputs, outputs=output)\n",
        "\n",
        "modelvgg16.summary()"
      ],
      "execution_count": 272,
      "outputs": [
        {
          "output_type": "stream",
          "name": "stdout",
          "text": [
            "Model: \"model_16\"\n",
            "_________________________________________________________________\n",
            "Layer (type)                 Output Shape              Param #   \n",
            "=================================================================\n",
            "input_10 (InputLayer)        [(None, 32, 32, 3)]       0         \n",
            "_________________________________________________________________\n",
            "block1_conv1 (Conv2D)        (None, 32, 32, 64)        1792      \n",
            "_________________________________________________________________\n",
            "block1_conv2 (Conv2D)        (None, 32, 32, 64)        36928     \n",
            "_________________________________________________________________\n",
            "block1_pool (MaxPooling2D)   (None, 16, 16, 64)        0         \n",
            "_________________________________________________________________\n",
            "block2_conv1 (Conv2D)        (None, 16, 16, 128)       73856     \n",
            "_________________________________________________________________\n",
            "block2_conv2 (Conv2D)        (None, 16, 16, 128)       147584    \n",
            "_________________________________________________________________\n",
            "block2_pool (MaxPooling2D)   (None, 8, 8, 128)         0         \n",
            "_________________________________________________________________\n",
            "block3_conv1 (Conv2D)        (None, 8, 8, 256)         295168    \n",
            "_________________________________________________________________\n",
            "block3_conv2 (Conv2D)        (None, 8, 8, 256)         590080    \n",
            "_________________________________________________________________\n",
            "block3_conv3 (Conv2D)        (None, 8, 8, 256)         590080    \n",
            "_________________________________________________________________\n",
            "block3_pool (MaxPooling2D)   (None, 4, 4, 256)         0         \n",
            "_________________________________________________________________\n",
            "block4_conv1 (Conv2D)        (None, 4, 4, 512)         1180160   \n",
            "_________________________________________________________________\n",
            "block4_conv2 (Conv2D)        (None, 4, 4, 512)         2359808   \n",
            "_________________________________________________________________\n",
            "block4_conv3 (Conv2D)        (None, 4, 4, 512)         2359808   \n",
            "_________________________________________________________________\n",
            "block4_pool (MaxPooling2D)   (None, 2, 2, 512)         0         \n",
            "_________________________________________________________________\n",
            "block5_conv1 (Conv2D)        (None, 2, 2, 512)         2359808   \n",
            "_________________________________________________________________\n",
            "block5_conv2 (Conv2D)        (None, 2, 2, 512)         2359808   \n",
            "_________________________________________________________________\n",
            "block5_conv3 (Conv2D)        (None, 2, 2, 512)         2359808   \n",
            "_________________________________________________________________\n",
            "block5_pool (MaxPooling2D)   (None, 1, 1, 512)         0         \n",
            "_________________________________________________________________\n",
            "flatten_26 (Flatten)         (None, 512)               0         \n",
            "_________________________________________________________________\n",
            "dense_52 (Dense)             (None, 256)               131328    \n",
            "_________________________________________________________________\n",
            "dense_53 (Dense)             (None, 6)                 1542      \n",
            "=================================================================\n",
            "Total params: 14,847,558\n",
            "Trainable params: 132,870\n",
            "Non-trainable params: 14,714,688\n",
            "_________________________________________________________________\n"
          ]
        }
      ]
    },
    {
      "cell_type": "code",
      "metadata": {
        "id": "wvbEuAEuQxLI"
      },
      "source": [
        "modelvgg16.compile(optimizer = Adam(learning_rate=0.0001), \n",
        "               loss = 'categorical_crossentropy', \n",
        "               metrics =['accuracy'])  \n",
        "\n",
        "callbacksvgg16 = [\n",
        "    tf.keras.callbacks.ReduceLROnPlateau(factor=0.5,\n",
        "                                         patience=4,\n",
        "                                         verbose=0),\n",
        "    tf.keras.callbacks.EarlyStopping(\n",
        "        monitor=\"accuracy\",\n",
        "        patience=12,\n",
        "        restore_best_weights=True,\n",
        "    ),\n",
        "    tf.keras.callbacks.ModelCheckpoint(\n",
        "        filepath='feature_extraction.vgg16',\n",
        "        save_best_only=True,\n",
        "        monitor=\"val_accuracy\",\n",
        "    ),\n",
        "\n",
        "]"
      ],
      "execution_count": 273,
      "outputs": []
    },
    {
      "cell_type": "code",
      "metadata": {
        "id": "Q49JsEYskH6B",
        "colab": {
          "base_uri": "https://localhost:8080/"
        },
        "outputId": "a8436b1c-a00f-461f-a771-89decc0f59ac"
      },
      "source": [
        "epochs=100\n",
        "historyvgg16 = modelvgg16.fit(X_trainVGG16,y_trainVGG16,\n",
        "                    epochs=epochs,\n",
        "                     verbose=1,\n",
        "                    steps_per_epoch = 23999/256,\n",
        "                     callbacks=callbacksvgg16,\n",
        "                    validation_data=(X_valVGG16,y_valVGG16))\n",
        "                    #validation_steps = 5999/64)"
      ],
      "execution_count": 274,
      "outputs": [
        {
          "output_type": "stream",
          "name": "stdout",
          "text": [
            "Epoch 1/100\n",
            "93/93 [==============================] - 6s 55ms/step - loss: 1.8473 - accuracy: 0.2447 - val_loss: 1.5117 - val_accuracy: 0.5156\n",
            "INFO:tensorflow:Assets written to: feature_extraction.vgg16/assets\n",
            "Epoch 2/100\n",
            "93/93 [==============================] - 5s 52ms/step - loss: 1.3655 - accuracy: 0.6277 - val_loss: 1.3178 - val_accuracy: 0.5703\n",
            "INFO:tensorflow:Assets written to: feature_extraction.vgg16/assets\n",
            "Epoch 3/100\n",
            "93/93 [==============================] - 5s 52ms/step - loss: 1.1450 - accuracy: 0.7181 - val_loss: 1.1613 - val_accuracy: 0.6328\n",
            "INFO:tensorflow:Assets written to: feature_extraction.vgg16/assets\n",
            "Epoch 4/100\n",
            "93/93 [==============================] - 5s 53ms/step - loss: 0.9267 - accuracy: 0.7713 - val_loss: 1.0616 - val_accuracy: 0.6250\n",
            "Epoch 5/100\n",
            "93/93 [==============================] - 5s 52ms/step - loss: 0.8593 - accuracy: 0.7713 - val_loss: 0.9776 - val_accuracy: 0.6250\n",
            "Epoch 6/100\n",
            "93/93 [==============================] - 5s 51ms/step - loss: 0.7372 - accuracy: 0.7872 - val_loss: 0.9261 - val_accuracy: 0.6484\n",
            "INFO:tensorflow:Assets written to: feature_extraction.vgg16/assets\n",
            "Epoch 7/100\n",
            "93/93 [==============================] - 5s 54ms/step - loss: 0.7010 - accuracy: 0.8085 - val_loss: 0.9150 - val_accuracy: 0.6250\n",
            "Epoch 8/100\n",
            "93/93 [==============================] - 5s 53ms/step - loss: 0.6761 - accuracy: 0.7979 - val_loss: 0.8286 - val_accuracy: 0.6875\n",
            "INFO:tensorflow:Assets written to: feature_extraction.vgg16/assets\n",
            "Epoch 9/100\n",
            "93/93 [==============================] - 5s 52ms/step - loss: 0.5737 - accuracy: 0.8245 - val_loss: 0.7963 - val_accuracy: 0.6953\n",
            "INFO:tensorflow:Assets written to: feature_extraction.vgg16/assets\n",
            "Epoch 10/100\n",
            "93/93 [==============================] - 5s 54ms/step - loss: 0.5736 - accuracy: 0.8298 - val_loss: 0.7806 - val_accuracy: 0.7031\n",
            "INFO:tensorflow:Assets written to: feature_extraction.vgg16/assets\n",
            "Epoch 11/100\n",
            "93/93 [==============================] - 5s 53ms/step - loss: 0.5612 - accuracy: 0.8351 - val_loss: 0.7804 - val_accuracy: 0.6953\n",
            "Epoch 12/100\n",
            "93/93 [==============================] - 5s 52ms/step - loss: 0.4679 - accuracy: 0.8670 - val_loss: 0.7574 - val_accuracy: 0.7031\n",
            "Epoch 13/100\n",
            "93/93 [==============================] - 5s 53ms/step - loss: 0.4960 - accuracy: 0.8298 - val_loss: 0.7296 - val_accuracy: 0.7109\n",
            "INFO:tensorflow:Assets written to: feature_extraction.vgg16/assets\n",
            "Epoch 14/100\n",
            "93/93 [==============================] - 5s 53ms/step - loss: 0.4669 - accuracy: 0.8723 - val_loss: 0.7196 - val_accuracy: 0.7188\n",
            "INFO:tensorflow:Assets written to: feature_extraction.vgg16/assets\n",
            "Epoch 15/100\n",
            "93/93 [==============================] - 5s 53ms/step - loss: 0.4061 - accuracy: 0.8830 - val_loss: 0.6990 - val_accuracy: 0.7188\n",
            "Epoch 16/100\n",
            "93/93 [==============================] - 5s 55ms/step - loss: 0.3832 - accuracy: 0.8830 - val_loss: 0.7156 - val_accuracy: 0.6875\n",
            "Epoch 17/100\n",
            "93/93 [==============================] - 5s 55ms/step - loss: 0.4034 - accuracy: 0.8777 - val_loss: 0.6987 - val_accuracy: 0.7109\n",
            "Epoch 18/100\n",
            "93/93 [==============================] - 5s 52ms/step - loss: 0.3584 - accuracy: 0.8936 - val_loss: 0.6680 - val_accuracy: 0.7266\n",
            "INFO:tensorflow:Assets written to: feature_extraction.vgg16/assets\n",
            "Epoch 19/100\n",
            "93/93 [==============================] - 5s 52ms/step - loss: 0.3488 - accuracy: 0.9202 - val_loss: 0.6667 - val_accuracy: 0.7188\n",
            "Epoch 20/100\n",
            "93/93 [==============================] - 5s 53ms/step - loss: 0.3505 - accuracy: 0.9043 - val_loss: 0.6694 - val_accuracy: 0.7266\n",
            "Epoch 21/100\n",
            "93/93 [==============================] - 5s 56ms/step - loss: 0.3039 - accuracy: 0.9521 - val_loss: 0.6488 - val_accuracy: 0.7266\n",
            "Epoch 22/100\n",
            "93/93 [==============================] - 5s 51ms/step - loss: 0.3133 - accuracy: 0.9255 - val_loss: 0.6656 - val_accuracy: 0.7266\n",
            "Epoch 23/100\n",
            "93/93 [==============================] - 5s 50ms/step - loss: 0.2857 - accuracy: 0.9574 - val_loss: 0.6392 - val_accuracy: 0.7266\n",
            "Epoch 24/100\n",
            "93/93 [==============================] - 5s 55ms/step - loss: 0.2810 - accuracy: 0.9681 - val_loss: 0.5962 - val_accuracy: 0.7422\n",
            "INFO:tensorflow:Assets written to: feature_extraction.vgg16/assets\n",
            "Epoch 25/100\n",
            "93/93 [==============================] - 5s 53ms/step - loss: 0.2568 - accuracy: 0.9734 - val_loss: 0.6461 - val_accuracy: 0.7344\n",
            "Epoch 26/100\n",
            "93/93 [==============================] - 5s 51ms/step - loss: 0.2962 - accuracy: 0.9521 - val_loss: 0.6075 - val_accuracy: 0.7422\n",
            "Epoch 27/100\n",
            "93/93 [==============================] - 5s 53ms/step - loss: 0.2284 - accuracy: 0.9681 - val_loss: 0.6168 - val_accuracy: 0.7422\n",
            "Epoch 28/100\n",
            "93/93 [==============================] - 5s 55ms/step - loss: 0.2240 - accuracy: 0.9787 - val_loss: 0.5946 - val_accuracy: 0.7500\n",
            "INFO:tensorflow:Assets written to: feature_extraction.vgg16/assets\n",
            "Epoch 29/100\n",
            "93/93 [==============================] - 5s 52ms/step - loss: 0.2248 - accuracy: 0.9681 - val_loss: 0.6127 - val_accuracy: 0.7344\n",
            "Epoch 30/100\n",
            "93/93 [==============================] - 5s 51ms/step - loss: 0.2099 - accuracy: 0.9734 - val_loss: 0.6011 - val_accuracy: 0.7500\n",
            "Epoch 31/100\n",
            "93/93 [==============================] - 5s 52ms/step - loss: 0.2254 - accuracy: 0.9681 - val_loss: 0.6450 - val_accuracy: 0.7266\n",
            "Epoch 32/100\n",
            "93/93 [==============================] - 5s 54ms/step - loss: 0.1856 - accuracy: 0.9840 - val_loss: 0.6073 - val_accuracy: 0.7422\n",
            "Epoch 33/100\n",
            "93/93 [==============================] - 5s 53ms/step - loss: 0.1814 - accuracy: 0.9787 - val_loss: 0.5862 - val_accuracy: 0.7500\n",
            "Epoch 34/100\n",
            "93/93 [==============================] - 5s 52ms/step - loss: 0.1957 - accuracy: 0.9734 - val_loss: 0.5881 - val_accuracy: 0.7500\n",
            "Epoch 35/100\n",
            "93/93 [==============================] - 5s 53ms/step - loss: 0.1726 - accuracy: 0.9734 - val_loss: 0.5895 - val_accuracy: 0.7500\n",
            "Epoch 36/100\n",
            "93/93 [==============================] - 5s 54ms/step - loss: 0.1789 - accuracy: 0.9840 - val_loss: 0.5932 - val_accuracy: 0.7500\n",
            "Epoch 37/100\n",
            "93/93 [==============================] - 5s 56ms/step - loss: 0.1927 - accuracy: 0.9681 - val_loss: 0.5685 - val_accuracy: 0.7578\n",
            "INFO:tensorflow:Assets written to: feature_extraction.vgg16/assets\n",
            "Epoch 38/100\n",
            "93/93 [==============================] - 5s 53ms/step - loss: 0.1403 - accuracy: 0.9840 - val_loss: 0.5901 - val_accuracy: 0.7500\n",
            "Epoch 39/100\n",
            "93/93 [==============================] - 5s 54ms/step - loss: 0.1727 - accuracy: 0.9734 - val_loss: 0.5928 - val_accuracy: 0.7500\n",
            "Epoch 40/100\n",
            "93/93 [==============================] - 5s 54ms/step - loss: 0.1717 - accuracy: 0.9734 - val_loss: 0.5781 - val_accuracy: 0.7578\n",
            "Epoch 41/100\n",
            "93/93 [==============================] - 5s 52ms/step - loss: 0.1575 - accuracy: 0.9787 - val_loss: 0.5734 - val_accuracy: 0.7500\n",
            "Epoch 42/100\n",
            "93/93 [==============================] - 5s 52ms/step - loss: 0.1635 - accuracy: 0.9734 - val_loss: 0.5828 - val_accuracy: 0.7500\n",
            "Epoch 43/100\n",
            "93/93 [==============================] - 5s 52ms/step - loss: 0.1306 - accuracy: 0.9840 - val_loss: 0.5791 - val_accuracy: 0.7578\n",
            "Epoch 44/100\n",
            "93/93 [==============================] - 5s 53ms/step - loss: 0.1565 - accuracy: 0.9787 - val_loss: 0.5806 - val_accuracy: 0.7578\n"
          ]
        }
      ]
    },
    {
      "cell_type": "code",
      "metadata": {
        "id": "OzhMZWXqtWGz",
        "colab": {
          "base_uri": "https://localhost:8080/",
          "height": 545
        },
        "outputId": "8122d9c1-6371-4a9c-d1be-465a5235e005"
      },
      "source": [
        "%matplotlib inline\n",
        "import matplotlib.pyplot as plt\n",
        "acc = historyvgg16.history['accuracy']\n",
        "val_acc = historyvgg16.history['val_accuracy']\n",
        "loss = historyvgg16.history['loss']\n",
        "val_loss = historyvgg16.history['val_loss']\n",
        "\n",
        "epochs = range(len(acc))\n",
        "\n",
        "plt.plot(epochs, acc, 'r', label='Training accuracy')\n",
        "plt.plot(epochs, val_acc, 'b', label='Validation accuracy')\n",
        "plt.title('Training and validation accuracy')\n",
        "plt.legend(loc=0)\n",
        "plt.figure()\n",
        "\n",
        "plt.plot(epochs, loss, 'r', label='Training Loss')\n",
        "plt.plot(epochs, val_loss, 'b', label='Validation Loss')\n",
        "plt.title('Training and validation loss')\n",
        "plt.legend()\n",
        "\n",
        "plt.show()"
      ],
      "execution_count": 275,
      "outputs": [
        {
          "output_type": "display_data",
          "data": {
            "image/png": "[encoded data removed]",
            "text/plain": [
              "<Figure size 432x288 with 1 Axes>"
            ]
          },
          "metadata": {
            "needs_background": "light"
          }
        },
        {
          "output_type": "display_data",
          "data": {
            "image/png": "[encoded data removed]",
            "text/plain": [
              "<Figure size 432x288 with 1 Axes>"
            ]
          },
          "metadata": {
            "needs_background": "light"
          }
        }
      ]
    },
    {
      "cell_type": "code",
      "metadata": {
        "id": "Usw3n8GmtmXH",
        "colab": {
          "base_uri": "https://localhost:8080/"
        },
        "outputId": "ee440a70-da21-45c7-c4e0-d89be59417ea"
      },
      "source": [
        "modelvgg16 = tf.keras.models.load_model(\"feature_extraction.vgg16\")\n",
        "\n",
        "test_lossvgg16, test_accvgg16= modelvgg16.evaluate(X_testVGG16,y_testVGG16)\n",
        "print(\"validation_accuracy: \" + str(test_accvgg16))"
      ],
      "execution_count": 276,
      "outputs": [
        {
          "output_type": "stream",
          "name": "stdout",
          "text": [
            "4/4 [==============================] - 2s 359ms/step - loss: 0.5619 - accuracy: 0.7578\n",
            "validation_accuracy: 0.7578125\n"
          ]
        }
      ]
    },
    {
      "cell_type": "markdown",
      "metadata": {
        "id": "MVOum8PiFwj5"
      },
      "source": [
        "# **Comparandos os modelos**"
      ]
    },
    {
      "cell_type": "code",
      "metadata": {
        "id": "g6AYQKDTtmlY",
        "colab": {
          "base_uri": "https://localhost:8080/",
          "height": 336
        },
        "outputId": "0413d773-cf90-4328-dcc0-743ce1ae3390"
      },
      "source": [
        "fig = plt.figure()\n",
        "ax = fig.add_axes([0,0,1,1])\n",
        "acc = [test_acc,test_accvgg16]\n",
        "model = ['Modelo Criado','VGG16']\n",
        "#model = ['Modelo Criado','VGG16','InceptionV3','EfficientNetB0','EfficientNetB7']\n",
        "ax.bar(model,acc)\n",
        "plt.show()"
      ],
      "execution_count": 277,
      "outputs": [
        {
          "output_type": "display_data",
          "data": {
            "image/png": "[encoded data removed]",
            "text/plain": [
              "<Figure size 432x288 with 1 Axes>"
            ]
          },
          "metadata": {
            "needs_background": "light"
          }
        }
      ]
    },
    {
      "cell_type": "markdown",
      "metadata": {
        "id": "7toSzftQcPLH"
      },
      "source": [
        "# **Realizar a Predição para as 6 classes**"
      ]
    },
    {
      "cell_type": "code",
      "metadata": {
        "id": "cQp4hLBD1b2Q",
        "colab": {
          "base_uri": "https://localhost:8080/",
          "height": 265
        },
        "outputId": "a7638ae4-2f29-4ede-90a9-45cb39dc1760"
      },
      "source": [
        "plt.figure()\n",
        "plt.imshow(X_train[0])\n",
        "plt.colorbar()\n",
        "plt.grid(False)\n",
        "plt.show()"
      ],
      "execution_count": 278,
      "outputs": [
        {
          "output_type": "display_data",
          "data": {
            "image/png": "[encoded data removed]",
            "text/plain": [
              "<Figure size 432x288 with 2 Axes>"
            ]
          },
          "metadata": {
            "needs_background": "light"
          }
        }
      ]
    },
    {
      "cell_type": "markdown",
      "metadata": {
        "id": "N14GaXQK1x4C"
      },
      "source": [
        "Escalaremos esses valores no intervalo de 0 e 1 antes antes de alimentar o modelo da rede neural. Para fazer isso, dividimos os valores por 255. É importante que o conjunto de treinamento e o conjunto de teste podem ser pré-processados do mesmo modo:"
      ]
    },
    {
      "cell_type": "code",
      "metadata": {
        "id": "jerlMdae10kl"
      },
      "source": [
        "X_train = X_train /255\n",
        "X_test = X_test /255"
      ],
      "execution_count": null,
      "outputs": []
    },
    {
      "cell_type": "code",
      "metadata": {
        "id": "8JZlZZxy9ANU",
        "colab": {
          "base_uri": "https://localhost:8080/"
        },
        "outputId": "0e30d537-6a30-4b2c-8018-4db532468c2e"
      },
      "source": [
        "y_train.shape"
      ],
      "execution_count": 279,
      "outputs": [
        {
          "output_type": "execute_result",
          "data": {
            "text/plain": [
              "(128, 6)"
            ]
          },
          "metadata": {},
          "execution_count": 279
        }
      ]
    },
    {
      "cell_type": "code",
      "metadata": {
        "id": "ut4cvpNs2eGz",
        "colab": {
          "base_uri": "https://localhost:8080/",
          "height": 324
        },
        "outputId": "d647fc62-9900-45bb-f7b5-643ab411b8dd"
      },
      "source": [
        "class_names = ['andesite','gneiss','marbler','quartzite','rhyolite','schist']\n",
        "\n",
        "plt.figure(figsize=(10, 10))\n",
        "for i in range(36):\n",
        "    plt.subplot(6, 6, i + 1)\n",
        "    plt.xticks([])\n",
        "    plt.yticks([])\n",
        "    plt.grid(False)\n",
        "    plt.imshow(X_train[i])\n",
        "    label_index = int(y_train[i])\n",
        "    plt.title(class_names[label_index])\n",
        "plt.show()\n"
      ],
      "execution_count": 280,
      "outputs": [
        {
          "output_type": "error",
          "ename": "TypeError",
          "evalue": "ignored",
          "traceback": [
            "\u001b[0;31m---------------------------------------------------------------------------\u001b[0m",
            "\u001b[0;31mTypeError\u001b[0m                                 Traceback (most recent call last)",
            "\u001b[0;32m<ipython-input-280-763edde760c1>\u001b[0m in \u001b[0;36m<module>\u001b[0;34m()\u001b[0m\n\u001b[1;32m      8\u001b[0m     \u001b[0mplt\u001b[0m\u001b[0;34m.\u001b[0m\u001b[0mgrid\u001b[0m\u001b[0;34m(\u001b[0m\u001b[0;32mFalse\u001b[0m\u001b[0;34m)\u001b[0m\u001b[0;34m\u001b[0m\u001b[0;34m\u001b[0m\u001b[0m\n\u001b[1;32m      9\u001b[0m     \u001b[0mplt\u001b[0m\u001b[0;34m.\u001b[0m\u001b[0mimshow\u001b[0m\u001b[0;34m(\u001b[0m\u001b[0mX_train\u001b[0m\u001b[0;34m[\u001b[0m\u001b[0mi\u001b[0m\u001b[0;34m]\u001b[0m\u001b[0;34m)\u001b[0m\u001b[0;34m\u001b[0m\u001b[0;34m\u001b[0m\u001b[0m\n\u001b[0;32m---> 10\u001b[0;31m     \u001b[0mlabel_index\u001b[0m \u001b[0;34m=\u001b[0m \u001b[0mint\u001b[0m\u001b[0;34m(\u001b[0m\u001b[0my_train\u001b[0m\u001b[0;34m[\u001b[0m\u001b[0mi\u001b[0m\u001b[0;34m]\u001b[0m\u001b[0;34m)\u001b[0m\u001b[0;34m\u001b[0m\u001b[0;34m\u001b[0m\u001b[0m\n\u001b[0m\u001b[1;32m     11\u001b[0m     \u001b[0mplt\u001b[0m\u001b[0;34m.\u001b[0m\u001b[0mtitle\u001b[0m\u001b[0;34m(\u001b[0m\u001b[0mclass_names\u001b[0m\u001b[0;34m[\u001b[0m\u001b[0mlabel_index\u001b[0m\u001b[0;34m]\u001b[0m\u001b[0;34m)\u001b[0m\u001b[0;34m\u001b[0m\u001b[0;34m\u001b[0m\u001b[0m\n\u001b[1;32m     12\u001b[0m \u001b[0mplt\u001b[0m\u001b[0;34m.\u001b[0m\u001b[0mshow\u001b[0m\u001b[0;34m(\u001b[0m\u001b[0;34m)\u001b[0m\u001b[0;34m\u001b[0m\u001b[0;34m\u001b[0m\u001b[0m\n",
            "\u001b[0;31mTypeError\u001b[0m: only size-1 arrays can be converted to Python scalars"
          ]
        },
        {
          "output_type": "display_data",
          "data": {
            "image/png": "[encoded data removed]",
            "text/plain": [
              "<Figure size 720x720 with 1 Axes>"
            ]
          },
          "metadata": {}
        }
      ]
    },
    {
      "cell_type": "code",
      "metadata": {
        "id": "UW-VloEXue0w"
      },
      "source": [
        "# Codigo do Dr.(o)professor Leonardo Forero\n",
        "\n",
        "def plot_image(i, predictions_array, true_label, img):\n",
        "  predictions_array, true_label, img = predictions_array[i], true_label[i], img[i]\n",
        "  plt.grid(False)\n",
        "  plt.xticks([])\n",
        "  plt.yticks([])\n",
        "\n",
        "  plt.imshow(img, cmap=plt.cm.binary)\n",
        "\n",
        "  predicted_label = np.argmax(predictions_array)\n",
        "  if predicted_label == true_label:\n",
        "    color = 'blue'\n",
        "  else:\n",
        "    color = 'red'\n",
        "\n",
        "  plt.xlabel(\"{} {:2.0f}% ({})\".format(label[predicted_label],\n",
        "                                100*np.max(predictions_array),\n",
        "                                label[true_label]),\n",
        "                                color=color)\n",
        "\n",
        "def plot_value_array(i, predictions_array, true_label):\n",
        "  predictions_array, true_label = predictions_array[i], true_label[i]\n",
        "  plt.grid(False)\n",
        "  plt.xticks([])\n",
        "  plt.yticks([])\n",
        "  thisplot = plt.bar(range(10), predictions_array, color=\"#777777\")\n",
        "  plt.ylim([0, 1])\n",
        "  predicted_label = np.argmax(predictions_array)\n",
        "\n",
        "  thisplot[predicted_label].set_color('red')\n",
        "  thisplot[true_label].set_color('blue')"
      ],
      "execution_count": null,
      "outputs": []
    },
    {
      "cell_type": "code",
      "metadata": {
        "id": "Q1ZVaJCavb1u"
      },
      "source": [
        "i = 0\n",
        "plt.figure(figsize=(6,3))\n",
        "plt.subplot(1,2,1)\n",
        "plot_image(i, predictions, y_test, X_test)\n",
        "plt.subplot(1,2,2)\n",
        "plot_value_array(i, predictions,  y_test)\n",
        "plt.show()"
      ],
      "execution_count": null,
      "outputs": []
    },
    {
      "cell_type": "code",
      "metadata": {
        "id": "6fd1COOBcEq-"
      },
      "source": [
        "predictions = model.predict(X_test)\n",
        "print(\"Prediction_accuracy: \" + str(predictions))"
      ],
      "execution_count": null,
      "outputs": []
    },
    {
      "cell_type": "code",
      "metadata": {
        "id": "pYKNqTvYIy56"
      },
      "source": [
        "predictions[0] # primeira predição"
      ],
      "execution_count": null,
      "outputs": []
    },
    {
      "cell_type": "code",
      "metadata": {
        "id": "aCmbcjolJstx"
      },
      "source": [
        "np.argmax(predictions[0])"
      ],
      "execution_count": null,
      "outputs": []
    },
    {
      "cell_type": "code",
      "metadata": {
        "id": "c81gyqxSpT8o"
      },
      "source": [
        "predictions = np.argmax(predictions)\n",
        "predictions"
      ],
      "execution_count": null,
      "outputs": []
    },
    {
      "cell_type": "code",
      "metadata": {
        "id": "Kaby35OAi4rH"
      },
      "source": [
        "y_test[0]"
      ],
      "execution_count": null,
      "outputs": []
    },
    {
      "cell_type": "code",
      "metadata": {
        "id": "-IwKBohOiOA_"
      },
      "source": [
        "from sklearn.metrics import confusion_matrix\n",
        "confusion_matrix(X_test,str(predictions))"
      ],
      "execution_count": null,
      "outputs": []
    },
    {
      "cell_type": "code",
      "metadata": {
        "id": "ZzAJDvFfA8S0"
      },
      "source": [
        ""
      ],
      "execution_count": null,
      "outputs": []
    }
  ]
}