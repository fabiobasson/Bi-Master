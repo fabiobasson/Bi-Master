{
  "nbformat": 4,
  "nbformat_minor": 0,
  "metadata": {
    "colab": {
      "name": "geological-image-similarity.ipynb",
      "provenance": [],
      "authorship_tag": "ABX9TyME2Nf+GSJqK4rI3CU3zfhh",
      "include_colab_link": true
    },
    "kernelspec": {
      "name": "python3",
      "display_name": "Python 3"
    },
    "language_info": {
      "name": "python"
    },
    "accelerator": "GPU"
  },
  "cells": [
    {
      "cell_type": "markdown",
      "metadata": {
        "id": "view-in-github",
        "colab_type": "text"
      },
      "source": [
        "<a href=\"https://colab.research.google.com/github/fabiobasson/Bi-Master/blob/main/geological_comparative30092021.ipynb\" target=\"_parent\"><img src=\"https://colab.research.google.com/assets/colab-badge.svg\" alt=\"Open In Colab\"/></a>"
      ]
    },
    {
      "cell_type": "markdown",
      "metadata": {
        "id": "ek-dpdgUwrpq"
      },
      "source": [
        "# Importações "
      ]
    },
    {
      "cell_type": "code",
      "metadata": {
        "id": "BhMpCgi7O64x"
      },
      "source": [
        "import warnings\n",
        "warnings.filterwarnings('always')\n",
        "warnings.filterwarnings('ignore')\n",
        "\n",
        "import os\n",
        "import tensorflow as tf\n",
        "from tensorflow.keras import layers\n",
        "from tensorflow.keras import Model\n",
        "from tensorflow.keras.layers import Dense, Dropout\n",
        "\n",
        "from os import getcwd\n",
        "import zipfile\n",
        "import shutil\n",
        "import numpy as np\n",
        "import glob\n",
        "import random\n",
        "import pandas as pd\n",
        "import matplotlib.pyplot as plt\n",
        "from PIL import Image\n",
        "import plotly.express as px\n",
        "import cv2 as cv\n",
        "\n",
        "from tensorflow.keras.optimizers import RMSprop, Adam\n",
        "from tensorflow.keras.applications.vgg16 import VGG16\n",
        "from tensorflow.keras.applications.inception_v3 import InceptionV3\n",
        "from tensorflow.keras.preprocessing.image import ImageDataGenerator\n",
        "\n",
        "from sklearn.metrics import confusion_matrix,accuracy_score\n",
        "from sklearn.model_selection import train_test_split"
      ],
      "execution_count": 1,
      "outputs": []
    },
    {
      "cell_type": "code",
      "metadata": {
        "colab": {
          "base_uri": "https://localhost:8080/"
        },
        "id": "ye09bw6nVWgH",
        "outputId": "49f140d0-05d3-42a5-8d48-754093cf8822"
      },
      "source": [
        "print(tf.__version__)"
      ],
      "execution_count": 2,
      "outputs": [
        {
          "output_type": "stream",
          "name": "stdout",
          "text": [
            "2.6.0\n"
          ]
        }
      ]
    },
    {
      "cell_type": "code",
      "metadata": {
        "id": "Z6Micr83L4uy",
        "colab": {
          "base_uri": "https://localhost:8080/"
        },
        "outputId": "0d0545b8-3354-4eed-bf70-7e028d794d9b"
      },
      "source": [
        "# Instalar Tensorflow\n",
        "#!pip install tensorflow==2.6.0\n",
        "\n",
        "# Instalar Keras\n",
        "!pip install keras --upgrade"
      ],
      "execution_count": 3,
      "outputs": [
        {
          "output_type": "stream",
          "name": "stdout",
          "text": [
            "Requirement already satisfied: keras in /usr/local/lib/python3.7/dist-packages (2.6.0)\n"
          ]
        }
      ]
    },
    {
      "cell_type": "code",
      "metadata": {
        "id": "qB35LCwK1F9Y"
      },
      "source": [
        "# Caso precise, remover os diretorios\n",
        "\n",
        "#!rm -rf geological_similarity andesite gneiss/ marble/ quartzite/ rhyolite/ schist/\n",
        "#!rm -rf geological-image-similarity"
      ],
      "execution_count": 4,
      "outputs": []
    },
    {
      "cell_type": "markdown",
      "metadata": {
        "id": "WsBJvou07fbF"
      },
      "source": [
        "# **Coleta de dados do Kaglle**"
      ]
    },
    {
      "cell_type": "code",
      "metadata": {
        "colab": {
          "resources": {
            "http://localhost:8080/nbextensions/google.colab/files.js": {
              "data": "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",
              "ok": true,
              "headers": [
                [
                  "content-type",
                  "application/javascript"
                ]
              ],
              "status": 200,
              "status_text": ""
            }
          },
          "base_uri": "https://localhost:8080/",
          "height": 73
        },
        "id": "qPW1Uceu4EkK",
        "outputId": "672dbbd4-d6a3-42cf-e265-ed4b9cd1b9af"
      },
      "source": [
        "from google.colab import files\n",
        "files.upload()\n",
        "\n",
        "!mkdir ~/.kaggle\n",
        "!cp kaggle.json ~/.kaggle/\n",
        "!chmod 600 ~/.kaggle/kaggle.json"
      ],
      "execution_count": 3,
      "outputs": [
        {
          "output_type": "display_data",
          "data": {
            "text/html": [
              "\n",
              "     <input type=\"file\" id=\"files-c8cabe20-e13a-4f41-8560-52c4a707950d\" name=\"files[]\" multiple disabled\n",
              "        style=\"border:none\" />\n",
              "     <output id=\"result-c8cabe20-e13a-4f41-8560-52c4a707950d\">\n",
              "      Upload widget is only available when the cell has been executed in the\n",
              "      current browser session. Please rerun this cell to enable.\n",
              "      </output>\n",
              "      <script src=\"/nbextensions/google.colab/files.js\"></script> "
            ],
            "text/plain": [
              "<IPython.core.display.HTML object>"
            ]
          },
          "metadata": {}
        },
        {
          "output_type": "stream",
          "name": "stdout",
          "text": [
            "Saving kaggle.json to kaggle.json\n"
          ]
        }
      ]
    },
    {
      "cell_type": "markdown",
      "metadata": {
        "id": "rte0cNVp7kgE"
      },
      "source": [
        "# **###  Download dos dados / descompactando os dados**"
      ]
    },
    {
      "cell_type": "code",
      "metadata": {
        "colab": {
          "base_uri": "https://localhost:8080/"
        },
        "id": "GvN30SNO4L1f",
        "outputId": "64d123e5-3d30-477f-d0ea-4c781ffeca51"
      },
      "source": [
        "#!kaggle datasets download fabiobasson/geologicalsimilarity\n",
        "#! unzip -qq  geologicalsimilarity\n",
        "!kaggle datasets download tanyadayanand/geological-image-similarity\n",
        "! unzip -qq geological-image-similarity    "
      ],
      "execution_count": 4,
      "outputs": [
        {
          "output_type": "stream",
          "name": "stdout",
          "text": [
            "Downloading geological-image-similarity.zip to /content\n",
            " 74% 25.0M/33.6M [00:00<00:00, 50.5MB/s]\n",
            "100% 33.6M/33.6M [00:00<00:00, 75.4MB/s]\n"
          ]
        }
      ]
    },
    {
      "cell_type": "markdown",
      "metadata": {
        "id": "owY2uo8A7q5j"
      },
      "source": [
        "# ** Criação da estrutura e leitura de diretórios **"
      ]
    },
    {
      "cell_type": "code",
      "metadata": {
        "id": "QXSrUDeU4L7J",
        "colab": {
          "base_uri": "https://localhost:8080/"
        },
        "outputId": "1174ecd6-0e6d-4746-ca09-74b24a93e2a3"
      },
      "source": [
        "andesite_dir = glob.glob('geological_similarity/andesite/*.jpg');gneiss_dir = glob.glob('geological_similarity/gneiss/*.jpg')\n",
        "marble_dir= glob.glob('geological_similarity/marble/*.jpg');quartzite_dir = glob.glob('geological_similarity/quartzite/*.jpg')\n",
        "rhyolite_dir = glob.glob('geological_similarity/rhyolite/*.jpg');\n",
        "schist_dir = glob.glob('geological_similarity/schist/*.jpg')\n",
        "print(len(andesite_dir));print(len(gneiss_dir)); print(len(marble_dir)); print(len(quartzite_dir));  print(len(quartzite_dir)); print(len(schist_dir))\n"
      ],
      "execution_count": 5,
      "outputs": [
        {
          "output_type": "stream",
          "name": "stdout",
          "text": [
            "5000\n",
            "5000\n",
            "4998\n",
            "5000\n",
            "5000\n",
            "5000\n"
          ]
        }
      ]
    },
    {
      "cell_type": "markdown",
      "metadata": {
        "id": "xL-7GOm_w3m3"
      },
      "source": [
        "# **Nomes das Classes**\n",
        "# andesite = 0  # gneiss =1 # marbler = 2 # quartzite = 3 # rhyolite = 4  # schist = 5 \n"
      ]
    },
    {
      "cell_type": "code",
      "metadata": {
        "colab": {
          "base_uri": "https://localhost:8080/"
        },
        "id": "wBhB6b6xi1xl",
        "outputId": "98122854-61db-4353-8619-aa17552093df"
      },
      "source": [
        "label = ['andesite','gneiss','marbler','quartzite','rhyolite','schist']\n",
        "\n",
        "andesite_df=[];gneiss_df=[];marble_df=[];quartzite_df=[];rhyolite_df=[];schist_df=[]\n",
        "\n",
        "for i in andesite_dir:\n",
        "    andesite_df.append([i,label[0]])\n",
        "for j in gneiss_dir:\n",
        "   gneiss_df.append([j,label[1]])\n",
        "for l in marble_dir:\n",
        "    marble_df.append([l,label[2]])\n",
        "for m in quartzite_dir:\n",
        "    quartzite_df.append([m,label[3]])\n",
        "for n in rhyolite_dir:\n",
        "    rhyolite_df.append([n,label[4]])\n",
        "for o in schist_dir:\n",
        "    schist_df.append([o,label[5]])\n",
        "   \n",
        "df = andesite_df + gneiss_df + marble_df  + quartzite_df + rhyolite_df + schist_df\n",
        "random.shuffle(df)\n",
        "len(df)"
      ],
      "execution_count": 6,
      "outputs": [
        {
          "output_type": "execute_result",
          "data": {
            "text/plain": [
              "29998"
            ]
          },
          "metadata": {},
          "execution_count": 6
        }
      ]
    },
    {
      "cell_type": "markdown",
      "metadata": {
        "id": "iJTNl-uSVUFA"
      },
      "source": [
        "# **Criação do Dataframe**"
      ]
    },
    {
      "cell_type": "code",
      "metadata": {
        "colab": {
          "base_uri": "https://localhost:8080/",
          "height": 415
        },
        "id": "87UeiF--wzh8",
        "outputId": "5ba12232-eb44-4213-bbfd-6b5a4be3f5d2"
      },
      "source": [
        "data_df = pd.DataFrame(df,columns=['path','label'])\n",
        "data_df"
      ],
      "execution_count": 7,
      "outputs": [
        {
          "output_type": "execute_result",
          "data": {
            "text/html": [
              "<div>\n",
              "<style scoped>\n",
              "    .dataframe tbody tr th:only-of-type {\n",
              "        vertical-align: middle;\n",
              "    }\n",
              "\n",
              "    .dataframe tbody tr th {\n",
              "        vertical-align: top;\n",
              "    }\n",
              "\n",
              "    .dataframe thead th {\n",
              "        text-align: right;\n",
              "    }\n",
              "</style>\n",
              "<table border=\"1\" class=\"dataframe\">\n",
              "  <thead>\n",
              "    <tr style=\"text-align: right;\">\n",
              "      <th></th>\n",
              "      <th>path</th>\n",
              "      <th>label</th>\n",
              "    </tr>\n",
              "  </thead>\n",
              "  <tbody>\n",
              "    <tr>\n",
              "      <th>0</th>\n",
              "      <td>geological_similarity/schist/VLF3H.jpg</td>\n",
              "      <td>schist</td>\n",
              "    </tr>\n",
              "    <tr>\n",
              "      <th>1</th>\n",
              "      <td>geological_similarity/schist/JYZ0B.jpg</td>\n",
              "      <td>schist</td>\n",
              "    </tr>\n",
              "    <tr>\n",
              "      <th>2</th>\n",
              "      <td>geological_similarity/rhyolite/O9G55.jpg</td>\n",
              "      <td>rhyolite</td>\n",
              "    </tr>\n",
              "    <tr>\n",
              "      <th>3</th>\n",
              "      <td>geological_similarity/gneiss/8LAYC.jpg</td>\n",
              "      <td>gneiss</td>\n",
              "    </tr>\n",
              "    <tr>\n",
              "      <th>4</th>\n",
              "      <td>geological_similarity/gneiss/5HS46.jpg</td>\n",
              "      <td>gneiss</td>\n",
              "    </tr>\n",
              "    <tr>\n",
              "      <th>...</th>\n",
              "      <td>...</td>\n",
              "      <td>...</td>\n",
              "    </tr>\n",
              "    <tr>\n",
              "      <th>29993</th>\n",
              "      <td>geological_similarity/gneiss/ZTHD4.jpg</td>\n",
              "      <td>gneiss</td>\n",
              "    </tr>\n",
              "    <tr>\n",
              "      <th>29994</th>\n",
              "      <td>geological_similarity/marble/XGOHC.jpg</td>\n",
              "      <td>marbler</td>\n",
              "    </tr>\n",
              "    <tr>\n",
              "      <th>29995</th>\n",
              "      <td>geological_similarity/marble/6ZSBA.jpg</td>\n",
              "      <td>marbler</td>\n",
              "    </tr>\n",
              "    <tr>\n",
              "      <th>29996</th>\n",
              "      <td>geological_similarity/schist/JF7SJ.jpg</td>\n",
              "      <td>schist</td>\n",
              "    </tr>\n",
              "    <tr>\n",
              "      <th>29997</th>\n",
              "      <td>geological_similarity/quartzite/K37XQ.jpg</td>\n",
              "      <td>quartzite</td>\n",
              "    </tr>\n",
              "  </tbody>\n",
              "</table>\n",
              "<p>29998 rows × 2 columns</p>\n",
              "</div>"
            ],
            "text/plain": [
              "                                            path      label\n",
              "0         geological_similarity/schist/VLF3H.jpg     schist\n",
              "1         geological_similarity/schist/JYZ0B.jpg     schist\n",
              "2       geological_similarity/rhyolite/O9G55.jpg   rhyolite\n",
              "3         geological_similarity/gneiss/8LAYC.jpg     gneiss\n",
              "4         geological_similarity/gneiss/5HS46.jpg     gneiss\n",
              "...                                          ...        ...\n",
              "29993     geological_similarity/gneiss/ZTHD4.jpg     gneiss\n",
              "29994     geological_similarity/marble/XGOHC.jpg    marbler\n",
              "29995     geological_similarity/marble/6ZSBA.jpg    marbler\n",
              "29996     geological_similarity/schist/JF7SJ.jpg     schist\n",
              "29997  geological_similarity/quartzite/K37XQ.jpg  quartzite\n",
              "\n",
              "[29998 rows x 2 columns]"
            ]
          },
          "metadata": {},
          "execution_count": 7
        }
      ]
    },
    {
      "cell_type": "markdown",
      "metadata": {
        "id": "B-ruxpGkzqHx"
      },
      "source": [
        "#  Conhecendo os dados de imagem"
      ]
    },
    {
      "cell_type": "code",
      "metadata": {
        "id": "q0f0-HaP3cYM",
        "colab": {
          "base_uri": "https://localhost:8080/"
        },
        "outputId": "a78c8e9f-048a-4099-9dfe-0b4188a58306"
      },
      "source": [
        "from numpy import asarray\n",
        "image = Image.open(\"geological_similarity/gneiss/0QTQE.jpg\")\n",
        "# Método asarray para realizar a conversão:\n",
        "pixels= asarray(image)\n",
        "# Verificando a faixa de valores entre 0 e 255:\n",
        "print('Data Type: %s' % pixels.dtype)\n",
        "print('Min: %.3f, Max: %.3f' % (pixels.min(), pixels.max()))\n",
        "\n",
        "#Converte os valores inteiros em float para realizar a operação:\n",
        "pixels = pixels.astype('float32')\n",
        "# Normaliza a faixa de valores:\n",
        "pixels /= pixels.max()\n",
        "# Verificando a faixa de valores normalizada:\n",
        "print('Data Type: %s' % pixels.dtype)\n",
        "print('Min: %.3f, Max: %.3f' % (pixels.min(), pixels.max()))"
      ],
      "execution_count": 8,
      "outputs": [
        {
          "output_type": "stream",
          "name": "stdout",
          "text": [
            "Data Type: uint8\n",
            "Min: 32.000, Max: 251.000\n",
            "Data Type: float32\n",
            "Min: 0.127, Max: 1.000\n"
          ]
        }
      ]
    },
    {
      "cell_type": "markdown",
      "metadata": {
        "id": "XlUbajOTxHKl"
      },
      "source": [
        "# **Limpeza de dados**\n",
        "1 - Analisando os dados ausentes\n",
        "2 - Descartando os dados ausentes\n",
        "3 - Imputando dados\n",
        "4 - Acrescentando colunas informativas"
      ]
    },
    {
      "cell_type": "code",
      "metadata": {
        "id": "ybydrHWUvlbY",
        "colab": {
          "base_uri": "https://localhost:8080/",
          "height": 460
        },
        "outputId": "f8006086-3338-40fb-89a1-1e977152f5f2"
      },
      "source": [
        "### 1 - Analisando os dados ausentes ###\n",
        "\n",
        "import missingno as msno\n",
        "ax = msno.matrix(data_df.sample(400))"
      ],
      "execution_count": 9,
      "outputs": [
        {
          "output_type": "display_data",
          "data": {
            "image/png": "[encoded data removed]",
            "text/plain": [
              "<Figure size 1800x720 with 2 Axes>"
            ]
          },
          "metadata": {
            "needs_background": "light"
          }
        }
      ]
    },
    {
      "cell_type": "code",
      "metadata": {
        "id": "9cVvBcwVxq9s"
      },
      "source": [
        "#! pip install pandas-profiling==2.8.0\n",
        "#from pandas_profiling import ProfileReport\n",
        "#ProfileReport (data_df)"
      ],
      "execution_count": 12,
      "outputs": []
    },
    {
      "cell_type": "markdown",
      "metadata": {
        "id": "NONt2HCxWd5X"
      },
      "source": [
        "# **Separação das amostras**"
      ]
    },
    {
      "cell_type": "code",
      "metadata": {
        "id": "KBjbH7d9NUnq"
      },
      "source": [
        "X = data_df.drop(columns='label')\n",
        "y = data_df.label\n",
        "\n",
        "# X_train, X_val, y_train, y_val = train_test_split(X, y, test_size = 0.2, random_state=42)"
      ],
      "execution_count": 10,
      "outputs": []
    },
    {
      "cell_type": "markdown",
      "metadata": {
        "id": "rgLimflCWSq3"
      },
      "source": [
        "# **Explorando os dados**"
      ]
    },
    {
      "cell_type": "markdown",
      "metadata": {
        "id": "-AAuWUVf6ocm"
      },
      "source": [
        "\n",
        "# **Type: Data Augumentation**"
      ]
    },
    {
      "cell_type": "markdown",
      "metadata": {
        "id": "G1xbq78zfV9i"
      },
      "source": [
        "## ** Esta função irá plotar as imagens num grid de 1 a 5 colunas **"
      ]
    },
    {
      "cell_type": "code",
      "metadata": {
        "id": "hjV3pOngCtA7"
      },
      "source": [
        "IMG_SHAPE = 28\n",
        "IMG_SHAPE_VGG16 = 32\n",
        "\n",
        "BATCH_SIZE = 128\n",
        "\n",
        "def plotImages(images_arr):\n",
        "    fig, axes = plt.subplots(1, 5, figsize=(20,20))\n",
        "    axes = axes.flatten()\n",
        "    for img, ax in zip(images_arr, axes):\n",
        "        ax.imshow(img)\n",
        "    plt.tight_layout()\n",
        "    plt.show()"
      ],
      "execution_count": 11,
      "outputs": []
    },
    {
      "cell_type": "code",
      "metadata": {
        "id": "Cw0IbS6mfdxM",
        "colab": {
          "base_uri": "https://localhost:8080/"
        },
        "outputId": "824ad74e-498f-4f7a-c5d4-ca8a47e8575a"
      },
      "source": [
        "# Dados de Treino e Validação\n",
        "\n",
        "datagen_train = ImageDataGenerator(rescale=1./255,\n",
        "                            #featurewise_center =False ,\n",
        "                            # samplewise_center =False ,\n",
        "                            # featurewise_std_normalization =False ,\n",
        "                            # samplewise_std_normalization =False ,\n",
        "                            # zca_whitening =False ,\n",
        "                            # zca_epsilon =1e -6 ,\n",
        "                            # channel_shift_range =0. ,\n",
        "                            # fill_mode = ’ nearest ’ ,\n",
        "                            # cval =0. ,\n",
        "                            rotation_range = 40,\n",
        "                            width_shift_range = 0.2,\n",
        "                            height_shift_range = 0.2,\n",
        "                            #shear_range = 0.2,\n",
        "                            #zoom_range = 0.2,\n",
        "                            horizontal_flip = True,\n",
        "                            vertical_flip = True,\n",
        "                            validation_split=0.2)\n",
        "\n",
        "train_generator = datagen_train.flow_from_dataframe(data_df,\n",
        "                                               batch_size=BATCH_SIZE,\n",
        "                                               x_col='path',\n",
        "                                               y_col= 'label',\n",
        "                                               shuffle=True,\n",
        "                                               target_size=(IMG_SHAPE,IMG_SHAPE),\n",
        "                                               class_mode='categorical',\n",
        "                                               subset='training')\n",
        "\n",
        "train_generator_VGG16 = datagen_train.flow_from_dataframe(data_df,\n",
        "                                               batch_size=BATCH_SIZE,\n",
        "                                               x_col='path',\n",
        "                                               y_col= 'label',\n",
        "                                               shuffle=True,\n",
        "                                               target_size=(IMG_SHAPE_VGG16,IMG_SHAPE_VGG16),\n",
        "                                               class_mode='categorical',\n",
        "                                               subset='training')\n",
        "\n",
        "datagen_val = ImageDataGenerator (rescale=1./255, \n",
        "                                 validation_split=0.2)\n",
        "\n",
        "\n",
        "validation_generator = datagen_val.flow_from_dataframe(data_df,\n",
        "                                                   batch_size=BATCH_SIZE,\n",
        "                                                   x_col='path',\n",
        "                                                   y_col='label',\n",
        "                                                   shuffle=True,\n",
        "                                                   target_size=(IMG_SHAPE,IMG_SHAPE),\n",
        "                                                   class_mode='categorical',\n",
        "                                                   subset='validation') \n",
        "\n",
        "validation_generator_VGG16 = datagen_val.flow_from_dataframe(data_df,\n",
        "                                                   batch_size=BATCH_SIZE,\n",
        "                                                   x_col='path',\n",
        "                                                   y_col='label',\n",
        "                                                   shuffle=True,\n",
        "                                                   target_size=(IMG_SHAPE_VGG16,IMG_SHAPE_VGG16),\n",
        "                                                   class_mode='categorical',\n",
        "                                                   subset='validation')   "
      ],
      "execution_count": 12,
      "outputs": [
        {
          "output_type": "stream",
          "name": "stdout",
          "text": [
            "Found 23999 validated image filenames belonging to 6 classes.\n",
            "Found 23999 validated image filenames belonging to 6 classes.\n",
            "Found 5999 validated image filenames belonging to 6 classes.\n",
            "Found 5999 validated image filenames belonging to 6 classes.\n"
          ]
        }
      ]
    },
    {
      "cell_type": "code",
      "metadata": {
        "colab": {
          "base_uri": "https://localhost:8080/"
        },
        "id": "i5sbJJeWlcv4",
        "outputId": "757a785b-f4b3-48a8-9126-4f2a6f8f7936"
      },
      "source": [
        "# Dados de Teste\n",
        "\n",
        "datagen_test = ImageDataGenerator (rescale=1./255, \n",
        "                                 validation_split=0.2)\n",
        "\n",
        "\n",
        "test_generator = datagen_test.flow_from_dataframe(data_df,\n",
        "                                                   batch_size=BATCH_SIZE,\n",
        "                                                   x_col='path',\n",
        "                                                   y_col='label',\n",
        "                                                   shuffle=False,\n",
        "                                                   target_size=(IMG_SHAPE,IMG_SHAPE),\n",
        "                                                   class_mode='categorical')\n",
        "                                                   #subset='validation') \n",
        "\n",
        "\n",
        "test_generator_VGG16 = datagen_test.flow_from_dataframe(data_df,\n",
        "                                                   batch_size=BATCH_SIZE,\n",
        "                                                   x_col='path',\n",
        "                                                   y_col='label',\n",
        "                                                   shuffle=False,\n",
        "                                                   target_size=(IMG_SHAPE_VGG16,IMG_SHAPE_VGG16),\n",
        "                                                   class_mode='categorical')\n",
        "                                                   #subset='validation') "
      ],
      "execution_count": 13,
      "outputs": [
        {
          "output_type": "stream",
          "name": "stdout",
          "text": [
            "Found 29998 validated image filenames belonging to 6 classes.\n",
            "Found 29998 validated image filenames belonging to 6 classes.\n"
          ]
        }
      ]
    },
    {
      "cell_type": "code",
      "metadata": {
        "colab": {
          "base_uri": "https://localhost:8080/",
          "height": 228
        },
        "id": "ShN0CzElfd9R",
        "outputId": "b70291ff-0bed-4568-ccb6-c97fadb93fa3"
      },
      "source": [
        "augmented_images = [train_generator[0][0][0] for i in range(5)]\n",
        "plotImages(augmented_images)"
      ],
      "execution_count": 14,
      "outputs": [
        {
          "output_type": "display_data",
          "data": {
            "image/png": "[encoded data removed]",
            "text/plain": [
              "<Figure size 1440x1440 with 5 Axes>"
            ]
          },
          "metadata": {
            "needs_background": "light"
          }
        }
      ]
    },
    {
      "cell_type": "markdown",
      "metadata": {
        "id": "UIPXX6y48mV-"
      },
      "source": [
        "# **Criando o Dataframe em dados de treino, validação e teste**"
      ]
    },
    {
      "cell_type": "code",
      "metadata": {
        "id": "ByYa1WtsGAOO",
        "colab": {
          "base_uri": "https://localhost:8080/"
        },
        "outputId": "f64451bd-78e8-4309-d10d-7663c098075c"
      },
      "source": [
        "class_dict=train_generator.class_indices\n",
        "labels= train_generator.labels\n",
        "file_names= train_generator.filenames \n",
        "\n",
        "class_dict"
      ],
      "execution_count": 15,
      "outputs": [
        {
          "output_type": "execute_result",
          "data": {
            "text/plain": [
              "{'andesite': 0,\n",
              " 'gneiss': 1,\n",
              " 'marbler': 2,\n",
              " 'quartzite': 3,\n",
              " 'rhyolite': 4,\n",
              " 'schist': 5}"
            ]
          },
          "metadata": {},
          "execution_count": 15
        }
      ]
    },
    {
      "cell_type": "code",
      "metadata": {
        "id": "397pKysWejrc",
        "colab": {
          "base_uri": "https://localhost:8080/"
        },
        "outputId": "b6538f92-7e7c-4938-d0b8-537f2986a068"
      },
      "source": [
        "X_train, y_train = next(train_generator)\n",
        "X_val, y_val = next(validation_generator)\n",
        "X_test, y_test = next(test_generator)\n",
        "\n",
        "X_trainVGG16, y_trainVGG16 = next(train_generator_VGG16)\n",
        "X_valVGG16, y_valVGG16 = next(validation_generator_VGG16)\n",
        "X_testVGG16, y_testVGG16 = next(test_generator_VGG16)\n",
        "\n",
        "print(X_val.shape)\n",
        "print(X_test)"
      ],
      "execution_count": 16,
      "outputs": [
        {
          "output_type": "stream",
          "name": "stdout",
          "text": [
            "(128, 28, 28, 3)\n",
            "[[[[0.9294118  0.95294124 0.95294124]\n",
            "   [0.8705883  0.882353   0.90196085]\n",
            "   [0.72156864 0.7490196  0.7803922 ]\n",
            "   ...\n",
            "   [0.67058825 0.7137255  0.69803923]\n",
            "   [0.7058824  0.72156864 0.7176471 ]\n",
            "   [0.70980394 0.73333335 0.7176471 ]]\n",
            "\n",
            "  [[0.8980393  0.96470594 0.94117653]\n",
            "   [0.854902   0.8862746  0.8980393 ]\n",
            "   [0.7176471  0.7294118  0.7568628 ]\n",
            "   ...\n",
            "   [0.6745098  0.7176471  0.7019608 ]\n",
            "   [0.7058824  0.72156864 0.7176471 ]\n",
            "   [0.70980394 0.73333335 0.7176471 ]]\n",
            "\n",
            "  [[0.85098046 0.95294124 0.9176471 ]\n",
            "   [0.83921576 0.87843144 0.882353  ]\n",
            "   [0.7254902  0.7137255  0.7411765 ]\n",
            "   ...\n",
            "   [0.68235296 0.7254902  0.70980394]\n",
            "   [0.7019608  0.7254902  0.7176471 ]\n",
            "   [0.7176471  0.7411765  0.7254902 ]]\n",
            "\n",
            "  ...\n",
            "\n",
            "  [[0.7490196  0.7803922  0.78823537]\n",
            "   [0.7725491  0.78823537 0.8000001 ]\n",
            "   [0.7725491  0.77647066 0.7843138 ]\n",
            "   ...\n",
            "   [0.69803923 0.72156864 0.7058824 ]\n",
            "   [0.6862745  0.7372549  0.70980394]\n",
            "   [0.6784314  0.7294118  0.7019608 ]]\n",
            "\n",
            "  [[0.7372549  0.79215693 0.79215693]\n",
            "   [0.7843138  0.81568635 0.8235295 ]\n",
            "   [0.77647066 0.8000001  0.8000001 ]\n",
            "   ...\n",
            "   [0.7019608  0.72156864 0.7058824 ]\n",
            "   [0.6862745  0.7372549  0.70980394]\n",
            "   [0.6784314  0.7411765  0.7019608 ]]\n",
            "\n",
            "  [[0.7411765  0.8196079  0.8117648 ]\n",
            "   [0.78823537 0.85098046 0.8470589 ]\n",
            "   [0.7843138  0.83921576 0.83921576]\n",
            "   ...\n",
            "   [0.69803923 0.7176471  0.7019608 ]\n",
            "   [0.6901961  0.73333335 0.70980394]\n",
            "   [0.68235296 0.74509805 0.7058824 ]]]\n",
            "\n",
            "\n",
            " [[[0.59607846 0.5882353  0.6392157 ]\n",
            "   [0.64705884 0.6039216  0.65882355]\n",
            "   [0.67058825 0.6039216  0.6431373 ]\n",
            "   ...\n",
            "   [0.5921569  0.61960787 0.5921569 ]\n",
            "   [0.5882353  0.58431375 0.5764706 ]\n",
            "   [0.6313726  0.60784316 0.6156863 ]]\n",
            "\n",
            "  [[0.63529414 0.627451   0.6784314 ]\n",
            "   [0.64705884 0.60784316 0.6509804 ]\n",
            "   [0.6509804  0.5882353  0.627451  ]\n",
            "   ...\n",
            "   [0.5921569  0.5921569  0.6       ]\n",
            "   [0.627451   0.60784316 0.62352943]\n",
            "   [0.6627451  0.6392157  0.654902  ]]\n",
            "\n",
            "  [[0.654902   0.6431373  0.6862745 ]\n",
            "   [0.63529414 0.59607846 0.6392157 ]\n",
            "   [0.6117647  0.56078434 0.5882353 ]\n",
            "   ...\n",
            "   [0.60784316 0.58431375 0.6       ]\n",
            "   [0.6784314  0.654902   0.67058825]\n",
            "   [0.7019608  0.68235296 0.69803923]]\n",
            "\n",
            "  ...\n",
            "\n",
            "  [[0.6509804  0.70980394 0.7294118 ]\n",
            "   [0.67058825 0.7254902  0.7372549 ]\n",
            "   [0.72156864 0.76470596 0.7725491 ]\n",
            "   ...\n",
            "   [0.7372549  0.7568628  0.7686275 ]\n",
            "   [0.7372549  0.7568628  0.7686275 ]\n",
            "   [0.7254902  0.7568628  0.76470596]]\n",
            "\n",
            "  [[0.6431373  0.7176471  0.73333335]\n",
            "   [0.6901961  0.7490196  0.7686275 ]\n",
            "   [0.7137255  0.75294125 0.7607844 ]\n",
            "   ...\n",
            "   [0.7411765  0.7607844  0.7725491 ]\n",
            "   [0.7372549  0.7568628  0.7686275 ]\n",
            "   [0.72156864 0.75294125 0.7607844 ]]\n",
            "\n",
            "  [[0.6392157  0.72156864 0.7411765 ]\n",
            "   [0.69411767 0.75294125 0.7725491 ]\n",
            "   [0.7019608  0.73333335 0.74509805]\n",
            "   ...\n",
            "   [0.7411765  0.7607844  0.7725491 ]\n",
            "   [0.7254902  0.7568628  0.76470596]\n",
            "   [0.7176471  0.7490196  0.7568628 ]]]\n",
            "\n",
            "\n",
            " [[[0.3921569  0.33333334 0.3529412 ]\n",
            "   [0.4039216  0.3803922  0.3803922 ]\n",
            "   [0.41960788 0.43921572 0.41176474]\n",
            "   ...\n",
            "   [0.28627452 0.29411766 0.2392157 ]\n",
            "   [0.17254902 0.18039216 0.1254902 ]\n",
            "   [0.24313727 0.24705884 0.19215688]]\n",
            "\n",
            "  [[0.38431376 0.34509805 0.34901962]\n",
            "   [0.4431373  0.43921572 0.42352945]\n",
            "   [0.39607847 0.427451   0.38431376]\n",
            "   ...\n",
            "   [0.30588236 0.3137255  0.25882354]\n",
            "   [0.23529413 0.2392157  0.18431373]\n",
            "   [0.3529412  0.34509805 0.29411766]]\n",
            "\n",
            "  [[0.41176474 0.39607847 0.38431376]\n",
            "   [0.36078432 0.37254903 0.34509805]\n",
            "   [0.38823533 0.41176474 0.37254903]\n",
            "   ...\n",
            "   [0.27058825 0.28627452 0.23137257]\n",
            "   [0.3803922  0.3803922  0.33333334]\n",
            "   [0.36078432 0.34509805 0.3019608 ]]\n",
            "\n",
            "  ...\n",
            "\n",
            "  [[0.36078432 0.37254903 0.34509805]\n",
            "   [0.19215688 0.19607845 0.16470589]\n",
            "   [0.21960786 0.21960786 0.18823531]\n",
            "   ...\n",
            "   [0.34901962 0.36078432 0.29411766]\n",
            "   [0.25882354 0.227451   0.1764706 ]\n",
            "   [0.23137257 0.16470589 0.1254902 ]]\n",
            "\n",
            "  [[0.41176474 0.42352945 0.39607847]\n",
            "   [0.20784315 0.18823531 0.17254902]\n",
            "   [0.25882354 0.22352943 0.20392159]\n",
            "   ...\n",
            "   [0.3529412  0.36862746 0.3019608 ]\n",
            "   [0.2784314  0.25490198 0.20000002]\n",
            "   [0.21960786 0.16470589 0.12156864]]\n",
            "\n",
            "  [[0.24313727 0.2392157  0.22352943]\n",
            "   [0.24313727 0.20000002 0.19215688]\n",
            "   [0.3921569  0.3372549  0.3254902 ]\n",
            "   ...\n",
            "   [0.37254903 0.40000004 0.3372549 ]\n",
            "   [0.3137255  0.30588236 0.25490198]\n",
            "   [0.23529413 0.19607845 0.15686275]]]\n",
            "\n",
            "\n",
            " ...\n",
            "\n",
            "\n",
            " [[[0.6313726  0.72156864 0.7843138 ]\n",
            "   [0.62352943 0.7137255  0.77647066]\n",
            "   [0.6156863  0.7058824  0.7686275 ]\n",
            "   ...\n",
            "   [0.6509804  0.7568628  0.8000001 ]\n",
            "   [0.6509804  0.7568628  0.8000001 ]\n",
            "   [0.6509804  0.7568628  0.8000001 ]]\n",
            "\n",
            "  [[0.6313726  0.72156864 0.7843138 ]\n",
            "   [0.63529414 0.7254902  0.78823537]\n",
            "   [0.63529414 0.7254902  0.78823537]\n",
            "   ...\n",
            "   [0.65882355 0.76470596 0.8078432 ]\n",
            "   [0.654902   0.7607844  0.80392164]\n",
            "   [0.6431373  0.7490196  0.79215693]]\n",
            "\n",
            "  [[0.6156863  0.7058824  0.7686275 ]\n",
            "   [0.63529414 0.7254902  0.78823537]\n",
            "   [0.6509804  0.7411765  0.80392164]\n",
            "   ...\n",
            "   [0.6431373  0.7490196  0.79215693]\n",
            "   [0.6431373  0.7490196  0.79215693]\n",
            "   [0.6313726  0.7372549  0.7803922 ]]\n",
            "\n",
            "  ...\n",
            "\n",
            "  [[0.52156866 0.6156863  0.6313726 ]\n",
            "   [0.5058824  0.6        0.6156863 ]\n",
            "   [0.50980395 0.6        0.62352943]\n",
            "   ...\n",
            "   [0.5882353  0.6745098  0.7294118 ]\n",
            "   [0.5882353  0.6745098  0.7294118 ]\n",
            "   [0.5921569  0.6784314  0.73333335]]\n",
            "\n",
            "  [[0.5372549  0.6156863  0.6431373 ]\n",
            "   [0.5176471  0.60784316 0.6313726 ]\n",
            "   [0.52156866 0.6117647  0.6431373 ]\n",
            "   ...\n",
            "   [0.5921569  0.6784314  0.73333335]\n",
            "   [0.59607846 0.68235296 0.7372549 ]\n",
            "   [0.6039216  0.6901961  0.74509805]]\n",
            "\n",
            "  [[0.5411765  0.61960787 0.64705884]\n",
            "   [0.53333336 0.6117647  0.64705884]\n",
            "   [0.52156866 0.6117647  0.6431373 ]\n",
            "   ...\n",
            "   [0.5882353  0.6745098  0.7294118 ]\n",
            "   [0.59607846 0.68235296 0.7372549 ]\n",
            "   [0.59607846 0.6862745  0.7411765 ]]]\n",
            "\n",
            "\n",
            " [[[0.4901961  0.47450984 0.47058827]\n",
            "   [0.49411768 0.4901961  0.48235297]\n",
            "   [0.48627454 0.4784314  0.48235297]\n",
            "   ...\n",
            "   [0.5411765  0.5176471  0.53333336]\n",
            "   [0.5882353  0.56078434 0.5882353 ]\n",
            "   [0.654902   0.6431373  0.6784314 ]]\n",
            "\n",
            "  [[0.49803925 0.49411768 0.48627454]\n",
            "   [0.5019608  0.49803925 0.4901961 ]\n",
            "   [0.48627454 0.4784314  0.48235297]\n",
            "   ...\n",
            "   [0.54509807 0.5294118  0.53333336]\n",
            "   [0.54509807 0.5254902  0.5411765 ]\n",
            "   [0.6156863  0.6117647  0.6431373 ]]\n",
            "\n",
            "  [[0.4901961  0.48627454 0.4784314 ]\n",
            "   [0.49411768 0.48627454 0.4901961 ]\n",
            "   [0.48627454 0.4784314  0.48235297]\n",
            "   ...\n",
            "   [0.57254905 0.5568628  0.5529412 ]\n",
            "   [0.5176471  0.5176471  0.5254902 ]\n",
            "   [0.5803922  0.5803922  0.6117647 ]]\n",
            "\n",
            "  ...\n",
            "\n",
            "  [[0.54509807 0.61960787 0.6117647 ]\n",
            "   [0.5686275  0.6156863  0.6156863 ]\n",
            "   [0.5294118  0.56078434 0.5686275 ]\n",
            "   ...\n",
            "   [0.5568628  0.5294118  0.56078434]\n",
            "   [0.5882353  0.5647059  0.6117647 ]\n",
            "   [0.5529412  0.56078434 0.60784316]]\n",
            "\n",
            "  [[0.53333336 0.6039216  0.6039216 ]\n",
            "   [0.5686275  0.6156863  0.6156863 ]\n",
            "   [0.5568628  0.5882353  0.59607846]\n",
            "   ...\n",
            "   [0.5372549  0.5294118  0.54901963]\n",
            "   [0.56078434 0.5568628  0.5803922 ]\n",
            "   [0.54509807 0.5764706  0.5882353 ]]\n",
            "\n",
            "  [[0.52156866 0.5921569  0.5921569 ]\n",
            "   [0.57254905 0.6156863  0.62352943]\n",
            "   [0.5764706  0.60784316 0.6156863 ]\n",
            "   ...\n",
            "   [0.5176471  0.5372549  0.54901963]\n",
            "   [0.52156866 0.5568628  0.5529412 ]\n",
            "   [0.5254902  0.58431375 0.5647059 ]]]\n",
            "\n",
            "\n",
            " [[[0.59607846 0.6862745  0.7490196 ]\n",
            "   [0.5882353  0.6784314  0.7411765 ]\n",
            "   [0.58431375 0.6745098  0.7372549 ]\n",
            "   ...\n",
            "   [0.62352943 0.73333335 0.7803922 ]\n",
            "   [0.6156863  0.7254902  0.7725491 ]\n",
            "   [0.61960787 0.7294118  0.77647066]]\n",
            "\n",
            "  [[0.6        0.6901961  0.75294125]\n",
            "   [0.58431375 0.6745098  0.7372549 ]\n",
            "   [0.5647059  0.654902   0.7176471 ]\n",
            "   ...\n",
            "   [0.6117647  0.72156864 0.7686275 ]\n",
            "   [0.6039216  0.7137255  0.7607844 ]\n",
            "   [0.60784316 0.7176471  0.76470596]]\n",
            "\n",
            "  [[0.5921569  0.68235296 0.74509805]\n",
            "   [0.58431375 0.6745098  0.7372549 ]\n",
            "   [0.5647059  0.654902   0.7176471 ]\n",
            "   ...\n",
            "   [0.6156863  0.7254902  0.7725491 ]\n",
            "   [0.60784316 0.7176471  0.76470596]\n",
            "   [0.6156863  0.7254902  0.7725491 ]]\n",
            "\n",
            "  ...\n",
            "\n",
            "  [[0.5294118  0.60784316 0.6431373 ]\n",
            "   [0.52156866 0.6        0.63529414]\n",
            "   [0.5137255  0.58431375 0.62352943]\n",
            "   ...\n",
            "   [0.61960787 0.7058824  0.7607844 ]\n",
            "   [0.59607846 0.68235296 0.7372549 ]\n",
            "   [0.5882353  0.6745098  0.7294118 ]]\n",
            "\n",
            "  [[0.53333336 0.60784316 0.63529414]\n",
            "   [0.5176471  0.5921569  0.61960787]\n",
            "   [0.50980395 0.58431375 0.6117647 ]\n",
            "   ...\n",
            "   [0.6392157  0.7294118  0.7843138 ]\n",
            "   [0.6156863  0.7019608  0.7568628 ]\n",
            "   [0.5921569  0.6784314  0.73333335]]\n",
            "\n",
            "  [[0.5176471  0.5921569  0.6156863 ]\n",
            "   [0.50980395 0.58431375 0.60784316]\n",
            "   [0.5058824  0.5803922  0.6039216 ]\n",
            "   ...\n",
            "   [0.64705884 0.7372549  0.79215693]\n",
            "   [0.627451   0.7137255  0.7686275 ]\n",
            "   [0.6        0.6862745  0.7411765 ]]]]\n"
          ]
        }
      ]
    },
    {
      "cell_type": "markdown",
      "metadata": {
        "id": "dXm8LYqv0_vK"
      },
      "source": [
        "# **Criar o modelo**"
      ]
    },
    {
      "cell_type": "code",
      "metadata": {
        "id": "ncctBTCAgG7d"
      },
      "source": [
        "num_classes = 6\n",
        "\n",
        "model = tf.keras.models.Sequential([\n",
        "    tf.keras.layers.Conv2D(64, (3,3), activation='relu', input_shape=(28,28,3)),\n",
        "    tf.keras.layers.BatchNormalization(),\n",
        "    tf.keras.layers.MaxPooling2D(2, 2),\n",
        "\n",
        "    tf.keras.layers.Conv2D(32, (3,3), activation='relu'),\n",
        "    tf.keras.layers.MaxPooling2D(2,2),\n",
        "\n",
        "    tf.keras.layers.Conv2D(16, (3,3), activation='relu'),\n",
        "    tf.keras.layers.MaxPooling2D(2,2),\n",
        "   \n",
        "\n",
        "    tf.keras.layers.Flatten(),\n",
        "    tf.keras.layers.Dense(1024, activation='relu'),\n",
        "    tf.keras.layers.Dropout(0.5),\n",
        "    tf.keras.layers.Dense(num_classes, activation='softmax')\n",
        "   \n",
        "])"
      ],
      "execution_count": 17,
      "outputs": []
    },
    {
      "cell_type": "markdown",
      "metadata": {
        "id": "cQvF_-VrbIhO"
      },
      "source": [
        "# **Compilando o Modelo**"
      ]
    },
    {
      "cell_type": "code",
      "metadata": {
        "id": "tseOThp5bLVl",
        "colab": {
          "base_uri": "https://localhost:8080/"
        },
        "outputId": "9c985c94-5430-4c3b-95ff-9cf763a7f75f"
      },
      "source": [
        "model.compile(optimizer = Adam(learning_rate=0.0001), \n",
        "               loss = 'categorical_crossentropy', \n",
        "               metrics =['accuracy'])\n",
        "model.summary()  "
      ],
      "execution_count": 18,
      "outputs": [
        {
          "output_type": "stream",
          "name": "stdout",
          "text": [
            "Model: \"sequential\"\n",
            "_________________________________________________________________\n",
            "Layer (type)                 Output Shape              Param #   \n",
            "=================================================================\n",
            "conv2d (Conv2D)              (None, 26, 26, 64)        1792      \n",
            "_________________________________________________________________\n",
            "batch_normalization (BatchNo (None, 26, 26, 64)        256       \n",
            "_________________________________________________________________\n",
            "max_pooling2d (MaxPooling2D) (None, 13, 13, 64)        0         \n",
            "_________________________________________________________________\n",
            "conv2d_1 (Conv2D)            (None, 11, 11, 32)        18464     \n",
            "_________________________________________________________________\n",
            "max_pooling2d_1 (MaxPooling2 (None, 5, 5, 32)          0         \n",
            "_________________________________________________________________\n",
            "conv2d_2 (Conv2D)            (None, 3, 3, 16)          4624      \n",
            "_________________________________________________________________\n",
            "max_pooling2d_2 (MaxPooling2 (None, 1, 1, 16)          0         \n",
            "_________________________________________________________________\n",
            "flatten (Flatten)            (None, 16)                0         \n",
            "_________________________________________________________________\n",
            "dense (Dense)                (None, 1024)              17408     \n",
            "_________________________________________________________________\n",
            "dropout (Dropout)            (None, 1024)              0         \n",
            "_________________________________________________________________\n",
            "dense_1 (Dense)              (None, 6)                 6150      \n",
            "=================================================================\n",
            "Total params: 48,694\n",
            "Trainable params: 48,566\n",
            "Non-trainable params: 128\n",
            "_________________________________________________________________\n"
          ]
        }
      ]
    },
    {
      "cell_type": "code",
      "metadata": {
        "id": "9Sr0YDZ8dCmz"
      },
      "source": [
        "callbacks_list = [\n",
        "    tf.keras.callbacks.ReduceLROnPlateau(factor=0.5,\n",
        "                                         patience=4,\n",
        "                                         verbose=0),\n",
        "    tf.keras.callbacks.EarlyStopping(\n",
        "        monitor=\"accuracy\",\n",
        "        patience=12,\n",
        "        restore_best_weights=True,\n",
        "    ),\n",
        "    tf.keras.callbacks.ModelCheckpoint(\n",
        "        filepath='best_model.h5',\n",
        "        monitor=\"val_accuracy\",\n",
        "        verbose=1,\n",
        "        save_best_only=True,\n",
        "        #save_weights_only=False,\n",
        "        #mode='auto',\n",
        "        #period=1,\n",
        "    ),\n",
        "\n",
        "]"
      ],
      "execution_count": 19,
      "outputs": []
    },
    {
      "cell_type": "markdown",
      "metadata": {
        "id": "IhQyiWIh1HQs"
      },
      "source": [
        "# **Avaliar o modelo**"
      ]
    },
    {
      "cell_type": "code",
      "metadata": {
        "id": "cwpnwl86dm74",
        "colab": {
          "base_uri": "https://localhost:8080/"
        },
        "outputId": "0704cb84-cf68-4db3-da59-f9a4f91667a3"
      },
      "source": [
        "epochs=100\n",
        "history = model.fit(X_train,y_train,\n",
        "                              epochs=epochs,\n",
        "                               verbose=1,\n",
        "                               callbacks=callbacks_list, \n",
        "                               #validation_split=0.2,\n",
        "                               #class_weight=class_weight_,\n",
        "                               steps_per_epoch = 23999/256,\n",
        "                               workers=4,\n",
        "                               use_multiprocessing=True,\n",
        "                               #validation_steps = 5999/512,\n",
        "                               validation_data=(X_val,y_val))"
      ],
      "execution_count": 20,
      "outputs": [
        {
          "output_type": "stream",
          "name": "stdout",
          "text": [
            "Epoch 1/100\n",
            "93/93 [==============================] - 33s 8ms/step - loss: 1.7438 - accuracy: 0.2394 - val_loss: 1.7768 - val_accuracy: 0.2109\n",
            "\n",
            "Epoch 00001: val_accuracy improved from -inf to 0.21094, saving model to best_model.h5\n",
            "Epoch 2/100\n",
            "93/93 [==============================] - 1s 6ms/step - loss: 1.6801 - accuracy: 0.2606 - val_loss: 1.7421 - val_accuracy: 0.3281\n",
            "\n",
            "Epoch 00002: val_accuracy improved from 0.21094 to 0.32812, saving model to best_model.h5\n",
            "Epoch 3/100\n",
            "93/93 [==============================] - 0s 5ms/step - loss: 1.5841 - accuracy: 0.3617 - val_loss: 1.6832 - val_accuracy: 0.5312\n",
            "\n",
            "Epoch 00003: val_accuracy improved from 0.32812 to 0.53125, saving model to best_model.h5\n",
            "Epoch 4/100\n",
            "93/93 [==============================] - 0s 5ms/step - loss: 1.4867 - accuracy: 0.3670 - val_loss: 1.5667 - val_accuracy: 0.6641\n",
            "\n",
            "Epoch 00004: val_accuracy improved from 0.53125 to 0.66406, saving model to best_model.h5\n",
            "Epoch 5/100\n",
            "93/93 [==============================] - 0s 5ms/step - loss: 1.3655 - accuracy: 0.4628 - val_loss: 1.3383 - val_accuracy: 0.6406\n",
            "\n",
            "Epoch 00005: val_accuracy did not improve from 0.66406\n",
            "Epoch 6/100\n",
            "93/93 [==============================] - 0s 5ms/step - loss: 1.1634 - accuracy: 0.5213 - val_loss: 1.1079 - val_accuracy: 0.6719\n",
            "\n",
            "Epoch 00006: val_accuracy improved from 0.66406 to 0.67188, saving model to best_model.h5\n",
            "Epoch 7/100\n",
            "93/93 [==============================] - 0s 5ms/step - loss: 1.0463 - accuracy: 0.6223 - val_loss: 0.9498 - val_accuracy: 0.6641\n",
            "\n",
            "Epoch 00007: val_accuracy did not improve from 0.67188\n",
            "Epoch 8/100\n",
            "93/93 [==============================] - 0s 5ms/step - loss: 0.9778 - accuracy: 0.6277 - val_loss: 0.8360 - val_accuracy: 0.6719\n",
            "\n",
            "Epoch 00008: val_accuracy did not improve from 0.67188\n",
            "Epoch 9/100\n",
            "93/93 [==============================] - 0s 5ms/step - loss: 1.0313 - accuracy: 0.5585 - val_loss: 1.0854 - val_accuracy: 0.4844\n",
            "\n",
            "Epoch 00009: val_accuracy did not improve from 0.67188\n",
            "Epoch 10/100\n",
            "93/93 [==============================] - 0s 5ms/step - loss: 0.8982 - accuracy: 0.6968 - val_loss: 0.6845 - val_accuracy: 0.7734\n",
            "\n",
            "Epoch 00010: val_accuracy improved from 0.67188 to 0.77344, saving model to best_model.h5\n",
            "Epoch 11/100\n",
            "93/93 [==============================] - 0s 5ms/step - loss: 0.7805 - accuracy: 0.7021 - val_loss: 0.5874 - val_accuracy: 0.8125\n",
            "\n",
            "Epoch 00011: val_accuracy improved from 0.77344 to 0.81250, saving model to best_model.h5\n",
            "Epoch 12/100\n",
            "93/93 [==============================] - 0s 5ms/step - loss: 0.6903 - accuracy: 0.7287 - val_loss: 0.7732 - val_accuracy: 0.7344\n",
            "\n",
            "Epoch 00012: val_accuracy did not improve from 0.81250\n",
            "Epoch 13/100\n",
            "93/93 [==============================] - 0s 5ms/step - loss: 0.6549 - accuracy: 0.7553 - val_loss: 0.7800 - val_accuracy: 0.6953\n",
            "\n",
            "Epoch 00013: val_accuracy did not improve from 0.81250\n",
            "Epoch 14/100\n",
            "93/93 [==============================] - 0s 5ms/step - loss: 0.6413 - accuracy: 0.7660 - val_loss: 0.5905 - val_accuracy: 0.7891\n",
            "\n",
            "Epoch 00014: val_accuracy did not improve from 0.81250\n",
            "Epoch 15/100\n",
            "93/93 [==============================] - 0s 5ms/step - loss: 0.6602 - accuracy: 0.7500 - val_loss: 0.5658 - val_accuracy: 0.8125\n",
            "\n",
            "Epoch 00015: val_accuracy did not improve from 0.81250\n",
            "Epoch 16/100\n",
            "93/93 [==============================] - 0s 5ms/step - loss: 0.5476 - accuracy: 0.8191 - val_loss: 0.6216 - val_accuracy: 0.7812\n",
            "\n",
            "Epoch 00016: val_accuracy did not improve from 0.81250\n",
            "Epoch 17/100\n",
            "93/93 [==============================] - 0s 5ms/step - loss: 0.5093 - accuracy: 0.8351 - val_loss: 0.5908 - val_accuracy: 0.7891\n",
            "\n",
            "Epoch 00017: val_accuracy did not improve from 0.81250\n",
            "Epoch 18/100\n",
            "93/93 [==============================] - 0s 5ms/step - loss: 0.4569 - accuracy: 0.8670 - val_loss: 0.5815 - val_accuracy: 0.8047\n",
            "\n",
            "Epoch 00018: val_accuracy did not improve from 0.81250\n",
            "Epoch 19/100\n",
            "93/93 [==============================] - 0s 5ms/step - loss: 0.4199 - accuracy: 0.8404 - val_loss: 0.5599 - val_accuracy: 0.8047\n",
            "\n",
            "Epoch 00019: val_accuracy did not improve from 0.81250\n",
            "Epoch 20/100\n",
            "93/93 [==============================] - 0s 5ms/step - loss: 0.3930 - accuracy: 0.8670 - val_loss: 0.6092 - val_accuracy: 0.7500\n",
            "\n",
            "Epoch 00020: val_accuracy did not improve from 0.81250\n",
            "Epoch 21/100\n",
            "93/93 [==============================] - 0s 5ms/step - loss: 0.3687 - accuracy: 0.8777 - val_loss: 0.6486 - val_accuracy: 0.7812\n",
            "\n",
            "Epoch 00021: val_accuracy did not improve from 0.81250\n",
            "Epoch 22/100\n",
            "93/93 [==============================] - 0s 5ms/step - loss: 0.3464 - accuracy: 0.9149 - val_loss: 0.5987 - val_accuracy: 0.7891\n",
            "\n",
            "Epoch 00022: val_accuracy did not improve from 0.81250\n",
            "Epoch 23/100\n",
            "93/93 [==============================] - 1s 6ms/step - loss: 0.3042 - accuracy: 0.9202 - val_loss: 0.5603 - val_accuracy: 0.7969\n",
            "\n",
            "Epoch 00023: val_accuracy did not improve from 0.81250\n",
            "Epoch 24/100\n",
            "93/93 [==============================] - 0s 5ms/step - loss: 0.2756 - accuracy: 0.9096 - val_loss: 0.4593 - val_accuracy: 0.8359\n",
            "\n",
            "Epoch 00024: val_accuracy improved from 0.81250 to 0.83594, saving model to best_model.h5\n",
            "Epoch 25/100\n",
            "93/93 [==============================] - 0s 5ms/step - loss: 0.2579 - accuracy: 0.9415 - val_loss: 0.5395 - val_accuracy: 0.8203\n",
            "\n",
            "Epoch 00025: val_accuracy did not improve from 0.83594\n",
            "Epoch 26/100\n",
            "93/93 [==============================] - 0s 5ms/step - loss: 0.2412 - accuracy: 0.9309 - val_loss: 0.4916 - val_accuracy: 0.8516\n",
            "\n",
            "Epoch 00026: val_accuracy improved from 0.83594 to 0.85156, saving model to best_model.h5\n",
            "Epoch 27/100\n",
            "93/93 [==============================] - 0s 5ms/step - loss: 0.2661 - accuracy: 0.9309 - val_loss: 0.5555 - val_accuracy: 0.7969\n",
            "\n",
            "Epoch 00027: val_accuracy did not improve from 0.85156\n",
            "Epoch 28/100\n",
            "93/93 [==============================] - 0s 5ms/step - loss: 0.2695 - accuracy: 0.9043 - val_loss: 0.6090 - val_accuracy: 0.8281\n",
            "\n",
            "Epoch 00028: val_accuracy did not improve from 0.85156\n",
            "Epoch 29/100\n",
            "93/93 [==============================] - 1s 6ms/step - loss: 0.2073 - accuracy: 0.9574 - val_loss: 0.5033 - val_accuracy: 0.8359\n",
            "\n",
            "Epoch 00029: val_accuracy did not improve from 0.85156\n",
            "Epoch 30/100\n",
            "93/93 [==============================] - 1s 6ms/step - loss: 0.2168 - accuracy: 0.9362 - val_loss: 0.4976 - val_accuracy: 0.8281\n",
            "\n",
            "Epoch 00030: val_accuracy did not improve from 0.85156\n",
            "Epoch 31/100\n",
            "93/93 [==============================] - 1s 6ms/step - loss: 0.2169 - accuracy: 0.9309 - val_loss: 0.4856 - val_accuracy: 0.8438\n",
            "\n",
            "Epoch 00031: val_accuracy did not improve from 0.85156\n",
            "Epoch 32/100\n",
            "93/93 [==============================] - 0s 5ms/step - loss: 0.2059 - accuracy: 0.9681 - val_loss: 0.4879 - val_accuracy: 0.8281\n",
            "\n",
            "Epoch 00032: val_accuracy did not improve from 0.85156\n",
            "Epoch 33/100\n",
            "93/93 [==============================] - 0s 5ms/step - loss: 0.1978 - accuracy: 0.9468 - val_loss: 0.5172 - val_accuracy: 0.8281\n",
            "\n",
            "Epoch 00033: val_accuracy did not improve from 0.85156\n",
            "Epoch 34/100\n",
            "93/93 [==============================] - 0s 5ms/step - loss: 0.1681 - accuracy: 0.9521 - val_loss: 0.5236 - val_accuracy: 0.8203\n",
            "\n",
            "Epoch 00034: val_accuracy did not improve from 0.85156\n",
            "Epoch 35/100\n",
            "93/93 [==============================] - 0s 5ms/step - loss: 0.1491 - accuracy: 0.9787 - val_loss: 0.5357 - val_accuracy: 0.8125\n",
            "\n",
            "Epoch 00035: val_accuracy did not improve from 0.85156\n",
            "Epoch 36/100\n",
            "93/93 [==============================] - 0s 5ms/step - loss: 0.1807 - accuracy: 0.9468 - val_loss: 0.5322 - val_accuracy: 0.8359\n",
            "\n",
            "Epoch 00036: val_accuracy did not improve from 0.85156\n",
            "Epoch 37/100\n",
            "93/93 [==============================] - 1s 6ms/step - loss: 0.1433 - accuracy: 0.9787 - val_loss: 0.5330 - val_accuracy: 0.8281\n",
            "\n",
            "Epoch 00037: val_accuracy did not improve from 0.85156\n",
            "Epoch 38/100\n",
            "93/93 [==============================] - 0s 5ms/step - loss: 0.1562 - accuracy: 0.9734 - val_loss: 0.5375 - val_accuracy: 0.8359\n",
            "\n",
            "Epoch 00038: val_accuracy did not improve from 0.85156\n",
            "Epoch 39/100\n",
            "93/93 [==============================] - 1s 6ms/step - loss: 0.1983 - accuracy: 0.9574 - val_loss: 0.5249 - val_accuracy: 0.8438\n",
            "\n",
            "Epoch 00039: val_accuracy did not improve from 0.85156\n",
            "Epoch 40/100\n",
            "93/93 [==============================] - 0s 5ms/step - loss: 0.1753 - accuracy: 0.9415 - val_loss: 0.5056 - val_accuracy: 0.8359\n",
            "\n",
            "Epoch 00040: val_accuracy did not improve from 0.85156\n",
            "Epoch 41/100\n",
            "93/93 [==============================] - 0s 5ms/step - loss: 0.2076 - accuracy: 0.9521 - val_loss: 0.5299 - val_accuracy: 0.8203\n",
            "\n",
            "Epoch 00041: val_accuracy did not improve from 0.85156\n",
            "Epoch 42/100\n",
            "93/93 [==============================] - 1s 5ms/step - loss: 0.1622 - accuracy: 0.9521 - val_loss: 0.5260 - val_accuracy: 0.8281\n",
            "\n",
            "Epoch 00042: val_accuracy did not improve from 0.85156\n",
            "Epoch 43/100\n",
            "93/93 [==============================] - 1s 6ms/step - loss: 0.1478 - accuracy: 0.9787 - val_loss: 0.5182 - val_accuracy: 0.8281\n",
            "\n",
            "Epoch 00043: val_accuracy did not improve from 0.85156\n",
            "Epoch 44/100\n",
            "93/93 [==============================] - 0s 5ms/step - loss: 0.1830 - accuracy: 0.9628 - val_loss: 0.5048 - val_accuracy: 0.8359\n",
            "\n",
            "Epoch 00044: val_accuracy did not improve from 0.85156\n",
            "Epoch 45/100\n",
            "93/93 [==============================] - 0s 5ms/step - loss: 0.1703 - accuracy: 0.9574 - val_loss: 0.5185 - val_accuracy: 0.8359\n",
            "\n",
            "Epoch 00045: val_accuracy did not improve from 0.85156\n",
            "Epoch 46/100\n",
            "93/93 [==============================] - 0s 5ms/step - loss: 0.1547 - accuracy: 0.9628 - val_loss: 0.5327 - val_accuracy: 0.8281\n",
            "\n",
            "Epoch 00046: val_accuracy did not improve from 0.85156\n",
            "Epoch 47/100\n",
            "93/93 [==============================] - 1s 6ms/step - loss: 0.1988 - accuracy: 0.9574 - val_loss: 0.5244 - val_accuracy: 0.8281\n",
            "\n",
            "Epoch 00047: val_accuracy did not improve from 0.85156\n"
          ]
        }
      ]
    },
    {
      "cell_type": "markdown",
      "metadata": {
        "id": "fXZP7HCxqpbS"
      },
      "source": [
        "**Deixe-nos representar graficamente a Precisão do treinamento versus perda para obter uma melhor compreensão do treinamento do modelo.**"
      ]
    },
    {
      "cell_type": "code",
      "metadata": {
        "colab": {
          "base_uri": "https://localhost:8080/",
          "height": 328
        },
        "id": "r2RLRG0mqfsv",
        "outputId": "c0819292-7ffd-4f6b-8939-4e886cc041e9"
      },
      "source": [
        "plt.figure(figsize=(10, 10))\n",
        "\n",
        "plt.subplot(2, 2, 1)\n",
        "plt.plot(history.history['loss'], label='Loss')\n",
        "plt.plot(history.history['val_loss'], label='Validation Loss')\n",
        "plt.legend()\n",
        "plt.title('Training - Loss Function')\n",
        "\n",
        "plt.subplot(2, 2, 2)\n",
        "plt.plot(history.history['accuracy'], label='Accuracy')\n",
        "plt.plot(history.history['val_accuracy'], label='Validation Accuracy')\n",
        "plt.legend()\n",
        "plt.title('Train - Accuracy')"
      ],
      "execution_count": 21,
      "outputs": [
        {
          "output_type": "execute_result",
          "data": {
            "text/plain": [
              "Text(0.5, 1.0, 'Train - Accuracy')"
            ]
          },
          "metadata": {},
          "execution_count": 21
        },
        {
          "output_type": "display_data",
          "data": {
            "image/png": "[encoded data removed]",
            "text/plain": [
              "<Figure size 720x720 with 2 Axes>"
            ]
          },
          "metadata": {
            "needs_background": "light"
          }
        }
      ]
    },
    {
      "cell_type": "markdown",
      "metadata": {
        "id": "D6gvFi_nY4NB"
      },
      "source": [
        "\n",
        "# **Vamos traçar a precisão do treinamento e da validação, bem como a perda.** "
      ]
    },
    {
      "cell_type": "code",
      "metadata": {
        "id": "HvI5gCDM5Djb",
        "colab": {
          "base_uri": "https://localhost:8080/",
          "height": 545
        },
        "outputId": "da73bf64-cd02-4770-cd18-7f46af6cfd9d"
      },
      "source": [
        "%matplotlib inline\n",
        "import matplotlib.pyplot as plt\n",
        "acc = history.history['accuracy']\n",
        "val_acc = history.history['val_accuracy']\n",
        "loss = history.history['loss']\n",
        "val_loss = history.history['val_loss']\n",
        "\n",
        "epochs = range(len(acc))\n",
        "\n",
        "plt.plot(epochs, acc, 'r', label='Training accuracy')\n",
        "plt.plot(epochs, val_acc, 'b', label='Validation accuracy')\n",
        "plt.title('Training and validation accuracy')\n",
        "plt.legend(loc=0)\n",
        "plt.figure()\n",
        "\n",
        "plt.plot(epochs, loss, 'r', label='Training Loss')\n",
        "plt.plot(epochs, val_loss, 'b', label='Validation Loss')\n",
        "plt.title('Training and validation loss')\n",
        "plt.legend()\n",
        "\n",
        "plt.show()"
      ],
      "execution_count": 22,
      "outputs": [
        {
          "output_type": "display_data",
          "data": {
            "image/png": "[encoded data removed]",
            "text/plain": [
              "<Figure size 432x288 with 1 Axes>"
            ]
          },
          "metadata": {
            "needs_background": "light"
          }
        },
        {
          "output_type": "display_data",
          "data": {
            "image/png": "[encoded data removed]",
            "text/plain": [
              "<Figure size 432x288 with 1 Axes>"
            ]
          },
          "metadata": {
            "needs_background": "light"
          }
        }
      ]
    },
    {
      "cell_type": "code",
      "metadata": {
        "id": "IMJbJ4iT8f4x",
        "colab": {
          "base_uri": "https://localhost:8080/",
          "height": 542
        },
        "outputId": "0644d7bf-c9bc-48de-83b5-343e476f5c23"
      },
      "source": [
        "history2= model.history.history\n",
        "px.line(history2,title = \"Metrics Plot\")"
      ],
      "execution_count": 26,
      "outputs": [
        {
          "output_type": "display_data",
          "data": {
            "text/html": [
              "<html>\n",
              "<head><meta charset=\"utf-8\" /></head>\n",
              "<body>\n",
              "    <div>\n",
              "            <script src=\"https://cdnjs.cloudflare.com/ajax/libs/mathjax/2.7.5/MathJax.js?config=TeX-AMS-MML_SVG\"></script><script type=\"text/javascript\">if (window.MathJax) {MathJax.Hub.Config({SVG: {font: \"STIX-Web\"}});}</script>\n",
              "                <script type=\"text/javascript\">window.PlotlyConfig = {MathJaxConfig: 'local'};</script>\n",
              "        <script src=\"https://cdn.plot.ly/plotly-latest.min.js\"></script>    \n",
              "            <div id=\"817d1cf1-ca9c-429f-9f77-fb8f67e2e846\" class=\"plotly-graph-div\" style=\"height:525px; width:100%;\"></div>\n",
              "            <script type=\"text/javascript\">\n",
              "                \n",
              "                    window.PLOTLYENV=window.PLOTLYENV || {};\n",
              "                    \n",
              "                if (document.getElementById(\"817d1cf1-ca9c-429f-9f77-fb8f67e2e846\")) {\n",
              "                    Plotly.newPlot(\n",
              "                        '817d1cf1-ca9c-429f-9f77-fb8f67e2e846',\n",
              "                        [],\n",
              "                        {\"legend\": {\"tracegroupgap\": 0}, \"template\": {\"data\": {\"bar\": [{\"error_x\": {\"color\": \"#2a3f5f\"}, \"error_y\": {\"color\": \"#2a3f5f\"}, \"marker\": {\"line\": {\"color\": \"#E5ECF6\", \"width\": 0.5}}, \"type\": \"bar\"}], \"barpolar\": [{\"marker\": {\"line\": {\"color\": \"#E5ECF6\", \"width\": 0.5}}, \"type\": \"barpolar\"}], \"carpet\": [{\"aaxis\": {\"endlinecolor\": \"#2a3f5f\", \"gridcolor\": \"white\", \"linecolor\": \"white\", \"minorgridcolor\": \"white\", \"startlinecolor\": \"#2a3f5f\"}, \"baxis\": {\"endlinecolor\": \"#2a3f5f\", \"gridcolor\": \"white\", \"linecolor\": \"white\", \"minorgridcolor\": \"white\", \"startlinecolor\": \"#2a3f5f\"}, \"type\": \"carpet\"}], \"choropleth\": [{\"colorbar\": {\"outlinewidth\": 0, \"ticks\": \"\"}, \"type\": \"choropleth\"}], \"contour\": [{\"colorbar\": {\"outlinewidth\": 0, \"ticks\": \"\"}, \"colorscale\": [[0.0, \"#0d0887\"], [0.1111111111111111, \"#46039f\"], [0.2222222222222222, \"#7201a8\"], [0.3333333333333333, \"#9c179e\"], [0.4444444444444444, \"#bd3786\"], [0.5555555555555556, \"#d8576b\"], [0.6666666666666666, \"#ed7953\"], [0.7777777777777778, \"#fb9f3a\"], [0.8888888888888888, \"#fdca26\"], [1.0, \"#f0f921\"]], \"type\": \"contour\"}], \"contourcarpet\": [{\"colorbar\": {\"outlinewidth\": 0, \"ticks\": \"\"}, \"type\": \"contourcarpet\"}], \"heatmap\": [{\"colorbar\": {\"outlinewidth\": 0, \"ticks\": \"\"}, \"colorscale\": [[0.0, \"#0d0887\"], [0.1111111111111111, \"#46039f\"], [0.2222222222222222, \"#7201a8\"], [0.3333333333333333, \"#9c179e\"], [0.4444444444444444, \"#bd3786\"], [0.5555555555555556, \"#d8576b\"], [0.6666666666666666, \"#ed7953\"], [0.7777777777777778, \"#fb9f3a\"], [0.8888888888888888, \"#fdca26\"], [1.0, \"#f0f921\"]], \"type\": \"heatmap\"}], \"heatmapgl\": [{\"colorbar\": {\"outlinewidth\": 0, \"ticks\": \"\"}, \"colorscale\": [[0.0, \"#0d0887\"], [0.1111111111111111, \"#46039f\"], [0.2222222222222222, \"#7201a8\"], [0.3333333333333333, \"#9c179e\"], [0.4444444444444444, \"#bd3786\"], [0.5555555555555556, \"#d8576b\"], [0.6666666666666666, \"#ed7953\"], [0.7777777777777778, \"#fb9f3a\"], [0.8888888888888888, \"#fdca26\"], [1.0, \"#f0f921\"]], \"type\": \"heatmapgl\"}], \"histogram\": [{\"marker\": {\"colorbar\": {\"outlinewidth\": 0, \"ticks\": \"\"}}, \"type\": \"histogram\"}], \"histogram2d\": [{\"colorbar\": {\"outlinewidth\": 0, \"ticks\": \"\"}, \"colorscale\": [[0.0, \"#0d0887\"], [0.1111111111111111, \"#46039f\"], [0.2222222222222222, \"#7201a8\"], [0.3333333333333333, \"#9c179e\"], [0.4444444444444444, \"#bd3786\"], [0.5555555555555556, \"#d8576b\"], [0.6666666666666666, \"#ed7953\"], [0.7777777777777778, \"#fb9f3a\"], [0.8888888888888888, \"#fdca26\"], [1.0, \"#f0f921\"]], \"type\": \"histogram2d\"}], \"histogram2dcontour\": [{\"colorbar\": {\"outlinewidth\": 0, \"ticks\": \"\"}, \"colorscale\": [[0.0, \"#0d0887\"], [0.1111111111111111, \"#46039f\"], [0.2222222222222222, \"#7201a8\"], [0.3333333333333333, \"#9c179e\"], [0.4444444444444444, \"#bd3786\"], [0.5555555555555556, \"#d8576b\"], [0.6666666666666666, \"#ed7953\"], [0.7777777777777778, \"#fb9f3a\"], [0.8888888888888888, \"#fdca26\"], [1.0, \"#f0f921\"]], \"type\": \"histogram2dcontour\"}], \"mesh3d\": [{\"colorbar\": {\"outlinewidth\": 0, \"ticks\": \"\"}, \"type\": \"mesh3d\"}], \"parcoords\": [{\"line\": {\"colorbar\": {\"outlinewidth\": 0, \"ticks\": \"\"}}, \"type\": \"parcoords\"}], \"pie\": [{\"automargin\": true, \"type\": \"pie\"}], \"scatter\": [{\"marker\": {\"colorbar\": {\"outlinewidth\": 0, \"ticks\": \"\"}}, \"type\": \"scatter\"}], \"scatter3d\": [{\"line\": {\"colorbar\": {\"outlinewidth\": 0, \"ticks\": \"\"}}, \"marker\": {\"colorbar\": {\"outlinewidth\": 0, \"ticks\": \"\"}}, \"type\": \"scatter3d\"}], \"scattercarpet\": [{\"marker\": {\"colorbar\": {\"outlinewidth\": 0, \"ticks\": \"\"}}, \"type\": \"scattercarpet\"}], \"scattergeo\": [{\"marker\": {\"colorbar\": {\"outlinewidth\": 0, \"ticks\": \"\"}}, \"type\": \"scattergeo\"}], \"scattergl\": [{\"marker\": {\"colorbar\": {\"outlinewidth\": 0, \"ticks\": \"\"}}, \"type\": \"scattergl\"}], \"scattermapbox\": [{\"marker\": {\"colorbar\": {\"outlinewidth\": 0, \"ticks\": \"\"}}, \"type\": \"scattermapbox\"}], \"scatterpolar\": [{\"marker\": {\"colorbar\": {\"outlinewidth\": 0, \"ticks\": \"\"}}, \"type\": \"scatterpolar\"}], \"scatterpolargl\": [{\"marker\": {\"colorbar\": {\"outlinewidth\": 0, \"ticks\": \"\"}}, \"type\": \"scatterpolargl\"}], \"scatterternary\": [{\"marker\": {\"colorbar\": {\"outlinewidth\": 0, \"ticks\": \"\"}}, \"type\": \"scatterternary\"}], \"surface\": [{\"colorbar\": {\"outlinewidth\": 0, \"ticks\": \"\"}, \"colorscale\": [[0.0, \"#0d0887\"], [0.1111111111111111, \"#46039f\"], [0.2222222222222222, \"#7201a8\"], [0.3333333333333333, \"#9c179e\"], [0.4444444444444444, \"#bd3786\"], [0.5555555555555556, \"#d8576b\"], [0.6666666666666666, \"#ed7953\"], [0.7777777777777778, \"#fb9f3a\"], [0.8888888888888888, \"#fdca26\"], [1.0, \"#f0f921\"]], \"type\": \"surface\"}], \"table\": [{\"cells\": {\"fill\": {\"color\": \"#EBF0F8\"}, \"line\": {\"color\": \"white\"}}, \"header\": {\"fill\": {\"color\": \"#C8D4E3\"}, \"line\": {\"color\": \"white\"}}, \"type\": \"table\"}]}, \"layout\": {\"annotationdefaults\": {\"arrowcolor\": \"#2a3f5f\", \"arrowhead\": 0, \"arrowwidth\": 1}, \"coloraxis\": {\"colorbar\": {\"outlinewidth\": 0, \"ticks\": \"\"}}, \"colorscale\": {\"diverging\": [[0, \"#8e0152\"], [0.1, \"#c51b7d\"], [0.2, \"#de77ae\"], [0.3, \"#f1b6da\"], [0.4, \"#fde0ef\"], [0.5, \"#f7f7f7\"], [0.6, \"#e6f5d0\"], [0.7, \"#b8e186\"], [0.8, \"#7fbc41\"], [0.9, \"#4d9221\"], [1, \"#276419\"]], \"sequential\": [[0.0, \"#0d0887\"], [0.1111111111111111, \"#46039f\"], [0.2222222222222222, \"#7201a8\"], [0.3333333333333333, \"#9c179e\"], [0.4444444444444444, \"#bd3786\"], [0.5555555555555556, \"#d8576b\"], [0.6666666666666666, \"#ed7953\"], [0.7777777777777778, \"#fb9f3a\"], [0.8888888888888888, \"#fdca26\"], [1.0, \"#f0f921\"]], \"sequentialminus\": [[0.0, \"#0d0887\"], [0.1111111111111111, \"#46039f\"], [0.2222222222222222, \"#7201a8\"], [0.3333333333333333, \"#9c179e\"], [0.4444444444444444, \"#bd3786\"], [0.5555555555555556, \"#d8576b\"], [0.6666666666666666, \"#ed7953\"], [0.7777777777777778, \"#fb9f3a\"], [0.8888888888888888, \"#fdca26\"], [1.0, \"#f0f921\"]]}, \"colorway\": [\"#636efa\", \"#EF553B\", \"#00cc96\", \"#ab63fa\", \"#FFA15A\", \"#19d3f3\", \"#FF6692\", \"#B6E880\", \"#FF97FF\", \"#FECB52\"], \"font\": {\"color\": \"#2a3f5f\"}, \"geo\": {\"bgcolor\": \"white\", \"lakecolor\": \"white\", \"landcolor\": \"#E5ECF6\", \"showlakes\": true, \"showland\": true, \"subunitcolor\": \"white\"}, \"hoverlabel\": {\"align\": \"left\"}, \"hovermode\": \"closest\", \"mapbox\": {\"style\": \"light\"}, \"paper_bgcolor\": \"white\", \"plot_bgcolor\": \"#E5ECF6\", \"polar\": {\"angularaxis\": {\"gridcolor\": \"white\", \"linecolor\": \"white\", \"ticks\": \"\"}, \"bgcolor\": \"#E5ECF6\", \"radialaxis\": {\"gridcolor\": \"white\", \"linecolor\": \"white\", \"ticks\": \"\"}}, \"scene\": {\"xaxis\": {\"backgroundcolor\": \"#E5ECF6\", \"gridcolor\": \"white\", \"gridwidth\": 2, \"linecolor\": \"white\", \"showbackground\": true, \"ticks\": \"\", \"zerolinecolor\": \"white\"}, \"yaxis\": {\"backgroundcolor\": \"#E5ECF6\", \"gridcolor\": \"white\", \"gridwidth\": 2, \"linecolor\": \"white\", \"showbackground\": true, \"ticks\": \"\", \"zerolinecolor\": \"white\"}, \"zaxis\": {\"backgroundcolor\": \"#E5ECF6\", \"gridcolor\": \"white\", \"gridwidth\": 2, \"linecolor\": \"white\", \"showbackground\": true, \"ticks\": \"\", \"zerolinecolor\": \"white\"}}, \"shapedefaults\": {\"line\": {\"color\": \"#2a3f5f\"}}, \"ternary\": {\"aaxis\": {\"gridcolor\": \"white\", \"linecolor\": \"white\", \"ticks\": \"\"}, \"baxis\": {\"gridcolor\": \"white\", \"linecolor\": \"white\", \"ticks\": \"\"}, \"bgcolor\": \"#E5ECF6\", \"caxis\": {\"gridcolor\": \"white\", \"linecolor\": \"white\", \"ticks\": \"\"}}, \"title\": {\"x\": 0.05}, \"xaxis\": {\"automargin\": true, \"gridcolor\": \"white\", \"linecolor\": \"white\", \"ticks\": \"\", \"title\": {\"standoff\": 15}, \"zerolinecolor\": \"white\", \"zerolinewidth\": 2}, \"yaxis\": {\"automargin\": true, \"gridcolor\": \"white\", \"linecolor\": \"white\", \"ticks\": \"\", \"title\": {\"standoff\": 15}, \"zerolinecolor\": \"white\", \"zerolinewidth\": 2}}}, \"title\": {\"text\": \"Metrics Plot\"}, \"xaxis\": {\"anchor\": \"y\", \"domain\": [0.0, 1.0]}, \"yaxis\": {\"anchor\": \"x\", \"domain\": [0.0, 1.0]}},\n",
              "                        {\"responsive\": true}\n",
              "                    ).then(function(){\n",
              "                            \n",
              "var gd = document.getElementById('817d1cf1-ca9c-429f-9f77-fb8f67e2e846');\n",
              "var x = new MutationObserver(function (mutations, observer) {{\n",
              "        var display = window.getComputedStyle(gd).display;\n",
              "        if (!display || display === 'none') {{\n",
              "            console.log([gd, 'removed!']);\n",
              "            Plotly.purge(gd);\n",
              "            observer.disconnect();\n",
              "        }}\n",
              "}});\n",
              "\n",
              "// Listen for the removal of the full notebook cells\n",
              "var notebookContainer = gd.closest('#notebook-container');\n",
              "if (notebookContainer) {{\n",
              "    x.observe(notebookContainer, {childList: true});\n",
              "}}\n",
              "\n",
              "// Listen for the clearing of the current output cell\n",
              "var outputEl = gd.closest('.output');\n",
              "if (outputEl) {{\n",
              "    x.observe(outputEl, {childList: true});\n",
              "}}\n",
              "\n",
              "                        })\n",
              "                };\n",
              "                \n",
              "            </script>\n",
              "        </div>\n",
              "</body>\n",
              "</html>"
            ]
          },
          "metadata": {}
        }
      ]
    },
    {
      "cell_type": "markdown",
      "metadata": {
        "id": "0G-slWFQ1KwJ"
      },
      "source": [
        "# **Otimizar o modelo**"
      ]
    },
    {
      "cell_type": "markdown",
      "metadata": {
        "id": "SukGrdFNTMWX"
      },
      "source": [
        "# **Avaliar acurácia  do Modelo**"
      ]
    },
    {
      "cell_type": "code",
      "metadata": {
        "id": "jHX9PR5gTQZA",
        "colab": {
          "base_uri": "https://localhost:8080/"
        },
        "outputId": "5512402e-e098-4847-e701-f253f5c444e5"
      },
      "source": [
        "model = tf.keras.models.load_model(\"best_model.h5\")\n",
        "\n",
        "test_loss, test_acc= model.evaluate(X_test,y_test)\n",
        "print(\"validation_accuracy: \" + str(test_acc))"
      ],
      "execution_count": 23,
      "outputs": [
        {
          "output_type": "stream",
          "name": "stdout",
          "text": [
            "4/4 [==============================] - 0s 5ms/step - loss: 0.4456 - accuracy: 0.8125\n",
            "validation_accuracy: 0.8125\n"
          ]
        }
      ]
    },
    {
      "cell_type": "markdown",
      "metadata": {
        "id": "WPvlnHQyjENH"
      },
      "source": [
        "# **Listando as redes realmente disponíveis em seu Keras**"
      ]
    },
    {
      "cell_type": "code",
      "metadata": {
        "colab": {
          "base_uri": "https://localhost:8080/"
        },
        "id": "r7rGxnabi9t2",
        "outputId": "aa6144a5-f4a1-4da1-fc72-fb8b49fe424a"
      },
      "source": [
        "import tensorflow.keras.applications as app\n",
        "print(dir(app))"
      ],
      "execution_count": 24,
      "outputs": [
        {
          "output_type": "stream",
          "name": "stdout",
          "text": [
            "['DenseNet121', 'DenseNet169', 'DenseNet201', 'EfficientNetB0', 'EfficientNetB1', 'EfficientNetB2', 'EfficientNetB3', 'EfficientNetB4', 'EfficientNetB5', 'EfficientNetB6', 'EfficientNetB7', 'InceptionResNetV2', 'InceptionV3', 'MobileNet', 'MobileNetV2', 'MobileNetV3Large', 'MobileNetV3Small', 'NASNetLarge', 'NASNetMobile', 'ResNet101', 'ResNet101V2', 'ResNet152', 'ResNet152V2', 'ResNet50', 'ResNet50V2', 'VGG16', 'VGG19', 'Xception', '__builtins__', '__cached__', '__doc__', '__file__', '__loader__', '__name__', '__package__', '__path__', '__spec__', '_sys', 'densenet', 'efficientnet', 'imagenet_utils', 'inception_resnet_v2', 'inception_v3', 'mobilenet', 'mobilenet_v2', 'mobilenet_v3', 'nasnet', 'resnet', 'resnet50', 'resnet_v2', 'vgg16', 'vgg19', 'xception']\n"
          ]
        }
      ]
    },
    {
      "cell_type": "markdown",
      "metadata": {
        "id": "TtHvNQkI2vle"
      },
      "source": [
        "# **O Modelo pre treinado VGG16**"
      ]
    },
    {
      "cell_type": "code",
      "metadata": {
        "id": "J5ri8TgbjjcD",
        "colab": {
          "base_uri": "https://localhost:8080/"
        },
        "outputId": "cc84d7df-b802-425d-dc24-4ba9bc46770f"
      },
      "source": [
        "# Inicializar a CNN\n",
        "\n",
        "classifier = VGG16(include_top=False,weights='imagenet',input_shape=(32,32,3))"
      ],
      "execution_count": 25,
      "outputs": [
        {
          "output_type": "stream",
          "name": "stdout",
          "text": [
            "Downloading data from https://storage.googleapis.com/tensorflow/keras-applications/vgg16/vgg16_weights_tf_dim_ordering_tf_kernels_notop.h5\n",
            "58892288/58889256 [==============================] - 1s 0us/step\n",
            "58900480/58889256 [==============================] - 1s 0us/step\n"
          ]
        }
      ]
    },
    {
      "cell_type": "code",
      "metadata": {
        "id": "6_sWdJk654Wn"
      },
      "source": [
        "#inp = tf.keras.Input((28,28,3))"
      ],
      "execution_count": 30,
      "outputs": []
    },
    {
      "cell_type": "code",
      "metadata": {
        "colab": {
          "base_uri": "https://localhost:8080/"
        },
        "id": "v-3FFMBQpKXo",
        "outputId": "27c6b215-0c91-4a5c-b7aa-82340be003e3"
      },
      "source": [
        "# marcar camadas como não treináveis\n",
        "for layer in classifier.layers:\n",
        "    layer.trainable = False\n",
        "\n",
        "# adicionar novas camadas para classificação\n",
        "\n",
        "flat1 = tf.keras.layers.Flatten()(classifier.layers[-1].output)\n",
        "flat1 = Dense(512, activation='relu', kernel_initializer='he_uniform')(flat1)\n",
        "flat1 = tf.keras.layers.Dropout(0.5)(flat1)\n",
        "output = Dense(6, activation='softmax')(flat1)\n",
        "\n",
        "# definir o modelo\n",
        "modelvgg16 = Model(inputs=classifier.inputs, outputs=output)\n",
        "\n",
        "modelvgg16.summary()"
      ],
      "execution_count": 29,
      "outputs": [
        {
          "output_type": "stream",
          "name": "stdout",
          "text": [
            "Model: \"model_2\"\n",
            "_________________________________________________________________\n",
            "Layer (type)                 Output Shape              Param #   \n",
            "=================================================================\n",
            "input_1 (InputLayer)         [(None, 32, 32, 3)]       0         \n",
            "_________________________________________________________________\n",
            "block1_conv1 (Conv2D)        (None, 32, 32, 64)        1792      \n",
            "_________________________________________________________________\n",
            "block1_conv2 (Conv2D)        (None, 32, 32, 64)        36928     \n",
            "_________________________________________________________________\n",
            "block1_pool (MaxPooling2D)   (None, 16, 16, 64)        0         \n",
            "_________________________________________________________________\n",
            "block2_conv1 (Conv2D)        (None, 16, 16, 128)       73856     \n",
            "_________________________________________________________________\n",
            "block2_conv2 (Conv2D)        (None, 16, 16, 128)       147584    \n",
            "_________________________________________________________________\n",
            "block2_pool (MaxPooling2D)   (None, 8, 8, 128)         0         \n",
            "_________________________________________________________________\n",
            "block3_conv1 (Conv2D)        (None, 8, 8, 256)         295168    \n",
            "_________________________________________________________________\n",
            "block3_conv2 (Conv2D)        (None, 8, 8, 256)         590080    \n",
            "_________________________________________________________________\n",
            "block3_conv3 (Conv2D)        (None, 8, 8, 256)         590080    \n",
            "_________________________________________________________________\n",
            "block3_pool (MaxPooling2D)   (None, 4, 4, 256)         0         \n",
            "_________________________________________________________________\n",
            "block4_conv1 (Conv2D)        (None, 4, 4, 512)         1180160   \n",
            "_________________________________________________________________\n",
            "block4_conv2 (Conv2D)        (None, 4, 4, 512)         2359808   \n",
            "_________________________________________________________________\n",
            "block4_conv3 (Conv2D)        (None, 4, 4, 512)         2359808   \n",
            "_________________________________________________________________\n",
            "block4_pool (MaxPooling2D)   (None, 2, 2, 512)         0         \n",
            "_________________________________________________________________\n",
            "block5_conv1 (Conv2D)        (None, 2, 2, 512)         2359808   \n",
            "_________________________________________________________________\n",
            "block5_conv2 (Conv2D)        (None, 2, 2, 512)         2359808   \n",
            "_________________________________________________________________\n",
            "block5_conv3 (Conv2D)        (None, 2, 2, 512)         2359808   \n",
            "_________________________________________________________________\n",
            "block5_pool (MaxPooling2D)   (None, 1, 1, 512)         0         \n",
            "_________________________________________________________________\n",
            "flatten_3 (Flatten)          (None, 512)               0         \n",
            "_________________________________________________________________\n",
            "dense_6 (Dense)              (None, 512)               262656    \n",
            "_________________________________________________________________\n",
            "dropout_2 (Dropout)          (None, 512)               0         \n",
            "_________________________________________________________________\n",
            "dense_7 (Dense)              (None, 6)                 3078      \n",
            "=================================================================\n",
            "Total params: 14,980,422\n",
            "Trainable params: 265,734\n",
            "Non-trainable params: 14,714,688\n",
            "_________________________________________________________________\n"
          ]
        }
      ]
    },
    {
      "cell_type": "code",
      "metadata": {
        "id": "wvbEuAEuQxLI"
      },
      "source": [
        "modelvgg16.compile(optimizer = Adam(learning_rate=0.0001), \n",
        "               loss = 'categorical_crossentropy', \n",
        "               metrics =['accuracy'])  \n",
        "\n",
        "callbacksvgg16 = [\n",
        "    tf.keras.callbacks.ReduceLROnPlateau(factor=0.5,\n",
        "                                         patience=4,\n",
        "                                         verbose=0),\n",
        "    tf.keras.callbacks.EarlyStopping(\n",
        "        monitor=\"accuracy\",\n",
        "        patience=12,\n",
        "        restore_best_weights=True,\n",
        "    ),\n",
        "    tf.keras.callbacks.ModelCheckpoint(\n",
        "        filepath='feature_extraction.vgg16',\n",
        "        save_best_only=True,\n",
        "        monitor=\"val_accuracy\",\n",
        "    ),\n",
        "\n",
        "]"
      ],
      "execution_count": 30,
      "outputs": []
    },
    {
      "cell_type": "code",
      "metadata": {
        "id": "Q49JsEYskH6B",
        "colab": {
          "base_uri": "https://localhost:8080/"
        },
        "outputId": "78135df3-f882-4b5c-fe1f-14e8b6c37e1b"
      },
      "source": [
        "epochs=100\n",
        "historyvgg16 = modelvgg16.fit(X_trainVGG16,y_trainVGG16,\n",
        "                    epochs=epochs,\n",
        "                     verbose=1,\n",
        "                    steps_per_epoch = 23999/256,\n",
        "                     callbacks=callbacksvgg16,\n",
        "                    validation_data=(X_valVGG16,y_valVGG16))\n",
        "                    #validation_steps = 5999/64)"
      ],
      "execution_count": 31,
      "outputs": [
        {
          "output_type": "stream",
          "name": "stdout",
          "text": [
            "Epoch 1/100\n",
            "93/93 [==============================] - 3s 21ms/step - loss: 1.8620 - accuracy: 0.2181 - val_loss: 1.5285 - val_accuracy: 0.4453\n",
            "INFO:tensorflow:Assets written to: feature_extraction.vgg16/assets\n",
            "Epoch 2/100\n",
            "93/93 [==============================] - 1s 14ms/step - loss: 1.4810 - accuracy: 0.4255 - val_loss: 1.2657 - val_accuracy: 0.6016\n",
            "INFO:tensorflow:Assets written to: feature_extraction.vgg16/assets\n",
            "Epoch 3/100\n",
            "93/93 [==============================] - 1s 13ms/step - loss: 1.2275 - accuracy: 0.5053 - val_loss: 1.1164 - val_accuracy: 0.6172\n",
            "INFO:tensorflow:Assets written to: feature_extraction.vgg16/assets\n",
            "Epoch 4/100\n",
            "93/93 [==============================] - 1s 13ms/step - loss: 1.0090 - accuracy: 0.6702 - val_loss: 1.0074 - val_accuracy: 0.6562\n",
            "INFO:tensorflow:Assets written to: feature_extraction.vgg16/assets\n",
            "Epoch 5/100\n",
            "93/93 [==============================] - 1s 13ms/step - loss: 0.8967 - accuracy: 0.7021 - val_loss: 0.9251 - val_accuracy: 0.6719\n",
            "INFO:tensorflow:Assets written to: feature_extraction.vgg16/assets\n",
            "Epoch 6/100\n",
            "93/93 [==============================] - 1s 13ms/step - loss: 0.8109 - accuracy: 0.7287 - val_loss: 0.8722 - val_accuracy: 0.6797\n",
            "INFO:tensorflow:Assets written to: feature_extraction.vgg16/assets\n",
            "Epoch 7/100\n",
            "93/93 [==============================] - 1s 13ms/step - loss: 0.7456 - accuracy: 0.7500 - val_loss: 0.8208 - val_accuracy: 0.6875\n",
            "INFO:tensorflow:Assets written to: feature_extraction.vgg16/assets\n",
            "Epoch 8/100\n",
            "93/93 [==============================] - 1s 14ms/step - loss: 0.7045 - accuracy: 0.7606 - val_loss: 0.7973 - val_accuracy: 0.6719\n",
            "Epoch 9/100\n",
            "93/93 [==============================] - 1s 13ms/step - loss: 0.6985 - accuracy: 0.7500 - val_loss: 0.7903 - val_accuracy: 0.6875\n",
            "Epoch 10/100\n",
            "93/93 [==============================] - 1s 13ms/step - loss: 0.6464 - accuracy: 0.7606 - val_loss: 0.7531 - val_accuracy: 0.7031\n",
            "INFO:tensorflow:Assets written to: feature_extraction.vgg16/assets\n",
            "Epoch 11/100\n",
            "93/93 [==============================] - 1s 13ms/step - loss: 0.6571 - accuracy: 0.7340 - val_loss: 0.7570 - val_accuracy: 0.6953\n",
            "Epoch 12/100\n",
            "93/93 [==============================] - 1s 13ms/step - loss: 0.5851 - accuracy: 0.7500 - val_loss: 0.7393 - val_accuracy: 0.7109\n",
            "INFO:tensorflow:Assets written to: feature_extraction.vgg16/assets\n",
            "Epoch 13/100\n",
            "93/93 [==============================] - 1s 13ms/step - loss: 0.5725 - accuracy: 0.7766 - val_loss: 0.7276 - val_accuracy: 0.7109\n",
            "Epoch 14/100\n",
            "93/93 [==============================] - 1s 13ms/step - loss: 0.4925 - accuracy: 0.8032 - val_loss: 0.7380 - val_accuracy: 0.7109\n",
            "Epoch 15/100\n",
            "93/93 [==============================] - 1s 13ms/step - loss: 0.5123 - accuracy: 0.8245 - val_loss: 0.6995 - val_accuracy: 0.7188\n",
            "INFO:tensorflow:Assets written to: feature_extraction.vgg16/assets\n",
            "Epoch 16/100\n",
            "93/93 [==============================] - 1s 16ms/step - loss: 0.4927 - accuracy: 0.8138 - val_loss: 0.7185 - val_accuracy: 0.7188\n",
            "Epoch 17/100\n",
            "93/93 [==============================] - 1s 13ms/step - loss: 0.4431 - accuracy: 0.8298 - val_loss: 0.6815 - val_accuracy: 0.7344\n",
            "INFO:tensorflow:Assets written to: feature_extraction.vgg16/assets\n",
            "Epoch 18/100\n",
            "93/93 [==============================] - 1s 13ms/step - loss: 0.4065 - accuracy: 0.8670 - val_loss: 0.7301 - val_accuracy: 0.7031\n",
            "Epoch 19/100\n",
            "93/93 [==============================] - 1s 12ms/step - loss: 0.3909 - accuracy: 0.8670 - val_loss: 0.6801 - val_accuracy: 0.7344\n",
            "Epoch 20/100\n",
            "93/93 [==============================] - 1s 13ms/step - loss: 0.4270 - accuracy: 0.8351 - val_loss: 0.6832 - val_accuracy: 0.7266\n",
            "Epoch 21/100\n",
            "93/93 [==============================] - 1s 13ms/step - loss: 0.4268 - accuracy: 0.8723 - val_loss: 0.6764 - val_accuracy: 0.7344\n",
            "Epoch 22/100\n",
            "93/93 [==============================] - 1s 14ms/step - loss: 0.3636 - accuracy: 0.8670 - val_loss: 0.7107 - val_accuracy: 0.7266\n",
            "Epoch 23/100\n",
            "93/93 [==============================] - 1s 13ms/step - loss: 0.3915 - accuracy: 0.8617 - val_loss: 0.6694 - val_accuracy: 0.7422\n",
            "INFO:tensorflow:Assets written to: feature_extraction.vgg16/assets\n",
            "Epoch 24/100\n",
            "93/93 [==============================] - 1s 12ms/step - loss: 0.3354 - accuracy: 0.8883 - val_loss: 0.6798 - val_accuracy: 0.7266\n",
            "Epoch 25/100\n",
            "93/93 [==============================] - 1s 13ms/step - loss: 0.3561 - accuracy: 0.8830 - val_loss: 0.7062 - val_accuracy: 0.7031\n",
            "Epoch 26/100\n",
            "93/93 [==============================] - 1s 14ms/step - loss: 0.3111 - accuracy: 0.8989 - val_loss: 0.6871 - val_accuracy: 0.7422\n",
            "Epoch 27/100\n",
            "93/93 [==============================] - 1s 13ms/step - loss: 0.3132 - accuracy: 0.8830 - val_loss: 0.6847 - val_accuracy: 0.7344\n",
            "Epoch 28/100\n",
            "93/93 [==============================] - 1s 12ms/step - loss: 0.3003 - accuracy: 0.8989 - val_loss: 0.6610 - val_accuracy: 0.7500\n",
            "INFO:tensorflow:Assets written to: feature_extraction.vgg16/assets\n",
            "Epoch 29/100\n",
            "93/93 [==============================] - 1s 14ms/step - loss: 0.3230 - accuracy: 0.9043 - val_loss: 0.6596 - val_accuracy: 0.7422\n",
            "Epoch 30/100\n",
            "93/93 [==============================] - 1s 14ms/step - loss: 0.3047 - accuracy: 0.9043 - val_loss: 0.6805 - val_accuracy: 0.7422\n",
            "Epoch 31/100\n",
            "93/93 [==============================] - 1s 14ms/step - loss: 0.2908 - accuracy: 0.8936 - val_loss: 0.6847 - val_accuracy: 0.7422\n",
            "Epoch 32/100\n",
            "93/93 [==============================] - 1s 13ms/step - loss: 0.3094 - accuracy: 0.9043 - val_loss: 0.6654 - val_accuracy: 0.7422\n",
            "Epoch 33/100\n",
            "93/93 [==============================] - 1s 13ms/step - loss: 0.2689 - accuracy: 0.9255 - val_loss: 0.6815 - val_accuracy: 0.7500\n",
            "Epoch 34/100\n",
            "93/93 [==============================] - 1s 14ms/step - loss: 0.3275 - accuracy: 0.8777 - val_loss: 0.6745 - val_accuracy: 0.7500\n",
            "Epoch 35/100\n",
            "93/93 [==============================] - 1s 13ms/step - loss: 0.2829 - accuracy: 0.8830 - val_loss: 0.6726 - val_accuracy: 0.7500\n",
            "Epoch 36/100\n",
            "93/93 [==============================] - 1s 12ms/step - loss: 0.2998 - accuracy: 0.9096 - val_loss: 0.6708 - val_accuracy: 0.7500\n",
            "Epoch 37/100\n",
            "93/93 [==============================] - 1s 12ms/step - loss: 0.2785 - accuracy: 0.8989 - val_loss: 0.6687 - val_accuracy: 0.7500\n",
            "Epoch 38/100\n",
            "93/93 [==============================] - 1s 13ms/step - loss: 0.2689 - accuracy: 0.9043 - val_loss: 0.6715 - val_accuracy: 0.7500\n",
            "Epoch 39/100\n",
            "93/93 [==============================] - 1s 14ms/step - loss: 0.2570 - accuracy: 0.9202 - val_loss: 0.6691 - val_accuracy: 0.7500\n",
            "Epoch 40/100\n",
            "93/93 [==============================] - 1s 13ms/step - loss: 0.2780 - accuracy: 0.9096 - val_loss: 0.6748 - val_accuracy: 0.7500\n",
            "Epoch 41/100\n",
            "93/93 [==============================] - 1s 13ms/step - loss: 0.2839 - accuracy: 0.9096 - val_loss: 0.6721 - val_accuracy: 0.7500\n",
            "Epoch 42/100\n",
            "93/93 [==============================] - 1s 13ms/step - loss: 0.2606 - accuracy: 0.9096 - val_loss: 0.6696 - val_accuracy: 0.7500\n",
            "Epoch 43/100\n",
            "93/93 [==============================] - 1s 13ms/step - loss: 0.2688 - accuracy: 0.8989 - val_loss: 0.6720 - val_accuracy: 0.7500\n",
            "Epoch 44/100\n",
            "93/93 [==============================] - 1s 13ms/step - loss: 0.2791 - accuracy: 0.9149 - val_loss: 0.6702 - val_accuracy: 0.7500\n",
            "Epoch 45/100\n",
            "93/93 [==============================] - 1s 13ms/step - loss: 0.2492 - accuracy: 0.9255 - val_loss: 0.6719 - val_accuracy: 0.7500\n"
          ]
        }
      ]
    },
    {
      "cell_type": "code",
      "metadata": {
        "id": "OzhMZWXqtWGz",
        "colab": {
          "base_uri": "https://localhost:8080/",
          "height": 545
        },
        "outputId": "c666591c-48cf-4dec-f169-85ebfe1f6380"
      },
      "source": [
        "%matplotlib inline\n",
        "import matplotlib.pyplot as plt\n",
        "acc = historyvgg16.history['accuracy']\n",
        "val_acc = historyvgg16.history['val_accuracy']\n",
        "loss = historyvgg16.history['loss']\n",
        "val_loss = historyvgg16.history['val_loss']\n",
        "\n",
        "epochs = range(len(acc))\n",
        "\n",
        "plt.plot(epochs, acc, 'r', label='Training accuracy')\n",
        "plt.plot(epochs, val_acc, 'b', label='Validation accuracy')\n",
        "plt.title('Training and validation accuracy')\n",
        "plt.legend(loc=0)\n",
        "plt.figure()\n",
        "\n",
        "plt.plot(epochs, loss, 'r', label='Training Loss')\n",
        "plt.plot(epochs, val_loss, 'b', label='Validation Loss')\n",
        "plt.title('Training and validation loss')\n",
        "plt.legend()\n",
        "\n",
        "plt.show()"
      ],
      "execution_count": 32,
      "outputs": [
        {
          "output_type": "display_data",
          "data": {
            "image/png": "[encoded data removed]",
            "text/plain": [
              "<Figure size 432x288 with 1 Axes>"
            ]
          },
          "metadata": {
            "needs_background": "light"
          }
        },
        {
          "output_type": "display_data",
          "data": {
            "image/png": "[encoded data removed]",
            "text/plain": [
              "<Figure size 432x288 with 1 Axes>"
            ]
          },
          "metadata": {
            "needs_background": "light"
          }
        }
      ]
    },
    {
      "cell_type": "code",
      "metadata": {
        "id": "Usw3n8GmtmXH",
        "colab": {
          "base_uri": "https://localhost:8080/"
        },
        "outputId": "292d7cbf-45ae-4dee-ab54-12629b75c24c"
      },
      "source": [
        "modelvgg16 = tf.keras.models.load_model(\"feature_extraction.vgg16\")\n",
        "\n",
        "test_lossvgg16, test_accvgg16= modelvgg16.evaluate(X_testVGG16,y_testVGG16)\n",
        "print(\"validation_accuracy: \" + str(test_accvgg16))"
      ],
      "execution_count": 33,
      "outputs": [
        {
          "output_type": "stream",
          "name": "stdout",
          "text": [
            "4/4 [==============================] - 0s 26ms/step - loss: 0.6433 - accuracy: 0.7500\n",
            "validation_accuracy: 0.75\n"
          ]
        }
      ]
    },
    {
      "cell_type": "markdown",
      "metadata": {
        "id": "MVOum8PiFwj5"
      },
      "source": [
        "# **Comparandos os modelos**"
      ]
    },
    {
      "cell_type": "code",
      "metadata": {
        "id": "g6AYQKDTtmlY",
        "colab": {
          "base_uri": "https://localhost:8080/",
          "height": 336
        },
        "outputId": "653c2806-c83b-4d86-ea57-bc991e00cfca"
      },
      "source": [
        "fig = plt.figure()\n",
        "ax = fig.add_axes([0,0,1,1])\n",
        "acc = [test_acc,test_accvgg16]\n",
        "model = ['Modelo Criado','VGG16']\n",
        "#model = ['Modelo Criado','VGG16','InceptionV3','EfficientNetB0','EfficientNetB7']\n",
        "ax.bar(model,acc)\n",
        "plt.show()"
      ],
      "execution_count": 34,
      "outputs": [
        {
          "output_type": "display_data",
          "data": {
            "image/png": "[encoded data removed]",
            "text/plain": [
              "<Figure size 432x288 with 1 Axes>"
            ]
          },
          "metadata": {
            "needs_background": "light"
          }
        }
      ]
    },
    {
      "cell_type": "markdown",
      "metadata": {
        "id": "7toSzftQcPLH"
      },
      "source": [
        "# **Realizar a Predição para as 6 classes**"
      ]
    },
    {
      "cell_type": "code",
      "metadata": {
        "id": "cQp4hLBD1b2Q",
        "colab": {
          "base_uri": "https://localhost:8080/",
          "height": 265
        },
        "outputId": "6e7a895a-039d-45a6-c26b-f55300401407"
      },
      "source": [
        "plt.figure()\n",
        "plt.imshow(X_train[i])\n",
        "plt.colorbar()\n",
        "plt.grid(False)\n",
        "image_shape = plt.show()"
      ],
      "execution_count": 135,
      "outputs": [
        {
          "output_type": "display_data",
          "data": {
            "image/png": "[encoded data removed]",
            "text/plain": [
              "<Figure size 432x288 with 2 Axes>"
            ]
          },
          "metadata": {
            "needs_background": "light"
          }
        }
      ]
    },
    {
      "cell_type": "code",
      "metadata": {
        "id": "1M1Izvvh9BRX",
        "outputId": "860d0f7c-5ad1-4ecc-83f3-b9c99bf04c7c",
        "colab": {
          "base_uri": "https://localhost:8080/",
          "height": 228
        }
      },
      "source": [
        "#image_shape = (28,28,1)\n",
        "#X_test = X_test.reshape(X_test.shape[0],*image_shape)\n",
        "\n",
        "pred = model.predict(X_test)\n",
        "\n",
        " \n",
        "\n",
        "\n",
        "#pred = np.argmax(pred, axis = 1)\n",
        "#pred = pd.DataFrame(pred).replace({0:'andesite',1:'gneiss',2:'marbler',3:'quartzite',4:'rhyolite',5:'schist'})\n",
        "\n",
        "#y_val_string = np.argmax(y_val, axis = 1)\n",
        "#y_val_string = pd.DataFrame(y_val_string).replace({0:'andesite',1:'gneiss',2:'marbler',3:'quartzite',4:'rhyolite',5:'schist'})"
      ],
      "execution_count": 137,
      "outputs": [
        {
          "output_type": "error",
          "ename": "AttributeError",
          "evalue": "ignored",
          "traceback": [
            "\u001b[0;31m---------------------------------------------------------------------------\u001b[0m",
            "\u001b[0;31mAttributeError\u001b[0m                            Traceback (most recent call last)",
            "\u001b[0;32m<ipython-input-137-d7508c2aea6b>\u001b[0m in \u001b[0;36m<module>\u001b[0;34m()\u001b[0m\n\u001b[1;32m      2\u001b[0m \u001b[0;31m#X_test = X_test.reshape(X_test.shape[0],*image_shape)\u001b[0m\u001b[0;34m\u001b[0m\u001b[0;34m\u001b[0m\u001b[0;34m\u001b[0m\u001b[0m\n\u001b[1;32m      3\u001b[0m \u001b[0;34m\u001b[0m\u001b[0m\n\u001b[0;32m----> 4\u001b[0;31m \u001b[0mpred\u001b[0m \u001b[0;34m=\u001b[0m \u001b[0mmodel\u001b[0m\u001b[0;34m.\u001b[0m\u001b[0mpredict\u001b[0m\u001b[0;34m(\u001b[0m\u001b[0mX_test\u001b[0m\u001b[0;34m)\u001b[0m\u001b[0;34m\u001b[0m\u001b[0;34m\u001b[0m\u001b[0m\n\u001b[0m\u001b[1;32m      5\u001b[0m \u001b[0;34m\u001b[0m\u001b[0m\n\u001b[1;32m      6\u001b[0m \u001b[0;34m\u001b[0m\u001b[0m\n",
            "\u001b[0;31mAttributeError\u001b[0m: 'list' object has no attribute 'predict'"
          ]
        }
      ]
    },
    {
      "cell_type": "markdown",
      "metadata": {
        "id": "N14GaXQK1x4C"
      },
      "source": [
        "Escalaremos esses valores no intervalo de 0 e 1 antes antes de alimentar o modelo da rede neural. Para fazer isso, dividimos os valores por 255. É importante que o conjunto de treinamento e o conjunto de teste podem ser pré-processados do mesmo modo:"
      ]
    },
    {
      "cell_type": "code",
      "metadata": {
        "id": "jerlMdae10kl"
      },
      "source": [
        "X_train = X_train /255\n",
        "X_test = X_test /255"
      ],
      "execution_count": 75,
      "outputs": []
    },
    {
      "cell_type": "code",
      "metadata": {
        "id": "ut4cvpNs2eGz",
        "colab": {
          "base_uri": "https://localhost:8080/",
          "height": 324
        },
        "outputId": "2d0e77af-bf46-446b-bb48-8ceea21a4eed"
      },
      "source": [
        "class_names = ['andesite','gneiss','marbler','quartzite','rhyolite','schist']\n",
        "\n",
        "plt.figure(figsize=(10, 10))\n",
        "for i in range(36):\n",
        "    plt.subplot(6, 6, i + 1)\n",
        "    plt.xticks([])\n",
        "    plt.yticks([])\n",
        "    plt.grid(False)\n",
        "    plt.imshow(X_train[i].reshape((28,28)))\n",
        "    label_index = int(y_train[i])\n",
        "    plt.title(class_names[label_index])\n",
        "plt.show()\n"
      ],
      "execution_count": 83,
      "outputs": [
        {
          "output_type": "error",
          "ename": "ValueError",
          "evalue": "ignored",
          "traceback": [
            "\u001b[0;31m---------------------------------------------------------------------------\u001b[0m",
            "\u001b[0;31mValueError\u001b[0m                                Traceback (most recent call last)",
            "\u001b[0;32m<ipython-input-83-01aba08848be>\u001b[0m in \u001b[0;36m<module>\u001b[0;34m()\u001b[0m\n\u001b[1;32m      7\u001b[0m     \u001b[0mplt\u001b[0m\u001b[0;34m.\u001b[0m\u001b[0myticks\u001b[0m\u001b[0;34m(\u001b[0m\u001b[0;34m[\u001b[0m\u001b[0;34m]\u001b[0m\u001b[0;34m)\u001b[0m\u001b[0;34m\u001b[0m\u001b[0;34m\u001b[0m\u001b[0m\n\u001b[1;32m      8\u001b[0m     \u001b[0mplt\u001b[0m\u001b[0;34m.\u001b[0m\u001b[0mgrid\u001b[0m\u001b[0;34m(\u001b[0m\u001b[0;32mFalse\u001b[0m\u001b[0;34m)\u001b[0m\u001b[0;34m\u001b[0m\u001b[0;34m\u001b[0m\u001b[0m\n\u001b[0;32m----> 9\u001b[0;31m     \u001b[0mplt\u001b[0m\u001b[0;34m.\u001b[0m\u001b[0mimshow\u001b[0m\u001b[0;34m(\u001b[0m\u001b[0mX_train\u001b[0m\u001b[0;34m[\u001b[0m\u001b[0mi\u001b[0m\u001b[0;34m]\u001b[0m\u001b[0;34m.\u001b[0m\u001b[0mreshape\u001b[0m\u001b[0;34m(\u001b[0m\u001b[0;34m(\u001b[0m\u001b[0;36m28\u001b[0m\u001b[0;34m,\u001b[0m\u001b[0;36m28\u001b[0m\u001b[0;34m)\u001b[0m\u001b[0;34m)\u001b[0m\u001b[0;34m)\u001b[0m\u001b[0;34m\u001b[0m\u001b[0;34m\u001b[0m\u001b[0m\n\u001b[0m\u001b[1;32m     10\u001b[0m     \u001b[0mlabel_index\u001b[0m \u001b[0;34m=\u001b[0m \u001b[0mint\u001b[0m\u001b[0;34m(\u001b[0m\u001b[0my_train\u001b[0m\u001b[0;34m[\u001b[0m\u001b[0mi\u001b[0m\u001b[0;34m]\u001b[0m\u001b[0;34m)\u001b[0m\u001b[0;34m\u001b[0m\u001b[0;34m\u001b[0m\u001b[0m\n\u001b[1;32m     11\u001b[0m     \u001b[0mplt\u001b[0m\u001b[0;34m.\u001b[0m\u001b[0mtitle\u001b[0m\u001b[0;34m(\u001b[0m\u001b[0mclass_names\u001b[0m\u001b[0;34m[\u001b[0m\u001b[0mlabel_index\u001b[0m\u001b[0;34m]\u001b[0m\u001b[0;34m)\u001b[0m\u001b[0;34m\u001b[0m\u001b[0;34m\u001b[0m\u001b[0m\n",
            "\u001b[0;31mValueError\u001b[0m: cannot reshape array of size 2352 into shape (28,28)"
          ]
        },
        {
          "output_type": "display_data",
          "data": {
            "image/png": "[encoded data removed]",
            "text/plain": [
              "<Figure size 720x720 with 1 Axes>"
            ]
          },
          "metadata": {}
        }
      ]
    },
    {
      "cell_type": "code",
      "metadata": {
        "id": "UW-VloEXue0w"
      },
      "source": [
        "# Codigo do Dr.(o)professor Leonardo Forero\n",
        "\n",
        "def plot_image(i, predictions_array, true_label, img):\n",
        "  predictions_array, true_label, img = predictions_array[i], true_label[i], img[i]\n",
        "  plt.grid(False)\n",
        "  plt.xticks([])\n",
        "  plt.yticks([])\n",
        "\n",
        "  plt.imshow(img, cmap=plt.cm.binary)\n",
        "\n",
        "  predicted_label = np.argmax(predictions_array)\n",
        "  if predicted_label == true_label:\n",
        "    color = 'blue'\n",
        "  else:\n",
        "    color = 'red'\n",
        "\n",
        "  plt.xlabel(\"{} {:2.0f}% ({})\".format(label[predicted_label],\n",
        "                                100*np.max(predictions_array),\n",
        "                                label[true_label]),\n",
        "                                color=color)\n",
        "\n",
        "def plot_value_array(i, predictions_array, true_label):\n",
        "  predictions_array, true_label = predictions_array[i], true_label[i]\n",
        "  plt.grid(False)\n",
        "  plt.xticks([])\n",
        "  plt.yticks([])\n",
        "  thisplot = plt.bar(range(10), predictions_array, color=\"#777777\")\n",
        "  plt.ylim([0, 1])\n",
        "  predicted_label = np.argmax(predictions_array)\n",
        "\n",
        "  thisplot[predicted_label].set_color('red')\n",
        "  thisplot[true_label].set_color('blue')"
      ],
      "execution_count": 84,
      "outputs": []
    },
    {
      "cell_type": "code",
      "metadata": {
        "id": "Q1ZVaJCavb1u",
        "colab": {
          "base_uri": "https://localhost:8080/",
          "height": 427
        },
        "outputId": "e150967d-23d6-4440-ad50-0fa9e32c18a9"
      },
      "source": [
        "i = 0\n",
        "plt.figure(figsize=(6,3))\n",
        "plt.subplot(1,2,1)\n",
        "plot_image(i, predictions, y_test, X_test)\n",
        "plt.subplot(1,2,2)\n",
        "plot_value_array(i, predictions,  y_test)\n",
        "plt.show()"
      ],
      "execution_count": 85,
      "outputs": [
        {
          "output_type": "error",
          "ename": "NameError",
          "evalue": "ignored",
          "traceback": [
            "\u001b[0;31m---------------------------------------------------------------------------\u001b[0m",
            "\u001b[0;31mNameError\u001b[0m                                 Traceback (most recent call last)",
            "\u001b[0;32m<ipython-input-85-c66d863e5a59>\u001b[0m in \u001b[0;36m<module>\u001b[0;34m()\u001b[0m\n\u001b[1;32m      2\u001b[0m \u001b[0mplt\u001b[0m\u001b[0;34m.\u001b[0m\u001b[0mfigure\u001b[0m\u001b[0;34m(\u001b[0m\u001b[0mfigsize\u001b[0m\u001b[0;34m=\u001b[0m\u001b[0;34m(\u001b[0m\u001b[0;36m6\u001b[0m\u001b[0;34m,\u001b[0m\u001b[0;36m3\u001b[0m\u001b[0;34m)\u001b[0m\u001b[0;34m)\u001b[0m\u001b[0;34m\u001b[0m\u001b[0;34m\u001b[0m\u001b[0m\n\u001b[1;32m      3\u001b[0m \u001b[0mplt\u001b[0m\u001b[0;34m.\u001b[0m\u001b[0msubplot\u001b[0m\u001b[0;34m(\u001b[0m\u001b[0;36m1\u001b[0m\u001b[0;34m,\u001b[0m\u001b[0;36m2\u001b[0m\u001b[0;34m,\u001b[0m\u001b[0;36m1\u001b[0m\u001b[0;34m)\u001b[0m\u001b[0;34m\u001b[0m\u001b[0;34m\u001b[0m\u001b[0m\n\u001b[0;32m----> 4\u001b[0;31m \u001b[0mplot_image\u001b[0m\u001b[0;34m(\u001b[0m\u001b[0mi\u001b[0m\u001b[0;34m,\u001b[0m \u001b[0mpredictions\u001b[0m\u001b[0;34m,\u001b[0m \u001b[0my_test\u001b[0m\u001b[0;34m,\u001b[0m \u001b[0mX_test\u001b[0m\u001b[0;34m)\u001b[0m\u001b[0;34m\u001b[0m\u001b[0;34m\u001b[0m\u001b[0m\n\u001b[0m\u001b[1;32m      5\u001b[0m \u001b[0mplt\u001b[0m\u001b[0;34m.\u001b[0m\u001b[0msubplot\u001b[0m\u001b[0;34m(\u001b[0m\u001b[0;36m1\u001b[0m\u001b[0;34m,\u001b[0m\u001b[0;36m2\u001b[0m\u001b[0;34m,\u001b[0m\u001b[0;36m2\u001b[0m\u001b[0;34m)\u001b[0m\u001b[0;34m\u001b[0m\u001b[0;34m\u001b[0m\u001b[0m\n\u001b[1;32m      6\u001b[0m \u001b[0mplot_value_array\u001b[0m\u001b[0;34m(\u001b[0m\u001b[0mi\u001b[0m\u001b[0;34m,\u001b[0m \u001b[0mpredictions\u001b[0m\u001b[0;34m,\u001b[0m  \u001b[0my_test\u001b[0m\u001b[0;34m)\u001b[0m\u001b[0;34m\u001b[0m\u001b[0;34m\u001b[0m\u001b[0m\n",
            "\u001b[0;31mNameError\u001b[0m: name 'predictions' is not defined"
          ]
        },
        {
          "output_type": "display_data",
          "data": {
            "image/png": "[encoded data removed]",
            "text/plain": [
              "<Figure size 432x216 with 1 Axes>"
            ]
          },
          "metadata": {
            "needs_background": "light"
          }
        }
      ]
    },
    {
      "cell_type": "code",
      "metadata": {
        "id": "6fd1COOBcEq-",
        "colab": {
          "base_uri": "https://localhost:8080/",
          "height": 178
        },
        "outputId": "156bab66-02dc-4cbc-9199-00e35b293930"
      },
      "source": [
        "predictions = model.predict(X_test)\n",
        "print(\"Prediction_accuracy: \" + str(predictions))"
      ],
      "execution_count": 86,
      "outputs": [
        {
          "output_type": "error",
          "ename": "AttributeError",
          "evalue": "ignored",
          "traceback": [
            "\u001b[0;31m---------------------------------------------------------------------------\u001b[0m",
            "\u001b[0;31mAttributeError\u001b[0m                            Traceback (most recent call last)",
            "\u001b[0;32m<ipython-input-86-ed61d70cdd33>\u001b[0m in \u001b[0;36m<module>\u001b[0;34m()\u001b[0m\n\u001b[0;32m----> 1\u001b[0;31m \u001b[0mpredictions\u001b[0m \u001b[0;34m=\u001b[0m \u001b[0mmodel\u001b[0m\u001b[0;34m.\u001b[0m\u001b[0mpredict\u001b[0m\u001b[0;34m(\u001b[0m\u001b[0mX_test\u001b[0m\u001b[0;34m)\u001b[0m\u001b[0;34m\u001b[0m\u001b[0;34m\u001b[0m\u001b[0m\n\u001b[0m\u001b[1;32m      2\u001b[0m \u001b[0mprint\u001b[0m\u001b[0;34m(\u001b[0m\u001b[0;34m\"Prediction_accuracy: \"\u001b[0m \u001b[0;34m+\u001b[0m \u001b[0mstr\u001b[0m\u001b[0;34m(\u001b[0m\u001b[0mpredictions\u001b[0m\u001b[0;34m)\u001b[0m\u001b[0;34m)\u001b[0m\u001b[0;34m\u001b[0m\u001b[0;34m\u001b[0m\u001b[0m\n",
            "\u001b[0;31mAttributeError\u001b[0m: 'list' object has no attribute 'predict'"
          ]
        }
      ]
    },
    {
      "cell_type": "code",
      "metadata": {
        "id": "pYKNqTvYIy56"
      },
      "source": [
        "predictions[0] # primeira predição"
      ],
      "execution_count": null,
      "outputs": []
    },
    {
      "cell_type": "code",
      "metadata": {
        "id": "aCmbcjolJstx"
      },
      "source": [
        "np.argmax(predictions[0])"
      ],
      "execution_count": null,
      "outputs": []
    },
    {
      "cell_type": "code",
      "metadata": {
        "id": "c81gyqxSpT8o"
      },
      "source": [
        "predictions = np.argmax(predictions)\n",
        "predictions"
      ],
      "execution_count": null,
      "outputs": []
    },
    {
      "cell_type": "code",
      "metadata": {
        "id": "Kaby35OAi4rH"
      },
      "source": [
        "y_test[0]"
      ],
      "execution_count": null,
      "outputs": []
    },
    {
      "cell_type": "code",
      "metadata": {
        "id": "-IwKBohOiOA_"
      },
      "source": [
        "from sklearn.metrics import confusion_matrix\n",
        "confusion_matrix(X_test,str(predictions))"
      ],
      "execution_count": null,
      "outputs": []
    },
    {
      "cell_type": "code",
      "metadata": {
        "id": "ZzAJDvFfA8S0"
      },
      "source": [
        ""
      ],
      "execution_count": null,
      "outputs": []
    }
  ]
}