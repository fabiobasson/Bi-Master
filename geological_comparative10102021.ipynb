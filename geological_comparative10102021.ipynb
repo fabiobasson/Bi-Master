{
  "nbformat": 4,
  "nbformat_minor": 0,
  "metadata": {
    "colab": {
      "name": "geological-image-similarity.ipynb",
      "provenance": [],
      "authorship_tag": "ABX9TyPyy0Zm8AGFHyb/Wv61+G8R",
      "include_colab_link": true
    },
    "kernelspec": {
      "name": "python3",
      "display_name": "Python 3"
    },
    "language_info": {
      "name": "python"
    },
    "accelerator": "GPU"
  },
  "cells": [
    {
      "cell_type": "markdown",
      "metadata": {
        "id": "view-in-github",
        "colab_type": "text"
      },
      "source": [
        "<a href=\"https://colab.research.google.com/github/fabiobasson/Bi-Master/blob/main/geological_comparative10102021.ipynb\" target=\"_parent\"><img src=\"https://colab.research.google.com/assets/colab-badge.svg\" alt=\"Open In Colab\"/></a>"
      ]
    },
    {
      "cell_type": "markdown",
      "metadata": {
        "id": "vAEEn_XMWXwe"
      },
      "source": [
        "# Projeto: Pós Graduação Business Intelligence Master PUC-RJ 2021\n",
        "\n",
        "**Tema:** Geological Image Comparative"
      ]
    },
    {
      "cell_type": "markdown",
      "metadata": {
        "id": "2qnbYG5VO2Kb"
      },
      "source": [
        "# **Descrição geral dos arquivos**"
      ]
    },
    {
      "cell_type": "markdown",
      "metadata": {
        "id": "CIhset2_O1IX"
      },
      "source": [
        "**geological_similarity/: armazena as imagens dos 6 tipos de rochas: **   \n",
        "\n",
        "* andesite/:diretório das imagens das rochas andesite;\n",
        "*   gneiss/:diretório das imagens das rochas gneiss;\n",
        "*   marble:diretório das imagens das rochas marble;\n",
        "*   quartzite:diretório das imagens das rochas quartzite;\n",
        "*   rhyolite:diretório das imagens das rochas rhyolite\n",
        "*   schist:diretório das imagens das rochas schist;\n",
        "\n",
        "    \n",
        "Este trabalho se concentrará na análise ...."
      ]
    },
    {
      "cell_type": "markdown",
      "metadata": {
        "id": "ek-dpdgUwrpq"
      },
      "source": [
        "# Importações das Bibliotecas"
      ]
    },
    {
      "cell_type": "code",
      "metadata": {
        "id": "BhMpCgi7O64x"
      },
      "source": [
        "import warnings\n",
        "warnings.filterwarnings('always')\n",
        "warnings.filterwarnings('ignore')\n",
        "\n",
        "import os\n",
        "import tensorflow as tf\n",
        "from tensorflow.keras import layers\n",
        "from tensorflow.keras import Model\n",
        "from tensorflow.keras.layers import Dense, Dropout\n",
        "from tensorflow.keras.utils import to_categorical\n",
        "\n",
        "from sklearn.preprocessing import LabelBinarizer\n",
        "\n",
        "from os import getcwd\n",
        "import zipfile\n",
        "import shutil\n",
        "import numpy as np\n",
        "import glob\n",
        "import random\n",
        "import pandas as pd\n",
        "import matplotlib.pyplot as plt\n",
        "from keras.utils import np_utils\n",
        "from PIL import Image\n",
        "import plotly.express as px\n",
        "import cv2 as cv\n",
        "from imutils import paths\n",
        "import matplotlib.pyplot as plt\n",
        "\n",
        "\n",
        "from tensorflow.keras.optimizers import RMSprop, Adam\n",
        "from tensorflow.keras.applications.vgg16 import VGG16\n",
        "from tensorflow.keras.applications.inception_v3 import InceptionV3\n",
        "from tensorflow.keras.preprocessing.image import ImageDataGenerator\n",
        "\n",
        "from sklearn.metrics import confusion_matrix,accuracy_score\n",
        "from sklearn.metrics import classification_report\n",
        "\n",
        "from sklearn.model_selection import train_test_split"
      ],
      "execution_count": 88,
      "outputs": []
    },
    {
      "cell_type": "markdown",
      "metadata": {
        "id": "UKZ4kMxyrhIn"
      },
      "source": [
        "# **Verificando as versões do Tensorflow e keras**"
      ]
    },
    {
      "cell_type": "code",
      "metadata": {
        "colab": {
          "base_uri": "https://localhost:8080/"
        },
        "id": "ye09bw6nVWgH",
        "outputId": "778a8fdb-284a-49c2-e83c-bea3ae4fe490"
      },
      "source": [
        "print(tf.__version__)\n",
        "\n",
        "# Instalar Tensorflow\n",
        "#!pip install tensorflow==2.6.0\n",
        "\n",
        "# Instalar Keras\n",
        "!pip install keras --upgrade"
      ],
      "execution_count": 56,
      "outputs": [
        {
          "output_type": "stream",
          "name": "stdout",
          "text": [
            "2.6.0\n",
            "Requirement already satisfied: keras in /usr/local/lib/python3.7/dist-packages (2.6.0)\n"
          ]
        }
      ]
    },
    {
      "cell_type": "code",
      "metadata": {
        "id": "qB35LCwK1F9Y"
      },
      "source": [
        "# Caso precise, remover os diretorios\n",
        "\n",
        "#!rm -rf geological_similarity andesite gneiss/ marble/ quartzite/ rhyolite/ schist/\n",
        "!rm -rf geological_similarity"
      ],
      "execution_count": 90,
      "outputs": []
    },
    {
      "cell_type": "markdown",
      "metadata": {
        "id": "WsBJvou07fbF"
      },
      "source": [
        "# **Coleta de dados do Kaglle**"
      ]
    },
    {
      "cell_type": "code",
      "metadata": {
        "colab": {
          "resources": {
            "http://localhost:8080/nbextensions/google.colab/files.js": {
              "data": "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",
              "ok": true,
              "headers": [
                [
                  "content-type",
                  "application/javascript"
                ]
              ],
              "status": 200,
              "status_text": ""
            }
          },
          "base_uri": "https://localhost:8080/",
          "height": 126
        },
        "id": "qPW1Uceu4EkK",
        "outputId": "2a49ef82-def3-4e51-d27c-6ed36b5113bb"
      },
      "source": [
        "from google.colab import files\n",
        "files.upload()\n",
        "\n",
        "!mkdir ~/.kaggle\n",
        "!cp kaggle.json ~/.kaggle/\n",
        "!chmod 600 ~/.kaggle/kaggle.\n",
        "\n",
        "#!kaggle datasets download fabiobasson/geologicalsimilarity\n",
        "#! unzip -qq  geologicalsimilarity\n",
        "!kaggle datasets download tanyadayanand/geological-image-similarity\n",
        "! unzip -qq geological-image-similarity   "
      ],
      "execution_count": 91,
      "outputs": [
        {
          "output_type": "display_data",
          "data": {
            "text/html": [
              "\n",
              "     <input type=\"file\" id=\"files-c7318c1b-d98f-455b-a0ec-dc3bdab6b55a\" name=\"files[]\" multiple disabled\n",
              "        style=\"border:none\" />\n",
              "     <output id=\"result-c7318c1b-d98f-455b-a0ec-dc3bdab6b55a\">\n",
              "      Upload widget is only available when the cell has been executed in the\n",
              "      current browser session. Please rerun this cell to enable.\n",
              "      </output>\n",
              "      <script src=\"/nbextensions/google.colab/files.js\"></script> "
            ],
            "text/plain": [
              "<IPython.core.display.HTML object>"
            ]
          },
          "metadata": {}
        },
        {
          "output_type": "stream",
          "name": "stdout",
          "text": [
            "Saving kaggle.json to kaggle (1).json\n",
            "mkdir: cannot create directory ‘/root/.kaggle’: File exists\n",
            "chmod: cannot access '/root/.kaggle/kaggle.': No such file or directory\n",
            "geological-image-similarity.zip: Skipping, found more recently modified local copy (use --force to force download)\n"
          ]
        }
      ]
    },
    {
      "cell_type": "markdown",
      "metadata": {
        "id": "owY2uo8A7q5j"
      },
      "source": [
        "# **Criação da estrutura e leitura de diretórios**"
      ]
    },
    {
      "cell_type": "code",
      "metadata": {
        "id": "QXSrUDeU4L7J",
        "colab": {
          "base_uri": "https://localhost:8080/"
        },
        "outputId": "fe6670f2-216e-4a41-e74f-f6e625946200"
      },
      "source": [
        "andesite_dir = glob.glob('geological_similarity/andesite/*.jpg');gneiss_dir = glob.glob('geological_similarity/gneiss/*.jpg')\n",
        "marble_dir= glob.glob('geological_similarity/marble/*.jpg');quartzite_dir = glob.glob('geological_similarity/quartzite/*.jpg')\n",
        "rhyolite_dir = glob.glob('geological_similarity/rhyolite/*.jpg');\n",
        "schist_dir = glob.glob('geological_similarity/schist/*.jpg')\n",
        "print(len(andesite_dir));print(len(gneiss_dir)); print(len(marble_dir)); print(len(quartzite_dir));  print(len(quartzite_dir)); print(len(schist_dir))\n",
        "\n",
        "andesite_df=[];gneiss_df=[];marble_df=[];quartzite_df=[];rhyolite_df=[];schist_df=[]\n",
        "\n",
        "label1=['andesite','gneiss','marble','quartzite','rhyolite','schist']\n",
        "\n",
        "for i in andesite_dir:\n",
        "    andesite_df.append([i,label1[0]])\n",
        "for j in gneiss_dir:\n",
        "   gneiss_df.append([j,label1[1]])\n",
        "for l in marble_dir:\n",
        "    marble_df.append([l,label1[2]])\n",
        "for m in quartzite_dir:\n",
        "    quartzite_df.append([m,label1[3]])\n",
        "for n in rhyolite_dir:\n",
        "    rhyolite_df.append([n,label1[4]])\n",
        "for o in schist_dir:\n",
        "    schist_df.append([o,label1[5]])\n",
        "   \n",
        "df = andesite_df + gneiss_df + marble_df  + quartzite_df + rhyolite_df + schist_df\n",
        "random.shuffle(df)\n",
        "len(df)\n"
      ],
      "execution_count": 58,
      "outputs": [
        {
          "output_type": "stream",
          "name": "stdout",
          "text": [
            "5000\n",
            "5000\n",
            "4998\n",
            "5000\n",
            "5000\n",
            "5000\n"
          ]
        }
      ]
    },
    {
      "cell_type": "code",
      "metadata": {
        "colab": {
          "base_uri": "https://localhost:8080/",
          "height": 423
        },
        "id": "87UeiF--wzh8",
        "outputId": "3208623f-7ea1-4b7f-cacc-707382879b34"
      },
      "source": [
        "# Criação do Dataframe\n",
        "data_df = pd.DataFrame(df,columns=['path','label'])\n",
        "data_df"
      ],
      "execution_count": 92,
      "outputs": [
        {
          "output_type": "execute_result",
          "data": {
            "text/html": [
              "<div>\n",
              "<style scoped>\n",
              "    .dataframe tbody tr th:only-of-type {\n",
              "        vertical-align: middle;\n",
              "    }\n",
              "\n",
              "    .dataframe tbody tr th {\n",
              "        vertical-align: top;\n",
              "    }\n",
              "\n",
              "    .dataframe thead th {\n",
              "        text-align: right;\n",
              "    }\n",
              "</style>\n",
              "<table border=\"1\" class=\"dataframe\">\n",
              "  <thead>\n",
              "    <tr style=\"text-align: right;\">\n",
              "      <th></th>\n",
              "      <th>path</th>\n",
              "      <th>label</th>\n",
              "    </tr>\n",
              "  </thead>\n",
              "  <tbody>\n",
              "    <tr>\n",
              "      <th>0</th>\n",
              "      <td>geological_similarity/schist/6YOB2.jpg</td>\n",
              "      <td>schist</td>\n",
              "    </tr>\n",
              "    <tr>\n",
              "      <th>1</th>\n",
              "      <td>geological_similarity/gneiss/SR82Q.jpg</td>\n",
              "      <td>gneiss</td>\n",
              "    </tr>\n",
              "    <tr>\n",
              "      <th>2</th>\n",
              "      <td>geological_similarity/quartzite/MRIER.jpg</td>\n",
              "      <td>quartzite</td>\n",
              "    </tr>\n",
              "    <tr>\n",
              "      <th>3</th>\n",
              "      <td>geological_similarity/gneiss/UUSTK.jpg</td>\n",
              "      <td>gneiss</td>\n",
              "    </tr>\n",
              "    <tr>\n",
              "      <th>4</th>\n",
              "      <td>geological_similarity/schist/28R84.jpg</td>\n",
              "      <td>schist</td>\n",
              "    </tr>\n",
              "    <tr>\n",
              "      <th>...</th>\n",
              "      <td>...</td>\n",
              "      <td>...</td>\n",
              "    </tr>\n",
              "    <tr>\n",
              "      <th>29993</th>\n",
              "      <td>geological_similarity/schist/CR9IV.jpg</td>\n",
              "      <td>schist</td>\n",
              "    </tr>\n",
              "    <tr>\n",
              "      <th>29994</th>\n",
              "      <td>geological_similarity/andesite/JLIDN.jpg</td>\n",
              "      <td>andesite</td>\n",
              "    </tr>\n",
              "    <tr>\n",
              "      <th>29995</th>\n",
              "      <td>geological_similarity/quartzite/UEJHU.jpg</td>\n",
              "      <td>quartzite</td>\n",
              "    </tr>\n",
              "    <tr>\n",
              "      <th>29996</th>\n",
              "      <td>geological_similarity/quartzite/SSXUY.jpg</td>\n",
              "      <td>quartzite</td>\n",
              "    </tr>\n",
              "    <tr>\n",
              "      <th>29997</th>\n",
              "      <td>geological_similarity/andesite/4DYXE.jpg</td>\n",
              "      <td>andesite</td>\n",
              "    </tr>\n",
              "  </tbody>\n",
              "</table>\n",
              "<p>29998 rows × 2 columns</p>\n",
              "</div>"
            ],
            "text/plain": [
              "                                            path      label\n",
              "0         geological_similarity/schist/6YOB2.jpg     schist\n",
              "1         geological_similarity/gneiss/SR82Q.jpg     gneiss\n",
              "2      geological_similarity/quartzite/MRIER.jpg  quartzite\n",
              "3         geological_similarity/gneiss/UUSTK.jpg     gneiss\n",
              "4         geological_similarity/schist/28R84.jpg     schist\n",
              "...                                          ...        ...\n",
              "29993     geological_similarity/schist/CR9IV.jpg     schist\n",
              "29994   geological_similarity/andesite/JLIDN.jpg   andesite\n",
              "29995  geological_similarity/quartzite/UEJHU.jpg  quartzite\n",
              "29996  geological_similarity/quartzite/SSXUY.jpg  quartzite\n",
              "29997   geological_similarity/andesite/4DYXE.jpg   andesite\n",
              "\n",
              "[29998 rows x 2 columns]"
            ]
          },
          "metadata": {},
          "execution_count": 92
        }
      ]
    },
    {
      "cell_type": "code",
      "metadata": {
        "id": "TZ7zohxAka0z",
        "colab": {
          "base_uri": "https://localhost:8080/"
        },
        "outputId": "abcfcc31-36f6-4d18-907a-d5a0e41b401f"
      },
      "source": [
        "dados=[]\n",
        "labels=[]\n",
        "\n",
        "for imagePath in data_df['path']:\n",
        "\n",
        "      label = imagePath.split(os.path.sep)[-2]\n",
        "\n",
        "      image = cv.imread(imagePath)\n",
        "      image = cv.cvtColor(image, cv.COLOR_BGR2RGB)\n",
        "      image = cv.resize(image, (32, 32))\n",
        "      \n",
        "      dados.append(image)\n",
        "      labels.append(label)\n",
        "      \n",
        "print(\"labels: \", np.unique(labels))"
      ],
      "execution_count": 93,
      "outputs": [
        {
          "output_type": "stream",
          "name": "stdout",
          "text": [
            "labels:  ['andesite' 'gneiss' 'marble' 'quartzite' 'rhyolite' 'schist']\n"
          ]
        }
      ]
    },
    {
      "cell_type": "code",
      "metadata": {
        "id": "NOcj8V_2lrIo",
        "colab": {
          "base_uri": "https://localhost:8080/"
        },
        "outputId": "2df9a32c-2244-42b4-bbe3-765bb21ab581"
      },
      "source": [
        "# Converter os dados e rótulos em matrizes NumPy enquanto dimensiona o pixel\n",
        "\n",
        "dados = np.array(dados) \n",
        "labels = np.array(labels)\n",
        "labels"
      ],
      "execution_count": 94,
      "outputs": [
        {
          "output_type": "execute_result",
          "data": {
            "text/plain": [
              "array(['schist', 'gneiss', 'quartzite', ..., 'quartzite', 'quartzite',\n",
              "       'andesite'], dtype='<U9')"
            ]
          },
          "metadata": {},
          "execution_count": 94
        }
      ]
    },
    {
      "cell_type": "code",
      "metadata": {
        "id": "H-w_jLX72jsi",
        "colab": {
          "base_uri": "https://localhost:8080/",
          "height": 592
        },
        "outputId": "c12e03e1-b4bc-4b73-dcf9-34d764965cef"
      },
      "source": [
        "plt.figure(figsize=(10, 10))\n",
        "plt.imshow(dados[labels=='marble'][5])\n",
        "plt.show()"
      ],
      "execution_count": 95,
      "outputs": [
        {
          "output_type": "display_data",
          "data": {
            "image/png": "[encoded data removed]",
            "text/plain": [
              "<Figure size 720x720 with 1 Axes>"
            ]
          },
          "metadata": {
            "needs_background": "light"
          }
        }
      ]
    },
    {
      "cell_type": "code",
      "metadata": {
        "id": "DQ7ltOFxyjrW",
        "colab": {
          "base_uri": "https://localhost:8080/"
        },
        "outputId": "229cac8a-dfa6-4479-d7c7-3bab3a963a7d"
      },
      "source": [
        "lb={'andesite':[1, 0, 0, 0, 0, 0] ,'gneiss':[0, 1, 0, 0, 0, 0] ,'marble':[0, 0, 1, 0, 0, 0], 'quartzite':[0, 0, 0, 1, 0, 0], 'rhyolite':[0, 0, 0, 0, 1, 0], 'schist':[0, 0, 0, 0, 0, 1]}\n",
        "len(labels)\n",
        "\n",
        "labels1 = [lb[label] for label in labels]\n",
        "labels1 = np.array(labels1)\n",
        "print(labels1)"
      ],
      "execution_count": 96,
      "outputs": [
        {
          "output_type": "stream",
          "name": "stdout",
          "text": [
            "[[0 0 0 0 0 1]\n",
            " [0 1 0 0 0 0]\n",
            " [0 0 0 1 0 0]\n",
            " ...\n",
            " [0 0 0 1 0 0]\n",
            " [0 0 0 1 0 0]\n",
            " [1 0 0 0 0 0]]\n"
          ]
        }
      ]
    },
    {
      "cell_type": "code",
      "metadata": {
        "id": "SE1UrEC_QZxh"
      },
      "source": [
        "# executa codificação one-hot nas tags\n",
        "#lb = LabelBinarizer()\n",
        "#labels2 = lb.fit_transform(labels)\n",
        "#labels2 = to_categorical(labels2)\n",
        "#labels2\n",
        "#type(labels2)"
      ],
      "execution_count": 13,
      "outputs": []
    },
    {
      "cell_type": "markdown",
      "metadata": {
        "id": "UIPXX6y48mV-"
      },
      "source": [
        "# **Criando o Dataframe em dados de treino, validação e teste**"
      ]
    },
    {
      "cell_type": "code",
      "metadata": {
        "id": "mwIj5M_l9t9-",
        "colab": {
          "base_uri": "https://localhost:8080/"
        },
        "outputId": "ed48e6ff-5448-460a-9955-32ac84998dd4"
      },
      "source": [
        "X_train, X_test, y_train, y_test  = train_test_split(dados, labels1, test_size=0.2, random_state=42)\n",
        "X_train, X_val, y_train, y_val   = train_test_split(X_train, y_train,test_size=0.25, random_state=42) # 0.25 x 0.8 = 0.2\n",
        "\n",
        "print(X_train.shape)\n",
        "print(y_train.shape)\n",
        "\n",
        "print(X_val.shape)\n",
        "print(y_val.shape)\n",
        "\n",
        "print(X_test.shape)\n",
        "print(y_test.shape)"
      ],
      "execution_count": 97,
      "outputs": [
        {
          "output_type": "stream",
          "name": "stdout",
          "text": [
            "(17998, 32, 32, 3)\n",
            "(17998, 6)\n",
            "(6000, 32, 32, 3)\n",
            "(6000, 6)\n",
            "(6000, 32, 32, 3)\n",
            "(6000, 6)\n"
          ]
        }
      ]
    },
    {
      "cell_type": "markdown",
      "metadata": {
        "id": "9azU6pZpscIw"
      },
      "source": [
        "### **Normalização  **"
      ]
    },
    {
      "cell_type": "code",
      "metadata": {
        "id": "--Cpp-sHOqRy"
      },
      "source": [
        "#X_train = X_train.reshape(X_train.shape[0], 28, 28, 3).astype('float32')\n",
        "#X_val = X_val.reshape(X_val.shape[0], 28, 28, 3).astype('float32')\n",
        "#X_test = X_test.reshape(X_test.shape[0], 28, 28, 3).astype('float32')\n",
        "\n",
        "X_train = X_train / 255.\n",
        "X_val = X_val / 255.\n",
        "X_test = X_test / 255."
      ],
      "execution_count": 66,
      "outputs": []
    },
    {
      "cell_type": "markdown",
      "metadata": {
        "id": "B-ruxpGkzqHx"
      },
      "source": [
        "#  Conhecendo os dados de imagem"
      ]
    },
    {
      "cell_type": "code",
      "metadata": {
        "id": "q0f0-HaP3cYM",
        "colab": {
          "base_uri": "https://localhost:8080/"
        },
        "outputId": "a568693f-f793-4da0-8f51-7ad88e502a58"
      },
      "source": [
        "from numpy import asarray\n",
        "image = Image.open(\"geological_similarity/gneiss/0QTQE.jpg\")\n",
        "# Método asarray para realizar a conversão:\n",
        "pixels= asarray(image)\n",
        "# Verificando a faixa de valores entre 0 e 255:\n",
        "print('Data Type: %s' % pixels.dtype)\n",
        "print('Min: %.3f, Max: %.3f' % (pixels.min(), pixels.max()))\n",
        "\n",
        "#Converte os valores inteiros em float para realizar a operação:\n",
        "pixels = pixels.astype('float32')\n",
        "# Normaliza a faixa de valores:\n",
        "pixels /= pixels.max()\n",
        "# Verificando a faixa de valores normalizada:\n",
        "print('Data Type: %s' % pixels.dtype)\n",
        "print('Min: %.3f, Max: %.3f' % (pixels.min(), pixels.max()))"
      ],
      "execution_count": 98,
      "outputs": [
        {
          "output_type": "stream",
          "name": "stdout",
          "text": [
            "Data Type: uint8\n",
            "Min: 32.000, Max: 251.000\n",
            "Data Type: float32\n",
            "Min: 0.127, Max: 1.000\n"
          ]
        }
      ]
    },
    {
      "cell_type": "markdown",
      "metadata": {
        "id": "XlUbajOTxHKl"
      },
      "source": [
        "# **Limpeza de dados**\n",
        "1 - Analisando os dados ausentes\n",
        "2 - Descartando os dados ausentes\n",
        "3 - Imputando dados\n",
        "4 - Acrescentando colunas informativas"
      ]
    },
    {
      "cell_type": "code",
      "metadata": {
        "id": "ybydrHWUvlbY",
        "colab": {
          "base_uri": "https://localhost:8080/",
          "height": 463
        },
        "outputId": "51b92167-a47b-4a43-a4ad-b19f7ef63829"
      },
      "source": [
        "### 1 - Analisando os dados ausentes ###\n",
        "\n",
        "import missingno as msno\n",
        "ax = msno.matrix(data_df.sample(400))"
      ],
      "execution_count": 68,
      "outputs": [
        {
          "output_type": "display_data",
          "data": {
            "image/png": "[encoded data removed]",
            "text/plain": [
              "<Figure size 1800x720 with 2 Axes>"
            ]
          },
          "metadata": {
            "needs_background": "light"
          }
        }
      ]
    },
    {
      "cell_type": "markdown",
      "metadata": {
        "id": "MZc34XkIcgA-"
      },
      "source": [
        "# ***Criação dos Parâmetros***"
      ]
    },
    {
      "cell_type": "code",
      "metadata": {
        "id": "e2ubYEBGcjJK"
      },
      "source": [
        "INIT_LR = 1e-3\n",
        "EPOCHS = 200\n",
        "BS=24"
      ],
      "execution_count": 99,
      "outputs": []
    },
    {
      "cell_type": "markdown",
      "metadata": {
        "id": "rgLimflCWSq3"
      },
      "source": [
        "# **Explorando os dados**"
      ]
    },
    {
      "cell_type": "markdown",
      "metadata": {
        "id": "-AAuWUVf6ocm"
      },
      "source": [
        "\n",
        "# **Type: Data Augumentation**"
      ]
    },
    {
      "cell_type": "markdown",
      "metadata": {
        "id": "G1xbq78zfV9i"
      },
      "source": [
        "## ** Esta função irá plotar as imagens num grid de 1 a 5 colunas **"
      ]
    },
    {
      "cell_type": "code",
      "metadata": {
        "id": "hjV3pOngCtA7"
      },
      "source": [
        "IMG_SHAPE = 32\n",
        "\n",
        "def plotImages(images_arr):\n",
        "    fig, axes = plt.subplots(1, 5, figsize=(20,20))\n",
        "    axes = axes.flatten()\n",
        "    for img, ax in zip(images_arr, axes):\n",
        "        ax.imshow(img)\n",
        "    plt.tight_layout()\n",
        "    plt.show()"
      ],
      "execution_count": 100,
      "outputs": []
    },
    {
      "cell_type": "code",
      "metadata": {
        "id": "Cw0IbS6mfdxM"
      },
      "source": [
        "# Dados de Treino e Validação\n",
        "\n",
        "datagen = ImageDataGenerator(rescale=1./255,\n",
        "                            #featurewise_center =False ,\n",
        "                            # samplewise_center =False ,\n",
        "                            # featurewise_std_normalization =False ,\n",
        "                            # samplewise_std_normalization =False ,\n",
        "                            # zca_whitening =False ,\n",
        "                            # zca_epsilon =1e -6 ,\n",
        "                            # channel_shift_range =0. ,\n",
        "                            # fill_mode = ’ nearest ’ ,\n",
        "                            # cval =0. ,\n",
        "                            rotation_range = 40,\n",
        "                            width_shift_range = 0.2,\n",
        "                            height_shift_range = 0.2,\n",
        "                            #shear_range = 0.2,\n",
        "                            #zoom_range = 0.2,\n",
        "                            horizontal_flip = True,\n",
        "                            vertical_flip = True,\n",
        "                            validation_split=0.2)\n",
        "\n",
        "datagen_val = ImageDataGenerator (rescale=1./255, \n",
        "                                 validation_split=0.2)"
      ],
      "execution_count": 101,
      "outputs": []
    },
    {
      "cell_type": "code",
      "metadata": {
        "id": "vhFOB4fdA87L",
        "colab": {
          "base_uri": "https://localhost:8080/"
        },
        "outputId": "7a03fc3d-a4d1-4bc2-a5a8-72465930134b"
      },
      "source": [
        "train_generator = datagen.flow_from_dataframe (data_df,\n",
        "    batch_size=BS,\n",
        "    x_col='path',\n",
        "    y_col= 'label',\n",
        "    shuffle=True,\n",
        "    target_size=(IMG_SHAPE,IMG_SHAPE),\n",
        "    class_mode='categorical',\n",
        "    subset='training')\n",
        "\n",
        "validation_generator = datagen_val.flow_from_dataframe (data_df,\n",
        "    batch_size=BS,\n",
        "    x_col='path',\n",
        "    y_col= 'label',\n",
        "    shuffle=True,\n",
        "    target_size=(IMG_SHAPE,IMG_SHAPE),\n",
        "    class_mode='categorical',\n",
        "    subset='validation')"
      ],
      "execution_count": 102,
      "outputs": [
        {
          "output_type": "stream",
          "name": "stdout",
          "text": [
            "Found 23999 validated image filenames belonging to 6 classes.\n",
            "Found 5999 validated image filenames belonging to 6 classes.\n"
          ]
        }
      ]
    },
    {
      "cell_type": "code",
      "metadata": {
        "colab": {
          "base_uri": "https://localhost:8080/"
        },
        "id": "i5sbJJeWlcv4",
        "outputId": "2de0d888-14bd-4f89-8f3b-c260c2adba4d"
      },
      "source": [
        "# Dados de Teste\n",
        "\n",
        "datagen_test = ImageDataGenerator (rescale=1./255, \n",
        "                                   #validation_split=0.8,\n",
        "                                  rotation_range = 40)\n",
        "\n",
        "test_generator = datagen_test.flow_from_dataframe(data_df,\n",
        "                                                   batch_size=1,\n",
        "                                                   x_col='path',\n",
        "                                                   y_col='label',\n",
        "                                                   shuffle=False,\n",
        "                                                   target_size=(IMG_SHAPE,IMG_SHAPE),\n",
        "                                                   class_mode='categorical')\n",
        "                                                   #subset='validation')"
      ],
      "execution_count": 103,
      "outputs": [
        {
          "output_type": "stream",
          "name": "stdout",
          "text": [
            "Found 29998 validated image filenames belonging to 6 classes.\n"
          ]
        }
      ]
    },
    {
      "cell_type": "code",
      "metadata": {
        "colab": {
          "base_uri": "https://localhost:8080/",
          "height": 229
        },
        "id": "ShN0CzElfd9R",
        "outputId": "dcbcb2ee-58e7-4090-9552-418f67afcc23"
      },
      "source": [
        "augmented_images = [train_generator[0][0][0] for i in range(5)]\n",
        "plotImages(augmented_images)"
      ],
      "execution_count": 78,
      "outputs": [
        {
          "output_type": "display_data",
          "data": {
            "image/png": "[encoded data removed]",
            "text/plain": [
              "<Figure size 1440x1440 with 5 Axes>"
            ]
          },
          "metadata": {
            "needs_background": "light"
          }
        }
      ]
    },
    {
      "cell_type": "code",
      "metadata": {
        "id": "ByYa1WtsGAOO",
        "colab": {
          "base_uri": "https://localhost:8080/"
        },
        "outputId": "abda1147-dfd7-4107-8fc4-187754e7d521"
      },
      "source": [
        "# comandos importantes\n",
        "class_dict=test_generator.class_indices\n",
        "labels= test_generator.labels\n",
        "file_names= test_generator.filenames \n",
        "\n",
        "train_generator.class_indices.keys()\n",
        "\n",
        "#X_test, y_test = next(test_generator) # não utilizado"
      ],
      "execution_count": 79,
      "outputs": [
        {
          "output_type": "execute_result",
          "data": {
            "text/plain": [
              "dict_keys(['andesite', 'gneiss', 'marble', 'quartzite', 'rhyolite', 'schist'])"
            ]
          },
          "metadata": {},
          "execution_count": 79
        }
      ]
    },
    {
      "cell_type": "markdown",
      "metadata": {
        "id": "dXm8LYqv0_vK"
      },
      "source": [
        "# **Criar o modelo**"
      ]
    },
    {
      "cell_type": "code",
      "metadata": {
        "id": "ncctBTCAgG7d"
      },
      "source": [
        "num_classes = 6\n",
        "\n",
        "model = tf.keras.models.Sequential([\n",
        "    tf.keras.layers.Conv2D(64, (3,3), activation='relu', input_shape=(32,32,3)),\n",
        "    tf.keras.layers.BatchNormalization(),\n",
        "    tf.keras.layers.MaxPooling2D(2, 2),\n",
        "\n",
        "    tf.keras.layers.Conv2D(32, (3,3), activation='relu'),\n",
        "    tf.keras.layers.BatchNormalization(),\n",
        "    tf.keras.layers.MaxPooling2D(2,2),\n",
        "\n",
        "    tf.keras.layers.Conv2D(16, (3,3), activation='relu'),\n",
        "    tf.keras.layers.BatchNormalization(),\n",
        "    tf.keras.layers.MaxPooling2D(2,2),\n",
        "   \n",
        "    tf.keras.layers.Flatten(),\n",
        "    tf.keras.layers.Dense(64, activation='relu'),\n",
        "    tf.keras.layers.Dropout(0.5),\n",
        "    #tf.keras.layers.Dense(32, activation='relu'),\n",
        "    tf.keras.layers.Dense(num_classes, activation='softmax')\n",
        "   \n",
        "])"
      ],
      "execution_count": 80,
      "outputs": []
    },
    {
      "cell_type": "markdown",
      "metadata": {
        "id": "uYguDeCcFoRw"
      },
      "source": [
        "\n",
        "# **O sumário do modelo Conv2D construído.**"
      ]
    },
    {
      "cell_type": "code",
      "metadata": {
        "colab": {
          "base_uri": "https://localhost:8080/",
          "height": 1000
        },
        "id": "ETVubiIyFYGI",
        "outputId": "30b4e5f4-eaac-41d3-fc06-19cf72e6b859"
      },
      "source": [
        "tf.keras.utils.plot_model(model, show_shapes=True)"
      ],
      "execution_count": 81,
      "outputs": [
        {
          "output_type": "execute_result",
          "data": {
            "image/png": "[encoded data removed]",
            "text/plain": [
              "<IPython.core.display.Image object>"
            ]
          },
          "metadata": {},
          "execution_count": 81
        }
      ]
    },
    {
      "cell_type": "markdown",
      "metadata": {
        "id": "cQvF_-VrbIhO"
      },
      "source": [
        "# **Compilando o Modelo**"
      ]
    },
    {
      "cell_type": "code",
      "metadata": {
        "id": "tseOThp5bLVl",
        "colab": {
          "base_uri": "https://localhost:8080/"
        },
        "outputId": "11f8f52f-6422-4d64-c2f3-5513e7090a0a"
      },
      "source": [
        "model.compile(optimizer = Adam(learning_rate=0.0001), \n",
        "               loss = 'categorical_crossentropy', \n",
        "               metrics =['accuracy'])\n",
        "model.summary()  "
      ],
      "execution_count": 82,
      "outputs": [
        {
          "output_type": "stream",
          "name": "stdout",
          "text": [
            "Model: \"sequential_1\"\n",
            "_________________________________________________________________\n",
            "Layer (type)                 Output Shape              Param #   \n",
            "=================================================================\n",
            "conv2d_3 (Conv2D)            (None, 30, 30, 64)        1792      \n",
            "_________________________________________________________________\n",
            "batch_normalization_3 (Batch (None, 30, 30, 64)        256       \n",
            "_________________________________________________________________\n",
            "max_pooling2d_3 (MaxPooling2 (None, 15, 15, 64)        0         \n",
            "_________________________________________________________________\n",
            "conv2d_4 (Conv2D)            (None, 13, 13, 32)        18464     \n",
            "_________________________________________________________________\n",
            "batch_normalization_4 (Batch (None, 13, 13, 32)        128       \n",
            "_________________________________________________________________\n",
            "max_pooling2d_4 (MaxPooling2 (None, 6, 6, 32)          0         \n",
            "_________________________________________________________________\n",
            "conv2d_5 (Conv2D)            (None, 4, 4, 16)          4624      \n",
            "_________________________________________________________________\n",
            "batch_normalization_5 (Batch (None, 4, 4, 16)          64        \n",
            "_________________________________________________________________\n",
            "max_pooling2d_5 (MaxPooling2 (None, 2, 2, 16)          0         \n",
            "_________________________________________________________________\n",
            "flatten_1 (Flatten)          (None, 64)                0         \n",
            "_________________________________________________________________\n",
            "dense_2 (Dense)              (None, 64)                4160      \n",
            "_________________________________________________________________\n",
            "dropout_1 (Dropout)          (None, 64)                0         \n",
            "_________________________________________________________________\n",
            "dense_3 (Dense)              (None, 6)                 390       \n",
            "=================================================================\n",
            "Total params: 29,878\n",
            "Trainable params: 29,654\n",
            "Non-trainable params: 224\n",
            "_________________________________________________________________\n"
          ]
        }
      ]
    },
    {
      "cell_type": "code",
      "metadata": {
        "id": "9Sr0YDZ8dCmz"
      },
      "source": [
        "callbacks_list = [\n",
        "    tf.keras.callbacks.ReduceLROnPlateau(factor=0.5,\n",
        "                                         patience=4,\n",
        "                                         verbose=0),\n",
        "    tf.keras.callbacks.EarlyStopping(\n",
        "        monitor=\"accuracy\",\n",
        "        patience=12,\n",
        "        restore_best_weights=True,\n",
        "    ),\n",
        "    tf.keras.callbacks.ModelCheckpoint(\n",
        "        filepath='best_model.h5',\n",
        "        monitor=\"val_accuracy\",\n",
        "        verbose=1,\n",
        "        save_best_only=True,\n",
        "        #save_weights_only=False,\n",
        "        #mode='auto',\n",
        "        #period=1,\n",
        "    ),\n",
        "\n",
        "]"
      ],
      "execution_count": 83,
      "outputs": []
    },
    {
      "cell_type": "markdown",
      "metadata": {
        "id": "IhQyiWIh1HQs"
      },
      "source": [
        "# ** Treinamento dos modelos\n",
        "Nesta etapa os modelos são expostos aos exames e suas saídas são comparadas às anotações realizadas pelos médicos, como forma de apurar a diferença na previsão e ajustar os parâmetros da rede em cima do erro identificado, de forma a torná-la mais apta em futuras iterações.\n",
        "\n",
        "Avaliar o modelo**"
      ]
    },
    {
      "cell_type": "code",
      "metadata": {
        "id": "cwpnwl86dm74",
        "colab": {
          "base_uri": "https://localhost:8080/"
        },
        "outputId": "7cf88fab-0063-48a3-a4d9-530323996db3"
      },
      "source": [
        "# Time (07/10/2021): rodando no ambiente Google Colab 1h e 6min \n",
        "\n",
        "history = model.fit(X_train,y_train,\n",
        "                               epochs=EPOCHS,\n",
        "                               verbose=1,\n",
        "                               callbacks=callbacks_list,\n",
        "                               steps_per_epoch = len(X_train)//BS, \n",
        "                               #validation_split=0.2,\n",
        "                               #class_weight=class_weight_,\n",
        "                               workers=4,\n",
        "                               use_multiprocessing=True,\n",
        "                               validation_steps = len(X_val)//BS,\n",
        "                               validation_data= (X_val,y_val))"
      ],
      "execution_count": 84,
      "outputs": [
        {
          "output_type": "stream",
          "name": "stdout",
          "text": [
            "Epoch 1/200\n",
            "749/749 [==============================] - 7s 8ms/step - loss: 0.8365 - accuracy: 0.6866 - val_loss: 0.3373 - val_accuracy: 0.8850\n",
            "\n",
            "Epoch 00001: val_accuracy improved from -inf to 0.88500, saving model to best_model.h5\n",
            "Epoch 2/200\n",
            "749/749 [==============================] - 6s 8ms/step - loss: 0.3736 - accuracy: 0.8725 - val_loss: 0.1914 - val_accuracy: 0.9285\n",
            "\n",
            "Epoch 00002: val_accuracy improved from 0.88500 to 0.92850, saving model to best_model.h5\n",
            "Epoch 3/200\n",
            "749/749 [==============================] - 6s 8ms/step - loss: 0.2965 - accuracy: 0.9001 - val_loss: 0.1487 - val_accuracy: 0.9487\n",
            "\n",
            "Epoch 00003: val_accuracy improved from 0.92850 to 0.94867, saving model to best_model.h5\n",
            "Epoch 4/200\n",
            "749/749 [==============================] - 6s 8ms/step - loss: 0.2507 - accuracy: 0.9168 - val_loss: 0.1535 - val_accuracy: 0.9488\n",
            "\n",
            "Epoch 00004: val_accuracy improved from 0.94867 to 0.94883, saving model to best_model.h5\n",
            "Epoch 5/200\n",
            "749/749 [==============================] - 6s 8ms/step - loss: 0.2209 - accuracy: 0.9254 - val_loss: 0.1361 - val_accuracy: 0.9490\n",
            "\n",
            "Epoch 00005: val_accuracy improved from 0.94883 to 0.94900, saving model to best_model.h5\n",
            "Epoch 6/200\n",
            "749/749 [==============================] - 6s 8ms/step - loss: 0.2099 - accuracy: 0.9318 - val_loss: 0.1760 - val_accuracy: 0.9350\n",
            "\n",
            "Epoch 00006: val_accuracy did not improve from 0.94900\n",
            "Epoch 7/200\n",
            "749/749 [==============================] - 6s 8ms/step - loss: 0.1768 - accuracy: 0.9406 - val_loss: 0.1558 - val_accuracy: 0.9470\n",
            "\n",
            "Epoch 00007: val_accuracy did not improve from 0.94900\n",
            "Epoch 8/200\n",
            "749/749 [==============================] - 6s 8ms/step - loss: 0.1759 - accuracy: 0.9417 - val_loss: 0.1003 - val_accuracy: 0.9660\n",
            "\n",
            "Epoch 00008: val_accuracy improved from 0.94900 to 0.96600, saving model to best_model.h5\n",
            "Epoch 9/200\n",
            "749/749 [==============================] - 6s 8ms/step - loss: 0.1592 - accuracy: 0.9493 - val_loss: 1.0308 - val_accuracy: 0.7948\n",
            "\n",
            "Epoch 00009: val_accuracy did not improve from 0.96600\n",
            "Epoch 10/200\n",
            "749/749 [==============================] - 6s 8ms/step - loss: 0.1585 - accuracy: 0.9478 - val_loss: 0.0990 - val_accuracy: 0.9632\n",
            "\n",
            "Epoch 00010: val_accuracy did not improve from 0.96600\n",
            "Epoch 11/200\n",
            "749/749 [==============================] - 7s 9ms/step - loss: 0.1456 - accuracy: 0.9533 - val_loss: 0.4427 - val_accuracy: 0.8610\n",
            "\n",
            "Epoch 00011: val_accuracy did not improve from 0.96600\n",
            "Epoch 12/200\n",
            "749/749 [==============================] - 6s 8ms/step - loss: 0.1426 - accuracy: 0.9553 - val_loss: 0.0880 - val_accuracy: 0.9685\n",
            "\n",
            "Epoch 00012: val_accuracy improved from 0.96600 to 0.96850, saving model to best_model.h5\n",
            "Epoch 13/200\n",
            "749/749 [==============================] - 6s 8ms/step - loss: 0.1325 - accuracy: 0.9559 - val_loss: 0.1393 - val_accuracy: 0.9527\n",
            "\n",
            "Epoch 00013: val_accuracy did not improve from 0.96850\n",
            "Epoch 14/200\n",
            "749/749 [==============================] - 6s 8ms/step - loss: 0.1280 - accuracy: 0.9592 - val_loss: 0.1221 - val_accuracy: 0.9588\n",
            "\n",
            "Epoch 00014: val_accuracy did not improve from 0.96850\n",
            "Epoch 15/200\n",
            "749/749 [==============================] - 6s 8ms/step - loss: 0.1266 - accuracy: 0.9584 - val_loss: 0.3368 - val_accuracy: 0.8790\n",
            "\n",
            "Epoch 00015: val_accuracy did not improve from 0.96850\n",
            "Epoch 16/200\n",
            "749/749 [==============================] - 6s 8ms/step - loss: 0.1289 - accuracy: 0.9568 - val_loss: 0.0960 - val_accuracy: 0.9638\n",
            "\n",
            "Epoch 00016: val_accuracy did not improve from 0.96850\n",
            "Epoch 17/200\n",
            "749/749 [==============================] - 6s 8ms/step - loss: 0.1103 - accuracy: 0.9642 - val_loss: 0.2551 - val_accuracy: 0.9038\n",
            "\n",
            "Epoch 00017: val_accuracy did not improve from 0.96850\n",
            "Epoch 18/200\n",
            "749/749 [==============================] - 6s 8ms/step - loss: 0.1020 - accuracy: 0.9660 - val_loss: 0.0772 - val_accuracy: 0.9700\n",
            "\n",
            "Epoch 00018: val_accuracy improved from 0.96850 to 0.97000, saving model to best_model.h5\n",
            "Epoch 19/200\n",
            "749/749 [==============================] - 6s 8ms/step - loss: 0.1005 - accuracy: 0.9664 - val_loss: 0.2689 - val_accuracy: 0.9037\n",
            "\n",
            "Epoch 00019: val_accuracy did not improve from 0.97000\n",
            "Epoch 20/200\n",
            "749/749 [==============================] - 6s 8ms/step - loss: 0.1036 - accuracy: 0.9681 - val_loss: 0.1601 - val_accuracy: 0.9497\n",
            "\n",
            "Epoch 00020: val_accuracy did not improve from 0.97000\n",
            "Epoch 21/200\n",
            "749/749 [==============================] - 6s 8ms/step - loss: 0.0984 - accuracy: 0.9673 - val_loss: 0.1588 - val_accuracy: 0.9370\n",
            "\n",
            "Epoch 00021: val_accuracy did not improve from 0.97000\n",
            "Epoch 22/200\n",
            "749/749 [==============================] - 6s 8ms/step - loss: 0.0949 - accuracy: 0.9701 - val_loss: 0.0810 - val_accuracy: 0.9712\n",
            "\n",
            "Epoch 00022: val_accuracy improved from 0.97000 to 0.97117, saving model to best_model.h5\n",
            "Epoch 23/200\n",
            "749/749 [==============================] - 7s 9ms/step - loss: 0.0877 - accuracy: 0.9720 - val_loss: 0.0635 - val_accuracy: 0.9778\n",
            "\n",
            "Epoch 00023: val_accuracy improved from 0.97117 to 0.97783, saving model to best_model.h5\n",
            "Epoch 24/200\n",
            "749/749 [==============================] - 6s 8ms/step - loss: 0.0820 - accuracy: 0.9742 - val_loss: 0.0611 - val_accuracy: 0.9777\n",
            "\n",
            "Epoch 00024: val_accuracy did not improve from 0.97783\n",
            "Epoch 25/200\n",
            "749/749 [==============================] - 6s 8ms/step - loss: 0.0862 - accuracy: 0.9722 - val_loss: 0.0682 - val_accuracy: 0.9770\n",
            "\n",
            "Epoch 00025: val_accuracy did not improve from 0.97783\n",
            "Epoch 26/200\n",
            "749/749 [==============================] - 7s 9ms/step - loss: 0.0835 - accuracy: 0.9738 - val_loss: 0.1634 - val_accuracy: 0.9450\n",
            "\n",
            "Epoch 00026: val_accuracy did not improve from 0.97783\n",
            "Epoch 27/200\n",
            "749/749 [==============================] - 6s 8ms/step - loss: 0.0859 - accuracy: 0.9723 - val_loss: 0.0596 - val_accuracy: 0.9802\n",
            "\n",
            "Epoch 00027: val_accuracy improved from 0.97783 to 0.98017, saving model to best_model.h5\n",
            "Epoch 28/200\n",
            "749/749 [==============================] - 6s 8ms/step - loss: 0.0862 - accuracy: 0.9738 - val_loss: 0.1448 - val_accuracy: 0.9463\n",
            "\n",
            "Epoch 00028: val_accuracy did not improve from 0.98017\n",
            "Epoch 29/200\n",
            "749/749 [==============================] - 6s 8ms/step - loss: 0.0870 - accuracy: 0.9721 - val_loss: 0.0618 - val_accuracy: 0.9797\n",
            "\n",
            "Epoch 00029: val_accuracy did not improve from 0.98017\n",
            "Epoch 30/200\n",
            "749/749 [==============================] - 6s 8ms/step - loss: 0.0802 - accuracy: 0.9741 - val_loss: 0.0670 - val_accuracy: 0.9768\n",
            "\n",
            "Epoch 00030: val_accuracy did not improve from 0.98017\n",
            "Epoch 31/200\n",
            "749/749 [==============================] - 6s 8ms/step - loss: 0.0798 - accuracy: 0.9759 - val_loss: 0.0742 - val_accuracy: 0.9753\n",
            "\n",
            "Epoch 00031: val_accuracy did not improve from 0.98017\n",
            "Epoch 32/200\n",
            "749/749 [==============================] - 6s 8ms/step - loss: 0.0757 - accuracy: 0.9755 - val_loss: 0.0572 - val_accuracy: 0.9807\n",
            "\n",
            "Epoch 00032: val_accuracy improved from 0.98017 to 0.98067, saving model to best_model.h5\n",
            "Epoch 33/200\n",
            "749/749 [==============================] - 7s 9ms/step - loss: 0.0759 - accuracy: 0.9753 - val_loss: 0.0878 - val_accuracy: 0.9702\n",
            "\n",
            "Epoch 00033: val_accuracy did not improve from 0.98067\n",
            "Epoch 34/200\n",
            "749/749 [==============================] - 6s 8ms/step - loss: 0.0757 - accuracy: 0.9753 - val_loss: 0.0574 - val_accuracy: 0.9807\n",
            "\n",
            "Epoch 00034: val_accuracy did not improve from 0.98067\n",
            "Epoch 35/200\n",
            "749/749 [==============================] - 6s 8ms/step - loss: 0.0761 - accuracy: 0.9762 - val_loss: 0.0634 - val_accuracy: 0.9780\n",
            "\n",
            "Epoch 00035: val_accuracy did not improve from 0.98067\n",
            "Epoch 36/200\n",
            "749/749 [==============================] - 6s 8ms/step - loss: 0.0727 - accuracy: 0.9766 - val_loss: 0.0845 - val_accuracy: 0.9688\n",
            "\n",
            "Epoch 00036: val_accuracy did not improve from 0.98067\n",
            "Epoch 37/200\n",
            "749/749 [==============================] - 6s 8ms/step - loss: 0.0729 - accuracy: 0.9765 - val_loss: 0.0563 - val_accuracy: 0.9807\n",
            "\n",
            "Epoch 00037: val_accuracy did not improve from 0.98067\n",
            "Epoch 38/200\n",
            "749/749 [==============================] - 7s 9ms/step - loss: 0.0711 - accuracy: 0.9779 - val_loss: 0.0569 - val_accuracy: 0.9815\n",
            "\n",
            "Epoch 00038: val_accuracy improved from 0.98067 to 0.98150, saving model to best_model.h5\n",
            "Epoch 39/200\n",
            "749/749 [==============================] - 6s 8ms/step - loss: 0.0693 - accuracy: 0.9785 - val_loss: 0.0567 - val_accuracy: 0.9790\n",
            "\n",
            "Epoch 00039: val_accuracy did not improve from 0.98150\n",
            "Epoch 40/200\n",
            "749/749 [==============================] - 6s 8ms/step - loss: 0.0725 - accuracy: 0.9775 - val_loss: 0.0623 - val_accuracy: 0.9783\n",
            "\n",
            "Epoch 00040: val_accuracy did not improve from 0.98150\n",
            "Epoch 41/200\n",
            "749/749 [==============================] - 6s 8ms/step - loss: 0.0728 - accuracy: 0.9771 - val_loss: 0.0577 - val_accuracy: 0.9797\n",
            "\n",
            "Epoch 00041: val_accuracy did not improve from 0.98150\n",
            "Epoch 42/200\n",
            "749/749 [==============================] - 6s 8ms/step - loss: 0.0682 - accuracy: 0.9790 - val_loss: 0.0563 - val_accuracy: 0.9807\n",
            "\n",
            "Epoch 00042: val_accuracy did not improve from 0.98150\n",
            "Epoch 43/200\n",
            "749/749 [==============================] - 6s 8ms/step - loss: 0.0703 - accuracy: 0.9775 - val_loss: 0.0559 - val_accuracy: 0.9818\n",
            "\n",
            "Epoch 00043: val_accuracy improved from 0.98150 to 0.98183, saving model to best_model.h5\n",
            "Epoch 44/200\n",
            "749/749 [==============================] - 6s 8ms/step - loss: 0.0730 - accuracy: 0.9771 - val_loss: 0.0566 - val_accuracy: 0.9808\n",
            "\n",
            "Epoch 00044: val_accuracy did not improve from 0.98183\n",
            "Epoch 45/200\n",
            "749/749 [==============================] - 6s 8ms/step - loss: 0.0718 - accuracy: 0.9762 - val_loss: 0.0583 - val_accuracy: 0.9790\n",
            "\n",
            "Epoch 00045: val_accuracy did not improve from 0.98183\n",
            "Epoch 46/200\n",
            "749/749 [==============================] - 6s 8ms/step - loss: 0.0709 - accuracy: 0.9779 - val_loss: 0.0549 - val_accuracy: 0.9803\n",
            "\n",
            "Epoch 00046: val_accuracy did not improve from 0.98183\n",
            "Epoch 47/200\n",
            "749/749 [==============================] - 6s 8ms/step - loss: 0.0693 - accuracy: 0.9780 - val_loss: 0.0549 - val_accuracy: 0.9822\n",
            "\n",
            "Epoch 00047: val_accuracy improved from 0.98183 to 0.98217, saving model to best_model.h5\n",
            "Epoch 48/200\n",
            "749/749 [==============================] - 6s 8ms/step - loss: 0.0705 - accuracy: 0.9770 - val_loss: 0.0557 - val_accuracy: 0.9812\n",
            "\n",
            "Epoch 00048: val_accuracy did not improve from 0.98217\n",
            "Epoch 49/200\n",
            "749/749 [==============================] - 6s 8ms/step - loss: 0.0722 - accuracy: 0.9761 - val_loss: 0.0549 - val_accuracy: 0.9817\n",
            "\n",
            "Epoch 00049: val_accuracy did not improve from 0.98217\n",
            "Epoch 50/200\n",
            "749/749 [==============================] - 7s 9ms/step - loss: 0.0718 - accuracy: 0.9774 - val_loss: 0.0556 - val_accuracy: 0.9808\n",
            "\n",
            "Epoch 00050: val_accuracy did not improve from 0.98217\n",
            "Epoch 51/200\n",
            "749/749 [==============================] - 6s 8ms/step - loss: 0.0727 - accuracy: 0.9774 - val_loss: 0.0546 - val_accuracy: 0.9827\n",
            "\n",
            "Epoch 00051: val_accuracy improved from 0.98217 to 0.98267, saving model to best_model.h5\n",
            "Epoch 52/200\n",
            "749/749 [==============================] - 7s 9ms/step - loss: 0.0663 - accuracy: 0.9783 - val_loss: 0.0560 - val_accuracy: 0.9808\n",
            "\n",
            "Epoch 00052: val_accuracy did not improve from 0.98267\n",
            "Epoch 53/200\n",
            "749/749 [==============================] - 6s 8ms/step - loss: 0.0684 - accuracy: 0.9774 - val_loss: 0.0546 - val_accuracy: 0.9822\n",
            "\n",
            "Epoch 00053: val_accuracy did not improve from 0.98267\n",
            "Epoch 54/200\n",
            "749/749 [==============================] - 6s 8ms/step - loss: 0.0693 - accuracy: 0.9785 - val_loss: 0.0552 - val_accuracy: 0.9817\n",
            "\n",
            "Epoch 00054: val_accuracy did not improve from 0.98267\n"
          ]
        }
      ]
    },
    {
      "cell_type": "code",
      "metadata": {
        "colab": {
          "base_uri": "https://localhost:8080/",
          "height": 328
        },
        "id": "r2RLRG0mqfsv",
        "outputId": "69f247e5-9a2b-4703-a023-dac2c17702e4"
      },
      "source": [
        "# Deixe-nos representar graficamente a Precisão do treinamento versus perda para obter uma melhor compreensão do treinamento do modelo.\n",
        "plt.figure(figsize=(10, 10))\n",
        "\n",
        "plt.subplot(2, 2, 1)\n",
        "plt.plot(history.history['loss'], label='Loss')\n",
        "plt.plot(history.history['val_loss'], label='Validation Loss')\n",
        "plt.legend()\n",
        "plt.title('Training - Loss Function')\n",
        "\n",
        "plt.subplot(2, 2, 2)\n",
        "plt.plot(history.history['accuracy'], label='Accuracy')\n",
        "plt.plot(history.history['val_accuracy'], label='Validation Accuracy')\n",
        "plt.legend()\n",
        "plt.title('Train - Accuracy')"
      ],
      "execution_count": 85,
      "outputs": [
        {
          "output_type": "execute_result",
          "data": {
            "text/plain": [
              "Text(0.5, 1.0, 'Train - Accuracy')"
            ]
          },
          "metadata": {},
          "execution_count": 85
        },
        {
          "output_type": "display_data",
          "data": {
            "image/png": "[encoded data removed]",
            "text/plain": [
              "<Figure size 720x720 with 2 Axes>"
            ]
          },
          "metadata": {
            "needs_background": "light"
          }
        }
      ]
    },
    {
      "cell_type": "markdown",
      "metadata": {
        "id": "D6gvFi_nY4NB"
      },
      "source": [
        "\n",
        "# **Vamos traçar a precisão do treinamento e da validação, bem como a perda.** "
      ]
    },
    {
      "cell_type": "code",
      "metadata": {
        "id": "HvI5gCDM5Djb",
        "colab": {
          "base_uri": "https://localhost:8080/",
          "height": 545
        },
        "outputId": "6eaa06a4-2feb-4f67-fc62-30d089a13499"
      },
      "source": [
        "%matplotlib inline\n",
        "import matplotlib.pyplot as plt\n",
        "acc = history.history['accuracy']\n",
        "val_acc = history.history['val_accuracy']\n",
        "loss = history.history['loss']\n",
        "val_loss = history.history['val_loss']\n",
        "\n",
        "epochs = range(len(acc))\n",
        "\n",
        "plt.plot(epochs, acc, 'r', label='Training accuracy')\n",
        "plt.plot(epochs, val_acc, 'b', label='Validation accuracy')\n",
        "plt.title('Training and validation accuracy')\n",
        "plt.legend(loc=0)\n",
        "plt.figure()\n",
        "\n",
        "plt.plot(epochs, loss, 'r', label='Training Loss')\n",
        "plt.plot(epochs, val_loss, 'b', label='Validation Loss')\n",
        "plt.title('Training and validation loss')\n",
        "plt.legend()\n",
        "\n",
        "plt.show()"
      ],
      "execution_count": 86,
      "outputs": [
        {
          "output_type": "display_data",
          "data": {
            "image/png": "[encoded data removed]",
            "text/plain": [
              "<Figure size 432x288 with 1 Axes>"
            ]
          },
          "metadata": {
            "needs_background": "light"
          }
        },
        {
          "output_type": "display_data",
          "data": {
            "image/png": "[encoded data removed]",
            "text/plain": [
              "<Figure size 432x288 with 1 Axes>"
            ]
          },
          "metadata": {
            "needs_background": "light"
          }
        }
      ]
    },
    {
      "cell_type": "code",
      "metadata": {
        "id": "IMJbJ4iT8f4x"
      },
      "source": [
        "#history2= model.history.history\n",
        "#px.line(history2,title = \"Metrics Plot\")"
      ],
      "execution_count": 33,
      "outputs": []
    },
    {
      "cell_type": "markdown",
      "metadata": {
        "id": "SukGrdFNTMWX"
      },
      "source": [
        "# **Avaliar acurácia  do Modelo**"
      ]
    },
    {
      "cell_type": "code",
      "metadata": {
        "id": "jHX9PR5gTQZA",
        "colab": {
          "base_uri": "https://localhost:8080/"
        },
        "outputId": "4e3b216a-a378-47a1-87e7-6ab30f61abe1"
      },
      "source": [
        "print(\"Conv2D - resultados\")\n",
        "\n",
        "model = tf.keras.models.load_model(\"best_model.h5\")\n",
        "\n",
        "test_loss, test_acc= model.evaluate(X_test,y_test)\n",
        "print(\"validation_accuracy: \" + str(test_acc))\n",
        "print(\"-------\\n\")\n",
        "print(f\"Test accuracy: {test_acc}\")\n",
        "print(f\"Test loss: {test_loss}\")\n",
        "#hs = hamming_score(y_test.to_numpy(), y_pred)\n",
        "#print(f\"Hamming loss: {hs}\")\n",
        "print(\"-------\\n\")"
      ],
      "execution_count": 87,
      "outputs": [
        {
          "output_type": "stream",
          "name": "stdout",
          "text": [
            "Conv2D - resultados\n",
            "188/188 [==============================] - 1s 5ms/step - loss: 0.0583 - accuracy: 0.9802\n",
            "validation_accuracy: 0.9801666736602783\n",
            "-------\n",
            "\n",
            "Test accuracy: 0.9801666736602783\n",
            "Test loss: 0.05830437317490578\n",
            "-------\n",
            "\n"
          ]
        }
      ]
    },
    {
      "cell_type": "markdown",
      "metadata": {
        "id": "gdQhIrGw6gbL"
      },
      "source": [
        "# **Realizar as predições para as classes com o modelo criado**"
      ]
    },
    {
      "cell_type": "code",
      "metadata": {
        "id": "ut4cvpNs2eGz",
        "colab": {
          "base_uri": "https://localhost:8080/",
          "height": 594
        },
        "outputId": "ce3a16f5-3863-4f1a-830a-482991f13da8"
      },
      "source": [
        "class_names = ['andesite','gneiss','marbler','quartzite','rhyolite','schist']\n",
        "#class_names = [0,1,2,3,4,5]\n",
        "\n",
        "plt.figure(figsize=(10,10))\n",
        "for i in range(25):\n",
        "    plt.subplot(5,5,i+1)\n",
        "    plt.xticks([])\n",
        "    plt.yticks([])\n",
        "    plt.grid(False)\n",
        "    plt.imshow(X_train[i])\n",
        "    plt.title(y_train[i])\n",
        "    #plt.xlabel(y_train[i])\n",
        "plt.show()\n",
        "   "
      ],
      "execution_count": 40,
      "outputs": [
        {
          "output_type": "display_data",
          "data": {
            "image/png": "[encoded data removed]",
            "text/plain": [
              "<Figure size 720x720 with 25 Axes>"
            ]
          },
          "metadata": {}
        }
      ]
    },
    {
      "cell_type": "markdown",
      "metadata": {
        "id": "CvYwZyoSyZkT"
      },
      "source": [
        "# **Realizando as predições e as confirmações**"
      ]
    },
    {
      "cell_type": "code",
      "metadata": {
        "id": "6fd1COOBcEq-",
        "colab": {
          "base_uri": "https://localhost:8080/"
        },
        "outputId": "6e97e6a2-0eb9-4505-eeee-dec26b9b26df"
      },
      "source": [
        "y_pred = model.predict(X_test)\n",
        "print(\"Prediction_accuracy: \" + str(y_pred))"
      ],
      "execution_count": 41,
      "outputs": [
        {
          "output_type": "stream",
          "name": "stdout",
          "text": [
            "Prediction_accuracy: [[5.5403143e-06 1.5228079e-04 9.2688964e-08 1.3168853e-06 1.2343746e-08\n",
            "  9.9984074e-01]\n",
            " [2.6204566e-08 9.9965334e-01 1.7948560e-08 7.6870282e-07 2.6358229e-10\n",
            "  3.4578718e-04]\n",
            " [9.7956860e-01 1.8996901e-05 4.9827140e-05 1.0488475e-02 7.1955291e-03\n",
            "  2.6785252e-03]\n",
            " ...\n",
            " [5.7342848e-05 4.8243446e-06 7.1397404e-09 9.9993694e-01 2.0611908e-07\n",
            "  6.0311925e-07]\n",
            " [9.1779160e-01 7.9187075e-06 8.2672675e-05 2.6304875e-02 5.5591978e-02\n",
            "  2.2101791e-04]\n",
            " [4.1490179e-01 2.6909365e-05 2.2394156e-04 3.0433694e-03 5.8082342e-01\n",
            "  9.8053820e-04]]\n"
          ]
        }
      ]
    },
    {
      "cell_type": "code",
      "metadata": {
        "id": "pYKNqTvYIy56",
        "colab": {
          "base_uri": "https://localhost:8080/"
        },
        "outputId": "d55397cc-bea3-4008-f849-6d6d8beadb27"
      },
      "source": [
        "y_pred[400] #  predição posição 400"
      ],
      "execution_count": 42,
      "outputs": [
        {
          "output_type": "execute_result",
          "data": {
            "text/plain": [
              "array([3.9004408e-02, 1.9602421e-06, 6.0702831e-05, 3.0192188e-03,\n",
              "       9.5784277e-01, 7.0960006e-05], dtype=float32)"
            ]
          },
          "metadata": {},
          "execution_count": 42
        }
      ]
    },
    {
      "cell_type": "code",
      "metadata": {
        "id": "c81gyqxSpT8o",
        "colab": {
          "base_uri": "https://localhost:8080/"
        },
        "outputId": "807f538d-10d5-4d7b-d735-0274c784cb30"
      },
      "source": [
        "print(np.argmax(y_pred[400])) # Nesse caso, a predição está apontada - Classe 4"
      ],
      "execution_count": 43,
      "outputs": [
        {
          "output_type": "stream",
          "name": "stdout",
          "text": [
            "4\n"
          ]
        }
      ]
    },
    {
      "cell_type": "code",
      "metadata": {
        "id": "buGHzD6QudJy",
        "colab": {
          "base_uri": "https://localhost:8080/",
          "height": 280
        },
        "outputId": "244c5d3f-7a6c-4af6-a1ac-89af526fc470"
      },
      "source": [
        "y_test [400] # Nesse caso, a predição está correta - Classe 0, conforme figura abaixo:\n",
        "\n",
        "plt.figure()\n",
        "plt.imshow(X_train[400])\n",
        "plt.xlabel(y_test[400])\n",
        "plt.colorbar()\n",
        "plt.grid(False)\n",
        "plt.show()"
      ],
      "execution_count": 44,
      "outputs": [
        {
          "output_type": "display_data",
          "data": {
            "image/png": "[encoded data removed]",
            "text/plain": [
              "<Figure size 432x288 with 2 Axes>"
            ]
          },
          "metadata": {
            "needs_background": "light"
          }
        }
      ]
    },
    {
      "cell_type": "code",
      "metadata": {
        "colab": {
          "base_uri": "https://localhost:8080/"
        },
        "id": "r9FzFwTkcEc7",
        "outputId": "706db81b-3921-4b90-92dd-d6b09637fabf"
      },
      "source": [
        "y_pred[201] # primeira predição posição 0"
      ],
      "execution_count": 45,
      "outputs": [
        {
          "output_type": "execute_result",
          "data": {
            "text/plain": [
              "array([2.4982393e-04, 5.1636552e-03, 1.0481881e-05, 1.8734623e-04,\n",
              "       5.4460088e-06, 9.9438322e-01], dtype=float32)"
            ]
          },
          "metadata": {},
          "execution_count": 45
        }
      ]
    },
    {
      "cell_type": "code",
      "metadata": {
        "colab": {
          "base_uri": "https://localhost:8080/"
        },
        "id": "jgjixCwDcLfK",
        "outputId": "e6af306b-6ec9-4bd8-b269-56bca4f7995c"
      },
      "source": [
        "np.argmax(y_pred[201]) # Nesse caso, a predição está correta - Classe 03"
      ],
      "execution_count": 46,
      "outputs": [
        {
          "output_type": "execute_result",
          "data": {
            "text/plain": [
              "5"
            ]
          },
          "metadata": {},
          "execution_count": 46
        }
      ]
    },
    {
      "cell_type": "code",
      "metadata": {
        "id": "HIFhaEXOlmwM",
        "colab": {
          "base_uri": "https://localhost:8080/",
          "height": 280
        },
        "outputId": "ac77ed36-2ae3-4ee3-f66f-aea9dfe92633"
      },
      "source": [
        "y_test [201] # Nesse caso, a predição está correta - Classe 03, conforme figura abaixo\n",
        "\n",
        "plt.figure()\n",
        "plt.imshow(X_train[201])\n",
        "plt.xlabel(y_test[201])\n",
        "plt.colorbar()\n",
        "plt.grid(False)\n",
        "plt.show()"
      ],
      "execution_count": 47,
      "outputs": [
        {
          "output_type": "display_data",
          "data": {
            "image/png": "[encoded data removed]",
            "text/plain": [
              "<Figure size 432x288 with 2 Axes>"
            ]
          },
          "metadata": {
            "needs_background": "light"
          }
        }
      ]
    },
    {
      "cell_type": "markdown",
      "metadata": {
        "id": "ovn2yNyjtV7n"
      },
      "source": [
        "# ** Modelo treinado para fazer a predição de uma única imagem.**"
      ]
    },
    {
      "cell_type": "code",
      "metadata": {
        "id": "N9DtFPuGk60j",
        "colab": {
          "base_uri": "https://localhost:8080/"
        },
        "outputId": "f4f2e515-4ebf-460e-c4cb-7e0e944ea1fd"
      },
      "source": [
        "img = X_test [50]\n",
        "test_labels_single = y_test [50]\n",
        "print(img.shape)\n",
        "\n",
        "test_labels_single\n",
        "\n",
        "# Adiciona a imagem em um batch que possui um só membro.\n",
        "img = (np.expand_dims(img,0))\n",
        "\n",
        "print(img.shape)"
      ],
      "execution_count": 48,
      "outputs": [
        {
          "output_type": "stream",
          "name": "stdout",
          "text": [
            "(32, 32, 3)\n",
            "(1, 32, 32, 3)\n"
          ]
        }
      ]
    },
    {
      "cell_type": "code",
      "metadata": {
        "id": "hRr4iTHEmLeW",
        "colab": {
          "base_uri": "https://localhost:8080/"
        },
        "outputId": "0177e34e-c5d5-400f-89b4-5400d8d32266"
      },
      "source": [
        "predictions_single = model.predict(img)\n",
        "\n",
        "print(predictions_single)"
      ],
      "execution_count": 49,
      "outputs": [
        {
          "output_type": "stream",
          "name": "stdout",
          "text": [
            "[[9.3384248e-01 3.8605053e-06 9.6706990e-06 8.5695628e-03 3.1766042e-02\n",
            "  2.5808400e-02]]\n"
          ]
        }
      ]
    },
    {
      "cell_type": "code",
      "metadata": {
        "id": "hT6d2j4cmqyi",
        "colab": {
          "base_uri": "https://localhost:8080/"
        },
        "outputId": "28ccb75a-ac75-4c56-e5b0-028872f33756"
      },
      "source": [
        "predictions_single = np.argmax(predictions_single, axis=1)\n",
        "predictions_single"
      ],
      "execution_count": 50,
      "outputs": [
        {
          "output_type": "execute_result",
          "data": {
            "text/plain": [
              "array([0])"
            ]
          },
          "metadata": {},
          "execution_count": 50
        }
      ]
    },
    {
      "cell_type": "code",
      "metadata": {
        "id": "I_0eTjMs2N72",
        "colab": {
          "base_uri": "https://localhost:8080/"
        },
        "outputId": "315e1ba3-92be-4d0b-c72c-85768692112d"
      },
      "source": [
        "# Fazer previsões no conjunto de teste\n",
        "print(\"[INFO] evaluating network...\")\n",
        "y_pred = model.predict(X_test,batch_size=BS)\n",
        "\n",
        "# Para cada imagem no conjunto de teste, precisamos encontrar o índice do\n",
        "# rótulo com a maior probabilidade prevista correspondente\n",
        "y_pred = np.argmax(y_pred, axis=1)\n",
        "\n",
        "# Mostra um relatório de classificação bem formatado\n",
        "print(classification_report(y_test.argmax(axis=1), y_pred,\n",
        "                            target_names=lb))"
      ],
      "execution_count": 51,
      "outputs": [
        {
          "output_type": "stream",
          "name": "stdout",
          "text": [
            "[INFO] evaluating network...\n",
            "              precision    recall  f1-score   support\n",
            "\n",
            "    andesite       0.95      0.93      0.94      1024\n",
            "      gneiss       0.95      0.98      0.97       995\n",
            "      marble       1.00      1.00      1.00       968\n",
            "   quartzite       0.96      0.97      0.97      1059\n",
            "    rhyolite       0.97      0.98      0.97       986\n",
            "      schist       0.97      0.94      0.96       968\n",
            "\n",
            "    accuracy                           0.97      6000\n",
            "   macro avg       0.97      0.97      0.97      6000\n",
            "weighted avg       0.97      0.97      0.97      6000\n",
            "\n"
          ]
        }
      ]
    },
    {
      "cell_type": "markdown",
      "metadata": {
        "id": "MbmLMg4PHfvP"
      },
      "source": [
        "# **Matriz de Confusão**"
      ]
    },
    {
      "cell_type": "code",
      "metadata": {
        "colab": {
          "base_uri": "https://localhost:8080/"
        },
        "id": "8TH189VOIyds",
        "outputId": "4f691be9-657c-438b-de3b-1a49a0da4b22"
      },
      "source": [
        "from sklearn.metrics import confusion_matrix\n",
        "\n",
        "cm = confusion_matrix(y_test.argmax(axis=1),y_pred)\n",
        "\n",
        "# show the confusion matrix\n",
        "print(cm)"
      ],
      "execution_count": 52,
      "outputs": [
        {
          "output_type": "stream",
          "name": "stdout",
          "text": [
            "[[ 953    1    1   35   27    7]\n",
            " [   0  977    0    1    0   17]\n",
            " [   0    0  968    0    0    0]\n",
            " [  30    1    0 1026    1    1]\n",
            " [  23    0    0    0  963    0]\n",
            " [   0   49    0    2    4  913]]\n"
          ]
        }
      ]
    },
    {
      "cell_type": "code",
      "metadata": {
        "colab": {
          "base_uri": "https://localhost:8080/"
        },
        "id": "il4l4ihEGmxm",
        "outputId": "d3c26040-08a4-4d16-d5a6-62e6607bc8fc"
      },
      "source": [
        "# Calcule a matriz de confusão e use-a para derivar o\n",
        "# precisão, sensibilidade e especificidade\n",
        "\n",
        "total = sum(sum(cm))\n",
        "acc = (cm[0, 0] + cm[1, 1]) / total\n",
        "sensitivity = cm[0, 0] / (cm[0, 0] + cm[0, 1])\n",
        "specificity = cm[1, 1] / (cm[1, 0] + cm[1, 1])\n",
        "\n",
        "# Mostrar a precisão, sensibilidade e especificidade\n",
        "print(\"acc: {:.4f}\".format(acc))"
      ],
      "execution_count": 53,
      "outputs": [
        {
          "output_type": "stream",
          "name": "stdout",
          "text": [
            "acc: 0.3217\n"
          ]
        }
      ]
    },
    {
      "cell_type": "markdown",
      "metadata": {
        "id": "WPvlnHQyjENH"
      },
      "source": [
        "# **Listando as redes realmente disponíveis em seu Keras**"
      ]
    },
    {
      "cell_type": "code",
      "metadata": {
        "colab": {
          "base_uri": "https://localhost:8080/"
        },
        "id": "r7rGxnabi9t2",
        "outputId": "d4e34a0f-8cb3-4538-8a1e-7c7b36d91898"
      },
      "source": [
        "import tensorflow.keras.applications as app\n",
        "print(dir(app))"
      ],
      "execution_count": 49,
      "outputs": [
        {
          "output_type": "stream",
          "name": "stdout",
          "text": [
            "['DenseNet121', 'DenseNet169', 'DenseNet201', 'EfficientNetB0', 'EfficientNetB1', 'EfficientNetB2', 'EfficientNetB3', 'EfficientNetB4', 'EfficientNetB5', 'EfficientNetB6', 'EfficientNetB7', 'InceptionResNetV2', 'InceptionV3', 'MobileNet', 'MobileNetV2', 'MobileNetV3Large', 'MobileNetV3Small', 'NASNetLarge', 'NASNetMobile', 'ResNet101', 'ResNet101V2', 'ResNet152', 'ResNet152V2', 'ResNet50', 'ResNet50V2', 'VGG16', 'VGG19', 'Xception', '__builtins__', '__cached__', '__doc__', '__file__', '__loader__', '__name__', '__package__', '__path__', '__spec__', '_sys', 'densenet', 'efficientnet', 'imagenet_utils', 'inception_resnet_v2', 'inception_v3', 'mobilenet', 'mobilenet_v2', 'mobilenet_v3', 'nasnet', 'resnet', 'resnet50', 'resnet_v2', 'vgg16', 'vgg19', 'xception']\n"
          ]
        }
      ]
    },
    {
      "cell_type": "markdown",
      "metadata": {
        "id": "TtHvNQkI2vle"
      },
      "source": [
        "# **O Modelo pre treinado VGG16**\n",
        "![vgg16-architecture.width-1200.jpg](data:image/jpeg;base64,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)"
      ]
    },
    {
      "cell_type": "code",
      "metadata": {
        "id": "J5ri8TgbjjcD",
        "colab": {
          "base_uri": "https://localhost:8080/"
        },
        "outputId": "3c8091af-1388-4e90-aace-6abc59b1f2d1"
      },
      "source": [
        "# Inicializar a CNN\n",
        "classifier = VGG16(include_top=False,weights='imagenet',input_shape=(32,32,3))"
      ],
      "execution_count": 50,
      "outputs": [
        {
          "output_type": "stream",
          "name": "stdout",
          "text": [
            "Downloading data from https://storage.googleapis.com/tensorflow/keras-applications/vgg16/vgg16_weights_tf_dim_ordering_tf_kernels_notop.h5\n",
            "58892288/58889256 [==============================] - 2s 0us/step\n",
            "58900480/58889256 [==============================] - 2s 0us/step\n"
          ]
        }
      ]
    },
    {
      "cell_type": "code",
      "metadata": {
        "colab": {
          "base_uri": "https://localhost:8080/"
        },
        "id": "L1RWbd5-MOjP",
        "outputId": "b0ba035c-12a0-4bff-af56-18ba50ae1838"
      },
      "source": [
        "#Listar os Layers do Modelo VGG16\n",
        "for i,layer in enumerate(classifier.layers):\n",
        "    print(i,layer.name)"
      ],
      "execution_count": 51,
      "outputs": [
        {
          "output_type": "stream",
          "name": "stdout",
          "text": [
            "0 input_1\n",
            "1 block1_conv1\n",
            "2 block1_conv2\n",
            "3 block1_pool\n",
            "4 block2_conv1\n",
            "5 block2_conv2\n",
            "6 block2_pool\n",
            "7 block3_conv1\n",
            "8 block3_conv2\n",
            "9 block3_conv3\n",
            "10 block3_pool\n",
            "11 block4_conv1\n",
            "12 block4_conv2\n",
            "13 block4_conv3\n",
            "14 block4_pool\n",
            "15 block5_conv1\n",
            "16 block5_conv2\n",
            "17 block5_conv3\n",
            "18 block5_pool\n"
          ]
        }
      ]
    },
    {
      "cell_type": "code",
      "metadata": {
        "colab": {
          "base_uri": "https://localhost:8080/"
        },
        "id": "v-3FFMBQpKXo",
        "outputId": "6d6555fc-a60a-408a-eb0d-ccbcddbc667d"
      },
      "source": [
        "# Marcar as camadas como não treináveis\n",
        "#for layer in classifier.layers:\n",
        "   # layer.trainable = False\n",
        "\n",
        "for layer in classifier.layers[:-2]:\n",
        "  layer.trainable = False\n",
        "  print(layer)\n",
        "\n",
        "# Criar o novo modelo\n",
        "inputs = tf.keras.Input(shape=(32, 32, 3))\n",
        "#x = datagen (inputs)  # Apply random data augmentation\n",
        "\n",
        "# Pre-trained Xception weights requires that input be scaled\n",
        "# from (0, 255) to a range of (-1., +1.), the rescaling layer\n",
        "# outputs: `(inputs * scale) + offset`\n",
        "scale_layer = tf.keras.layers.Rescaling(scale=1 , offset=-1)\n",
        "x = scale_layer(inputs)\n",
        "\n",
        "# Adicionar novas camadas para classificação\n",
        "\n",
        "x = classifier(x, training=False)\n",
        "x = tf.keras.layers.GlobalAveragePooling2D()(x)\n",
        "x = tf.keras.layers.Flatten()(x)\n",
        "x = Dense(64, activation='relu', kernel_initializer='he_uniform')(x)\n",
        "x = tf.keras.layers.Dropout(0.5)(x)  # Regularize with dropout\n",
        "output = Dense(6, activation='softmax')(x)\n",
        "\n",
        "#flat1 = tf.keras.layers.Flatten()(classifier.layers[-1].output)\n",
        "#flat1 = Dense(1024, activation='relu', kernel_initializer='he_uniform')(flat1)\n",
        "#flat1 = tf.keras.layers.Dropout(0.5)(flat1)\n",
        "#output = Dense(6, activation='softmax')(flat1)\n",
        "\n",
        "# Definir o modelo\n",
        "modelvgg16 = Model(inputs=inputs, outputs=output)\n",
        "\n",
        "modelvgg16.summary()"
      ],
      "execution_count": 52,
      "outputs": [
        {
          "output_type": "stream",
          "name": "stdout",
          "text": [
            "<keras.engine.input_layer.InputLayer object at 0x7fd057e3d5d0>\n",
            "<keras.layers.convolutional.Conv2D object at 0x7fd057e3dc50>\n",
            "<keras.layers.convolutional.Conv2D object at 0x7fd057e3de10>\n",
            "<keras.layers.pooling.MaxPooling2D object at 0x7fd057e93d90>\n",
            "<keras.layers.convolutional.Conv2D object at 0x7fd057e80250>\n",
            "<keras.layers.convolutional.Conv2D object at 0x7fd057e4c390>\n",
            "<keras.layers.pooling.MaxPooling2D object at 0x7fd057e4c850>\n",
            "<keras.layers.convolutional.Conv2D object at 0x7fd057e51610>\n",
            "<keras.layers.convolutional.Conv2D object at 0x7fd057e3fc50>\n",
            "<keras.layers.convolutional.Conv2D object at 0x7fd057de1590>\n",
            "<keras.layers.pooling.MaxPooling2D object at 0x7fd057e551d0>\n",
            "<keras.layers.convolutional.Conv2D object at 0x7fd057716710>\n",
            "<keras.layers.convolutional.Conv2D object at 0x7fd057e51ed0>\n",
            "<keras.layers.convolutional.Conv2D object at 0x7fd057df2750>\n",
            "<keras.layers.pooling.MaxPooling2D object at 0x7fd057e80390>\n",
            "<keras.layers.convolutional.Conv2D object at 0x7fd057dfb6d0>\n",
            "<keras.layers.convolutional.Conv2D object at 0x7fd057e036d0>\n",
            "Model: \"model\"\n",
            "_________________________________________________________________\n",
            "Layer (type)                 Output Shape              Param #   \n",
            "=================================================================\n",
            "input_2 (InputLayer)         [(None, 32, 32, 3)]       0         \n",
            "_________________________________________________________________\n",
            "rescaling (Rescaling)        (None, 32, 32, 3)         0         \n",
            "_________________________________________________________________\n",
            "vgg16 (Functional)           (None, 1, 1, 512)         14714688  \n",
            "_________________________________________________________________\n",
            "global_average_pooling2d (Gl (None, 512)               0         \n",
            "_________________________________________________________________\n",
            "flatten_1 (Flatten)          (None, 512)               0         \n",
            "_________________________________________________________________\n",
            "dense_2 (Dense)              (None, 64)                32832     \n",
            "_________________________________________________________________\n",
            "dropout_1 (Dropout)          (None, 64)                0         \n",
            "_________________________________________________________________\n",
            "dense_3 (Dense)              (None, 6)                 390       \n",
            "=================================================================\n",
            "Total params: 14,747,910\n",
            "Trainable params: 2,393,030\n",
            "Non-trainable params: 12,354,880\n",
            "_________________________________________________________________\n"
          ]
        }
      ]
    },
    {
      "cell_type": "code",
      "metadata": {
        "id": "wvbEuAEuQxLI"
      },
      "source": [
        "modelvgg16.compile(optimizer = Adam(learning_rate=0.0001), \n",
        "               loss = 'categorical_crossentropy', \n",
        "               metrics =['accuracy'])  \n",
        "\n",
        "callbacksvgg16 = [\n",
        "    tf.keras.callbacks.ReduceLROnPlateau(factor=0.5,\n",
        "                                         patience=4,\n",
        "                                         verbose=0),\n",
        "    tf.keras.callbacks.EarlyStopping(\n",
        "        monitor=\"accuracy\",\n",
        "        patience=12,\n",
        "        restore_best_weights=True,\n",
        "    ),\n",
        "    tf.keras.callbacks.ModelCheckpoint(\n",
        "        filepath='feature_extraction.vgg16',\n",
        "        save_best_only=True,\n",
        "        monitor=\"val_accuracy\",\n",
        "    ),\n",
        "\n",
        "]"
      ],
      "execution_count": 53,
      "outputs": []
    },
    {
      "cell_type": "code",
      "metadata": {
        "id": "Q49JsEYskH6B",
        "colab": {
          "base_uri": "https://localhost:8080/",
          "height": 235
        },
        "outputId": "4ddbf2ce-f197-4d58-f511-7d87f6180347"
      },
      "source": [
        "historyvgg16 = modelvgg16.fit(X_train,y_train,\n",
        "                    epochs=EPOCHS,\n",
        "                    verbose=1,\n",
        "                    steps_per_epoch = len(X_train)//BS,\n",
        "                    callbacks=callbacksvgg16,\n",
        "                    validation_data=(X_val,y_val),\n",
        "                    validation_steps = len(X_val) //BS)"
      ],
      "execution_count": 1,
      "outputs": [
        {
          "output_type": "error",
          "ename": "NameError",
          "evalue": "ignored",
          "traceback": [
            "\u001b[0;31m---------------------------------------------------------------------------\u001b[0m",
            "\u001b[0;31mNameError\u001b[0m                                 Traceback (most recent call last)",
            "\u001b[0;32m<ipython-input-1-a275b54c8d60>\u001b[0m in \u001b[0;36m<module>\u001b[0;34m()\u001b[0m\n\u001b[0;32m----> 1\u001b[0;31m historyvgg16 = modelvgg16.fit(X_train,y_train,\n\u001b[0m\u001b[1;32m      2\u001b[0m                     \u001b[0mepochs\u001b[0m\u001b[0;34m=\u001b[0m\u001b[0mEPOCHS\u001b[0m\u001b[0;34m,\u001b[0m\u001b[0;34m\u001b[0m\u001b[0;34m\u001b[0m\u001b[0m\n\u001b[1;32m      3\u001b[0m                     \u001b[0mverbose\u001b[0m\u001b[0;34m=\u001b[0m\u001b[0;36m1\u001b[0m\u001b[0;34m,\u001b[0m\u001b[0;34m\u001b[0m\u001b[0;34m\u001b[0m\u001b[0m\n\u001b[1;32m      4\u001b[0m                     \u001b[0msteps_per_epoch\u001b[0m \u001b[0;34m=\u001b[0m \u001b[0mlen\u001b[0m\u001b[0;34m(\u001b[0m\u001b[0mX_train\u001b[0m\u001b[0;34m)\u001b[0m\u001b[0;34m//\u001b[0m\u001b[0mBS\u001b[0m\u001b[0;34m,\u001b[0m\u001b[0;34m\u001b[0m\u001b[0;34m\u001b[0m\u001b[0m\n\u001b[1;32m      5\u001b[0m                     \u001b[0mcallbacks\u001b[0m\u001b[0;34m=\u001b[0m\u001b[0mcallbacksvgg16\u001b[0m\u001b[0;34m,\u001b[0m\u001b[0;34m\u001b[0m\u001b[0;34m\u001b[0m\u001b[0m\n",
            "\u001b[0;31mNameError\u001b[0m: name 'modelvgg16' is not defined"
          ]
        }
      ]
    },
    {
      "cell_type": "code",
      "metadata": {
        "id": "OzhMZWXqtWGz"
      },
      "source": [
        "%matplotlib inline\n",
        "import matplotlib.pyplot as plt\n",
        "acc = historyvgg16.history['accuracy']\n",
        "val_acc = historyvgg16.history['val_accuracy']\n",
        "loss = historyvgg16.history['loss']\n",
        "val_loss = historyvgg16.history['val_loss']\n",
        "\n",
        "epochs = range(len(acc))\n",
        "\n",
        "plt.plot(epochs, acc, 'r', label='Training accuracy')\n",
        "plt.plot(epochs, val_acc, 'b', label='Validation accuracy')\n",
        "plt.title('Training and validation accuracy')\n",
        "plt.legend(loc=0)\n",
        "plt.figure()\n",
        "\n",
        "plt.plot(epochs, loss, 'r', label='Training Loss')\n",
        "plt.plot(epochs, val_loss, 'b', label='Validation Loss')\n",
        "plt.title('Training and validation loss')\n",
        "plt.legend()\n",
        "\n",
        "plt.show()"
      ],
      "execution_count": null,
      "outputs": []
    },
    {
      "cell_type": "code",
      "metadata": {
        "id": "Usw3n8GmtmXH"
      },
      "source": [
        "modelvgg16 = tf.keras.models.load_model(\"feature_extraction.vgg16\")\n",
        "\n",
        "test_lossvgg16, test_accvgg16= modelvgg16.evaluate(X_test,y_test)\n",
        "print(\"validation_accuracy: \" + str(test_accvgg16))"
      ],
      "execution_count": null,
      "outputs": []
    },
    {
      "cell_type": "markdown",
      "metadata": {
        "id": "kyRRQPpePwGn"
      },
      "source": [
        "# **Predições Modelo pre treinado VGG16**"
      ]
    },
    {
      "cell_type": "code",
      "metadata": {
        "id": "Ard-1SiQPuzT"
      },
      "source": [
        "y_predVGG16 = modelvgg16.predict(X_test)\n",
        "print(\"Prediction_accuracy: \" + str(y_predVGG16))"
      ],
      "execution_count": null,
      "outputs": []
    },
    {
      "cell_type": "code",
      "metadata": {
        "id": "kpbe5DwiP_GM"
      },
      "source": [
        "y_predVGG16[300]"
      ],
      "execution_count": null,
      "outputs": []
    },
    {
      "cell_type": "code",
      "metadata": {
        "id": "vhYWvPNhP_kn"
      },
      "source": [
        "print(np.argmax(y_predVGG16[300])) # Nesse caso, a predição está apontada - Classe 4"
      ],
      "execution_count": null,
      "outputs": []
    },
    {
      "cell_type": "code",
      "metadata": {
        "id": "eB5UTWJoQUWc"
      },
      "source": [
        "y_test [300] # Nesse caso, a predição está correta - Classe 4, conforme figura abaixo\n",
        "\n",
        "plt.figure()\n",
        "plt.imshow(X_train[300])\n",
        "plt.xlabel(y_test[300])\n",
        "plt.colorbar()\n",
        "plt.grid(False)\n",
        "plt.show()"
      ],
      "execution_count": null,
      "outputs": []
    },
    {
      "cell_type": "markdown",
      "metadata": {
        "id": "a2UL9UgwWhqL"
      },
      "source": [
        "## ** Matriz de confusão com mapa de calor - Código do Prof Leonardo Forero**"
      ]
    },
    {
      "cell_type": "code",
      "metadata": {
        "id": "ZhlrYUjeM6Xf",
        "colab": {
          "base_uri": "https://localhost:8080/",
          "height": 363
        },
        "outputId": "e807799a-fdbe-41be-918e-adf75ff0cee2"
      },
      "source": [
        "true_classes = test_generator.classes\n",
        "class_indices = train_generator.class_indices\n",
        "class_indices = dict((v,k) for k,v in class_indices.items())\n",
        "\n",
        "scratch_preds = model.predict(test_generator)\n",
        "scratch_pred_classes = np.argmax(scratch_preds, axis=1)"
      ],
      "execution_count": 54,
      "outputs": [
        {
          "output_type": "error",
          "ename": "KeyboardInterrupt",
          "evalue": "ignored",
          "traceback": [
            "\u001b[0;31m---------------------------------------------------------------------------\u001b[0m",
            "\u001b[0;31mKeyboardInterrupt\u001b[0m                         Traceback (most recent call last)",
            "\u001b[0;32m<ipython-input-54-1ab5eaa47323>\u001b[0m in \u001b[0;36m<module>\u001b[0;34m()\u001b[0m\n\u001b[1;32m      3\u001b[0m \u001b[0mclass_indices\u001b[0m \u001b[0;34m=\u001b[0m \u001b[0mdict\u001b[0m\u001b[0;34m(\u001b[0m\u001b[0;34m(\u001b[0m\u001b[0mv\u001b[0m\u001b[0;34m,\u001b[0m\u001b[0mk\u001b[0m\u001b[0;34m)\u001b[0m \u001b[0;32mfor\u001b[0m \u001b[0mk\u001b[0m\u001b[0;34m,\u001b[0m\u001b[0mv\u001b[0m \u001b[0;32min\u001b[0m \u001b[0mclass_indices\u001b[0m\u001b[0;34m.\u001b[0m\u001b[0mitems\u001b[0m\u001b[0;34m(\u001b[0m\u001b[0;34m)\u001b[0m\u001b[0;34m)\u001b[0m\u001b[0;34m\u001b[0m\u001b[0;34m\u001b[0m\u001b[0m\n\u001b[1;32m      4\u001b[0m \u001b[0;34m\u001b[0m\u001b[0m\n\u001b[0;32m----> 5\u001b[0;31m \u001b[0mscratch_preds\u001b[0m \u001b[0;34m=\u001b[0m \u001b[0mmodel\u001b[0m\u001b[0;34m.\u001b[0m\u001b[0mpredict\u001b[0m\u001b[0;34m(\u001b[0m\u001b[0mtest_generator\u001b[0m\u001b[0;34m)\u001b[0m\u001b[0;34m\u001b[0m\u001b[0;34m\u001b[0m\u001b[0m\n\u001b[0m\u001b[1;32m      6\u001b[0m \u001b[0mscratch_pred_classes\u001b[0m \u001b[0;34m=\u001b[0m \u001b[0mnp\u001b[0m\u001b[0;34m.\u001b[0m\u001b[0margmax\u001b[0m\u001b[0;34m(\u001b[0m\u001b[0mscratch_preds\u001b[0m\u001b[0;34m,\u001b[0m \u001b[0maxis\u001b[0m\u001b[0;34m=\u001b[0m\u001b[0;36m1\u001b[0m\u001b[0;34m)\u001b[0m\u001b[0;34m\u001b[0m\u001b[0;34m\u001b[0m\u001b[0m\n",
            "\u001b[0;32m/usr/local/lib/python3.7/dist-packages/keras/engine/training.py\u001b[0m in \u001b[0;36mpredict\u001b[0;34m(self, x, batch_size, verbose, steps, callbacks, max_queue_size, workers, use_multiprocessing)\u001b[0m\n\u001b[1;32m   1749\u001b[0m           \u001b[0;32mfor\u001b[0m \u001b[0mstep\u001b[0m \u001b[0;32min\u001b[0m \u001b[0mdata_handler\u001b[0m\u001b[0;34m.\u001b[0m\u001b[0msteps\u001b[0m\u001b[0;34m(\u001b[0m\u001b[0;34m)\u001b[0m\u001b[0;34m:\u001b[0m\u001b[0;34m\u001b[0m\u001b[0;34m\u001b[0m\u001b[0m\n\u001b[1;32m   1750\u001b[0m             \u001b[0mcallbacks\u001b[0m\u001b[0;34m.\u001b[0m\u001b[0mon_predict_batch_begin\u001b[0m\u001b[0;34m(\u001b[0m\u001b[0mstep\u001b[0m\u001b[0;34m)\u001b[0m\u001b[0;34m\u001b[0m\u001b[0;34m\u001b[0m\u001b[0m\n\u001b[0;32m-> 1751\u001b[0;31m             \u001b[0mtmp_batch_outputs\u001b[0m \u001b[0;34m=\u001b[0m \u001b[0mself\u001b[0m\u001b[0;34m.\u001b[0m\u001b[0mpredict_function\u001b[0m\u001b[0;34m(\u001b[0m\u001b[0miterator\u001b[0m\u001b[0;34m)\u001b[0m\u001b[0;34m\u001b[0m\u001b[0;34m\u001b[0m\u001b[0m\n\u001b[0m\u001b[1;32m   1752\u001b[0m             \u001b[0;32mif\u001b[0m \u001b[0mdata_handler\u001b[0m\u001b[0;34m.\u001b[0m\u001b[0mshould_sync\u001b[0m\u001b[0;34m:\u001b[0m\u001b[0;34m\u001b[0m\u001b[0;34m\u001b[0m\u001b[0m\n\u001b[1;32m   1753\u001b[0m               \u001b[0mcontext\u001b[0m\u001b[0;34m.\u001b[0m\u001b[0masync_wait\u001b[0m\u001b[0;34m(\u001b[0m\u001b[0;34m)\u001b[0m\u001b[0;34m\u001b[0m\u001b[0;34m\u001b[0m\u001b[0m\n",
            "\u001b[0;32m/usr/local/lib/python3.7/dist-packages/tensorflow/python/eager/def_function.py\u001b[0m in \u001b[0;36m__call__\u001b[0;34m(self, *args, **kwds)\u001b[0m\n\u001b[1;32m    883\u001b[0m \u001b[0;34m\u001b[0m\u001b[0m\n\u001b[1;32m    884\u001b[0m       \u001b[0;32mwith\u001b[0m \u001b[0mOptionalXlaContext\u001b[0m\u001b[0;34m(\u001b[0m\u001b[0mself\u001b[0m\u001b[0;34m.\u001b[0m\u001b[0m_jit_compile\u001b[0m\u001b[0;34m)\u001b[0m\u001b[0;34m:\u001b[0m\u001b[0;34m\u001b[0m\u001b[0;34m\u001b[0m\u001b[0m\n\u001b[0;32m--> 885\u001b[0;31m         \u001b[0mresult\u001b[0m \u001b[0;34m=\u001b[0m \u001b[0mself\u001b[0m\u001b[0;34m.\u001b[0m\u001b[0m_call\u001b[0m\u001b[0;34m(\u001b[0m\u001b[0;34m*\u001b[0m\u001b[0margs\u001b[0m\u001b[0;34m,\u001b[0m \u001b[0;34m**\u001b[0m\u001b[0mkwds\u001b[0m\u001b[0;34m)\u001b[0m\u001b[0;34m\u001b[0m\u001b[0;34m\u001b[0m\u001b[0m\n\u001b[0m\u001b[1;32m    886\u001b[0m \u001b[0;34m\u001b[0m\u001b[0m\n\u001b[1;32m    887\u001b[0m       \u001b[0mnew_tracing_count\u001b[0m \u001b[0;34m=\u001b[0m \u001b[0mself\u001b[0m\u001b[0;34m.\u001b[0m\u001b[0mexperimental_get_tracing_count\u001b[0m\u001b[0;34m(\u001b[0m\u001b[0;34m)\u001b[0m\u001b[0;34m\u001b[0m\u001b[0;34m\u001b[0m\u001b[0m\n",
            "\u001b[0;32m/usr/local/lib/python3.7/dist-packages/tensorflow/python/eager/def_function.py\u001b[0m in \u001b[0;36m_call\u001b[0;34m(self, *args, **kwds)\u001b[0m\n\u001b[1;32m    922\u001b[0m       \u001b[0;31m# In this case we have not created variables on the first call. So we can\u001b[0m\u001b[0;34m\u001b[0m\u001b[0;34m\u001b[0m\u001b[0;34m\u001b[0m\u001b[0m\n\u001b[1;32m    923\u001b[0m       \u001b[0;31m# run the first trace but we should fail if variables are created.\u001b[0m\u001b[0;34m\u001b[0m\u001b[0;34m\u001b[0m\u001b[0;34m\u001b[0m\u001b[0m\n\u001b[0;32m--> 924\u001b[0;31m       \u001b[0mresults\u001b[0m \u001b[0;34m=\u001b[0m \u001b[0mself\u001b[0m\u001b[0;34m.\u001b[0m\u001b[0m_stateful_fn\u001b[0m\u001b[0;34m(\u001b[0m\u001b[0;34m*\u001b[0m\u001b[0margs\u001b[0m\u001b[0;34m,\u001b[0m \u001b[0;34m**\u001b[0m\u001b[0mkwds\u001b[0m\u001b[0;34m)\u001b[0m\u001b[0;34m\u001b[0m\u001b[0;34m\u001b[0m\u001b[0m\n\u001b[0m\u001b[1;32m    925\u001b[0m       \u001b[0;32mif\u001b[0m \u001b[0mself\u001b[0m\u001b[0;34m.\u001b[0m\u001b[0m_created_variables\u001b[0m \u001b[0;32mand\u001b[0m \u001b[0;32mnot\u001b[0m \u001b[0mALLOW_DYNAMIC_VARIABLE_CREATION\u001b[0m\u001b[0;34m:\u001b[0m\u001b[0;34m\u001b[0m\u001b[0;34m\u001b[0m\u001b[0m\n\u001b[1;32m    926\u001b[0m         raise ValueError(\"Creating variables on a non-first call to a function\"\n",
            "\u001b[0;32m/usr/local/lib/python3.7/dist-packages/tensorflow/python/eager/function.py\u001b[0m in \u001b[0;36m__call__\u001b[0;34m(self, *args, **kwargs)\u001b[0m\n\u001b[1;32m   3038\u001b[0m        filtered_flat_args) = self._maybe_define_function(args, kwargs)\n\u001b[1;32m   3039\u001b[0m     return graph_function._call_flat(\n\u001b[0;32m-> 3040\u001b[0;31m         filtered_flat_args, captured_inputs=graph_function.captured_inputs)  # pylint: disable=protected-access\n\u001b[0m\u001b[1;32m   3041\u001b[0m \u001b[0;34m\u001b[0m\u001b[0m\n\u001b[1;32m   3042\u001b[0m   \u001b[0;34m@\u001b[0m\u001b[0mproperty\u001b[0m\u001b[0;34m\u001b[0m\u001b[0;34m\u001b[0m\u001b[0m\n",
            "\u001b[0;32m/usr/local/lib/python3.7/dist-packages/tensorflow/python/eager/function.py\u001b[0m in \u001b[0;36m_call_flat\u001b[0;34m(self, args, captured_inputs, cancellation_manager)\u001b[0m\n\u001b[1;32m   1962\u001b[0m       \u001b[0;31m# No tape is watching; skip to running the function.\u001b[0m\u001b[0;34m\u001b[0m\u001b[0;34m\u001b[0m\u001b[0;34m\u001b[0m\u001b[0m\n\u001b[1;32m   1963\u001b[0m       return self._build_call_outputs(self._inference_function.call(\n\u001b[0;32m-> 1964\u001b[0;31m           ctx, args, cancellation_manager=cancellation_manager))\n\u001b[0m\u001b[1;32m   1965\u001b[0m     forward_backward = self._select_forward_and_backward_functions(\n\u001b[1;32m   1966\u001b[0m         \u001b[0margs\u001b[0m\u001b[0;34m,\u001b[0m\u001b[0;34m\u001b[0m\u001b[0;34m\u001b[0m\u001b[0m\n",
            "\u001b[0;32m/usr/local/lib/python3.7/dist-packages/tensorflow/python/eager/function.py\u001b[0m in \u001b[0;36mcall\u001b[0;34m(self, ctx, args, cancellation_manager)\u001b[0m\n\u001b[1;32m    594\u001b[0m               \u001b[0minputs\u001b[0m\u001b[0;34m=\u001b[0m\u001b[0margs\u001b[0m\u001b[0;34m,\u001b[0m\u001b[0;34m\u001b[0m\u001b[0;34m\u001b[0m\u001b[0m\n\u001b[1;32m    595\u001b[0m               \u001b[0mattrs\u001b[0m\u001b[0;34m=\u001b[0m\u001b[0mattrs\u001b[0m\u001b[0;34m,\u001b[0m\u001b[0;34m\u001b[0m\u001b[0;34m\u001b[0m\u001b[0m\n\u001b[0;32m--> 596\u001b[0;31m               ctx=ctx)\n\u001b[0m\u001b[1;32m    597\u001b[0m         \u001b[0;32melse\u001b[0m\u001b[0;34m:\u001b[0m\u001b[0;34m\u001b[0m\u001b[0;34m\u001b[0m\u001b[0m\n\u001b[1;32m    598\u001b[0m           outputs = execute.execute_with_cancellation(\n",
            "\u001b[0;32m/usr/local/lib/python3.7/dist-packages/tensorflow/python/eager/execute.py\u001b[0m in \u001b[0;36mquick_execute\u001b[0;34m(op_name, num_outputs, inputs, attrs, ctx, name)\u001b[0m\n\u001b[1;32m     58\u001b[0m     \u001b[0mctx\u001b[0m\u001b[0;34m.\u001b[0m\u001b[0mensure_initialized\u001b[0m\u001b[0;34m(\u001b[0m\u001b[0;34m)\u001b[0m\u001b[0;34m\u001b[0m\u001b[0;34m\u001b[0m\u001b[0m\n\u001b[1;32m     59\u001b[0m     tensors = pywrap_tfe.TFE_Py_Execute(ctx._handle, device_name, op_name,\n\u001b[0;32m---> 60\u001b[0;31m                                         inputs, attrs, num_outputs)\n\u001b[0m\u001b[1;32m     61\u001b[0m   \u001b[0;32mexcept\u001b[0m \u001b[0mcore\u001b[0m\u001b[0;34m.\u001b[0m\u001b[0m_NotOkStatusException\u001b[0m \u001b[0;32mas\u001b[0m \u001b[0me\u001b[0m\u001b[0;34m:\u001b[0m\u001b[0;34m\u001b[0m\u001b[0;34m\u001b[0m\u001b[0m\n\u001b[1;32m     62\u001b[0m     \u001b[0;32mif\u001b[0m \u001b[0mname\u001b[0m \u001b[0;32mis\u001b[0m \u001b[0;32mnot\u001b[0m \u001b[0;32mNone\u001b[0m\u001b[0;34m:\u001b[0m\u001b[0;34m\u001b[0m\u001b[0;34m\u001b[0m\u001b[0m\n",
            "\u001b[0;31mKeyboardInterrupt\u001b[0m: "
          ]
        }
      ]
    },
    {
      "cell_type": "code",
      "metadata": {
        "id": "QgNDLBuBN9E6"
      },
      "source": [
        "vgg_preds = modelvgg16.predict(test_generator)\n",
        "vgg_pred_classes = np.argmax(vgg_preds, axis=1)"
      ],
      "execution_count": null,
      "outputs": []
    },
    {
      "cell_type": "code",
      "metadata": {
        "id": "Md6qQwUlIz95"
      },
      "source": [
        "import seaborn as sns\n",
        "from sklearn.metrics import confusion_matrix\n",
        "\n",
        "# Get the names of the ten classes\n",
        "class_names1 = test_generator.class_indices.keys()\n",
        "\n",
        "def plot_heatmap(y_true, y_pred, class_names1, ax, title):\n",
        "    cm = confusion_matrix(y_true, y_pred)\n",
        "    sns.heatmap(\n",
        "        cm, \n",
        "        annot=True, \n",
        "        square=True, \n",
        "        xticklabels=class_names1, \n",
        "        yticklabels=class_names1,\n",
        "        fmt='d', \n",
        "        cmap=plt.cm.Blues,\n",
        "        cbar=False,\n",
        "        ax=ax\n",
        "    )\n",
        "    ax.set_title(title, fontsize=16)\n",
        "    ax.set_xticklabels(ax.get_xticklabels(), rotation=45, ha=\"right\")\n",
        "    ax.set_ylabel('True Label', fontsize=12)\n",
        "    ax.set_xlabel('Predicted Label', fontsize=12)\n",
        "\n",
        "fig, (ax1,ax2,ax3) = plt.subplots(1, 3, figsize=(20, 10))\n",
        "\n",
        "plot_heatmap(true_classes, scratch_pred_classes, class_names1, ax1, title=\"Custom \")    \n",
        "plot_heatmap(true_classes, vgg_pred_classes, class_names1, ax2, title=\"Transfer Learning (VGG16)\")    \n",
        "#plot_heatmap(true_classes, vgg_pred_classes_ft, class_names1, ax3, title=\"Transfer Learning (VGG16) with Fine-Tuning\") "
      ],
      "execution_count": null,
      "outputs": []
    },
    {
      "cell_type": "code",
      "metadata": {
        "id": "kH0RXGnvS0nz"
      },
      "source": [
        "#Get the predictions for the test data\n",
        "#predicted_classes = model.predict(X_test)\n",
        "\n",
        "L = 5\n",
        "W = 5\n",
        "fig, axes = plt.subplots(L, W, figsize = (12,12))\n",
        "axes = axes.ravel()\n",
        "\n",
        "for i in np.arange(0, L * W):  \n",
        "    axes[i].imshow(X_test[i])\n",
        "    axes[i].set_title(\"Prediction Class = \" )\n",
        "    axes[i].set_title(\"Original Class = \" )\n",
        "plt.subplots_adjust(wspace=0.5)"
      ],
      "execution_count": null,
      "outputs": []
    },
    {
      "cell_type": "markdown",
      "metadata": {
        "id": "MVOum8PiFwj5"
      },
      "source": [
        "# **Comparação: modelo Criado vs  modelo pre treinado VGG16**"
      ]
    },
    {
      "cell_type": "code",
      "metadata": {
        "id": "g6AYQKDTtmlY"
      },
      "source": [
        "fig = plt.figure()\n",
        "ax = fig.add_axes([0,0,1,1])\n",
        "acc = [test_acc,test_accvgg16]\n",
        "model = ['Modelo Criado','Modelo pre treinado VGG16']\n",
        "#model = ['Modelo Criado','VGG16','InceptionV3','EfficientNetB0','EfficientNetB7']\n",
        "ax.bar(model,acc)\n",
        "plt.show()"
      ],
      "execution_count": null,
      "outputs": []
    }
  ]
}