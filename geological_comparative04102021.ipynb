{
  "nbformat": 4,
  "nbformat_minor": 0,
  "metadata": {
    "colab": {
      "name": "geological-image-similarity.ipynb",
      "provenance": [],
      "authorship_tag": "ABX9TyOY0YjRDFwO86UxTTvwbCSR",
      "include_colab_link": true
    },
    "kernelspec": {
      "name": "python3",
      "display_name": "Python 3"
    },
    "language_info": {
      "name": "python"
    },
    "accelerator": "GPU"
  },
  "cells": [
    {
      "cell_type": "markdown",
      "metadata": {
        "id": "view-in-github",
        "colab_type": "text"
      },
      "source": [
        "<a href=\"https://colab.research.google.com/github/fabiobasson/Bi-Master/blob/main/geological_comparative04102021.ipynb\" target=\"_parent\"><img src=\"https://colab.research.google.com/assets/colab-badge.svg\" alt=\"Open In Colab\"/></a>"
      ]
    },
    {
      "cell_type": "markdown",
      "metadata": {
        "id": "ek-dpdgUwrpq"
      },
      "source": [
        "# Importações "
      ]
    },
    {
      "cell_type": "code",
      "metadata": {
        "id": "BhMpCgi7O64x"
      },
      "source": [
        "import warnings\n",
        "warnings.filterwarnings('always')\n",
        "warnings.filterwarnings('ignore')\n",
        "\n",
        "import os\n",
        "import tensorflow as tf\n",
        "from tensorflow.keras import layers\n",
        "from tensorflow.keras import Model\n",
        "from tensorflow.keras.layers import Dense, Dropout\n",
        "from tensorflow.keras.utils import to_categorical\n",
        "\n",
        "from sklearn.preprocessing import LabelBinarizer\n",
        "\n",
        "from os import getcwd\n",
        "import zipfile\n",
        "import shutil\n",
        "import numpy as np\n",
        "import glob\n",
        "import random\n",
        "import pandas as pd\n",
        "import matplotlib.pyplot as plt\n",
        "from keras.utils import np_utils\n",
        "from PIL import Image\n",
        "import plotly.express as px\n",
        "import cv2 as cv\n",
        "from imutils import paths\n",
        "\n",
        "from tensorflow.keras.optimizers import RMSprop, Adam\n",
        "from tensorflow.keras.applications.vgg16 import VGG16\n",
        "from tensorflow.keras.applications.inception_v3 import InceptionV3\n",
        "from tensorflow.keras.preprocessing.image import ImageDataGenerator\n",
        "\n",
        "from sklearn.metrics import confusion_matrix,accuracy_score\n",
        "from sklearn.model_selection import train_test_split"
      ],
      "execution_count": 1,
      "outputs": []
    },
    {
      "cell_type": "code",
      "metadata": {
        "colab": {
          "base_uri": "https://localhost:8080/"
        },
        "id": "ye09bw6nVWgH",
        "outputId": "afd73963-fab4-480a-e767-c36e88dd1181"
      },
      "source": [
        "print(tf.__version__)\n",
        "\n",
        "# Instalar Tensorflow\n",
        "#!pip install tensorflow==2.6.0\n",
        "\n",
        "# Instalar Keras\n",
        "!pip install keras --upgrade"
      ],
      "execution_count": null,
      "outputs": [
        {
          "output_type": "stream",
          "name": "stdout",
          "text": [
            "2.6.0\n",
            "Requirement already satisfied: keras in /usr/local/lib/python3.7/dist-packages (2.6.0)\n"
          ]
        }
      ]
    },
    {
      "cell_type": "code",
      "metadata": {
        "id": "qB35LCwK1F9Y"
      },
      "source": [
        "# Caso precise, remover os diretorios\n",
        "\n",
        "#!rm -rf geological_similarity andesite gneiss/ marble/ quartzite/ rhyolite/ schist/\n",
        "!rm -rf geological_similarity"
      ],
      "execution_count": null,
      "outputs": []
    },
    {
      "cell_type": "markdown",
      "metadata": {
        "id": "WsBJvou07fbF"
      },
      "source": [
        "# **Coleta de dados do Kaglle**"
      ]
    },
    {
      "cell_type": "code",
      "metadata": {
        "colab": {
          "resources": {
            "http://localhost:8080/nbextensions/google.colab/files.js": {
              "data": "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",
              "ok": true,
              "headers": [
                [
                  "content-type",
                  "application/javascript"
                ]
              ],
              "status": 200,
              "status_text": ""
            }
          },
          "base_uri": "https://localhost:8080/",
          "height": 73
        },
        "id": "qPW1Uceu4EkK",
        "outputId": "ab4544f4-28dd-4793-d17f-4da51dc4df61"
      },
      "source": [
        "from google.colab import files\n",
        "files.upload()\n",
        "\n",
        "!mkdir ~/.kaggle\n",
        "!cp kaggle.json ~/.kaggle/\n",
        "!chmod 600 ~/.kaggle/kaggle.json"
      ],
      "execution_count": 2,
      "outputs": [
        {
          "output_type": "display_data",
          "data": {
            "text/html": [
              "\n",
              "     <input type=\"file\" id=\"files-7c67436b-34fe-4799-b3fa-542e4281cb6e\" name=\"files[]\" multiple disabled\n",
              "        style=\"border:none\" />\n",
              "     <output id=\"result-7c67436b-34fe-4799-b3fa-542e4281cb6e\">\n",
              "      Upload widget is only available when the cell has been executed in the\n",
              "      current browser session. Please rerun this cell to enable.\n",
              "      </output>\n",
              "      <script src=\"/nbextensions/google.colab/files.js\"></script> "
            ],
            "text/plain": [
              "<IPython.core.display.HTML object>"
            ]
          },
          "metadata": {}
        },
        {
          "output_type": "stream",
          "name": "stdout",
          "text": [
            "Saving kaggle.json to kaggle.json\n"
          ]
        }
      ]
    },
    {
      "cell_type": "markdown",
      "metadata": {
        "id": "rte0cNVp7kgE"
      },
      "source": [
        "# **###  Download dos dados / descompactando os dados**"
      ]
    },
    {
      "cell_type": "code",
      "metadata": {
        "colab": {
          "base_uri": "https://localhost:8080/"
        },
        "id": "GvN30SNO4L1f",
        "outputId": "8f23293d-5c2e-4aca-87d8-c97791908f5d"
      },
      "source": [
        "#!kaggle datasets download fabiobasson/geologicalsimilarity\n",
        "#! unzip -qq  geologicalsimilarity\n",
        "!kaggle datasets download tanyadayanand/geological-image-similarity\n",
        "! unzip -qq geological-image-similarity    "
      ],
      "execution_count": 3,
      "outputs": [
        {
          "output_type": "stream",
          "name": "stdout",
          "text": [
            "Downloading geological-image-similarity.zip to /content\n",
            " 74% 25.0M/33.6M [00:00<00:00, 105MB/s] \n",
            "100% 33.6M/33.6M [00:00<00:00, 132MB/s]\n"
          ]
        }
      ]
    },
    {
      "cell_type": "markdown",
      "metadata": {
        "id": "owY2uo8A7q5j"
      },
      "source": [
        "# ** Criação da estrutura e leitura de diretórios **"
      ]
    },
    {
      "cell_type": "markdown",
      "metadata": {
        "id": "xL-7GOm_w3m3"
      },
      "source": [
        "# **Criação da estrutura e leitura de diretórios - Outra forma**"
      ]
    },
    {
      "cell_type": "code",
      "metadata": {
        "id": "QXSrUDeU4L7J",
        "colab": {
          "base_uri": "https://localhost:8080/"
        },
        "outputId": "6963bf87-f7df-4492-e216-db39c4cd321c"
      },
      "source": [
        "andesite_dir = glob.glob('geological_similarity/andesite/*.jpg');gneiss_dir = glob.glob('geological_similarity/gneiss/*.jpg')\n",
        "marble_dir= glob.glob('geological_similarity/marble/*.jpg');quartzite_dir = glob.glob('geological_similarity/quartzite/*.jpg')\n",
        "rhyolite_dir = glob.glob('geological_similarity/rhyolite/*.jpg');\n",
        "schist_dir = glob.glob('geological_similarity/schist/*.jpg')\n",
        "print(len(andesite_dir));print(len(gneiss_dir)); print(len(marble_dir)); print(len(quartzite_dir));  print(len(quartzite_dir)); print(len(schist_dir))\n"
      ],
      "execution_count": 4,
      "outputs": [
        {
          "output_type": "stream",
          "name": "stdout",
          "text": [
            "5000\n",
            "5000\n",
            "4998\n",
            "5000\n",
            "5000\n",
            "5000\n"
          ]
        }
      ]
    },
    {
      "cell_type": "code",
      "metadata": {
        "id": "wBhB6b6xi1xl"
      },
      "source": [
        "andesite_df=[];gneiss_df=[];marble_df=[];quartzite_df=[];rhyolite_df=[];schist_df=[]\n",
        "\n",
        "label1=['andesite','gneiss','marble','quartzite','rhyolite','schist']\n",
        "\n",
        "\n",
        "for i in andesite_dir:\n",
        "    andesite_df.append([i,label1[0]])\n",
        "for j in gneiss_dir:\n",
        "   gneiss_df.append([j,label1[1]])\n",
        "for l in marble_dir:\n",
        "    marble_df.append([l,label1[2]])\n",
        "for m in quartzite_dir:\n",
        "    quartzite_df.append([m,label1[3]])\n",
        "for n in rhyolite_dir:\n",
        "    rhyolite_df.append([n,label1[4]])\n",
        "for o in schist_dir:\n",
        "    schist_df.append([o,label1[5]])\n",
        "   \n",
        "df = andesite_df + gneiss_df + marble_df  + quartzite_df + rhyolite_df + schist_df\n",
        "random.shuffle(df)\n"
      ],
      "execution_count": 5,
      "outputs": []
    },
    {
      "cell_type": "code",
      "metadata": {
        "colab": {
          "base_uri": "https://localhost:8080/",
          "height": 423
        },
        "id": "87UeiF--wzh8",
        "outputId": "c4a5c8e6-4d28-4bd3-bcdf-ec1d5b965ae9"
      },
      "source": [
        "# Criação do Dataframe\n",
        "data_df = pd.DataFrame(df,columns=['path','label'])\n",
        "data_df"
      ],
      "execution_count": 6,
      "outputs": [
        {
          "output_type": "execute_result",
          "data": {
            "text/html": [
              "<div>\n",
              "<style scoped>\n",
              "    .dataframe tbody tr th:only-of-type {\n",
              "        vertical-align: middle;\n",
              "    }\n",
              "\n",
              "    .dataframe tbody tr th {\n",
              "        vertical-align: top;\n",
              "    }\n",
              "\n",
              "    .dataframe thead th {\n",
              "        text-align: right;\n",
              "    }\n",
              "</style>\n",
              "<table border=\"1\" class=\"dataframe\">\n",
              "  <thead>\n",
              "    <tr style=\"text-align: right;\">\n",
              "      <th></th>\n",
              "      <th>path</th>\n",
              "      <th>label</th>\n",
              "    </tr>\n",
              "  </thead>\n",
              "  <tbody>\n",
              "    <tr>\n",
              "      <th>0</th>\n",
              "      <td>geological_similarity/schist/44HSM.jpg</td>\n",
              "      <td>schist</td>\n",
              "    </tr>\n",
              "    <tr>\n",
              "      <th>1</th>\n",
              "      <td>geological_similarity/quartzite/5F0E0.jpg</td>\n",
              "      <td>quartzite</td>\n",
              "    </tr>\n",
              "    <tr>\n",
              "      <th>2</th>\n",
              "      <td>geological_similarity/marble/PFKYV.jpg</td>\n",
              "      <td>marble</td>\n",
              "    </tr>\n",
              "    <tr>\n",
              "      <th>3</th>\n",
              "      <td>geological_similarity/rhyolite/IP1H6.jpg</td>\n",
              "      <td>rhyolite</td>\n",
              "    </tr>\n",
              "    <tr>\n",
              "      <th>4</th>\n",
              "      <td>geological_similarity/marble/XZO88.jpg</td>\n",
              "      <td>marble</td>\n",
              "    </tr>\n",
              "    <tr>\n",
              "      <th>...</th>\n",
              "      <td>...</td>\n",
              "      <td>...</td>\n",
              "    </tr>\n",
              "    <tr>\n",
              "      <th>29993</th>\n",
              "      <td>geological_similarity/gneiss/W25V0.jpg</td>\n",
              "      <td>gneiss</td>\n",
              "    </tr>\n",
              "    <tr>\n",
              "      <th>29994</th>\n",
              "      <td>geological_similarity/gneiss/IU09P.jpg</td>\n",
              "      <td>gneiss</td>\n",
              "    </tr>\n",
              "    <tr>\n",
              "      <th>29995</th>\n",
              "      <td>geological_similarity/andesite/T3V5A.jpg</td>\n",
              "      <td>andesite</td>\n",
              "    </tr>\n",
              "    <tr>\n",
              "      <th>29996</th>\n",
              "      <td>geological_similarity/marble/LFSHC.jpg</td>\n",
              "      <td>marble</td>\n",
              "    </tr>\n",
              "    <tr>\n",
              "      <th>29997</th>\n",
              "      <td>geological_similarity/quartzite/ZBVKX.jpg</td>\n",
              "      <td>quartzite</td>\n",
              "    </tr>\n",
              "  </tbody>\n",
              "</table>\n",
              "<p>29998 rows × 2 columns</p>\n",
              "</div>"
            ],
            "text/plain": [
              "                                            path      label\n",
              "0         geological_similarity/schist/44HSM.jpg     schist\n",
              "1      geological_similarity/quartzite/5F0E0.jpg  quartzite\n",
              "2         geological_similarity/marble/PFKYV.jpg     marble\n",
              "3       geological_similarity/rhyolite/IP1H6.jpg   rhyolite\n",
              "4         geological_similarity/marble/XZO88.jpg     marble\n",
              "...                                          ...        ...\n",
              "29993     geological_similarity/gneiss/W25V0.jpg     gneiss\n",
              "29994     geological_similarity/gneiss/IU09P.jpg     gneiss\n",
              "29995   geological_similarity/andesite/T3V5A.jpg   andesite\n",
              "29996     geological_similarity/marble/LFSHC.jpg     marble\n",
              "29997  geological_similarity/quartzite/ZBVKX.jpg  quartzite\n",
              "\n",
              "[29998 rows x 2 columns]"
            ]
          },
          "metadata": {},
          "execution_count": 6
        }
      ]
    },
    {
      "cell_type": "markdown",
      "metadata": {
        "id": "NONt2HCxWd5X"
      },
      "source": [
        "# **Separação das amostras**"
      ]
    },
    {
      "cell_type": "code",
      "metadata": {
        "id": "KBjbH7d9NUnq"
      },
      "source": [
        "#X = data_df.drop(columns='label')\n",
        "#y = data_df.label"
      ],
      "execution_count": null,
      "outputs": []
    },
    {
      "cell_type": "code",
      "metadata": {
        "id": "TZ7zohxAka0z",
        "colab": {
          "base_uri": "https://localhost:8080/"
        },
        "outputId": "4b4ed06d-a05a-4b3c-f821-2a773d968103"
      },
      "source": [
        "dados=[]\n",
        "labels=[]\n",
        "\n",
        "for imagePath in data_df['path']:\n",
        "\n",
        "      label = imagePath.split(os.path.sep)[-2]\n",
        "\n",
        "      image = cv.imread(imagePath)\n",
        "      image = cv.cvtColor(image, cv.COLOR_BGR2RGB)\n",
        "      image = cv.resize(image, (32, 32))\n",
        "      \n",
        "      dados.append(image)\n",
        "      labels.append(label)\n",
        "      \n",
        "print(\"labels: \", np.unique(labels))"
      ],
      "execution_count": 7,
      "outputs": [
        {
          "output_type": "stream",
          "name": "stdout",
          "text": [
            "labels:  ['andesite' 'gneiss' 'marble' 'quartzite' 'rhyolite' 'schist']\n"
          ]
        }
      ]
    },
    {
      "cell_type": "code",
      "metadata": {
        "id": "NOcj8V_2lrIo",
        "colab": {
          "base_uri": "https://localhost:8080/"
        },
        "outputId": "b5b440ee-3caf-465d-d243-f0e4f3cd1b1f"
      },
      "source": [
        "# converter os dados e rótulos em matrizes NumPy enquanto dimensiona o pixel, intensidades na faixa [0, 255]\n",
        "\n",
        "dados = np.array(dados) / 255.0\n",
        "labels = np.array(labels)\n",
        "labels"
      ],
      "execution_count": 8,
      "outputs": [
        {
          "output_type": "execute_result",
          "data": {
            "text/plain": [
              "array(['schist', 'quartzite', 'marble', ..., 'andesite', 'marble',\n",
              "       'quartzite'], dtype='<U9')"
            ]
          },
          "metadata": {},
          "execution_count": 8
        }
      ]
    },
    {
      "cell_type": "code",
      "metadata": {
        "id": "H-w_jLX72jsi",
        "colab": {
          "base_uri": "https://localhost:8080/",
          "height": 592
        },
        "outputId": "74c76349-87ed-49eb-adc6-0bb8ee6af554"
      },
      "source": [
        "plt.figure(figsize=(10, 10))\n",
        "plt.imshow(dados[labels=='marble'][5])\n",
        "plt.show()"
      ],
      "execution_count": 9,
      "outputs": [
        {
          "output_type": "display_data",
          "data": {
            "image/png": "[encoded data removed]",
            "text/plain": [
              "<Figure size 720x720 with 1 Axes>"
            ]
          },
          "metadata": {
            "needs_background": "light"
          }
        }
      ]
    },
    {
      "cell_type": "code",
      "metadata": {
        "colab": {
          "base_uri": "https://localhost:8080/"
        },
        "id": "SE1UrEC_QZxh",
        "outputId": "a70bf776-c840-4c82-fbbb-504030052afe"
      },
      "source": [
        "lb = LabelBinarizer()\n",
        "labels = lb.fit_transform(labels)\n",
        "#labels = to_categorical(labels)\n",
        "labels"
      ],
      "execution_count": 10,
      "outputs": [
        {
          "output_type": "execute_result",
          "data": {
            "text/plain": [
              "array([[0, 0, 0, 0, 0, 1],\n",
              "       [0, 0, 0, 1, 0, 0],\n",
              "       [0, 0, 1, 0, 0, 0],\n",
              "       ...,\n",
              "       [1, 0, 0, 0, 0, 0],\n",
              "       [0, 0, 1, 0, 0, 0],\n",
              "       [0, 0, 0, 1, 0, 0]])"
            ]
          },
          "metadata": {},
          "execution_count": 10
        }
      ]
    },
    {
      "cell_type": "code",
      "metadata": {
        "id": "mwIj5M_l9t9-"
      },
      "source": [
        "X_train, X_test, y_train, y_test  = train_test_split(dados, labels, stratify=labels, test_size=0.2, random_state=42)\n",
        "\n",
        "X_train, X_val, y_train, y_val   = train_test_split(X_train, y_train,test_size=0.25, random_state=42) # 0.25 x 0.8 = 0.2"
      ],
      "execution_count": 11,
      "outputs": []
    },
    {
      "cell_type": "code",
      "metadata": {
        "colab": {
          "base_uri": "https://localhost:8080/"
        },
        "id": "GP_CsFb2D95W",
        "outputId": "d8c79b4f-e6ee-4bfb-8714-070fca64e1e2"
      },
      "source": [
        "print(X_train.shape)\n",
        "print(y_train.shape)\n",
        "\n",
        "print(X_val.shape)\n",
        "print(y_val.shape)\n",
        "\n",
        "print(X_test.shape)\n",
        "print(y_test.shape)"
      ],
      "execution_count": 12,
      "outputs": [
        {
          "output_type": "stream",
          "name": "stdout",
          "text": [
            "(17998, 32, 32, 3)\n",
            "(17998, 6)\n",
            "(6000, 32, 32, 3)\n",
            "(6000, 6)\n",
            "(6000, 32, 32, 3)\n",
            "(6000, 6)\n"
          ]
        }
      ]
    },
    {
      "cell_type": "code",
      "metadata": {
        "id": "--Cpp-sHOqRy"
      },
      "source": [
        "#X_train = X_train.reshape(X_train.shape[0], 28, 28, 3).astype('float32')\n",
        "#X_val = X_val.reshape(X_val.shape[0], 28, 28, 3).astype('float32')\n",
        "#X_test = X_test.reshape(X_test.shape[0], 28, 28, 3).astype('float32')\n",
        "\n",
        "X_train = X_train / 255\n",
        "X_val = X_val / 255\n",
        "X_test = X_test / 255"
      ],
      "execution_count": 13,
      "outputs": []
    },
    {
      "cell_type": "code",
      "metadata": {
        "colab": {
          "base_uri": "https://localhost:8080/"
        },
        "id": "tJVHzCW3PKkL",
        "outputId": "514ce4cc-5a7a-46c6-bfb2-301ffdbd8546"
      },
      "source": [
        "y_test"
      ],
      "execution_count": 14,
      "outputs": [
        {
          "output_type": "execute_result",
          "data": {
            "text/plain": [
              "array([[0, 0, 1, 0, 0, 0],\n",
              "       [0, 0, 0, 1, 0, 0],\n",
              "       [0, 0, 1, 0, 0, 0],\n",
              "       ...,\n",
              "       [0, 0, 0, 0, 1, 0],\n",
              "       [0, 1, 0, 0, 0, 0],\n",
              "       [0, 0, 0, 0, 0, 1]])"
            ]
          },
          "metadata": {},
          "execution_count": 14
        }
      ]
    },
    {
      "cell_type": "markdown",
      "metadata": {
        "id": "B-ruxpGkzqHx"
      },
      "source": [
        "#  Conhecendo os dados de imagem"
      ]
    },
    {
      "cell_type": "code",
      "metadata": {
        "id": "q0f0-HaP3cYM",
        "colab": {
          "base_uri": "https://localhost:8080/"
        },
        "outputId": "7959201f-93f0-4573-fd47-b78730f4124c"
      },
      "source": [
        "from numpy import asarray\n",
        "image = Image.open(\"geological_similarity/gneiss/0QTQE.jpg\")\n",
        "# Método asarray para realizar a conversão:\n",
        "pixels= asarray(image)\n",
        "# Verificando a faixa de valores entre 0 e 255:\n",
        "print('Data Type: %s' % pixels.dtype)\n",
        "print('Min: %.3f, Max: %.3f' % (pixels.min(), pixels.max()))\n",
        "\n",
        "#Converte os valores inteiros em float para realizar a operação:\n",
        "pixels = pixels.astype('float32')\n",
        "# Normaliza a faixa de valores:\n",
        "pixels /= pixels.max()\n",
        "# Verificando a faixa de valores normalizada:\n",
        "print('Data Type: %s' % pixels.dtype)\n",
        "print('Min: %.3f, Max: %.3f' % (pixels.min(), pixels.max()))"
      ],
      "execution_count": 15,
      "outputs": [
        {
          "output_type": "stream",
          "name": "stdout",
          "text": [
            "Data Type: uint8\n",
            "Min: 32.000, Max: 251.000\n",
            "Data Type: float32\n",
            "Min: 0.127, Max: 1.000\n"
          ]
        }
      ]
    },
    {
      "cell_type": "markdown",
      "metadata": {
        "id": "XlUbajOTxHKl"
      },
      "source": [
        "# **Limpeza de dados**\n",
        "1 - Analisando os dados ausentes\n",
        "2 - Descartando os dados ausentes\n",
        "3 - Imputando dados\n",
        "4 - Acrescentando colunas informativas"
      ]
    },
    {
      "cell_type": "code",
      "metadata": {
        "id": "ybydrHWUvlbY",
        "colab": {
          "base_uri": "https://localhost:8080/",
          "height": 458
        },
        "outputId": "d9d2ad9a-229c-4e2c-fbc9-ff754b77f139"
      },
      "source": [
        "### 1 - Analisando os dados ausentes ###\n",
        "\n",
        "import missingno as msno\n",
        "ax = msno.matrix(data_df.sample(400))"
      ],
      "execution_count": 16,
      "outputs": [
        {
          "output_type": "display_data",
          "data": {
            "image/png": "[encoded data removed]",
            "text/plain": [
              "<Figure size 1800x720 with 2 Axes>"
            ]
          },
          "metadata": {
            "needs_background": "light"
          }
        }
      ]
    },
    {
      "cell_type": "code",
      "metadata": {
        "id": "9cVvBcwVxq9s"
      },
      "source": [
        "#! pip install pandas-profiling==2.8.0\n",
        "#from pandas_profiling import ProfileReport\n",
        "#ProfileReport (data_df)"
      ],
      "execution_count": null,
      "outputs": []
    },
    {
      "cell_type": "markdown",
      "metadata": {
        "id": "rgLimflCWSq3"
      },
      "source": [
        "# **Explorando os dados**"
      ]
    },
    {
      "cell_type": "markdown",
      "metadata": {
        "id": "-AAuWUVf6ocm"
      },
      "source": [
        "\n",
        "# **Type: Data Augumentation**"
      ]
    },
    {
      "cell_type": "markdown",
      "metadata": {
        "id": "G1xbq78zfV9i"
      },
      "source": [
        "## ** Esta função irá plotar as imagens num grid de 1 a 5 colunas **"
      ]
    },
    {
      "cell_type": "code",
      "metadata": {
        "id": "hjV3pOngCtA7"
      },
      "source": [
        "IMG_SHAPE = 32\n",
        "BATCH_SIZE = 8\n",
        "\n",
        "def plotImages(images_arr):\n",
        "    fig, axes = plt.subplots(1, 5, figsize=(20,20))\n",
        "    axes = axes.flatten()\n",
        "    for img, ax in zip(images_arr, axes):\n",
        "        ax.imshow(img)\n",
        "    plt.tight_layout()\n",
        "    plt.show()"
      ],
      "execution_count": null,
      "outputs": []
    },
    {
      "cell_type": "code",
      "metadata": {
        "id": "Cw0IbS6mfdxM"
      },
      "source": [
        "# Dados de Treino e Validação\n",
        "\n",
        "datagen = ImageDataGenerator(rescale=1./255,\n",
        "                            #featurewise_center =False ,\n",
        "                            # samplewise_center =False ,\n",
        "                            # featurewise_std_normalization =False ,\n",
        "                            # samplewise_std_normalization =False ,\n",
        "                            # zca_whitening =False ,\n",
        "                            # zca_epsilon =1e -6 ,\n",
        "                            # channel_shift_range =0. ,\n",
        "                            # fill_mode = ’ nearest ’ ,\n",
        "                            # cval =0. ,\n",
        "                            rotation_range = 40,\n",
        "                            width_shift_range = 0.2,\n",
        "                            height_shift_range = 0.2,\n",
        "                            #shear_range = 0.2,\n",
        "                            #zoom_range = 0.2,\n",
        "                            horizontal_flip = True,\n",
        "                            vertical_flip = True,\n",
        "                            validation_split=0.2)\n",
        "\n",
        "datagen_val = ImageDataGenerator (rescale=1./255, \n",
        "                                 validation_split=0.2)\n"
      ],
      "execution_count": null,
      "outputs": []
    },
    {
      "cell_type": "code",
      "metadata": {
        "id": "vhFOB4fdA87L",
        "colab": {
          "base_uri": "https://localhost:8080/"
        },
        "outputId": "7297e781-dc63-4dc4-850d-ad37df98b3cf"
      },
      "source": [
        "train_generator = datagen.flow_from_dataframe (data_df,\n",
        "    batch_size=BATCH_SIZE,\n",
        "    x_col='path',\n",
        "    y_col= 'label',\n",
        "    shuffle=True,\n",
        "    target_size=(IMG_SHAPE,IMG_SHAPE),\n",
        "    class_mode='categorical',\n",
        "    subset='training')\n",
        "\n",
        "validation_generator = datagen_val.flow_from_dataframe (data_df,\n",
        "    batch_size=BATCH_SIZE,\n",
        "    x_col='path',\n",
        "    y_col= 'label',\n",
        "    shuffle=True,\n",
        "    target_size=(IMG_SHAPE,IMG_SHAPE),\n",
        "    class_mode='categorical',\n",
        "    subset='validation')"
      ],
      "execution_count": null,
      "outputs": [
        {
          "output_type": "stream",
          "name": "stdout",
          "text": [
            "Found 23999 validated image filenames belonging to 6 classes.\n",
            "Found 5999 validated image filenames belonging to 6 classes.\n"
          ]
        }
      ]
    },
    {
      "cell_type": "code",
      "metadata": {
        "colab": {
          "base_uri": "https://localhost:8080/"
        },
        "id": "i5sbJJeWlcv4",
        "outputId": "b26fe701-c07f-4275-dc90-de94aadb707e"
      },
      "source": [
        "# Dados de Teste\n",
        "\n",
        "datagen_test = ImageDataGenerator (rescale=1./255, \n",
        "                                  rotation_range = 40)\n",
        "\n",
        "test_generator = datagen_test.flow_from_dataframe(data_df,\n",
        "                                                   batch_size=1,\n",
        "                                                   x_col='path',\n",
        "                                                   y_col='label',\n",
        "                                                   shuffle=False,\n",
        "                                                   target_size=(IMG_SHAPE,IMG_SHAPE),\n",
        "                                                   class_mode='categorical')\n",
        "                                                   #subset='validation') \n",
        "\n",
        "\n",
        " "
      ],
      "execution_count": null,
      "outputs": [
        {
          "output_type": "stream",
          "name": "stdout",
          "text": [
            "Found 29998 validated image filenames belonging to 6 classes.\n"
          ]
        }
      ]
    },
    {
      "cell_type": "code",
      "metadata": {
        "colab": {
          "base_uri": "https://localhost:8080/",
          "height": 216
        },
        "id": "ShN0CzElfd9R",
        "outputId": "36605ecd-b93e-4fb2-8429-128e3c10e62c"
      },
      "source": [
        "augmented_images = [train_generator[0][0][0] for i in range(5)]\n",
        "plotImages(augmented_images)"
      ],
      "execution_count": null,
      "outputs": [
        {
          "output_type": "display_data",
          "data": {
            "image/png": "[encoded data removed]",
            "text/plain": [
              "<Figure size 1440x1440 with 5 Axes>"
            ]
          },
          "metadata": {
            "needs_background": "light"
          }
        }
      ]
    },
    {
      "cell_type": "markdown",
      "metadata": {
        "id": "UIPXX6y48mV-"
      },
      "source": [
        "# **Criando o Dataframe em dados de treino, validação e teste**"
      ]
    },
    {
      "cell_type": "code",
      "metadata": {
        "id": "ByYa1WtsGAOO",
        "colab": {
          "base_uri": "https://localhost:8080/"
        },
        "outputId": "b5fff573-1d24-451e-d637-9d4bc3ae8640"
      },
      "source": [
        "class_dict=test_generator.class_indices\n",
        "labels= test_generator.labels\n",
        "file_names= test_generator.filenames \n",
        "\n",
        "train_generator.class_indices.keys()"
      ],
      "execution_count": null,
      "outputs": [
        {
          "output_type": "execute_result",
          "data": {
            "text/plain": [
              "{'andesite': 0,\n",
              " 'gneiss': 1,\n",
              " 'marble': 2,\n",
              " 'quartzite': 3,\n",
              " 'rhyolite': 4,\n",
              " 'schist': 5}"
            ]
          },
          "metadata": {},
          "execution_count": 57
        }
      ]
    },
    {
      "cell_type": "code",
      "metadata": {
        "id": "397pKysWejrc",
        "colab": {
          "base_uri": "https://localhost:8080/"
        },
        "outputId": "0297c9fb-6533-4628-d99b-2b0857e5b72f"
      },
      "source": [
        "X_test, y_test = next(test_generator)\n",
        "print(X_test.shape)\n",
        "print(y_test.shape)"
      ],
      "execution_count": null,
      "outputs": [
        {
          "output_type": "stream",
          "name": "stdout",
          "text": [
            "(24000, 32, 32, 3)\n",
            "(24000, 6)\n"
          ]
        }
      ]
    },
    {
      "cell_type": "markdown",
      "metadata": {
        "id": "dXm8LYqv0_vK"
      },
      "source": [
        "# **Criar o modelo**"
      ]
    },
    {
      "cell_type": "markdown",
      "metadata": {
        "id": "MZc34XkIcgA-"
      },
      "source": [
        "# ***Parametros***"
      ]
    },
    {
      "cell_type": "code",
      "metadata": {
        "id": "e2ubYEBGcjJK"
      },
      "source": [
        "INIT_LR = 1e-3\n",
        "EPOCHS = 100\n",
        "BS=24"
      ],
      "execution_count": null,
      "outputs": []
    },
    {
      "cell_type": "code",
      "metadata": {
        "id": "ncctBTCAgG7d"
      },
      "source": [
        "num_classes = 6\n",
        "\n",
        "model = tf.keras.models.Sequential([\n",
        "    tf.keras.layers.Conv2D(64, (3,3), activation='relu', input_shape=(32,32,3)),\n",
        "    #tf.keras.layers.BatchNormalization(),\n",
        "    tf.keras.layers.MaxPooling2D(2, 2),\n",
        "\n",
        "    tf.keras.layers.Conv2D(32, (3,3), activation='relu'),\n",
        "    tf.keras.layers.MaxPooling2D(2,2),\n",
        "\n",
        "    tf.keras.layers.Conv2D(16, (3,3), activation='relu'),\n",
        "    tf.keras.layers.MaxPooling2D(2,2),\n",
        "   \n",
        "\n",
        "    tf.keras.layers.Flatten(),\n",
        "    tf.keras.layers.Dense(512, activation='relu'),\n",
        "    tf.keras.layers.Dropout(0.5),\n",
        "    tf.keras.layers.Dense(num_classes, activation='softmax')\n",
        "   \n",
        "])"
      ],
      "execution_count": null,
      "outputs": []
    },
    {
      "cell_type": "markdown",
      "metadata": {
        "id": "cQvF_-VrbIhO"
      },
      "source": [
        "# **Compilando o Modelo**"
      ]
    },
    {
      "cell_type": "code",
      "metadata": {
        "id": "tseOThp5bLVl",
        "colab": {
          "base_uri": "https://localhost:8080/"
        },
        "outputId": "31d95dbe-eaa5-48f7-d7d1-750688534b92"
      },
      "source": [
        "model.compile(optimizer = Adam(learning_rate=0.0001), \n",
        "               loss = 'categorical_crossentropy', \n",
        "               metrics =['accuracy'])\n",
        "model.summary()  "
      ],
      "execution_count": null,
      "outputs": [
        {
          "output_type": "stream",
          "name": "stdout",
          "text": [
            "Model: \"sequential_2\"\n",
            "_________________________________________________________________\n",
            "Layer (type)                 Output Shape              Param #   \n",
            "=================================================================\n",
            "conv2d_6 (Conv2D)            (None, 30, 30, 64)        1792      \n",
            "_________________________________________________________________\n",
            "max_pooling2d_6 (MaxPooling2 (None, 15, 15, 64)        0         \n",
            "_________________________________________________________________\n",
            "conv2d_7 (Conv2D)            (None, 13, 13, 32)        18464     \n",
            "_________________________________________________________________\n",
            "max_pooling2d_7 (MaxPooling2 (None, 6, 6, 32)          0         \n",
            "_________________________________________________________________\n",
            "conv2d_8 (Conv2D)            (None, 4, 4, 16)          4624      \n",
            "_________________________________________________________________\n",
            "max_pooling2d_8 (MaxPooling2 (None, 2, 2, 16)          0         \n",
            "_________________________________________________________________\n",
            "flatten_2 (Flatten)          (None, 64)                0         \n",
            "_________________________________________________________________\n",
            "dense_4 (Dense)              (None, 512)               33280     \n",
            "_________________________________________________________________\n",
            "dropout_2 (Dropout)          (None, 512)               0         \n",
            "_________________________________________________________________\n",
            "dense_5 (Dense)              (None, 6)                 3078      \n",
            "=================================================================\n",
            "Total params: 61,238\n",
            "Trainable params: 61,238\n",
            "Non-trainable params: 0\n",
            "_________________________________________________________________\n"
          ]
        }
      ]
    },
    {
      "cell_type": "code",
      "metadata": {
        "id": "9Sr0YDZ8dCmz"
      },
      "source": [
        "callbacks_list = [\n",
        "    tf.keras.callbacks.ReduceLROnPlateau(factor=0.5,\n",
        "                                         patience=4,\n",
        "                                         verbose=0),\n",
        "    tf.keras.callbacks.EarlyStopping(\n",
        "        monitor=\"accuracy\",\n",
        "        patience=12,\n",
        "        restore_best_weights=True,\n",
        "    ),\n",
        "    tf.keras.callbacks.ModelCheckpoint(\n",
        "        filepath='best_model.h5',\n",
        "        monitor=\"val_accuracy\",\n",
        "        verbose=1,\n",
        "        save_best_only=True,\n",
        "        #save_weights_only=False,\n",
        "        #mode='auto',\n",
        "        #period=1,\n",
        "    ),\n",
        "\n",
        "]"
      ],
      "execution_count": null,
      "outputs": []
    },
    {
      "cell_type": "markdown",
      "metadata": {
        "id": "IhQyiWIh1HQs"
      },
      "source": [
        "# **Avaliar o modelo**"
      ]
    },
    {
      "cell_type": "code",
      "metadata": {
        "id": "cwpnwl86dm74",
        "colab": {
          "base_uri": "https://localhost:8080/"
        },
        "outputId": "0cb214cd-a7d6-41ee-e66d-4d484bfe93ab"
      },
      "source": [
        "epochs=200\n",
        "history = model.fit(X_train,y_train,\n",
        "                               epochs=EPOCHS,\n",
        "                               verbose=1,\n",
        "                               callbacks=callbacks_list,\n",
        "                               steps_per_epoch = 18000//BS, \n",
        "                               #validation_split=0.2,\n",
        "                               #class_weight=class_weight_,\n",
        "                               workers=4,\n",
        "                               use_multiprocessing=True,\n",
        "                               validation_steps = 5999//BS,\n",
        "                               validation_data= (X_val,y_val))"
      ],
      "execution_count": null,
      "outputs": [
        {
          "output_type": "stream",
          "name": "stdout",
          "text": [
            "Epoch 1/200\n",
            "70/70 [==============================] - 28s 393ms/step - loss: 0.9764 - accuracy: 0.5805 - val_loss: 0.9721 - val_accuracy: 0.5850\n",
            "\n",
            "Epoch 00001: val_accuracy improved from 0.57750 to 0.58500, saving model to best_model.h5\n",
            "Epoch 2/200\n",
            "70/70 [==============================] - 28s 393ms/step - loss: 0.9705 - accuracy: 0.5818 - val_loss: 0.9714 - val_accuracy: 0.5897\n",
            "\n",
            "Epoch 00002: val_accuracy improved from 0.58500 to 0.58967, saving model to best_model.h5\n",
            "Epoch 3/200\n",
            "70/70 [==============================] - 28s 394ms/step - loss: 0.9682 - accuracy: 0.5828 - val_loss: 0.9691 - val_accuracy: 0.5892\n",
            "\n",
            "Epoch 00003: val_accuracy did not improve from 0.58967\n",
            "Epoch 4/200\n",
            "70/70 [==============================] - 28s 396ms/step - loss: 0.9680 - accuracy: 0.5837 - val_loss: 0.9694 - val_accuracy: 0.5878\n",
            "\n",
            "Epoch 00004: val_accuracy did not improve from 0.58967\n",
            "Epoch 5/200\n",
            "70/70 [==============================] - 28s 393ms/step - loss: 0.9655 - accuracy: 0.5853 - val_loss: 0.9633 - val_accuracy: 0.5900\n",
            "\n",
            "Epoch 00005: val_accuracy improved from 0.58967 to 0.59000, saving model to best_model.h5\n",
            "Epoch 6/200\n",
            "70/70 [==============================] - 28s 392ms/step - loss: 0.9625 - accuracy: 0.5861 - val_loss: 0.9623 - val_accuracy: 0.5853\n",
            "\n",
            "Epoch 00006: val_accuracy did not improve from 0.59000\n",
            "Epoch 7/200\n",
            "70/70 [==============================] - 27s 389ms/step - loss: 0.9594 - accuracy: 0.5887 - val_loss: 0.9572 - val_accuracy: 0.5933\n",
            "\n",
            "Epoch 00007: val_accuracy improved from 0.59000 to 0.59333, saving model to best_model.h5\n",
            "Epoch 8/200\n",
            "70/70 [==============================] - 27s 388ms/step - loss: 0.9580 - accuracy: 0.5930 - val_loss: 0.9539 - val_accuracy: 0.5938\n",
            "\n",
            "Epoch 00008: val_accuracy improved from 0.59333 to 0.59383, saving model to best_model.h5\n",
            "Epoch 9/200\n",
            "70/70 [==============================] - 27s 389ms/step - loss: 0.9507 - accuracy: 0.5968 - val_loss: 0.9498 - val_accuracy: 0.5960\n",
            "\n",
            "Epoch 00009: val_accuracy improved from 0.59383 to 0.59600, saving model to best_model.h5\n",
            "Epoch 10/200\n",
            "70/70 [==============================] - 27s 388ms/step - loss: 0.9502 - accuracy: 0.5981 - val_loss: 0.9511 - val_accuracy: 0.5947\n",
            "\n",
            "Epoch 00010: val_accuracy did not improve from 0.59600\n",
            "Epoch 11/200\n",
            "70/70 [==============================] - 27s 390ms/step - loss: 0.9482 - accuracy: 0.5973 - val_loss: 0.9459 - val_accuracy: 0.6060\n",
            "\n",
            "Epoch 00011: val_accuracy improved from 0.59600 to 0.60600, saving model to best_model.h5\n",
            "Epoch 12/200\n",
            "70/70 [==============================] - 27s 389ms/step - loss: 0.9429 - accuracy: 0.5978 - val_loss: 0.9399 - val_accuracy: 0.6057\n",
            "\n",
            "Epoch 00012: val_accuracy did not improve from 0.60600\n",
            "Epoch 13/200\n",
            "70/70 [==============================] - 27s 389ms/step - loss: 0.9352 - accuracy: 0.6037 - val_loss: 0.9340 - val_accuracy: 0.6033\n",
            "\n",
            "Epoch 00013: val_accuracy did not improve from 0.60600\n",
            "Epoch 14/200\n",
            "70/70 [==============================] - 27s 389ms/step - loss: 0.9337 - accuracy: 0.6068 - val_loss: 0.9285 - val_accuracy: 0.6140\n",
            "\n",
            "Epoch 00014: val_accuracy improved from 0.60600 to 0.61400, saving model to best_model.h5\n",
            "Epoch 15/200\n",
            "70/70 [==============================] - 27s 389ms/step - loss: 0.9276 - accuracy: 0.6097 - val_loss: 0.9219 - val_accuracy: 0.6068\n",
            "\n",
            "Epoch 00015: val_accuracy did not improve from 0.61400\n",
            "Epoch 16/200\n",
            "70/70 [==============================] - 27s 388ms/step - loss: 0.9206 - accuracy: 0.6108 - val_loss: 0.9136 - val_accuracy: 0.6172\n",
            "\n",
            "Epoch 00016: val_accuracy improved from 0.61400 to 0.61717, saving model to best_model.h5\n",
            "Epoch 17/200\n",
            "70/70 [==============================] - 27s 389ms/step - loss: 0.9137 - accuracy: 0.6181 - val_loss: 0.9053 - val_accuracy: 0.6247\n",
            "\n",
            "Epoch 00017: val_accuracy improved from 0.61717 to 0.62467, saving model to best_model.h5\n",
            "Epoch 18/200\n",
            "70/70 [==============================] - 27s 388ms/step - loss: 0.9086 - accuracy: 0.6222 - val_loss: 0.8964 - val_accuracy: 0.6317\n",
            "\n",
            "Epoch 00018: val_accuracy improved from 0.62467 to 0.63167, saving model to best_model.h5\n",
            "Epoch 19/200\n",
            "70/70 [==============================] - 27s 389ms/step - loss: 0.8952 - accuracy: 0.6347 - val_loss: 0.8950 - val_accuracy: 0.6280\n",
            "\n",
            "Epoch 00019: val_accuracy did not improve from 0.63167\n",
            "Epoch 20/200\n",
            "70/70 [==============================] - 27s 388ms/step - loss: 0.8845 - accuracy: 0.6408 - val_loss: 0.8724 - val_accuracy: 0.6595\n",
            "\n",
            "Epoch 00020: val_accuracy improved from 0.63167 to 0.65950, saving model to best_model.h5\n",
            "Epoch 21/200\n",
            "70/70 [==============================] - 28s 392ms/step - loss: 0.8718 - accuracy: 0.6458 - val_loss: 0.8605 - val_accuracy: 0.6567\n",
            "\n",
            "Epoch 00021: val_accuracy did not improve from 0.65950\n",
            "Epoch 22/200\n",
            "70/70 [==============================] - 27s 390ms/step - loss: 0.8545 - accuracy: 0.6606 - val_loss: 0.8481 - val_accuracy: 0.6427\n",
            "\n",
            "Epoch 00022: val_accuracy did not improve from 0.65950\n",
            "Epoch 23/200\n",
            "70/70 [==============================] - 27s 389ms/step - loss: 0.8405 - accuracy: 0.6644 - val_loss: 0.8209 - val_accuracy: 0.7085\n",
            "\n",
            "Epoch 00023: val_accuracy improved from 0.65950 to 0.70850, saving model to best_model.h5\n",
            "Epoch 24/200\n",
            "70/70 [==============================] - 27s 389ms/step - loss: 0.8169 - accuracy: 0.6822 - val_loss: 0.7966 - val_accuracy: 0.7048\n",
            "\n",
            "Epoch 00024: val_accuracy did not improve from 0.70850\n",
            "Epoch 25/200\n",
            "70/70 [==============================] - 27s 390ms/step - loss: 0.7929 - accuracy: 0.6995 - val_loss: 0.7713 - val_accuracy: 0.7325\n",
            "\n",
            "Epoch 00025: val_accuracy improved from 0.70850 to 0.73250, saving model to best_model.h5\n",
            "Epoch 26/200\n",
            "70/70 [==============================] - 30s 423ms/step - loss: 0.7713 - accuracy: 0.7131 - val_loss: 0.7413 - val_accuracy: 0.7533\n",
            "\n",
            "Epoch 00026: val_accuracy improved from 0.73250 to 0.75333, saving model to best_model.h5\n",
            "Epoch 27/200\n",
            "70/70 [==============================] - 27s 391ms/step - loss: 0.7393 - accuracy: 0.7377 - val_loss: 0.7202 - val_accuracy: 0.7413\n",
            "\n",
            "Epoch 00027: val_accuracy did not improve from 0.75333\n",
            "Epoch 28/200\n",
            "70/70 [==============================] - 27s 391ms/step - loss: 0.7116 - accuracy: 0.7482 - val_loss: 0.6761 - val_accuracy: 0.7833\n",
            "\n",
            "Epoch 00028: val_accuracy improved from 0.75333 to 0.78333, saving model to best_model.h5\n",
            "Epoch 29/200\n",
            "70/70 [==============================] - 28s 392ms/step - loss: 0.6785 - accuracy: 0.7669 - val_loss: 0.6505 - val_accuracy: 0.7962\n",
            "\n",
            "Epoch 00029: val_accuracy improved from 0.78333 to 0.79617, saving model to best_model.h5\n",
            "Epoch 30/200\n",
            "70/70 [==============================] - 27s 389ms/step - loss: 0.6487 - accuracy: 0.7749 - val_loss: 0.6165 - val_accuracy: 0.8032\n",
            "\n",
            "Epoch 00030: val_accuracy improved from 0.79617 to 0.80317, saving model to best_model.h5\n",
            "Epoch 31/200\n",
            "70/70 [==============================] - 28s 392ms/step - loss: 0.6187 - accuracy: 0.7887 - val_loss: 0.5884 - val_accuracy: 0.8065\n",
            "\n",
            "Epoch 00031: val_accuracy improved from 0.80317 to 0.80650, saving model to best_model.h5\n",
            "Epoch 32/200\n",
            "70/70 [==============================] - 28s 392ms/step - loss: 0.5913 - accuracy: 0.7965 - val_loss: 0.5679 - val_accuracy: 0.8053\n",
            "\n",
            "Epoch 00032: val_accuracy did not improve from 0.80650\n",
            "Epoch 33/200\n",
            "70/70 [==============================] - 27s 391ms/step - loss: 0.5728 - accuracy: 0.7980 - val_loss: 0.5415 - val_accuracy: 0.8175\n",
            "\n",
            "Epoch 00033: val_accuracy improved from 0.80650 to 0.81750, saving model to best_model.h5\n",
            "Epoch 34/200\n",
            "70/70 [==============================] - 28s 393ms/step - loss: 0.5468 - accuracy: 0.8059 - val_loss: 0.5263 - val_accuracy: 0.8123\n",
            "\n",
            "Epoch 00034: val_accuracy did not improve from 0.81750\n",
            "Epoch 35/200\n",
            "70/70 [==============================] - 28s 393ms/step - loss: 0.5302 - accuracy: 0.8084 - val_loss: 0.5090 - val_accuracy: 0.8223\n",
            "\n",
            "Epoch 00035: val_accuracy improved from 0.81750 to 0.82233, saving model to best_model.h5\n",
            "Epoch 36/200\n",
            "70/70 [==============================] - 27s 392ms/step - loss: 0.5082 - accuracy: 0.8164 - val_loss: 0.4881 - val_accuracy: 0.8257\n",
            "\n",
            "Epoch 00036: val_accuracy improved from 0.82233 to 0.82567, saving model to best_model.h5\n",
            "Epoch 37/200\n",
            "70/70 [==============================] - 28s 392ms/step - loss: 0.4986 - accuracy: 0.8165 - val_loss: 0.4750 - val_accuracy: 0.8305\n",
            "\n",
            "Epoch 00037: val_accuracy improved from 0.82567 to 0.83050, saving model to best_model.h5\n",
            "Epoch 38/200\n",
            "70/70 [==============================] - 28s 393ms/step - loss: 0.4806 - accuracy: 0.8233 - val_loss: 0.4677 - val_accuracy: 0.8303\n",
            "\n",
            "Epoch 00038: val_accuracy did not improve from 0.83050\n",
            "Epoch 39/200\n",
            "70/70 [==============================] - 28s 392ms/step - loss: 0.4720 - accuracy: 0.8264 - val_loss: 0.4538 - val_accuracy: 0.8338\n",
            "\n",
            "Epoch 00039: val_accuracy improved from 0.83050 to 0.83383, saving model to best_model.h5\n",
            "Epoch 40/200\n",
            "70/70 [==============================] - 28s 392ms/step - loss: 0.4577 - accuracy: 0.8334 - val_loss: 0.4416 - val_accuracy: 0.8398\n",
            "\n",
            "Epoch 00040: val_accuracy improved from 0.83383 to 0.83983, saving model to best_model.h5\n",
            "Epoch 41/200\n",
            "70/70 [==============================] - 28s 392ms/step - loss: 0.4496 - accuracy: 0.8366 - val_loss: 0.4296 - val_accuracy: 0.8442\n",
            "\n",
            "Epoch 00041: val_accuracy improved from 0.83983 to 0.84417, saving model to best_model.h5\n",
            "Epoch 42/200\n",
            "70/70 [==============================] - 28s 392ms/step - loss: 0.4386 - accuracy: 0.8376 - val_loss: 0.4271 - val_accuracy: 0.8462\n",
            "\n",
            "Epoch 00042: val_accuracy improved from 0.84417 to 0.84617, saving model to best_model.h5\n",
            "Epoch 43/200\n",
            "70/70 [==============================] - 28s 393ms/step - loss: 0.4366 - accuracy: 0.8395 - val_loss: 0.4194 - val_accuracy: 0.8522\n",
            "\n",
            "Epoch 00043: val_accuracy improved from 0.84617 to 0.85217, saving model to best_model.h5\n",
            "Epoch 44/200\n",
            "70/70 [==============================] - 28s 395ms/step - loss: 0.4326 - accuracy: 0.8440 - val_loss: 0.4078 - val_accuracy: 0.8562\n",
            "\n",
            "Epoch 00044: val_accuracy improved from 0.85217 to 0.85617, saving model to best_model.h5\n",
            "Epoch 45/200\n",
            "70/70 [==============================] - 28s 394ms/step - loss: 0.4195 - accuracy: 0.8481 - val_loss: 0.4050 - val_accuracy: 0.8577\n",
            "\n",
            "Epoch 00045: val_accuracy improved from 0.85617 to 0.85767, saving model to best_model.h5\n",
            "Epoch 46/200\n",
            "70/70 [==============================] - 28s 394ms/step - loss: 0.4125 - accuracy: 0.8522 - val_loss: 0.3948 - val_accuracy: 0.8640\n",
            "\n",
            "Epoch 00046: val_accuracy improved from 0.85767 to 0.86400, saving model to best_model.h5\n",
            "Epoch 47/200\n",
            "70/70 [==============================] - 28s 393ms/step - loss: 0.4104 - accuracy: 0.8493 - val_loss: 0.3931 - val_accuracy: 0.8635\n",
            "\n",
            "Epoch 00047: val_accuracy did not improve from 0.86400\n",
            "Epoch 48/200\n",
            "70/70 [==============================] - 29s 416ms/step - loss: 0.4025 - accuracy: 0.8552 - val_loss: 0.3848 - val_accuracy: 0.8658\n",
            "\n",
            "Epoch 00048: val_accuracy improved from 0.86400 to 0.86583, saving model to best_model.h5\n",
            "Epoch 49/200\n",
            "70/70 [==============================] - 28s 393ms/step - loss: 0.3976 - accuracy: 0.8579 - val_loss: 0.3814 - val_accuracy: 0.8698\n",
            "\n",
            "Epoch 00049: val_accuracy improved from 0.86583 to 0.86983, saving model to best_model.h5\n",
            "Epoch 50/200\n",
            "70/70 [==============================] - 28s 393ms/step - loss: 0.3922 - accuracy: 0.8595 - val_loss: 0.3790 - val_accuracy: 0.8707\n",
            "\n",
            "Epoch 00050: val_accuracy improved from 0.86983 to 0.87067, saving model to best_model.h5\n",
            "Epoch 51/200\n",
            "70/70 [==============================] - 28s 392ms/step - loss: 0.3885 - accuracy: 0.8623 - val_loss: 0.3787 - val_accuracy: 0.8695\n",
            "\n",
            "Epoch 00051: val_accuracy did not improve from 0.87067\n",
            "Epoch 52/200\n",
            "70/70 [==============================] - 27s 391ms/step - loss: 0.3844 - accuracy: 0.8632 - val_loss: 0.3949 - val_accuracy: 0.8580\n",
            "\n",
            "Epoch 00052: val_accuracy did not improve from 0.87067\n",
            "Epoch 53/200\n",
            "70/70 [==============================] - 28s 395ms/step - loss: 0.3902 - accuracy: 0.8598 - val_loss: 0.3657 - val_accuracy: 0.8755\n",
            "\n",
            "Epoch 00053: val_accuracy improved from 0.87067 to 0.87550, saving model to best_model.h5\n",
            "Epoch 54/200\n",
            "70/70 [==============================] - 27s 392ms/step - loss: 0.3786 - accuracy: 0.8668 - val_loss: 0.3630 - val_accuracy: 0.8773\n",
            "\n",
            "Epoch 00054: val_accuracy improved from 0.87550 to 0.87733, saving model to best_model.h5\n",
            "Epoch 55/200\n",
            "70/70 [==============================] - 28s 393ms/step - loss: 0.3737 - accuracy: 0.8675 - val_loss: 0.3587 - val_accuracy: 0.8767\n",
            "\n",
            "Epoch 00055: val_accuracy did not improve from 0.87733\n",
            "Epoch 56/200\n",
            "70/70 [==============================] - 28s 394ms/step - loss: 0.3704 - accuracy: 0.8693 - val_loss: 0.3557 - val_accuracy: 0.8808\n",
            "\n",
            "Epoch 00056: val_accuracy improved from 0.87733 to 0.88083, saving model to best_model.h5\n",
            "Epoch 57/200\n",
            "70/70 [==============================] - 28s 393ms/step - loss: 0.3703 - accuracy: 0.8675 - val_loss: 0.3554 - val_accuracy: 0.8782\n",
            "\n",
            "Epoch 00057: val_accuracy did not improve from 0.88083\n",
            "Epoch 58/200\n",
            "70/70 [==============================] - 27s 390ms/step - loss: 0.3628 - accuracy: 0.8727 - val_loss: 0.3620 - val_accuracy: 0.8773\n",
            "\n",
            "Epoch 00058: val_accuracy did not improve from 0.88083\n",
            "Epoch 59/200\n",
            "70/70 [==============================] - 28s 394ms/step - loss: 0.3640 - accuracy: 0.8709 - val_loss: 0.3554 - val_accuracy: 0.8818\n",
            "\n",
            "Epoch 00059: val_accuracy improved from 0.88083 to 0.88183, saving model to best_model.h5\n",
            "Epoch 60/200\n",
            "70/70 [==============================] - 28s 392ms/step - loss: 0.3601 - accuracy: 0.8723 - val_loss: 0.3474 - val_accuracy: 0.8820\n",
            "\n",
            "Epoch 00060: val_accuracy improved from 0.88183 to 0.88200, saving model to best_model.h5\n",
            "Epoch 61/200\n",
            "70/70 [==============================] - 28s 392ms/step - loss: 0.3610 - accuracy: 0.8735 - val_loss: 0.3575 - val_accuracy: 0.8717\n",
            "\n",
            "Epoch 00061: val_accuracy did not improve from 0.88200\n",
            "Epoch 62/200\n",
            "70/70 [==============================] - 28s 392ms/step - loss: 0.3658 - accuracy: 0.8689 - val_loss: 0.3498 - val_accuracy: 0.8783\n",
            "\n",
            "Epoch 00062: val_accuracy did not improve from 0.88200\n",
            "Epoch 63/200\n",
            "70/70 [==============================] - 28s 393ms/step - loss: 0.3550 - accuracy: 0.8748 - val_loss: 0.3410 - val_accuracy: 0.8850\n",
            "\n",
            "Epoch 00063: val_accuracy improved from 0.88200 to 0.88500, saving model to best_model.h5\n",
            "Epoch 64/200\n",
            "70/70 [==============================] - 28s 392ms/step - loss: 0.3520 - accuracy: 0.8767 - val_loss: 0.3468 - val_accuracy: 0.8812\n",
            "\n",
            "Epoch 00064: val_accuracy did not improve from 0.88500\n",
            "Epoch 65/200\n",
            "70/70 [==============================] - 27s 391ms/step - loss: 0.3592 - accuracy: 0.8722 - val_loss: 0.3435 - val_accuracy: 0.8832\n",
            "\n",
            "Epoch 00065: val_accuracy did not improve from 0.88500\n",
            "Epoch 66/200\n",
            "70/70 [==============================] - 28s 392ms/step - loss: 0.3508 - accuracy: 0.8763 - val_loss: 0.3443 - val_accuracy: 0.8860\n",
            "\n",
            "Epoch 00066: val_accuracy improved from 0.88500 to 0.88600, saving model to best_model.h5\n",
            "Epoch 67/200\n",
            "70/70 [==============================] - 28s 394ms/step - loss: 0.3477 - accuracy: 0.8785 - val_loss: 0.3408 - val_accuracy: 0.8880\n",
            "\n",
            "Epoch 00067: val_accuracy improved from 0.88600 to 0.88800, saving model to best_model.h5\n",
            "Epoch 68/200\n",
            "70/70 [==============================] - 28s 392ms/step - loss: 0.3461 - accuracy: 0.8764 - val_loss: 0.3388 - val_accuracy: 0.8872\n",
            "\n",
            "Epoch 00068: val_accuracy did not improve from 0.88800\n",
            "Epoch 69/200\n",
            "70/70 [==============================] - 28s 392ms/step - loss: 0.3455 - accuracy: 0.8784 - val_loss: 0.3340 - val_accuracy: 0.8865\n",
            "\n",
            "Epoch 00069: val_accuracy did not improve from 0.88800\n",
            "Epoch 70/200\n",
            "70/70 [==============================] - 28s 393ms/step - loss: 0.3461 - accuracy: 0.8774 - val_loss: 0.3340 - val_accuracy: 0.8897\n",
            "\n",
            "Epoch 00070: val_accuracy improved from 0.88800 to 0.88967, saving model to best_model.h5\n",
            "Epoch 71/200\n",
            "70/70 [==============================] - 28s 392ms/step - loss: 0.3413 - accuracy: 0.8798 - val_loss: 0.3298 - val_accuracy: 0.8900\n",
            "\n",
            "Epoch 00071: val_accuracy improved from 0.88967 to 0.89000, saving model to best_model.h5\n",
            "Epoch 72/200\n",
            "70/70 [==============================] - 28s 392ms/step - loss: 0.3431 - accuracy: 0.8815 - val_loss: 0.3320 - val_accuracy: 0.8863\n",
            "\n",
            "Epoch 00072: val_accuracy did not improve from 0.89000\n",
            "Epoch 73/200\n",
            "70/70 [==============================] - 27s 391ms/step - loss: 0.3391 - accuracy: 0.8803 - val_loss: 0.3311 - val_accuracy: 0.8870\n",
            "\n",
            "Epoch 00073: val_accuracy did not improve from 0.89000\n",
            "Epoch 74/200\n",
            "70/70 [==============================] - 27s 389ms/step - loss: 0.3375 - accuracy: 0.8800 - val_loss: 0.3351 - val_accuracy: 0.8863\n",
            "\n",
            "Epoch 00074: val_accuracy did not improve from 0.89000\n",
            "Epoch 75/200\n",
            "70/70 [==============================] - 28s 392ms/step - loss: 0.3410 - accuracy: 0.8791 - val_loss: 0.3285 - val_accuracy: 0.8898\n",
            "\n",
            "Epoch 00075: val_accuracy did not improve from 0.89000\n",
            "Epoch 76/200\n",
            "70/70 [==============================] - 27s 390ms/step - loss: 0.3351 - accuracy: 0.8848 - val_loss: 0.3280 - val_accuracy: 0.8868\n",
            "\n",
            "Epoch 00076: val_accuracy did not improve from 0.89000\n",
            "Epoch 77/200\n",
            "70/70 [==============================] - 27s 391ms/step - loss: 0.3348 - accuracy: 0.8813 - val_loss: 0.3362 - val_accuracy: 0.8827\n",
            "\n",
            "Epoch 00077: val_accuracy did not improve from 0.89000\n",
            "Epoch 78/200\n",
            "70/70 [==============================] - 27s 391ms/step - loss: 0.3369 - accuracy: 0.8806 - val_loss: 0.3283 - val_accuracy: 0.8898\n",
            "\n",
            "Epoch 00078: val_accuracy did not improve from 0.89000\n",
            "Epoch 79/200\n",
            "70/70 [==============================] - 27s 391ms/step - loss: 0.3319 - accuracy: 0.8840 - val_loss: 0.3444 - val_accuracy: 0.8823\n",
            "\n",
            "Epoch 00079: val_accuracy did not improve from 0.89000\n",
            "Epoch 80/200\n",
            "70/70 [==============================] - 27s 389ms/step - loss: 0.3301 - accuracy: 0.8829 - val_loss: 0.3216 - val_accuracy: 0.8903\n",
            "\n",
            "Epoch 00080: val_accuracy improved from 0.89000 to 0.89033, saving model to best_model.h5\n",
            "Epoch 81/200\n",
            "70/70 [==============================] - 27s 390ms/step - loss: 0.3308 - accuracy: 0.8836 - val_loss: 0.3249 - val_accuracy: 0.8885\n",
            "\n",
            "Epoch 00081: val_accuracy did not improve from 0.89033\n",
            "Epoch 82/200\n",
            "70/70 [==============================] - 27s 391ms/step - loss: 0.3307 - accuracy: 0.8859 - val_loss: 0.3180 - val_accuracy: 0.8927\n",
            "\n",
            "Epoch 00082: val_accuracy improved from 0.89033 to 0.89267, saving model to best_model.h5\n",
            "Epoch 83/200\n",
            "70/70 [==============================] - 27s 391ms/step - loss: 0.3337 - accuracy: 0.8823 - val_loss: 0.3192 - val_accuracy: 0.8928\n",
            "\n",
            "Epoch 00083: val_accuracy improved from 0.89267 to 0.89283, saving model to best_model.h5\n",
            "Epoch 84/200\n",
            "70/70 [==============================] - 27s 391ms/step - loss: 0.3270 - accuracy: 0.8845 - val_loss: 0.3170 - val_accuracy: 0.8922\n",
            "\n",
            "Epoch 00084: val_accuracy did not improve from 0.89283\n",
            "Epoch 85/200\n",
            "70/70 [==============================] - 27s 390ms/step - loss: 0.3287 - accuracy: 0.8836 - val_loss: 0.3155 - val_accuracy: 0.8930\n",
            "\n",
            "Epoch 00085: val_accuracy improved from 0.89283 to 0.89300, saving model to best_model.h5\n",
            "Epoch 86/200\n",
            "70/70 [==============================] - 27s 391ms/step - loss: 0.3287 - accuracy: 0.8830 - val_loss: 0.3226 - val_accuracy: 0.8935\n",
            "\n",
            "Epoch 00086: val_accuracy improved from 0.89300 to 0.89350, saving model to best_model.h5\n",
            "Epoch 87/200\n",
            "70/70 [==============================] - 27s 391ms/step - loss: 0.3238 - accuracy: 0.8848 - val_loss: 0.3171 - val_accuracy: 0.8903\n",
            "\n",
            "Epoch 00087: val_accuracy did not improve from 0.89350\n",
            "Epoch 88/200\n",
            "70/70 [==============================] - 27s 392ms/step - loss: 0.3253 - accuracy: 0.8850 - val_loss: 0.3155 - val_accuracy: 0.8910\n",
            "\n",
            "Epoch 00088: val_accuracy did not improve from 0.89350\n",
            "Epoch 89/200\n",
            "70/70 [==============================] - 28s 392ms/step - loss: 0.3260 - accuracy: 0.8865 - val_loss: 0.3213 - val_accuracy: 0.8902\n",
            "\n",
            "Epoch 00089: val_accuracy did not improve from 0.89350\n",
            "Epoch 90/200\n",
            "70/70 [==============================] - 27s 391ms/step - loss: 0.3221 - accuracy: 0.8857 - val_loss: 0.3120 - val_accuracy: 0.8947\n",
            "\n",
            "Epoch 00090: val_accuracy improved from 0.89350 to 0.89467, saving model to best_model.h5\n",
            "Epoch 91/200\n",
            "70/70 [==============================] - 27s 391ms/step - loss: 0.3179 - accuracy: 0.8878 - val_loss: 0.3145 - val_accuracy: 0.8907\n",
            "\n",
            "Epoch 00091: val_accuracy did not improve from 0.89467\n",
            "Epoch 92/200\n",
            "70/70 [==============================] - 27s 390ms/step - loss: 0.3179 - accuracy: 0.8898 - val_loss: 0.3142 - val_accuracy: 0.8942\n",
            "\n",
            "Epoch 00092: val_accuracy did not improve from 0.89467\n",
            "Epoch 93/200\n",
            "70/70 [==============================] - 27s 390ms/step - loss: 0.3183 - accuracy: 0.8873 - val_loss: 0.3114 - val_accuracy: 0.8957\n",
            "\n",
            "Epoch 00093: val_accuracy improved from 0.89467 to 0.89567, saving model to best_model.h5\n",
            "Epoch 94/200\n",
            "70/70 [==============================] - 27s 390ms/step - loss: 0.3203 - accuracy: 0.8891 - val_loss: 0.3437 - val_accuracy: 0.8832\n",
            "\n",
            "Epoch 00094: val_accuracy did not improve from 0.89567\n",
            "Epoch 95/200\n",
            "70/70 [==============================] - 27s 390ms/step - loss: 0.3192 - accuracy: 0.8882 - val_loss: 0.3181 - val_accuracy: 0.8892\n",
            "\n",
            "Epoch 00095: val_accuracy did not improve from 0.89567\n",
            "Epoch 96/200\n",
            "70/70 [==============================] - 27s 390ms/step - loss: 0.3187 - accuracy: 0.8904 - val_loss: 0.3099 - val_accuracy: 0.8957\n",
            "\n",
            "Epoch 00096: val_accuracy did not improve from 0.89567\n",
            "Epoch 97/200\n",
            "70/70 [==============================] - 27s 389ms/step - loss: 0.3192 - accuracy: 0.8884 - val_loss: 0.3096 - val_accuracy: 0.8968\n",
            "\n",
            "Epoch 00097: val_accuracy improved from 0.89567 to 0.89683, saving model to best_model.h5\n",
            "Epoch 98/200\n",
            "70/70 [==============================] - 27s 390ms/step - loss: 0.3197 - accuracy: 0.8874 - val_loss: 0.3105 - val_accuracy: 0.8960\n",
            "\n",
            "Epoch 00098: val_accuracy did not improve from 0.89683\n",
            "Epoch 99/200\n",
            "70/70 [==============================] - 27s 390ms/step - loss: 0.3144 - accuracy: 0.8892 - val_loss: 0.3092 - val_accuracy: 0.8960\n",
            "\n",
            "Epoch 00099: val_accuracy did not improve from 0.89683\n",
            "Epoch 100/200\n",
            "70/70 [==============================] - 27s 391ms/step - loss: 0.3165 - accuracy: 0.8867 - val_loss: 0.3279 - val_accuracy: 0.8845\n",
            "\n",
            "Epoch 00100: val_accuracy did not improve from 0.89683\n",
            "Epoch 101/200\n",
            "70/70 [==============================] - 27s 389ms/step - loss: 0.3190 - accuracy: 0.8864 - val_loss: 0.3115 - val_accuracy: 0.8937\n",
            "\n",
            "Epoch 00101: val_accuracy did not improve from 0.89683\n",
            "Epoch 102/200\n",
            "70/70 [==============================] - 27s 391ms/step - loss: 0.3154 - accuracy: 0.8875 - val_loss: 0.3113 - val_accuracy: 0.8943\n",
            "\n",
            "Epoch 00102: val_accuracy did not improve from 0.89683\n",
            "Epoch 103/200\n",
            "70/70 [==============================] - 27s 390ms/step - loss: 0.3134 - accuracy: 0.8897 - val_loss: 0.3140 - val_accuracy: 0.8908\n",
            "\n",
            "Epoch 00103: val_accuracy did not improve from 0.89683\n",
            "Epoch 104/200\n",
            "70/70 [==============================] - 27s 391ms/step - loss: 0.3179 - accuracy: 0.8875 - val_loss: 0.3088 - val_accuracy: 0.8937\n",
            "\n",
            "Epoch 00104: val_accuracy did not improve from 0.89683\n",
            "Epoch 105/200\n",
            "70/70 [==============================] - 27s 389ms/step - loss: 0.3100 - accuracy: 0.8904 - val_loss: 0.3074 - val_accuracy: 0.8960\n",
            "\n",
            "Epoch 00105: val_accuracy did not improve from 0.89683\n",
            "Epoch 106/200\n",
            "70/70 [==============================] - 27s 389ms/step - loss: 0.3089 - accuracy: 0.8915 - val_loss: 0.3099 - val_accuracy: 0.8947\n",
            "\n",
            "Epoch 00106: val_accuracy did not improve from 0.89683\n",
            "Epoch 107/200\n",
            "70/70 [==============================] - 27s 389ms/step - loss: 0.3132 - accuracy: 0.8892 - val_loss: 0.3064 - val_accuracy: 0.8970\n",
            "\n",
            "Epoch 00107: val_accuracy improved from 0.89683 to 0.89700, saving model to best_model.h5\n",
            "Epoch 108/200\n",
            "70/70 [==============================] - 27s 388ms/step - loss: 0.3127 - accuracy: 0.8901 - val_loss: 0.3067 - val_accuracy: 0.8958\n",
            "\n",
            "Epoch 00108: val_accuracy did not improve from 0.89700\n",
            "Epoch 109/200\n",
            "70/70 [==============================] - 27s 389ms/step - loss: 0.3151 - accuracy: 0.8889 - val_loss: 0.3065 - val_accuracy: 0.8963\n",
            "\n",
            "Epoch 00109: val_accuracy did not improve from 0.89700\n",
            "Epoch 110/200\n",
            "70/70 [==============================] - 27s 389ms/step - loss: 0.3113 - accuracy: 0.8903 - val_loss: 0.3066 - val_accuracy: 0.8968\n",
            "\n",
            "Epoch 00110: val_accuracy did not improve from 0.89700\n",
            "Epoch 111/200\n",
            "70/70 [==============================] - 27s 389ms/step - loss: 0.3102 - accuracy: 0.8918 - val_loss: 0.3072 - val_accuracy: 0.8968\n",
            "\n",
            "Epoch 00111: val_accuracy did not improve from 0.89700\n",
            "Epoch 112/200\n",
            "70/70 [==============================] - 27s 389ms/step - loss: 0.3085 - accuracy: 0.8921 - val_loss: 0.3085 - val_accuracy: 0.8920\n",
            "\n",
            "Epoch 00112: val_accuracy did not improve from 0.89700\n",
            "Epoch 113/200\n",
            "70/70 [==============================] - 27s 390ms/step - loss: 0.3122 - accuracy: 0.8913 - val_loss: 0.3057 - val_accuracy: 0.8962\n",
            "\n",
            "Epoch 00113: val_accuracy did not improve from 0.89700\n",
            "Epoch 114/200\n",
            "70/70 [==============================] - 27s 391ms/step - loss: 0.3113 - accuracy: 0.8923 - val_loss: 0.3056 - val_accuracy: 0.8970\n",
            "\n",
            "Epoch 00114: val_accuracy did not improve from 0.89700\n",
            "Epoch 115/200\n",
            "70/70 [==============================] - 27s 391ms/step - loss: 0.3102 - accuracy: 0.8903 - val_loss: 0.3073 - val_accuracy: 0.8937\n",
            "\n",
            "Epoch 00115: val_accuracy did not improve from 0.89700\n",
            "Epoch 116/200\n",
            "70/70 [==============================] - 27s 390ms/step - loss: 0.3143 - accuracy: 0.8912 - val_loss: 0.3067 - val_accuracy: 0.8942\n",
            "\n",
            "Epoch 00116: val_accuracy did not improve from 0.89700\n",
            "Epoch 117/200\n",
            "70/70 [==============================] - 27s 390ms/step - loss: 0.3140 - accuracy: 0.8907 - val_loss: 0.3052 - val_accuracy: 0.8970\n",
            "\n",
            "Epoch 00117: val_accuracy did not improve from 0.89700\n",
            "Epoch 118/200\n",
            "70/70 [==============================] - 27s 388ms/step - loss: 0.3090 - accuracy: 0.8919 - val_loss: 0.3061 - val_accuracy: 0.8948\n",
            "\n",
            "Epoch 00118: val_accuracy did not improve from 0.89700\n",
            "Epoch 119/200\n",
            "70/70 [==============================] - 27s 389ms/step - loss: 0.3107 - accuracy: 0.8893 - val_loss: 0.3055 - val_accuracy: 0.8958\n",
            "\n",
            "Epoch 00119: val_accuracy did not improve from 0.89700\n",
            "Epoch 120/200\n",
            "70/70 [==============================] - 27s 390ms/step - loss: 0.3082 - accuracy: 0.8922 - val_loss: 0.3049 - val_accuracy: 0.8973\n",
            "\n",
            "Epoch 00120: val_accuracy improved from 0.89700 to 0.89733, saving model to best_model.h5\n",
            "Epoch 121/200\n",
            "70/70 [==============================] - 27s 391ms/step - loss: 0.3101 - accuracy: 0.8905 - val_loss: 0.3064 - val_accuracy: 0.8943\n",
            "\n",
            "Epoch 00121: val_accuracy did not improve from 0.89733\n",
            "Epoch 122/200\n",
            "70/70 [==============================] - 28s 392ms/step - loss: 0.3090 - accuracy: 0.8924 - val_loss: 0.3101 - val_accuracy: 0.8912\n",
            "\n",
            "Epoch 00122: val_accuracy did not improve from 0.89733\n",
            "Epoch 123/200\n",
            "70/70 [==============================] - 27s 391ms/step - loss: 0.3114 - accuracy: 0.8916 - val_loss: 0.3051 - val_accuracy: 0.8983\n",
            "\n",
            "Epoch 00123: val_accuracy improved from 0.89733 to 0.89833, saving model to best_model.h5\n",
            "Epoch 124/200\n",
            "70/70 [==============================] - 27s 391ms/step - loss: 0.3096 - accuracy: 0.8916 - val_loss: 0.3045 - val_accuracy: 0.8988\n",
            "\n",
            "Epoch 00124: val_accuracy improved from 0.89833 to 0.89883, saving model to best_model.h5\n",
            "Epoch 125/200\n",
            "70/70 [==============================] - 27s 391ms/step - loss: 0.3109 - accuracy: 0.8912 - val_loss: 0.3048 - val_accuracy: 0.8980\n",
            "\n",
            "Epoch 00125: val_accuracy did not improve from 0.89883\n",
            "Epoch 126/200\n",
            "70/70 [==============================] - 27s 392ms/step - loss: 0.3077 - accuracy: 0.8927 - val_loss: 0.3063 - val_accuracy: 0.8935\n",
            "\n",
            "Epoch 00126: val_accuracy did not improve from 0.89883\n",
            "Epoch 127/200\n",
            "70/70 [==============================] - 27s 390ms/step - loss: 0.3086 - accuracy: 0.8927 - val_loss: 0.3045 - val_accuracy: 0.8967\n",
            "\n",
            "Epoch 00127: val_accuracy did not improve from 0.89883\n",
            "Epoch 128/200\n",
            "70/70 [==============================] - 27s 391ms/step - loss: 0.3104 - accuracy: 0.8919 - val_loss: 0.3056 - val_accuracy: 0.8980\n",
            "\n",
            "Epoch 00128: val_accuracy did not improve from 0.89883\n",
            "Epoch 129/200\n",
            "70/70 [==============================] - 27s 390ms/step - loss: 0.3096 - accuracy: 0.8928 - val_loss: 0.3044 - val_accuracy: 0.8983\n",
            "\n",
            "Epoch 00129: val_accuracy did not improve from 0.89883\n",
            "Epoch 130/200\n",
            "70/70 [==============================] - 27s 390ms/step - loss: 0.3111 - accuracy: 0.8929 - val_loss: 0.3049 - val_accuracy: 0.8962\n",
            "\n",
            "Epoch 00130: val_accuracy did not improve from 0.89883\n",
            "Epoch 131/200\n",
            "70/70 [==============================] - 27s 391ms/step - loss: 0.3101 - accuracy: 0.8932 - val_loss: 0.3041 - val_accuracy: 0.8993\n",
            "\n",
            "Epoch 00131: val_accuracy improved from 0.89883 to 0.89933, saving model to best_model.h5\n",
            "Epoch 132/200\n",
            "70/70 [==============================] - 27s 391ms/step - loss: 0.3056 - accuracy: 0.8935 - val_loss: 0.3043 - val_accuracy: 0.8978\n",
            "\n",
            "Epoch 00132: val_accuracy did not improve from 0.89933\n",
            "Epoch 133/200\n",
            "70/70 [==============================] - 28s 393ms/step - loss: 0.3067 - accuracy: 0.8927 - val_loss: 0.3052 - val_accuracy: 0.8983\n",
            "\n",
            "Epoch 00133: val_accuracy did not improve from 0.89933\n",
            "Epoch 134/200\n",
            "70/70 [==============================] - 27s 391ms/step - loss: 0.3100 - accuracy: 0.8912 - val_loss: 0.3045 - val_accuracy: 0.8982\n",
            "\n",
            "Epoch 00134: val_accuracy did not improve from 0.89933\n",
            "Epoch 135/200\n",
            "70/70 [==============================] - 28s 392ms/step - loss: 0.3085 - accuracy: 0.8911 - val_loss: 0.3041 - val_accuracy: 0.8988\n",
            "\n",
            "Epoch 00135: val_accuracy did not improve from 0.89933\n",
            "Epoch 136/200\n",
            "70/70 [==============================] - 27s 391ms/step - loss: 0.3076 - accuracy: 0.8924 - val_loss: 0.3040 - val_accuracy: 0.8963\n",
            "\n",
            "Epoch 00136: val_accuracy did not improve from 0.89933\n",
            "Epoch 137/200\n",
            "70/70 [==============================] - 28s 392ms/step - loss: 0.3095 - accuracy: 0.8938 - val_loss: 0.3043 - val_accuracy: 0.8958\n",
            "\n",
            "Epoch 00137: val_accuracy did not improve from 0.89933\n",
            "Epoch 138/200\n",
            "70/70 [==============================] - 27s 391ms/step - loss: 0.3090 - accuracy: 0.8909 - val_loss: 0.3038 - val_accuracy: 0.8990\n",
            "\n",
            "Epoch 00138: val_accuracy did not improve from 0.89933\n",
            "Epoch 139/200\n",
            "70/70 [==============================] - 27s 390ms/step - loss: 0.3073 - accuracy: 0.8925 - val_loss: 0.3038 - val_accuracy: 0.8972\n",
            "\n",
            "Epoch 00139: val_accuracy did not improve from 0.89933\n",
            "Epoch 140/200\n",
            "70/70 [==============================] - 28s 392ms/step - loss: 0.3066 - accuracy: 0.8924 - val_loss: 0.3038 - val_accuracy: 0.8980\n",
            "\n",
            "Epoch 00140: val_accuracy did not improve from 0.89933\n",
            "Epoch 141/200\n",
            "70/70 [==============================] - 27s 391ms/step - loss: 0.3059 - accuracy: 0.8935 - val_loss: 0.3040 - val_accuracy: 0.8958\n",
            "\n",
            "Epoch 00141: val_accuracy did not improve from 0.89933\n",
            "Epoch 142/200\n",
            "70/70 [==============================] - 28s 392ms/step - loss: 0.3068 - accuracy: 0.8925 - val_loss: 0.3039 - val_accuracy: 0.8987\n",
            "\n",
            "Epoch 00142: val_accuracy did not improve from 0.89933\n",
            "Epoch 143/200\n",
            "70/70 [==============================] - 27s 392ms/step - loss: 0.3097 - accuracy: 0.8922 - val_loss: 0.3037 - val_accuracy: 0.8982\n",
            "\n",
            "Epoch 00143: val_accuracy did not improve from 0.89933\n",
            "Epoch 144/200\n",
            "70/70 [==============================] - 28s 392ms/step - loss: 0.3084 - accuracy: 0.8911 - val_loss: 0.3037 - val_accuracy: 0.8978\n",
            "\n",
            "Epoch 00144: val_accuracy did not improve from 0.89933\n",
            "Epoch 145/200\n",
            "70/70 [==============================] - 27s 391ms/step - loss: 0.3086 - accuracy: 0.8932 - val_loss: 0.3037 - val_accuracy: 0.8987\n",
            "\n",
            "Epoch 00145: val_accuracy did not improve from 0.89933\n",
            "Epoch 146/200\n",
            "70/70 [==============================] - 27s 391ms/step - loss: 0.3098 - accuracy: 0.8914 - val_loss: 0.3037 - val_accuracy: 0.8983\n",
            "\n",
            "Epoch 00146: val_accuracy did not improve from 0.89933\n",
            "Epoch 147/200\n",
            "70/70 [==============================] - 27s 392ms/step - loss: 0.3085 - accuracy: 0.8904 - val_loss: 0.3037 - val_accuracy: 0.8992\n",
            "\n",
            "Epoch 00147: val_accuracy did not improve from 0.89933\n",
            "Epoch 148/200\n",
            "70/70 [==============================] - 28s 392ms/step - loss: 0.3084 - accuracy: 0.8917 - val_loss: 0.3037 - val_accuracy: 0.8988\n",
            "\n",
            "Epoch 00148: val_accuracy did not improve from 0.89933\n",
            "Epoch 149/200\n",
            "70/70 [==============================] - 27s 392ms/step - loss: 0.3081 - accuracy: 0.8938 - val_loss: 0.3037 - val_accuracy: 0.8983\n",
            "\n",
            "Epoch 00149: val_accuracy did not improve from 0.89933\n"
          ]
        }
      ]
    },
    {
      "cell_type": "markdown",
      "metadata": {
        "id": "fXZP7HCxqpbS"
      },
      "source": [
        "**Deixe-nos representar graficamente a Precisão do treinamento versus perda para obter uma melhor compreensão do treinamento do modelo.**"
      ]
    },
    {
      "cell_type": "code",
      "metadata": {
        "colab": {
          "base_uri": "https://localhost:8080/",
          "height": 328
        },
        "id": "r2RLRG0mqfsv",
        "outputId": "6d74bbf1-6b68-48bb-fcaf-b1a59a9e735d"
      },
      "source": [
        "plt.figure(figsize=(10, 10))\n",
        "\n",
        "plt.subplot(2, 2, 1)\n",
        "plt.plot(history.history['loss'], label='Loss')\n",
        "plt.plot(history.history['val_loss'], label='Validation Loss')\n",
        "plt.legend()\n",
        "plt.title('Training - Loss Function')\n",
        "\n",
        "plt.subplot(2, 2, 2)\n",
        "plt.plot(history.history['accuracy'], label='Accuracy')\n",
        "plt.plot(history.history['val_accuracy'], label='Validation Accuracy')\n",
        "plt.legend()\n",
        "plt.title('Train - Accuracy')"
      ],
      "execution_count": null,
      "outputs": [
        {
          "output_type": "execute_result",
          "data": {
            "text/plain": [
              "Text(0.5, 1.0, 'Train - Accuracy')"
            ]
          },
          "metadata": {},
          "execution_count": 50
        },
        {
          "output_type": "display_data",
          "data": {
            "image/png": "[encoded data removed]",
            "text/plain": [
              "<Figure size 720x720 with 2 Axes>"
            ]
          },
          "metadata": {
            "needs_background": "light"
          }
        }
      ]
    },
    {
      "cell_type": "markdown",
      "metadata": {
        "id": "D6gvFi_nY4NB"
      },
      "source": [
        "\n",
        "# **Vamos traçar a precisão do treinamento e da validação, bem como a perda.** "
      ]
    },
    {
      "cell_type": "code",
      "metadata": {
        "id": "HvI5gCDM5Djb",
        "colab": {
          "base_uri": "https://localhost:8080/",
          "height": 545
        },
        "outputId": "92702638-59a2-44b8-e614-4bf93cdaa69d"
      },
      "source": [
        "%matplotlib inline\n",
        "import matplotlib.pyplot as plt\n",
        "acc = history.history['accuracy']\n",
        "val_acc = history.history['val_accuracy']\n",
        "loss = history.history['loss']\n",
        "val_loss = history.history['val_loss']\n",
        "\n",
        "epochs = range(len(acc))\n",
        "\n",
        "plt.plot(epochs, acc, 'r', label='Training accuracy')\n",
        "plt.plot(epochs, val_acc, 'b', label='Validation accuracy')\n",
        "plt.title('Training and validation accuracy')\n",
        "plt.legend(loc=0)\n",
        "plt.figure()\n",
        "\n",
        "plt.plot(epochs, loss, 'r', label='Training Loss')\n",
        "plt.plot(epochs, val_loss, 'b', label='Validation Loss')\n",
        "plt.title('Training and validation loss')\n",
        "plt.legend()\n",
        "\n",
        "plt.show()"
      ],
      "execution_count": null,
      "outputs": [
        {
          "output_type": "display_data",
          "data": {
            "image/png": "[encoded data removed]",
            "text/plain": [
              "<Figure size 432x288 with 1 Axes>"
            ]
          },
          "metadata": {
            "needs_background": "light"
          }
        },
        {
          "output_type": "display_data",
          "data": {
            "image/png": "[encoded data removed]",
            "text/plain": [
              "<Figure size 432x288 with 1 Axes>"
            ]
          },
          "metadata": {
            "needs_background": "light"
          }
        }
      ]
    },
    {
      "cell_type": "code",
      "metadata": {
        "id": "IMJbJ4iT8f4x",
        "colab": {
          "base_uri": "https://localhost:8080/",
          "height": 542
        },
        "outputId": "0644d7bf-c9bc-48de-83b5-343e476f5c23"
      },
      "source": [
        "history2= model.history.history\n",
        "px.line(history2,title = \"Metrics Plot\")"
      ],
      "execution_count": null,
      "outputs": [
        {
          "output_type": "display_data",
          "data": {
            "text/html": [
              "<html>\n",
              "<head><meta charset=\"utf-8\" /></head>\n",
              "<body>\n",
              "    <div>\n",
              "            <script src=\"https://cdnjs.cloudflare.com/ajax/libs/mathjax/2.7.5/MathJax.js?config=TeX-AMS-MML_SVG\"></script><script type=\"text/javascript\">if (window.MathJax) {MathJax.Hub.Config({SVG: {font: \"STIX-Web\"}});}</script>\n",
              "                <script type=\"text/javascript\">window.PlotlyConfig = {MathJaxConfig: 'local'};</script>\n",
              "        <script src=\"https://cdn.plot.ly/plotly-latest.min.js\"></script>    \n",
              "            <div id=\"817d1cf1-ca9c-429f-9f77-fb8f67e2e846\" class=\"plotly-graph-div\" style=\"height:525px; width:100%;\"></div>\n",
              "            <script type=\"text/javascript\">\n",
              "                \n",
              "                    window.PLOTLYENV=window.PLOTLYENV || {};\n",
              "                    \n",
              "                if (document.getElementById(\"817d1cf1-ca9c-429f-9f77-fb8f67e2e846\")) {\n",
              "                    Plotly.newPlot(\n",
              "                        '817d1cf1-ca9c-429f-9f77-fb8f67e2e846',\n",
              "                        [],\n",
              "                        {\"legend\": {\"tracegroupgap\": 0}, \"template\": {\"data\": {\"bar\": [{\"error_x\": {\"color\": \"#2a3f5f\"}, \"error_y\": {\"color\": \"#2a3f5f\"}, \"marker\": {\"line\": {\"color\": \"#E5ECF6\", \"width\": 0.5}}, \"type\": \"bar\"}], \"barpolar\": [{\"marker\": {\"line\": {\"color\": \"#E5ECF6\", \"width\": 0.5}}, \"type\": \"barpolar\"}], \"carpet\": [{\"aaxis\": {\"endlinecolor\": \"#2a3f5f\", \"gridcolor\": \"white\", \"linecolor\": \"white\", \"minorgridcolor\": \"white\", \"startlinecolor\": \"#2a3f5f\"}, \"baxis\": {\"endlinecolor\": \"#2a3f5f\", \"gridcolor\": \"white\", \"linecolor\": \"white\", \"minorgridcolor\": \"white\", \"startlinecolor\": \"#2a3f5f\"}, \"type\": \"carpet\"}], \"choropleth\": [{\"colorbar\": {\"outlinewidth\": 0, \"ticks\": \"\"}, \"type\": \"choropleth\"}], \"contour\": [{\"colorbar\": {\"outlinewidth\": 0, \"ticks\": \"\"}, \"colorscale\": [[0.0, \"#0d0887\"], [0.1111111111111111, \"#46039f\"], [0.2222222222222222, \"#7201a8\"], [0.3333333333333333, \"#9c179e\"], [0.4444444444444444, \"#bd3786\"], [0.5555555555555556, \"#d8576b\"], [0.6666666666666666, \"#ed7953\"], [0.7777777777777778, \"#fb9f3a\"], [0.8888888888888888, \"#fdca26\"], [1.0, \"#f0f921\"]], \"type\": \"contour\"}], \"contourcarpet\": [{\"colorbar\": {\"outlinewidth\": 0, \"ticks\": \"\"}, \"type\": \"contourcarpet\"}], \"heatmap\": [{\"colorbar\": {\"outlinewidth\": 0, \"ticks\": \"\"}, \"colorscale\": [[0.0, \"#0d0887\"], [0.1111111111111111, \"#46039f\"], [0.2222222222222222, \"#7201a8\"], [0.3333333333333333, \"#9c179e\"], [0.4444444444444444, \"#bd3786\"], [0.5555555555555556, \"#d8576b\"], [0.6666666666666666, \"#ed7953\"], [0.7777777777777778, \"#fb9f3a\"], [0.8888888888888888, \"#fdca26\"], [1.0, \"#f0f921\"]], \"type\": \"heatmap\"}], \"heatmapgl\": [{\"colorbar\": {\"outlinewidth\": 0, \"ticks\": \"\"}, \"colorscale\": [[0.0, \"#0d0887\"], [0.1111111111111111, \"#46039f\"], [0.2222222222222222, \"#7201a8\"], [0.3333333333333333, \"#9c179e\"], [0.4444444444444444, \"#bd3786\"], [0.5555555555555556, \"#d8576b\"], [0.6666666666666666, \"#ed7953\"], [0.7777777777777778, \"#fb9f3a\"], [0.8888888888888888, \"#fdca26\"], [1.0, \"#f0f921\"]], \"type\": \"heatmapgl\"}], \"histogram\": [{\"marker\": {\"colorbar\": {\"outlinewidth\": 0, \"ticks\": \"\"}}, \"type\": \"histogram\"}], \"histogram2d\": [{\"colorbar\": {\"outlinewidth\": 0, \"ticks\": \"\"}, \"colorscale\": [[0.0, \"#0d0887\"], [0.1111111111111111, \"#46039f\"], [0.2222222222222222, \"#7201a8\"], [0.3333333333333333, \"#9c179e\"], [0.4444444444444444, \"#bd3786\"], [0.5555555555555556, \"#d8576b\"], [0.6666666666666666, \"#ed7953\"], [0.7777777777777778, \"#fb9f3a\"], [0.8888888888888888, \"#fdca26\"], [1.0, \"#f0f921\"]], \"type\": \"histogram2d\"}], \"histogram2dcontour\": [{\"colorbar\": {\"outlinewidth\": 0, \"ticks\": \"\"}, \"colorscale\": [[0.0, \"#0d0887\"], [0.1111111111111111, \"#46039f\"], [0.2222222222222222, \"#7201a8\"], [0.3333333333333333, \"#9c179e\"], [0.4444444444444444, \"#bd3786\"], [0.5555555555555556, \"#d8576b\"], [0.6666666666666666, \"#ed7953\"], [0.7777777777777778, \"#fb9f3a\"], [0.8888888888888888, \"#fdca26\"], [1.0, \"#f0f921\"]], \"type\": \"histogram2dcontour\"}], \"mesh3d\": [{\"colorbar\": {\"outlinewidth\": 0, \"ticks\": \"\"}, \"type\": \"mesh3d\"}], \"parcoords\": [{\"line\": {\"colorbar\": {\"outlinewidth\": 0, \"ticks\": \"\"}}, \"type\": \"parcoords\"}], \"pie\": [{\"automargin\": true, \"type\": \"pie\"}], \"scatter\": [{\"marker\": {\"colorbar\": {\"outlinewidth\": 0, \"ticks\": \"\"}}, \"type\": \"scatter\"}], \"scatter3d\": [{\"line\": {\"colorbar\": {\"outlinewidth\": 0, \"ticks\": \"\"}}, \"marker\": {\"colorbar\": {\"outlinewidth\": 0, \"ticks\": \"\"}}, \"type\": \"scatter3d\"}], \"scattercarpet\": [{\"marker\": {\"colorbar\": {\"outlinewidth\": 0, \"ticks\": \"\"}}, \"type\": \"scattercarpet\"}], \"scattergeo\": [{\"marker\": {\"colorbar\": {\"outlinewidth\": 0, \"ticks\": \"\"}}, \"type\": \"scattergeo\"}], \"scattergl\": [{\"marker\": {\"colorbar\": {\"outlinewidth\": 0, \"ticks\": \"\"}}, \"type\": \"scattergl\"}], \"scattermapbox\": [{\"marker\": {\"colorbar\": {\"outlinewidth\": 0, \"ticks\": \"\"}}, \"type\": \"scattermapbox\"}], \"scatterpolar\": [{\"marker\": {\"colorbar\": {\"outlinewidth\": 0, \"ticks\": \"\"}}, \"type\": \"scatterpolar\"}], \"scatterpolargl\": [{\"marker\": {\"colorbar\": {\"outlinewidth\": 0, \"ticks\": \"\"}}, \"type\": \"scatterpolargl\"}], \"scatterternary\": [{\"marker\": {\"colorbar\": {\"outlinewidth\": 0, \"ticks\": \"\"}}, \"type\": \"scatterternary\"}], \"surface\": [{\"colorbar\": {\"outlinewidth\": 0, \"ticks\": \"\"}, \"colorscale\": [[0.0, \"#0d0887\"], [0.1111111111111111, \"#46039f\"], [0.2222222222222222, \"#7201a8\"], [0.3333333333333333, \"#9c179e\"], [0.4444444444444444, \"#bd3786\"], [0.5555555555555556, \"#d8576b\"], [0.6666666666666666, \"#ed7953\"], [0.7777777777777778, \"#fb9f3a\"], [0.8888888888888888, \"#fdca26\"], [1.0, \"#f0f921\"]], \"type\": \"surface\"}], \"table\": [{\"cells\": {\"fill\": {\"color\": \"#EBF0F8\"}, \"line\": {\"color\": \"white\"}}, \"header\": {\"fill\": {\"color\": \"#C8D4E3\"}, \"line\": {\"color\": \"white\"}}, \"type\": \"table\"}]}, \"layout\": {\"annotationdefaults\": {\"arrowcolor\": \"#2a3f5f\", \"arrowhead\": 0, \"arrowwidth\": 1}, \"coloraxis\": {\"colorbar\": {\"outlinewidth\": 0, \"ticks\": \"\"}}, \"colorscale\": {\"diverging\": [[0, \"#8e0152\"], [0.1, \"#c51b7d\"], [0.2, \"#de77ae\"], [0.3, \"#f1b6da\"], [0.4, \"#fde0ef\"], [0.5, \"#f7f7f7\"], [0.6, \"#e6f5d0\"], [0.7, \"#b8e186\"], [0.8, \"#7fbc41\"], [0.9, \"#4d9221\"], [1, \"#276419\"]], \"sequential\": [[0.0, \"#0d0887\"], [0.1111111111111111, \"#46039f\"], [0.2222222222222222, \"#7201a8\"], [0.3333333333333333, \"#9c179e\"], [0.4444444444444444, \"#bd3786\"], [0.5555555555555556, \"#d8576b\"], [0.6666666666666666, \"#ed7953\"], [0.7777777777777778, \"#fb9f3a\"], [0.8888888888888888, \"#fdca26\"], [1.0, \"#f0f921\"]], \"sequentialminus\": [[0.0, \"#0d0887\"], [0.1111111111111111, \"#46039f\"], [0.2222222222222222, \"#7201a8\"], [0.3333333333333333, \"#9c179e\"], [0.4444444444444444, \"#bd3786\"], [0.5555555555555556, \"#d8576b\"], [0.6666666666666666, \"#ed7953\"], [0.7777777777777778, \"#fb9f3a\"], [0.8888888888888888, \"#fdca26\"], [1.0, \"#f0f921\"]]}, \"colorway\": [\"#636efa\", \"#EF553B\", \"#00cc96\", \"#ab63fa\", \"#FFA15A\", \"#19d3f3\", \"#FF6692\", \"#B6E880\", \"#FF97FF\", \"#FECB52\"], \"font\": {\"color\": \"#2a3f5f\"}, \"geo\": {\"bgcolor\": \"white\", \"lakecolor\": \"white\", \"landcolor\": \"#E5ECF6\", \"showlakes\": true, \"showland\": true, \"subunitcolor\": \"white\"}, \"hoverlabel\": {\"align\": \"left\"}, \"hovermode\": \"closest\", \"mapbox\": {\"style\": \"light\"}, \"paper_bgcolor\": \"white\", \"plot_bgcolor\": \"#E5ECF6\", \"polar\": {\"angularaxis\": {\"gridcolor\": \"white\", \"linecolor\": \"white\", \"ticks\": \"\"}, \"bgcolor\": \"#E5ECF6\", \"radialaxis\": {\"gridcolor\": \"white\", \"linecolor\": \"white\", \"ticks\": \"\"}}, \"scene\": {\"xaxis\": {\"backgroundcolor\": \"#E5ECF6\", \"gridcolor\": \"white\", \"gridwidth\": 2, \"linecolor\": \"white\", \"showbackground\": true, \"ticks\": \"\", \"zerolinecolor\": \"white\"}, \"yaxis\": {\"backgroundcolor\": \"#E5ECF6\", \"gridcolor\": \"white\", \"gridwidth\": 2, \"linecolor\": \"white\", \"showbackground\": true, \"ticks\": \"\", \"zerolinecolor\": \"white\"}, \"zaxis\": {\"backgroundcolor\": \"#E5ECF6\", \"gridcolor\": \"white\", \"gridwidth\": 2, \"linecolor\": \"white\", \"showbackground\": true, \"ticks\": \"\", \"zerolinecolor\": \"white\"}}, \"shapedefaults\": {\"line\": {\"color\": \"#2a3f5f\"}}, \"ternary\": {\"aaxis\": {\"gridcolor\": \"white\", \"linecolor\": \"white\", \"ticks\": \"\"}, \"baxis\": {\"gridcolor\": \"white\", \"linecolor\": \"white\", \"ticks\": \"\"}, \"bgcolor\": \"#E5ECF6\", \"caxis\": {\"gridcolor\": \"white\", \"linecolor\": \"white\", \"ticks\": \"\"}}, \"title\": {\"x\": 0.05}, \"xaxis\": {\"automargin\": true, \"gridcolor\": \"white\", \"linecolor\": \"white\", \"ticks\": \"\", \"title\": {\"standoff\": 15}, \"zerolinecolor\": \"white\", \"zerolinewidth\": 2}, \"yaxis\": {\"automargin\": true, \"gridcolor\": \"white\", \"linecolor\": \"white\", \"ticks\": \"\", \"title\": {\"standoff\": 15}, \"zerolinecolor\": \"white\", \"zerolinewidth\": 2}}}, \"title\": {\"text\": \"Metrics Plot\"}, \"xaxis\": {\"anchor\": \"y\", \"domain\": [0.0, 1.0]}, \"yaxis\": {\"anchor\": \"x\", \"domain\": [0.0, 1.0]}},\n",
              "                        {\"responsive\": true}\n",
              "                    ).then(function(){\n",
              "                            \n",
              "var gd = document.getElementById('817d1cf1-ca9c-429f-9f77-fb8f67e2e846');\n",
              "var x = new MutationObserver(function (mutations, observer) {{\n",
              "        var display = window.getComputedStyle(gd).display;\n",
              "        if (!display || display === 'none') {{\n",
              "            console.log([gd, 'removed!']);\n",
              "            Plotly.purge(gd);\n",
              "            observer.disconnect();\n",
              "        }}\n",
              "}});\n",
              "\n",
              "// Listen for the removal of the full notebook cells\n",
              "var notebookContainer = gd.closest('#notebook-container');\n",
              "if (notebookContainer) {{\n",
              "    x.observe(notebookContainer, {childList: true});\n",
              "}}\n",
              "\n",
              "// Listen for the clearing of the current output cell\n",
              "var outputEl = gd.closest('.output');\n",
              "if (outputEl) {{\n",
              "    x.observe(outputEl, {childList: true});\n",
              "}}\n",
              "\n",
              "                        })\n",
              "                };\n",
              "                \n",
              "            </script>\n",
              "        </div>\n",
              "</body>\n",
              "</html>"
            ]
          },
          "metadata": {}
        }
      ]
    },
    {
      "cell_type": "markdown",
      "metadata": {
        "id": "0G-slWFQ1KwJ"
      },
      "source": [
        "# **Otimizar o modelo**"
      ]
    },
    {
      "cell_type": "markdown",
      "metadata": {
        "id": "SukGrdFNTMWX"
      },
      "source": [
        "# **Avaliar acurácia  do Modelo**"
      ]
    },
    {
      "cell_type": "code",
      "metadata": {
        "id": "jHX9PR5gTQZA",
        "colab": {
          "base_uri": "https://localhost:8080/"
        },
        "outputId": "273466ff-d9ce-463b-cbc6-0072d723adc2"
      },
      "source": [
        "model = tf.keras.models.load_model(\"best_model.h5\")\n",
        "\n",
        "test_loss, test_acc= model.evaluate(X_test,y_test)\n",
        "print(\"validation_accuracy: \" + str(test_acc))"
      ],
      "execution_count": null,
      "outputs": [
        {
          "output_type": "stream",
          "name": "stdout",
          "text": [
            "188/188 [==============================] - 3s 14ms/step - loss: 0.3018 - accuracy: 0.8910\n",
            "validation_accuracy: 0.890999972820282\n"
          ]
        }
      ]
    },
    {
      "cell_type": "markdown",
      "metadata": {
        "id": "gdQhIrGw6gbL"
      },
      "source": [
        "# **Predição**"
      ]
    },
    {
      "cell_type": "code",
      "metadata": {
        "id": "5VpGkhNhBDGR",
        "colab": {
          "base_uri": "https://localhost:8080/",
          "height": 266
        },
        "outputId": "a06d539e-8544-4340-ef19-808e8048fa05"
      },
      "source": [
        "plt.figure()\n",
        "plt.imshow(X_train[4])\n",
        "plt.colorbar()\n",
        "plt.grid(False)\n",
        "plt.show()"
      ],
      "execution_count": null,
      "outputs": [
        {
          "output_type": "display_data",
          "data": {
            "image/png": "[encoded data removed]",
            "text/plain": [
              "<Figure size 432x288 with 2 Axes>"
            ]
          },
          "metadata": {
            "needs_background": "light"
          }
        }
      ]
    },
    {
      "cell_type": "code",
      "metadata": {
        "id": "ut4cvpNs2eGz",
        "colab": {
          "base_uri": "https://localhost:8080/",
          "height": 589
        },
        "outputId": "91b2b698-5688-440c-bbf3-9db9557fa389"
      },
      "source": [
        "class_names = ['andesite','gneiss','marbler','quartzite','rhyolite','schist']\n",
        "#class_names = [0,1,2,3,4,5]\n",
        "\n",
        "plt.figure(figsize=(10,10))\n",
        "for i in range(25):\n",
        "    plt.subplot(5,5,i+1)\n",
        "    plt.xticks([])\n",
        "    plt.yticks([])\n",
        "    plt.grid(False)\n",
        "    plt.imshow(X_train[i])\n",
        "    plt.xlabel(y_train[i])\n",
        "plt.show()\n",
        "   "
      ],
      "execution_count": null,
      "outputs": [
        {
          "output_type": "display_data",
          "data": {
            "image/png": "[encoded data removed]",
            "text/plain": [
              "<Figure size 720x720 with 25 Axes>"
            ]
          },
          "metadata": {}
        }
      ]
    },
    {
      "cell_type": "code",
      "metadata": {
        "id": "6fd1COOBcEq-",
        "colab": {
          "base_uri": "https://localhost:8080/"
        },
        "outputId": "d23bc4d5-f8d2-4fe7-8940-55465aa13880"
      },
      "source": [
        "pred = model.predict(X_test)\n",
        "print(\"Prediction_accuracy: \" + str(pred))"
      ],
      "execution_count": null,
      "outputs": [
        {
          "output_type": "stream",
          "name": "stdout",
          "text": [
            "Prediction_accuracy: [[4.4237349e-05 5.1119161e-04 9.7813797e-01 3.5523470e-11 5.1980922e-05\n",
            "  2.1254715e-02]\n",
            " [2.5984558e-04 5.4425385e-08 9.7353059e-21 9.9971920e-01 9.2405594e-10\n",
            "  2.0854950e-05]\n",
            " [7.3082192e-06 4.0194062e-03 9.6138841e-01 1.0710959e-11 1.2206150e-05\n",
            "  3.4572661e-02]\n",
            " ...\n",
            " [1.3540509e-01 5.9879612e-09 5.4190125e-11 2.9082768e-04 8.6308438e-01\n",
            "  1.2197671e-03]\n",
            " [1.4154476e-05 5.6700963e-01 1.2245647e-07 2.1436308e-05 6.2361799e-08\n",
            "  4.3295458e-01]\n",
            " [7.0211384e-03 1.8503628e-03 1.4095785e-03 9.6701535e-07 6.3408159e-02\n",
            "  9.2630970e-01]]\n"
          ]
        }
      ]
    },
    {
      "cell_type": "code",
      "metadata": {
        "id": "pYKNqTvYIy56",
        "colab": {
          "base_uri": "https://localhost:8080/"
        },
        "outputId": "9abea75e-3704-4099-ba7f-cf54eef02094"
      },
      "source": [
        "pred[0] # primeira predição"
      ],
      "execution_count": null,
      "outputs": [
        {
          "output_type": "execute_result",
          "data": {
            "text/plain": [
              "array([4.4237349e-05, 5.1119161e-04, 9.7813797e-01, 3.5523470e-11,\n",
              "       5.1980922e-05, 2.1254715e-02], dtype=float32)"
            ]
          },
          "metadata": {},
          "execution_count": 189
        }
      ]
    },
    {
      "cell_type": "code",
      "metadata": {
        "id": "c81gyqxSpT8o",
        "colab": {
          "base_uri": "https://localhost:8080/"
        },
        "outputId": "bc4c6028-11df-4ca2-8d1a-cba3e22f13d4"
      },
      "source": [
        "np.argmax(pred[0])\n"
      ],
      "execution_count": null,
      "outputs": [
        {
          "output_type": "execute_result",
          "data": {
            "text/plain": [
              "2"
            ]
          },
          "metadata": {},
          "execution_count": 190
        }
      ]
    },
    {
      "cell_type": "code",
      "metadata": {
        "id": "HIFhaEXOlmwM",
        "colab": {
          "base_uri": "https://localhost:8080/"
        },
        "outputId": "90562a52-331d-4243-d598-7bab89a4a9d0"
      },
      "source": [
        "y_test [0]"
      ],
      "execution_count": null,
      "outputs": [
        {
          "output_type": "execute_result",
          "data": {
            "text/plain": [
              "array([0, 0, 1, 0, 0, 0])"
            ]
          },
          "metadata": {},
          "execution_count": 191
        }
      ]
    },
    {
      "cell_type": "code",
      "metadata": {
        "id": "I_0eTjMs2N72",
        "colab": {
          "base_uri": "https://localhost:8080/"
        },
        "outputId": "6161bbc4-9e24-4614-b589-099bbb560de6"
      },
      "source": [
        "from sklearn.metrics import confusion_matrix\n",
        "y_test_predicted = model.predict(X_test)\n",
        "y_test_predicted"
      ],
      "execution_count": null,
      "outputs": [
        {
          "output_type": "execute_result",
          "data": {
            "text/plain": [
              "array([[4.4237349e-05, 5.1119161e-04, 9.7813797e-01, 3.5523470e-11,\n",
              "        5.1980922e-05, 2.1254715e-02],\n",
              "       [2.5984558e-04, 5.4425385e-08, 9.7353059e-21, 9.9971920e-01,\n",
              "        9.2405594e-10, 2.0854950e-05],\n",
              "       [7.3082192e-06, 4.0194062e-03, 9.6138841e-01, 1.0710959e-11,\n",
              "        1.2206150e-05, 3.4572661e-02],\n",
              "       ...,\n",
              "       [1.3540509e-01, 5.9879612e-09, 5.4190125e-11, 2.9082768e-04,\n",
              "        8.6308438e-01, 1.2197671e-03],\n",
              "       [1.4154476e-05, 5.6700963e-01, 1.2245647e-07, 2.1436308e-05,\n",
              "        6.2361799e-08, 4.3295458e-01],\n",
              "       [7.0211384e-03, 1.8503628e-03, 1.4095785e-03, 9.6701535e-07,\n",
              "        6.3408159e-02, 9.2630970e-01]], dtype=float32)"
            ]
          },
          "metadata": {},
          "execution_count": 192
        }
      ]
    },
    {
      "cell_type": "code",
      "metadata": {
        "id": "kH0RXGnvS0nz",
        "colab": {
          "base_uri": "https://localhost:8080/",
          "height": 699
        },
        "outputId": "61a49df9-8c57-42e0-eb19-eb4fc1ce0ccc"
      },
      "source": [
        "L = 5\n",
        "W = 5\n",
        "fig, axes = plt.subplots(L, W, figsize = (12,12))\n",
        "axes = axes.ravel()\n",
        "\n",
        "for i in np.arange(0, L * W):  \n",
        "    axes[i].imshow(X_test[i])\n",
        "    axes[i].set_title(\"Prediction Class = \") \n",
        "    axes[i].set_title(\"Original Class =\" )\n",
        "plt.subplots_adjust(wspace=0.5)"
      ],
      "execution_count": null,
      "outputs": [
        {
          "output_type": "display_data",
          "data": {
            "image/png": "[encoded data removed]",
            "text/plain": [
              "<Figure size 864x864 with 25 Axes>"
            ]
          },
          "metadata": {
            "needs_background": "light"
          }
        }
      ]
    },
    {
      "cell_type": "markdown",
      "metadata": {
        "id": "WPvlnHQyjENH"
      },
      "source": [
        "# **Listando as redes realmente disponíveis em seu Keras**"
      ]
    },
    {
      "cell_type": "code",
      "metadata": {
        "colab": {
          "base_uri": "https://localhost:8080/"
        },
        "id": "r7rGxnabi9t2",
        "outputId": "83344aa7-3c1f-4767-d02e-91ccb3b7d022"
      },
      "source": [
        "import tensorflow.keras.applications as app\n",
        "print(dir(app))"
      ],
      "execution_count": 17,
      "outputs": [
        {
          "output_type": "stream",
          "name": "stdout",
          "text": [
            "['DenseNet121', 'DenseNet169', 'DenseNet201', 'EfficientNetB0', 'EfficientNetB1', 'EfficientNetB2', 'EfficientNetB3', 'EfficientNetB4', 'EfficientNetB5', 'EfficientNetB6', 'EfficientNetB7', 'InceptionResNetV2', 'InceptionV3', 'MobileNet', 'MobileNetV2', 'MobileNetV3Large', 'MobileNetV3Small', 'NASNetLarge', 'NASNetMobile', 'ResNet101', 'ResNet101V2', 'ResNet152', 'ResNet152V2', 'ResNet50', 'ResNet50V2', 'VGG16', 'VGG19', 'Xception', '__builtins__', '__cached__', '__doc__', '__file__', '__loader__', '__name__', '__package__', '__path__', '__spec__', '_sys', 'densenet', 'efficientnet', 'imagenet_utils', 'inception_resnet_v2', 'inception_v3', 'mobilenet', 'mobilenet_v2', 'mobilenet_v3', 'nasnet', 'resnet', 'resnet50', 'resnet_v2', 'vgg16', 'vgg19', 'xception']\n"
          ]
        }
      ]
    },
    {
      "cell_type": "markdown",
      "metadata": {
        "id": "TtHvNQkI2vle"
      },
      "source": [
        "# **O Modelo pre treinado VGG16**"
      ]
    },
    {
      "cell_type": "code",
      "metadata": {
        "id": "J5ri8TgbjjcD",
        "colab": {
          "base_uri": "https://localhost:8080/"
        },
        "outputId": "2901e00b-355a-4e4a-8789-5657848f5b79"
      },
      "source": [
        "# Inicializar a CNN\n",
        "\n",
        "classifier = VGG16(include_top=False,weights='imagenet',input_shape=(32,32,3))"
      ],
      "execution_count": 18,
      "outputs": [
        {
          "output_type": "stream",
          "name": "stdout",
          "text": [
            "Downloading data from https://storage.googleapis.com/tensorflow/keras-applications/vgg16/vgg16_weights_tf_dim_ordering_tf_kernels_notop.h5\n",
            "58892288/58889256 [==============================] - 0s 0us/step\n",
            "58900480/58889256 [==============================] - 0s 0us/step\n"
          ]
        }
      ]
    },
    {
      "cell_type": "code",
      "metadata": {
        "colab": {
          "base_uri": "https://localhost:8080/"
        },
        "id": "v-3FFMBQpKXo",
        "outputId": "bb2fddeb-f082-46cf-a8cf-390b7cf2f330"
      },
      "source": [
        "# marcar camadas como não treináveis\n",
        "for layer in classifier.layers:\n",
        "    layer.trainable = False\n",
        "\n",
        "# Create new model on top\n",
        "inputs = tf.keras.Input(shape=(32, 32, 3))\n",
        "#x = datagen (inputs)  # Apply random data augmentation\n",
        "\n",
        "# Pre-trained Xception weights requires that input be scaled\n",
        "# from (0, 255) to a range of (-1., +1.), the rescaling layer\n",
        "# outputs: `(inputs * scale) + offset`\n",
        "#scale_layer = tf.keras.layers.Rescaling(scale=1 / 255, offset=-1)\n",
        "#x = scale_layer(inputs)\n",
        "\n",
        "# adicionar novas camadas para classificação\n",
        "\n",
        "x = classifier(inputs, training=False)\n",
        "#x = tf.keras.layers.GlobalAveragePooling2D()(x)\n",
        "x = tf.keras.layers.Flatten()(x)\n",
        "x = Dense(64, activation='relu', kernel_initializer='he_uniform')(x)\n",
        "x = tf.keras.layers.Dropout(0.2)(x)  # Regularize with dropout\n",
        "output = Dense(6, activation='softmax')(x)\n",
        "\n",
        "#flat1 = tf.keras.layers.Flatten()(classifier.layers[-1].output)\n",
        "#flat1 = Dense(1024, activation='relu', kernel_initializer='he_uniform')(flat1)\n",
        "#flat1 = tf.keras.layers.Dropout(0.5)(flat1)\n",
        "#output = Dense(6, activation='softmax')(flat1)\n",
        "\n",
        "# definir o modelo\n",
        "modelvgg16 = Model(inputs=inputs, outputs=output)\n",
        "\n",
        "modelvgg16.summary()"
      ],
      "execution_count": 26,
      "outputs": [
        {
          "output_type": "stream",
          "name": "stdout",
          "text": [
            "Model: \"model_2\"\n",
            "_________________________________________________________________\n",
            "Layer (type)                 Output Shape              Param #   \n",
            "=================================================================\n",
            "input_4 (InputLayer)         [(None, 32, 32, 3)]       0         \n",
            "_________________________________________________________________\n",
            "vgg16 (Functional)           (None, 1, 1, 512)         14714688  \n",
            "_________________________________________________________________\n",
            "flatten_2 (Flatten)          (None, 512)               0         \n",
            "_________________________________________________________________\n",
            "dense_4 (Dense)              (None, 64)                32832     \n",
            "_________________________________________________________________\n",
            "dropout_2 (Dropout)          (None, 64)                0         \n",
            "_________________________________________________________________\n",
            "dense_5 (Dense)              (None, 6)                 390       \n",
            "=================================================================\n",
            "Total params: 14,747,910\n",
            "Trainable params: 33,222\n",
            "Non-trainable params: 14,714,688\n",
            "_________________________________________________________________\n"
          ]
        }
      ]
    },
    {
      "cell_type": "code",
      "metadata": {
        "id": "wvbEuAEuQxLI"
      },
      "source": [
        "\n",
        "modelvgg16.compile(optimizer = Adam(learning_rate=0.0001,decay=INIT_LR / EPOCHS), \n",
        "               loss = 'categorical_crossentropy', \n",
        "               metrics =['accuracy'])  \n",
        "\n",
        "callbacksvgg16 = [\n",
        "    tf.keras.callbacks.ReduceLROnPlateau(factor=0.5,\n",
        "                                         patience=4,\n",
        "                                         verbose=0),\n",
        "    tf.keras.callbacks.EarlyStopping(\n",
        "        monitor=\"accuracy\",\n",
        "        patience=12,\n",
        "        restore_best_weights=True,\n",
        "    ),\n",
        "    tf.keras.callbacks.ModelCheckpoint(\n",
        "        filepath='feature_extraction.vgg16',\n",
        "        save_best_only=True,\n",
        "        monitor=\"val_accuracy\",\n",
        "    ),\n",
        "\n",
        "]"
      ],
      "execution_count": 32,
      "outputs": []
    },
    {
      "cell_type": "code",
      "metadata": {
        "id": "Q49JsEYskH6B",
        "colab": {
          "base_uri": "https://localhost:8080/"
        },
        "outputId": "564cd371-3883-4a27-eefb-4b8002d3681e"
      },
      "source": [
        "historyvgg16 = modelvgg16.fit(X_train,y_train,\n",
        "                    epochs=EPOCHS,\n",
        "                    verbose=1,\n",
        "                    steps_per_epoch = 18000//BS,\n",
        "                    callbacks=callbacksvgg16,\n",
        "                    validation_data=(X_val,y_val),\n",
        "                    validation_steps = 5999//BS)"
      ],
      "execution_count": null,
      "outputs": [
        {
          "output_type": "stream",
          "name": "stdout",
          "text": [
            "Epoch 1/200\n",
            "2250/2250 [==============================] - ETA: 0s - loss: 1.7927 - accuracy: 0.1655WARNING:tensorflow:Your input ran out of data; interrupting training. Make sure that your dataset or generator can generate at least `steps_per_epoch * epochs` batches (in this case, 749 batches). You may need to use the repeat() function when building your dataset.\n",
            "2250/2250 [==============================] - 317s 141ms/step - loss: 1.7927 - accuracy: 0.1655 - val_loss: 1.7917 - val_accuracy: 0.1647\n"
          ]
        },
        {
          "output_type": "stream",
          "name": "stderr",
          "text": [
            "Exception ignored in: <function IteratorResourceDeleter.__del__ at 0x7f238265c560>\n",
            "Traceback (most recent call last):\n",
            "  File \"/usr/local/lib/python3.7/dist-packages/tensorflow/python/data/ops/iterator_ops.py\", line 546, in __del__\n",
            "    handle=self._handle, deleter=self._deleter)\n",
            "  File \"/usr/local/lib/python3.7/dist-packages/tensorflow/python/ops/gen_dataset_ops.py\", line 1264, in delete_iterator\n",
            "    _ctx, \"DeleteIterator\", name, handle, deleter)\n",
            "KeyboardInterrupt: \n",
            "Exception ignored in: <function IteratorResourceDeleter.__del__ at 0x7f238265c560>\n",
            "Traceback (most recent call last):\n",
            "  File \"/usr/local/lib/python3.7/dist-packages/tensorflow/python/data/ops/iterator_ops.py\", line 546, in __del__\n",
            "    handle=self._handle, deleter=self._deleter)\n",
            "  File \"/usr/local/lib/python3.7/dist-packages/tensorflow/python/ops/gen_dataset_ops.py\", line 1264, in delete_iterator\n",
            "    _ctx, \"DeleteIterator\", name, handle, deleter)\n",
            "KeyboardInterrupt: \n"
          ]
        },
        {
          "output_type": "stream",
          "name": "stdout",
          "text": [
            "INFO:tensorflow:Assets written to: feature_extraction.vgg16/assets\n",
            "Epoch 2/200\n",
            "  32/2250 [..............................] - ETA: 3:44 - loss: 1.7938 - accuracy: 0.1406"
          ]
        }
      ]
    },
    {
      "cell_type": "code",
      "metadata": {
        "id": "OzhMZWXqtWGz",
        "colab": {
          "base_uri": "https://localhost:8080/",
          "height": 228
        },
        "outputId": "d8d3daaf-7aaf-4dbf-8f8c-00bd3c940ce0"
      },
      "source": [
        "%matplotlib inline\n",
        "import matplotlib.pyplot as plt\n",
        "acc = historyvgg16.history['accuracy']\n",
        "val_acc = historyvgg16.history['val_accuracy']\n",
        "loss = historyvgg16.history['loss']\n",
        "val_loss = historyvgg16.history['val_loss']\n",
        "\n",
        "epochs = range(len(acc))\n",
        "\n",
        "plt.plot(epochs, acc, 'r', label='Training accuracy')\n",
        "plt.plot(epochs, val_acc, 'b', label='Validation accuracy')\n",
        "plt.title('Training and validation accuracy')\n",
        "plt.legend(loc=0)\n",
        "plt.figure()\n",
        "\n",
        "plt.plot(epochs, loss, 'r', label='Training Loss')\n",
        "plt.plot(epochs, val_loss, 'b', label='Validation Loss')\n",
        "plt.title('Training and validation loss')\n",
        "plt.legend()\n",
        "\n",
        "plt.show()"
      ],
      "execution_count": null,
      "outputs": [
        {
          "output_type": "error",
          "ename": "NameError",
          "evalue": "ignored",
          "traceback": [
            "\u001b[0;31m---------------------------------------------------------------------------\u001b[0m",
            "\u001b[0;31mNameError\u001b[0m                                 Traceback (most recent call last)",
            "\u001b[0;32m<ipython-input-473-c79ba820caa5>\u001b[0m in \u001b[0;36m<module>\u001b[0;34m()\u001b[0m\n\u001b[1;32m      1\u001b[0m \u001b[0mget_ipython\u001b[0m\u001b[0;34m(\u001b[0m\u001b[0;34m)\u001b[0m\u001b[0;34m.\u001b[0m\u001b[0mmagic\u001b[0m\u001b[0;34m(\u001b[0m\u001b[0;34m'matplotlib inline'\u001b[0m\u001b[0;34m)\u001b[0m\u001b[0;34m\u001b[0m\u001b[0;34m\u001b[0m\u001b[0m\n\u001b[1;32m      2\u001b[0m \u001b[0;32mimport\u001b[0m \u001b[0mmatplotlib\u001b[0m\u001b[0;34m.\u001b[0m\u001b[0mpyplot\u001b[0m \u001b[0;32mas\u001b[0m \u001b[0mplt\u001b[0m\u001b[0;34m\u001b[0m\u001b[0;34m\u001b[0m\u001b[0m\n\u001b[0;32m----> 3\u001b[0;31m \u001b[0macc\u001b[0m \u001b[0;34m=\u001b[0m \u001b[0mhistoryvgg16\u001b[0m\u001b[0;34m.\u001b[0m\u001b[0mhistory\u001b[0m\u001b[0;34m[\u001b[0m\u001b[0;34m'accuracy'\u001b[0m\u001b[0;34m]\u001b[0m\u001b[0;34m\u001b[0m\u001b[0;34m\u001b[0m\u001b[0m\n\u001b[0m\u001b[1;32m      4\u001b[0m \u001b[0mval_acc\u001b[0m \u001b[0;34m=\u001b[0m \u001b[0mhistoryvgg16\u001b[0m\u001b[0;34m.\u001b[0m\u001b[0mhistory\u001b[0m\u001b[0;34m[\u001b[0m\u001b[0;34m'val_accuracy'\u001b[0m\u001b[0;34m]\u001b[0m\u001b[0;34m\u001b[0m\u001b[0;34m\u001b[0m\u001b[0m\n\u001b[1;32m      5\u001b[0m \u001b[0mloss\u001b[0m \u001b[0;34m=\u001b[0m \u001b[0mhistoryvgg16\u001b[0m\u001b[0;34m.\u001b[0m\u001b[0mhistory\u001b[0m\u001b[0;34m[\u001b[0m\u001b[0;34m'loss'\u001b[0m\u001b[0;34m]\u001b[0m\u001b[0;34m\u001b[0m\u001b[0;34m\u001b[0m\u001b[0m\n",
            "\u001b[0;31mNameError\u001b[0m: name 'historyvgg16' is not defined"
          ]
        }
      ]
    },
    {
      "cell_type": "code",
      "metadata": {
        "id": "Usw3n8GmtmXH",
        "colab": {
          "base_uri": "https://localhost:8080/"
        },
        "outputId": "7240bba4-f6fe-4ca9-9cae-5a8edae1b721"
      },
      "source": [
        "modelvgg16 = tf.keras.models.load_model(\"feature_extraction.vgg16\")\n",
        "\n",
        "test_lossvgg16, test_accvgg16= modelvgg16.evaluate(X_testVGG16,y_testVGG16)\n",
        "print(\"validation_accuracy: \" + str(test_accvgg16))"
      ],
      "execution_count": null,
      "outputs": [
        {
          "output_type": "stream",
          "name": "stdout",
          "text": [
            "128/128 [==============================] - 40s 312ms/step - loss: 0.2690 - accuracy: 0.8984\n",
            "validation_accuracy: 0.8984375\n"
          ]
        }
      ]
    },
    {
      "cell_type": "markdown",
      "metadata": {
        "id": "MVOum8PiFwj5"
      },
      "source": [
        "# **Comparandos os modelos**"
      ]
    },
    {
      "cell_type": "code",
      "metadata": {
        "id": "g6AYQKDTtmlY",
        "colab": {
          "base_uri": "https://localhost:8080/",
          "height": 336
        },
        "outputId": "acaf9e58-74e7-4c22-d668-5453288b119e"
      },
      "source": [
        "fig = plt.figure()\n",
        "ax = fig.add_axes([0,0,1,1])\n",
        "acc = [test_acc,test_accvgg16]\n",
        "model = ['Modelo Criado','Modelo pre treinado VGG16']\n",
        "#model = ['Modelo Criado','VGG16','InceptionV3','EfficientNetB0','EfficientNetB7']\n",
        "ax.bar(model,acc)\n",
        "plt.show()"
      ],
      "execution_count": null,
      "outputs": [
        {
          "output_type": "display_data",
          "data": {
            "image/png": "[encoded data removed]",
            "text/plain": [
              "<Figure size 432x288 with 1 Axes>"
            ]
          },
          "metadata": {
            "needs_background": "light"
          }
        }
      ]
    },
    {
      "cell_type": "markdown",
      "metadata": {
        "id": "7toSzftQcPLH"
      },
      "source": [
        "# **Realizar a Predição para as 6 classes**"
      ]
    }
  ]
}