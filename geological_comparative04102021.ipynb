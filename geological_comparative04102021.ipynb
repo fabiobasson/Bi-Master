{
  "nbformat": 4,
  "nbformat_minor": 0,
  "metadata": {
    "colab": {
      "name": "geological-image-similarity.ipynb",
      "provenance": [],
      "authorship_tag": "ABX9TyMHTqYZ9ekuL5WTIe9iMT0n",
      "include_colab_link": true
    },
    "kernelspec": {
      "name": "python3",
      "display_name": "Python 3"
    },
    "language_info": {
      "name": "python"
    },
    "accelerator": "GPU"
  },
  "cells": [
    {
      "cell_type": "markdown",
      "metadata": {
        "id": "view-in-github",
        "colab_type": "text"
      },
      "source": [
        "<a href=\"https://colab.research.google.com/github/fabiobasson/Bi-Master/blob/main/geological_comparative04102021.ipynb\" target=\"_parent\"><img src=\"https://colab.research.google.com/assets/colab-badge.svg\" alt=\"Open In Colab\"/></a>"
      ]
    },
    {
      "cell_type": "markdown",
      "metadata": {
        "id": "ek-dpdgUwrpq"
      },
      "source": [
        "# Importações "
      ]
    },
    {
      "cell_type": "code",
      "metadata": {
        "id": "BhMpCgi7O64x"
      },
      "source": [
        "import warnings\n",
        "warnings.filterwarnings('always')\n",
        "warnings.filterwarnings('ignore')\n",
        "\n",
        "import os\n",
        "import tensorflow as tf\n",
        "from tensorflow.keras import layers\n",
        "from tensorflow.keras import Model\n",
        "from tensorflow.keras.layers import Dense, Dropout\n",
        "from tensorflow.keras.utils import to_categorical\n",
        "\n",
        "from sklearn.preprocessing import LabelBinarizer\n",
        "\n",
        "from os import getcwd\n",
        "import zipfile\n",
        "import shutil\n",
        "import numpy as np\n",
        "import glob\n",
        "import random\n",
        "import pandas as pd\n",
        "import matplotlib.pyplot as plt\n",
        "from keras.utils import np_utils\n",
        "from PIL import Image\n",
        "import plotly.express as px\n",
        "import cv2 as cv\n",
        "from imutils import paths\n",
        "\n",
        "from tensorflow.keras.optimizers import RMSprop, Adam\n",
        "from tensorflow.keras.applications.vgg16 import VGG16\n",
        "from tensorflow.keras.applications.inception_v3 import InceptionV3\n",
        "from tensorflow.keras.preprocessing.image import ImageDataGenerator\n",
        "\n",
        "from sklearn.metrics import confusion_matrix,accuracy_score\n",
        "from sklearn.model_selection import train_test_split"
      ],
      "execution_count": null,
      "outputs": []
    },
    {
      "cell_type": "code",
      "metadata": {
        "colab": {
          "base_uri": "https://localhost:8080/"
        },
        "id": "ye09bw6nVWgH",
        "outputId": "afd73963-fab4-480a-e767-c36e88dd1181"
      },
      "source": [
        "print(tf.__version__)\n",
        "\n",
        "# Instalar Tensorflow\n",
        "#!pip install tensorflow==2.6.0\n",
        "\n",
        "# Instalar Keras\n",
        "!pip install keras --upgrade"
      ],
      "execution_count": null,
      "outputs": [
        {
          "output_type": "stream",
          "name": "stdout",
          "text": [
            "2.6.0\n",
            "Requirement already satisfied: keras in /usr/local/lib/python3.7/dist-packages (2.6.0)\n"
          ]
        }
      ]
    },
    {
      "cell_type": "code",
      "metadata": {
        "id": "qB35LCwK1F9Y"
      },
      "source": [
        "# Caso precise, remover os diretorios\n",
        "\n",
        "#!rm -rf geological_similarity andesite gneiss/ marble/ quartzite/ rhyolite/ schist/\n",
        "!rm -rf geological_similarity"
      ],
      "execution_count": null,
      "outputs": []
    },
    {
      "cell_type": "markdown",
      "metadata": {
        "id": "WsBJvou07fbF"
      },
      "source": [
        "# **Coleta de dados do Kaglle**"
      ]
    },
    {
      "cell_type": "code",
      "metadata": {
        "colab": {
          "resources": {
            "http://localhost:8080/nbextensions/google.colab/files.js": {
              "data": "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",
              "ok": true,
              "headers": [
                [
                  "content-type",
                  "application/javascript"
                ]
              ],
              "status": 200,
              "status_text": ""
            }
          },
          "base_uri": "https://localhost:8080/",
          "height": 73
        },
        "id": "qPW1Uceu4EkK",
        "outputId": "dc1d0244-ef07-489d-8fb4-afa132b12f84"
      },
      "source": [
        "from google.colab import files\n",
        "files.upload()\n",
        "\n",
        "!mkdir ~/.kaggle\n",
        "!cp kaggle.json ~/.kaggle/\n",
        "!chmod 600 ~/.kaggle/kaggle.json"
      ],
      "execution_count": null,
      "outputs": [
        {
          "output_type": "display_data",
          "data": {
            "text/html": [
              "\n",
              "     <input type=\"file\" id=\"files-57d40f3c-7280-468e-88ea-4e58c817f6eb\" name=\"files[]\" multiple disabled\n",
              "        style=\"border:none\" />\n",
              "     <output id=\"result-57d40f3c-7280-468e-88ea-4e58c817f6eb\">\n",
              "      Upload widget is only available when the cell has been executed in the\n",
              "      current browser session. Please rerun this cell to enable.\n",
              "      </output>\n",
              "      <script src=\"/nbextensions/google.colab/files.js\"></script> "
            ],
            "text/plain": [
              "<IPython.core.display.HTML object>"
            ]
          },
          "metadata": {}
        },
        {
          "output_type": "stream",
          "name": "stdout",
          "text": [
            "Saving kaggle.json to kaggle.json\n"
          ]
        }
      ]
    },
    {
      "cell_type": "markdown",
      "metadata": {
        "id": "rte0cNVp7kgE"
      },
      "source": [
        "# **###  Download dos dados / descompactando os dados**"
      ]
    },
    {
      "cell_type": "code",
      "metadata": {
        "colab": {
          "base_uri": "https://localhost:8080/"
        },
        "id": "GvN30SNO4L1f",
        "outputId": "583f5e05-edd4-45f2-f91b-c50d90eb3646"
      },
      "source": [
        "#!kaggle datasets download fabiobasson/geologicalsimilarity\n",
        "#! unzip -qq  geologicalsimilarity\n",
        "!kaggle datasets download tanyadayanand/geological-image-similarity\n",
        "! unzip -qq geological-image-similarity    "
      ],
      "execution_count": null,
      "outputs": [
        {
          "output_type": "stream",
          "name": "stdout",
          "text": [
            "Downloading geological-image-similarity.zip to /content\n",
            " 48% 16.0M/33.6M [00:00<00:00, 55.1MB/s]\n",
            "100% 33.6M/33.6M [00:00<00:00, 96.4MB/s]\n"
          ]
        }
      ]
    },
    {
      "cell_type": "markdown",
      "metadata": {
        "id": "owY2uo8A7q5j"
      },
      "source": [
        "# ** Criação da estrutura e leitura de diretórios **"
      ]
    },
    {
      "cell_type": "markdown",
      "metadata": {
        "id": "xL-7GOm_w3m3"
      },
      "source": [
        "# **Criação da estrutura e leitura de diretórios - Outra forma**"
      ]
    },
    {
      "cell_type": "code",
      "metadata": {
        "id": "QXSrUDeU4L7J",
        "colab": {
          "base_uri": "https://localhost:8080/"
        },
        "outputId": "961ddeae-271c-4ddd-dd8c-40e160c66a1d"
      },
      "source": [
        "andesite_dir = glob.glob('geological_similarity/andesite/*.jpg');gneiss_dir = glob.glob('geological_similarity/gneiss/*.jpg')\n",
        "marble_dir= glob.glob('geological_similarity/marble/*.jpg');quartzite_dir = glob.glob('geological_similarity/quartzite/*.jpg')\n",
        "rhyolite_dir = glob.glob('geological_similarity/rhyolite/*.jpg');\n",
        "schist_dir = glob.glob('geological_similarity/schist/*.jpg')\n",
        "print(len(andesite_dir));print(len(gneiss_dir)); print(len(marble_dir)); print(len(quartzite_dir));  print(len(quartzite_dir)); print(len(schist_dir))\n"
      ],
      "execution_count": null,
      "outputs": [
        {
          "output_type": "stream",
          "name": "stdout",
          "text": [
            "5000\n",
            "5000\n",
            "4998\n",
            "5000\n",
            "5000\n",
            "5000\n"
          ]
        }
      ]
    },
    {
      "cell_type": "code",
      "metadata": {
        "id": "wBhB6b6xi1xl"
      },
      "source": [
        "andesite_df=[];gneiss_df=[];marble_df=[];quartzite_df=[];rhyolite_df=[];schist_df=[]\n",
        "\n",
        "label1=['andesite','gneiss','marble','quartzite','rhyolite','schist']\n",
        "\n",
        "\n",
        "for i in andesite_dir:\n",
        "    andesite_df.append([i,label1[0]])\n",
        "for j in gneiss_dir:\n",
        "   gneiss_df.append([j,label1[1]])\n",
        "for l in marble_dir:\n",
        "    marble_df.append([l,label1[2]])\n",
        "for m in quartzite_dir:\n",
        "    quartzite_df.append([m,label1[3]])\n",
        "for n in rhyolite_dir:\n",
        "    rhyolite_df.append([n,label1[4]])\n",
        "for o in schist_dir:\n",
        "    schist_df.append([o,label1[5]])\n",
        "   \n",
        "df = andesite_df + gneiss_df + marble_df  + quartzite_df + rhyolite_df + schist_df\n",
        "random.shuffle(df)\n"
      ],
      "execution_count": null,
      "outputs": []
    },
    {
      "cell_type": "code",
      "metadata": {
        "colab": {
          "base_uri": "https://localhost:8080/",
          "height": 415
        },
        "id": "87UeiF--wzh8",
        "outputId": "487d6a31-b5ed-4fe0-e7f7-4f6f820be7b8"
      },
      "source": [
        "# Criação do Dataframe\n",
        "data_df = pd.DataFrame(df,columns=['path','label'])\n",
        "data_df"
      ],
      "execution_count": null,
      "outputs": [
        {
          "output_type": "execute_result",
          "data": {
            "text/html": [
              "<div>\n",
              "<style scoped>\n",
              "    .dataframe tbody tr th:only-of-type {\n",
              "        vertical-align: middle;\n",
              "    }\n",
              "\n",
              "    .dataframe tbody tr th {\n",
              "        vertical-align: top;\n",
              "    }\n",
              "\n",
              "    .dataframe thead th {\n",
              "        text-align: right;\n",
              "    }\n",
              "</style>\n",
              "<table border=\"1\" class=\"dataframe\">\n",
              "  <thead>\n",
              "    <tr style=\"text-align: right;\">\n",
              "      <th></th>\n",
              "      <th>path</th>\n",
              "      <th>label</th>\n",
              "    </tr>\n",
              "  </thead>\n",
              "  <tbody>\n",
              "    <tr>\n",
              "      <th>0</th>\n",
              "      <td>geological_similarity/quartzite/6DLL9.jpg</td>\n",
              "      <td>quartzite</td>\n",
              "    </tr>\n",
              "    <tr>\n",
              "      <th>1</th>\n",
              "      <td>geological_similarity/andesite/9NKOJ.jpg</td>\n",
              "      <td>andesite</td>\n",
              "    </tr>\n",
              "    <tr>\n",
              "      <th>2</th>\n",
              "      <td>geological_similarity/marble/EUEBF.jpg</td>\n",
              "      <td>marble</td>\n",
              "    </tr>\n",
              "    <tr>\n",
              "      <th>3</th>\n",
              "      <td>geological_similarity/marble/BIW7J.jpg</td>\n",
              "      <td>marble</td>\n",
              "    </tr>\n",
              "    <tr>\n",
              "      <th>4</th>\n",
              "      <td>geological_similarity/rhyolite/GZIRZ.jpg</td>\n",
              "      <td>rhyolite</td>\n",
              "    </tr>\n",
              "    <tr>\n",
              "      <th>...</th>\n",
              "      <td>...</td>\n",
              "      <td>...</td>\n",
              "    </tr>\n",
              "    <tr>\n",
              "      <th>29993</th>\n",
              "      <td>geological_similarity/schist/QTILH.jpg</td>\n",
              "      <td>schist</td>\n",
              "    </tr>\n",
              "    <tr>\n",
              "      <th>29994</th>\n",
              "      <td>geological_similarity/rhyolite/4XIM3.jpg</td>\n",
              "      <td>rhyolite</td>\n",
              "    </tr>\n",
              "    <tr>\n",
              "      <th>29995</th>\n",
              "      <td>geological_similarity/andesite/EY9KF.jpg</td>\n",
              "      <td>andesite</td>\n",
              "    </tr>\n",
              "    <tr>\n",
              "      <th>29996</th>\n",
              "      <td>geological_similarity/gneiss/ZK6QT.jpg</td>\n",
              "      <td>gneiss</td>\n",
              "    </tr>\n",
              "    <tr>\n",
              "      <th>29997</th>\n",
              "      <td>geological_similarity/marble/TNAHG.jpg</td>\n",
              "      <td>marble</td>\n",
              "    </tr>\n",
              "  </tbody>\n",
              "</table>\n",
              "<p>29998 rows × 2 columns</p>\n",
              "</div>"
            ],
            "text/plain": [
              "                                            path      label\n",
              "0      geological_similarity/quartzite/6DLL9.jpg  quartzite\n",
              "1       geological_similarity/andesite/9NKOJ.jpg   andesite\n",
              "2         geological_similarity/marble/EUEBF.jpg     marble\n",
              "3         geological_similarity/marble/BIW7J.jpg     marble\n",
              "4       geological_similarity/rhyolite/GZIRZ.jpg   rhyolite\n",
              "...                                          ...        ...\n",
              "29993     geological_similarity/schist/QTILH.jpg     schist\n",
              "29994   geological_similarity/rhyolite/4XIM3.jpg   rhyolite\n",
              "29995   geological_similarity/andesite/EY9KF.jpg   andesite\n",
              "29996     geological_similarity/gneiss/ZK6QT.jpg     gneiss\n",
              "29997     geological_similarity/marble/TNAHG.jpg     marble\n",
              "\n",
              "[29998 rows x 2 columns]"
            ]
          },
          "metadata": {},
          "execution_count": 144
        }
      ]
    },
    {
      "cell_type": "markdown",
      "metadata": {
        "id": "NONt2HCxWd5X"
      },
      "source": [
        "# **Separação das amostras**"
      ]
    },
    {
      "cell_type": "code",
      "metadata": {
        "id": "KBjbH7d9NUnq"
      },
      "source": [
        "#X = data_df.drop(columns='label')\n",
        "#y = data_df.label"
      ],
      "execution_count": null,
      "outputs": []
    },
    {
      "cell_type": "code",
      "metadata": {
        "id": "TZ7zohxAka0z",
        "colab": {
          "base_uri": "https://localhost:8080/"
        },
        "outputId": "32c55549-db0d-4add-f2e3-8c1f4b3da765"
      },
      "source": [
        "dados=[]\n",
        "labels=[]\n",
        "\n",
        "for imagePath in data_df['path']:\n",
        "\n",
        "      label = imagePath.split(os.path.sep)[-2]\n",
        "\n",
        "      image = cv.imread(imagePath)\n",
        "      image = cv.cvtColor(image, cv.COLOR_BGR2RGB)\n",
        "      image = cv.resize(image, (32, 32))\n",
        "      \n",
        "      dados.append(image)\n",
        "      labels.append(label)\n",
        "      \n",
        "print(\"labels: \", np.unique(labels))"
      ],
      "execution_count": null,
      "outputs": [
        {
          "output_type": "stream",
          "name": "stdout",
          "text": [
            "labels:  ['andesite' 'gneiss' 'marble' 'quartzite' 'rhyolite' 'schist']\n"
          ]
        }
      ]
    },
    {
      "cell_type": "code",
      "metadata": {
        "id": "NOcj8V_2lrIo",
        "colab": {
          "base_uri": "https://localhost:8080/"
        },
        "outputId": "097ed96e-bd93-4987-f2b2-e28074029448"
      },
      "source": [
        "# converter os dados e rótulos em matrizes NumPy enquanto dimensiona o pixel, intensidades na faixa [0, 255]\n",
        "\n",
        "dados = np.array(dados) / 255.0\n",
        "labels = np.array(labels)\n",
        "labels"
      ],
      "execution_count": null,
      "outputs": [
        {
          "output_type": "execute_result",
          "data": {
            "text/plain": [
              "array(['quartzite', 'andesite', 'marble', ..., 'andesite', 'gneiss',\n",
              "       'marble'], dtype='<U9')"
            ]
          },
          "metadata": {},
          "execution_count": 146
        }
      ]
    },
    {
      "cell_type": "code",
      "metadata": {
        "id": "H-w_jLX72jsi",
        "colab": {
          "base_uri": "https://localhost:8080/",
          "height": 592
        },
        "outputId": "55b2b6d7-978a-42a1-8eb4-2b08ab5e4aff"
      },
      "source": [
        "plt.figure(figsize=(10, 10))\n",
        "plt.imshow(dados[labels=='marble'][5])\n",
        "plt.show()"
      ],
      "execution_count": null,
      "outputs": [
        {
          "output_type": "display_data",
          "data": {
            "image/png": "[encoded data removed]",
            "text/plain": [
              "<Figure size 720x720 with 1 Axes>"
            ]
          },
          "metadata": {
            "needs_background": "light"
          }
        }
      ]
    },
    {
      "cell_type": "code",
      "metadata": {
        "colab": {
          "base_uri": "https://localhost:8080/"
        },
        "id": "SE1UrEC_QZxh",
        "outputId": "30f2e7d8-a2c4-4cd7-948e-0d5bcd7d03db"
      },
      "source": [
        "lb = LabelBinarizer()\n",
        "labels = lb.fit_transform(labels)\n",
        "#labels = to_categorical(labels)\n",
        "labels"
      ],
      "execution_count": null,
      "outputs": [
        {
          "output_type": "execute_result",
          "data": {
            "text/plain": [
              "array([[0, 0, 0, 1, 0, 0],\n",
              "       [1, 0, 0, 0, 0, 0],\n",
              "       [0, 0, 1, 0, 0, 0],\n",
              "       ...,\n",
              "       [1, 0, 0, 0, 0, 0],\n",
              "       [0, 1, 0, 0, 0, 0],\n",
              "       [0, 0, 1, 0, 0, 0]])"
            ]
          },
          "metadata": {},
          "execution_count": 147
        }
      ]
    },
    {
      "cell_type": "code",
      "metadata": {
        "id": "mwIj5M_l9t9-"
      },
      "source": [
        " # X_train,X_val,y_train, y_val = train_test_split(dados, labels, test_size = 0.2,stratify=labels, random_state=42)\n",
        "\n",
        "X_train, X_test, y_train, y_test  = train_test_split(dados, labels, stratify=labels, test_size=0.2, random_state=42)\n",
        "\n",
        "X_train, X_val, y_train, y_val   = train_test_split(X_train, y_train,test_size=0.25, random_state=42) # 0.25 x 0.8 = 0.2\n",
        "\n"
      ],
      "execution_count": 39,
      "outputs": []
    },
    {
      "cell_type": "code",
      "metadata": {
        "colab": {
          "base_uri": "https://localhost:8080/"
        },
        "id": "GP_CsFb2D95W",
        "outputId": "5b8092e8-18c6-46ab-a8c9-2084dac123f0"
      },
      "source": [
        "print(X_train.shape)\n",
        "print(y_train.shape)\n",
        "\n",
        "print(X_val.shape)\n",
        "print(y_val.shape)\n",
        "\n",
        "print(X_test.shape)\n",
        "print(y_test.shape)"
      ],
      "execution_count": 40,
      "outputs": [
        {
          "output_type": "stream",
          "name": "stdout",
          "text": [
            "(17998, 32, 32, 3)\n",
            "(17998, 6)\n",
            "(6000, 32, 32, 3)\n",
            "(6000, 6)\n",
            "(6000, 32, 32, 3)\n",
            "(6000, 6)\n"
          ]
        }
      ]
    },
    {
      "cell_type": "code",
      "metadata": {
        "id": "--Cpp-sHOqRy"
      },
      "source": [
        "#X_train = X_train.reshape(X_train.shape[0], 28, 28, 3).astype('float32')\n",
        "#X_val = X_val.reshape(X_val.shape[0], 28, 28, 3).astype('float32')\n",
        "#X_test = X_test.reshape(X_test.shape[0], 28, 28, 3).astype('float32')\n",
        "\n",
        "X_train = X_train / 255\n",
        "X_val = X_val / 255\n",
        "X_test = X_test / 255"
      ],
      "execution_count": 41,
      "outputs": []
    },
    {
      "cell_type": "code",
      "metadata": {
        "colab": {
          "base_uri": "https://localhost:8080/"
        },
        "id": "tJVHzCW3PKkL",
        "outputId": "8bef989c-74bc-4d45-a2cc-743ea450764a"
      },
      "source": [
        "y_test"
      ],
      "execution_count": 42,
      "outputs": [
        {
          "output_type": "execute_result",
          "data": {
            "text/plain": [
              "array([[0, 0, 1, 0, 0, 0],\n",
              "       [0, 0, 0, 1, 0, 0],\n",
              "       [0, 0, 1, 0, 0, 0],\n",
              "       ...,\n",
              "       [0, 0, 0, 0, 1, 0],\n",
              "       [0, 1, 0, 0, 0, 0],\n",
              "       [0, 0, 0, 0, 0, 1]])"
            ]
          },
          "metadata": {},
          "execution_count": 42
        }
      ]
    },
    {
      "cell_type": "markdown",
      "metadata": {
        "id": "B-ruxpGkzqHx"
      },
      "source": [
        "#  Conhecendo os dados de imagem"
      ]
    },
    {
      "cell_type": "code",
      "metadata": {
        "id": "q0f0-HaP3cYM",
        "colab": {
          "base_uri": "https://localhost:8080/"
        },
        "outputId": "cae4b208-91b8-4740-ae0f-46dc69fece0b"
      },
      "source": [
        "from numpy import asarray\n",
        "image = Image.open(\"geological_similarity/gneiss/0QTQE.jpg\")\n",
        "# Método asarray para realizar a conversão:\n",
        "pixels= asarray(image)\n",
        "# Verificando a faixa de valores entre 0 e 255:\n",
        "print('Data Type: %s' % pixels.dtype)\n",
        "print('Min: %.3f, Max: %.3f' % (pixels.min(), pixels.max()))\n",
        "\n",
        "#Converte os valores inteiros em float para realizar a operação:\n",
        "pixels = pixels.astype('float32')\n",
        "# Normaliza a faixa de valores:\n",
        "pixels /= pixels.max()\n",
        "# Verificando a faixa de valores normalizada:\n",
        "print('Data Type: %s' % pixels.dtype)\n",
        "print('Min: %.3f, Max: %.3f' % (pixels.min(), pixels.max()))"
      ],
      "execution_count": null,
      "outputs": [
        {
          "output_type": "stream",
          "name": "stdout",
          "text": [
            "Data Type: uint8\n",
            "Min: 32.000, Max: 251.000\n",
            "Data Type: float32\n",
            "Min: 0.127, Max: 1.000\n"
          ]
        }
      ]
    },
    {
      "cell_type": "markdown",
      "metadata": {
        "id": "XlUbajOTxHKl"
      },
      "source": [
        "# **Limpeza de dados**\n",
        "1 - Analisando os dados ausentes\n",
        "2 - Descartando os dados ausentes\n",
        "3 - Imputando dados\n",
        "4 - Acrescentando colunas informativas"
      ]
    },
    {
      "cell_type": "code",
      "metadata": {
        "id": "ybydrHWUvlbY",
        "colab": {
          "base_uri": "https://localhost:8080/",
          "height": 460
        },
        "outputId": "bdd7b108-b7e4-4ca1-dc95-87ef506f02a4"
      },
      "source": [
        "### 1 - Analisando os dados ausentes ###\n",
        "\n",
        "import missingno as msno\n",
        "ax = msno.matrix(data_df.sample(400))"
      ],
      "execution_count": null,
      "outputs": [
        {
          "output_type": "display_data",
          "data": {
            "image/png": "[encoded data removed]",
            "text/plain": [
              "<Figure size 1800x720 with 2 Axes>"
            ]
          },
          "metadata": {
            "needs_background": "light"
          }
        }
      ]
    },
    {
      "cell_type": "code",
      "metadata": {
        "id": "9cVvBcwVxq9s"
      },
      "source": [
        "#! pip install pandas-profiling==2.8.0\n",
        "#from pandas_profiling import ProfileReport\n",
        "#ProfileReport (data_df)"
      ],
      "execution_count": null,
      "outputs": []
    },
    {
      "cell_type": "markdown",
      "metadata": {
        "id": "rgLimflCWSq3"
      },
      "source": [
        "# **Explorando os dados**"
      ]
    },
    {
      "cell_type": "markdown",
      "metadata": {
        "id": "-AAuWUVf6ocm"
      },
      "source": [
        "\n",
        "# **Type: Data Augumentation**"
      ]
    },
    {
      "cell_type": "markdown",
      "metadata": {
        "id": "G1xbq78zfV9i"
      },
      "source": [
        "## ** Esta função irá plotar as imagens num grid de 1 a 5 colunas **"
      ]
    },
    {
      "cell_type": "code",
      "metadata": {
        "id": "hjV3pOngCtA7"
      },
      "source": [
        "IMG_SHAPE = 32\n",
        "BATCH_SIZE = 256\n",
        "\n",
        "def plotImages(images_arr):\n",
        "    fig, axes = plt.subplots(1, 5, figsize=(20,20))\n",
        "    axes = axes.flatten()\n",
        "    for img, ax in zip(images_arr, axes):\n",
        "        ax.imshow(img)\n",
        "    plt.tight_layout()\n",
        "    plt.show()"
      ],
      "execution_count": null,
      "outputs": []
    },
    {
      "cell_type": "code",
      "metadata": {
        "id": "Cw0IbS6mfdxM"
      },
      "source": [
        "# Dados de Treino e Validação\n",
        "\n",
        "datagen = ImageDataGenerator(rescale=1./255,\n",
        "                            #featurewise_center =False ,\n",
        "                            # samplewise_center =False ,\n",
        "                            # featurewise_std_normalization =False ,\n",
        "                            # samplewise_std_normalization =False ,\n",
        "                            # zca_whitening =False ,\n",
        "                            # zca_epsilon =1e -6 ,\n",
        "                            # channel_shift_range =0. ,\n",
        "                            # fill_mode = ’ nearest ’ ,\n",
        "                            # cval =0. ,\n",
        "                            rotation_range = 40,\n",
        "                            width_shift_range = 0.2,\n",
        "                            height_shift_range = 0.2,\n",
        "                            #shear_range = 0.2,\n",
        "                            #zoom_range = 0.2,\n",
        "                            horizontal_flip = True,\n",
        "                            vertical_flip = True,\n",
        "                            validation_split=0.2)\n",
        "\n",
        "datagen_val = ImageDataGenerator (rescale=1./255, \n",
        "                                 validation_split=0.2)\n"
      ],
      "execution_count": null,
      "outputs": []
    },
    {
      "cell_type": "code",
      "metadata": {
        "id": "vhFOB4fdA87L",
        "colab": {
          "base_uri": "https://localhost:8080/"
        },
        "outputId": "7297e781-dc63-4dc4-850d-ad37df98b3cf"
      },
      "source": [
        "train_generator = datagen.flow_from_dataframe (data_df,\n",
        "    batch_size=BATCH_SIZE,\n",
        "    x_col='path',\n",
        "    y_col= 'label',\n",
        "    shuffle=True,\n",
        "    target_size=(IMG_SHAPE,IMG_SHAPE),\n",
        "    class_mode='categorical',\n",
        "    subset='training')\n",
        "\n",
        "validation_generator = datagen_val.flow_from_dataframe (data_df,\n",
        "    batch_size=BATCH_SIZE,\n",
        "    x_col='path',\n",
        "    y_col= 'label',\n",
        "    shuffle=True,\n",
        "    target_size=(IMG_SHAPE,IMG_SHAPE),\n",
        "    class_mode='categorical',\n",
        "    subset='validation')"
      ],
      "execution_count": null,
      "outputs": [
        {
          "output_type": "stream",
          "name": "stdout",
          "text": [
            "Found 23999 validated image filenames belonging to 6 classes.\n",
            "Found 5999 validated image filenames belonging to 6 classes.\n"
          ]
        }
      ]
    },
    {
      "cell_type": "code",
      "metadata": {
        "colab": {
          "base_uri": "https://localhost:8080/"
        },
        "id": "i5sbJJeWlcv4",
        "outputId": "b26fe701-c07f-4275-dc90-de94aadb707e"
      },
      "source": [
        "# Dados de Teste\n",
        "\n",
        "datagen_test = ImageDataGenerator (rescale=1./255, \n",
        "                                  rotation_range = 40)\n",
        "\n",
        "test_generator = datagen_test.flow_from_dataframe(data_df,\n",
        "                                                   batch_size=1,\n",
        "                                                   x_col='path',\n",
        "                                                   y_col='label',\n",
        "                                                   shuffle=False,\n",
        "                                                   target_size=(IMG_SHAPE,IMG_SHAPE),\n",
        "                                                   class_mode='categorical')\n",
        "                                                   #subset='validation') \n",
        "\n",
        "\n",
        " "
      ],
      "execution_count": null,
      "outputs": [
        {
          "output_type": "stream",
          "name": "stdout",
          "text": [
            "Found 29998 validated image filenames belonging to 6 classes.\n"
          ]
        }
      ]
    },
    {
      "cell_type": "code",
      "metadata": {
        "colab": {
          "base_uri": "https://localhost:8080/",
          "height": 216
        },
        "id": "ShN0CzElfd9R",
        "outputId": "36605ecd-b93e-4fb2-8429-128e3c10e62c"
      },
      "source": [
        "augmented_images = [train_generator[0][0][0] for i in range(5)]\n",
        "plotImages(augmented_images)"
      ],
      "execution_count": null,
      "outputs": [
        {
          "output_type": "display_data",
          "data": {
            "image/png": "[encoded data removed]",
            "text/plain": [
              "<Figure size 1440x1440 with 5 Axes>"
            ]
          },
          "metadata": {
            "needs_background": "light"
          }
        }
      ]
    },
    {
      "cell_type": "markdown",
      "metadata": {
        "id": "UIPXX6y48mV-"
      },
      "source": [
        "# **Criando o Dataframe em dados de treino, validação e teste**"
      ]
    },
    {
      "cell_type": "code",
      "metadata": {
        "id": "ByYa1WtsGAOO",
        "colab": {
          "base_uri": "https://localhost:8080/"
        },
        "outputId": "b5fff573-1d24-451e-d637-9d4bc3ae8640"
      },
      "source": [
        "class_dict=test_generator.class_indices\n",
        "labels= test_generator.labels\n",
        "file_names= test_generator.filenames \n",
        "\n",
        "train_generator.class_indices.keys()"
      ],
      "execution_count": null,
      "outputs": [
        {
          "output_type": "execute_result",
          "data": {
            "text/plain": [
              "{'andesite': 0,\n",
              " 'gneiss': 1,\n",
              " 'marble': 2,\n",
              " 'quartzite': 3,\n",
              " 'rhyolite': 4,\n",
              " 'schist': 5}"
            ]
          },
          "metadata": {},
          "execution_count": 57
        }
      ]
    },
    {
      "cell_type": "code",
      "metadata": {
        "id": "397pKysWejrc",
        "colab": {
          "base_uri": "https://localhost:8080/"
        },
        "outputId": "0297c9fb-6533-4628-d99b-2b0857e5b72f"
      },
      "source": [
        "X_test, y_test = next(test_generator)\n",
        "\n",
        "print(X_test.shape)\n",
        "print(y_test.shape)"
      ],
      "execution_count": null,
      "outputs": [
        {
          "output_type": "stream",
          "name": "stdout",
          "text": [
            "(24000, 32, 32, 3)\n",
            "(24000, 6)\n"
          ]
        }
      ]
    },
    {
      "cell_type": "markdown",
      "metadata": {
        "id": "dXm8LYqv0_vK"
      },
      "source": [
        "# **Criar o modelo**"
      ]
    },
    {
      "cell_type": "code",
      "metadata": {
        "id": "ncctBTCAgG7d"
      },
      "source": [
        "num_classes = 6\n",
        "\n",
        "model = tf.keras.models.Sequential([\n",
        "    tf.keras.layers.Conv2D(64, (3,3), activation='relu', input_shape=(32,32,3)),\n",
        "    #tf.keras.layers.BatchNormalization(),\n",
        "    tf.keras.layers.MaxPooling2D(2, 2),\n",
        "\n",
        "    tf.keras.layers.Conv2D(32, (3,3), activation='relu'),\n",
        "    tf.keras.layers.MaxPooling2D(2,2),\n",
        "\n",
        "    tf.keras.layers.Conv2D(16, (3,3), activation='relu'),\n",
        "    tf.keras.layers.MaxPooling2D(2,2),\n",
        "   \n",
        "\n",
        "    tf.keras.layers.Flatten(),\n",
        "    tf.keras.layers.Dense(512, activation='relu'),\n",
        "    tf.keras.layers.Dropout(0.5),\n",
        "    tf.keras.layers.Dense(6, activation='softmax')\n",
        "   \n",
        "])"
      ],
      "execution_count": 43,
      "outputs": []
    },
    {
      "cell_type": "markdown",
      "metadata": {
        "id": "cQvF_-VrbIhO"
      },
      "source": [
        "# **Compilando o Modelo**"
      ]
    },
    {
      "cell_type": "code",
      "metadata": {
        "id": "tseOThp5bLVl",
        "colab": {
          "base_uri": "https://localhost:8080/"
        },
        "outputId": "31d95dbe-eaa5-48f7-d7d1-750688534b92"
      },
      "source": [
        "model.compile(optimizer = Adam(learning_rate=0.0001), \n",
        "               loss = 'categorical_crossentropy', \n",
        "               metrics =['accuracy'])\n",
        "model.summary()  "
      ],
      "execution_count": 44,
      "outputs": [
        {
          "output_type": "stream",
          "name": "stdout",
          "text": [
            "Model: \"sequential_2\"\n",
            "_________________________________________________________________\n",
            "Layer (type)                 Output Shape              Param #   \n",
            "=================================================================\n",
            "conv2d_6 (Conv2D)            (None, 30, 30, 64)        1792      \n",
            "_________________________________________________________________\n",
            "max_pooling2d_6 (MaxPooling2 (None, 15, 15, 64)        0         \n",
            "_________________________________________________________________\n",
            "conv2d_7 (Conv2D)            (None, 13, 13, 32)        18464     \n",
            "_________________________________________________________________\n",
            "max_pooling2d_7 (MaxPooling2 (None, 6, 6, 32)          0         \n",
            "_________________________________________________________________\n",
            "conv2d_8 (Conv2D)            (None, 4, 4, 16)          4624      \n",
            "_________________________________________________________________\n",
            "max_pooling2d_8 (MaxPooling2 (None, 2, 2, 16)          0         \n",
            "_________________________________________________________________\n",
            "flatten_2 (Flatten)          (None, 64)                0         \n",
            "_________________________________________________________________\n",
            "dense_4 (Dense)              (None, 512)               33280     \n",
            "_________________________________________________________________\n",
            "dropout_2 (Dropout)          (None, 512)               0         \n",
            "_________________________________________________________________\n",
            "dense_5 (Dense)              (None, 6)                 3078      \n",
            "=================================================================\n",
            "Total params: 61,238\n",
            "Trainable params: 61,238\n",
            "Non-trainable params: 0\n",
            "_________________________________________________________________\n"
          ]
        }
      ]
    },
    {
      "cell_type": "code",
      "metadata": {
        "id": "9Sr0YDZ8dCmz"
      },
      "source": [
        "callbacks_list = [\n",
        "    tf.keras.callbacks.ReduceLROnPlateau(factor=0.5,\n",
        "                                         patience=4,\n",
        "                                         verbose=0),\n",
        "    tf.keras.callbacks.EarlyStopping(\n",
        "        monitor=\"accuracy\",\n",
        "        patience=12,\n",
        "        restore_best_weights=True,\n",
        "    ),\n",
        "    tf.keras.callbacks.ModelCheckpoint(\n",
        "        filepath='best_model.h5',\n",
        "        monitor=\"val_accuracy\",\n",
        "        verbose=1,\n",
        "        save_best_only=True,\n",
        "        #save_weights_only=False,\n",
        "        #mode='auto',\n",
        "        #period=1,\n",
        "    ),\n",
        "\n",
        "]"
      ],
      "execution_count": 45,
      "outputs": []
    },
    {
      "cell_type": "markdown",
      "metadata": {
        "id": "IhQyiWIh1HQs"
      },
      "source": [
        "# **Avaliar o modelo**"
      ]
    },
    {
      "cell_type": "code",
      "metadata": {
        "id": "cwpnwl86dm74",
        "colab": {
          "base_uri": "https://localhost:8080/"
        },
        "outputId": "0cb214cd-a7d6-41ee-e66d-4d484bfe93ab"
      },
      "source": [
        "epochs=200\n",
        "history = model.fit(X_train,y_train,\n",
        "                               epochs=epochs,\n",
        "                               verbose=1,\n",
        "                               callbacks=callbacks_list,\n",
        "                               steps_per_epoch = 18000/256, \n",
        "                               #validation_split=0.2,\n",
        "                               #class_weight=class_weight_,\n",
        "                               workers=4,\n",
        "                               use_multiprocessing=True,\n",
        "                               validation_steps = 5999/256,\n",
        "                               validation_data= (X_val,y_val))"
      ],
      "execution_count": null,
      "outputs": [
        {
          "output_type": "stream",
          "name": "stdout",
          "text": [
            "Epoch 1/200\n",
            "70/70 [==============================] - 28s 393ms/step - loss: 0.9764 - accuracy: 0.5805 - val_loss: 0.9721 - val_accuracy: 0.5850\n",
            "\n",
            "Epoch 00001: val_accuracy improved from 0.57750 to 0.58500, saving model to best_model.h5\n",
            "Epoch 2/200\n",
            "70/70 [==============================] - 28s 393ms/step - loss: 0.9705 - accuracy: 0.5818 - val_loss: 0.9714 - val_accuracy: 0.5897\n",
            "\n",
            "Epoch 00002: val_accuracy improved from 0.58500 to 0.58967, saving model to best_model.h5\n",
            "Epoch 3/200\n",
            "70/70 [==============================] - 28s 394ms/step - loss: 0.9682 - accuracy: 0.5828 - val_loss: 0.9691 - val_accuracy: 0.5892\n",
            "\n",
            "Epoch 00003: val_accuracy did not improve from 0.58967\n",
            "Epoch 4/200\n",
            "70/70 [==============================] - 28s 396ms/step - loss: 0.9680 - accuracy: 0.5837 - val_loss: 0.9694 - val_accuracy: 0.5878\n",
            "\n",
            "Epoch 00004: val_accuracy did not improve from 0.58967\n",
            "Epoch 5/200\n",
            "70/70 [==============================] - 28s 393ms/step - loss: 0.9655 - accuracy: 0.5853 - val_loss: 0.9633 - val_accuracy: 0.5900\n",
            "\n",
            "Epoch 00005: val_accuracy improved from 0.58967 to 0.59000, saving model to best_model.h5\n",
            "Epoch 6/200\n",
            "70/70 [==============================] - 28s 392ms/step - loss: 0.9625 - accuracy: 0.5861 - val_loss: 0.9623 - val_accuracy: 0.5853\n",
            "\n",
            "Epoch 00006: val_accuracy did not improve from 0.59000\n",
            "Epoch 7/200\n",
            "70/70 [==============================] - 27s 389ms/step - loss: 0.9594 - accuracy: 0.5887 - val_loss: 0.9572 - val_accuracy: 0.5933\n",
            "\n",
            "Epoch 00007: val_accuracy improved from 0.59000 to 0.59333, saving model to best_model.h5\n",
            "Epoch 8/200\n",
            "70/70 [==============================] - 27s 388ms/step - loss: 0.9580 - accuracy: 0.5930 - val_loss: 0.9539 - val_accuracy: 0.5938\n",
            "\n",
            "Epoch 00008: val_accuracy improved from 0.59333 to 0.59383, saving model to best_model.h5\n",
            "Epoch 9/200\n",
            "70/70 [==============================] - 27s 389ms/step - loss: 0.9507 - accuracy: 0.5968 - val_loss: 0.9498 - val_accuracy: 0.5960\n",
            "\n",
            "Epoch 00009: val_accuracy improved from 0.59383 to 0.59600, saving model to best_model.h5\n",
            "Epoch 10/200\n",
            "70/70 [==============================] - 27s 388ms/step - loss: 0.9502 - accuracy: 0.5981 - val_loss: 0.9511 - val_accuracy: 0.5947\n",
            "\n",
            "Epoch 00010: val_accuracy did not improve from 0.59600\n",
            "Epoch 11/200\n",
            "70/70 [==============================] - 27s 390ms/step - loss: 0.9482 - accuracy: 0.5973 - val_loss: 0.9459 - val_accuracy: 0.6060\n",
            "\n",
            "Epoch 00011: val_accuracy improved from 0.59600 to 0.60600, saving model to best_model.h5\n",
            "Epoch 12/200\n",
            "70/70 [==============================] - 27s 389ms/step - loss: 0.9429 - accuracy: 0.5978 - val_loss: 0.9399 - val_accuracy: 0.6057\n",
            "\n",
            "Epoch 00012: val_accuracy did not improve from 0.60600\n",
            "Epoch 13/200\n",
            "70/70 [==============================] - 27s 389ms/step - loss: 0.9352 - accuracy: 0.6037 - val_loss: 0.9340 - val_accuracy: 0.6033\n",
            "\n",
            "Epoch 00013: val_accuracy did not improve from 0.60600\n",
            "Epoch 14/200\n",
            "70/70 [==============================] - 27s 389ms/step - loss: 0.9337 - accuracy: 0.6068 - val_loss: 0.9285 - val_accuracy: 0.6140\n",
            "\n",
            "Epoch 00014: val_accuracy improved from 0.60600 to 0.61400, saving model to best_model.h5\n",
            "Epoch 15/200\n",
            "70/70 [==============================] - 27s 389ms/step - loss: 0.9276 - accuracy: 0.6097 - val_loss: 0.9219 - val_accuracy: 0.6068\n",
            "\n",
            "Epoch 00015: val_accuracy did not improve from 0.61400\n",
            "Epoch 16/200\n",
            "70/70 [==============================] - 27s 388ms/step - loss: 0.9206 - accuracy: 0.6108 - val_loss: 0.9136 - val_accuracy: 0.6172\n",
            "\n",
            "Epoch 00016: val_accuracy improved from 0.61400 to 0.61717, saving model to best_model.h5\n",
            "Epoch 17/200\n",
            "70/70 [==============================] - 27s 389ms/step - loss: 0.9137 - accuracy: 0.6181 - val_loss: 0.9053 - val_accuracy: 0.6247\n",
            "\n",
            "Epoch 00017: val_accuracy improved from 0.61717 to 0.62467, saving model to best_model.h5\n",
            "Epoch 18/200\n",
            "70/70 [==============================] - 27s 388ms/step - loss: 0.9086 - accuracy: 0.6222 - val_loss: 0.8964 - val_accuracy: 0.6317\n",
            "\n",
            "Epoch 00018: val_accuracy improved from 0.62467 to 0.63167, saving model to best_model.h5\n",
            "Epoch 19/200\n",
            "70/70 [==============================] - 27s 389ms/step - loss: 0.8952 - accuracy: 0.6347 - val_loss: 0.8950 - val_accuracy: 0.6280\n",
            "\n",
            "Epoch 00019: val_accuracy did not improve from 0.63167\n",
            "Epoch 20/200\n",
            "70/70 [==============================] - 27s 388ms/step - loss: 0.8845 - accuracy: 0.6408 - val_loss: 0.8724 - val_accuracy: 0.6595\n",
            "\n",
            "Epoch 00020: val_accuracy improved from 0.63167 to 0.65950, saving model to best_model.h5\n",
            "Epoch 21/200\n",
            "70/70 [==============================] - 28s 392ms/step - loss: 0.8718 - accuracy: 0.6458 - val_loss: 0.8605 - val_accuracy: 0.6567\n",
            "\n",
            "Epoch 00021: val_accuracy did not improve from 0.65950\n",
            "Epoch 22/200\n",
            "70/70 [==============================] - 27s 390ms/step - loss: 0.8545 - accuracy: 0.6606 - val_loss: 0.8481 - val_accuracy: 0.6427\n",
            "\n",
            "Epoch 00022: val_accuracy did not improve from 0.65950\n",
            "Epoch 23/200\n",
            "70/70 [==============================] - 27s 389ms/step - loss: 0.8405 - accuracy: 0.6644 - val_loss: 0.8209 - val_accuracy: 0.7085\n",
            "\n",
            "Epoch 00023: val_accuracy improved from 0.65950 to 0.70850, saving model to best_model.h5\n",
            "Epoch 24/200\n",
            "70/70 [==============================] - 27s 389ms/step - loss: 0.8169 - accuracy: 0.6822 - val_loss: 0.7966 - val_accuracy: 0.7048\n",
            "\n",
            "Epoch 00024: val_accuracy did not improve from 0.70850\n",
            "Epoch 25/200\n",
            "70/70 [==============================] - 27s 390ms/step - loss: 0.7929 - accuracy: 0.6995 - val_loss: 0.7713 - val_accuracy: 0.7325\n",
            "\n",
            "Epoch 00025: val_accuracy improved from 0.70850 to 0.73250, saving model to best_model.h5\n",
            "Epoch 26/200\n",
            "70/70 [==============================] - 30s 423ms/step - loss: 0.7713 - accuracy: 0.7131 - val_loss: 0.7413 - val_accuracy: 0.7533\n",
            "\n",
            "Epoch 00026: val_accuracy improved from 0.73250 to 0.75333, saving model to best_model.h5\n",
            "Epoch 27/200\n",
            "70/70 [==============================] - 27s 391ms/step - loss: 0.7393 - accuracy: 0.7377 - val_loss: 0.7202 - val_accuracy: 0.7413\n",
            "\n",
            "Epoch 00027: val_accuracy did not improve from 0.75333\n",
            "Epoch 28/200\n",
            "70/70 [==============================] - 27s 391ms/step - loss: 0.7116 - accuracy: 0.7482 - val_loss: 0.6761 - val_accuracy: 0.7833\n",
            "\n",
            "Epoch 00028: val_accuracy improved from 0.75333 to 0.78333, saving model to best_model.h5\n",
            "Epoch 29/200\n",
            "70/70 [==============================] - 28s 392ms/step - loss: 0.6785 - accuracy: 0.7669 - val_loss: 0.6505 - val_accuracy: 0.7962\n",
            "\n",
            "Epoch 00029: val_accuracy improved from 0.78333 to 0.79617, saving model to best_model.h5\n",
            "Epoch 30/200\n",
            "70/70 [==============================] - 27s 389ms/step - loss: 0.6487 - accuracy: 0.7749 - val_loss: 0.6165 - val_accuracy: 0.8032\n",
            "\n",
            "Epoch 00030: val_accuracy improved from 0.79617 to 0.80317, saving model to best_model.h5\n",
            "Epoch 31/200\n",
            "70/70 [==============================] - 28s 392ms/step - loss: 0.6187 - accuracy: 0.7887 - val_loss: 0.5884 - val_accuracy: 0.8065\n",
            "\n",
            "Epoch 00031: val_accuracy improved from 0.80317 to 0.80650, saving model to best_model.h5\n",
            "Epoch 32/200\n",
            "70/70 [==============================] - 28s 392ms/step - loss: 0.5913 - accuracy: 0.7965 - val_loss: 0.5679 - val_accuracy: 0.8053\n",
            "\n",
            "Epoch 00032: val_accuracy did not improve from 0.80650\n",
            "Epoch 33/200\n",
            "70/70 [==============================] - 27s 391ms/step - loss: 0.5728 - accuracy: 0.7980 - val_loss: 0.5415 - val_accuracy: 0.8175\n",
            "\n",
            "Epoch 00033: val_accuracy improved from 0.80650 to 0.81750, saving model to best_model.h5\n",
            "Epoch 34/200\n",
            "70/70 [==============================] - 28s 393ms/step - loss: 0.5468 - accuracy: 0.8059 - val_loss: 0.5263 - val_accuracy: 0.8123\n",
            "\n",
            "Epoch 00034: val_accuracy did not improve from 0.81750\n",
            "Epoch 35/200\n",
            "70/70 [==============================] - 28s 393ms/step - loss: 0.5302 - accuracy: 0.8084 - val_loss: 0.5090 - val_accuracy: 0.8223\n",
            "\n",
            "Epoch 00035: val_accuracy improved from 0.81750 to 0.82233, saving model to best_model.h5\n",
            "Epoch 36/200\n",
            "70/70 [==============================] - 27s 392ms/step - loss: 0.5082 - accuracy: 0.8164 - val_loss: 0.4881 - val_accuracy: 0.8257\n",
            "\n",
            "Epoch 00036: val_accuracy improved from 0.82233 to 0.82567, saving model to best_model.h5\n",
            "Epoch 37/200\n",
            "70/70 [==============================] - 28s 392ms/step - loss: 0.4986 - accuracy: 0.8165 - val_loss: 0.4750 - val_accuracy: 0.8305\n",
            "\n",
            "Epoch 00037: val_accuracy improved from 0.82567 to 0.83050, saving model to best_model.h5\n",
            "Epoch 38/200\n",
            "70/70 [==============================] - 28s 393ms/step - loss: 0.4806 - accuracy: 0.8233 - val_loss: 0.4677 - val_accuracy: 0.8303\n",
            "\n",
            "Epoch 00038: val_accuracy did not improve from 0.83050\n",
            "Epoch 39/200\n",
            "70/70 [==============================] - 28s 392ms/step - loss: 0.4720 - accuracy: 0.8264 - val_loss: 0.4538 - val_accuracy: 0.8338\n",
            "\n",
            "Epoch 00039: val_accuracy improved from 0.83050 to 0.83383, saving model to best_model.h5\n",
            "Epoch 40/200\n",
            "70/70 [==============================] - 28s 392ms/step - loss: 0.4577 - accuracy: 0.8334 - val_loss: 0.4416 - val_accuracy: 0.8398\n",
            "\n",
            "Epoch 00040: val_accuracy improved from 0.83383 to 0.83983, saving model to best_model.h5\n",
            "Epoch 41/200\n",
            "70/70 [==============================] - 28s 392ms/step - loss: 0.4496 - accuracy: 0.8366 - val_loss: 0.4296 - val_accuracy: 0.8442\n",
            "\n",
            "Epoch 00041: val_accuracy improved from 0.83983 to 0.84417, saving model to best_model.h5\n",
            "Epoch 42/200\n",
            "70/70 [==============================] - 28s 392ms/step - loss: 0.4386 - accuracy: 0.8376 - val_loss: 0.4271 - val_accuracy: 0.8462\n",
            "\n",
            "Epoch 00042: val_accuracy improved from 0.84417 to 0.84617, saving model to best_model.h5\n",
            "Epoch 43/200\n",
            "70/70 [==============================] - 28s 393ms/step - loss: 0.4366 - accuracy: 0.8395 - val_loss: 0.4194 - val_accuracy: 0.8522\n",
            "\n",
            "Epoch 00043: val_accuracy improved from 0.84617 to 0.85217, saving model to best_model.h5\n",
            "Epoch 44/200\n",
            "70/70 [==============================] - 28s 395ms/step - loss: 0.4326 - accuracy: 0.8440 - val_loss: 0.4078 - val_accuracy: 0.8562\n",
            "\n",
            "Epoch 00044: val_accuracy improved from 0.85217 to 0.85617, saving model to best_model.h5\n",
            "Epoch 45/200\n",
            "70/70 [==============================] - 28s 394ms/step - loss: 0.4195 - accuracy: 0.8481 - val_loss: 0.4050 - val_accuracy: 0.8577\n",
            "\n",
            "Epoch 00045: val_accuracy improved from 0.85617 to 0.85767, saving model to best_model.h5\n",
            "Epoch 46/200\n",
            "70/70 [==============================] - 28s 394ms/step - loss: 0.4125 - accuracy: 0.8522 - val_loss: 0.3948 - val_accuracy: 0.8640\n",
            "\n",
            "Epoch 00046: val_accuracy improved from 0.85767 to 0.86400, saving model to best_model.h5\n",
            "Epoch 47/200\n",
            "70/70 [==============================] - 28s 393ms/step - loss: 0.4104 - accuracy: 0.8493 - val_loss: 0.3931 - val_accuracy: 0.8635\n",
            "\n",
            "Epoch 00047: val_accuracy did not improve from 0.86400\n",
            "Epoch 48/200\n",
            "70/70 [==============================] - 29s 416ms/step - loss: 0.4025 - accuracy: 0.8552 - val_loss: 0.3848 - val_accuracy: 0.8658\n",
            "\n",
            "Epoch 00048: val_accuracy improved from 0.86400 to 0.86583, saving model to best_model.h5\n",
            "Epoch 49/200\n",
            "70/70 [==============================] - 28s 393ms/step - loss: 0.3976 - accuracy: 0.8579 - val_loss: 0.3814 - val_accuracy: 0.8698\n",
            "\n",
            "Epoch 00049: val_accuracy improved from 0.86583 to 0.86983, saving model to best_model.h5\n",
            "Epoch 50/200\n",
            "70/70 [==============================] - 28s 393ms/step - loss: 0.3922 - accuracy: 0.8595 - val_loss: 0.3790 - val_accuracy: 0.8707\n",
            "\n",
            "Epoch 00050: val_accuracy improved from 0.86983 to 0.87067, saving model to best_model.h5\n",
            "Epoch 51/200\n",
            "70/70 [==============================] - 28s 392ms/step - loss: 0.3885 - accuracy: 0.8623 - val_loss: 0.3787 - val_accuracy: 0.8695\n",
            "\n",
            "Epoch 00051: val_accuracy did not improve from 0.87067\n",
            "Epoch 52/200\n",
            "70/70 [==============================] - 27s 391ms/step - loss: 0.3844 - accuracy: 0.8632 - val_loss: 0.3949 - val_accuracy: 0.8580\n",
            "\n",
            "Epoch 00052: val_accuracy did not improve from 0.87067\n",
            "Epoch 53/200\n",
            "70/70 [==============================] - 28s 395ms/step - loss: 0.3902 - accuracy: 0.8598 - val_loss: 0.3657 - val_accuracy: 0.8755\n",
            "\n",
            "Epoch 00053: val_accuracy improved from 0.87067 to 0.87550, saving model to best_model.h5\n",
            "Epoch 54/200\n",
            "70/70 [==============================] - 27s 392ms/step - loss: 0.3786 - accuracy: 0.8668 - val_loss: 0.3630 - val_accuracy: 0.8773\n",
            "\n",
            "Epoch 00054: val_accuracy improved from 0.87550 to 0.87733, saving model to best_model.h5\n",
            "Epoch 55/200\n",
            "70/70 [==============================] - 28s 393ms/step - loss: 0.3737 - accuracy: 0.8675 - val_loss: 0.3587 - val_accuracy: 0.8767\n",
            "\n",
            "Epoch 00055: val_accuracy did not improve from 0.87733\n",
            "Epoch 56/200\n",
            "70/70 [==============================] - 28s 394ms/step - loss: 0.3704 - accuracy: 0.8693 - val_loss: 0.3557 - val_accuracy: 0.8808\n",
            "\n",
            "Epoch 00056: val_accuracy improved from 0.87733 to 0.88083, saving model to best_model.h5\n",
            "Epoch 57/200\n",
            "70/70 [==============================] - 28s 393ms/step - loss: 0.3703 - accuracy: 0.8675 - val_loss: 0.3554 - val_accuracy: 0.8782\n",
            "\n",
            "Epoch 00057: val_accuracy did not improve from 0.88083\n",
            "Epoch 58/200\n",
            "70/70 [==============================] - 27s 390ms/step - loss: 0.3628 - accuracy: 0.8727 - val_loss: 0.3620 - val_accuracy: 0.8773\n",
            "\n",
            "Epoch 00058: val_accuracy did not improve from 0.88083\n",
            "Epoch 59/200\n",
            "70/70 [==============================] - 28s 394ms/step - loss: 0.3640 - accuracy: 0.8709 - val_loss: 0.3554 - val_accuracy: 0.8818\n",
            "\n",
            "Epoch 00059: val_accuracy improved from 0.88083 to 0.88183, saving model to best_model.h5\n",
            "Epoch 60/200\n",
            "70/70 [==============================] - 28s 392ms/step - loss: 0.3601 - accuracy: 0.8723 - val_loss: 0.3474 - val_accuracy: 0.8820\n",
            "\n",
            "Epoch 00060: val_accuracy improved from 0.88183 to 0.88200, saving model to best_model.h5\n",
            "Epoch 61/200\n",
            "70/70 [==============================] - 28s 392ms/step - loss: 0.3610 - accuracy: 0.8735 - val_loss: 0.3575 - val_accuracy: 0.8717\n",
            "\n",
            "Epoch 00061: val_accuracy did not improve from 0.88200\n",
            "Epoch 62/200\n",
            "70/70 [==============================] - 28s 392ms/step - loss: 0.3658 - accuracy: 0.8689 - val_loss: 0.3498 - val_accuracy: 0.8783\n",
            "\n",
            "Epoch 00062: val_accuracy did not improve from 0.88200\n",
            "Epoch 63/200\n",
            "70/70 [==============================] - 28s 393ms/step - loss: 0.3550 - accuracy: 0.8748 - val_loss: 0.3410 - val_accuracy: 0.8850\n",
            "\n",
            "Epoch 00063: val_accuracy improved from 0.88200 to 0.88500, saving model to best_model.h5\n",
            "Epoch 64/200\n",
            "70/70 [==============================] - 28s 392ms/step - loss: 0.3520 - accuracy: 0.8767 - val_loss: 0.3468 - val_accuracy: 0.8812\n",
            "\n",
            "Epoch 00064: val_accuracy did not improve from 0.88500\n",
            "Epoch 65/200\n",
            "70/70 [==============================] - 27s 391ms/step - loss: 0.3592 - accuracy: 0.8722 - val_loss: 0.3435 - val_accuracy: 0.8832\n",
            "\n",
            "Epoch 00065: val_accuracy did not improve from 0.88500\n",
            "Epoch 66/200\n",
            "70/70 [==============================] - 28s 392ms/step - loss: 0.3508 - accuracy: 0.8763 - val_loss: 0.3443 - val_accuracy: 0.8860\n",
            "\n",
            "Epoch 00066: val_accuracy improved from 0.88500 to 0.88600, saving model to best_model.h5\n",
            "Epoch 67/200\n",
            "70/70 [==============================] - 28s 394ms/step - loss: 0.3477 - accuracy: 0.8785 - val_loss: 0.3408 - val_accuracy: 0.8880\n",
            "\n",
            "Epoch 00067: val_accuracy improved from 0.88600 to 0.88800, saving model to best_model.h5\n",
            "Epoch 68/200\n",
            "70/70 [==============================] - 28s 392ms/step - loss: 0.3461 - accuracy: 0.8764 - val_loss: 0.3388 - val_accuracy: 0.8872\n",
            "\n",
            "Epoch 00068: val_accuracy did not improve from 0.88800\n",
            "Epoch 69/200\n",
            "70/70 [==============================] - 28s 392ms/step - loss: 0.3455 - accuracy: 0.8784 - val_loss: 0.3340 - val_accuracy: 0.8865\n",
            "\n",
            "Epoch 00069: val_accuracy did not improve from 0.88800\n",
            "Epoch 70/200\n",
            "70/70 [==============================] - 28s 393ms/step - loss: 0.3461 - accuracy: 0.8774 - val_loss: 0.3340 - val_accuracy: 0.8897\n",
            "\n",
            "Epoch 00070: val_accuracy improved from 0.88800 to 0.88967, saving model to best_model.h5\n",
            "Epoch 71/200\n",
            "70/70 [==============================] - 28s 392ms/step - loss: 0.3413 - accuracy: 0.8798 - val_loss: 0.3298 - val_accuracy: 0.8900\n",
            "\n",
            "Epoch 00071: val_accuracy improved from 0.88967 to 0.89000, saving model to best_model.h5\n",
            "Epoch 72/200\n",
            "70/70 [==============================] - 28s 392ms/step - loss: 0.3431 - accuracy: 0.8815 - val_loss: 0.3320 - val_accuracy: 0.8863\n",
            "\n",
            "Epoch 00072: val_accuracy did not improve from 0.89000\n",
            "Epoch 73/200\n",
            "70/70 [==============================] - 27s 391ms/step - loss: 0.3391 - accuracy: 0.8803 - val_loss: 0.3311 - val_accuracy: 0.8870\n",
            "\n",
            "Epoch 00073: val_accuracy did not improve from 0.89000\n",
            "Epoch 74/200\n",
            "70/70 [==============================] - 27s 389ms/step - loss: 0.3375 - accuracy: 0.8800 - val_loss: 0.3351 - val_accuracy: 0.8863\n",
            "\n",
            "Epoch 00074: val_accuracy did not improve from 0.89000\n",
            "Epoch 75/200\n",
            "70/70 [==============================] - 28s 392ms/step - loss: 0.3410 - accuracy: 0.8791 - val_loss: 0.3285 - val_accuracy: 0.8898\n",
            "\n",
            "Epoch 00075: val_accuracy did not improve from 0.89000\n",
            "Epoch 76/200\n",
            "70/70 [==============================] - 27s 390ms/step - loss: 0.3351 - accuracy: 0.8848 - val_loss: 0.3280 - val_accuracy: 0.8868\n",
            "\n",
            "Epoch 00076: val_accuracy did not improve from 0.89000\n",
            "Epoch 77/200\n",
            "70/70 [==============================] - 27s 391ms/step - loss: 0.3348 - accuracy: 0.8813 - val_loss: 0.3362 - val_accuracy: 0.8827\n",
            "\n",
            "Epoch 00077: val_accuracy did not improve from 0.89000\n",
            "Epoch 78/200\n",
            "70/70 [==============================] - 27s 391ms/step - loss: 0.3369 - accuracy: 0.8806 - val_loss: 0.3283 - val_accuracy: 0.8898\n",
            "\n",
            "Epoch 00078: val_accuracy did not improve from 0.89000\n",
            "Epoch 79/200\n",
            "70/70 [==============================] - 27s 391ms/step - loss: 0.3319 - accuracy: 0.8840 - val_loss: 0.3444 - val_accuracy: 0.8823\n",
            "\n",
            "Epoch 00079: val_accuracy did not improve from 0.89000\n",
            "Epoch 80/200\n",
            "28/70 [==========>...................] - ETA: 15s - loss: 0.3326 - accuracy: 0.8810"
          ]
        }
      ]
    },
    {
      "cell_type": "markdown",
      "metadata": {
        "id": "fXZP7HCxqpbS"
      },
      "source": [
        "**Deixe-nos representar graficamente a Precisão do treinamento versus perda para obter uma melhor compreensão do treinamento do modelo.**"
      ]
    },
    {
      "cell_type": "code",
      "metadata": {
        "colab": {
          "base_uri": "https://localhost:8080/",
          "height": 328
        },
        "id": "r2RLRG0mqfsv",
        "outputId": "29951a7c-260d-418a-8fb1-0e17e7c97982"
      },
      "source": [
        "plt.figure(figsize=(10, 10))\n",
        "\n",
        "plt.subplot(2, 2, 1)\n",
        "plt.plot(history.history['loss'], label='Loss')\n",
        "plt.plot(history.history['val_loss'], label='Validation Loss')\n",
        "plt.legend()\n",
        "plt.title('Training - Loss Function')\n",
        "\n",
        "plt.subplot(2, 2, 2)\n",
        "plt.plot(history.history['accuracy'], label='Accuracy')\n",
        "plt.plot(history.history['val_accuracy'], label='Validation Accuracy')\n",
        "plt.legend()\n",
        "plt.title('Train - Accuracy')"
      ],
      "execution_count": null,
      "outputs": [
        {
          "output_type": "execute_result",
          "data": {
            "text/plain": [
              "Text(0.5, 1.0, 'Train - Accuracy')"
            ]
          },
          "metadata": {},
          "execution_count": 165
        },
        {
          "output_type": "display_data",
          "data": {
            "image/png": "[encoded data removed]",
            "text/plain": [
              "<Figure size 720x720 with 2 Axes>"
            ]
          },
          "metadata": {
            "needs_background": "light"
          }
        }
      ]
    },
    {
      "cell_type": "markdown",
      "metadata": {
        "id": "D6gvFi_nY4NB"
      },
      "source": [
        "\n",
        "# **Vamos traçar a precisão do treinamento e da validação, bem como a perda.** "
      ]
    },
    {
      "cell_type": "code",
      "metadata": {
        "id": "HvI5gCDM5Djb",
        "colab": {
          "base_uri": "https://localhost:8080/",
          "height": 545
        },
        "outputId": "35f44f42-fb8c-4891-c7b7-365460c13341"
      },
      "source": [
        "%matplotlib inline\n",
        "import matplotlib.pyplot as plt\n",
        "acc = history.history['accuracy']\n",
        "val_acc = history.history['val_accuracy']\n",
        "loss = history.history['loss']\n",
        "val_loss = history.history['val_loss']\n",
        "\n",
        "epochs = range(len(acc))\n",
        "\n",
        "plt.plot(epochs, acc, 'r', label='Training accuracy')\n",
        "plt.plot(epochs, val_acc, 'b', label='Validation accuracy')\n",
        "plt.title('Training and validation accuracy')\n",
        "plt.legend(loc=0)\n",
        "plt.figure()\n",
        "\n",
        "plt.plot(epochs, loss, 'r', label='Training Loss')\n",
        "plt.plot(epochs, val_loss, 'b', label='Validation Loss')\n",
        "plt.title('Training and validation loss')\n",
        "plt.legend()\n",
        "\n",
        "plt.show()"
      ],
      "execution_count": null,
      "outputs": [
        {
          "output_type": "display_data",
          "data": {
            "image/png": "[encoded data removed]",
            "text/plain": [
              "<Figure size 432x288 with 1 Axes>"
            ]
          },
          "metadata": {
            "needs_background": "light"
          }
        },
        {
          "output_type": "display_data",
          "data": {
            "image/png": "[encoded data removed]",
            "text/plain": [
              "<Figure size 432x288 with 1 Axes>"
            ]
          },
          "metadata": {
            "needs_background": "light"
          }
        }
      ]
    },
    {
      "cell_type": "code",
      "metadata": {
        "id": "IMJbJ4iT8f4x",
        "colab": {
          "base_uri": "https://localhost:8080/",
          "height": 542
        },
        "outputId": "0644d7bf-c9bc-48de-83b5-343e476f5c23"
      },
      "source": [
        "history2= model.history.history\n",
        "px.line(history2,title = \"Metrics Plot\")"
      ],
      "execution_count": null,
      "outputs": [
        {
          "output_type": "display_data",
          "data": {
            "text/html": [
              "<html>\n",
              "<head><meta charset=\"utf-8\" /></head>\n",
              "<body>\n",
              "    <div>\n",
              "            <script src=\"https://cdnjs.cloudflare.com/ajax/libs/mathjax/2.7.5/MathJax.js?config=TeX-AMS-MML_SVG\"></script><script type=\"text/javascript\">if (window.MathJax) {MathJax.Hub.Config({SVG: {font: \"STIX-Web\"}});}</script>\n",
              "                <script type=\"text/javascript\">window.PlotlyConfig = {MathJaxConfig: 'local'};</script>\n",
              "        <script src=\"https://cdn.plot.ly/plotly-latest.min.js\"></script>    \n",
              "            <div id=\"817d1cf1-ca9c-429f-9f77-fb8f67e2e846\" class=\"plotly-graph-div\" style=\"height:525px; width:100%;\"></div>\n",
              "            <script type=\"text/javascript\">\n",
              "                \n",
              "                    window.PLOTLYENV=window.PLOTLYENV || {};\n",
              "                    \n",
              "                if (document.getElementById(\"817d1cf1-ca9c-429f-9f77-fb8f67e2e846\")) {\n",
              "                    Plotly.newPlot(\n",
              "                        '817d1cf1-ca9c-429f-9f77-fb8f67e2e846',\n",
              "                        [],\n",
              "                        {\"legend\": {\"tracegroupgap\": 0}, \"template\": {\"data\": {\"bar\": [{\"error_x\": {\"color\": \"#2a3f5f\"}, \"error_y\": {\"color\": \"#2a3f5f\"}, \"marker\": {\"line\": {\"color\": \"#E5ECF6\", \"width\": 0.5}}, \"type\": \"bar\"}], \"barpolar\": [{\"marker\": {\"line\": {\"color\": \"#E5ECF6\", \"width\": 0.5}}, \"type\": \"barpolar\"}], \"carpet\": [{\"aaxis\": {\"endlinecolor\": \"#2a3f5f\", \"gridcolor\": \"white\", \"linecolor\": \"white\", \"minorgridcolor\": \"white\", \"startlinecolor\": \"#2a3f5f\"}, \"baxis\": {\"endlinecolor\": \"#2a3f5f\", \"gridcolor\": \"white\", \"linecolor\": \"white\", \"minorgridcolor\": \"white\", \"startlinecolor\": \"#2a3f5f\"}, \"type\": \"carpet\"}], \"choropleth\": [{\"colorbar\": {\"outlinewidth\": 0, \"ticks\": \"\"}, \"type\": \"choropleth\"}], \"contour\": [{\"colorbar\": {\"outlinewidth\": 0, \"ticks\": \"\"}, \"colorscale\": [[0.0, \"#0d0887\"], [0.1111111111111111, \"#46039f\"], [0.2222222222222222, \"#7201a8\"], [0.3333333333333333, \"#9c179e\"], [0.4444444444444444, \"#bd3786\"], [0.5555555555555556, \"#d8576b\"], [0.6666666666666666, \"#ed7953\"], [0.7777777777777778, \"#fb9f3a\"], [0.8888888888888888, \"#fdca26\"], [1.0, \"#f0f921\"]], \"type\": \"contour\"}], \"contourcarpet\": [{\"colorbar\": {\"outlinewidth\": 0, \"ticks\": \"\"}, \"type\": \"contourcarpet\"}], \"heatmap\": [{\"colorbar\": {\"outlinewidth\": 0, \"ticks\": \"\"}, \"colorscale\": [[0.0, \"#0d0887\"], [0.1111111111111111, \"#46039f\"], [0.2222222222222222, \"#7201a8\"], [0.3333333333333333, \"#9c179e\"], [0.4444444444444444, \"#bd3786\"], [0.5555555555555556, \"#d8576b\"], [0.6666666666666666, \"#ed7953\"], [0.7777777777777778, \"#fb9f3a\"], [0.8888888888888888, \"#fdca26\"], [1.0, \"#f0f921\"]], \"type\": \"heatmap\"}], \"heatmapgl\": [{\"colorbar\": {\"outlinewidth\": 0, \"ticks\": \"\"}, \"colorscale\": [[0.0, \"#0d0887\"], [0.1111111111111111, \"#46039f\"], [0.2222222222222222, \"#7201a8\"], [0.3333333333333333, \"#9c179e\"], [0.4444444444444444, \"#bd3786\"], [0.5555555555555556, \"#d8576b\"], [0.6666666666666666, \"#ed7953\"], [0.7777777777777778, \"#fb9f3a\"], [0.8888888888888888, \"#fdca26\"], [1.0, \"#f0f921\"]], \"type\": \"heatmapgl\"}], \"histogram\": [{\"marker\": {\"colorbar\": {\"outlinewidth\": 0, \"ticks\": \"\"}}, \"type\": \"histogram\"}], \"histogram2d\": [{\"colorbar\": {\"outlinewidth\": 0, \"ticks\": \"\"}, \"colorscale\": [[0.0, \"#0d0887\"], [0.1111111111111111, \"#46039f\"], [0.2222222222222222, \"#7201a8\"], [0.3333333333333333, \"#9c179e\"], [0.4444444444444444, \"#bd3786\"], [0.5555555555555556, \"#d8576b\"], [0.6666666666666666, \"#ed7953\"], [0.7777777777777778, \"#fb9f3a\"], [0.8888888888888888, \"#fdca26\"], [1.0, \"#f0f921\"]], \"type\": \"histogram2d\"}], \"histogram2dcontour\": [{\"colorbar\": {\"outlinewidth\": 0, \"ticks\": \"\"}, \"colorscale\": [[0.0, \"#0d0887\"], [0.1111111111111111, \"#46039f\"], [0.2222222222222222, \"#7201a8\"], [0.3333333333333333, \"#9c179e\"], [0.4444444444444444, \"#bd3786\"], [0.5555555555555556, \"#d8576b\"], [0.6666666666666666, \"#ed7953\"], [0.7777777777777778, \"#fb9f3a\"], [0.8888888888888888, \"#fdca26\"], [1.0, \"#f0f921\"]], \"type\": \"histogram2dcontour\"}], \"mesh3d\": [{\"colorbar\": {\"outlinewidth\": 0, \"ticks\": \"\"}, \"type\": \"mesh3d\"}], \"parcoords\": [{\"line\": {\"colorbar\": {\"outlinewidth\": 0, \"ticks\": \"\"}}, \"type\": \"parcoords\"}], \"pie\": [{\"automargin\": true, \"type\": \"pie\"}], \"scatter\": [{\"marker\": {\"colorbar\": {\"outlinewidth\": 0, \"ticks\": \"\"}}, \"type\": \"scatter\"}], \"scatter3d\": [{\"line\": {\"colorbar\": {\"outlinewidth\": 0, \"ticks\": \"\"}}, \"marker\": {\"colorbar\": {\"outlinewidth\": 0, \"ticks\": \"\"}}, \"type\": \"scatter3d\"}], \"scattercarpet\": [{\"marker\": {\"colorbar\": {\"outlinewidth\": 0, \"ticks\": \"\"}}, \"type\": \"scattercarpet\"}], \"scattergeo\": [{\"marker\": {\"colorbar\": {\"outlinewidth\": 0, \"ticks\": \"\"}}, \"type\": \"scattergeo\"}], \"scattergl\": [{\"marker\": {\"colorbar\": {\"outlinewidth\": 0, \"ticks\": \"\"}}, \"type\": \"scattergl\"}], \"scattermapbox\": [{\"marker\": {\"colorbar\": {\"outlinewidth\": 0, \"ticks\": \"\"}}, \"type\": \"scattermapbox\"}], \"scatterpolar\": [{\"marker\": {\"colorbar\": {\"outlinewidth\": 0, \"ticks\": \"\"}}, \"type\": \"scatterpolar\"}], \"scatterpolargl\": [{\"marker\": {\"colorbar\": {\"outlinewidth\": 0, \"ticks\": \"\"}}, \"type\": \"scatterpolargl\"}], \"scatterternary\": [{\"marker\": {\"colorbar\": {\"outlinewidth\": 0, \"ticks\": \"\"}}, \"type\": \"scatterternary\"}], \"surface\": [{\"colorbar\": {\"outlinewidth\": 0, \"ticks\": \"\"}, \"colorscale\": [[0.0, \"#0d0887\"], [0.1111111111111111, \"#46039f\"], [0.2222222222222222, \"#7201a8\"], [0.3333333333333333, \"#9c179e\"], [0.4444444444444444, \"#bd3786\"], [0.5555555555555556, \"#d8576b\"], [0.6666666666666666, \"#ed7953\"], [0.7777777777777778, \"#fb9f3a\"], [0.8888888888888888, \"#fdca26\"], [1.0, \"#f0f921\"]], \"type\": \"surface\"}], \"table\": [{\"cells\": {\"fill\": {\"color\": \"#EBF0F8\"}, \"line\": {\"color\": \"white\"}}, \"header\": {\"fill\": {\"color\": \"#C8D4E3\"}, \"line\": {\"color\": \"white\"}}, \"type\": \"table\"}]}, \"layout\": {\"annotationdefaults\": {\"arrowcolor\": \"#2a3f5f\", \"arrowhead\": 0, \"arrowwidth\": 1}, \"coloraxis\": {\"colorbar\": {\"outlinewidth\": 0, \"ticks\": \"\"}}, \"colorscale\": {\"diverging\": [[0, \"#8e0152\"], [0.1, \"#c51b7d\"], [0.2, \"#de77ae\"], [0.3, \"#f1b6da\"], [0.4, \"#fde0ef\"], [0.5, \"#f7f7f7\"], [0.6, \"#e6f5d0\"], [0.7, \"#b8e186\"], [0.8, \"#7fbc41\"], [0.9, \"#4d9221\"], [1, \"#276419\"]], \"sequential\": [[0.0, \"#0d0887\"], [0.1111111111111111, \"#46039f\"], [0.2222222222222222, \"#7201a8\"], [0.3333333333333333, \"#9c179e\"], [0.4444444444444444, \"#bd3786\"], [0.5555555555555556, \"#d8576b\"], [0.6666666666666666, \"#ed7953\"], [0.7777777777777778, \"#fb9f3a\"], [0.8888888888888888, \"#fdca26\"], [1.0, \"#f0f921\"]], \"sequentialminus\": [[0.0, \"#0d0887\"], [0.1111111111111111, \"#46039f\"], [0.2222222222222222, \"#7201a8\"], [0.3333333333333333, \"#9c179e\"], [0.4444444444444444, \"#bd3786\"], [0.5555555555555556, \"#d8576b\"], [0.6666666666666666, \"#ed7953\"], [0.7777777777777778, \"#fb9f3a\"], [0.8888888888888888, \"#fdca26\"], [1.0, \"#f0f921\"]]}, \"colorway\": [\"#636efa\", \"#EF553B\", \"#00cc96\", \"#ab63fa\", \"#FFA15A\", \"#19d3f3\", \"#FF6692\", \"#B6E880\", \"#FF97FF\", \"#FECB52\"], \"font\": {\"color\": \"#2a3f5f\"}, \"geo\": {\"bgcolor\": \"white\", \"lakecolor\": \"white\", \"landcolor\": \"#E5ECF6\", \"showlakes\": true, \"showland\": true, \"subunitcolor\": \"white\"}, \"hoverlabel\": {\"align\": \"left\"}, \"hovermode\": \"closest\", \"mapbox\": {\"style\": \"light\"}, \"paper_bgcolor\": \"white\", \"plot_bgcolor\": \"#E5ECF6\", \"polar\": {\"angularaxis\": {\"gridcolor\": \"white\", \"linecolor\": \"white\", \"ticks\": \"\"}, \"bgcolor\": \"#E5ECF6\", \"radialaxis\": {\"gridcolor\": \"white\", \"linecolor\": \"white\", \"ticks\": \"\"}}, \"scene\": {\"xaxis\": {\"backgroundcolor\": \"#E5ECF6\", \"gridcolor\": \"white\", \"gridwidth\": 2, \"linecolor\": \"white\", \"showbackground\": true, \"ticks\": \"\", \"zerolinecolor\": \"white\"}, \"yaxis\": {\"backgroundcolor\": \"#E5ECF6\", \"gridcolor\": \"white\", \"gridwidth\": 2, \"linecolor\": \"white\", \"showbackground\": true, \"ticks\": \"\", \"zerolinecolor\": \"white\"}, \"zaxis\": {\"backgroundcolor\": \"#E5ECF6\", \"gridcolor\": \"white\", \"gridwidth\": 2, \"linecolor\": \"white\", \"showbackground\": true, \"ticks\": \"\", \"zerolinecolor\": \"white\"}}, \"shapedefaults\": {\"line\": {\"color\": \"#2a3f5f\"}}, \"ternary\": {\"aaxis\": {\"gridcolor\": \"white\", \"linecolor\": \"white\", \"ticks\": \"\"}, \"baxis\": {\"gridcolor\": \"white\", \"linecolor\": \"white\", \"ticks\": \"\"}, \"bgcolor\": \"#E5ECF6\", \"caxis\": {\"gridcolor\": \"white\", \"linecolor\": \"white\", \"ticks\": \"\"}}, \"title\": {\"x\": 0.05}, \"xaxis\": {\"automargin\": true, \"gridcolor\": \"white\", \"linecolor\": \"white\", \"ticks\": \"\", \"title\": {\"standoff\": 15}, \"zerolinecolor\": \"white\", \"zerolinewidth\": 2}, \"yaxis\": {\"automargin\": true, \"gridcolor\": \"white\", \"linecolor\": \"white\", \"ticks\": \"\", \"title\": {\"standoff\": 15}, \"zerolinecolor\": \"white\", \"zerolinewidth\": 2}}}, \"title\": {\"text\": \"Metrics Plot\"}, \"xaxis\": {\"anchor\": \"y\", \"domain\": [0.0, 1.0]}, \"yaxis\": {\"anchor\": \"x\", \"domain\": [0.0, 1.0]}},\n",
              "                        {\"responsive\": true}\n",
              "                    ).then(function(){\n",
              "                            \n",
              "var gd = document.getElementById('817d1cf1-ca9c-429f-9f77-fb8f67e2e846');\n",
              "var x = new MutationObserver(function (mutations, observer) {{\n",
              "        var display = window.getComputedStyle(gd).display;\n",
              "        if (!display || display === 'none') {{\n",
              "            console.log([gd, 'removed!']);\n",
              "            Plotly.purge(gd);\n",
              "            observer.disconnect();\n",
              "        }}\n",
              "}});\n",
              "\n",
              "// Listen for the removal of the full notebook cells\n",
              "var notebookContainer = gd.closest('#notebook-container');\n",
              "if (notebookContainer) {{\n",
              "    x.observe(notebookContainer, {childList: true});\n",
              "}}\n",
              "\n",
              "// Listen for the clearing of the current output cell\n",
              "var outputEl = gd.closest('.output');\n",
              "if (outputEl) {{\n",
              "    x.observe(outputEl, {childList: true});\n",
              "}}\n",
              "\n",
              "                        })\n",
              "                };\n",
              "                \n",
              "            </script>\n",
              "        </div>\n",
              "</body>\n",
              "</html>"
            ]
          },
          "metadata": {}
        }
      ]
    },
    {
      "cell_type": "markdown",
      "metadata": {
        "id": "0G-slWFQ1KwJ"
      },
      "source": [
        "# **Otimizar o modelo**"
      ]
    },
    {
      "cell_type": "markdown",
      "metadata": {
        "id": "SukGrdFNTMWX"
      },
      "source": [
        "# **Avaliar acurácia  do Modelo**"
      ]
    },
    {
      "cell_type": "code",
      "metadata": {
        "id": "jHX9PR5gTQZA",
        "colab": {
          "base_uri": "https://localhost:8080/",
          "height": 363
        },
        "outputId": "7beb18ba-715c-4d43-99fa-14deee37e086"
      },
      "source": [
        "model = tf.keras.models.load_model(\"best_model.h5\")\n",
        "\n",
        "test_loss, test_acc= model.evaluate(X_test,y_test)\n",
        "print(\"validation_accuracy: \" + str(test_acc))"
      ],
      "execution_count": 30,
      "outputs": [
        {
          "output_type": "error",
          "ename": "OSError",
          "evalue": "ignored",
          "traceback": [
            "\u001b[0;31m---------------------------------------------------------------------------\u001b[0m",
            "\u001b[0;31mOSError\u001b[0m                                   Traceback (most recent call last)",
            "\u001b[0;32m<ipython-input-30-10eaca05c86d>\u001b[0m in \u001b[0;36m<module>\u001b[0;34m()\u001b[0m\n\u001b[0;32m----> 1\u001b[0;31m \u001b[0mmodel\u001b[0m \u001b[0;34m=\u001b[0m \u001b[0mtf\u001b[0m\u001b[0;34m.\u001b[0m\u001b[0mkeras\u001b[0m\u001b[0;34m.\u001b[0m\u001b[0mmodels\u001b[0m\u001b[0;34m.\u001b[0m\u001b[0mload_model\u001b[0m\u001b[0;34m(\u001b[0m\u001b[0;34m\"best_model.h5\"\u001b[0m\u001b[0;34m)\u001b[0m\u001b[0;34m\u001b[0m\u001b[0;34m\u001b[0m\u001b[0m\n\u001b[0m\u001b[1;32m      2\u001b[0m \u001b[0;34m\u001b[0m\u001b[0m\n\u001b[1;32m      3\u001b[0m \u001b[0mtest_loss\u001b[0m\u001b[0;34m,\u001b[0m \u001b[0mtest_acc\u001b[0m\u001b[0;34m=\u001b[0m \u001b[0mmodel\u001b[0m\u001b[0;34m.\u001b[0m\u001b[0mevaluate\u001b[0m\u001b[0;34m(\u001b[0m\u001b[0mX_test\u001b[0m\u001b[0;34m,\u001b[0m\u001b[0my_test\u001b[0m\u001b[0;34m)\u001b[0m\u001b[0;34m\u001b[0m\u001b[0;34m\u001b[0m\u001b[0m\n\u001b[1;32m      4\u001b[0m \u001b[0mprint\u001b[0m\u001b[0;34m(\u001b[0m\u001b[0;34m\"validation_accuracy: \"\u001b[0m \u001b[0;34m+\u001b[0m \u001b[0mstr\u001b[0m\u001b[0;34m(\u001b[0m\u001b[0mtest_acc\u001b[0m\u001b[0;34m)\u001b[0m\u001b[0;34m)\u001b[0m\u001b[0;34m\u001b[0m\u001b[0;34m\u001b[0m\u001b[0m\n",
            "\u001b[0;32m/usr/local/lib/python3.7/dist-packages/keras/saving/save.py\u001b[0m in \u001b[0;36mload_model\u001b[0;34m(filepath, custom_objects, compile, options)\u001b[0m\n\u001b[1;32m    203\u001b[0m         \u001b[0mfilepath\u001b[0m \u001b[0;34m=\u001b[0m \u001b[0mpath_to_string\u001b[0m\u001b[0;34m(\u001b[0m\u001b[0mfilepath\u001b[0m\u001b[0;34m)\u001b[0m\u001b[0;34m\u001b[0m\u001b[0;34m\u001b[0m\u001b[0m\n\u001b[1;32m    204\u001b[0m         \u001b[0;32mif\u001b[0m \u001b[0misinstance\u001b[0m\u001b[0;34m(\u001b[0m\u001b[0mfilepath\u001b[0m\u001b[0;34m,\u001b[0m \u001b[0mstr\u001b[0m\u001b[0;34m)\u001b[0m\u001b[0;34m:\u001b[0m\u001b[0;34m\u001b[0m\u001b[0;34m\u001b[0m\u001b[0m\n\u001b[0;32m--> 205\u001b[0;31m           \u001b[0;32mreturn\u001b[0m \u001b[0msaved_model_load\u001b[0m\u001b[0;34m.\u001b[0m\u001b[0mload\u001b[0m\u001b[0;34m(\u001b[0m\u001b[0mfilepath\u001b[0m\u001b[0;34m,\u001b[0m \u001b[0mcompile\u001b[0m\u001b[0;34m,\u001b[0m \u001b[0moptions\u001b[0m\u001b[0;34m)\u001b[0m\u001b[0;34m\u001b[0m\u001b[0;34m\u001b[0m\u001b[0m\n\u001b[0m\u001b[1;32m    206\u001b[0m \u001b[0;34m\u001b[0m\u001b[0m\n\u001b[1;32m    207\u001b[0m   raise IOError(\n",
            "\u001b[0;32m/usr/local/lib/python3.7/dist-packages/keras/saving/saved_model/load.py\u001b[0m in \u001b[0;36mload\u001b[0;34m(path, compile, options)\u001b[0m\n\u001b[1;32m    106\u001b[0m   \u001b[0;31m# Look for metadata file or parse the SavedModel\u001b[0m\u001b[0;34m\u001b[0m\u001b[0;34m\u001b[0m\u001b[0;34m\u001b[0m\u001b[0m\n\u001b[1;32m    107\u001b[0m   \u001b[0mmetadata\u001b[0m \u001b[0;34m=\u001b[0m \u001b[0msaved_metadata_pb2\u001b[0m\u001b[0;34m.\u001b[0m\u001b[0mSavedMetadata\u001b[0m\u001b[0;34m(\u001b[0m\u001b[0;34m)\u001b[0m\u001b[0;34m\u001b[0m\u001b[0;34m\u001b[0m\u001b[0m\n\u001b[0;32m--> 108\u001b[0;31m   \u001b[0mmeta_graph_def\u001b[0m \u001b[0;34m=\u001b[0m \u001b[0mtf\u001b[0m\u001b[0;34m.\u001b[0m\u001b[0m__internal__\u001b[0m\u001b[0;34m.\u001b[0m\u001b[0msaved_model\u001b[0m\u001b[0;34m.\u001b[0m\u001b[0mparse_saved_model\u001b[0m\u001b[0;34m(\u001b[0m\u001b[0mpath\u001b[0m\u001b[0;34m)\u001b[0m\u001b[0;34m.\u001b[0m\u001b[0mmeta_graphs\u001b[0m\u001b[0;34m[\u001b[0m\u001b[0;36m0\u001b[0m\u001b[0;34m]\u001b[0m\u001b[0;34m\u001b[0m\u001b[0;34m\u001b[0m\u001b[0m\n\u001b[0m\u001b[1;32m    109\u001b[0m   \u001b[0mobject_graph_def\u001b[0m \u001b[0;34m=\u001b[0m \u001b[0mmeta_graph_def\u001b[0m\u001b[0;34m.\u001b[0m\u001b[0mobject_graph_def\u001b[0m\u001b[0;34m\u001b[0m\u001b[0;34m\u001b[0m\u001b[0m\n\u001b[1;32m    110\u001b[0m   \u001b[0mpath_to_metadata_pb\u001b[0m \u001b[0;34m=\u001b[0m \u001b[0mos\u001b[0m\u001b[0;34m.\u001b[0m\u001b[0mpath\u001b[0m\u001b[0;34m.\u001b[0m\u001b[0mjoin\u001b[0m\u001b[0;34m(\u001b[0m\u001b[0mpath\u001b[0m\u001b[0;34m,\u001b[0m \u001b[0mconstants\u001b[0m\u001b[0;34m.\u001b[0m\u001b[0mSAVED_METADATA_PATH\u001b[0m\u001b[0;34m)\u001b[0m\u001b[0;34m\u001b[0m\u001b[0;34m\u001b[0m\u001b[0m\n",
            "\u001b[0;32m/usr/local/lib/python3.7/dist-packages/tensorflow/python/saved_model/loader_impl.py\u001b[0m in \u001b[0;36mparse_saved_model\u001b[0;34m(export_dir)\u001b[0m\n\u001b[1;32m    119\u001b[0m         \u001b[0;34m\"SavedModel file does not exist at: %s%s{%s|%s}\"\u001b[0m \u001b[0;34m%\u001b[0m\u001b[0;34m\u001b[0m\u001b[0;34m\u001b[0m\u001b[0m\n\u001b[1;32m    120\u001b[0m         (export_dir, os.path.sep, constants.SAVED_MODEL_FILENAME_PBTXT,\n\u001b[0;32m--> 121\u001b[0;31m          constants.SAVED_MODEL_FILENAME_PB))\n\u001b[0m\u001b[1;32m    122\u001b[0m \u001b[0;34m\u001b[0m\u001b[0m\n\u001b[1;32m    123\u001b[0m \u001b[0;34m\u001b[0m\u001b[0m\n",
            "\u001b[0;31mOSError\u001b[0m: SavedModel file does not exist at: best_model.h5/{saved_model.pbtxt|saved_model.pb}"
          ]
        }
      ]
    },
    {
      "cell_type": "markdown",
      "metadata": {
        "id": "gdQhIrGw6gbL"
      },
      "source": [
        "# **Predição**"
      ]
    },
    {
      "cell_type": "code",
      "metadata": {
        "id": "5VpGkhNhBDGR",
        "colab": {
          "base_uri": "https://localhost:8080/",
          "height": 266
        },
        "outputId": "a06d539e-8544-4340-ef19-808e8048fa05"
      },
      "source": [
        "plt.figure()\n",
        "plt.imshow(X_train[4])\n",
        "plt.colorbar()\n",
        "plt.grid(False)\n",
        "plt.show()"
      ],
      "execution_count": null,
      "outputs": [
        {
          "output_type": "display_data",
          "data": {
            "image/png": "[encoded data removed]",
            "text/plain": [
              "<Figure size 432x288 with 2 Axes>"
            ]
          },
          "metadata": {
            "needs_background": "light"
          }
        }
      ]
    },
    {
      "cell_type": "code",
      "metadata": {
        "id": "ut4cvpNs2eGz",
        "colab": {
          "base_uri": "https://localhost:8080/",
          "height": 589
        },
        "outputId": "91b2b698-5688-440c-bbf3-9db9557fa389"
      },
      "source": [
        "class_names = ['andesite','gneiss','marbler','quartzite','rhyolite','schist']\n",
        "#class_names = [0,1,2,3,4,5]\n",
        "\n",
        "plt.figure(figsize=(10,10))\n",
        "for i in range(25):\n",
        "    plt.subplot(5,5,i+1)\n",
        "    plt.xticks([])\n",
        "    plt.yticks([])\n",
        "    plt.grid(False)\n",
        "    plt.imshow(X_train[i])\n",
        "    plt.xlabel(y_train[i])\n",
        "plt.show()\n",
        "   "
      ],
      "execution_count": null,
      "outputs": [
        {
          "output_type": "display_data",
          "data": {
            "image/png": "[encoded data removed]",
            "text/plain": [
              "<Figure size 720x720 with 25 Axes>"
            ]
          },
          "metadata": {}
        }
      ]
    },
    {
      "cell_type": "code",
      "metadata": {
        "id": "6fd1COOBcEq-",
        "colab": {
          "base_uri": "https://localhost:8080/"
        },
        "outputId": "d23bc4d5-f8d2-4fe7-8940-55465aa13880"
      },
      "source": [
        "pred = model.predict(X_test)\n",
        "print(\"Prediction_accuracy: \" + str(pred))"
      ],
      "execution_count": null,
      "outputs": [
        {
          "output_type": "stream",
          "name": "stdout",
          "text": [
            "Prediction_accuracy: [[4.4237349e-05 5.1119161e-04 9.7813797e-01 3.5523470e-11 5.1980922e-05\n",
            "  2.1254715e-02]\n",
            " [2.5984558e-04 5.4425385e-08 9.7353059e-21 9.9971920e-01 9.2405594e-10\n",
            "  2.0854950e-05]\n",
            " [7.3082192e-06 4.0194062e-03 9.6138841e-01 1.0710959e-11 1.2206150e-05\n",
            "  3.4572661e-02]\n",
            " ...\n",
            " [1.3540509e-01 5.9879612e-09 5.4190125e-11 2.9082768e-04 8.6308438e-01\n",
            "  1.2197671e-03]\n",
            " [1.4154476e-05 5.6700963e-01 1.2245647e-07 2.1436308e-05 6.2361799e-08\n",
            "  4.3295458e-01]\n",
            " [7.0211384e-03 1.8503628e-03 1.4095785e-03 9.6701535e-07 6.3408159e-02\n",
            "  9.2630970e-01]]\n"
          ]
        }
      ]
    },
    {
      "cell_type": "code",
      "metadata": {
        "id": "pYKNqTvYIy56",
        "colab": {
          "base_uri": "https://localhost:8080/"
        },
        "outputId": "9abea75e-3704-4099-ba7f-cf54eef02094"
      },
      "source": [
        "pred[0] # primeira predição"
      ],
      "execution_count": null,
      "outputs": [
        {
          "output_type": "execute_result",
          "data": {
            "text/plain": [
              "array([4.4237349e-05, 5.1119161e-04, 9.7813797e-01, 3.5523470e-11,\n",
              "       5.1980922e-05, 2.1254715e-02], dtype=float32)"
            ]
          },
          "metadata": {},
          "execution_count": 189
        }
      ]
    },
    {
      "cell_type": "code",
      "metadata": {
        "id": "c81gyqxSpT8o",
        "colab": {
          "base_uri": "https://localhost:8080/"
        },
        "outputId": "bc4c6028-11df-4ca2-8d1a-cba3e22f13d4"
      },
      "source": [
        "np.argmax(pred[0])\n"
      ],
      "execution_count": null,
      "outputs": [
        {
          "output_type": "execute_result",
          "data": {
            "text/plain": [
              "2"
            ]
          },
          "metadata": {},
          "execution_count": 190
        }
      ]
    },
    {
      "cell_type": "code",
      "metadata": {
        "id": "HIFhaEXOlmwM",
        "colab": {
          "base_uri": "https://localhost:8080/"
        },
        "outputId": "90562a52-331d-4243-d598-7bab89a4a9d0"
      },
      "source": [
        "y_test [0]"
      ],
      "execution_count": null,
      "outputs": [
        {
          "output_type": "execute_result",
          "data": {
            "text/plain": [
              "array([0, 0, 1, 0, 0, 0])"
            ]
          },
          "metadata": {},
          "execution_count": 191
        }
      ]
    },
    {
      "cell_type": "code",
      "metadata": {
        "id": "I_0eTjMs2N72",
        "colab": {
          "base_uri": "https://localhost:8080/"
        },
        "outputId": "6161bbc4-9e24-4614-b589-099bbb560de6"
      },
      "source": [
        "from sklearn.metrics import confusion_matrix\n",
        "y_test_predicted = model.predict(X_test)\n",
        "y_test_predicted"
      ],
      "execution_count": null,
      "outputs": [
        {
          "output_type": "execute_result",
          "data": {
            "text/plain": [
              "array([[4.4237349e-05, 5.1119161e-04, 9.7813797e-01, 3.5523470e-11,\n",
              "        5.1980922e-05, 2.1254715e-02],\n",
              "       [2.5984558e-04, 5.4425385e-08, 9.7353059e-21, 9.9971920e-01,\n",
              "        9.2405594e-10, 2.0854950e-05],\n",
              "       [7.3082192e-06, 4.0194062e-03, 9.6138841e-01, 1.0710959e-11,\n",
              "        1.2206150e-05, 3.4572661e-02],\n",
              "       ...,\n",
              "       [1.3540509e-01, 5.9879612e-09, 5.4190125e-11, 2.9082768e-04,\n",
              "        8.6308438e-01, 1.2197671e-03],\n",
              "       [1.4154476e-05, 5.6700963e-01, 1.2245647e-07, 2.1436308e-05,\n",
              "        6.2361799e-08, 4.3295458e-01],\n",
              "       [7.0211384e-03, 1.8503628e-03, 1.4095785e-03, 9.6701535e-07,\n",
              "        6.3408159e-02, 9.2630970e-01]], dtype=float32)"
            ]
          },
          "metadata": {},
          "execution_count": 192
        }
      ]
    },
    {
      "cell_type": "code",
      "metadata": {
        "id": "kH0RXGnvS0nz",
        "colab": {
          "base_uri": "https://localhost:8080/",
          "height": 699
        },
        "outputId": "61a49df9-8c57-42e0-eb19-eb4fc1ce0ccc"
      },
      "source": [
        "L = 5\n",
        "W = 5\n",
        "fig, axes = plt.subplots(L, W, figsize = (12,12))\n",
        "axes = axes.ravel()\n",
        "\n",
        "for i in np.arange(0, L * W):  \n",
        "    axes[i].imshow(X_test[i])\n",
        "    axes[i].set_title(\"Prediction Class = \") \n",
        "    axes[i].set_title(\"Original Class =\" )\n",
        "plt.subplots_adjust(wspace=0.5)"
      ],
      "execution_count": null,
      "outputs": [
        {
          "output_type": "display_data",
          "data": {
            "image/png": "[encoded data removed]",
            "text/plain": [
              "<Figure size 864x864 with 25 Axes>"
            ]
          },
          "metadata": {
            "needs_background": "light"
          }
        }
      ]
    },
    {
      "cell_type": "markdown",
      "metadata": {
        "id": "WPvlnHQyjENH"
      },
      "source": [
        "# **Listando as redes realmente disponíveis em seu Keras**"
      ]
    },
    {
      "cell_type": "code",
      "metadata": {
        "colab": {
          "base_uri": "https://localhost:8080/"
        },
        "id": "r7rGxnabi9t2",
        "outputId": "300706ad-037e-4428-bb2c-abd1a5cf9c91"
      },
      "source": [
        "import tensorflow.keras.applications as app\n",
        "print(dir(app))"
      ],
      "execution_count": null,
      "outputs": [
        {
          "output_type": "stream",
          "name": "stdout",
          "text": [
            "['DenseNet121', 'DenseNet169', 'DenseNet201', 'EfficientNetB0', 'EfficientNetB1', 'EfficientNetB2', 'EfficientNetB3', 'EfficientNetB4', 'EfficientNetB5', 'EfficientNetB6', 'EfficientNetB7', 'InceptionResNetV2', 'InceptionV3', 'MobileNet', 'MobileNetV2', 'MobileNetV3Large', 'MobileNetV3Small', 'NASNetLarge', 'NASNetMobile', 'ResNet101', 'ResNet101V2', 'ResNet152', 'ResNet152V2', 'ResNet50', 'ResNet50V2', 'VGG16', 'VGG19', 'Xception', '__builtins__', '__cached__', '__doc__', '__file__', '__loader__', '__name__', '__package__', '__path__', '__spec__', '_sys', 'densenet', 'efficientnet', 'imagenet_utils', 'inception_resnet_v2', 'inception_v3', 'mobilenet', 'mobilenet_v2', 'mobilenet_v3', 'nasnet', 'resnet', 'resnet50', 'resnet_v2', 'vgg16', 'vgg19', 'xception']\n"
          ]
        }
      ]
    },
    {
      "cell_type": "markdown",
      "metadata": {
        "id": "TtHvNQkI2vle"
      },
      "source": [
        "# **O Modelo pre treinado VGG16**"
      ]
    },
    {
      "cell_type": "code",
      "metadata": {
        "id": "J5ri8TgbjjcD",
        "colab": {
          "base_uri": "https://localhost:8080/"
        },
        "outputId": "6659decd-9aed-4c1f-a6a8-9894776def3b"
      },
      "source": [
        "# Inicializar a CNN\n",
        "\n",
        "classifier = VGG16(include_top=False,weights='imagenet',input_shape=(32,32,3))"
      ],
      "execution_count": null,
      "outputs": [
        {
          "output_type": "stream",
          "name": "stdout",
          "text": [
            "Downloading data from https://storage.googleapis.com/tensorflow/keras-applications/vgg16/vgg16_weights_tf_dim_ordering_tf_kernels_notop.h5\n",
            "58892288/58889256 [==============================] - 1s 0us/step\n",
            "58900480/58889256 [==============================] - 1s 0us/step\n"
          ]
        }
      ]
    },
    {
      "cell_type": "code",
      "metadata": {
        "colab": {
          "base_uri": "https://localhost:8080/"
        },
        "id": "v-3FFMBQpKXo",
        "outputId": "1a4f9626-036e-4069-91bf-508bbfc306e9"
      },
      "source": [
        "# marcar camadas como não treináveis\n",
        "for layer in classifier.layers:\n",
        "    layer.trainable = False\n",
        "\n",
        "# Create new model on top\n",
        "inputs = keras.Input(shape=(32, 32, 3))\n",
        "x = datagen (inputs)  # Apply random data augmentation\n",
        "\n",
        "# Pre-trained Xception weights requires that input be scaled\n",
        "# from (0, 255) to a range of (-1., +1.), the rescaling layer\n",
        "# outputs: `(inputs * scale) + offset`\n",
        "scale_layer = keras.layers.Rescaling(scale=1 / 255, offset=-1)\n",
        "x = scale_layer(x)\n",
        "\n",
        "# adicionar novas camadas para classificação\n",
        "\n",
        "x = base_model(x, training=False)\n",
        "x = keras.layers.GlobalAveragePooling2D()(x)\n",
        "x = tf.keras.layers.Flatten()(x)\n",
        "x = Dense(512, activation='relu', kernel_initializer='he_uniform')(x)\n",
        "x = keras.layers.Dropout(0.2)(x)  # Regularize with dropout\n",
        "output = Dense(6, activation='softmax')(x)\n",
        "\n",
        "#flat1 = tf.keras.layers.Flatten()(classifier.layers[-1].output)\n",
        "#flat1 = Dense(1024, activation='relu', kernel_initializer='he_uniform')(flat1)\n",
        "#flat1 = tf.keras.layers.Dropout(0.5)(flat1)\n",
        "#output = Dense(6, activation='softmax')(flat1)\n",
        "\n",
        "# definir o modelo\n",
        "modelvgg16 = Model(inputs=inputs, outputs=output)\n",
        "\n",
        "modelvgg16.summary()"
      ],
      "execution_count": null,
      "outputs": [
        {
          "output_type": "stream",
          "name": "stdout",
          "text": [
            "Model: \"model\"\n",
            "_________________________________________________________________\n",
            "Layer (type)                 Output Shape              Param #   \n",
            "=================================================================\n",
            "input_1 (InputLayer)         [(None, 32, 32, 3)]       0         \n",
            "_________________________________________________________________\n",
            "block1_conv1 (Conv2D)        (None, 32, 32, 64)        1792      \n",
            "_________________________________________________________________\n",
            "block1_conv2 (Conv2D)        (None, 32, 32, 64)        36928     \n",
            "_________________________________________________________________\n",
            "block1_pool (MaxPooling2D)   (None, 16, 16, 64)        0         \n",
            "_________________________________________________________________\n",
            "block2_conv1 (Conv2D)        (None, 16, 16, 128)       73856     \n",
            "_________________________________________________________________\n",
            "block2_conv2 (Conv2D)        (None, 16, 16, 128)       147584    \n",
            "_________________________________________________________________\n",
            "block2_pool (MaxPooling2D)   (None, 8, 8, 128)         0         \n",
            "_________________________________________________________________\n",
            "block3_conv1 (Conv2D)        (None, 8, 8, 256)         295168    \n",
            "_________________________________________________________________\n",
            "block3_conv2 (Conv2D)        (None, 8, 8, 256)         590080    \n",
            "_________________________________________________________________\n",
            "block3_conv3 (Conv2D)        (None, 8, 8, 256)         590080    \n",
            "_________________________________________________________________\n",
            "block3_pool (MaxPooling2D)   (None, 4, 4, 256)         0         \n",
            "_________________________________________________________________\n",
            "block4_conv1 (Conv2D)        (None, 4, 4, 512)         1180160   \n",
            "_________________________________________________________________\n",
            "block4_conv2 (Conv2D)        (None, 4, 4, 512)         2359808   \n",
            "_________________________________________________________________\n",
            "block4_conv3 (Conv2D)        (None, 4, 4, 512)         2359808   \n",
            "_________________________________________________________________\n",
            "block4_pool (MaxPooling2D)   (None, 2, 2, 512)         0         \n",
            "_________________________________________________________________\n",
            "block5_conv1 (Conv2D)        (None, 2, 2, 512)         2359808   \n",
            "_________________________________________________________________\n",
            "block5_conv2 (Conv2D)        (None, 2, 2, 512)         2359808   \n",
            "_________________________________________________________________\n",
            "block5_conv3 (Conv2D)        (None, 2, 2, 512)         2359808   \n",
            "_________________________________________________________________\n",
            "block5_pool (MaxPooling2D)   (None, 1, 1, 512)         0         \n",
            "_________________________________________________________________\n",
            "flatten_11 (Flatten)         (None, 512)               0         \n",
            "_________________________________________________________________\n",
            "dense_22 (Dense)             (None, 1024)              525312    \n",
            "_________________________________________________________________\n",
            "dropout_11 (Dropout)         (None, 1024)              0         \n",
            "_________________________________________________________________\n",
            "dense_23 (Dense)             (None, 6)                 6150      \n",
            "=================================================================\n",
            "Total params: 15,246,150\n",
            "Trainable params: 531,462\n",
            "Non-trainable params: 14,714,688\n",
            "_________________________________________________________________\n"
          ]
        }
      ]
    },
    {
      "cell_type": "code",
      "metadata": {
        "id": "wvbEuAEuQxLI"
      },
      "source": [
        "modelvgg16.compile(optimizer = Adam(learning_rate=0.0001), \n",
        "               loss = 'categorical_crossentropy', \n",
        "               metrics =['accuracy'])  \n",
        "\n",
        "callbacksvgg16 = [\n",
        "    tf.keras.callbacks.ReduceLROnPlateau(factor=0.5,\n",
        "                                         patience=4,\n",
        "                                         verbose=0),\n",
        "    tf.keras.callbacks.EarlyStopping(\n",
        "        monitor=\"accuracy\",\n",
        "        patience=12,\n",
        "        restore_best_weights=True,\n",
        "    ),\n",
        "    tf.keras.callbacks.ModelCheckpoint(\n",
        "        filepath='feature_extraction.vgg16',\n",
        "        save_best_only=True,\n",
        "        monitor=\"val_accuracy\",\n",
        "    ),\n",
        "\n",
        "]"
      ],
      "execution_count": null,
      "outputs": []
    },
    {
      "cell_type": "code",
      "metadata": {
        "id": "Q49JsEYskH6B",
        "colab": {
          "base_uri": "https://localhost:8080/",
          "height": 1000
        },
        "outputId": "429b7f06-cb22-4bc8-83ee-a75f93a57f49"
      },
      "source": [
        "epochs=200\n",
        "historyvgg16 = modelvgg16.fit(X_train,y_train,\n",
        "                    epochs=epochs,\n",
        "                    verbose=1,\n",
        "                    steps_per_epoch = 18000/256,\n",
        "                    callbacks=callbacksvgg16,\n",
        "                    validation_data=(X_valV,y_val))\n",
        "                    #validation_steps = 5999/64)"
      ],
      "execution_count": null,
      "outputs": [
        {
          "output_type": "stream",
          "name": "stdout",
          "text": [
            "Epoch 1/200\n",
            "93/93 [==============================] - 82s 871ms/step - loss: 1.5390 - accuracy: 0.3828 - val_loss: 0.8826 - val_accuracy: 0.7317\n",
            "INFO:tensorflow:Assets written to: feature_extraction.vgg16/assets\n",
            "Epoch 2/200\n",
            "93/93 [==============================] - 82s 882ms/step - loss: 0.9383 - accuracy: 0.6536 - val_loss: 0.6626 - val_accuracy: 0.7739\n",
            "INFO:tensorflow:Assets written to: feature_extraction.vgg16/assets\n",
            "Epoch 3/200\n",
            "93/93 [==============================] - 85s 910ms/step - loss: 0.7707 - accuracy: 0.7041 - val_loss: 0.5804 - val_accuracy: 0.7883\n",
            "INFO:tensorflow:Assets written to: feature_extraction.vgg16/assets\n",
            "Epoch 4/200\n",
            "93/93 [==============================] - 82s 879ms/step - loss: 0.6755 - accuracy: 0.7419 - val_loss: 0.5232 - val_accuracy: 0.8074\n",
            "INFO:tensorflow:Assets written to: feature_extraction.vgg16/assets\n",
            "Epoch 5/200\n",
            "93/93 [==============================] - 91s 973ms/step - loss: 0.6125 - accuracy: 0.7754 - val_loss: 0.4792 - val_accuracy: 0.8374\n",
            "INFO:tensorflow:Assets written to: feature_extraction.vgg16/assets\n",
            "Epoch 6/200\n",
            "93/93 [==============================] - 82s 878ms/step - loss: 0.5650 - accuracy: 0.7876 - val_loss: 0.4588 - val_accuracy: 0.8337\n",
            "Epoch 7/200\n",
            "93/93 [==============================] - 86s 921ms/step - loss: 0.5292 - accuracy: 0.8032 - val_loss: 0.4316 - val_accuracy: 0.8425\n",
            "INFO:tensorflow:Assets written to: feature_extraction.vgg16/assets\n",
            "Epoch 8/200\n",
            "93/93 [==============================] - 82s 876ms/step - loss: 0.4954 - accuracy: 0.8142 - val_loss: 0.4026 - val_accuracy: 0.8604\n",
            "INFO:tensorflow:Assets written to: feature_extraction.vgg16/assets\n",
            "Epoch 9/200\n",
            "93/93 [==============================] - 86s 926ms/step - loss: 0.4591 - accuracy: 0.8354 - val_loss: 0.4035 - val_accuracy: 0.8472\n",
            "Epoch 10/200\n",
            "93/93 [==============================] - 82s 877ms/step - loss: 0.4446 - accuracy: 0.8352 - val_loss: 0.3765 - val_accuracy: 0.8630\n",
            "INFO:tensorflow:Assets written to: feature_extraction.vgg16/assets\n",
            "Epoch 11/200\n",
            "93/93 [==============================] - 82s 879ms/step - loss: 0.4212 - accuracy: 0.8462 - val_loss: 0.3718 - val_accuracy: 0.8564\n",
            "Epoch 12/200\n",
            "93/93 [==============================] - 85s 910ms/step - loss: 0.4065 - accuracy: 0.8447 - val_loss: 0.3577 - val_accuracy: 0.8630\n",
            "Epoch 13/200\n",
            "93/93 [==============================] - 84s 905ms/step - loss: 0.3855 - accuracy: 0.8601 - val_loss: 0.3454 - val_accuracy: 0.8694\n",
            "INFO:tensorflow:Assets written to: feature_extraction.vgg16/assets\n",
            "Epoch 14/200\n",
            "93/93 [==============================] - 81s 874ms/step - loss: 0.3738 - accuracy: 0.8645 - val_loss: 0.3439 - val_accuracy: 0.8660\n",
            "Epoch 15/200\n",
            "93/93 [==============================] - 84s 904ms/step - loss: 0.3555 - accuracy: 0.8723 - val_loss: 0.3378 - val_accuracy: 0.8665\n",
            "Epoch 16/200\n",
            "93/93 [==============================] - 81s 871ms/step - loss: 0.3526 - accuracy: 0.8750 - val_loss: 0.3283 - val_accuracy: 0.8730\n",
            "INFO:tensorflow:Assets written to: feature_extraction.vgg16/assets\n",
            "Epoch 17/200\n",
            "93/93 [==============================] - 86s 919ms/step - loss: 0.3355 - accuracy: 0.8723 - val_loss: 0.3240 - val_accuracy: 0.8738\n",
            "INFO:tensorflow:Assets written to: feature_extraction.vgg16/assets\n",
            "Epoch 18/200\n",
            "93/93 [==============================] - 86s 918ms/step - loss: 0.3221 - accuracy: 0.8860 - val_loss: 0.3135 - val_accuracy: 0.8796\n",
            "INFO:tensorflow:Assets written to: feature_extraction.vgg16/assets\n",
            "Epoch 19/200\n",
            "93/93 [==============================] - 81s 867ms/step - loss: 0.3179 - accuracy: 0.8845 - val_loss: 0.3255 - val_accuracy: 0.8699\n",
            "Epoch 20/200\n",
            "93/93 [==============================] - 81s 871ms/step - loss: 0.3107 - accuracy: 0.8845 - val_loss: 0.3008 - val_accuracy: 0.8879\n",
            "INFO:tensorflow:Assets written to: feature_extraction.vgg16/assets\n",
            "Epoch 21/200\n",
            "93/93 [==============================] - 81s 871ms/step - loss: 0.3040 - accuracy: 0.8816 - val_loss: 0.3114 - val_accuracy: 0.8782\n",
            "Epoch 22/200\n",
            "93/93 [==============================] - 81s 871ms/step - loss: 0.2915 - accuracy: 0.8953 - val_loss: 0.3078 - val_accuracy: 0.8801\n",
            "Epoch 23/200\n",
            "93/93 [==============================] - 86s 921ms/step - loss: 0.2907 - accuracy: 0.8921 - val_loss: 0.2914 - val_accuracy: 0.8894\n",
            "INFO:tensorflow:Assets written to: feature_extraction.vgg16/assets\n",
            "Epoch 24/200\n",
            "93/93 [==============================] - 86s 921ms/step - loss: 0.2861 - accuracy: 0.8975 - val_loss: 0.3095 - val_accuracy: 0.8770\n",
            "Epoch 25/200\n",
            "93/93 [==============================] - 81s 872ms/step - loss: 0.2723 - accuracy: 0.9028 - val_loss: 0.2960 - val_accuracy: 0.8833\n",
            "Epoch 26/200\n",
            "93/93 [==============================] - 86s 920ms/step - loss: 0.2754 - accuracy: 0.8977 - val_loss: 0.2971 - val_accuracy: 0.8853\n",
            "Epoch 27/200\n",
            "93/93 [==============================] - 86s 920ms/step - loss: 0.2694 - accuracy: 0.8999 - val_loss: 0.2811 - val_accuracy: 0.8940\n",
            "INFO:tensorflow:Assets written to: feature_extraction.vgg16/assets\n",
            "Epoch 28/200\n",
            "93/93 [==============================] - 86s 919ms/step - loss: 0.2632 - accuracy: 0.9060 - val_loss: 0.2809 - val_accuracy: 0.8916\n",
            "Epoch 29/200\n",
            "93/93 [==============================] - 81s 871ms/step - loss: 0.2532 - accuracy: 0.9062 - val_loss: 0.2771 - val_accuracy: 0.8940\n",
            "Epoch 30/200\n",
            "93/93 [==============================] - 86s 919ms/step - loss: 0.2504 - accuracy: 0.9087 - val_loss: 0.2889 - val_accuracy: 0.8867\n",
            "Epoch 31/200\n",
            "93/93 [==============================] - 81s 868ms/step - loss: 0.2462 - accuracy: 0.9143 - val_loss: 0.2678 - val_accuracy: 0.8992\n",
            "INFO:tensorflow:Assets written to: feature_extraction.vgg16/assets\n",
            "Epoch 32/200\n",
            "93/93 [==============================] - 85s 913ms/step - loss: 0.2440 - accuracy: 0.9116 - val_loss: 0.2813 - val_accuracy: 0.8870\n",
            "Epoch 33/200\n",
            "93/93 [==============================] - 85s 911ms/step - loss: 0.2390 - accuracy: 0.9158 - val_loss: 0.2716 - val_accuracy: 0.8943\n",
            "Epoch 34/200\n",
            "93/93 [==============================] - 81s 867ms/step - loss: 0.2358 - accuracy: 0.9126 - val_loss: 0.2631 - val_accuracy: 0.9006\n",
            "INFO:tensorflow:Assets written to: feature_extraction.vgg16/assets\n",
            "Epoch 35/200\n",
            "93/93 [==============================] - 81s 867ms/step - loss: 0.2369 - accuracy: 0.9121 - val_loss: 0.2708 - val_accuracy: 0.8948\n",
            "Epoch 36/200\n",
            "93/93 [==============================] - 81s 868ms/step - loss: 0.2261 - accuracy: 0.9167 - val_loss: 0.2639 - val_accuracy: 0.8945\n",
            "Epoch 37/200\n",
            "93/93 [==============================] - 85s 916ms/step - loss: 0.2189 - accuracy: 0.9275 - val_loss: 0.2806 - val_accuracy: 0.8889\n",
            "Epoch 38/200\n",
            "93/93 [==============================] - 81s 870ms/step - loss: 0.2229 - accuracy: 0.9207 - val_loss: 0.2661 - val_accuracy: 0.8979\n",
            "Epoch 39/200\n",
            "93/93 [==============================] - 81s 870ms/step - loss: 0.2162 - accuracy: 0.9241 - val_loss: 0.2606 - val_accuracy: 0.9019\n",
            "INFO:tensorflow:Assets written to: feature_extraction.vgg16/assets\n",
            "Epoch 40/200\n",
            "93/93 [==============================] - 81s 871ms/step - loss: 0.2133 - accuracy: 0.9236 - val_loss: 0.2682 - val_accuracy: 0.8979\n",
            "Epoch 41/200\n",
            "93/93 [==============================] - 81s 871ms/step - loss: 0.2113 - accuracy: 0.9236 - val_loss: 0.2657 - val_accuracy: 0.8984\n",
            "Epoch 42/200\n",
            "93/93 [==============================] - 81s 870ms/step - loss: 0.2084 - accuracy: 0.9258 - val_loss: 0.2639 - val_accuracy: 0.8992\n",
            "Epoch 43/200\n",
            "93/93 [==============================] - 81s 871ms/step - loss: 0.2061 - accuracy: 0.9280 - val_loss: 0.2725 - val_accuracy: 0.8955\n",
            "Epoch 44/200\n",
            "93/93 [==============================] - 86s 918ms/step - loss: 0.2036 - accuracy: 0.9260 - val_loss: 0.2617 - val_accuracy: 0.9006\n",
            "Epoch 45/200\n",
            "93/93 [==============================] - 83s 891ms/step - loss: 0.2032 - accuracy: 0.9287 - val_loss: 0.2629 - val_accuracy: 0.9001\n",
            "Epoch 46/200\n",
            "93/93 [==============================] - 80s 852ms/step - loss: 0.2032 - accuracy: 0.9314 - val_loss: 0.2636 - val_accuracy: 0.8989\n",
            "Epoch 47/200\n",
            "93/93 [==============================] - 83s 891ms/step - loss: 0.2045 - accuracy: 0.9238 - val_loss: 0.2626 - val_accuracy: 0.8997\n",
            "Epoch 48/200\n",
            "93/93 [==============================] - 83s 891ms/step - loss: 0.2001 - accuracy: 0.9297 - val_loss: 0.2633 - val_accuracy: 0.9009\n",
            "Epoch 49/200\n",
            "93/93 [==============================] - 83s 893ms/step - loss: 0.2060 - accuracy: 0.9255 - val_loss: 0.2622 - val_accuracy: 0.9004\n",
            "Epoch 50/200\n",
            "93/93 [==============================] - 83s 893ms/step - loss: 0.2020 - accuracy: 0.9314 - val_loss: 0.2615 - val_accuracy: 0.9006\n",
            "Epoch 51/200\n",
            "93/93 [==============================] - 83s 893ms/step - loss: 0.2018 - accuracy: 0.9268 - val_loss: 0.2623 - val_accuracy: 0.9006\n",
            "Epoch 52/200\n",
            "93/93 [==============================] - 84s 898ms/step - loss: 0.1997 - accuracy: 0.9280 - val_loss: 0.2601 - val_accuracy: 0.9016\n",
            "Epoch 53/200\n",
            "93/93 [==============================] - 84s 900ms/step - loss: 0.1997 - accuracy: 0.9316 - val_loss: 0.2614 - val_accuracy: 0.9001\n",
            "Epoch 54/200\n",
            "93/93 [==============================] - 80s 860ms/step - loss: 0.2025 - accuracy: 0.9304 - val_loss: 0.2631 - val_accuracy: 0.8999\n",
            "Epoch 55/200\n",
            "93/93 [==============================] - 80s 860ms/step - loss: 0.2001 - accuracy: 0.9304 - val_loss: 0.2628 - val_accuracy: 0.8994\n",
            "Epoch 56/200\n",
            "93/93 [==============================] - 80s 861ms/step - loss: 0.1968 - accuracy: 0.9294 - val_loss: 0.2624 - val_accuracy: 0.8994\n",
            "Epoch 57/200\n",
            "93/93 [==============================] - 80s 860ms/step - loss: 0.2009 - accuracy: 0.9297 - val_loss: 0.2621 - val_accuracy: 0.9009\n",
            "Epoch 58/200\n",
            "93/93 [==============================] - 80s 860ms/step - loss: 0.1986 - accuracy: 0.9316 - val_loss: 0.2619 - val_accuracy: 0.9011\n",
            "Epoch 59/200\n",
            "93/93 [==============================] - 80s 858ms/step - loss: 0.1954 - accuracy: 0.9353 - val_loss: 0.2624 - val_accuracy: 0.9004\n",
            "Epoch 60/200\n",
            "93/93 [==============================] - 83s 888ms/step - loss: 0.1961 - accuracy: 0.9358 - val_loss: 0.2621 - val_accuracy: 0.9001\n",
            "Epoch 61/200\n",
            "93/93 [==============================] - 80s 856ms/step - loss: 0.1994 - accuracy: 0.9336 - val_loss: 0.2617 - val_accuracy: 0.9001\n",
            "Epoch 62/200\n",
            "93/93 [==============================] - 80s 858ms/step - loss: 0.1994 - accuracy: 0.9268 - val_loss: 0.2616 - val_accuracy: 0.8999\n",
            "Epoch 63/200\n",
            "93/93 [==============================] - 80s 858ms/step - loss: 0.2000 - accuracy: 0.9287 - val_loss: 0.2613 - val_accuracy: 0.8997\n",
            "Epoch 64/200\n",
            "93/93 [==============================] - 80s 857ms/step - loss: 0.1953 - accuracy: 0.9324 - val_loss: 0.2612 - val_accuracy: 0.9006\n",
            "Epoch 65/200\n",
            "93/93 [==============================] - 80s 859ms/step - loss: 0.2002 - accuracy: 0.9285 - val_loss: 0.2611 - val_accuracy: 0.9006\n",
            "Epoch 66/200\n",
            "93/93 [==============================] - 80s 853ms/step - loss: 0.2007 - accuracy: 0.9250 - val_loss: 0.2610 - val_accuracy: 0.9009\n",
            "Epoch 67/200\n",
            "93/93 [==============================] - 80s 855ms/step - loss: 0.2015 - accuracy: 0.9246 - val_loss: 0.2612 - val_accuracy: 0.8999\n",
            "Epoch 68/200\n",
            "93/93 [==============================] - 80s 855ms/step - loss: 0.1965 - accuracy: 0.9292 - val_loss: 0.2611 - val_accuracy: 0.9006\n",
            "Epoch 69/200\n",
            "93/93 [==============================] - 80s 854ms/step - loss: 0.1968 - accuracy: 0.9309 - val_loss: 0.2612 - val_accuracy: 0.8999\n",
            "Epoch 70/200\n",
            "93/93 [==============================] - 80s 854ms/step - loss: 0.2003 - accuracy: 0.9314 - val_loss: 0.2610 - val_accuracy: 0.9006\n",
            "Epoch 71/200\n",
            "93/93 [==============================] - 79s 852ms/step - loss: 0.1942 - accuracy: 0.9360 - val_loss: 0.2609 - val_accuracy: 0.9006\n",
            "Epoch 72/200\n",
            "93/93 [==============================] - 83s 893ms/step - loss: 0.1969 - accuracy: 0.9309 - val_loss: 0.2610 - val_accuracy: 0.9006\n",
            "Epoch 73/200\n",
            "93/93 [==============================] - 83s 890ms/step - loss: 0.1996 - accuracy: 0.9292 - val_loss: 0.2609 - val_accuracy: 0.9006\n",
            "Epoch 74/200\n",
            "93/93 [==============================] - 83s 892ms/step - loss: 0.1984 - accuracy: 0.9326 - val_loss: 0.2609 - val_accuracy: 0.9006\n",
            "Epoch 75/200\n",
            "93/93 [==============================] - 83s 893ms/step - loss: 0.1993 - accuracy: 0.9312 - val_loss: 0.2609 - val_accuracy: 0.9006\n",
            "Epoch 76/200\n",
            "78/93 [=======================>......] - ETA: 7s - loss: 0.1967 - accuracy: 0.9286"
          ]
        },
        {
          "output_type": "error",
          "ename": "KeyboardInterrupt",
          "evalue": "ignored",
          "traceback": [
            "\u001b[0;31m---------------------------------------------------------------------------\u001b[0m",
            "\u001b[0;31mKeyboardInterrupt\u001b[0m                         Traceback (most recent call last)",
            "\u001b[0;32m<ipython-input-471-2c52d80ebb85>\u001b[0m in \u001b[0;36m<module>\u001b[0;34m()\u001b[0m\n\u001b[1;32m      5\u001b[0m                     \u001b[0msteps_per_epoch\u001b[0m \u001b[0;34m=\u001b[0m \u001b[0;36m23999\u001b[0m\u001b[0;34m/\u001b[0m\u001b[0;36m256\u001b[0m\u001b[0;34m,\u001b[0m\u001b[0;34m\u001b[0m\u001b[0;34m\u001b[0m\u001b[0m\n\u001b[1;32m      6\u001b[0m                     \u001b[0mcallbacks\u001b[0m\u001b[0;34m=\u001b[0m\u001b[0mcallbacksvgg16\u001b[0m\u001b[0;34m,\u001b[0m\u001b[0;34m\u001b[0m\u001b[0;34m\u001b[0m\u001b[0m\n\u001b[0;32m----> 7\u001b[0;31m                     validation_data=(X_valVGG16,y_valVGG16))\n\u001b[0m\u001b[1;32m      8\u001b[0m                     \u001b[0;31m#validation_steps = 5999/64)\u001b[0m\u001b[0;34m\u001b[0m\u001b[0;34m\u001b[0m\u001b[0;34m\u001b[0m\u001b[0m\n",
            "\u001b[0;32m/usr/local/lib/python3.7/dist-packages/keras/engine/training.py\u001b[0m in \u001b[0;36mfit\u001b[0;34m(self, x, y, batch_size, epochs, verbose, callbacks, validation_split, validation_data, shuffle, class_weight, sample_weight, initial_epoch, steps_per_epoch, validation_steps, validation_batch_size, validation_freq, max_queue_size, workers, use_multiprocessing)\u001b[0m\n\u001b[1;32m   1182\u001b[0m                 _r=1):\n\u001b[1;32m   1183\u001b[0m               \u001b[0mcallbacks\u001b[0m\u001b[0;34m.\u001b[0m\u001b[0mon_train_batch_begin\u001b[0m\u001b[0;34m(\u001b[0m\u001b[0mstep\u001b[0m\u001b[0;34m)\u001b[0m\u001b[0;34m\u001b[0m\u001b[0;34m\u001b[0m\u001b[0m\n\u001b[0;32m-> 1184\u001b[0;31m               \u001b[0mtmp_logs\u001b[0m \u001b[0;34m=\u001b[0m \u001b[0mself\u001b[0m\u001b[0;34m.\u001b[0m\u001b[0mtrain_function\u001b[0m\u001b[0;34m(\u001b[0m\u001b[0miterator\u001b[0m\u001b[0;34m)\u001b[0m\u001b[0;34m\u001b[0m\u001b[0;34m\u001b[0m\u001b[0m\n\u001b[0m\u001b[1;32m   1185\u001b[0m               \u001b[0;32mif\u001b[0m \u001b[0mdata_handler\u001b[0m\u001b[0;34m.\u001b[0m\u001b[0mshould_sync\u001b[0m\u001b[0;34m:\u001b[0m\u001b[0;34m\u001b[0m\u001b[0;34m\u001b[0m\u001b[0m\n\u001b[1;32m   1186\u001b[0m                 \u001b[0mcontext\u001b[0m\u001b[0;34m.\u001b[0m\u001b[0masync_wait\u001b[0m\u001b[0;34m(\u001b[0m\u001b[0;34m)\u001b[0m\u001b[0;34m\u001b[0m\u001b[0;34m\u001b[0m\u001b[0m\n",
            "\u001b[0;32m/usr/local/lib/python3.7/dist-packages/tensorflow/python/eager/def_function.py\u001b[0m in \u001b[0;36m__call__\u001b[0;34m(self, *args, **kwds)\u001b[0m\n\u001b[1;32m    883\u001b[0m \u001b[0;34m\u001b[0m\u001b[0m\n\u001b[1;32m    884\u001b[0m       \u001b[0;32mwith\u001b[0m \u001b[0mOptionalXlaContext\u001b[0m\u001b[0;34m(\u001b[0m\u001b[0mself\u001b[0m\u001b[0;34m.\u001b[0m\u001b[0m_jit_compile\u001b[0m\u001b[0;34m)\u001b[0m\u001b[0;34m:\u001b[0m\u001b[0;34m\u001b[0m\u001b[0;34m\u001b[0m\u001b[0m\n\u001b[0;32m--> 885\u001b[0;31m         \u001b[0mresult\u001b[0m \u001b[0;34m=\u001b[0m \u001b[0mself\u001b[0m\u001b[0;34m.\u001b[0m\u001b[0m_call\u001b[0m\u001b[0;34m(\u001b[0m\u001b[0;34m*\u001b[0m\u001b[0margs\u001b[0m\u001b[0;34m,\u001b[0m \u001b[0;34m**\u001b[0m\u001b[0mkwds\u001b[0m\u001b[0;34m)\u001b[0m\u001b[0;34m\u001b[0m\u001b[0;34m\u001b[0m\u001b[0m\n\u001b[0m\u001b[1;32m    886\u001b[0m \u001b[0;34m\u001b[0m\u001b[0m\n\u001b[1;32m    887\u001b[0m       \u001b[0mnew_tracing_count\u001b[0m \u001b[0;34m=\u001b[0m \u001b[0mself\u001b[0m\u001b[0;34m.\u001b[0m\u001b[0mexperimental_get_tracing_count\u001b[0m\u001b[0;34m(\u001b[0m\u001b[0;34m)\u001b[0m\u001b[0;34m\u001b[0m\u001b[0;34m\u001b[0m\u001b[0m\n",
            "\u001b[0;32m/usr/local/lib/python3.7/dist-packages/tensorflow/python/eager/def_function.py\u001b[0m in \u001b[0;36m_call\u001b[0;34m(self, *args, **kwds)\u001b[0m\n\u001b[1;32m    915\u001b[0m       \u001b[0;31m# In this case we have created variables on the first call, so we run the\u001b[0m\u001b[0;34m\u001b[0m\u001b[0;34m\u001b[0m\u001b[0;34m\u001b[0m\u001b[0m\n\u001b[1;32m    916\u001b[0m       \u001b[0;31m# defunned version which is guaranteed to never create variables.\u001b[0m\u001b[0;34m\u001b[0m\u001b[0;34m\u001b[0m\u001b[0;34m\u001b[0m\u001b[0m\n\u001b[0;32m--> 917\u001b[0;31m       \u001b[0;32mreturn\u001b[0m \u001b[0mself\u001b[0m\u001b[0;34m.\u001b[0m\u001b[0m_stateless_fn\u001b[0m\u001b[0;34m(\u001b[0m\u001b[0;34m*\u001b[0m\u001b[0margs\u001b[0m\u001b[0;34m,\u001b[0m \u001b[0;34m**\u001b[0m\u001b[0mkwds\u001b[0m\u001b[0;34m)\u001b[0m  \u001b[0;31m# pylint: disable=not-callable\u001b[0m\u001b[0;34m\u001b[0m\u001b[0;34m\u001b[0m\u001b[0m\n\u001b[0m\u001b[1;32m    918\u001b[0m     \u001b[0;32melif\u001b[0m \u001b[0mself\u001b[0m\u001b[0;34m.\u001b[0m\u001b[0m_stateful_fn\u001b[0m \u001b[0;32mis\u001b[0m \u001b[0;32mnot\u001b[0m \u001b[0;32mNone\u001b[0m\u001b[0;34m:\u001b[0m\u001b[0;34m\u001b[0m\u001b[0;34m\u001b[0m\u001b[0m\n\u001b[1;32m    919\u001b[0m       \u001b[0;31m# Release the lock early so that multiple threads can perform the call\u001b[0m\u001b[0;34m\u001b[0m\u001b[0;34m\u001b[0m\u001b[0;34m\u001b[0m\u001b[0m\n",
            "\u001b[0;32m/usr/local/lib/python3.7/dist-packages/tensorflow/python/eager/function.py\u001b[0m in \u001b[0;36m__call__\u001b[0;34m(self, *args, **kwargs)\u001b[0m\n\u001b[1;32m   3038\u001b[0m        filtered_flat_args) = self._maybe_define_function(args, kwargs)\n\u001b[1;32m   3039\u001b[0m     return graph_function._call_flat(\n\u001b[0;32m-> 3040\u001b[0;31m         filtered_flat_args, captured_inputs=graph_function.captured_inputs)  # pylint: disable=protected-access\n\u001b[0m\u001b[1;32m   3041\u001b[0m \u001b[0;34m\u001b[0m\u001b[0m\n\u001b[1;32m   3042\u001b[0m   \u001b[0;34m@\u001b[0m\u001b[0mproperty\u001b[0m\u001b[0;34m\u001b[0m\u001b[0;34m\u001b[0m\u001b[0m\n",
            "\u001b[0;32m/usr/local/lib/python3.7/dist-packages/tensorflow/python/eager/function.py\u001b[0m in \u001b[0;36m_call_flat\u001b[0;34m(self, args, captured_inputs, cancellation_manager)\u001b[0m\n\u001b[1;32m   1962\u001b[0m       \u001b[0;31m# No tape is watching; skip to running the function.\u001b[0m\u001b[0;34m\u001b[0m\u001b[0;34m\u001b[0m\u001b[0;34m\u001b[0m\u001b[0m\n\u001b[1;32m   1963\u001b[0m       return self._build_call_outputs(self._inference_function.call(\n\u001b[0;32m-> 1964\u001b[0;31m           ctx, args, cancellation_manager=cancellation_manager))\n\u001b[0m\u001b[1;32m   1965\u001b[0m     forward_backward = self._select_forward_and_backward_functions(\n\u001b[1;32m   1966\u001b[0m         \u001b[0margs\u001b[0m\u001b[0;34m,\u001b[0m\u001b[0;34m\u001b[0m\u001b[0;34m\u001b[0m\u001b[0m\n",
            "\u001b[0;32m/usr/local/lib/python3.7/dist-packages/tensorflow/python/eager/function.py\u001b[0m in \u001b[0;36mcall\u001b[0;34m(self, ctx, args, cancellation_manager)\u001b[0m\n\u001b[1;32m    594\u001b[0m               \u001b[0minputs\u001b[0m\u001b[0;34m=\u001b[0m\u001b[0margs\u001b[0m\u001b[0;34m,\u001b[0m\u001b[0;34m\u001b[0m\u001b[0;34m\u001b[0m\u001b[0m\n\u001b[1;32m    595\u001b[0m               \u001b[0mattrs\u001b[0m\u001b[0;34m=\u001b[0m\u001b[0mattrs\u001b[0m\u001b[0;34m,\u001b[0m\u001b[0;34m\u001b[0m\u001b[0;34m\u001b[0m\u001b[0m\n\u001b[0;32m--> 596\u001b[0;31m               ctx=ctx)\n\u001b[0m\u001b[1;32m    597\u001b[0m         \u001b[0;32melse\u001b[0m\u001b[0;34m:\u001b[0m\u001b[0;34m\u001b[0m\u001b[0;34m\u001b[0m\u001b[0m\n\u001b[1;32m    598\u001b[0m           outputs = execute.execute_with_cancellation(\n",
            "\u001b[0;32m/usr/local/lib/python3.7/dist-packages/tensorflow/python/eager/execute.py\u001b[0m in \u001b[0;36mquick_execute\u001b[0;34m(op_name, num_outputs, inputs, attrs, ctx, name)\u001b[0m\n\u001b[1;32m     58\u001b[0m     \u001b[0mctx\u001b[0m\u001b[0;34m.\u001b[0m\u001b[0mensure_initialized\u001b[0m\u001b[0;34m(\u001b[0m\u001b[0;34m)\u001b[0m\u001b[0;34m\u001b[0m\u001b[0;34m\u001b[0m\u001b[0m\n\u001b[1;32m     59\u001b[0m     tensors = pywrap_tfe.TFE_Py_Execute(ctx._handle, device_name, op_name,\n\u001b[0;32m---> 60\u001b[0;31m                                         inputs, attrs, num_outputs)\n\u001b[0m\u001b[1;32m     61\u001b[0m   \u001b[0;32mexcept\u001b[0m \u001b[0mcore\u001b[0m\u001b[0;34m.\u001b[0m\u001b[0m_NotOkStatusException\u001b[0m \u001b[0;32mas\u001b[0m \u001b[0me\u001b[0m\u001b[0;34m:\u001b[0m\u001b[0;34m\u001b[0m\u001b[0;34m\u001b[0m\u001b[0m\n\u001b[1;32m     62\u001b[0m     \u001b[0;32mif\u001b[0m \u001b[0mname\u001b[0m \u001b[0;32mis\u001b[0m \u001b[0;32mnot\u001b[0m \u001b[0;32mNone\u001b[0m\u001b[0;34m:\u001b[0m\u001b[0;34m\u001b[0m\u001b[0;34m\u001b[0m\u001b[0m\n",
            "\u001b[0;31mKeyboardInterrupt\u001b[0m: "
          ]
        }
      ]
    },
    {
      "cell_type": "code",
      "metadata": {
        "id": "OzhMZWXqtWGz",
        "colab": {
          "base_uri": "https://localhost:8080/",
          "height": 228
        },
        "outputId": "d8d3daaf-7aaf-4dbf-8f8c-00bd3c940ce0"
      },
      "source": [
        "%matplotlib inline\n",
        "import matplotlib.pyplot as plt\n",
        "acc = historyvgg16.history['accuracy']\n",
        "val_acc = historyvgg16.history['val_accuracy']\n",
        "loss = historyvgg16.history['loss']\n",
        "val_loss = historyvgg16.history['val_loss']\n",
        "\n",
        "epochs = range(len(acc))\n",
        "\n",
        "plt.plot(epochs, acc, 'r', label='Training accuracy')\n",
        "plt.plot(epochs, val_acc, 'b', label='Validation accuracy')\n",
        "plt.title('Training and validation accuracy')\n",
        "plt.legend(loc=0)\n",
        "plt.figure()\n",
        "\n",
        "plt.plot(epochs, loss, 'r', label='Training Loss')\n",
        "plt.plot(epochs, val_loss, 'b', label='Validation Loss')\n",
        "plt.title('Training and validation loss')\n",
        "plt.legend()\n",
        "\n",
        "plt.show()"
      ],
      "execution_count": null,
      "outputs": [
        {
          "output_type": "error",
          "ename": "NameError",
          "evalue": "ignored",
          "traceback": [
            "\u001b[0;31m---------------------------------------------------------------------------\u001b[0m",
            "\u001b[0;31mNameError\u001b[0m                                 Traceback (most recent call last)",
            "\u001b[0;32m<ipython-input-473-c79ba820caa5>\u001b[0m in \u001b[0;36m<module>\u001b[0;34m()\u001b[0m\n\u001b[1;32m      1\u001b[0m \u001b[0mget_ipython\u001b[0m\u001b[0;34m(\u001b[0m\u001b[0;34m)\u001b[0m\u001b[0;34m.\u001b[0m\u001b[0mmagic\u001b[0m\u001b[0;34m(\u001b[0m\u001b[0;34m'matplotlib inline'\u001b[0m\u001b[0;34m)\u001b[0m\u001b[0;34m\u001b[0m\u001b[0;34m\u001b[0m\u001b[0m\n\u001b[1;32m      2\u001b[0m \u001b[0;32mimport\u001b[0m \u001b[0mmatplotlib\u001b[0m\u001b[0;34m.\u001b[0m\u001b[0mpyplot\u001b[0m \u001b[0;32mas\u001b[0m \u001b[0mplt\u001b[0m\u001b[0;34m\u001b[0m\u001b[0;34m\u001b[0m\u001b[0m\n\u001b[0;32m----> 3\u001b[0;31m \u001b[0macc\u001b[0m \u001b[0;34m=\u001b[0m \u001b[0mhistoryvgg16\u001b[0m\u001b[0;34m.\u001b[0m\u001b[0mhistory\u001b[0m\u001b[0;34m[\u001b[0m\u001b[0;34m'accuracy'\u001b[0m\u001b[0;34m]\u001b[0m\u001b[0;34m\u001b[0m\u001b[0;34m\u001b[0m\u001b[0m\n\u001b[0m\u001b[1;32m      4\u001b[0m \u001b[0mval_acc\u001b[0m \u001b[0;34m=\u001b[0m \u001b[0mhistoryvgg16\u001b[0m\u001b[0;34m.\u001b[0m\u001b[0mhistory\u001b[0m\u001b[0;34m[\u001b[0m\u001b[0;34m'val_accuracy'\u001b[0m\u001b[0;34m]\u001b[0m\u001b[0;34m\u001b[0m\u001b[0;34m\u001b[0m\u001b[0m\n\u001b[1;32m      5\u001b[0m \u001b[0mloss\u001b[0m \u001b[0;34m=\u001b[0m \u001b[0mhistoryvgg16\u001b[0m\u001b[0;34m.\u001b[0m\u001b[0mhistory\u001b[0m\u001b[0;34m[\u001b[0m\u001b[0;34m'loss'\u001b[0m\u001b[0;34m]\u001b[0m\u001b[0;34m\u001b[0m\u001b[0;34m\u001b[0m\u001b[0m\n",
            "\u001b[0;31mNameError\u001b[0m: name 'historyvgg16' is not defined"
          ]
        }
      ]
    },
    {
      "cell_type": "code",
      "metadata": {
        "id": "Usw3n8GmtmXH",
        "colab": {
          "base_uri": "https://localhost:8080/"
        },
        "outputId": "7240bba4-f6fe-4ca9-9cae-5a8edae1b721"
      },
      "source": [
        "modelvgg16 = tf.keras.models.load_model(\"feature_extraction.vgg16\")\n",
        "\n",
        "test_lossvgg16, test_accvgg16= modelvgg16.evaluate(X_testVGG16,y_testVGG16)\n",
        "print(\"validation_accuracy: \" + str(test_accvgg16))"
      ],
      "execution_count": null,
      "outputs": [
        {
          "output_type": "stream",
          "name": "stdout",
          "text": [
            "128/128 [==============================] - 40s 312ms/step - loss: 0.2690 - accuracy: 0.8984\n",
            "validation_accuracy: 0.8984375\n"
          ]
        }
      ]
    },
    {
      "cell_type": "markdown",
      "metadata": {
        "id": "MVOum8PiFwj5"
      },
      "source": [
        "# **Comparandos os modelos**"
      ]
    },
    {
      "cell_type": "code",
      "metadata": {
        "id": "g6AYQKDTtmlY",
        "colab": {
          "base_uri": "https://localhost:8080/",
          "height": 336
        },
        "outputId": "acaf9e58-74e7-4c22-d668-5453288b119e"
      },
      "source": [
        "fig = plt.figure()\n",
        "ax = fig.add_axes([0,0,1,1])\n",
        "acc = [test_acc,test_accvgg16]\n",
        "model = ['Modelo Criado','Modelo pre treinado VGG16']\n",
        "#model = ['Modelo Criado','VGG16','InceptionV3','EfficientNetB0','EfficientNetB7']\n",
        "ax.bar(model,acc)\n",
        "plt.show()"
      ],
      "execution_count": null,
      "outputs": [
        {
          "output_type": "display_data",
          "data": {
            "image/png": "[encoded data removed]",
            "text/plain": [
              "<Figure size 432x288 with 1 Axes>"
            ]
          },
          "metadata": {
            "needs_background": "light"
          }
        }
      ]
    },
    {
      "cell_type": "markdown",
      "metadata": {
        "id": "7toSzftQcPLH"
      },
      "source": [
        "# **Realizar a Predição para as 6 classes**"
      ]
    }
  ]
}