{
  "nbformat": 4,
  "nbformat_minor": 0,
  "metadata": {
    "colab": {
      "name": "geological_comparative_inference.ipynb",
      "provenance": [],
      "authorship_tag": "ABX9TyOKEsGNRY+e7Mx0G77yUqNH",
      "include_colab_link": true
    },
    "kernelspec": {
      "name": "python3",
      "display_name": "Python 3"
    },
    "language_info": {
      "name": "python"
    }
  },
  "cells": [
    {
      "cell_type": "markdown",
      "metadata": {
        "id": "view-in-github",
        "colab_type": "text"
      },
      "source": [
        "<a href=\"https://colab.research.google.com/github/fabiobasson/Bi-Master/blob/main/geological_comparative_inference18102021.ipynb\" target=\"_parent\"><img src=\"https://colab.research.google.com/assets/colab-badge.svg\" alt=\"Open In Colab\"/></a>"
      ]
    },
    {
      "cell_type": "code",
      "metadata": {
        "id": "gvvwuK6T7-66"
      },
      "source": [
        ""
      ],
      "execution_count": null,
      "outputs": []
    },
    {
      "cell_type": "markdown",
      "metadata": {
        "id": "CvYwZyoSyZkT"
      },
      "source": [
        "# **Performing predictions and confirmations**"
      ]
    },
    {
      "cell_type": "code",
      "metadata": {
        "id": "6fd1COOBcEq-",
        "colab": {
          "base_uri": "https://localhost:8080/"
        },
        "outputId": "631a5703-65c6-438e-af95-4baa8e5a3104"
      },
      "source": [
        "#y_pred = model.predict(X_test)\n",
        "print(\"Prediction_accuracy: \" + str(y_pred))"
      ],
      "execution_count": null,
      "outputs": [
        {
          "output_type": "stream",
          "name": "stdout",
          "text": [
            "Prediction_accuracy: [[5.08168232e-05 9.61380374e-06 1.36170648e-08 9.99931574e-01\n",
            "  3.46652655e-07 7.64529250e-06]\n",
            " [1.13402652e-02 1.07666926e-06 2.12801788e-05 2.15606851e-04\n",
            "  9.88317430e-01 1.04336556e-04]\n",
            " [9.94747818e-01 1.41296624e-07 7.23102076e-08 5.20764617e-03\n",
            "  3.14909557e-05 1.26543500e-05]\n",
            " ...\n",
            " [1.66205518e-05 1.07515564e-06 3.19028248e-09 9.99976873e-01\n",
            "  2.41648422e-07 5.20834146e-06]\n",
            " [2.61209948e-06 6.23758638e-07 9.99994159e-01 1.64033409e-07\n",
            "  1.87547516e-06 6.11929750e-07]\n",
            " [1.09393250e-05 9.94801521e-01 5.32968079e-05 2.99428812e-05\n",
            "  3.17825112e-07 5.10406354e-03]]\n"
          ]
        }
      ]
    },
    {
      "cell_type": "code",
      "metadata": {
        "id": "pYKNqTvYIy56",
        "colab": {
          "base_uri": "https://localhost:8080/"
        },
        "outputId": "88bf626c-3b76-448d-d0f8-fdeb3bcdc0cc"
      },
      "source": [
        "y_pred[400] #  400 position prediction"
      ],
      "execution_count": null,
      "outputs": [
        {
          "output_type": "execute_result",
          "data": {
            "text/plain": [
              "array([2.4222434e-03, 9.4148088e-01, 4.1939650e-04, 4.9301470e-04,\n",
              "       6.4148847e-04, 5.4542918e-02], dtype=float32)"
            ]
          },
          "metadata": {},
          "execution_count": 90
        }
      ]
    },
    {
      "cell_type": "code",
      "metadata": {
        "id": "c81gyqxSpT8o",
        "colab": {
          "base_uri": "https://localhost:8080/"
        },
        "outputId": "977c8a32-683a-4010-b2fc-3023e01b13f5"
      },
      "source": [
        "print(np.argmax(y_pred[400])) # In this case, the prediction is pointed out - Class 1"
      ],
      "execution_count": null,
      "outputs": [
        {
          "output_type": "stream",
          "name": "stdout",
          "text": [
            "1\n"
          ]
        }
      ]
    },
    {
      "cell_type": "code",
      "metadata": {
        "id": "buGHzD6QudJy",
        "colab": {
          "base_uri": "https://localhost:8080/",
          "height": 281
        },
        "outputId": "4b98be61-3866-42fa-db29-9e1da4e2d324"
      },
      "source": [
        "# In this case, the prediction is correct - Class 4, as shown below:\n",
        "plt.figure()\n",
        "plt.imshow(X_train[400])\n",
        "plt.xlabel(y_test[400])\n",
        "plt.colorbar()\n",
        "plt.grid(False)\n",
        "plt.show()"
      ],
      "execution_count": null,
      "outputs": [
        {
          "output_type": "display_data",
          "data": {
            "image/png": "[encoded data removed]",
            "text/plain": [
              "<Figure size 432x288 with 2 Axes>"
            ]
          },
          "metadata": {
            "needs_background": "light"
          }
        }
      ]
    },
    {
      "cell_type": "code",
      "metadata": {
        "colab": {
          "base_uri": "https://localhost:8080/"
        },
        "id": "r9FzFwTkcEc7",
        "outputId": "c910baf6-4b9d-48f4-d0c6-a93ce0529524"
      },
      "source": [
        "y_pred[305] # first prediction position 1"
      ],
      "execution_count": null,
      "outputs": [
        {
          "output_type": "execute_result",
          "data": {
            "text/plain": [
              "array([2.1455874e-04, 1.0119988e-08, 1.5762978e-06, 3.9299806e-07,\n",
              "       9.9978167e-01, 1.8367921e-06], dtype=float32)"
            ]
          },
          "metadata": {},
          "execution_count": 93
        }
      ]
    },
    {
      "cell_type": "code",
      "metadata": {
        "colab": {
          "base_uri": "https://localhost:8080/"
        },
        "id": "jgjixCwDcLfK",
        "outputId": "386a8e53-210f-477b-81d0-71125dc3bfac"
      },
      "source": [
        "np.argmax(y_pred[305]) # In this case, the prediction is correct - Class 04"
      ],
      "execution_count": null,
      "outputs": [
        {
          "output_type": "execute_result",
          "data": {
            "text/plain": [
              "4"
            ]
          },
          "metadata": {},
          "execution_count": 94
        }
      ]
    },
    {
      "cell_type": "code",
      "metadata": {
        "id": "HIFhaEXOlmwM",
        "colab": {
          "base_uri": "https://localhost:8080/",
          "height": 280
        },
        "outputId": "356124b4-334b-4fbb-dae5-d4fa8458648c"
      },
      "source": [
        "# In this case, the prediction is correct - Class 01, as shown in the figure below:\n",
        "plt.figure()\n",
        "plt.imshow(X_train[305])\n",
        "plt.xlabel(y_test[305])\n",
        "plt.colorbar()\n",
        "plt.grid(False)\n",
        "plt.show()"
      ],
      "execution_count": null,
      "outputs": [
        {
          "output_type": "display_data",
          "data": {
            "image/png": "[encoded data removed]",
            "text/plain": [
              "<Figure size 432x288 with 2 Axes>"
            ]
          },
          "metadata": {
            "needs_background": "light"
          }
        }
      ]
    },
    {
      "cell_type": "code",
      "metadata": {
        "id": "EcFsb5FV8fnE"
      },
      "source": [
        ""
      ],
      "execution_count": null,
      "outputs": []
    },
    {
      "cell_type": "markdown",
      "metadata": {
        "id": "ovn2yNyjtV7n"
      },
      "source": [
        "# **Prediction for a single image**"
      ]
    },
    {
      "cell_type": "code",
      "metadata": {
        "id": "N9DtFPuGk60j",
        "colab": {
          "base_uri": "https://localhost:8080/"
        },
        "outputId": "1fab0510-5179-46eb-acc8-b878df868230"
      },
      "source": [
        "img = X_test [50]\n",
        "test_labels_single = y_test [50]\n",
        "print(img.shape)\n",
        "\n",
        "test_labels_single\n",
        "\n",
        "# Adiciona a imagem em um batch que possui um só membro.\n",
        "img = (np.expand_dims(img,0))\n",
        "\n",
        "print(img.shape)"
      ],
      "execution_count": null,
      "outputs": [
        {
          "output_type": "stream",
          "name": "stdout",
          "text": [
            "(32, 32, 3)\n",
            "(1, 32, 32, 3)\n"
          ]
        }
      ]
    },
    {
      "cell_type": "code",
      "metadata": {
        "id": "hRr4iTHEmLeW",
        "colab": {
          "base_uri": "https://localhost:8080/"
        },
        "outputId": "b5db6e3f-a07a-4460-ad56-e2ffd7fb60ac"
      },
      "source": [
        "predictions_single = model.predict(img)\n",
        "\n",
        "print(predictions_single)\n",
        "\n",
        "predictions_single = np.argmax(predictions_single, axis=1)\n",
        "predictions_single"
      ],
      "execution_count": null,
      "outputs": [
        {
          "output_type": "stream",
          "name": "stdout",
          "text": [
            "[[2.7947504e-08 1.4179556e-04 2.5067981e-09 2.8583329e-07 2.2126363e-07\n",
            "  9.9985766e-01]]\n"
          ]
        },
        {
          "output_type": "execute_result",
          "data": {
            "text/plain": [
              "array([5])"
            ]
          },
          "metadata": {},
          "execution_count": 97
        }
      ]
    }
  ]
}